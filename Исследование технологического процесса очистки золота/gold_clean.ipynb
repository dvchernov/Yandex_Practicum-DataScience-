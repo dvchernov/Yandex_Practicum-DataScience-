{
 "cells": [
  {
   "cell_type": "markdown",
   "metadata": {
    "toc": true
   },
   "source": [
    "<h1>Содержание<span class=\"tocSkip\"></span></h1>\n",
    "<div class=\"toc\"><ul class=\"toc-item\"><li><span><a href=\"#Подготовка-данных\" data-toc-modified-id=\"Подготовка-данных-1\"><span class=\"toc-item-num\">1&nbsp;&nbsp;</span>Подготовка данных</a></span><ul class=\"toc-item\"><li><span><a href=\"#Описание-данных\" data-toc-modified-id=\"Описание-данных-1.1\"><span class=\"toc-item-num\">1.1&nbsp;&nbsp;</span>Описание данных</a></span></li><li><span><a href=\"#Откроем-файлы-и-изучим-их\" data-toc-modified-id=\"Откроем-файлы-и-изучим-их-1.2\"><span class=\"toc-item-num\">1.2&nbsp;&nbsp;</span>Откроем файлы и изучим их</a></span></li><li><span><a href=\"#Проверем,-что-эффективность-обогащения-рассчитана-правильно.-Вычислим-её-на-обучающей-выборке-для-признака-rougher.output.recovery.-Найдем-MAE-между-нашими-расчётами-и-значением-признака\" data-toc-modified-id=\"Проверем,-что-эффективность-обогащения-рассчитана-правильно.-Вычислим-её-на-обучающей-выборке-для-признака-rougher.output.recovery.-Найдем-MAE-между-нашими-расчётами-и-значением-признака-1.3\"><span class=\"toc-item-num\">1.3&nbsp;&nbsp;</span>Проверем, что эффективность обогащения рассчитана правильно. Вычислим её на обучающей выборке для признака rougher.output.recovery. Найдем MAE между нашими расчётами и значением признака</a></span></li><li><span><a href=\"#Проанализируем-признаки,-недоступные-в-тестовой-выборке\" data-toc-modified-id=\"Проанализируем-признаки,-недоступные-в-тестовой-выборке-1.4\"><span class=\"toc-item-num\">1.4&nbsp;&nbsp;</span>Проанализируем признаки, недоступные в тестовой выборке</a></span></li><li><span><a href=\"#Проведем-предобработку-данных\" data-toc-modified-id=\"Проведем-предобработку-данных-1.5\"><span class=\"toc-item-num\">1.5&nbsp;&nbsp;</span>Проведем предобработку данных</a></span></li><li><span><a href=\"#Итог-подготовки-данных\" data-toc-modified-id=\"Итог-подготовки-данных-1.6\"><span class=\"toc-item-num\">1.6&nbsp;&nbsp;</span>Итог подготовки данных</a></span></li></ul></li><li><span><a href=\"#Анализ-данных\" data-toc-modified-id=\"Анализ-данных-2\"><span class=\"toc-item-num\">2&nbsp;&nbsp;</span>Анализ данных</a></span><ul class=\"toc-item\"><li><span><a href=\"#Посмотрим,-как-меняется-концентрация-металлов-(Au,-Ag,-Pb)-на-различных-этапах-очистки\" data-toc-modified-id=\"Посмотрим,-как-меняется-концентрация-металлов-(Au,-Ag,-Pb)-на-различных-этапах-очистки-2.1\"><span class=\"toc-item-num\">2.1&nbsp;&nbsp;</span>Посмотрим, как меняется концентрация металлов (Au, Ag, Pb) на различных этапах очистки</a></span></li><li><span><a href=\"#Сравним-распределения-размеров-гранул-сырья-на-обучающей-и-тестовой-выборках\" data-toc-modified-id=\"Сравним-распределения-размеров-гранул-сырья-на-обучающей-и-тестовой-выборках-2.2\"><span class=\"toc-item-num\">2.2&nbsp;&nbsp;</span>Сравним распределения размеров гранул сырья на обучающей и тестовой выборках</a></span></li><li><span><a href=\"#Исследуем-суммарную-концентрацию-всех-веществ-на-разных-стадиях\" data-toc-modified-id=\"Исследуем-суммарную-концентрацию-всех-веществ-на-разных-стадиях-2.3\"><span class=\"toc-item-num\">2.3&nbsp;&nbsp;</span>Исследуем суммарную концентрацию всех веществ на разных стадиях</a></span></li><li><span><a href=\"#Итоги-анализа-данных\" data-toc-modified-id=\"Итоги-анализа-данных-2.4\"><span class=\"toc-item-num\">2.4&nbsp;&nbsp;</span>Итоги анализа данных</a></span></li></ul></li><li><span><a href=\"#Модель\" data-toc-modified-id=\"Модель-3\"><span class=\"toc-item-num\">3&nbsp;&nbsp;</span>Модель</a></span><ul class=\"toc-item\"><li><span><a href=\"#Напишим-функцию-для-вычисления-итоговой-sMAPE\" data-toc-modified-id=\"Напишим-функцию-для-вычисления-итоговой-sMAPE-3.1\"><span class=\"toc-item-num\">3.1&nbsp;&nbsp;</span>Напишим функцию для вычисления итоговой sMAPE</a></span></li><li><span><a href=\"#Обучим-разные-модели-и-оценим-их-качество-кросс-валидацией.-Лучшую-модель-проверим-на-тестовой-выборке\" data-toc-modified-id=\"Обучим-разные-модели-и-оценим-их-качество-кросс-валидацией.-Лучшую-модель-проверим-на-тестовой-выборке-3.2\"><span class=\"toc-item-num\">3.2&nbsp;&nbsp;</span>Обучим разные модели и оценим их качество кросс-валидацией. Лучшую модель проверим на тестовой выборке</a></span></li></ul></li><li><span><a href=\"#Общий-вывод\" data-toc-modified-id=\"Общий-вывод-4\"><span class=\"toc-item-num\">4&nbsp;&nbsp;</span>Общий вывод</a></span></li><li><span><a href=\"#Чек-лист-готовности-проекта\" data-toc-modified-id=\"Чек-лист-готовности-проекта-5\"><span class=\"toc-item-num\">5&nbsp;&nbsp;</span>Чек-лист готовности проекта</a></span></li></ul></div>"
   ]
  },
  {
   "cell_type": "markdown",
   "metadata": {},
   "source": [
    "# Восстановление золота из руды"
   ]
  },
  {
   "cell_type": "markdown",
   "metadata": {},
   "source": [
    "Подготовьте прототип модели машинного обучения для «Цифры». Компания разрабатывает решения для эффективной работы промышленных предприятий.\n",
    "\n",
    "Модель должна предсказать коэффициент восстановления золота из золотосодержащей руды. Используйте данные с параметрами добычи и очистки. \n",
    "\n",
    "Модель поможет оптимизировать производство, чтобы не запускать предприятие с убыточными характеристиками.\n",
    "\n",
    "Вам нужно:\n",
    "\n",
    "1. Подготовить данные;\n",
    "2. Провести исследовательский анализ данных;\n",
    "3. Построить и обучить модель.\n",
    "\n",
    "Чтобы выполнить проект, обращайтесь к библиотекам *pandas*, *matplotlib* и *sklearn.* Вам поможет их документация."
   ]
  },
  {
   "cell_type": "markdown",
   "metadata": {},
   "source": [
    "## Подготовка данных"
   ]
  },
  {
   "cell_type": "markdown",
   "metadata": {},
   "source": [
    "### Описание данных"
   ]
  },
  {
   "cell_type": "markdown",
   "metadata": {},
   "source": [
    "**Технологический процесс**"
   ]
  },
  {
   "cell_type": "markdown",
   "metadata": {},
   "source": [
    "- Rougher feed — исходное сырье\n",
    "- Rougher additions (или reagent additions) — флотационные реагенты: Xanthate, Sulphate, - Depressant\n",
    "- Xanthate ** — ксантогенат (промотер, или активатор флотации);\n",
    "- Sulphate — сульфат (на данном производстве сульфид натрия);\n",
    "- Depressant — депрессант (силикат натрия).\n",
    "- Rougher process (англ. «грубый процесс») — флотация\n",
    "- Rougher tails — отвальные хвосты\n",
    "- Float banks — флотационная установка\n",
    "- Cleaner process — очистка\n",
    "- Rougher Au — черновой концентрат золота\n",
    "- Final Au — финальный концентрат золота"
   ]
  },
  {
   "cell_type": "markdown",
   "metadata": {},
   "source": [
    "**Параметры этапов**"
   ]
  },
  {
   "cell_type": "markdown",
   "metadata": {},
   "source": [
    "- air amount — объём воздуха\n",
    "- fluid levels — уровень жидкости\n",
    "- feed size — размер гранул сырья\n",
    "- feed rate — скорость подачи"
   ]
  },
  {
   "cell_type": "markdown",
   "metadata": {},
   "source": [
    "**Наименование признаков должно быть такое:**"
   ]
  },
  {
   "cell_type": "markdown",
   "metadata": {},
   "source": [
    "[этап].[тип_параметра].[название_параметра]"
   ]
  },
  {
   "cell_type": "markdown",
   "metadata": {},
   "source": [
    "Пример: rougher.input.feed_ag"
   ]
  },
  {
   "cell_type": "markdown",
   "metadata": {},
   "source": [
    "**Возможные значения для блока [этап]:**"
   ]
  },
  {
   "cell_type": "markdown",
   "metadata": {},
   "source": [
    "- rougher — флотация\n",
    "- primary_cleaner — первичная очистка\n",
    "- secondary_cleaner — вторичная очистка\n",
    "- final — финальные характеристики"
   ]
  },
  {
   "cell_type": "markdown",
   "metadata": {},
   "source": [
    "**Возможные значения для блока [тип_параметра]:**"
   ]
  },
  {
   "cell_type": "markdown",
   "metadata": {},
   "source": [
    "- input — параметры сырья\n",
    "- output — параметры продукта\n",
    "- state — параметры, характеризующие текущее состояние этапа\n",
    "- calculation — расчётные характеристики"
   ]
  },
  {
   "cell_type": "markdown",
   "metadata": {},
   "source": [
    "### Откроем файлы и изучим их"
   ]
  },
  {
   "cell_type": "markdown",
   "metadata": {},
   "source": [
    "**Библиотеки**"
   ]
  },
  {
   "cell_type": "code",
   "execution_count": 1,
   "metadata": {},
   "outputs": [],
   "source": [
    "import pandas as pd\n",
    "import numpy as np\n",
    "import seaborn as sns\n",
    "import matplotlib.pyplot as plt\n",
    "\n",
    "from sklearn.model_selection import train_test_split, cross_val_score\n",
    "from sklearn.tree import DecisionTreeRegressor\n",
    "from sklearn.ensemble import RandomForestRegressor\n",
    "from sklearn.linear_model import LinearRegression\n",
    "\n",
    "from numpy.random import RandomState\n",
    "from sklearn.metrics import make_scorer, mean_absolute_error\n",
    "from sklearn.dummy import DummyRegressor\n",
    "\n",
    "import warnings\n",
    "warnings.filterwarnings(\"ignore\")"
   ]
  },
  {
   "cell_type": "markdown",
   "metadata": {},
   "source": [
    "**Датасеты**"
   ]
  },
  {
   "cell_type": "code",
   "execution_count": 2,
   "metadata": {},
   "outputs": [],
   "source": [
    "train_data = pd.read_csv('/datasets/gold_recovery_train_new.csv')\n",
    "test_data = pd.read_csv('/datasets/gold_recovery_test_new.csv')\n",
    "full_data = pd.read_csv('/datasets/gold_recovery_full_new.csv')"
   ]
  },
  {
   "cell_type": "markdown",
   "metadata": {},
   "source": [
    "- train_data — обучающая выборка;\n",
    "- test_data — тестовая выборка;\n",
    "- full_data — исходные данные."
   ]
  },
  {
   "cell_type": "code",
   "execution_count": 3,
   "metadata": {},
   "outputs": [
    {
     "data": {
      "text/html": [
       "<div>\n",
       "<style scoped>\n",
       "    .dataframe tbody tr th:only-of-type {\n",
       "        vertical-align: middle;\n",
       "    }\n",
       "\n",
       "    .dataframe tbody tr th {\n",
       "        vertical-align: top;\n",
       "    }\n",
       "\n",
       "    .dataframe thead th {\n",
       "        text-align: right;\n",
       "    }\n",
       "</style>\n",
       "<table border=\"1\" class=\"dataframe\">\n",
       "  <thead>\n",
       "    <tr style=\"text-align: right;\">\n",
       "      <th></th>\n",
       "      <th>date</th>\n",
       "      <th>final.output.concentrate_ag</th>\n",
       "      <th>final.output.concentrate_pb</th>\n",
       "      <th>final.output.concentrate_sol</th>\n",
       "      <th>final.output.concentrate_au</th>\n",
       "      <th>final.output.recovery</th>\n",
       "      <th>final.output.tail_ag</th>\n",
       "      <th>final.output.tail_pb</th>\n",
       "      <th>final.output.tail_sol</th>\n",
       "      <th>final.output.tail_au</th>\n",
       "      <th>...</th>\n",
       "      <th>secondary_cleaner.state.floatbank4_a_air</th>\n",
       "      <th>secondary_cleaner.state.floatbank4_a_level</th>\n",
       "      <th>secondary_cleaner.state.floatbank4_b_air</th>\n",
       "      <th>secondary_cleaner.state.floatbank4_b_level</th>\n",
       "      <th>secondary_cleaner.state.floatbank5_a_air</th>\n",
       "      <th>secondary_cleaner.state.floatbank5_a_level</th>\n",
       "      <th>secondary_cleaner.state.floatbank5_b_air</th>\n",
       "      <th>secondary_cleaner.state.floatbank5_b_level</th>\n",
       "      <th>secondary_cleaner.state.floatbank6_a_air</th>\n",
       "      <th>secondary_cleaner.state.floatbank6_a_level</th>\n",
       "    </tr>\n",
       "  </thead>\n",
       "  <tbody>\n",
       "    <tr>\n",
       "      <th>0</th>\n",
       "      <td>2016-01-15 00:00:00</td>\n",
       "      <td>6.055403</td>\n",
       "      <td>9.889648</td>\n",
       "      <td>5.507324</td>\n",
       "      <td>42.192020</td>\n",
       "      <td>70.541216</td>\n",
       "      <td>10.411962</td>\n",
       "      <td>0.895447</td>\n",
       "      <td>16.904297</td>\n",
       "      <td>2.143149</td>\n",
       "      <td>...</td>\n",
       "      <td>14.016835</td>\n",
       "      <td>-502.488007</td>\n",
       "      <td>12.099931</td>\n",
       "      <td>-504.715942</td>\n",
       "      <td>9.925633</td>\n",
       "      <td>-498.310211</td>\n",
       "      <td>8.079666</td>\n",
       "      <td>-500.470978</td>\n",
       "      <td>14.151341</td>\n",
       "      <td>-605.841980</td>\n",
       "    </tr>\n",
       "    <tr>\n",
       "      <th>1</th>\n",
       "      <td>2016-01-15 01:00:00</td>\n",
       "      <td>6.029369</td>\n",
       "      <td>9.968944</td>\n",
       "      <td>5.257781</td>\n",
       "      <td>42.701629</td>\n",
       "      <td>69.266198</td>\n",
       "      <td>10.462676</td>\n",
       "      <td>0.927452</td>\n",
       "      <td>16.634514</td>\n",
       "      <td>2.224930</td>\n",
       "      <td>...</td>\n",
       "      <td>13.992281</td>\n",
       "      <td>-505.503262</td>\n",
       "      <td>11.950531</td>\n",
       "      <td>-501.331529</td>\n",
       "      <td>10.039245</td>\n",
       "      <td>-500.169983</td>\n",
       "      <td>7.984757</td>\n",
       "      <td>-500.582168</td>\n",
       "      <td>13.998353</td>\n",
       "      <td>-599.787184</td>\n",
       "    </tr>\n",
       "    <tr>\n",
       "      <th>2</th>\n",
       "      <td>2016-01-15 02:00:00</td>\n",
       "      <td>6.055926</td>\n",
       "      <td>10.213995</td>\n",
       "      <td>5.383759</td>\n",
       "      <td>42.657501</td>\n",
       "      <td>68.116445</td>\n",
       "      <td>10.507046</td>\n",
       "      <td>0.953716</td>\n",
       "      <td>16.208849</td>\n",
       "      <td>2.257889</td>\n",
       "      <td>...</td>\n",
       "      <td>14.015015</td>\n",
       "      <td>-502.520901</td>\n",
       "      <td>11.912783</td>\n",
       "      <td>-501.133383</td>\n",
       "      <td>10.070913</td>\n",
       "      <td>-500.129135</td>\n",
       "      <td>8.013877</td>\n",
       "      <td>-500.517572</td>\n",
       "      <td>14.028663</td>\n",
       "      <td>-601.427363</td>\n",
       "    </tr>\n",
       "    <tr>\n",
       "      <th>3</th>\n",
       "      <td>2016-01-15 03:00:00</td>\n",
       "      <td>6.047977</td>\n",
       "      <td>9.977019</td>\n",
       "      <td>4.858634</td>\n",
       "      <td>42.689819</td>\n",
       "      <td>68.347543</td>\n",
       "      <td>10.422762</td>\n",
       "      <td>0.883763</td>\n",
       "      <td>16.532835</td>\n",
       "      <td>2.146849</td>\n",
       "      <td>...</td>\n",
       "      <td>14.036510</td>\n",
       "      <td>-500.857308</td>\n",
       "      <td>11.999550</td>\n",
       "      <td>-501.193686</td>\n",
       "      <td>9.970366</td>\n",
       "      <td>-499.201640</td>\n",
       "      <td>7.977324</td>\n",
       "      <td>-500.255908</td>\n",
       "      <td>14.005551</td>\n",
       "      <td>-599.996129</td>\n",
       "    </tr>\n",
       "    <tr>\n",
       "      <th>4</th>\n",
       "      <td>2016-01-15 04:00:00</td>\n",
       "      <td>6.148599</td>\n",
       "      <td>10.142511</td>\n",
       "      <td>4.939416</td>\n",
       "      <td>42.774141</td>\n",
       "      <td>66.927016</td>\n",
       "      <td>10.360302</td>\n",
       "      <td>0.792826</td>\n",
       "      <td>16.525686</td>\n",
       "      <td>2.055292</td>\n",
       "      <td>...</td>\n",
       "      <td>14.027298</td>\n",
       "      <td>-499.838632</td>\n",
       "      <td>11.953070</td>\n",
       "      <td>-501.053894</td>\n",
       "      <td>9.925709</td>\n",
       "      <td>-501.686727</td>\n",
       "      <td>7.894242</td>\n",
       "      <td>-500.356035</td>\n",
       "      <td>13.996647</td>\n",
       "      <td>-601.496691</td>\n",
       "    </tr>\n",
       "  </tbody>\n",
       "</table>\n",
       "<p>5 rows × 87 columns</p>\n",
       "</div>"
      ],
      "text/plain": [
       "                  date  final.output.concentrate_ag  \\\n",
       "0  2016-01-15 00:00:00                     6.055403   \n",
       "1  2016-01-15 01:00:00                     6.029369   \n",
       "2  2016-01-15 02:00:00                     6.055926   \n",
       "3  2016-01-15 03:00:00                     6.047977   \n",
       "4  2016-01-15 04:00:00                     6.148599   \n",
       "\n",
       "   final.output.concentrate_pb  final.output.concentrate_sol  \\\n",
       "0                     9.889648                      5.507324   \n",
       "1                     9.968944                      5.257781   \n",
       "2                    10.213995                      5.383759   \n",
       "3                     9.977019                      4.858634   \n",
       "4                    10.142511                      4.939416   \n",
       "\n",
       "   final.output.concentrate_au  final.output.recovery  final.output.tail_ag  \\\n",
       "0                    42.192020              70.541216             10.411962   \n",
       "1                    42.701629              69.266198             10.462676   \n",
       "2                    42.657501              68.116445             10.507046   \n",
       "3                    42.689819              68.347543             10.422762   \n",
       "4                    42.774141              66.927016             10.360302   \n",
       "\n",
       "   final.output.tail_pb  final.output.tail_sol  final.output.tail_au  ...  \\\n",
       "0              0.895447              16.904297              2.143149  ...   \n",
       "1              0.927452              16.634514              2.224930  ...   \n",
       "2              0.953716              16.208849              2.257889  ...   \n",
       "3              0.883763              16.532835              2.146849  ...   \n",
       "4              0.792826              16.525686              2.055292  ...   \n",
       "\n",
       "   secondary_cleaner.state.floatbank4_a_air  \\\n",
       "0                                 14.016835   \n",
       "1                                 13.992281   \n",
       "2                                 14.015015   \n",
       "3                                 14.036510   \n",
       "4                                 14.027298   \n",
       "\n",
       "   secondary_cleaner.state.floatbank4_a_level  \\\n",
       "0                                 -502.488007   \n",
       "1                                 -505.503262   \n",
       "2                                 -502.520901   \n",
       "3                                 -500.857308   \n",
       "4                                 -499.838632   \n",
       "\n",
       "   secondary_cleaner.state.floatbank4_b_air  \\\n",
       "0                                 12.099931   \n",
       "1                                 11.950531   \n",
       "2                                 11.912783   \n",
       "3                                 11.999550   \n",
       "4                                 11.953070   \n",
       "\n",
       "   secondary_cleaner.state.floatbank4_b_level  \\\n",
       "0                                 -504.715942   \n",
       "1                                 -501.331529   \n",
       "2                                 -501.133383   \n",
       "3                                 -501.193686   \n",
       "4                                 -501.053894   \n",
       "\n",
       "   secondary_cleaner.state.floatbank5_a_air  \\\n",
       "0                                  9.925633   \n",
       "1                                 10.039245   \n",
       "2                                 10.070913   \n",
       "3                                  9.970366   \n",
       "4                                  9.925709   \n",
       "\n",
       "   secondary_cleaner.state.floatbank5_a_level  \\\n",
       "0                                 -498.310211   \n",
       "1                                 -500.169983   \n",
       "2                                 -500.129135   \n",
       "3                                 -499.201640   \n",
       "4                                 -501.686727   \n",
       "\n",
       "   secondary_cleaner.state.floatbank5_b_air  \\\n",
       "0                                  8.079666   \n",
       "1                                  7.984757   \n",
       "2                                  8.013877   \n",
       "3                                  7.977324   \n",
       "4                                  7.894242   \n",
       "\n",
       "   secondary_cleaner.state.floatbank5_b_level  \\\n",
       "0                                 -500.470978   \n",
       "1                                 -500.582168   \n",
       "2                                 -500.517572   \n",
       "3                                 -500.255908   \n",
       "4                                 -500.356035   \n",
       "\n",
       "   secondary_cleaner.state.floatbank6_a_air  \\\n",
       "0                                 14.151341   \n",
       "1                                 13.998353   \n",
       "2                                 14.028663   \n",
       "3                                 14.005551   \n",
       "4                                 13.996647   \n",
       "\n",
       "   secondary_cleaner.state.floatbank6_a_level  \n",
       "0                                 -605.841980  \n",
       "1                                 -599.787184  \n",
       "2                                 -601.427363  \n",
       "3                                 -599.996129  \n",
       "4                                 -601.496691  \n",
       "\n",
       "[5 rows x 87 columns]"
      ]
     },
     "execution_count": 3,
     "metadata": {},
     "output_type": "execute_result"
    }
   ],
   "source": [
    "train_data.head()"
   ]
  },
  {
   "cell_type": "code",
   "execution_count": 4,
   "metadata": {},
   "outputs": [
    {
     "data": {
      "text/html": [
       "<div>\n",
       "<style scoped>\n",
       "    .dataframe tbody tr th:only-of-type {\n",
       "        vertical-align: middle;\n",
       "    }\n",
       "\n",
       "    .dataframe tbody tr th {\n",
       "        vertical-align: top;\n",
       "    }\n",
       "\n",
       "    .dataframe thead th {\n",
       "        text-align: right;\n",
       "    }\n",
       "</style>\n",
       "<table border=\"1\" class=\"dataframe\">\n",
       "  <thead>\n",
       "    <tr style=\"text-align: right;\">\n",
       "      <th></th>\n",
       "      <th>date</th>\n",
       "      <th>primary_cleaner.input.sulfate</th>\n",
       "      <th>primary_cleaner.input.depressant</th>\n",
       "      <th>primary_cleaner.input.feed_size</th>\n",
       "      <th>primary_cleaner.input.xanthate</th>\n",
       "      <th>primary_cleaner.state.floatbank8_a_air</th>\n",
       "      <th>primary_cleaner.state.floatbank8_a_level</th>\n",
       "      <th>primary_cleaner.state.floatbank8_b_air</th>\n",
       "      <th>primary_cleaner.state.floatbank8_b_level</th>\n",
       "      <th>primary_cleaner.state.floatbank8_c_air</th>\n",
       "      <th>...</th>\n",
       "      <th>secondary_cleaner.state.floatbank4_a_air</th>\n",
       "      <th>secondary_cleaner.state.floatbank4_a_level</th>\n",
       "      <th>secondary_cleaner.state.floatbank4_b_air</th>\n",
       "      <th>secondary_cleaner.state.floatbank4_b_level</th>\n",
       "      <th>secondary_cleaner.state.floatbank5_a_air</th>\n",
       "      <th>secondary_cleaner.state.floatbank5_a_level</th>\n",
       "      <th>secondary_cleaner.state.floatbank5_b_air</th>\n",
       "      <th>secondary_cleaner.state.floatbank5_b_level</th>\n",
       "      <th>secondary_cleaner.state.floatbank6_a_air</th>\n",
       "      <th>secondary_cleaner.state.floatbank6_a_level</th>\n",
       "    </tr>\n",
       "  </thead>\n",
       "  <tbody>\n",
       "    <tr>\n",
       "      <th>0</th>\n",
       "      <td>2016-09-01 00:59:59</td>\n",
       "      <td>210.800909</td>\n",
       "      <td>14.993118</td>\n",
       "      <td>8.080000</td>\n",
       "      <td>1.005021</td>\n",
       "      <td>1398.981301</td>\n",
       "      <td>-500.225577</td>\n",
       "      <td>1399.144926</td>\n",
       "      <td>-499.919735</td>\n",
       "      <td>1400.102998</td>\n",
       "      <td>...</td>\n",
       "      <td>12.023554</td>\n",
       "      <td>-497.795834</td>\n",
       "      <td>8.016656</td>\n",
       "      <td>-501.289139</td>\n",
       "      <td>7.946562</td>\n",
       "      <td>-432.317850</td>\n",
       "      <td>4.872511</td>\n",
       "      <td>-500.037437</td>\n",
       "      <td>26.705889</td>\n",
       "      <td>-499.709414</td>\n",
       "    </tr>\n",
       "    <tr>\n",
       "      <th>1</th>\n",
       "      <td>2016-09-01 01:59:59</td>\n",
       "      <td>215.392455</td>\n",
       "      <td>14.987471</td>\n",
       "      <td>8.080000</td>\n",
       "      <td>0.990469</td>\n",
       "      <td>1398.777912</td>\n",
       "      <td>-500.057435</td>\n",
       "      <td>1398.055362</td>\n",
       "      <td>-499.778182</td>\n",
       "      <td>1396.151033</td>\n",
       "      <td>...</td>\n",
       "      <td>12.058140</td>\n",
       "      <td>-498.695773</td>\n",
       "      <td>8.130979</td>\n",
       "      <td>-499.634209</td>\n",
       "      <td>7.958270</td>\n",
       "      <td>-525.839648</td>\n",
       "      <td>4.878850</td>\n",
       "      <td>-500.162375</td>\n",
       "      <td>25.019940</td>\n",
       "      <td>-499.819438</td>\n",
       "    </tr>\n",
       "    <tr>\n",
       "      <th>2</th>\n",
       "      <td>2016-09-01 02:59:59</td>\n",
       "      <td>215.259946</td>\n",
       "      <td>12.884934</td>\n",
       "      <td>7.786667</td>\n",
       "      <td>0.996043</td>\n",
       "      <td>1398.493666</td>\n",
       "      <td>-500.868360</td>\n",
       "      <td>1398.860436</td>\n",
       "      <td>-499.764529</td>\n",
       "      <td>1398.075709</td>\n",
       "      <td>...</td>\n",
       "      <td>11.962366</td>\n",
       "      <td>-498.767484</td>\n",
       "      <td>8.096893</td>\n",
       "      <td>-500.827423</td>\n",
       "      <td>8.071056</td>\n",
       "      <td>-500.801673</td>\n",
       "      <td>4.905125</td>\n",
       "      <td>-499.828510</td>\n",
       "      <td>24.994862</td>\n",
       "      <td>-500.622559</td>\n",
       "    </tr>\n",
       "    <tr>\n",
       "      <th>3</th>\n",
       "      <td>2016-09-01 03:59:59</td>\n",
       "      <td>215.336236</td>\n",
       "      <td>12.006805</td>\n",
       "      <td>7.640000</td>\n",
       "      <td>0.863514</td>\n",
       "      <td>1399.618111</td>\n",
       "      <td>-498.863574</td>\n",
       "      <td>1397.440120</td>\n",
       "      <td>-499.211024</td>\n",
       "      <td>1400.129303</td>\n",
       "      <td>...</td>\n",
       "      <td>12.033091</td>\n",
       "      <td>-498.350935</td>\n",
       "      <td>8.074946</td>\n",
       "      <td>-499.474407</td>\n",
       "      <td>7.897085</td>\n",
       "      <td>-500.868509</td>\n",
       "      <td>4.931400</td>\n",
       "      <td>-499.963623</td>\n",
       "      <td>24.948919</td>\n",
       "      <td>-498.709987</td>\n",
       "    </tr>\n",
       "    <tr>\n",
       "      <th>4</th>\n",
       "      <td>2016-09-01 04:59:59</td>\n",
       "      <td>199.099327</td>\n",
       "      <td>10.682530</td>\n",
       "      <td>7.530000</td>\n",
       "      <td>0.805575</td>\n",
       "      <td>1401.268123</td>\n",
       "      <td>-500.808305</td>\n",
       "      <td>1398.128818</td>\n",
       "      <td>-499.504543</td>\n",
       "      <td>1402.172226</td>\n",
       "      <td>...</td>\n",
       "      <td>12.025367</td>\n",
       "      <td>-500.786497</td>\n",
       "      <td>8.054678</td>\n",
       "      <td>-500.397500</td>\n",
       "      <td>8.107890</td>\n",
       "      <td>-509.526725</td>\n",
       "      <td>4.957674</td>\n",
       "      <td>-500.360026</td>\n",
       "      <td>25.003331</td>\n",
       "      <td>-500.856333</td>\n",
       "    </tr>\n",
       "  </tbody>\n",
       "</table>\n",
       "<p>5 rows × 53 columns</p>\n",
       "</div>"
      ],
      "text/plain": [
       "                  date  primary_cleaner.input.sulfate  \\\n",
       "0  2016-09-01 00:59:59                     210.800909   \n",
       "1  2016-09-01 01:59:59                     215.392455   \n",
       "2  2016-09-01 02:59:59                     215.259946   \n",
       "3  2016-09-01 03:59:59                     215.336236   \n",
       "4  2016-09-01 04:59:59                     199.099327   \n",
       "\n",
       "   primary_cleaner.input.depressant  primary_cleaner.input.feed_size  \\\n",
       "0                         14.993118                         8.080000   \n",
       "1                         14.987471                         8.080000   \n",
       "2                         12.884934                         7.786667   \n",
       "3                         12.006805                         7.640000   \n",
       "4                         10.682530                         7.530000   \n",
       "\n",
       "   primary_cleaner.input.xanthate  primary_cleaner.state.floatbank8_a_air  \\\n",
       "0                        1.005021                             1398.981301   \n",
       "1                        0.990469                             1398.777912   \n",
       "2                        0.996043                             1398.493666   \n",
       "3                        0.863514                             1399.618111   \n",
       "4                        0.805575                             1401.268123   \n",
       "\n",
       "   primary_cleaner.state.floatbank8_a_level  \\\n",
       "0                               -500.225577   \n",
       "1                               -500.057435   \n",
       "2                               -500.868360   \n",
       "3                               -498.863574   \n",
       "4                               -500.808305   \n",
       "\n",
       "   primary_cleaner.state.floatbank8_b_air  \\\n",
       "0                             1399.144926   \n",
       "1                             1398.055362   \n",
       "2                             1398.860436   \n",
       "3                             1397.440120   \n",
       "4                             1398.128818   \n",
       "\n",
       "   primary_cleaner.state.floatbank8_b_level  \\\n",
       "0                               -499.919735   \n",
       "1                               -499.778182   \n",
       "2                               -499.764529   \n",
       "3                               -499.211024   \n",
       "4                               -499.504543   \n",
       "\n",
       "   primary_cleaner.state.floatbank8_c_air  ...  \\\n",
       "0                             1400.102998  ...   \n",
       "1                             1396.151033  ...   \n",
       "2                             1398.075709  ...   \n",
       "3                             1400.129303  ...   \n",
       "4                             1402.172226  ...   \n",
       "\n",
       "   secondary_cleaner.state.floatbank4_a_air  \\\n",
       "0                                 12.023554   \n",
       "1                                 12.058140   \n",
       "2                                 11.962366   \n",
       "3                                 12.033091   \n",
       "4                                 12.025367   \n",
       "\n",
       "   secondary_cleaner.state.floatbank4_a_level  \\\n",
       "0                                 -497.795834   \n",
       "1                                 -498.695773   \n",
       "2                                 -498.767484   \n",
       "3                                 -498.350935   \n",
       "4                                 -500.786497   \n",
       "\n",
       "   secondary_cleaner.state.floatbank4_b_air  \\\n",
       "0                                  8.016656   \n",
       "1                                  8.130979   \n",
       "2                                  8.096893   \n",
       "3                                  8.074946   \n",
       "4                                  8.054678   \n",
       "\n",
       "   secondary_cleaner.state.floatbank4_b_level  \\\n",
       "0                                 -501.289139   \n",
       "1                                 -499.634209   \n",
       "2                                 -500.827423   \n",
       "3                                 -499.474407   \n",
       "4                                 -500.397500   \n",
       "\n",
       "   secondary_cleaner.state.floatbank5_a_air  \\\n",
       "0                                  7.946562   \n",
       "1                                  7.958270   \n",
       "2                                  8.071056   \n",
       "3                                  7.897085   \n",
       "4                                  8.107890   \n",
       "\n",
       "   secondary_cleaner.state.floatbank5_a_level  \\\n",
       "0                                 -432.317850   \n",
       "1                                 -525.839648   \n",
       "2                                 -500.801673   \n",
       "3                                 -500.868509   \n",
       "4                                 -509.526725   \n",
       "\n",
       "   secondary_cleaner.state.floatbank5_b_air  \\\n",
       "0                                  4.872511   \n",
       "1                                  4.878850   \n",
       "2                                  4.905125   \n",
       "3                                  4.931400   \n",
       "4                                  4.957674   \n",
       "\n",
       "   secondary_cleaner.state.floatbank5_b_level  \\\n",
       "0                                 -500.037437   \n",
       "1                                 -500.162375   \n",
       "2                                 -499.828510   \n",
       "3                                 -499.963623   \n",
       "4                                 -500.360026   \n",
       "\n",
       "   secondary_cleaner.state.floatbank6_a_air  \\\n",
       "0                                 26.705889   \n",
       "1                                 25.019940   \n",
       "2                                 24.994862   \n",
       "3                                 24.948919   \n",
       "4                                 25.003331   \n",
       "\n",
       "   secondary_cleaner.state.floatbank6_a_level  \n",
       "0                                 -499.709414  \n",
       "1                                 -499.819438  \n",
       "2                                 -500.622559  \n",
       "3                                 -498.709987  \n",
       "4                                 -500.856333  \n",
       "\n",
       "[5 rows x 53 columns]"
      ]
     },
     "execution_count": 4,
     "metadata": {},
     "output_type": "execute_result"
    }
   ],
   "source": [
    "test_data.head()"
   ]
  },
  {
   "cell_type": "code",
   "execution_count": 5,
   "metadata": {},
   "outputs": [
    {
     "data": {
      "text/html": [
       "<div>\n",
       "<style scoped>\n",
       "    .dataframe tbody tr th:only-of-type {\n",
       "        vertical-align: middle;\n",
       "    }\n",
       "\n",
       "    .dataframe tbody tr th {\n",
       "        vertical-align: top;\n",
       "    }\n",
       "\n",
       "    .dataframe thead th {\n",
       "        text-align: right;\n",
       "    }\n",
       "</style>\n",
       "<table border=\"1\" class=\"dataframe\">\n",
       "  <thead>\n",
       "    <tr style=\"text-align: right;\">\n",
       "      <th></th>\n",
       "      <th>date</th>\n",
       "      <th>final.output.concentrate_ag</th>\n",
       "      <th>final.output.concentrate_pb</th>\n",
       "      <th>final.output.concentrate_sol</th>\n",
       "      <th>final.output.concentrate_au</th>\n",
       "      <th>final.output.recovery</th>\n",
       "      <th>final.output.tail_ag</th>\n",
       "      <th>final.output.tail_pb</th>\n",
       "      <th>final.output.tail_sol</th>\n",
       "      <th>final.output.tail_au</th>\n",
       "      <th>...</th>\n",
       "      <th>secondary_cleaner.state.floatbank4_a_air</th>\n",
       "      <th>secondary_cleaner.state.floatbank4_a_level</th>\n",
       "      <th>secondary_cleaner.state.floatbank4_b_air</th>\n",
       "      <th>secondary_cleaner.state.floatbank4_b_level</th>\n",
       "      <th>secondary_cleaner.state.floatbank5_a_air</th>\n",
       "      <th>secondary_cleaner.state.floatbank5_a_level</th>\n",
       "      <th>secondary_cleaner.state.floatbank5_b_air</th>\n",
       "      <th>secondary_cleaner.state.floatbank5_b_level</th>\n",
       "      <th>secondary_cleaner.state.floatbank6_a_air</th>\n",
       "      <th>secondary_cleaner.state.floatbank6_a_level</th>\n",
       "    </tr>\n",
       "  </thead>\n",
       "  <tbody>\n",
       "    <tr>\n",
       "      <th>0</th>\n",
       "      <td>2016-01-15 00:00:00</td>\n",
       "      <td>6.055403</td>\n",
       "      <td>9.889648</td>\n",
       "      <td>5.507324</td>\n",
       "      <td>42.192020</td>\n",
       "      <td>70.541216</td>\n",
       "      <td>10.411962</td>\n",
       "      <td>0.895447</td>\n",
       "      <td>16.904297</td>\n",
       "      <td>2.143149</td>\n",
       "      <td>...</td>\n",
       "      <td>14.016835</td>\n",
       "      <td>-502.488007</td>\n",
       "      <td>12.099931</td>\n",
       "      <td>-504.715942</td>\n",
       "      <td>9.925633</td>\n",
       "      <td>-498.310211</td>\n",
       "      <td>8.079666</td>\n",
       "      <td>-500.470978</td>\n",
       "      <td>14.151341</td>\n",
       "      <td>-605.841980</td>\n",
       "    </tr>\n",
       "    <tr>\n",
       "      <th>1</th>\n",
       "      <td>2016-01-15 01:00:00</td>\n",
       "      <td>6.029369</td>\n",
       "      <td>9.968944</td>\n",
       "      <td>5.257781</td>\n",
       "      <td>42.701629</td>\n",
       "      <td>69.266198</td>\n",
       "      <td>10.462676</td>\n",
       "      <td>0.927452</td>\n",
       "      <td>16.634514</td>\n",
       "      <td>2.224930</td>\n",
       "      <td>...</td>\n",
       "      <td>13.992281</td>\n",
       "      <td>-505.503262</td>\n",
       "      <td>11.950531</td>\n",
       "      <td>-501.331529</td>\n",
       "      <td>10.039245</td>\n",
       "      <td>-500.169983</td>\n",
       "      <td>7.984757</td>\n",
       "      <td>-500.582168</td>\n",
       "      <td>13.998353</td>\n",
       "      <td>-599.787184</td>\n",
       "    </tr>\n",
       "    <tr>\n",
       "      <th>2</th>\n",
       "      <td>2016-01-15 02:00:00</td>\n",
       "      <td>6.055926</td>\n",
       "      <td>10.213995</td>\n",
       "      <td>5.383759</td>\n",
       "      <td>42.657501</td>\n",
       "      <td>68.116445</td>\n",
       "      <td>10.507046</td>\n",
       "      <td>0.953716</td>\n",
       "      <td>16.208849</td>\n",
       "      <td>2.257889</td>\n",
       "      <td>...</td>\n",
       "      <td>14.015015</td>\n",
       "      <td>-502.520901</td>\n",
       "      <td>11.912783</td>\n",
       "      <td>-501.133383</td>\n",
       "      <td>10.070913</td>\n",
       "      <td>-500.129135</td>\n",
       "      <td>8.013877</td>\n",
       "      <td>-500.517572</td>\n",
       "      <td>14.028663</td>\n",
       "      <td>-601.427363</td>\n",
       "    </tr>\n",
       "    <tr>\n",
       "      <th>3</th>\n",
       "      <td>2016-01-15 03:00:00</td>\n",
       "      <td>6.047977</td>\n",
       "      <td>9.977019</td>\n",
       "      <td>4.858634</td>\n",
       "      <td>42.689819</td>\n",
       "      <td>68.347543</td>\n",
       "      <td>10.422762</td>\n",
       "      <td>0.883763</td>\n",
       "      <td>16.532835</td>\n",
       "      <td>2.146849</td>\n",
       "      <td>...</td>\n",
       "      <td>14.036510</td>\n",
       "      <td>-500.857308</td>\n",
       "      <td>11.999550</td>\n",
       "      <td>-501.193686</td>\n",
       "      <td>9.970366</td>\n",
       "      <td>-499.201640</td>\n",
       "      <td>7.977324</td>\n",
       "      <td>-500.255908</td>\n",
       "      <td>14.005551</td>\n",
       "      <td>-599.996129</td>\n",
       "    </tr>\n",
       "    <tr>\n",
       "      <th>4</th>\n",
       "      <td>2016-01-15 04:00:00</td>\n",
       "      <td>6.148599</td>\n",
       "      <td>10.142511</td>\n",
       "      <td>4.939416</td>\n",
       "      <td>42.774141</td>\n",
       "      <td>66.927016</td>\n",
       "      <td>10.360302</td>\n",
       "      <td>0.792826</td>\n",
       "      <td>16.525686</td>\n",
       "      <td>2.055292</td>\n",
       "      <td>...</td>\n",
       "      <td>14.027298</td>\n",
       "      <td>-499.838632</td>\n",
       "      <td>11.953070</td>\n",
       "      <td>-501.053894</td>\n",
       "      <td>9.925709</td>\n",
       "      <td>-501.686727</td>\n",
       "      <td>7.894242</td>\n",
       "      <td>-500.356035</td>\n",
       "      <td>13.996647</td>\n",
       "      <td>-601.496691</td>\n",
       "    </tr>\n",
       "  </tbody>\n",
       "</table>\n",
       "<p>5 rows × 87 columns</p>\n",
       "</div>"
      ],
      "text/plain": [
       "                  date  final.output.concentrate_ag  \\\n",
       "0  2016-01-15 00:00:00                     6.055403   \n",
       "1  2016-01-15 01:00:00                     6.029369   \n",
       "2  2016-01-15 02:00:00                     6.055926   \n",
       "3  2016-01-15 03:00:00                     6.047977   \n",
       "4  2016-01-15 04:00:00                     6.148599   \n",
       "\n",
       "   final.output.concentrate_pb  final.output.concentrate_sol  \\\n",
       "0                     9.889648                      5.507324   \n",
       "1                     9.968944                      5.257781   \n",
       "2                    10.213995                      5.383759   \n",
       "3                     9.977019                      4.858634   \n",
       "4                    10.142511                      4.939416   \n",
       "\n",
       "   final.output.concentrate_au  final.output.recovery  final.output.tail_ag  \\\n",
       "0                    42.192020              70.541216             10.411962   \n",
       "1                    42.701629              69.266198             10.462676   \n",
       "2                    42.657501              68.116445             10.507046   \n",
       "3                    42.689819              68.347543             10.422762   \n",
       "4                    42.774141              66.927016             10.360302   \n",
       "\n",
       "   final.output.tail_pb  final.output.tail_sol  final.output.tail_au  ...  \\\n",
       "0              0.895447              16.904297              2.143149  ...   \n",
       "1              0.927452              16.634514              2.224930  ...   \n",
       "2              0.953716              16.208849              2.257889  ...   \n",
       "3              0.883763              16.532835              2.146849  ...   \n",
       "4              0.792826              16.525686              2.055292  ...   \n",
       "\n",
       "   secondary_cleaner.state.floatbank4_a_air  \\\n",
       "0                                 14.016835   \n",
       "1                                 13.992281   \n",
       "2                                 14.015015   \n",
       "3                                 14.036510   \n",
       "4                                 14.027298   \n",
       "\n",
       "   secondary_cleaner.state.floatbank4_a_level  \\\n",
       "0                                 -502.488007   \n",
       "1                                 -505.503262   \n",
       "2                                 -502.520901   \n",
       "3                                 -500.857308   \n",
       "4                                 -499.838632   \n",
       "\n",
       "   secondary_cleaner.state.floatbank4_b_air  \\\n",
       "0                                 12.099931   \n",
       "1                                 11.950531   \n",
       "2                                 11.912783   \n",
       "3                                 11.999550   \n",
       "4                                 11.953070   \n",
       "\n",
       "   secondary_cleaner.state.floatbank4_b_level  \\\n",
       "0                                 -504.715942   \n",
       "1                                 -501.331529   \n",
       "2                                 -501.133383   \n",
       "3                                 -501.193686   \n",
       "4                                 -501.053894   \n",
       "\n",
       "   secondary_cleaner.state.floatbank5_a_air  \\\n",
       "0                                  9.925633   \n",
       "1                                 10.039245   \n",
       "2                                 10.070913   \n",
       "3                                  9.970366   \n",
       "4                                  9.925709   \n",
       "\n",
       "   secondary_cleaner.state.floatbank5_a_level  \\\n",
       "0                                 -498.310211   \n",
       "1                                 -500.169983   \n",
       "2                                 -500.129135   \n",
       "3                                 -499.201640   \n",
       "4                                 -501.686727   \n",
       "\n",
       "   secondary_cleaner.state.floatbank5_b_air  \\\n",
       "0                                  8.079666   \n",
       "1                                  7.984757   \n",
       "2                                  8.013877   \n",
       "3                                  7.977324   \n",
       "4                                  7.894242   \n",
       "\n",
       "   secondary_cleaner.state.floatbank5_b_level  \\\n",
       "0                                 -500.470978   \n",
       "1                                 -500.582168   \n",
       "2                                 -500.517572   \n",
       "3                                 -500.255908   \n",
       "4                                 -500.356035   \n",
       "\n",
       "   secondary_cleaner.state.floatbank6_a_air  \\\n",
       "0                                 14.151341   \n",
       "1                                 13.998353   \n",
       "2                                 14.028663   \n",
       "3                                 14.005551   \n",
       "4                                 13.996647   \n",
       "\n",
       "   secondary_cleaner.state.floatbank6_a_level  \n",
       "0                                 -605.841980  \n",
       "1                                 -599.787184  \n",
       "2                                 -601.427363  \n",
       "3                                 -599.996129  \n",
       "4                                 -601.496691  \n",
       "\n",
       "[5 rows x 87 columns]"
      ]
     },
     "execution_count": 5,
     "metadata": {},
     "output_type": "execute_result"
    }
   ],
   "source": [
    "full_data.head()"
   ]
  },
  {
   "cell_type": "code",
   "execution_count": 6,
   "metadata": {
    "scrolled": true
   },
   "outputs": [
    {
     "name": "stdout",
     "output_type": "stream",
     "text": [
      "<class 'pandas.core.frame.DataFrame'>\n",
      "RangeIndex: 14149 entries, 0 to 14148\n",
      "Data columns (total 87 columns):\n",
      " #   Column                                              Non-Null Count  Dtype  \n",
      "---  ------                                              --------------  -----  \n",
      " 0   date                                                14149 non-null  object \n",
      " 1   final.output.concentrate_ag                         14148 non-null  float64\n",
      " 2   final.output.concentrate_pb                         14148 non-null  float64\n",
      " 3   final.output.concentrate_sol                        13938 non-null  float64\n",
      " 4   final.output.concentrate_au                         14149 non-null  float64\n",
      " 5   final.output.recovery                               14149 non-null  float64\n",
      " 6   final.output.tail_ag                                14149 non-null  float64\n",
      " 7   final.output.tail_pb                                14049 non-null  float64\n",
      " 8   final.output.tail_sol                               14144 non-null  float64\n",
      " 9   final.output.tail_au                                14149 non-null  float64\n",
      " 10  primary_cleaner.input.sulfate                       14129 non-null  float64\n",
      " 11  primary_cleaner.input.depressant                    14117 non-null  float64\n",
      " 12  primary_cleaner.input.feed_size                     14149 non-null  float64\n",
      " 13  primary_cleaner.input.xanthate                      14049 non-null  float64\n",
      " 14  primary_cleaner.output.concentrate_ag               14149 non-null  float64\n",
      " 15  primary_cleaner.output.concentrate_pb               14063 non-null  float64\n",
      " 16  primary_cleaner.output.concentrate_sol              13863 non-null  float64\n",
      " 17  primary_cleaner.output.concentrate_au               14149 non-null  float64\n",
      " 18  primary_cleaner.output.tail_ag                      14148 non-null  float64\n",
      " 19  primary_cleaner.output.tail_pb                      14134 non-null  float64\n",
      " 20  primary_cleaner.output.tail_sol                     14103 non-null  float64\n",
      " 21  primary_cleaner.output.tail_au                      14149 non-null  float64\n",
      " 22  primary_cleaner.state.floatbank8_a_air              14145 non-null  float64\n",
      " 23  primary_cleaner.state.floatbank8_a_level            14148 non-null  float64\n",
      " 24  primary_cleaner.state.floatbank8_b_air              14145 non-null  float64\n",
      " 25  primary_cleaner.state.floatbank8_b_level            14148 non-null  float64\n",
      " 26  primary_cleaner.state.floatbank8_c_air              14147 non-null  float64\n",
      " 27  primary_cleaner.state.floatbank8_c_level            14148 non-null  float64\n",
      " 28  primary_cleaner.state.floatbank8_d_air              14146 non-null  float64\n",
      " 29  primary_cleaner.state.floatbank8_d_level            14148 non-null  float64\n",
      " 30  rougher.calculation.sulfate_to_au_concentrate       14148 non-null  float64\n",
      " 31  rougher.calculation.floatbank10_sulfate_to_au_feed  14148 non-null  float64\n",
      " 32  rougher.calculation.floatbank11_sulfate_to_au_feed  14148 non-null  float64\n",
      " 33  rougher.calculation.au_pb_ratio                     14149 non-null  float64\n",
      " 34  rougher.input.feed_ag                               14149 non-null  float64\n",
      " 35  rougher.input.feed_pb                               14049 non-null  float64\n",
      " 36  rougher.input.feed_rate                             14141 non-null  float64\n",
      " 37  rougher.input.feed_size                             14005 non-null  float64\n",
      " 38  rougher.input.feed_sol                              14071 non-null  float64\n",
      " 39  rougher.input.feed_au                               14149 non-null  float64\n",
      " 40  rougher.input.floatbank10_sulfate                   14120 non-null  float64\n",
      " 41  rougher.input.floatbank10_xanthate                  14141 non-null  float64\n",
      " 42  rougher.input.floatbank11_sulfate                   14113 non-null  float64\n",
      " 43  rougher.input.floatbank11_xanthate                  13721 non-null  float64\n",
      " 44  rougher.output.concentrate_ag                       14149 non-null  float64\n",
      " 45  rougher.output.concentrate_pb                       14149 non-null  float64\n",
      " 46  rougher.output.concentrate_sol                      14127 non-null  float64\n",
      " 47  rougher.output.concentrate_au                       14149 non-null  float64\n",
      " 48  rougher.output.recovery                             14149 non-null  float64\n",
      " 49  rougher.output.tail_ag                              14148 non-null  float64\n",
      " 50  rougher.output.tail_pb                              14149 non-null  float64\n",
      " 51  rougher.output.tail_sol                             14149 non-null  float64\n",
      " 52  rougher.output.tail_au                              14149 non-null  float64\n",
      " 53  rougher.state.floatbank10_a_air                     14148 non-null  float64\n",
      " 54  rougher.state.floatbank10_a_level                   14148 non-null  float64\n",
      " 55  rougher.state.floatbank10_b_air                     14148 non-null  float64\n",
      " 56  rougher.state.floatbank10_b_level                   14148 non-null  float64\n",
      " 57  rougher.state.floatbank10_c_air                     14148 non-null  float64\n",
      " 58  rougher.state.floatbank10_c_level                   14148 non-null  float64\n",
      " 59  rougher.state.floatbank10_d_air                     14149 non-null  float64\n",
      " 60  rougher.state.floatbank10_d_level                   14149 non-null  float64\n",
      " 61  rougher.state.floatbank10_e_air                     13713 non-null  float64\n",
      " 62  rougher.state.floatbank10_e_level                   14149 non-null  float64\n",
      " 63  rougher.state.floatbank10_f_air                     14149 non-null  float64\n",
      " 64  rougher.state.floatbank10_f_level                   14149 non-null  float64\n",
      " 65  secondary_cleaner.output.tail_ag                    14147 non-null  float64\n",
      " 66  secondary_cleaner.output.tail_pb                    14139 non-null  float64\n",
      " 67  secondary_cleaner.output.tail_sol                   12544 non-null  float64\n",
      " 68  secondary_cleaner.output.tail_au                    14149 non-null  float64\n",
      " 69  secondary_cleaner.state.floatbank2_a_air            13932 non-null  float64\n",
      " 70  secondary_cleaner.state.floatbank2_a_level          14148 non-null  float64\n",
      " 71  secondary_cleaner.state.floatbank2_b_air            14128 non-null  float64\n",
      " 72  secondary_cleaner.state.floatbank2_b_level          14148 non-null  float64\n",
      " 73  secondary_cleaner.state.floatbank3_a_air            14145 non-null  float64\n",
      " 74  secondary_cleaner.state.floatbank3_a_level          14148 non-null  float64\n",
      " 75  secondary_cleaner.state.floatbank3_b_air            14148 non-null  float64\n",
      " 76  secondary_cleaner.state.floatbank3_b_level          14148 non-null  float64\n",
      " 77  secondary_cleaner.state.floatbank4_a_air            14143 non-null  float64\n",
      " 78  secondary_cleaner.state.floatbank4_a_level          14148 non-null  float64\n",
      " 79  secondary_cleaner.state.floatbank4_b_air            14148 non-null  float64\n",
      " 80  secondary_cleaner.state.floatbank4_b_level          14148 non-null  float64\n",
      " 81  secondary_cleaner.state.floatbank5_a_air            14148 non-null  float64\n",
      " 82  secondary_cleaner.state.floatbank5_a_level          14148 non-null  float64\n",
      " 83  secondary_cleaner.state.floatbank5_b_air            14148 non-null  float64\n",
      " 84  secondary_cleaner.state.floatbank5_b_level          14148 non-null  float64\n",
      " 85  secondary_cleaner.state.floatbank6_a_air            14147 non-null  float64\n",
      " 86  secondary_cleaner.state.floatbank6_a_level          14148 non-null  float64\n",
      "dtypes: float64(86), object(1)\n",
      "memory usage: 9.4+ MB\n"
     ]
    }
   ],
   "source": [
    "train_data.info()"
   ]
  },
  {
   "cell_type": "code",
   "execution_count": 7,
   "metadata": {
    "scrolled": true
   },
   "outputs": [
    {
     "name": "stdout",
     "output_type": "stream",
     "text": [
      "<class 'pandas.core.frame.DataFrame'>\n",
      "RangeIndex: 5290 entries, 0 to 5289\n",
      "Data columns (total 53 columns):\n",
      " #   Column                                      Non-Null Count  Dtype  \n",
      "---  ------                                      --------------  -----  \n",
      " 0   date                                        5290 non-null   object \n",
      " 1   primary_cleaner.input.sulfate               5286 non-null   float64\n",
      " 2   primary_cleaner.input.depressant            5285 non-null   float64\n",
      " 3   primary_cleaner.input.feed_size             5290 non-null   float64\n",
      " 4   primary_cleaner.input.xanthate              5286 non-null   float64\n",
      " 5   primary_cleaner.state.floatbank8_a_air      5290 non-null   float64\n",
      " 6   primary_cleaner.state.floatbank8_a_level    5290 non-null   float64\n",
      " 7   primary_cleaner.state.floatbank8_b_air      5290 non-null   float64\n",
      " 8   primary_cleaner.state.floatbank8_b_level    5290 non-null   float64\n",
      " 9   primary_cleaner.state.floatbank8_c_air      5290 non-null   float64\n",
      " 10  primary_cleaner.state.floatbank8_c_level    5290 non-null   float64\n",
      " 11  primary_cleaner.state.floatbank8_d_air      5290 non-null   float64\n",
      " 12  primary_cleaner.state.floatbank8_d_level    5290 non-null   float64\n",
      " 13  rougher.input.feed_ag                       5290 non-null   float64\n",
      " 14  rougher.input.feed_pb                       5290 non-null   float64\n",
      " 15  rougher.input.feed_rate                     5287 non-null   float64\n",
      " 16  rougher.input.feed_size                     5289 non-null   float64\n",
      " 17  rougher.input.feed_sol                      5269 non-null   float64\n",
      " 18  rougher.input.feed_au                       5290 non-null   float64\n",
      " 19  rougher.input.floatbank10_sulfate           5285 non-null   float64\n",
      " 20  rougher.input.floatbank10_xanthate          5290 non-null   float64\n",
      " 21  rougher.input.floatbank11_sulfate           5282 non-null   float64\n",
      " 22  rougher.input.floatbank11_xanthate          5265 non-null   float64\n",
      " 23  rougher.state.floatbank10_a_air             5290 non-null   float64\n",
      " 24  rougher.state.floatbank10_a_level           5290 non-null   float64\n",
      " 25  rougher.state.floatbank10_b_air             5290 non-null   float64\n",
      " 26  rougher.state.floatbank10_b_level           5290 non-null   float64\n",
      " 27  rougher.state.floatbank10_c_air             5290 non-null   float64\n",
      " 28  rougher.state.floatbank10_c_level           5290 non-null   float64\n",
      " 29  rougher.state.floatbank10_d_air             5290 non-null   float64\n",
      " 30  rougher.state.floatbank10_d_level           5290 non-null   float64\n",
      " 31  rougher.state.floatbank10_e_air             5290 non-null   float64\n",
      " 32  rougher.state.floatbank10_e_level           5290 non-null   float64\n",
      " 33  rougher.state.floatbank10_f_air             5290 non-null   float64\n",
      " 34  rougher.state.floatbank10_f_level           5290 non-null   float64\n",
      " 35  secondary_cleaner.state.floatbank2_a_air    5287 non-null   float64\n",
      " 36  secondary_cleaner.state.floatbank2_a_level  5290 non-null   float64\n",
      " 37  secondary_cleaner.state.floatbank2_b_air    5288 non-null   float64\n",
      " 38  secondary_cleaner.state.floatbank2_b_level  5290 non-null   float64\n",
      " 39  secondary_cleaner.state.floatbank3_a_air    5281 non-null   float64\n",
      " 40  secondary_cleaner.state.floatbank3_a_level  5290 non-null   float64\n",
      " 41  secondary_cleaner.state.floatbank3_b_air    5290 non-null   float64\n",
      " 42  secondary_cleaner.state.floatbank3_b_level  5290 non-null   float64\n",
      " 43  secondary_cleaner.state.floatbank4_a_air    5290 non-null   float64\n",
      " 44  secondary_cleaner.state.floatbank4_a_level  5290 non-null   float64\n",
      " 45  secondary_cleaner.state.floatbank4_b_air    5290 non-null   float64\n",
      " 46  secondary_cleaner.state.floatbank4_b_level  5290 non-null   float64\n",
      " 47  secondary_cleaner.state.floatbank5_a_air    5290 non-null   float64\n",
      " 48  secondary_cleaner.state.floatbank5_a_level  5290 non-null   float64\n",
      " 49  secondary_cleaner.state.floatbank5_b_air    5290 non-null   float64\n",
      " 50  secondary_cleaner.state.floatbank5_b_level  5290 non-null   float64\n",
      " 51  secondary_cleaner.state.floatbank6_a_air    5290 non-null   float64\n",
      " 52  secondary_cleaner.state.floatbank6_a_level  5290 non-null   float64\n",
      "dtypes: float64(52), object(1)\n",
      "memory usage: 2.1+ MB\n"
     ]
    }
   ],
   "source": [
    "test_data.info()"
   ]
  },
  {
   "cell_type": "code",
   "execution_count": 8,
   "metadata": {
    "scrolled": true
   },
   "outputs": [
    {
     "name": "stdout",
     "output_type": "stream",
     "text": [
      "<class 'pandas.core.frame.DataFrame'>\n",
      "RangeIndex: 19439 entries, 0 to 19438\n",
      "Data columns (total 87 columns):\n",
      " #   Column                                              Non-Null Count  Dtype  \n",
      "---  ------                                              --------------  -----  \n",
      " 0   date                                                19439 non-null  object \n",
      " 1   final.output.concentrate_ag                         19438 non-null  float64\n",
      " 2   final.output.concentrate_pb                         19438 non-null  float64\n",
      " 3   final.output.concentrate_sol                        19228 non-null  float64\n",
      " 4   final.output.concentrate_au                         19439 non-null  float64\n",
      " 5   final.output.recovery                               19439 non-null  float64\n",
      " 6   final.output.tail_ag                                19438 non-null  float64\n",
      " 7   final.output.tail_pb                                19338 non-null  float64\n",
      " 8   final.output.tail_sol                               19433 non-null  float64\n",
      " 9   final.output.tail_au                                19439 non-null  float64\n",
      " 10  primary_cleaner.input.sulfate                       19415 non-null  float64\n",
      " 11  primary_cleaner.input.depressant                    19402 non-null  float64\n",
      " 12  primary_cleaner.input.feed_size                     19439 non-null  float64\n",
      " 13  primary_cleaner.input.xanthate                      19335 non-null  float64\n",
      " 14  primary_cleaner.output.concentrate_ag               19439 non-null  float64\n",
      " 15  primary_cleaner.output.concentrate_pb               19323 non-null  float64\n",
      " 16  primary_cleaner.output.concentrate_sol              19069 non-null  float64\n",
      " 17  primary_cleaner.output.concentrate_au               19439 non-null  float64\n",
      " 18  primary_cleaner.output.tail_ag                      19435 non-null  float64\n",
      " 19  primary_cleaner.output.tail_pb                      19418 non-null  float64\n",
      " 20  primary_cleaner.output.tail_sol                     19377 non-null  float64\n",
      " 21  primary_cleaner.output.tail_au                      19439 non-null  float64\n",
      " 22  primary_cleaner.state.floatbank8_a_air              19435 non-null  float64\n",
      " 23  primary_cleaner.state.floatbank8_a_level            19438 non-null  float64\n",
      " 24  primary_cleaner.state.floatbank8_b_air              19435 non-null  float64\n",
      " 25  primary_cleaner.state.floatbank8_b_level            19438 non-null  float64\n",
      " 26  primary_cleaner.state.floatbank8_c_air              19437 non-null  float64\n",
      " 27  primary_cleaner.state.floatbank8_c_level            19438 non-null  float64\n",
      " 28  primary_cleaner.state.floatbank8_d_air              19436 non-null  float64\n",
      " 29  primary_cleaner.state.floatbank8_d_level            19438 non-null  float64\n",
      " 30  rougher.calculation.sulfate_to_au_concentrate       19437 non-null  float64\n",
      " 31  rougher.calculation.floatbank10_sulfate_to_au_feed  19437 non-null  float64\n",
      " 32  rougher.calculation.floatbank11_sulfate_to_au_feed  19437 non-null  float64\n",
      " 33  rougher.calculation.au_pb_ratio                     19439 non-null  float64\n",
      " 34  rougher.input.feed_ag                               19439 non-null  float64\n",
      " 35  rougher.input.feed_pb                               19339 non-null  float64\n",
      " 36  rougher.input.feed_rate                             19428 non-null  float64\n",
      " 37  rougher.input.feed_size                             19294 non-null  float64\n",
      " 38  rougher.input.feed_sol                              19340 non-null  float64\n",
      " 39  rougher.input.feed_au                               19439 non-null  float64\n",
      " 40  rougher.input.floatbank10_sulfate                   19405 non-null  float64\n",
      " 41  rougher.input.floatbank10_xanthate                  19431 non-null  float64\n",
      " 42  rougher.input.floatbank11_sulfate                   19395 non-null  float64\n",
      " 43  rougher.input.floatbank11_xanthate                  18986 non-null  float64\n",
      " 44  rougher.output.concentrate_ag                       19439 non-null  float64\n",
      " 45  rougher.output.concentrate_pb                       19439 non-null  float64\n",
      " 46  rougher.output.concentrate_sol                      19416 non-null  float64\n",
      " 47  rougher.output.concentrate_au                       19439 non-null  float64\n",
      " 48  rougher.output.recovery                             19439 non-null  float64\n",
      " 49  rougher.output.tail_ag                              19438 non-null  float64\n",
      " 50  rougher.output.tail_pb                              19439 non-null  float64\n",
      " 51  rougher.output.tail_sol                             19439 non-null  float64\n",
      " 52  rougher.output.tail_au                              19439 non-null  float64\n",
      " 53  rougher.state.floatbank10_a_air                     19438 non-null  float64\n",
      " 54  rougher.state.floatbank10_a_level                   19438 non-null  float64\n",
      " 55  rougher.state.floatbank10_b_air                     19438 non-null  float64\n",
      " 56  rougher.state.floatbank10_b_level                   19438 non-null  float64\n",
      " 57  rougher.state.floatbank10_c_air                     19438 non-null  float64\n",
      " 58  rougher.state.floatbank10_c_level                   19438 non-null  float64\n",
      " 59  rougher.state.floatbank10_d_air                     19439 non-null  float64\n",
      " 60  rougher.state.floatbank10_d_level                   19439 non-null  float64\n",
      " 61  rougher.state.floatbank10_e_air                     19003 non-null  float64\n",
      " 62  rougher.state.floatbank10_e_level                   19439 non-null  float64\n",
      " 63  rougher.state.floatbank10_f_air                     19439 non-null  float64\n",
      " 64  rougher.state.floatbank10_f_level                   19439 non-null  float64\n",
      " 65  secondary_cleaner.output.tail_ag                    19437 non-null  float64\n",
      " 66  secondary_cleaner.output.tail_pb                    19427 non-null  float64\n",
      " 67  secondary_cleaner.output.tail_sol                   17691 non-null  float64\n",
      " 68  secondary_cleaner.output.tail_au                    19439 non-null  float64\n",
      " 69  secondary_cleaner.state.floatbank2_a_air            19219 non-null  float64\n",
      " 70  secondary_cleaner.state.floatbank2_a_level          19438 non-null  float64\n",
      " 71  secondary_cleaner.state.floatbank2_b_air            19416 non-null  float64\n",
      " 72  secondary_cleaner.state.floatbank2_b_level          19438 non-null  float64\n",
      " 73  secondary_cleaner.state.floatbank3_a_air            19426 non-null  float64\n",
      " 74  secondary_cleaner.state.floatbank3_a_level          19438 non-null  float64\n",
      " 75  secondary_cleaner.state.floatbank3_b_air            19438 non-null  float64\n",
      " 76  secondary_cleaner.state.floatbank3_b_level          19438 non-null  float64\n",
      " 77  secondary_cleaner.state.floatbank4_a_air            19433 non-null  float64\n",
      " 78  secondary_cleaner.state.floatbank4_a_level          19438 non-null  float64\n",
      " 79  secondary_cleaner.state.floatbank4_b_air            19438 non-null  float64\n",
      " 80  secondary_cleaner.state.floatbank4_b_level          19438 non-null  float64\n",
      " 81  secondary_cleaner.state.floatbank5_a_air            19438 non-null  float64\n",
      " 82  secondary_cleaner.state.floatbank5_a_level          19438 non-null  float64\n",
      " 83  secondary_cleaner.state.floatbank5_b_air            19438 non-null  float64\n",
      " 84  secondary_cleaner.state.floatbank5_b_level          19438 non-null  float64\n",
      " 85  secondary_cleaner.state.floatbank6_a_air            19437 non-null  float64\n",
      " 86  secondary_cleaner.state.floatbank6_a_level          19438 non-null  float64\n",
      "dtypes: float64(86), object(1)\n",
      "memory usage: 12.9+ MB\n"
     ]
    }
   ],
   "source": [
    "full_data.info()"
   ]
  },
  {
   "cell_type": "markdown",
   "metadata": {},
   "source": [
    " "
   ]
  },
  {
   "cell_type": "markdown",
   "metadata": {},
   "source": [
    "- train_data — содержит 87 столбцов и 14149 строк, есть пропуски\n",
    "- test_data — содержит 53 столбцов и 5290 строк, есть пропуски\n",
    "- full_data — содержит 87 столбцов и 19439 строк, есть пропуски\n",
    "- столбец date имеет тип object, а нужен datetime"
   ]
  },
  {
   "cell_type": "markdown",
   "metadata": {},
   "source": [
    "### Проверем, что эффективность обогащения рассчитана правильно. Вычислим её на обучающей выборке для признака rougher.output.recovery. Найдем MAE между нашими расчётами и значением признака"
   ]
  },
  {
   "cell_type": "markdown",
   "metadata": {},
   "source": [
    "Эффективность обогащения рассчитывается по формуле"
   ]
  },
  {
   "cell_type": "markdown",
   "metadata": {},
   "source": [
    "**recovery = ((C(F-T))/(F(C-T))*100%**"
   ]
  },
  {
   "cell_type": "markdown",
   "metadata": {},
   "source": [
    "где:\n",
    "- C — доля золота в концентрате после флотации/очистки;\n",
    "- F — доля золота в сырье/концентрате до флотации/очистки;\n",
    "- T — доля золота в отвальных хвостах после флотации/очистки."
   ]
  },
  {
   "cell_type": "markdown",
   "metadata": {},
   "source": [
    "Происходит на первом этапе Флотации, а значит\n",
    "- Признак - rougher.output.recovery\n",
    "- C - rougher.output.concentrate_au\n",
    "- F - rougher.input.feed_au\n",
    "- T - rougher.output.tail_au"
   ]
  },
  {
   "cell_type": "code",
   "execution_count": 9,
   "metadata": {},
   "outputs": [
    {
     "name": "stdout",
     "output_type": "stream",
     "text": [
      "MAE = 9.73512347450521e-15\n"
     ]
    }
   ],
   "source": [
    "c = train_data['rougher.output.concentrate_au']\n",
    "f = train_data['rougher.input.feed_au']\n",
    "t = train_data['rougher.output.tail_au']\n",
    "recovery = ((c*(f-t))/(f*(c-t))) * 100\n",
    "print('MAE =', mean_absolute_error(train_data['rougher.output.recovery'], recovery))"
   ]
  },
  {
   "cell_type": "markdown",
   "metadata": {},
   "source": [
    "MAE получился небольшой, так что расчеты верны"
   ]
  },
  {
   "cell_type": "markdown",
   "metadata": {},
   "source": [
    "### Проанализируем признаки, недоступные в тестовой выборке"
   ]
  },
  {
   "cell_type": "code",
   "execution_count": 10,
   "metadata": {},
   "outputs": [],
   "source": [
    "miss_list = set(train_data.columns) - set(test_data.columns)"
   ]
  },
  {
   "cell_type": "code",
   "execution_count": 11,
   "metadata": {
    "scrolled": true
   },
   "outputs": [
    {
     "data": {
      "text/plain": [
       "{'final.output.concentrate_ag',\n",
       " 'final.output.concentrate_au',\n",
       " 'final.output.concentrate_pb',\n",
       " 'final.output.concentrate_sol',\n",
       " 'final.output.recovery',\n",
       " 'final.output.tail_ag',\n",
       " 'final.output.tail_au',\n",
       " 'final.output.tail_pb',\n",
       " 'final.output.tail_sol',\n",
       " 'primary_cleaner.output.concentrate_ag',\n",
       " 'primary_cleaner.output.concentrate_au',\n",
       " 'primary_cleaner.output.concentrate_pb',\n",
       " 'primary_cleaner.output.concentrate_sol',\n",
       " 'primary_cleaner.output.tail_ag',\n",
       " 'primary_cleaner.output.tail_au',\n",
       " 'primary_cleaner.output.tail_pb',\n",
       " 'primary_cleaner.output.tail_sol',\n",
       " 'rougher.calculation.au_pb_ratio',\n",
       " 'rougher.calculation.floatbank10_sulfate_to_au_feed',\n",
       " 'rougher.calculation.floatbank11_sulfate_to_au_feed',\n",
       " 'rougher.calculation.sulfate_to_au_concentrate',\n",
       " 'rougher.output.concentrate_ag',\n",
       " 'rougher.output.concentrate_au',\n",
       " 'rougher.output.concentrate_pb',\n",
       " 'rougher.output.concentrate_sol',\n",
       " 'rougher.output.recovery',\n",
       " 'rougher.output.tail_ag',\n",
       " 'rougher.output.tail_au',\n",
       " 'rougher.output.tail_pb',\n",
       " 'rougher.output.tail_sol',\n",
       " 'secondary_cleaner.output.tail_ag',\n",
       " 'secondary_cleaner.output.tail_au',\n",
       " 'secondary_cleaner.output.tail_pb',\n",
       " 'secondary_cleaner.output.tail_sol'}"
      ]
     },
     "execution_count": 11,
     "metadata": {},
     "output_type": "execute_result"
    }
   ],
   "source": [
    "miss_list"
   ]
  },
  {
   "cell_type": "code",
   "execution_count": 12,
   "metadata": {},
   "outputs": [
    {
     "name": "stdout",
     "output_type": "stream",
     "text": [
      "Количество признаков, недоступных в тестовой выборке 34\n"
     ]
    }
   ],
   "source": [
    "print('Количество признаков, недоступных в тестовой выборке', len(miss_list))"
   ]
  },
  {
   "cell_type": "markdown",
   "metadata": {},
   "source": [
    "Все это выходные признаки после проведения каждого из технологических этапов. Любой из них может стать целевым"
   ]
  },
  {
   "cell_type": "markdown",
   "metadata": {},
   "source": [
    "### Проведем предобработку данных"
   ]
  },
  {
   "cell_type": "markdown",
   "metadata": {},
   "source": [
    "Столбец date. Изменим тип с object на datetime"
   ]
  },
  {
   "cell_type": "code",
   "execution_count": 13,
   "metadata": {},
   "outputs": [
    {
     "data": {
      "text/plain": [
       "date                                          datetime64[ns]\n",
       "final.output.concentrate_ag                          float64\n",
       "final.output.concentrate_pb                          float64\n",
       "final.output.concentrate_sol                         float64\n",
       "final.output.concentrate_au                          float64\n",
       "                                                   ...      \n",
       "secondary_cleaner.state.floatbank5_a_level           float64\n",
       "secondary_cleaner.state.floatbank5_b_air             float64\n",
       "secondary_cleaner.state.floatbank5_b_level           float64\n",
       "secondary_cleaner.state.floatbank6_a_air             float64\n",
       "secondary_cleaner.state.floatbank6_a_level           float64\n",
       "Length: 87, dtype: object"
      ]
     },
     "execution_count": 13,
     "metadata": {},
     "output_type": "execute_result"
    }
   ],
   "source": [
    "train_data['date'] = pd.to_datetime(train_data['date'], format='%Y-%m-%d %H:%M:%S')\n",
    "train_data.dtypes"
   ]
  },
  {
   "cell_type": "code",
   "execution_count": 14,
   "metadata": {
    "scrolled": true
   },
   "outputs": [
    {
     "data": {
      "text/plain": [
       "date                                          datetime64[ns]\n",
       "primary_cleaner.input.sulfate                        float64\n",
       "primary_cleaner.input.depressant                     float64\n",
       "primary_cleaner.input.feed_size                      float64\n",
       "primary_cleaner.input.xanthate                       float64\n",
       "primary_cleaner.state.floatbank8_a_air               float64\n",
       "primary_cleaner.state.floatbank8_a_level             float64\n",
       "primary_cleaner.state.floatbank8_b_air               float64\n",
       "primary_cleaner.state.floatbank8_b_level             float64\n",
       "primary_cleaner.state.floatbank8_c_air               float64\n",
       "primary_cleaner.state.floatbank8_c_level             float64\n",
       "primary_cleaner.state.floatbank8_d_air               float64\n",
       "primary_cleaner.state.floatbank8_d_level             float64\n",
       "rougher.input.feed_ag                                float64\n",
       "rougher.input.feed_pb                                float64\n",
       "rougher.input.feed_rate                              float64\n",
       "rougher.input.feed_size                              float64\n",
       "rougher.input.feed_sol                               float64\n",
       "rougher.input.feed_au                                float64\n",
       "rougher.input.floatbank10_sulfate                    float64\n",
       "rougher.input.floatbank10_xanthate                   float64\n",
       "rougher.input.floatbank11_sulfate                    float64\n",
       "rougher.input.floatbank11_xanthate                   float64\n",
       "rougher.state.floatbank10_a_air                      float64\n",
       "rougher.state.floatbank10_a_level                    float64\n",
       "rougher.state.floatbank10_b_air                      float64\n",
       "rougher.state.floatbank10_b_level                    float64\n",
       "rougher.state.floatbank10_c_air                      float64\n",
       "rougher.state.floatbank10_c_level                    float64\n",
       "rougher.state.floatbank10_d_air                      float64\n",
       "rougher.state.floatbank10_d_level                    float64\n",
       "rougher.state.floatbank10_e_air                      float64\n",
       "rougher.state.floatbank10_e_level                    float64\n",
       "rougher.state.floatbank10_f_air                      float64\n",
       "rougher.state.floatbank10_f_level                    float64\n",
       "secondary_cleaner.state.floatbank2_a_air             float64\n",
       "secondary_cleaner.state.floatbank2_a_level           float64\n",
       "secondary_cleaner.state.floatbank2_b_air             float64\n",
       "secondary_cleaner.state.floatbank2_b_level           float64\n",
       "secondary_cleaner.state.floatbank3_a_air             float64\n",
       "secondary_cleaner.state.floatbank3_a_level           float64\n",
       "secondary_cleaner.state.floatbank3_b_air             float64\n",
       "secondary_cleaner.state.floatbank3_b_level           float64\n",
       "secondary_cleaner.state.floatbank4_a_air             float64\n",
       "secondary_cleaner.state.floatbank4_a_level           float64\n",
       "secondary_cleaner.state.floatbank4_b_air             float64\n",
       "secondary_cleaner.state.floatbank4_b_level           float64\n",
       "secondary_cleaner.state.floatbank5_a_air             float64\n",
       "secondary_cleaner.state.floatbank5_a_level           float64\n",
       "secondary_cleaner.state.floatbank5_b_air             float64\n",
       "secondary_cleaner.state.floatbank5_b_level           float64\n",
       "secondary_cleaner.state.floatbank6_a_air             float64\n",
       "secondary_cleaner.state.floatbank6_a_level           float64\n",
       "dtype: object"
      ]
     },
     "execution_count": 14,
     "metadata": {},
     "output_type": "execute_result"
    }
   ],
   "source": [
    "test_data['date'] = pd.to_datetime(test_data['date'], format='%Y-%m-%d %H:%M:%S')\n",
    "test_data.dtypes"
   ]
  },
  {
   "cell_type": "code",
   "execution_count": 15,
   "metadata": {
    "scrolled": true
   },
   "outputs": [
    {
     "data": {
      "text/plain": [
       "date                                          datetime64[ns]\n",
       "final.output.concentrate_ag                          float64\n",
       "final.output.concentrate_pb                          float64\n",
       "final.output.concentrate_sol                         float64\n",
       "final.output.concentrate_au                          float64\n",
       "                                                   ...      \n",
       "secondary_cleaner.state.floatbank5_a_level           float64\n",
       "secondary_cleaner.state.floatbank5_b_air             float64\n",
       "secondary_cleaner.state.floatbank5_b_level           float64\n",
       "secondary_cleaner.state.floatbank6_a_air             float64\n",
       "secondary_cleaner.state.floatbank6_a_level           float64\n",
       "Length: 87, dtype: object"
      ]
     },
     "execution_count": 15,
     "metadata": {},
     "output_type": "execute_result"
    }
   ],
   "source": [
    "full_data['date'] = pd.to_datetime(full_data['date'], format='%Y-%m-%d %H:%M:%S')\n",
    "full_data.dtypes"
   ]
  },
  {
   "cell_type": "markdown",
   "metadata": {},
   "source": [
    "**Добавляем признаки**"
   ]
  },
  {
   "cell_type": "markdown",
   "metadata": {},
   "source": [
    "Проанализировав признакики, заметили, что в тестовой выборке отсутствуют нужные (в дальнейшем) целевые признаки rougher.output.recovery и final.output.recovery, добавим их"
   ]
  },
  {
   "cell_type": "code",
   "execution_count": 16,
   "metadata": {},
   "outputs": [],
   "source": [
    "test_data = test_data.merge(full_data.loc[:, ['date','rougher.output.recovery','final.output.recovery']], on='date')"
   ]
  },
  {
   "cell_type": "markdown",
   "metadata": {},
   "source": [
    "**Явные дубликаты**"
   ]
  },
  {
   "cell_type": "code",
   "execution_count": 17,
   "metadata": {},
   "outputs": [
    {
     "data": {
      "text/plain": [
       "0"
      ]
     },
     "execution_count": 17,
     "metadata": {},
     "output_type": "execute_result"
    }
   ],
   "source": [
    "train_data.duplicated().sum()"
   ]
  },
  {
   "cell_type": "code",
   "execution_count": 18,
   "metadata": {},
   "outputs": [
    {
     "data": {
      "text/plain": [
       "0"
      ]
     },
     "execution_count": 18,
     "metadata": {},
     "output_type": "execute_result"
    }
   ],
   "source": [
    "test_data.duplicated().sum()"
   ]
  },
  {
   "cell_type": "code",
   "execution_count": 19,
   "metadata": {},
   "outputs": [
    {
     "data": {
      "text/plain": [
       "0"
      ]
     },
     "execution_count": 19,
     "metadata": {},
     "output_type": "execute_result"
    }
   ],
   "source": [
    "full_data.duplicated().sum()"
   ]
  },
  {
   "cell_type": "markdown",
   "metadata": {},
   "source": [
    "**Работа с пропусками**"
   ]
  },
  {
   "cell_type": "markdown",
   "metadata": {},
   "source": [
    "Данные индексируются датой и временем получения информации (признак date). Соседние по времени параметры часто похожи."
   ]
  },
  {
   "cell_type": "code",
   "execution_count": 20,
   "metadata": {},
   "outputs": [],
   "source": [
    "train_data = train_data.ffill(axis=0)\n",
    "test_data = test_data.ffill(axis=0)\n",
    "full_data = full_data.ffill(axis=0)"
   ]
  },
  {
   "cell_type": "code",
   "execution_count": 21,
   "metadata": {},
   "outputs": [
    {
     "data": {
      "text/plain": [
       "date                                          0\n",
       "final.output.concentrate_ag                   0\n",
       "final.output.concentrate_pb                   0\n",
       "final.output.concentrate_sol                  0\n",
       "final.output.concentrate_au                   0\n",
       "                                             ..\n",
       "secondary_cleaner.state.floatbank5_a_level    0\n",
       "secondary_cleaner.state.floatbank5_b_air      0\n",
       "secondary_cleaner.state.floatbank5_b_level    0\n",
       "secondary_cleaner.state.floatbank6_a_air      0\n",
       "secondary_cleaner.state.floatbank6_a_level    0\n",
       "Length: 87, dtype: int64"
      ]
     },
     "execution_count": 21,
     "metadata": {},
     "output_type": "execute_result"
    }
   ],
   "source": [
    "train_data.isna().sum()"
   ]
  },
  {
   "cell_type": "code",
   "execution_count": 22,
   "metadata": {
    "scrolled": true
   },
   "outputs": [
    {
     "data": {
      "text/plain": [
       "date                                          0\n",
       "primary_cleaner.input.sulfate                 0\n",
       "primary_cleaner.input.depressant              0\n",
       "primary_cleaner.input.feed_size               0\n",
       "primary_cleaner.input.xanthate                0\n",
       "primary_cleaner.state.floatbank8_a_air        0\n",
       "primary_cleaner.state.floatbank8_a_level      0\n",
       "primary_cleaner.state.floatbank8_b_air        0\n",
       "primary_cleaner.state.floatbank8_b_level      0\n",
       "primary_cleaner.state.floatbank8_c_air        0\n",
       "primary_cleaner.state.floatbank8_c_level      0\n",
       "primary_cleaner.state.floatbank8_d_air        0\n",
       "primary_cleaner.state.floatbank8_d_level      0\n",
       "rougher.input.feed_ag                         0\n",
       "rougher.input.feed_pb                         0\n",
       "rougher.input.feed_rate                       0\n",
       "rougher.input.feed_size                       0\n",
       "rougher.input.feed_sol                        0\n",
       "rougher.input.feed_au                         0\n",
       "rougher.input.floatbank10_sulfate             0\n",
       "rougher.input.floatbank10_xanthate            0\n",
       "rougher.input.floatbank11_sulfate             0\n",
       "rougher.input.floatbank11_xanthate            0\n",
       "rougher.state.floatbank10_a_air               0\n",
       "rougher.state.floatbank10_a_level             0\n",
       "rougher.state.floatbank10_b_air               0\n",
       "rougher.state.floatbank10_b_level             0\n",
       "rougher.state.floatbank10_c_air               0\n",
       "rougher.state.floatbank10_c_level             0\n",
       "rougher.state.floatbank10_d_air               0\n",
       "rougher.state.floatbank10_d_level             0\n",
       "rougher.state.floatbank10_e_air               0\n",
       "rougher.state.floatbank10_e_level             0\n",
       "rougher.state.floatbank10_f_air               0\n",
       "rougher.state.floatbank10_f_level             0\n",
       "secondary_cleaner.state.floatbank2_a_air      0\n",
       "secondary_cleaner.state.floatbank2_a_level    0\n",
       "secondary_cleaner.state.floatbank2_b_air      0\n",
       "secondary_cleaner.state.floatbank2_b_level    0\n",
       "secondary_cleaner.state.floatbank3_a_air      0\n",
       "secondary_cleaner.state.floatbank3_a_level    0\n",
       "secondary_cleaner.state.floatbank3_b_air      0\n",
       "secondary_cleaner.state.floatbank3_b_level    0\n",
       "secondary_cleaner.state.floatbank4_a_air      0\n",
       "secondary_cleaner.state.floatbank4_a_level    0\n",
       "secondary_cleaner.state.floatbank4_b_air      0\n",
       "secondary_cleaner.state.floatbank4_b_level    0\n",
       "secondary_cleaner.state.floatbank5_a_air      0\n",
       "secondary_cleaner.state.floatbank5_a_level    0\n",
       "secondary_cleaner.state.floatbank5_b_air      0\n",
       "secondary_cleaner.state.floatbank5_b_level    0\n",
       "secondary_cleaner.state.floatbank6_a_air      0\n",
       "secondary_cleaner.state.floatbank6_a_level    0\n",
       "rougher.output.recovery                       0\n",
       "final.output.recovery                         0\n",
       "dtype: int64"
      ]
     },
     "execution_count": 22,
     "metadata": {},
     "output_type": "execute_result"
    }
   ],
   "source": [
    "test_data.isna().sum()"
   ]
  },
  {
   "cell_type": "code",
   "execution_count": 23,
   "metadata": {},
   "outputs": [
    {
     "data": {
      "text/plain": [
       "date                                          0\n",
       "final.output.concentrate_ag                   0\n",
       "final.output.concentrate_pb                   0\n",
       "final.output.concentrate_sol                  0\n",
       "final.output.concentrate_au                   0\n",
       "                                             ..\n",
       "secondary_cleaner.state.floatbank5_a_level    0\n",
       "secondary_cleaner.state.floatbank5_b_air      0\n",
       "secondary_cleaner.state.floatbank5_b_level    0\n",
       "secondary_cleaner.state.floatbank6_a_air      0\n",
       "secondary_cleaner.state.floatbank6_a_level    0\n",
       "Length: 87, dtype: int64"
      ]
     },
     "execution_count": 23,
     "metadata": {},
     "output_type": "execute_result"
    }
   ],
   "source": [
    "full_data.isna().sum()"
   ]
  },
  {
   "cell_type": "markdown",
   "metadata": {},
   "source": [
    "Пропуски заполнены, явных дубликатов нет, но сам столбец даты теперь не потребуется для построения и обучения моделей, от него лучше избавится на тестовой и обучаемой выборке"
   ]
  },
  {
   "cell_type": "code",
   "execution_count": 24,
   "metadata": {},
   "outputs": [],
   "source": [
    "train_data = train_data.drop('date', axis=1)\n",
    "test_data = test_data.drop('date', axis=1)"
   ]
  },
  {
   "cell_type": "markdown",
   "metadata": {},
   "source": [
    "### Итог подготовки данных"
   ]
  },
  {
   "cell_type": "markdown",
   "metadata": {},
   "source": [
    "- Были открыты и описаны данные датасетов\n",
    "- Проведена предобработка данных: заполнение пропусков\n",
    "- Был измененет тип date\n",
    "- Столбец date был удален для дальнейшего обучения модели"
   ]
  },
  {
   "cell_type": "markdown",
   "metadata": {},
   "source": [
    "## Анализ данных"
   ]
  },
  {
   "cell_type": "markdown",
   "metadata": {},
   "source": [
    "### Посмотрим, как меняется концентрация металлов (Au, Ag, Pb) на различных этапах очистки"
   ]
  },
  {
   "cell_type": "markdown",
   "metadata": {},
   "source": [
    "**Распределение металлов до флотации**"
   ]
  },
  {
   "cell_type": "code",
   "execution_count": 25,
   "metadata": {},
   "outputs": [
    {
     "data": {
      "text/plain": [
       "Text(0, 0.5, 'Частота')"
      ]
     },
     "execution_count": 25,
     "metadata": {},
     "output_type": "execute_result"
    },
    {
     "data": {
      "image/png": "[encoded data removed]",
      "text/plain": [
       "<Figure size 1080x576 with 1 Axes>"
      ]
     },
     "metadata": {
      "needs_background": "light"
     },
     "output_type": "display_data"
    }
   ],
   "source": [
    "plt.figure(figsize=(15,8))\n",
    "\n",
    "sns.distplot(full_data[full_data['rougher.input.feed_ag']>0.03]['rougher.input.feed_ag'],bins=30,label='rougher.input.feed_ag')\n",
    "sns.distplot(full_data[full_data['rougher.input.feed_pb']>0.03]['rougher.input.feed_pb'],bins=30,label='rougher.input.feed_pb')\n",
    "sns.distplot(full_data[full_data['rougher.input.feed_au']>0.03]['rougher.input.feed_au'],bins=30,label='rougher.input.feed_au')\n",
    "\n",
    "plt.text(7,0.24,round(full_data['rougher.input.feed_ag'].mean(),2),fontsize=12)\n",
    "plt.text(4,0.38,round(full_data['rougher.input.feed_pb'].mean(),2),fontsize=12)\n",
    "plt.text(6,0.21,round(full_data['rougher.input.feed_au'].mean(),2),fontsize=12)\n",
    "\n",
    "plt.legend()\n",
    "plt.title('Концентрация металлов до флотации')\n",
    "plt.xlabel(\"Концентрация металлов %\")\n",
    "plt.ylabel(\"Частота\")"
   ]
  },
  {
   "cell_type": "markdown",
   "metadata": {},
   "source": [
    "**Распределение металлов во время флотации**"
   ]
  },
  {
   "cell_type": "code",
   "execution_count": 26,
   "metadata": {},
   "outputs": [
    {
     "data": {
      "text/plain": [
       "Text(0, 0.5, 'Частота')"
      ]
     },
     "execution_count": 26,
     "metadata": {},
     "output_type": "execute_result"
    },
    {
     "data": {
      "image/png": "[encoded data removed]",
      "text/plain": [
       "<Figure size 1008x576 with 1 Axes>"
      ]
     },
     "metadata": {
      "needs_background": "light"
     },
     "output_type": "display_data"
    }
   ],
   "source": [
    "plt.figure(figsize=(14,8))\n",
    "\n",
    "sns.distplot(full_data[full_data['rougher.output.concentrate_ag']>0.03]['rougher.output.concentrate_ag'],bins=30,label='rougher.output.concentrate_ag')\n",
    "sns.distplot(full_data[full_data['rougher.output.concentrate_pb']>0.03]['rougher.output.concentrate_pb'],bins=30,label='rougher.output.concentrate_pb')\n",
    "sns.distplot(full_data[full_data['rougher.output.concentrate_au']>0.03]['rougher.output.concentrate_au'],bins=30,label='rougher.output.concentrate_au')\n",
    "\n",
    "plt.text(11,0.18,round(full_data['rougher.output.concentrate_ag'].mean(),2),fontsize=12)\n",
    "plt.text(8,0.33,round(full_data['rougher.output.concentrate_pb'].mean(),2),fontsize=12)\n",
    "plt.text(20,0.21,round(full_data['rougher.output.concentrate_au'].mean(),2),fontsize=12)\n",
    "\n",
    "plt.legend()\n",
    "plt.title('Концентрация металлов во время флотации')\n",
    "plt.xlabel(\"Концентрация металлов %\")\n",
    "plt.ylabel(\"Частота\")"
   ]
  },
  {
   "cell_type": "markdown",
   "metadata": {},
   "source": [
    "**Распределение металлов во время первичной очистки**"
   ]
  },
  {
   "cell_type": "code",
   "execution_count": 27,
   "metadata": {},
   "outputs": [
    {
     "data": {
      "text/plain": [
       "Text(0, 0.5, 'Частота')"
      ]
     },
     "execution_count": 27,
     "metadata": {},
     "output_type": "execute_result"
    },
    {
     "data": {
      "image/png": "[encoded data removed]",
      "text/plain": [
       "<Figure size 1080x576 with 1 Axes>"
      ]
     },
     "metadata": {
      "needs_background": "light"
     },
     "output_type": "display_data"
    }
   ],
   "source": [
    "plt.figure(figsize=(15,8))\n",
    "sns.distplot(full_data[full_data['primary_cleaner.output.concentrate_ag']>0.3]['primary_cleaner.output.concentrate_ag'],bins=30,label='primary_cleaner.output.concentrate_ag')\n",
    "sns.distplot(full_data[full_data['primary_cleaner.output.concentrate_pb']>0.01]['primary_cleaner.output.concentrate_pb'],bins=30,label='primary_cleaner.output.concentrate_pb')\n",
    "sns.distplot(full_data[full_data['primary_cleaner.output.concentrate_au']>0.01]['primary_cleaner.output.concentrate_au'],bins=30,label='primary_cleaner.output.concentrate_au')\n",
    "\n",
    "plt.text(8,0.22,round(full_data['primary_cleaner.output.concentrate_ag'].mean(),2),fontsize=12)\n",
    "plt.text(8,0.24,round(full_data['primary_cleaner.output.concentrate_pb'].mean(),2),fontsize=12)\n",
    "plt.text(32,0.12,round(full_data['primary_cleaner.output.concentrate_au'].mean(),2),fontsize=12)\n",
    "\n",
    "plt.legend()\n",
    "plt.title('Концентрация металлов на этапе первичной очистки ')\n",
    "plt.xlabel(\"Концентрация металлов %\")\n",
    "plt.ylabel(\"Частота\")"
   ]
  },
  {
   "cell_type": "markdown",
   "metadata": {},
   "source": [
    "**Распределение металлов во время финальной очистки**"
   ]
  },
  {
   "cell_type": "code",
   "execution_count": 28,
   "metadata": {},
   "outputs": [
    {
     "data": {
      "text/plain": [
       "Text(0, 0.5, 'Частота')"
      ]
     },
     "execution_count": 28,
     "metadata": {},
     "output_type": "execute_result"
    },
    {
     "data": {
      "image/png": "[encoded data removed]",
      "text/plain": [
       "<Figure size 1080x576 with 1 Axes>"
      ]
     },
     "metadata": {
      "needs_background": "light"
     },
     "output_type": "display_data"
    }
   ],
   "source": [
    "plt.figure(figsize=(15,8))\n",
    "sns.distplot(full_data[full_data['final.output.concentrate_ag']>0.03]['final.output.concentrate_ag'],bins=30,label='final.output.concentrate_ag')\n",
    "sns.distplot(full_data[full_data['final.output.concentrate_pb']>0.03]['final.output.concentrate_pb'],bins=30,label='final.output.concentrate_pb')\n",
    "sns.distplot(full_data[full_data['final.output.concentrate_au']>0.03]['final.output.concentrate_au'],bins=30,label='final.output.concentrate_au')\n",
    "\n",
    "plt.text(5,0.32,round(full_data['final.output.concentrate_ag'].mean(),2),fontsize=12)\n",
    "plt.text(8,0.30,round(full_data['final.output.concentrate_pb'].mean(),2),fontsize=12)\n",
    "plt.text(45,0.21,round(full_data['final.output.concentrate_au'].mean(),2),fontsize=12)\n",
    "\n",
    "plt.legend()\n",
    "plt.title('Концентрация металлов на этапе финальной очистки ')\n",
    "plt.xlabel(\"Концентрация металлов %\")\n",
    "plt.ylabel(\"Частота\")"
   ]
  },
  {
   "cell_type": "markdown",
   "metadata": {},
   "source": [
    "- По распределению можно увидеть, что оно меняется на каждом этапе обработки. \n",
    "- Среднее значение концентрации золота после первичной очистки было 32%. \n",
    "- После финальной очистки значение стало 44%. "
   ]
  },
  {
   "cell_type": "markdown",
   "metadata": {},
   "source": [
    "### Сравним распределения размеров гранул сырья на обучающей и тестовой выборках"
   ]
  },
  {
   "cell_type": "markdown",
   "metadata": {},
   "source": [
    "**Размер гранул сырья гранул сырья перед флотацией**"
   ]
  },
  {
   "cell_type": "code",
   "execution_count": 29,
   "metadata": {},
   "outputs": [
    {
     "data": {
      "text/plain": [
       "Text(0, 0.5, 'Частота')"
      ]
     },
     "execution_count": 29,
     "metadata": {},
     "output_type": "execute_result"
    },
    {
     "data": {
      "image/png": "[encoded data removed]",
      "text/plain": [
       "<Figure size 1080x576 with 1 Axes>"
      ]
     },
     "metadata": {
      "needs_background": "light"
     },
     "output_type": "display_data"
    }
   ],
   "source": [
    "plt.figure(figsize=(15,8))\n",
    "sns.distplot(train_data['rougher.input.feed_size'],label='train rougher.input.feed_size')\n",
    "sns.distplot(test_data['rougher.input.feed_size'],label='test rougher.input.feed_size')\n",
    "\n",
    "plt.text(8,0.038,round(train_data['rougher.input.feed_size'].mean(),2),fontsize=12)\n",
    "plt.text(6,0.045,round(test_data['rougher.input.feed_size'].mean(),2),fontsize=12)\n",
    "\n",
    "plt.legend()\n",
    "plt.title('Размер гранул сырья гранул сырья перед флотацией')\n",
    "plt.xlabel('Размер гранул')\n",
    "plt.ylabel('Частота')"
   ]
  },
  {
   "cell_type": "markdown",
   "metadata": {},
   "source": [
    "**Размер гранул сырья гранул сырья после флотации**"
   ]
  },
  {
   "cell_type": "code",
   "execution_count": 30,
   "metadata": {},
   "outputs": [
    {
     "data": {
      "text/plain": [
       "Text(0, 0.5, 'Частота')"
      ]
     },
     "execution_count": 30,
     "metadata": {},
     "output_type": "execute_result"
    },
    {
     "data": {
      "image/png": "[encoded data removed]",
      "text/plain": [
       "<Figure size 1080x576 with 1 Axes>"
      ]
     },
     "metadata": {
      "needs_background": "light"
     },
     "output_type": "display_data"
    }
   ],
   "source": [
    "plt.figure(figsize=(15,8))\n",
    "sns.distplot(train_data['primary_cleaner.input.feed_size'],label='train primary_cleaner.input.feed_size')\n",
    "sns.distplot(test_data['primary_cleaner.input.feed_size'],label='test primary_cleaner.input.feed_size')\n",
    "\n",
    "plt.text(8,0.80,round(train_data['primary_cleaner.input.feed_size'].mean(),2),fontsize=12)\n",
    "plt.text(6,0.70,round(test_data['primary_cleaner.input.feed_size'].mean(),2),fontsize=12)\n",
    "\n",
    "plt.legend()\n",
    "plt.title('Размер гранул сырья гранул сырья после флотации')\n",
    "plt.xlabel('Размер гранул')\n",
    "plt.ylabel('Частота')"
   ]
  },
  {
   "cell_type": "markdown",
   "metadata": {},
   "source": [
    "Наглядно видно, что выборки совпадают. Тестовую выборку можно назвать репрезентативной, наличие близости параметров всей генеральной совокупности"
   ]
  },
  {
   "cell_type": "markdown",
   "metadata": {},
   "source": [
    "### Исследуем суммарную концентрацию всех веществ на разных стадиях"
   ]
  },
  {
   "cell_type": "markdown",
   "metadata": {},
   "source": [
    "Суммарная концентрация исходного сырья"
   ]
  },
  {
   "cell_type": "code",
   "execution_count": 31,
   "metadata": {},
   "outputs": [],
   "source": [
    "full_data['sum_crude']=full_data['rougher.input.feed_ag']+full_data['rougher.input.feed_pb']+full_data['rougher.input.feed_sol']+full_data['rougher.input.feed_au']\n"
   ]
  },
  {
   "cell_type": "markdown",
   "metadata": {},
   "source": [
    "Суммарная концентрация после флотации"
   ]
  },
  {
   "cell_type": "code",
   "execution_count": 32,
   "metadata": {},
   "outputs": [],
   "source": [
    "full_data['sum_concentrate_rougher']=full_data['rougher.output.concentrate_ag']+full_data['rougher.output.concentrate_pb']+full_data['rougher.output.concentrate_sol']+full_data['rougher.output.concentrate_au']\n"
   ]
  },
  {
   "cell_type": "markdown",
   "metadata": {},
   "source": [
    "Суммарная концентрация после первичной очистки"
   ]
  },
  {
   "cell_type": "code",
   "execution_count": 33,
   "metadata": {},
   "outputs": [],
   "source": [
    "full_data['sum_primary_cleaner_output_concentrate']=full_data['primary_cleaner.output.concentrate_ag']+full_data['primary_cleaner.output.concentrate_pb']+full_data['primary_cleaner.output.concentrate_sol']+full_data['primary_cleaner.output.concentrate_au']\n"
   ]
  },
  {
   "cell_type": "markdown",
   "metadata": {},
   "source": [
    "Суммарная концентрация финальной очистки"
   ]
  },
  {
   "cell_type": "code",
   "execution_count": 34,
   "metadata": {},
   "outputs": [],
   "source": [
    "full_data['sum_final_output_concentrate']=full_data['final.output.concentrate_ag']+full_data['final.output.concentrate_pb']+full_data['final.output.concentrate_sol']+full_data['final.output.concentrate_au']\n"
   ]
  },
  {
   "cell_type": "markdown",
   "metadata": {},
   "source": [
    "Суммарная концентрация на всех этапах"
   ]
  },
  {
   "cell_type": "code",
   "execution_count": 35,
   "metadata": {},
   "outputs": [],
   "source": [
    "sum_concentrate=['sum_concentrate_rougher','sum_primary_cleaner_output_concentrate','sum_final_output_concentrate']"
   ]
  },
  {
   "cell_type": "code",
   "execution_count": 36,
   "metadata": {},
   "outputs": [
    {
     "data": {
      "text/plain": [
       "Text(0, 0.5, 'Частота')"
      ]
     },
     "execution_count": 36,
     "metadata": {},
     "output_type": "execute_result"
    },
    {
     "data": {
      "image/png": "[encoded data removed]",
      "text/plain": [
       "<Figure size 1008x576 with 1 Axes>"
      ]
     },
     "metadata": {
      "needs_background": "light"
     },
     "output_type": "display_data"
    }
   ],
   "source": [
    "plt.figure(figsize=(14,8))\n",
    "sns.distplot(full_data[full_data['sum_concentrate_rougher']>0.04]['sum_concentrate_rougher'],bins=80,label='sum_concentrate_rougher')\n",
    "sns.distplot(full_data[full_data['sum_primary_cleaner_output_concentrate']>0.04]['sum_primary_cleaner_output_concentrate'],bins=80,label='sum_primary_cleaner_output_concentrate')\n",
    "sns.distplot(full_data[full_data['sum_final_output_concentrate']>0.04]['sum_final_output_concentrate'],bins=80,label='sum_final_output_concentrate')\n",
    "\n",
    "sns.distplot(full_data[full_data['sum_crude']>0.04]['sum_crude'],bins=80,label='sum_crude_before_rougher')\n",
    "\n",
    "plt.legend()\n",
    "plt.title('Суммарная концентрация на всех этапах')\n",
    "plt.xlabel(\"Суммарная концентрация веществ\")\n",
    "plt.ylabel(\"Частота\")"
   ]
  },
  {
   "cell_type": "markdown",
   "metadata": {},
   "source": [
    "На графике видим выбросы с минимальной частотой, в диапазоне от 0 до 40, от них можно избавится"
   ]
  },
  {
   "cell_type": "code",
   "execution_count": 37,
   "metadata": {},
   "outputs": [],
   "source": [
    "full_data=full_data[full_data['sum_final_output_concentrate']>40]\n",
    "full_data=full_data[full_data['sum_primary_cleaner_output_concentrate']>40]\n",
    "full_data=full_data[full_data['sum_concentrate_rougher']>40]\n",
    "full_data=full_data[full_data['sum_crude']>40]"
   ]
  },
  {
   "cell_type": "code",
   "execution_count": 38,
   "metadata": {},
   "outputs": [
    {
     "data": {
      "text/plain": [
       "Text(0, 0.5, 'Частота')"
      ]
     },
     "execution_count": 38,
     "metadata": {},
     "output_type": "execute_result"
    },
    {
     "data": {
      "image/png": "[encoded data removed]",
      "text/plain": [
       "<Figure size 1008x576 with 1 Axes>"
      ]
     },
     "metadata": {
      "needs_background": "light"
     },
     "output_type": "display_data"
    }
   ],
   "source": [
    "plt.figure(figsize=(14,8))\n",
    "sns.distplot(full_data[full_data['sum_concentrate_rougher']>0.04]['sum_concentrate_rougher'],bins=80,label='sum_concentrate_rougher')\n",
    "sns.distplot(full_data[full_data['sum_primary_cleaner_output_concentrate']>0.04]['sum_primary_cleaner_output_concentrate'],bins=80,label='sum_primary_cleaner_output_concentrate')\n",
    "sns.distplot(full_data[full_data['sum_final_output_concentrate']>0.04]['sum_final_output_concentrate'],bins=80,label='sum_final_output_concentrate')\n",
    "sns.distplot(full_data[full_data['sum_crude']>0.04]['sum_crude'],bins=80,label='sum_crude_before_rougher')\n",
    "\n",
    "plt.legend()\n",
    "plt.title('Суммарная концентрация на всех этапах (без выбросов)')\n",
    "plt.xlabel(\"Суммарная концентрация веществ\")\n",
    "plt.ylabel(\"Частота\")"
   ]
  },
  {
   "cell_type": "markdown",
   "metadata": {},
   "source": [
    "Смотрится значительно лучше, теперь избавимся от выбросов на обучаюшейся выборке"
   ]
  },
  {
   "cell_type": "markdown",
   "metadata": {},
   "source": [
    "Суммарная концентрация исходного сырья"
   ]
  },
  {
   "cell_type": "code",
   "execution_count": 39,
   "metadata": {},
   "outputs": [],
   "source": [
    "train_data['sum_crude']=train_data['rougher.input.feed_ag']+train_data['rougher.input.feed_pb']+train_data['rougher.input.feed_sol']+train_data['rougher.input.feed_au']\n"
   ]
  },
  {
   "cell_type": "markdown",
   "metadata": {},
   "source": [
    "Суммарная концентрация после флотации"
   ]
  },
  {
   "cell_type": "code",
   "execution_count": 40,
   "metadata": {},
   "outputs": [],
   "source": [
    "train_data['sum_concentrate_rougher']=train_data['rougher.output.concentrate_ag']+full_data['rougher.output.concentrate_pb']+train_data['rougher.output.concentrate_sol']+train_data['rougher.output.concentrate_au']"
   ]
  },
  {
   "cell_type": "markdown",
   "metadata": {},
   "source": [
    "Суммарная концентрация после первичной очистки"
   ]
  },
  {
   "cell_type": "code",
   "execution_count": 41,
   "metadata": {},
   "outputs": [],
   "source": [
    "train_data['sum_primary_cleaner_output_concentrate']=train_data['primary_cleaner.output.concentrate_ag']+train_data['primary_cleaner.output.concentrate_pb']+train_data['primary_cleaner.output.concentrate_sol']+train_data['primary_cleaner.output.concentrate_au']"
   ]
  },
  {
   "cell_type": "markdown",
   "metadata": {},
   "source": [
    "Суммарная концентрация финальной очистки"
   ]
  },
  {
   "cell_type": "code",
   "execution_count": 42,
   "metadata": {},
   "outputs": [],
   "source": [
    "train_data['sum_final_output_concentrate']=train_data['final.output.concentrate_ag']+train_data['final.output.concentrate_pb']+train_data['final.output.concentrate_sol']+train_data['final.output.concentrate_au']"
   ]
  },
  {
   "cell_type": "code",
   "execution_count": 43,
   "metadata": {},
   "outputs": [],
   "source": [
    "train_data=train_data[train_data['sum_final_output_concentrate']>40]\n",
    "train_data=train_data[train_data['sum_primary_cleaner_output_concentrate']>40]\n",
    "train_data=train_data[train_data['sum_concentrate_rougher']>40]\n",
    "full_data=full_data[full_data['sum_crude']>40]"
   ]
  },
  {
   "cell_type": "code",
   "execution_count": 44,
   "metadata": {},
   "outputs": [
    {
     "data": {
      "text/plain": [
       "Text(0, 0.5, 'Частота')"
      ]
     },
     "execution_count": 44,
     "metadata": {},
     "output_type": "execute_result"
    },
    {
     "data": {
      "image/png": "[encoded data removed]",
      "text/plain": [
       "<Figure size 1008x576 with 1 Axes>"
      ]
     },
     "metadata": {
      "needs_background": "light"
     },
     "output_type": "display_data"
    }
   ],
   "source": [
    "plt.figure(figsize=(14,8))\n",
    "sns.distplot(train_data[train_data['sum_concentrate_rougher']>0.04]['sum_concentrate_rougher'],bins=80,label='sum_concentrate_rougher')\n",
    "sns.distplot(train_data[train_data['sum_primary_cleaner_output_concentrate']>0.04]['sum_primary_cleaner_output_concentrate'],bins=80,label='sum_primary_cleaner_output_concentrate')\n",
    "sns.distplot(train_data[train_data['sum_final_output_concentrate']>0.04]['sum_final_output_concentrate'],bins=80,label='sum_final_output_concentrate')\n",
    "sns.distplot(train_data[train_data['sum_crude']>0.04]['sum_crude'],bins=80,label='sum_crude_before_rougher')\n",
    "\n",
    "plt.legend()\n",
    "plt.title('Суммарная концентрация на всех этапах (без выбросов)')\n",
    "plt.xlabel(\"Суммарная концентрация веществ\")\n",
    "plt.ylabel(\"Частота\")"
   ]
  },
  {
   "cell_type": "markdown",
   "metadata": {},
   "source": [
    "### Итоги анализа данных"
   ]
  },
  {
   "cell_type": "markdown",
   "metadata": {},
   "source": [
    "- Концентрация золота увеличивается по мере прохождения этапов очистки\n",
    "- Распределения гранул сырья почти не имеет отлий на обучающей и тестовой выборках\n",
    "- При рассмотрении концентрации веществ на всех этапах были вявлены выбросы (аномалии), которые мы удалили для улучшения качества будущих моделей"
   ]
  },
  {
   "cell_type": "markdown",
   "metadata": {},
   "source": [
    "## Модель"
   ]
  },
  {
   "cell_type": "markdown",
   "metadata": {},
   "source": [
    "### Напишим функцию для вычисления итоговой sMAPE"
   ]
  },
  {
   "cell_type": "markdown",
   "metadata": {},
   "source": [
    "Для решения задачи введём новую метрику качества — sMAPE (англ. Symmetric Mean Absolute Percentage Error, «симметричное среднее абсолютное процентное отклонение»)."
   ]
  },
  {
   "cell_type": "markdown",
   "metadata": {},
   "source": [
    "**Функция для вычисления sMape**"
   ]
  },
  {
   "cell_type": "code",
   "execution_count": 45,
   "metadata": {},
   "outputs": [],
   "source": [
    "def smape_func(target, predict):\n",
    "    smape = abs(target - predict)/((abs(target)+abs(predict))/2)*100\n",
    "    smape = smape.fillna(value = 0)\n",
    "    smape = np.mean(smape)\n",
    "    return smape"
   ]
  },
  {
   "cell_type": "code",
   "execution_count": 46,
   "metadata": {},
   "outputs": [],
   "source": [
    "smape_scorer = make_scorer(smape_func, greater_is_better = False)"
   ]
  },
  {
   "cell_type": "markdown",
   "metadata": {},
   "source": [
    "**Функция для вычисления итогового sMape**"
   ]
  },
  {
   "cell_type": "code",
   "execution_count": 47,
   "metadata": {},
   "outputs": [],
   "source": [
    "def summ_smape_func(smape_rougher,smape_final):\n",
    "    return (0.25*smape_rougher + 0.75*smape_final)"
   ]
  },
  {
   "cell_type": "markdown",
   "metadata": {},
   "source": [
    "### Обучим разные модели и оценим их качество кросс-валидацией. Лучшую модель проверим на тестовой выборке"
   ]
  },
  {
   "cell_type": "markdown",
   "metadata": {},
   "source": [
    "Сперва удаляем целевые признаки из из тренировочной выборки"
   ]
  },
  {
   "cell_type": "code",
   "execution_count": 48,
   "metadata": {},
   "outputs": [],
   "source": [
    "miss_list_2 = set(train_data.columns) - set(test_data.columns)"
   ]
  },
  {
   "cell_type": "code",
   "execution_count": 49,
   "metadata": {},
   "outputs": [],
   "source": [
    "delete_target_signs = miss_list_2 - set(['rougher.output.recovery','final.output.recovery'])"
   ]
  },
  {
   "cell_type": "code",
   "execution_count": 50,
   "metadata": {},
   "outputs": [],
   "source": [
    "train_data = train_data.drop(columns=delete_target_signs, axis=1)"
   ]
  },
  {
   "cell_type": "markdown",
   "metadata": {},
   "source": [
    "Сохраним данные для обучения моделей"
   ]
  },
  {
   "cell_type": "code",
   "execution_count": 51,
   "metadata": {},
   "outputs": [],
   "source": [
    "features_train = train_data.drop(['rougher.output.recovery','final.output.recovery'], axis=1)\n",
    "target_rougher = train_data['rougher.output.recovery']\n",
    "target_final = train_data['final.output.recovery']\n",
    "state = RandomState(1234)"
   ]
  },
  {
   "cell_type": "markdown",
   "metadata": {},
   "source": [
    "Оценим модели кросс валидацией"
   ]
  },
  {
   "cell_type": "code",
   "execution_count": 52,
   "metadata": {},
   "outputs": [],
   "source": [
    "list_with_scores = {}"
   ]
  },
  {
   "cell_type": "markdown",
   "metadata": {},
   "source": [
    "**Модель LinearRegression**"
   ]
  },
  {
   "cell_type": "code",
   "execution_count": 53,
   "metadata": {},
   "outputs": [
    {
     "name": "stdout",
     "output_type": "stream",
     "text": [
      "CPU times: user 855 ms, sys: 1.81 s, total: 2.66 s\n",
      "Wall time: 2.57 s\n"
     ]
    }
   ],
   "source": [
    "%%time\n",
    "model_lr_rougher = LinearRegression()\n",
    "smape_rougher = cross_val_score(model_lr_rougher,\n",
    "                          features_train,\n",
    "                          target_rougher,\n",
    "                          scoring=smape_scorer,\n",
    "                          cv=5)\n",
    "final_smape_rougher = smape_rougher.mean()\n",
    "model_lr_final = LinearRegression()\n",
    "smape_final = cross_val_score(model_lr_final,\n",
    "                        features_train,\n",
    "                        target_final,\n",
    "                        scoring=smape_scorer,\n",
    "                        cv=5)\n",
    "final_smape_final = smape_final.mean()\n",
    "result_smape = summ_smape_func(final_smape_rougher, final_smape_final)*(-1)\n",
    "list_with_scores['LR'] = [result_smape]"
   ]
  },
  {
   "cell_type": "markdown",
   "metadata": {},
   "source": [
    "Модель DecisionTreeRegressor"
   ]
  },
  {
   "cell_type": "code",
   "execution_count": 54,
   "metadata": {},
   "outputs": [
    {
     "name": "stdout",
     "output_type": "stream",
     "text": [
      "CPU times: user 23.3 s, sys: 130 ms, total: 23.5 s\n",
      "Wall time: 23.5 s\n"
     ]
    }
   ],
   "source": [
    "%%time\n",
    "best_result_for_dt = 100\n",
    "best_param_for_dt = 0\n",
    "for n in range(1, 10, 1):\n",
    "    model_dt_rougher = DecisionTreeRegressor(max_depth=n, random_state=state)\n",
    "    smape_rougher = cross_val_score(model_dt_rougher,\n",
    "                              features_train,\n",
    "                              target_rougher,\n",
    "                              scoring=smape_scorer,\n",
    "                              cv=5)\n",
    "    final_smape_rougher = smape_rougher.mean()\n",
    "\n",
    "    model_dt_final = DecisionTreeRegressor(max_depth=n, random_state=state)\n",
    "    smape_final = cross_val_score(model_dt_final, \n",
    "                                  features_train,\n",
    "                                  target_final,\n",
    "                                  scoring=smape_scorer,\n",
    "                                  cv=5)\n",
    "    final_smape_final = smape_final.mean()\n",
    "    result_smape = summ_smape_func(final_smape_rougher, final_smape_final)*(-1)\n",
    "    if result_smape < best_result_for_dt:\n",
    "        best_result_for_dt = result_smape\n",
    "        best_param_for_dt = n\n",
    "list_with_scores['DT'] = [best_result_for_dt, best_param_for_dt]"
   ]
  },
  {
   "cell_type": "markdown",
   "metadata": {},
   "source": [
    "Модель RandomForestRegressor"
   ]
  },
  {
   "cell_type": "code",
   "execution_count": 55,
   "metadata": {},
   "outputs": [
    {
     "name": "stdout",
     "output_type": "stream",
     "text": [
      "CPU times: user 11min 33s, sys: 1.35 s, total: 11min 34s\n",
      "Wall time: 11min 34s\n"
     ]
    }
   ],
   "source": [
    "%%time\n",
    "best_model_for_rf = 100\n",
    "best_param_for_rf = 0\n",
    "for n in range(10, 100, 30):\n",
    "    for d in range(2,10,2):\n",
    "        model_rf_rougher = RandomForestRegressor(n_estimators=n, max_depth=d, random_state=state)\n",
    "        smape_rougher = cross_val_score(model_rf_rougher,\n",
    "                                  features_train,\n",
    "                                  target_rougher,\n",
    "                                  scoring=smape_scorer,\n",
    "                                  cv=5)\n",
    "        final_smape_rougher = smape_rougher.mean()\n",
    "\n",
    "        model_rf_final = RandomForestRegressor(n_estimators=n, max_depth=d, random_state=state)\n",
    "        smape_final = cross_val_score(model_rf_final,\n",
    "                                features_train,\n",
    "                                target_final,\n",
    "                                scoring=smape_scorer,\n",
    "                                cv=5)\n",
    "        final_smape_final = smape_final.mean()\n",
    "        result_smape = summ_smape_func(final_smape_rougher, final_smape_final)*(-1)\n",
    "        if result_smape < best_model_for_rf:\n",
    "            best_model_for_rf = result_smape\n",
    "            best_param_for_rf = [n,d]\n",
    "list_with_scores['RF'] = [best_model_for_rf, best_param_for_rf]"
   ]
  },
  {
   "cell_type": "code",
   "execution_count": 56,
   "metadata": {},
   "outputs": [
    {
     "name": "stdout",
     "output_type": "stream",
     "text": [
      "\n",
      "Модель LR показала результат - 9.988921813536562\n",
      "\n",
      "Модель DT показала результат - 8.349802120841108\n",
      "\n",
      "Модель RF показала результат - 8.063342875397806\n"
     ]
    }
   ],
   "source": [
    "for key in list_with_scores.keys():\n",
    "    print(f'\\nМодель {str(key).upper()} показала результат - {list_with_scores[key][0]}')"
   ]
  },
  {
   "cell_type": "markdown",
   "metadata": {},
   "source": [
    "**Лучшая модель это Случайный лес, применим ее на тестовой выборке**"
   ]
  },
  {
   "cell_type": "code",
   "execution_count": 57,
   "metadata": {},
   "outputs": [
    {
     "name": "stdout",
     "output_type": "stream",
     "text": [
      "\n",
      "Лучшие параметры n_estimators и max_depth [70, 4]\n"
     ]
    }
   ],
   "source": [
    "print('\\nЛучшие параметры n_estimators и max_depth', best_param_for_rf)"
   ]
  },
  {
   "cell_type": "raw",
   "metadata": {},
   "source": [
    "test_list = set(train_data.columns) - set(test_data.columns) - set(train_data.columns)\n",
    "print(len(test_list))\n",
    "print(test_list)"
   ]
  },
  {
   "cell_type": "raw",
   "metadata": {},
   "source": [
    "test_data = test_data.drop(columns=test_list, axis=1)"
   ]
  },
  {
   "cell_type": "markdown",
   "metadata": {},
   "source": [
    "Введем переменные "
   ]
  },
  {
   "cell_type": "code",
   "execution_count": 59,
   "metadata": {},
   "outputs": [],
   "source": [
    "features_test = test_data.drop(['rougher.output.recovery','final.output.recovery'], axis=1)\n",
    "target_rougher_test = test_data['rougher.output.recovery']\n",
    "target_final_test = test_data['final.output.recovery']"
   ]
  },
  {
   "cell_type": "markdown",
   "metadata": {},
   "source": [
    "Обучим модель на тестовой выборке"
   ]
  },
  {
   "cell_type": "code",
   "execution_count": 62,
   "metadata": {},
   "outputs": [],
   "source": [
    "model_test_rougher = RandomForestRegressor(n_estimators=70, max_depth=6, random_state=state)\n",
    "model_test_rougher.fit(features_train, target_rougher)\n",
    "predicted_rougher = model_test_rougher.predict(features_test)\n",
    "\n",
    "model_test_final = RandomForestRegressor(n_estimators=70, max_depth=6, random_state=state)\n",
    "model_test_final.fit(features_train, target_final)\n",
    "predicted_final = model_test_final.predict(features_test)"
   ]
  },
  {
   "cell_type": "code",
   "execution_count": 63,
   "metadata": {},
   "outputs": [],
   "source": [
    "smape_test_rougher = smape_func(target_rougher_test, predicted_rougher)\n",
    "smape_test_final = smape_func(target_final_test, predicted_final)\n",
    "final_smape_test = summ_smape_func(smape_test_rougher, smape_test_final)"
   ]
  },
  {
   "cell_type": "code",
   "execution_count": 64,
   "metadata": {},
   "outputs": [
    {
     "name": "stdout",
     "output_type": "stream",
     "text": [
      "\n",
      "sMape для тестовой выборки составляет - 9.233283647487944\n"
     ]
    }
   ],
   "source": [
    "print(f'\\nsMape для тестовой выборки составляет - {final_smape_test}')"
   ]
  },
  {
   "cell_type": "markdown",
   "metadata": {},
   "source": [
    "**Проверим полученную модель на адекватность**"
   ]
  },
  {
   "cell_type": "code",
   "execution_count": 65,
   "metadata": {},
   "outputs": [],
   "source": [
    "dummy_reg_rougher = DummyRegressor(strategy=\"mean\")\n",
    "dummy_reg_final = DummyRegressor(strategy=\"mean\")\n",
    "\n",
    "dummy_reg_rougher.fit(features_train, target_rougher)\n",
    "dummy_reg_final.fit(features_train, target_final)\n",
    "\n",
    "dummy_predict_rougher = dummy_reg_rougher.predict(features_test)\n",
    "dummy_predict_final = dummy_reg_final.predict(features_test)\n",
    "\n",
    "smape_dummy_rougher = smape_func(target_rougher_test, dummy_predict_rougher)\n",
    "smape_dummy_final = smape_func(target_final_test, dummy_predict_final)\n",
    "\n",
    "final_smape_dummy = summ_smape_func(smape_dummy_rougher, smape_dummy_final)"
   ]
  },
  {
   "cell_type": "code",
   "execution_count": 66,
   "metadata": {},
   "outputs": [
    {
     "name": "stdout",
     "output_type": "stream",
     "text": [
      "\n",
      "Показатель sMape для константной модели - 9.808578595961032\n"
     ]
    }
   ],
   "source": [
    "print(f'\\nПоказатель sMape для константной модели - {final_smape_dummy}')"
   ]
  },
  {
   "cell_type": "markdown",
   "metadata": {},
   "source": [
    "**Показатель тестовой модели меньше, чем показатели константной, что подтверждает хорошее качество полученной модели**"
   ]
  },
  {
   "cell_type": "markdown",
   "metadata": {},
   "source": [
    "## Общий вывод"
   ]
  },
  {
   "cell_type": "markdown",
   "metadata": {},
   "source": [
    "- Мы ознакомились с данными представленными в датасете\n",
    "- В процессе предобработки данных были заполнены пропуски и удалены аномальные значения\n",
    "- Анализ данных показал, что Концентрация золота увеличивается по мере прохождения этапов очистки\n",
    "- При анализе данных распределения гранул сырья почти не имеет отлий на обучающей и тестовой выборках\n",
    "- Нами были обычены модели, лучше всего показала себя модель Случайного леса\n",
    "- Лучшая модель была обучена на данных тестовой выборки\n",
    "- Итоговую модель проверили на адекватность"
   ]
  },
  {
   "cell_type": "markdown",
   "metadata": {},
   "source": [
    "## Чек-лист готовности проекта"
   ]
  },
  {
   "cell_type": "markdown",
   "metadata": {},
   "source": [
    "- [x]  Jupyter Notebook открыт\n",
    "- [x]  Весь код выполняется без ошибок\n",
    "- [x]  Ячейки с кодом расположены в порядке выполнения\n",
    "- [x]  Выполнен шаг 1: данные подготовлены\n",
    "    - [x]  Проверена формула вычисления эффективности обогащения\n",
    "    - [x]  Проанализированы признаки, недоступные в тестовой выборке\n",
    "    - [x]  Проведена предобработка данных\n",
    "- [x]  Выполнен шаг 2: данные проанализированы\n",
    "    - [x]  Исследовано изменение концентрации элементов на каждом этапе\n",
    "    - [x]  Проанализированы распределения размеров гранул на обучающей и тестовой выборках\n",
    "    - [x]  Исследованы суммарные концентрации\n",
    "- [x]  Выполнен шаг 3: построена модель прогнозирования\n",
    "    - [x]  Написана функция для вычисления итогового *sMAPE*\n",
    "    - [x]  Обучено и проверено несколько моделей\n",
    "    - [x]  Выбрана лучшая модель, её качество проверено на тестовой выборке"
   ]
  }
 ],
 "metadata": {
  "ExecuteTimeLog": [
   {
    "duration": 1501,
    "start_time": "2023-03-09T06:46:07.757Z"
   },
   {
    "duration": 4,
    "start_time": "2023-03-09T06:47:34.665Z"
   },
   {
    "duration": 1776,
    "start_time": "2023-03-09T06:47:57.060Z"
   },
   {
    "duration": 26,
    "start_time": "2023-03-09T06:50:50.535Z"
   },
   {
    "duration": 22,
    "start_time": "2023-03-09T06:50:55.958Z"
   },
   {
    "duration": 20,
    "start_time": "2023-03-09T06:51:00.309Z"
   },
   {
    "duration": 19,
    "start_time": "2023-03-09T06:51:15.109Z"
   },
   {
    "duration": 20,
    "start_time": "2023-03-09T06:51:47.733Z"
   },
   {
    "duration": 23,
    "start_time": "2023-03-09T06:52:00.821Z"
   },
   {
    "duration": 18,
    "start_time": "2023-03-09T06:52:11.878Z"
   },
   {
    "duration": 166,
    "start_time": "2023-03-09T07:07:21.136Z"
   },
   {
    "duration": 8,
    "start_time": "2023-03-09T07:08:54.867Z"
   },
   {
    "duration": 2,
    "start_time": "2023-03-09T07:15:08.186Z"
   },
   {
    "duration": 4,
    "start_time": "2023-03-09T07:15:10.981Z"
   },
   {
    "duration": 4,
    "start_time": "2023-03-09T07:16:25.757Z"
   },
   {
    "duration": 10,
    "start_time": "2023-03-09T07:35:50.194Z"
   },
   {
    "duration": 13,
    "start_time": "2023-03-09T07:36:43.984Z"
   },
   {
    "duration": 106,
    "start_time": "2023-03-09T07:37:15.565Z"
   },
   {
    "duration": 147,
    "start_time": "2023-03-09T07:37:24.684Z"
   },
   {
    "duration": 15,
    "start_time": "2023-03-09T07:37:34.181Z"
   },
   {
    "duration": 10,
    "start_time": "2023-03-09T07:38:02.427Z"
   },
   {
    "duration": 10,
    "start_time": "2023-03-09T07:38:21.517Z"
   },
   {
    "duration": 4,
    "start_time": "2023-03-09T07:39:17.053Z"
   },
   {
    "duration": 108,
    "start_time": "2023-03-09T07:39:20.253Z"
   },
   {
    "duration": 117,
    "start_time": "2023-03-09T07:40:12.245Z"
   },
   {
    "duration": 33,
    "start_time": "2023-03-09T07:40:17.331Z"
   },
   {
    "duration": 96,
    "start_time": "2023-03-09T07:40:19.854Z"
   },
   {
    "duration": 21,
    "start_time": "2023-03-09T07:48:32.091Z"
   },
   {
    "duration": 24,
    "start_time": "2023-03-09T07:49:13.624Z"
   },
   {
    "duration": 9,
    "start_time": "2023-03-09T07:49:39.096Z"
   },
   {
    "duration": 8,
    "start_time": "2023-03-09T07:50:25.388Z"
   },
   {
    "duration": 13,
    "start_time": "2023-03-09T07:50:29.584Z"
   },
   {
    "duration": 12,
    "start_time": "2023-03-09T07:56:58.777Z"
   },
   {
    "duration": 1487,
    "start_time": "2023-03-09T08:04:14.822Z"
   },
   {
    "duration": 756,
    "start_time": "2023-03-09T08:04:16.311Z"
   },
   {
    "duration": 28,
    "start_time": "2023-03-09T08:04:17.069Z"
   },
   {
    "duration": 45,
    "start_time": "2023-03-09T08:04:17.099Z"
   },
   {
    "duration": 32,
    "start_time": "2023-03-09T08:04:17.147Z"
   },
   {
    "duration": 18,
    "start_time": "2023-03-09T08:04:17.180Z"
   },
   {
    "duration": 17,
    "start_time": "2023-03-09T08:04:17.200Z"
   },
   {
    "duration": 22,
    "start_time": "2023-03-09T08:04:17.241Z"
   },
   {
    "duration": 9,
    "start_time": "2023-03-09T08:04:17.266Z"
   },
   {
    "duration": 3,
    "start_time": "2023-03-09T08:04:17.278Z"
   },
   {
    "duration": 41,
    "start_time": "2023-03-09T08:04:17.283Z"
   },
   {
    "duration": 6,
    "start_time": "2023-03-09T08:04:17.326Z"
   },
   {
    "duration": 14,
    "start_time": "2023-03-09T08:04:17.334Z"
   },
   {
    "duration": 7,
    "start_time": "2023-03-09T08:04:17.351Z"
   },
   {
    "duration": 16,
    "start_time": "2023-03-09T08:04:17.360Z"
   },
   {
    "duration": 12,
    "start_time": "2023-03-09T08:04:17.378Z"
   },
   {
    "duration": 146,
    "start_time": "2023-03-09T08:04:17.392Z"
   },
   {
    "duration": 24,
    "start_time": "2023-03-09T08:04:17.540Z"
   },
   {
    "duration": 115,
    "start_time": "2023-03-09T08:04:17.566Z"
   },
   {
    "duration": 26,
    "start_time": "2023-03-09T08:04:17.683Z"
   },
   {
    "duration": 8,
    "start_time": "2023-03-09T08:04:17.711Z"
   },
   {
    "duration": 203,
    "start_time": "2023-03-09T08:04:17.721Z"
   },
   {
    "duration": 15,
    "start_time": "2023-03-09T08:04:17.926Z"
   },
   {
    "duration": 15,
    "start_time": "2023-03-09T08:04:17.943Z"
   },
   {
    "duration": 79,
    "start_time": "2023-03-09T08:08:00.615Z"
   },
   {
    "duration": 165,
    "start_time": "2023-03-09T08:28:04.053Z"
   },
   {
    "duration": 1251,
    "start_time": "2023-03-09T08:28:39.836Z"
   },
   {
    "duration": 5,
    "start_time": "2023-03-09T08:29:24.069Z"
   },
   {
    "duration": 1682,
    "start_time": "2023-03-09T08:29:31.324Z"
   },
   {
    "duration": 1243,
    "start_time": "2023-03-09T08:33:48.974Z"
   },
   {
    "duration": 1349,
    "start_time": "2023-03-09T08:34:29.082Z"
   },
   {
    "duration": 1422,
    "start_time": "2023-03-09T08:34:47.287Z"
   },
   {
    "duration": 1264,
    "start_time": "2023-03-09T08:34:57.128Z"
   },
   {
    "duration": 1069,
    "start_time": "2023-03-09T08:35:12.494Z"
   },
   {
    "duration": 1292,
    "start_time": "2023-03-09T08:35:18.454Z"
   },
   {
    "duration": 925,
    "start_time": "2023-03-09T08:35:25.829Z"
   },
   {
    "duration": 1063,
    "start_time": "2023-03-09T08:35:31.270Z"
   },
   {
    "duration": 1035,
    "start_time": "2023-03-09T08:35:37.920Z"
   },
   {
    "duration": 968,
    "start_time": "2023-03-09T08:35:57.479Z"
   },
   {
    "duration": 72,
    "start_time": "2023-03-09T08:37:49.580Z"
   },
   {
    "duration": 1884,
    "start_time": "2023-03-09T08:39:09.911Z"
   },
   {
    "duration": 1403,
    "start_time": "2023-03-09T08:39:32.602Z"
   },
   {
    "duration": 615,
    "start_time": "2023-03-09T08:52:22.628Z"
   },
   {
    "duration": 810,
    "start_time": "2023-03-09T08:52:31.299Z"
   },
   {
    "duration": 534,
    "start_time": "2023-03-09T08:52:37.922Z"
   },
   {
    "duration": 1151,
    "start_time": "2023-03-09T08:53:02.010Z"
   },
   {
    "duration": 1459,
    "start_time": "2023-03-09T08:53:09.379Z"
   },
   {
    "duration": 713,
    "start_time": "2023-03-09T08:53:16.739Z"
   },
   {
    "duration": 1035,
    "start_time": "2023-03-09T08:54:11.108Z"
   },
   {
    "duration": 1048,
    "start_time": "2023-03-09T08:54:27.910Z"
   },
   {
    "duration": 558,
    "start_time": "2023-03-09T08:57:34.999Z"
   },
   {
    "duration": 582,
    "start_time": "2023-03-09T08:58:19.308Z"
   },
   {
    "duration": 561,
    "start_time": "2023-03-09T08:58:36.079Z"
   },
   {
    "duration": 742,
    "start_time": "2023-03-09T08:58:41.956Z"
   },
   {
    "duration": 530,
    "start_time": "2023-03-09T08:58:51.261Z"
   },
   {
    "duration": 541,
    "start_time": "2023-03-09T08:58:56.233Z"
   },
   {
    "duration": 1171,
    "start_time": "2023-03-09T09:04:47.015Z"
   },
   {
    "duration": 3,
    "start_time": "2023-03-09T09:05:25.054Z"
   },
   {
    "duration": 1339,
    "start_time": "2023-03-09T09:05:26.111Z"
   },
   {
    "duration": 1176,
    "start_time": "2023-03-09T09:05:47.350Z"
   },
   {
    "duration": 0,
    "start_time": "2023-03-09T09:05:48.528Z"
   },
   {
    "duration": 5,
    "start_time": "2023-03-09T09:07:40.572Z"
   },
   {
    "duration": 5,
    "start_time": "2023-03-09T09:07:41.103Z"
   },
   {
    "duration": 5,
    "start_time": "2023-03-09T09:07:41.591Z"
   },
   {
    "duration": 3,
    "start_time": "2023-03-09T09:07:42.343Z"
   },
   {
    "duration": 1351,
    "start_time": "2023-03-09T09:07:43.919Z"
   },
   {
    "duration": 5,
    "start_time": "2023-03-09T09:11:00.827Z"
   },
   {
    "duration": 4,
    "start_time": "2023-03-09T09:11:01.640Z"
   },
   {
    "duration": 6,
    "start_time": "2023-03-09T09:11:02.616Z"
   },
   {
    "duration": 3,
    "start_time": "2023-03-09T09:11:04.360Z"
   },
   {
    "duration": 1448,
    "start_time": "2023-03-09T09:11:51.635Z"
   },
   {
    "duration": 75,
    "start_time": "2023-03-09T09:16:03.659Z"
   },
   {
    "duration": 20,
    "start_time": "2023-03-09T09:16:44.251Z"
   },
   {
    "duration": 1697,
    "start_time": "2023-03-09T09:16:51.674Z"
   },
   {
    "duration": 1385,
    "start_time": "2023-03-09T09:17:39.579Z"
   },
   {
    "duration": 13,
    "start_time": "2023-03-09T09:25:04.014Z"
   },
   {
    "duration": 8,
    "start_time": "2023-03-09T09:25:05.283Z"
   },
   {
    "duration": 7,
    "start_time": "2023-03-09T09:25:06.896Z"
   },
   {
    "duration": 19,
    "start_time": "2023-03-09T09:25:08.116Z"
   },
   {
    "duration": 1745,
    "start_time": "2023-03-09T09:25:08.935Z"
   },
   {
    "duration": 7,
    "start_time": "2023-03-09T09:30:49.438Z"
   },
   {
    "duration": 5,
    "start_time": "2023-03-09T15:18:27.639Z"
   },
   {
    "duration": 6,
    "start_time": "2023-03-09T15:18:44.903Z"
   },
   {
    "duration": 5,
    "start_time": "2023-03-09T15:20:34.467Z"
   },
   {
    "duration": 105,
    "start_time": "2023-03-09T15:20:35.089Z"
   },
   {
    "duration": 3,
    "start_time": "2023-03-09T15:20:41.072Z"
   },
   {
    "duration": 5,
    "start_time": "2023-03-09T15:23:12.871Z"
   },
   {
    "duration": 5,
    "start_time": "2023-03-09T15:23:53.877Z"
   },
   {
    "duration": 3,
    "start_time": "2023-03-09T15:31:06.810Z"
   },
   {
    "duration": 3,
    "start_time": "2023-03-09T15:31:07.552Z"
   },
   {
    "duration": 2,
    "start_time": "2023-03-09T15:31:20.290Z"
   },
   {
    "duration": 23,
    "start_time": "2023-03-09T15:31:20.728Z"
   },
   {
    "duration": 15,
    "start_time": "2023-03-09T15:31:36.206Z"
   },
   {
    "duration": 1370,
    "start_time": "2023-03-09T15:31:46.596Z"
   },
   {
    "duration": 1920,
    "start_time": "2023-03-09T15:31:47.968Z"
   },
   {
    "duration": 23,
    "start_time": "2023-03-09T15:31:49.891Z"
   },
   {
    "duration": 18,
    "start_time": "2023-03-09T15:31:49.915Z"
   },
   {
    "duration": 22,
    "start_time": "2023-03-09T15:31:49.934Z"
   },
   {
    "duration": 19,
    "start_time": "2023-03-09T15:31:49.957Z"
   },
   {
    "duration": 11,
    "start_time": "2023-03-09T15:31:49.977Z"
   },
   {
    "duration": 18,
    "start_time": "2023-03-09T15:31:49.989Z"
   },
   {
    "duration": 6,
    "start_time": "2023-03-09T15:31:50.008Z"
   },
   {
    "duration": 35,
    "start_time": "2023-03-09T15:31:50.016Z"
   },
   {
    "duration": 11,
    "start_time": "2023-03-09T15:31:50.053Z"
   },
   {
    "duration": 5,
    "start_time": "2023-03-09T15:31:50.066Z"
   },
   {
    "duration": 12,
    "start_time": "2023-03-09T15:31:50.072Z"
   },
   {
    "duration": 16,
    "start_time": "2023-03-09T15:31:50.085Z"
   },
   {
    "duration": 11,
    "start_time": "2023-03-09T15:31:50.103Z"
   },
   {
    "duration": 10,
    "start_time": "2023-03-09T15:31:50.116Z"
   },
   {
    "duration": 130,
    "start_time": "2023-03-09T15:31:50.127Z"
   },
   {
    "duration": 22,
    "start_time": "2023-03-09T15:31:50.259Z"
   },
   {
    "duration": 109,
    "start_time": "2023-03-09T15:31:50.282Z"
   },
   {
    "duration": 27,
    "start_time": "2023-03-09T15:31:50.393Z"
   },
   {
    "duration": 8,
    "start_time": "2023-03-09T15:31:50.422Z"
   },
   {
    "duration": 7,
    "start_time": "2023-03-09T15:31:50.449Z"
   },
   {
    "duration": 12,
    "start_time": "2023-03-09T15:31:50.458Z"
   },
   {
    "duration": 10,
    "start_time": "2023-03-09T15:31:50.471Z"
   },
   {
    "duration": 1218,
    "start_time": "2023-03-09T15:31:50.483Z"
   },
   {
    "duration": 1176,
    "start_time": "2023-03-09T15:31:51.703Z"
   },
   {
    "duration": 630,
    "start_time": "2023-03-09T15:31:52.881Z"
   },
   {
    "duration": 5,
    "start_time": "2023-03-09T15:31:53.515Z"
   },
   {
    "duration": 11,
    "start_time": "2023-03-09T15:31:53.521Z"
   },
   {
    "duration": 21,
    "start_time": "2023-03-09T15:31:53.533Z"
   },
   {
    "duration": 7,
    "start_time": "2023-03-09T15:31:53.556Z"
   },
   {
    "duration": 1347,
    "start_time": "2023-03-09T15:31:53.564Z"
   },
   {
    "duration": 19,
    "start_time": "2023-03-09T15:31:54.913Z"
   },
   {
    "duration": 1334,
    "start_time": "2023-03-09T15:31:54.944Z"
   },
   {
    "duration": 8,
    "start_time": "2023-03-09T15:31:56.279Z"
   },
   {
    "duration": 7,
    "start_time": "2023-03-09T15:31:56.288Z"
   },
   {
    "duration": 5,
    "start_time": "2023-03-09T15:31:56.296Z"
   },
   {
    "duration": 16,
    "start_time": "2023-03-09T15:31:56.302Z"
   },
   {
    "duration": 1261,
    "start_time": "2023-03-09T15:31:56.320Z"
   },
   {
    "duration": 2,
    "start_time": "2023-03-09T15:31:57.583Z"
   },
   {
    "duration": 7,
    "start_time": "2023-03-09T15:31:57.587Z"
   },
   {
    "duration": 5,
    "start_time": "2023-03-09T15:31:57.595Z"
   },
   {
    "duration": 6,
    "start_time": "2023-03-09T15:31:57.602Z"
   },
   {
    "duration": 12,
    "start_time": "2023-03-09T15:31:57.610Z"
   },
   {
    "duration": 206,
    "start_time": "2023-03-09T15:35:41.758Z"
   },
   {
    "duration": 3,
    "start_time": "2023-03-09T15:36:15.060Z"
   },
   {
    "duration": 3904,
    "start_time": "2023-03-09T15:36:28.641Z"
   },
   {
    "duration": 3,
    "start_time": "2023-03-09T15:37:10.240Z"
   },
   {
    "duration": 3804,
    "start_time": "2023-03-09T15:37:11.549Z"
   },
   {
    "duration": 2,
    "start_time": "2023-03-09T15:39:03.366Z"
   },
   {
    "duration": 3,
    "start_time": "2023-03-09T15:39:25.319Z"
   },
   {
    "duration": 3,
    "start_time": "2023-03-09T15:39:29.759Z"
   },
   {
    "duration": 21183,
    "start_time": "2023-03-09T15:46:09.298Z"
   },
   {
    "duration": 6,
    "start_time": "2023-03-09T15:46:54.291Z"
   },
   {
    "duration": 2,
    "start_time": "2023-03-09T15:46:55.067Z"
   },
   {
    "duration": 20829,
    "start_time": "2023-03-09T15:46:56.139Z"
   },
   {
    "duration": 1392,
    "start_time": "2023-03-09T15:49:09.159Z"
   },
   {
    "duration": 720,
    "start_time": "2023-03-09T15:49:10.557Z"
   },
   {
    "duration": 25,
    "start_time": "2023-03-09T15:49:11.279Z"
   },
   {
    "duration": 43,
    "start_time": "2023-03-09T15:49:11.306Z"
   },
   {
    "duration": 27,
    "start_time": "2023-03-09T15:49:11.357Z"
   },
   {
    "duration": 24,
    "start_time": "2023-03-09T15:49:11.386Z"
   },
   {
    "duration": 11,
    "start_time": "2023-03-09T15:49:11.412Z"
   },
   {
    "duration": 27,
    "start_time": "2023-03-09T15:49:11.424Z"
   },
   {
    "duration": 10,
    "start_time": "2023-03-09T15:49:11.453Z"
   },
   {
    "duration": 6,
    "start_time": "2023-03-09T15:49:11.464Z"
   },
   {
    "duration": 9,
    "start_time": "2023-03-09T15:49:11.472Z"
   },
   {
    "duration": 8,
    "start_time": "2023-03-09T15:49:11.482Z"
   },
   {
    "duration": 16,
    "start_time": "2023-03-09T15:49:11.492Z"
   },
   {
    "duration": 12,
    "start_time": "2023-03-09T15:49:11.512Z"
   },
   {
    "duration": 23,
    "start_time": "2023-03-09T15:49:11.525Z"
   },
   {
    "duration": 12,
    "start_time": "2023-03-09T15:49:11.550Z"
   },
   {
    "duration": 140,
    "start_time": "2023-03-09T15:49:11.564Z"
   },
   {
    "duration": 25,
    "start_time": "2023-03-09T15:49:11.706Z"
   },
   {
    "duration": 102,
    "start_time": "2023-03-09T15:49:11.742Z"
   },
   {
    "duration": 26,
    "start_time": "2023-03-09T15:49:11.846Z"
   },
   {
    "duration": 9,
    "start_time": "2023-03-09T15:49:11.873Z"
   },
   {
    "duration": 8,
    "start_time": "2023-03-09T15:49:11.883Z"
   },
   {
    "duration": 9,
    "start_time": "2023-03-09T15:49:11.893Z"
   },
   {
    "duration": 38,
    "start_time": "2023-03-09T15:49:11.904Z"
   },
   {
    "duration": 1134,
    "start_time": "2023-03-09T15:49:11.944Z"
   },
   {
    "duration": 1182,
    "start_time": "2023-03-09T15:49:13.080Z"
   },
   {
    "duration": 591,
    "start_time": "2023-03-09T15:49:14.263Z"
   },
   {
    "duration": 5,
    "start_time": "2023-03-09T15:49:14.856Z"
   },
   {
    "duration": 18,
    "start_time": "2023-03-09T15:49:14.863Z"
   },
   {
    "duration": 5,
    "start_time": "2023-03-09T15:49:14.882Z"
   },
   {
    "duration": 8,
    "start_time": "2023-03-09T15:49:14.888Z"
   },
   {
    "duration": 1341,
    "start_time": "2023-03-09T15:49:14.897Z"
   },
   {
    "duration": 21,
    "start_time": "2023-03-09T15:49:16.240Z"
   },
   {
    "duration": 1377,
    "start_time": "2023-03-09T15:49:16.263Z"
   },
   {
    "duration": 10,
    "start_time": "2023-03-09T15:49:17.642Z"
   },
   {
    "duration": 25,
    "start_time": "2023-03-09T15:49:17.654Z"
   },
   {
    "duration": 6,
    "start_time": "2023-03-09T15:49:17.680Z"
   },
   {
    "duration": 20,
    "start_time": "2023-03-09T15:49:17.688Z"
   },
   {
    "duration": 1353,
    "start_time": "2023-03-09T15:49:17.710Z"
   },
   {
    "duration": 4,
    "start_time": "2023-03-09T15:49:19.064Z"
   },
   {
    "duration": 6,
    "start_time": "2023-03-09T15:49:19.073Z"
   },
   {
    "duration": 6,
    "start_time": "2023-03-09T15:49:19.081Z"
   },
   {
    "duration": 11,
    "start_time": "2023-03-09T15:49:19.088Z"
   },
   {
    "duration": 9,
    "start_time": "2023-03-09T15:49:19.100Z"
   },
   {
    "duration": 8,
    "start_time": "2023-03-09T15:49:19.111Z"
   },
   {
    "duration": 7,
    "start_time": "2023-03-09T15:49:19.120Z"
   },
   {
    "duration": 22351,
    "start_time": "2023-03-09T15:49:19.128Z"
   },
   {
    "duration": 4,
    "start_time": "2023-03-09T16:01:28.449Z"
   },
   {
    "duration": 88,
    "start_time": "2023-03-09T16:01:28.457Z"
   },
   {
    "duration": 0,
    "start_time": "2023-03-09T16:01:28.556Z"
   },
   {
    "duration": 0,
    "start_time": "2023-03-09T16:01:28.556Z"
   },
   {
    "duration": 0,
    "start_time": "2023-03-09T16:01:28.557Z"
   },
   {
    "duration": 0,
    "start_time": "2023-03-09T16:01:28.558Z"
   },
   {
    "duration": 0,
    "start_time": "2023-03-09T16:01:28.558Z"
   },
   {
    "duration": 0,
    "start_time": "2023-03-09T16:01:28.560Z"
   },
   {
    "duration": 81,
    "start_time": "2023-03-09T16:05:18.110Z"
   },
   {
    "duration": 1817,
    "start_time": "2023-03-10T05:12:19.289Z"
   },
   {
    "duration": 3254,
    "start_time": "2023-03-10T05:12:21.108Z"
   },
   {
    "duration": 31,
    "start_time": "2023-03-10T05:12:24.365Z"
   },
   {
    "duration": 37,
    "start_time": "2023-03-10T05:12:24.398Z"
   },
   {
    "duration": 33,
    "start_time": "2023-03-10T05:12:24.437Z"
   },
   {
    "duration": 45,
    "start_time": "2023-03-10T05:12:24.472Z"
   },
   {
    "duration": 20,
    "start_time": "2023-03-10T05:12:24.519Z"
   },
   {
    "duration": 21,
    "start_time": "2023-03-10T05:12:24.540Z"
   },
   {
    "duration": 10,
    "start_time": "2023-03-10T05:12:24.563Z"
   },
   {
    "duration": 24,
    "start_time": "2023-03-10T05:12:24.574Z"
   },
   {
    "duration": 13,
    "start_time": "2023-03-10T05:12:24.600Z"
   },
   {
    "duration": 24,
    "start_time": "2023-03-10T05:12:24.615Z"
   },
   {
    "duration": 21,
    "start_time": "2023-03-10T05:12:24.641Z"
   },
   {
    "duration": 31,
    "start_time": "2023-03-10T05:12:24.665Z"
   },
   {
    "duration": 26,
    "start_time": "2023-03-10T05:12:24.698Z"
   },
   {
    "duration": 33,
    "start_time": "2023-03-10T05:12:24.726Z"
   },
   {
    "duration": 161,
    "start_time": "2023-03-10T05:12:24.761Z"
   },
   {
    "duration": 28,
    "start_time": "2023-03-10T05:12:24.924Z"
   },
   {
    "duration": 145,
    "start_time": "2023-03-10T05:12:24.954Z"
   },
   {
    "duration": 34,
    "start_time": "2023-03-10T05:12:25.103Z"
   },
   {
    "duration": 9,
    "start_time": "2023-03-10T05:12:25.139Z"
   },
   {
    "duration": 27,
    "start_time": "2023-03-10T05:12:25.150Z"
   },
   {
    "duration": 50,
    "start_time": "2023-03-10T05:12:25.179Z"
   },
   {
    "duration": 13,
    "start_time": "2023-03-10T05:12:25.230Z"
   },
   {
    "duration": 1347,
    "start_time": "2023-03-10T05:12:25.245Z"
   },
   {
    "duration": 1289,
    "start_time": "2023-03-10T05:12:26.595Z"
   },
   {
    "duration": 777,
    "start_time": "2023-03-10T05:12:27.886Z"
   },
   {
    "duration": 20,
    "start_time": "2023-03-10T05:12:28.665Z"
   },
   {
    "duration": 17,
    "start_time": "2023-03-10T05:12:28.690Z"
   },
   {
    "duration": 12,
    "start_time": "2023-03-10T05:12:28.709Z"
   },
   {
    "duration": 22,
    "start_time": "2023-03-10T05:12:28.723Z"
   },
   {
    "duration": 1373,
    "start_time": "2023-03-10T05:12:28.747Z"
   },
   {
    "duration": 24,
    "start_time": "2023-03-10T05:12:30.122Z"
   },
   {
    "duration": 1478,
    "start_time": "2023-03-10T05:12:30.148Z"
   },
   {
    "duration": 11,
    "start_time": "2023-03-10T05:12:31.628Z"
   },
   {
    "duration": 54,
    "start_time": "2023-03-10T05:12:31.641Z"
   },
   {
    "duration": 23,
    "start_time": "2023-03-10T05:12:31.698Z"
   },
   {
    "duration": 65,
    "start_time": "2023-03-10T05:12:31.723Z"
   },
   {
    "duration": 1516,
    "start_time": "2023-03-10T05:12:31.790Z"
   },
   {
    "duration": 4,
    "start_time": "2023-03-10T05:12:33.308Z"
   },
   {
    "duration": 7,
    "start_time": "2023-03-10T05:12:33.316Z"
   },
   {
    "duration": 12,
    "start_time": "2023-03-10T05:12:33.325Z"
   },
   {
    "duration": 14,
    "start_time": "2023-03-10T05:12:33.339Z"
   },
   {
    "duration": 34,
    "start_time": "2023-03-10T05:12:33.355Z"
   },
   {
    "duration": 16,
    "start_time": "2023-03-10T05:12:33.392Z"
   },
   {
    "duration": 9,
    "start_time": "2023-03-10T05:12:33.410Z"
   },
   {
    "duration": 25797,
    "start_time": "2023-03-10T05:12:33.422Z"
   },
   {
    "duration": 4059,
    "start_time": "2023-03-10T06:19:40.823Z"
   },
   {
    "duration": 5011,
    "start_time": "2023-03-10T06:19:57.969Z"
   },
   {
    "duration": 1688,
    "start_time": "2023-03-10T06:23:44.991Z"
   },
   {
    "duration": 5,
    "start_time": "2023-03-10T06:24:50.601Z"
   },
   {
    "duration": 10,
    "start_time": "2023-03-10T06:24:52.832Z"
   },
   {
    "duration": 3,
    "start_time": "2023-03-10T06:24:53.300Z"
   },
   {
    "duration": 9,
    "start_time": "2023-03-10T06:24:56.188Z"
   },
   {
    "duration": 1652,
    "start_time": "2023-03-10T06:25:17.944Z"
   },
   {
    "duration": 2788,
    "start_time": "2023-03-10T06:25:53.600Z"
   },
   {
    "duration": 194,
    "start_time": "2023-03-10T06:54:23.608Z"
   },
   {
    "duration": 6,
    "start_time": "2023-03-10T06:54:31.236Z"
   },
   {
    "duration": 3513,
    "start_time": "2023-03-10T06:54:33.668Z"
   },
   {
    "duration": 2464,
    "start_time": "2023-03-10T06:55:44.422Z"
   },
   {
    "duration": 3501,
    "start_time": "2023-03-10T06:56:09.990Z"
   },
   {
    "duration": 3391,
    "start_time": "2023-03-10T06:56:13.501Z"
   },
   {
    "duration": 16,
    "start_time": "2023-03-10T06:58:47.873Z"
   },
   {
    "duration": 4,
    "start_time": "2023-03-10T06:58:53.648Z"
   },
   {
    "duration": 10,
    "start_time": "2023-03-10T06:58:56.921Z"
   },
   {
    "duration": 4,
    "start_time": "2023-03-10T06:59:06.860Z"
   },
   {
    "duration": 3,
    "start_time": "2023-03-10T06:59:07.416Z"
   },
   {
    "duration": 3,
    "start_time": "2023-03-10T06:59:08.728Z"
   },
   {
    "duration": 4,
    "start_time": "2023-03-10T06:59:11.937Z"
   },
   {
    "duration": 20,
    "start_time": "2023-03-10T06:59:12.112Z"
   },
   {
    "duration": 7,
    "start_time": "2023-03-10T06:59:12.493Z"
   },
   {
    "duration": 7,
    "start_time": "2023-03-10T06:59:34.224Z"
   },
   {
    "duration": 3041,
    "start_time": "2023-03-10T06:59:35.745Z"
   },
   {
    "duration": 3708,
    "start_time": "2023-03-10T06:59:38.788Z"
   },
   {
    "duration": 13,
    "start_time": "2023-03-10T06:59:42.498Z"
   },
   {
    "duration": 4,
    "start_time": "2023-03-10T06:59:54.602Z"
   },
   {
    "duration": 7,
    "start_time": "2023-03-10T06:59:58.987Z"
   },
   {
    "duration": 15,
    "start_time": "2023-03-10T06:59:59.841Z"
   },
   {
    "duration": 1598,
    "start_time": "2023-03-10T07:01:06.435Z"
   },
   {
    "duration": 944,
    "start_time": "2023-03-10T07:01:08.035Z"
   },
   {
    "duration": 42,
    "start_time": "2023-03-10T07:01:08.983Z"
   },
   {
    "duration": 62,
    "start_time": "2023-03-10T07:01:09.027Z"
   },
   {
    "duration": 40,
    "start_time": "2023-03-10T07:01:09.093Z"
   },
   {
    "duration": 29,
    "start_time": "2023-03-10T07:01:09.134Z"
   },
   {
    "duration": 20,
    "start_time": "2023-03-10T07:01:09.165Z"
   },
   {
    "duration": 42,
    "start_time": "2023-03-10T07:01:09.189Z"
   },
   {
    "duration": 8,
    "start_time": "2023-03-10T07:01:09.233Z"
   },
   {
    "duration": 6,
    "start_time": "2023-03-10T07:01:09.242Z"
   },
   {
    "duration": 8,
    "start_time": "2023-03-10T07:01:09.249Z"
   },
   {
    "duration": 5,
    "start_time": "2023-03-10T07:01:09.259Z"
   },
   {
    "duration": 15,
    "start_time": "2023-03-10T07:01:09.266Z"
   },
   {
    "duration": 35,
    "start_time": "2023-03-10T07:01:09.284Z"
   },
   {
    "duration": 16,
    "start_time": "2023-03-10T07:01:09.320Z"
   },
   {
    "duration": 13,
    "start_time": "2023-03-10T07:01:09.338Z"
   },
   {
    "duration": 163,
    "start_time": "2023-03-10T07:01:09.353Z"
   },
   {
    "duration": 28,
    "start_time": "2023-03-10T07:01:09.518Z"
   },
   {
    "duration": 159,
    "start_time": "2023-03-10T07:01:09.548Z"
   },
   {
    "duration": 28,
    "start_time": "2023-03-10T07:01:09.709Z"
   },
   {
    "duration": 9,
    "start_time": "2023-03-10T07:01:09.739Z"
   },
   {
    "duration": 35,
    "start_time": "2023-03-10T07:01:09.749Z"
   },
   {
    "duration": 12,
    "start_time": "2023-03-10T07:01:09.786Z"
   },
   {
    "duration": 12,
    "start_time": "2023-03-10T07:01:09.800Z"
   },
   {
    "duration": 1326,
    "start_time": "2023-03-10T07:01:09.814Z"
   },
   {
    "duration": 1418,
    "start_time": "2023-03-10T07:01:11.143Z"
   },
   {
    "duration": 823,
    "start_time": "2023-03-10T07:01:12.564Z"
   },
   {
    "duration": 11,
    "start_time": "2023-03-10T07:01:13.391Z"
   },
   {
    "duration": 9,
    "start_time": "2023-03-10T07:01:13.405Z"
   },
   {
    "duration": 7,
    "start_time": "2023-03-10T07:01:13.416Z"
   },
   {
    "duration": 19,
    "start_time": "2023-03-10T07:01:13.425Z"
   },
   {
    "duration": 1609,
    "start_time": "2023-03-10T07:01:13.446Z"
   },
   {
    "duration": 45,
    "start_time": "2023-03-10T07:01:15.057Z"
   },
   {
    "duration": 1459,
    "start_time": "2023-03-10T07:01:15.105Z"
   },
   {
    "duration": 25,
    "start_time": "2023-03-10T07:01:16.566Z"
   },
   {
    "duration": 58,
    "start_time": "2023-03-10T07:01:16.593Z"
   },
   {
    "duration": 15,
    "start_time": "2023-03-10T07:01:16.653Z"
   },
   {
    "duration": 48,
    "start_time": "2023-03-10T07:01:16.670Z"
   },
   {
    "duration": 1577,
    "start_time": "2023-03-10T07:01:16.720Z"
   },
   {
    "duration": 6,
    "start_time": "2023-03-10T07:01:18.302Z"
   },
   {
    "duration": 9,
    "start_time": "2023-03-10T07:01:18.312Z"
   },
   {
    "duration": 9,
    "start_time": "2023-03-10T07:01:18.323Z"
   },
   {
    "duration": 15,
    "start_time": "2023-03-10T07:01:18.334Z"
   },
   {
    "duration": 15,
    "start_time": "2023-03-10T07:01:18.351Z"
   },
   {
    "duration": 51,
    "start_time": "2023-03-10T07:01:18.368Z"
   },
   {
    "duration": 4777,
    "start_time": "2023-03-10T07:01:18.421Z"
   },
   {
    "duration": 2982,
    "start_time": "2023-03-10T07:01:23.200Z"
   },
   {
    "duration": 211,
    "start_time": "2023-03-10T07:01:26.193Z"
   },
   {
    "duration": 0,
    "start_time": "2023-03-10T07:01:26.406Z"
   },
   {
    "duration": 12,
    "start_time": "2023-03-10T07:02:30.896Z"
   },
   {
    "duration": 4,
    "start_time": "2023-03-10T07:02:35.759Z"
   },
   {
    "duration": 3,
    "start_time": "2023-03-10T07:02:36.218Z"
   },
   {
    "duration": 4,
    "start_time": "2023-03-10T07:02:37.802Z"
   },
   {
    "duration": 2200,
    "start_time": "2023-03-10T07:02:51.983Z"
   },
   {
    "duration": 14,
    "start_time": "2023-03-10T07:02:54.185Z"
   },
   {
    "duration": 6,
    "start_time": "2023-03-10T07:06:39.195Z"
   },
   {
    "duration": 1635,
    "start_time": "2023-03-10T07:06:45.056Z"
   },
   {
    "duration": 913,
    "start_time": "2023-03-10T07:06:46.695Z"
   },
   {
    "duration": 27,
    "start_time": "2023-03-10T07:06:47.610Z"
   },
   {
    "duration": 37,
    "start_time": "2023-03-10T07:06:47.639Z"
   },
   {
    "duration": 42,
    "start_time": "2023-03-10T07:06:47.682Z"
   },
   {
    "duration": 24,
    "start_time": "2023-03-10T07:06:47.726Z"
   },
   {
    "duration": 16,
    "start_time": "2023-03-10T07:06:47.753Z"
   },
   {
    "duration": 33,
    "start_time": "2023-03-10T07:06:47.773Z"
   },
   {
    "duration": 8,
    "start_time": "2023-03-10T07:06:47.808Z"
   },
   {
    "duration": 6,
    "start_time": "2023-03-10T07:06:47.819Z"
   },
   {
    "duration": 6,
    "start_time": "2023-03-10T07:06:47.827Z"
   },
   {
    "duration": 5,
    "start_time": "2023-03-10T07:06:47.835Z"
   },
   {
    "duration": 39,
    "start_time": "2023-03-10T07:06:47.841Z"
   },
   {
    "duration": 32,
    "start_time": "2023-03-10T07:06:47.882Z"
   },
   {
    "duration": 25,
    "start_time": "2023-03-10T07:06:47.916Z"
   },
   {
    "duration": 15,
    "start_time": "2023-03-10T07:06:47.943Z"
   },
   {
    "duration": 153,
    "start_time": "2023-03-10T07:06:47.960Z"
   },
   {
    "duration": 27,
    "start_time": "2023-03-10T07:06:48.115Z"
   },
   {
    "duration": 156,
    "start_time": "2023-03-10T07:06:48.144Z"
   },
   {
    "duration": 28,
    "start_time": "2023-03-10T07:06:48.302Z"
   },
   {
    "duration": 9,
    "start_time": "2023-03-10T07:06:48.332Z"
   },
   {
    "duration": 7,
    "start_time": "2023-03-10T07:06:48.343Z"
   },
   {
    "duration": 13,
    "start_time": "2023-03-10T07:06:48.379Z"
   },
   {
    "duration": 18,
    "start_time": "2023-03-10T07:06:48.399Z"
   },
   {
    "duration": 1251,
    "start_time": "2023-03-10T07:06:48.419Z"
   },
   {
    "duration": 1355,
    "start_time": "2023-03-10T07:06:49.673Z"
   },
   {
    "duration": 738,
    "start_time": "2023-03-10T07:06:51.030Z"
   },
   {
    "duration": 14,
    "start_time": "2023-03-10T07:06:51.773Z"
   },
   {
    "duration": 16,
    "start_time": "2023-03-10T07:06:51.796Z"
   },
   {
    "duration": 10,
    "start_time": "2023-03-10T07:06:51.814Z"
   },
   {
    "duration": 10,
    "start_time": "2023-03-10T07:06:51.825Z"
   },
   {
    "duration": 1526,
    "start_time": "2023-03-10T07:06:51.836Z"
   },
   {
    "duration": 35,
    "start_time": "2023-03-10T07:06:53.364Z"
   },
   {
    "duration": 1448,
    "start_time": "2023-03-10T07:06:53.402Z"
   },
   {
    "duration": 10,
    "start_time": "2023-03-10T07:06:54.852Z"
   },
   {
    "duration": 14,
    "start_time": "2023-03-10T07:06:54.864Z"
   },
   {
    "duration": 34,
    "start_time": "2023-03-10T07:06:54.880Z"
   },
   {
    "duration": 25,
    "start_time": "2023-03-10T07:06:54.916Z"
   },
   {
    "duration": 1588,
    "start_time": "2023-03-10T07:06:54.943Z"
   },
   {
    "duration": 4,
    "start_time": "2023-03-10T07:06:56.533Z"
   },
   {
    "duration": 13,
    "start_time": "2023-03-10T07:06:56.538Z"
   },
   {
    "duration": 14,
    "start_time": "2023-03-10T07:06:56.553Z"
   },
   {
    "duration": 37,
    "start_time": "2023-03-10T07:06:56.569Z"
   },
   {
    "duration": 52,
    "start_time": "2023-03-10T07:06:56.608Z"
   },
   {
    "duration": 38,
    "start_time": "2023-03-10T07:06:56.662Z"
   },
   {
    "duration": 3087,
    "start_time": "2023-03-10T07:06:56.702Z"
   },
   {
    "duration": 3284,
    "start_time": "2023-03-10T07:06:59.791Z"
   },
   {
    "duration": 202,
    "start_time": "2023-03-10T07:07:03.084Z"
   },
   {
    "duration": 0,
    "start_time": "2023-03-10T07:07:03.297Z"
   },
   {
    "duration": 4,
    "start_time": "2023-03-10T07:08:13.489Z"
   },
   {
    "duration": 13,
    "start_time": "2023-03-10T07:08:16.648Z"
   },
   {
    "duration": 1760,
    "start_time": "2023-03-10T07:08:23.104Z"
   },
   {
    "duration": 879,
    "start_time": "2023-03-10T07:08:24.866Z"
   },
   {
    "duration": 38,
    "start_time": "2023-03-10T07:08:25.747Z"
   },
   {
    "duration": 32,
    "start_time": "2023-03-10T07:08:25.795Z"
   },
   {
    "duration": 33,
    "start_time": "2023-03-10T07:08:25.830Z"
   },
   {
    "duration": 32,
    "start_time": "2023-03-10T07:08:25.865Z"
   },
   {
    "duration": 18,
    "start_time": "2023-03-10T07:08:25.904Z"
   },
   {
    "duration": 19,
    "start_time": "2023-03-10T07:08:25.924Z"
   },
   {
    "duration": 8,
    "start_time": "2023-03-10T07:08:25.944Z"
   },
   {
    "duration": 25,
    "start_time": "2023-03-10T07:08:25.953Z"
   },
   {
    "duration": 36,
    "start_time": "2023-03-10T07:08:25.979Z"
   },
   {
    "duration": 5,
    "start_time": "2023-03-10T07:08:26.017Z"
   },
   {
    "duration": 21,
    "start_time": "2023-03-10T07:08:26.024Z"
   },
   {
    "duration": 9,
    "start_time": "2023-03-10T07:08:26.049Z"
   },
   {
    "duration": 21,
    "start_time": "2023-03-10T07:08:26.060Z"
   },
   {
    "duration": 53,
    "start_time": "2023-03-10T07:08:26.082Z"
   },
   {
    "duration": 168,
    "start_time": "2023-03-10T07:08:26.137Z"
   },
   {
    "duration": 28,
    "start_time": "2023-03-10T07:08:26.307Z"
   },
   {
    "duration": 138,
    "start_time": "2023-03-10T07:08:26.336Z"
   },
   {
    "duration": 33,
    "start_time": "2023-03-10T07:08:26.481Z"
   },
   {
    "duration": 9,
    "start_time": "2023-03-10T07:08:26.516Z"
   },
   {
    "duration": 7,
    "start_time": "2023-03-10T07:08:26.527Z"
   },
   {
    "duration": 14,
    "start_time": "2023-03-10T07:08:26.536Z"
   },
   {
    "duration": 16,
    "start_time": "2023-03-10T07:08:26.573Z"
   },
   {
    "duration": 1312,
    "start_time": "2023-03-10T07:08:26.594Z"
   },
   {
    "duration": 1281,
    "start_time": "2023-03-10T07:08:27.908Z"
   },
   {
    "duration": 710,
    "start_time": "2023-03-10T07:08:29.196Z"
   },
   {
    "duration": 6,
    "start_time": "2023-03-10T07:08:29.909Z"
   },
   {
    "duration": 12,
    "start_time": "2023-03-10T07:08:29.917Z"
   },
   {
    "duration": 9,
    "start_time": "2023-03-10T07:08:29.931Z"
   },
   {
    "duration": 7,
    "start_time": "2023-03-10T07:08:29.942Z"
   },
   {
    "duration": 1501,
    "start_time": "2023-03-10T07:08:29.950Z"
   },
   {
    "duration": 29,
    "start_time": "2023-03-10T07:08:31.453Z"
   },
   {
    "duration": 1511,
    "start_time": "2023-03-10T07:08:31.488Z"
   },
   {
    "duration": 10,
    "start_time": "2023-03-10T07:08:33.005Z"
   },
   {
    "duration": 86,
    "start_time": "2023-03-10T07:08:33.017Z"
   },
   {
    "duration": 10,
    "start_time": "2023-03-10T07:08:33.105Z"
   },
   {
    "duration": 27,
    "start_time": "2023-03-10T07:08:33.117Z"
   },
   {
    "duration": 1609,
    "start_time": "2023-03-10T07:08:33.146Z"
   },
   {
    "duration": 3,
    "start_time": "2023-03-10T07:08:34.757Z"
   },
   {
    "duration": 11,
    "start_time": "2023-03-10T07:08:34.772Z"
   },
   {
    "duration": 25,
    "start_time": "2023-03-10T07:08:34.793Z"
   },
   {
    "duration": 20,
    "start_time": "2023-03-10T07:08:34.820Z"
   },
   {
    "duration": 8,
    "start_time": "2023-03-10T07:08:34.842Z"
   },
   {
    "duration": 10,
    "start_time": "2023-03-10T07:08:34.852Z"
   },
   {
    "duration": 4418,
    "start_time": "2023-03-10T07:08:34.864Z"
   },
   {
    "duration": 4229,
    "start_time": "2023-03-10T07:08:39.285Z"
   },
   {
    "duration": 255,
    "start_time": "2023-03-10T07:08:43.518Z"
   },
   {
    "duration": 0,
    "start_time": "2023-03-10T07:08:43.776Z"
   },
   {
    "duration": 4,
    "start_time": "2023-03-10T07:09:58.752Z"
   },
   {
    "duration": 4,
    "start_time": "2023-03-10T07:11:44.855Z"
   },
   {
    "duration": 14,
    "start_time": "2023-03-10T07:11:52.592Z"
   },
   {
    "duration": 3384,
    "start_time": "2023-03-10T07:25:09.701Z"
   },
   {
    "duration": 4334,
    "start_time": "2023-03-10T07:25:49.541Z"
   },
   {
    "duration": 3429,
    "start_time": "2023-03-10T07:25:53.877Z"
   },
   {
    "duration": 4,
    "start_time": "2023-03-10T07:26:25.661Z"
   },
   {
    "duration": 61,
    "start_time": "2023-03-10T07:28:40.608Z"
   },
   {
    "duration": 13,
    "start_time": "2023-03-10T07:28:46.084Z"
   },
   {
    "duration": 61,
    "start_time": "2023-03-10T07:37:42.844Z"
   },
   {
    "duration": 13632,
    "start_time": "2023-03-10T07:37:54.363Z"
   },
   {
    "duration": 420,
    "start_time": "2023-03-10T07:59:27.406Z"
   },
   {
    "duration": 417,
    "start_time": "2023-03-10T08:01:04.303Z"
   },
   {
    "duration": 399,
    "start_time": "2023-03-10T08:01:28.655Z"
   },
   {
    "duration": 34224,
    "start_time": "2023-03-10T08:02:59.959Z"
   },
   {
    "duration": 33490,
    "start_time": "2023-03-10T08:05:33.052Z"
   },
   {
    "duration": 389,
    "start_time": "2023-03-10T08:06:12.756Z"
   },
   {
    "duration": 396,
    "start_time": "2023-03-10T08:06:22.301Z"
   },
   {
    "duration": 33403,
    "start_time": "2023-03-10T08:06:33.556Z"
   },
   {
    "duration": 33552,
    "start_time": "2023-03-10T08:07:35.403Z"
   },
   {
    "duration": 101,
    "start_time": "2023-03-10T08:09:09.299Z"
   },
   {
    "duration": 100,
    "start_time": "2023-03-10T08:09:21.336Z"
   },
   {
    "duration": 32813,
    "start_time": "2023-03-10T08:09:55.792Z"
   },
   {
    "duration": 34146,
    "start_time": "2023-03-10T08:11:15.641Z"
   },
   {
    "duration": 14735,
    "start_time": "2023-03-10T08:12:18.129Z"
   },
   {
    "duration": 13753,
    "start_time": "2023-03-10T08:13:31.898Z"
   },
   {
    "duration": 13681,
    "start_time": "2023-03-10T08:16:08.539Z"
   },
   {
    "duration": 13122,
    "start_time": "2023-03-10T08:17:30.949Z"
   },
   {
    "duration": 13335,
    "start_time": "2023-03-10T08:18:21.708Z"
   },
   {
    "duration": 13371,
    "start_time": "2023-03-10T08:18:44.572Z"
   },
   {
    "duration": 5,
    "start_time": "2023-03-10T08:19:38.548Z"
   },
   {
    "duration": 3,
    "start_time": "2023-03-10T08:19:45.732Z"
   },
   {
    "duration": 147276,
    "start_time": "2023-03-10T08:29:02.826Z"
   },
   {
    "duration": 1636,
    "start_time": "2023-03-10T08:47:19.225Z"
   },
   {
    "duration": 880,
    "start_time": "2023-03-10T08:47:20.864Z"
   },
   {
    "duration": 43,
    "start_time": "2023-03-10T08:47:21.746Z"
   },
   {
    "duration": 23,
    "start_time": "2023-03-10T08:47:21.794Z"
   },
   {
    "duration": 31,
    "start_time": "2023-03-10T08:47:21.820Z"
   },
   {
    "duration": 42,
    "start_time": "2023-03-10T08:47:21.853Z"
   },
   {
    "duration": 36,
    "start_time": "2023-03-10T08:47:21.897Z"
   },
   {
    "duration": 28,
    "start_time": "2023-03-10T08:47:21.935Z"
   },
   {
    "duration": 30,
    "start_time": "2023-03-10T08:47:21.965Z"
   },
   {
    "duration": 6,
    "start_time": "2023-03-10T08:47:21.998Z"
   },
   {
    "duration": 32,
    "start_time": "2023-03-10T08:47:22.006Z"
   },
   {
    "duration": 90,
    "start_time": "2023-03-10T08:47:22.040Z"
   },
   {
    "duration": 28,
    "start_time": "2023-03-10T08:47:22.132Z"
   },
   {
    "duration": 32,
    "start_time": "2023-03-10T08:47:22.162Z"
   },
   {
    "duration": 41,
    "start_time": "2023-03-10T08:47:22.197Z"
   },
   {
    "duration": 30,
    "start_time": "2023-03-10T08:47:22.240Z"
   },
   {
    "duration": 186,
    "start_time": "2023-03-10T08:47:22.271Z"
   },
   {
    "duration": 48,
    "start_time": "2023-03-10T08:47:22.459Z"
   },
   {
    "duration": 171,
    "start_time": "2023-03-10T08:47:22.509Z"
   },
   {
    "duration": 34,
    "start_time": "2023-03-10T08:47:22.686Z"
   },
   {
    "duration": 12,
    "start_time": "2023-03-10T08:47:22.722Z"
   },
   {
    "duration": 8,
    "start_time": "2023-03-10T08:47:22.736Z"
   },
   {
    "duration": 35,
    "start_time": "2023-03-10T08:47:22.746Z"
   },
   {
    "duration": 34,
    "start_time": "2023-03-10T08:47:22.786Z"
   },
   {
    "duration": 1259,
    "start_time": "2023-03-10T08:47:22.822Z"
   },
   {
    "duration": 1269,
    "start_time": "2023-03-10T08:47:24.083Z"
   },
   {
    "duration": 842,
    "start_time": "2023-03-10T08:47:25.354Z"
   },
   {
    "duration": 5,
    "start_time": "2023-03-10T08:47:26.200Z"
   },
   {
    "duration": 8,
    "start_time": "2023-03-10T08:47:26.207Z"
   },
   {
    "duration": 7,
    "start_time": "2023-03-10T08:47:26.217Z"
   },
   {
    "duration": 28,
    "start_time": "2023-03-10T08:47:26.226Z"
   },
   {
    "duration": 1776,
    "start_time": "2023-03-10T08:47:26.256Z"
   },
   {
    "duration": 23,
    "start_time": "2023-03-10T08:47:28.035Z"
   },
   {
    "duration": 1568,
    "start_time": "2023-03-10T08:47:28.060Z"
   },
   {
    "duration": 11,
    "start_time": "2023-03-10T08:47:29.630Z"
   },
   {
    "duration": 5,
    "start_time": "2023-03-10T08:47:29.643Z"
   },
   {
    "duration": 24,
    "start_time": "2023-03-10T08:47:29.650Z"
   },
   {
    "duration": 22,
    "start_time": "2023-03-10T08:47:29.676Z"
   },
   {
    "duration": 1467,
    "start_time": "2023-03-10T08:47:29.700Z"
   },
   {
    "duration": 8,
    "start_time": "2023-03-10T08:47:31.169Z"
   },
   {
    "duration": 51,
    "start_time": "2023-03-10T08:47:31.181Z"
   },
   {
    "duration": 73,
    "start_time": "2023-03-10T08:47:31.234Z"
   },
   {
    "duration": 37,
    "start_time": "2023-03-10T08:47:31.310Z"
   },
   {
    "duration": 54,
    "start_time": "2023-03-10T08:47:31.350Z"
   },
   {
    "duration": 60,
    "start_time": "2023-03-10T08:47:31.405Z"
   },
   {
    "duration": 3315,
    "start_time": "2023-03-10T08:47:31.467Z"
   },
   {
    "duration": 2389,
    "start_time": "2023-03-10T08:47:34.791Z"
   },
   {
    "duration": 25,
    "start_time": "2023-03-10T08:47:37.181Z"
   },
   {
    "duration": 13507,
    "start_time": "2023-03-10T08:47:37.209Z"
   },
   {
    "duration": 13447,
    "start_time": "2023-03-10T08:47:50.719Z"
   },
   {
    "duration": 8,
    "start_time": "2023-03-10T08:48:04.169Z"
   },
   {
    "duration": 400369,
    "start_time": "2023-03-10T08:48:04.179Z"
   },
   {
    "duration": 83,
    "start_time": "2023-03-10T08:54:44.550Z"
   },
   {
    "duration": 1809298,
    "start_time": "2023-03-10T08:57:37.665Z"
   },
   {
    "duration": 0,
    "start_time": "2023-03-10T09:27:57.491Z"
   },
   {
    "duration": 1600,
    "start_time": "2023-03-10T09:46:57.757Z"
   },
   {
    "duration": 805,
    "start_time": "2023-03-10T09:46:59.359Z"
   },
   {
    "duration": 39,
    "start_time": "2023-03-10T09:47:00.165Z"
   },
   {
    "duration": 57,
    "start_time": "2023-03-10T09:47:00.207Z"
   },
   {
    "duration": 112,
    "start_time": "2023-03-10T09:47:00.266Z"
   },
   {
    "duration": 125,
    "start_time": "2023-03-10T09:47:00.382Z"
   },
   {
    "duration": 37,
    "start_time": "2023-03-10T09:47:00.509Z"
   },
   {
    "duration": 72,
    "start_time": "2023-03-10T09:47:00.548Z"
   },
   {
    "duration": 20,
    "start_time": "2023-03-10T09:47:00.623Z"
   },
   {
    "duration": 44,
    "start_time": "2023-03-10T09:47:00.647Z"
   },
   {
    "duration": 37,
    "start_time": "2023-03-10T09:47:00.694Z"
   },
   {
    "duration": 26,
    "start_time": "2023-03-10T09:47:00.733Z"
   },
   {
    "duration": 53,
    "start_time": "2023-03-10T09:47:00.761Z"
   },
   {
    "duration": 22,
    "start_time": "2023-03-10T09:47:00.817Z"
   },
   {
    "duration": 59,
    "start_time": "2023-03-10T09:47:00.842Z"
   },
   {
    "duration": 40,
    "start_time": "2023-03-10T09:47:00.902Z"
   },
   {
    "duration": 192,
    "start_time": "2023-03-10T09:47:00.944Z"
   },
   {
    "duration": 43,
    "start_time": "2023-03-10T09:47:01.138Z"
   },
   {
    "duration": 144,
    "start_time": "2023-03-10T09:47:01.183Z"
   },
   {
    "duration": 28,
    "start_time": "2023-03-10T09:47:01.328Z"
   },
   {
    "duration": 30,
    "start_time": "2023-03-10T09:47:01.358Z"
   },
   {
    "duration": 40,
    "start_time": "2023-03-10T09:47:01.389Z"
   },
   {
    "duration": 67,
    "start_time": "2023-03-10T09:47:01.431Z"
   },
   {
    "duration": 94,
    "start_time": "2023-03-10T09:47:01.500Z"
   },
   {
    "duration": 1266,
    "start_time": "2023-03-10T09:47:01.596Z"
   },
   {
    "duration": 1299,
    "start_time": "2023-03-10T09:47:02.864Z"
   },
   {
    "duration": 843,
    "start_time": "2023-03-10T09:47:04.165Z"
   },
   {
    "duration": 6,
    "start_time": "2023-03-10T09:47:05.012Z"
   },
   {
    "duration": 32,
    "start_time": "2023-03-10T09:47:05.019Z"
   },
   {
    "duration": 41,
    "start_time": "2023-03-10T09:47:05.053Z"
   },
   {
    "duration": 27,
    "start_time": "2023-03-10T09:47:05.096Z"
   },
   {
    "duration": 1384,
    "start_time": "2023-03-10T09:47:05.125Z"
   },
   {
    "duration": 20,
    "start_time": "2023-03-10T09:47:06.511Z"
   },
   {
    "duration": 1373,
    "start_time": "2023-03-10T09:47:06.533Z"
   },
   {
    "duration": 10,
    "start_time": "2023-03-10T09:47:07.908Z"
   },
   {
    "duration": 7,
    "start_time": "2023-03-10T09:47:07.920Z"
   },
   {
    "duration": 6,
    "start_time": "2023-03-10T09:47:07.929Z"
   },
   {
    "duration": 43,
    "start_time": "2023-03-10T09:47:07.937Z"
   },
   {
    "duration": 1494,
    "start_time": "2023-03-10T09:47:07.986Z"
   },
   {
    "duration": 6,
    "start_time": "2023-03-10T09:47:09.484Z"
   },
   {
    "duration": 6,
    "start_time": "2023-03-10T09:47:09.492Z"
   },
   {
    "duration": 18,
    "start_time": "2023-03-10T09:47:09.500Z"
   },
   {
    "duration": 8,
    "start_time": "2023-03-10T09:47:09.520Z"
   },
   {
    "duration": 10,
    "start_time": "2023-03-10T09:47:09.530Z"
   },
   {
    "duration": 12,
    "start_time": "2023-03-10T09:47:09.541Z"
   },
   {
    "duration": 2629,
    "start_time": "2023-03-10T09:47:09.554Z"
   },
   {
    "duration": 2396,
    "start_time": "2023-03-10T09:47:12.190Z"
   },
   {
    "duration": 83,
    "start_time": "2023-03-10T09:47:14.595Z"
   },
   {
    "duration": 14267,
    "start_time": "2023-03-10T09:47:14.683Z"
   },
   {
    "duration": 13082,
    "start_time": "2023-03-10T09:47:28.952Z"
   },
   {
    "duration": 4,
    "start_time": "2023-03-10T09:47:42.036Z"
   },
   {
    "duration": 10351,
    "start_time": "2023-03-10T09:47:42.042Z"
   },
   {
    "duration": 1633,
    "start_time": "2023-03-10T09:49:40.101Z"
   },
   {
    "duration": 818,
    "start_time": "2023-03-10T09:49:41.737Z"
   },
   {
    "duration": 38,
    "start_time": "2023-03-10T09:49:42.557Z"
   },
   {
    "duration": 23,
    "start_time": "2023-03-10T09:49:42.598Z"
   },
   {
    "duration": 54,
    "start_time": "2023-03-10T09:49:42.624Z"
   },
   {
    "duration": 21,
    "start_time": "2023-03-10T09:49:42.688Z"
   },
   {
    "duration": 16,
    "start_time": "2023-03-10T09:49:42.711Z"
   },
   {
    "duration": 25,
    "start_time": "2023-03-10T09:49:42.729Z"
   },
   {
    "duration": 15,
    "start_time": "2023-03-10T09:49:42.779Z"
   },
   {
    "duration": 5,
    "start_time": "2023-03-10T09:49:42.796Z"
   },
   {
    "duration": 14,
    "start_time": "2023-03-10T09:49:42.804Z"
   },
   {
    "duration": 10,
    "start_time": "2023-03-10T09:49:42.821Z"
   },
   {
    "duration": 13,
    "start_time": "2023-03-10T09:49:42.834Z"
   },
   {
    "duration": 34,
    "start_time": "2023-03-10T09:49:42.851Z"
   },
   {
    "duration": 24,
    "start_time": "2023-03-10T09:49:42.888Z"
   },
   {
    "duration": 16,
    "start_time": "2023-03-10T09:49:42.914Z"
   },
   {
    "duration": 158,
    "start_time": "2023-03-10T09:49:42.933Z"
   },
   {
    "duration": 35,
    "start_time": "2023-03-10T09:49:43.093Z"
   },
   {
    "duration": 140,
    "start_time": "2023-03-10T09:49:43.130Z"
   },
   {
    "duration": 35,
    "start_time": "2023-03-10T09:49:43.273Z"
   },
   {
    "duration": 11,
    "start_time": "2023-03-10T09:49:43.311Z"
   },
   {
    "duration": 6,
    "start_time": "2023-03-10T09:49:43.324Z"
   },
   {
    "duration": 45,
    "start_time": "2023-03-10T09:49:43.332Z"
   },
   {
    "duration": 18,
    "start_time": "2023-03-10T09:49:43.378Z"
   },
   {
    "duration": 1289,
    "start_time": "2023-03-10T09:49:43.398Z"
   },
   {
    "duration": 1255,
    "start_time": "2023-03-10T09:49:44.689Z"
   },
   {
    "duration": 761,
    "start_time": "2023-03-10T09:49:45.946Z"
   },
   {
    "duration": 5,
    "start_time": "2023-03-10T09:49:46.709Z"
   },
   {
    "duration": 10,
    "start_time": "2023-03-10T09:49:46.716Z"
   },
   {
    "duration": 7,
    "start_time": "2023-03-10T09:49:46.728Z"
   },
   {
    "duration": 9,
    "start_time": "2023-03-10T09:49:46.736Z"
   },
   {
    "duration": 1522,
    "start_time": "2023-03-10T09:49:46.747Z"
   },
   {
    "duration": 25,
    "start_time": "2023-03-10T09:49:48.272Z"
   },
   {
    "duration": 1549,
    "start_time": "2023-03-10T09:49:48.299Z"
   },
   {
    "duration": 9,
    "start_time": "2023-03-10T09:49:49.849Z"
   },
   {
    "duration": 18,
    "start_time": "2023-03-10T09:49:49.860Z"
   },
   {
    "duration": 14,
    "start_time": "2023-03-10T09:49:49.880Z"
   },
   {
    "duration": 21,
    "start_time": "2023-03-10T09:49:49.896Z"
   },
   {
    "duration": 1585,
    "start_time": "2023-03-10T09:49:49.919Z"
   },
   {
    "duration": 4,
    "start_time": "2023-03-10T09:49:51.506Z"
   },
   {
    "duration": 9,
    "start_time": "2023-03-10T09:49:51.515Z"
   },
   {
    "duration": 23,
    "start_time": "2023-03-10T09:49:51.526Z"
   },
   {
    "duration": 30,
    "start_time": "2023-03-10T09:49:51.550Z"
   },
   {
    "duration": 15,
    "start_time": "2023-03-10T09:49:51.585Z"
   },
   {
    "duration": 16,
    "start_time": "2023-03-10T09:49:51.602Z"
   },
   {
    "duration": 1573,
    "start_time": "2023-03-10T09:49:51.620Z"
   },
   {
    "duration": 2325,
    "start_time": "2023-03-10T09:49:53.274Z"
   },
   {
    "duration": 5,
    "start_time": "2023-03-10T09:49:55.674Z"
   },
   {
    "duration": 13034,
    "start_time": "2023-03-10T09:49:55.682Z"
   },
   {
    "duration": 13062,
    "start_time": "2023-03-10T09:50:08.718Z"
   },
   {
    "duration": 8,
    "start_time": "2023-03-10T09:50:21.784Z"
   },
   {
    "duration": 389900,
    "start_time": "2023-03-10T09:50:21.794Z"
   },
   {
    "duration": 257073,
    "start_time": "2023-03-10T10:01:21.605Z"
   },
   {
    "duration": 824452,
    "start_time": "2023-03-10T11:01:25.617Z"
   },
   {
    "duration": 1653,
    "start_time": "2023-03-10T11:18:44.783Z"
   },
   {
    "duration": 977,
    "start_time": "2023-03-10T11:18:46.439Z"
   },
   {
    "duration": 30,
    "start_time": "2023-03-10T11:18:47.418Z"
   },
   {
    "duration": 48,
    "start_time": "2023-03-10T11:18:47.451Z"
   },
   {
    "duration": 25,
    "start_time": "2023-03-10T11:18:47.501Z"
   },
   {
    "duration": 19,
    "start_time": "2023-03-10T11:18:47.527Z"
   },
   {
    "duration": 46,
    "start_time": "2023-03-10T11:18:47.548Z"
   },
   {
    "duration": 21,
    "start_time": "2023-03-10T11:18:47.597Z"
   },
   {
    "duration": 10,
    "start_time": "2023-03-10T11:18:47.620Z"
   },
   {
    "duration": 3,
    "start_time": "2023-03-10T11:18:47.634Z"
   },
   {
    "duration": 44,
    "start_time": "2023-03-10T11:18:47.639Z"
   },
   {
    "duration": 13,
    "start_time": "2023-03-10T11:18:47.684Z"
   },
   {
    "duration": 18,
    "start_time": "2023-03-10T11:18:47.699Z"
   },
   {
    "duration": 15,
    "start_time": "2023-03-10T11:18:47.719Z"
   },
   {
    "duration": 21,
    "start_time": "2023-03-10T11:18:47.737Z"
   },
   {
    "duration": 24,
    "start_time": "2023-03-10T11:18:47.773Z"
   },
   {
    "duration": 157,
    "start_time": "2023-03-10T11:18:47.800Z"
   },
   {
    "duration": 46,
    "start_time": "2023-03-10T11:18:47.959Z"
   },
   {
    "duration": 143,
    "start_time": "2023-03-10T11:18:48.007Z"
   },
   {
    "duration": 39,
    "start_time": "2023-03-10T11:18:48.151Z"
   },
   {
    "duration": 10,
    "start_time": "2023-03-10T11:18:48.192Z"
   },
   {
    "duration": 11,
    "start_time": "2023-03-10T11:18:48.204Z"
   },
   {
    "duration": 10,
    "start_time": "2023-03-10T11:18:48.218Z"
   },
   {
    "duration": 48,
    "start_time": "2023-03-10T11:18:48.231Z"
   },
   {
    "duration": 1287,
    "start_time": "2023-03-10T11:18:48.280Z"
   },
   {
    "duration": 1276,
    "start_time": "2023-03-10T11:18:49.568Z"
   },
   {
    "duration": 738,
    "start_time": "2023-03-10T11:18:50.847Z"
   },
   {
    "duration": 7,
    "start_time": "2023-03-10T11:18:51.595Z"
   },
   {
    "duration": 11,
    "start_time": "2023-03-10T11:18:51.605Z"
   },
   {
    "duration": 6,
    "start_time": "2023-03-10T11:18:51.618Z"
   },
   {
    "duration": 10,
    "start_time": "2023-03-10T11:18:51.627Z"
   },
   {
    "duration": 1583,
    "start_time": "2023-03-10T11:18:51.640Z"
   },
   {
    "duration": 23,
    "start_time": "2023-03-10T11:18:53.225Z"
   },
   {
    "duration": 1514,
    "start_time": "2023-03-10T11:18:53.251Z"
   },
   {
    "duration": 11,
    "start_time": "2023-03-10T11:18:54.773Z"
   },
   {
    "duration": 22,
    "start_time": "2023-03-10T11:18:54.792Z"
   },
   {
    "duration": 12,
    "start_time": "2023-03-10T11:18:54.816Z"
   },
   {
    "duration": 23,
    "start_time": "2023-03-10T11:18:54.830Z"
   },
   {
    "duration": 1571,
    "start_time": "2023-03-10T11:18:54.855Z"
   },
   {
    "duration": 3,
    "start_time": "2023-03-10T11:18:56.428Z"
   },
   {
    "duration": 7,
    "start_time": "2023-03-10T11:18:56.433Z"
   },
   {
    "duration": 7,
    "start_time": "2023-03-10T11:18:56.442Z"
   },
   {
    "duration": 6,
    "start_time": "2023-03-10T11:18:56.451Z"
   },
   {
    "duration": 23,
    "start_time": "2023-03-10T11:18:56.459Z"
   },
   {
    "duration": 21,
    "start_time": "2023-03-10T11:18:56.484Z"
   },
   {
    "duration": 136,
    "start_time": "2023-03-10T11:18:56.507Z"
   },
   {
    "duration": 0,
    "start_time": "2023-03-10T11:18:56.645Z"
   },
   {
    "duration": 0,
    "start_time": "2023-03-10T11:18:56.646Z"
   },
   {
    "duration": 0,
    "start_time": "2023-03-10T11:18:56.648Z"
   },
   {
    "duration": 0,
    "start_time": "2023-03-10T11:18:56.649Z"
   },
   {
    "duration": 0,
    "start_time": "2023-03-10T11:18:56.650Z"
   },
   {
    "duration": 1581,
    "start_time": "2023-03-10T11:23:37.085Z"
   },
   {
    "duration": 830,
    "start_time": "2023-03-10T11:23:38.669Z"
   },
   {
    "duration": 27,
    "start_time": "2023-03-10T11:23:39.501Z"
   },
   {
    "duration": 22,
    "start_time": "2023-03-10T11:23:39.529Z"
   },
   {
    "duration": 30,
    "start_time": "2023-03-10T11:23:39.573Z"
   },
   {
    "duration": 18,
    "start_time": "2023-03-10T11:23:39.605Z"
   },
   {
    "duration": 13,
    "start_time": "2023-03-10T11:23:39.625Z"
   },
   {
    "duration": 50,
    "start_time": "2023-03-10T11:23:39.640Z"
   },
   {
    "duration": 9,
    "start_time": "2023-03-10T11:23:39.692Z"
   },
   {
    "duration": 6,
    "start_time": "2023-03-10T11:23:39.703Z"
   },
   {
    "duration": 8,
    "start_time": "2023-03-10T11:23:39.711Z"
   },
   {
    "duration": 11,
    "start_time": "2023-03-10T11:23:39.721Z"
   },
   {
    "duration": 13,
    "start_time": "2023-03-10T11:23:39.734Z"
   },
   {
    "duration": 13,
    "start_time": "2023-03-10T11:23:39.777Z"
   },
   {
    "duration": 15,
    "start_time": "2023-03-10T11:23:39.792Z"
   },
   {
    "duration": 11,
    "start_time": "2023-03-10T11:23:39.809Z"
   },
   {
    "duration": 167,
    "start_time": "2023-03-10T11:23:39.822Z"
   },
   {
    "duration": 27,
    "start_time": "2023-03-10T11:23:39.991Z"
   },
   {
    "duration": 136,
    "start_time": "2023-03-10T11:23:40.020Z"
   },
   {
    "duration": 35,
    "start_time": "2023-03-10T11:23:40.158Z"
   },
   {
    "duration": 9,
    "start_time": "2023-03-10T11:23:40.195Z"
   },
   {
    "duration": 6,
    "start_time": "2023-03-10T11:23:40.206Z"
   },
   {
    "duration": 40,
    "start_time": "2023-03-10T11:23:40.214Z"
   },
   {
    "duration": 30,
    "start_time": "2023-03-10T11:23:40.255Z"
   },
   {
    "duration": 1380,
    "start_time": "2023-03-10T11:23:40.286Z"
   },
   {
    "duration": 1227,
    "start_time": "2023-03-10T11:23:41.668Z"
   },
   {
    "duration": 803,
    "start_time": "2023-03-10T11:23:42.897Z"
   },
   {
    "duration": 5,
    "start_time": "2023-03-10T11:23:43.702Z"
   },
   {
    "duration": 13,
    "start_time": "2023-03-10T11:23:43.709Z"
   },
   {
    "duration": 15,
    "start_time": "2023-03-10T11:23:43.724Z"
   },
   {
    "duration": 9,
    "start_time": "2023-03-10T11:23:43.741Z"
   },
   {
    "duration": 1482,
    "start_time": "2023-03-10T11:23:43.751Z"
   },
   {
    "duration": 23,
    "start_time": "2023-03-10T11:23:45.235Z"
   },
   {
    "duration": 1614,
    "start_time": "2023-03-10T11:23:45.261Z"
   },
   {
    "duration": 14,
    "start_time": "2023-03-10T11:23:46.876Z"
   },
   {
    "duration": 16,
    "start_time": "2023-03-10T11:23:46.893Z"
   },
   {
    "duration": 23,
    "start_time": "2023-03-10T11:23:46.910Z"
   },
   {
    "duration": 31,
    "start_time": "2023-03-10T11:23:46.935Z"
   },
   {
    "duration": 1544,
    "start_time": "2023-03-10T11:23:46.968Z"
   },
   {
    "duration": 4,
    "start_time": "2023-03-10T11:23:48.515Z"
   },
   {
    "duration": 8,
    "start_time": "2023-03-10T11:23:48.523Z"
   },
   {
    "duration": 6,
    "start_time": "2023-03-10T11:23:48.533Z"
   },
   {
    "duration": 7,
    "start_time": "2023-03-10T11:23:48.541Z"
   },
   {
    "duration": 17,
    "start_time": "2023-03-10T11:23:48.550Z"
   },
   {
    "duration": 24,
    "start_time": "2023-03-10T11:23:48.573Z"
   },
   {
    "duration": 14,
    "start_time": "2023-03-10T11:23:48.599Z"
   },
   {
    "duration": 4991,
    "start_time": "2023-03-10T11:23:48.615Z"
   },
   {
    "duration": 825,
    "start_time": "2023-03-10T11:23:53.608Z"
   },
   {
    "duration": 8021,
    "start_time": "2023-03-10T11:23:54.435Z"
   },
   {
    "duration": 4,
    "start_time": "2023-03-10T11:24:02.458Z"
   },
   {
    "duration": 1622,
    "start_time": "2023-03-10T11:31:11.572Z"
   },
   {
    "duration": 812,
    "start_time": "2023-03-10T11:31:13.196Z"
   },
   {
    "duration": 28,
    "start_time": "2023-03-10T11:31:14.010Z"
   },
   {
    "duration": 51,
    "start_time": "2023-03-10T11:31:14.041Z"
   },
   {
    "duration": 28,
    "start_time": "2023-03-10T11:31:14.094Z"
   },
   {
    "duration": 24,
    "start_time": "2023-03-10T11:31:14.125Z"
   },
   {
    "duration": 41,
    "start_time": "2023-03-10T11:31:14.151Z"
   },
   {
    "duration": 29,
    "start_time": "2023-03-10T11:31:14.195Z"
   },
   {
    "duration": 12,
    "start_time": "2023-03-10T11:31:14.225Z"
   },
   {
    "duration": 9,
    "start_time": "2023-03-10T11:31:14.240Z"
   },
   {
    "duration": 30,
    "start_time": "2023-03-10T11:31:14.251Z"
   },
   {
    "duration": 14,
    "start_time": "2023-03-10T11:31:14.288Z"
   },
   {
    "duration": 20,
    "start_time": "2023-03-10T11:31:14.305Z"
   },
   {
    "duration": 15,
    "start_time": "2023-03-10T11:31:14.327Z"
   },
   {
    "duration": 15,
    "start_time": "2023-03-10T11:31:14.344Z"
   },
   {
    "duration": 28,
    "start_time": "2023-03-10T11:31:14.361Z"
   },
   {
    "duration": 154,
    "start_time": "2023-03-10T11:31:14.392Z"
   },
   {
    "duration": 32,
    "start_time": "2023-03-10T11:31:14.548Z"
   },
   {
    "duration": 125,
    "start_time": "2023-03-10T11:31:14.582Z"
   },
   {
    "duration": 29,
    "start_time": "2023-03-10T11:31:14.708Z"
   },
   {
    "duration": 9,
    "start_time": "2023-03-10T11:31:14.739Z"
   },
   {
    "duration": 29,
    "start_time": "2023-03-10T11:31:14.750Z"
   },
   {
    "duration": 12,
    "start_time": "2023-03-10T11:31:14.781Z"
   },
   {
    "duration": 13,
    "start_time": "2023-03-10T11:31:14.795Z"
   },
   {
    "duration": 1389,
    "start_time": "2023-03-10T11:31:14.810Z"
   },
   {
    "duration": 1252,
    "start_time": "2023-03-10T11:31:16.201Z"
   },
   {
    "duration": 697,
    "start_time": "2023-03-10T11:31:17.455Z"
   },
   {
    "duration": 6,
    "start_time": "2023-03-10T11:31:18.156Z"
   },
   {
    "duration": 17,
    "start_time": "2023-03-10T11:31:18.164Z"
   },
   {
    "duration": 15,
    "start_time": "2023-03-10T11:31:18.187Z"
   },
   {
    "duration": 4,
    "start_time": "2023-03-10T11:31:18.204Z"
   },
   {
    "duration": 1424,
    "start_time": "2023-03-10T11:31:18.210Z"
   },
   {
    "duration": 23,
    "start_time": "2023-03-10T11:31:19.637Z"
   },
   {
    "duration": 1500,
    "start_time": "2023-03-10T11:31:19.662Z"
   },
   {
    "duration": 27,
    "start_time": "2023-03-10T11:31:21.165Z"
   },
   {
    "duration": 7,
    "start_time": "2023-03-10T11:31:21.194Z"
   },
   {
    "duration": 13,
    "start_time": "2023-03-10T11:31:21.203Z"
   },
   {
    "duration": 25,
    "start_time": "2023-03-10T11:31:21.218Z"
   },
   {
    "duration": 1573,
    "start_time": "2023-03-10T11:31:21.245Z"
   },
   {
    "duration": 4,
    "start_time": "2023-03-10T11:31:22.820Z"
   },
   {
    "duration": 16,
    "start_time": "2023-03-10T11:31:22.826Z"
   },
   {
    "duration": 8,
    "start_time": "2023-03-10T11:31:22.844Z"
   },
   {
    "duration": 12,
    "start_time": "2023-03-10T11:31:22.855Z"
   },
   {
    "duration": 18,
    "start_time": "2023-03-10T11:31:22.869Z"
   },
   {
    "duration": 10,
    "start_time": "2023-03-10T11:31:22.889Z"
   },
   {
    "duration": 14,
    "start_time": "2023-03-10T11:31:22.901Z"
   },
   {
    "duration": 4958,
    "start_time": "2023-03-10T11:31:22.917Z"
   },
   {
    "duration": 27636,
    "start_time": "2023-03-10T11:31:27.877Z"
   },
   {
    "duration": 831600,
    "start_time": "2023-03-10T11:31:55.515Z"
   },
   {
    "duration": 4,
    "start_time": "2023-03-10T11:45:47.117Z"
   },
   {
    "duration": 5,
    "start_time": "2023-03-10T11:48:30.294Z"
   },
   {
    "duration": 6,
    "start_time": "2023-03-10T11:55:24.459Z"
   },
   {
    "duration": 5,
    "start_time": "2023-03-10T11:59:32.908Z"
   },
   {
    "duration": 8008,
    "start_time": "2023-03-10T11:59:33.690Z"
   },
   {
    "duration": 128,
    "start_time": "2023-03-10T12:02:13.088Z"
   },
   {
    "duration": 11,
    "start_time": "2023-03-10T12:02:38.141Z"
   },
   {
    "duration": 4,
    "start_time": "2023-03-10T12:02:46.741Z"
   },
   {
    "duration": 50,
    "start_time": "2023-03-10T12:08:17.701Z"
   },
   {
    "duration": 4,
    "start_time": "2023-03-10T12:08:31.906Z"
   },
   {
    "duration": 5,
    "start_time": "2023-03-10T12:10:09.307Z"
   },
   {
    "duration": 1670,
    "start_time": "2023-03-10T12:10:38.001Z"
   },
   {
    "duration": 887,
    "start_time": "2023-03-10T12:10:39.681Z"
   },
   {
    "duration": 38,
    "start_time": "2023-03-10T12:10:40.570Z"
   },
   {
    "duration": 76,
    "start_time": "2023-03-10T12:10:40.612Z"
   },
   {
    "duration": 90,
    "start_time": "2023-03-10T12:10:40.695Z"
   },
   {
    "duration": 63,
    "start_time": "2023-03-10T12:10:40.788Z"
   },
   {
    "duration": 43,
    "start_time": "2023-03-10T12:10:40.854Z"
   },
   {
    "duration": 53,
    "start_time": "2023-03-10T12:10:40.900Z"
   },
   {
    "duration": 51,
    "start_time": "2023-03-10T12:10:40.955Z"
   },
   {
    "duration": 30,
    "start_time": "2023-03-10T12:10:41.010Z"
   },
   {
    "duration": 20,
    "start_time": "2023-03-10T12:10:41.042Z"
   },
   {
    "duration": 58,
    "start_time": "2023-03-10T12:10:41.064Z"
   },
   {
    "duration": 27,
    "start_time": "2023-03-10T12:10:41.124Z"
   },
   {
    "duration": 60,
    "start_time": "2023-03-10T12:10:41.153Z"
   },
   {
    "duration": 30,
    "start_time": "2023-03-10T12:10:41.215Z"
   },
   {
    "duration": 28,
    "start_time": "2023-03-10T12:10:41.247Z"
   },
   {
    "duration": 220,
    "start_time": "2023-03-10T12:10:41.286Z"
   },
   {
    "duration": 41,
    "start_time": "2023-03-10T12:10:41.508Z"
   },
   {
    "duration": 147,
    "start_time": "2023-03-10T12:10:41.551Z"
   },
   {
    "duration": 35,
    "start_time": "2023-03-10T12:10:41.700Z"
   },
   {
    "duration": 16,
    "start_time": "2023-03-10T12:10:41.737Z"
   },
   {
    "duration": 41,
    "start_time": "2023-03-10T12:10:41.755Z"
   },
   {
    "duration": 40,
    "start_time": "2023-03-10T12:10:41.798Z"
   },
   {
    "duration": 27,
    "start_time": "2023-03-10T12:10:41.840Z"
   },
   {
    "duration": 1333,
    "start_time": "2023-03-10T12:10:41.869Z"
   },
   {
    "duration": 1281,
    "start_time": "2023-03-10T12:10:43.205Z"
   },
   {
    "duration": 753,
    "start_time": "2023-03-10T12:10:44.488Z"
   },
   {
    "duration": 5,
    "start_time": "2023-03-10T12:10:45.245Z"
   },
   {
    "duration": 22,
    "start_time": "2023-03-10T12:10:45.252Z"
   },
   {
    "duration": 33,
    "start_time": "2023-03-10T12:10:45.276Z"
   },
   {
    "duration": 4,
    "start_time": "2023-03-10T12:10:45.311Z"
   },
   {
    "duration": 1490,
    "start_time": "2023-03-10T12:10:45.317Z"
   },
   {
    "duration": 26,
    "start_time": "2023-03-10T12:10:46.810Z"
   },
   {
    "duration": 1522,
    "start_time": "2023-03-10T12:10:46.838Z"
   },
   {
    "duration": 32,
    "start_time": "2023-03-10T12:10:48.362Z"
   },
   {
    "duration": 6,
    "start_time": "2023-03-10T12:10:48.401Z"
   },
   {
    "duration": 20,
    "start_time": "2023-03-10T12:10:48.409Z"
   },
   {
    "duration": 25,
    "start_time": "2023-03-10T12:10:48.431Z"
   },
   {
    "duration": 1502,
    "start_time": "2023-03-10T12:10:48.458Z"
   },
   {
    "duration": 12,
    "start_time": "2023-03-10T12:10:49.962Z"
   },
   {
    "duration": 55,
    "start_time": "2023-03-10T12:10:49.978Z"
   },
   {
    "duration": 21,
    "start_time": "2023-03-10T12:10:50.036Z"
   },
   {
    "duration": 66,
    "start_time": "2023-03-10T12:10:50.059Z"
   },
   {
    "duration": 29,
    "start_time": "2023-03-10T12:10:50.128Z"
   },
   {
    "duration": 47,
    "start_time": "2023-03-10T12:10:50.160Z"
   },
   {
    "duration": 20,
    "start_time": "2023-03-10T12:10:50.211Z"
   },
   {
    "duration": 8355,
    "start_time": "2023-03-10T12:10:50.234Z"
   },
   {
    "duration": 28926,
    "start_time": "2023-03-10T12:10:58.597Z"
   },
   {
    "duration": 859454,
    "start_time": "2023-03-10T12:11:27.526Z"
   },
   {
    "duration": 11,
    "start_time": "2023-03-10T12:25:46.987Z"
   },
   {
    "duration": 6,
    "start_time": "2023-03-10T12:25:47.004Z"
   },
   {
    "duration": 8,
    "start_time": "2023-03-10T12:25:47.012Z"
   },
   {
    "duration": 8166,
    "start_time": "2023-03-10T12:25:47.021Z"
   },
   {
    "duration": 8,
    "start_time": "2023-03-10T12:25:55.190Z"
   },
   {
    "duration": 43,
    "start_time": "2023-03-11T15:41:10.577Z"
   },
   {
    "duration": 1487,
    "start_time": "2023-03-11T15:41:21.946Z"
   },
   {
    "duration": 2333,
    "start_time": "2023-03-11T15:41:23.436Z"
   },
   {
    "duration": 25,
    "start_time": "2023-03-11T15:41:25.771Z"
   },
   {
    "duration": 22,
    "start_time": "2023-03-11T15:41:25.799Z"
   },
   {
    "duration": 20,
    "start_time": "2023-03-11T15:41:25.823Z"
   },
   {
    "duration": 19,
    "start_time": "2023-03-11T15:41:25.844Z"
   },
   {
    "duration": 10,
    "start_time": "2023-03-11T15:41:25.865Z"
   },
   {
    "duration": 19,
    "start_time": "2023-03-11T15:41:25.877Z"
   },
   {
    "duration": 6,
    "start_time": "2023-03-11T15:41:25.898Z"
   },
   {
    "duration": 3,
    "start_time": "2023-03-11T15:41:25.906Z"
   },
   {
    "duration": 3,
    "start_time": "2023-03-11T15:41:25.940Z"
   },
   {
    "duration": 7,
    "start_time": "2023-03-11T15:41:25.945Z"
   },
   {
    "duration": 20,
    "start_time": "2023-03-11T15:41:25.953Z"
   },
   {
    "duration": 10,
    "start_time": "2023-03-11T15:41:25.974Z"
   },
   {
    "duration": 13,
    "start_time": "2023-03-11T15:41:25.986Z"
   },
   {
    "duration": 11,
    "start_time": "2023-03-11T15:41:26.000Z"
   },
   {
    "duration": 128,
    "start_time": "2023-03-11T15:41:26.013Z"
   },
   {
    "duration": 23,
    "start_time": "2023-03-11T15:41:26.143Z"
   },
   {
    "duration": 116,
    "start_time": "2023-03-11T15:41:26.168Z"
   },
   {
    "duration": 23,
    "start_time": "2023-03-11T15:41:26.286Z"
   },
   {
    "duration": 8,
    "start_time": "2023-03-11T15:41:26.311Z"
   },
   {
    "duration": 21,
    "start_time": "2023-03-11T15:41:26.320Z"
   },
   {
    "duration": 15,
    "start_time": "2023-03-11T15:41:26.342Z"
   },
   {
    "duration": 9,
    "start_time": "2023-03-11T15:41:26.358Z"
   },
   {
    "duration": 1083,
    "start_time": "2023-03-11T15:41:26.369Z"
   },
   {
    "duration": 1216,
    "start_time": "2023-03-11T15:41:27.454Z"
   },
   {
    "duration": 580,
    "start_time": "2023-03-11T15:41:28.672Z"
   },
   {
    "duration": 6,
    "start_time": "2023-03-11T15:41:29.257Z"
   },
   {
    "duration": 14,
    "start_time": "2023-03-11T15:41:29.264Z"
   },
   {
    "duration": 5,
    "start_time": "2023-03-11T15:41:29.281Z"
   },
   {
    "duration": 10,
    "start_time": "2023-03-11T15:41:29.288Z"
   },
   {
    "duration": 1281,
    "start_time": "2023-03-11T15:41:29.300Z"
   },
   {
    "duration": 18,
    "start_time": "2023-03-11T15:41:30.582Z"
   },
   {
    "duration": 1343,
    "start_time": "2023-03-11T15:41:30.602Z"
   },
   {
    "duration": 8,
    "start_time": "2023-03-11T15:41:31.946Z"
   },
   {
    "duration": 23,
    "start_time": "2023-03-11T15:41:31.956Z"
   },
   {
    "duration": 15,
    "start_time": "2023-03-11T15:41:31.981Z"
   },
   {
    "duration": 16,
    "start_time": "2023-03-11T15:41:31.998Z"
   },
   {
    "duration": 1244,
    "start_time": "2023-03-11T15:41:32.016Z"
   },
   {
    "duration": 3,
    "start_time": "2023-03-11T15:41:33.262Z"
   },
   {
    "duration": 7,
    "start_time": "2023-03-11T15:41:33.266Z"
   },
   {
    "duration": 5,
    "start_time": "2023-03-11T15:41:33.274Z"
   },
   {
    "duration": 4,
    "start_time": "2023-03-11T15:41:33.281Z"
   },
   {
    "duration": 8,
    "start_time": "2023-03-11T15:41:33.286Z"
   },
   {
    "duration": 7,
    "start_time": "2023-03-11T15:41:33.295Z"
   },
   {
    "duration": 4,
    "start_time": "2023-03-11T15:41:33.303Z"
   },
   {
    "duration": 2535,
    "start_time": "2023-03-11T15:41:33.309Z"
   },
   {
    "duration": 20587,
    "start_time": "2023-03-11T15:41:35.846Z"
   },
   {
    "duration": 645106,
    "start_time": "2023-03-11T15:41:56.434Z"
   },
   {
    "duration": 3,
    "start_time": "2023-03-11T15:52:41.542Z"
   },
   {
    "duration": 6,
    "start_time": "2023-03-11T15:52:41.546Z"
   },
   {
    "duration": 7,
    "start_time": "2023-03-11T15:52:41.554Z"
   },
   {
    "duration": 14647,
    "start_time": "2023-03-11T15:52:41.562Z"
   },
   {
    "duration": 0,
    "start_time": "2023-03-11T15:52:56.210Z"
   },
   {
    "duration": 14920,
    "start_time": "2023-03-11T16:05:53.513Z"
   },
   {
    "duration": 1328,
    "start_time": "2023-03-11T16:07:44.677Z"
   },
   {
    "duration": 657,
    "start_time": "2023-03-11T16:07:46.007Z"
   },
   {
    "duration": 23,
    "start_time": "2023-03-11T16:07:46.666Z"
   },
   {
    "duration": 19,
    "start_time": "2023-03-11T16:07:46.690Z"
   },
   {
    "duration": 35,
    "start_time": "2023-03-11T16:07:46.711Z"
   },
   {
    "duration": 19,
    "start_time": "2023-03-11T16:07:46.747Z"
   },
   {
    "duration": 11,
    "start_time": "2023-03-11T16:07:46.768Z"
   },
   {
    "duration": 17,
    "start_time": "2023-03-11T16:07:46.780Z"
   },
   {
    "duration": 9,
    "start_time": "2023-03-11T16:07:46.798Z"
   },
   {
    "duration": 34,
    "start_time": "2023-03-11T16:07:46.808Z"
   },
   {
    "duration": 9,
    "start_time": "2023-03-11T16:07:46.844Z"
   },
   {
    "duration": 7,
    "start_time": "2023-03-11T16:07:46.855Z"
   },
   {
    "duration": 11,
    "start_time": "2023-03-11T16:07:46.864Z"
   },
   {
    "duration": 9,
    "start_time": "2023-03-11T16:07:46.878Z"
   },
   {
    "duration": 17,
    "start_time": "2023-03-11T16:07:46.889Z"
   },
   {
    "duration": 37,
    "start_time": "2023-03-11T16:07:46.908Z"
   },
   {
    "duration": 135,
    "start_time": "2023-03-11T16:07:46.946Z"
   },
   {
    "duration": 26,
    "start_time": "2023-03-11T16:07:47.083Z"
   },
   {
    "duration": 113,
    "start_time": "2023-03-11T16:07:47.111Z"
   },
   {
    "duration": 33,
    "start_time": "2023-03-11T16:07:47.226Z"
   },
   {
    "duration": 9,
    "start_time": "2023-03-11T16:07:47.262Z"
   },
   {
    "duration": 7,
    "start_time": "2023-03-11T16:07:47.272Z"
   },
   {
    "duration": 8,
    "start_time": "2023-03-11T16:07:47.280Z"
   },
   {
    "duration": 10,
    "start_time": "2023-03-11T16:07:47.289Z"
   },
   {
    "duration": 1060,
    "start_time": "2023-03-11T16:07:47.300Z"
   },
   {
    "duration": 1195,
    "start_time": "2023-03-11T16:07:48.361Z"
   },
   {
    "duration": 601,
    "start_time": "2023-03-11T16:07:49.558Z"
   },
   {
    "duration": 5,
    "start_time": "2023-03-11T16:07:50.161Z"
   },
   {
    "duration": 7,
    "start_time": "2023-03-11T16:07:50.167Z"
   },
   {
    "duration": 7,
    "start_time": "2023-03-11T16:07:50.176Z"
   },
   {
    "duration": 5,
    "start_time": "2023-03-11T16:07:50.185Z"
   },
   {
    "duration": 1294,
    "start_time": "2023-03-11T16:07:50.192Z"
   },
   {
    "duration": 18,
    "start_time": "2023-03-11T16:07:51.488Z"
   },
   {
    "duration": 1318,
    "start_time": "2023-03-11T16:07:51.508Z"
   },
   {
    "duration": 15,
    "start_time": "2023-03-11T16:07:52.828Z"
   },
   {
    "duration": 5,
    "start_time": "2023-03-11T16:07:52.845Z"
   },
   {
    "duration": 9,
    "start_time": "2023-03-11T16:07:52.852Z"
   },
   {
    "duration": 17,
    "start_time": "2023-03-11T16:07:52.862Z"
   },
   {
    "duration": 1321,
    "start_time": "2023-03-11T16:07:52.881Z"
   },
   {
    "duration": 3,
    "start_time": "2023-03-11T16:07:54.204Z"
   },
   {
    "duration": 3,
    "start_time": "2023-03-11T16:07:54.211Z"
   },
   {
    "duration": 5,
    "start_time": "2023-03-11T16:07:54.216Z"
   },
   {
    "duration": 17,
    "start_time": "2023-03-11T16:07:54.223Z"
   },
   {
    "duration": 4,
    "start_time": "2023-03-11T16:07:54.242Z"
   },
   {
    "duration": 8,
    "start_time": "2023-03-11T16:07:54.248Z"
   },
   {
    "duration": 8,
    "start_time": "2023-03-11T16:07:54.258Z"
   },
   {
    "duration": 2582,
    "start_time": "2023-03-11T16:07:54.267Z"
   },
   {
    "duration": 20255,
    "start_time": "2023-03-11T16:07:56.852Z"
   },
   {
    "duration": 248315,
    "start_time": "2023-03-11T16:08:17.108Z"
   },
   {
    "duration": 3,
    "start_time": "2023-03-11T16:12:25.425Z"
   },
   {
    "duration": 7,
    "start_time": "2023-03-11T16:12:25.429Z"
   },
   {
    "duration": 6,
    "start_time": "2023-03-11T16:12:25.437Z"
   },
   {
    "duration": 121,
    "start_time": "2023-03-13T06:15:33.512Z"
   },
   {
    "duration": 1634,
    "start_time": "2023-03-13T06:16:24.393Z"
   },
   {
    "duration": 2606,
    "start_time": "2023-03-13T06:16:26.029Z"
   },
   {
    "duration": 25,
    "start_time": "2023-03-13T06:16:28.636Z"
   },
   {
    "duration": 20,
    "start_time": "2023-03-13T06:16:28.663Z"
   },
   {
    "duration": 22,
    "start_time": "2023-03-13T06:16:28.684Z"
   },
   {
    "duration": 20,
    "start_time": "2023-03-13T06:16:28.708Z"
   },
   {
    "duration": 38,
    "start_time": "2023-03-13T06:16:28.730Z"
   },
   {
    "duration": 16,
    "start_time": "2023-03-13T06:16:28.770Z"
   },
   {
    "duration": 8,
    "start_time": "2023-03-13T06:16:28.788Z"
   },
   {
    "duration": 4,
    "start_time": "2023-03-13T06:16:28.798Z"
   },
   {
    "duration": 7,
    "start_time": "2023-03-13T06:16:28.804Z"
   },
   {
    "duration": 5,
    "start_time": "2023-03-13T06:16:28.812Z"
   },
   {
    "duration": 46,
    "start_time": "2023-03-13T06:16:28.819Z"
   },
   {
    "duration": 9,
    "start_time": "2023-03-13T06:16:28.867Z"
   },
   {
    "duration": 12,
    "start_time": "2023-03-13T06:16:28.877Z"
   },
   {
    "duration": 11,
    "start_time": "2023-03-13T06:16:28.890Z"
   },
   {
    "duration": 147,
    "start_time": "2023-03-13T06:16:28.902Z"
   },
   {
    "duration": 26,
    "start_time": "2023-03-13T06:16:29.051Z"
   },
   {
    "duration": 115,
    "start_time": "2023-03-13T06:16:29.079Z"
   },
   {
    "duration": 25,
    "start_time": "2023-03-13T06:16:29.196Z"
   },
   {
    "duration": 8,
    "start_time": "2023-03-13T06:16:29.223Z"
   },
   {
    "duration": 25,
    "start_time": "2023-03-13T06:16:29.233Z"
   },
   {
    "duration": 9,
    "start_time": "2023-03-13T06:16:29.260Z"
   },
   {
    "duration": 10,
    "start_time": "2023-03-13T06:16:29.271Z"
   },
   {
    "duration": 1210,
    "start_time": "2023-03-13T06:16:29.283Z"
   },
   {
    "duration": 1195,
    "start_time": "2023-03-13T06:16:30.495Z"
   },
   {
    "duration": 694,
    "start_time": "2023-03-13T06:16:31.692Z"
   },
   {
    "duration": 5,
    "start_time": "2023-03-13T06:16:32.390Z"
   },
   {
    "duration": 20,
    "start_time": "2023-03-13T06:16:32.396Z"
   },
   {
    "duration": 29,
    "start_time": "2023-03-13T06:16:32.418Z"
   },
   {
    "duration": 13,
    "start_time": "2023-03-13T06:16:32.449Z"
   },
   {
    "duration": 1361,
    "start_time": "2023-03-13T06:16:32.464Z"
   },
   {
    "duration": 19,
    "start_time": "2023-03-13T06:16:33.827Z"
   },
   {
    "duration": 1413,
    "start_time": "2023-03-13T06:16:33.848Z"
   },
   {
    "duration": 10,
    "start_time": "2023-03-13T06:16:35.263Z"
   },
   {
    "duration": 6,
    "start_time": "2023-03-13T06:16:35.275Z"
   },
   {
    "duration": 21,
    "start_time": "2023-03-13T06:16:35.284Z"
   },
   {
    "duration": 36,
    "start_time": "2023-03-13T06:16:35.307Z"
   },
   {
    "duration": 1471,
    "start_time": "2023-03-13T06:16:35.345Z"
   },
   {
    "duration": 4,
    "start_time": "2023-03-13T06:16:36.818Z"
   },
   {
    "duration": 10,
    "start_time": "2023-03-13T06:16:36.823Z"
   },
   {
    "duration": 7,
    "start_time": "2023-03-13T06:16:36.834Z"
   },
   {
    "duration": 8,
    "start_time": "2023-03-13T06:16:36.842Z"
   },
   {
    "duration": 20,
    "start_time": "2023-03-13T06:16:36.852Z"
   },
   {
    "duration": 13,
    "start_time": "2023-03-13T06:16:36.873Z"
   },
   {
    "duration": 17,
    "start_time": "2023-03-13T06:16:36.887Z"
   },
   {
    "duration": 2652,
    "start_time": "2023-03-13T06:16:36.906Z"
   },
   {
    "duration": 25321,
    "start_time": "2023-03-13T06:16:39.560Z"
   },
   {
    "duration": 743766,
    "start_time": "2023-03-13T06:17:04.882Z"
   },
   {
    "duration": 8,
    "start_time": "2023-03-13T06:29:28.650Z"
   },
   {
    "duration": 6,
    "start_time": "2023-03-13T06:29:28.660Z"
   },
   {
    "duration": 10,
    "start_time": "2023-03-13T06:29:28.668Z"
   },
   {
    "duration": 17388,
    "start_time": "2023-03-13T06:29:28.680Z"
   },
   {
    "duration": 0,
    "start_time": "2023-03-13T06:29:46.070Z"
   },
   {
    "duration": 0,
    "start_time": "2023-03-13T06:29:46.072Z"
   },
   {
    "duration": 0,
    "start_time": "2023-03-13T06:29:46.074Z"
   },
   {
    "duration": 16049,
    "start_time": "2023-03-13T06:32:28.077Z"
   },
   {
    "duration": 6515,
    "start_time": "2023-03-13T06:33:24.705Z"
   },
   {
    "duration": 19,
    "start_time": "2023-03-13T06:42:34.249Z"
   },
   {
    "duration": 9,
    "start_time": "2023-03-13T06:44:46.582Z"
   },
   {
    "duration": 11,
    "start_time": "2023-03-13T06:46:12.924Z"
   },
   {
    "duration": 5,
    "start_time": "2023-03-13T06:46:22.763Z"
   },
   {
    "duration": 2,
    "start_time": "2023-03-13T06:47:18.145Z"
   },
   {
    "duration": 9,
    "start_time": "2023-03-13T06:47:19.021Z"
   },
   {
    "duration": 15,
    "start_time": "2023-03-13T06:47:39.047Z"
   },
   {
    "duration": 5,
    "start_time": "2023-03-13T06:47:58.869Z"
   },
   {
    "duration": 18,
    "start_time": "2023-03-13T06:48:01.414Z"
   },
   {
    "duration": 14,
    "start_time": "2023-03-13T06:49:42.957Z"
   },
   {
    "duration": 5,
    "start_time": "2023-03-13T06:52:50.673Z"
   },
   {
    "duration": 16604,
    "start_time": "2023-03-13T06:57:09.473Z"
   },
   {
    "duration": 13,
    "start_time": "2023-03-13T06:58:26.059Z"
   },
   {
    "duration": 5,
    "start_time": "2023-03-13T06:59:28.498Z"
   },
   {
    "duration": 16328,
    "start_time": "2023-03-13T06:59:31.441Z"
   },
   {
    "duration": 5,
    "start_time": "2023-03-13T07:08:28.174Z"
   },
   {
    "duration": 5,
    "start_time": "2023-03-13T07:11:50.719Z"
   },
   {
    "duration": 17681,
    "start_time": "2023-03-13T07:11:52.144Z"
   },
   {
    "duration": 2,
    "start_time": "2023-03-13T07:12:40.640Z"
   },
   {
    "duration": 3,
    "start_time": "2023-03-13T07:12:41.295Z"
   },
   {
    "duration": 5,
    "start_time": "2023-03-13T07:13:03.224Z"
   },
   {
    "duration": 11,
    "start_time": "2023-03-13T07:13:13.488Z"
   },
   {
    "duration": 16716,
    "start_time": "2023-03-13T07:16:07.424Z"
   },
   {
    "duration": 0,
    "start_time": "2023-03-13T07:16:24.142Z"
   },
   {
    "duration": 1336,
    "start_time": "2023-03-13T07:16:41.011Z"
   },
   {
    "duration": 669,
    "start_time": "2023-03-13T07:16:42.349Z"
   },
   {
    "duration": 26,
    "start_time": "2023-03-13T07:16:43.019Z"
   },
   {
    "duration": 28,
    "start_time": "2023-03-13T07:16:43.047Z"
   },
   {
    "duration": 24,
    "start_time": "2023-03-13T07:16:43.076Z"
   },
   {
    "duration": 19,
    "start_time": "2023-03-13T07:16:43.102Z"
   },
   {
    "duration": 12,
    "start_time": "2023-03-13T07:16:43.123Z"
   },
   {
    "duration": 36,
    "start_time": "2023-03-13T07:16:43.137Z"
   },
   {
    "duration": 8,
    "start_time": "2023-03-13T07:16:43.175Z"
   },
   {
    "duration": 3,
    "start_time": "2023-03-13T07:16:43.187Z"
   },
   {
    "duration": 22,
    "start_time": "2023-03-13T07:16:43.192Z"
   },
   {
    "duration": 6,
    "start_time": "2023-03-13T07:16:43.216Z"
   },
   {
    "duration": 33,
    "start_time": "2023-03-13T07:16:43.224Z"
   },
   {
    "duration": 7,
    "start_time": "2023-03-13T07:16:43.259Z"
   },
   {
    "duration": 11,
    "start_time": "2023-03-13T07:16:43.268Z"
   },
   {
    "duration": 25,
    "start_time": "2023-03-13T07:16:43.281Z"
   },
   {
    "duration": 140,
    "start_time": "2023-03-13T07:16:43.308Z"
   },
   {
    "duration": 31,
    "start_time": "2023-03-13T07:16:43.449Z"
   },
   {
    "duration": 103,
    "start_time": "2023-03-13T07:16:43.482Z"
   },
   {
    "duration": 25,
    "start_time": "2023-03-13T07:16:43.586Z"
   },
   {
    "duration": 9,
    "start_time": "2023-03-13T07:16:43.613Z"
   },
   {
    "duration": 6,
    "start_time": "2023-03-13T07:16:43.623Z"
   },
   {
    "duration": 9,
    "start_time": "2023-03-13T07:16:43.658Z"
   },
   {
    "duration": 17,
    "start_time": "2023-03-13T07:16:43.668Z"
   },
   {
    "duration": 1223,
    "start_time": "2023-03-13T07:16:43.686Z"
   },
   {
    "duration": 1164,
    "start_time": "2023-03-13T07:16:44.911Z"
   },
   {
    "duration": 617,
    "start_time": "2023-03-13T07:16:46.076Z"
   },
   {
    "duration": 5,
    "start_time": "2023-03-13T07:16:46.697Z"
   },
   {
    "duration": 29,
    "start_time": "2023-03-13T07:16:46.703Z"
   },
   {
    "duration": 17,
    "start_time": "2023-03-13T07:16:46.734Z"
   },
   {
    "duration": 22,
    "start_time": "2023-03-13T07:16:46.752Z"
   },
   {
    "duration": 1381,
    "start_time": "2023-03-13T07:16:46.776Z"
   },
   {
    "duration": 20,
    "start_time": "2023-03-13T07:16:48.159Z"
   },
   {
    "duration": 1361,
    "start_time": "2023-03-13T07:16:48.181Z"
   },
   {
    "duration": 14,
    "start_time": "2023-03-13T07:16:49.544Z"
   },
   {
    "duration": 4,
    "start_time": "2023-03-13T07:16:49.559Z"
   },
   {
    "duration": 9,
    "start_time": "2023-03-13T07:16:49.565Z"
   },
   {
    "duration": 18,
    "start_time": "2023-03-13T07:16:49.576Z"
   },
   {
    "duration": 1418,
    "start_time": "2023-03-13T07:16:49.596Z"
   },
   {
    "duration": 3,
    "start_time": "2023-03-13T07:16:51.015Z"
   },
   {
    "duration": 19,
    "start_time": "2023-03-13T07:16:51.020Z"
   },
   {
    "duration": 6,
    "start_time": "2023-03-13T07:16:51.040Z"
   },
   {
    "duration": 9,
    "start_time": "2023-03-13T07:16:51.047Z"
   },
   {
    "duration": 8,
    "start_time": "2023-03-13T07:16:51.058Z"
   },
   {
    "duration": 17,
    "start_time": "2023-03-13T07:16:51.067Z"
   },
   {
    "duration": 11,
    "start_time": "2023-03-13T07:16:51.086Z"
   },
   {
    "duration": 2561,
    "start_time": "2023-03-13T07:16:51.099Z"
   },
   {
    "duration": 23983,
    "start_time": "2023-03-13T07:16:53.662Z"
   },
   {
    "duration": 746516,
    "start_time": "2023-03-13T07:17:17.647Z"
   },
   {
    "duration": 3,
    "start_time": "2023-03-13T07:29:44.165Z"
   },
   {
    "duration": 12,
    "start_time": "2023-03-13T07:29:44.170Z"
   },
   {
    "duration": 4,
    "start_time": "2023-03-13T07:29:44.184Z"
   },
   {
    "duration": 5,
    "start_time": "2023-03-13T07:29:44.189Z"
   },
   {
    "duration": 9,
    "start_time": "2023-03-13T07:29:44.196Z"
   },
   {
    "duration": 16770,
    "start_time": "2023-03-13T07:29:44.206Z"
   },
   {
    "duration": 0,
    "start_time": "2023-03-13T07:30:00.978Z"
   },
   {
    "duration": 0,
    "start_time": "2023-03-13T07:30:00.979Z"
   },
   {
    "duration": 0,
    "start_time": "2023-03-13T07:30:00.981Z"
   },
   {
    "duration": 2,
    "start_time": "2023-03-13T07:35:43.593Z"
   },
   {
    "duration": 3,
    "start_time": "2023-03-13T07:35:44.409Z"
   },
   {
    "duration": 18,
    "start_time": "2023-03-13T07:43:21.004Z"
   },
   {
    "duration": 5,
    "start_time": "2023-03-13T07:43:43.381Z"
   },
   {
    "duration": 16888,
    "start_time": "2023-03-13T07:43:51.451Z"
   },
   {
    "duration": 16715,
    "start_time": "2023-03-13T07:49:59.327Z"
   },
   {
    "duration": 13,
    "start_time": "2023-03-13T07:53:36.321Z"
   },
   {
    "duration": 4,
    "start_time": "2023-03-13T07:58:31.003Z"
   },
   {
    "duration": 5,
    "start_time": "2023-03-13T07:58:33.922Z"
   },
   {
    "duration": 16309,
    "start_time": "2023-03-13T07:58:54.784Z"
   },
   {
    "duration": 1149,
    "start_time": "2023-03-13T15:18:29.285Z"
   },
   {
    "duration": 1082,
    "start_time": "2023-03-13T15:18:51.322Z"
   },
   {
    "duration": 1135,
    "start_time": "2023-03-13T15:19:05.580Z"
   },
   {
    "duration": 1098,
    "start_time": "2023-03-13T15:22:38.118Z"
   },
   {
    "duration": 1197,
    "start_time": "2023-03-13T15:22:54.629Z"
   },
   {
    "duration": 1133,
    "start_time": "2023-03-13T15:23:22.591Z"
   },
   {
    "duration": 1253,
    "start_time": "2023-03-13T15:23:34.847Z"
   },
   {
    "duration": 1166,
    "start_time": "2023-03-13T15:24:00.046Z"
   },
   {
    "duration": 1050,
    "start_time": "2023-03-13T15:24:10.330Z"
   },
   {
    "duration": 1188,
    "start_time": "2023-03-13T15:24:21.115Z"
   },
   {
    "duration": 1189,
    "start_time": "2023-03-13T15:24:26.685Z"
   },
   {
    "duration": 1097,
    "start_time": "2023-03-13T15:24:37.925Z"
   },
   {
    "duration": 1001,
    "start_time": "2023-03-13T15:24:49.885Z"
   },
   {
    "duration": 1069,
    "start_time": "2023-03-13T15:24:58.453Z"
   },
   {
    "duration": 1098,
    "start_time": "2023-03-13T15:25:03.781Z"
   },
   {
    "duration": 1100,
    "start_time": "2023-03-13T15:25:08.917Z"
   },
   {
    "duration": 1252,
    "start_time": "2023-03-13T15:25:30.430Z"
   },
   {
    "duration": 1047,
    "start_time": "2023-03-13T15:26:10.647Z"
   },
   {
    "duration": 1093,
    "start_time": "2023-03-13T15:26:38.583Z"
   },
   {
    "duration": 44,
    "start_time": "2023-03-13T15:27:25.855Z"
   },
   {
    "duration": 44,
    "start_time": "2023-03-13T15:27:48.365Z"
   },
   {
    "duration": 35,
    "start_time": "2023-03-13T15:28:28.504Z"
   },
   {
    "duration": 1060,
    "start_time": "2023-03-13T15:29:01.053Z"
   },
   {
    "duration": 48,
    "start_time": "2023-03-13T15:32:13.257Z"
   },
   {
    "duration": 1161,
    "start_time": "2023-03-13T15:32:23.746Z"
   },
   {
    "duration": 1095,
    "start_time": "2023-03-13T15:32:55.733Z"
   },
   {
    "duration": 51,
    "start_time": "2023-03-13T15:33:50.320Z"
   },
   {
    "duration": 551,
    "start_time": "2023-03-13T15:44:49.431Z"
   },
   {
    "duration": 1010,
    "start_time": "2023-03-13T15:45:14.002Z"
   },
   {
    "duration": 1396,
    "start_time": "2023-03-13T15:45:18.497Z"
   },
   {
    "duration": 586,
    "start_time": "2023-03-13T15:45:41.352Z"
   },
   {
    "duration": 56,
    "start_time": "2023-03-13T15:46:30.728Z"
   },
   {
    "duration": 44,
    "start_time": "2023-03-13T15:52:15.808Z"
   },
   {
    "duration": 1080,
    "start_time": "2023-03-13T15:54:54.303Z"
   },
   {
    "duration": 638,
    "start_time": "2023-03-13T15:55:12.599Z"
   },
   {
    "duration": 678,
    "start_time": "2023-03-13T15:55:24.185Z"
   },
   {
    "duration": 587,
    "start_time": "2023-03-13T15:55:38.317Z"
   },
   {
    "duration": 582,
    "start_time": "2023-03-13T15:56:41.423Z"
   },
   {
    "duration": 630,
    "start_time": "2023-03-13T15:56:52.598Z"
   },
   {
    "duration": 590,
    "start_time": "2023-03-13T15:57:01.167Z"
   },
   {
    "duration": 574,
    "start_time": "2023-03-13T15:57:05.542Z"
   },
   {
    "duration": 865,
    "start_time": "2023-03-13T15:57:19.062Z"
   },
   {
    "duration": 558,
    "start_time": "2023-03-13T15:57:24.665Z"
   },
   {
    "duration": 659,
    "start_time": "2023-03-13T15:57:37.270Z"
   },
   {
    "duration": 666,
    "start_time": "2023-03-13T15:59:04.083Z"
   },
   {
    "duration": 676,
    "start_time": "2023-03-13T15:59:58.025Z"
   },
   {
    "duration": 616,
    "start_time": "2023-03-13T16:01:54.081Z"
   },
   {
    "duration": 640,
    "start_time": "2023-03-13T16:02:37.483Z"
   },
   {
    "duration": 750,
    "start_time": "2023-03-13T16:08:00.625Z"
   },
   {
    "duration": 5,
    "start_time": "2023-03-13T16:09:34.686Z"
   },
   {
    "duration": 1742,
    "start_time": "2023-03-13T16:11:29.801Z"
   },
   {
    "duration": 27,
    "start_time": "2023-03-13T16:12:39.680Z"
   },
   {
    "duration": 1724,
    "start_time": "2023-03-13T16:12:59.004Z"
   },
   {
    "duration": 2351,
    "start_time": "2023-03-13T16:15:34.198Z"
   },
   {
    "duration": 6,
    "start_time": "2023-03-13T16:15:52.684Z"
   },
   {
    "duration": 15,
    "start_time": "2023-03-13T16:15:56.379Z"
   },
   {
    "duration": 13,
    "start_time": "2023-03-13T16:15:59.507Z"
   },
   {
    "duration": 1720,
    "start_time": "2023-03-13T16:16:00.427Z"
   },
   {
    "duration": 1315,
    "start_time": "2023-03-13T16:16:13.419Z"
   },
   {
    "duration": 1756,
    "start_time": "2023-03-13T16:16:20.491Z"
   },
   {
    "duration": 17,
    "start_time": "2023-03-13T16:16:36.267Z"
   },
   {
    "duration": 2117,
    "start_time": "2023-03-13T16:16:37.531Z"
   },
   {
    "duration": 4,
    "start_time": "2023-03-13T16:23:40.102Z"
   },
   {
    "duration": 5,
    "start_time": "2023-03-13T16:23:44.188Z"
   },
   {
    "duration": 4,
    "start_time": "2023-03-13T16:23:48.830Z"
   },
   {
    "duration": 3,
    "start_time": "2023-03-13T16:24:32.691Z"
   },
   {
    "duration": 0,
    "start_time": "2023-03-13T16:25:08.827Z"
   },
   {
    "duration": 16393,
    "start_time": "2023-03-13T16:25:13.489Z"
   },
   {
    "duration": 16301,
    "start_time": "2023-03-13T16:25:32.958Z"
   },
   {
    "duration": 16372,
    "start_time": "2023-03-13T16:25:55.030Z"
   },
   {
    "duration": 15,
    "start_time": "2023-03-13T16:28:33.937Z"
   },
   {
    "duration": 4,
    "start_time": "2023-03-13T16:35:51.391Z"
   },
   {
    "duration": 16613,
    "start_time": "2023-03-13T16:36:00.439Z"
   },
   {
    "duration": 16430,
    "start_time": "2023-03-13T16:38:16.913Z"
   },
   {
    "duration": 5,
    "start_time": "2023-03-13T16:40:14.234Z"
   },
   {
    "duration": 5,
    "start_time": "2023-03-13T16:41:04.301Z"
   },
   {
    "duration": 6688,
    "start_time": "2023-03-13T16:41:13.587Z"
   },
   {
    "duration": 6,
    "start_time": "2023-03-13T16:51:15.338Z"
   },
   {
    "duration": 5,
    "start_time": "2023-03-13T16:55:41.685Z"
   },
   {
    "duration": 16391,
    "start_time": "2023-03-13T16:55:42.484Z"
   },
   {
    "duration": 33513,
    "start_time": "2023-03-13T16:56:28.197Z"
   },
   {
    "duration": 17042,
    "start_time": "2023-03-13T16:57:39.397Z"
   },
   {
    "duration": 33111,
    "start_time": "2023-03-13T16:58:21.349Z"
   },
   {
    "duration": 22,
    "start_time": "2023-03-13T16:59:18.932Z"
   },
   {
    "duration": 5,
    "start_time": "2023-03-13T17:02:55.230Z"
   },
   {
    "duration": 16275,
    "start_time": "2023-03-13T17:02:57.838Z"
   },
   {
    "duration": 1487,
    "start_time": "2023-03-13T17:04:00.121Z"
   },
   {
    "duration": 738,
    "start_time": "2023-03-13T17:04:01.610Z"
   },
   {
    "duration": 23,
    "start_time": "2023-03-13T17:04:02.350Z"
   },
   {
    "duration": 47,
    "start_time": "2023-03-13T17:04:02.375Z"
   },
   {
    "duration": 46,
    "start_time": "2023-03-13T17:04:02.424Z"
   },
   {
    "duration": 39,
    "start_time": "2023-03-13T17:04:02.472Z"
   },
   {
    "duration": 26,
    "start_time": "2023-03-13T17:04:02.513Z"
   },
   {
    "duration": 17,
    "start_time": "2023-03-13T17:04:02.541Z"
   },
   {
    "duration": 11,
    "start_time": "2023-03-13T17:04:02.560Z"
   },
   {
    "duration": 16,
    "start_time": "2023-03-13T17:04:02.574Z"
   },
   {
    "duration": 21,
    "start_time": "2023-03-13T17:04:02.591Z"
   },
   {
    "duration": 31,
    "start_time": "2023-03-13T17:04:02.613Z"
   },
   {
    "duration": 29,
    "start_time": "2023-03-13T17:04:02.645Z"
   },
   {
    "duration": 39,
    "start_time": "2023-03-13T17:04:02.676Z"
   },
   {
    "duration": 23,
    "start_time": "2023-03-13T17:04:02.717Z"
   },
   {
    "duration": 32,
    "start_time": "2023-03-13T17:04:02.742Z"
   },
   {
    "duration": 146,
    "start_time": "2023-03-13T17:04:02.776Z"
   },
   {
    "duration": 34,
    "start_time": "2023-03-13T17:04:02.924Z"
   },
   {
    "duration": 109,
    "start_time": "2023-03-13T17:04:02.960Z"
   },
   {
    "duration": 26,
    "start_time": "2023-03-13T17:04:03.071Z"
   },
   {
    "duration": 8,
    "start_time": "2023-03-13T17:04:03.098Z"
   },
   {
    "duration": 6,
    "start_time": "2023-03-13T17:04:03.108Z"
   },
   {
    "duration": 30,
    "start_time": "2023-03-13T17:04:03.115Z"
   },
   {
    "duration": 19,
    "start_time": "2023-03-13T17:04:03.147Z"
   },
   {
    "duration": 1270,
    "start_time": "2023-03-13T17:04:03.168Z"
   },
   {
    "duration": 1259,
    "start_time": "2023-03-13T17:04:04.441Z"
   },
   {
    "duration": 1375,
    "start_time": "2023-03-13T17:04:05.702Z"
   },
   {
    "duration": 1202,
    "start_time": "2023-03-13T17:04:07.082Z"
   },
   {
    "duration": 647,
    "start_time": "2023-03-13T17:04:08.287Z"
   },
   {
    "duration": 622,
    "start_time": "2023-03-13T17:04:08.936Z"
   },
   {
    "duration": 5,
    "start_time": "2023-03-13T17:04:09.561Z"
   },
   {
    "duration": 12,
    "start_time": "2023-03-13T17:04:09.568Z"
   },
   {
    "duration": 7,
    "start_time": "2023-03-13T17:04:09.582Z"
   },
   {
    "duration": 5,
    "start_time": "2023-03-13T17:04:09.591Z"
   },
   {
    "duration": 10,
    "start_time": "2023-03-13T17:04:09.598Z"
   },
   {
    "duration": 1960,
    "start_time": "2023-03-13T17:04:09.610Z"
   },
   {
    "duration": 25,
    "start_time": "2023-03-13T17:04:11.572Z"
   },
   {
    "duration": 1744,
    "start_time": "2023-03-13T17:04:11.599Z"
   },
   {
    "duration": 12,
    "start_time": "2023-03-13T17:04:13.345Z"
   },
   {
    "duration": 17,
    "start_time": "2023-03-13T17:04:13.359Z"
   },
   {
    "duration": 5,
    "start_time": "2023-03-13T17:04:13.377Z"
   },
   {
    "duration": 11,
    "start_time": "2023-03-13T17:04:13.383Z"
   },
   {
    "duration": 22,
    "start_time": "2023-03-13T17:04:13.395Z"
   },
   {
    "duration": 1862,
    "start_time": "2023-03-13T17:04:13.419Z"
   },
   {
    "duration": 4,
    "start_time": "2023-03-13T17:04:15.283Z"
   },
   {
    "duration": 17,
    "start_time": "2023-03-13T17:04:15.289Z"
   },
   {
    "duration": 7,
    "start_time": "2023-03-13T17:04:15.308Z"
   },
   {
    "duration": 28,
    "start_time": "2023-03-13T17:04:15.317Z"
   },
   {
    "duration": 11,
    "start_time": "2023-03-13T17:04:15.347Z"
   },
   {
    "duration": 9,
    "start_time": "2023-03-13T17:04:15.360Z"
   },
   {
    "duration": 34,
    "start_time": "2023-03-13T17:04:15.371Z"
   },
   {
    "duration": 2850,
    "start_time": "2023-03-13T17:04:15.407Z"
   },
   {
    "duration": 23176,
    "start_time": "2023-03-13T17:04:18.259Z"
   },
   {
    "duration": 529276,
    "start_time": "2023-03-13T17:04:41.437Z"
   },
   {
    "duration": 4,
    "start_time": "2023-03-13T17:13:30.715Z"
   },
   {
    "duration": 23,
    "start_time": "2023-03-13T17:13:30.721Z"
   },
   {
    "duration": 43,
    "start_time": "2023-03-13T17:13:30.745Z"
   },
   {
    "duration": 16597,
    "start_time": "2023-03-13T17:13:30.790Z"
   },
   {
    "duration": 0,
    "start_time": "2023-03-13T17:13:47.389Z"
   },
   {
    "duration": 0,
    "start_time": "2023-03-13T17:13:47.390Z"
   },
   {
    "duration": 0,
    "start_time": "2023-03-13T17:13:47.391Z"
   },
   {
    "duration": 0,
    "start_time": "2023-03-13T17:13:47.393Z"
   },
   {
    "duration": 0,
    "start_time": "2023-03-13T17:13:47.394Z"
   },
   {
    "duration": 0,
    "start_time": "2023-03-13T17:13:47.395Z"
   },
   {
    "duration": 52,
    "start_time": "2023-03-13T17:13:55.913Z"
   },
   {
    "duration": 9,
    "start_time": "2023-03-14T12:48:23.453Z"
   },
   {
    "duration": 4,
    "start_time": "2023-03-14T12:48:23.553Z"
   },
   {
    "duration": 1546,
    "start_time": "2023-03-15T06:32:49.313Z"
   },
   {
    "duration": 2437,
    "start_time": "2023-03-15T06:32:50.861Z"
   },
   {
    "duration": 26,
    "start_time": "2023-03-15T06:32:53.300Z"
   },
   {
    "duration": 20,
    "start_time": "2023-03-15T06:32:53.328Z"
   },
   {
    "duration": 24,
    "start_time": "2023-03-15T06:32:53.350Z"
   },
   {
    "duration": 31,
    "start_time": "2023-03-15T06:32:53.376Z"
   },
   {
    "duration": 13,
    "start_time": "2023-03-15T06:32:53.409Z"
   },
   {
    "duration": 19,
    "start_time": "2023-03-15T06:32:53.424Z"
   },
   {
    "duration": 8,
    "start_time": "2023-03-15T06:32:53.445Z"
   },
   {
    "duration": 3,
    "start_time": "2023-03-15T06:32:53.490Z"
   },
   {
    "duration": 8,
    "start_time": "2023-03-15T06:32:53.495Z"
   },
   {
    "duration": 29,
    "start_time": "2023-03-15T06:32:53.505Z"
   },
   {
    "duration": 16,
    "start_time": "2023-03-15T06:32:53.535Z"
   },
   {
    "duration": 9,
    "start_time": "2023-03-15T06:32:53.553Z"
   },
   {
    "duration": 38,
    "start_time": "2023-03-15T06:32:53.564Z"
   },
   {
    "duration": 36,
    "start_time": "2023-03-15T06:32:53.603Z"
   },
   {
    "duration": 156,
    "start_time": "2023-03-15T06:32:53.641Z"
   },
   {
    "duration": 25,
    "start_time": "2023-03-15T06:32:53.799Z"
   },
   {
    "duration": 118,
    "start_time": "2023-03-15T06:32:53.825Z"
   },
   {
    "duration": 26,
    "start_time": "2023-03-15T06:32:53.944Z"
   },
   {
    "duration": 19,
    "start_time": "2023-03-15T06:32:53.972Z"
   },
   {
    "duration": 9,
    "start_time": "2023-03-15T06:32:53.992Z"
   },
   {
    "duration": 10,
    "start_time": "2023-03-15T06:32:54.003Z"
   },
   {
    "duration": 37,
    "start_time": "2023-03-15T06:32:54.015Z"
   },
   {
    "duration": 1205,
    "start_time": "2023-03-15T06:32:54.053Z"
   },
   {
    "duration": 1165,
    "start_time": "2023-03-15T06:32:55.260Z"
   },
   {
    "duration": 1211,
    "start_time": "2023-03-15T06:32:56.427Z"
   },
   {
    "duration": 1189,
    "start_time": "2023-03-15T06:32:57.642Z"
   },
   {
    "duration": 628,
    "start_time": "2023-03-15T06:32:58.833Z"
   },
   {
    "duration": 621,
    "start_time": "2023-03-15T06:32:59.463Z"
   },
   {
    "duration": 5,
    "start_time": "2023-03-15T06:33:00.090Z"
   },
   {
    "duration": 20,
    "start_time": "2023-03-15T06:33:00.096Z"
   },
   {
    "duration": 28,
    "start_time": "2023-03-15T06:33:00.118Z"
   },
   {
    "duration": 13,
    "start_time": "2023-03-15T06:33:00.147Z"
   },
   {
    "duration": 29,
    "start_time": "2023-03-15T06:33:00.161Z"
   },
   {
    "duration": 2011,
    "start_time": "2023-03-15T06:33:00.192Z"
   },
   {
    "duration": 24,
    "start_time": "2023-03-15T06:33:02.204Z"
   },
   {
    "duration": 1773,
    "start_time": "2023-03-15T06:33:02.230Z"
   },
   {
    "duration": 7,
    "start_time": "2023-03-15T06:33:04.005Z"
   },
   {
    "duration": 21,
    "start_time": "2023-03-15T06:33:04.013Z"
   },
   {
    "duration": 13,
    "start_time": "2023-03-15T06:33:04.035Z"
   },
   {
    "duration": 9,
    "start_time": "2023-03-15T06:33:04.049Z"
   },
   {
    "duration": 31,
    "start_time": "2023-03-15T06:33:04.059Z"
   },
   {
    "duration": 1896,
    "start_time": "2023-03-15T06:33:04.091Z"
   },
   {
    "duration": 4,
    "start_time": "2023-03-15T06:33:05.989Z"
   },
   {
    "duration": 9,
    "start_time": "2023-03-15T06:33:05.994Z"
   },
   {
    "duration": 9,
    "start_time": "2023-03-15T06:33:06.005Z"
   },
   {
    "duration": 8,
    "start_time": "2023-03-15T06:33:06.016Z"
   },
   {
    "duration": 19,
    "start_time": "2023-03-15T06:33:06.026Z"
   },
   {
    "duration": 11,
    "start_time": "2023-03-15T06:33:06.046Z"
   },
   {
    "duration": 11,
    "start_time": "2023-03-15T06:33:06.059Z"
   },
   {
    "duration": 2718,
    "start_time": "2023-03-15T06:33:06.072Z"
   },
   {
    "duration": 23206,
    "start_time": "2023-03-15T06:33:08.792Z"
   },
   {
    "duration": 765705,
    "start_time": "2023-03-15T06:33:32.000Z"
   },
   {
    "duration": 3,
    "start_time": "2023-03-15T06:46:17.707Z"
   },
   {
    "duration": 19,
    "start_time": "2023-03-15T06:46:17.712Z"
   },
   {
    "duration": 20,
    "start_time": "2023-03-15T06:46:17.732Z"
   },
   {
    "duration": 16989,
    "start_time": "2023-03-15T06:46:17.753Z"
   },
   {
    "duration": 0,
    "start_time": "2023-03-15T06:46:34.743Z"
   },
   {
    "duration": 0,
    "start_time": "2023-03-15T06:46:34.745Z"
   },
   {
    "duration": 0,
    "start_time": "2023-03-15T06:46:34.746Z"
   },
   {
    "duration": 0,
    "start_time": "2023-03-15T06:46:34.748Z"
   },
   {
    "duration": 17956,
    "start_time": "2023-03-15T07:07:55.520Z"
   },
   {
    "duration": 16826,
    "start_time": "2023-03-15T07:11:48.275Z"
   },
   {
    "duration": 17924,
    "start_time": "2023-03-15T07:16:57.677Z"
   },
   {
    "duration": 3,
    "start_time": "2023-03-15T07:23:57.361Z"
   },
   {
    "duration": 17612,
    "start_time": "2023-03-15T07:24:00.707Z"
   },
   {
    "duration": 17599,
    "start_time": "2023-03-15T07:24:36.615Z"
   },
   {
    "duration": 17504,
    "start_time": "2023-03-15T07:25:46.615Z"
   },
   {
    "duration": 16973,
    "start_time": "2023-03-15T13:02:43.077Z"
   },
   {
    "duration": 49,
    "start_time": "2023-03-15T19:52:47.830Z"
   },
   {
    "duration": 1644,
    "start_time": "2023-03-15T19:52:59.099Z"
   },
   {
    "duration": 2307,
    "start_time": "2023-03-15T19:53:00.745Z"
   },
   {
    "duration": 26,
    "start_time": "2023-03-15T19:53:03.054Z"
   },
   {
    "duration": 21,
    "start_time": "2023-03-15T19:53:03.082Z"
   },
   {
    "duration": 42,
    "start_time": "2023-03-15T19:53:03.106Z"
   },
   {
    "duration": 25,
    "start_time": "2023-03-15T19:53:03.150Z"
   },
   {
    "duration": 14,
    "start_time": "2023-03-15T19:53:03.177Z"
   },
   {
    "duration": 16,
    "start_time": "2023-03-15T19:53:03.193Z"
   },
   {
    "duration": 8,
    "start_time": "2023-03-15T19:53:03.235Z"
   },
   {
    "duration": 3,
    "start_time": "2023-03-15T19:53:03.245Z"
   },
   {
    "duration": 5,
    "start_time": "2023-03-15T19:53:03.250Z"
   },
   {
    "duration": 4,
    "start_time": "2023-03-15T19:53:03.257Z"
   },
   {
    "duration": 10,
    "start_time": "2023-03-15T19:53:03.263Z"
   },
   {
    "duration": 7,
    "start_time": "2023-03-15T19:53:03.276Z"
   },
   {
    "duration": 15,
    "start_time": "2023-03-15T19:53:03.284Z"
   },
   {
    "duration": 40,
    "start_time": "2023-03-15T19:53:03.300Z"
   },
   {
    "duration": 142,
    "start_time": "2023-03-15T19:53:03.342Z"
   },
   {
    "duration": 24,
    "start_time": "2023-03-15T19:53:03.485Z"
   },
   {
    "duration": 132,
    "start_time": "2023-03-15T19:53:03.510Z"
   },
   {
    "duration": 27,
    "start_time": "2023-03-15T19:53:03.643Z"
   },
   {
    "duration": 8,
    "start_time": "2023-03-15T19:53:03.671Z"
   },
   {
    "duration": 14,
    "start_time": "2023-03-15T19:53:03.680Z"
   },
   {
    "duration": 31,
    "start_time": "2023-03-15T19:53:03.696Z"
   },
   {
    "duration": 11,
    "start_time": "2023-03-15T19:53:03.736Z"
   },
   {
    "duration": 1151,
    "start_time": "2023-03-15T19:53:03.749Z"
   },
   {
    "duration": 1170,
    "start_time": "2023-03-15T19:53:04.903Z"
   },
   {
    "duration": 1291,
    "start_time": "2023-03-15T19:53:06.075Z"
   },
   {
    "duration": 1197,
    "start_time": "2023-03-15T19:53:07.368Z"
   },
   {
    "duration": 703,
    "start_time": "2023-03-15T19:53:08.566Z"
   },
   {
    "duration": 627,
    "start_time": "2023-03-15T19:53:09.271Z"
   },
   {
    "duration": 5,
    "start_time": "2023-03-15T19:53:09.899Z"
   },
   {
    "duration": 9,
    "start_time": "2023-03-15T19:53:09.906Z"
   },
   {
    "duration": 16,
    "start_time": "2023-03-15T19:53:09.916Z"
   },
   {
    "duration": 5,
    "start_time": "2023-03-15T19:53:09.934Z"
   },
   {
    "duration": 4,
    "start_time": "2023-03-15T19:53:09.940Z"
   },
   {
    "duration": 1912,
    "start_time": "2023-03-15T19:53:09.945Z"
   },
   {
    "duration": 23,
    "start_time": "2023-03-15T19:53:11.859Z"
   },
   {
    "duration": 1709,
    "start_time": "2023-03-15T19:53:11.884Z"
   },
   {
    "duration": 5,
    "start_time": "2023-03-15T19:53:13.595Z"
   },
   {
    "duration": 30,
    "start_time": "2023-03-15T19:53:13.601Z"
   },
   {
    "duration": 6,
    "start_time": "2023-03-15T19:53:13.635Z"
   },
   {
    "duration": 7,
    "start_time": "2023-03-15T19:53:13.643Z"
   },
   {
    "duration": 26,
    "start_time": "2023-03-15T19:53:13.651Z"
   },
   {
    "duration": 1793,
    "start_time": "2023-03-15T19:53:13.679Z"
   },
   {
    "duration": 4,
    "start_time": "2023-03-15T19:53:15.474Z"
   },
   {
    "duration": 6,
    "start_time": "2023-03-15T19:53:15.479Z"
   },
   {
    "duration": 4,
    "start_time": "2023-03-15T19:53:15.487Z"
   },
   {
    "duration": 14,
    "start_time": "2023-03-15T19:53:15.492Z"
   },
   {
    "duration": 29,
    "start_time": "2023-03-15T19:53:15.508Z"
   },
   {
    "duration": 7,
    "start_time": "2023-03-15T19:53:15.539Z"
   },
   {
    "duration": 5,
    "start_time": "2023-03-15T19:53:15.548Z"
   },
   {
    "duration": 3791,
    "start_time": "2023-03-15T19:53:15.555Z"
   },
   {
    "duration": 23104,
    "start_time": "2023-03-15T19:53:19.348Z"
   },
   {
    "duration": 751882,
    "start_time": "2023-03-15T19:53:42.454Z"
   },
   {
    "duration": 4,
    "start_time": "2023-03-15T20:06:14.338Z"
   },
   {
    "duration": 11,
    "start_time": "2023-03-15T20:06:14.344Z"
   },
   {
    "duration": 14,
    "start_time": "2023-03-15T20:06:14.356Z"
   },
   {
    "duration": 18012,
    "start_time": "2023-03-15T20:06:14.371Z"
   },
   {
    "duration": 0,
    "start_time": "2023-03-15T20:06:32.384Z"
   },
   {
    "duration": 0,
    "start_time": "2023-03-15T20:06:32.385Z"
   },
   {
    "duration": 0,
    "start_time": "2023-03-15T20:06:32.386Z"
   },
   {
    "duration": 0,
    "start_time": "2023-03-15T20:06:32.388Z"
   },
   {
    "duration": 16763,
    "start_time": "2023-03-15T20:10:38.012Z"
   },
   {
    "duration": 15886,
    "start_time": "2023-03-15T20:12:52.377Z"
   },
   {
    "duration": 15657,
    "start_time": "2023-03-15T20:15:54.137Z"
   },
   {
    "duration": 1412,
    "start_time": "2023-03-15T20:25:11.138Z"
   },
   {
    "duration": 745,
    "start_time": "2023-03-15T20:25:12.552Z"
   },
   {
    "duration": 33,
    "start_time": "2023-03-15T20:25:13.299Z"
   },
   {
    "duration": 21,
    "start_time": "2023-03-15T20:25:13.340Z"
   },
   {
    "duration": 27,
    "start_time": "2023-03-15T20:25:13.364Z"
   },
   {
    "duration": 46,
    "start_time": "2023-03-15T20:25:13.393Z"
   },
   {
    "duration": 12,
    "start_time": "2023-03-15T20:25:13.440Z"
   },
   {
    "duration": 18,
    "start_time": "2023-03-15T20:25:13.454Z"
   },
   {
    "duration": 7,
    "start_time": "2023-03-15T20:25:13.474Z"
   },
   {
    "duration": 3,
    "start_time": "2023-03-15T20:25:13.482Z"
   },
   {
    "duration": 7,
    "start_time": "2023-03-15T20:25:13.486Z"
   },
   {
    "duration": 5,
    "start_time": "2023-03-15T20:25:13.494Z"
   },
   {
    "duration": 35,
    "start_time": "2023-03-15T20:25:13.500Z"
   },
   {
    "duration": 9,
    "start_time": "2023-03-15T20:25:13.539Z"
   },
   {
    "duration": 11,
    "start_time": "2023-03-15T20:25:13.550Z"
   },
   {
    "duration": 10,
    "start_time": "2023-03-15T20:25:13.563Z"
   },
   {
    "duration": 162,
    "start_time": "2023-03-15T20:25:13.575Z"
   },
   {
    "duration": 24,
    "start_time": "2023-03-15T20:25:13.739Z"
   },
   {
    "duration": 118,
    "start_time": "2023-03-15T20:25:13.764Z"
   },
   {
    "duration": 27,
    "start_time": "2023-03-15T20:25:13.883Z"
   },
   {
    "duration": 26,
    "start_time": "2023-03-15T20:25:13.912Z"
   },
   {
    "duration": 8,
    "start_time": "2023-03-15T20:25:13.940Z"
   },
   {
    "duration": 12,
    "start_time": "2023-03-15T20:25:13.949Z"
   },
   {
    "duration": 10,
    "start_time": "2023-03-15T20:25:13.963Z"
   },
   {
    "duration": 1145,
    "start_time": "2023-03-15T20:25:13.975Z"
   },
   {
    "duration": 1190,
    "start_time": "2023-03-15T20:25:15.122Z"
   },
   {
    "duration": 1261,
    "start_time": "2023-03-15T20:25:16.314Z"
   },
   {
    "duration": 1212,
    "start_time": "2023-03-15T20:25:17.576Z"
   },
   {
    "duration": 665,
    "start_time": "2023-03-15T20:25:18.790Z"
   },
   {
    "duration": 695,
    "start_time": "2023-03-15T20:25:19.456Z"
   },
   {
    "duration": 5,
    "start_time": "2023-03-15T20:25:20.153Z"
   },
   {
    "duration": 9,
    "start_time": "2023-03-15T20:25:20.159Z"
   },
   {
    "duration": 4,
    "start_time": "2023-03-15T20:25:20.169Z"
   },
   {
    "duration": 4,
    "start_time": "2023-03-15T20:25:20.175Z"
   },
   {
    "duration": 4,
    "start_time": "2023-03-15T20:25:20.180Z"
   },
   {
    "duration": 1940,
    "start_time": "2023-03-15T20:25:20.185Z"
   },
   {
    "duration": 26,
    "start_time": "2023-03-15T20:25:22.131Z"
   },
   {
    "duration": 1730,
    "start_time": "2023-03-15T20:25:22.159Z"
   },
   {
    "duration": 5,
    "start_time": "2023-03-15T20:25:23.891Z"
   },
   {
    "duration": 13,
    "start_time": "2023-03-15T20:25:23.898Z"
   },
   {
    "duration": 13,
    "start_time": "2023-03-15T20:25:23.926Z"
   },
   {
    "duration": 14,
    "start_time": "2023-03-15T20:25:23.941Z"
   },
   {
    "duration": 24,
    "start_time": "2023-03-15T20:25:23.956Z"
   },
   {
    "duration": 1859,
    "start_time": "2023-03-15T20:25:23.981Z"
   },
   {
    "duration": 3,
    "start_time": "2023-03-15T20:25:25.842Z"
   },
   {
    "duration": 6,
    "start_time": "2023-03-15T20:25:25.847Z"
   },
   {
    "duration": 12,
    "start_time": "2023-03-15T20:25:25.855Z"
   },
   {
    "duration": 22,
    "start_time": "2023-03-15T20:25:25.869Z"
   },
   {
    "duration": 10,
    "start_time": "2023-03-15T20:25:25.893Z"
   },
   {
    "duration": 8,
    "start_time": "2023-03-15T20:25:25.905Z"
   },
   {
    "duration": 4,
    "start_time": "2023-03-15T20:25:25.915Z"
   },
   {
    "duration": 3322,
    "start_time": "2023-03-15T20:25:25.921Z"
   },
   {
    "duration": 23336,
    "start_time": "2023-03-15T20:25:29.323Z"
   },
   {
    "duration": 740124,
    "start_time": "2023-03-15T20:25:52.660Z"
   },
   {
    "duration": 3,
    "start_time": "2023-03-15T20:38:12.786Z"
   },
   {
    "duration": 6,
    "start_time": "2023-03-15T20:38:12.790Z"
   },
   {
    "duration": 4,
    "start_time": "2023-03-15T20:38:12.798Z"
   },
   {
    "duration": 16592,
    "start_time": "2023-03-15T20:38:12.804Z"
   },
   {
    "duration": 0,
    "start_time": "2023-03-15T20:38:29.397Z"
   },
   {
    "duration": 0,
    "start_time": "2023-03-15T20:38:29.398Z"
   },
   {
    "duration": 0,
    "start_time": "2023-03-15T20:38:29.400Z"
   },
   {
    "duration": 0,
    "start_time": "2023-03-15T20:38:29.401Z"
   },
   {
    "duration": 1486,
    "start_time": "2023-03-16T06:10:42.027Z"
   },
   {
    "duration": 2839,
    "start_time": "2023-03-16T06:10:43.515Z"
   },
   {
    "duration": 33,
    "start_time": "2023-03-16T06:10:46.356Z"
   },
   {
    "duration": 26,
    "start_time": "2023-03-16T06:10:46.392Z"
   },
   {
    "duration": 27,
    "start_time": "2023-03-16T06:10:46.420Z"
   },
   {
    "duration": 35,
    "start_time": "2023-03-16T06:10:46.449Z"
   },
   {
    "duration": 10,
    "start_time": "2023-03-16T06:10:46.485Z"
   },
   {
    "duration": 19,
    "start_time": "2023-03-16T06:10:46.497Z"
   },
   {
    "duration": 6,
    "start_time": "2023-03-16T06:10:46.518Z"
   },
   {
    "duration": 3,
    "start_time": "2023-03-16T06:10:46.526Z"
   },
   {
    "duration": 7,
    "start_time": "2023-03-16T06:10:46.530Z"
   },
   {
    "duration": 4,
    "start_time": "2023-03-16T06:10:46.538Z"
   },
   {
    "duration": 38,
    "start_time": "2023-03-16T06:10:46.543Z"
   },
   {
    "duration": 8,
    "start_time": "2023-03-16T06:10:46.582Z"
   },
   {
    "duration": 10,
    "start_time": "2023-03-16T06:10:46.591Z"
   },
   {
    "duration": 10,
    "start_time": "2023-03-16T06:10:46.603Z"
   },
   {
    "duration": 137,
    "start_time": "2023-03-16T06:10:46.614Z"
   },
   {
    "duration": 28,
    "start_time": "2023-03-16T06:10:46.752Z"
   },
   {
    "duration": 98,
    "start_time": "2023-03-16T06:10:46.782Z"
   },
   {
    "duration": 23,
    "start_time": "2023-03-16T06:10:46.881Z"
   },
   {
    "duration": 7,
    "start_time": "2023-03-16T06:10:46.906Z"
   },
   {
    "duration": 11,
    "start_time": "2023-03-16T06:10:46.914Z"
   },
   {
    "duration": 12,
    "start_time": "2023-03-16T06:10:46.926Z"
   },
   {
    "duration": 10,
    "start_time": "2023-03-16T06:10:46.940Z"
   },
   {
    "duration": 1274,
    "start_time": "2023-03-16T06:10:46.952Z"
   },
   {
    "duration": 1085,
    "start_time": "2023-03-16T06:10:48.228Z"
   },
   {
    "duration": 1085,
    "start_time": "2023-03-16T06:10:49.315Z"
   },
   {
    "duration": 1137,
    "start_time": "2023-03-16T06:10:50.404Z"
   },
   {
    "duration": 638,
    "start_time": "2023-03-16T06:10:51.542Z"
   },
   {
    "duration": 527,
    "start_time": "2023-03-16T06:10:52.182Z"
   },
   {
    "duration": 5,
    "start_time": "2023-03-16T06:10:52.710Z"
   },
   {
    "duration": 18,
    "start_time": "2023-03-16T06:10:52.716Z"
   },
   {
    "duration": 4,
    "start_time": "2023-03-16T06:10:52.736Z"
   },
   {
    "duration": 5,
    "start_time": "2023-03-16T06:10:52.741Z"
   },
   {
    "duration": 4,
    "start_time": "2023-03-16T06:10:52.747Z"
   },
   {
    "duration": 1790,
    "start_time": "2023-03-16T06:10:52.752Z"
   },
   {
    "duration": 22,
    "start_time": "2023-03-16T06:10:54.544Z"
   },
   {
    "duration": 1815,
    "start_time": "2023-03-16T06:10:54.568Z"
   },
   {
    "duration": 6,
    "start_time": "2023-03-16T06:10:56.385Z"
   },
   {
    "duration": 17,
    "start_time": "2023-03-16T06:10:56.393Z"
   },
   {
    "duration": 4,
    "start_time": "2023-03-16T06:10:56.412Z"
   },
   {
    "duration": 14,
    "start_time": "2023-03-16T06:10:56.418Z"
   },
   {
    "duration": 37,
    "start_time": "2023-03-16T06:10:56.434Z"
   },
   {
    "duration": 1649,
    "start_time": "2023-03-16T06:10:56.473Z"
   },
   {
    "duration": 4,
    "start_time": "2023-03-16T06:10:58.124Z"
   },
   {
    "duration": 29,
    "start_time": "2023-03-16T06:10:58.130Z"
   },
   {
    "duration": 23,
    "start_time": "2023-03-16T06:10:58.161Z"
   },
   {
    "duration": 7,
    "start_time": "2023-03-16T06:10:58.186Z"
   },
   {
    "duration": 9,
    "start_time": "2023-03-16T06:10:58.195Z"
   },
   {
    "duration": 10,
    "start_time": "2023-03-16T06:10:58.205Z"
   },
   {
    "duration": 6,
    "start_time": "2023-03-16T06:10:58.217Z"
   },
   {
    "duration": 3456,
    "start_time": "2023-03-16T06:10:58.225Z"
   },
   {
    "duration": 24716,
    "start_time": "2023-03-16T06:11:01.683Z"
   },
   {
    "duration": 756358,
    "start_time": "2023-03-16T06:11:26.401Z"
   },
   {
    "duration": 4,
    "start_time": "2023-03-16T06:24:02.760Z"
   },
   {
    "duration": 23,
    "start_time": "2023-03-16T06:24:02.766Z"
   },
   {
    "duration": 4,
    "start_time": "2023-03-16T06:24:02.791Z"
   },
   {
    "duration": 17051,
    "start_time": "2023-03-16T06:24:02.797Z"
   },
   {
    "duration": 0,
    "start_time": "2023-03-16T06:24:19.849Z"
   },
   {
    "duration": 0,
    "start_time": "2023-03-16T06:24:19.850Z"
   },
   {
    "duration": 0,
    "start_time": "2023-03-16T06:24:19.851Z"
   },
   {
    "duration": 0,
    "start_time": "2023-03-16T06:24:19.852Z"
   },
   {
    "duration": 71,
    "start_time": "2023-03-16T06:44:14.986Z"
   },
   {
    "duration": 16682,
    "start_time": "2023-03-16T06:44:27.531Z"
   },
   {
    "duration": 16135,
    "start_time": "2023-03-16T06:47:15.604Z"
   },
   {
    "duration": 6,
    "start_time": "2023-03-16T07:11:50.718Z"
   },
   {
    "duration": 16883,
    "start_time": "2023-03-16T07:12:03.550Z"
   },
   {
    "duration": 3,
    "start_time": "2023-03-16T07:15:33.888Z"
   },
   {
    "duration": 4,
    "start_time": "2023-03-16T07:16:08.175Z"
   },
   {
    "duration": 17,
    "start_time": "2023-03-16T07:18:01.736Z"
   },
   {
    "duration": 1660,
    "start_time": "2023-03-16T07:24:02.996Z"
   },
   {
    "duration": 857,
    "start_time": "2023-03-16T07:24:04.659Z"
   },
   {
    "duration": 22,
    "start_time": "2023-03-16T07:24:05.518Z"
   },
   {
    "duration": 17,
    "start_time": "2023-03-16T07:24:05.542Z"
   },
   {
    "duration": 71,
    "start_time": "2023-03-16T07:24:05.561Z"
   },
   {
    "duration": 23,
    "start_time": "2023-03-16T07:24:05.634Z"
   },
   {
    "duration": 11,
    "start_time": "2023-03-16T07:24:05.659Z"
   },
   {
    "duration": 28,
    "start_time": "2023-03-16T07:24:05.672Z"
   },
   {
    "duration": 7,
    "start_time": "2023-03-16T07:24:05.702Z"
   },
   {
    "duration": 21,
    "start_time": "2023-03-16T07:24:05.711Z"
   },
   {
    "duration": 9,
    "start_time": "2023-03-16T07:24:05.734Z"
   },
   {
    "duration": 5,
    "start_time": "2023-03-16T07:24:05.745Z"
   },
   {
    "duration": 13,
    "start_time": "2023-03-16T07:24:05.752Z"
   },
   {
    "duration": 31,
    "start_time": "2023-03-16T07:24:05.767Z"
   },
   {
    "duration": 42,
    "start_time": "2023-03-16T07:24:05.802Z"
   },
   {
    "duration": 9,
    "start_time": "2023-03-16T07:24:05.846Z"
   },
   {
    "duration": 163,
    "start_time": "2023-03-16T07:24:05.857Z"
   },
   {
    "duration": 34,
    "start_time": "2023-03-16T07:24:06.022Z"
   },
   {
    "duration": 152,
    "start_time": "2023-03-16T07:24:06.058Z"
   },
   {
    "duration": 27,
    "start_time": "2023-03-16T07:24:06.213Z"
   },
   {
    "duration": 21,
    "start_time": "2023-03-16T07:24:06.242Z"
   },
   {
    "duration": 9,
    "start_time": "2023-03-16T07:24:06.265Z"
   },
   {
    "duration": 41,
    "start_time": "2023-03-16T07:24:06.275Z"
   },
   {
    "duration": 45,
    "start_time": "2023-03-16T07:24:06.318Z"
   },
   {
    "duration": 1259,
    "start_time": "2023-03-16T07:24:06.365Z"
   },
   {
    "duration": 1045,
    "start_time": "2023-03-16T07:24:07.626Z"
   },
   {
    "duration": 1253,
    "start_time": "2023-03-16T07:24:08.672Z"
   },
   {
    "duration": 1145,
    "start_time": "2023-03-16T07:24:09.929Z"
   },
   {
    "duration": 615,
    "start_time": "2023-03-16T07:24:11.080Z"
   },
   {
    "duration": 603,
    "start_time": "2023-03-16T07:24:11.704Z"
   },
   {
    "duration": 6,
    "start_time": "2023-03-16T07:24:12.309Z"
   },
   {
    "duration": 10,
    "start_time": "2023-03-16T07:24:12.316Z"
   },
   {
    "duration": 5,
    "start_time": "2023-03-16T07:24:12.330Z"
   },
   {
    "duration": 6,
    "start_time": "2023-03-16T07:24:12.337Z"
   },
   {
    "duration": 3,
    "start_time": "2023-03-16T07:24:12.344Z"
   },
   {
    "duration": 1965,
    "start_time": "2023-03-16T07:24:12.349Z"
   },
   {
    "duration": 27,
    "start_time": "2023-03-16T07:24:14.316Z"
   },
   {
    "duration": 1682,
    "start_time": "2023-03-16T07:24:14.346Z"
   },
   {
    "duration": 7,
    "start_time": "2023-03-16T07:24:16.030Z"
   },
   {
    "duration": 45,
    "start_time": "2023-03-16T07:24:16.040Z"
   },
   {
    "duration": 30,
    "start_time": "2023-03-16T07:24:16.090Z"
   },
   {
    "duration": 40,
    "start_time": "2023-03-16T07:24:16.126Z"
   },
   {
    "duration": 91,
    "start_time": "2023-03-16T07:24:16.168Z"
   },
   {
    "duration": 1854,
    "start_time": "2023-03-16T07:24:16.261Z"
   },
   {
    "duration": 3,
    "start_time": "2023-03-16T07:24:18.116Z"
   },
   {
    "duration": 10,
    "start_time": "2023-03-16T07:24:18.120Z"
   },
   {
    "duration": 4,
    "start_time": "2023-03-16T07:24:18.132Z"
   },
   {
    "duration": 6,
    "start_time": "2023-03-16T07:24:18.138Z"
   },
   {
    "duration": 6,
    "start_time": "2023-03-16T07:24:18.146Z"
   },
   {
    "duration": 9,
    "start_time": "2023-03-16T07:24:18.153Z"
   },
   {
    "duration": 27,
    "start_time": "2023-03-16T07:24:18.179Z"
   },
   {
    "duration": 6002,
    "start_time": "2023-03-16T07:24:18.207Z"
   },
   {
    "duration": 24403,
    "start_time": "2023-03-16T07:24:24.213Z"
   },
   {
    "duration": 769094,
    "start_time": "2023-03-16T07:24:48.618Z"
   },
   {
    "duration": 4,
    "start_time": "2023-03-16T07:37:37.714Z"
   },
   {
    "duration": 4,
    "start_time": "2023-03-16T07:37:37.719Z"
   },
   {
    "duration": 6,
    "start_time": "2023-03-16T07:37:37.725Z"
   },
   {
    "duration": 129,
    "start_time": "2023-03-16T07:37:37.733Z"
   },
   {
    "duration": 0,
    "start_time": "2023-03-16T07:37:37.863Z"
   },
   {
    "duration": 0,
    "start_time": "2023-03-16T07:37:37.864Z"
   },
   {
    "duration": 0,
    "start_time": "2023-03-16T07:37:37.865Z"
   },
   {
    "duration": 1,
    "start_time": "2023-03-16T07:37:37.866Z"
   },
   {
    "duration": 0,
    "start_time": "2023-03-16T07:37:37.879Z"
   },
   {
    "duration": 0,
    "start_time": "2023-03-16T07:37:37.880Z"
   },
   {
    "duration": 1525,
    "start_time": "2023-03-16T07:43:07.108Z"
   },
   {
    "duration": 839,
    "start_time": "2023-03-16T07:43:08.635Z"
   },
   {
    "duration": 32,
    "start_time": "2023-03-16T07:43:09.476Z"
   },
   {
    "duration": 19,
    "start_time": "2023-03-16T07:43:09.511Z"
   },
   {
    "duration": 22,
    "start_time": "2023-03-16T07:43:09.532Z"
   },
   {
    "duration": 42,
    "start_time": "2023-03-16T07:43:09.555Z"
   },
   {
    "duration": 18,
    "start_time": "2023-03-16T07:43:09.599Z"
   },
   {
    "duration": 26,
    "start_time": "2023-03-16T07:43:09.619Z"
   },
   {
    "duration": 35,
    "start_time": "2023-03-16T07:43:09.647Z"
   },
   {
    "duration": 13,
    "start_time": "2023-03-16T07:43:09.685Z"
   },
   {
    "duration": 7,
    "start_time": "2023-03-16T07:43:09.700Z"
   },
   {
    "duration": 6,
    "start_time": "2023-03-16T07:43:09.709Z"
   },
   {
    "duration": 15,
    "start_time": "2023-03-16T07:43:09.717Z"
   },
   {
    "duration": 11,
    "start_time": "2023-03-16T07:43:09.734Z"
   },
   {
    "duration": 43,
    "start_time": "2023-03-16T07:43:09.746Z"
   },
   {
    "duration": 21,
    "start_time": "2023-03-16T07:43:09.791Z"
   },
   {
    "duration": 145,
    "start_time": "2023-03-16T07:43:09.814Z"
   },
   {
    "duration": 34,
    "start_time": "2023-03-16T07:43:09.960Z"
   },
   {
    "duration": 127,
    "start_time": "2023-03-16T07:43:09.996Z"
   },
   {
    "duration": 23,
    "start_time": "2023-03-16T07:43:10.124Z"
   },
   {
    "duration": 9,
    "start_time": "2023-03-16T07:43:10.148Z"
   },
   {
    "duration": 26,
    "start_time": "2023-03-16T07:43:10.158Z"
   },
   {
    "duration": 10,
    "start_time": "2023-03-16T07:43:10.185Z"
   },
   {
    "duration": 19,
    "start_time": "2023-03-16T07:43:10.197Z"
   },
   {
    "duration": 1124,
    "start_time": "2023-03-16T07:43:10.218Z"
   },
   {
    "duration": 943,
    "start_time": "2023-03-16T07:43:11.344Z"
   },
   {
    "duration": 1123,
    "start_time": "2023-03-16T07:43:12.289Z"
   },
   {
    "duration": 1156,
    "start_time": "2023-03-16T07:43:13.416Z"
   },
   {
    "duration": 652,
    "start_time": "2023-03-16T07:43:14.573Z"
   },
   {
    "duration": 644,
    "start_time": "2023-03-16T07:43:15.227Z"
   },
   {
    "duration": 10,
    "start_time": "2023-03-16T07:43:15.873Z"
   },
   {
    "duration": 36,
    "start_time": "2023-03-16T07:43:15.885Z"
   },
   {
    "duration": 9,
    "start_time": "2023-03-16T07:43:15.923Z"
   },
   {
    "duration": 5,
    "start_time": "2023-03-16T07:43:15.934Z"
   },
   {
    "duration": 4,
    "start_time": "2023-03-16T07:43:15.941Z"
   },
   {
    "duration": 1665,
    "start_time": "2023-03-16T07:43:15.947Z"
   },
   {
    "duration": 20,
    "start_time": "2023-03-16T07:43:17.613Z"
   },
   {
    "duration": 1616,
    "start_time": "2023-03-16T07:43:17.635Z"
   },
   {
    "duration": 5,
    "start_time": "2023-03-16T07:43:19.253Z"
   },
   {
    "duration": 20,
    "start_time": "2023-03-16T07:43:19.260Z"
   },
   {
    "duration": 5,
    "start_time": "2023-03-16T07:43:19.281Z"
   },
   {
    "duration": 16,
    "start_time": "2023-03-16T07:43:19.288Z"
   },
   {
    "duration": 29,
    "start_time": "2023-03-16T07:43:19.306Z"
   },
   {
    "duration": 1462,
    "start_time": "2023-03-16T07:43:19.337Z"
   },
   {
    "duration": 3,
    "start_time": "2023-03-16T07:43:20.800Z"
   },
   {
    "duration": 6,
    "start_time": "2023-03-16T07:43:20.805Z"
   },
   {
    "duration": 5,
    "start_time": "2023-03-16T07:43:20.813Z"
   },
   {
    "duration": 15,
    "start_time": "2023-03-16T07:43:20.819Z"
   },
   {
    "duration": 7,
    "start_time": "2023-03-16T07:43:20.836Z"
   },
   {
    "duration": 9,
    "start_time": "2023-03-16T07:43:20.844Z"
   },
   {
    "duration": 19,
    "start_time": "2023-03-16T07:43:20.855Z"
   },
   {
    "duration": 25,
    "start_time": "2023-03-16T07:43:20.875Z"
   },
   {
    "duration": 2681,
    "start_time": "2023-03-16T07:43:20.901Z"
   },
   {
    "duration": 23536,
    "start_time": "2023-03-16T07:43:23.586Z"
   },
   {
    "duration": 694983,
    "start_time": "2023-03-16T07:43:47.123Z"
   },
   {
    "duration": 4,
    "start_time": "2023-03-16T07:55:22.108Z"
   },
   {
    "duration": 10,
    "start_time": "2023-03-16T07:55:22.113Z"
   },
   {
    "duration": 15722,
    "start_time": "2023-03-16T07:55:22.124Z"
   },
   {
    "duration": 5,
    "start_time": "2023-03-16T08:12:00.138Z"
   },
   {
    "duration": 15662,
    "start_time": "2023-03-16T08:12:04.135Z"
   },
   {
    "duration": 32838,
    "start_time": "2023-03-16T08:12:48.527Z"
   },
   {
    "duration": 33167,
    "start_time": "2023-03-16T08:14:06.346Z"
   },
   {
    "duration": 8,
    "start_time": "2023-03-16T08:14:45.807Z"
   },
   {
    "duration": 5,
    "start_time": "2023-03-16T08:14:52.098Z"
   },
   {
    "duration": 9,
    "start_time": "2023-03-16T08:17:04.041Z"
   },
   {
    "duration": 4,
    "start_time": "2023-03-16T08:17:06.848Z"
   },
   {
    "duration": 15,
    "start_time": "2023-03-17T07:28:11.520Z"
   }
  ],
  "kernelspec": {
   "display_name": "Python 3 (ipykernel)",
   "language": "python",
   "name": "python3"
  },
  "language_info": {
   "codemirror_mode": {
    "name": "ipython",
    "version": 3
   },
   "file_extension": ".py",
   "mimetype": "text/x-python",
   "name": "python",
   "nbconvert_exporter": "python",
   "pygments_lexer": "ipython3",
   "version": "3.9.5"
  },
  "toc": {
   "base_numbering": 1,
   "nav_menu": {},
   "number_sections": true,
   "sideBar": true,
   "skip_h1_title": true,
   "title_cell": "Содержание",
   "title_sidebar": "Contents",
   "toc_cell": true,
   "toc_position": {
    "height": "calc(100% - 180px)",
    "left": "10px",
    "top": "150px",
    "width": "165px"
   },
   "toc_section_display": true,
   "toc_window_display": true
  }
 },
 "nbformat": 4,
 "nbformat_minor": 2
}
