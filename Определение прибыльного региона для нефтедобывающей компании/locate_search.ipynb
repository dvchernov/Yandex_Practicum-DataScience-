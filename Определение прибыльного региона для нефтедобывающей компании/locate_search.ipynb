{
 "cells": [
  {
   "cell_type": "markdown",
   "metadata": {},
   "source": [
    "# Выбор локации для скважины"
   ]
  },
  {
   "cell_type": "markdown",
   "metadata": {},
   "source": [
    "Допустим, вы работаете в добывающей компании «ГлавРосГосНефть». Нужно решить, где бурить новую скважину.\n",
    "\n",
    "Вам предоставлены пробы нефти в трёх регионах: в каждом 10 000 месторождений, где измерили качество нефти и объём её запасов. Постройте модель машинного обучения, которая поможет определить регион, где добыча принесёт наибольшую прибыль. Проанализируйте возможную прибыль и риски техникой *Bootstrap.*\n",
    "\n",
    "Шаги для выбора локации:\n",
    "\n",
    "- В избранном регионе ищут месторождения, для каждого определяют значения признаков;\n",
    "- Строят модель и оценивают объём запасов;\n",
    "- Выбирают месторождения с самым высокими оценками значений. Количество месторождений зависит от бюджета компании и стоимости разработки одной скважины;\n",
    "- Прибыль равна суммарной прибыли отобранных месторождений."
   ]
  },
  {
   "cell_type": "markdown",
   "metadata": {},
   "source": [
    "## Загрузка и подготовка данных"
   ]
  },
  {
   "cell_type": "code",
   "execution_count": 1,
   "metadata": {},
   "outputs": [],
   "source": [
    "import pandas as pd\n",
    "import numpy as np\n",
    "import scipy.stats as st\n",
    "\n",
    "from sklearn.linear_model import LinearRegression\n",
    "\n",
    "from sklearn.metrics import mean_squared_error, r2_score\n",
    "from sklearn.model_selection import train_test_split\n",
    "from sklearn.preprocessing import OrdinalEncoder\n",
    "\n",
    "import matplotlib.pyplot as plt"
   ]
  },
  {
   "cell_type": "markdown",
   "metadata": {},
   "source": [
    "**Открываем файлы с данными геологоразведки трёх регионов**"
   ]
  },
  {
   "cell_type": "code",
   "execution_count": 2,
   "metadata": {},
   "outputs": [],
   "source": [
    "data_1 = pd.read_csv('/datasets/geo_data_0.csv')\n",
    "data_2 = pd.read_csv('/datasets/geo_data_1.csv')\n",
    "data_3 = pd.read_csv('/datasets/geo_data_2.csv')"
   ]
  },
  {
   "cell_type": "markdown",
   "metadata": {},
   "source": [
    "**Описание данных**"
   ]
  },
  {
   "cell_type": "markdown",
   "metadata": {},
   "source": [
    "- **id** — уникальный идентификатор скважины;\n",
    "- **f0, f1, f2** — три признака точек (неважно, что они означают, но сами признаки значимы);\n",
    "- **product** — объём запасов в скважине (тыс. баррелей)."
   ]
  },
  {
   "cell_type": "markdown",
   "metadata": {},
   "source": [
    "**Перед началом обучения модели следует избавится от цисловых ID, эти данные не нужны для дальнейшей работы**"
   ]
  },
  {
   "cell_type": "code",
   "execution_count": 3,
   "metadata": {},
   "outputs": [],
   "source": [
    "drops=['id']\n",
    "data_1=data_1.drop(drops,axis=1)\n",
    "data_2=data_2.drop(drops,axis=1)\n",
    "data_3=data_3.drop(drops,axis=1)"
   ]
  },
  {
   "cell_type": "markdown",
   "metadata": {},
   "source": [
    "### Данные 1 региона"
   ]
  },
  {
   "cell_type": "code",
   "execution_count": 4,
   "metadata": {},
   "outputs": [
    {
     "data": {
      "text/html": [
       "<div>\n",
       "<style scoped>\n",
       "    .dataframe tbody tr th:only-of-type {\n",
       "        vertical-align: middle;\n",
       "    }\n",
       "\n",
       "    .dataframe tbody tr th {\n",
       "        vertical-align: top;\n",
       "    }\n",
       "\n",
       "    .dataframe thead th {\n",
       "        text-align: right;\n",
       "    }\n",
       "</style>\n",
       "<table border=\"1\" class=\"dataframe\">\n",
       "  <thead>\n",
       "    <tr style=\"text-align: right;\">\n",
       "      <th></th>\n",
       "      <th>f0</th>\n",
       "      <th>f1</th>\n",
       "      <th>f2</th>\n",
       "      <th>product</th>\n",
       "    </tr>\n",
       "  </thead>\n",
       "  <tbody>\n",
       "    <tr>\n",
       "      <th>0</th>\n",
       "      <td>0.705745</td>\n",
       "      <td>-0.497823</td>\n",
       "      <td>1.221170</td>\n",
       "      <td>105.280062</td>\n",
       "    </tr>\n",
       "    <tr>\n",
       "      <th>1</th>\n",
       "      <td>1.334711</td>\n",
       "      <td>-0.340164</td>\n",
       "      <td>4.365080</td>\n",
       "      <td>73.037750</td>\n",
       "    </tr>\n",
       "    <tr>\n",
       "      <th>2</th>\n",
       "      <td>1.022732</td>\n",
       "      <td>0.151990</td>\n",
       "      <td>1.419926</td>\n",
       "      <td>85.265647</td>\n",
       "    </tr>\n",
       "    <tr>\n",
       "      <th>3</th>\n",
       "      <td>-0.032172</td>\n",
       "      <td>0.139033</td>\n",
       "      <td>2.978566</td>\n",
       "      <td>168.620776</td>\n",
       "    </tr>\n",
       "    <tr>\n",
       "      <th>4</th>\n",
       "      <td>1.988431</td>\n",
       "      <td>0.155413</td>\n",
       "      <td>4.751769</td>\n",
       "      <td>154.036647</td>\n",
       "    </tr>\n",
       "  </tbody>\n",
       "</table>\n",
       "</div>"
      ],
      "text/plain": [
       "         f0        f1        f2     product\n",
       "0  0.705745 -0.497823  1.221170  105.280062\n",
       "1  1.334711 -0.340164  4.365080   73.037750\n",
       "2  1.022732  0.151990  1.419926   85.265647\n",
       "3 -0.032172  0.139033  2.978566  168.620776\n",
       "4  1.988431  0.155413  4.751769  154.036647"
      ]
     },
     "execution_count": 4,
     "metadata": {},
     "output_type": "execute_result"
    }
   ],
   "source": [
    "data_1.head()"
   ]
  },
  {
   "cell_type": "code",
   "execution_count": 5,
   "metadata": {},
   "outputs": [
    {
     "name": "stdout",
     "output_type": "stream",
     "text": [
      "<class 'pandas.core.frame.DataFrame'>\n",
      "RangeIndex: 100000 entries, 0 to 99999\n",
      "Data columns (total 4 columns):\n",
      " #   Column   Non-Null Count   Dtype  \n",
      "---  ------   --------------   -----  \n",
      " 0   f0       100000 non-null  float64\n",
      " 1   f1       100000 non-null  float64\n",
      " 2   f2       100000 non-null  float64\n",
      " 3   product  100000 non-null  float64\n",
      "dtypes: float64(4)\n",
      "memory usage: 3.1 MB\n"
     ]
    }
   ],
   "source": [
    "data_1.info()"
   ]
  },
  {
   "cell_type": "markdown",
   "metadata": {},
   "source": [
    "Пропусков данных нет, проверим на явные дубликаты"
   ]
  },
  {
   "cell_type": "code",
   "execution_count": 6,
   "metadata": {},
   "outputs": [
    {
     "data": {
      "text/plain": [
       "0"
      ]
     },
     "execution_count": 6,
     "metadata": {},
     "output_type": "execute_result"
    }
   ],
   "source": [
    "data_1.duplicated().sum()"
   ]
  },
  {
   "cell_type": "markdown",
   "metadata": {},
   "source": [
    "### Данные 2 региона"
   ]
  },
  {
   "cell_type": "code",
   "execution_count": 7,
   "metadata": {},
   "outputs": [
    {
     "data": {
      "text/html": [
       "<div>\n",
       "<style scoped>\n",
       "    .dataframe tbody tr th:only-of-type {\n",
       "        vertical-align: middle;\n",
       "    }\n",
       "\n",
       "    .dataframe tbody tr th {\n",
       "        vertical-align: top;\n",
       "    }\n",
       "\n",
       "    .dataframe thead th {\n",
       "        text-align: right;\n",
       "    }\n",
       "</style>\n",
       "<table border=\"1\" class=\"dataframe\">\n",
       "  <thead>\n",
       "    <tr style=\"text-align: right;\">\n",
       "      <th></th>\n",
       "      <th>f0</th>\n",
       "      <th>f1</th>\n",
       "      <th>f2</th>\n",
       "      <th>product</th>\n",
       "    </tr>\n",
       "  </thead>\n",
       "  <tbody>\n",
       "    <tr>\n",
       "      <th>0</th>\n",
       "      <td>-15.001348</td>\n",
       "      <td>-8.276000</td>\n",
       "      <td>-0.005876</td>\n",
       "      <td>3.179103</td>\n",
       "    </tr>\n",
       "    <tr>\n",
       "      <th>1</th>\n",
       "      <td>14.272088</td>\n",
       "      <td>-3.475083</td>\n",
       "      <td>0.999183</td>\n",
       "      <td>26.953261</td>\n",
       "    </tr>\n",
       "    <tr>\n",
       "      <th>2</th>\n",
       "      <td>6.263187</td>\n",
       "      <td>-5.948386</td>\n",
       "      <td>5.001160</td>\n",
       "      <td>134.766305</td>\n",
       "    </tr>\n",
       "    <tr>\n",
       "      <th>3</th>\n",
       "      <td>-13.081196</td>\n",
       "      <td>-11.506057</td>\n",
       "      <td>4.999415</td>\n",
       "      <td>137.945408</td>\n",
       "    </tr>\n",
       "    <tr>\n",
       "      <th>4</th>\n",
       "      <td>12.702195</td>\n",
       "      <td>-8.147433</td>\n",
       "      <td>5.004363</td>\n",
       "      <td>134.766305</td>\n",
       "    </tr>\n",
       "  </tbody>\n",
       "</table>\n",
       "</div>"
      ],
      "text/plain": [
       "          f0         f1        f2     product\n",
       "0 -15.001348  -8.276000 -0.005876    3.179103\n",
       "1  14.272088  -3.475083  0.999183   26.953261\n",
       "2   6.263187  -5.948386  5.001160  134.766305\n",
       "3 -13.081196 -11.506057  4.999415  137.945408\n",
       "4  12.702195  -8.147433  5.004363  134.766305"
      ]
     },
     "execution_count": 7,
     "metadata": {},
     "output_type": "execute_result"
    }
   ],
   "source": [
    "data_2.head()"
   ]
  },
  {
   "cell_type": "code",
   "execution_count": 8,
   "metadata": {},
   "outputs": [
    {
     "name": "stdout",
     "output_type": "stream",
     "text": [
      "<class 'pandas.core.frame.DataFrame'>\n",
      "RangeIndex: 100000 entries, 0 to 99999\n",
      "Data columns (total 4 columns):\n",
      " #   Column   Non-Null Count   Dtype  \n",
      "---  ------   --------------   -----  \n",
      " 0   f0       100000 non-null  float64\n",
      " 1   f1       100000 non-null  float64\n",
      " 2   f2       100000 non-null  float64\n",
      " 3   product  100000 non-null  float64\n",
      "dtypes: float64(4)\n",
      "memory usage: 3.1 MB\n"
     ]
    }
   ],
   "source": [
    "data_2.info()"
   ]
  },
  {
   "cell_type": "markdown",
   "metadata": {},
   "source": [
    "Пропусков данных нет, проверим на явные дубликаты"
   ]
  },
  {
   "cell_type": "code",
   "execution_count": 9,
   "metadata": {},
   "outputs": [
    {
     "data": {
      "text/plain": [
       "0"
      ]
     },
     "execution_count": 9,
     "metadata": {},
     "output_type": "execute_result"
    }
   ],
   "source": [
    "data_2.duplicated().sum()"
   ]
  },
  {
   "cell_type": "markdown",
   "metadata": {},
   "source": [
    "### Данные 3 региона"
   ]
  },
  {
   "cell_type": "code",
   "execution_count": 10,
   "metadata": {},
   "outputs": [
    {
     "data": {
      "text/html": [
       "<div>\n",
       "<style scoped>\n",
       "    .dataframe tbody tr th:only-of-type {\n",
       "        vertical-align: middle;\n",
       "    }\n",
       "\n",
       "    .dataframe tbody tr th {\n",
       "        vertical-align: top;\n",
       "    }\n",
       "\n",
       "    .dataframe thead th {\n",
       "        text-align: right;\n",
       "    }\n",
       "</style>\n",
       "<table border=\"1\" class=\"dataframe\">\n",
       "  <thead>\n",
       "    <tr style=\"text-align: right;\">\n",
       "      <th></th>\n",
       "      <th>f0</th>\n",
       "      <th>f1</th>\n",
       "      <th>f2</th>\n",
       "      <th>product</th>\n",
       "    </tr>\n",
       "  </thead>\n",
       "  <tbody>\n",
       "    <tr>\n",
       "      <th>0</th>\n",
       "      <td>-1.146987</td>\n",
       "      <td>0.963328</td>\n",
       "      <td>-0.828965</td>\n",
       "      <td>27.758673</td>\n",
       "    </tr>\n",
       "    <tr>\n",
       "      <th>1</th>\n",
       "      <td>0.262778</td>\n",
       "      <td>0.269839</td>\n",
       "      <td>-2.530187</td>\n",
       "      <td>56.069697</td>\n",
       "    </tr>\n",
       "    <tr>\n",
       "      <th>2</th>\n",
       "      <td>0.194587</td>\n",
       "      <td>0.289035</td>\n",
       "      <td>-5.586433</td>\n",
       "      <td>62.871910</td>\n",
       "    </tr>\n",
       "    <tr>\n",
       "      <th>3</th>\n",
       "      <td>2.236060</td>\n",
       "      <td>-0.553760</td>\n",
       "      <td>0.930038</td>\n",
       "      <td>114.572842</td>\n",
       "    </tr>\n",
       "    <tr>\n",
       "      <th>4</th>\n",
       "      <td>-0.515993</td>\n",
       "      <td>1.716266</td>\n",
       "      <td>5.899011</td>\n",
       "      <td>149.600746</td>\n",
       "    </tr>\n",
       "  </tbody>\n",
       "</table>\n",
       "</div>"
      ],
      "text/plain": [
       "         f0        f1        f2     product\n",
       "0 -1.146987  0.963328 -0.828965   27.758673\n",
       "1  0.262778  0.269839 -2.530187   56.069697\n",
       "2  0.194587  0.289035 -5.586433   62.871910\n",
       "3  2.236060 -0.553760  0.930038  114.572842\n",
       "4 -0.515993  1.716266  5.899011  149.600746"
      ]
     },
     "execution_count": 10,
     "metadata": {},
     "output_type": "execute_result"
    }
   ],
   "source": [
    "data_3.head()"
   ]
  },
  {
   "cell_type": "code",
   "execution_count": 11,
   "metadata": {},
   "outputs": [
    {
     "name": "stdout",
     "output_type": "stream",
     "text": [
      "<class 'pandas.core.frame.DataFrame'>\n",
      "RangeIndex: 100000 entries, 0 to 99999\n",
      "Data columns (total 4 columns):\n",
      " #   Column   Non-Null Count   Dtype  \n",
      "---  ------   --------------   -----  \n",
      " 0   f0       100000 non-null  float64\n",
      " 1   f1       100000 non-null  float64\n",
      " 2   f2       100000 non-null  float64\n",
      " 3   product  100000 non-null  float64\n",
      "dtypes: float64(4)\n",
      "memory usage: 3.1 MB\n"
     ]
    }
   ],
   "source": [
    "data_3.info()"
   ]
  },
  {
   "cell_type": "raw",
   "metadata": {},
   "source": [
    "Пропусков данных нет, проверим на явные дубликаты"
   ]
  },
  {
   "cell_type": "code",
   "execution_count": 12,
   "metadata": {},
   "outputs": [
    {
     "data": {
      "text/plain": [
       "0"
      ]
     },
     "execution_count": 12,
     "metadata": {},
     "output_type": "execute_result"
    }
   ],
   "source": [
    "data_3.duplicated().sum()"
   ]
  },
  {
   "cell_type": "markdown",
   "metadata": {},
   "source": [
    "### График распределения запасов сырья в регионах"
   ]
  },
  {
   "cell_type": "code",
   "execution_count": 13,
   "metadata": {},
   "outputs": [
    {
     "data": {
      "image/png": "[encoded data removed]",
      "text/plain": [
       "<Figure size 864x504 with 1 Axes>"
      ]
     },
     "metadata": {
      "needs_background": "light"
     },
     "output_type": "display_data"
    }
   ],
   "source": [
    "plt.title('Распределение запасов сырья в регионах')\n",
    "ax=data_1['product'].plot(kind='hist',figsize=(12,7),grid=True, legend=True, alpha=0.7, histtype='step', linewidth=5, label='1 регион')\n",
    "ax1=data_2['product'].plot(kind='hist',figsize=(12,7),grid=True, legend=True, alpha=0.7,histtype='step', linewidth=5, label='2 регион', ax=ax)\n",
    "data_3['product'].plot(kind='hist',figsize=(12,7),grid=True, legend=True, alpha=0.7,histtype='step', linewidth=5, label='3 регион', ax=ax1)\n",
    "plt.xlabel('Распределение сырья по регионам')\n",
    "plt.ylabel('Запасы сырья')\n",
    "plt.show()"
   ]
  },
  {
   "cell_type": "markdown",
   "metadata": {},
   "source": [
    "### Итог"
   ]
  },
  {
   "cell_type": "markdown",
   "metadata": {},
   "source": [
    "- Информация по трем регионам успесно загружена\n",
    "- Предобработка данных не нужна\n",
    "- В данных отсутствуют пропуски и дубликаты\n",
    "- 1 и 3 региони показывают нормальный график распределиния, по сравнению с 2 регионом"
   ]
  },
  {
   "cell_type": "markdown",
   "metadata": {},
   "source": [
    "## Обучение и проверка модели"
   ]
  },
  {
   "cell_type": "markdown",
   "metadata": {},
   "source": [
    "### **Разобьём данные на обучающую и валидационную выборки**"
   ]
  },
  {
   "cell_type": "code",
   "execution_count": 15,
   "metadata": {},
   "outputs": [],
   "source": [
    "target_1=data_1['product']\n",
    "features_1=data_1.drop(['product'], axis=1)\n",
    "features_train_1, features_valid_1, target_train_1, target_valid_1 = train_test_split(features_1, target_1, test_size=0.25, random_state=42)\n",
    "\n",
    "target_2=data_2['product']\n",
    "features_2=data_2.drop(['product'], axis=1)\n",
    "features_train_2, features_valid_2, target_train_2, target_valid_2 = train_test_split(features_2, target_2, test_size=0.25, random_state=42)\n",
    "\n",
    "target_3=data_3['product']\n",
    "features_3=data_3.drop(['product'], axis=1)\n",
    "features_train_3, features_valid_3, target_train_3, target_valid_3 = train_test_split(features_3, target_3, test_size=0.25, random_state=42)"
   ]
  },
  {
   "cell_type": "markdown",
   "metadata": {},
   "source": [
    "### Обучим модель и сделайте предсказания на валидационной выборке"
   ]
  },
  {
   "cell_type": "markdown",
   "metadata": {},
   "source": [
    "**Для каждой модели запишите параметры и значения RMSE и R2 на валидационной выборке**"
   ]
  },
  {
   "cell_type": "markdown",
   "metadata": {},
   "source": [
    "RMSE (квадратный корень из средней квадратичной ошибки) прогнозирует среднее значение целевого признака"
   ]
  },
  {
   "cell_type": "markdown",
   "metadata": {},
   "source": [
    "Коэффициент детерминации, или метрика R2, вычисляет долю\n",
    "среднеквадратичной ошибки модели от MSE среднего, а затем вычитает\n",
    "эту величину из единицы. Увеличение метрики означает прирост\n",
    "качества модели."
   ]
  },
  {
   "cell_type": "code",
   "execution_count": 16,
   "metadata": {},
   "outputs": [
    {
     "name": "stdout",
     "output_type": "stream",
     "text": [
      "RMSE 1 региона: 37.76\n",
      "R2 1 региона: 0.27\n"
     ]
    }
   ],
   "source": [
    "model_1=LinearRegression()\n",
    "model_1.fit(features_train_1,target_train_1)\n",
    "predict_1=model_1.predict(features_valid_1)\n",
    "rmse_1= mean_squared_error(target_valid_1, predict_1)**0.5\n",
    "print('RMSE 1 региона: %.2f' % rmse_1)\n",
    "print('R2 1 региона: %.2f' % r2_score(target_valid_1, predict_1))"
   ]
  },
  {
   "cell_type": "code",
   "execution_count": 17,
   "metadata": {},
   "outputs": [
    {
     "name": "stdout",
     "output_type": "stream",
     "text": [
      "RMSE 2 региона: 0.89\n",
      "R2 2 региона: 1.00\n"
     ]
    }
   ],
   "source": [
    "model_2=LinearRegression()\n",
    "model_2.fit(features_train_2,target_train_2)\n",
    "predict_2=model_2.predict(features_valid_2)\n",
    "rmse_2 = mean_squared_error(target_valid_2, predict_2)**0.5\n",
    "print('RMSE 2 региона: %.2f'% rmse_2)\n",
    "print('R2 2 региона: %.2f' % r2_score(target_valid_2, predict_2))"
   ]
  },
  {
   "cell_type": "code",
   "execution_count": 18,
   "metadata": {},
   "outputs": [
    {
     "name": "stdout",
     "output_type": "stream",
     "text": [
      "RMSE 3 региона: 40.15\n",
      "R2 3 региона: 0.20\n"
     ]
    }
   ],
   "source": [
    "model_3=LinearRegression()\n",
    "model_3.fit(features_train_3,target_train_3)\n",
    "predict_3=model_3.predict(features_valid_3)\n",
    "rmse_3 = mean_squared_error(target_valid_3, predict_3)**0.5\n",
    "print('RMSE 3 региона: %.2f'% rmse_3)\n",
    "print('R2 3 региона: %.2f' % r2_score(target_valid_3, predict_3))"
   ]
  },
  {
   "cell_type": "markdown",
   "metadata": {},
   "source": [
    "### **Сохраняем предсказания и правильные ответы на валидационной выборке**"
   ]
  },
  {
   "cell_type": "code",
   "execution_count": 19,
   "metadata": {},
   "outputs": [
    {
     "name": "stdout",
     "output_type": "stream",
     "text": [
      "1 регион:\n",
      "- предсказания: \"predict_1\"\n",
      "- правильные ответы: \"target_valid_1\"\n",
      "\n",
      "2 регион:\n",
      "- предсказания: \"predict_2\"\n",
      "- правильные ответы: \"target_valid_2\"\n",
      "\n",
      "3 регион:\n",
      "- предсказания: \"predict_3\"\n",
      "- правильные ответы: \"target_valid_3\"\n"
     ]
    }
   ],
   "source": [
    "print('1 регион:\\n- предсказания: \"predict_1\"\\n- правильные ответы: \"target_valid_1\"')\n",
    "print()\n",
    "print('2 регион:\\n- предсказания: \"predict_2\"\\n- правильные ответы: \"target_valid_2\"')\n",
    "print()\n",
    "print('3 регион:\\n- предсказания: \"predict_3\"\\n- правильные ответы: \"target_valid_3\"')"
   ]
  },
  {
   "cell_type": "markdown",
   "metadata": {},
   "source": [
    "### **Напечатаем на экране средний запас предсказанного сырья и RMSE модели**"
   ]
  },
  {
   "cell_type": "code",
   "execution_count": 20,
   "metadata": {},
   "outputs": [
    {
     "name": "stdout",
     "output_type": "stream",
     "text": [
      "1 регион:\n",
      "Средний запас сырья: 92.40\n",
      "RMSE: 37.76\n",
      "\n",
      "2 регион:\n",
      "Средний запас сырья: 68.71\n",
      "RMSE: 0.89\n",
      "\n",
      "3 регион:\n",
      "Средний запас сырья: 94.77\n",
      "RMSE: 40.15\n"
     ]
    }
   ],
   "source": [
    "print('1 регион:')\n",
    "print('Средний запас сырья: %.2f' % predict_1.mean())\n",
    "print('RMSE: %.2f' % rmse_1)\n",
    "print()\n",
    "print('2 регион:')\n",
    "print('Средний запас сырья: %.2f' % predict_2.mean())\n",
    "print('RMSE: %.2f' % rmse_2)\n",
    "print()\n",
    "print('3 регион:')\n",
    "print('Средний запас сырья: %.2f' % predict_3.mean())\n",
    "print('RMSE: %.2f' % rmse_3)"
   ]
  },
  {
   "cell_type": "markdown",
   "metadata": {},
   "source": [
    "### **Проанализируем результаты**"
   ]
  },
  {
   "cell_type": "markdown",
   "metadata": {},
   "source": [
    "- Модели успешно обучены, ошибок в коде нет\n",
    "- Проверили качество моделей через RMSE\n",
    "- Во 2 регионе RMSE отличается от двух других, это можно видеть на графике распределения, размер его данных был почти идентичным, а показатель R2 = 1, что говорит, доля среднеквадратичных ошибок отсутствует\n",
    "- Предсказали средний завас сырья по каждому региону"
   ]
  },
  {
   "cell_type": "markdown",
   "metadata": {},
   "source": [
    "## Подготовка к расчёту прибыли"
   ]
  },
  {
   "cell_type": "markdown",
   "metadata": {},
   "source": [
    "### Все ключевые значения для расчётов сохраните в отдельных переменных"
   ]
  },
  {
   "cell_type": "markdown",
   "metadata": {},
   "source": [
    "**Условия:**"
   ]
  },
  {
   "cell_type": "markdown",
   "metadata": {},
   "source": [
    "- При разведке региона исследуют **500 точек**, из которых с помощью машинного обучения выбирают **200 лучших** для разработки.\n",
    "- Бюджет на разработку скважин в регионе — **10 млрд рублей**.\n",
    "- При нынешних ценах один баррель сырья приносит **450 рублей дохода**. Доход с каждой единицы продукта составляет 450 тыс. рублей, поскольку объём указан в тысячах баррелей.\n",
    "- После оценки рисков нужно оставить лишь те регионы, в которых вероятность **убытков меньше 2.5%**. Среди них выбирают регион с наибольшей средней прибылью."
   ]
  },
  {
   "cell_type": "markdown",
   "metadata": {},
   "source": [
    "Константы запишем так:\n",
    "- BUDGET: бюджет на разработку скважин в регионе, тыс.руб\n",
    "- INCOME_PER_PROD: доход с каждой единицы продукта, тыс.руб\n",
    "- target_probability_losses: вероятность убытков"
   ]
  },
  {
   "cell_type": "code",
   "execution_count": 21,
   "metadata": {},
   "outputs": [],
   "source": [
    "BUDGET = 10000000\n",
    "INCOME_PER_PROD = 450\n",
    "target_probability_losses = 2.5/100\n",
    "product_mean_1 = data_1['product'].mean()\n",
    "product_mean_2 = data_2['product'].mean()\n",
    "product_mean_3 = data_3['product'].mean()"
   ]
  },
  {
   "cell_type": "code",
   "execution_count": 22,
   "metadata": {},
   "outputs": [
    {
     "name": "stdout",
     "output_type": "stream",
     "text": [
      "Cредний запас сырья в 1 регионе: 92.50 млн.баррелей\n",
      "Cредний запас сырья в 2 регионе: 68.83 млн.баррелей\n",
      "Cредний запас сырья в 3 регионе: 95.00 млн.баррелей\n"
     ]
    }
   ],
   "source": [
    "print('Cредний запас сырья в 1 регионе: %.2f млн.баррелей'%product_mean_1)\n",
    "print('Cредний запас сырья в 2 регионе: %.2f млн.баррелей'%product_mean_2)\n",
    "print('Cредний запас сырья в 3 регионе: %.2f млн.баррелей'%product_mean_3)"
   ]
  },
  {
   "cell_type": "code",
   "execution_count": 23,
   "metadata": {},
   "outputs": [
    {
     "name": "stdout",
     "output_type": "stream",
     "text": [
      "Бюджет на разработку одной скважины: 50.0 млн.руб\n"
     ]
    }
   ],
   "source": [
    "budget_per_point=(BUDGET/200)\n",
    "print('Бюджет на разработку одной скважины:', budget_per_point/1000,'млн.руб')"
   ]
  },
  {
   "cell_type": "markdown",
   "metadata": {},
   "source": [
    "### Рассчитаем достаточный объём сырья для безубыточной разработки новой скважины. Сравним полученный объём сырья со средним запасом в каждом регионе"
   ]
  },
  {
   "cell_type": "markdown",
   "metadata": {},
   "source": [
    "**Рассчитаем достаточный объём сырья**"
   ]
  },
  {
   "cell_type": "code",
   "execution_count": 24,
   "metadata": {},
   "outputs": [
    {
     "name": "stdout",
     "output_type": "stream",
     "text": [
      "Достаточный объём каждой скважины для безубыточной разработки должен составлять не менее: 111.11 тыс.баррелей\n"
     ]
    }
   ],
   "source": [
    "v_prod=budget_per_point/INCOME_PER_PROD\n",
    "print('Достаточный объём каждой скважины для безубыточной разработки должен составлять не менее: %.2f'%v_prod,'тыс.баррелей')"
   ]
  },
  {
   "cell_type": "markdown",
   "metadata": {},
   "source": [
    "**Сравним полученный объём сырья со средним запасом в каждом регионе**"
   ]
  },
  {
   "cell_type": "markdown",
   "metadata": {},
   "source": [
    "Инвесторы хотят знать, когда их вложения окупятся. Для них главная метрика — ROI (от англ. return on investments, «возврат на инвестиции»)"
   ]
  },
  {
   "cell_type": "markdown",
   "metadata": {},
   "source": [
    "**1 регион**"
   ]
  },
  {
   "cell_type": "code",
   "execution_count": 25,
   "metadata": {},
   "outputs": [
    {
     "data": {
      "text/html": [
       "<div>\n",
       "<style scoped>\n",
       "    .dataframe tbody tr th:only-of-type {\n",
       "        vertical-align: middle;\n",
       "    }\n",
       "\n",
       "    .dataframe tbody tr th {\n",
       "        vertical-align: top;\n",
       "    }\n",
       "\n",
       "    .dataframe thead th {\n",
       "        text-align: right;\n",
       "    }\n",
       "</style>\n",
       "<table border=\"1\" class=\"dataframe\">\n",
       "  <thead>\n",
       "    <tr style=\"text-align: right;\">\n",
       "      <th></th>\n",
       "      <th>f0</th>\n",
       "      <th>f1</th>\n",
       "      <th>f2</th>\n",
       "      <th>product</th>\n",
       "      <th>profit</th>\n",
       "    </tr>\n",
       "  </thead>\n",
       "  <tbody>\n",
       "    <tr>\n",
       "      <th>0</th>\n",
       "      <td>0.705745</td>\n",
       "      <td>-0.497823</td>\n",
       "      <td>1.221170</td>\n",
       "      <td>105.280062</td>\n",
       "      <td>47376.03</td>\n",
       "    </tr>\n",
       "    <tr>\n",
       "      <th>1</th>\n",
       "      <td>1.334711</td>\n",
       "      <td>-0.340164</td>\n",
       "      <td>4.365080</td>\n",
       "      <td>73.037750</td>\n",
       "      <td>32866.99</td>\n",
       "    </tr>\n",
       "    <tr>\n",
       "      <th>2</th>\n",
       "      <td>1.022732</td>\n",
       "      <td>0.151990</td>\n",
       "      <td>1.419926</td>\n",
       "      <td>85.265647</td>\n",
       "      <td>38369.54</td>\n",
       "    </tr>\n",
       "    <tr>\n",
       "      <th>3</th>\n",
       "      <td>-0.032172</td>\n",
       "      <td>0.139033</td>\n",
       "      <td>2.978566</td>\n",
       "      <td>168.620776</td>\n",
       "      <td>75879.35</td>\n",
       "    </tr>\n",
       "    <tr>\n",
       "      <th>4</th>\n",
       "      <td>1.988431</td>\n",
       "      <td>0.155413</td>\n",
       "      <td>4.751769</td>\n",
       "      <td>154.036647</td>\n",
       "      <td>69316.49</td>\n",
       "    </tr>\n",
       "  </tbody>\n",
       "</table>\n",
       "</div>"
      ],
      "text/plain": [
       "         f0        f1        f2     product    profit\n",
       "0  0.705745 -0.497823  1.221170  105.280062  47376.03\n",
       "1  1.334711 -0.340164  4.365080   73.037750  32866.99\n",
       "2  1.022732  0.151990  1.419926   85.265647  38369.54\n",
       "3 -0.032172  0.139033  2.978566  168.620776  75879.35\n",
       "4  1.988431  0.155413  4.751769  154.036647  69316.49"
      ]
     },
     "execution_count": 25,
     "metadata": {},
     "output_type": "execute_result"
    }
   ],
   "source": [
    "data_1['profit']=(data_1['product']*(INCOME_PER_PROD)).round(2)\n",
    "data_1.head()"
   ]
  },
  {
   "cell_type": "markdown",
   "metadata": {},
   "source": [
    "**Определим ROI**"
   ]
  },
  {
   "cell_type": "code",
   "execution_count": 26,
   "metadata": {},
   "outputs": [
    {
     "data": {
      "text/html": [
       "<div>\n",
       "<style scoped>\n",
       "    .dataframe tbody tr th:only-of-type {\n",
       "        vertical-align: middle;\n",
       "    }\n",
       "\n",
       "    .dataframe tbody tr th {\n",
       "        vertical-align: top;\n",
       "    }\n",
       "\n",
       "    .dataframe thead th {\n",
       "        text-align: right;\n",
       "    }\n",
       "</style>\n",
       "<table border=\"1\" class=\"dataframe\">\n",
       "  <thead>\n",
       "    <tr style=\"text-align: right;\">\n",
       "      <th></th>\n",
       "      <th>f0</th>\n",
       "      <th>f1</th>\n",
       "      <th>f2</th>\n",
       "      <th>product</th>\n",
       "      <th>profit</th>\n",
       "      <th>roi_%</th>\n",
       "    </tr>\n",
       "  </thead>\n",
       "  <tbody>\n",
       "    <tr>\n",
       "      <th>0</th>\n",
       "      <td>0.705745</td>\n",
       "      <td>-0.497823</td>\n",
       "      <td>1.221170</td>\n",
       "      <td>105.280062</td>\n",
       "      <td>47376.03</td>\n",
       "      <td>-5.25</td>\n",
       "    </tr>\n",
       "    <tr>\n",
       "      <th>1</th>\n",
       "      <td>1.334711</td>\n",
       "      <td>-0.340164</td>\n",
       "      <td>4.365080</td>\n",
       "      <td>73.037750</td>\n",
       "      <td>32866.99</td>\n",
       "      <td>-34.27</td>\n",
       "    </tr>\n",
       "    <tr>\n",
       "      <th>2</th>\n",
       "      <td>1.022732</td>\n",
       "      <td>0.151990</td>\n",
       "      <td>1.419926</td>\n",
       "      <td>85.265647</td>\n",
       "      <td>38369.54</td>\n",
       "      <td>-23.26</td>\n",
       "    </tr>\n",
       "    <tr>\n",
       "      <th>3</th>\n",
       "      <td>-0.032172</td>\n",
       "      <td>0.139033</td>\n",
       "      <td>2.978566</td>\n",
       "      <td>168.620776</td>\n",
       "      <td>75879.35</td>\n",
       "      <td>51.76</td>\n",
       "    </tr>\n",
       "    <tr>\n",
       "      <th>4</th>\n",
       "      <td>1.988431</td>\n",
       "      <td>0.155413</td>\n",
       "      <td>4.751769</td>\n",
       "      <td>154.036647</td>\n",
       "      <td>69316.49</td>\n",
       "      <td>38.63</td>\n",
       "    </tr>\n",
       "  </tbody>\n",
       "</table>\n",
       "</div>"
      ],
      "text/plain": [
       "         f0        f1        f2     product    profit  roi_%\n",
       "0  0.705745 -0.497823  1.221170  105.280062  47376.03  -5.25\n",
       "1  1.334711 -0.340164  4.365080   73.037750  32866.99 -34.27\n",
       "2  1.022732  0.151990  1.419926   85.265647  38369.54 -23.26\n",
       "3 -0.032172  0.139033  2.978566  168.620776  75879.35  51.76\n",
       "4  1.988431  0.155413  4.751769  154.036647  69316.49  38.63"
      ]
     },
     "execution_count": 26,
     "metadata": {},
     "output_type": "execute_result"
    }
   ],
   "source": [
    "data_1['roi_%']=((data_1['profit']-budget_per_point)/budget_per_point*100).round(2)\n",
    "data_1.head()"
   ]
  },
  {
   "cell_type": "code",
   "execution_count": 27,
   "metadata": {},
   "outputs": [
    {
     "name": "stdout",
     "output_type": "stream",
     "text": [
      "Разница объёма сырья для безубыточной разработки скважины и среднего значения по 1 региону составляет: -16.75%\n",
      "Разница составляет 18.61 тыс.баррелей\n"
     ]
    }
   ],
   "source": [
    "print('Разница объёма сырья для безубыточной разработки скважины и среднего значения по 1 региону составляет: {:.2%}'.format(product_mean_1/v_prod-1))\n",
    "print('Разница составляет {:.2f} тыс.баррелей'.format(v_prod-product_mean_1))"
   ]
  },
  {
   "cell_type": "markdown",
   "metadata": {},
   "source": [
    "**2 регион**"
   ]
  },
  {
   "cell_type": "code",
   "execution_count": 28,
   "metadata": {},
   "outputs": [
    {
     "data": {
      "text/html": [
       "<div>\n",
       "<style scoped>\n",
       "    .dataframe tbody tr th:only-of-type {\n",
       "        vertical-align: middle;\n",
       "    }\n",
       "\n",
       "    .dataframe tbody tr th {\n",
       "        vertical-align: top;\n",
       "    }\n",
       "\n",
       "    .dataframe thead th {\n",
       "        text-align: right;\n",
       "    }\n",
       "</style>\n",
       "<table border=\"1\" class=\"dataframe\">\n",
       "  <thead>\n",
       "    <tr style=\"text-align: right;\">\n",
       "      <th></th>\n",
       "      <th>f0</th>\n",
       "      <th>f1</th>\n",
       "      <th>f2</th>\n",
       "      <th>product</th>\n",
       "      <th>profit</th>\n",
       "    </tr>\n",
       "  </thead>\n",
       "  <tbody>\n",
       "    <tr>\n",
       "      <th>0</th>\n",
       "      <td>-15.001348</td>\n",
       "      <td>-8.276000</td>\n",
       "      <td>-0.005876</td>\n",
       "      <td>3.179103</td>\n",
       "      <td>1430.60</td>\n",
       "    </tr>\n",
       "    <tr>\n",
       "      <th>1</th>\n",
       "      <td>14.272088</td>\n",
       "      <td>-3.475083</td>\n",
       "      <td>0.999183</td>\n",
       "      <td>26.953261</td>\n",
       "      <td>12128.97</td>\n",
       "    </tr>\n",
       "    <tr>\n",
       "      <th>2</th>\n",
       "      <td>6.263187</td>\n",
       "      <td>-5.948386</td>\n",
       "      <td>5.001160</td>\n",
       "      <td>134.766305</td>\n",
       "      <td>60644.84</td>\n",
       "    </tr>\n",
       "    <tr>\n",
       "      <th>3</th>\n",
       "      <td>-13.081196</td>\n",
       "      <td>-11.506057</td>\n",
       "      <td>4.999415</td>\n",
       "      <td>137.945408</td>\n",
       "      <td>62075.43</td>\n",
       "    </tr>\n",
       "    <tr>\n",
       "      <th>4</th>\n",
       "      <td>12.702195</td>\n",
       "      <td>-8.147433</td>\n",
       "      <td>5.004363</td>\n",
       "      <td>134.766305</td>\n",
       "      <td>60644.84</td>\n",
       "    </tr>\n",
       "  </tbody>\n",
       "</table>\n",
       "</div>"
      ],
      "text/plain": [
       "          f0         f1        f2     product    profit\n",
       "0 -15.001348  -8.276000 -0.005876    3.179103   1430.60\n",
       "1  14.272088  -3.475083  0.999183   26.953261  12128.97\n",
       "2   6.263187  -5.948386  5.001160  134.766305  60644.84\n",
       "3 -13.081196 -11.506057  4.999415  137.945408  62075.43\n",
       "4  12.702195  -8.147433  5.004363  134.766305  60644.84"
      ]
     },
     "execution_count": 28,
     "metadata": {},
     "output_type": "execute_result"
    }
   ],
   "source": [
    "data_2['profit']=(data_2['product']*(INCOME_PER_PROD)).round(2)\n",
    "data_2.head()"
   ]
  },
  {
   "cell_type": "markdown",
   "metadata": {},
   "source": [
    "**Определим ROI**"
   ]
  },
  {
   "cell_type": "code",
   "execution_count": 29,
   "metadata": {},
   "outputs": [
    {
     "data": {
      "text/html": [
       "<div>\n",
       "<style scoped>\n",
       "    .dataframe tbody tr th:only-of-type {\n",
       "        vertical-align: middle;\n",
       "    }\n",
       "\n",
       "    .dataframe tbody tr th {\n",
       "        vertical-align: top;\n",
       "    }\n",
       "\n",
       "    .dataframe thead th {\n",
       "        text-align: right;\n",
       "    }\n",
       "</style>\n",
       "<table border=\"1\" class=\"dataframe\">\n",
       "  <thead>\n",
       "    <tr style=\"text-align: right;\">\n",
       "      <th></th>\n",
       "      <th>f0</th>\n",
       "      <th>f1</th>\n",
       "      <th>f2</th>\n",
       "      <th>product</th>\n",
       "      <th>profit</th>\n",
       "      <th>roi_%</th>\n",
       "    </tr>\n",
       "  </thead>\n",
       "  <tbody>\n",
       "    <tr>\n",
       "      <th>0</th>\n",
       "      <td>-15.001348</td>\n",
       "      <td>-8.276000</td>\n",
       "      <td>-0.005876</td>\n",
       "      <td>3.179103</td>\n",
       "      <td>1430.60</td>\n",
       "      <td>-97.14</td>\n",
       "    </tr>\n",
       "    <tr>\n",
       "      <th>1</th>\n",
       "      <td>14.272088</td>\n",
       "      <td>-3.475083</td>\n",
       "      <td>0.999183</td>\n",
       "      <td>26.953261</td>\n",
       "      <td>12128.97</td>\n",
       "      <td>-75.74</td>\n",
       "    </tr>\n",
       "    <tr>\n",
       "      <th>2</th>\n",
       "      <td>6.263187</td>\n",
       "      <td>-5.948386</td>\n",
       "      <td>5.001160</td>\n",
       "      <td>134.766305</td>\n",
       "      <td>60644.84</td>\n",
       "      <td>21.29</td>\n",
       "    </tr>\n",
       "    <tr>\n",
       "      <th>3</th>\n",
       "      <td>-13.081196</td>\n",
       "      <td>-11.506057</td>\n",
       "      <td>4.999415</td>\n",
       "      <td>137.945408</td>\n",
       "      <td>62075.43</td>\n",
       "      <td>24.15</td>\n",
       "    </tr>\n",
       "    <tr>\n",
       "      <th>4</th>\n",
       "      <td>12.702195</td>\n",
       "      <td>-8.147433</td>\n",
       "      <td>5.004363</td>\n",
       "      <td>134.766305</td>\n",
       "      <td>60644.84</td>\n",
       "      <td>21.29</td>\n",
       "    </tr>\n",
       "  </tbody>\n",
       "</table>\n",
       "</div>"
      ],
      "text/plain": [
       "          f0         f1        f2     product    profit  roi_%\n",
       "0 -15.001348  -8.276000 -0.005876    3.179103   1430.60 -97.14\n",
       "1  14.272088  -3.475083  0.999183   26.953261  12128.97 -75.74\n",
       "2   6.263187  -5.948386  5.001160  134.766305  60644.84  21.29\n",
       "3 -13.081196 -11.506057  4.999415  137.945408  62075.43  24.15\n",
       "4  12.702195  -8.147433  5.004363  134.766305  60644.84  21.29"
      ]
     },
     "execution_count": 29,
     "metadata": {},
     "output_type": "execute_result"
    }
   ],
   "source": [
    "data_2['roi_%']=((data_2['profit']-budget_per_point)/budget_per_point*100).round(2)\n",
    "data_2.head()"
   ]
  },
  {
   "cell_type": "code",
   "execution_count": 30,
   "metadata": {},
   "outputs": [
    {
     "name": "stdout",
     "output_type": "stream",
     "text": [
      "Разница объёма сырья для безубыточной разработки скважины и среднего значения по 2 региону составляет: -38.06%\n",
      "Разница составляет 42.29 тыс.баррелей\n"
     ]
    }
   ],
   "source": [
    "print('Разница объёма сырья для безубыточной разработки скважины и среднего значения по 2 региону составляет: {:.2%}'.format(product_mean_2/v_prod-1))\n",
    "print('Разница составляет {:.2f} тыс.баррелей'.format(v_prod-product_mean_2))"
   ]
  },
  {
   "cell_type": "markdown",
   "metadata": {},
   "source": [
    "**3 регион**"
   ]
  },
  {
   "cell_type": "code",
   "execution_count": 31,
   "metadata": {},
   "outputs": [
    {
     "data": {
      "text/html": [
       "<div>\n",
       "<style scoped>\n",
       "    .dataframe tbody tr th:only-of-type {\n",
       "        vertical-align: middle;\n",
       "    }\n",
       "\n",
       "    .dataframe tbody tr th {\n",
       "        vertical-align: top;\n",
       "    }\n",
       "\n",
       "    .dataframe thead th {\n",
       "        text-align: right;\n",
       "    }\n",
       "</style>\n",
       "<table border=\"1\" class=\"dataframe\">\n",
       "  <thead>\n",
       "    <tr style=\"text-align: right;\">\n",
       "      <th></th>\n",
       "      <th>f0</th>\n",
       "      <th>f1</th>\n",
       "      <th>f2</th>\n",
       "      <th>product</th>\n",
       "      <th>profit</th>\n",
       "    </tr>\n",
       "  </thead>\n",
       "  <tbody>\n",
       "    <tr>\n",
       "      <th>0</th>\n",
       "      <td>-1.146987</td>\n",
       "      <td>0.963328</td>\n",
       "      <td>-0.828965</td>\n",
       "      <td>27.758673</td>\n",
       "      <td>12491.40</td>\n",
       "    </tr>\n",
       "    <tr>\n",
       "      <th>1</th>\n",
       "      <td>0.262778</td>\n",
       "      <td>0.269839</td>\n",
       "      <td>-2.530187</td>\n",
       "      <td>56.069697</td>\n",
       "      <td>25231.36</td>\n",
       "    </tr>\n",
       "    <tr>\n",
       "      <th>2</th>\n",
       "      <td>0.194587</td>\n",
       "      <td>0.289035</td>\n",
       "      <td>-5.586433</td>\n",
       "      <td>62.871910</td>\n",
       "      <td>28292.36</td>\n",
       "    </tr>\n",
       "    <tr>\n",
       "      <th>3</th>\n",
       "      <td>2.236060</td>\n",
       "      <td>-0.553760</td>\n",
       "      <td>0.930038</td>\n",
       "      <td>114.572842</td>\n",
       "      <td>51557.78</td>\n",
       "    </tr>\n",
       "    <tr>\n",
       "      <th>4</th>\n",
       "      <td>-0.515993</td>\n",
       "      <td>1.716266</td>\n",
       "      <td>5.899011</td>\n",
       "      <td>149.600746</td>\n",
       "      <td>67320.34</td>\n",
       "    </tr>\n",
       "  </tbody>\n",
       "</table>\n",
       "</div>"
      ],
      "text/plain": [
       "         f0        f1        f2     product    profit\n",
       "0 -1.146987  0.963328 -0.828965   27.758673  12491.40\n",
       "1  0.262778  0.269839 -2.530187   56.069697  25231.36\n",
       "2  0.194587  0.289035 -5.586433   62.871910  28292.36\n",
       "3  2.236060 -0.553760  0.930038  114.572842  51557.78\n",
       "4 -0.515993  1.716266  5.899011  149.600746  67320.34"
      ]
     },
     "execution_count": 31,
     "metadata": {},
     "output_type": "execute_result"
    }
   ],
   "source": [
    "data_3['profit']=(data_3['product']*(INCOME_PER_PROD)).round(2)\n",
    "data_3.head()"
   ]
  },
  {
   "cell_type": "markdown",
   "metadata": {},
   "source": [
    "**Определим ROI**"
   ]
  },
  {
   "cell_type": "code",
   "execution_count": 32,
   "metadata": {},
   "outputs": [
    {
     "data": {
      "text/html": [
       "<div>\n",
       "<style scoped>\n",
       "    .dataframe tbody tr th:only-of-type {\n",
       "        vertical-align: middle;\n",
       "    }\n",
       "\n",
       "    .dataframe tbody tr th {\n",
       "        vertical-align: top;\n",
       "    }\n",
       "\n",
       "    .dataframe thead th {\n",
       "        text-align: right;\n",
       "    }\n",
       "</style>\n",
       "<table border=\"1\" class=\"dataframe\">\n",
       "  <thead>\n",
       "    <tr style=\"text-align: right;\">\n",
       "      <th></th>\n",
       "      <th>f0</th>\n",
       "      <th>f1</th>\n",
       "      <th>f2</th>\n",
       "      <th>product</th>\n",
       "      <th>profit</th>\n",
       "      <th>roi_%</th>\n",
       "    </tr>\n",
       "  </thead>\n",
       "  <tbody>\n",
       "    <tr>\n",
       "      <th>0</th>\n",
       "      <td>-1.146987</td>\n",
       "      <td>0.963328</td>\n",
       "      <td>-0.828965</td>\n",
       "      <td>27.758673</td>\n",
       "      <td>12491.40</td>\n",
       "      <td>-75.02</td>\n",
       "    </tr>\n",
       "    <tr>\n",
       "      <th>1</th>\n",
       "      <td>0.262778</td>\n",
       "      <td>0.269839</td>\n",
       "      <td>-2.530187</td>\n",
       "      <td>56.069697</td>\n",
       "      <td>25231.36</td>\n",
       "      <td>-49.54</td>\n",
       "    </tr>\n",
       "    <tr>\n",
       "      <th>2</th>\n",
       "      <td>0.194587</td>\n",
       "      <td>0.289035</td>\n",
       "      <td>-5.586433</td>\n",
       "      <td>62.871910</td>\n",
       "      <td>28292.36</td>\n",
       "      <td>-43.42</td>\n",
       "    </tr>\n",
       "    <tr>\n",
       "      <th>3</th>\n",
       "      <td>2.236060</td>\n",
       "      <td>-0.553760</td>\n",
       "      <td>0.930038</td>\n",
       "      <td>114.572842</td>\n",
       "      <td>51557.78</td>\n",
       "      <td>3.12</td>\n",
       "    </tr>\n",
       "    <tr>\n",
       "      <th>4</th>\n",
       "      <td>-0.515993</td>\n",
       "      <td>1.716266</td>\n",
       "      <td>5.899011</td>\n",
       "      <td>149.600746</td>\n",
       "      <td>67320.34</td>\n",
       "      <td>34.64</td>\n",
       "    </tr>\n",
       "  </tbody>\n",
       "</table>\n",
       "</div>"
      ],
      "text/plain": [
       "         f0        f1        f2     product    profit  roi_%\n",
       "0 -1.146987  0.963328 -0.828965   27.758673  12491.40 -75.02\n",
       "1  0.262778  0.269839 -2.530187   56.069697  25231.36 -49.54\n",
       "2  0.194587  0.289035 -5.586433   62.871910  28292.36 -43.42\n",
       "3  2.236060 -0.553760  0.930038  114.572842  51557.78   3.12\n",
       "4 -0.515993  1.716266  5.899011  149.600746  67320.34  34.64"
      ]
     },
     "execution_count": 32,
     "metadata": {},
     "output_type": "execute_result"
    }
   ],
   "source": [
    "data_3['roi_%']=((data_3['profit']-budget_per_point)/budget_per_point*100).round(2)\n",
    "data_3.head()"
   ]
  },
  {
   "cell_type": "code",
   "execution_count": 33,
   "metadata": {},
   "outputs": [
    {
     "name": "stdout",
     "output_type": "stream",
     "text": [
      "Разница объёма сырья для безубыточной разработки скважины и среднего значения по 3 региону составляет: -14.50%\n",
      "Разница составляет 16.11 тыс.баррелей\n"
     ]
    }
   ],
   "source": [
    "print('Разница объёма сырья для безубыточной разработки скважины и среднего значения по 3 региону составляет: {:.2%}'.format(product_mean_3/v_prod-1))\n",
    "print('Разница составляет {:.2f} тыс.баррелей'.format(v_prod-product_mean_3))"
   ]
  },
  {
   "cell_type": "markdown",
   "metadata": {},
   "source": [
    "### Выводы по этапу подготовки расчёта прибыли"
   ]
  },
  {
   "cell_type": "markdown",
   "metadata": {},
   "source": [
    "Среднего количества сырья в регионах недостаточно для безубыточной окупаемости инвестиций в разработки скважин"
   ]
  },
  {
   "cell_type": "markdown",
   "metadata": {},
   "source": [
    "## Расчёт прибыли и рисков "
   ]
  },
  {
   "cell_type": "markdown",
   "metadata": {},
   "source": [
    "### Выберем скважины с максимальными значениями предсказаний"
   ]
  },
  {
   "cell_type": "code",
   "execution_count": 34,
   "metadata": {},
   "outputs": [
    {
     "name": "stdout",
     "output_type": "stream",
     "text": [
      "1 регион:\n",
      "Средний запас сырья: 92.40\n",
      "\n",
      "2 регион:\n",
      "Средний запас сырья: 68.71\n",
      "\n",
      "3 регион:\n",
      "Средний запас сырья: 94.77\n"
     ]
    }
   ],
   "source": [
    "print('1 регион:')\n",
    "print('Средний запас сырья: %.2f' % predict_1.mean())\n",
    "print()\n",
    "print('2 регион:')\n",
    "print('Средний запас сырья: %.2f' % predict_2.mean())\n",
    "print()\n",
    "print('3 регион:')\n",
    "print('Средний запас сырья: %.2f' % predict_3.mean())"
   ]
  },
  {
   "cell_type": "markdown",
   "metadata": {},
   "source": [
    "### Просуммируем целевое значение объёма сырья, соответствующее этим предсказаниям"
   ]
  },
  {
   "cell_type": "markdown",
   "metadata": {},
   "source": [
    "У нас в доступе для разработки только 200 лучших скважин, так что остортируем данные и выберем 200 лучших в 3 регионе, для расчетов"
   ]
  },
  {
   "cell_type": "code",
   "execution_count": 35,
   "metadata": {},
   "outputs": [
    {
     "name": "stdout",
     "output_type": "stream",
     "text": [
      "Общий запас сырья в 200 лучших скважинах 1 региона = 30881.46 тыс.баррелей\n"
     ]
    }
   ],
   "source": [
    "probs_sorted_1 = pd.Series(predict_1, index=target_valid_1.index).sort_values(ascending=False)\n",
    "select_200_1 = probs_sorted_1[:200]\n",
    "select_200_1_sum = select_200_1.sum()\n",
    "print('Общий запас сырья в 200 лучших скважинах 1 региона = %.2f тыс.баррелей'% select_200_1_sum)"
   ]
  },
  {
   "cell_type": "code",
   "execution_count": 36,
   "metadata": {},
   "outputs": [
    {
     "name": "stdout",
     "output_type": "stream",
     "text": [
      "Общий запас сырья в 200 лучших скважинах 2 региона = 27748.75 тыс.баррелей\n"
     ]
    }
   ],
   "source": [
    "probs_sorted_2 = pd.Series(predict_2, index=target_valid_2.index).sort_values(ascending=False)\n",
    "select_200_2 = probs_sorted_2[:200]\n",
    "select_200_2_sum = select_200_2.sum()\n",
    "print('Общий запас сырья в 200 лучших скважинах 2 региона = %.2f тыс.баррелей'% select_200_2_sum)"
   ]
  },
  {
   "cell_type": "code",
   "execution_count": 37,
   "metadata": {},
   "outputs": [
    {
     "name": "stdout",
     "output_type": "stream",
     "text": [
      "Общий запас сырья в 200 лучших скважинах 3 региона = 29728.85 тыс.баррелей\n"
     ]
    }
   ],
   "source": [
    "probs_sorted_3 = pd.Series(predict_3, index=target_valid_3.index).sort_values(ascending=False)\n",
    "select_200_3 = probs_sorted_3[:200]\n",
    "select_200_3_sum = select_200_3.sum()\n",
    "print('Общий запас сырья в 200 лучших скважинах 3 региона = %.2f тыс.баррелей'% select_200_3_sum)"
   ]
  },
  {
   "cell_type": "markdown",
   "metadata": {},
   "source": [
    "### Рассчитаем прибыль для полученного объёма сырья"
   ]
  },
  {
   "cell_type": "code",
   "execution_count": 38,
   "metadata": {},
   "outputs": [
    {
     "name": "stdout",
     "output_type": "stream",
     "text": [
      "Прибыль 1 региона для полученного объёма сырья = 3896658.48 тыс.рублей\n"
     ]
    }
   ],
   "source": [
    "profit_3=(select_200_1_sum * INCOME_PER_PROD)-BUDGET\n",
    "print('Прибыль 1 региона для полученного объёма сырья = %.2f тыс.рублей'% profit_3)"
   ]
  },
  {
   "cell_type": "code",
   "execution_count": 39,
   "metadata": {},
   "outputs": [
    {
     "name": "stdout",
     "output_type": "stream",
     "text": [
      "Прибыль 2 региона для полученного объёма сырья = 2486938.11 тыс.рублей\n"
     ]
    }
   ],
   "source": [
    "profit_3=(select_200_2_sum * INCOME_PER_PROD)-BUDGET\n",
    "print('Прибыль 2 региона для полученного объёма сырья = %.2f тыс.рублей'% profit_3)"
   ]
  },
  {
   "cell_type": "code",
   "execution_count": 40,
   "metadata": {},
   "outputs": [
    {
     "name": "stdout",
     "output_type": "stream",
     "text": [
      "Прибыль 3 региона для полученного объёма сырья = 3377981.51 тыс.рублей\n"
     ]
    }
   ],
   "source": [
    "profit_3=(select_200_3_sum * INCOME_PER_PROD)-BUDGET\n",
    "print('Прибыль 3 региона для полученного объёма сырья = %.2f тыс.рублей'% profit_3)"
   ]
  },
  {
   "cell_type": "markdown",
   "metadata": {},
   "source": [
    "### **Итоги по прибыль для полученного объёма сырья**"
   ]
  },
  {
   "cell_type": "markdown",
   "metadata": {},
   "source": [
    "Все три региона предсказывают получения прибыли при разработке 200 лучших скважин у каждого"
   ]
  },
  {
   "cell_type": "markdown",
   "metadata": {},
   "source": [
    "## Посчитаем риски и прибыль для каждого региона"
   ]
  },
  {
   "cell_type": "markdown",
   "metadata": {},
   "source": [
    "**- Применим технику Bootstrap с 1000 выборок, чтобы найти распределение прибыли**\n",
    "\n",
    "**- Найдем среднюю прибыль, 95%-й доверительный интервал и риск убытков. Убыток — это отрицательная прибыль**"
   ]
  },
  {
   "cell_type": "code",
   "execution_count": 41,
   "metadata": {},
   "outputs": [],
   "source": [
    "def profit_for_rg(predict,target,count):\n",
    "    probs_sorted = pd.Series(predict).sort_values(ascending=False)\n",
    "    selected_points = target[probs_sorted.index][:count]\n",
    "    product = selected_points.sum()\n",
    "    revenue = product * INCOME_PER_PROD\n",
    "    return revenue - BUDGET"
   ]
  },
  {
   "cell_type": "code",
   "execution_count": 42,
   "metadata": {},
   "outputs": [],
   "source": [
    "def bootstap_1000(target,predict):\n",
    "    values = []\n",
    "    count=0\n",
    "    state = np.random.RandomState(12345)\n",
    "    predict_e = pd.Series(predict, index=target.index)\n",
    "    \n",
    "    for i in range(1000):\n",
    "        target_subsample = target.sample(n=500,replace=True, random_state=state)\n",
    "  \n",
    "        probs_subsample = predict_e[target_subsample.index]\n",
    "        values.append(profit_for_rg(probs_subsample,target_subsample, 200))  \n",
    "    for i in values:\n",
    "        if i < 0:\n",
    "            count +=1\n",
    "            \n",
    "    values = pd.Series(values)\n",
    "    mean = values.mean()\n",
    "    confidence_interval = st.t.interval(0.95, len(values)-1, values.mean(), values.sem())\n",
    "    \n",
    "    plt.title('Распределение прибыли в регионе')\n",
    "    values.plot(kind=\"hist\", grid=True, figsize=(8,5))\n",
    "    plt.xlabel('Прибыль, тыс.руб')\n",
    "    plt.ylabel('Количество')\n",
    "    plt.show()\n",
    "    \n",
    "    lower = values.quantile(0.025)\n",
    "    upper = values.quantile(0.975)\n",
    "    \n",
    "    print(\"Средняя прибыль: {:.2f} млн.руб\".format(mean/1000))\n",
    "    print('Прибыль вероятностью с 95% от: {:.2f} млн.руб до: {:.2f} млн.руб'.format((lower/1000),(upper/1000)))\n",
    "    print(\"95%-ый доверительный интервал: от {:.2f} млн.руб до {:.2f} млн.руб\". format((confidence_interval[0]/1000),(confidence_interval[1]/1000)))\n",
    "    print ('Веросятность убытка в данном регионе: {:.1%}'.format(count/1000))"
   ]
  },
  {
   "cell_type": "markdown",
   "metadata": {},
   "source": [
    "**Распределение прибыли 1 региона**"
   ]
  },
  {
   "cell_type": "code",
   "execution_count": 43,
   "metadata": {},
   "outputs": [
    {
     "data": {
      "image/png": "[encoded data removed]",
      "text/plain": [
       "<Figure size 576x360 with 1 Axes>"
      ]
     },
     "metadata": {
      "needs_background": "light"
     },
     "output_type": "display_data"
    },
    {
     "name": "stdout",
     "output_type": "stream",
     "text": [
      "Средняя прибыль: 435.93 млн.руб\n",
      "Прибыль вероятностью с 95% от: -116.23 млн.руб до: 966.50 млн.руб\n",
      "95%-ый доверительный интервал: от 418.76 млн.руб до 453.11 млн.руб\n",
      "Веросятность убытка в данном регионе: 6.1%\n"
     ]
    }
   ],
   "source": [
    "bootstap_1000(target_valid_1,predict_1)"
   ]
  },
  {
   "cell_type": "markdown",
   "metadata": {},
   "source": [
    "**Распределение прибыли 2 региона**"
   ]
  },
  {
   "cell_type": "code",
   "execution_count": 44,
   "metadata": {},
   "outputs": [
    {
     "data": {
      "image/png": "[encoded data removed]",
      "text/plain": [
       "<Figure size 576x360 with 1 Axes>"
      ]
     },
     "metadata": {
      "needs_background": "light"
     },
     "output_type": "display_data"
    },
    {
     "name": "stdout",
     "output_type": "stream",
     "text": [
      "Средняя прибыль: 489.66 млн.руб\n",
      "Прибыль вероятностью с 95% от: 55.12 млн.руб до: 905.76 млн.руб\n",
      "95%-ый доверительный интервал: от 476.23 млн.руб до 503.09 млн.руб\n",
      "Веросятность убытка в данном регионе: 1.1%\n"
     ]
    }
   ],
   "source": [
    "bootstap_1000(target_valid_2,predict_2)"
   ]
  },
  {
   "cell_type": "markdown",
   "metadata": {},
   "source": [
    "**Распределение прибыли 3 региона**"
   ]
  },
  {
   "cell_type": "code",
   "execution_count": 45,
   "metadata": {},
   "outputs": [
    {
     "data": {
      "image/png": "[encoded data removed]",
      "text/plain": [
       "<Figure size 576x360 with 1 Axes>"
      ]
     },
     "metadata": {
      "needs_background": "light"
     },
     "output_type": "display_data"
    },
    {
     "name": "stdout",
     "output_type": "stream",
     "text": [
      "Средняя прибыль: 403.69 млн.руб\n",
      "Прибыль вероятностью с 95% от: -153.12 млн.руб до: 952.89 млн.руб\n",
      "95%-ый доверительный интервал: от 386.21 млн.руб до 421.17 млн.руб\n",
      "Веросятность убытка в данном регионе: 7.1%\n"
     ]
    }
   ],
   "source": [
    "bootstap_1000(target_valid_3,predict_3)"
   ]
  },
  {
   "cell_type": "markdown",
   "metadata": {},
   "source": [
    "### Выбор региона для разработки месторождения"
   ]
  },
  {
   "cell_type": "markdown",
   "metadata": {},
   "source": [
    "**После оценки рисков нужно оставить лишь те регионы, в которых вероятность убытков меньше 2.5%. Среди них выбирают регион с наибольшей средней прибылью**"
   ]
  },
  {
   "cell_type": "code",
   "execution_count": 47,
   "metadata": {},
   "outputs": [
    {
     "data": {
      "text/html": [
       "<div>\n",
       "<style scoped>\n",
       "    .dataframe tbody tr th:only-of-type {\n",
       "        vertical-align: middle;\n",
       "    }\n",
       "\n",
       "    .dataframe tbody tr th {\n",
       "        vertical-align: top;\n",
       "    }\n",
       "\n",
       "    .dataframe thead th {\n",
       "        text-align: right;\n",
       "    }\n",
       "</style>\n",
       "<table border=\"1\" class=\"dataframe\">\n",
       "  <thead>\n",
       "    <tr style=\"text-align: right;\">\n",
       "      <th></th>\n",
       "      <th>1 регион</th>\n",
       "      <th>2 регион</th>\n",
       "      <th>3 регион</th>\n",
       "    </tr>\n",
       "  </thead>\n",
       "  <tbody>\n",
       "    <tr>\n",
       "      <th>Средняя прибыль в регионе, млн.руб</th>\n",
       "      <td>435.93</td>\n",
       "      <td>489.66</td>\n",
       "      <td>403.69</td>\n",
       "    </tr>\n",
       "    <tr>\n",
       "      <th>Суммарный запас сырья, тыс.баррелей</th>\n",
       "      <td>30881.96</td>\n",
       "      <td>27748.75</td>\n",
       "      <td>29730.68</td>\n",
       "    </tr>\n",
       "    <tr>\n",
       "      <th>Вероятность убытка, %</th>\n",
       "      <td>6.1</td>\n",
       "      <td>1.1</td>\n",
       "      <td>7.1</td>\n",
       "    </tr>\n",
       "  </tbody>\n",
       "</table>\n",
       "</div>"
      ],
      "text/plain": [
       "                                     1 регион  2 регион  3 регион\n",
       "Средняя прибыль в регионе, млн.руб     435.93    489.66    403.69\n",
       "Суммарный запас сырья, тыс.баррелей  30881.96  27748.75  29730.68\n",
       "Вероятность убытка, %                     6.1       1.1       7.1"
      ]
     },
     "execution_count": 47,
     "metadata": {},
     "output_type": "execute_result"
    }
   ],
   "source": [
    "comparison_tabl = pd.DataFrame(index=['Средняя прибыль в регионе, млн.руб','Суммарный запас сырья, тыс.баррелей','Вероятность убытка, %'], columns=['1 регион','2 регион','3 регион'])\n",
    "comparison_tabl['1 регион'] = '435.93', '30881.96','6.1'\n",
    "comparison_tabl['2 регион'] = '489.66', '27748.75','1.1'\n",
    "comparison_tabl['3 регион'] = '403.69', '29730.68','7.1'\n",
    "comparison_tabl"
   ]
  },
  {
   "cell_type": "markdown",
   "metadata": {},
   "source": [
    "### Итог выбора региона"
   ]
  },
  {
   "cell_type": "markdown",
   "metadata": {},
   "source": [
    "- Под критерий \"вероятность убытков меньше 2.5%\" попадает только второй регион\n",
    "- Его средняя прибыль составит 489.66 млн.руб"
   ]
  },
  {
   "cell_type": "markdown",
   "metadata": {},
   "source": [
    "## Вывод"
   ]
  },
  {
   "cell_type": "markdown",
   "metadata": {},
   "source": [
    "- Мы исследовали данные и обучили модели по каждому региону\n",
    "- Стало известно что при разработке региона вложения в них не окупятся\n",
    "- Мы обучили модели, выбрав по 200 лучших скважин в каждом регионе и спрогнозировали среднюю прибыль и вероятность убытков в каждом регионе\n",
    "- Таким образом мы выбрали 2 регион для разработки 200 скважин, что принесет в среднем прибыль в 489.66 млн.руб, а вероятность убытков всего 1.1% "
   ]
  },
  {
   "cell_type": "markdown",
   "metadata": {},
   "source": [
    "## Чек-лист готовности проекта"
   ]
  },
  {
   "cell_type": "markdown",
   "metadata": {},
   "source": [
    "Поставьте 'x' в выполненных пунктах. Далее нажмите Shift+Enter."
   ]
  },
  {
   "cell_type": "markdown",
   "metadata": {},
   "source": [
    "- [x]  Jupyter Notebook открыт\n",
    "- [x]  Весь код выполняется без ошибок\n",
    "- [x]  Ячейки с кодом расположены в порядке исполнения\n",
    "- [x]  Выполнен шаг 1: данные подготовлены\n",
    "- [x]  Выполнен шаг 2: модели обучены и проверены\n",
    "    - [x]  Данные корректно разбиты на обучающую и валидационную выборки\n",
    "    - [x]  Модели обучены, предсказания сделаны\n",
    "    - [x]  Предсказания и правильные ответы на валидационной выборке сохранены\n",
    "    - [x]  На экране напечатаны результаты\n",
    "    - [x]  Сделаны выводы\n",
    "- [x]  Выполнен шаг 3: проведена подготовка к расчёту прибыли\n",
    "    - [x]  Для всех ключевых значений созданы константы Python\n",
    "    - [x]  Посчитано минимальное среднее количество продукта в месторождениях региона, достаточное для разработки\n",
    "    - [x]  По предыдущему пункту сделаны выводы\n",
    "    - [x]  Написана функция расчёта прибыли\n",
    "- [x]  Выполнен шаг 4: посчитаны риски и прибыль\n",
    "    - [x]  Проведена процедура *Bootstrap*\n",
    "    - [x]  Все параметры бутстрепа соответствуют условию\n",
    "    - [x]  Найдены все нужные величины\n",
    "    - [x]  Предложен регион для разработки месторождения\n",
    "    - [x]  Выбор региона обоснован"
   ]
  }
 ],
 "metadata": {
  "ExecuteTimeLog": [
   {
    "duration": 1587,
    "start_time": "2023-03-03T15:16:10.289Z"
   },
   {
    "duration": 1814,
    "start_time": "2023-03-03T15:18:26.437Z"
   },
   {
    "duration": 21,
    "start_time": "2023-03-03T15:19:26.974Z"
   },
   {
    "duration": 5,
    "start_time": "2023-03-03T15:20:54.874Z"
   },
   {
    "duration": 17,
    "start_time": "2023-03-03T15:21:22.470Z"
   },
   {
    "duration": 48,
    "start_time": "2023-03-03T15:24:24.603Z"
   },
   {
    "duration": 74,
    "start_time": "2023-03-03T15:25:29.023Z"
   },
   {
    "duration": 10,
    "start_time": "2023-03-03T15:27:29.890Z"
   },
   {
    "duration": 44,
    "start_time": "2023-03-03T15:28:37.528Z"
   },
   {
    "duration": 14,
    "start_time": "2023-03-03T15:32:12.985Z"
   },
   {
    "duration": 22,
    "start_time": "2023-03-03T15:32:13.137Z"
   },
   {
    "duration": 78,
    "start_time": "2023-03-03T15:32:13.476Z"
   },
   {
    "duration": 15,
    "start_time": "2023-03-03T15:32:13.983Z"
   },
   {
    "duration": 26,
    "start_time": "2023-03-03T15:32:14.172Z"
   },
   {
    "duration": 77,
    "start_time": "2023-03-03T15:32:14.495Z"
   },
   {
    "duration": 288,
    "start_time": "2023-03-03T15:35:32.823Z"
   },
   {
    "duration": 273,
    "start_time": "2023-03-03T15:36:12.876Z"
   },
   {
    "duration": 15,
    "start_time": "2023-03-03T15:45:29.265Z"
   },
   {
    "duration": 66,
    "start_time": "2023-03-03T15:46:56.075Z"
   },
   {
    "duration": 69,
    "start_time": "2023-03-03T15:47:02.014Z"
   },
   {
    "duration": 34,
    "start_time": "2023-03-03T15:47:13.875Z"
   },
   {
    "duration": 74,
    "start_time": "2023-03-03T15:48:27.409Z"
   },
   {
    "duration": 131,
    "start_time": "2023-03-03T16:06:17.913Z"
   },
   {
    "duration": 70,
    "start_time": "2023-03-03T16:06:23.176Z"
   },
   {
    "duration": 1378,
    "start_time": "2023-03-03T16:06:28.035Z"
   },
   {
    "duration": 358,
    "start_time": "2023-03-03T16:06:29.416Z"
   },
   {
    "duration": 14,
    "start_time": "2023-03-03T16:06:29.775Z"
   },
   {
    "duration": 20,
    "start_time": "2023-03-03T16:06:29.791Z"
   },
   {
    "duration": 59,
    "start_time": "2023-03-03T16:06:29.813Z"
   },
   {
    "duration": 9,
    "start_time": "2023-03-03T16:06:29.874Z"
   },
   {
    "duration": 15,
    "start_time": "2023-03-03T16:06:29.884Z"
   },
   {
    "duration": 66,
    "start_time": "2023-03-03T16:06:29.900Z"
   },
   {
    "duration": 9,
    "start_time": "2023-03-03T16:06:29.967Z"
   },
   {
    "duration": 14,
    "start_time": "2023-03-03T16:06:29.979Z"
   },
   {
    "duration": 67,
    "start_time": "2023-03-03T16:06:29.995Z"
   },
   {
    "duration": 301,
    "start_time": "2023-03-03T16:06:30.063Z"
   },
   {
    "duration": 67,
    "start_time": "2023-03-03T16:06:30.366Z"
   },
   {
    "duration": 143,
    "start_time": "2023-03-03T16:06:30.435Z"
   },
   {
    "duration": 10,
    "start_time": "2023-03-03T16:07:26.204Z"
   },
   {
    "duration": 4,
    "start_time": "2023-03-03T16:07:46.579Z"
   },
   {
    "duration": 601,
    "start_time": "2023-03-03T16:07:53.684Z"
   },
   {
    "duration": 30,
    "start_time": "2023-03-03T16:07:58.210Z"
   },
   {
    "duration": 33,
    "start_time": "2023-03-03T16:08:30.612Z"
   },
   {
    "duration": 184,
    "start_time": "2023-03-03T16:09:16.425Z"
   },
   {
    "duration": 33,
    "start_time": "2023-03-03T16:09:19.238Z"
   },
   {
    "duration": 1332,
    "start_time": "2023-03-03T16:09:28.984Z"
   },
   {
    "duration": 366,
    "start_time": "2023-03-03T16:09:30.318Z"
   },
   {
    "duration": 14,
    "start_time": "2023-03-03T16:09:30.686Z"
   },
   {
    "duration": 44,
    "start_time": "2023-03-03T16:09:30.702Z"
   },
   {
    "duration": 82,
    "start_time": "2023-03-03T16:09:30.748Z"
   },
   {
    "duration": 40,
    "start_time": "2023-03-03T16:09:30.832Z"
   },
   {
    "duration": 70,
    "start_time": "2023-03-03T16:09:30.873Z"
   },
   {
    "duration": 66,
    "start_time": "2023-03-03T16:09:30.945Z"
   },
   {
    "duration": 17,
    "start_time": "2023-03-03T16:09:31.014Z"
   },
   {
    "duration": 51,
    "start_time": "2023-03-03T16:09:31.034Z"
   },
   {
    "duration": 78,
    "start_time": "2023-03-03T16:09:31.087Z"
   },
   {
    "duration": 298,
    "start_time": "2023-03-03T16:09:31.167Z"
   },
   {
    "duration": 61,
    "start_time": "2023-03-03T16:09:31.467Z"
   },
   {
    "duration": 545,
    "start_time": "2023-03-03T16:09:31.531Z"
   },
   {
    "duration": 127,
    "start_time": "2023-03-03T16:09:32.078Z"
   },
   {
    "duration": 3,
    "start_time": "2023-03-03T16:09:54.784Z"
   },
   {
    "duration": 4,
    "start_time": "2023-03-03T16:09:58.687Z"
   },
   {
    "duration": 31,
    "start_time": "2023-03-03T16:10:01.584Z"
   },
   {
    "duration": 68,
    "start_time": "2023-03-03T16:10:18.485Z"
   },
   {
    "duration": 15,
    "start_time": "2023-03-03T16:10:26.771Z"
   },
   {
    "duration": 13,
    "start_time": "2023-03-03T16:10:33.179Z"
   },
   {
    "duration": 16,
    "start_time": "2023-03-03T16:10:38.004Z"
   },
   {
    "duration": 19,
    "start_time": "2023-03-03T16:10:40.783Z"
   },
   {
    "duration": 20,
    "start_time": "2023-03-03T16:10:43.836Z"
   },
   {
    "duration": 62,
    "start_time": "2023-03-03T16:10:47.293Z"
   },
   {
    "duration": 3,
    "start_time": "2023-03-03T16:11:25.117Z"
   },
   {
    "duration": 21,
    "start_time": "2023-03-03T16:11:29.970Z"
   },
   {
    "duration": 21,
    "start_time": "2023-03-03T16:11:34.429Z"
   },
   {
    "duration": 20,
    "start_time": "2023-03-03T16:11:43.604Z"
   },
   {
    "duration": 21,
    "start_time": "2023-03-03T16:11:52.012Z"
   },
   {
    "duration": 22,
    "start_time": "2023-03-03T16:12:18.978Z"
   },
   {
    "duration": 195,
    "start_time": "2023-03-03T16:13:18.539Z"
   },
   {
    "duration": 3,
    "start_time": "2023-03-06T06:09:33.885Z"
   },
   {
    "duration": 48,
    "start_time": "2023-03-06T06:09:36.078Z"
   },
   {
    "duration": 1461,
    "start_time": "2023-03-06T06:09:46.474Z"
   },
   {
    "duration": 756,
    "start_time": "2023-03-06T06:09:47.937Z"
   },
   {
    "duration": 13,
    "start_time": "2023-03-06T06:09:48.695Z"
   },
   {
    "duration": 17,
    "start_time": "2023-03-06T06:09:48.710Z"
   },
   {
    "duration": 46,
    "start_time": "2023-03-06T06:09:48.729Z"
   },
   {
    "duration": 9,
    "start_time": "2023-03-06T06:09:48.776Z"
   },
   {
    "duration": 16,
    "start_time": "2023-03-06T06:09:48.787Z"
   },
   {
    "duration": 58,
    "start_time": "2023-03-06T06:09:48.805Z"
   },
   {
    "duration": 9,
    "start_time": "2023-03-06T06:09:48.864Z"
   },
   {
    "duration": 29,
    "start_time": "2023-03-06T06:09:48.875Z"
   },
   {
    "duration": 57,
    "start_time": "2023-03-06T06:09:48.905Z"
   },
   {
    "duration": 282,
    "start_time": "2023-03-06T06:09:48.963Z"
   },
   {
    "duration": 60,
    "start_time": "2023-03-06T06:09:49.247Z"
   },
   {
    "duration": 2,
    "start_time": "2023-03-06T06:09:49.309Z"
   },
   {
    "duration": 151,
    "start_time": "2023-03-06T06:09:49.312Z"
   },
   {
    "duration": 539,
    "start_time": "2023-03-06T06:16:16.759Z"
   },
   {
    "duration": 503,
    "start_time": "2023-03-06T06:16:19.160Z"
   },
   {
    "duration": 397,
    "start_time": "2023-03-06T06:16:20.046Z"
   },
   {
    "duration": 518,
    "start_time": "2023-03-06T06:16:28.541Z"
   },
   {
    "duration": 64,
    "start_time": "2023-03-06T06:16:33.879Z"
   },
   {
    "duration": 160,
    "start_time": "2023-03-06T06:16:37.095Z"
   },
   {
    "duration": 4,
    "start_time": "2023-03-06T06:22:04.297Z"
   },
   {
    "duration": 29,
    "start_time": "2023-03-06T06:46:13.920Z"
   },
   {
    "duration": 16,
    "start_time": "2023-03-06T06:47:24.355Z"
   },
   {
    "duration": 16,
    "start_time": "2023-03-06T06:47:29.370Z"
   },
   {
    "duration": 19,
    "start_time": "2023-03-06T06:47:45.635Z"
   },
   {
    "duration": 17,
    "start_time": "2023-03-06T06:47:59.794Z"
   },
   {
    "duration": 18,
    "start_time": "2023-03-06T06:48:05.009Z"
   },
   {
    "duration": 18,
    "start_time": "2023-03-06T06:49:42.531Z"
   },
   {
    "duration": 17,
    "start_time": "2023-03-06T06:49:49.275Z"
   },
   {
    "duration": 18,
    "start_time": "2023-03-06T06:50:21.779Z"
   },
   {
    "duration": 18,
    "start_time": "2023-03-06T06:50:27.826Z"
   },
   {
    "duration": 17,
    "start_time": "2023-03-06T06:51:33.675Z"
   },
   {
    "duration": 60,
    "start_time": "2023-03-06T06:54:39.421Z"
   },
   {
    "duration": 4,
    "start_time": "2023-03-06T06:57:10.221Z"
   },
   {
    "duration": 4,
    "start_time": "2023-03-06T06:57:24.276Z"
   },
   {
    "duration": 50,
    "start_time": "2023-03-06T07:01:15.046Z"
   },
   {
    "duration": 10,
    "start_time": "2023-03-06T07:02:23.376Z"
   },
   {
    "duration": 5,
    "start_time": "2023-03-06T07:02:31.039Z"
   },
   {
    "duration": 8,
    "start_time": "2023-03-06T07:03:10.781Z"
   },
   {
    "duration": 13,
    "start_time": "2023-03-06T07:05:24.662Z"
   },
   {
    "duration": 9,
    "start_time": "2023-03-06T07:05:31.574Z"
   },
   {
    "duration": 9,
    "start_time": "2023-03-06T07:05:47.189Z"
   },
   {
    "duration": 8,
    "start_time": "2023-03-06T07:06:07.455Z"
   },
   {
    "duration": 6,
    "start_time": "2023-03-06T07:15:08.944Z"
   },
   {
    "duration": 53,
    "start_time": "2023-03-06T07:23:31.259Z"
   },
   {
    "duration": 6,
    "start_time": "2023-03-06T07:28:35.650Z"
   },
   {
    "duration": 4,
    "start_time": "2023-03-06T07:29:42.811Z"
   },
   {
    "duration": 3,
    "start_time": "2023-03-06T07:31:38.956Z"
   },
   {
    "duration": 4,
    "start_time": "2023-03-06T07:33:34.324Z"
   },
   {
    "duration": 13,
    "start_time": "2023-03-06T07:38:58.845Z"
   },
   {
    "duration": 17,
    "start_time": "2023-03-06T07:41:10.758Z"
   },
   {
    "duration": 5,
    "start_time": "2023-03-06T07:42:24.310Z"
   },
   {
    "duration": 3,
    "start_time": "2023-03-06T07:42:34.855Z"
   },
   {
    "duration": 4,
    "start_time": "2023-03-06T07:43:59.950Z"
   },
   {
    "duration": 4,
    "start_time": "2023-03-06T07:44:29.454Z"
   },
   {
    "duration": 4,
    "start_time": "2023-03-06T07:45:58.951Z"
   },
   {
    "duration": 13,
    "start_time": "2023-03-06T07:46:01.414Z"
   },
   {
    "duration": 53,
    "start_time": "2023-03-06T07:46:02.193Z"
   },
   {
    "duration": 13,
    "start_time": "2023-03-06T07:46:03.015Z"
   },
   {
    "duration": 12,
    "start_time": "2023-03-06T07:47:24.895Z"
   },
   {
    "duration": 12,
    "start_time": "2023-03-06T07:47:25.671Z"
   },
   {
    "duration": 3,
    "start_time": "2023-03-06T07:47:26.111Z"
   },
   {
    "duration": 4,
    "start_time": "2023-03-06T07:54:16.601Z"
   },
   {
    "duration": 3,
    "start_time": "2023-03-06T07:54:26.679Z"
   },
   {
    "duration": 4,
    "start_time": "2023-03-06T07:54:41.097Z"
   },
   {
    "duration": 68,
    "start_time": "2023-03-06T07:59:17.650Z"
   },
   {
    "duration": 83,
    "start_time": "2023-03-06T07:59:31.330Z"
   },
   {
    "duration": 1308,
    "start_time": "2023-03-06T07:59:43.854Z"
   },
   {
    "duration": 401,
    "start_time": "2023-03-06T07:59:45.164Z"
   },
   {
    "duration": 17,
    "start_time": "2023-03-06T07:59:45.567Z"
   },
   {
    "duration": 19,
    "start_time": "2023-03-06T07:59:45.587Z"
   },
   {
    "duration": 79,
    "start_time": "2023-03-06T07:59:45.608Z"
   },
   {
    "duration": 11,
    "start_time": "2023-03-06T07:59:45.689Z"
   },
   {
    "duration": 28,
    "start_time": "2023-03-06T07:59:45.702Z"
   },
   {
    "duration": 60,
    "start_time": "2023-03-06T07:59:45.733Z"
   },
   {
    "duration": 9,
    "start_time": "2023-03-06T07:59:45.794Z"
   },
   {
    "duration": 17,
    "start_time": "2023-03-06T07:59:45.806Z"
   },
   {
    "duration": 59,
    "start_time": "2023-03-06T07:59:45.825Z"
   },
   {
    "duration": 280,
    "start_time": "2023-03-06T07:59:45.886Z"
   },
   {
    "duration": 524,
    "start_time": "2023-03-06T07:59:46.168Z"
   },
   {
    "duration": 506,
    "start_time": "2023-03-06T07:59:46.693Z"
   },
   {
    "duration": 516,
    "start_time": "2023-03-06T07:59:47.201Z"
   },
   {
    "duration": 49,
    "start_time": "2023-03-06T07:59:47.719Z"
   },
   {
    "duration": 81,
    "start_time": "2023-03-06T07:59:47.770Z"
   },
   {
    "duration": 111,
    "start_time": "2023-03-06T07:59:47.852Z"
   },
   {
    "duration": 189,
    "start_time": "2023-03-06T07:59:47.964Z"
   },
   {
    "duration": 99,
    "start_time": "2023-03-06T07:59:48.155Z"
   },
   {
    "duration": 92,
    "start_time": "2023-03-06T07:59:48.257Z"
   },
   {
    "duration": 5,
    "start_time": "2023-03-06T07:59:48.351Z"
   },
   {
    "duration": 8,
    "start_time": "2023-03-06T07:59:48.358Z"
   },
   {
    "duration": 8,
    "start_time": "2023-03-06T07:59:48.368Z"
   },
   {
    "duration": 6,
    "start_time": "2023-03-06T07:59:48.378Z"
   },
   {
    "duration": 18,
    "start_time": "2023-03-06T07:59:48.386Z"
   },
   {
    "duration": 11,
    "start_time": "2023-03-06T07:59:48.406Z"
   },
   {
    "duration": 29,
    "start_time": "2023-03-06T07:59:48.420Z"
   },
   {
    "duration": 12,
    "start_time": "2023-03-06T07:59:48.451Z"
   },
   {
    "duration": 21,
    "start_time": "2023-03-06T07:59:48.465Z"
   },
   {
    "duration": 3,
    "start_time": "2023-03-06T07:59:48.488Z"
   },
   {
    "duration": 18,
    "start_time": "2023-03-06T07:59:48.493Z"
   },
   {
    "duration": 41,
    "start_time": "2023-03-06T07:59:48.512Z"
   },
   {
    "duration": 5,
    "start_time": "2023-03-06T07:59:48.555Z"
   },
   {
    "duration": 47,
    "start_time": "2023-03-06T07:59:48.562Z"
   },
   {
    "duration": 0,
    "start_time": "2023-03-06T07:59:48.611Z"
   },
   {
    "duration": 7,
    "start_time": "2023-03-06T08:00:02.987Z"
   },
   {
    "duration": 7,
    "start_time": "2023-03-06T08:07:36.385Z"
   },
   {
    "duration": 7,
    "start_time": "2023-03-06T08:09:15.108Z"
   },
   {
    "duration": 5,
    "start_time": "2023-03-06T08:09:45.987Z"
   },
   {
    "duration": 8,
    "start_time": "2023-03-06T08:11:48.188Z"
   },
   {
    "duration": 4,
    "start_time": "2023-03-06T08:14:34.643Z"
   },
   {
    "duration": 8,
    "start_time": "2023-03-06T08:18:20.308Z"
   },
   {
    "duration": 7,
    "start_time": "2023-03-06T08:18:57.436Z"
   },
   {
    "duration": 8,
    "start_time": "2023-03-06T08:19:40.211Z"
   },
   {
    "duration": 4,
    "start_time": "2023-03-06T08:20:05.387Z"
   },
   {
    "duration": 3,
    "start_time": "2023-03-06T08:20:15.684Z"
   },
   {
    "duration": 3,
    "start_time": "2023-03-06T08:20:21.492Z"
   },
   {
    "duration": 4,
    "start_time": "2023-03-06T08:21:25.245Z"
   },
   {
    "duration": 3,
    "start_time": "2023-03-06T08:21:26.877Z"
   },
   {
    "duration": 3,
    "start_time": "2023-03-06T08:21:27.661Z"
   },
   {
    "duration": 2,
    "start_time": "2023-03-06T08:28:51.694Z"
   },
   {
    "duration": 109,
    "start_time": "2023-03-06T08:49:00.191Z"
   },
   {
    "duration": 12,
    "start_time": "2023-03-06T08:49:24.362Z"
   },
   {
    "duration": 13,
    "start_time": "2023-03-06T08:50:51.950Z"
   },
   {
    "duration": 12,
    "start_time": "2023-03-06T08:52:36.428Z"
   },
   {
    "duration": 12,
    "start_time": "2023-03-06T08:53:14.071Z"
   },
   {
    "duration": 3,
    "start_time": "2023-03-06T08:53:52.700Z"
   },
   {
    "duration": 3,
    "start_time": "2023-03-06T08:54:14.077Z"
   },
   {
    "duration": 7,
    "start_time": "2023-03-06T08:54:27.527Z"
   },
   {
    "duration": 8,
    "start_time": "2023-03-06T08:54:38.285Z"
   },
   {
    "duration": 12,
    "start_time": "2023-03-06T08:54:46.101Z"
   },
   {
    "duration": 7,
    "start_time": "2023-03-06T08:56:59.161Z"
   },
   {
    "duration": 1633,
    "start_time": "2023-03-06T08:57:04.020Z"
   },
   {
    "duration": 3,
    "start_time": "2023-03-06T09:00:49.294Z"
   },
   {
    "duration": 7,
    "start_time": "2023-03-06T09:00:49.989Z"
   },
   {
    "duration": 1574,
    "start_time": "2023-03-06T09:00:55.917Z"
   },
   {
    "duration": 4,
    "start_time": "2023-03-06T09:01:32.450Z"
   },
   {
    "duration": 3,
    "start_time": "2023-03-06T09:01:38.762Z"
   },
   {
    "duration": 10,
    "start_time": "2023-03-06T09:16:55.387Z"
   },
   {
    "duration": 1621,
    "start_time": "2023-03-06T09:16:57.877Z"
   },
   {
    "duration": 1700,
    "start_time": "2023-03-06T09:17:45.088Z"
   },
   {
    "duration": 1749,
    "start_time": "2023-03-06T09:17:46.790Z"
   },
   {
    "duration": 11,
    "start_time": "2023-03-06T09:20:03.793Z"
   },
   {
    "duration": 1356,
    "start_time": "2023-03-06T09:28:54.427Z"
   },
   {
    "duration": 459,
    "start_time": "2023-03-06T09:28:55.785Z"
   },
   {
    "duration": 15,
    "start_time": "2023-03-06T09:28:56.246Z"
   },
   {
    "duration": 19,
    "start_time": "2023-03-06T09:28:56.266Z"
   },
   {
    "duration": 69,
    "start_time": "2023-03-06T09:28:56.287Z"
   },
   {
    "duration": 14,
    "start_time": "2023-03-06T09:28:56.358Z"
   },
   {
    "duration": 27,
    "start_time": "2023-03-06T09:28:56.374Z"
   },
   {
    "duration": 58,
    "start_time": "2023-03-06T09:28:56.404Z"
   },
   {
    "duration": 10,
    "start_time": "2023-03-06T09:28:56.466Z"
   },
   {
    "duration": 19,
    "start_time": "2023-03-06T09:28:56.479Z"
   },
   {
    "duration": 62,
    "start_time": "2023-03-06T09:28:56.500Z"
   },
   {
    "duration": 303,
    "start_time": "2023-03-06T09:28:56.566Z"
   },
   {
    "duration": 581,
    "start_time": "2023-03-06T09:28:56.871Z"
   },
   {
    "duration": 533,
    "start_time": "2023-03-06T09:28:57.461Z"
   },
   {
    "duration": 568,
    "start_time": "2023-03-06T09:28:57.996Z"
   },
   {
    "duration": 47,
    "start_time": "2023-03-06T09:28:58.566Z"
   },
   {
    "duration": 139,
    "start_time": "2023-03-06T09:28:58.615Z"
   },
   {
    "duration": 197,
    "start_time": "2023-03-06T09:28:58.756Z"
   },
   {
    "duration": 21,
    "start_time": "2023-03-06T09:28:58.962Z"
   },
   {
    "duration": 181,
    "start_time": "2023-03-06T09:28:58.986Z"
   },
   {
    "duration": 48,
    "start_time": "2023-03-06T09:28:59.168Z"
   },
   {
    "duration": 26,
    "start_time": "2023-03-06T09:28:59.218Z"
   },
   {
    "duration": 47,
    "start_time": "2023-03-06T09:28:59.246Z"
   },
   {
    "duration": 22,
    "start_time": "2023-03-06T09:28:59.295Z"
   },
   {
    "duration": 27,
    "start_time": "2023-03-06T09:28:59.319Z"
   },
   {
    "duration": 52,
    "start_time": "2023-03-06T09:28:59.348Z"
   },
   {
    "duration": 37,
    "start_time": "2023-03-06T09:28:59.403Z"
   },
   {
    "duration": 24,
    "start_time": "2023-03-06T09:28:59.443Z"
   },
   {
    "duration": 52,
    "start_time": "2023-03-06T09:28:59.469Z"
   },
   {
    "duration": 53,
    "start_time": "2023-03-06T09:28:59.523Z"
   },
   {
    "duration": 23,
    "start_time": "2023-03-06T09:28:59.578Z"
   },
   {
    "duration": 37,
    "start_time": "2023-03-06T09:28:59.603Z"
   },
   {
    "duration": 46,
    "start_time": "2023-03-06T09:28:59.642Z"
   },
   {
    "duration": 14,
    "start_time": "2023-03-06T09:28:59.691Z"
   },
   {
    "duration": 30,
    "start_time": "2023-03-06T09:28:59.707Z"
   },
   {
    "duration": 42,
    "start_time": "2023-03-06T09:28:59.739Z"
   },
   {
    "duration": 44,
    "start_time": "2023-03-06T09:28:59.783Z"
   },
   {
    "duration": 69,
    "start_time": "2023-03-06T09:28:59.828Z"
   },
   {
    "duration": 35,
    "start_time": "2023-03-06T09:28:59.899Z"
   },
   {
    "duration": 34,
    "start_time": "2023-03-06T09:28:59.936Z"
   },
   {
    "duration": 36,
    "start_time": "2023-03-06T09:28:59.972Z"
   },
   {
    "duration": 22,
    "start_time": "2023-03-06T09:29:00.010Z"
   },
   {
    "duration": 46,
    "start_time": "2023-03-06T09:29:00.034Z"
   },
   {
    "duration": 1687,
    "start_time": "2023-03-06T09:29:00.083Z"
   },
   {
    "duration": 1658,
    "start_time": "2023-03-06T09:29:01.771Z"
   },
   {
    "duration": 1738,
    "start_time": "2023-03-06T09:29:03.431Z"
   },
   {
    "duration": 10,
    "start_time": "2023-03-06T09:29:05.171Z"
   },
   {
    "duration": 4,
    "start_time": "2023-03-07T07:02:36.510Z"
   },
   {
    "duration": 88,
    "start_time": "2023-03-07T07:04:46.993Z"
   },
   {
    "duration": 9,
    "start_time": "2023-03-07T07:05:33.887Z"
   },
   {
    "duration": 2190,
    "start_time": "2023-03-07T07:05:44.753Z"
   },
   {
    "duration": 1990,
    "start_time": "2023-03-07T07:05:46.946Z"
   },
   {
    "duration": 29,
    "start_time": "2023-03-07T07:05:48.949Z"
   },
   {
    "duration": 18,
    "start_time": "2023-03-07T07:05:48.983Z"
   },
   {
    "duration": 17,
    "start_time": "2023-03-07T07:05:49.005Z"
   },
   {
    "duration": 48,
    "start_time": "2023-03-07T07:05:49.029Z"
   },
   {
    "duration": 15,
    "start_time": "2023-03-07T07:05:49.079Z"
   },
   {
    "duration": 34,
    "start_time": "2023-03-07T07:05:49.096Z"
   },
   {
    "duration": 40,
    "start_time": "2023-03-07T07:05:49.133Z"
   },
   {
    "duration": 16,
    "start_time": "2023-03-07T07:05:49.177Z"
   },
   {
    "duration": 30,
    "start_time": "2023-03-07T07:05:49.195Z"
   },
   {
    "duration": 57,
    "start_time": "2023-03-07T07:05:49.227Z"
   },
   {
    "duration": 397,
    "start_time": "2023-03-07T07:05:49.286Z"
   },
   {
    "duration": 3,
    "start_time": "2023-03-07T07:05:49.685Z"
   },
   {
    "duration": 63,
    "start_time": "2023-03-07T07:05:49.690Z"
   },
   {
    "duration": 100,
    "start_time": "2023-03-07T07:05:49.755Z"
   },
   {
    "duration": 185,
    "start_time": "2023-03-07T07:05:49.857Z"
   },
   {
    "duration": 116,
    "start_time": "2023-03-07T07:05:50.047Z"
   },
   {
    "duration": 60,
    "start_time": "2023-03-07T07:05:50.166Z"
   },
   {
    "duration": 32,
    "start_time": "2023-03-07T07:05:50.229Z"
   },
   {
    "duration": 12,
    "start_time": "2023-03-07T07:05:50.326Z"
   },
   {
    "duration": 9,
    "start_time": "2023-03-07T07:05:50.341Z"
   },
   {
    "duration": 4,
    "start_time": "2023-03-07T07:05:50.355Z"
   },
   {
    "duration": 9,
    "start_time": "2023-03-07T07:05:50.362Z"
   },
   {
    "duration": 18,
    "start_time": "2023-03-07T07:05:50.374Z"
   },
   {
    "duration": 49,
    "start_time": "2023-03-07T07:05:50.395Z"
   },
   {
    "duration": 9,
    "start_time": "2023-03-07T07:05:50.449Z"
   },
   {
    "duration": 17,
    "start_time": "2023-03-07T07:05:50.481Z"
   },
   {
    "duration": 23,
    "start_time": "2023-03-07T07:05:50.500Z"
   },
   {
    "duration": 5,
    "start_time": "2023-03-07T07:05:50.525Z"
   },
   {
    "duration": 28,
    "start_time": "2023-03-07T07:05:50.532Z"
   },
   {
    "duration": 20,
    "start_time": "2023-03-07T07:05:50.564Z"
   },
   {
    "duration": 5,
    "start_time": "2023-03-07T07:05:50.586Z"
   },
   {
    "duration": 34,
    "start_time": "2023-03-07T07:05:50.593Z"
   },
   {
    "duration": 14,
    "start_time": "2023-03-07T07:05:50.629Z"
   },
   {
    "duration": 9,
    "start_time": "2023-03-07T07:05:50.646Z"
   },
   {
    "duration": 9,
    "start_time": "2023-03-07T07:05:50.658Z"
   },
   {
    "duration": 4,
    "start_time": "2023-03-07T07:05:50.669Z"
   },
   {
    "duration": 10,
    "start_time": "2023-03-07T07:05:50.676Z"
   },
   {
    "duration": 13,
    "start_time": "2023-03-07T07:05:50.736Z"
   },
   {
    "duration": 11,
    "start_time": "2023-03-07T07:05:50.751Z"
   },
   {
    "duration": 32,
    "start_time": "2023-03-07T07:05:50.764Z"
   },
   {
    "duration": 1968,
    "start_time": "2023-03-07T07:05:50.798Z"
   },
   {
    "duration": 1878,
    "start_time": "2023-03-07T07:05:52.768Z"
   },
   {
    "duration": 1868,
    "start_time": "2023-03-07T07:05:54.648Z"
   },
   {
    "duration": 16,
    "start_time": "2023-03-07T07:05:56.525Z"
   },
   {
    "duration": 12,
    "start_time": "2023-03-07T07:13:52.849Z"
   }
  ],
  "kernelspec": {
   "display_name": "Python 3 (ipykernel)",
   "language": "python",
   "name": "python3"
  },
  "language_info": {
   "codemirror_mode": {
    "name": "ipython",
    "version": 3
   },
   "file_extension": ".py",
   "mimetype": "text/x-python",
   "name": "python",
   "nbconvert_exporter": "python",
   "pygments_lexer": "ipython3",
   "version": "3.9.5"
  },
  "toc": {
   "base_numbering": 1,
   "nav_menu": {},
   "number_sections": true,
   "sideBar": true,
   "skip_h1_title": true,
   "title_cell": "Table of Contents",
   "title_sidebar": "Contents",
   "toc_cell": false,
   "toc_position": {},
   "toc_section_display": true,
   "toc_window_display": false
  }
 },
 "nbformat": 4,
 "nbformat_minor": 2
}
