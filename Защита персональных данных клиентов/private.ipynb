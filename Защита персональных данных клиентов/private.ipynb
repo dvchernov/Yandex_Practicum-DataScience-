{
 "cells": [
  {
   "cell_type": "markdown",
   "metadata": {
    "toc": true
   },
   "source": [
    "<h1>Содержание<span class=\"tocSkip\"></span></h1>\n",
    "<div class=\"toc\"><ul class=\"toc-item\"><li><span><a href=\"#Загрузка-данных\" data-toc-modified-id=\"Загрузка-данных-1\"><span class=\"toc-item-num\">1&nbsp;&nbsp;</span>Загрузка данных</a></span></li><li><span><a href=\"#Умножение-матриц\" data-toc-modified-id=\"Умножение-матриц-2\"><span class=\"toc-item-num\">2&nbsp;&nbsp;</span>Умножение матриц</a></span></li><li><span><a href=\"#Алгоритм-преобразования\" data-toc-modified-id=\"Алгоритм-преобразования-3\"><span class=\"toc-item-num\">3&nbsp;&nbsp;</span>Алгоритм преобразования</a></span></li><li><span><a href=\"#Проверка-алгоритма\" data-toc-modified-id=\"Проверка-алгоритма-4\"><span class=\"toc-item-num\">4&nbsp;&nbsp;</span>Проверка алгоритма</a></span></li><li><span><a href=\"#Чек-лист-проверки\" data-toc-modified-id=\"Чек-лист-проверки-5\"><span class=\"toc-item-num\">5&nbsp;&nbsp;</span>Чек-лист проверки</a></span></li></ul></div>"
   ]
  },
  {
   "cell_type": "markdown",
   "metadata": {},
   "source": [
    "# Защита персональных данных клиентов"
   ]
  },
  {
   "cell_type": "markdown",
   "metadata": {},
   "source": [
    "Вам нужно защитить данные клиентов страховой компании «Хоть потоп». Разработайте такой метод преобразования данных, чтобы по ним было сложно восстановить персональную информацию. Обоснуйте корректность его работы.\n",
    "\n",
    "Нужно защитить данные, чтобы при преобразовании качество моделей машинного обучения не ухудшилось. Подбирать наилучшую модель не требуется."
   ]
  },
  {
   "cell_type": "markdown",
   "metadata": {},
   "source": [
    "## Загрузка данных"
   ]
  },
  {
   "cell_type": "markdown",
   "metadata": {},
   "source": [
    "**Библиотеки**"
   ]
  },
  {
   "cell_type": "code",
   "execution_count": 1,
   "metadata": {},
   "outputs": [],
   "source": [
    "import pandas as pd\n",
    "import numpy as np\n",
    "from sklearn.metrics import r2_score\n",
    "from sklearn.model_selection import train_test_split\n",
    "from sklearn.linear_model import LinearRegression"
   ]
  },
  {
   "cell_type": "markdown",
   "metadata": {},
   "source": [
    "**Датасет**"
   ]
  },
  {
   "cell_type": "code",
   "execution_count": 2,
   "metadata": {},
   "outputs": [],
   "source": [
    "data = pd.read_csv('/datasets/insurance.csv')"
   ]
  },
  {
   "cell_type": "code",
   "execution_count": 3,
   "metadata": {},
   "outputs": [
    {
     "data": {
      "text/html": [
       "<div>\n",
       "<style scoped>\n",
       "    .dataframe tbody tr th:only-of-type {\n",
       "        vertical-align: middle;\n",
       "    }\n",
       "\n",
       "    .dataframe tbody tr th {\n",
       "        vertical-align: top;\n",
       "    }\n",
       "\n",
       "    .dataframe thead th {\n",
       "        text-align: right;\n",
       "    }\n",
       "</style>\n",
       "<table border=\"1\" class=\"dataframe\">\n",
       "  <thead>\n",
       "    <tr style=\"text-align: right;\">\n",
       "      <th></th>\n",
       "      <th>Пол</th>\n",
       "      <th>Возраст</th>\n",
       "      <th>Зарплата</th>\n",
       "      <th>Члены семьи</th>\n",
       "      <th>Страховые выплаты</th>\n",
       "    </tr>\n",
       "  </thead>\n",
       "  <tbody>\n",
       "    <tr>\n",
       "      <th>0</th>\n",
       "      <td>1</td>\n",
       "      <td>41.0</td>\n",
       "      <td>49600.0</td>\n",
       "      <td>1</td>\n",
       "      <td>0</td>\n",
       "    </tr>\n",
       "    <tr>\n",
       "      <th>1</th>\n",
       "      <td>0</td>\n",
       "      <td>46.0</td>\n",
       "      <td>38000.0</td>\n",
       "      <td>1</td>\n",
       "      <td>1</td>\n",
       "    </tr>\n",
       "    <tr>\n",
       "      <th>2</th>\n",
       "      <td>0</td>\n",
       "      <td>29.0</td>\n",
       "      <td>21000.0</td>\n",
       "      <td>0</td>\n",
       "      <td>0</td>\n",
       "    </tr>\n",
       "    <tr>\n",
       "      <th>3</th>\n",
       "      <td>0</td>\n",
       "      <td>21.0</td>\n",
       "      <td>41700.0</td>\n",
       "      <td>2</td>\n",
       "      <td>0</td>\n",
       "    </tr>\n",
       "    <tr>\n",
       "      <th>4</th>\n",
       "      <td>1</td>\n",
       "      <td>28.0</td>\n",
       "      <td>26100.0</td>\n",
       "      <td>0</td>\n",
       "      <td>0</td>\n",
       "    </tr>\n",
       "  </tbody>\n",
       "</table>\n",
       "</div>"
      ],
      "text/plain": [
       "   Пол  Возраст  Зарплата  Члены семьи  Страховые выплаты\n",
       "0    1     41.0   49600.0            1                  0\n",
       "1    0     46.0   38000.0            1                  1\n",
       "2    0     29.0   21000.0            0                  0\n",
       "3    0     21.0   41700.0            2                  0\n",
       "4    1     28.0   26100.0            0                  0"
      ]
     },
     "execution_count": 3,
     "metadata": {},
     "output_type": "execute_result"
    }
   ],
   "source": [
    "data.head()"
   ]
  },
  {
   "cell_type": "code",
   "execution_count": 4,
   "metadata": {},
   "outputs": [
    {
     "name": "stdout",
     "output_type": "stream",
     "text": [
      "<class 'pandas.core.frame.DataFrame'>\n",
      "RangeIndex: 5000 entries, 0 to 4999\n",
      "Data columns (total 5 columns):\n",
      " #   Column             Non-Null Count  Dtype  \n",
      "---  ------             --------------  -----  \n",
      " 0   Пол                5000 non-null   int64  \n",
      " 1   Возраст            5000 non-null   float64\n",
      " 2   Зарплата           5000 non-null   float64\n",
      " 3   Члены семьи        5000 non-null   int64  \n",
      " 4   Страховые выплаты  5000 non-null   int64  \n",
      "dtypes: float64(2), int64(3)\n",
      "memory usage: 195.4 KB\n"
     ]
    }
   ],
   "source": [
    "data.info()"
   ]
  },
  {
   "cell_type": "markdown",
   "metadata": {},
   "source": [
    "**Предобработка данных**"
   ]
  },
  {
   "cell_type": "code",
   "execution_count": 5,
   "metadata": {},
   "outputs": [
    {
     "data": {
      "text/plain": [
       "153"
      ]
     },
     "execution_count": 5,
     "metadata": {},
     "output_type": "execute_result"
    }
   ],
   "source": [
    "data.duplicated().sum()"
   ]
  },
  {
   "cell_type": "markdown",
   "metadata": {},
   "source": [
    "Дубликатов не так много, возможно это просто совпадения, так что оставим"
   ]
  },
  {
   "cell_type": "markdown",
   "metadata": {},
   "source": [
    "- Пропусков в данных нет\n",
    "- данные Возраста и Зарплаты переведу в целые числа (на всякий случай)"
   ]
  },
  {
   "cell_type": "code",
   "execution_count": 6,
   "metadata": {},
   "outputs": [],
   "source": [
    "data['Зарплата'] = data['Зарплата'].astype('int64')\n",
    "data['Возраст'] = data['Возраст'].astype('int64')"
   ]
  },
  {
   "cell_type": "code",
   "execution_count": 7,
   "metadata": {},
   "outputs": [
    {
     "name": "stdout",
     "output_type": "stream",
     "text": [
      "<class 'pandas.core.frame.DataFrame'>\n",
      "RangeIndex: 5000 entries, 0 to 4999\n",
      "Data columns (total 5 columns):\n",
      " #   Column             Non-Null Count  Dtype\n",
      "---  ------             --------------  -----\n",
      " 0   Пол                5000 non-null   int64\n",
      " 1   Возраст            5000 non-null   int64\n",
      " 2   Зарплата           5000 non-null   int64\n",
      " 3   Члены семьи        5000 non-null   int64\n",
      " 4   Страховые выплаты  5000 non-null   int64\n",
      "dtypes: int64(5)\n",
      "memory usage: 195.4 KB\n"
     ]
    }
   ],
   "source": [
    "data.info()"
   ]
  },
  {
   "cell_type": "markdown",
   "metadata": {},
   "source": [
    "## Умножение матриц"
   ]
  },
  {
   "cell_type": "markdown",
   "metadata": {},
   "source": [
    "В этом задании вы можете записывать формулы в *Jupyter Notebook.*\n",
    "\n",
    "Чтобы записать формулу внутри текста, окружите её символами доллара \\\\$; если снаружи —  двойными символами \\\\$\\\\$. Эти формулы записываются на языке вёрстки *LaTeX.* \n",
    "\n",
    "Для примера мы записали формулы линейной регрессии. Можете их скопировать и отредактировать, чтобы решить задачу.\n",
    "\n",
    "Работать в *LaTeX* необязательно."
   ]
  },
  {
   "cell_type": "markdown",
   "metadata": {},
   "source": [
    "Обозначения:\n",
    "\n",
    "- $X$ — матрица признаков (нулевой столбец состоит из единиц)\n",
    "\n",
    "- $y$ — вектор целевого признака\n",
    "\n",
    "- $P$ — матрица, на которую умножаются признаки\n",
    "\n",
    "- $w$ — вектор весов линейной регрессии (нулевой элемент равен сдвигу)"
   ]
  },
  {
   "cell_type": "markdown",
   "metadata": {},
   "source": [
    "Предсказания:\n",
    "\n",
    "$$\n",
    "a = Xw\n",
    "$$\n",
    "\n",
    "Задача обучения:\n",
    "\n",
    "$$\n",
    "w = \\arg\\min_w MSE(Xw, y)\n",
    "$$\n",
    "\n",
    "Формула обучения:\n",
    "\n",
    "$$\n",
    "w = (X^T X)^{-1} X^T y\n",
    "$$"
   ]
  },
  {
   "cell_type": "markdown",
   "metadata": {},
   "source": [
    "**Вопрос:** Признаки умножают на обратимую матрицу. Изменится ли качество линейной регрессии? (Её можно обучить заново.)\n",
    "\n",
    " a. Изменится. Приведите примеры матриц.\n",
    " \n",
    " b. Не изменится. Укажите, как связаны параметры линейной регрессии в исходной задаче и в преобразованной.\n",
    "\n",
    "**Ответ:** Не изменится\n",
    "\n",
    "**Обоснование:**"
   ]
  },
  {
   "cell_type": "markdown",
   "metadata": {},
   "source": [
    "Разберем вопрос. \n",
    "\n",
    "Признаки ($X$) умножают на обратимую матрицу ($P$). Нужно узнать изменится ли после этого качество линейной регрессии ($w$)?\n",
    "\n",
    "а. $w$ ≠ $w'$\n",
    "\n",
    "b. $w$ = $w'$\n",
    "  \n",
    "Формула обучения:  \n",
    "\n",
    "$\n",
    "w = (X^T X)^{-1} X^T y\n",
    "$\n",
    "\n",
    "Признаки ($X$) умножаем на обратимую матрицу ($P$)\n",
    "\n",
    "$\n",
    "w' = ((XP)^T XP)^{-1} (XP)^T y\n",
    "$\n",
    "\n",
    "Начнем выносить $P$ за скобки\n",
    "\n",
    "$\n",
    "w' = ((XP)^T XP)^{-1} (XP)^T y\n",
    "$\n",
    "\n",
    "$\n",
    "w' = (P^T (X^T X) P)^{-1} (XP)^T y\n",
    "$\n",
    "\n",
    "$\n",
    "w' = (P (X^T X) P^T)^{-1} P^T X^T y\n",
    "$\n",
    "\n",
    "$E = (P^T)^{-1} P^T$ ; при умножении матрицы на обратную получаем единичную $E$ матрицу\n",
    "\n",
    "$\n",
    "w' = P^{-1}(X^T X)^{-1} (P^T)^{-1} P^T X^T y\n",
    "$\n",
    "\n",
    "$\n",
    "w' = P^{-1}(X^T X)^{-1} E X^T y\n",
    "$\n",
    "\n",
    "$\n",
    "w' = P^{-1}(X^T X)^{-1} X^T y\n",
    "$\n",
    "\n",
    "$\n",
    "w' = P^{-1} w\n",
    "$\n",
    "\n",
    "Выходит, что качество линейнойной регрессии останется прежним, если признаки перемножаются на обратимую матрицу (необратимые матрицы встречаются редко)"
   ]
  },
  {
   "cell_type": "markdown",
   "metadata": {},
   "source": [
    "Предсказания:\n",
    "\n",
    "$a = Xw$\n",
    "$P P^{-1} = E = 1$ ; умножение матрицы на свою обратную - есть единичная матрица\n",
    "\n",
    "$a = Xw = XEw = XP P^{-1}w = (XP) P^{-1}w = (XP)w'$\n",
    "\n",
    "$a = (XP)w'$"
   ]
  },
  {
   "cell_type": "markdown",
   "metadata": {},
   "source": [
    "$$\n",
    "a = Xw = XEw = XPP^{-1}w = (XP)P^{-1}w = (XP)w'\n",
    "$$\n",
    "\n",
    "$$\n",
    "w' = ((XP)^T XP)^{-1} (XP)^T y\n",
    "$$\n",
    "$$\n",
    "w' = (P^T (X^T X) P)^{-1} (XP)^T y\n",
    "$$\n",
    "$$\n",
    "......\n",
    "$$"
   ]
  },
  {
   "cell_type": "markdown",
   "metadata": {},
   "source": [
    "$$\n",
    "a = Xw = XEw = XPP^{-1}w = (XP)P^{-1}w = (XP)w'\n",
    "$$\n",
    "\n",
    "$$\n",
    "w' = ((XP)^T XP)^{-1} (XP)^T y\n",
    "$$\n",
    "$$\n",
    "w' = (P^T (X^T X) P)^{-1} (XP)^T y\n",
    "$$\n",
    "$$\n",
    "......\n",
    "$$"
   ]
  },
  {
   "cell_type": "markdown",
   "metadata": {},
   "source": [
    "## Алгоритм преобразования"
   ]
  },
  {
   "cell_type": "markdown",
   "metadata": {},
   "source": [
    "**Алгоритм**\n",
    "\n",
    "Умножим матрицу признаков на случайно сгенерированную обратимую матрицу той же размерности"
   ]
  },
  {
   "cell_type": "markdown",
   "metadata": {},
   "source": [
    "**Обоснование**"
   ]
  },
  {
   "cell_type": "code",
   "execution_count": 8,
   "metadata": {},
   "outputs": [],
   "source": [
    "features = data.drop(['Страховые выплаты'], axis=1)\n",
    "target = data['Страховые выплаты']"
   ]
  },
  {
   "cell_type": "markdown",
   "metadata": {},
   "source": [
    "Создадим случайно сгенерированную матрицу"
   ]
  },
  {
   "cell_type": "code",
   "execution_count": 9,
   "metadata": {},
   "outputs": [],
   "source": [
    "random_matrix = np.random.randn(4, 4)"
   ]
  },
  {
   "cell_type": "markdown",
   "metadata": {},
   "source": [
    "Проверим, является ли она обратимой"
   ]
  },
  {
   "cell_type": "code",
   "execution_count": 10,
   "metadata": {},
   "outputs": [
    {
     "name": "stdout",
     "output_type": "stream",
     "text": [
      "Матрица обратима\n"
     ]
    }
   ],
   "source": [
    "try:\n",
    "    invert_matrix = np.linalg.inv(random_matrix)\n",
    "    print('Матрица обратима')\n",
    "except:\n",
    "    print('Матрица необратима')"
   ]
  },
  {
   "cell_type": "markdown",
   "metadata": {},
   "source": [
    "**Посмотрим, есть ли разница между результатами, для этого зададим исходные и новые параметры**"
   ]
  },
  {
   "cell_type": "markdown",
   "metadata": {},
   "source": [
    "до преобразования"
   ]
  },
  {
   "cell_type": "code",
   "execution_count": 11,
   "metadata": {},
   "outputs": [],
   "source": [
    "w = np.linalg.inv(features.T.dot(features)).dot(features.T).dot(target)\n",
    "a = features @ w"
   ]
  },
  {
   "cell_type": "markdown",
   "metadata": {},
   "source": [
    "после преобразования"
   ]
  },
  {
   "cell_type": "code",
   "execution_count": 12,
   "metadata": {},
   "outputs": [],
   "source": [
    "features_upgraded = features @ random_matrix\n",
    "w2 = np.linalg.inv(features_upgraded.T.dot(features_upgraded)).dot(features_upgraded.T).dot(target)\n",
    "a2 = features_upgraded @ w2"
   ]
  },
  {
   "cell_type": "code",
   "execution_count": 13,
   "metadata": {},
   "outputs": [],
   "source": [
    "difference = a - a2"
   ]
  },
  {
   "cell_type": "code",
   "execution_count": 14,
   "metadata": {},
   "outputs": [
    {
     "name": "stdout",
     "output_type": "stream",
     "text": [
      "-1.102385562179323e-05\n"
     ]
    }
   ],
   "source": [
    "print(difference.sum())"
   ]
  },
  {
   "cell_type": "markdown",
   "metadata": {},
   "source": [
    "**Вывод:** \n",
    "- Разница просто незначительная, качество модели не ухудшилось. \n",
    "- Наши действия не повлияли на предсказания при исходных и новых параметрах. \n",
    "- Матрицу признаков можно умножать на случайно сгенерированную обратимую матрицу"
   ]
  },
  {
   "cell_type": "markdown",
   "metadata": {},
   "source": [
    "## Проверка алгоритма"
   ]
  },
  {
   "cell_type": "markdown",
   "metadata": {},
   "source": [
    "**Создадим класс модели LR**"
   ]
  },
  {
   "cell_type": "code",
   "execution_count": 15,
   "metadata": {},
   "outputs": [],
   "source": [
    "class ConstantRegression:\n",
    "    def model_fit(self, features, target):\n",
    "        self.model = LinearRegression()\n",
    "        self.model.fit(features, target)\n",
    "        \n",
    "    def predict_result(self, features):\n",
    "        result = self.model.predict(features)\n",
    "        return result\n",
    "        \n",
    "    def get_r2_score(self, target, predict):\n",
    "        r2 = r2_score(target, predict)\n",
    "        return r2  "
   ]
  },
  {
   "cell_type": "markdown",
   "metadata": {},
   "source": [
    "**Вычислим результаты до преобразования на первой модели**"
   ]
  },
  {
   "cell_type": "code",
   "execution_count": 16,
   "metadata": {},
   "outputs": [],
   "source": [
    "model_true = ConstantRegression()\n",
    "model_true.model_fit(features, target)\n",
    "predict_true = model_true.predict_result(features)\n",
    "r2_model_true = model_true.get_r2_score(target, predict_true)"
   ]
  },
  {
   "cell_type": "markdown",
   "metadata": {},
   "source": [
    "**Вычислим результаты после преобразования на второй модели**"
   ]
  },
  {
   "cell_type": "code",
   "execution_count": 17,
   "metadata": {},
   "outputs": [],
   "source": [
    "model_upgraded = ConstantRegression()\n",
    "model_upgraded.model_fit(features_upgraded, target)\n",
    "predict_upgraded = model_upgraded.predict_result(features_upgraded)\n",
    "r2_model_upgraded = model_upgraded.get_r2_score(target, predict_upgraded)"
   ]
  },
  {
   "cell_type": "markdown",
   "metadata": {},
   "source": [
    "**Сравним результаты**"
   ]
  },
  {
   "cell_type": "code",
   "execution_count": 18,
   "metadata": {},
   "outputs": [
    {
     "name": "stdout",
     "output_type": "stream",
     "text": [
      "Значение R2 до преобразования: 0.42494550308169177\n",
      "\n",
      "Значение R2 после преобразования: 0.4249455030816902\n"
     ]
    }
   ],
   "source": [
    "print('Значение R2 до преобразования:', r2_model_true)\n",
    "print()\n",
    "print('Значение R2 после преобразования:', r2_model_upgraded)"
   ]
  },
  {
   "cell_type": "markdown",
   "metadata": {},
   "source": [
    "**Вывод:** \n",
    "- Разница просто незначительная, качество модели не ухудшилось. \n",
    "- Наши действия не повлияли на предсказания при исходных и новых параметрах. \n",
    "- Матрицу признаков можно умножать на случайно сгенерированную обратимую матрицу"
   ]
  },
  {
   "cell_type": "markdown",
   "metadata": {},
   "source": [
    "## Чек-лист проверки"
   ]
  },
  {
   "cell_type": "markdown",
   "metadata": {},
   "source": [
    "Поставьте 'x' в выполненных пунктах. Далее нажмите Shift+Enter."
   ]
  },
  {
   "cell_type": "markdown",
   "metadata": {},
   "source": [
    "- [x]  Jupyter Notebook открыт\n",
    "- [x]  Весь код выполняется без ошибок\n",
    "- [x]  Ячейки с кодом расположены в порядке исполнения\n",
    "- [x]  Выполнен шаг 1: данные загружены\n",
    "- [x]  Выполнен шаг 2: получен ответ на вопрос об умножении матриц\n",
    "    - [x]  Указан правильный вариант ответа\n",
    "    - [x]  Вариант обоснован\n",
    "- [x]  Выполнен шаг 3: предложен алгоритм преобразования\n",
    "    - [x]  Алгоритм описан\n",
    "    - [x]  Алгоритм обоснован\n",
    "- [x]  Выполнен шаг 4: алгоритм проверен\n",
    "    - [x]  Алгоритм реализован\n",
    "    - [x]  Проведено сравнение качества моделей до и после преобразования"
   ]
  }
 ],
 "metadata": {
  "ExecuteTimeLog": [
   {
    "duration": 399,
    "start_time": "2023-03-24T14:25:46.870Z"
   },
   {
    "duration": 101,
    "start_time": "2023-03-24T14:25:54.536Z"
   },
   {
    "duration": 17,
    "start_time": "2023-03-24T14:26:19.438Z"
   },
   {
    "duration": 13,
    "start_time": "2023-03-24T14:26:28.398Z"
   },
   {
    "duration": 7,
    "start_time": "2023-03-24T14:29:08.308Z"
   },
   {
    "duration": 6,
    "start_time": "2023-03-24T14:29:20.532Z"
   },
   {
    "duration": 6,
    "start_time": "2023-03-24T14:33:35.247Z"
   },
   {
    "duration": 12,
    "start_time": "2023-03-24T14:33:41.472Z"
   },
   {
    "duration": 6,
    "start_time": "2023-03-24T16:16:31.506Z"
   },
   {
    "duration": 4,
    "start_time": "2023-03-24T16:18:38.987Z"
   },
   {
    "duration": 5,
    "start_time": "2023-03-24T16:21:18.778Z"
   },
   {
    "duration": 6,
    "start_time": "2023-03-24T16:28:18.899Z"
   },
   {
    "duration": 7,
    "start_time": "2023-03-24T16:28:35.451Z"
   },
   {
    "duration": 8,
    "start_time": "2023-03-24T16:29:03.403Z"
   },
   {
    "duration": 4,
    "start_time": "2023-03-24T16:29:06.170Z"
   },
   {
    "duration": 4,
    "start_time": "2023-03-24T16:29:19.504Z"
   },
   {
    "duration": 16,
    "start_time": "2023-03-24T16:30:13.643Z"
   },
   {
    "duration": 1315,
    "start_time": "2023-03-24T16:30:19.993Z"
   },
   {
    "duration": 29,
    "start_time": "2023-03-24T16:30:21.310Z"
   },
   {
    "duration": 19,
    "start_time": "2023-03-24T16:30:21.341Z"
   },
   {
    "duration": 13,
    "start_time": "2023-03-24T16:30:21.363Z"
   },
   {
    "duration": 13,
    "start_time": "2023-03-24T16:30:21.378Z"
   },
   {
    "duration": 17,
    "start_time": "2023-03-24T16:30:21.393Z"
   },
   {
    "duration": 36,
    "start_time": "2023-03-24T16:30:21.414Z"
   },
   {
    "duration": 6,
    "start_time": "2023-03-24T16:30:21.452Z"
   },
   {
    "duration": 5,
    "start_time": "2023-03-24T16:30:21.460Z"
   },
   {
    "duration": 7,
    "start_time": "2023-03-24T16:30:21.468Z"
   },
   {
    "duration": 71,
    "start_time": "2023-03-24T16:30:21.479Z"
   },
   {
    "duration": 6,
    "start_time": "2023-03-24T16:30:21.641Z"
   },
   {
    "duration": 91,
    "start_time": "2023-03-24T16:30:21.650Z"
   },
   {
    "duration": 93,
    "start_time": "2023-03-24T16:30:21.748Z"
   },
   {
    "duration": 106,
    "start_time": "2023-03-24T16:39:13.542Z"
   },
   {
    "duration": 4,
    "start_time": "2023-03-24T16:39:44.967Z"
   },
   {
    "duration": 16,
    "start_time": "2023-03-24T16:39:47.356Z"
   },
   {
    "duration": 9,
    "start_time": "2023-03-24T16:40:02.535Z"
   },
   {
    "duration": 4,
    "start_time": "2023-03-24T16:44:23.058Z"
   },
   {
    "duration": 4,
    "start_time": "2023-03-24T16:44:37.461Z"
   },
   {
    "duration": 1144,
    "start_time": "2023-03-24T16:49:11.035Z"
   },
   {
    "duration": 29,
    "start_time": "2023-03-24T16:49:12.181Z"
   },
   {
    "duration": 16,
    "start_time": "2023-03-24T16:49:12.212Z"
   },
   {
    "duration": 13,
    "start_time": "2023-03-24T16:49:12.231Z"
   },
   {
    "duration": 9,
    "start_time": "2023-03-24T16:49:12.245Z"
   },
   {
    "duration": 8,
    "start_time": "2023-03-24T16:49:12.256Z"
   },
   {
    "duration": 12,
    "start_time": "2023-03-24T16:49:12.265Z"
   },
   {
    "duration": 4,
    "start_time": "2023-03-24T16:49:12.279Z"
   },
   {
    "duration": 4,
    "start_time": "2023-03-24T16:49:12.285Z"
   },
   {
    "duration": 5,
    "start_time": "2023-03-24T16:49:12.291Z"
   },
   {
    "duration": 57,
    "start_time": "2023-03-24T16:49:12.297Z"
   },
   {
    "duration": 7,
    "start_time": "2023-03-24T16:49:12.443Z"
   },
   {
    "duration": 8,
    "start_time": "2023-03-24T16:49:12.543Z"
   },
   {
    "duration": 5,
    "start_time": "2023-03-24T16:49:12.641Z"
   },
   {
    "duration": 4,
    "start_time": "2023-03-24T16:49:12.647Z"
   },
   {
    "duration": 17,
    "start_time": "2023-03-24T16:49:12.653Z"
   },
   {
    "duration": 360,
    "start_time": "2023-03-24T16:49:12.673Z"
   },
   {
    "duration": 0,
    "start_time": "2023-03-24T16:49:13.034Z"
   },
   {
    "duration": 11,
    "start_time": "2023-03-24T16:49:32.501Z"
   },
   {
    "duration": 3,
    "start_time": "2023-03-24T16:49:37.234Z"
   },
   {
    "duration": 1041,
    "start_time": "2023-03-24T16:49:47.494Z"
   },
   {
    "duration": 29,
    "start_time": "2023-03-24T16:49:48.537Z"
   },
   {
    "duration": 18,
    "start_time": "2023-03-24T16:49:48.568Z"
   },
   {
    "duration": 12,
    "start_time": "2023-03-24T16:49:48.589Z"
   },
   {
    "duration": 29,
    "start_time": "2023-03-24T16:49:48.603Z"
   },
   {
    "duration": 8,
    "start_time": "2023-03-24T16:49:48.633Z"
   },
   {
    "duration": 12,
    "start_time": "2023-03-24T16:49:48.643Z"
   },
   {
    "duration": 5,
    "start_time": "2023-03-24T16:49:48.657Z"
   },
   {
    "duration": 4,
    "start_time": "2023-03-24T16:49:48.664Z"
   },
   {
    "duration": 5,
    "start_time": "2023-03-24T16:49:48.671Z"
   },
   {
    "duration": 67,
    "start_time": "2023-03-24T16:49:48.678Z"
   },
   {
    "duration": 95,
    "start_time": "2023-03-24T16:49:48.747Z"
   },
   {
    "duration": 96,
    "start_time": "2023-03-24T16:49:48.845Z"
   },
   {
    "duration": 4,
    "start_time": "2023-03-24T16:49:48.943Z"
   },
   {
    "duration": 13,
    "start_time": "2023-03-24T16:49:48.950Z"
   },
   {
    "duration": 12,
    "start_time": "2023-03-24T16:49:48.965Z"
   },
   {
    "duration": 167,
    "start_time": "2023-03-24T16:49:48.979Z"
   },
   {
    "duration": 5,
    "start_time": "2023-03-24T16:49:49.149Z"
   },
   {
    "duration": 2198,
    "start_time": "2023-03-25T06:41:56.475Z"
   },
   {
    "duration": 28,
    "start_time": "2023-03-25T06:41:58.675Z"
   },
   {
    "duration": 14,
    "start_time": "2023-03-25T06:41:58.704Z"
   },
   {
    "duration": 9,
    "start_time": "2023-03-25T06:41:58.720Z"
   },
   {
    "duration": 5,
    "start_time": "2023-03-25T06:41:58.730Z"
   },
   {
    "duration": 5,
    "start_time": "2023-03-25T06:41:59.448Z"
   },
   {
    "duration": 13,
    "start_time": "2023-03-25T06:41:59.639Z"
   },
   {
    "duration": 4,
    "start_time": "2023-03-25T06:44:09.533Z"
   },
   {
    "duration": 3,
    "start_time": "2023-03-25T06:44:10.231Z"
   },
   {
    "duration": 4,
    "start_time": "2023-03-25T06:44:10.965Z"
   },
   {
    "duration": 7,
    "start_time": "2023-03-25T06:44:32.044Z"
   },
   {
    "duration": 10,
    "start_time": "2023-03-25T06:44:32.648Z"
   },
   {
    "duration": 5,
    "start_time": "2023-03-25T06:44:32.859Z"
   },
   {
    "duration": 4,
    "start_time": "2023-03-25T06:44:33.135Z"
   },
   {
    "duration": 3,
    "start_time": "2023-03-25T06:45:02.701Z"
   },
   {
    "duration": 84,
    "start_time": "2023-03-25T06:45:03.761Z"
   },
   {
    "duration": 9,
    "start_time": "2023-03-25T06:45:04.902Z"
   },
   {
    "duration": 3,
    "start_time": "2023-03-25T06:45:06.366Z"
   }
  ],
  "kernelspec": {
   "display_name": "Python 3 (ipykernel)",
   "language": "python",
   "name": "python3"
  },
  "language_info": {
   "codemirror_mode": {
    "name": "ipython",
    "version": 3
   },
   "file_extension": ".py",
   "mimetype": "text/x-python",
   "name": "python",
   "nbconvert_exporter": "python",
   "pygments_lexer": "ipython3",
   "version": "3.9.5"
  },
  "toc": {
   "base_numbering": 1,
   "nav_menu": {},
   "number_sections": true,
   "sideBar": true,
   "skip_h1_title": true,
   "title_cell": "Содержание",
   "title_sidebar": "Contents",
   "toc_cell": true,
   "toc_position": {
    "height": "calc(100% - 180px)",
    "left": "10px",
    "top": "150px",
    "width": "165px"
   },
   "toc_section_display": true,
   "toc_window_display": true
  }
 },
 "nbformat": 4,
 "nbformat_minor": 2
}
