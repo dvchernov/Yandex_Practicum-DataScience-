{
 "cells": [
  {
   "cell_type": "markdown",
   "metadata": {
    "toc": true
   },
   "source": [
    "<h1>Содержание<span class=\"tocSkip\"></span></h1>\n",
    "<div class=\"toc\"><ul class=\"toc-item\"><li><span><a href=\"#Подготовка-данных\" data-toc-modified-id=\"Подготовка-данных-1\"><span class=\"toc-item-num\">1&nbsp;&nbsp;</span>Подготовка данных</a></span></li><li><span><a href=\"#Исследование-задачи\" data-toc-modified-id=\"Исследование-задачи-2\"><span class=\"toc-item-num\">2&nbsp;&nbsp;</span>Исследование задачи</a></span></li><li><span><a href=\"#Борьба-с-дисбалансом\" data-toc-modified-id=\"Борьба-с-дисбалансом-3\"><span class=\"toc-item-num\">3&nbsp;&nbsp;</span>Борьба с дисбалансом</a></span></li><li><span><a href=\"#Тестирование-модели\" data-toc-modified-id=\"Тестирование-модели-4\"><span class=\"toc-item-num\">4&nbsp;&nbsp;</span>Тестирование модели</a></span></li><li><span><a href=\"#Чек-лист-готовности-проекта\" data-toc-modified-id=\"Чек-лист-готовности-проекта-5\"><span class=\"toc-item-num\">5&nbsp;&nbsp;</span>Чек-лист готовности проекта</a></span></li></ul></div>"
   ]
  },
  {
   "cell_type": "markdown",
   "metadata": {},
   "source": [
    "# Отток клиентов"
   ]
  },
  {
   "cell_type": "markdown",
   "metadata": {},
   "source": [
    "Из «Бета-Банка» стали уходить клиенты. Каждый месяц. Немного, но заметно. Банковские маркетологи посчитали: сохранять текущих клиентов дешевле, чем привлекать новых.\n",
    "\n",
    "Нужно спрогнозировать, уйдёт клиент из банка в ближайшее время или нет. Вам предоставлены исторические данные о поведении клиентов и расторжении договоров с банком. \n",
    "\n",
    "Постройте модель с предельно большим значением *F1*-меры. Чтобы сдать проект успешно, нужно довести метрику до 0.59. Проверьте *F1*-меру на тестовой выборке самостоятельно.\n",
    "\n",
    "Дополнительно измеряйте *AUC-ROC*, сравнивайте её значение с *F1*-мерой.\n",
    "\n",
    "Источник данных: [https://www.kaggle.com/barelydedicated/bank-customer-churn-modeling](https://www.kaggle.com/barelydedicated/bank-customer-churn-modeling)"
   ]
  },
  {
   "cell_type": "markdown",
   "metadata": {},
   "source": [
    "## Подготовка данных"
   ]
  },
  {
   "cell_type": "markdown",
   "metadata": {},
   "source": [
    "**Описание данных**"
   ]
  },
  {
   "cell_type": "markdown",
   "metadata": {},
   "source": [
    "**Признаки:**\n",
    "- RowNumber — индекс строки в данных\n",
    "- CustomerId — уникальный идентификатор клиента\n",
    "- Surname — фамилия\n",
    "- CreditScore — кредитный рейтинг\n",
    "- Geography — страна проживания\n",
    "- Gender — пол\n",
    "- Age — возраст\n",
    "- Tenure — сколько лет человек является клиентом банка\n",
    "- Balance — баланс на счёте\n",
    "- NumOfProducts — количество продуктов банка, используемых клиентом\n",
    "- HasCrCard — наличие кредитной карты\n",
    "- IsActiveMember — активность клиента\n",
    "- EstimatedSalary — предполагаемая зарплата"
   ]
  },
  {
   "cell_type": "markdown",
   "metadata": {},
   "source": [
    "**Целевой признак**\n",
    "- Exited — факт ухода клиента"
   ]
  },
  {
   "cell_type": "code",
   "execution_count": 1,
   "metadata": {},
   "outputs": [],
   "source": [
    "import pandas as pd\n",
    "import matplotlib.pyplot as plt\n",
    "\n",
    "from sklearn.preprocessing import MinMaxScaler\n",
    "from sklearn.utils import shuffle\n",
    "from sklearn.model_selection import train_test_split, GridSearchCV\n",
    "from sklearn.metrics import accuracy_score, f1_score, recall_score, precision_score, roc_auc_score, roc_curve, confusion_matrix\n",
    "\n",
    "\n",
    "from sklearn.linear_model import LogisticRegression\n",
    "from sklearn.ensemble import RandomForestClassifier\n",
    "from sklearn.preprocessing import StandardScaler\n",
    "from sklearn.tree import DecisionTreeClassifier\n",
    "from sklearn.dummy import DummyClassifier"
   ]
  },
  {
   "cell_type": "code",
   "execution_count": 2,
   "metadata": {},
   "outputs": [],
   "source": [
    "df = pd.read_csv('/datasets/Churn.csv')"
   ]
  },
  {
   "cell_type": "code",
   "execution_count": 3,
   "metadata": {},
   "outputs": [
    {
     "name": "stdout",
     "output_type": "stream",
     "text": [
      "<class 'pandas.core.frame.DataFrame'>\n",
      "RangeIndex: 10000 entries, 0 to 9999\n",
      "Data columns (total 14 columns):\n",
      " #   Column           Non-Null Count  Dtype  \n",
      "---  ------           --------------  -----  \n",
      " 0   RowNumber        10000 non-null  int64  \n",
      " 1   CustomerId       10000 non-null  int64  \n",
      " 2   Surname          10000 non-null  object \n",
      " 3   CreditScore      10000 non-null  int64  \n",
      " 4   Geography        10000 non-null  object \n",
      " 5   Gender           10000 non-null  object \n",
      " 6   Age              10000 non-null  int64  \n",
      " 7   Tenure           9091 non-null   float64\n",
      " 8   Balance          10000 non-null  float64\n",
      " 9   NumOfProducts    10000 non-null  int64  \n",
      " 10  HasCrCard        10000 non-null  int64  \n",
      " 11  IsActiveMember   10000 non-null  int64  \n",
      " 12  EstimatedSalary  10000 non-null  float64\n",
      " 13  Exited           10000 non-null  int64  \n",
      "dtypes: float64(3), int64(8), object(3)\n",
      "memory usage: 1.1+ MB\n"
     ]
    }
   ],
   "source": [
    "df.info()"
   ]
  },
  {
   "cell_type": "code",
   "execution_count": 4,
   "metadata": {},
   "outputs": [
    {
     "data": {
      "text/html": [
       "<div>\n",
       "<style scoped>\n",
       "    .dataframe tbody tr th:only-of-type {\n",
       "        vertical-align: middle;\n",
       "    }\n",
       "\n",
       "    .dataframe tbody tr th {\n",
       "        vertical-align: top;\n",
       "    }\n",
       "\n",
       "    .dataframe thead th {\n",
       "        text-align: right;\n",
       "    }\n",
       "</style>\n",
       "<table border=\"1\" class=\"dataframe\">\n",
       "  <thead>\n",
       "    <tr style=\"text-align: right;\">\n",
       "      <th></th>\n",
       "      <th>RowNumber</th>\n",
       "      <th>CustomerId</th>\n",
       "      <th>Surname</th>\n",
       "      <th>CreditScore</th>\n",
       "      <th>Geography</th>\n",
       "      <th>Gender</th>\n",
       "      <th>Age</th>\n",
       "      <th>Tenure</th>\n",
       "      <th>Balance</th>\n",
       "      <th>NumOfProducts</th>\n",
       "      <th>HasCrCard</th>\n",
       "      <th>IsActiveMember</th>\n",
       "      <th>EstimatedSalary</th>\n",
       "      <th>Exited</th>\n",
       "    </tr>\n",
       "  </thead>\n",
       "  <tbody>\n",
       "    <tr>\n",
       "      <th>0</th>\n",
       "      <td>1</td>\n",
       "      <td>15634602</td>\n",
       "      <td>Hargrave</td>\n",
       "      <td>619</td>\n",
       "      <td>France</td>\n",
       "      <td>Female</td>\n",
       "      <td>42</td>\n",
       "      <td>2.0</td>\n",
       "      <td>0.00</td>\n",
       "      <td>1</td>\n",
       "      <td>1</td>\n",
       "      <td>1</td>\n",
       "      <td>101348.88</td>\n",
       "      <td>1</td>\n",
       "    </tr>\n",
       "    <tr>\n",
       "      <th>1</th>\n",
       "      <td>2</td>\n",
       "      <td>15647311</td>\n",
       "      <td>Hill</td>\n",
       "      <td>608</td>\n",
       "      <td>Spain</td>\n",
       "      <td>Female</td>\n",
       "      <td>41</td>\n",
       "      <td>1.0</td>\n",
       "      <td>83807.86</td>\n",
       "      <td>1</td>\n",
       "      <td>0</td>\n",
       "      <td>1</td>\n",
       "      <td>112542.58</td>\n",
       "      <td>0</td>\n",
       "    </tr>\n",
       "    <tr>\n",
       "      <th>2</th>\n",
       "      <td>3</td>\n",
       "      <td>15619304</td>\n",
       "      <td>Onio</td>\n",
       "      <td>502</td>\n",
       "      <td>France</td>\n",
       "      <td>Female</td>\n",
       "      <td>42</td>\n",
       "      <td>8.0</td>\n",
       "      <td>159660.80</td>\n",
       "      <td>3</td>\n",
       "      <td>1</td>\n",
       "      <td>0</td>\n",
       "      <td>113931.57</td>\n",
       "      <td>1</td>\n",
       "    </tr>\n",
       "    <tr>\n",
       "      <th>3</th>\n",
       "      <td>4</td>\n",
       "      <td>15701354</td>\n",
       "      <td>Boni</td>\n",
       "      <td>699</td>\n",
       "      <td>France</td>\n",
       "      <td>Female</td>\n",
       "      <td>39</td>\n",
       "      <td>1.0</td>\n",
       "      <td>0.00</td>\n",
       "      <td>2</td>\n",
       "      <td>0</td>\n",
       "      <td>0</td>\n",
       "      <td>93826.63</td>\n",
       "      <td>0</td>\n",
       "    </tr>\n",
       "    <tr>\n",
       "      <th>4</th>\n",
       "      <td>5</td>\n",
       "      <td>15737888</td>\n",
       "      <td>Mitchell</td>\n",
       "      <td>850</td>\n",
       "      <td>Spain</td>\n",
       "      <td>Female</td>\n",
       "      <td>43</td>\n",
       "      <td>2.0</td>\n",
       "      <td>125510.82</td>\n",
       "      <td>1</td>\n",
       "      <td>1</td>\n",
       "      <td>1</td>\n",
       "      <td>79084.10</td>\n",
       "      <td>0</td>\n",
       "    </tr>\n",
       "    <tr>\n",
       "      <th>5</th>\n",
       "      <td>6</td>\n",
       "      <td>15574012</td>\n",
       "      <td>Chu</td>\n",
       "      <td>645</td>\n",
       "      <td>Spain</td>\n",
       "      <td>Male</td>\n",
       "      <td>44</td>\n",
       "      <td>8.0</td>\n",
       "      <td>113755.78</td>\n",
       "      <td>2</td>\n",
       "      <td>1</td>\n",
       "      <td>0</td>\n",
       "      <td>149756.71</td>\n",
       "      <td>1</td>\n",
       "    </tr>\n",
       "    <tr>\n",
       "      <th>6</th>\n",
       "      <td>7</td>\n",
       "      <td>15592531</td>\n",
       "      <td>Bartlett</td>\n",
       "      <td>822</td>\n",
       "      <td>France</td>\n",
       "      <td>Male</td>\n",
       "      <td>50</td>\n",
       "      <td>7.0</td>\n",
       "      <td>0.00</td>\n",
       "      <td>2</td>\n",
       "      <td>1</td>\n",
       "      <td>1</td>\n",
       "      <td>10062.80</td>\n",
       "      <td>0</td>\n",
       "    </tr>\n",
       "    <tr>\n",
       "      <th>7</th>\n",
       "      <td>8</td>\n",
       "      <td>15656148</td>\n",
       "      <td>Obinna</td>\n",
       "      <td>376</td>\n",
       "      <td>Germany</td>\n",
       "      <td>Female</td>\n",
       "      <td>29</td>\n",
       "      <td>4.0</td>\n",
       "      <td>115046.74</td>\n",
       "      <td>4</td>\n",
       "      <td>1</td>\n",
       "      <td>0</td>\n",
       "      <td>119346.88</td>\n",
       "      <td>1</td>\n",
       "    </tr>\n",
       "    <tr>\n",
       "      <th>8</th>\n",
       "      <td>9</td>\n",
       "      <td>15792365</td>\n",
       "      <td>He</td>\n",
       "      <td>501</td>\n",
       "      <td>France</td>\n",
       "      <td>Male</td>\n",
       "      <td>44</td>\n",
       "      <td>4.0</td>\n",
       "      <td>142051.07</td>\n",
       "      <td>2</td>\n",
       "      <td>0</td>\n",
       "      <td>1</td>\n",
       "      <td>74940.50</td>\n",
       "      <td>0</td>\n",
       "    </tr>\n",
       "    <tr>\n",
       "      <th>9</th>\n",
       "      <td>10</td>\n",
       "      <td>15592389</td>\n",
       "      <td>H?</td>\n",
       "      <td>684</td>\n",
       "      <td>France</td>\n",
       "      <td>Male</td>\n",
       "      <td>27</td>\n",
       "      <td>2.0</td>\n",
       "      <td>134603.88</td>\n",
       "      <td>1</td>\n",
       "      <td>1</td>\n",
       "      <td>1</td>\n",
       "      <td>71725.73</td>\n",
       "      <td>0</td>\n",
       "    </tr>\n",
       "  </tbody>\n",
       "</table>\n",
       "</div>"
      ],
      "text/plain": [
       "   RowNumber  CustomerId   Surname  CreditScore Geography  Gender  Age  \\\n",
       "0          1    15634602  Hargrave          619    France  Female   42   \n",
       "1          2    15647311      Hill          608     Spain  Female   41   \n",
       "2          3    15619304      Onio          502    France  Female   42   \n",
       "3          4    15701354      Boni          699    France  Female   39   \n",
       "4          5    15737888  Mitchell          850     Spain  Female   43   \n",
       "5          6    15574012       Chu          645     Spain    Male   44   \n",
       "6          7    15592531  Bartlett          822    France    Male   50   \n",
       "7          8    15656148    Obinna          376   Germany  Female   29   \n",
       "8          9    15792365        He          501    France    Male   44   \n",
       "9         10    15592389        H?          684    France    Male   27   \n",
       "\n",
       "   Tenure    Balance  NumOfProducts  HasCrCard  IsActiveMember  \\\n",
       "0     2.0       0.00              1          1               1   \n",
       "1     1.0   83807.86              1          0               1   \n",
       "2     8.0  159660.80              3          1               0   \n",
       "3     1.0       0.00              2          0               0   \n",
       "4     2.0  125510.82              1          1               1   \n",
       "5     8.0  113755.78              2          1               0   \n",
       "6     7.0       0.00              2          1               1   \n",
       "7     4.0  115046.74              4          1               0   \n",
       "8     4.0  142051.07              2          0               1   \n",
       "9     2.0  134603.88              1          1               1   \n",
       "\n",
       "   EstimatedSalary  Exited  \n",
       "0        101348.88       1  \n",
       "1        112542.58       0  \n",
       "2        113931.57       1  \n",
       "3         93826.63       0  \n",
       "4         79084.10       0  \n",
       "5        149756.71       1  \n",
       "6         10062.80       0  \n",
       "7        119346.88       1  \n",
       "8         74940.50       0  \n",
       "9         71725.73       0  "
      ]
     },
     "execution_count": 4,
     "metadata": {},
     "output_type": "execute_result"
    }
   ],
   "source": [
    "df.head(10)"
   ]
  },
  {
   "cell_type": "markdown",
   "metadata": {},
   "source": [
    "Проверим на явные дубликаты"
   ]
  },
  {
   "cell_type": "code",
   "execution_count": 5,
   "metadata": {},
   "outputs": [
    {
     "data": {
      "text/plain": [
       "0"
      ]
     },
     "execution_count": 5,
     "metadata": {},
     "output_type": "execute_result"
    }
   ],
   "source": [
    "df.duplicated().sum()"
   ]
  },
  {
   "cell_type": "markdown",
   "metadata": {},
   "source": [
    "**Вывод**\n",
    "- В данных присутствуют пропуски, в столбце Tenure\n",
    "- Избавимся от пропусков\n",
    "- В данных присутствуют столбцы с информацией, которая не нужна модели для обучения: RowNumber, EstimatedSalary, CustomerId, Surname\n",
    "- Удалим столбцы ненужные для обучения\n",
    "- Удалим явные дубликаты"
   ]
  },
  {
   "cell_type": "code",
   "execution_count": 6,
   "metadata": {},
   "outputs": [],
   "source": [
    "df= df.drop_duplicates()"
   ]
  },
  {
   "cell_type": "markdown",
   "metadata": {},
   "source": [
    "Некоректное заполнение может исказить данные, поэтому стоит сравнить харарктеристики распределения(mean, std, median) до и после заполнения"
   ]
  },
  {
   "cell_type": "code",
   "execution_count": 7,
   "metadata": {},
   "outputs": [
    {
     "name": "stdout",
     "output_type": "stream",
     "text": [
      "base std 2.894723234821247\n",
      "base median 5.0\n",
      "base mean 4.997690023099769\n",
      "fillna 0 std 3.111572693745535\n",
      "fillna 0 median 4.0\n",
      "fillna 0 mean 4.5434\n",
      "fillna_median std 2.760010390512248\n",
      "fillna_median median 5.0\n",
      "fillna_median mean 4.9979\n"
     ]
    }
   ],
   "source": [
    "fillna_const =df['Tenure'].fillna(0)\n",
    "print('base std', df['Tenure'].std())\n",
    "print('base median', df['Tenure'].median())\n",
    "print('base mean', df['Tenure'].mean())\n",
    "print('fillna 0 std', fillna_const.std())\n",
    "print('fillna 0 median', fillna_const.median())\n",
    "print('fillna 0 mean', fillna_const.mean())\n",
    "\n",
    "fillna_median = df['Tenure'].fillna(df['Tenure'].median())\n",
    "print('fillna_median std', fillna_median.std())\n",
    "print('fillna_median median', fillna_median.median())\n",
    "print('fillna_median mean', fillna_median.mean())"
   ]
  },
  {
   "cell_type": "markdown",
   "metadata": {},
   "source": [
    "Замена на нулевое значение исказит данные, лучше всего использовать замену на медийное значение и перевести формат столбца в целые числа"
   ]
  },
  {
   "cell_type": "code",
   "execution_count": 8,
   "metadata": {},
   "outputs": [],
   "source": [
    "df['Tenure']=df['Tenure'].fillna(df['Tenure'].median()).astype('int64')"
   ]
  },
  {
   "cell_type": "markdown",
   "metadata": {},
   "source": [
    " "
   ]
  },
  {
   "cell_type": "markdown",
   "metadata": {},
   "source": [
    "RowNumber — индекс строки дублирует информацию стандартного датафрейма, можно удалить\n",
    "\n",
    "CustomerId — идентификатор пользователя для обучения модели не нужен\n",
    "\n",
    "Surname — Фамилии тоже выступают как является идентификатор пользователя с уникальными значениями, его наличие усложнит обучение модели\n",
    "\n",
    "EstimatedSalary — предполагаемая зарплата остается предполагаемыми значениями, во много индивидуальны, что тоже усложнит построение модели"
   ]
  },
  {
   "cell_type": "code",
   "execution_count": 9,
   "metadata": {},
   "outputs": [],
   "source": [
    "drops=['RowNumber','EstimatedSalary','CustomerId','Surname']\n",
    "df=df.drop(drops,axis=1)"
   ]
  },
  {
   "cell_type": "markdown",
   "metadata": {},
   "source": [
    "Убрали пропуски, перевели данные в целые числа, удалили ненужные столбцы, теперь проверим данные повторно"
   ]
  },
  {
   "cell_type": "code",
   "execution_count": 10,
   "metadata": {},
   "outputs": [
    {
     "data": {
      "text/plain": [
       "1"
      ]
     },
     "execution_count": 10,
     "metadata": {},
     "output_type": "execute_result"
    }
   ],
   "source": [
    "df.duplicated().sum()"
   ]
  },
  {
   "cell_type": "code",
   "execution_count": 11,
   "metadata": {},
   "outputs": [
    {
     "name": "stdout",
     "output_type": "stream",
     "text": [
      "<class 'pandas.core.frame.DataFrame'>\n",
      "Int64Index: 10000 entries, 0 to 9999\n",
      "Data columns (total 10 columns):\n",
      " #   Column          Non-Null Count  Dtype  \n",
      "---  ------          --------------  -----  \n",
      " 0   CreditScore     10000 non-null  int64  \n",
      " 1   Geography       10000 non-null  object \n",
      " 2   Gender          10000 non-null  object \n",
      " 3   Age             10000 non-null  int64  \n",
      " 4   Tenure          10000 non-null  int64  \n",
      " 5   Balance         10000 non-null  float64\n",
      " 6   NumOfProducts   10000 non-null  int64  \n",
      " 7   HasCrCard       10000 non-null  int64  \n",
      " 8   IsActiveMember  10000 non-null  int64  \n",
      " 9   Exited          10000 non-null  int64  \n",
      "dtypes: float64(1), int64(7), object(2)\n",
      "memory usage: 859.4+ KB\n"
     ]
    }
   ],
   "source": [
    "df.info()"
   ]
  },
  {
   "cell_type": "code",
   "execution_count": 12,
   "metadata": {},
   "outputs": [
    {
     "data": {
      "text/html": [
       "<div>\n",
       "<style scoped>\n",
       "    .dataframe tbody tr th:only-of-type {\n",
       "        vertical-align: middle;\n",
       "    }\n",
       "\n",
       "    .dataframe tbody tr th {\n",
       "        vertical-align: top;\n",
       "    }\n",
       "\n",
       "    .dataframe thead th {\n",
       "        text-align: right;\n",
       "    }\n",
       "</style>\n",
       "<table border=\"1\" class=\"dataframe\">\n",
       "  <thead>\n",
       "    <tr style=\"text-align: right;\">\n",
       "      <th></th>\n",
       "      <th>CreditScore</th>\n",
       "      <th>Geography</th>\n",
       "      <th>Gender</th>\n",
       "      <th>Age</th>\n",
       "      <th>Tenure</th>\n",
       "      <th>Balance</th>\n",
       "      <th>NumOfProducts</th>\n",
       "      <th>HasCrCard</th>\n",
       "      <th>IsActiveMember</th>\n",
       "      <th>Exited</th>\n",
       "    </tr>\n",
       "  </thead>\n",
       "  <tbody>\n",
       "    <tr>\n",
       "      <th>0</th>\n",
       "      <td>619</td>\n",
       "      <td>France</td>\n",
       "      <td>Female</td>\n",
       "      <td>42</td>\n",
       "      <td>2</td>\n",
       "      <td>0.00</td>\n",
       "      <td>1</td>\n",
       "      <td>1</td>\n",
       "      <td>1</td>\n",
       "      <td>1</td>\n",
       "    </tr>\n",
       "    <tr>\n",
       "      <th>1</th>\n",
       "      <td>608</td>\n",
       "      <td>Spain</td>\n",
       "      <td>Female</td>\n",
       "      <td>41</td>\n",
       "      <td>1</td>\n",
       "      <td>83807.86</td>\n",
       "      <td>1</td>\n",
       "      <td>0</td>\n",
       "      <td>1</td>\n",
       "      <td>0</td>\n",
       "    </tr>\n",
       "    <tr>\n",
       "      <th>2</th>\n",
       "      <td>502</td>\n",
       "      <td>France</td>\n",
       "      <td>Female</td>\n",
       "      <td>42</td>\n",
       "      <td>8</td>\n",
       "      <td>159660.80</td>\n",
       "      <td>3</td>\n",
       "      <td>1</td>\n",
       "      <td>0</td>\n",
       "      <td>1</td>\n",
       "    </tr>\n",
       "    <tr>\n",
       "      <th>3</th>\n",
       "      <td>699</td>\n",
       "      <td>France</td>\n",
       "      <td>Female</td>\n",
       "      <td>39</td>\n",
       "      <td>1</td>\n",
       "      <td>0.00</td>\n",
       "      <td>2</td>\n",
       "      <td>0</td>\n",
       "      <td>0</td>\n",
       "      <td>0</td>\n",
       "    </tr>\n",
       "    <tr>\n",
       "      <th>4</th>\n",
       "      <td>850</td>\n",
       "      <td>Spain</td>\n",
       "      <td>Female</td>\n",
       "      <td>43</td>\n",
       "      <td>2</td>\n",
       "      <td>125510.82</td>\n",
       "      <td>1</td>\n",
       "      <td>1</td>\n",
       "      <td>1</td>\n",
       "      <td>0</td>\n",
       "    </tr>\n",
       "  </tbody>\n",
       "</table>\n",
       "</div>"
      ],
      "text/plain": [
       "   CreditScore Geography  Gender  Age  Tenure    Balance  NumOfProducts  \\\n",
       "0          619    France  Female   42       2       0.00              1   \n",
       "1          608     Spain  Female   41       1   83807.86              1   \n",
       "2          502    France  Female   42       8  159660.80              3   \n",
       "3          699    France  Female   39       1       0.00              2   \n",
       "4          850     Spain  Female   43       2  125510.82              1   \n",
       "\n",
       "   HasCrCard  IsActiveMember  Exited  \n",
       "0          1               1       1  \n",
       "1          0               1       0  \n",
       "2          1               0       1  \n",
       "3          0               0       0  \n",
       "4          1               1       0  "
      ]
     },
     "execution_count": 12,
     "metadata": {},
     "output_type": "execute_result"
    }
   ],
   "source": [
    "df.head()"
   ]
  },
  {
   "cell_type": "markdown",
   "metadata": {},
   "source": [
    "**Вывод 1 Подготовка данных**\n",
    "\n",
    "В данных присутствовали явные дубликаты, пропуски и ненужные столбцы, после предобработки данные приведены в порядок и готовы к дальнейшему построению моделей"
   ]
  },
  {
   "cell_type": "markdown",
   "metadata": {},
   "source": [
    "## Исследование задачи"
   ]
  },
  {
   "cell_type": "markdown",
   "metadata": {},
   "source": [
    "Задача звучит как: \"Нужно спрогнозировать, уйдёт клиент из банка в ближайшее время или нет.\""
   ]
  },
  {
   "cell_type": "markdown",
   "metadata": {},
   "source": [
    "Следовательно, клиенты и данны делятся на тех кто ушел и тех кто остался.\n",
    "\n",
    "Эта информация содержится в столбце \"Exited\" (факт ухода клиента), что является нашим целевым признаком будущей модели обучения\n",
    "\n",
    "Подготовим данные для машинного обучения"
   ]
  },
  {
   "cell_type": "markdown",
   "metadata": {},
   "source": [
    "Данные подготовим методом One hot encoder, что позволит нам не попасться в дамми ловушку"
   ]
  },
  {
   "cell_type": "code",
   "execution_count": 13,
   "metadata": {},
   "outputs": [
    {
     "data": {
      "text/plain": [
       "(10000, 10)"
      ]
     },
     "execution_count": 13,
     "metadata": {},
     "output_type": "execute_result"
    }
   ],
   "source": [
    "df.shape"
   ]
  },
  {
   "cell_type": "code",
   "execution_count": 14,
   "metadata": {},
   "outputs": [],
   "source": [
    "df=pd.get_dummies(df,drop_first=True)"
   ]
  },
  {
   "cell_type": "code",
   "execution_count": 15,
   "metadata": {},
   "outputs": [
    {
     "data": {
      "text/plain": [
       "(10000, 11)"
      ]
     },
     "execution_count": 15,
     "metadata": {},
     "output_type": "execute_result"
    }
   ],
   "source": [
    "df.shape"
   ]
  },
  {
   "cell_type": "markdown",
   "metadata": {},
   "source": [
    "В новом датасете количество столбцов увеличелост на 1:\n",
    "- Geography разделился на Geography_Germany, Geography_Spain \n",
    "- А столбец Gender стал Gender_Male и содержит 2 класса (0 и 1)"
   ]
  },
  {
   "cell_type": "markdown",
   "metadata": {},
   "source": [
    "**Разбиваем данные на выборки**"
   ]
  },
  {
   "cell_type": "markdown",
   "metadata": {},
   "source": [
    "**Исходные данные разбивают в соотношении 3:1:1**\n",
    "- Обучающая выборка (features_train, target_train) 60%\n",
    "- Валидационая выборка (features_valid, target_valid) 20%\n",
    "- Тестовая выборка (features_test, target_test) 20%"
   ]
  },
  {
   "cell_type": "code",
   "execution_count": 16,
   "metadata": {},
   "outputs": [],
   "source": [
    "df_train, df_test = train_test_split(df, test_size=0.4, random_state=12345)\n",
    "features = df_test.drop('Exited', axis=1)\n",
    "target = df_test['Exited']\n",
    "features_valid, features_test, target_valid, target_test = train_test_split(features, target, test_size=0.5, random_state=12345)\n",
    "features_train = df_train.drop('Exited', axis=1)\n",
    "target_train = df_train['Exited']"
   ]
  },
  {
   "cell_type": "markdown",
   "metadata": {},
   "source": [
    "**Скалирование:**\n",
    "- для масштабирования методом scaler выделим численные признаки\n",
    "- численные признаки разной величины\n",
    "- стандатризируем наши выборки"
   ]
  },
  {
   "cell_type": "code",
   "execution_count": 17,
   "metadata": {},
   "outputs": [
    {
     "name": "stderr",
     "output_type": "stream",
     "text": [
      "/tmp/ipykernel_86/797183956.py:5: SettingWithCopyWarning: \n",
      "A value is trying to be set on a copy of a slice from a DataFrame.\n",
      "Try using .loc[row_indexer,col_indexer] = value instead\n",
      "\n",
      "See the caveats in the documentation: https://pandas.pydata.org/pandas-docs/stable/user_guide/indexing.html#returning-a-view-versus-a-copy\n",
      "  features_valid[numeric] = scaler.transform(features_valid[numeric])\n",
      "/opt/conda/lib/python3.9/site-packages/pandas/core/indexing.py:1738: SettingWithCopyWarning: \n",
      "A value is trying to be set on a copy of a slice from a DataFrame.\n",
      "Try using .loc[row_indexer,col_indexer] = value instead\n",
      "\n",
      "See the caveats in the documentation: https://pandas.pydata.org/pandas-docs/stable/user_guide/indexing.html#returning-a-view-versus-a-copy\n",
      "  self._setitem_single_column(loc, value[:, i].tolist(), pi)\n",
      "/tmp/ipykernel_86/797183956.py:6: SettingWithCopyWarning: \n",
      "A value is trying to be set on a copy of a slice from a DataFrame.\n",
      "Try using .loc[row_indexer,col_indexer] = value instead\n",
      "\n",
      "See the caveats in the documentation: https://pandas.pydata.org/pandas-docs/stable/user_guide/indexing.html#returning-a-view-versus-a-copy\n",
      "  features_test[numeric] = scaler.transform(features_test[numeric])\n",
      "/opt/conda/lib/python3.9/site-packages/pandas/core/indexing.py:1738: SettingWithCopyWarning: \n",
      "A value is trying to be set on a copy of a slice from a DataFrame.\n",
      "Try using .loc[row_indexer,col_indexer] = value instead\n",
      "\n",
      "See the caveats in the documentation: https://pandas.pydata.org/pandas-docs/stable/user_guide/indexing.html#returning-a-view-versus-a-copy\n",
      "  self._setitem_single_column(loc, value[:, i].tolist(), pi)\n"
     ]
    }
   ],
   "source": [
    "numeric = ['CreditScore', 'Age', 'Tenure', 'Balance', 'NumOfProducts']\n",
    "scaler = StandardScaler()\n",
    "scaler.fit(features_train[numeric])\n",
    "features_train[numeric] = scaler.transform(features_train[numeric])\n",
    "features_valid[numeric] = scaler.transform(features_valid[numeric])\n",
    "features_test[numeric] = scaler.transform(features_test[numeric])"
   ]
  },
  {
   "cell_type": "code",
   "execution_count": 18,
   "metadata": {},
   "outputs": [
    {
     "name": "stdout",
     "output_type": "stream",
     "text": [
      "      CreditScore       Age    Tenure   Balance  NumOfProducts  HasCrCard  \\\n",
      "7479    -0.886751 -0.373192  1.082277  1.232271      -0.891560          1   \n",
      "3411     0.608663 -0.183385  1.082277  0.600563      -0.891560          0   \n",
      "6027     2.052152  0.480939 -0.737696  1.027098       0.830152          0   \n",
      "1247    -1.457915 -1.417129  0.354288 -1.233163       0.830152          1   \n",
      "3716     0.130961 -1.132419 -1.101690  1.140475      -0.891560          0   \n",
      "\n",
      "      IsActiveMember  Geography_Germany  Geography_Spain  Gender_Male  \n",
      "7479               0                  0                1            1  \n",
      "3411               0                  0                0            0  \n",
      "6027               1                  1                0            1  \n",
      "1247               0                  0                0            1  \n",
      "3716               0                  1                0            0  \n"
     ]
    }
   ],
   "source": [
    "print(features_train.head())"
   ]
  },
  {
   "cell_type": "markdown",
   "metadata": {},
   "source": [
    "**Исследуйте модели**"
   ]
  },
  {
   "cell_type": "markdown",
   "metadata": {},
   "source": [
    "**Смена гиперпараметров**"
   ]
  },
  {
   "cell_type": "markdown",
   "metadata": {},
   "source": [
    "Самый важный гиперпараметр решающего дерева — max_depth. Настроим его для нашего дерева решений, на основании F1-меры."
   ]
  },
  {
   "cell_type": "code",
   "execution_count": 19,
   "metadata": {},
   "outputs": [
    {
     "name": "stdout",
     "output_type": "stream",
     "text": [
      "max_depth = 1 ,F1 = 0.0\n",
      "max_depth = 2 ,F1 = 0.5217391304347825\n",
      "max_depth = 3 ,F1 = 0.4234875444839857\n",
      "max_depth = 4 ,F1 = 0.5454545454545454\n",
      "max_depth = 5 ,F1 = 0.534375\n",
      "max_depth = 6 ,F1 = 0.5658093797276854\n",
      "max_depth = 7 ,F1 = 0.5521472392638037\n",
      "max_depth = 8 ,F1 = 0.5465288035450516\n",
      "max_depth = 9 ,F1 = 0.5479833101529902\n"
     ]
    }
   ],
   "source": [
    "for depth in range(1, 10):\n",
    "    model_DTC = DecisionTreeClassifier(random_state=12345, max_depth = depth) \n",
    "    model_DTC.fit(features_train,target_train) \n",
    "    predictions_valid = model_DTC.predict(features_valid)\n",
    "\n",
    "    print('max_depth =', depth, ',F1 =',f1_score(target_valid, predictions_valid))"
   ]
  },
  {
   "cell_type": "markdown",
   "metadata": {},
   "source": [
    "**Вывод: лучший параметр Дерева Решений max_depth = 6 ,F1 = 0.5658093797276854**"
   ]
  },
  {
   "cell_type": "code",
   "execution_count": 20,
   "metadata": {},
   "outputs": [
    {
     "name": "stdout",
     "output_type": "stream",
     "text": [
      "max_depth = 1 ,F1 = 0.0\n",
      "max_depth = 2 ,F1 = 0.1849462365591398\n",
      "max_depth = 3 ,F1 = 0.26175869120654394\n",
      "max_depth = 4 ,F1 = 0.36466165413533835\n",
      "max_depth = 5 ,F1 = 0.5041736227045075\n",
      "max_depth = 6 ,F1 = 0.5650793650793651\n",
      "max_depth = 7 ,F1 = 0.5541401273885351\n",
      "max_depth = 8 ,F1 = 0.5830721003134797\n",
      "max_depth = 9 ,F1 = 0.5806451612903226\n",
      "max_depth = 10 ,F1 = 0.5740740740740741\n",
      "max_depth = 11 ,F1 = 0.5775075987841946\n",
      "max_depth = 12 ,F1 = 0.5705705705705705\n",
      "max_depth = 13 ,F1 = 0.5701492537313433\n",
      "max_depth = 14 ,F1 = 0.5905044510385756\n",
      "max_depth = 15 ,F1 = 0.5970588235294118\n",
      "max_depth = 16 ,F1 = 0.5868613138686132\n",
      "max_depth = 17 ,F1 = 0.5850144092219021\n",
      "max_depth = 18 ,F1 = 0.5846599131693199\n",
      "max_depth = 19 ,F1 = 0.5847953216374269\n"
     ]
    }
   ],
   "source": [
    "for depth in range(1, 20):\n",
    "    model_RFC = RandomForestClassifier(random_state=12345, max_depth=depth, n_estimators=50) \n",
    "    model_RFC.fit(features_train,target_train) \n",
    "    predictions_valid = model_RFC.predict(features_valid) \n",
    "    \n",
    "    print('max_depth =', depth, ',F1 =',f1_score(target_valid,predictions_valid))"
   ]
  },
  {
   "cell_type": "markdown",
   "metadata": {},
   "source": [
    "**Вывод: лучший параметр Случайного леса max_depth = 15 ,F1 = 0.5970588235294118**"
   ]
  },
  {
   "cell_type": "code",
   "execution_count": 21,
   "metadata": {},
   "outputs": [
    {
     "name": "stdout",
     "output_type": "stream",
     "text": [
      "estim: 1 ,F1 = 0.49110320284697506\n",
      "estim: 2 ,F1 = 0.444104134762634\n",
      "estim: 3 ,F1 = 0.5173333333333333\n",
      "estim: 4 ,F1 = 0.47619047619047616\n",
      "estim: 5 ,F1 = 0.5138888888888888\n",
      "estim: 6 ,F1 = 0.5141158989598811\n",
      "estim: 7 ,F1 = 0.544179523141655\n",
      "estim: 8 ,F1 = 0.5352941176470588\n",
      "estim: 9 ,F1 = 0.5605633802816901\n",
      "estim: 10 ,F1 = 0.5561959654178675\n",
      "estim: 11 ,F1 = 0.5637393767705382\n",
      "estim: 12 ,F1 = 0.5677233429394813\n",
      "estim: 13 ,F1 = 0.5697841726618705\n",
      "estim: 14 ,F1 = 0.5689149560117303\n",
      "estim: 15 ,F1 = 0.5843023255813955\n",
      "estim: 16 ,F1 = 0.5784883720930232\n",
      "estim: 17 ,F1 = 0.5855072463768116\n",
      "estim: 18 ,F1 = 0.5814977973568282\n",
      "estim: 19 ,F1 = 0.5999999999999999\n",
      "estim: 20 ,F1 = 0.5970588235294118\n",
      "estim: 21 ,F1 = 0.5933429811866859\n",
      "estim: 22 ,F1 = 0.5903083700440529\n",
      "estim: 23 ,F1 = 0.5997088791848617\n",
      "estim: 24 ,F1 = 0.5905044510385756\n",
      "estim: 25 ,F1 = 0.5959302325581396\n",
      "estim: 26 ,F1 = 0.5941176470588235\n",
      "estim: 27 ,F1 = 0.5938864628820961\n",
      "estim: 28 ,F1 = 0.5941176470588235\n",
      "estim: 29 ,F1 = 0.5901162790697674\n",
      "estim: 30 ,F1 = 0.5814977973568282\n",
      "estim: 31 ,F1 = 0.5856515373352854\n",
      "estim: 32 ,F1 = 0.5832106038291606\n",
      "estim: 33 ,F1 = 0.5909752547307133\n",
      "estim: 34 ,F1 = 0.5921625544267053\n",
      "estim: 35 ,F1 = 0.5884057971014492\n",
      "estim: 36 ,F1 = 0.5930232558139534\n",
      "estim: 37 ,F1 = 0.5930232558139534\n",
      "estim: 38 ,F1 = 0.5929203539823009\n",
      "estim: 39 ,F1 = 0.6014598540145987\n",
      "estim: 40 ,F1 = 0.5896296296296296\n",
      "estim: 41 ,F1 = 0.5979381443298969\n",
      "estim: 42 ,F1 = 0.5925925925925927\n",
      "estim: 43 ,F1 = 0.5991189427312774\n",
      "estim: 44 ,F1 = 0.5970588235294118\n",
      "estim: 45 ,F1 = 0.6032210834553441\n",
      "estim: 46 ,F1 = 0.6011730205278591\n",
      "estim: 47 ,F1 = 0.5982404692082112\n",
      "estim: 48 ,F1 = 0.5937961595273265\n",
      "estim: 49 ,F1 = 0.5994152046783626\n"
     ]
    }
   ],
   "source": [
    "for estim in range(1,50,1):\n",
    "    model_RFC = RandomForestClassifier(random_state=12345, max_depth=15, n_estimators=estim) \n",
    "    model_RFC.fit(features_train,target_train) \n",
    "    predictions_valid = model_RFC.predict(features_valid)\n",
    "    \n",
    "    print('estim:',estim, ',F1 =',f1_score(target_valid,predictions_valid))"
   ]
  },
  {
   "cell_type": "markdown",
   "metadata": {},
   "source": [
    "**Вывод: лучший параметрestim: estim: 45 ,F1 = 0.6032210834553441**"
   ]
  },
  {
   "cell_type": "markdown",
   "metadata": {},
   "source": [
    "Мы получили масштабированные признаки для трех выборок. Теперь пмотрим на модели без баланса классов, указав лучший гиперпараметр"
   ]
  },
  {
   "cell_type": "code",
   "execution_count": 22,
   "metadata": {},
   "outputs": [
    {
     "name": "stdout",
     "output_type": "stream",
     "text": [
      "Дерево решений\n",
      "F1 мера: 0.5658093797276854\n",
      "Точность: 0.849\n",
      "Полнота: 0.4473684210526316\n",
      "AUC-ROC: 0.8256393699453783\n"
     ]
    }
   ],
   "source": [
    "model_DTC = DecisionTreeClassifier(random_state=12345, max_depth = 6)\n",
    "model_DTC.fit(features_train, target_train)\n",
    "\n",
    "prediction_DTC=model_DTC.predict(features_valid)\n",
    "DTC_score = model_DTC.score(features_test, target_test)\n",
    "f1_DTC = f1_score(target_valid,prediction_DTC)\n",
    "\n",
    "probabilities_valid_DTC = model_DTC.predict_proba(features_valid)\n",
    "probabilities_one_valid_DTC = probabilities_valid_DTC[:, 1]\n",
    "auc_roc_DTC = roc_auc_score(target_valid, probabilities_one_valid_DTC)\n",
    "\n",
    "print('Дерево решений')\n",
    "print('F1 мера:',f1_DTC)\n",
    "print('Точность:',DTC_score)\n",
    "print('Полнота:',recall_score(target_valid, prediction_DTC))\n",
    "print('AUC-ROC:', auc_roc_DTC)"
   ]
  },
  {
   "cell_type": "code",
   "execution_count": 23,
   "metadata": {},
   "outputs": [
    {
     "name": "stdout",
     "output_type": "stream",
     "text": [
      "Случайный лес\n",
      "F1 мера: 0.6032210834553441\n",
      "Точность: 0.847\n",
      "Полнота: 0.49282296650717705\n",
      "AUC-ROC: 0.8408009666160574\n"
     ]
    }
   ],
   "source": [
    "model_RFC = RandomForestClassifier(random_state=12345, max_depth=15, n_estimators=45)\n",
    "model_RFC.fit(features_train, target_train)\n",
    "\n",
    "prediction_RFC=model_RFC.predict(features_valid)\n",
    "RFC_score = model_RFC.score(features_test, target_test)\n",
    "f1_RFC = f1_score(target_valid,prediction_RFC)\n",
    "\n",
    "probabilities_valid_RFC = model_RFC.predict_proba(features_valid)\n",
    "probabilities_one_valid_RFC = probabilities_valid_RFC[:, 1]\n",
    "auc_roc_RFC = roc_auc_score(target_valid, probabilities_one_valid_RFC)\n",
    "\n",
    "print('Случайный лес')\n",
    "print('F1 мера:',f1_RFC)\n",
    "print('Точность:',RFC_score)\n",
    "print('Полнота:',recall_score(target_valid, prediction_RFC))\n",
    "print('AUC-ROC:', auc_roc_RFC)"
   ]
  },
  {
   "cell_type": "code",
   "execution_count": 24,
   "metadata": {},
   "outputs": [
    {
     "name": "stdout",
     "output_type": "stream",
     "text": [
      "Логистческая регрессия\n",
      "F1 мера: 0.3395585738539898\n",
      "Точность: 0.7905\n",
      "Полнота: 0.23923444976076555\n",
      "AUC-ROC: 0.7586212111130601\n"
     ]
    }
   ],
   "source": [
    "model_LR = LogisticRegression(solver = 'liblinear')\n",
    "model_LR.fit(features_train, target_train)\n",
    "\n",
    "prediction_LR=model_LR.predict(features_valid)\n",
    "LR_score = model_LR.score(features_test, target_test)\n",
    "f1_LR = f1_score(target_valid,prediction_LR)\n",
    "\n",
    "probabilities_valid_LR = model_LR.predict_proba(features_valid)\n",
    "probabilities_one_valid_LR = probabilities_valid_LR[:, 1]\n",
    "auc_roc_LR = roc_auc_score(target_valid, probabilities_one_valid_LR)\n",
    "\n",
    "print('Логистческая регрессия')\n",
    "print('F1 мера:',f1_LR)\n",
    "print('Точность:',LR_score)\n",
    "print('Полнота:',recall_score(target_valid, prediction_LR))\n",
    "print('AUC-ROC:', auc_roc_LR)"
   ]
  },
  {
   "cell_type": "markdown",
   "metadata": {},
   "source": [
    "Построим на диаграмму и значения баланса классов"
   ]
  },
  {
   "cell_type": "code",
   "execution_count": 25,
   "metadata": {},
   "outputs": [
    {
     "data": {
      "text/plain": [
       "0    0.800667\n",
       "1    0.199333\n",
       "Name: Exited, dtype: float64"
      ]
     },
     "execution_count": 25,
     "metadata": {},
     "output_type": "execute_result"
    },
    {
     "data": {
      "image/png": "[encoded data removed]",
      "text/plain": [
       "<Figure size 360x360 with 1 Axes>"
      ]
     },
     "metadata": {
      "needs_background": "light"
     },
     "output_type": "display_data"
    }
   ],
   "source": [
    "target_train.plot(kind ='hist', bins=3, figsize=(5,5),title='Соотношение клиентов: оставшихся и ушедших');\n",
    "target_train.value_counts(normalize = 1)"
   ]
  },
  {
   "cell_type": "markdown",
   "metadata": {},
   "source": [
    "С увереностью можем сказать, что видим дисбаланс. Отрицательных ответов 80%, а положительных всего 20%"
   ]
  },
  {
   "cell_type": "markdown",
   "metadata": {},
   "source": [
    "Посмотрим соотношение на каждой модели"
   ]
  },
  {
   "cell_type": "code",
   "execution_count": 26,
   "metadata": {},
   "outputs": [
    {
     "name": "stdout",
     "output_type": "stream",
     "text": [
      "Дерево решений. Доли ответов: 0    0.8785\n",
      "1    0.1215\n",
      "dtype: float64\n"
     ]
    }
   ],
   "source": [
    "model_DTC = DecisionTreeClassifier(random_state=12345, max_depth = 6)\n",
    "model_DTC.fit(features_train, target_train)\n",
    "DTC_share = pd.Series(model_DTC.predict(features_valid)).value_counts(normalize = 1)\n",
    "print(\"Дерево решений. Доли ответов:\", DTC_share)"
   ]
  },
  {
   "cell_type": "code",
   "execution_count": 27,
   "metadata": {},
   "outputs": [
    {
     "name": "stdout",
     "output_type": "stream",
     "text": [
      "Случайный лес. Доли ответов: 0    0.8675\n",
      "1    0.1325\n",
      "dtype: float64\n"
     ]
    }
   ],
   "source": [
    "model_RFC = RandomForestClassifier(random_state=12345, max_depth=15, n_estimators=45)\n",
    "model_RFC.fit(features_train, target_train)\n",
    "RFC_share = pd.Series(model_RFC.predict(features_valid)).value_counts(normalize = 1)\n",
    "print(\"Случайный лес. Доли ответов:\", RFC_share)"
   ]
  },
  {
   "cell_type": "code",
   "execution_count": 28,
   "metadata": {},
   "outputs": [
    {
     "name": "stdout",
     "output_type": "stream",
     "text": [
      "Логистческая регрессия. Доли ответов: 0    0.9145\n",
      "1    0.0855\n",
      "dtype: float64\n"
     ]
    }
   ],
   "source": [
    "model_LR = LogisticRegression(solver = 'liblinear')\n",
    "model_LR.fit(features_train, target_train)\n",
    "LR_share = pd.Series(model_LR.predict(features_valid)).value_counts(normalize = 1)\n",
    "print(\"Логистческая регрессия. Доли ответов:\", LR_share)"
   ]
  },
  {
   "cell_type": "markdown",
   "metadata": {},
   "source": [
    "**Вывод**\n",
    "\n",
    "Рассматрев датасет с дисбалансом, используя три модели с лучшими гиперпараметрами можно сделать вывод, что саммая лучшая модель оказалась Случайный лес. \n",
    "\n",
    "При лучшем значении max_depth=15 и n_estimators=45 мы имеем F1 мера: 0.6032210834553441\n",
    "и Точность: 0.847 на валидной выборке.\n",
    "\n",
    "Однако существует дисбаланс 80% - это отрицательные ответы"
   ]
  },
  {
   "cell_type": "markdown",
   "metadata": {},
   "source": [
    "## Борьба с дисбалансом"
   ]
  },
  {
   "cell_type": "markdown",
   "metadata": {},
   "source": [
    "Нам известно о существовании дисбаланса в выборке, приблизительно отрицательных ответов 80%, а положительных всего 20%.\n",
    "\n",
    "Для решения данной проблемы нужно либо увеличить количество положительных ответов, либо уменьшить количество отрицательных\n",
    "\n",
    "В этом нам помогут техники upsampling и downsampling, взглянем на них и сравним"
   ]
  },
  {
   "cell_type": "markdown",
   "metadata": {},
   "source": [
    "**Сделаем объекты редкого класса не такими редкими в данных, техникой upsampling**"
   ]
  },
  {
   "cell_type": "markdown",
   "metadata": {},
   "source": [
    "Преобразование проходит в несколько этапов:\n",
    "- Разделить обучающую выборку на отрицательные и положительные объекты;\n",
    "- Скопировать несколько раз положительные объекты;\n",
    "- С учётом полученных данных создать новую обучающую выборку;\n",
    "- Перемешать данные: идущие друг за другом одинаковые вопросы не помогут обучению."
   ]
  },
  {
   "cell_type": "code",
   "execution_count": 29,
   "metadata": {},
   "outputs": [
    {
     "name": "stdout",
     "output_type": "stream",
     "text": [
      "0    0.501043\n",
      "1    0.498957\n",
      "Name: Exited, dtype: float64\n",
      "(9588,)\n"
     ]
    }
   ],
   "source": [
    "def upsample(features, target, repeat):\n",
    "    features_zeros = features[target == 0]\n",
    "    features_ones = features[target == 1]\n",
    "    target_zeros = target[target == 0]\n",
    "    target_ones = target[target == 1]\n",
    "\n",
    "    features_upsampled = pd.concat([features_zeros] + [features_ones] * repeat)\n",
    "    target_upsampled = pd.concat([target_zeros] + [target_ones] * repeat)\n",
    "    \n",
    "    features_upsampled, target_upsampled = shuffle(\n",
    "        features_upsampled, target_upsampled, random_state=12345)\n",
    "    \n",
    "    return features_upsampled, target_upsampled\n",
    "\n",
    "features_upsampled, target_upsampled = upsample(features_train, target_train, 4)\n",
    "\n",
    "model = LogisticRegression(random_state=12345,solver='liblinear')\n",
    "model.fit(features_upsampled, target_upsampled)\n",
    "predicted_valid = model.predict(features_valid)\n",
    "score = model.score(features_valid, target_valid)\n",
    "\n",
    "print(target_upsampled.value_counts(normalize = 1))\n",
    "print(target_upsampled.shape)"
   ]
  },
  {
   "cell_type": "code",
   "execution_count": 30,
   "metadata": {},
   "outputs": [
    {
     "data": {
      "text/plain": [
       "0    0.501043\n",
       "1    0.498957\n",
       "Name: Exited, dtype: float64"
      ]
     },
     "execution_count": 30,
     "metadata": {},
     "output_type": "execute_result"
    },
    {
     "data": {
      "image/png": "[encoded data removed]",
      "text/plain": [
       "<Figure size 360x360 with 1 Axes>"
      ]
     },
     "metadata": {
      "needs_background": "light"
     },
     "output_type": "display_data"
    }
   ],
   "source": [
    "target_upsampled.plot(kind ='hist', bins=3, figsize=(5,5),title='Соотношение клиентов: оставшихся и ушедших');\n",
    "target_upsampled.value_counts(normalize = 1)"
   ]
  },
  {
   "cell_type": "markdown",
   "metadata": {},
   "source": [
    "**Сделаем объекты частого класса не такими частыми, техникой downsampling**"
   ]
  },
  {
   "cell_type": "markdown",
   "metadata": {},
   "source": [
    "Преобразование проходит в несколько этапов:\n",
    "- Разделить обучающую выборку на отрицательные и положительные объекты;\n",
    "- Случайным образом отбросить часть из отрицательных объектов;\n",
    "- С учётом полученных данных создать новую обучающую выборку;\n",
    "- Перемешать данные. Положительные не должны идти следом за отрицательными: алгоритмам будет сложнее обучаться."
   ]
  },
  {
   "cell_type": "code",
   "execution_count": 31,
   "metadata": {},
   "outputs": [
    {
     "name": "stdout",
     "output_type": "stream",
     "text": [
      "0    1201\n",
      "1    1196\n",
      "Name: Exited, dtype: int64\n",
      "(2397,)\n"
     ]
    }
   ],
   "source": [
    "def downsample(features, target, fraction):\n",
    "    features_zeros = features[target == 0]\n",
    "    features_ones = features[target == 1]\n",
    "    target_zeros = target[target == 0]\n",
    "    target_ones = target[target == 1]\n",
    "\n",
    "    features_downsampled = pd.concat(\n",
    "        [features_zeros.sample(frac=fraction, random_state=12345)] + [features_ones])\n",
    "    target_downsampled = pd.concat(\n",
    "        [target_zeros.sample(frac=fraction, random_state=12345)] + [target_ones])\n",
    "    \n",
    "    features_downsampled, target_downsampled = shuffle(\n",
    "        features_downsampled, target_downsampled, random_state=12345)\n",
    "    \n",
    "    return features_downsampled, target_downsampled\n",
    "\n",
    "features_downsampled, target_downsampled = downsample(features_train, target_train, 0.25)\n",
    "\n",
    "model = LogisticRegression(random_state=12345,solver='liblinear')\n",
    "model.fit(features_downsampled, target_downsampled)\n",
    "predicted_valid = model.predict(features_valid)\n",
    "score = model.score(features_valid, target_valid)\n",
    "\n",
    "print(target_downsampled.value_counts(normalize = 0))\n",
    "print(target_downsampled.shape)"
   ]
  },
  {
   "cell_type": "code",
   "execution_count": 32,
   "metadata": {},
   "outputs": [
    {
     "data": {
      "text/plain": [
       "0    0.501043\n",
       "1    0.498957\n",
       "Name: Exited, dtype: float64"
      ]
     },
     "execution_count": 32,
     "metadata": {},
     "output_type": "execute_result"
    },
    {
     "data": {
      "image/png": "[encoded data removed]",
      "text/plain": [
       "<Figure size 360x360 with 1 Axes>"
      ]
     },
     "metadata": {
      "needs_background": "light"
     },
     "output_type": "display_data"
    }
   ],
   "source": [
    "target_downsampled.plot(kind ='hist', bins=3, figsize=(5,5),title='Соотношение клиентов: оставшихся и ушедших');\n",
    "target_downsampled.value_counts(normalize = 1)"
   ]
  },
  {
   "cell_type": "markdown",
   "metadata": {},
   "source": [
    "**Вывод**\n",
    "\n",
    "На гистограмме upsampling видно почти идеальное распределения ответов, по сравнению с техникой downsampling. \n",
    "\n",
    "По данным моделям, в дальнейшем будем работать с техникой upsampling"
   ]
  },
  {
   "cell_type": "markdown",
   "metadata": {},
   "source": [
    "## Тестирование модели"
   ]
  },
  {
   "cell_type": "markdown",
   "metadata": {},
   "source": [
    "**После балансирования модели подбираем новые лучшие гиперпараметры**"
   ]
  },
  {
   "cell_type": "code",
   "execution_count": 33,
   "metadata": {},
   "outputs": [
    {
     "name": "stdout",
     "output_type": "stream",
     "text": [
      "max_depth: 1 F1: 0.4994903160040775\n",
      "max_depth: 2 F1: 0.541015625\n",
      "max_depth: 3 F1: 0.541015625\n",
      "max_depth: 4 F1: 0.5277777777777778\n",
      "max_depth: 5 F1: 0.5938494167550372\n",
      "max_depth: 6 F1: 0.5582255083179298\n",
      "max_depth: 7 F1: 0.5557851239669421\n",
      "max_depth: 8 F1: 0.5442043222003929\n",
      "max_depth: 9 F1: 0.5373423860329777\n",
      "max_depth: 10 F1: 0.5143992055610724\n",
      "max_depth: 11 F1: 0.5168067226890757\n",
      "max_depth: 12 F1: 0.49278350515463915\n",
      "max_depth: 13 F1: 0.5043668122270742\n",
      "max_depth: 14 F1: 0.4869169510807736\n",
      "max_depth: 15 F1: 0.4845714285714286\n",
      "max_depth: 16 F1: 0.5046728971962616\n",
      "max_depth: 17 F1: 0.5089605734767025\n",
      "max_depth: 18 F1: 0.4940334128878282\n",
      "max_depth: 19 F1: 0.5018270401948844\n",
      "CPU times: user 429 ms, sys: 7.65 ms, total: 437 ms\n",
      "Wall time: 448 ms\n"
     ]
    }
   ],
   "source": [
    "%%time\n",
    "\n",
    "for depth in range(1,20,1):\n",
    "    model_DTC_upsampled=DecisionTreeClassifier(max_depth=depth,random_state=12345)\n",
    "    model_DTC_upsampled.fit(features_upsampled, target_upsampled)\n",
    "  \n",
    "    predictions_valid=model_DTC_upsampled.predict(features_valid)\n",
    "    print('max_depth:',depth,'F1:',f1_score(target_valid,predictions_valid))"
   ]
  },
  {
   "cell_type": "markdown",
   "metadata": {},
   "source": [
    "**Лучший параметр Дерева Решений max_depth: 5 F1: 0.5938494167550372**"
   ]
  },
  {
   "cell_type": "code",
   "execution_count": 34,
   "metadata": {},
   "outputs": [
    {
     "name": "stdout",
     "output_type": "stream",
     "text": [
      "max_depth: 1 F1: 0.5427782888684453\n",
      "max_depth: 2 F1: 0.5643835616438356\n",
      "max_depth: 3 F1: 0.5793499043977055\n",
      "max_depth: 4 F1: 0.583804143126177\n",
      "max_depth: 5 F1: 0.6041055718475073\n",
      "max_depth: 6 F1: 0.6074672048435923\n",
      "max_depth: 7 F1: 0.6150793650793651\n",
      "max_depth: 8 F1: 0.6179196704428424\n",
      "max_depth: 9 F1: 0.6142557651991615\n",
      "max_depth: 10 F1: 0.6115342763873777\n",
      "max_depth: 11 F1: 0.6031042128603104\n",
      "max_depth: 12 F1: 0.6004672897196262\n",
      "max_depth: 13 F1: 0.60381861575179\n",
      "max_depth: 14 F1: 0.6\n",
      "max_depth: 15 F1: 0.6215538847117794\n",
      "max_depth: 16 F1: 0.5846153846153846\n",
      "max_depth: 17 F1: 0.6053639846743295\n",
      "max_depth: 18 F1: 0.5930680359435174\n",
      "max_depth: 19 F1: 0.5958549222797928\n",
      "CPU times: user 6.22 s, sys: 62.7 ms, total: 6.28 s\n",
      "Wall time: 6.33 s\n"
     ]
    }
   ],
   "source": [
    "%%time\n",
    "\n",
    "for max_depth in range(1,20,1):\n",
    "    model_RFC_upsampled=RandomForestClassifier(max_depth=max_depth,n_estimators=50,random_state=12345)\n",
    "    model_RFC_upsampled.fit(features_upsampled, target_upsampled)\n",
    "    predictions_valid =model_RFC_upsampled.predict(features_valid)\n",
    "    print('max_depth:',max_depth,'F1:',f1_score(target_valid,predictions_valid))"
   ]
  },
  {
   "cell_type": "markdown",
   "metadata": {},
   "source": [
    "**Лучший параметр max_depth: 15 F1: 0.6215538847117794**"
   ]
  },
  {
   "cell_type": "code",
   "execution_count": 35,
   "metadata": {},
   "outputs": [
    {
     "name": "stdout",
     "output_type": "stream",
     "text": [
      "estim: 1 ,F1 = 0.45194274028629855\n",
      "estim: 2 ,F1 = 0.473972602739726\n",
      "estim: 3 ,F1 = 0.5376827896512937\n",
      "estim: 4 ,F1 = 0.538163001293661\n",
      "estim: 5 ,F1 = 0.5619834710743802\n",
      "estim: 6 ,F1 = 0.5754119138149557\n",
      "estim: 7 ,F1 = 0.5873959571938169\n",
      "estim: 8 ,F1 = 0.5877957658779577\n",
      "estim: 9 ,F1 = 0.6100478468899522\n",
      "estim: 10 ,F1 = 0.6081582200247219\n",
      "estim: 11 ,F1 = 0.6221142162818954\n",
      "estim: 12 ,F1 = 0.6188118811881188\n",
      "estim: 13 ,F1 = 0.6213592233009708\n",
      "estim: 14 ,F1 = 0.6257822277847309\n",
      "estim: 15 ,F1 = 0.625\n",
      "estim: 16 ,F1 = 0.6223862238622386\n",
      "estim: 17 ,F1 = 0.629404617253949\n",
      "estim: 18 ,F1 = 0.6191646191646191\n",
      "estim: 19 ,F1 = 0.6206896551724138\n",
      "estim: 20 ,F1 = 0.6165228113440198\n",
      "estim: 21 ,F1 = 0.6151960784313725\n",
      "estim: 22 ,F1 = 0.6165228113440198\n",
      "estim: 23 ,F1 = 0.6184049079754601\n",
      "estim: 24 ,F1 = 0.6125461254612546\n",
      "estim: 25 ,F1 = 0.6115906288532676\n",
      "estim: 26 ,F1 = 0.6111801242236024\n",
      "estim: 27 ,F1 = 0.6165228113440198\n",
      "estim: 28 ,F1 = 0.6189889025893959\n",
      "estim: 29 ,F1 = 0.6123456790123457\n",
      "estim: 30 ,F1 = 0.6125461254612546\n",
      "estim: 31 ,F1 = 0.6129032258064517\n",
      "estim: 32 ,F1 = 0.62\n",
      "estim: 33 ,F1 = 0.6127023661270238\n",
      "estim: 34 ,F1 = 0.6159600997506234\n",
      "estim: 35 ,F1 = 0.6161490683229813\n",
      "estim: 36 ,F1 = 0.6153846153846153\n",
      "estim: 37 ,F1 = 0.617283950617284\n",
      "estim: 38 ,F1 = 0.6142322097378277\n",
      "estim: 39 ,F1 = 0.6113861386138615\n",
      "estim: 40 ,F1 = 0.6217228464419476\n",
      "estim: 41 ,F1 = 0.6175\n",
      "estim: 42 ,F1 = 0.617314930991217\n",
      "estim: 43 ,F1 = 0.6144278606965174\n",
      "estim: 44 ,F1 = 0.6159600997506234\n",
      "estim: 45 ,F1 = 0.6184538653366582\n",
      "estim: 46 ,F1 = 0.6175\n",
      "estim: 47 ,F1 = 0.6223337515683814\n",
      "estim: 48 ,F1 = 0.6240601503759399\n",
      "estim: 49 ,F1 = 0.6138364779874215\n"
     ]
    }
   ],
   "source": [
    "for estim in range(1,50,1):\n",
    "    model_RFC_upsampled=RandomForestClassifier(max_depth=15,n_estimators=estim,random_state=12345)\n",
    "    model_RFC_upsampled.fit(features_upsampled, target_upsampled)\n",
    "    predictions_valid = model_RFC_upsampled.predict(features_valid)\n",
    "    \n",
    "    print('estim:',estim, ',F1 =',f1_score(target_valid,predictions_valid))"
   ]
  },
  {
   "cell_type": "markdown",
   "metadata": {},
   "source": [
    "**Лучший параметр estim: estim: 14 ,F1 = 0.6257822277847309**"
   ]
  },
  {
   "cell_type": "markdown",
   "metadata": {},
   "source": [
    "**Для честного эксперемента найдем лучшее значение F1 для downsampling на моделе \"Случайный лес\", так как именно эта модель показывает лучшие результаты**"
   ]
  },
  {
   "cell_type": "code",
   "execution_count": 36,
   "metadata": {},
   "outputs": [
    {
     "name": "stdout",
     "output_type": "stream",
     "text": [
      "max_depth: 1 F1: 0.5469767441860465\n",
      "max_depth: 2 F1: 0.5428082191780822\n",
      "max_depth: 3 F1: 0.5822550831792976\n",
      "max_depth: 4 F1: 0.5850965961361546\n",
      "max_depth: 5 F1: 0.5881244109330819\n",
      "max_depth: 6 F1: 0.5971563981042654\n",
      "max_depth: 7 F1: 0.5942857142857143\n",
      "max_depth: 8 F1: 0.5919540229885057\n",
      "max_depth: 9 F1: 0.6003824091778203\n",
      "max_depth: 10 F1: 0.5929456625357483\n",
      "max_depth: 11 F1: 0.6011450381679388\n",
      "max_depth: 12 F1: 0.5823255813953487\n",
      "max_depth: 13 F1: 0.5783582089552238\n",
      "max_depth: 14 F1: 0.5918173168411037\n",
      "max_depth: 15 F1: 0.5804651162790698\n",
      "max_depth: 16 F1: 0.57703081232493\n",
      "max_depth: 17 F1: 0.5772811918063315\n",
      "max_depth: 18 F1: 0.5837231057062675\n",
      "max_depth: 19 F1: 0.5853193517635844\n",
      "CPU times: user 2.83 s, sys: 11.6 ms, total: 2.84 s\n",
      "Wall time: 2.87 s\n"
     ]
    }
   ],
   "source": [
    "%%time\n",
    "\n",
    "for max_depth in range(1,20,1):\n",
    "    model_RFC_downsampled=RandomForestClassifier(max_depth=max_depth,n_estimators=50,random_state=12345)\n",
    "    model_RFC_downsampled.fit(features_downsampled, target_downsampled)\n",
    "    predictions_valid_downsampled =model_RFC_downsampled.predict(features_valid)\n",
    "    print('max_depth:',max_depth,'F1:',f1_score(target_valid,predictions_valid_downsampled))"
   ]
  },
  {
   "cell_type": "markdown",
   "metadata": {},
   "source": [
    "**downsampled показал лучший F1: 0.6003824091778203, в то время как у upsampled лучшим считается F1: 0.6215538847117794. Этим подтверждаем, что в данной ситуации upsampled показывает себя лучше** "
   ]
  },
  {
   "cell_type": "markdown",
   "metadata": {},
   "source": [
    "**Вывод: гиперпараметры не изменились (почти), но F1 у них стало больше, по прежнему лучше всего показывает себя модель Случайный лес, продолжим работу с ней используя лучшие гиперпараметры**"
   ]
  },
  {
   "cell_type": "markdown",
   "metadata": {},
   "source": [
    " "
   ]
  },
  {
   "cell_type": "markdown",
   "metadata": {},
   "source": [
    "**Обучаем модель Случайный лес на новых гиперпараметрах**"
   ]
  },
  {
   "cell_type": "code",
   "execution_count": 37,
   "metadata": {},
   "outputs": [
    {
     "name": "stdout",
     "output_type": "stream",
     "text": [
      "Случайный лес после баланса\n",
      "F1 мера: 0.6257822277847309\n",
      "Точность: 0.8375\n",
      "Полнота: 0.5980861244019139\n",
      "AUC-ROC: 0.8294940387977183\n",
      "\n",
      "Случайный лес до баланса\n",
      "F1 мера: 0.6032210834553441\n",
      "Точность: 0.847\n",
      "Полнота: 0.49282296650717705\n",
      "AUC-ROC: 0.8408009666160574\n"
     ]
    }
   ],
   "source": [
    "model_RFC_upsampled = RandomForestClassifier(random_state=12345, max_depth=15, n_estimators=14)\n",
    "model_RFC_upsampled.fit(features_upsampled, target_upsampled)\n",
    "\n",
    "prediction_RFC_upsampled=model_RFC_upsampled.predict(features_valid)\n",
    "RFC_score_upsampled = model_RFC_upsampled.score(features_test, target_test)\n",
    "f1_RFC_upsampled = f1_score(target_valid,prediction_RFC_upsampled)\n",
    "\n",
    "probabilities_valid_RFC_upsampled = model_RFC_upsampled.predict_proba(features_valid)\n",
    "probabilities_one_valid_RFC_upsampled = probabilities_valid_RFC_upsampled[:, 1]\n",
    "auc_roc_RFC_upsampled = roc_auc_score(target_valid, probabilities_one_valid_RFC_upsampled)\n",
    "\n",
    "print('Случайный лес после баланса')\n",
    "print('F1 мера:',f1_RFC_upsampled)\n",
    "print('Точность:',RFC_score_upsampled)\n",
    "print('Полнота:',recall_score(target_valid, prediction_RFC_upsampled))\n",
    "print('AUC-ROC:', auc_roc_RFC_upsampled)\n",
    "\n",
    "print()\n",
    "print('Случайный лес до баланса')\n",
    "print('F1 мера:',f1_RFC)\n",
    "print('Точность:',RFC_score)\n",
    "print('Полнота:',recall_score(target_valid, prediction_RFC))\n",
    "print('AUC-ROC:', auc_roc_RFC)"
   ]
  },
  {
   "cell_type": "markdown",
   "metadata": {},
   "source": [
    "**Вывод: как можем видеть F1-мера и полнота увеличились**"
   ]
  },
  {
   "cell_type": "markdown",
   "metadata": {},
   "source": [
    " "
   ]
  },
  {
   "cell_type": "markdown",
   "metadata": {},
   "source": [
    "**Теперь обучем тестовую модель, ее F1 должно быть не нижк 0.59**"
   ]
  },
  {
   "cell_type": "code",
   "execution_count": 38,
   "metadata": {},
   "outputs": [
    {
     "name": "stdout",
     "output_type": "stream",
     "text": [
      "Случайный лес test\n",
      "F1 мера: 0.606060606060606\n",
      "Точность: 0.8375\n",
      "Полнота: 0.19138755980861244\n",
      "AUC-ROC: 0.478616341739304\n",
      "\n",
      "CPU times: user 141 ms, sys: 0 ns, total: 141 ms\n",
      "Wall time: 142 ms\n"
     ]
    }
   ],
   "source": [
    "%%time\n",
    "\n",
    "model_RFC_test=RandomForestClassifier(max_depth=15,n_estimators=14,random_state=12345)\n",
    "model_RFC_test.fit(features_upsampled, target_upsampled)\n",
    "\n",
    "prediction_RFC_test=model_RFC_test.predict(features_test)\n",
    "result_RFC_test = model_RFC_test.score(features_test, target_test)\n",
    "f1_RFC_test = f1_score(target_test, prediction_RFC_test)\n",
    "\n",
    "probabilities_valid_RFC_test = model_RFC_test.predict_proba(features_test)\n",
    "probabilities_one_valid_RFC_test = probabilities_valid_RFC_test[:, 1]\n",
    "auc_roc_RFC_test = roc_auc_score(target_valid, probabilities_one_valid_RFC_test)\n",
    "\n",
    "print('Случайный лес test')\n",
    "print('F1 мера:',f1_RFC_test)\n",
    "print('Точность:',result_RFC_test)\n",
    "print('Полнота:',recall_score(target_valid, prediction_RFC_test))\n",
    "print('AUC-ROC:', auc_roc_RFC_test)\n",
    "print()"
   ]
  },
  {
   "cell_type": "markdown",
   "metadata": {},
   "source": [
    "**Согласно задачи F1 должно быть больше 0.59 - успешно**"
   ]
  },
  {
   "cell_type": "markdown",
   "metadata": {},
   "source": [
    "**ROC-кривая**"
   ]
  },
  {
   "cell_type": "markdown",
   "metadata": {},
   "source": [
    "Чтобы выявить, как сильно наша модель отличается от случайной, посчитаем площадь под ROC-кривой — AUC-ROC\n",
    "\n",
    "Значения метрики изменяются от\n",
    "0 до 1. AUC-ROC случайной модели равна 0.5"
   ]
  },
  {
   "cell_type": "markdown",
   "metadata": {},
   "source": [
    "Вычислим AUC-ROC и визуализируем ROC-кривую\n"
   ]
  },
  {
   "cell_type": "code",
   "execution_count": 39,
   "metadata": {},
   "outputs": [
    {
     "name": "stdout",
     "output_type": "stream",
     "text": [
      "AUC-ROC = 0.8294940387977183\n"
     ]
    },
    {
     "data": {
      "image/png": "[encoded data removed]",
      "text/plain": [
       "<Figure size 432x288 with 1 Axes>"
      ]
     },
     "metadata": {
      "needs_background": "light"
     },
     "output_type": "display_data"
    }
   ],
   "source": [
    "probabilities_valid = model_RFC_test.predict_proba(features_valid)\n",
    "probabilities_one_valid = probabilities_valid[:, 1]\n",
    "auc_roc = roc_auc_score(target_valid, probabilities_one_valid)\n",
    "print('AUC-ROC =', auc_roc)\n",
    "fpr, tpr, thresholds = roc_curve(target_valid, probabilities_one_valid) \n",
    "plt.figure()\n",
    "plt.plot(fpr, tpr)\n",
    "plt.plot([0, 1], [0, 1], linestyle='--')\n",
    "plt.xlim([0.0, 1.0])\n",
    "plt.ylim([0.0, 1.0])\n",
    "plt.xlabel('False Positive Rate')\n",
    "plt.ylabel('True Positive Rate')\n",
    "plt.title('ROC-кривая')\n",
    "plt.show()"
   ]
  },
  {
   "cell_type": "markdown",
   "metadata": {},
   "source": [
    "**ВЫВОД**"
   ]
  },
  {
   "cell_type": "markdown",
   "metadata": {},
   "source": [
    "В первоначальной выборке был сильный дисбаланса, отрицательных ответов около 80%, а положительных всего 20%.\n",
    "\n",
    "Мы устранили дисбаланс техникой upsampling и увеличили число положительных ответов в 4 раза\n",
    "\n",
    "Лучше всего себя показала модель случайный лес, для которой подобрали лучшие гипперпараметры и избавились от дисбаланса\n",
    "\n",
    "Случайный лес до баланса\n",
    "- F1 мера: 0.6032210834553441\n",
    "- Точность: 0.847\n",
    "- Полнота: 0.49282296650717705\n",
    "- AUC-ROC: 0.8408009666160574\n",
    "\n",
    "Случайный лес после баланса\n",
    "- F1 мера: 0.6257822277847309\n",
    "- Точность: 0.8375\n",
    "- Полнота: 0.5980861244019139\n",
    "- AUC-ROC: 0.8294940387977183\n",
    "\n",
    "После обучили тестовую модель, на сбалансированной выборке, она показала следующие результаты\n",
    "- F1 мера: 0.606060606060606\n",
    "- Точность: 0.8375\n",
    "- Полнота: 0.19138755980861244\n",
    "- AUC-ROC: 0.478616341739304"
   ]
  },
  {
   "cell_type": "markdown",
   "metadata": {},
   "source": [
    "## Чек-лист готовности проекта"
   ]
  },
  {
   "cell_type": "markdown",
   "metadata": {},
   "source": [
    "Поставьте 'x' в выполненных пунктах. Далее нажмите Shift+Enter."
   ]
  },
  {
   "cell_type": "markdown",
   "metadata": {},
   "source": [
    "- [x]  Jupyter Notebook открыт\n",
    "- [x]  Весь код выполняется без ошибок\n",
    "- [x]  Ячейки с кодом расположены в порядке исполнения\n",
    "- [x]  Выполнен шаг 1: данные подготовлены\n",
    "- [x]  Выполнен шаг 2: задача исследована\n",
    "    - [x]  Исследован баланс классов\n",
    "    - [x]  Изучены модели без учёта дисбаланса\n",
    "    - [x]  Написаны выводы по результатам исследования\n",
    "- [x]  Выполнен шаг 3: учтён дисбаланс\n",
    "    - [x]  Применено несколько способов борьбы с дисбалансом\n",
    "    - [x]  Написаны выводы по результатам исследования\n",
    "- [x]  Выполнен шаг 4: проведено тестирование\n",
    "- [x]  Удалось достичь *F1*-меры не менее 0.59\n",
    "- [x]  Исследована метрика *AUC-ROC*"
   ]
  }
 ],
 "metadata": {
  "ExecuteTimeLog": [
   {
    "duration": 1625,
    "start_time": "2023-02-20T13:38:25.992Z"
   },
   {
    "duration": 80,
    "start_time": "2023-02-20T13:39:36.555Z"
   },
   {
    "duration": 13,
    "start_time": "2023-02-20T13:39:37.315Z"
   },
   {
    "duration": 20,
    "start_time": "2023-02-20T13:39:50.956Z"
   },
   {
    "duration": 75,
    "start_time": "2023-02-20T13:46:32.431Z"
   },
   {
    "duration": 5,
    "start_time": "2023-02-20T13:47:12.162Z"
   },
   {
    "duration": 6,
    "start_time": "2023-02-20T13:49:51.799Z"
   },
   {
    "duration": 88,
    "start_time": "2023-02-20T13:50:26.910Z"
   },
   {
    "duration": 13,
    "start_time": "2023-02-20T13:50:40.142Z"
   },
   {
    "duration": 11,
    "start_time": "2023-02-20T13:50:48.854Z"
   },
   {
    "duration": 90,
    "start_time": "2023-02-20T13:51:21.982Z"
   },
   {
    "duration": 9,
    "start_time": "2023-02-20T13:52:22.430Z"
   },
   {
    "duration": 132,
    "start_time": "2023-02-20T13:53:54.112Z"
   },
   {
    "duration": 9,
    "start_time": "2023-02-20T13:54:03.229Z"
   },
   {
    "duration": 12,
    "start_time": "2023-02-20T13:55:17.007Z"
   },
   {
    "duration": 10,
    "start_time": "2023-02-20T13:55:27.439Z"
   },
   {
    "duration": 8,
    "start_time": "2023-02-20T13:56:15.696Z"
   },
   {
    "duration": 9,
    "start_time": "2023-02-20T13:56:27.504Z"
   },
   {
    "duration": 82,
    "start_time": "2023-02-20T13:57:34.136Z"
   },
   {
    "duration": 11,
    "start_time": "2023-02-20T13:57:47.488Z"
   },
   {
    "duration": 78,
    "start_time": "2023-02-20T14:06:01.642Z"
   },
   {
    "duration": 12,
    "start_time": "2023-02-20T14:10:45.613Z"
   },
   {
    "duration": 122,
    "start_time": "2023-02-20T14:11:55.075Z"
   },
   {
    "duration": 5,
    "start_time": "2023-02-20T14:12:38.147Z"
   },
   {
    "duration": 10,
    "start_time": "2023-02-20T14:13:57.606Z"
   },
   {
    "duration": 13,
    "start_time": "2023-02-20T14:56:23.849Z"
   },
   {
    "duration": 4,
    "start_time": "2023-02-20T14:56:27.230Z"
   },
   {
    "duration": 3,
    "start_time": "2023-02-20T14:56:38.337Z"
   },
   {
    "duration": 1415,
    "start_time": "2023-02-20T14:57:05.407Z"
   },
   {
    "duration": 41,
    "start_time": "2023-02-20T14:57:06.825Z"
   },
   {
    "duration": 21,
    "start_time": "2023-02-20T14:57:06.868Z"
   },
   {
    "duration": 24,
    "start_time": "2023-02-20T14:57:06.891Z"
   },
   {
    "duration": 23,
    "start_time": "2023-02-20T14:57:06.917Z"
   },
   {
    "duration": 11,
    "start_time": "2023-02-20T14:57:06.942Z"
   },
   {
    "duration": 5,
    "start_time": "2023-02-20T14:57:06.955Z"
   },
   {
    "duration": 9,
    "start_time": "2023-02-20T14:57:06.961Z"
   },
   {
    "duration": 18,
    "start_time": "2023-02-20T14:57:06.972Z"
   },
   {
    "duration": 20,
    "start_time": "2023-02-20T14:57:06.992Z"
   },
   {
    "duration": 14,
    "start_time": "2023-02-20T14:57:07.014Z"
   },
   {
    "duration": 13,
    "start_time": "2023-02-20T14:57:07.030Z"
   },
   {
    "duration": 15,
    "start_time": "2023-02-20T14:57:07.045Z"
   },
   {
    "duration": 8,
    "start_time": "2023-02-20T14:57:07.061Z"
   },
   {
    "duration": 14,
    "start_time": "2023-02-20T14:57:07.070Z"
   },
   {
    "duration": 20,
    "start_time": "2023-02-20T14:57:07.086Z"
   },
   {
    "duration": 14,
    "start_time": "2023-02-20T14:58:29.898Z"
   },
   {
    "duration": 28,
    "start_time": "2023-02-20T15:06:58.558Z"
   },
   {
    "duration": 180,
    "start_time": "2023-02-20T15:08:21.181Z"
   },
   {
    "duration": 20,
    "start_time": "2023-02-20T15:08:54.895Z"
   },
   {
    "duration": 6,
    "start_time": "2023-02-20T15:09:04.845Z"
   },
   {
    "duration": 10,
    "start_time": "2023-02-20T15:09:05.783Z"
   },
   {
    "duration": 5,
    "start_time": "2023-02-20T15:09:08.820Z"
   },
   {
    "duration": 8,
    "start_time": "2023-02-20T15:09:09.664Z"
   },
   {
    "duration": 14,
    "start_time": "2023-02-20T15:09:10.726Z"
   },
   {
    "duration": 11,
    "start_time": "2023-02-20T15:09:32.158Z"
   },
   {
    "duration": 4,
    "start_time": "2023-02-20T15:11:35.069Z"
   },
   {
    "duration": 10,
    "start_time": "2023-02-20T15:11:56.158Z"
   },
   {
    "duration": 6,
    "start_time": "2023-02-20T15:12:41.141Z"
   },
   {
    "duration": 1477,
    "start_time": "2023-02-20T15:12:47.000Z"
   },
   {
    "duration": 41,
    "start_time": "2023-02-20T15:12:48.479Z"
   },
   {
    "duration": 14,
    "start_time": "2023-02-20T15:12:48.522Z"
   },
   {
    "duration": 19,
    "start_time": "2023-02-20T15:12:48.538Z"
   },
   {
    "duration": 12,
    "start_time": "2023-02-20T15:12:48.559Z"
   },
   {
    "duration": 37,
    "start_time": "2023-02-20T15:12:48.573Z"
   },
   {
    "duration": 8,
    "start_time": "2023-02-20T15:12:48.612Z"
   },
   {
    "duration": 8,
    "start_time": "2023-02-20T15:12:48.622Z"
   },
   {
    "duration": 10,
    "start_time": "2023-02-20T15:12:48.632Z"
   },
   {
    "duration": 12,
    "start_time": "2023-02-20T15:12:48.645Z"
   },
   {
    "duration": 10,
    "start_time": "2023-02-20T15:12:48.659Z"
   },
   {
    "duration": 40,
    "start_time": "2023-02-20T15:12:48.671Z"
   },
   {
    "duration": 28,
    "start_time": "2023-02-20T15:12:48.713Z"
   },
   {
    "duration": 24,
    "start_time": "2023-02-20T15:12:48.743Z"
   },
   {
    "duration": 16,
    "start_time": "2023-02-20T15:12:48.769Z"
   },
   {
    "duration": 9,
    "start_time": "2023-02-20T15:12:48.787Z"
   },
   {
    "duration": 132,
    "start_time": "2023-02-20T15:12:48.798Z"
   },
   {
    "duration": 28,
    "start_time": "2023-02-20T15:13:53.783Z"
   },
   {
    "duration": 6,
    "start_time": "2023-02-20T15:14:39.991Z"
   },
   {
    "duration": 32,
    "start_time": "2023-02-20T15:19:33.823Z"
   },
   {
    "duration": 7,
    "start_time": "2023-02-20T15:19:38.303Z"
   },
   {
    "duration": 32,
    "start_time": "2023-02-20T15:29:51.769Z"
   },
   {
    "duration": 215,
    "start_time": "2023-02-20T15:31:39.610Z"
   },
   {
    "duration": 22,
    "start_time": "2023-02-20T15:32:29.554Z"
   },
   {
    "duration": 19,
    "start_time": "2023-02-20T15:37:36.035Z"
   },
   {
    "duration": 10,
    "start_time": "2023-02-20T15:38:35.308Z"
   },
   {
    "duration": 38,
    "start_time": "2023-02-20T15:38:39.556Z"
   },
   {
    "duration": 12,
    "start_time": "2023-02-20T15:38:42.749Z"
   },
   {
    "duration": 28,
    "start_time": "2023-02-20T15:38:52.559Z"
   },
   {
    "duration": 222,
    "start_time": "2023-02-20T15:38:57.235Z"
   },
   {
    "duration": 63,
    "start_time": "2023-02-20T15:38:59.842Z"
   },
   {
    "duration": 12,
    "start_time": "2023-02-20T15:40:12.468Z"
   },
   {
    "duration": 1381,
    "start_time": "2023-02-20T15:40:17.967Z"
   },
   {
    "duration": 44,
    "start_time": "2023-02-20T15:40:19.350Z"
   },
   {
    "duration": 14,
    "start_time": "2023-02-20T15:40:19.396Z"
   },
   {
    "duration": 25,
    "start_time": "2023-02-20T15:40:19.412Z"
   },
   {
    "duration": 12,
    "start_time": "2023-02-20T15:40:19.438Z"
   },
   {
    "duration": 9,
    "start_time": "2023-02-20T15:40:19.452Z"
   },
   {
    "duration": 4,
    "start_time": "2023-02-20T15:40:19.463Z"
   },
   {
    "duration": 17,
    "start_time": "2023-02-20T15:40:19.469Z"
   },
   {
    "duration": 21,
    "start_time": "2023-02-20T15:40:19.488Z"
   },
   {
    "duration": 12,
    "start_time": "2023-02-20T15:40:19.513Z"
   },
   {
    "duration": 11,
    "start_time": "2023-02-20T15:40:19.527Z"
   },
   {
    "duration": 9,
    "start_time": "2023-02-20T15:40:19.540Z"
   },
   {
    "duration": 12,
    "start_time": "2023-02-20T15:40:19.551Z"
   },
   {
    "duration": 40,
    "start_time": "2023-02-20T15:40:19.565Z"
   },
   {
    "duration": 11,
    "start_time": "2023-02-20T15:40:19.607Z"
   },
   {
    "duration": 28,
    "start_time": "2023-02-20T15:40:19.620Z"
   },
   {
    "duration": 7,
    "start_time": "2023-02-20T15:40:19.650Z"
   },
   {
    "duration": 56,
    "start_time": "2023-02-20T15:40:19.659Z"
   },
   {
    "duration": 187,
    "start_time": "2023-02-20T15:40:19.717Z"
   },
   {
    "duration": 97,
    "start_time": "2023-02-20T15:40:19.906Z"
   },
   {
    "duration": 83,
    "start_time": "2023-02-20T15:42:15.733Z"
   },
   {
    "duration": 110,
    "start_time": "2023-02-20T15:42:47.861Z"
   },
   {
    "duration": 32,
    "start_time": "2023-02-20T15:44:40.150Z"
   },
   {
    "duration": 69,
    "start_time": "2023-02-20T15:44:59.254Z"
   },
   {
    "duration": 313,
    "start_time": "2023-02-20T15:45:58.702Z"
   },
   {
    "duration": 159,
    "start_time": "2023-02-20T15:46:11.046Z"
   },
   {
    "duration": 332,
    "start_time": "2023-02-20T15:46:19.062Z"
   },
   {
    "duration": 118,
    "start_time": "2023-02-20T15:46:25.967Z"
   },
   {
    "duration": 72,
    "start_time": "2023-02-20T15:46:45.654Z"
   },
   {
    "duration": 58,
    "start_time": "2023-02-20T15:46:59.958Z"
   },
   {
    "duration": 21,
    "start_time": "2023-02-20T15:52:40.402Z"
   },
   {
    "duration": 176,
    "start_time": "2023-02-20T15:54:13.217Z"
   },
   {
    "duration": 20,
    "start_time": "2023-02-20T15:54:38.433Z"
   },
   {
    "duration": 174,
    "start_time": "2023-02-20T15:55:00.578Z"
   },
   {
    "duration": 49,
    "start_time": "2023-02-20T15:57:08.402Z"
   },
   {
    "duration": 163,
    "start_time": "2023-02-20T15:57:15.602Z"
   },
   {
    "duration": 192,
    "start_time": "2023-02-20T15:57:20.241Z"
   },
   {
    "duration": 181,
    "start_time": "2023-02-20T15:57:28.257Z"
   },
   {
    "duration": 181,
    "start_time": "2023-02-20T15:57:35.889Z"
   },
   {
    "duration": 107,
    "start_time": "2023-02-20T15:59:06.290Z"
   },
   {
    "duration": 125,
    "start_time": "2023-02-20T15:59:59.443Z"
   },
   {
    "duration": 125,
    "start_time": "2023-02-20T16:02:30.367Z"
   },
   {
    "duration": 360,
    "start_time": "2023-02-20T16:07:01.117Z"
   },
   {
    "duration": 678,
    "start_time": "2023-02-20T16:07:29.838Z"
   },
   {
    "duration": 353,
    "start_time": "2023-02-20T16:07:42.218Z"
   },
   {
    "duration": 454,
    "start_time": "2023-02-20T16:07:58.381Z"
   },
   {
    "duration": 2272,
    "start_time": "2023-02-20T16:08:27.901Z"
   },
   {
    "duration": 3242,
    "start_time": "2023-02-20T16:08:39.733Z"
   },
   {
    "duration": 85,
    "start_time": "2023-02-20T16:10:29.854Z"
   },
   {
    "duration": 25,
    "start_time": "2023-02-20T16:11:08.686Z"
   },
   {
    "duration": 215,
    "start_time": "2023-02-20T16:11:09.829Z"
   },
   {
    "duration": 27,
    "start_time": "2023-02-20T16:11:10.725Z"
   },
   {
    "duration": 10,
    "start_time": "2023-02-20T16:14:05.449Z"
   },
   {
    "duration": 25,
    "start_time": "2023-02-20T16:15:23.068Z"
   },
   {
    "duration": 3753,
    "start_time": "2023-02-20T16:15:43.568Z"
   },
   {
    "duration": 7185,
    "start_time": "2023-02-20T16:16:10.040Z"
   },
   {
    "duration": 7009,
    "start_time": "2023-02-20T16:19:43.522Z"
   },
   {
    "duration": 3649,
    "start_time": "2023-02-20T16:20:28.609Z"
   },
   {
    "duration": 3643,
    "start_time": "2023-02-20T16:21:52.578Z"
   },
   {
    "duration": 3447,
    "start_time": "2023-02-20T16:22:59.579Z"
   },
   {
    "duration": 3361,
    "start_time": "2023-02-20T16:32:34.743Z"
   },
   {
    "duration": 6877,
    "start_time": "2023-02-20T16:32:53.047Z"
   },
   {
    "duration": 245,
    "start_time": "2023-02-20T16:34:28.278Z"
   },
   {
    "duration": 260,
    "start_time": "2023-02-20T16:34:35.565Z"
   },
   {
    "duration": 275,
    "start_time": "2023-02-20T16:34:52.558Z"
   },
   {
    "duration": 241,
    "start_time": "2023-02-20T16:34:58.590Z"
   },
   {
    "duration": 20,
    "start_time": "2023-02-20T16:35:23.942Z"
   },
   {
    "duration": 250,
    "start_time": "2023-02-20T16:35:25.886Z"
   },
   {
    "duration": 18,
    "start_time": "2023-02-20T16:35:28.118Z"
   },
   {
    "duration": 74,
    "start_time": "2023-02-20T16:37:31.886Z"
   },
   {
    "duration": 106,
    "start_time": "2023-02-20T16:46:39.266Z"
   },
   {
    "duration": 78,
    "start_time": "2023-02-20T16:46:48.450Z"
   },
   {
    "duration": 139,
    "start_time": "2023-02-20T16:47:12.811Z"
   },
   {
    "duration": 96,
    "start_time": "2023-02-20T16:47:24.016Z"
   },
   {
    "duration": 5,
    "start_time": "2023-02-20T16:47:37.777Z"
   },
   {
    "duration": 7,
    "start_time": "2023-02-20T16:47:48.482Z"
   },
   {
    "duration": 79,
    "start_time": "2023-02-20T16:47:58.027Z"
   },
   {
    "duration": 73,
    "start_time": "2023-02-20T16:48:45.419Z"
   },
   {
    "duration": 5,
    "start_time": "2023-02-20T16:51:09.524Z"
   },
   {
    "duration": 4,
    "start_time": "2023-02-20T16:51:14.060Z"
   },
   {
    "duration": 6,
    "start_time": "2023-02-20T16:51:46.235Z"
   },
   {
    "duration": 17,
    "start_time": "2023-02-20T16:51:54.213Z"
   },
   {
    "duration": 11,
    "start_time": "2023-02-20T16:52:08.509Z"
   },
   {
    "duration": 11,
    "start_time": "2023-02-20T16:52:28.079Z"
   },
   {
    "duration": 3,
    "start_time": "2023-02-20T16:52:52.039Z"
   },
   {
    "duration": 3,
    "start_time": "2023-02-20T16:52:54.773Z"
   },
   {
    "duration": 10,
    "start_time": "2023-02-20T16:52:58.894Z"
   },
   {
    "duration": 4,
    "start_time": "2023-02-20T16:53:16.164Z"
   },
   {
    "duration": 21,
    "start_time": "2023-02-20T16:56:16.805Z"
   },
   {
    "duration": 244,
    "start_time": "2023-02-20T16:57:03.774Z"
   },
   {
    "duration": 23,
    "start_time": "2023-02-20T16:57:06.453Z"
   },
   {
    "duration": 49,
    "start_time": "2023-02-21T08:06:11.581Z"
   },
   {
    "duration": 1682,
    "start_time": "2023-02-21T08:07:13.923Z"
   },
   {
    "duration": 183,
    "start_time": "2023-02-21T08:07:15.608Z"
   },
   {
    "duration": 14,
    "start_time": "2023-02-21T08:07:15.792Z"
   },
   {
    "duration": 17,
    "start_time": "2023-02-21T08:07:15.808Z"
   },
   {
    "duration": 10,
    "start_time": "2023-02-21T08:07:15.827Z"
   },
   {
    "duration": 10,
    "start_time": "2023-02-21T08:07:15.838Z"
   },
   {
    "duration": 4,
    "start_time": "2023-02-21T08:07:15.849Z"
   },
   {
    "duration": 6,
    "start_time": "2023-02-21T08:07:15.855Z"
   },
   {
    "duration": 8,
    "start_time": "2023-02-21T08:07:15.863Z"
   },
   {
    "duration": 13,
    "start_time": "2023-02-21T08:07:15.873Z"
   },
   {
    "duration": 34,
    "start_time": "2023-02-21T08:07:15.888Z"
   },
   {
    "duration": 3,
    "start_time": "2023-02-21T08:07:15.924Z"
   },
   {
    "duration": 11,
    "start_time": "2023-02-21T08:07:15.929Z"
   },
   {
    "duration": 7,
    "start_time": "2023-02-21T08:07:15.942Z"
   },
   {
    "duration": 11,
    "start_time": "2023-02-21T08:07:15.950Z"
   },
   {
    "duration": 28,
    "start_time": "2023-02-21T08:07:15.963Z"
   },
   {
    "duration": 29,
    "start_time": "2023-02-21T08:07:15.992Z"
   },
   {
    "duration": 119,
    "start_time": "2023-02-21T08:07:16.022Z"
   },
   {
    "duration": 2711,
    "start_time": "2023-02-21T08:07:16.142Z"
   },
   {
    "duration": 6226,
    "start_time": "2023-02-21T08:07:18.854Z"
   },
   {
    "duration": 21,
    "start_time": "2023-02-21T08:07:25.083Z"
   },
   {
    "duration": 346,
    "start_time": "2023-02-21T08:07:25.106Z"
   },
   {
    "duration": 170,
    "start_time": "2023-02-21T08:07:25.453Z"
   },
   {
    "duration": 318,
    "start_time": "2023-02-21T08:07:25.625Z"
   },
   {
    "duration": 19,
    "start_time": "2023-02-21T08:07:25.944Z"
   },
   {
    "duration": 492,
    "start_time": "2023-02-21T08:07:25.965Z"
   },
   {
    "duration": 163,
    "start_time": "2023-02-21T08:07:26.459Z"
   },
   {
    "duration": 101,
    "start_time": "2023-02-21T08:07:26.626Z"
   },
   {
    "duration": 9,
    "start_time": "2023-02-21T08:07:31.586Z"
   },
   {
    "duration": 12,
    "start_time": "2023-02-21T08:10:34.337Z"
   },
   {
    "duration": 14,
    "start_time": "2023-02-21T08:10:56.423Z"
   },
   {
    "duration": 17,
    "start_time": "2023-02-21T08:11:01.218Z"
   },
   {
    "duration": 92,
    "start_time": "2023-02-21T08:11:58.334Z"
   },
   {
    "duration": 39,
    "start_time": "2023-02-21T08:12:36.082Z"
   },
   {
    "duration": 92,
    "start_time": "2023-02-21T08:14:16.380Z"
   },
   {
    "duration": 1412,
    "start_time": "2023-02-21T08:14:26.395Z"
   },
   {
    "duration": 49,
    "start_time": "2023-02-21T08:14:27.810Z"
   },
   {
    "duration": 13,
    "start_time": "2023-02-21T08:14:27.861Z"
   },
   {
    "duration": 23,
    "start_time": "2023-02-21T08:14:27.876Z"
   },
   {
    "duration": 32,
    "start_time": "2023-02-21T08:14:27.900Z"
   },
   {
    "duration": 19,
    "start_time": "2023-02-21T08:14:27.934Z"
   },
   {
    "duration": 23,
    "start_time": "2023-02-21T08:14:27.955Z"
   },
   {
    "duration": 34,
    "start_time": "2023-02-21T08:14:27.979Z"
   },
   {
    "duration": 33,
    "start_time": "2023-02-21T08:14:28.014Z"
   },
   {
    "duration": 19,
    "start_time": "2023-02-21T08:14:28.050Z"
   },
   {
    "duration": 18,
    "start_time": "2023-02-21T08:14:28.071Z"
   },
   {
    "duration": 16,
    "start_time": "2023-02-21T08:14:28.091Z"
   },
   {
    "duration": 34,
    "start_time": "2023-02-21T08:14:28.108Z"
   },
   {
    "duration": 32,
    "start_time": "2023-02-21T08:14:28.144Z"
   },
   {
    "duration": 25,
    "start_time": "2023-02-21T08:14:28.177Z"
   },
   {
    "duration": 40,
    "start_time": "2023-02-21T08:14:28.203Z"
   },
   {
    "duration": 6,
    "start_time": "2023-02-21T08:14:28.244Z"
   },
   {
    "duration": 129,
    "start_time": "2023-02-21T08:14:28.252Z"
   },
   {
    "duration": 3043,
    "start_time": "2023-02-21T08:14:28.382Z"
   },
   {
    "duration": 7369,
    "start_time": "2023-02-21T08:14:31.430Z"
   },
   {
    "duration": 35,
    "start_time": "2023-02-21T08:14:38.800Z"
   },
   {
    "duration": 259,
    "start_time": "2023-02-21T08:14:38.837Z"
   },
   {
    "duration": 26,
    "start_time": "2023-02-21T08:14:39.098Z"
   },
   {
    "duration": 267,
    "start_time": "2023-02-21T08:14:39.126Z"
   },
   {
    "duration": 35,
    "start_time": "2023-02-21T08:14:39.394Z"
   },
   {
    "duration": 272,
    "start_time": "2023-02-21T08:14:39.432Z"
   },
   {
    "duration": 35,
    "start_time": "2023-02-21T08:14:39.706Z"
   },
   {
    "duration": 276,
    "start_time": "2023-02-21T08:14:39.745Z"
   },
   {
    "duration": 117,
    "start_time": "2023-02-21T08:14:40.024Z"
   },
   {
    "duration": 246,
    "start_time": "2023-02-21T08:14:40.144Z"
   },
   {
    "duration": 130,
    "start_time": "2023-02-21T08:16:36.188Z"
   },
   {
    "duration": 12,
    "start_time": "2023-02-21T08:17:34.013Z"
   },
   {
    "duration": 10,
    "start_time": "2023-02-21T08:17:42.171Z"
   },
   {
    "duration": 13,
    "start_time": "2023-02-21T08:17:45.052Z"
   },
   {
    "duration": 93,
    "start_time": "2023-02-21T08:18:33.436Z"
   },
   {
    "duration": 109,
    "start_time": "2023-02-21T08:19:04.612Z"
   },
   {
    "duration": 67,
    "start_time": "2023-02-21T08:21:42.255Z"
   },
   {
    "duration": 10,
    "start_time": "2023-02-21T08:22:19.383Z"
   },
   {
    "duration": 108,
    "start_time": "2023-02-21T08:22:30.286Z"
   },
   {
    "duration": 99,
    "start_time": "2023-02-21T08:22:37.061Z"
   },
   {
    "duration": 182,
    "start_time": "2023-02-21T08:22:56.766Z"
   },
   {
    "duration": 1581,
    "start_time": "2023-02-21T08:23:33.088Z"
   },
   {
    "duration": 46,
    "start_time": "2023-02-21T08:23:34.672Z"
   },
   {
    "duration": 22,
    "start_time": "2023-02-21T08:23:34.720Z"
   },
   {
    "duration": 31,
    "start_time": "2023-02-21T08:23:34.744Z"
   },
   {
    "duration": 25,
    "start_time": "2023-02-21T08:23:34.777Z"
   },
   {
    "duration": 31,
    "start_time": "2023-02-21T08:23:34.804Z"
   },
   {
    "duration": 9,
    "start_time": "2023-02-21T08:23:34.839Z"
   },
   {
    "duration": 17,
    "start_time": "2023-02-21T08:23:34.851Z"
   },
   {
    "duration": 37,
    "start_time": "2023-02-21T08:23:34.871Z"
   },
   {
    "duration": 38,
    "start_time": "2023-02-21T08:23:34.911Z"
   },
   {
    "duration": 11,
    "start_time": "2023-02-21T08:23:34.951Z"
   },
   {
    "duration": 8,
    "start_time": "2023-02-21T08:23:34.964Z"
   },
   {
    "duration": 19,
    "start_time": "2023-02-21T08:23:34.973Z"
   },
   {
    "duration": 4,
    "start_time": "2023-02-21T08:23:34.996Z"
   },
   {
    "duration": 25,
    "start_time": "2023-02-21T08:23:35.002Z"
   },
   {
    "duration": 44,
    "start_time": "2023-02-21T08:23:35.030Z"
   },
   {
    "duration": 10,
    "start_time": "2023-02-21T08:23:35.077Z"
   },
   {
    "duration": 173,
    "start_time": "2023-02-21T08:23:35.089Z"
   },
   {
    "duration": 3528,
    "start_time": "2023-02-21T08:23:35.264Z"
   },
   {
    "duration": 7966,
    "start_time": "2023-02-21T08:23:38.794Z"
   },
   {
    "duration": 24,
    "start_time": "2023-02-21T08:23:46.762Z"
   },
   {
    "duration": 291,
    "start_time": "2023-02-21T08:23:46.788Z"
   },
   {
    "duration": 43,
    "start_time": "2023-02-21T08:23:47.080Z"
   },
   {
    "duration": 255,
    "start_time": "2023-02-21T08:23:47.126Z"
   },
   {
    "duration": 22,
    "start_time": "2023-02-21T08:23:47.382Z"
   },
   {
    "duration": 296,
    "start_time": "2023-02-21T08:23:47.406Z"
   },
   {
    "duration": 40,
    "start_time": "2023-02-21T08:23:47.703Z"
   },
   {
    "duration": 200,
    "start_time": "2023-02-21T08:23:47.822Z"
   },
   {
    "duration": 203,
    "start_time": "2023-02-21T08:23:48.024Z"
   },
   {
    "duration": 217,
    "start_time": "2023-02-21T08:23:48.234Z"
   },
   {
    "duration": 109,
    "start_time": "2023-02-21T08:27:56.904Z"
   },
   {
    "duration": 112,
    "start_time": "2023-02-21T08:28:14.240Z"
   },
   {
    "duration": 34,
    "start_time": "2023-02-21T08:43:04.124Z"
   },
   {
    "duration": 408,
    "start_time": "2023-02-21T08:43:06.980Z"
   },
   {
    "duration": 29,
    "start_time": "2023-02-21T08:43:10.948Z"
   },
   {
    "duration": 27,
    "start_time": "2023-02-21T08:45:28.869Z"
   },
   {
    "duration": 381,
    "start_time": "2023-02-21T08:45:30.748Z"
   },
   {
    "duration": 91,
    "start_time": "2023-02-21T08:45:32.829Z"
   },
   {
    "duration": 379,
    "start_time": "2023-02-21T08:46:02.500Z"
   },
   {
    "duration": 52,
    "start_time": "2023-02-21T08:46:04.468Z"
   },
   {
    "duration": 28,
    "start_time": "2023-02-21T08:46:35.253Z"
   },
   {
    "duration": 450,
    "start_time": "2023-02-21T08:46:46.268Z"
   },
   {
    "duration": 81,
    "start_time": "2023-02-21T08:46:56.340Z"
   },
   {
    "duration": 1525,
    "start_time": "2023-02-21T08:47:17.929Z"
   },
   {
    "duration": 42,
    "start_time": "2023-02-21T08:47:19.456Z"
   },
   {
    "duration": 19,
    "start_time": "2023-02-21T08:47:19.500Z"
   },
   {
    "duration": 36,
    "start_time": "2023-02-21T08:47:19.524Z"
   },
   {
    "duration": 31,
    "start_time": "2023-02-21T08:47:19.562Z"
   },
   {
    "duration": 21,
    "start_time": "2023-02-21T08:47:19.594Z"
   },
   {
    "duration": 29,
    "start_time": "2023-02-21T08:47:19.617Z"
   },
   {
    "duration": 23,
    "start_time": "2023-02-21T08:47:19.648Z"
   },
   {
    "duration": 44,
    "start_time": "2023-02-21T08:47:19.673Z"
   },
   {
    "duration": 47,
    "start_time": "2023-02-21T08:47:19.727Z"
   },
   {
    "duration": 27,
    "start_time": "2023-02-21T08:47:19.777Z"
   },
   {
    "duration": 36,
    "start_time": "2023-02-21T08:47:19.806Z"
   },
   {
    "duration": 29,
    "start_time": "2023-02-21T08:47:19.845Z"
   },
   {
    "duration": 26,
    "start_time": "2023-02-21T08:47:19.876Z"
   },
   {
    "duration": 56,
    "start_time": "2023-02-21T08:47:19.904Z"
   },
   {
    "duration": 43,
    "start_time": "2023-02-21T08:47:19.962Z"
   },
   {
    "duration": 36,
    "start_time": "2023-02-21T08:47:20.006Z"
   },
   {
    "duration": 136,
    "start_time": "2023-02-21T08:47:20.044Z"
   },
   {
    "duration": 3344,
    "start_time": "2023-02-21T08:47:20.181Z"
   },
   {
    "duration": 6918,
    "start_time": "2023-02-21T08:47:23.527Z"
   },
   {
    "duration": 20,
    "start_time": "2023-02-21T08:47:30.447Z"
   },
   {
    "duration": 278,
    "start_time": "2023-02-21T08:47:30.469Z"
   },
   {
    "duration": 23,
    "start_time": "2023-02-21T08:47:30.749Z"
   },
   {
    "duration": 250,
    "start_time": "2023-02-21T08:47:30.773Z"
   },
   {
    "duration": 21,
    "start_time": "2023-02-21T08:47:31.025Z"
   },
   {
    "duration": 280,
    "start_time": "2023-02-21T08:47:31.048Z"
   },
   {
    "duration": 24,
    "start_time": "2023-02-21T08:47:31.329Z"
   },
   {
    "duration": 266,
    "start_time": "2023-02-21T08:47:31.356Z"
   },
   {
    "duration": 179,
    "start_time": "2023-02-21T08:47:31.625Z"
   },
   {
    "duration": 39,
    "start_time": "2023-02-21T08:47:31.806Z"
   },
   {
    "duration": 213,
    "start_time": "2023-02-21T08:47:31.921Z"
   },
   {
    "duration": 25,
    "start_time": "2023-02-21T08:47:32.136Z"
   },
   {
    "duration": 347,
    "start_time": "2023-02-21T08:47:32.163Z"
   },
   {
    "duration": 38,
    "start_time": "2023-02-21T08:47:32.512Z"
   },
   {
    "duration": 186,
    "start_time": "2023-02-21T08:48:09.236Z"
   },
   {
    "duration": 44,
    "start_time": "2023-02-21T08:48:17.542Z"
   },
   {
    "duration": 44,
    "start_time": "2023-02-21T08:48:21.405Z"
   },
   {
    "duration": 85,
    "start_time": "2023-02-21T08:48:25.141Z"
   },
   {
    "duration": 85,
    "start_time": "2023-02-21T08:48:29.245Z"
   },
   {
    "duration": 95,
    "start_time": "2023-02-21T08:48:31.349Z"
   },
   {
    "duration": 57,
    "start_time": "2023-02-21T08:48:35.765Z"
   },
   {
    "duration": 170,
    "start_time": "2023-02-21T08:48:37.933Z"
   },
   {
    "duration": 23,
    "start_time": "2023-02-21T08:48:48.629Z"
   },
   {
    "duration": 46,
    "start_time": "2023-02-21T08:49:01.477Z"
   },
   {
    "duration": 97,
    "start_time": "2023-02-21T08:49:02.977Z"
   },
   {
    "duration": 27,
    "start_time": "2023-02-21T08:51:53.566Z"
   },
   {
    "duration": 351,
    "start_time": "2023-02-21T08:51:56.790Z"
   },
   {
    "duration": 29,
    "start_time": "2023-02-21T08:51:59.277Z"
   },
   {
    "duration": 150,
    "start_time": "2023-02-21T08:53:04.281Z"
   },
   {
    "duration": 37,
    "start_time": "2023-02-21T08:53:42.999Z"
   },
   {
    "duration": 36,
    "start_time": "2023-02-21T08:54:34.071Z"
   },
   {
    "duration": 43,
    "start_time": "2023-02-21T08:54:53.550Z"
   },
   {
    "duration": 25,
    "start_time": "2023-02-21T08:56:17.975Z"
   },
   {
    "duration": 37,
    "start_time": "2023-02-21T08:56:23.120Z"
   },
   {
    "duration": 185,
    "start_time": "2023-02-21T08:58:55.472Z"
   },
   {
    "duration": 384,
    "start_time": "2023-02-21T08:59:04.279Z"
   },
   {
    "duration": 111,
    "start_time": "2023-02-21T09:03:22.489Z"
   },
   {
    "duration": 125,
    "start_time": "2023-02-21T09:03:35.449Z"
   },
   {
    "duration": 219,
    "start_time": "2023-02-21T09:03:44.627Z"
   },
   {
    "duration": 172,
    "start_time": "2023-02-21T09:03:56.609Z"
   },
   {
    "duration": 118,
    "start_time": "2023-02-21T09:05:12.193Z"
   },
   {
    "duration": 193,
    "start_time": "2023-02-21T09:06:00.683Z"
   },
   {
    "duration": 210,
    "start_time": "2023-02-21T09:06:11.246Z"
   },
   {
    "duration": 175,
    "start_time": "2023-02-21T09:06:20.046Z"
   },
   {
    "duration": 59,
    "start_time": "2023-02-21T09:06:43.455Z"
   },
   {
    "duration": 183,
    "start_time": "2023-02-21T09:06:51.083Z"
   },
   {
    "duration": 79,
    "start_time": "2023-02-21T09:07:05.307Z"
   },
   {
    "duration": 163,
    "start_time": "2023-02-21T09:07:09.056Z"
   },
   {
    "duration": 221,
    "start_time": "2023-02-21T09:07:23.756Z"
   },
   {
    "duration": 191,
    "start_time": "2023-02-21T09:07:51.446Z"
   },
   {
    "duration": 228,
    "start_time": "2023-02-21T09:08:01.514Z"
   },
   {
    "duration": 238,
    "start_time": "2023-02-21T09:08:02.178Z"
   },
   {
    "duration": 96,
    "start_time": "2023-02-21T09:08:07.946Z"
   },
   {
    "duration": 281,
    "start_time": "2023-02-21T09:08:09.602Z"
   },
   {
    "duration": 101,
    "start_time": "2023-02-21T09:11:43.746Z"
   },
   {
    "duration": 171,
    "start_time": "2023-02-21T09:11:46.068Z"
   },
   {
    "duration": 30,
    "start_time": "2023-02-21T09:11:52.147Z"
   },
   {
    "duration": 175,
    "start_time": "2023-02-21T09:11:54.757Z"
   },
   {
    "duration": 96,
    "start_time": "2023-02-21T09:12:06.747Z"
   },
   {
    "duration": 98,
    "start_time": "2023-02-21T09:12:10.047Z"
   },
   {
    "duration": 66,
    "start_time": "2023-02-21T09:12:13.757Z"
   },
   {
    "duration": 61,
    "start_time": "2023-02-21T09:12:18.275Z"
   },
   {
    "duration": 194,
    "start_time": "2023-02-21T09:12:20.075Z"
   },
   {
    "duration": 50,
    "start_time": "2023-02-21T09:12:23.172Z"
   },
   {
    "duration": 182,
    "start_time": "2023-02-21T09:12:25.268Z"
   },
   {
    "duration": 25,
    "start_time": "2023-02-21T09:12:31.580Z"
   },
   {
    "duration": 157,
    "start_time": "2023-02-21T09:12:32.859Z"
   },
   {
    "duration": 153,
    "start_time": "2023-02-21T09:12:39.342Z"
   },
   {
    "duration": 15,
    "start_time": "2023-02-21T09:13:30.181Z"
   },
   {
    "duration": 29,
    "start_time": "2023-02-21T09:13:38.643Z"
   },
   {
    "duration": 33,
    "start_time": "2023-02-21T09:13:46.195Z"
   },
   {
    "duration": 176,
    "start_time": "2023-02-21T09:13:48.647Z"
   },
   {
    "duration": 14,
    "start_time": "2023-02-21T09:15:03.844Z"
   },
   {
    "duration": 19,
    "start_time": "2023-02-21T09:16:38.686Z"
   },
   {
    "duration": 592,
    "start_time": "2023-02-21T09:17:10.895Z"
   },
   {
    "duration": 570,
    "start_time": "2023-02-21T09:18:02.540Z"
   },
   {
    "duration": 552,
    "start_time": "2023-02-21T09:20:08.687Z"
   },
   {
    "duration": 547,
    "start_time": "2023-02-21T09:20:41.542Z"
   },
   {
    "duration": 235,
    "start_time": "2023-02-21T09:23:02.295Z"
   },
   {
    "duration": 6706,
    "start_time": "2023-02-21T09:23:12.840Z"
   },
   {
    "duration": 86,
    "start_time": "2023-02-21T09:24:42.344Z"
   },
   {
    "duration": 1020,
    "start_time": "2023-02-21T09:32:55.315Z"
   },
   {
    "duration": 342,
    "start_time": "2023-02-21T09:33:14.808Z"
   },
   {
    "duration": 1447,
    "start_time": "2023-02-21T09:33:28.439Z"
   },
   {
    "duration": 49,
    "start_time": "2023-02-21T09:33:29.887Z"
   },
   {
    "duration": 18,
    "start_time": "2023-02-21T09:33:29.938Z"
   },
   {
    "duration": 22,
    "start_time": "2023-02-21T09:33:29.959Z"
   },
   {
    "duration": 10,
    "start_time": "2023-02-21T09:33:29.983Z"
   },
   {
    "duration": 39,
    "start_time": "2023-02-21T09:33:29.995Z"
   },
   {
    "duration": 19,
    "start_time": "2023-02-21T09:33:30.037Z"
   },
   {
    "duration": 10,
    "start_time": "2023-02-21T09:33:30.058Z"
   },
   {
    "duration": 13,
    "start_time": "2023-02-21T09:33:30.070Z"
   },
   {
    "duration": 19,
    "start_time": "2023-02-21T09:33:30.087Z"
   },
   {
    "duration": 50,
    "start_time": "2023-02-21T09:33:30.108Z"
   },
   {
    "duration": 23,
    "start_time": "2023-02-21T09:33:30.161Z"
   },
   {
    "duration": 63,
    "start_time": "2023-02-21T09:33:30.186Z"
   },
   {
    "duration": 36,
    "start_time": "2023-02-21T09:33:30.251Z"
   },
   {
    "duration": 67,
    "start_time": "2023-02-21T09:33:30.289Z"
   },
   {
    "duration": 51,
    "start_time": "2023-02-21T09:33:30.358Z"
   },
   {
    "duration": 8,
    "start_time": "2023-02-21T09:33:30.410Z"
   },
   {
    "duration": 159,
    "start_time": "2023-02-21T09:33:30.420Z"
   },
   {
    "duration": 0,
    "start_time": "2023-02-21T09:33:30.581Z"
   },
   {
    "duration": 0,
    "start_time": "2023-02-21T09:33:30.583Z"
   },
   {
    "duration": 0,
    "start_time": "2023-02-21T09:33:30.584Z"
   },
   {
    "duration": 0,
    "start_time": "2023-02-21T09:33:30.585Z"
   },
   {
    "duration": 0,
    "start_time": "2023-02-21T09:33:30.586Z"
   },
   {
    "duration": 0,
    "start_time": "2023-02-21T09:33:30.587Z"
   },
   {
    "duration": 0,
    "start_time": "2023-02-21T09:33:30.588Z"
   },
   {
    "duration": 0,
    "start_time": "2023-02-21T09:33:30.589Z"
   },
   {
    "duration": 0,
    "start_time": "2023-02-21T09:33:30.590Z"
   },
   {
    "duration": 0,
    "start_time": "2023-02-21T09:33:30.591Z"
   },
   {
    "duration": 0,
    "start_time": "2023-02-21T09:33:30.592Z"
   },
   {
    "duration": 0,
    "start_time": "2023-02-21T09:33:30.594Z"
   },
   {
    "duration": 0,
    "start_time": "2023-02-21T09:33:30.594Z"
   },
   {
    "duration": 0,
    "start_time": "2023-02-21T09:33:30.595Z"
   },
   {
    "duration": 0,
    "start_time": "2023-02-21T09:33:30.596Z"
   },
   {
    "duration": 0,
    "start_time": "2023-02-21T09:33:30.597Z"
   },
   {
    "duration": 0,
    "start_time": "2023-02-21T09:33:30.621Z"
   },
   {
    "duration": 0,
    "start_time": "2023-02-21T09:33:30.623Z"
   },
   {
    "duration": 0,
    "start_time": "2023-02-21T09:33:30.624Z"
   },
   {
    "duration": 0,
    "start_time": "2023-02-21T09:33:30.626Z"
   },
   {
    "duration": 126,
    "start_time": "2023-02-21T09:33:45.835Z"
   },
   {
    "duration": 3417,
    "start_time": "2023-02-21T09:34:00.283Z"
   },
   {
    "duration": 1488,
    "start_time": "2023-02-21T09:34:48.317Z"
   },
   {
    "duration": 58,
    "start_time": "2023-02-21T09:34:49.807Z"
   },
   {
    "duration": 18,
    "start_time": "2023-02-21T09:34:49.867Z"
   },
   {
    "duration": 27,
    "start_time": "2023-02-21T09:34:49.888Z"
   },
   {
    "duration": 22,
    "start_time": "2023-02-21T09:34:49.917Z"
   },
   {
    "duration": 15,
    "start_time": "2023-02-21T09:34:49.942Z"
   },
   {
    "duration": 5,
    "start_time": "2023-02-21T09:34:49.959Z"
   },
   {
    "duration": 8,
    "start_time": "2023-02-21T09:34:49.966Z"
   },
   {
    "duration": 12,
    "start_time": "2023-02-21T09:34:49.976Z"
   },
   {
    "duration": 41,
    "start_time": "2023-02-21T09:34:49.991Z"
   },
   {
    "duration": 16,
    "start_time": "2023-02-21T09:34:50.035Z"
   },
   {
    "duration": 17,
    "start_time": "2023-02-21T09:34:50.053Z"
   },
   {
    "duration": 22,
    "start_time": "2023-02-21T09:34:50.072Z"
   },
   {
    "duration": 10,
    "start_time": "2023-02-21T09:34:50.096Z"
   },
   {
    "duration": 24,
    "start_time": "2023-02-21T09:34:50.108Z"
   },
   {
    "duration": 59,
    "start_time": "2023-02-21T09:34:50.135Z"
   },
   {
    "duration": 8,
    "start_time": "2023-02-21T09:34:50.196Z"
   },
   {
    "duration": 155,
    "start_time": "2023-02-21T09:34:50.205Z"
   },
   {
    "duration": 3318,
    "start_time": "2023-02-21T09:34:50.363Z"
   },
   {
    "duration": 7655,
    "start_time": "2023-02-21T09:34:53.686Z"
   },
   {
    "duration": 23,
    "start_time": "2023-02-21T09:35:01.343Z"
   },
   {
    "duration": 343,
    "start_time": "2023-02-21T09:35:01.368Z"
   },
   {
    "duration": 140,
    "start_time": "2023-02-21T09:35:01.713Z"
   },
   {
    "duration": 324,
    "start_time": "2023-02-21T09:35:01.856Z"
   },
   {
    "duration": 24,
    "start_time": "2023-02-21T09:35:02.183Z"
   },
   {
    "duration": 357,
    "start_time": "2023-02-21T09:35:02.224Z"
   },
   {
    "duration": 138,
    "start_time": "2023-02-21T09:35:02.583Z"
   },
   {
    "duration": 128,
    "start_time": "2023-02-21T09:35:02.726Z"
   },
   {
    "duration": 335,
    "start_time": "2023-02-21T09:35:02.859Z"
   },
   {
    "duration": 127,
    "start_time": "2023-02-21T09:35:03.196Z"
   },
   {
    "duration": 259,
    "start_time": "2023-02-21T09:35:03.326Z"
   },
   {
    "duration": 35,
    "start_time": "2023-02-21T09:35:03.587Z"
   },
   {
    "duration": 421,
    "start_time": "2023-02-21T09:35:03.625Z"
   },
   {
    "duration": 40,
    "start_time": "2023-02-21T09:35:04.049Z"
   },
   {
    "duration": 201,
    "start_time": "2023-02-21T09:35:04.093Z"
   },
   {
    "duration": 740,
    "start_time": "2023-02-21T09:35:04.298Z"
   },
   {
    "duration": 7320,
    "start_time": "2023-02-21T09:35:05.040Z"
   },
   {
    "duration": 68,
    "start_time": "2023-02-21T09:35:12.363Z"
   },
   {
    "duration": 28,
    "start_time": "2023-02-21T09:35:30.300Z"
   },
   {
    "duration": 274,
    "start_time": "2023-02-21T09:35:32.683Z"
   },
   {
    "duration": 38,
    "start_time": "2023-02-21T09:35:35.683Z"
   },
   {
    "duration": 127,
    "start_time": "2023-02-21T09:38:53.434Z"
   },
   {
    "duration": 138,
    "start_time": "2023-02-21T09:39:02.492Z"
   },
   {
    "duration": 3075,
    "start_time": "2023-02-21T09:39:27.333Z"
   },
   {
    "duration": 35,
    "start_time": "2023-02-21T09:41:42.422Z"
   },
   {
    "duration": 271,
    "start_time": "2023-02-21T09:41:45.871Z"
   },
   {
    "duration": 34,
    "start_time": "2023-02-21T09:43:11.185Z"
   },
   {
    "duration": 407,
    "start_time": "2023-02-21T09:54:53.200Z"
   },
   {
    "duration": 4,
    "start_time": "2023-02-21T09:56:26.650Z"
   },
   {
    "duration": 402,
    "start_time": "2023-02-21T09:56:31.400Z"
   },
   {
    "duration": 265,
    "start_time": "2023-02-21T09:59:31.636Z"
   },
   {
    "duration": 776,
    "start_time": "2023-02-21T11:10:36.894Z"
   },
   {
    "duration": 775,
    "start_time": "2023-02-21T11:10:59.576Z"
   },
   {
    "duration": 360,
    "start_time": "2023-02-21T11:11:27.730Z"
   },
   {
    "duration": 407,
    "start_time": "2023-02-21T11:11:34.295Z"
   },
   {
    "duration": 289,
    "start_time": "2023-02-21T11:13:33.576Z"
   },
   {
    "duration": 1458,
    "start_time": "2023-02-21T11:13:46.356Z"
   },
   {
    "duration": 43,
    "start_time": "2023-02-21T11:13:47.816Z"
   },
   {
    "duration": 13,
    "start_time": "2023-02-21T11:13:47.861Z"
   },
   {
    "duration": 18,
    "start_time": "2023-02-21T11:13:47.876Z"
   },
   {
    "duration": 12,
    "start_time": "2023-02-21T11:13:47.896Z"
   },
   {
    "duration": 29,
    "start_time": "2023-02-21T11:13:47.910Z"
   },
   {
    "duration": 7,
    "start_time": "2023-02-21T11:13:47.940Z"
   },
   {
    "duration": 9,
    "start_time": "2023-02-21T11:13:47.948Z"
   },
   {
    "duration": 13,
    "start_time": "2023-02-21T11:13:47.958Z"
   },
   {
    "duration": 12,
    "start_time": "2023-02-21T11:13:47.973Z"
   },
   {
    "duration": 38,
    "start_time": "2023-02-21T11:13:47.987Z"
   },
   {
    "duration": 20,
    "start_time": "2023-02-21T11:13:48.027Z"
   },
   {
    "duration": 11,
    "start_time": "2023-02-21T11:13:48.049Z"
   },
   {
    "duration": 6,
    "start_time": "2023-02-21T11:13:48.064Z"
   },
   {
    "duration": 11,
    "start_time": "2023-02-21T11:13:48.072Z"
   },
   {
    "duration": 57,
    "start_time": "2023-02-21T11:13:48.084Z"
   },
   {
    "duration": 11,
    "start_time": "2023-02-21T11:13:48.143Z"
   },
   {
    "duration": 164,
    "start_time": "2023-02-21T11:13:48.157Z"
   },
   {
    "duration": 0,
    "start_time": "2023-02-21T11:13:48.323Z"
   },
   {
    "duration": 0,
    "start_time": "2023-02-21T11:13:48.326Z"
   },
   {
    "duration": 0,
    "start_time": "2023-02-21T11:13:48.326Z"
   },
   {
    "duration": 0,
    "start_time": "2023-02-21T11:13:48.327Z"
   },
   {
    "duration": 0,
    "start_time": "2023-02-21T11:13:48.327Z"
   },
   {
    "duration": 0,
    "start_time": "2023-02-21T11:13:48.328Z"
   },
   {
    "duration": 0,
    "start_time": "2023-02-21T11:13:48.329Z"
   },
   {
    "duration": 0,
    "start_time": "2023-02-21T11:13:48.330Z"
   },
   {
    "duration": 0,
    "start_time": "2023-02-21T11:13:48.332Z"
   },
   {
    "duration": 0,
    "start_time": "2023-02-21T11:13:48.333Z"
   },
   {
    "duration": 0,
    "start_time": "2023-02-21T11:13:48.333Z"
   },
   {
    "duration": 0,
    "start_time": "2023-02-21T11:13:48.334Z"
   },
   {
    "duration": 0,
    "start_time": "2023-02-21T11:13:48.335Z"
   },
   {
    "duration": 0,
    "start_time": "2023-02-21T11:13:48.336Z"
   },
   {
    "duration": 0,
    "start_time": "2023-02-21T11:13:48.337Z"
   },
   {
    "duration": 0,
    "start_time": "2023-02-21T11:13:48.338Z"
   },
   {
    "duration": 0,
    "start_time": "2023-02-21T11:13:48.339Z"
   },
   {
    "duration": 0,
    "start_time": "2023-02-21T11:13:48.351Z"
   },
   {
    "duration": 0,
    "start_time": "2023-02-21T11:13:48.352Z"
   },
   {
    "duration": 1382,
    "start_time": "2023-02-21T11:15:27.782Z"
   },
   {
    "duration": 49,
    "start_time": "2023-02-21T11:15:29.167Z"
   },
   {
    "duration": 22,
    "start_time": "2023-02-21T11:15:29.218Z"
   },
   {
    "duration": 24,
    "start_time": "2023-02-21T11:15:29.243Z"
   },
   {
    "duration": 13,
    "start_time": "2023-02-21T11:15:29.269Z"
   },
   {
    "duration": 12,
    "start_time": "2023-02-21T11:15:29.284Z"
   },
   {
    "duration": 6,
    "start_time": "2023-02-21T11:15:29.299Z"
   },
   {
    "duration": 34,
    "start_time": "2023-02-21T11:15:29.307Z"
   },
   {
    "duration": 17,
    "start_time": "2023-02-21T11:15:29.344Z"
   },
   {
    "duration": 19,
    "start_time": "2023-02-21T11:15:29.365Z"
   },
   {
    "duration": 16,
    "start_time": "2023-02-21T11:15:29.387Z"
   },
   {
    "duration": 26,
    "start_time": "2023-02-21T11:15:29.405Z"
   },
   {
    "duration": 19,
    "start_time": "2023-02-21T11:15:29.433Z"
   },
   {
    "duration": 6,
    "start_time": "2023-02-21T11:15:29.454Z"
   },
   {
    "duration": 16,
    "start_time": "2023-02-21T11:15:29.462Z"
   },
   {
    "duration": 31,
    "start_time": "2023-02-21T11:15:29.480Z"
   },
   {
    "duration": 7,
    "start_time": "2023-02-21T11:15:29.513Z"
   },
   {
    "duration": 131,
    "start_time": "2023-02-21T11:15:29.522Z"
   },
   {
    "duration": 0,
    "start_time": "2023-02-21T11:15:29.655Z"
   },
   {
    "duration": 1,
    "start_time": "2023-02-21T11:15:29.657Z"
   },
   {
    "duration": 0,
    "start_time": "2023-02-21T11:15:29.659Z"
   },
   {
    "duration": 0,
    "start_time": "2023-02-21T11:15:29.661Z"
   },
   {
    "duration": 0,
    "start_time": "2023-02-21T11:15:29.662Z"
   },
   {
    "duration": 0,
    "start_time": "2023-02-21T11:15:29.664Z"
   },
   {
    "duration": 0,
    "start_time": "2023-02-21T11:15:29.665Z"
   },
   {
    "duration": 0,
    "start_time": "2023-02-21T11:15:29.667Z"
   },
   {
    "duration": 0,
    "start_time": "2023-02-21T11:15:29.668Z"
   },
   {
    "duration": 1,
    "start_time": "2023-02-21T11:15:29.669Z"
   },
   {
    "duration": 0,
    "start_time": "2023-02-21T11:15:29.671Z"
   },
   {
    "duration": 0,
    "start_time": "2023-02-21T11:15:29.672Z"
   },
   {
    "duration": 0,
    "start_time": "2023-02-21T11:15:29.675Z"
   },
   {
    "duration": 0,
    "start_time": "2023-02-21T11:15:29.676Z"
   },
   {
    "duration": 0,
    "start_time": "2023-02-21T11:15:29.678Z"
   },
   {
    "duration": 0,
    "start_time": "2023-02-21T11:15:29.679Z"
   },
   {
    "duration": 0,
    "start_time": "2023-02-21T11:15:29.728Z"
   },
   {
    "duration": 0,
    "start_time": "2023-02-21T11:15:29.730Z"
   },
   {
    "duration": 0,
    "start_time": "2023-02-21T11:15:29.731Z"
   },
   {
    "duration": 26,
    "start_time": "2023-02-21T11:16:24.542Z"
   },
   {
    "duration": 87,
    "start_time": "2023-02-21T11:16:52.617Z"
   },
   {
    "duration": 3,
    "start_time": "2023-02-21T11:17:06.995Z"
   },
   {
    "duration": 18,
    "start_time": "2023-02-21T11:17:12.857Z"
   },
   {
    "duration": 1665,
    "start_time": "2023-02-21T11:17:33.386Z"
   },
   {
    "duration": 56,
    "start_time": "2023-02-21T11:17:35.053Z"
   },
   {
    "duration": 31,
    "start_time": "2023-02-21T11:17:35.112Z"
   },
   {
    "duration": 62,
    "start_time": "2023-02-21T11:17:35.146Z"
   },
   {
    "duration": 37,
    "start_time": "2023-02-21T11:17:35.210Z"
   },
   {
    "duration": 18,
    "start_time": "2023-02-21T11:17:35.249Z"
   },
   {
    "duration": 5,
    "start_time": "2023-02-21T11:17:35.269Z"
   },
   {
    "duration": 10,
    "start_time": "2023-02-21T11:17:35.276Z"
   },
   {
    "duration": 17,
    "start_time": "2023-02-21T11:17:35.288Z"
   },
   {
    "duration": 28,
    "start_time": "2023-02-21T11:17:35.309Z"
   },
   {
    "duration": 18,
    "start_time": "2023-02-21T11:17:35.346Z"
   },
   {
    "duration": 5,
    "start_time": "2023-02-21T11:17:35.366Z"
   },
   {
    "duration": 15,
    "start_time": "2023-02-21T11:17:35.373Z"
   },
   {
    "duration": 9,
    "start_time": "2023-02-21T11:17:35.391Z"
   },
   {
    "duration": 31,
    "start_time": "2023-02-21T11:17:35.402Z"
   },
   {
    "duration": 47,
    "start_time": "2023-02-21T11:17:35.438Z"
   },
   {
    "duration": 8,
    "start_time": "2023-02-21T11:17:35.488Z"
   },
   {
    "duration": 162,
    "start_time": "2023-02-21T11:17:35.497Z"
   },
   {
    "duration": 0,
    "start_time": "2023-02-21T11:17:35.661Z"
   },
   {
    "duration": 0,
    "start_time": "2023-02-21T11:17:35.663Z"
   },
   {
    "duration": 0,
    "start_time": "2023-02-21T11:17:35.664Z"
   },
   {
    "duration": 0,
    "start_time": "2023-02-21T11:17:35.667Z"
   },
   {
    "duration": 1,
    "start_time": "2023-02-21T11:17:35.668Z"
   },
   {
    "duration": 0,
    "start_time": "2023-02-21T11:17:35.669Z"
   },
   {
    "duration": 0,
    "start_time": "2023-02-21T11:17:35.671Z"
   },
   {
    "duration": 0,
    "start_time": "2023-02-21T11:17:35.673Z"
   },
   {
    "duration": 0,
    "start_time": "2023-02-21T11:17:35.674Z"
   },
   {
    "duration": 0,
    "start_time": "2023-02-21T11:17:35.676Z"
   },
   {
    "duration": 0,
    "start_time": "2023-02-21T11:17:35.678Z"
   },
   {
    "duration": 0,
    "start_time": "2023-02-21T11:17:35.679Z"
   },
   {
    "duration": 0,
    "start_time": "2023-02-21T11:17:35.680Z"
   },
   {
    "duration": 1,
    "start_time": "2023-02-21T11:17:35.681Z"
   },
   {
    "duration": 0,
    "start_time": "2023-02-21T11:17:35.683Z"
   },
   {
    "duration": 0,
    "start_time": "2023-02-21T11:17:35.722Z"
   },
   {
    "duration": 13,
    "start_time": "2023-02-21T11:17:55.464Z"
   },
   {
    "duration": 31,
    "start_time": "2023-02-21T11:17:59.656Z"
   },
   {
    "duration": 27,
    "start_time": "2023-02-21T11:18:04.851Z"
   },
   {
    "duration": 24,
    "start_time": "2023-02-21T11:18:42.161Z"
   },
   {
    "duration": 113,
    "start_time": "2023-02-21T11:19:03.592Z"
   },
   {
    "duration": 21,
    "start_time": "2023-02-21T11:19:42.993Z"
   },
   {
    "duration": 144,
    "start_time": "2023-02-21T11:19:50.046Z"
   },
   {
    "duration": 124,
    "start_time": "2023-02-21T11:21:22.769Z"
   },
   {
    "duration": 1514,
    "start_time": "2023-02-21T11:21:38.593Z"
   },
   {
    "duration": 70,
    "start_time": "2023-02-21T11:21:40.109Z"
   },
   {
    "duration": 16,
    "start_time": "2023-02-21T11:21:40.181Z"
   },
   {
    "duration": 34,
    "start_time": "2023-02-21T11:21:40.199Z"
   },
   {
    "duration": 42,
    "start_time": "2023-02-21T11:21:40.234Z"
   },
   {
    "duration": 14,
    "start_time": "2023-02-21T11:21:40.278Z"
   },
   {
    "duration": 5,
    "start_time": "2023-02-21T11:21:40.294Z"
   },
   {
    "duration": 12,
    "start_time": "2023-02-21T11:21:40.301Z"
   },
   {
    "duration": 14,
    "start_time": "2023-02-21T11:21:40.315Z"
   },
   {
    "duration": 43,
    "start_time": "2023-02-21T11:21:40.336Z"
   },
   {
    "duration": 15,
    "start_time": "2023-02-21T11:21:40.380Z"
   },
   {
    "duration": 8,
    "start_time": "2023-02-21T11:21:40.398Z"
   },
   {
    "duration": 22,
    "start_time": "2023-02-21T11:21:40.408Z"
   },
   {
    "duration": 28,
    "start_time": "2023-02-21T11:21:40.432Z"
   },
   {
    "duration": 12,
    "start_time": "2023-02-21T11:21:40.462Z"
   },
   {
    "duration": 32,
    "start_time": "2023-02-21T11:21:40.475Z"
   },
   {
    "duration": 7,
    "start_time": "2023-02-21T11:21:40.509Z"
   },
   {
    "duration": 173,
    "start_time": "2023-02-21T11:21:40.518Z"
   },
   {
    "duration": 257,
    "start_time": "2023-02-21T11:21:40.693Z"
   },
   {
    "duration": 0,
    "start_time": "2023-02-21T11:21:40.952Z"
   },
   {
    "duration": 0,
    "start_time": "2023-02-21T11:21:40.953Z"
   },
   {
    "duration": 0,
    "start_time": "2023-02-21T11:21:40.954Z"
   },
   {
    "duration": 0,
    "start_time": "2023-02-21T11:21:40.955Z"
   },
   {
    "duration": 0,
    "start_time": "2023-02-21T11:21:40.956Z"
   },
   {
    "duration": 0,
    "start_time": "2023-02-21T11:21:40.957Z"
   },
   {
    "duration": 0,
    "start_time": "2023-02-21T11:21:40.958Z"
   },
   {
    "duration": 0,
    "start_time": "2023-02-21T11:21:40.958Z"
   },
   {
    "duration": 0,
    "start_time": "2023-02-21T11:21:40.959Z"
   },
   {
    "duration": 0,
    "start_time": "2023-02-21T11:21:40.960Z"
   },
   {
    "duration": 0,
    "start_time": "2023-02-21T11:21:40.962Z"
   },
   {
    "duration": 0,
    "start_time": "2023-02-21T11:21:40.963Z"
   },
   {
    "duration": 0,
    "start_time": "2023-02-21T11:21:40.964Z"
   },
   {
    "duration": 0,
    "start_time": "2023-02-21T11:21:40.965Z"
   },
   {
    "duration": 0,
    "start_time": "2023-02-21T11:21:40.967Z"
   },
   {
    "duration": 3312,
    "start_time": "2023-02-21T11:22:19.946Z"
   },
   {
    "duration": 3455,
    "start_time": "2023-02-21T11:22:53.809Z"
   },
   {
    "duration": 7825,
    "start_time": "2023-02-21T11:23:29.631Z"
   },
   {
    "duration": 63,
    "start_time": "2023-02-21T11:24:45.351Z"
   },
   {
    "duration": 1386,
    "start_time": "2023-02-21T11:24:52.416Z"
   },
   {
    "duration": 62,
    "start_time": "2023-02-21T11:24:53.804Z"
   },
   {
    "duration": 15,
    "start_time": "2023-02-21T11:24:53.868Z"
   },
   {
    "duration": 25,
    "start_time": "2023-02-21T11:24:53.885Z"
   },
   {
    "duration": 59,
    "start_time": "2023-02-21T11:24:53.913Z"
   },
   {
    "duration": 14,
    "start_time": "2023-02-21T11:24:53.975Z"
   },
   {
    "duration": 8,
    "start_time": "2023-02-21T11:24:53.992Z"
   },
   {
    "duration": 31,
    "start_time": "2023-02-21T11:24:54.002Z"
   },
   {
    "duration": 29,
    "start_time": "2023-02-21T11:24:54.038Z"
   },
   {
    "duration": 18,
    "start_time": "2023-02-21T11:24:54.069Z"
   },
   {
    "duration": 16,
    "start_time": "2023-02-21T11:24:54.089Z"
   },
   {
    "duration": 5,
    "start_time": "2023-02-21T11:24:54.107Z"
   },
   {
    "duration": 56,
    "start_time": "2023-02-21T11:24:54.113Z"
   },
   {
    "duration": 12,
    "start_time": "2023-02-21T11:24:54.172Z"
   },
   {
    "duration": 13,
    "start_time": "2023-02-21T11:24:54.186Z"
   },
   {
    "duration": 34,
    "start_time": "2023-02-21T11:24:54.201Z"
   },
   {
    "duration": 10,
    "start_time": "2023-02-21T11:24:54.236Z"
   },
   {
    "duration": 172,
    "start_time": "2023-02-21T11:24:54.247Z"
   },
   {
    "duration": 3458,
    "start_time": "2023-02-21T11:24:54.420Z"
   },
   {
    "duration": 7383,
    "start_time": "2023-02-21T11:24:57.880Z"
   },
   {
    "duration": 20,
    "start_time": "2023-02-21T11:25:05.264Z"
   },
   {
    "duration": 289,
    "start_time": "2023-02-21T11:25:05.286Z"
   },
   {
    "duration": 59,
    "start_time": "2023-02-21T11:25:05.577Z"
   },
   {
    "duration": 300,
    "start_time": "2023-02-21T11:25:05.638Z"
   },
   {
    "duration": 24,
    "start_time": "2023-02-21T11:25:05.943Z"
   },
   {
    "duration": 290,
    "start_time": "2023-02-21T11:25:05.969Z"
   },
   {
    "duration": 21,
    "start_time": "2023-02-21T11:25:06.261Z"
   },
   {
    "duration": 135,
    "start_time": "2023-02-21T11:25:06.327Z"
   },
   {
    "duration": 284,
    "start_time": "2023-02-21T11:25:06.465Z"
   },
   {
    "duration": 85,
    "start_time": "2023-02-21T11:25:06.750Z"
   },
   {
    "duration": 314,
    "start_time": "2023-02-21T11:25:06.839Z"
   },
   {
    "duration": 483,
    "start_time": "2023-02-21T11:25:07.155Z"
   },
   {
    "duration": 6456,
    "start_time": "2023-02-21T11:25:07.648Z"
   },
   {
    "duration": 142,
    "start_time": "2023-02-21T11:25:14.105Z"
   },
   {
    "duration": 8926,
    "start_time": "2023-02-21T11:37:00.815Z"
   },
   {
    "duration": 6342,
    "start_time": "2023-02-21T11:39:55.471Z"
   },
   {
    "duration": 355,
    "start_time": "2023-02-21T11:41:48.288Z"
   },
   {
    "duration": 263,
    "start_time": "2023-02-21T11:42:27.424Z"
   },
   {
    "duration": 257,
    "start_time": "2023-02-21T11:42:39.272Z"
   },
   {
    "duration": 226,
    "start_time": "2023-02-21T11:45:07.162Z"
   },
   {
    "duration": 282,
    "start_time": "2023-02-21T11:45:36.211Z"
   },
   {
    "duration": 242,
    "start_time": "2023-02-21T11:47:50.473Z"
   },
   {
    "duration": 249,
    "start_time": "2023-02-21T11:49:30.633Z"
   },
   {
    "duration": 278,
    "start_time": "2023-02-21T11:52:03.090Z"
   },
   {
    "duration": 251,
    "start_time": "2023-02-21T11:52:51.163Z"
   },
   {
    "duration": 249,
    "start_time": "2023-02-21T11:52:54.233Z"
   },
   {
    "duration": 45,
    "start_time": "2023-02-21T11:53:40.733Z"
   },
   {
    "duration": 7586,
    "start_time": "2023-02-21T11:53:58.698Z"
   },
   {
    "duration": 226,
    "start_time": "2023-02-21T11:54:31.187Z"
   },
   {
    "duration": 266,
    "start_time": "2023-02-21T11:54:39.763Z"
   },
   {
    "duration": 7034,
    "start_time": "2023-02-21T11:54:46.482Z"
   },
   {
    "duration": 222,
    "start_time": "2023-02-21T11:55:47.986Z"
   },
   {
    "duration": 23,
    "start_time": "2023-02-21T11:58:51.726Z"
   },
   {
    "duration": 226,
    "start_time": "2023-02-21T12:05:09.672Z"
   },
   {
    "duration": 233,
    "start_time": "2023-02-21T12:06:03.976Z"
   },
   {
    "duration": 28,
    "start_time": "2023-02-21T12:07:14.582Z"
   },
   {
    "duration": 237,
    "start_time": "2023-02-21T12:07:28.635Z"
   },
   {
    "duration": 103,
    "start_time": "2023-02-21T12:14:00.872Z"
   },
   {
    "duration": 465,
    "start_time": "2023-02-21T12:21:42.349Z"
   },
   {
    "duration": 4,
    "start_time": "2023-02-21T12:21:46.316Z"
   },
   {
    "duration": 336,
    "start_time": "2023-02-21T12:21:46.960Z"
   },
   {
    "duration": 346,
    "start_time": "2023-02-21T12:22:05.980Z"
   },
   {
    "duration": 389,
    "start_time": "2023-02-21T12:24:14.149Z"
   },
   {
    "duration": 334,
    "start_time": "2023-02-21T12:24:23.613Z"
   },
   {
    "duration": 403,
    "start_time": "2023-02-21T12:27:14.654Z"
   },
   {
    "duration": 488,
    "start_time": "2023-02-21T12:29:26.687Z"
   },
   {
    "duration": 369,
    "start_time": "2023-02-21T12:29:36.345Z"
   },
   {
    "duration": 1475,
    "start_time": "2023-02-27T06:19:47.902Z"
   },
   {
    "duration": 166,
    "start_time": "2023-02-27T06:19:49.380Z"
   },
   {
    "duration": 15,
    "start_time": "2023-02-27T06:19:49.547Z"
   },
   {
    "duration": 17,
    "start_time": "2023-02-27T06:19:49.564Z"
   },
   {
    "duration": 11,
    "start_time": "2023-02-27T06:19:49.582Z"
   },
   {
    "duration": 10,
    "start_time": "2023-02-27T06:19:49.595Z"
   },
   {
    "duration": 4,
    "start_time": "2023-02-27T06:19:49.606Z"
   },
   {
    "duration": 7,
    "start_time": "2023-02-27T06:19:49.611Z"
   },
   {
    "duration": 14,
    "start_time": "2023-02-27T06:19:49.620Z"
   },
   {
    "duration": 10,
    "start_time": "2023-02-27T06:19:49.637Z"
   },
   {
    "duration": 9,
    "start_time": "2023-02-27T06:19:49.649Z"
   },
   {
    "duration": 4,
    "start_time": "2023-02-27T06:19:49.660Z"
   },
   {
    "duration": 39,
    "start_time": "2023-02-27T06:19:49.666Z"
   },
   {
    "duration": 4,
    "start_time": "2023-02-27T06:19:49.706Z"
   },
   {
    "duration": 11,
    "start_time": "2023-02-27T06:19:49.712Z"
   },
   {
    "duration": 26,
    "start_time": "2023-02-27T06:19:49.725Z"
   },
   {
    "duration": 7,
    "start_time": "2023-02-27T06:19:49.753Z"
   },
   {
    "duration": 155,
    "start_time": "2023-02-27T06:19:49.761Z"
   },
   {
    "duration": 2938,
    "start_time": "2023-02-27T06:19:49.918Z"
   },
   {
    "duration": 6274,
    "start_time": "2023-02-27T06:19:52.857Z"
   },
   {
    "duration": 21,
    "start_time": "2023-02-27T06:19:59.133Z"
   },
   {
    "duration": 256,
    "start_time": "2023-02-27T06:19:59.156Z"
   },
   {
    "duration": 94,
    "start_time": "2023-02-27T06:19:59.413Z"
   },
   {
    "duration": 161,
    "start_time": "2023-02-27T06:19:59.603Z"
   },
   {
    "duration": 18,
    "start_time": "2023-02-27T06:19:59.766Z"
   },
   {
    "duration": 243,
    "start_time": "2023-02-27T06:19:59.786Z"
   },
   {
    "duration": 20,
    "start_time": "2023-02-27T06:20:00.031Z"
   },
   {
    "duration": 127,
    "start_time": "2023-02-27T06:20:00.108Z"
   },
   {
    "duration": 217,
    "start_time": "2023-02-27T06:20:00.307Z"
   },
   {
    "duration": 79,
    "start_time": "2023-02-27T06:20:00.526Z"
   },
   {
    "duration": 281,
    "start_time": "2023-02-27T06:20:00.608Z"
   },
   {
    "duration": 503,
    "start_time": "2023-02-27T06:20:00.890Z"
   },
   {
    "duration": 5828,
    "start_time": "2023-02-27T06:20:01.395Z"
   },
   {
    "duration": 82,
    "start_time": "2023-02-27T06:20:07.224Z"
   },
   {
    "duration": 7125,
    "start_time": "2023-02-27T06:20:07.309Z"
   },
   {
    "duration": 249,
    "start_time": "2023-02-27T06:20:14.436Z"
   },
   {
    "duration": 136,
    "start_time": "2023-02-27T06:20:14.687Z"
   },
   {
    "duration": 14,
    "start_time": "2023-02-27T06:20:21.355Z"
   },
   {
    "duration": 13,
    "start_time": "2023-02-27T06:21:38.165Z"
   },
   {
    "duration": 20,
    "start_time": "2023-02-27T06:21:47.154Z"
   },
   {
    "duration": 1306,
    "start_time": "2023-02-27T06:22:04.421Z"
   },
   {
    "duration": 40,
    "start_time": "2023-02-27T06:22:05.729Z"
   },
   {
    "duration": 11,
    "start_time": "2023-02-27T06:22:05.771Z"
   },
   {
    "duration": 31,
    "start_time": "2023-02-27T06:22:05.784Z"
   },
   {
    "duration": 10,
    "start_time": "2023-02-27T06:22:05.817Z"
   },
   {
    "duration": 11,
    "start_time": "2023-02-27T06:22:05.829Z"
   },
   {
    "duration": 4,
    "start_time": "2023-02-27T06:22:05.842Z"
   },
   {
    "duration": 9,
    "start_time": "2023-02-27T06:22:05.847Z"
   },
   {
    "duration": 9,
    "start_time": "2023-02-27T06:22:05.858Z"
   },
   {
    "duration": 10,
    "start_time": "2023-02-27T06:22:05.869Z"
   },
   {
    "duration": 27,
    "start_time": "2023-02-27T06:22:05.881Z"
   },
   {
    "duration": 8,
    "start_time": "2023-02-27T06:22:05.909Z"
   },
   {
    "duration": 10,
    "start_time": "2023-02-27T06:22:05.919Z"
   },
   {
    "duration": 9,
    "start_time": "2023-02-27T06:22:05.930Z"
   },
   {
    "duration": 11,
    "start_time": "2023-02-27T06:22:05.940Z"
   },
   {
    "duration": 26,
    "start_time": "2023-02-27T06:22:05.952Z"
   },
   {
    "duration": 29,
    "start_time": "2023-02-27T06:22:05.979Z"
   },
   {
    "duration": 129,
    "start_time": "2023-02-27T06:22:06.010Z"
   },
   {
    "duration": 2859,
    "start_time": "2023-02-27T06:22:06.140Z"
   },
   {
    "duration": 6292,
    "start_time": "2023-02-27T06:22:09.004Z"
   },
   {
    "duration": 20,
    "start_time": "2023-02-27T06:22:15.303Z"
   },
   {
    "duration": 251,
    "start_time": "2023-02-27T06:22:15.325Z"
   },
   {
    "duration": 28,
    "start_time": "2023-02-27T06:22:15.577Z"
   },
   {
    "duration": 329,
    "start_time": "2023-02-27T06:22:15.606Z"
   },
   {
    "duration": 21,
    "start_time": "2023-02-27T06:22:15.937Z"
   },
   {
    "duration": 248,
    "start_time": "2023-02-27T06:22:15.959Z"
   },
   {
    "duration": 19,
    "start_time": "2023-02-27T06:22:16.208Z"
   },
   {
    "duration": 199,
    "start_time": "2023-02-27T06:22:16.305Z"
   },
   {
    "duration": 225,
    "start_time": "2023-02-27T06:22:16.506Z"
   },
   {
    "duration": 72,
    "start_time": "2023-02-27T06:22:16.733Z"
   },
   {
    "duration": 235,
    "start_time": "2023-02-27T06:22:16.807Z"
   },
   {
    "duration": 444,
    "start_time": "2023-02-27T06:22:17.043Z"
   },
   {
    "duration": 5741,
    "start_time": "2023-02-27T06:22:17.489Z"
   },
   {
    "duration": 74,
    "start_time": "2023-02-27T06:22:23.232Z"
   },
   {
    "duration": 7552,
    "start_time": "2023-02-27T06:22:23.308Z"
   },
   {
    "duration": 285,
    "start_time": "2023-02-27T06:22:30.862Z"
   },
   {
    "duration": 143,
    "start_time": "2023-02-27T06:22:31.149Z"
   },
   {
    "duration": 11,
    "start_time": "2023-02-27T06:24:31.222Z"
   },
   {
    "duration": 118,
    "start_time": "2023-02-27T06:32:57.732Z"
   },
   {
    "duration": 12,
    "start_time": "2023-02-27T06:33:47.798Z"
   },
   {
    "duration": 15,
    "start_time": "2023-02-27T06:33:52.127Z"
   },
   {
    "duration": 4,
    "start_time": "2023-02-27T06:34:25.510Z"
   },
   {
    "duration": 7,
    "start_time": "2023-02-27T06:34:35.325Z"
   },
   {
    "duration": 7,
    "start_time": "2023-02-27T06:34:52.910Z"
   },
   {
    "duration": 6,
    "start_time": "2023-02-27T06:35:09.958Z"
   },
   {
    "duration": 7,
    "start_time": "2023-02-27T06:35:50.829Z"
   },
   {
    "duration": 8,
    "start_time": "2023-02-27T06:36:27.630Z"
   },
   {
    "duration": 7,
    "start_time": "2023-02-27T06:37:11.382Z"
   },
   {
    "duration": 5,
    "start_time": "2023-02-27T06:37:21.671Z"
   },
   {
    "duration": 8,
    "start_time": "2023-02-27T06:40:30.936Z"
   },
   {
    "duration": 7,
    "start_time": "2023-02-27T06:42:33.664Z"
   },
   {
    "duration": 10,
    "start_time": "2023-02-27T06:43:13.166Z"
   },
   {
    "duration": 1376,
    "start_time": "2023-02-27T06:44:05.971Z"
   },
   {
    "duration": 39,
    "start_time": "2023-02-27T06:44:07.349Z"
   },
   {
    "duration": 13,
    "start_time": "2023-02-27T06:44:07.390Z"
   },
   {
    "duration": 16,
    "start_time": "2023-02-27T06:44:07.405Z"
   },
   {
    "duration": 11,
    "start_time": "2023-02-27T06:44:07.423Z"
   },
   {
    "duration": 9,
    "start_time": "2023-02-27T06:44:07.435Z"
   },
   {
    "duration": 8,
    "start_time": "2023-02-27T06:44:07.446Z"
   },
   {
    "duration": 11,
    "start_time": "2023-02-27T06:44:07.455Z"
   },
   {
    "duration": 11,
    "start_time": "2023-02-27T06:44:07.468Z"
   },
   {
    "duration": 34,
    "start_time": "2023-02-27T06:44:07.481Z"
   },
   {
    "duration": 13,
    "start_time": "2023-02-27T06:44:07.517Z"
   },
   {
    "duration": 8,
    "start_time": "2023-02-27T06:44:07.532Z"
   },
   {
    "duration": 13,
    "start_time": "2023-02-27T06:44:07.542Z"
   },
   {
    "duration": 5,
    "start_time": "2023-02-27T06:44:07.557Z"
   },
   {
    "duration": 40,
    "start_time": "2023-02-27T06:44:07.564Z"
   },
   {
    "duration": 37,
    "start_time": "2023-02-27T06:44:07.606Z"
   },
   {
    "duration": 6,
    "start_time": "2023-02-27T06:44:07.645Z"
   },
   {
    "duration": 185,
    "start_time": "2023-02-27T06:44:07.653Z"
   },
   {
    "duration": 0,
    "start_time": "2023-02-27T06:44:07.840Z"
   },
   {
    "duration": 0,
    "start_time": "2023-02-27T06:44:07.841Z"
   },
   {
    "duration": 0,
    "start_time": "2023-02-27T06:44:07.843Z"
   },
   {
    "duration": 0,
    "start_time": "2023-02-27T06:44:07.844Z"
   },
   {
    "duration": 0,
    "start_time": "2023-02-27T06:44:07.845Z"
   },
   {
    "duration": 0,
    "start_time": "2023-02-27T06:44:07.846Z"
   },
   {
    "duration": 0,
    "start_time": "2023-02-27T06:44:07.847Z"
   },
   {
    "duration": 0,
    "start_time": "2023-02-27T06:44:07.849Z"
   },
   {
    "duration": 0,
    "start_time": "2023-02-27T06:44:07.850Z"
   },
   {
    "duration": 0,
    "start_time": "2023-02-27T06:44:07.851Z"
   },
   {
    "duration": 0,
    "start_time": "2023-02-27T06:44:07.852Z"
   },
   {
    "duration": 0,
    "start_time": "2023-02-27T06:44:07.853Z"
   },
   {
    "duration": 0,
    "start_time": "2023-02-27T06:44:07.854Z"
   },
   {
    "duration": 0,
    "start_time": "2023-02-27T06:44:07.855Z"
   },
   {
    "duration": 0,
    "start_time": "2023-02-27T06:44:07.856Z"
   },
   {
    "duration": 0,
    "start_time": "2023-02-27T06:44:07.857Z"
   },
   {
    "duration": 0,
    "start_time": "2023-02-27T06:44:07.858Z"
   },
   {
    "duration": 0,
    "start_time": "2023-02-27T06:44:07.859Z"
   },
   {
    "duration": 0,
    "start_time": "2023-02-27T06:44:07.860Z"
   },
   {
    "duration": 19,
    "start_time": "2023-02-27T07:09:53.350Z"
   },
   {
    "duration": 12,
    "start_time": "2023-02-27T07:10:04.003Z"
   },
   {
    "duration": 17,
    "start_time": "2023-02-27T07:10:14.251Z"
   },
   {
    "duration": 56,
    "start_time": "2023-02-27T07:11:15.155Z"
   },
   {
    "duration": 10,
    "start_time": "2023-02-27T07:11:23.001Z"
   },
   {
    "duration": 18,
    "start_time": "2023-02-27T07:11:59.746Z"
   },
   {
    "duration": 21,
    "start_time": "2023-02-27T07:12:37.866Z"
   },
   {
    "duration": 17,
    "start_time": "2023-02-27T07:12:52.585Z"
   },
   {
    "duration": 23,
    "start_time": "2023-02-27T07:20:15.499Z"
   },
   {
    "duration": 16,
    "start_time": "2023-02-27T07:21:04.787Z"
   },
   {
    "duration": 16,
    "start_time": "2023-02-27T07:22:08.020Z"
   },
   {
    "duration": 17,
    "start_time": "2023-02-27T07:22:25.134Z"
   },
   {
    "duration": 12,
    "start_time": "2023-02-27T07:23:31.412Z"
   },
   {
    "duration": 1254,
    "start_time": "2023-02-27T07:23:55.463Z"
   },
   {
    "duration": 43,
    "start_time": "2023-02-27T07:23:56.720Z"
   },
   {
    "duration": 15,
    "start_time": "2023-02-27T07:23:56.765Z"
   },
   {
    "duration": 27,
    "start_time": "2023-02-27T07:23:56.783Z"
   },
   {
    "duration": 13,
    "start_time": "2023-02-27T07:23:56.812Z"
   },
   {
    "duration": 11,
    "start_time": "2023-02-27T07:23:56.827Z"
   },
   {
    "duration": 17,
    "start_time": "2023-02-27T07:23:56.840Z"
   },
   {
    "duration": 9,
    "start_time": "2023-02-27T07:23:56.859Z"
   },
   {
    "duration": 13,
    "start_time": "2023-02-27T07:23:56.870Z"
   },
   {
    "duration": 14,
    "start_time": "2023-02-27T07:23:56.906Z"
   },
   {
    "duration": 14,
    "start_time": "2023-02-27T07:23:56.922Z"
   },
   {
    "duration": 14,
    "start_time": "2023-02-27T07:23:56.938Z"
   },
   {
    "duration": 21,
    "start_time": "2023-02-27T07:23:56.954Z"
   },
   {
    "duration": 6,
    "start_time": "2023-02-27T07:23:56.977Z"
   },
   {
    "duration": 26,
    "start_time": "2023-02-27T07:23:56.985Z"
   },
   {
    "duration": 36,
    "start_time": "2023-02-27T07:23:57.012Z"
   },
   {
    "duration": 7,
    "start_time": "2023-02-27T07:23:57.050Z"
   },
   {
    "duration": 135,
    "start_time": "2023-02-27T07:23:57.059Z"
   },
   {
    "duration": 0,
    "start_time": "2023-02-27T07:23:57.196Z"
   },
   {
    "duration": 0,
    "start_time": "2023-02-27T07:23:57.197Z"
   },
   {
    "duration": 0,
    "start_time": "2023-02-27T07:23:57.198Z"
   },
   {
    "duration": 0,
    "start_time": "2023-02-27T07:23:57.199Z"
   },
   {
    "duration": 0,
    "start_time": "2023-02-27T07:23:57.203Z"
   },
   {
    "duration": 0,
    "start_time": "2023-02-27T07:23:57.204Z"
   },
   {
    "duration": 0,
    "start_time": "2023-02-27T07:23:57.205Z"
   },
   {
    "duration": 0,
    "start_time": "2023-02-27T07:23:57.206Z"
   },
   {
    "duration": 0,
    "start_time": "2023-02-27T07:23:57.207Z"
   },
   {
    "duration": 0,
    "start_time": "2023-02-27T07:23:57.208Z"
   },
   {
    "duration": 0,
    "start_time": "2023-02-27T07:23:57.208Z"
   },
   {
    "duration": 0,
    "start_time": "2023-02-27T07:23:57.210Z"
   },
   {
    "duration": 0,
    "start_time": "2023-02-27T07:23:57.210Z"
   },
   {
    "duration": 0,
    "start_time": "2023-02-27T07:23:57.212Z"
   },
   {
    "duration": 0,
    "start_time": "2023-02-27T07:23:57.213Z"
   },
   {
    "duration": 0,
    "start_time": "2023-02-27T07:23:57.214Z"
   },
   {
    "duration": 0,
    "start_time": "2023-02-27T07:23:57.215Z"
   },
   {
    "duration": 0,
    "start_time": "2023-02-27T07:23:57.216Z"
   },
   {
    "duration": 0,
    "start_time": "2023-02-27T07:23:57.217Z"
   },
   {
    "duration": 5,
    "start_time": "2023-02-27T07:31:16.198Z"
   },
   {
    "duration": 1241,
    "start_time": "2023-02-27T07:32:03.651Z"
   },
   {
    "duration": 40,
    "start_time": "2023-02-27T07:32:04.896Z"
   },
   {
    "duration": 14,
    "start_time": "2023-02-27T07:32:04.938Z"
   },
   {
    "duration": 18,
    "start_time": "2023-02-27T07:32:04.953Z"
   },
   {
    "duration": 10,
    "start_time": "2023-02-27T07:32:04.972Z"
   },
   {
    "duration": 8,
    "start_time": "2023-02-27T07:32:04.983Z"
   },
   {
    "duration": 20,
    "start_time": "2023-02-27T07:32:04.993Z"
   },
   {
    "duration": 6,
    "start_time": "2023-02-27T07:32:05.014Z"
   },
   {
    "duration": 6,
    "start_time": "2023-02-27T07:32:05.023Z"
   },
   {
    "duration": 25,
    "start_time": "2023-02-27T07:32:05.030Z"
   },
   {
    "duration": 11,
    "start_time": "2023-02-27T07:32:05.056Z"
   },
   {
    "duration": 16,
    "start_time": "2023-02-27T07:32:05.071Z"
   },
   {
    "duration": 16,
    "start_time": "2023-02-27T07:32:05.088Z"
   },
   {
    "duration": 11,
    "start_time": "2023-02-27T07:32:05.106Z"
   },
   {
    "duration": 5,
    "start_time": "2023-02-27T07:32:05.119Z"
   },
   {
    "duration": 13,
    "start_time": "2023-02-27T07:32:05.126Z"
   },
   {
    "duration": 26,
    "start_time": "2023-02-27T07:32:05.141Z"
   },
   {
    "duration": 6,
    "start_time": "2023-02-27T07:32:05.169Z"
   },
   {
    "duration": 161,
    "start_time": "2023-02-27T07:32:05.176Z"
   },
   {
    "duration": 2905,
    "start_time": "2023-02-27T07:32:05.339Z"
   },
   {
    "duration": 6248,
    "start_time": "2023-02-27T07:32:08.245Z"
   },
   {
    "duration": 25,
    "start_time": "2023-02-27T07:32:14.495Z"
   },
   {
    "duration": 293,
    "start_time": "2023-02-27T07:32:14.521Z"
   },
   {
    "duration": 89,
    "start_time": "2023-02-27T07:32:14.815Z"
   },
   {
    "duration": 293,
    "start_time": "2023-02-27T07:32:14.907Z"
   },
   {
    "duration": 23,
    "start_time": "2023-02-27T07:32:15.203Z"
   },
   {
    "duration": 270,
    "start_time": "2023-02-27T07:32:15.230Z"
   },
   {
    "duration": 107,
    "start_time": "2023-02-27T07:32:15.503Z"
   },
   {
    "duration": 102,
    "start_time": "2023-02-27T07:32:15.703Z"
   },
   {
    "duration": 218,
    "start_time": "2023-02-27T07:32:15.807Z"
   },
   {
    "duration": 78,
    "start_time": "2023-02-27T07:32:16.026Z"
   },
   {
    "duration": 304,
    "start_time": "2023-02-27T07:32:16.107Z"
   },
   {
    "duration": 477,
    "start_time": "2023-02-27T07:32:16.413Z"
   },
   {
    "duration": 5727,
    "start_time": "2023-02-27T07:32:16.891Z"
   },
   {
    "duration": 86,
    "start_time": "2023-02-27T07:32:22.619Z"
   },
   {
    "duration": 7630,
    "start_time": "2023-02-27T07:32:22.708Z"
   },
   {
    "duration": 278,
    "start_time": "2023-02-27T07:32:30.340Z"
   },
   {
    "duration": 149,
    "start_time": "2023-02-27T07:32:30.620Z"
   },
   {
    "duration": 119,
    "start_time": "2023-02-27T08:10:20.411Z"
   },
   {
    "duration": 116,
    "start_time": "2023-02-27T08:10:39.971Z"
   },
   {
    "duration": 118,
    "start_time": "2023-02-27T08:10:55.839Z"
   },
   {
    "duration": 130,
    "start_time": "2023-02-27T08:12:56.090Z"
   },
   {
    "duration": 118,
    "start_time": "2023-02-27T08:14:37.820Z"
   },
   {
    "duration": 18,
    "start_time": "2023-02-27T08:16:00.509Z"
   },
   {
    "duration": 21,
    "start_time": "2023-02-27T08:16:11.412Z"
   },
   {
    "duration": 113,
    "start_time": "2023-02-27T08:16:21.852Z"
   },
   {
    "duration": 2997,
    "start_time": "2023-02-27T08:18:54.821Z"
   },
   {
    "duration": 1315,
    "start_time": "2023-02-27T08:19:03.186Z"
   },
   {
    "duration": 39,
    "start_time": "2023-02-27T08:19:04.503Z"
   },
   {
    "duration": 13,
    "start_time": "2023-02-27T08:19:04.544Z"
   },
   {
    "duration": 16,
    "start_time": "2023-02-27T08:19:04.559Z"
   },
   {
    "duration": 11,
    "start_time": "2023-02-27T08:19:04.576Z"
   },
   {
    "duration": 9,
    "start_time": "2023-02-27T08:19:04.589Z"
   },
   {
    "duration": 12,
    "start_time": "2023-02-27T08:19:04.603Z"
   },
   {
    "duration": 4,
    "start_time": "2023-02-27T08:19:04.616Z"
   },
   {
    "duration": 7,
    "start_time": "2023-02-27T08:19:04.621Z"
   },
   {
    "duration": 8,
    "start_time": "2023-02-27T08:19:04.631Z"
   },
   {
    "duration": 9,
    "start_time": "2023-02-27T08:19:04.641Z"
   },
   {
    "duration": 9,
    "start_time": "2023-02-27T08:19:04.652Z"
   },
   {
    "duration": 42,
    "start_time": "2023-02-27T08:19:04.662Z"
   },
   {
    "duration": 11,
    "start_time": "2023-02-27T08:19:04.706Z"
   },
   {
    "duration": 7,
    "start_time": "2023-02-27T08:19:04.718Z"
   },
   {
    "duration": 15,
    "start_time": "2023-02-27T08:19:04.726Z"
   },
   {
    "duration": 27,
    "start_time": "2023-02-27T08:19:04.743Z"
   },
   {
    "duration": 6,
    "start_time": "2023-02-27T08:19:04.772Z"
   },
   {
    "duration": 137,
    "start_time": "2023-02-27T08:19:04.779Z"
   },
   {
    "duration": 2910,
    "start_time": "2023-02-27T08:19:04.917Z"
   },
   {
    "duration": 6253,
    "start_time": "2023-02-27T08:19:07.828Z"
   },
   {
    "duration": 24,
    "start_time": "2023-02-27T08:19:14.083Z"
   },
   {
    "duration": 250,
    "start_time": "2023-02-27T08:19:14.108Z"
   },
   {
    "duration": 50,
    "start_time": "2023-02-27T08:19:14.360Z"
   },
   {
    "duration": 245,
    "start_time": "2023-02-27T08:19:14.412Z"
   },
   {
    "duration": 21,
    "start_time": "2023-02-27T08:19:14.659Z"
   },
   {
    "duration": 264,
    "start_time": "2023-02-27T08:19:14.681Z"
   },
   {
    "duration": 59,
    "start_time": "2023-02-27T08:19:14.948Z"
   },
   {
    "duration": 196,
    "start_time": "2023-02-27T08:19:15.010Z"
   },
   {
    "duration": 237,
    "start_time": "2023-02-27T08:19:15.209Z"
   },
   {
    "duration": 60,
    "start_time": "2023-02-27T08:19:15.448Z"
   },
   {
    "duration": 295,
    "start_time": "2023-02-27T08:19:15.510Z"
   },
   {
    "duration": 478,
    "start_time": "2023-02-27T08:19:15.807Z"
   },
   {
    "duration": 6037,
    "start_time": "2023-02-27T08:19:16.286Z"
   },
   {
    "duration": 28,
    "start_time": "2023-02-27T08:19:22.325Z"
   },
   {
    "duration": 7512,
    "start_time": "2023-02-27T08:19:22.407Z"
   },
   {
    "duration": 267,
    "start_time": "2023-02-27T08:19:29.920Z"
   },
   {
    "duration": 151,
    "start_time": "2023-02-27T08:19:30.190Z"
   },
   {
    "duration": 4331,
    "start_time": "2023-02-27T08:19:51.517Z"
   },
   {
    "duration": 7156,
    "start_time": "2023-02-27T08:20:53.764Z"
   },
   {
    "duration": 24,
    "start_time": "2023-02-27T08:29:09.511Z"
   },
   {
    "duration": 23,
    "start_time": "2023-02-27T08:29:22.255Z"
   },
   {
    "duration": 29,
    "start_time": "2023-02-27T08:30:43.535Z"
   },
   {
    "duration": 290,
    "start_time": "2023-02-27T08:31:50.375Z"
   },
   {
    "duration": 44,
    "start_time": "2023-02-27T08:32:53.784Z"
   },
   {
    "duration": 92,
    "start_time": "2023-02-27T08:33:07.313Z"
   },
   {
    "duration": 1437,
    "start_time": "2023-02-27T08:33:46.000Z"
   },
   {
    "duration": 41,
    "start_time": "2023-02-27T08:33:47.439Z"
   },
   {
    "duration": 19,
    "start_time": "2023-02-27T08:33:47.482Z"
   },
   {
    "duration": 18,
    "start_time": "2023-02-27T08:33:47.504Z"
   },
   {
    "duration": 11,
    "start_time": "2023-02-27T08:33:47.524Z"
   },
   {
    "duration": 11,
    "start_time": "2023-02-27T08:33:47.537Z"
   },
   {
    "duration": 14,
    "start_time": "2023-02-27T08:33:47.550Z"
   },
   {
    "duration": 5,
    "start_time": "2023-02-27T08:33:47.565Z"
   },
   {
    "duration": 35,
    "start_time": "2023-02-27T08:33:47.571Z"
   },
   {
    "duration": 10,
    "start_time": "2023-02-27T08:33:47.608Z"
   },
   {
    "duration": 11,
    "start_time": "2023-02-27T08:33:47.620Z"
   },
   {
    "duration": 18,
    "start_time": "2023-02-27T08:33:47.632Z"
   },
   {
    "duration": 9,
    "start_time": "2023-02-27T08:33:47.651Z"
   },
   {
    "duration": 12,
    "start_time": "2023-02-27T08:33:47.662Z"
   },
   {
    "duration": 8,
    "start_time": "2023-02-27T08:33:47.676Z"
   },
   {
    "duration": 28,
    "start_time": "2023-02-27T08:33:47.685Z"
   },
   {
    "duration": 28,
    "start_time": "2023-02-27T08:33:47.714Z"
   },
   {
    "duration": 7,
    "start_time": "2023-02-27T08:33:47.744Z"
   },
   {
    "duration": 156,
    "start_time": "2023-02-27T08:33:47.752Z"
   },
   {
    "duration": 4470,
    "start_time": "2023-02-27T08:33:47.909Z"
   },
   {
    "duration": 7174,
    "start_time": "2023-02-27T08:33:52.381Z"
   },
   {
    "duration": 25,
    "start_time": "2023-02-27T08:33:59.557Z"
   },
   {
    "duration": 294,
    "start_time": "2023-02-27T08:33:59.584Z"
   },
   {
    "duration": 124,
    "start_time": "2023-02-27T08:33:59.880Z"
   },
   {
    "duration": 243,
    "start_time": "2023-02-27T08:34:00.006Z"
   },
   {
    "duration": 21,
    "start_time": "2023-02-27T08:34:00.251Z"
   },
   {
    "duration": 244,
    "start_time": "2023-02-27T08:34:00.274Z"
   },
   {
    "duration": 17,
    "start_time": "2023-02-27T08:34:00.521Z"
   },
   {
    "duration": 211,
    "start_time": "2023-02-27T08:34:00.540Z"
   },
   {
    "duration": 218,
    "start_time": "2023-02-27T08:34:00.803Z"
   },
   {
    "duration": 25,
    "start_time": "2023-02-27T08:34:01.022Z"
   },
   {
    "duration": 230,
    "start_time": "2023-02-27T08:34:01.106Z"
   },
   {
    "duration": 459,
    "start_time": "2023-02-27T08:34:01.338Z"
   },
   {
    "duration": 5953,
    "start_time": "2023-02-27T08:34:01.803Z"
   },
   {
    "duration": 26,
    "start_time": "2023-02-27T08:34:07.757Z"
   },
   {
    "duration": 7411,
    "start_time": "2023-02-27T08:34:07.810Z"
   },
   {
    "duration": 278,
    "start_time": "2023-02-27T08:34:15.223Z"
   },
   {
    "duration": 140,
    "start_time": "2023-02-27T08:34:15.504Z"
   },
   {
    "duration": 21,
    "start_time": "2023-02-27T08:36:57.523Z"
   },
   {
    "duration": 125,
    "start_time": "2023-02-27T08:37:08.377Z"
   },
   {
    "duration": 22,
    "start_time": "2023-02-27T08:37:22.410Z"
   },
   {
    "duration": 287,
    "start_time": "2023-02-27T08:38:48.608Z"
   },
   {
    "duration": 1281,
    "start_time": "2023-02-27T08:39:08.617Z"
   },
   {
    "duration": 39,
    "start_time": "2023-02-27T08:39:09.900Z"
   },
   {
    "duration": 11,
    "start_time": "2023-02-27T08:39:09.941Z"
   },
   {
    "duration": 16,
    "start_time": "2023-02-27T08:39:09.954Z"
   },
   {
    "duration": 10,
    "start_time": "2023-02-27T08:39:09.972Z"
   },
   {
    "duration": 9,
    "start_time": "2023-02-27T08:39:09.983Z"
   },
   {
    "duration": 18,
    "start_time": "2023-02-27T08:39:09.993Z"
   },
   {
    "duration": 8,
    "start_time": "2023-02-27T08:39:10.013Z"
   },
   {
    "duration": 7,
    "start_time": "2023-02-27T08:39:10.023Z"
   },
   {
    "duration": 11,
    "start_time": "2023-02-27T08:39:10.033Z"
   },
   {
    "duration": 12,
    "start_time": "2023-02-27T08:39:10.045Z"
   },
   {
    "duration": 10,
    "start_time": "2023-02-27T08:39:10.058Z"
   },
   {
    "duration": 35,
    "start_time": "2023-02-27T08:39:10.070Z"
   },
   {
    "duration": 12,
    "start_time": "2023-02-27T08:39:10.107Z"
   },
   {
    "duration": 4,
    "start_time": "2023-02-27T08:39:10.121Z"
   },
   {
    "duration": 13,
    "start_time": "2023-02-27T08:39:10.126Z"
   },
   {
    "duration": 25,
    "start_time": "2023-02-27T08:39:10.141Z"
   },
   {
    "duration": 6,
    "start_time": "2023-02-27T08:39:10.168Z"
   },
   {
    "duration": 131,
    "start_time": "2023-02-27T08:39:10.205Z"
   },
   {
    "duration": 4241,
    "start_time": "2023-02-27T08:39:10.338Z"
   },
   {
    "duration": 7026,
    "start_time": "2023-02-27T08:39:14.581Z"
   },
   {
    "duration": 22,
    "start_time": "2023-02-27T08:39:21.609Z"
   },
   {
    "duration": 289,
    "start_time": "2023-02-27T08:39:21.632Z"
   },
   {
    "duration": 85,
    "start_time": "2023-02-27T08:39:21.922Z"
   },
   {
    "duration": 230,
    "start_time": "2023-02-27T08:39:22.009Z"
   },
   {
    "duration": 19,
    "start_time": "2023-02-27T08:39:22.241Z"
   },
   {
    "duration": 244,
    "start_time": "2023-02-27T08:39:22.261Z"
   },
   {
    "duration": 18,
    "start_time": "2023-02-27T08:39:22.508Z"
   },
   {
    "duration": 276,
    "start_time": "2023-02-27T08:39:22.528Z"
   },
   {
    "duration": 209,
    "start_time": "2023-02-27T08:39:22.811Z"
   },
   {
    "duration": 85,
    "start_time": "2023-02-27T08:39:23.022Z"
   },
   {
    "duration": 219,
    "start_time": "2023-02-27T08:39:23.110Z"
   },
   {
    "duration": 440,
    "start_time": "2023-02-27T08:39:23.330Z"
   },
   {
    "duration": 5950,
    "start_time": "2023-02-27T08:39:23.771Z"
   },
   {
    "duration": 25,
    "start_time": "2023-02-27T08:39:29.722Z"
   },
   {
    "duration": 7377,
    "start_time": "2023-02-27T08:39:29.805Z"
   },
   {
    "duration": 260,
    "start_time": "2023-02-27T08:39:37.184Z"
   },
   {
    "duration": 137,
    "start_time": "2023-02-27T08:39:37.446Z"
   },
   {
    "duration": 277,
    "start_time": "2023-02-27T08:39:48.578Z"
   },
   {
    "duration": 99,
    "start_time": "2023-02-27T08:41:26.106Z"
   },
   {
    "duration": 1391,
    "start_time": "2023-02-27T08:41:41.992Z"
   },
   {
    "duration": 41,
    "start_time": "2023-02-27T08:41:43.385Z"
   },
   {
    "duration": 12,
    "start_time": "2023-02-27T08:41:43.427Z"
   },
   {
    "duration": 17,
    "start_time": "2023-02-27T08:41:43.441Z"
   },
   {
    "duration": 10,
    "start_time": "2023-02-27T08:41:43.459Z"
   },
   {
    "duration": 8,
    "start_time": "2023-02-27T08:41:43.471Z"
   },
   {
    "duration": 31,
    "start_time": "2023-02-27T08:41:43.481Z"
   },
   {
    "duration": 4,
    "start_time": "2023-02-27T08:41:43.514Z"
   },
   {
    "duration": 8,
    "start_time": "2023-02-27T08:41:43.520Z"
   },
   {
    "duration": 11,
    "start_time": "2023-02-27T08:41:43.532Z"
   },
   {
    "duration": 12,
    "start_time": "2023-02-27T08:41:43.544Z"
   },
   {
    "duration": 10,
    "start_time": "2023-02-27T08:41:43.558Z"
   },
   {
    "duration": 36,
    "start_time": "2023-02-27T08:41:43.569Z"
   },
   {
    "duration": 15,
    "start_time": "2023-02-27T08:41:43.607Z"
   },
   {
    "duration": 4,
    "start_time": "2023-02-27T08:41:43.624Z"
   },
   {
    "duration": 12,
    "start_time": "2023-02-27T08:41:43.629Z"
   },
   {
    "duration": 26,
    "start_time": "2023-02-27T08:41:43.643Z"
   },
   {
    "duration": 7,
    "start_time": "2023-02-27T08:41:43.670Z"
   },
   {
    "duration": 152,
    "start_time": "2023-02-27T08:41:43.678Z"
   },
   {
    "duration": 4420,
    "start_time": "2023-02-27T08:41:43.832Z"
   },
   {
    "duration": 7438,
    "start_time": "2023-02-27T08:41:48.254Z"
   },
   {
    "duration": 27,
    "start_time": "2023-02-27T08:41:55.693Z"
   },
   {
    "duration": 288,
    "start_time": "2023-02-27T08:41:55.721Z"
   },
   {
    "duration": 95,
    "start_time": "2023-02-27T08:41:56.010Z"
   },
   {
    "duration": 242,
    "start_time": "2023-02-27T08:41:56.114Z"
   },
   {
    "duration": 20,
    "start_time": "2023-02-27T08:41:56.358Z"
   },
   {
    "duration": 255,
    "start_time": "2023-02-27T08:41:56.380Z"
   },
   {
    "duration": 18,
    "start_time": "2023-02-27T08:41:56.638Z"
   },
   {
    "duration": 209,
    "start_time": "2023-02-27T08:41:56.707Z"
   },
   {
    "duration": 207,
    "start_time": "2023-02-27T08:41:57.005Z"
   },
   {
    "duration": 28,
    "start_time": "2023-02-27T08:41:57.213Z"
   },
   {
    "duration": 238,
    "start_time": "2023-02-27T08:41:57.305Z"
   },
   {
    "duration": 446,
    "start_time": "2023-02-27T08:41:57.546Z"
   },
   {
    "duration": 6202,
    "start_time": "2023-02-27T08:41:57.993Z"
   },
   {
    "duration": 111,
    "start_time": "2023-02-27T08:42:04.197Z"
   },
   {
    "duration": 7676,
    "start_time": "2023-02-27T08:42:04.311Z"
   },
   {
    "duration": 270,
    "start_time": "2023-02-27T08:42:11.988Z"
   },
   {
    "duration": 145,
    "start_time": "2023-02-27T08:42:12.260Z"
   },
   {
    "duration": 314,
    "start_time": "2023-02-27T08:43:50.759Z"
   },
   {
    "duration": 322,
    "start_time": "2023-02-27T08:44:30.884Z"
   },
   {
    "duration": 324,
    "start_time": "2023-02-27T08:45:14.849Z"
   },
   {
    "duration": 110,
    "start_time": "2023-02-27T08:46:43.187Z"
   },
   {
    "duration": 31,
    "start_time": "2023-02-27T08:47:13.092Z"
   },
   {
    "duration": 90,
    "start_time": "2023-02-27T08:48:30.517Z"
   },
   {
    "duration": 128,
    "start_time": "2023-02-27T08:48:57.756Z"
   },
   {
    "duration": 19,
    "start_time": "2023-02-27T08:49:47.324Z"
   },
   {
    "duration": 252,
    "start_time": "2023-02-27T08:49:49.693Z"
   },
   {
    "duration": 22,
    "start_time": "2023-02-27T08:49:59.580Z"
   },
   {
    "duration": 26,
    "start_time": "2023-02-27T08:51:54.517Z"
   },
   {
    "duration": 120,
    "start_time": "2023-02-27T08:51:58.255Z"
   },
   {
    "duration": 27,
    "start_time": "2023-02-27T08:52:02.284Z"
   },
   {
    "duration": 132,
    "start_time": "2023-02-27T08:52:05.684Z"
   },
   {
    "duration": 24,
    "start_time": "2023-02-27T08:52:13.396Z"
   },
   {
    "duration": 133,
    "start_time": "2023-02-27T08:52:17.055Z"
   },
   {
    "duration": 28,
    "start_time": "2023-02-27T08:54:49.926Z"
   },
   {
    "duration": 129,
    "start_time": "2023-02-27T08:54:53.205Z"
   },
   {
    "duration": 22,
    "start_time": "2023-02-27T08:54:59.613Z"
   },
   {
    "duration": 125,
    "start_time": "2023-02-27T08:55:02.181Z"
   },
   {
    "duration": 51,
    "start_time": "2023-02-27T08:57:12.526Z"
   },
   {
    "duration": 36,
    "start_time": "2023-02-27T09:13:08.656Z"
   },
   {
    "duration": 32,
    "start_time": "2023-02-27T09:13:27.132Z"
   },
   {
    "duration": 446,
    "start_time": "2023-02-27T09:20:24.693Z"
   },
   {
    "duration": 5966,
    "start_time": "2023-02-27T09:22:20.187Z"
   },
   {
    "duration": 9655,
    "start_time": "2023-02-27T09:24:54.186Z"
   },
   {
    "duration": 138,
    "start_time": "2023-02-27T09:36:57.197Z"
   },
   {
    "duration": 145,
    "start_time": "2023-02-27T09:37:24.686Z"
   },
   {
    "duration": 148,
    "start_time": "2023-02-27T09:42:22.412Z"
   },
   {
    "duration": 40,
    "start_time": "2023-02-27T09:43:06.620Z"
   },
   {
    "duration": 149,
    "start_time": "2023-02-27T09:47:20.788Z"
   },
   {
    "duration": 45,
    "start_time": "2023-02-27T09:49:42.182Z"
   },
   {
    "duration": 171,
    "start_time": "2023-02-27T09:50:23.918Z"
   },
   {
    "duration": 145,
    "start_time": "2023-02-27T09:51:55.461Z"
   },
   {
    "duration": 114,
    "start_time": "2023-02-27T09:52:48.710Z"
   },
   {
    "duration": 1340,
    "start_time": "2023-02-27T09:53:23.927Z"
   },
   {
    "duration": 52,
    "start_time": "2023-02-27T09:53:25.269Z"
   },
   {
    "duration": 19,
    "start_time": "2023-02-27T09:53:25.327Z"
   },
   {
    "duration": 18,
    "start_time": "2023-02-27T09:53:25.348Z"
   },
   {
    "duration": 12,
    "start_time": "2023-02-27T09:53:25.368Z"
   },
   {
    "duration": 31,
    "start_time": "2023-02-27T09:53:25.381Z"
   },
   {
    "duration": 15,
    "start_time": "2023-02-27T09:53:25.413Z"
   },
   {
    "duration": 6,
    "start_time": "2023-02-27T09:53:25.429Z"
   },
   {
    "duration": 15,
    "start_time": "2023-02-27T09:53:25.438Z"
   },
   {
    "duration": 9,
    "start_time": "2023-02-27T09:53:25.454Z"
   },
   {
    "duration": 11,
    "start_time": "2023-02-27T09:53:25.465Z"
   },
   {
    "duration": 34,
    "start_time": "2023-02-27T09:53:25.477Z"
   },
   {
    "duration": 10,
    "start_time": "2023-02-27T09:53:25.513Z"
   },
   {
    "duration": 11,
    "start_time": "2023-02-27T09:53:25.525Z"
   },
   {
    "duration": 7,
    "start_time": "2023-02-27T09:53:25.538Z"
   },
   {
    "duration": 10,
    "start_time": "2023-02-27T09:53:25.546Z"
   },
   {
    "duration": 64,
    "start_time": "2023-02-27T09:53:25.557Z"
   },
   {
    "duration": 7,
    "start_time": "2023-02-27T09:53:25.623Z"
   },
   {
    "duration": 140,
    "start_time": "2023-02-27T09:53:25.631Z"
   },
   {
    "duration": 4667,
    "start_time": "2023-02-27T09:53:25.773Z"
   },
   {
    "duration": 7435,
    "start_time": "2023-02-27T09:53:30.441Z"
   },
   {
    "duration": 36,
    "start_time": "2023-02-27T09:53:37.878Z"
   },
   {
    "duration": 325,
    "start_time": "2023-02-27T09:53:37.915Z"
   },
   {
    "duration": 70,
    "start_time": "2023-02-27T09:53:38.242Z"
   },
   {
    "duration": 336,
    "start_time": "2023-02-27T09:53:38.313Z"
   },
   {
    "duration": 18,
    "start_time": "2023-02-27T09:53:38.651Z"
   },
   {
    "duration": 270,
    "start_time": "2023-02-27T09:53:38.671Z"
   },
   {
    "duration": 67,
    "start_time": "2023-02-27T09:53:38.942Z"
   },
   {
    "duration": 138,
    "start_time": "2023-02-27T09:53:39.011Z"
   },
   {
    "duration": 225,
    "start_time": "2023-02-27T09:53:39.205Z"
   },
   {
    "duration": 21,
    "start_time": "2023-02-27T09:53:39.431Z"
   },
   {
    "duration": 291,
    "start_time": "2023-02-27T09:53:39.454Z"
   },
   {
    "duration": 432,
    "start_time": "2023-02-27T09:53:39.746Z"
   },
   {
    "duration": 5942,
    "start_time": "2023-02-27T09:53:40.180Z"
   },
   {
    "duration": 10777,
    "start_time": "2023-02-27T09:53:46.124Z"
   },
   {
    "duration": 151,
    "start_time": "2023-02-27T09:53:56.903Z"
   },
   {
    "duration": 6,
    "start_time": "2023-02-27T09:53:57.056Z"
   },
   {
    "duration": 156,
    "start_time": "2023-02-27T09:53:57.063Z"
   },
   {
    "duration": 144,
    "start_time": "2023-02-27T09:53:57.221Z"
   },
   {
    "duration": 7,
    "start_time": "2023-02-27T09:55:28.032Z"
   },
   {
    "duration": 147,
    "start_time": "2023-02-27T09:55:42.711Z"
   },
   {
    "duration": 210,
    "start_time": "2023-02-27T09:55:50.751Z"
   },
   {
    "duration": 52,
    "start_time": "2023-02-27T09:57:51.627Z"
   },
   {
    "duration": 208,
    "start_time": "2023-02-27T09:58:31.440Z"
   },
   {
    "duration": 129,
    "start_time": "2023-02-27T09:59:27.953Z"
   },
   {
    "duration": 1400,
    "start_time": "2023-02-27T10:06:35.362Z"
   },
   {
    "duration": 55,
    "start_time": "2023-02-27T10:06:36.765Z"
   },
   {
    "duration": 18,
    "start_time": "2023-02-27T10:06:36.821Z"
   },
   {
    "duration": 47,
    "start_time": "2023-02-27T10:06:36.842Z"
   },
   {
    "duration": 22,
    "start_time": "2023-02-27T10:06:36.890Z"
   },
   {
    "duration": 21,
    "start_time": "2023-02-27T10:06:36.913Z"
   },
   {
    "duration": 26,
    "start_time": "2023-02-27T10:06:36.936Z"
   },
   {
    "duration": 5,
    "start_time": "2023-02-27T10:06:36.965Z"
   },
   {
    "duration": 18,
    "start_time": "2023-02-27T10:06:36.971Z"
   },
   {
    "duration": 21,
    "start_time": "2023-02-27T10:06:36.991Z"
   },
   {
    "duration": 21,
    "start_time": "2023-02-27T10:06:37.014Z"
   },
   {
    "duration": 28,
    "start_time": "2023-02-27T10:06:37.037Z"
   },
   {
    "duration": 10,
    "start_time": "2023-02-27T10:06:37.067Z"
   },
   {
    "duration": 21,
    "start_time": "2023-02-27T10:06:37.079Z"
   },
   {
    "duration": 14,
    "start_time": "2023-02-27T10:06:37.101Z"
   },
   {
    "duration": 36,
    "start_time": "2023-02-27T10:06:37.117Z"
   },
   {
    "duration": 36,
    "start_time": "2023-02-27T10:06:37.155Z"
   },
   {
    "duration": 6,
    "start_time": "2023-02-27T10:06:37.193Z"
   },
   {
    "duration": 125,
    "start_time": "2023-02-27T10:06:37.201Z"
   },
   {
    "duration": 4394,
    "start_time": "2023-02-27T10:06:37.328Z"
   },
   {
    "duration": 7834,
    "start_time": "2023-02-27T10:06:41.724Z"
   },
   {
    "duration": 44,
    "start_time": "2023-02-27T10:06:49.559Z"
   },
   {
    "duration": 342,
    "start_time": "2023-02-27T10:06:49.604Z"
   },
   {
    "duration": 162,
    "start_time": "2023-02-27T10:06:49.948Z"
   },
   {
    "duration": 312,
    "start_time": "2023-02-27T10:06:50.113Z"
   },
   {
    "duration": 26,
    "start_time": "2023-02-27T10:06:50.427Z"
   },
   {
    "duration": 291,
    "start_time": "2023-02-27T10:06:50.456Z"
   },
   {
    "duration": 66,
    "start_time": "2023-02-27T10:06:50.750Z"
   },
   {
    "duration": 310,
    "start_time": "2023-02-27T10:06:50.826Z"
   },
   {
    "duration": 288,
    "start_time": "2023-02-27T10:06:51.207Z"
   },
   {
    "duration": 121,
    "start_time": "2023-02-27T10:06:51.497Z"
   },
   {
    "duration": 303,
    "start_time": "2023-02-27T10:06:51.627Z"
   },
   {
    "duration": 599,
    "start_time": "2023-02-27T10:06:51.933Z"
   },
   {
    "duration": 6052,
    "start_time": "2023-02-27T10:06:52.534Z"
   },
   {
    "duration": 9884,
    "start_time": "2023-02-27T10:06:58.588Z"
   },
   {
    "duration": 188,
    "start_time": "2023-02-27T10:07:08.474Z"
   },
   {
    "duration": 194,
    "start_time": "2023-02-27T10:07:08.663Z"
   },
   {
    "duration": 142,
    "start_time": "2023-02-27T10:07:08.858Z"
   },
   {
    "duration": 45,
    "start_time": "2023-02-27T10:09:46.750Z"
   },
   {
    "duration": 51,
    "start_time": "2023-02-28T11:02:00.853Z"
   },
   {
    "duration": 1697,
    "start_time": "2023-02-28T11:02:09.072Z"
   },
   {
    "duration": 90,
    "start_time": "2023-02-28T11:02:10.771Z"
   },
   {
    "duration": 15,
    "start_time": "2023-02-28T11:02:10.863Z"
   },
   {
    "duration": 19,
    "start_time": "2023-02-28T11:02:10.880Z"
   },
   {
    "duration": 12,
    "start_time": "2023-02-28T11:02:10.901Z"
   },
   {
    "duration": 38,
    "start_time": "2023-02-28T11:02:10.914Z"
   },
   {
    "duration": 13,
    "start_time": "2023-02-28T11:02:10.954Z"
   },
   {
    "duration": 5,
    "start_time": "2023-02-28T11:02:10.969Z"
   },
   {
    "duration": 9,
    "start_time": "2023-02-28T11:02:10.975Z"
   },
   {
    "duration": 12,
    "start_time": "2023-02-28T11:02:10.986Z"
   },
   {
    "duration": 10,
    "start_time": "2023-02-28T11:02:11.000Z"
   },
   {
    "duration": 16,
    "start_time": "2023-02-28T11:02:11.039Z"
   },
   {
    "duration": 7,
    "start_time": "2023-02-28T11:02:11.057Z"
   },
   {
    "duration": 13,
    "start_time": "2023-02-28T11:02:11.066Z"
   },
   {
    "duration": 4,
    "start_time": "2023-02-28T11:02:11.081Z"
   },
   {
    "duration": 11,
    "start_time": "2023-02-28T11:02:11.086Z"
   },
   {
    "duration": 54,
    "start_time": "2023-02-28T11:02:11.099Z"
   },
   {
    "duration": 9,
    "start_time": "2023-02-28T11:02:11.156Z"
   },
   {
    "duration": 141,
    "start_time": "2023-02-28T11:02:11.166Z"
   },
   {
    "duration": 4974,
    "start_time": "2023-02-28T11:02:11.308Z"
   },
   {
    "duration": 7988,
    "start_time": "2023-02-28T11:02:16.284Z"
   },
   {
    "duration": 34,
    "start_time": "2023-02-28T11:02:24.274Z"
   },
   {
    "duration": 395,
    "start_time": "2023-02-28T11:02:24.310Z"
   },
   {
    "duration": 137,
    "start_time": "2023-02-28T11:02:24.707Z"
   },
   {
    "duration": 322,
    "start_time": "2023-02-28T11:02:24.846Z"
   },
   {
    "duration": 20,
    "start_time": "2023-02-28T11:02:25.170Z"
   },
   {
    "duration": 314,
    "start_time": "2023-02-28T11:02:25.192Z"
   },
   {
    "duration": 38,
    "start_time": "2023-02-28T11:02:25.510Z"
   },
   {
    "duration": 201,
    "start_time": "2023-02-28T11:02:25.552Z"
   },
   {
    "duration": 309,
    "start_time": "2023-02-28T11:02:25.755Z"
   },
   {
    "duration": 25,
    "start_time": "2023-02-28T11:02:26.066Z"
   },
   {
    "duration": 226,
    "start_time": "2023-02-28T11:02:26.140Z"
   },
   {
    "duration": 455,
    "start_time": "2023-02-28T11:02:26.368Z"
   },
   {
    "duration": 6237,
    "start_time": "2023-02-28T11:02:26.825Z"
   },
   {
    "duration": 10287,
    "start_time": "2023-02-28T11:02:33.064Z"
   },
   {
    "duration": 155,
    "start_time": "2023-02-28T11:02:43.354Z"
   },
   {
    "duration": 152,
    "start_time": "2023-02-28T11:02:43.511Z"
   },
   {
    "duration": 139,
    "start_time": "2023-02-28T11:02:43.664Z"
   },
   {
    "duration": 7842,
    "start_time": "2023-02-28T11:03:17.679Z"
   },
   {
    "duration": 10299,
    "start_time": "2023-02-28T11:05:48.722Z"
   },
   {
    "duration": 2817,
    "start_time": "2023-02-28T11:15:49.874Z"
   },
   {
    "duration": 1520,
    "start_time": "2023-02-28T11:21:02.429Z"
   },
   {
    "duration": 43,
    "start_time": "2023-02-28T11:21:03.951Z"
   },
   {
    "duration": 13,
    "start_time": "2023-02-28T11:21:03.996Z"
   },
   {
    "duration": 19,
    "start_time": "2023-02-28T11:21:04.012Z"
   },
   {
    "duration": 16,
    "start_time": "2023-02-28T11:21:04.032Z"
   },
   {
    "duration": 19,
    "start_time": "2023-02-28T11:21:04.051Z"
   },
   {
    "duration": 15,
    "start_time": "2023-02-28T11:21:04.072Z"
   },
   {
    "duration": 4,
    "start_time": "2023-02-28T11:21:04.089Z"
   },
   {
    "duration": 8,
    "start_time": "2023-02-28T11:21:04.095Z"
   },
   {
    "duration": 44,
    "start_time": "2023-02-28T11:21:04.106Z"
   },
   {
    "duration": 17,
    "start_time": "2023-02-28T11:21:04.152Z"
   },
   {
    "duration": 16,
    "start_time": "2023-02-28T11:21:04.171Z"
   },
   {
    "duration": 30,
    "start_time": "2023-02-28T11:21:04.189Z"
   },
   {
    "duration": 35,
    "start_time": "2023-02-28T11:21:04.222Z"
   },
   {
    "duration": 27,
    "start_time": "2023-02-28T11:21:04.259Z"
   },
   {
    "duration": 20,
    "start_time": "2023-02-28T11:21:04.289Z"
   },
   {
    "duration": 83,
    "start_time": "2023-02-28T11:21:04.311Z"
   },
   {
    "duration": 9,
    "start_time": "2023-02-28T11:21:04.397Z"
   },
   {
    "duration": 154,
    "start_time": "2023-02-28T11:21:04.408Z"
   },
   {
    "duration": 4790,
    "start_time": "2023-02-28T11:21:04.565Z"
   },
   {
    "duration": 7775,
    "start_time": "2023-02-28T11:21:09.356Z"
   },
   {
    "duration": 34,
    "start_time": "2023-02-28T11:21:17.135Z"
   },
   {
    "duration": 356,
    "start_time": "2023-02-28T11:21:17.171Z"
   },
   {
    "duration": 120,
    "start_time": "2023-02-28T11:21:17.528Z"
   },
   {
    "duration": 310,
    "start_time": "2023-02-28T11:21:17.650Z"
   },
   {
    "duration": 19,
    "start_time": "2023-02-28T11:21:17.962Z"
   },
   {
    "duration": 319,
    "start_time": "2023-02-28T11:21:17.982Z"
   },
   {
    "duration": 38,
    "start_time": "2023-02-28T11:21:18.305Z"
   },
   {
    "duration": 200,
    "start_time": "2023-02-28T11:21:18.349Z"
   },
   {
    "duration": 305,
    "start_time": "2023-02-28T11:21:18.551Z"
   },
   {
    "duration": 84,
    "start_time": "2023-02-28T11:21:18.858Z"
   },
   {
    "duration": 317,
    "start_time": "2023-02-28T11:21:18.945Z"
   },
   {
    "duration": 452,
    "start_time": "2023-02-28T11:21:19.264Z"
   },
   {
    "duration": 6338,
    "start_time": "2023-02-28T11:21:19.718Z"
   },
   {
    "duration": 10534,
    "start_time": "2023-02-28T11:21:26.057Z"
   },
   {
    "duration": 2878,
    "start_time": "2023-02-28T11:21:36.592Z"
   },
   {
    "duration": 155,
    "start_time": "2023-02-28T11:21:39.471Z"
   },
   {
    "duration": 147,
    "start_time": "2023-02-28T11:21:39.634Z"
   },
   {
    "duration": 219,
    "start_time": "2023-02-28T11:21:39.783Z"
   }
  ],
  "kernelspec": {
   "display_name": "Python 3 (ipykernel)",
   "language": "python",
   "name": "python3"
  },
  "language_info": {
   "codemirror_mode": {
    "name": "ipython",
    "version": 3
   },
   "file_extension": ".py",
   "mimetype": "text/x-python",
   "name": "python",
   "nbconvert_exporter": "python",
   "pygments_lexer": "ipython3",
   "version": "3.9.5"
  },
  "toc": {
   "base_numbering": 1,
   "nav_menu": {},
   "number_sections": true,
   "sideBar": true,
   "skip_h1_title": true,
   "title_cell": "Содержание",
   "title_sidebar": "Contents",
   "toc_cell": true,
   "toc_position": {},
   "toc_section_display": true,
   "toc_window_display": true
  }
 },
 "nbformat": 4,
 "nbformat_minor": 2
}
