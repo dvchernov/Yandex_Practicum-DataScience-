{
 "cells": [
  {
   "cell_type": "markdown",
   "metadata": {},
   "source": [
    "# Исследование объявлений о продаже квартир\n",
    "\n",
    "В вашем распоряжении данные сервиса Яндекс.Недвижимость — архив объявлений о продаже квартир в Санкт-Петербурге и соседних населённых пунктов за несколько лет. Нужно научиться определять рыночную стоимость объектов недвижимости. Ваша задача — установить параметры. Это позволит построить автоматизированную систему: она отследит аномалии и мошенническую деятельность. \n",
    "\n",
    "По каждой квартире на продажу доступны два вида данных. Первые вписаны пользователем, вторые — получены автоматически на основе картографических данных. Например, расстояние до центра, аэропорта, ближайшего парка и водоёма. "
   ]
  },
  {
   "cell_type": "markdown",
   "metadata": {},
   "source": [
    "### Откройте файл с данными и изучите общую информацию. "
   ]
  },
  {
   "cell_type": "markdown",
   "metadata": {},
   "source": [
    "Импортируем данные из csv в датасет"
   ]
  },
  {
   "cell_type": "code",
   "execution_count": 1,
   "metadata": {},
   "outputs": [],
   "source": [
    "import pandas as pd\n",
    "import numpy as np\n",
    "df = pd.read_csv('/datasets/real_estate_data.csv', sep='\\t')"
   ]
  },
  {
   "cell_type": "markdown",
   "metadata": {},
   "source": [
    "Обозреваем данные"
   ]
  },
  {
   "cell_type": "code",
   "execution_count": 2,
   "metadata": {},
   "outputs": [
    {
     "name": "stdout",
     "output_type": "stream",
     "text": [
      "   total_images  last_price  total_area first_day_exposition  rooms  \\\n",
      "0            20  13000000.0       108.0  2019-03-07T00:00:00      3   \n",
      "1             7   3350000.0        40.4  2018-12-04T00:00:00      1   \n",
      "2            10   5196000.0        56.0  2015-08-20T00:00:00      2   \n",
      "3             0  64900000.0       159.0  2015-07-24T00:00:00      3   \n",
      "4             2  10000000.0       100.0  2018-06-19T00:00:00      2   \n",
      "\n",
      "   ceiling_height  floors_total  living_area  floor is_apartment  ...  \\\n",
      "0            2.70          16.0         51.0      8          NaN  ...   \n",
      "1             NaN          11.0         18.6      1          NaN  ...   \n",
      "2             NaN           5.0         34.3      4          NaN  ...   \n",
      "3             NaN          14.0          NaN      9          NaN  ...   \n",
      "4            3.03          14.0         32.0     13          NaN  ...   \n",
      "\n",
      "   kitchen_area  balcony    locality_name  airports_nearest  \\\n",
      "0          25.0      NaN  Санкт-Петербург           18863.0   \n",
      "1          11.0      2.0   посёлок Шушары           12817.0   \n",
      "2           8.3      0.0  Санкт-Петербург           21741.0   \n",
      "3           NaN      0.0  Санкт-Петербург           28098.0   \n",
      "4          41.0      NaN  Санкт-Петербург           31856.0   \n",
      "\n",
      "  cityCenters_nearest  parks_around3000  parks_nearest  ponds_around3000  \\\n",
      "0             16028.0               1.0          482.0               2.0   \n",
      "1             18603.0               0.0            NaN               0.0   \n",
      "2             13933.0               1.0           90.0               2.0   \n",
      "3              6800.0               2.0           84.0               3.0   \n",
      "4              8098.0               2.0          112.0               1.0   \n",
      "\n",
      "   ponds_nearest  days_exposition  \n",
      "0          755.0              NaN  \n",
      "1            NaN             81.0  \n",
      "2          574.0            558.0  \n",
      "3          234.0            424.0  \n",
      "4           48.0            121.0  \n",
      "\n",
      "[5 rows x 22 columns]\n"
     ]
    }
   ],
   "source": [
    "print(df.head())"
   ]
  },
  {
   "cell_type": "markdown",
   "metadata": {},
   "source": [
    "Выводим информацию по данным"
   ]
  },
  {
   "cell_type": "code",
   "execution_count": 3,
   "metadata": {},
   "outputs": [
    {
     "name": "stdout",
     "output_type": "stream",
     "text": [
      "<class 'pandas.core.frame.DataFrame'>\n",
      "RangeIndex: 23699 entries, 0 to 23698\n",
      "Data columns (total 22 columns):\n",
      " #   Column                Non-Null Count  Dtype  \n",
      "---  ------                --------------  -----  \n",
      " 0   total_images          23699 non-null  int64  \n",
      " 1   last_price            23699 non-null  float64\n",
      " 2   total_area            23699 non-null  float64\n",
      " 3   first_day_exposition  23699 non-null  object \n",
      " 4   rooms                 23699 non-null  int64  \n",
      " 5   ceiling_height        14504 non-null  float64\n",
      " 6   floors_total          23613 non-null  float64\n",
      " 7   living_area           21796 non-null  float64\n",
      " 8   floor                 23699 non-null  int64  \n",
      " 9   is_apartment          2775 non-null   object \n",
      " 10  studio                23699 non-null  bool   \n",
      " 11  open_plan             23699 non-null  bool   \n",
      " 12  kitchen_area          21421 non-null  float64\n",
      " 13  balcony               12180 non-null  float64\n",
      " 14  locality_name         23650 non-null  object \n",
      " 15  airports_nearest      18157 non-null  float64\n",
      " 16  cityCenters_nearest   18180 non-null  float64\n",
      " 17  parks_around3000      18181 non-null  float64\n",
      " 18  parks_nearest         8079 non-null   float64\n",
      " 19  ponds_around3000      18181 non-null  float64\n",
      " 20  ponds_nearest         9110 non-null   float64\n",
      " 21  days_exposition       20518 non-null  float64\n",
      "dtypes: bool(2), float64(14), int64(3), object(3)\n",
      "memory usage: 3.7+ MB\n"
     ]
    }
   ],
   "source": [
    "df.info()"
   ]
  },
  {
   "cell_type": "markdown",
   "metadata": {},
   "source": [
    "В пункте про изучение упоминались гистограммы "
   ]
  },
  {
   "cell_type": "code",
   "execution_count": 4,
   "metadata": {},
   "outputs": [
    {
     "data": {
      "image/png": "[encoded data removed]",
      "text/plain": [
       "<Figure size 1440x1440 with 20 Axes>"
      ]
     },
     "metadata": {
      "needs_background": "light"
     },
     "output_type": "display_data"
    }
   ],
   "source": [
    "df.hist(figsize=(20, 20));"
   ]
  },
  {
   "cell_type": "markdown",
   "metadata": {},
   "source": [
    "### Предобработка данных"
   ]
  },
  {
   "cell_type": "markdown",
   "metadata": {},
   "source": [
    "Переименуем столбец, чтобы все были без верхнего регистра и по красоте"
   ]
  },
  {
   "cell_type": "code",
   "execution_count": 5,
   "metadata": {},
   "outputs": [],
   "source": [
    "df.rename(columns={'cityCenters_nearest' : 'city_centers_nearest'}, inplace=True)"
   ]
  },
  {
   "cell_type": "markdown",
   "metadata": {},
   "source": [
    "**Работа с пропусками**"
   ]
  },
  {
   "cell_type": "code",
   "execution_count": 6,
   "metadata": {},
   "outputs": [
    {
     "data": {
      "text/plain": [
       "total_images                0\n",
       "last_price                  0\n",
       "total_area                  0\n",
       "first_day_exposition        0\n",
       "rooms                       0\n",
       "ceiling_height           9195\n",
       "floors_total               86\n",
       "living_area              1903\n",
       "floor                       0\n",
       "is_apartment            20924\n",
       "studio                      0\n",
       "open_plan                   0\n",
       "kitchen_area             2278\n",
       "balcony                 11519\n",
       "locality_name              49\n",
       "airports_nearest         5542\n",
       "city_centers_nearest     5519\n",
       "parks_around3000         5518\n",
       "parks_nearest           15620\n",
       "ponds_around3000         5518\n",
       "ponds_nearest           14589\n",
       "days_exposition          3181\n",
       "dtype: int64"
      ]
     },
     "execution_count": 6,
     "metadata": {},
     "output_type": "execute_result"
    }
   ],
   "source": [
    "df.isna().sum()"
   ]
  },
  {
   "cell_type": "markdown",
   "metadata": {},
   "source": [
    "**Описание пропущеных значений:**\n",
    "- **ceiling_height** - высота потолков много где пропущена\n",
    "- **floors_total** - незаполненных данных немного, на выборку не повлияют, удалим\n",
    "- **living_area** - жилая площадь не заполнена\n",
    "- **is_apartment** - предположим что это не апартаменты и заменим на False \n",
    "- **kitchen_area** - площадь кухни не заполнена\n",
    "- **balcony значит** - балкона нет, заменим на 0\n",
    "- **locality_name** - незаполненных данных немного, на выборку не повлияют, удалим\n",
    "- **airports_nearest** - аэропортов рядом нет\n",
    "- **city_centers_nearest** - далеко от центра города\n",
    "- **parks_around3000** - скорее всего парков в радиусе 3000 метров нет\n",
    "- **parks_nearest** - скорее всего парков рядом нет\n",
    "- **ponds_around3000** - скорее всего прудов нет на растоянии 3000 метров\n",
    "- **ponds_nearest** - прудов рядом нет\n",
    "- **days_exposition** - скорее всего обьявление не было опубликовано"
   ]
  },
  {
   "cell_type": "markdown",
   "metadata": {},
   "source": [
    "**Заполнение пропущенных значений:**"
   ]
  },
  {
   "cell_type": "markdown",
   "metadata": {},
   "source": [
    "Удаляем строки с неопознанным населенным пунктом"
   ]
  },
  {
   "cell_type": "code",
   "execution_count": 7,
   "metadata": {},
   "outputs": [],
   "source": [
    "df['locality_name'].dropna(inplace=True)"
   ]
  },
  {
   "cell_type": "markdown",
   "metadata": {},
   "source": [
    "Удаляем строки без определенного количества этажей"
   ]
  },
  {
   "cell_type": "code",
   "execution_count": 8,
   "metadata": {},
   "outputs": [],
   "source": [
    "df['floors_total'].dropna(inplace=True)"
   ]
  },
  {
   "cell_type": "markdown",
   "metadata": {},
   "source": [
    "Заменяем в аппартаментах Null на False"
   ]
  },
  {
   "cell_type": "code",
   "execution_count": 9,
   "metadata": {},
   "outputs": [],
   "source": [
    "df['is_apartment'] = df['is_apartment'].fillna('False')"
   ]
  },
  {
   "cell_type": "markdown",
   "metadata": {},
   "source": [
    "Заменяем в количестве балконов Null на 0"
   ]
  },
  {
   "cell_type": "code",
   "execution_count": 10,
   "metadata": {},
   "outputs": [],
   "source": [
    "df['balcony'] = df['balcony'].fillna(0)"
   ]
  },
  {
   "cell_type": "markdown",
   "metadata": {},
   "source": [
    "**Изменение типов данных:**\n",
    "\n",
    "- last_price - int64 (целое число)\n",
    "- first_day_exposition - date (форматы даты)\n",
    "- floors_total - int64 (целое число)\n",
    "- is_apartment - bool (работать будет удобнее)\n",
    "- balcony - int64 (целое число)\n",
    "- days_exposition - int64 (целое число)"
   ]
  },
  {
   "cell_type": "markdown",
   "metadata": {},
   "source": [
    "Чтобы выявить ошибки во время изменения данных, будем использовать \"try\""
   ]
  },
  {
   "cell_type": "code",
   "execution_count": 11,
   "metadata": {},
   "outputs": [
    {
     "name": "stdout",
     "output_type": "stream",
     "text": [
      "last_price_changed\n",
      "first_day_exposition_changed\n",
      "floors_total_changed\n",
      "is_apartment_changed\n",
      "balcony_changed\n",
      "days_exposition_changed\n"
     ]
    }
   ],
   "source": [
    "try:\n",
    "    df['last_price'] = df['last_price'].astype('Int64')\n",
    "    print('last_price_changed')\n",
    "except:\n",
    "    print('last_price int type change error')\n",
    "    \n",
    "try:    \n",
    "    df['first_day_exposition'] = pd.to_datetime(df['first_day_exposition'],format='%Y-%m-%dT%H:%M:%S')\n",
    "    print('first_day_exposition_changed')\n",
    "except:\n",
    "    print('first_day_exposition to_datetime type change error')\n",
    "    \n",
    "try:\n",
    "    df['floors_total'] =  df['floors_total'].astype('Int64')\n",
    "    print('floors_total_changed')\n",
    "except:\n",
    "    print('floors_total int64 type change error')\n",
    "      \n",
    "try:\n",
    "    df['is_apartment'] = df['is_apartment'].map({'False':False, 'True':True})\n",
    "    print('is_apartment_changed')\n",
    "except:\n",
    "    print('is_apartment bool type change error')\n",
    "        \n",
    "try:\n",
    "    df['balcony'] = df['balcony'].astype('Int64')\n",
    "    print('balcony_changed')\n",
    "except:\n",
    "    print('balcony int64 type change error')\n",
    "    \n",
    "try:\n",
    "    df['days_exposition'] = np.floor(pd.to_numeric(df['days_exposition'], errors='coerce')).astype('Int64')\n",
    "    print('days_exposition_changed')\n",
    "except:\n",
    "    print('days_exposition int64 type change error')"
   ]
  },
  {
   "cell_type": "markdown",
   "metadata": {},
   "source": [
    "Проверим"
   ]
  },
  {
   "cell_type": "code",
   "execution_count": 12,
   "metadata": {},
   "outputs": [
    {
     "name": "stdout",
     "output_type": "stream",
     "text": [
      "<class 'pandas.core.frame.DataFrame'>\n",
      "RangeIndex: 23699 entries, 0 to 23698\n",
      "Data columns (total 22 columns):\n",
      " #   Column                Non-Null Count  Dtype         \n",
      "---  ------                --------------  -----         \n",
      " 0   total_images          23699 non-null  int64         \n",
      " 1   last_price            23699 non-null  Int64         \n",
      " 2   total_area            23699 non-null  float64       \n",
      " 3   first_day_exposition  23699 non-null  datetime64[ns]\n",
      " 4   rooms                 23699 non-null  int64         \n",
      " 5   ceiling_height        14504 non-null  float64       \n",
      " 6   floors_total          23613 non-null  Int64         \n",
      " 7   living_area           21796 non-null  float64       \n",
      " 8   floor                 23699 non-null  int64         \n",
      " 9   is_apartment          20924 non-null  object        \n",
      " 10  studio                23699 non-null  bool          \n",
      " 11  open_plan             23699 non-null  bool          \n",
      " 12  kitchen_area          21421 non-null  float64       \n",
      " 13  balcony               23699 non-null  Int64         \n",
      " 14  locality_name         23650 non-null  object        \n",
      " 15  airports_nearest      18157 non-null  float64       \n",
      " 16  city_centers_nearest  18180 non-null  float64       \n",
      " 17  parks_around3000      18181 non-null  float64       \n",
      " 18  parks_nearest         8079 non-null   float64       \n",
      " 19  ponds_around3000      18181 non-null  float64       \n",
      " 20  ponds_nearest         9110 non-null   float64       \n",
      " 21  days_exposition       20518 non-null  Int64         \n",
      "dtypes: Int64(4), bool(2), datetime64[ns](1), float64(10), int64(3), object(2)\n",
      "memory usage: 3.8+ MB\n"
     ]
    }
   ],
   "source": [
    "df.info()"
   ]
  },
  {
   "cell_type": "markdown",
   "metadata": {},
   "source": [
    "**Неявные дубликаты в названиях населённых пунктов**"
   ]
  },
  {
   "cell_type": "code",
   "execution_count": 13,
   "metadata": {},
   "outputs": [
    {
     "name": "stdout",
     "output_type": "stream",
     "text": [
      "Уникальные занчения locality_name: 365\n"
     ]
    }
   ],
   "source": [
    "def loc_name():\n",
    "    return print('Уникальные занчения locality_name:', df['locality_name'].unique().shape[0])\n",
    "loc_name()"
   ]
  },
  {
   "cell_type": "code",
   "execution_count": 14,
   "metadata": {},
   "outputs": [
    {
     "name": "stdout",
     "output_type": "stream",
     "text": [
      "Уникальные занчения locality_name: 365\n"
     ]
    }
   ],
   "source": [
    "df['locality_name'] = df['locality_name'].str.lower()\n",
    "\n",
    "loc_name()"
   ]
  },
  {
   "cell_type": "code",
   "execution_count": 15,
   "metadata": {},
   "outputs": [
    {
     "name": "stdout",
     "output_type": "stream",
     "text": [
      "Уникальные занчения locality_name: 331\n"
     ]
    }
   ],
   "source": [
    "df['locality_name'] = df['locality_name'].str.replace('ё', 'е')\n",
    "\n",
    "loc_name()"
   ]
  },
  {
   "cell_type": "code",
   "execution_count": 16,
   "metadata": {},
   "outputs": [],
   "source": [
    "df['locality_name'] = df['locality_name'].str.replace('городской поселок','поселок городского типа')"
   ]
  },
  {
   "cell_type": "code",
   "execution_count": 17,
   "metadata": {},
   "outputs": [
    {
     "name": "stdout",
     "output_type": "stream",
     "text": [
      "Уникальные занчения locality_name: 324\n"
     ]
    }
   ],
   "source": [
    "loc_name()"
   ]
  },
  {
   "cell_type": "code",
   "execution_count": 18,
   "metadata": {
    "scrolled": true
   },
   "outputs": [
    {
     "name": "stdout",
     "output_type": "stream",
     "text": [
      "Количетво явных дубликатов: 0\n"
     ]
    }
   ],
   "source": [
    "print('Количетво явных дубликатов:', df.duplicated().sum())"
   ]
  },
  {
   "cell_type": "markdown",
   "metadata": {},
   "source": [
    "**Аномальные значения**"
   ]
  },
  {
   "cell_type": "code",
   "execution_count": 19,
   "metadata": {
    "scrolled": true
   },
   "outputs": [
    {
     "data": {
      "text/html": [
       "<div>\n",
       "<style scoped>\n",
       "    .dataframe tbody tr th:only-of-type {\n",
       "        vertical-align: middle;\n",
       "    }\n",
       "\n",
       "    .dataframe tbody tr th {\n",
       "        vertical-align: top;\n",
       "    }\n",
       "\n",
       "    .dataframe thead th {\n",
       "        text-align: right;\n",
       "    }\n",
       "</style>\n",
       "<table border=\"1\" class=\"dataframe\">\n",
       "  <thead>\n",
       "    <tr style=\"text-align: right;\">\n",
       "      <th></th>\n",
       "      <th>total_images</th>\n",
       "      <th>last_price</th>\n",
       "      <th>total_area</th>\n",
       "      <th>rooms</th>\n",
       "      <th>ceiling_height</th>\n",
       "      <th>floors_total</th>\n",
       "      <th>living_area</th>\n",
       "      <th>floor</th>\n",
       "      <th>kitchen_area</th>\n",
       "      <th>balcony</th>\n",
       "      <th>airports_nearest</th>\n",
       "      <th>city_centers_nearest</th>\n",
       "      <th>parks_around3000</th>\n",
       "      <th>parks_nearest</th>\n",
       "      <th>ponds_around3000</th>\n",
       "      <th>ponds_nearest</th>\n",
       "      <th>days_exposition</th>\n",
       "    </tr>\n",
       "  </thead>\n",
       "  <tbody>\n",
       "    <tr>\n",
       "      <th>count</th>\n",
       "      <td>23699.000000</td>\n",
       "      <td>2.369900e+04</td>\n",
       "      <td>23699.000000</td>\n",
       "      <td>23699.000000</td>\n",
       "      <td>14504.000000</td>\n",
       "      <td>23613.000000</td>\n",
       "      <td>21796.000000</td>\n",
       "      <td>23699.000000</td>\n",
       "      <td>21421.000000</td>\n",
       "      <td>23699.000000</td>\n",
       "      <td>18157.000000</td>\n",
       "      <td>18180.000000</td>\n",
       "      <td>18181.000000</td>\n",
       "      <td>8079.000000</td>\n",
       "      <td>18181.000000</td>\n",
       "      <td>9110.000000</td>\n",
       "      <td>20518.000000</td>\n",
       "    </tr>\n",
       "    <tr>\n",
       "      <th>mean</th>\n",
       "      <td>9.858475</td>\n",
       "      <td>6.541549e+06</td>\n",
       "      <td>60.348651</td>\n",
       "      <td>2.070636</td>\n",
       "      <td>2.771499</td>\n",
       "      <td>10.673824</td>\n",
       "      <td>34.457852</td>\n",
       "      <td>5.892358</td>\n",
       "      <td>10.569807</td>\n",
       "      <td>0.591080</td>\n",
       "      <td>28793.672193</td>\n",
       "      <td>14191.277833</td>\n",
       "      <td>0.611408</td>\n",
       "      <td>490.804555</td>\n",
       "      <td>0.770255</td>\n",
       "      <td>517.980900</td>\n",
       "      <td>180.888634</td>\n",
       "    </tr>\n",
       "    <tr>\n",
       "      <th>std</th>\n",
       "      <td>5.682529</td>\n",
       "      <td>1.088701e+07</td>\n",
       "      <td>35.654083</td>\n",
       "      <td>1.078405</td>\n",
       "      <td>1.261056</td>\n",
       "      <td>6.597173</td>\n",
       "      <td>22.030445</td>\n",
       "      <td>4.885249</td>\n",
       "      <td>5.905438</td>\n",
       "      <td>0.959298</td>\n",
       "      <td>12630.880622</td>\n",
       "      <td>8608.386210</td>\n",
       "      <td>0.802074</td>\n",
       "      <td>342.317995</td>\n",
       "      <td>0.938346</td>\n",
       "      <td>277.720643</td>\n",
       "      <td>219.727988</td>\n",
       "    </tr>\n",
       "    <tr>\n",
       "      <th>min</th>\n",
       "      <td>0.000000</td>\n",
       "      <td>1.219000e+04</td>\n",
       "      <td>12.000000</td>\n",
       "      <td>0.000000</td>\n",
       "      <td>1.000000</td>\n",
       "      <td>1.000000</td>\n",
       "      <td>2.000000</td>\n",
       "      <td>1.000000</td>\n",
       "      <td>1.300000</td>\n",
       "      <td>0.000000</td>\n",
       "      <td>0.000000</td>\n",
       "      <td>181.000000</td>\n",
       "      <td>0.000000</td>\n",
       "      <td>1.000000</td>\n",
       "      <td>0.000000</td>\n",
       "      <td>13.000000</td>\n",
       "      <td>1.000000</td>\n",
       "    </tr>\n",
       "    <tr>\n",
       "      <th>25%</th>\n",
       "      <td>6.000000</td>\n",
       "      <td>3.400000e+06</td>\n",
       "      <td>40.000000</td>\n",
       "      <td>1.000000</td>\n",
       "      <td>2.520000</td>\n",
       "      <td>5.000000</td>\n",
       "      <td>18.600000</td>\n",
       "      <td>2.000000</td>\n",
       "      <td>7.000000</td>\n",
       "      <td>0.000000</td>\n",
       "      <td>18585.000000</td>\n",
       "      <td>9238.000000</td>\n",
       "      <td>0.000000</td>\n",
       "      <td>288.000000</td>\n",
       "      <td>0.000000</td>\n",
       "      <td>294.000000</td>\n",
       "      <td>45.000000</td>\n",
       "    </tr>\n",
       "    <tr>\n",
       "      <th>50%</th>\n",
       "      <td>9.000000</td>\n",
       "      <td>4.650000e+06</td>\n",
       "      <td>52.000000</td>\n",
       "      <td>2.000000</td>\n",
       "      <td>2.650000</td>\n",
       "      <td>9.000000</td>\n",
       "      <td>30.000000</td>\n",
       "      <td>4.000000</td>\n",
       "      <td>9.100000</td>\n",
       "      <td>0.000000</td>\n",
       "      <td>26726.000000</td>\n",
       "      <td>13098.500000</td>\n",
       "      <td>0.000000</td>\n",
       "      <td>455.000000</td>\n",
       "      <td>1.000000</td>\n",
       "      <td>502.000000</td>\n",
       "      <td>95.000000</td>\n",
       "    </tr>\n",
       "    <tr>\n",
       "      <th>75%</th>\n",
       "      <td>14.000000</td>\n",
       "      <td>6.800000e+06</td>\n",
       "      <td>69.900000</td>\n",
       "      <td>3.000000</td>\n",
       "      <td>2.800000</td>\n",
       "      <td>16.000000</td>\n",
       "      <td>42.300000</td>\n",
       "      <td>8.000000</td>\n",
       "      <td>12.000000</td>\n",
       "      <td>1.000000</td>\n",
       "      <td>37273.000000</td>\n",
       "      <td>16293.000000</td>\n",
       "      <td>1.000000</td>\n",
       "      <td>612.000000</td>\n",
       "      <td>1.000000</td>\n",
       "      <td>729.000000</td>\n",
       "      <td>232.000000</td>\n",
       "    </tr>\n",
       "    <tr>\n",
       "      <th>max</th>\n",
       "      <td>50.000000</td>\n",
       "      <td>7.630000e+08</td>\n",
       "      <td>900.000000</td>\n",
       "      <td>19.000000</td>\n",
       "      <td>100.000000</td>\n",
       "      <td>60.000000</td>\n",
       "      <td>409.700000</td>\n",
       "      <td>33.000000</td>\n",
       "      <td>112.000000</td>\n",
       "      <td>5.000000</td>\n",
       "      <td>84869.000000</td>\n",
       "      <td>65968.000000</td>\n",
       "      <td>3.000000</td>\n",
       "      <td>3190.000000</td>\n",
       "      <td>3.000000</td>\n",
       "      <td>1344.000000</td>\n",
       "      <td>1580.000000</td>\n",
       "    </tr>\n",
       "  </tbody>\n",
       "</table>\n",
       "</div>"
      ],
      "text/plain": [
       "       total_images    last_price    total_area         rooms  ceiling_height  \\\n",
       "count  23699.000000  2.369900e+04  23699.000000  23699.000000    14504.000000   \n",
       "mean       9.858475  6.541549e+06     60.348651      2.070636        2.771499   \n",
       "std        5.682529  1.088701e+07     35.654083      1.078405        1.261056   \n",
       "min        0.000000  1.219000e+04     12.000000      0.000000        1.000000   \n",
       "25%        6.000000  3.400000e+06     40.000000      1.000000        2.520000   \n",
       "50%        9.000000  4.650000e+06     52.000000      2.000000        2.650000   \n",
       "75%       14.000000  6.800000e+06     69.900000      3.000000        2.800000   \n",
       "max       50.000000  7.630000e+08    900.000000     19.000000      100.000000   \n",
       "\n",
       "       floors_total   living_area         floor  kitchen_area       balcony  \\\n",
       "count  23613.000000  21796.000000  23699.000000  21421.000000  23699.000000   \n",
       "mean      10.673824     34.457852      5.892358     10.569807      0.591080   \n",
       "std        6.597173     22.030445      4.885249      5.905438      0.959298   \n",
       "min        1.000000      2.000000      1.000000      1.300000      0.000000   \n",
       "25%        5.000000     18.600000      2.000000      7.000000      0.000000   \n",
       "50%        9.000000     30.000000      4.000000      9.100000      0.000000   \n",
       "75%       16.000000     42.300000      8.000000     12.000000      1.000000   \n",
       "max       60.000000    409.700000     33.000000    112.000000      5.000000   \n",
       "\n",
       "       airports_nearest  city_centers_nearest  parks_around3000  \\\n",
       "count      18157.000000          18180.000000      18181.000000   \n",
       "mean       28793.672193          14191.277833          0.611408   \n",
       "std        12630.880622           8608.386210          0.802074   \n",
       "min            0.000000            181.000000          0.000000   \n",
       "25%        18585.000000           9238.000000          0.000000   \n",
       "50%        26726.000000          13098.500000          0.000000   \n",
       "75%        37273.000000          16293.000000          1.000000   \n",
       "max        84869.000000          65968.000000          3.000000   \n",
       "\n",
       "       parks_nearest  ponds_around3000  ponds_nearest  days_exposition  \n",
       "count    8079.000000      18181.000000    9110.000000     20518.000000  \n",
       "mean      490.804555          0.770255     517.980900       180.888634  \n",
       "std       342.317995          0.938346     277.720643       219.727988  \n",
       "min         1.000000          0.000000      13.000000         1.000000  \n",
       "25%       288.000000          0.000000     294.000000        45.000000  \n",
       "50%       455.000000          1.000000     502.000000        95.000000  \n",
       "75%       612.000000          1.000000     729.000000       232.000000  \n",
       "max      3190.000000          3.000000    1344.000000      1580.000000  "
      ]
     },
     "execution_count": 19,
     "metadata": {},
     "output_type": "execute_result"
    }
   ],
   "source": [
    "df.describe()"
   ]
  },
  {
   "cell_type": "markdown",
   "metadata": {},
   "source": [
    "С **total_images** все в порядке, идем дальше"
   ]
  },
  {
   "cell_type": "markdown",
   "metadata": {},
   "source": [
    "**last_price**"
   ]
  },
  {
   "cell_type": "markdown",
   "metadata": {},
   "source": [
    "- нет бесплатных квартир (0руб.)\n",
    "- есть квартиры очень дорогие, свыше 100 млн руб., уберем их\n",
    "- есть квартира очень дешевая, меньше 100 000 руб., уберем ее\n",
    "- есть квартиры стоимостью меньше 1 млн руб., но но и площадь там 12кв.м., так что похоже на правду"
   ]
  },
  {
   "cell_type": "code",
   "execution_count": 20,
   "metadata": {},
   "outputs": [
    {
     "name": "stdout",
     "output_type": "stream",
     "text": [
      "Квартир стоит 0 руб.: 0\n",
      "Квартир стоит больше 100 млн руб.: 0\n",
      "Квартир стоит меньше 100 тыс руб.: 0\n"
     ]
    }
   ],
   "source": [
    "df.drop(index=df.query('last_price < 1e+05').index,inplace=True)\n",
    "df.drop(index=df.query('last_price > 1e+08').index,inplace=True)\n",
    "\n",
    "print('Квартир стоит 0 руб.:', df.query('last_price == 0')['last_price'].count())\n",
    "print('Квартир стоит больше 100 млн руб.:', df.query('last_price > 1e+08')['last_price'].count())\n",
    "print('Квартир стоит меньше 100 тыс руб.:', df.query('last_price < 1e+05')['last_price'].count())"
   ]
  },
  {
   "cell_type": "markdown",
   "metadata": {},
   "source": [
    "**total_area**"
   ]
  },
  {
   "cell_type": "markdown",
   "metadata": {},
   "source": [
    "Есть квартиры меньше 20 кв.м., такие сдудии вполне возможны.\n",
    "Но есть квартиры с площадью более 500 кв.м.,их немного, похоже на элитную недвижемость, лучше удалить."
   ]
  },
  {
   "cell_type": "code",
   "execution_count": 21,
   "metadata": {},
   "outputs": [],
   "source": [
    "df.drop(index=df.query('total_area > 500').index,inplace=True)"
   ]
  },
  {
   "cell_type": "markdown",
   "metadata": {},
   "source": [
    "**rooms**"
   ]
  },
  {
   "cell_type": "markdown",
   "metadata": {},
   "source": [
    "Проверим нулевые значения"
   ]
  },
  {
   "cell_type": "code",
   "execution_count": 22,
   "metadata": {},
   "outputs": [
    {
     "name": "stdout",
     "output_type": "stream",
     "text": [
      "без комнат: 197\n"
     ]
    }
   ],
   "source": [
    "print('без комнат:',df.query('rooms == 0')['rooms'].count())"
   ]
  },
  {
   "cell_type": "markdown",
   "metadata": {},
   "source": [
    "Возможно это апартаменты\\студии или свободная планировка квартир"
   ]
  },
  {
   "cell_type": "code",
   "execution_count": 23,
   "metadata": {},
   "outputs": [
    {
     "name": "stdout",
     "output_type": "stream",
     "text": [
      "Пропущенных значений: 0\n"
     ]
    }
   ],
   "source": [
    "print('Пропущенных значений:',df.query('rooms == 0 and ~open_plan and ~studio')['rooms'].count())"
   ]
  },
  {
   "cell_type": "markdown",
   "metadata": {},
   "source": [
    "Также присутствуют квартиры ну с очень большим количеством комнат, что маловероятно, так что удалим все больше 7 комнат (начиная от 7 комнат количествор таких квартир значительно падает)"
   ]
  },
  {
   "cell_type": "code",
   "execution_count": 24,
   "metadata": {},
   "outputs": [],
   "source": [
    "df.drop(index=df.query('rooms > 7').index,inplace=True)"
   ]
  },
  {
   "cell_type": "markdown",
   "metadata": {},
   "source": [
    "**ceiling_height**"
   ]
  },
  {
   "cell_type": "markdown",
   "metadata": {},
   "source": [
    "Высота от потолка до пола в РФ регламентируется в соответствии со СНиПом от 2003 года и = 2.5-3.6 метра (поиск Яндекс)"
   ]
  },
  {
   "cell_type": "code",
   "execution_count": 25,
   "metadata": {},
   "outputs": [
    {
     "name": "stdout",
     "output_type": "stream",
     "text": [
      "Квартиры с потолками меньше 2.5м: 73\n",
      "Квартиры с потолками от 2.5 до 4м: 10800\n",
      "Квартиры с потолками от 4 до 5м: 36\n",
      "Квартиры с потолками от 5 до 25м: 14\n",
      "Квартиры с потолками от 25м до 36м: 19\n",
      "Квартиры с потолками от 36м до 50м: 0\n",
      "Квартиры с потолками от 50м: 1\n"
     ]
    }
   ],
   "source": [
    "print('Квартиры с потолками меньше 2.5м:', df.query('ceiling_height > 0 and ceiling_height < 2.5')['ceiling_height'].count())\n",
    "print('Квартиры с потолками от 2.5 до 4м:', df.query('ceiling_height > 2.5 and ceiling_height <= 4')['ceiling_height'].count())\n",
    "print('Квартиры с потолками от 4 до 5м:', df.query('ceiling_height > 4 and ceiling_height <= 5')['ceiling_height'].count())\n",
    "print('Квартиры с потолками от 5 до 25м:', df.query('ceiling_height > 5 and ceiling_height < 25')['ceiling_height'].count())\n",
    "print('Квартиры с потолками от 25м до 36м:', df.query('ceiling_height >= 25 and ceiling_height <= 36')['ceiling_height'].count())\n",
    "print('Квартиры с потолками от 36м до 50м:', df.query('ceiling_height > 36 and ceiling_height < 50')['ceiling_height'].count())\n",
    "print('Квартиры с потолками от 50м:', df.query('ceiling_height >= 50')['ceiling_height'].count())"
   ]
  },
  {
   "cell_type": "markdown",
   "metadata": {},
   "source": [
    "Квартиры с потолками меньше 2.5м - не подходят в соответствии со СНиПом\n",
    "\n",
    "Квартиры с потолками от 2.5 до 4м - норма\n",
    "\n",
    "Квартиры с потолками от 4 до 5м - маловероятно\n",
    "\n",
    "Квартиры с потолками от 5 до 25м - такого не может быть \n",
    "\n",
    "Квартиры с потолками от 25м до 36м - это оппечатки, скорее всего пропущен разделитель\n",
    "\n",
    "Квартиры с потолками от 36м до 50м - это выброс \n",
    "\n",
    "Квартиры с потолками от 50м - тоже выброс"
   ]
  },
  {
   "cell_type": "code",
   "execution_count": 26,
   "metadata": {},
   "outputs": [],
   "source": [
    "df.drop(index=df.query('ceiling_height < 2.5').index,inplace=True)\n",
    "\n",
    "df.drop(index=df.query('ceiling_height > 4 and ceiling_height < 25').index,inplace=True)\n",
    "\n",
    "df.update(df[(df['ceiling_height'] >= 25) & (df['ceiling_height'] <= 36)]['ceiling_height']/10)\n",
    "\n",
    "df.drop(index=df.query('ceiling_height > 36').index,inplace=True)"
   ]
  },
  {
   "cell_type": "code",
   "execution_count": 27,
   "metadata": {},
   "outputs": [
    {
     "name": "stdout",
     "output_type": "stream",
     "text": [
      "Квартиры с потолками меньше 2.5м: 0\n",
      "Квартиры с потолками от 2.5 до 4м: 10812\n",
      "Квартиры с потолками от 4 до 5м: 0\n",
      "Квартиры с потолками от 5 до 25м: 0\n",
      "Квартиры с потолками от 25м до 36м: 0\n",
      "Квартиры с потолками от 36м до 50м: 0\n",
      "Квартиры с потолками от 50м: 0\n"
     ]
    }
   ],
   "source": [
    "print('Квартиры с потолками меньше 2.5м:', df.query('ceiling_height > 0 and ceiling_height < 2.5')['ceiling_height'].count())\n",
    "print('Квартиры с потолками от 2.5 до 4м:', df.query('ceiling_height > 2.5 and ceiling_height <= 4')['ceiling_height'].count())\n",
    "print('Квартиры с потолками от 4 до 5м:', df.query('ceiling_height > 4 and ceiling_height <= 5')['ceiling_height'].count())\n",
    "print('Квартиры с потолками от 5 до 25м:', df.query('ceiling_height > 5 and ceiling_height < 25')['ceiling_height'].count())\n",
    "print('Квартиры с потолками от 25м до 36м:', df.query('ceiling_height >= 25 and ceiling_height <= 36')['ceiling_height'].count())\n",
    "print('Квартиры с потолками от 36м до 50м:', df.query('ceiling_height > 36 and ceiling_height < 50')['ceiling_height'].count())\n",
    "print('Квартиры с потолками от 50м:', df.query('ceiling_height >= 50')['ceiling_height'].count())"
   ]
  },
  {
   "cell_type": "code",
   "execution_count": 67,
   "metadata": {},
   "outputs": [
    {
     "data": {
      "image/png": "[encoded data removed]",
      "text/plain": [
       "<Figure size 432x288 with 1 Axes>"
      ]
     },
     "metadata": {
      "needs_background": "light"
     },
     "output_type": "display_data"
    }
   ],
   "source": [
    "df.hist('ceiling_height',bins=50,range=(0,4));"
   ]
  },
  {
   "cell_type": "markdown",
   "metadata": {},
   "source": [
    "В основном квартиры с потолками 2.5 метра"
   ]
  },
  {
   "cell_type": "markdown",
   "metadata": {},
   "source": [
    "**floors_total**"
   ]
  },
  {
   "cell_type": "markdown",
   "metadata": {},
   "source": [
    " "
   ]
  },
  {
   "cell_type": "code",
   "execution_count": 30,
   "metadata": {},
   "outputs": [
    {
     "name": "stdout",
     "output_type": "stream",
     "text": [
      "Квартиры в одноэтажных домах: 23\n",
      "Квартиры в домах до 10 этажей: 14704\n",
      "Квартиры в домах от 10 до 20 этажей: 6016\n",
      "Квартиры в домах от 30 этажей: 31\n"
     ]
    }
   ],
   "source": [
    "print('Квартиры в одноэтажных домах:', df.query('floors_total == 1')['floors_total'].count())\n",
    "print('Квартиры в домах до 10 этажей:', df.query('floors_total > 1 and floors_total <= 10')['floors_total'].count())\n",
    "print('Квартиры в домах от 10 до 20 этажей:', df.query('floors_total > 10 and floors_total <= 20')['floors_total'].count())\n",
    "print('Квартиры в домах от 30 этажей:', df.query('floors_total > 30')['floors_total'].count())"
   ]
  },
  {
   "cell_type": "code",
   "execution_count": 68,
   "metadata": {},
   "outputs": [
    {
     "data": {
      "image/png": "[encoded data removed]",
      "text/plain": [
       "<Figure size 432x288 with 1 Axes>"
      ]
     },
     "metadata": {
      "needs_background": "light"
     },
     "output_type": "display_data"
    }
   ],
   "source": [
    "df.hist('floors_total', bins=20);"
   ]
  },
  {
   "cell_type": "markdown",
   "metadata": {},
   "source": [
    "Данные похожи на правду"
   ]
  },
  {
   "cell_type": "markdown",
   "metadata": {},
   "source": [
    "**living_area**"
   ]
  },
  {
   "cell_type": "markdown",
   "metadata": {},
   "source": [
    "В среднем квартиры от 10 до 60 кв.м. \n",
    "\n",
    "Встречаются мельше 10 и квартиры больше 200 кв.м., но это или аномалии или опечатки \n",
    "\n",
    "Избавимся от аномалий"
   ]
  },
  {
   "cell_type": "code",
   "execution_count": 33,
   "metadata": {},
   "outputs": [],
   "source": [
    "df.drop(index=df.query('living_area < 10').index,inplace=True)\n",
    "df.drop(index=df.query('living_area > 200').index,inplace=True)"
   ]
  },
  {
   "cell_type": "code",
   "execution_count": 69,
   "metadata": {},
   "outputs": [
    {
     "data": {
      "image/png": "[encoded data removed]",
      "text/plain": [
       "<Figure size 432x288 with 1 Axes>"
      ]
     },
     "metadata": {
      "needs_background": "light"
     },
     "output_type": "display_data"
    }
   ],
   "source": [
    "df.hist('living_area', bins=50);"
   ]
  },
  {
   "cell_type": "markdown",
   "metadata": {},
   "source": [
    "**floor**"
   ]
  },
  {
   "cell_type": "code",
   "execution_count": 70,
   "metadata": {},
   "outputs": [
    {
     "data": {
      "image/png": "[encoded data removed]",
      "text/plain": [
       "<Figure size 432x288 with 1 Axes>"
      ]
     },
     "metadata": {
      "needs_background": "light"
     },
     "output_type": "display_data"
    }
   ],
   "source": [
    "df.hist('floor',bins=20);"
   ]
  },
  {
   "cell_type": "markdown",
   "metadata": {},
   "source": [
    "Нулевых этажей нет, с данными все в порядке, в основном это малоэтажная застройка"
   ]
  },
  {
   "cell_type": "markdown",
   "metadata": {},
   "source": [
    "**kitchen_area**"
   ]
  },
  {
   "cell_type": "markdown",
   "metadata": {},
   "source": [
    "Самая маленькая кухня меньше 2 кв.м. - это аномалия или оппечатка\n",
    "\n",
    "Самая большая 112 кв.м.\n",
    "\n",
    "Удалим данные меньше 2х квадратов и больше 50"
   ]
  },
  {
   "cell_type": "code",
   "execution_count": 36,
   "metadata": {},
   "outputs": [],
   "source": [
    "df.drop(index=df.query('kitchen_area < 2').index,inplace=True)\n",
    "df.drop(index=df.query('kitchen_area > 50').index,inplace=True)"
   ]
  },
  {
   "cell_type": "code",
   "execution_count": 71,
   "metadata": {},
   "outputs": [
    {
     "data": {
      "image/png": "[encoded data removed]",
      "text/plain": [
       "<Figure size 432x288 with 1 Axes>"
      ]
     },
     "metadata": {
      "needs_background": "light"
     },
     "output_type": "display_data"
    }
   ],
   "source": [
    "df.hist('kitchen_area',bins=20);"
   ]
  },
  {
   "cell_type": "markdown",
   "metadata": {},
   "source": [
    "**balcony**"
   ]
  },
  {
   "cell_type": "code",
   "execution_count": 72,
   "metadata": {},
   "outputs": [
    {
     "data": {
      "image/png": "[encoded data removed]",
      "text/plain": [
       "<Figure size 432x288 with 1 Axes>"
      ]
     },
     "metadata": {
      "needs_background": "light"
     },
     "output_type": "display_data"
    }
   ],
   "source": [
    "df.hist('balcony',bins=5);"
   ]
  },
  {
   "cell_type": "markdown",
   "metadata": {},
   "source": [
    "Количество балконов выглядит правдоподобно"
   ]
  },
  {
   "cell_type": "markdown",
   "metadata": {},
   "source": [
    "**days_exposition**"
   ]
  },
  {
   "cell_type": "code",
   "execution_count": 40,
   "metadata": {},
   "outputs": [
    {
     "name": "stdout",
     "output_type": "stream",
     "text": [
      "Объявлению меньше года:  17284\n",
      "Объявлению больше года:  2259\n",
      "Объявлению больше 2 лет:  565\n",
      "Объявлению больше 3 лет:  165\n"
     ]
    }
   ],
   "source": [
    "print('Объявлению меньше года: ',df.query('days_exposition < 365')['days_exposition'].count())\n",
    "print('Объявлению больше года: ',df.query('days_exposition > 365 and days_exposition < 365*2')['days_exposition'].count())\n",
    "print('Объявлению больше 2 лет: ',df.query('days_exposition > 365*2 and days_exposition < 365*3')['days_exposition'].count())\n",
    "print('Объявлению больше 3 лет: ',df.query('days_exposition > 365*3')['days_exposition'].count())"
   ]
  },
  {
   "cell_type": "markdown",
   "metadata": {},
   "source": [
    "Объявления, которым больше 3 лет - аномалия, избавимся"
   ]
  },
  {
   "cell_type": "code",
   "execution_count": 41,
   "metadata": {},
   "outputs": [
    {
     "data": {
      "image/png": "[encoded data removed]",
      "text/plain": [
       "<Figure size 432x288 with 1 Axes>"
      ]
     },
     "metadata": {
      "needs_background": "light"
     },
     "output_type": "display_data"
    }
   ],
   "source": [
    "df.drop(index=df.query('days_exposition > 365*3').index,inplace=True)\n",
    "\n",
    "df.hist('days_exposition', bins=100);"
   ]
  },
  {
   "cell_type": "markdown",
   "metadata": {},
   "source": [
    "**airports_nearest**"
   ]
  },
  {
   "cell_type": "markdown",
   "metadata": {},
   "source": [
    "Из выборки выбивается квартира ну очень близко к аэропорту, такое маловероятно"
   ]
  },
  {
   "cell_type": "code",
   "execution_count": 43,
   "metadata": {},
   "outputs": [],
   "source": [
    "df.drop(index=df.query('airports_nearest < 5000').index,inplace=True)"
   ]
  },
  {
   "cell_type": "code",
   "execution_count": 44,
   "metadata": {},
   "outputs": [
    {
     "data": {
      "image/png": "[encoded data removed]",
      "text/plain": [
       "<Figure size 432x288 with 1 Axes>"
      ]
     },
     "metadata": {
      "needs_background": "light"
     },
     "output_type": "display_data"
    }
   ],
   "source": [
    "df.hist('airports_nearest', bins=100);"
   ]
  },
  {
   "cell_type": "markdown",
   "metadata": {},
   "source": [
    "Исходя из первоначальных гистограм оставшиеся столбцы выглядят правдоподобно, аномальных значений нет"
   ]
  },
  {
   "cell_type": "markdown",
   "metadata": {},
   "source": [
    "На всякий случай сбросим индексацию после предобработки данных"
   ]
  },
  {
   "cell_type": "code",
   "execution_count": 45,
   "metadata": {},
   "outputs": [],
   "source": [
    "df.reset_index(drop=True,inplace=True)"
   ]
  },
  {
   "cell_type": "markdown",
   "metadata": {},
   "source": [
    "**Выводы (предобработка данных)**"
   ]
  },
  {
   "cell_type": "markdown",
   "metadata": {},
   "source": [
    "Предобработка данных потребовала: \n",
    "- привести названия к нижнему регистру\n",
    "- избавится от пропусков, где это возможно\n",
    "- избавится от ивных и неявных дубликатов\n",
    "- избавится от маловероятных аномальных значений (выбросов)\n",
    "- сбросить индексацию базы данных\n",
    "\n",
    "Итого: Работать с данной таблицей можно, и в дальнейшем проводить исследовательский анализ данных."
   ]
  },
  {
   "cell_type": "markdown",
   "metadata": {},
   "source": [
    "### Посчитайте и добавьте в таблицу новые столбцы"
   ]
  },
  {
   "cell_type": "markdown",
   "metadata": {},
   "source": [
    "**Цена одного квадратного метра**"
   ]
  },
  {
   "cell_type": "code",
   "execution_count": 46,
   "metadata": {},
   "outputs": [],
   "source": [
    "df['cost_per_m'] = df['last_price'] / df['total_area']"
   ]
  },
  {
   "cell_type": "markdown",
   "metadata": {},
   "source": [
    "**День публикации объявления**"
   ]
  },
  {
   "cell_type": "code",
   "execution_count": 47,
   "metadata": {},
   "outputs": [],
   "source": [
    "df['day_of_week'] = df['first_day_exposition'].dt.dayofweek"
   ]
  },
  {
   "cell_type": "markdown",
   "metadata": {},
   "source": [
    "**Месяц публикации объявления**"
   ]
  },
  {
   "cell_type": "code",
   "execution_count": 48,
   "metadata": {},
   "outputs": [],
   "source": [
    "df['month'] = df['first_day_exposition'].dt.month"
   ]
  },
  {
   "cell_type": "markdown",
   "metadata": {},
   "source": [
    "**Год публикации объявления**"
   ]
  },
  {
   "cell_type": "code",
   "execution_count": 49,
   "metadata": {},
   "outputs": [],
   "source": [
    "df['year'] = df['first_day_exposition'].dt.year"
   ]
  },
  {
   "cell_type": "markdown",
   "metadata": {},
   "source": [
    "**Тип этажа квартиры**"
   ]
  },
  {
   "cell_type": "code",
   "execution_count": 50,
   "metadata": {},
   "outputs": [],
   "source": [
    "df['floor_category'] = df.apply(\n",
    "    lambda x: 'первый' if (x.floor == 1) \n",
    "    else ('последний' if (x.floor == x.floors_total) & isinstance(x.floors_total,int) \n",
    "    else 'другой'), axis=1\n",
    ")"
   ]
  },
  {
   "cell_type": "code",
   "execution_count": 51,
   "metadata": {},
   "outputs": [
    {
     "data": {
      "text/plain": [
       "другой       17157\n",
       "последний     3242\n",
       "первый        2870\n",
       "Name: floor_category, dtype: int64"
      ]
     },
     "execution_count": 51,
     "metadata": {},
     "output_type": "execute_result"
    }
   ],
   "source": [
    "df['floor_category'].value_counts()"
   ]
  },
  {
   "cell_type": "markdown",
   "metadata": {},
   "source": [
    "Расстояние в км до центра города"
   ]
  },
  {
   "cell_type": "code",
   "execution_count": 52,
   "metadata": {},
   "outputs": [
    {
     "name": "stdout",
     "output_type": "stream",
     "text": [
      "city_centers_nearest_km: type change\n"
     ]
    }
   ],
   "source": [
    "df['city_centers_nearest_km'] = round(df['city_centers_nearest'] / 1000)\n",
    "try:\n",
    "    df['city_centers_nearest_km'] =  df['city_centers_nearest_km'].astype('Int32')\n",
    "    print('city_centers_nearest_km: type change')\n",
    "except:\n",
    "    print('city_centers_nearest_km type change error')"
   ]
  },
  {
   "cell_type": "markdown",
   "metadata": {},
   "source": [
    "### Проведите исследовательский анализ данных"
   ]
  },
  {
   "cell_type": "markdown",
   "metadata": {},
   "source": [
    "Выводим получившуюся инвормацию:\n",
    "- обновленный df\n",
    "- гистограммы"
   ]
  },
  {
   "cell_type": "markdown",
   "metadata": {},
   "source": [
    "**Оновленные параметры**"
   ]
  },
  {
   "cell_type": "code",
   "execution_count": 53,
   "metadata": {},
   "outputs": [
    {
     "data": {
      "text/html": [
       "<div>\n",
       "<style scoped>\n",
       "    .dataframe tbody tr th:only-of-type {\n",
       "        vertical-align: middle;\n",
       "    }\n",
       "\n",
       "    .dataframe tbody tr th {\n",
       "        vertical-align: top;\n",
       "    }\n",
       "\n",
       "    .dataframe thead th {\n",
       "        text-align: right;\n",
       "    }\n",
       "</style>\n",
       "<table border=\"1\" class=\"dataframe\">\n",
       "  <thead>\n",
       "    <tr style=\"text-align: right;\">\n",
       "      <th></th>\n",
       "      <th>total_images</th>\n",
       "      <th>last_price</th>\n",
       "      <th>total_area</th>\n",
       "      <th>rooms</th>\n",
       "      <th>ceiling_height</th>\n",
       "      <th>floors_total</th>\n",
       "      <th>living_area</th>\n",
       "      <th>floor</th>\n",
       "      <th>kitchen_area</th>\n",
       "      <th>balcony</th>\n",
       "      <th>...</th>\n",
       "      <th>parks_around3000</th>\n",
       "      <th>parks_nearest</th>\n",
       "      <th>ponds_around3000</th>\n",
       "      <th>ponds_nearest</th>\n",
       "      <th>days_exposition</th>\n",
       "      <th>cost_per_m</th>\n",
       "      <th>day_of_week</th>\n",
       "      <th>month</th>\n",
       "      <th>year</th>\n",
       "      <th>city_centers_nearest_km</th>\n",
       "    </tr>\n",
       "  </thead>\n",
       "  <tbody>\n",
       "    <tr>\n",
       "      <th>count</th>\n",
       "      <td>23269.000000</td>\n",
       "      <td>2.326900e+04</td>\n",
       "      <td>23269.000000</td>\n",
       "      <td>23269.000000</td>\n",
       "      <td>14161.000000</td>\n",
       "      <td>23185.000000</td>\n",
       "      <td>21398.000000</td>\n",
       "      <td>23269.000000</td>\n",
       "      <td>21029.000000</td>\n",
       "      <td>23269.000000</td>\n",
       "      <td>...</td>\n",
       "      <td>17811.000000</td>\n",
       "      <td>7853.000000</td>\n",
       "      <td>17811.000000</td>\n",
       "      <td>8877.000000</td>\n",
       "      <td>20129.000000</td>\n",
       "      <td>23269.000000</td>\n",
       "      <td>23269.000000</td>\n",
       "      <td>23269.000000</td>\n",
       "      <td>23269.000000</td>\n",
       "      <td>17810.000000</td>\n",
       "    </tr>\n",
       "    <tr>\n",
       "      <th>mean</th>\n",
       "      <td>9.861876</td>\n",
       "      <td>6.108890e+06</td>\n",
       "      <td>59.077140</td>\n",
       "      <td>2.048004</td>\n",
       "      <td>2.718538</td>\n",
       "      <td>10.711063</td>\n",
       "      <td>33.750936</td>\n",
       "      <td>5.904078</td>\n",
       "      <td>10.375841</td>\n",
       "      <td>0.592075</td>\n",
       "      <td>...</td>\n",
       "      <td>0.603503</td>\n",
       "      <td>490.491023</td>\n",
       "      <td>0.762506</td>\n",
       "      <td>520.325898</td>\n",
       "      <td>171.424164</td>\n",
       "      <td>98191.449578</td>\n",
       "      <td>2.572607</td>\n",
       "      <td>6.399630</td>\n",
       "      <td>2017.386867</td>\n",
       "      <td>14.261426</td>\n",
       "    </tr>\n",
       "    <tr>\n",
       "      <th>std</th>\n",
       "      <td>5.674370</td>\n",
       "      <td>5.925284e+06</td>\n",
       "      <td>30.361778</td>\n",
       "      <td>1.020323</td>\n",
       "      <td>0.252113</td>\n",
       "      <td>6.604607</td>\n",
       "      <td>19.139593</td>\n",
       "      <td>4.892588</td>\n",
       "      <td>5.116384</td>\n",
       "      <td>0.959019</td>\n",
       "      <td>...</td>\n",
       "      <td>0.795832</td>\n",
       "      <td>340.128745</td>\n",
       "      <td>0.932759</td>\n",
       "      <td>277.843231</td>\n",
       "      <td>197.202647</td>\n",
       "      <td>42180.520133</td>\n",
       "      <td>1.789443</td>\n",
       "      <td>3.487328</td>\n",
       "      <td>1.020240</td>\n",
       "      <td>8.585143</td>\n",
       "    </tr>\n",
       "    <tr>\n",
       "      <th>min</th>\n",
       "      <td>0.000000</td>\n",
       "      <td>4.300000e+05</td>\n",
       "      <td>12.000000</td>\n",
       "      <td>0.000000</td>\n",
       "      <td>2.500000</td>\n",
       "      <td>1.000000</td>\n",
       "      <td>10.000000</td>\n",
       "      <td>1.000000</td>\n",
       "      <td>2.000000</td>\n",
       "      <td>0.000000</td>\n",
       "      <td>...</td>\n",
       "      <td>0.000000</td>\n",
       "      <td>1.000000</td>\n",
       "      <td>0.000000</td>\n",
       "      <td>13.000000</td>\n",
       "      <td>1.000000</td>\n",
       "      <td>7962.962963</td>\n",
       "      <td>0.000000</td>\n",
       "      <td>1.000000</td>\n",
       "      <td>2014.000000</td>\n",
       "      <td>0.000000</td>\n",
       "    </tr>\n",
       "    <tr>\n",
       "      <th>25%</th>\n",
       "      <td>6.000000</td>\n",
       "      <td>3.400000e+06</td>\n",
       "      <td>40.000000</td>\n",
       "      <td>1.000000</td>\n",
       "      <td>2.520000</td>\n",
       "      <td>5.000000</td>\n",
       "      <td>18.600000</td>\n",
       "      <td>2.000000</td>\n",
       "      <td>7.000000</td>\n",
       "      <td>0.000000</td>\n",
       "      <td>...</td>\n",
       "      <td>0.000000</td>\n",
       "      <td>288.000000</td>\n",
       "      <td>0.000000</td>\n",
       "      <td>297.000000</td>\n",
       "      <td>44.000000</td>\n",
       "      <td>76517.150396</td>\n",
       "      <td>1.000000</td>\n",
       "      <td>3.000000</td>\n",
       "      <td>2017.000000</td>\n",
       "      <td>9.000000</td>\n",
       "    </tr>\n",
       "    <tr>\n",
       "      <th>50%</th>\n",
       "      <td>9.000000</td>\n",
       "      <td>4.600000e+06</td>\n",
       "      <td>52.000000</td>\n",
       "      <td>2.000000</td>\n",
       "      <td>2.650000</td>\n",
       "      <td>9.000000</td>\n",
       "      <td>30.000000</td>\n",
       "      <td>4.000000</td>\n",
       "      <td>9.050000</td>\n",
       "      <td>0.000000</td>\n",
       "      <td>...</td>\n",
       "      <td>0.000000</td>\n",
       "      <td>455.000000</td>\n",
       "      <td>0.000000</td>\n",
       "      <td>504.000000</td>\n",
       "      <td>93.000000</td>\n",
       "      <td>94818.652850</td>\n",
       "      <td>3.000000</td>\n",
       "      <td>6.000000</td>\n",
       "      <td>2017.000000</td>\n",
       "      <td>13.000000</td>\n",
       "    </tr>\n",
       "    <tr>\n",
       "      <th>75%</th>\n",
       "      <td>14.000000</td>\n",
       "      <td>6.700000e+06</td>\n",
       "      <td>69.000000</td>\n",
       "      <td>3.000000</td>\n",
       "      <td>2.800000</td>\n",
       "      <td>16.000000</td>\n",
       "      <td>42.000000</td>\n",
       "      <td>8.000000</td>\n",
       "      <td>12.000000</td>\n",
       "      <td>1.000000</td>\n",
       "      <td>...</td>\n",
       "      <td>1.000000</td>\n",
       "      <td>612.000000</td>\n",
       "      <td>1.000000</td>\n",
       "      <td>733.000000</td>\n",
       "      <td>224.000000</td>\n",
       "      <td>113772.455090</td>\n",
       "      <td>4.000000</td>\n",
       "      <td>10.000000</td>\n",
       "      <td>2018.000000</td>\n",
       "      <td>16.000000</td>\n",
       "    </tr>\n",
       "    <tr>\n",
       "      <th>max</th>\n",
       "      <td>50.000000</td>\n",
       "      <td>9.900000e+07</td>\n",
       "      <td>494.100000</td>\n",
       "      <td>7.000000</td>\n",
       "      <td>4.000000</td>\n",
       "      <td>60.000000</td>\n",
       "      <td>200.000000</td>\n",
       "      <td>33.000000</td>\n",
       "      <td>50.000000</td>\n",
       "      <td>5.000000</td>\n",
       "      <td>...</td>\n",
       "      <td>3.000000</td>\n",
       "      <td>3190.000000</td>\n",
       "      <td>3.000000</td>\n",
       "      <td>1344.000000</td>\n",
       "      <td>1095.000000</td>\n",
       "      <td>848484.848485</td>\n",
       "      <td>6.000000</td>\n",
       "      <td>12.000000</td>\n",
       "      <td>2019.000000</td>\n",
       "      <td>66.000000</td>\n",
       "    </tr>\n",
       "  </tbody>\n",
       "</table>\n",
       "<p>8 rows × 22 columns</p>\n",
       "</div>"
      ],
      "text/plain": [
       "       total_images    last_price    total_area         rooms  ceiling_height  \\\n",
       "count  23269.000000  2.326900e+04  23269.000000  23269.000000    14161.000000   \n",
       "mean       9.861876  6.108890e+06     59.077140      2.048004        2.718538   \n",
       "std        5.674370  5.925284e+06     30.361778      1.020323        0.252113   \n",
       "min        0.000000  4.300000e+05     12.000000      0.000000        2.500000   \n",
       "25%        6.000000  3.400000e+06     40.000000      1.000000        2.520000   \n",
       "50%        9.000000  4.600000e+06     52.000000      2.000000        2.650000   \n",
       "75%       14.000000  6.700000e+06     69.000000      3.000000        2.800000   \n",
       "max       50.000000  9.900000e+07    494.100000      7.000000        4.000000   \n",
       "\n",
       "       floors_total   living_area         floor  kitchen_area       balcony  \\\n",
       "count  23185.000000  21398.000000  23269.000000  21029.000000  23269.000000   \n",
       "mean      10.711063     33.750936      5.904078     10.375841      0.592075   \n",
       "std        6.604607     19.139593      4.892588      5.116384      0.959019   \n",
       "min        1.000000     10.000000      1.000000      2.000000      0.000000   \n",
       "25%        5.000000     18.600000      2.000000      7.000000      0.000000   \n",
       "50%        9.000000     30.000000      4.000000      9.050000      0.000000   \n",
       "75%       16.000000     42.000000      8.000000     12.000000      1.000000   \n",
       "max       60.000000    200.000000     33.000000     50.000000      5.000000   \n",
       "\n",
       "       ...  parks_around3000  parks_nearest  ponds_around3000  ponds_nearest  \\\n",
       "count  ...      17811.000000    7853.000000      17811.000000    8877.000000   \n",
       "mean   ...          0.603503     490.491023          0.762506     520.325898   \n",
       "std    ...          0.795832     340.128745          0.932759     277.843231   \n",
       "min    ...          0.000000       1.000000          0.000000      13.000000   \n",
       "25%    ...          0.000000     288.000000          0.000000     297.000000   \n",
       "50%    ...          0.000000     455.000000          0.000000     504.000000   \n",
       "75%    ...          1.000000     612.000000          1.000000     733.000000   \n",
       "max    ...          3.000000    3190.000000          3.000000    1344.000000   \n",
       "\n",
       "       days_exposition     cost_per_m   day_of_week         month  \\\n",
       "count     20129.000000   23269.000000  23269.000000  23269.000000   \n",
       "mean        171.424164   98191.449578      2.572607      6.399630   \n",
       "std         197.202647   42180.520133      1.789443      3.487328   \n",
       "min           1.000000    7962.962963      0.000000      1.000000   \n",
       "25%          44.000000   76517.150396      1.000000      3.000000   \n",
       "50%          93.000000   94818.652850      3.000000      6.000000   \n",
       "75%         224.000000  113772.455090      4.000000     10.000000   \n",
       "max        1095.000000  848484.848485      6.000000     12.000000   \n",
       "\n",
       "               year  city_centers_nearest_km  \n",
       "count  23269.000000             17810.000000  \n",
       "mean    2017.386867                14.261426  \n",
       "std        1.020240                 8.585143  \n",
       "min     2014.000000                 0.000000  \n",
       "25%     2017.000000                 9.000000  \n",
       "50%     2017.000000                13.000000  \n",
       "75%     2018.000000                16.000000  \n",
       "max     2019.000000                66.000000  \n",
       "\n",
       "[8 rows x 22 columns]"
      ]
     },
     "execution_count": 53,
     "metadata": {},
     "output_type": "execute_result"
    }
   ],
   "source": [
    "df.describe()"
   ]
  },
  {
   "cell_type": "code",
   "execution_count": 73,
   "metadata": {},
   "outputs": [
    {
     "data": {
      "image/png": "[encoded data removed]",
      "text/plain": [
       "<Figure size 1440x1440 with 25 Axes>"
      ]
     },
     "metadata": {
      "needs_background": "light"
     },
     "output_type": "display_data"
    }
   ],
   "source": [
    "df.hist(figsize=(20, 20));"
   ]
  },
  {
   "cell_type": "markdown",
   "metadata": {},
   "source": [
    "**Гистограммы**"
   ]
  },
  {
   "cell_type": "code",
   "execution_count": 55,
   "metadata": {
    "scrolled": false
   },
   "outputs": [
    {
     "data": {
      "image/png": "[encoded data removed]",
      "text/plain": [
       "<Figure size 432x288 with 1 Axes>"
      ]
     },
     "metadata": {
      "needs_background": "light"
     },
     "output_type": "display_data"
    },
    {
     "data": {
      "image/png": "[encoded data removed]",
      "text/plain": [
       "<Figure size 432x288 with 1 Axes>"
      ]
     },
     "metadata": {
      "needs_background": "light"
     },
     "output_type": "display_data"
    },
    {
     "data": {
      "image/png": "[encoded data removed]",
      "text/plain": [
       "<Figure size 432x288 with 1 Axes>"
      ]
     },
     "metadata": {
      "needs_background": "light"
     },
     "output_type": "display_data"
    },
    {
     "data": {
      "image/png": "[encoded data removed]",
      "text/plain": [
       "<Figure size 432x288 with 1 Axes>"
      ]
     },
     "metadata": {
      "needs_background": "light"
     },
     "output_type": "display_data"
    },
    {
     "data": {
      "image/png": "[encoded data removed]",
      "text/plain": [
       "<Figure size 432x288 with 1 Axes>"
      ]
     },
     "metadata": {
      "needs_background": "light"
     },
     "output_type": "display_data"
    },
    {
     "data": {
      "image/png": "[encoded data removed]",
      "text/plain": [
       "<Figure size 432x288 with 1 Axes>"
      ]
     },
     "metadata": {
      "needs_background": "light"
     },
     "output_type": "display_data"
    },
    {
     "data": {
      "image/png": "[encoded data removed]",
      "text/plain": [
       "<Figure size 432x288 with 1 Axes>"
      ]
     },
     "metadata": {
      "needs_background": "light"
     },
     "output_type": "display_data"
    },
    {
     "data": {
      "image/png": "[encoded data removed]",
      "text/plain": [
       "<Figure size 432x288 with 1 Axes>"
      ]
     },
     "metadata": {
      "needs_background": "light"
     },
     "output_type": "display_data"
    },
    {
     "data": {
      "image/png": "[encoded data removed]",
      "text/plain": [
       "<Figure size 432x288 with 1 Axes>"
      ]
     },
     "metadata": {
      "needs_background": "light"
     },
     "output_type": "display_data"
    },
    {
     "data": {
      "image/png": "[encoded data removed]",
      "text/plain": [
       "<Figure size 432x288 with 1 Axes>"
      ]
     },
     "metadata": {
      "needs_background": "light"
     },
     "output_type": "display_data"
    },
    {
     "data": {
      "image/png": "[encoded data removed]",
      "text/plain": [
       "<Figure size 432x288 with 1 Axes>"
      ]
     },
     "metadata": {
      "needs_background": "light"
     },
     "output_type": "display_data"
    },
    {
     "data": {
      "image/png": "[encoded data removed]",
      "text/plain": [
       "<Figure size 432x288 with 1 Axes>"
      ]
     },
     "metadata": {
      "needs_background": "light"
     },
     "output_type": "display_data"
    },
    {
     "data": {
      "image/png": "[encoded data removed]",
      "text/plain": [
       "<Figure size 432x288 with 1 Axes>"
      ]
     },
     "metadata": {
      "needs_background": "light"
     },
     "output_type": "display_data"
    }
   ],
   "source": [
    "df.hist('last_price', bins=100);\n",
    "\n",
    "df.hist('total_area', bins=100);\n",
    "\n",
    "df.hist('rooms', bins=df['rooms'].max());\n",
    "\n",
    "df.hist('living_area', bins=100);\n",
    "\n",
    "df.hist('kitchen_area', bins=100);\n",
    "\n",
    "df.hist('ceiling_height', bins=30);\n",
    "\n",
    "df.hist('floor', bins=df['floor'].max());\n",
    "\n",
    "df.hist('floors_total', bins=df['floors_total'].max());\n",
    "\n",
    "df.groupby(by='floor_category')['floor_category'].count().plot(kind='bar', ylabel = 'count');\n",
    "\n",
    "df.hist('city_centers_nearest', bins=100);\n",
    "\n",
    "df.hist('airports_nearest', bins=100);\n",
    "\n",
    "df.hist('parks_nearest', bins=100);\n",
    "\n",
    "df.hist('day_of_week', bins=7);\n",
    "\n",
    "df.hist('month', bins=12);"
   ]
  },
  {
   "cell_type": "markdown",
   "metadata": {},
   "source": [
    "**Построили гистограммы для следующих параметров:**\n",
    "\n",
    "**Цена объекта**\n",
    "Цены квартир выглядят хорошо, вправо уходит ухвост, но это цены \"элитная недвижимость\".\n",
    "\n",
    "**Общая площадь**\n",
    "Предобладают квартиры с небольшой общей площадью.\n",
    "\n",
    "**Количество комнат**\n",
    "Больше всего 2х и 3х комнатных квартир.\n",
    "\n",
    "**Жилая площадь**\n",
    "На графике видны два пика - на 18 кв.м. и на 30 кв.м, предположительно это студии/однушки и 2-3 комнатные квартины.\n",
    "\n",
    "**Площадь кухни**\n",
    "Площадь кухни выглядит хорошо.\n",
    "\n",
    "**Высота потолков**\n",
    "На графике видны два пика 2.5м. и 3м., согласно стандартам.\n",
    "\n",
    "**Этаж квартиры**\n",
    "Больше всего квартир с 1 по 5 этаж.\n",
    "\n",
    "**Общее количество этажей в доме**\n",
    "На графике видны два пика 5-этажки и 9-этажки.\n",
    "\n",
    "**Тип этажа квартиры («первый», «последний», «другой»)**\n",
    "Первых и последних этажей мало. Основная часть находится на \"другом\" этаже.\n",
    "\n",
    "**Расстояние до центра города в метрах**\n",
    "На графике видны два пика, поменьше на 5км. и побольше на 10-15 км.\n",
    "\n",
    "**Расстояние до ближайшего аэропорта**\n",
    "Выглядит нормально, недвижимость расположена на разных растояниях от аэропорта, от этого видно \"шум\"\n",
    "\n",
    "**Расстояние до ближайшего парка**\n",
    "На графике видно, что больше всего квартир (с парками) на расстоянии до 750м.\n",
    "\n",
    "**День и месяц публикации объявления**\n",
    "В субботу и воскресенье провалы в графике, выходные. По месяцам видны провалы в декабре, январе и мае, что соответстует продолжительным праздникам"
   ]
  },
  {
   "cell_type": "markdown",
   "metadata": {},
   "source": [
    " "
   ]
  },
  {
   "cell_type": "markdown",
   "metadata": {},
   "source": [
    "**Как быстро продавались квартиры**"
   ]
  },
  {
   "cell_type": "markdown",
   "metadata": {},
   "source": [
    "Строим гистограмму"
   ]
  },
  {
   "cell_type": "code",
   "execution_count": 85,
   "metadata": {},
   "outputs": [
    {
     "data": {
      "image/png": "[encoded data removed]",
      "text/plain": [
       "<Figure size 432x288 with 1 Axes>"
      ]
     },
     "metadata": {
      "needs_background": "light"
     },
     "output_type": "display_data"
    },
    {
     "data": {
      "image/png": "[encoded data removed]",
      "text/plain": [
       "<Figure size 432x288 with 1 Axes>"
      ]
     },
     "metadata": {
      "needs_background": "light"
     },
     "output_type": "display_data"
    }
   ],
   "source": [
    "df.hist('days_exposition', bins=100);\n",
    "df.hist('days_exposition', bins=100, range = (0,100));"
   ]
  },
  {
   "cell_type": "markdown",
   "metadata": {},
   "source": [
    "Считаем среднее и медиану"
   ]
  },
  {
   "cell_type": "code",
   "execution_count": 81,
   "metadata": {},
   "outputs": [
    {
     "name": "stdout",
     "output_type": "stream",
     "text": [
      "Среднее время продажи квартиры в днях: 171\n",
      "Медианное время продажи квартиры в днях: 93\n"
     ]
    },
    {
     "data": {
      "image/png": "[encoded data removed]",
      "text/plain": [
       "<Figure size 432x288 with 1 Axes>"
      ]
     },
     "metadata": {
      "needs_background": "light"
     },
     "output_type": "display_data"
    },
    {
     "data": {
      "image/png": "[encoded data removed]",
      "text/plain": [
       "<Figure size 432x288 with 1 Axes>"
      ]
     },
     "metadata": {
      "needs_background": "light"
     },
     "output_type": "display_data"
    }
   ],
   "source": [
    "df.hist('days_exposition', bins=100);\n",
    "df.hist('days_exposition', bins=100, range = (0,100));\n",
    "print(f'Среднее время продажи квартиры в днях:',int(df['days_exposition'].mean()))\n",
    "print('Медианное время продажи квартиры в днях:',int(df['days_exposition'].median()))"
   ]
  },
  {
   "cell_type": "code",
   "execution_count": 86,
   "metadata": {},
   "outputs": [
    {
     "name": "stdout",
     "output_type": "stream",
     "text": [
      "Количество объявлений, которые сняты через:\n",
      "45 дней: 872\n",
      "60 дней: 535\n",
      "90 дней: 202\n"
     ]
    }
   ],
   "source": [
    "print('Количество объявлений, которые сняты через:')\n",
    "print('45 дней:',df[df['days_exposition']==45]['days_exposition'].count())\n",
    "print('60 дней:',df[df['days_exposition']==60]['days_exposition'].count())\n",
    "print('90 дней:',df[df['days_exposition']==90]['days_exposition'].count())"
   ]
  },
  {
   "cell_type": "markdown",
   "metadata": {},
   "source": [
    "Выбросы происходят в конкретные дни, что похоже на истекший срок размещения платных обьявлений"
   ]
  },
  {
   "cell_type": "markdown",
   "metadata": {},
   "source": [
    "Быстрыми продажами можно считать сроки до 93 дней, а необычно долгими - свыше 171 дня. Такое среднее обучловлено тем, что есть длинный хвост из обектов, которые продаются годами. "
   ]
  },
  {
   "cell_type": "markdown",
   "metadata": {},
   "source": [
    "**Какие факторы больше всего влияют на общую (полную) стоимость объекта**"
   ]
  },
  {
   "cell_type": "markdown",
   "metadata": {},
   "source": [
    "Считаем корреляцию от:\n",
    "- общей площади;\n",
    "- жилой площади;\n",
    "- площади кухни;\n",
    "- количество комнат;\n",
    "- типа этажа, на котором расположена квартира (первый, последний, другой);\n",
    "- даты размещения (день недели, месяц, год);"
   ]
  },
  {
   "cell_type": "markdown",
   "metadata": {},
   "source": [
    "**Зависимость стоимости от общей площади**"
   ]
  },
  {
   "cell_type": "code",
   "execution_count": 58,
   "metadata": {},
   "outputs": [
    {
     "name": "stdout",
     "output_type": "stream",
     "text": [
      "Корреляция цены и общей площади:\n",
      "            last_price  total_area\n",
      "last_price    1.000000    0.880516\n",
      "total_area    0.880516    1.000000\n"
     ]
    },
    {
     "data": {
      "image/png": "[encoded data removed]",
      "text/plain": [
       "<Figure size 360x360 with 1 Axes>"
      ]
     },
     "metadata": {
      "needs_background": "light"
     },
     "output_type": "display_data"
    }
   ],
   "source": [
    "(\n",
    "    df.pivot_table(index='total_area', values='last_price')\n",
    "    .plot(grid=True, style='o', figsize=(5, 5))\n",
    ")\n",
    "print('Корреляция цены и общей площади:')\n",
    "print(df.pivot_table(index='floor', values=['total_area', 'last_price']).corr())"
   ]
  },
  {
   "cell_type": "markdown",
   "metadata": {},
   "source": [
    "**Зависимость стоимости от жилой площади**"
   ]
  },
  {
   "cell_type": "code",
   "execution_count": 59,
   "metadata": {},
   "outputs": [
    {
     "name": "stdout",
     "output_type": "stream",
     "text": [
      "Корреляция цены и жилой площади:\n",
      "             last_price  living_area\n",
      "last_price     1.000000     0.742089\n",
      "living_area    0.742089     1.000000\n"
     ]
    },
    {
     "data": {
      "image/png": "[encoded data removed]",
      "text/plain": [
       "<Figure size 360x360 with 1 Axes>"
      ]
     },
     "metadata": {
      "needs_background": "light"
     },
     "output_type": "display_data"
    }
   ],
   "source": [
    "(\n",
    "    df.pivot_table(index='living_area', values='last_price')\n",
    "    .plot(grid=True, style='o', figsize=(5, 5))\n",
    ")\n",
    "print('Корреляция цены и жилой площади:')\n",
    "print(df.pivot_table(index='floor', values=['living_area', 'last_price']).corr())"
   ]
  },
  {
   "cell_type": "markdown",
   "metadata": {},
   "source": [
    "**Зависимость стоимости от площади кухни**"
   ]
  },
  {
   "cell_type": "code",
   "execution_count": 60,
   "metadata": {},
   "outputs": [
    {
     "name": "stdout",
     "output_type": "stream",
     "text": [
      "Корреляция цены и площади кухни:\n",
      "              kitchen_area  last_price\n",
      "kitchen_area      1.000000    0.342623\n",
      "last_price        0.342623    1.000000\n"
     ]
    },
    {
     "data": {
      "image/png": "[encoded data removed]",
      "text/plain": [
       "<Figure size 360x360 with 1 Axes>"
      ]
     },
     "metadata": {
      "needs_background": "light"
     },
     "output_type": "display_data"
    }
   ],
   "source": [
    "(\n",
    "    df.pivot_table(index='kitchen_area', values='last_price')\n",
    "    .plot(grid=True, style='o', figsize=(5, 5))\n",
    ")\n",
    "print('Корреляция цены и площади кухни:')\n",
    "print(df.pivot_table(index='floor', values=['kitchen_area', 'last_price']).corr())"
   ]
  },
  {
   "cell_type": "markdown",
   "metadata": {},
   "source": [
    "**Зависимость стоимости от количества комнат**"
   ]
  },
  {
   "cell_type": "code",
   "execution_count": 61,
   "metadata": {},
   "outputs": [
    {
     "name": "stdout",
     "output_type": "stream",
     "text": [
      "Корреляция цены и числа комнат:\n",
      "            last_price     rooms\n",
      "last_price    1.000000  0.591432\n",
      "rooms         0.591432  1.000000\n"
     ]
    },
    {
     "data": {
      "image/png": "[encoded data removed]",
      "text/plain": [
       "<Figure size 360x360 with 1 Axes>"
      ]
     },
     "metadata": {
      "needs_background": "light"
     },
     "output_type": "display_data"
    }
   ],
   "source": [
    "(\n",
    "    df.query('rooms > 0').pivot_table(index='rooms', values='last_price')\n",
    "    .plot(grid=True, style='o-', figsize=(5, 5))\n",
    ")\n",
    "print('Корреляция цены и числа комнат:')\n",
    "print(df.query('rooms > 0').pivot_table(index='floor', values=['rooms', 'last_price']).corr())"
   ]
  },
  {
   "cell_type": "markdown",
   "metadata": {},
   "source": [
    "**Зависимость стоимости от этажа**"
   ]
  },
  {
   "cell_type": "code",
   "execution_count": 62,
   "metadata": {},
   "outputs": [
    {
     "name": "stdout",
     "output_type": "stream",
     "text": [
      "Корреляция цены и этажа:\n",
      "            last_price\n",
      "last_price         1.0\n"
     ]
    },
    {
     "data": {
      "image/png": "[encoded data removed]",
      "text/plain": [
       "<Figure size 360x360 with 1 Axes>"
      ]
     },
     "metadata": {
      "needs_background": "light"
     },
     "output_type": "display_data"
    }
   ],
   "source": [
    "(\n",
    "    df.pivot_table(index='floor_category', values='last_price', aggfunc='median')\n",
    "    .plot(grid=True, style='o-', figsize=(5, 5))\n",
    ")\n",
    "print('Корреляция цены и этажа:')\n",
    "print(df.pivot_table(index='floor', values=['floor_category', 'last_price']).corr())"
   ]
  },
  {
   "cell_type": "markdown",
   "metadata": {},
   "source": [
    "**Зависимость стоимости от публикации**"
   ]
  },
  {
   "cell_type": "code",
   "execution_count": 77,
   "metadata": {},
   "outputs": [
    {
     "name": "stdout",
     "output_type": "stream",
     "text": [
      "Корреляция цены и дня публикации:\n",
      "             day_of_week  last_price\n",
      "day_of_week     1.000000    0.463771\n",
      "last_price      0.463771    1.000000\n"
     ]
    },
    {
     "data": {
      "image/png": "[encoded data removed]",
      "text/plain": [
       "<Figure size 360x360 with 1 Axes>"
      ]
     },
     "metadata": {
      "needs_background": "light"
     },
     "output_type": "display_data"
    }
   ],
   "source": [
    "(\n",
    "    df.pivot_table(index='day_of_week', values='last_price', aggfunc='median')\n",
    "    .plot(grid=True, style='-o', figsize=(5, 5))\n",
    ")\n",
    "print('Корреляция цены и дня публикации:')\n",
    "print(df.pivot_table(index='floor', values=['day_of_week', 'last_price']).corr())"
   ]
  },
  {
   "cell_type": "code",
   "execution_count": 78,
   "metadata": {},
   "outputs": [
    {
     "name": "stdout",
     "output_type": "stream",
     "text": [
      "Корреляция цены и месяца публикации:\n",
      "            last_price     month\n",
      "last_price    1.000000 -0.010403\n",
      "month        -0.010403  1.000000\n"
     ]
    },
    {
     "data": {
      "image/png": "[encoded data removed]",
      "text/plain": [
       "<Figure size 360x360 with 1 Axes>"
      ]
     },
     "metadata": {
      "needs_background": "light"
     },
     "output_type": "display_data"
    }
   ],
   "source": [
    "(\n",
    "    df.pivot_table(index='month', values='last_price', aggfunc='median')\n",
    "    .plot(grid=True, style='-o', figsize=(5, 5))\n",
    ")\n",
    "print('Корреляция цены и месяца публикации:')\n",
    "print(df.pivot_table(index='floor', values=['month', 'last_price']).corr())"
   ]
  },
  {
   "cell_type": "code",
   "execution_count": 79,
   "metadata": {},
   "outputs": [
    {
     "name": "stdout",
     "output_type": "stream",
     "text": [
      "Корреляция цены и года публикации:\n",
      "            last_price      year\n",
      "last_price    1.000000  0.053126\n",
      "year          0.053126  1.000000\n"
     ]
    },
    {
     "data": {
      "image/png": "[encoded data removed]",
      "text/plain": [
       "<Figure size 360x360 with 1 Axes>"
      ]
     },
     "metadata": {
      "needs_background": "light"
     },
     "output_type": "display_data"
    }
   ],
   "source": [
    "(\n",
    "    df.pivot_table(index='year', values='last_price', aggfunc='median')\n",
    "    .plot(grid=True, style='-o', figsize=(5, 5))\n",
    ")\n",
    "print('Корреляция цены и года публикации:')\n",
    "print(df.pivot_table(index='floor', values=['year', 'last_price']).corr())"
   ]
  },
  {
   "cell_type": "markdown",
   "metadata": {},
   "source": [
    "**Вывод**"
   ]
  },
  {
   "cell_type": "markdown",
   "metadata": {},
   "source": [
    "- Чем больше общая, жилая и площадь кухни, чем больше комнат, тем выше стоимость обьекта. Высокая зависимость\n",
    "- Число комнат также влияет на стоимость, чем больше комнат, тем больше цена. Зависимость меньше, чем от площади.\n",
    "- Квартиры на первом и последнем этаже стоят дешевле\n",
    "- Размещение обьявления не влияет на стоимость "
   ]
  },
  {
   "cell_type": "markdown",
   "metadata": {},
   "source": [
    "**Посчитайте среднюю цену одного квадратного метра в 10 населённых пунктах**"
   ]
  },
  {
   "cell_type": "code",
   "execution_count": 74,
   "metadata": {},
   "outputs": [
    {
     "data": {
      "image/png": "[encoded data removed]",
      "text/plain": [
       "<Figure size 432x288 with 1 Axes>"
      ]
     },
     "metadata": {
      "needs_background": "light"
     },
     "output_type": "display_data"
    }
   ],
   "source": [
    "loc_10 = df.pivot_table(index='locality_name', values=['last_price','total_area'] ,aggfunc=['sum','count'])\n",
    "loc_10.columns=['last_price_sum','total_area_sum','last_price_count','total_area_count']\n",
    "loc_10.pop('total_area_count')\n",
    "loc_10.sort_values(by=['last_price_count'],ascending=False, inplace=True)\n",
    "loc_10 = loc_10.iloc[:10]\n",
    "loc_10['price_per_m'] = loc_10['last_price_sum']/loc_10['total_area_sum']\n",
    "loc_10.sort_values(by=['price_per_m'],ascending=True, inplace=True)\n",
    "loc_10['price_per_m'].plot(kind='barh');"
   ]
  },
  {
   "cell_type": "code",
   "execution_count": 65,
   "metadata": {},
   "outputs": [
    {
     "data": {
      "text/html": [
       "<div>\n",
       "<style scoped>\n",
       "    .dataframe tbody tr th:only-of-type {\n",
       "        vertical-align: middle;\n",
       "    }\n",
       "\n",
       "    .dataframe tbody tr th {\n",
       "        vertical-align: top;\n",
       "    }\n",
       "\n",
       "    .dataframe thead th {\n",
       "        text-align: right;\n",
       "    }\n",
       "</style>\n",
       "<table border=\"1\" class=\"dataframe\">\n",
       "  <thead>\n",
       "    <tr style=\"text-align: right;\">\n",
       "      <th></th>\n",
       "      <th>balcony</th>\n",
       "      <th>last_price</th>\n",
       "    </tr>\n",
       "    <tr>\n",
       "      <th>locality_name</th>\n",
       "      <th></th>\n",
       "      <th></th>\n",
       "    </tr>\n",
       "  </thead>\n",
       "  <tbody>\n",
       "    <tr>\n",
       "      <th>санкт-петербург</th>\n",
       "      <td>15386</td>\n",
       "      <td>5500000.0</td>\n",
       "    </tr>\n",
       "    <tr>\n",
       "      <th>поселок мурино</th>\n",
       "      <td>553</td>\n",
       "      <td>3400000.0</td>\n",
       "    </tr>\n",
       "    <tr>\n",
       "      <th>поселок шушары</th>\n",
       "      <td>438</td>\n",
       "      <td>3950000.0</td>\n",
       "    </tr>\n",
       "    <tr>\n",
       "      <th>всеволожск</th>\n",
       "      <td>394</td>\n",
       "      <td>3490000.0</td>\n",
       "    </tr>\n",
       "    <tr>\n",
       "      <th>пушкин</th>\n",
       "      <td>357</td>\n",
       "      <td>5150000.0</td>\n",
       "    </tr>\n",
       "    <tr>\n",
       "      <th>колпино</th>\n",
       "      <td>335</td>\n",
       "      <td>3600000.0</td>\n",
       "    </tr>\n",
       "    <tr>\n",
       "      <th>поселок парголово</th>\n",
       "      <td>325</td>\n",
       "      <td>4100000.0</td>\n",
       "    </tr>\n",
       "    <tr>\n",
       "      <th>гатчина</th>\n",
       "      <td>307</td>\n",
       "      <td>3100000.0</td>\n",
       "    </tr>\n",
       "    <tr>\n",
       "      <th>деревня кудрово</th>\n",
       "      <td>298</td>\n",
       "      <td>3785000.0</td>\n",
       "    </tr>\n",
       "    <tr>\n",
       "      <th>выборг</th>\n",
       "      <td>234</td>\n",
       "      <td>2898500.0</td>\n",
       "    </tr>\n",
       "  </tbody>\n",
       "</table>\n",
       "</div>"
      ],
      "text/plain": [
       "                   balcony  last_price\n",
       "locality_name                         \n",
       "санкт-петербург      15386   5500000.0\n",
       "поселок мурино         553   3400000.0\n",
       "поселок шушары         438   3950000.0\n",
       "всеволожск             394   3490000.0\n",
       "пушкин                 357   5150000.0\n",
       "колпино                335   3600000.0\n",
       "поселок парголово      325   4100000.0\n",
       "гатчина                307   3100000.0\n",
       "деревня кудрово        298   3785000.0\n",
       "выборг                 234   2898500.0"
      ]
     },
     "execution_count": 65,
     "metadata": {},
     "output_type": "execute_result"
    }
   ],
   "source": [
    "df.groupby('locality_name').agg({'balcony':'count', 'last_price':'median'}) \\\n",
    "    .sort_values(by = 'balcony', ascending = False) \\\n",
    "    .head(10)"
   ]
  },
  {
   "cell_type": "markdown",
   "metadata": {},
   "source": [
    "**Вывод**"
   ]
  },
  {
   "cell_type": "markdown",
   "metadata": {},
   "source": [
    "Самая дорогая недвижимость в СПБ, в топ 10 входят приближенные к нему города"
   ]
  },
  {
   "cell_type": "markdown",
   "metadata": {},
   "source": [
    "**Цена от центра города**"
   ]
  },
  {
   "cell_type": "code",
   "execution_count": 66,
   "metadata": {},
   "outputs": [
    {
     "data": {
      "image/png": "[encoded data removed]",
      "text/plain": [
       "<Figure size 432x288 with 1 Axes>"
      ]
     },
     "metadata": {
      "needs_background": "light"
     },
     "output_type": "display_data"
    }
   ],
   "source": [
    "(\n",
    "    df[df['locality_name']=='санкт-петербург']\n",
    "    .pivot_table(\n",
    "        index='city_centers_nearest_km',\n",
    "        values='last_price',\n",
    "        aggfunc='mean')\n",
    "    .plot(kind='bar', title = 'Заголовок')\n",
    ");"
   ]
  },
  {
   "cell_type": "markdown",
   "metadata": {},
   "source": [
    "**Вывод**"
   ]
  },
  {
   "cell_type": "markdown",
   "metadata": {},
   "source": [
    "- Самые дорогие обьекты находятся на растоянии до 1км.\n",
    "- Высокие цены на расстоянии от 1 до 7 км., начиная с 8 км. цена снижается на расстояние до 27 км.\n",
    "- На 27км. выброс, скорее всего элитная недвижимость"
   ]
  },
  {
   "cell_type": "markdown",
   "metadata": {},
   "source": [
    "### Общий вывод"
   ]
  },
  {
   "cell_type": "markdown",
   "metadata": {},
   "source": [
    "Предобработка данных потребовала потребовала разобраться с пропущеными значениями, убрать или замениить их. \n",
    "\n",
    "Работать с подобной таблицей можно, но лучше сперва избавится от сильных \"вибросов\", а также явных и неявных дубликатов, что в дальнейшем позволит проводить более качественный исследовательский анализ данных. \n",
    "\n",
    "Основываясь на полученных данных можно сказать:\n",
    "- Цена в основном зависит от площади квартиры\n",
    "- Цены на первом и последнем этажах ниже\n",
    "- Самые дорогие квартиры в Санкт-Петербурге, а самые дешевые в Выборге\n",
    "- В СПБ самые дорогие квартиры находятся на растоянии 7км. от центра\n",
    "- Быстрыми продажами можно считать сроки до 93 дней, а необычно долгими - свыше 171 дня\n"
   ]
  },
  {
   "cell_type": "markdown",
   "metadata": {},
   "source": [
    " "
   ]
  },
  {
   "cell_type": "markdown",
   "metadata": {},
   "source": [
    "**Чек-лист готовности проекта**\n",
    "\n",
    "Поставьте 'x' в выполненных пунктах. Далее нажмите Shift+Enter."
   ]
  },
  {
   "cell_type": "markdown",
   "metadata": {},
   "source": [
    "- [x]  открыт файл\n",
    "- [x]  файлы изучены (выведены первые строки, метод `info()`, гистограммы и т.д.)\n",
    "- [x]  определены пропущенные значения\n",
    "- [x]  заполнены пропущенные значения там, где это возможно\n",
    "- [x]  есть пояснение, какие пропущенные значения обнаружены\n",
    "- [x]  изменены типы данных\n",
    "- [x]  есть пояснение, в каких столбцах изменены типы и почему\n",
    "- [x]  устранены неявные дубликаты в названиях населённых пунктов\n",
    "- [x]  устранены редкие и выбивающиеся значения (аномалии) во всех столбцах\n",
    "- [x]  посчитано и добавлено в таблицу: цена одного квадратного метра\n",
    "- [x]  посчитано и добавлено в таблицу: день публикации объявления (0 - понедельник, 1 - вторник и т.д.)\n",
    "- [x]  посчитано и добавлено в таблицу: месяц публикации объявления\n",
    "- [x]  посчитано и добавлено в таблицу: год публикации объявления\n",
    "- [x]  посчитано и добавлено в таблицу: тип этажа квартиры (значения — «первый», «последний», «другой»)\n",
    "- [x]  посчитано и добавлено в таблицу: расстояние в км до центра города\n",
    "- [x]  изучены и описаны следующие параметры:\n",
    "        - общая площадь;\n",
    "        - жилая площадь;\n",
    "        - площадь кухни;\n",
    "        - цена объекта;\n",
    "        - количество комнат;\n",
    "        - высота потолков;\n",
    "        - этаж квартиры;\n",
    "        - тип этажа квартиры («первый», «последний», «другой»);\n",
    "        - общее количество этажей в доме;\n",
    "        - расстояние до центра города в метрах;\n",
    "        - расстояние до ближайшего аэропорта;\n",
    "        - расстояние до ближайшего парка;\n",
    "        - день и месяц публикации объявления\n",
    "- [x]  построены гистограммы для каждого параметра\n",
    "- [x]  выполнено задание: \"Изучите, как быстро продавались квартиры (столбец days_exposition). Этот параметр показывает, сколько дней «висело» каждое объявление.\n",
    "    - Постройте гистограмму.\n",
    "    - Посчитайте среднее и медиану.\n",
    "    - В ячейке типа markdown опишите, сколько обычно занимает продажа. Какие продажи можно считать быстрыми, а какие — необычно долгими?\"\n",
    "- [x]  выполнено задание: \"Какие факторы больше всего влияют на общую (полную) стоимость объекта? Постройте графики, которые покажут зависимость цены от указанных ниже параметров. Для подготовки данных перед визуализацией вы можете использовать сводные таблицы.\"\n",
    "        - общей площади;\n",
    "        - жилой площади;\n",
    "        - площади кухни;\n",
    "        - количество комнат;\n",
    "        - типа этажа, на котором расположена квартира (первый, последний, другой);\n",
    "        - даты размещения (день недели, месяц, год);\n",
    "- [x]  выполнено задание: \"Посчитайте среднюю цену одного квадратного метра в 10 населённых пунктах с наибольшим числом объявлений. Выделите населённые пункты с самой высокой и низкой стоимостью квадратного метра. Эти данные можно найти по имени в столбце `locality_name`.\"\n",
    "- [x]  выполнено задание: \"Ранее вы посчитали расстояние до центра в километрах. Теперь выделите квартиры в Санкт-Петербурге с помощью столбца `locality_name` и вычислите среднюю цену каждого километра. Опишите, как стоимость объектов зависит от расстояния до центра города.\"\n",
    "- [x]  в каждом этапе есть промежуточные выводы\n",
    "- [x]  есть общий вывод"
   ]
  }
 ],
 "metadata": {
  "ExecuteTimeLog": [
   {
    "duration": 565,
    "start_time": "2022-12-11T14:14:30.998Z"
   },
   {
    "duration": 90,
    "start_time": "2022-12-11T14:15:00.062Z"
   },
   {
    "duration": 86,
    "start_time": "2022-12-11T14:15:25.152Z"
   },
   {
    "duration": 117,
    "start_time": "2022-12-11T14:19:01.799Z"
   },
   {
    "duration": 107,
    "start_time": "2022-12-11T14:22:42.726Z"
   },
   {
    "duration": 112,
    "start_time": "2022-12-11T14:23:16.391Z"
   },
   {
    "duration": 85,
    "start_time": "2022-12-11T14:25:29.059Z"
   },
   {
    "duration": 14,
    "start_time": "2022-12-11T14:25:53.386Z"
   },
   {
    "duration": 21,
    "start_time": "2022-12-11T14:25:57.349Z"
   },
   {
    "duration": 86,
    "start_time": "2022-12-11T14:27:10.238Z"
   },
   {
    "duration": 13,
    "start_time": "2022-12-11T14:28:03.268Z"
   },
   {
    "duration": 57,
    "start_time": "2022-12-11T14:29:44.611Z"
   },
   {
    "duration": 15,
    "start_time": "2022-12-11T14:29:55.966Z"
   },
   {
    "duration": 495,
    "start_time": "2022-12-11T14:30:06.217Z"
   },
   {
    "duration": 16,
    "start_time": "2022-12-11T14:30:06.714Z"
   },
   {
    "duration": 15,
    "start_time": "2022-12-11T14:30:06.731Z"
   },
   {
    "duration": 59,
    "start_time": "2022-12-11T14:30:06.747Z"
   },
   {
    "duration": 2362,
    "start_time": "2022-12-11T14:31:05.979Z"
   },
   {
    "duration": 554,
    "start_time": "2022-12-11T14:31:15.092Z"
   },
   {
    "duration": 18,
    "start_time": "2022-12-11T14:31:15.649Z"
   },
   {
    "duration": 18,
    "start_time": "2022-12-11T14:31:15.669Z"
   },
   {
    "duration": 2237,
    "start_time": "2022-12-11T14:31:15.688Z"
   },
   {
    "duration": 2055,
    "start_time": "2022-12-11T14:32:06.809Z"
   },
   {
    "duration": 4,
    "start_time": "2022-12-11T14:36:23.475Z"
   },
   {
    "duration": 4,
    "start_time": "2022-12-11T14:37:13.684Z"
   },
   {
    "duration": 51,
    "start_time": "2022-12-12T13:09:33.013Z"
   },
   {
    "duration": 7,
    "start_time": "2022-12-12T13:09:41.132Z"
   },
   {
    "duration": 6,
    "start_time": "2022-12-12T13:09:45.420Z"
   },
   {
    "duration": 1149,
    "start_time": "2022-12-12T13:09:56.729Z"
   },
   {
    "duration": 17,
    "start_time": "2022-12-12T13:09:57.880Z"
   },
   {
    "duration": 19,
    "start_time": "2022-12-12T13:09:57.898Z"
   },
   {
    "duration": 2646,
    "start_time": "2022-12-12T13:09:57.919Z"
   },
   {
    "duration": 3,
    "start_time": "2022-12-12T13:10:00.568Z"
   },
   {
    "duration": 18,
    "start_time": "2022-12-12T13:10:00.573Z"
   },
   {
    "duration": 5,
    "start_time": "2022-12-12T13:14:08.086Z"
   },
   {
    "duration": 4,
    "start_time": "2022-12-12T13:33:28.114Z"
   },
   {
    "duration": 3,
    "start_time": "2022-12-12T13:33:29.019Z"
   },
   {
    "duration": 5,
    "start_time": "2022-12-12T13:36:59.085Z"
   },
   {
    "duration": 5,
    "start_time": "2022-12-12T13:36:59.707Z"
   },
   {
    "duration": 4,
    "start_time": "2022-12-12T13:37:00.357Z"
   },
   {
    "duration": 4,
    "start_time": "2022-12-12T13:37:01.203Z"
   },
   {
    "duration": 3,
    "start_time": "2022-12-12T13:46:06.252Z"
   },
   {
    "duration": 23,
    "start_time": "2022-12-12T13:59:17.939Z"
   },
   {
    "duration": 23,
    "start_time": "2022-12-12T14:00:15.785Z"
   },
   {
    "duration": 26,
    "start_time": "2022-12-12T14:00:18.252Z"
   },
   {
    "duration": 525,
    "start_time": "2022-12-12T14:00:39.964Z"
   },
   {
    "duration": 18,
    "start_time": "2022-12-12T14:00:40.491Z"
   },
   {
    "duration": 32,
    "start_time": "2022-12-12T14:00:40.511Z"
   },
   {
    "duration": 2735,
    "start_time": "2022-12-12T14:00:40.546Z"
   },
   {
    "duration": 4,
    "start_time": "2022-12-12T14:00:43.284Z"
   },
   {
    "duration": 81,
    "start_time": "2022-12-12T14:00:43.290Z"
   },
   {
    "duration": 70,
    "start_time": "2022-12-12T14:00:43.374Z"
   },
   {
    "duration": 68,
    "start_time": "2022-12-12T14:00:43.445Z"
   },
   {
    "duration": 63,
    "start_time": "2022-12-12T14:00:43.515Z"
   },
   {
    "duration": 74,
    "start_time": "2022-12-12T14:00:43.580Z"
   },
   {
    "duration": 78,
    "start_time": "2022-12-12T14:00:43.656Z"
   },
   {
    "duration": 492,
    "start_time": "2022-12-12T14:02:13.400Z"
   },
   {
    "duration": 18,
    "start_time": "2022-12-12T14:02:13.894Z"
   },
   {
    "duration": 30,
    "start_time": "2022-12-12T14:02:13.916Z"
   },
   {
    "duration": 2377,
    "start_time": "2022-12-12T14:02:13.948Z"
   },
   {
    "duration": 4,
    "start_time": "2022-12-12T14:02:16.327Z"
   },
   {
    "duration": 12,
    "start_time": "2022-12-12T14:02:16.333Z"
   },
   {
    "duration": 4,
    "start_time": "2022-12-12T14:02:16.347Z"
   },
   {
    "duration": 11,
    "start_time": "2022-12-12T14:02:16.352Z"
   },
   {
    "duration": 12,
    "start_time": "2022-12-12T14:02:16.365Z"
   },
   {
    "duration": 4,
    "start_time": "2022-12-12T14:02:16.379Z"
   },
   {
    "duration": 23,
    "start_time": "2022-12-12T14:02:16.385Z"
   },
   {
    "duration": 22,
    "start_time": "2022-12-12T14:03:33.045Z"
   },
   {
    "duration": 24,
    "start_time": "2022-12-12T14:07:08.932Z"
   },
   {
    "duration": 28,
    "start_time": "2022-12-12T14:07:19.764Z"
   },
   {
    "duration": 42,
    "start_time": "2022-12-12T14:07:32.421Z"
   },
   {
    "duration": 74,
    "start_time": "2022-12-12T14:08:14.909Z"
   },
   {
    "duration": 17,
    "start_time": "2022-12-12T14:08:21.789Z"
   },
   {
    "duration": 26,
    "start_time": "2022-12-12T14:13:16.055Z"
   },
   {
    "duration": 94,
    "start_time": "2022-12-12T14:14:23.576Z"
   },
   {
    "duration": 14,
    "start_time": "2022-12-12T14:14:41.574Z"
   },
   {
    "duration": 13,
    "start_time": "2022-12-12T14:14:53.279Z"
   },
   {
    "duration": 5,
    "start_time": "2022-12-12T14:21:21.001Z"
   },
   {
    "duration": 5,
    "start_time": "2022-12-12T14:21:54.625Z"
   },
   {
    "duration": 13,
    "start_time": "2022-12-12T14:22:10.434Z"
   },
   {
    "duration": 7,
    "start_time": "2022-12-12T14:22:18.233Z"
   },
   {
    "duration": 5,
    "start_time": "2022-12-12T14:22:29.057Z"
   },
   {
    "duration": 15,
    "start_time": "2022-12-12T14:24:02.298Z"
   },
   {
    "duration": 25,
    "start_time": "2022-12-12T14:24:28.505Z"
   },
   {
    "duration": 16,
    "start_time": "2022-12-12T14:24:39.266Z"
   },
   {
    "duration": 7,
    "start_time": "2022-12-12T14:24:46.848Z"
   },
   {
    "duration": 22,
    "start_time": "2022-12-12T14:25:50.538Z"
   },
   {
    "duration": 12,
    "start_time": "2022-12-12T14:26:02.650Z"
   },
   {
    "duration": 12,
    "start_time": "2022-12-12T14:26:14.371Z"
   },
   {
    "duration": 12,
    "start_time": "2022-12-12T14:26:19.553Z"
   },
   {
    "duration": 6,
    "start_time": "2022-12-12T14:26:27.507Z"
   },
   {
    "duration": 6,
    "start_time": "2022-12-12T14:26:37.010Z"
   },
   {
    "duration": 7,
    "start_time": "2022-12-12T14:26:45.810Z"
   },
   {
    "duration": 19,
    "start_time": "2022-12-12T14:26:52.569Z"
   },
   {
    "duration": 559,
    "start_time": "2022-12-12T14:26:59.807Z"
   },
   {
    "duration": 16,
    "start_time": "2022-12-12T14:27:00.368Z"
   },
   {
    "duration": 45,
    "start_time": "2022-12-12T14:27:00.385Z"
   },
   {
    "duration": 2512,
    "start_time": "2022-12-12T14:27:00.433Z"
   },
   {
    "duration": 3,
    "start_time": "2022-12-12T14:27:02.947Z"
   },
   {
    "duration": 22,
    "start_time": "2022-12-12T14:27:02.952Z"
   },
   {
    "duration": 7,
    "start_time": "2022-12-12T14:27:02.976Z"
   },
   {
    "duration": 12,
    "start_time": "2022-12-12T14:27:02.985Z"
   },
   {
    "duration": 9,
    "start_time": "2022-12-12T14:27:02.998Z"
   },
   {
    "duration": 10,
    "start_time": "2022-12-12T14:27:03.009Z"
   },
   {
    "duration": 34,
    "start_time": "2022-12-12T14:27:03.020Z"
   },
   {
    "duration": 18,
    "start_time": "2022-12-12T14:27:03.056Z"
   },
   {
    "duration": 7,
    "start_time": "2022-12-12T14:27:03.076Z"
   },
   {
    "duration": 28,
    "start_time": "2022-12-12T14:27:03.084Z"
   },
   {
    "duration": 28,
    "start_time": "2022-12-12T14:27:03.113Z"
   },
   {
    "duration": 19,
    "start_time": "2022-12-12T14:27:34.354Z"
   },
   {
    "duration": 512,
    "start_time": "2022-12-12T14:27:40.832Z"
   },
   {
    "duration": 16,
    "start_time": "2022-12-12T14:27:41.347Z"
   },
   {
    "duration": 15,
    "start_time": "2022-12-12T14:27:41.365Z"
   },
   {
    "duration": 2555,
    "start_time": "2022-12-12T14:27:41.382Z"
   },
   {
    "duration": 4,
    "start_time": "2022-12-12T14:27:43.939Z"
   },
   {
    "duration": 21,
    "start_time": "2022-12-12T14:27:43.945Z"
   },
   {
    "duration": 32,
    "start_time": "2022-12-12T14:27:43.968Z"
   },
   {
    "duration": 14,
    "start_time": "2022-12-12T14:27:44.002Z"
   },
   {
    "duration": 12,
    "start_time": "2022-12-12T14:27:44.018Z"
   },
   {
    "duration": 5,
    "start_time": "2022-12-12T14:27:44.033Z"
   },
   {
    "duration": 38,
    "start_time": "2022-12-12T14:27:44.040Z"
   },
   {
    "duration": 22,
    "start_time": "2022-12-12T14:27:44.080Z"
   },
   {
    "duration": 7,
    "start_time": "2022-12-12T14:27:44.104Z"
   },
   {
    "duration": 30,
    "start_time": "2022-12-12T14:27:44.112Z"
   },
   {
    "duration": 15,
    "start_time": "2022-12-12T14:27:44.144Z"
   },
   {
    "duration": 73,
    "start_time": "2022-12-12T14:29:00.244Z"
   },
   {
    "duration": 557,
    "start_time": "2022-12-12T14:29:06.721Z"
   },
   {
    "duration": 17,
    "start_time": "2022-12-12T14:29:07.280Z"
   },
   {
    "duration": 15,
    "start_time": "2022-12-12T14:29:07.299Z"
   },
   {
    "duration": 2412,
    "start_time": "2022-12-12T14:29:07.317Z"
   },
   {
    "duration": 4,
    "start_time": "2022-12-12T14:29:09.731Z"
   },
   {
    "duration": 17,
    "start_time": "2022-12-12T14:29:09.737Z"
   },
   {
    "duration": 16,
    "start_time": "2022-12-12T14:29:09.756Z"
   },
   {
    "duration": 19,
    "start_time": "2022-12-12T14:29:09.774Z"
   },
   {
    "duration": 12,
    "start_time": "2022-12-12T14:29:09.795Z"
   },
   {
    "duration": 5,
    "start_time": "2022-12-12T14:29:09.809Z"
   },
   {
    "duration": 30,
    "start_time": "2022-12-12T14:29:09.816Z"
   },
   {
    "duration": 17,
    "start_time": "2022-12-12T14:29:09.848Z"
   },
   {
    "duration": 5,
    "start_time": "2022-12-12T14:29:09.867Z"
   },
   {
    "duration": 39,
    "start_time": "2022-12-12T14:29:09.874Z"
   },
   {
    "duration": 28,
    "start_time": "2022-12-12T14:29:09.914Z"
   },
   {
    "duration": 96,
    "start_time": "2022-12-12T14:29:09.944Z"
   },
   {
    "duration": 22,
    "start_time": "2022-12-12T14:29:25.363Z"
   },
   {
    "duration": 22,
    "start_time": "2022-12-12T14:29:28.211Z"
   },
   {
    "duration": 477,
    "start_time": "2022-12-12T14:29:38.678Z"
   },
   {
    "duration": 16,
    "start_time": "2022-12-12T14:29:39.157Z"
   },
   {
    "duration": 29,
    "start_time": "2022-12-12T14:29:39.174Z"
   },
   {
    "duration": 2420,
    "start_time": "2022-12-12T14:29:39.205Z"
   },
   {
    "duration": 3,
    "start_time": "2022-12-12T14:29:41.627Z"
   },
   {
    "duration": 14,
    "start_time": "2022-12-12T14:29:41.632Z"
   },
   {
    "duration": 6,
    "start_time": "2022-12-12T14:29:41.648Z"
   },
   {
    "duration": 13,
    "start_time": "2022-12-12T14:29:41.655Z"
   },
   {
    "duration": 14,
    "start_time": "2022-12-12T14:29:41.670Z"
   },
   {
    "duration": 10,
    "start_time": "2022-12-12T14:29:41.687Z"
   },
   {
    "duration": 28,
    "start_time": "2022-12-12T14:29:41.698Z"
   },
   {
    "duration": 19,
    "start_time": "2022-12-12T14:29:41.728Z"
   },
   {
    "duration": 11,
    "start_time": "2022-12-12T14:29:41.750Z"
   },
   {
    "duration": 28,
    "start_time": "2022-12-12T14:29:41.763Z"
   },
   {
    "duration": 17,
    "start_time": "2022-12-12T14:29:41.792Z"
   },
   {
    "duration": 103,
    "start_time": "2022-12-12T14:29:41.811Z"
   },
   {
    "duration": 17,
    "start_time": "2022-12-12T14:29:50.483Z"
   },
   {
    "duration": 5,
    "start_time": "2022-12-12T14:30:22.811Z"
   },
   {
    "duration": 30,
    "start_time": "2022-12-12T14:32:10.811Z"
   },
   {
    "duration": 123,
    "start_time": "2022-12-12T14:36:52.013Z"
   },
   {
    "duration": 47,
    "start_time": "2022-12-12T14:45:15.015Z"
   },
   {
    "duration": 15,
    "start_time": "2022-12-12T14:45:20.943Z"
   },
   {
    "duration": 26,
    "start_time": "2022-12-12T14:47:01.906Z"
   },
   {
    "duration": 28,
    "start_time": "2022-12-12T14:48:01.465Z"
   },
   {
    "duration": 31,
    "start_time": "2022-12-12T14:48:24.922Z"
   },
   {
    "duration": 26,
    "start_time": "2022-12-12T14:49:09.377Z"
   },
   {
    "duration": 30,
    "start_time": "2022-12-12T14:49:25.321Z"
   },
   {
    "duration": 27,
    "start_time": "2022-12-12T14:52:19.690Z"
   },
   {
    "duration": 47,
    "start_time": "2022-12-13T09:11:23.177Z"
   },
   {
    "duration": 585,
    "start_time": "2022-12-13T09:11:30.329Z"
   },
   {
    "duration": 19,
    "start_time": "2022-12-13T09:11:30.917Z"
   },
   {
    "duration": 20,
    "start_time": "2022-12-13T09:11:30.938Z"
   },
   {
    "duration": 2570,
    "start_time": "2022-12-13T09:11:30.960Z"
   },
   {
    "duration": 3,
    "start_time": "2022-12-13T09:11:33.532Z"
   },
   {
    "duration": 21,
    "start_time": "2022-12-13T09:11:33.537Z"
   },
   {
    "duration": 15,
    "start_time": "2022-12-13T09:11:33.559Z"
   },
   {
    "duration": 13,
    "start_time": "2022-12-13T09:11:33.576Z"
   },
   {
    "duration": 12,
    "start_time": "2022-12-13T09:11:33.590Z"
   },
   {
    "duration": 11,
    "start_time": "2022-12-13T09:11:33.605Z"
   },
   {
    "duration": 50,
    "start_time": "2022-12-13T09:11:33.617Z"
   },
   {
    "duration": 16,
    "start_time": "2022-12-13T09:11:33.669Z"
   },
   {
    "duration": 5,
    "start_time": "2022-12-13T09:11:33.687Z"
   },
   {
    "duration": 30,
    "start_time": "2022-12-13T09:11:33.694Z"
   },
   {
    "duration": 20,
    "start_time": "2022-12-13T09:11:33.726Z"
   },
   {
    "duration": 21,
    "start_time": "2022-12-13T09:11:33.749Z"
   },
   {
    "duration": 16,
    "start_time": "2022-12-13T09:11:33.771Z"
   },
   {
    "duration": 37,
    "start_time": "2022-12-13T09:11:33.789Z"
   },
   {
    "duration": 142,
    "start_time": "2022-12-13T09:11:33.827Z"
   },
   {
    "duration": 29,
    "start_time": "2022-12-13T09:11:33.971Z"
   },
   {
    "duration": 88,
    "start_time": "2022-12-13T09:11:34.001Z"
   },
   {
    "duration": 11,
    "start_time": "2022-12-13T09:11:40.572Z"
   },
   {
    "duration": 9,
    "start_time": "2022-12-13T09:15:51.370Z"
   },
   {
    "duration": 6,
    "start_time": "2022-12-13T09:18:06.011Z"
   },
   {
    "duration": 10,
    "start_time": "2022-12-13T09:19:54.218Z"
   },
   {
    "duration": 8,
    "start_time": "2022-12-13T09:19:59.223Z"
   },
   {
    "duration": 8,
    "start_time": "2022-12-13T09:20:04.074Z"
   },
   {
    "duration": 7,
    "start_time": "2022-12-13T09:20:07.802Z"
   },
   {
    "duration": 8,
    "start_time": "2022-12-13T09:20:13.322Z"
   },
   {
    "duration": 15,
    "start_time": "2022-12-13T09:21:32.204Z"
   },
   {
    "duration": 11,
    "start_time": "2022-12-13T09:32:20.759Z"
   },
   {
    "duration": 30,
    "start_time": "2022-12-13T09:32:40.909Z"
   },
   {
    "duration": 29,
    "start_time": "2022-12-13T09:33:00.855Z"
   },
   {
    "duration": 33,
    "start_time": "2022-12-13T09:33:16.254Z"
   },
   {
    "duration": 28,
    "start_time": "2022-12-13T09:33:20.815Z"
   },
   {
    "duration": 31,
    "start_time": "2022-12-13T09:34:51.984Z"
   },
   {
    "duration": 30,
    "start_time": "2022-12-13T09:35:11.448Z"
   },
   {
    "duration": 28,
    "start_time": "2022-12-13T09:35:33.737Z"
   },
   {
    "duration": 30,
    "start_time": "2022-12-13T09:37:19.362Z"
   },
   {
    "duration": 25,
    "start_time": "2022-12-13T09:42:12.353Z"
   },
   {
    "duration": 35,
    "start_time": "2022-12-13T09:43:01.688Z"
   },
   {
    "duration": 26,
    "start_time": "2022-12-13T09:46:02.322Z"
   },
   {
    "duration": 552,
    "start_time": "2022-12-13T09:46:09.431Z"
   },
   {
    "duration": 17,
    "start_time": "2022-12-13T09:46:09.985Z"
   },
   {
    "duration": 30,
    "start_time": "2022-12-13T09:46:10.003Z"
   },
   {
    "duration": 2478,
    "start_time": "2022-12-13T09:46:10.036Z"
   },
   {
    "duration": 4,
    "start_time": "2022-12-13T09:46:12.516Z"
   },
   {
    "duration": 13,
    "start_time": "2022-12-13T09:46:12.521Z"
   },
   {
    "duration": 4,
    "start_time": "2022-12-13T09:46:12.536Z"
   },
   {
    "duration": 5,
    "start_time": "2022-12-13T09:46:12.542Z"
   },
   {
    "duration": 10,
    "start_time": "2022-12-13T09:46:12.549Z"
   },
   {
    "duration": 5,
    "start_time": "2022-12-13T09:46:12.562Z"
   },
   {
    "duration": 36,
    "start_time": "2022-12-13T09:46:12.568Z"
   },
   {
    "duration": 41,
    "start_time": "2022-12-13T09:46:12.606Z"
   },
   {
    "duration": 5,
    "start_time": "2022-12-13T09:46:12.649Z"
   },
   {
    "duration": 33,
    "start_time": "2022-12-13T09:46:12.656Z"
   },
   {
    "duration": 16,
    "start_time": "2022-12-13T09:46:12.691Z"
   },
   {
    "duration": 46,
    "start_time": "2022-12-13T09:46:12.709Z"
   },
   {
    "duration": 7,
    "start_time": "2022-12-13T09:46:12.757Z"
   },
   {
    "duration": 26,
    "start_time": "2022-12-13T09:46:12.765Z"
   },
   {
    "duration": 138,
    "start_time": "2022-12-13T09:46:12.793Z"
   },
   {
    "duration": 28,
    "start_time": "2022-12-13T09:46:12.937Z"
   },
   {
    "duration": 10,
    "start_time": "2022-12-13T09:46:12.967Z"
   },
   {
    "duration": 9,
    "start_time": "2022-12-13T09:46:12.979Z"
   },
   {
    "duration": 11,
    "start_time": "2022-12-13T09:46:12.989Z"
   },
   {
    "duration": 42,
    "start_time": "2022-12-13T09:46:13.002Z"
   },
   {
    "duration": 33,
    "start_time": "2022-12-13T09:46:13.046Z"
   },
   {
    "duration": 65,
    "start_time": "2022-12-13T09:46:13.081Z"
   },
   {
    "duration": 515,
    "start_time": "2022-12-13T09:47:21.541Z"
   },
   {
    "duration": 17,
    "start_time": "2022-12-13T09:47:22.058Z"
   },
   {
    "duration": 22,
    "start_time": "2022-12-13T09:47:22.076Z"
   },
   {
    "duration": 2498,
    "start_time": "2022-12-13T09:47:22.100Z"
   },
   {
    "duration": 3,
    "start_time": "2022-12-13T09:47:24.600Z"
   },
   {
    "duration": 14,
    "start_time": "2022-12-13T09:47:24.605Z"
   },
   {
    "duration": 5,
    "start_time": "2022-12-13T09:47:24.621Z"
   },
   {
    "duration": 4,
    "start_time": "2022-12-13T09:47:24.627Z"
   },
   {
    "duration": 9,
    "start_time": "2022-12-13T09:47:24.633Z"
   },
   {
    "duration": 5,
    "start_time": "2022-12-13T09:47:24.645Z"
   },
   {
    "duration": 29,
    "start_time": "2022-12-13T09:47:24.652Z"
   },
   {
    "duration": 15,
    "start_time": "2022-12-13T09:47:24.682Z"
   },
   {
    "duration": 4,
    "start_time": "2022-12-13T09:47:24.699Z"
   },
   {
    "duration": 41,
    "start_time": "2022-12-13T09:47:24.705Z"
   },
   {
    "duration": 19,
    "start_time": "2022-12-13T09:47:24.748Z"
   },
   {
    "duration": 16,
    "start_time": "2022-12-13T09:47:24.769Z"
   },
   {
    "duration": 7,
    "start_time": "2022-12-13T09:47:24.787Z"
   },
   {
    "duration": 48,
    "start_time": "2022-12-13T09:47:24.796Z"
   },
   {
    "duration": 119,
    "start_time": "2022-12-13T09:47:24.846Z"
   },
   {
    "duration": 27,
    "start_time": "2022-12-13T09:47:24.967Z"
   },
   {
    "duration": 11,
    "start_time": "2022-12-13T09:47:24.996Z"
   },
   {
    "duration": 32,
    "start_time": "2022-12-13T09:47:25.009Z"
   },
   {
    "duration": 8,
    "start_time": "2022-12-13T09:47:25.043Z"
   },
   {
    "duration": 15,
    "start_time": "2022-12-13T09:47:25.053Z"
   },
   {
    "duration": 29,
    "start_time": "2022-12-13T09:47:25.071Z"
   },
   {
    "duration": 62,
    "start_time": "2022-12-13T09:47:25.102Z"
   },
   {
    "duration": 32,
    "start_time": "2022-12-13T09:58:39.253Z"
   },
   {
    "duration": 45,
    "start_time": "2022-12-13T09:58:49.333Z"
   },
   {
    "duration": 5,
    "start_time": "2022-12-13T11:02:13.056Z"
   },
   {
    "duration": 4,
    "start_time": "2022-12-13T11:02:32.210Z"
   },
   {
    "duration": 6,
    "start_time": "2022-12-13T11:02:58.849Z"
   },
   {
    "duration": 21,
    "start_time": "2022-12-13T11:17:56.038Z"
   },
   {
    "duration": 22,
    "start_time": "2022-12-13T11:18:09.900Z"
   },
   {
    "duration": 5,
    "start_time": "2022-12-13T11:19:16.285Z"
   },
   {
    "duration": 31,
    "start_time": "2022-12-13T11:19:30.780Z"
   },
   {
    "duration": 30,
    "start_time": "2022-12-13T11:20:44.893Z"
   },
   {
    "duration": 547,
    "start_time": "2022-12-13T11:21:09.317Z"
   },
   {
    "duration": 19,
    "start_time": "2022-12-13T11:21:09.867Z"
   },
   {
    "duration": 25,
    "start_time": "2022-12-13T11:21:09.888Z"
   },
   {
    "duration": 2607,
    "start_time": "2022-12-13T11:21:09.915Z"
   },
   {
    "duration": 3,
    "start_time": "2022-12-13T11:21:12.524Z"
   },
   {
    "duration": 23,
    "start_time": "2022-12-13T11:21:12.529Z"
   },
   {
    "duration": 6,
    "start_time": "2022-12-13T11:21:12.555Z"
   },
   {
    "duration": 8,
    "start_time": "2022-12-13T11:21:12.562Z"
   },
   {
    "duration": 15,
    "start_time": "2022-12-13T11:21:12.572Z"
   },
   {
    "duration": 12,
    "start_time": "2022-12-13T11:21:12.589Z"
   },
   {
    "duration": 27,
    "start_time": "2022-12-13T11:21:12.602Z"
   },
   {
    "duration": 23,
    "start_time": "2022-12-13T11:21:12.631Z"
   },
   {
    "duration": 8,
    "start_time": "2022-12-13T11:21:12.656Z"
   },
   {
    "duration": 22,
    "start_time": "2022-12-13T11:21:12.666Z"
   },
   {
    "duration": 15,
    "start_time": "2022-12-13T11:21:12.690Z"
   },
   {
    "duration": 46,
    "start_time": "2022-12-13T11:21:12.706Z"
   },
   {
    "duration": 6,
    "start_time": "2022-12-13T11:21:12.756Z"
   },
   {
    "duration": 30,
    "start_time": "2022-12-13T11:21:12.764Z"
   },
   {
    "duration": 135,
    "start_time": "2022-12-13T11:21:12.796Z"
   },
   {
    "duration": 42,
    "start_time": "2022-12-13T11:21:12.932Z"
   },
   {
    "duration": 15,
    "start_time": "2022-12-13T11:21:12.977Z"
   },
   {
    "duration": 12,
    "start_time": "2022-12-13T11:21:12.994Z"
   },
   {
    "duration": 9,
    "start_time": "2022-12-13T11:21:13.010Z"
   },
   {
    "duration": 17,
    "start_time": "2022-12-13T11:21:13.037Z"
   },
   {
    "duration": 32,
    "start_time": "2022-12-13T11:21:13.055Z"
   },
   {
    "duration": 33,
    "start_time": "2022-12-13T11:21:13.088Z"
   },
   {
    "duration": 39,
    "start_time": "2022-12-13T11:21:13.145Z"
   },
   {
    "duration": 4,
    "start_time": "2022-12-13T11:21:13.188Z"
   },
   {
    "duration": 52,
    "start_time": "2022-12-13T11:21:13.195Z"
   },
   {
    "duration": 205,
    "start_time": "2022-12-13T11:22:21.004Z"
   },
   {
    "duration": 209,
    "start_time": "2022-12-13T11:22:31.143Z"
   },
   {
    "duration": 201,
    "start_time": "2022-12-13T11:22:36.919Z"
   },
   {
    "duration": 193,
    "start_time": "2022-12-13T11:22:42.005Z"
   },
   {
    "duration": 392,
    "start_time": "2022-12-13T11:22:49.310Z"
   },
   {
    "duration": 165,
    "start_time": "2022-12-13T11:23:00.222Z"
   },
   {
    "duration": 175,
    "start_time": "2022-12-13T11:23:04.133Z"
   },
   {
    "duration": 194,
    "start_time": "2022-12-13T11:23:08.221Z"
   },
   {
    "duration": 104,
    "start_time": "2022-12-13T11:30:53.128Z"
   },
   {
    "duration": 26,
    "start_time": "2022-12-13T11:31:08.906Z"
   },
   {
    "duration": 44,
    "start_time": "2022-12-13T11:34:22.876Z"
   },
   {
    "duration": 521,
    "start_time": "2022-12-13T11:35:30.690Z"
   },
   {
    "duration": 36,
    "start_time": "2022-12-13T11:35:31.213Z"
   },
   {
    "duration": 33,
    "start_time": "2022-12-13T11:35:31.256Z"
   },
   {
    "duration": 2739,
    "start_time": "2022-12-13T11:35:31.291Z"
   },
   {
    "duration": 5,
    "start_time": "2022-12-13T11:35:34.032Z"
   },
   {
    "duration": 37,
    "start_time": "2022-12-13T11:35:34.039Z"
   },
   {
    "duration": 5,
    "start_time": "2022-12-13T11:35:34.078Z"
   },
   {
    "duration": 8,
    "start_time": "2022-12-13T11:35:34.084Z"
   },
   {
    "duration": 7,
    "start_time": "2022-12-13T11:35:34.094Z"
   },
   {
    "duration": 8,
    "start_time": "2022-12-13T11:35:34.104Z"
   },
   {
    "duration": 34,
    "start_time": "2022-12-13T11:35:34.114Z"
   },
   {
    "duration": 20,
    "start_time": "2022-12-13T11:35:34.156Z"
   },
   {
    "duration": 6,
    "start_time": "2022-12-13T11:35:34.178Z"
   },
   {
    "duration": 20,
    "start_time": "2022-12-13T11:35:34.186Z"
   },
   {
    "duration": 14,
    "start_time": "2022-12-13T11:35:34.208Z"
   },
   {
    "duration": 39,
    "start_time": "2022-12-13T11:35:34.224Z"
   },
   {
    "duration": 13,
    "start_time": "2022-12-13T11:35:34.268Z"
   },
   {
    "duration": 36,
    "start_time": "2022-12-13T11:35:34.283Z"
   },
   {
    "duration": 143,
    "start_time": "2022-12-13T11:35:34.321Z"
   },
   {
    "duration": 31,
    "start_time": "2022-12-13T11:35:34.466Z"
   },
   {
    "duration": 13,
    "start_time": "2022-12-13T11:35:34.499Z"
   },
   {
    "duration": 9,
    "start_time": "2022-12-13T11:35:34.514Z"
   },
   {
    "duration": 11,
    "start_time": "2022-12-13T11:35:34.540Z"
   },
   {
    "duration": 28,
    "start_time": "2022-12-13T11:35:34.553Z"
   },
   {
    "duration": 33,
    "start_time": "2022-12-13T11:35:34.583Z"
   },
   {
    "duration": 50,
    "start_time": "2022-12-13T11:35:34.617Z"
   },
   {
    "duration": 32,
    "start_time": "2022-12-13T11:35:34.669Z"
   },
   {
    "duration": 4,
    "start_time": "2022-12-13T11:35:34.704Z"
   },
   {
    "duration": 53,
    "start_time": "2022-12-13T11:35:34.710Z"
   },
   {
    "duration": 211,
    "start_time": "2022-12-13T11:35:34.766Z"
   },
   {
    "duration": 213,
    "start_time": "2022-12-13T11:38:25.047Z"
   },
   {
    "duration": 224,
    "start_time": "2022-12-13T11:39:00.907Z"
   },
   {
    "duration": 207,
    "start_time": "2022-12-13T11:39:21.067Z"
   },
   {
    "duration": 220,
    "start_time": "2022-12-13T11:39:24.579Z"
   },
   {
    "duration": 320,
    "start_time": "2022-12-13T11:39:31.890Z"
   },
   {
    "duration": 256,
    "start_time": "2022-12-13T11:39:37.875Z"
   },
   {
    "duration": 210,
    "start_time": "2022-12-13T11:39:43.394Z"
   },
   {
    "duration": 217,
    "start_time": "2022-12-13T11:39:52.163Z"
   },
   {
    "duration": 186,
    "start_time": "2022-12-13T11:59:08.556Z"
   },
   {
    "duration": 168,
    "start_time": "2022-12-13T11:59:16.032Z"
   },
   {
    "duration": 173,
    "start_time": "2022-12-13T11:59:23.929Z"
   },
   {
    "duration": 241,
    "start_time": "2022-12-13T11:59:27.705Z"
   },
   {
    "duration": 86,
    "start_time": "2022-12-13T12:03:51.267Z"
   },
   {
    "duration": 4,
    "start_time": "2022-12-13T12:04:10.499Z"
   },
   {
    "duration": 2,
    "start_time": "2022-12-13T12:04:23.427Z"
   },
   {
    "duration": 4,
    "start_time": "2022-12-13T13:44:24.969Z"
   },
   {
    "duration": 8,
    "start_time": "2022-12-13T13:44:41.295Z"
   },
   {
    "duration": 9,
    "start_time": "2022-12-13T13:45:33.391Z"
   },
   {
    "duration": 72,
    "start_time": "2022-12-13T13:45:50.368Z"
   },
   {
    "duration": 7,
    "start_time": "2022-12-13T13:46:06.644Z"
   },
   {
    "duration": 1447,
    "start_time": "2022-12-13T13:47:53.673Z"
   },
   {
    "duration": 6,
    "start_time": "2022-12-13T13:48:04.383Z"
   },
   {
    "duration": 27,
    "start_time": "2022-12-13T13:49:35.555Z"
   },
   {
    "duration": 210,
    "start_time": "2022-12-13T13:50:09.360Z"
   },
   {
    "duration": 173,
    "start_time": "2022-12-13T13:52:38.631Z"
   },
   {
    "duration": 23,
    "start_time": "2022-12-13T14:00:15.112Z"
   },
   {
    "duration": 167,
    "start_time": "2022-12-13T14:00:35.193Z"
   },
   {
    "duration": 297,
    "start_time": "2022-12-13T14:00:50.592Z"
   },
   {
    "duration": 554,
    "start_time": "2022-12-13T14:01:00.854Z"
   },
   {
    "duration": 17,
    "start_time": "2022-12-13T14:01:01.410Z"
   },
   {
    "duration": 37,
    "start_time": "2022-12-13T14:01:01.429Z"
   },
   {
    "duration": 2749,
    "start_time": "2022-12-13T14:01:01.473Z"
   },
   {
    "duration": 3,
    "start_time": "2022-12-13T14:01:04.226Z"
   },
   {
    "duration": 15,
    "start_time": "2022-12-13T14:01:04.231Z"
   },
   {
    "duration": 30,
    "start_time": "2022-12-13T14:01:04.247Z"
   },
   {
    "duration": 7,
    "start_time": "2022-12-13T14:01:04.279Z"
   },
   {
    "duration": 8,
    "start_time": "2022-12-13T14:01:04.288Z"
   },
   {
    "duration": 7,
    "start_time": "2022-12-13T14:01:04.297Z"
   },
   {
    "duration": 26,
    "start_time": "2022-12-13T14:01:04.305Z"
   },
   {
    "duration": 31,
    "start_time": "2022-12-13T14:01:04.333Z"
   },
   {
    "duration": 12,
    "start_time": "2022-12-13T14:01:04.367Z"
   },
   {
    "duration": 19,
    "start_time": "2022-12-13T14:01:04.382Z"
   },
   {
    "duration": 15,
    "start_time": "2022-12-13T14:01:04.403Z"
   },
   {
    "duration": 31,
    "start_time": "2022-12-13T14:01:04.420Z"
   },
   {
    "duration": 17,
    "start_time": "2022-12-13T14:01:04.456Z"
   },
   {
    "duration": 27,
    "start_time": "2022-12-13T14:01:04.475Z"
   },
   {
    "duration": 135,
    "start_time": "2022-12-13T14:01:04.504Z"
   },
   {
    "duration": 39,
    "start_time": "2022-12-13T14:01:04.643Z"
   },
   {
    "duration": 10,
    "start_time": "2022-12-13T14:01:04.683Z"
   },
   {
    "duration": 8,
    "start_time": "2022-12-13T14:01:04.694Z"
   },
   {
    "duration": 10,
    "start_time": "2022-12-13T14:01:04.704Z"
   },
   {
    "duration": 27,
    "start_time": "2022-12-13T14:01:04.715Z"
   },
   {
    "duration": 41,
    "start_time": "2022-12-13T14:01:04.749Z"
   },
   {
    "duration": 33,
    "start_time": "2022-12-13T14:01:04.792Z"
   },
   {
    "duration": 35,
    "start_time": "2022-12-13T14:01:04.827Z"
   },
   {
    "duration": 235,
    "start_time": "2022-12-13T14:01:04.865Z"
   },
   {
    "duration": 2,
    "start_time": "2022-12-13T14:01:05.102Z"
   },
   {
    "duration": 41,
    "start_time": "2022-12-13T14:01:05.105Z"
   },
   {
    "duration": 181,
    "start_time": "2022-12-13T14:01:05.148Z"
   },
   {
    "duration": 12,
    "start_time": "2022-12-13T14:01:05.331Z"
   },
   {
    "duration": 34,
    "start_time": "2022-12-13T14:01:05.349Z"
   },
   {
    "duration": 219,
    "start_time": "2022-12-13T14:01:05.385Z"
   },
   {
    "duration": 191,
    "start_time": "2022-12-13T14:01:05.606Z"
   },
   {
    "duration": 19,
    "start_time": "2022-12-13T14:01:05.799Z"
   },
   {
    "duration": 183,
    "start_time": "2022-12-13T14:01:05.820Z"
   },
   {
    "duration": 22,
    "start_time": "2022-12-13T14:01:22.757Z"
   },
   {
    "duration": 247,
    "start_time": "2022-12-13T14:01:25.258Z"
   },
   {
    "duration": 18,
    "start_time": "2022-12-13T14:01:54.589Z"
   },
   {
    "duration": 183,
    "start_time": "2022-12-13T14:01:57.175Z"
   },
   {
    "duration": 180,
    "start_time": "2022-12-13T14:05:35.296Z"
   },
   {
    "duration": 156,
    "start_time": "2022-12-13T14:05:58.032Z"
   },
   {
    "duration": 11,
    "start_time": "2022-12-13T14:08:14.433Z"
   },
   {
    "duration": 22,
    "start_time": "2022-12-13T14:11:45.707Z"
   },
   {
    "duration": 294,
    "start_time": "2022-12-13T14:12:21.261Z"
   },
   {
    "duration": 2,
    "start_time": "2022-12-13T14:12:32.331Z"
   },
   {
    "duration": 24,
    "start_time": "2022-12-13T14:12:36.330Z"
   },
   {
    "duration": 89,
    "start_time": "2022-12-13T14:14:19.900Z"
   },
   {
    "duration": 300,
    "start_time": "2022-12-13T14:14:28.612Z"
   },
   {
    "duration": 272,
    "start_time": "2022-12-13T14:17:09.693Z"
   },
   {
    "duration": 99,
    "start_time": "2022-12-13T14:18:21.085Z"
   },
   {
    "duration": 12,
    "start_time": "2022-12-13T14:19:10.173Z"
   },
   {
    "duration": 415,
    "start_time": "2022-12-13T14:19:18.493Z"
   },
   {
    "duration": 3,
    "start_time": "2022-12-13T14:25:40.344Z"
   },
   {
    "duration": 4,
    "start_time": "2022-12-13T14:33:15.235Z"
   },
   {
    "duration": 6,
    "start_time": "2022-12-13T14:33:16.947Z"
   },
   {
    "duration": 5,
    "start_time": "2022-12-13T14:33:17.889Z"
   },
   {
    "duration": 6,
    "start_time": "2022-12-13T14:33:18.914Z"
   },
   {
    "duration": 573,
    "start_time": "2022-12-13T14:35:07.355Z"
   },
   {
    "duration": 17,
    "start_time": "2022-12-13T14:35:25.723Z"
   },
   {
    "duration": 556,
    "start_time": "2022-12-13T14:35:29.093Z"
   },
   {
    "duration": 569,
    "start_time": "2022-12-13T14:35:35.259Z"
   },
   {
    "duration": 12,
    "start_time": "2022-12-13T14:35:50.594Z"
   },
   {
    "duration": 536,
    "start_time": "2022-12-13T14:35:57.106Z"
   },
   {
    "duration": 17,
    "start_time": "2022-12-13T14:35:57.644Z"
   },
   {
    "duration": 15,
    "start_time": "2022-12-13T14:35:57.663Z"
   },
   {
    "duration": 2554,
    "start_time": "2022-12-13T14:35:57.680Z"
   },
   {
    "duration": 4,
    "start_time": "2022-12-13T14:36:00.236Z"
   },
   {
    "duration": 21,
    "start_time": "2022-12-13T14:36:00.241Z"
   },
   {
    "duration": 8,
    "start_time": "2022-12-13T14:36:00.264Z"
   },
   {
    "duration": 12,
    "start_time": "2022-12-13T14:36:00.274Z"
   },
   {
    "duration": 28,
    "start_time": "2022-12-13T14:36:00.288Z"
   },
   {
    "duration": 23,
    "start_time": "2022-12-13T14:36:00.320Z"
   },
   {
    "duration": 34,
    "start_time": "2022-12-13T14:36:00.345Z"
   },
   {
    "duration": 34,
    "start_time": "2022-12-13T14:36:00.381Z"
   },
   {
    "duration": 5,
    "start_time": "2022-12-13T14:36:00.417Z"
   },
   {
    "duration": 32,
    "start_time": "2022-12-13T14:36:00.424Z"
   },
   {
    "duration": 36,
    "start_time": "2022-12-13T14:36:00.458Z"
   },
   {
    "duration": 25,
    "start_time": "2022-12-13T14:36:00.496Z"
   },
   {
    "duration": 5,
    "start_time": "2022-12-13T14:36:00.523Z"
   },
   {
    "duration": 41,
    "start_time": "2022-12-13T14:36:00.529Z"
   },
   {
    "duration": 123,
    "start_time": "2022-12-13T14:36:00.572Z"
   },
   {
    "duration": 29,
    "start_time": "2022-12-13T14:36:00.696Z"
   },
   {
    "duration": 11,
    "start_time": "2022-12-13T14:36:00.738Z"
   },
   {
    "duration": 15,
    "start_time": "2022-12-13T14:36:00.752Z"
   },
   {
    "duration": 38,
    "start_time": "2022-12-13T14:36:00.769Z"
   },
   {
    "duration": 28,
    "start_time": "2022-12-13T14:36:00.809Z"
   },
   {
    "duration": 46,
    "start_time": "2022-12-13T14:36:00.839Z"
   },
   {
    "duration": 35,
    "start_time": "2022-12-13T14:36:00.887Z"
   },
   {
    "duration": 39,
    "start_time": "2022-12-13T14:36:00.923Z"
   },
   {
    "duration": 220,
    "start_time": "2022-12-13T14:36:00.965Z"
   },
   {
    "duration": 3,
    "start_time": "2022-12-13T14:36:01.188Z"
   },
   {
    "duration": 30,
    "start_time": "2022-12-13T14:36:01.193Z"
   },
   {
    "duration": 193,
    "start_time": "2022-12-13T14:36:01.226Z"
   },
   {
    "duration": 3,
    "start_time": "2022-12-13T14:36:01.421Z"
   },
   {
    "duration": 67,
    "start_time": "2022-12-13T14:36:01.437Z"
   },
   {
    "duration": 257,
    "start_time": "2022-12-13T14:36:01.506Z"
   },
   {
    "duration": 167,
    "start_time": "2022-12-13T14:36:01.765Z"
   },
   {
    "duration": 20,
    "start_time": "2022-12-13T14:36:01.933Z"
   },
   {
    "duration": 166,
    "start_time": "2022-12-13T14:36:01.955Z"
   },
   {
    "duration": 233,
    "start_time": "2022-12-13T14:36:02.123Z"
   },
   {
    "duration": 2,
    "start_time": "2022-12-13T14:36:02.359Z"
   },
   {
    "duration": 24,
    "start_time": "2022-12-13T14:36:02.363Z"
   },
   {
    "duration": 281,
    "start_time": "2022-12-13T14:36:02.389Z"
   },
   {
    "duration": 3,
    "start_time": "2022-12-13T14:36:02.672Z"
   },
   {
    "duration": 34,
    "start_time": "2022-12-13T14:36:02.677Z"
   },
   {
    "duration": 256,
    "start_time": "2022-12-13T14:36:02.712Z"
   },
   {
    "duration": 3,
    "start_time": "2022-12-13T14:36:02.970Z"
   },
   {
    "duration": 7,
    "start_time": "2022-12-13T14:36:02.975Z"
   },
   {
    "duration": 9,
    "start_time": "2022-12-13T14:36:02.984Z"
   },
   {
    "duration": 5,
    "start_time": "2022-12-13T14:36:02.994Z"
   },
   {
    "duration": 6,
    "start_time": "2022-12-13T14:36:03.000Z"
   },
   {
    "duration": 661,
    "start_time": "2022-12-13T14:36:03.007Z"
   },
   {
    "duration": 90,
    "start_time": "2022-12-13T14:36:03.670Z"
   },
   {
    "duration": 7,
    "start_time": "2022-12-13T14:36:47.687Z"
   },
   {
    "duration": 576,
    "start_time": "2022-12-13T14:59:05.345Z"
   },
   {
    "duration": 1229,
    "start_time": "2022-12-13T14:59:34.222Z"
   },
   {
    "duration": 7,
    "start_time": "2022-12-13T14:59:36.042Z"
   },
   {
    "duration": 8,
    "start_time": "2022-12-13T14:59:45.857Z"
   },
   {
    "duration": 6,
    "start_time": "2022-12-13T14:59:53.614Z"
   },
   {
    "duration": 7,
    "start_time": "2022-12-13T14:59:59.242Z"
   },
   {
    "duration": 8,
    "start_time": "2022-12-13T15:00:14.738Z"
   },
   {
    "duration": 8,
    "start_time": "2022-12-13T15:00:22.109Z"
   },
   {
    "duration": 7,
    "start_time": "2022-12-13T15:00:32.571Z"
   },
   {
    "duration": 7,
    "start_time": "2022-12-13T15:00:35.081Z"
   },
   {
    "duration": 8,
    "start_time": "2022-12-13T15:01:14.898Z"
   },
   {
    "duration": 58,
    "start_time": "2022-12-13T17:22:21.456Z"
   },
   {
    "duration": 766,
    "start_time": "2022-12-13T17:22:32.486Z"
   },
   {
    "duration": 21,
    "start_time": "2022-12-13T17:22:33.255Z"
   },
   {
    "duration": 15,
    "start_time": "2022-12-13T17:22:33.278Z"
   },
   {
    "duration": 2480,
    "start_time": "2022-12-13T17:22:33.295Z"
   },
   {
    "duration": 5,
    "start_time": "2022-12-13T17:22:35.777Z"
   },
   {
    "duration": 13,
    "start_time": "2022-12-13T17:22:35.783Z"
   },
   {
    "duration": 4,
    "start_time": "2022-12-13T17:22:35.798Z"
   },
   {
    "duration": 12,
    "start_time": "2022-12-13T17:22:35.803Z"
   },
   {
    "duration": 6,
    "start_time": "2022-12-13T17:22:35.817Z"
   },
   {
    "duration": 3,
    "start_time": "2022-12-13T17:22:35.826Z"
   },
   {
    "duration": 23,
    "start_time": "2022-12-13T17:22:35.831Z"
   },
   {
    "duration": 12,
    "start_time": "2022-12-13T17:22:35.856Z"
   },
   {
    "duration": 4,
    "start_time": "2022-12-13T17:22:35.870Z"
   },
   {
    "duration": 51,
    "start_time": "2022-12-13T17:22:35.875Z"
   },
   {
    "duration": 17,
    "start_time": "2022-12-13T17:22:35.927Z"
   },
   {
    "duration": 17,
    "start_time": "2022-12-13T17:22:35.946Z"
   },
   {
    "duration": 17,
    "start_time": "2022-12-13T17:22:35.964Z"
   },
   {
    "duration": 42,
    "start_time": "2022-12-13T17:22:35.982Z"
   },
   {
    "duration": 118,
    "start_time": "2022-12-13T17:22:36.026Z"
   },
   {
    "duration": 26,
    "start_time": "2022-12-13T17:22:36.146Z"
   },
   {
    "duration": 9,
    "start_time": "2022-12-13T17:22:36.173Z"
   },
   {
    "duration": 7,
    "start_time": "2022-12-13T17:22:36.184Z"
   },
   {
    "duration": 6,
    "start_time": "2022-12-13T17:22:36.216Z"
   },
   {
    "duration": 12,
    "start_time": "2022-12-13T17:22:36.224Z"
   },
   {
    "duration": 38,
    "start_time": "2022-12-13T17:22:36.238Z"
   },
   {
    "duration": 67,
    "start_time": "2022-12-13T17:22:36.277Z"
   },
   {
    "duration": 36,
    "start_time": "2022-12-13T17:22:36.346Z"
   },
   {
    "duration": 238,
    "start_time": "2022-12-13T17:22:36.387Z"
   },
   {
    "duration": 3,
    "start_time": "2022-12-13T17:22:36.626Z"
   },
   {
    "duration": 23,
    "start_time": "2022-12-13T17:22:36.630Z"
   },
   {
    "duration": 172,
    "start_time": "2022-12-13T17:22:36.655Z"
   },
   {
    "duration": 3,
    "start_time": "2022-12-13T17:22:36.829Z"
   },
   {
    "duration": 22,
    "start_time": "2022-12-13T17:22:36.834Z"
   },
   {
    "duration": 201,
    "start_time": "2022-12-13T17:22:36.858Z"
   },
   {
    "duration": 160,
    "start_time": "2022-12-13T17:22:37.060Z"
   },
   {
    "duration": 17,
    "start_time": "2022-12-13T17:22:37.221Z"
   },
   {
    "duration": 230,
    "start_time": "2022-12-13T17:22:37.240Z"
   },
   {
    "duration": 156,
    "start_time": "2022-12-13T17:22:37.471Z"
   },
   {
    "duration": 3,
    "start_time": "2022-12-13T17:22:37.629Z"
   },
   {
    "duration": 33,
    "start_time": "2022-12-13T17:22:37.633Z"
   },
   {
    "duration": 296,
    "start_time": "2022-12-13T17:22:37.668Z"
   },
   {
    "duration": 4,
    "start_time": "2022-12-13T17:22:37.965Z"
   },
   {
    "duration": 13,
    "start_time": "2022-12-13T17:22:37.971Z"
   },
   {
    "duration": 272,
    "start_time": "2022-12-13T17:22:37.986Z"
   },
   {
    "duration": 4,
    "start_time": "2022-12-13T17:22:38.260Z"
   },
   {
    "duration": 10,
    "start_time": "2022-12-13T17:22:38.266Z"
   },
   {
    "duration": 8,
    "start_time": "2022-12-13T17:22:38.277Z"
   },
   {
    "duration": 6,
    "start_time": "2022-12-13T17:22:38.287Z"
   },
   {
    "duration": 23,
    "start_time": "2022-12-13T17:22:38.294Z"
   },
   {
    "duration": 559,
    "start_time": "2022-12-13T17:22:38.319Z"
   },
   {
    "duration": 7,
    "start_time": "2022-12-13T17:22:38.880Z"
   },
   {
    "duration": 11,
    "start_time": "2022-12-13T17:25:56.243Z"
   },
   {
    "duration": 7,
    "start_time": "2022-12-13T17:26:09.031Z"
   },
   {
    "duration": 7,
    "start_time": "2022-12-13T17:26:26.464Z"
   },
   {
    "duration": 156,
    "start_time": "2022-12-13T17:28:11.977Z"
   },
   {
    "duration": 3107,
    "start_time": "2022-12-13T17:57:03.611Z"
   },
   {
    "duration": 6599,
    "start_time": "2022-12-13T17:58:49.136Z"
   },
   {
    "duration": 3037,
    "start_time": "2022-12-13T17:59:13.829Z"
   },
   {
    "duration": 148,
    "start_time": "2022-12-13T18:00:00.788Z"
   },
   {
    "duration": 2880,
    "start_time": "2022-12-13T18:00:21.035Z"
   },
   {
    "duration": 2,
    "start_time": "2022-12-13T18:02:42.149Z"
   },
   {
    "duration": 2845,
    "start_time": "2022-12-13T18:05:40.240Z"
   },
   {
    "duration": 2659,
    "start_time": "2022-12-13T18:06:08.439Z"
   },
   {
    "duration": 2922,
    "start_time": "2022-12-13T18:15:56.805Z"
   },
   {
    "duration": 129,
    "start_time": "2022-12-13T18:19:46.304Z"
   },
   {
    "duration": 4,
    "start_time": "2022-12-13T18:20:14.477Z"
   },
   {
    "duration": 47,
    "start_time": "2022-12-14T08:15:42.223Z"
   },
   {
    "duration": 607,
    "start_time": "2022-12-14T08:15:53.407Z"
   },
   {
    "duration": 19,
    "start_time": "2022-12-14T08:15:54.017Z"
   },
   {
    "duration": 112,
    "start_time": "2022-12-14T08:15:54.038Z"
   },
   {
    "duration": 2733,
    "start_time": "2022-12-14T08:15:54.153Z"
   },
   {
    "duration": 6,
    "start_time": "2022-12-14T08:15:56.889Z"
   },
   {
    "duration": 25,
    "start_time": "2022-12-14T08:15:56.896Z"
   },
   {
    "duration": 18,
    "start_time": "2022-12-14T08:15:56.923Z"
   },
   {
    "duration": 21,
    "start_time": "2022-12-14T08:15:56.942Z"
   },
   {
    "duration": 35,
    "start_time": "2022-12-14T08:15:56.965Z"
   },
   {
    "duration": 22,
    "start_time": "2022-12-14T08:15:57.002Z"
   },
   {
    "duration": 35,
    "start_time": "2022-12-14T08:15:57.025Z"
   },
   {
    "duration": 24,
    "start_time": "2022-12-14T08:15:57.062Z"
   },
   {
    "duration": 18,
    "start_time": "2022-12-14T08:15:57.087Z"
   },
   {
    "duration": 31,
    "start_time": "2022-12-14T08:15:57.107Z"
   },
   {
    "duration": 28,
    "start_time": "2022-12-14T08:15:57.140Z"
   },
   {
    "duration": 64,
    "start_time": "2022-12-14T08:15:57.170Z"
   },
   {
    "duration": 31,
    "start_time": "2022-12-14T08:15:57.236Z"
   },
   {
    "duration": 39,
    "start_time": "2022-12-14T08:15:57.269Z"
   },
   {
    "duration": 136,
    "start_time": "2022-12-14T08:15:57.311Z"
   },
   {
    "duration": 49,
    "start_time": "2022-12-14T08:15:57.449Z"
   },
   {
    "duration": 11,
    "start_time": "2022-12-14T08:15:57.503Z"
   },
   {
    "duration": 33,
    "start_time": "2022-12-14T08:15:57.516Z"
   },
   {
    "duration": 25,
    "start_time": "2022-12-14T08:15:57.551Z"
   },
   {
    "duration": 54,
    "start_time": "2022-12-14T08:15:57.577Z"
   },
   {
    "duration": 56,
    "start_time": "2022-12-14T08:15:57.632Z"
   },
   {
    "duration": 40,
    "start_time": "2022-12-14T08:15:57.689Z"
   },
   {
    "duration": 30,
    "start_time": "2022-12-14T08:15:57.732Z"
   },
   {
    "duration": 234,
    "start_time": "2022-12-14T08:15:57.765Z"
   },
   {
    "duration": 3,
    "start_time": "2022-12-14T08:15:58.001Z"
   },
   {
    "duration": 30,
    "start_time": "2022-12-14T08:15:58.005Z"
   },
   {
    "duration": 190,
    "start_time": "2022-12-14T08:15:58.037Z"
   },
   {
    "duration": 3,
    "start_time": "2022-12-14T08:15:58.228Z"
   },
   {
    "duration": 32,
    "start_time": "2022-12-14T08:15:58.233Z"
   },
   {
    "duration": 218,
    "start_time": "2022-12-14T08:15:58.267Z"
   },
   {
    "duration": 161,
    "start_time": "2022-12-14T08:15:58.486Z"
   },
   {
    "duration": 17,
    "start_time": "2022-12-14T08:15:58.648Z"
   },
   {
    "duration": 263,
    "start_time": "2022-12-14T08:15:58.666Z"
   },
   {
    "duration": 165,
    "start_time": "2022-12-14T08:15:58.931Z"
   },
   {
    "duration": 3,
    "start_time": "2022-12-14T08:15:59.097Z"
   },
   {
    "duration": 34,
    "start_time": "2022-12-14T08:15:59.103Z"
   },
   {
    "duration": 278,
    "start_time": "2022-12-14T08:15:59.140Z"
   },
   {
    "duration": 3,
    "start_time": "2022-12-14T08:15:59.420Z"
   },
   {
    "duration": 33,
    "start_time": "2022-12-14T08:15:59.425Z"
   },
   {
    "duration": 275,
    "start_time": "2022-12-14T08:15:59.459Z"
   },
   {
    "duration": 3,
    "start_time": "2022-12-14T08:15:59.736Z"
   },
   {
    "duration": 18,
    "start_time": "2022-12-14T08:15:59.741Z"
   },
   {
    "duration": 43,
    "start_time": "2022-12-14T08:15:59.761Z"
   },
   {
    "duration": 13,
    "start_time": "2022-12-14T08:15:59.806Z"
   },
   {
    "duration": 12,
    "start_time": "2022-12-14T08:15:59.820Z"
   },
   {
    "duration": 583,
    "start_time": "2022-12-14T08:15:59.834Z"
   },
   {
    "duration": 9,
    "start_time": "2022-12-14T08:16:00.418Z"
   },
   {
    "duration": 23,
    "start_time": "2022-12-14T08:16:00.429Z"
   },
   {
    "duration": 205,
    "start_time": "2022-12-14T08:16:00.454Z"
   },
   {
    "duration": 3074,
    "start_time": "2022-12-14T08:16:00.661Z"
   },
   {
    "duration": 3080,
    "start_time": "2022-12-14T08:16:03.736Z"
   },
   {
    "duration": 543,
    "start_time": "2022-12-14T08:16:06.818Z"
   },
   {
    "duration": 6,
    "start_time": "2022-12-14T08:18:02.246Z"
   },
   {
    "duration": 6,
    "start_time": "2022-12-14T08:18:42.030Z"
   },
   {
    "duration": 377,
    "start_time": "2022-12-14T08:29:53.038Z"
   },
   {
    "duration": 639,
    "start_time": "2022-12-14T08:30:30.317Z"
   },
   {
    "duration": 35,
    "start_time": "2022-12-14T08:30:30.959Z"
   },
   {
    "duration": 58,
    "start_time": "2022-12-14T08:30:30.999Z"
   },
   {
    "duration": 3396,
    "start_time": "2022-12-14T08:30:31.060Z"
   },
   {
    "duration": 5,
    "start_time": "2022-12-14T08:30:34.458Z"
   },
   {
    "duration": 90,
    "start_time": "2022-12-14T08:30:34.464Z"
   },
   {
    "duration": 54,
    "start_time": "2022-12-14T08:30:34.556Z"
   },
   {
    "duration": 37,
    "start_time": "2022-12-14T08:30:34.612Z"
   },
   {
    "duration": 22,
    "start_time": "2022-12-14T08:30:34.651Z"
   },
   {
    "duration": 41,
    "start_time": "2022-12-14T08:30:34.677Z"
   },
   {
    "duration": 69,
    "start_time": "2022-12-14T08:30:34.720Z"
   },
   {
    "duration": 37,
    "start_time": "2022-12-14T08:30:34.791Z"
   },
   {
    "duration": 15,
    "start_time": "2022-12-14T08:30:34.829Z"
   },
   {
    "duration": 80,
    "start_time": "2022-12-14T08:30:34.845Z"
   },
   {
    "duration": 37,
    "start_time": "2022-12-14T08:30:34.927Z"
   },
   {
    "duration": 54,
    "start_time": "2022-12-14T08:30:34.966Z"
   },
   {
    "duration": 7,
    "start_time": "2022-12-14T08:30:35.024Z"
   },
   {
    "duration": 73,
    "start_time": "2022-12-14T08:30:35.034Z"
   },
   {
    "duration": 156,
    "start_time": "2022-12-14T08:30:35.111Z"
   },
   {
    "duration": 51,
    "start_time": "2022-12-14T08:30:35.269Z"
   },
   {
    "duration": 18,
    "start_time": "2022-12-14T08:30:35.323Z"
   },
   {
    "duration": 26,
    "start_time": "2022-12-14T08:30:35.343Z"
   },
   {
    "duration": 46,
    "start_time": "2022-12-14T08:30:35.372Z"
   },
   {
    "duration": 17,
    "start_time": "2022-12-14T08:30:35.420Z"
   },
   {
    "duration": 70,
    "start_time": "2022-12-14T08:30:35.440Z"
   },
   {
    "duration": 40,
    "start_time": "2022-12-14T08:30:35.512Z"
   },
   {
    "duration": 60,
    "start_time": "2022-12-14T08:30:35.554Z"
   },
   {
    "duration": 325,
    "start_time": "2022-12-14T08:30:35.618Z"
   },
   {
    "duration": 3,
    "start_time": "2022-12-14T08:30:35.945Z"
   },
   {
    "duration": 42,
    "start_time": "2022-12-14T08:30:35.950Z"
   },
   {
    "duration": 246,
    "start_time": "2022-12-14T08:30:36.000Z"
   },
   {
    "duration": 4,
    "start_time": "2022-12-14T08:30:36.248Z"
   },
   {
    "duration": 39,
    "start_time": "2022-12-14T08:30:36.254Z"
   },
   {
    "duration": 280,
    "start_time": "2022-12-14T08:30:36.297Z"
   },
   {
    "duration": 187,
    "start_time": "2022-12-14T08:30:36.579Z"
   },
   {
    "duration": 27,
    "start_time": "2022-12-14T08:30:36.768Z"
   },
   {
    "duration": 233,
    "start_time": "2022-12-14T08:30:36.802Z"
   },
   {
    "duration": 304,
    "start_time": "2022-12-14T08:30:37.037Z"
   },
   {
    "duration": 3,
    "start_time": "2022-12-14T08:30:37.344Z"
   },
   {
    "duration": 52,
    "start_time": "2022-12-14T08:30:37.349Z"
   },
   {
    "duration": 288,
    "start_time": "2022-12-14T08:30:37.404Z"
   },
   {
    "duration": 2,
    "start_time": "2022-12-14T08:30:37.694Z"
   },
   {
    "duration": 28,
    "start_time": "2022-12-14T08:30:37.697Z"
   },
   {
    "duration": 273,
    "start_time": "2022-12-14T08:30:37.726Z"
   },
   {
    "duration": 3,
    "start_time": "2022-12-14T08:30:38.001Z"
   },
   {
    "duration": 9,
    "start_time": "2022-12-14T08:30:38.006Z"
   },
   {
    "duration": 10,
    "start_time": "2022-12-14T08:30:38.017Z"
   },
   {
    "duration": 6,
    "start_time": "2022-12-14T08:30:38.029Z"
   },
   {
    "duration": 7,
    "start_time": "2022-12-14T08:30:38.037Z"
   },
   {
    "duration": 596,
    "start_time": "2022-12-14T08:30:38.047Z"
   },
   {
    "duration": 7,
    "start_time": "2022-12-14T08:30:38.645Z"
   },
   {
    "duration": 15,
    "start_time": "2022-12-14T08:30:38.653Z"
   },
   {
    "duration": 180,
    "start_time": "2022-12-14T08:30:38.669Z"
   },
   {
    "duration": 3035,
    "start_time": "2022-12-14T08:30:38.852Z"
   },
   {
    "duration": 3230,
    "start_time": "2022-12-14T08:30:41.895Z"
   },
   {
    "duration": 504,
    "start_time": "2022-12-14T08:30:45.127Z"
   },
   {
    "duration": 7,
    "start_time": "2022-12-14T08:30:45.633Z"
   },
   {
    "duration": 349,
    "start_time": "2022-12-14T08:30:45.641Z"
   },
   {
    "duration": 255,
    "start_time": "2022-12-14T08:31:08.299Z"
   },
   {
    "duration": 275,
    "start_time": "2022-12-14T08:31:32.197Z"
   },
   {
    "duration": 263,
    "start_time": "2022-12-14T08:32:12.954Z"
   },
   {
    "duration": 173,
    "start_time": "2022-12-14T08:36:58.758Z"
   },
   {
    "duration": 8,
    "start_time": "2022-12-14T08:40:39.765Z"
   },
   {
    "duration": 159,
    "start_time": "2022-12-14T08:40:53.417Z"
   },
   {
    "duration": 91,
    "start_time": "2022-12-14T08:41:17.517Z"
   },
   {
    "duration": 93,
    "start_time": "2022-12-14T08:41:23.237Z"
   },
   {
    "duration": 150,
    "start_time": "2022-12-14T08:41:40.414Z"
   },
   {
    "duration": 168,
    "start_time": "2022-12-14T09:02:53.451Z"
   },
   {
    "duration": 179,
    "start_time": "2022-12-14T09:03:50.612Z"
   },
   {
    "duration": 171,
    "start_time": "2022-12-14T09:04:01.792Z"
   },
   {
    "duration": 184,
    "start_time": "2022-12-14T09:05:01.252Z"
   },
   {
    "duration": 177,
    "start_time": "2022-12-14T09:05:12.420Z"
   },
   {
    "duration": 16,
    "start_time": "2022-12-14T09:05:20.196Z"
   },
   {
    "duration": 14,
    "start_time": "2022-12-14T09:05:34.709Z"
   },
   {
    "duration": 211,
    "start_time": "2022-12-14T09:06:36.902Z"
   },
   {
    "duration": 17,
    "start_time": "2022-12-14T09:09:28.670Z"
   },
   {
    "duration": 13,
    "start_time": "2022-12-14T09:09:41.813Z"
   },
   {
    "duration": 189,
    "start_time": "2022-12-14T09:10:54.102Z"
   },
   {
    "duration": 186,
    "start_time": "2022-12-14T09:17:01.745Z"
   },
   {
    "duration": 85,
    "start_time": "2022-12-14T09:18:11.023Z"
   },
   {
    "duration": 463,
    "start_time": "2022-12-14T09:18:27.191Z"
   },
   {
    "duration": 226,
    "start_time": "2022-12-14T09:23:38.505Z"
   },
   {
    "duration": 255,
    "start_time": "2022-12-14T09:24:02.650Z"
   },
   {
    "duration": 87,
    "start_time": "2022-12-14T09:26:32.900Z"
   },
   {
    "duration": 111,
    "start_time": "2022-12-14T09:26:39.634Z"
   },
   {
    "duration": 71,
    "start_time": "2022-12-14T09:27:37.282Z"
   },
   {
    "duration": 77,
    "start_time": "2022-12-14T09:27:46.634Z"
   },
   {
    "duration": 74,
    "start_time": "2022-12-14T09:27:56.051Z"
   },
   {
    "duration": 232,
    "start_time": "2022-12-14T09:28:10.123Z"
   },
   {
    "duration": 286,
    "start_time": "2022-12-14T09:28:15.733Z"
   },
   {
    "duration": 71,
    "start_time": "2022-12-14T09:28:35.188Z"
   },
   {
    "duration": 68,
    "start_time": "2022-12-14T09:28:48.923Z"
   },
   {
    "duration": 69,
    "start_time": "2022-12-14T09:29:07.716Z"
   },
   {
    "duration": 299,
    "start_time": "2022-12-14T09:29:20.267Z"
   },
   {
    "duration": 175,
    "start_time": "2022-12-14T09:32:04.483Z"
   },
   {
    "duration": 177,
    "start_time": "2022-12-14T09:33:53.821Z"
   },
   {
    "duration": 142,
    "start_time": "2022-12-14T09:33:57.228Z"
   },
   {
    "duration": 162,
    "start_time": "2022-12-14T09:34:00.307Z"
   },
   {
    "duration": 135,
    "start_time": "2022-12-14T09:34:12.252Z"
   },
   {
    "duration": 147,
    "start_time": "2022-12-14T09:35:27.895Z"
   },
   {
    "duration": 170,
    "start_time": "2022-12-14T09:35:48.973Z"
   },
   {
    "duration": 168,
    "start_time": "2022-12-14T09:51:35.129Z"
   },
   {
    "duration": 162,
    "start_time": "2022-12-14T09:52:41.418Z"
   },
   {
    "duration": 156,
    "start_time": "2022-12-14T09:53:22.266Z"
   },
   {
    "duration": 174,
    "start_time": "2022-12-14T09:54:15.842Z"
   },
   {
    "duration": 70,
    "start_time": "2022-12-14T09:57:55.451Z"
   },
   {
    "duration": 8,
    "start_time": "2022-12-14T09:59:24.298Z"
   },
   {
    "duration": 287,
    "start_time": "2022-12-14T09:59:33.187Z"
   },
   {
    "duration": 75,
    "start_time": "2022-12-14T09:59:49.947Z"
   },
   {
    "duration": 243,
    "start_time": "2022-12-14T09:59:56.835Z"
   },
   {
    "duration": 16,
    "start_time": "2022-12-14T11:10:36.637Z"
   },
   {
    "duration": 1318,
    "start_time": "2022-12-14T11:11:50.109Z"
   },
   {
    "duration": 1098,
    "start_time": "2022-12-14T11:12:10.070Z"
   },
   {
    "duration": 1154,
    "start_time": "2022-12-14T11:12:29.280Z"
   },
   {
    "duration": 28,
    "start_time": "2022-12-14T11:16:25.255Z"
   },
   {
    "duration": 20,
    "start_time": "2022-12-14T11:17:14.223Z"
   },
   {
    "duration": 30,
    "start_time": "2022-12-14T11:17:43.046Z"
   },
   {
    "duration": 1123,
    "start_time": "2022-12-14T11:28:24.889Z"
   },
   {
    "duration": 1114,
    "start_time": "2022-12-14T11:28:46.891Z"
   },
   {
    "duration": 13,
    "start_time": "2022-12-14T11:29:16.618Z"
   },
   {
    "duration": 13,
    "start_time": "2022-12-14T11:29:27.826Z"
   },
   {
    "duration": 10,
    "start_time": "2022-12-14T11:29:59.101Z"
   },
   {
    "duration": 15,
    "start_time": "2022-12-14T11:31:47.140Z"
   },
   {
    "duration": 552,
    "start_time": "2022-12-14T11:36:12.658Z"
   },
   {
    "duration": 17,
    "start_time": "2022-12-14T11:36:13.212Z"
   },
   {
    "duration": 14,
    "start_time": "2022-12-14T11:36:13.232Z"
   },
   {
    "duration": 2450,
    "start_time": "2022-12-14T11:36:13.250Z"
   },
   {
    "duration": 4,
    "start_time": "2022-12-14T11:36:15.703Z"
   },
   {
    "duration": 21,
    "start_time": "2022-12-14T11:36:15.710Z"
   },
   {
    "duration": 5,
    "start_time": "2022-12-14T11:36:15.732Z"
   },
   {
    "duration": 9,
    "start_time": "2022-12-14T11:36:15.739Z"
   },
   {
    "duration": 16,
    "start_time": "2022-12-14T11:36:15.750Z"
   },
   {
    "duration": 9,
    "start_time": "2022-12-14T11:36:15.769Z"
   },
   {
    "duration": 27,
    "start_time": "2022-12-14T11:36:15.780Z"
   },
   {
    "duration": 14,
    "start_time": "2022-12-14T11:36:15.808Z"
   },
   {
    "duration": 5,
    "start_time": "2022-12-14T11:36:15.823Z"
   },
   {
    "duration": 19,
    "start_time": "2022-12-14T11:36:15.829Z"
   },
   {
    "duration": 33,
    "start_time": "2022-12-14T11:36:15.849Z"
   },
   {
    "duration": 19,
    "start_time": "2022-12-14T11:36:15.883Z"
   },
   {
    "duration": 8,
    "start_time": "2022-12-14T11:36:15.904Z"
   },
   {
    "duration": 26,
    "start_time": "2022-12-14T11:36:15.914Z"
   },
   {
    "duration": 143,
    "start_time": "2022-12-14T11:36:15.941Z"
   },
   {
    "duration": 31,
    "start_time": "2022-12-14T11:36:16.086Z"
   },
   {
    "duration": 11,
    "start_time": "2022-12-14T11:36:16.118Z"
   },
   {
    "duration": 8,
    "start_time": "2022-12-14T11:36:16.131Z"
   },
   {
    "duration": 37,
    "start_time": "2022-12-14T11:36:16.141Z"
   },
   {
    "duration": 9,
    "start_time": "2022-12-14T11:36:16.180Z"
   },
   {
    "duration": 31,
    "start_time": "2022-12-14T11:36:16.191Z"
   },
   {
    "duration": 33,
    "start_time": "2022-12-14T11:36:16.223Z"
   },
   {
    "duration": 47,
    "start_time": "2022-12-14T11:36:16.257Z"
   },
   {
    "duration": 218,
    "start_time": "2022-12-14T11:36:16.307Z"
   },
   {
    "duration": 3,
    "start_time": "2022-12-14T11:36:16.526Z"
   },
   {
    "duration": 24,
    "start_time": "2022-12-14T11:36:16.530Z"
   },
   {
    "duration": 182,
    "start_time": "2022-12-14T11:36:16.555Z"
   },
   {
    "duration": 2,
    "start_time": "2022-12-14T11:36:16.738Z"
   },
   {
    "duration": 24,
    "start_time": "2022-12-14T11:36:16.742Z"
   },
   {
    "duration": 199,
    "start_time": "2022-12-14T11:36:16.768Z"
   },
   {
    "duration": 152,
    "start_time": "2022-12-14T11:36:16.969Z"
   },
   {
    "duration": 18,
    "start_time": "2022-12-14T11:36:17.123Z"
   },
   {
    "duration": 156,
    "start_time": "2022-12-14T11:36:17.143Z"
   },
   {
    "duration": 221,
    "start_time": "2022-12-14T11:36:17.301Z"
   },
   {
    "duration": 3,
    "start_time": "2022-12-14T11:36:17.524Z"
   },
   {
    "duration": 24,
    "start_time": "2022-12-14T11:36:17.528Z"
   },
   {
    "duration": 282,
    "start_time": "2022-12-14T11:36:17.554Z"
   },
   {
    "duration": 2,
    "start_time": "2022-12-14T11:36:17.838Z"
   },
   {
    "duration": 28,
    "start_time": "2022-12-14T11:36:17.841Z"
   },
   {
    "duration": 238,
    "start_time": "2022-12-14T11:36:17.870Z"
   },
   {
    "duration": 3,
    "start_time": "2022-12-14T11:36:18.109Z"
   },
   {
    "duration": 12,
    "start_time": "2022-12-14T11:36:18.114Z"
   },
   {
    "duration": 11,
    "start_time": "2022-12-14T11:36:18.127Z"
   },
   {
    "duration": 9,
    "start_time": "2022-12-14T11:36:18.139Z"
   },
   {
    "duration": 12,
    "start_time": "2022-12-14T11:36:18.149Z"
   },
   {
    "duration": 545,
    "start_time": "2022-12-14T11:36:18.163Z"
   },
   {
    "duration": 7,
    "start_time": "2022-12-14T11:36:18.710Z"
   },
   {
    "duration": 12,
    "start_time": "2022-12-14T11:36:18.718Z"
   },
   {
    "duration": 157,
    "start_time": "2022-12-14T11:36:18.731Z"
   },
   {
    "duration": 2843,
    "start_time": "2022-12-14T11:36:18.890Z"
   },
   {
    "duration": 2808,
    "start_time": "2022-12-14T11:36:21.734Z"
   },
   {
    "duration": 461,
    "start_time": "2022-12-14T11:36:24.544Z"
   },
   {
    "duration": 5,
    "start_time": "2022-12-14T11:36:25.007Z"
   },
   {
    "duration": 164,
    "start_time": "2022-12-14T11:36:25.014Z"
   },
   {
    "duration": 161,
    "start_time": "2022-12-14T11:36:25.179Z"
   },
   {
    "duration": 148,
    "start_time": "2022-12-14T11:36:25.341Z"
   },
   {
    "duration": 168,
    "start_time": "2022-12-14T11:36:25.490Z"
   },
   {
    "duration": 174,
    "start_time": "2022-12-14T11:36:25.660Z"
   },
   {
    "duration": 164,
    "start_time": "2022-12-14T11:36:25.836Z"
   },
   {
    "duration": 201,
    "start_time": "2022-12-14T11:36:26.002Z"
   },
   {
    "duration": 284,
    "start_time": "2022-12-14T11:36:26.204Z"
   },
   {
    "duration": 1349,
    "start_time": "2022-12-14T11:37:33.028Z"
   },
   {
    "duration": 209,
    "start_time": "2022-12-14T11:37:52.549Z"
   },
   {
    "duration": 441,
    "start_time": "2022-12-14T11:38:43.237Z"
   },
   {
    "duration": 201,
    "start_time": "2022-12-14T11:40:20.637Z"
   },
   {
    "duration": 201,
    "start_time": "2022-12-14T11:41:26.455Z"
   },
   {
    "duration": 188,
    "start_time": "2022-12-14T11:41:39.725Z"
   },
   {
    "duration": 194,
    "start_time": "2022-12-14T11:43:38.014Z"
   },
   {
    "duration": 201,
    "start_time": "2022-12-14T11:44:00.693Z"
   },
   {
    "duration": 183,
    "start_time": "2022-12-14T11:44:16.006Z"
   },
   {
    "duration": 187,
    "start_time": "2022-12-14T11:44:38.362Z"
   },
   {
    "duration": 72,
    "start_time": "2022-12-14T11:44:53.046Z"
   },
   {
    "duration": 187,
    "start_time": "2022-12-14T11:45:02.991Z"
   },
   {
    "duration": 524,
    "start_time": "2022-12-14T12:08:29.801Z"
   },
   {
    "duration": 19,
    "start_time": "2022-12-14T12:08:30.328Z"
   },
   {
    "duration": 14,
    "start_time": "2022-12-14T12:08:30.349Z"
   },
   {
    "duration": 2569,
    "start_time": "2022-12-14T12:08:30.379Z"
   },
   {
    "duration": 4,
    "start_time": "2022-12-14T12:08:32.950Z"
   },
   {
    "duration": 19,
    "start_time": "2022-12-14T12:08:32.956Z"
   },
   {
    "duration": 6,
    "start_time": "2022-12-14T12:08:32.976Z"
   },
   {
    "duration": 11,
    "start_time": "2022-12-14T12:08:32.984Z"
   },
   {
    "duration": 13,
    "start_time": "2022-12-14T12:08:32.997Z"
   },
   {
    "duration": 12,
    "start_time": "2022-12-14T12:08:33.012Z"
   },
   {
    "duration": 29,
    "start_time": "2022-12-14T12:08:33.026Z"
   },
   {
    "duration": 22,
    "start_time": "2022-12-14T12:08:33.057Z"
   },
   {
    "duration": 5,
    "start_time": "2022-12-14T12:08:33.081Z"
   },
   {
    "duration": 29,
    "start_time": "2022-12-14T12:08:33.088Z"
   },
   {
    "duration": 17,
    "start_time": "2022-12-14T12:08:33.119Z"
   },
   {
    "duration": 22,
    "start_time": "2022-12-14T12:08:33.138Z"
   },
   {
    "duration": 6,
    "start_time": "2022-12-14T12:08:33.178Z"
   },
   {
    "duration": 29,
    "start_time": "2022-12-14T12:08:33.185Z"
   },
   {
    "duration": 134,
    "start_time": "2022-12-14T12:08:33.216Z"
   },
   {
    "duration": 46,
    "start_time": "2022-12-14T12:08:33.352Z"
   },
   {
    "duration": 12,
    "start_time": "2022-12-14T12:08:33.400Z"
   },
   {
    "duration": 9,
    "start_time": "2022-12-14T12:08:33.413Z"
   },
   {
    "duration": 12,
    "start_time": "2022-12-14T12:08:33.424Z"
   },
   {
    "duration": 11,
    "start_time": "2022-12-14T12:08:33.438Z"
   },
   {
    "duration": 62,
    "start_time": "2022-12-14T12:08:33.451Z"
   },
   {
    "duration": 40,
    "start_time": "2022-12-14T12:08:33.515Z"
   },
   {
    "duration": 54,
    "start_time": "2022-12-14T12:08:33.557Z"
   },
   {
    "duration": 249,
    "start_time": "2022-12-14T12:08:33.616Z"
   },
   {
    "duration": 3,
    "start_time": "2022-12-14T12:08:33.867Z"
   },
   {
    "duration": 32,
    "start_time": "2022-12-14T12:08:33.878Z"
   },
   {
    "duration": 262,
    "start_time": "2022-12-14T12:08:33.912Z"
   },
   {
    "duration": 4,
    "start_time": "2022-12-14T12:08:34.178Z"
   },
   {
    "duration": 24,
    "start_time": "2022-12-14T12:08:34.183Z"
   },
   {
    "duration": 217,
    "start_time": "2022-12-14T12:08:34.209Z"
   },
   {
    "duration": 169,
    "start_time": "2022-12-14T12:08:34.428Z"
   },
   {
    "duration": 18,
    "start_time": "2022-12-14T12:08:34.599Z"
   },
   {
    "duration": 172,
    "start_time": "2022-12-14T12:08:34.618Z"
   },
   {
    "duration": 238,
    "start_time": "2022-12-14T12:08:34.792Z"
   },
   {
    "duration": 3,
    "start_time": "2022-12-14T12:08:35.032Z"
   },
   {
    "duration": 26,
    "start_time": "2022-12-14T12:08:35.036Z"
   },
   {
    "duration": 248,
    "start_time": "2022-12-14T12:08:35.078Z"
   },
   {
    "duration": 2,
    "start_time": "2022-12-14T12:08:35.328Z"
   },
   {
    "duration": 16,
    "start_time": "2022-12-14T12:08:35.331Z"
   },
   {
    "duration": 239,
    "start_time": "2022-12-14T12:08:35.349Z"
   },
   {
    "duration": 3,
    "start_time": "2022-12-14T12:08:35.590Z"
   },
   {
    "duration": 7,
    "start_time": "2022-12-14T12:08:35.594Z"
   },
   {
    "duration": 12,
    "start_time": "2022-12-14T12:08:35.602Z"
   },
   {
    "duration": 5,
    "start_time": "2022-12-14T12:08:35.616Z"
   },
   {
    "duration": 6,
    "start_time": "2022-12-14T12:08:35.622Z"
   },
   {
    "duration": 564,
    "start_time": "2022-12-14T12:08:35.629Z"
   },
   {
    "duration": 6,
    "start_time": "2022-12-14T12:08:36.194Z"
   },
   {
    "duration": 9,
    "start_time": "2022-12-14T12:08:36.202Z"
   },
   {
    "duration": 148,
    "start_time": "2022-12-14T12:08:36.212Z"
   },
   {
    "duration": 2827,
    "start_time": "2022-12-14T12:08:36.362Z"
   },
   {
    "duration": 2810,
    "start_time": "2022-12-14T12:08:39.191Z"
   },
   {
    "duration": 461,
    "start_time": "2022-12-14T12:08:42.002Z"
   },
   {
    "duration": 6,
    "start_time": "2022-12-14T12:08:42.464Z"
   },
   {
    "duration": 152,
    "start_time": "2022-12-14T12:08:42.478Z"
   },
   {
    "duration": 169,
    "start_time": "2022-12-14T12:08:42.632Z"
   },
   {
    "duration": 149,
    "start_time": "2022-12-14T12:08:42.802Z"
   },
   {
    "duration": 172,
    "start_time": "2022-12-14T12:08:42.952Z"
   },
   {
    "duration": 159,
    "start_time": "2022-12-14T12:08:43.126Z"
   },
   {
    "duration": 162,
    "start_time": "2022-12-14T12:08:43.287Z"
   },
   {
    "duration": 185,
    "start_time": "2022-12-14T12:08:43.450Z"
   },
   {
    "duration": 291,
    "start_time": "2022-12-14T12:08:43.637Z"
   },
   {
    "duration": 69,
    "start_time": "2022-12-14T12:10:38.980Z"
   },
   {
    "duration": 74,
    "start_time": "2022-12-14T12:13:24.205Z"
   },
   {
    "duration": 546,
    "start_time": "2022-12-14T12:14:18.262Z"
   },
   {
    "duration": 21,
    "start_time": "2022-12-14T12:14:18.810Z"
   },
   {
    "duration": 37,
    "start_time": "2022-12-14T12:14:18.833Z"
   },
   {
    "duration": 2292,
    "start_time": "2022-12-14T12:14:18.872Z"
   },
   {
    "duration": 3,
    "start_time": "2022-12-14T12:14:21.166Z"
   },
   {
    "duration": 13,
    "start_time": "2022-12-14T12:14:21.171Z"
   },
   {
    "duration": 4,
    "start_time": "2022-12-14T12:14:21.186Z"
   },
   {
    "duration": 19,
    "start_time": "2022-12-14T12:14:21.191Z"
   },
   {
    "duration": 16,
    "start_time": "2022-12-14T12:14:21.212Z"
   },
   {
    "duration": 7,
    "start_time": "2022-12-14T12:14:21.231Z"
   },
   {
    "duration": 32,
    "start_time": "2022-12-14T12:14:21.240Z"
   },
   {
    "duration": 15,
    "start_time": "2022-12-14T12:14:21.273Z"
   },
   {
    "duration": 5,
    "start_time": "2022-12-14T12:14:21.289Z"
   },
   {
    "duration": 24,
    "start_time": "2022-12-14T12:14:21.295Z"
   },
   {
    "duration": 17,
    "start_time": "2022-12-14T12:14:21.321Z"
   },
   {
    "duration": 17,
    "start_time": "2022-12-14T12:14:21.339Z"
   },
   {
    "duration": 6,
    "start_time": "2022-12-14T12:14:21.378Z"
   },
   {
    "duration": 30,
    "start_time": "2022-12-14T12:14:21.385Z"
   },
   {
    "duration": 118,
    "start_time": "2022-12-14T12:14:21.417Z"
   },
   {
    "duration": 28,
    "start_time": "2022-12-14T12:14:21.537Z"
   },
   {
    "duration": 10,
    "start_time": "2022-12-14T12:14:21.578Z"
   },
   {
    "duration": 19,
    "start_time": "2022-12-14T12:14:21.590Z"
   },
   {
    "duration": 8,
    "start_time": "2022-12-14T12:14:21.611Z"
   },
   {
    "duration": 15,
    "start_time": "2022-12-14T12:14:21.621Z"
   },
   {
    "duration": 51,
    "start_time": "2022-12-14T12:14:21.638Z"
   },
   {
    "duration": 35,
    "start_time": "2022-12-14T12:14:21.691Z"
   },
   {
    "duration": 31,
    "start_time": "2022-12-14T12:14:21.728Z"
   },
   {
    "duration": 209,
    "start_time": "2022-12-14T12:14:21.781Z"
   },
   {
    "duration": 2,
    "start_time": "2022-12-14T12:14:21.992Z"
   },
   {
    "duration": 25,
    "start_time": "2022-12-14T12:14:21.996Z"
   },
   {
    "duration": 186,
    "start_time": "2022-12-14T12:14:22.023Z"
   },
   {
    "duration": 2,
    "start_time": "2022-12-14T12:14:22.211Z"
   },
   {
    "duration": 23,
    "start_time": "2022-12-14T12:14:22.215Z"
   },
   {
    "duration": 203,
    "start_time": "2022-12-14T12:14:22.240Z"
   },
   {
    "duration": 156,
    "start_time": "2022-12-14T12:14:22.445Z"
   },
   {
    "duration": 18,
    "start_time": "2022-12-14T12:14:22.603Z"
   },
   {
    "duration": 157,
    "start_time": "2022-12-14T12:14:22.623Z"
   },
   {
    "duration": 227,
    "start_time": "2022-12-14T12:14:22.781Z"
   },
   {
    "duration": 3,
    "start_time": "2022-12-14T12:14:23.009Z"
   },
   {
    "duration": 24,
    "start_time": "2022-12-14T12:14:23.014Z"
   },
   {
    "duration": 272,
    "start_time": "2022-12-14T12:14:23.039Z"
   },
   {
    "duration": 3,
    "start_time": "2022-12-14T12:14:23.312Z"
   },
   {
    "duration": 31,
    "start_time": "2022-12-14T12:14:23.317Z"
   },
   {
    "duration": 250,
    "start_time": "2022-12-14T12:14:23.349Z"
   },
   {
    "duration": 3,
    "start_time": "2022-12-14T12:14:23.600Z"
   },
   {
    "duration": 31,
    "start_time": "2022-12-14T12:14:23.605Z"
   },
   {
    "duration": 14,
    "start_time": "2022-12-14T12:14:23.638Z"
   },
   {
    "duration": 27,
    "start_time": "2022-12-14T12:14:23.653Z"
   },
   {
    "duration": 24,
    "start_time": "2022-12-14T12:14:23.682Z"
   },
   {
    "duration": 614,
    "start_time": "2022-12-14T12:14:23.708Z"
   },
   {
    "duration": 8,
    "start_time": "2022-12-14T12:14:24.324Z"
   },
   {
    "duration": 9,
    "start_time": "2022-12-14T12:14:24.335Z"
   },
   {
    "duration": 145,
    "start_time": "2022-12-14T12:14:24.346Z"
   },
   {
    "duration": 2851,
    "start_time": "2022-12-14T12:14:24.493Z"
   },
   {
    "duration": 2969,
    "start_time": "2022-12-14T12:14:27.346Z"
   },
   {
    "duration": 524,
    "start_time": "2022-12-14T12:14:30.317Z"
   },
   {
    "duration": 7,
    "start_time": "2022-12-14T12:14:30.843Z"
   },
   {
    "duration": 235,
    "start_time": "2022-12-14T12:14:30.852Z"
   },
   {
    "duration": 188,
    "start_time": "2022-12-14T12:14:31.088Z"
   },
   {
    "duration": 175,
    "start_time": "2022-12-14T12:14:31.278Z"
   },
   {
    "duration": 197,
    "start_time": "2022-12-14T12:14:31.456Z"
   },
   {
    "duration": 191,
    "start_time": "2022-12-14T12:14:31.655Z"
   },
   {
    "duration": 177,
    "start_time": "2022-12-14T12:14:31.848Z"
   },
   {
    "duration": 228,
    "start_time": "2022-12-14T12:14:32.027Z"
   },
   {
    "duration": 295,
    "start_time": "2022-12-14T12:14:32.257Z"
   },
   {
    "duration": 504,
    "start_time": "2022-12-14T13:08:44.207Z"
   },
   {
    "duration": 16,
    "start_time": "2022-12-14T13:08:44.713Z"
   },
   {
    "duration": 15,
    "start_time": "2022-12-14T13:08:44.733Z"
   },
   {
    "duration": 2414,
    "start_time": "2022-12-14T13:08:44.750Z"
   },
   {
    "duration": 4,
    "start_time": "2022-12-14T13:08:47.165Z"
   },
   {
    "duration": 23,
    "start_time": "2022-12-14T13:08:47.170Z"
   },
   {
    "duration": 19,
    "start_time": "2022-12-14T13:08:47.195Z"
   },
   {
    "duration": 10,
    "start_time": "2022-12-14T13:08:47.216Z"
   },
   {
    "duration": 9,
    "start_time": "2022-12-14T13:08:47.228Z"
   },
   {
    "duration": 9,
    "start_time": "2022-12-14T13:08:47.238Z"
   },
   {
    "duration": 23,
    "start_time": "2022-12-14T13:08:47.249Z"
   },
   {
    "duration": 13,
    "start_time": "2022-12-14T13:08:47.274Z"
   },
   {
    "duration": 4,
    "start_time": "2022-12-14T13:08:47.289Z"
   },
   {
    "duration": 32,
    "start_time": "2022-12-14T13:08:47.295Z"
   },
   {
    "duration": 13,
    "start_time": "2022-12-14T13:08:47.329Z"
   },
   {
    "duration": 28,
    "start_time": "2022-12-14T13:08:47.344Z"
   },
   {
    "duration": 11,
    "start_time": "2022-12-14T13:08:47.374Z"
   },
   {
    "duration": 36,
    "start_time": "2022-12-14T13:08:47.386Z"
   },
   {
    "duration": 109,
    "start_time": "2022-12-14T13:08:47.424Z"
   },
   {
    "duration": 28,
    "start_time": "2022-12-14T13:08:47.534Z"
   },
   {
    "duration": 10,
    "start_time": "2022-12-14T13:08:47.564Z"
   },
   {
    "duration": 8,
    "start_time": "2022-12-14T13:08:47.576Z"
   },
   {
    "duration": 9,
    "start_time": "2022-12-14T13:08:47.586Z"
   },
   {
    "duration": 12,
    "start_time": "2022-12-14T13:08:47.622Z"
   },
   {
    "duration": 35,
    "start_time": "2022-12-14T13:08:47.636Z"
   },
   {
    "duration": 49,
    "start_time": "2022-12-14T13:08:47.673Z"
   },
   {
    "duration": 29,
    "start_time": "2022-12-14T13:08:47.726Z"
   },
   {
    "duration": 229,
    "start_time": "2022-12-14T13:08:47.757Z"
   },
   {
    "duration": 2,
    "start_time": "2022-12-14T13:08:47.988Z"
   },
   {
    "duration": 44,
    "start_time": "2022-12-14T13:08:47.992Z"
   },
   {
    "duration": 178,
    "start_time": "2022-12-14T13:08:48.038Z"
   },
   {
    "duration": 3,
    "start_time": "2022-12-14T13:08:48.221Z"
   },
   {
    "duration": 26,
    "start_time": "2022-12-14T13:08:48.226Z"
   },
   {
    "duration": 213,
    "start_time": "2022-12-14T13:08:48.254Z"
   },
   {
    "duration": 178,
    "start_time": "2022-12-14T13:08:48.469Z"
   },
   {
    "duration": 18,
    "start_time": "2022-12-14T13:08:48.649Z"
   },
   {
    "duration": 156,
    "start_time": "2022-12-14T13:08:48.668Z"
   },
   {
    "duration": 253,
    "start_time": "2022-12-14T13:08:48.825Z"
   },
   {
    "duration": 3,
    "start_time": "2022-12-14T13:08:49.080Z"
   },
   {
    "duration": 45,
    "start_time": "2022-12-14T13:08:49.084Z"
   },
   {
    "duration": 276,
    "start_time": "2022-12-14T13:08:49.130Z"
   },
   {
    "duration": 2,
    "start_time": "2022-12-14T13:08:49.408Z"
   },
   {
    "duration": 32,
    "start_time": "2022-12-14T13:08:49.412Z"
   },
   {
    "duration": 272,
    "start_time": "2022-12-14T13:08:49.445Z"
   },
   {
    "duration": 3,
    "start_time": "2022-12-14T13:08:49.722Z"
   },
   {
    "duration": 20,
    "start_time": "2022-12-14T13:08:49.727Z"
   },
   {
    "duration": 27,
    "start_time": "2022-12-14T13:08:49.749Z"
   },
   {
    "duration": 22,
    "start_time": "2022-12-14T13:08:49.777Z"
   },
   {
    "duration": 16,
    "start_time": "2022-12-14T13:08:49.801Z"
   },
   {
    "duration": 597,
    "start_time": "2022-12-14T13:08:49.818Z"
   },
   {
    "duration": 6,
    "start_time": "2022-12-14T13:08:50.417Z"
   },
   {
    "duration": 34,
    "start_time": "2022-12-14T13:08:50.425Z"
   },
   {
    "duration": 146,
    "start_time": "2022-12-14T13:08:50.461Z"
   },
   {
    "duration": 2847,
    "start_time": "2022-12-14T13:08:50.609Z"
   },
   {
    "duration": 3048,
    "start_time": "2022-12-14T13:08:53.459Z"
   },
   {
    "duration": 508,
    "start_time": "2022-12-14T13:08:56.508Z"
   },
   {
    "duration": 7,
    "start_time": "2022-12-14T13:08:57.021Z"
   },
   {
    "duration": 173,
    "start_time": "2022-12-14T13:08:57.029Z"
   },
   {
    "duration": 171,
    "start_time": "2022-12-14T13:08:57.204Z"
   },
   {
    "duration": 157,
    "start_time": "2022-12-14T13:08:57.376Z"
   },
   {
    "duration": 176,
    "start_time": "2022-12-14T13:08:57.535Z"
   },
   {
    "duration": 170,
    "start_time": "2022-12-14T13:08:57.713Z"
   },
   {
    "duration": 161,
    "start_time": "2022-12-14T13:08:57.884Z"
   },
   {
    "duration": 188,
    "start_time": "2022-12-14T13:08:58.047Z"
   },
   {
    "duration": 275,
    "start_time": "2022-12-14T13:08:58.237Z"
   },
   {
    "duration": 15,
    "start_time": "2022-12-14T13:16:38.622Z"
   },
   {
    "duration": 14,
    "start_time": "2022-12-14T13:20:30.651Z"
   },
   {
    "duration": 340,
    "start_time": "2022-12-14T13:20:57.395Z"
   },
   {
    "duration": 547,
    "start_time": "2022-12-14T13:21:02.375Z"
   },
   {
    "duration": 48,
    "start_time": "2022-12-26T12:14:48.245Z"
   },
   {
    "duration": 559,
    "start_time": "2022-12-26T12:14:54.968Z"
   },
   {
    "duration": 15,
    "start_time": "2022-12-26T12:14:55.529Z"
   },
   {
    "duration": 15,
    "start_time": "2022-12-26T12:14:55.546Z"
   },
   {
    "duration": 2422,
    "start_time": "2022-12-26T12:14:55.563Z"
   },
   {
    "duration": 3,
    "start_time": "2022-12-26T12:14:57.987Z"
   },
   {
    "duration": 14,
    "start_time": "2022-12-26T12:14:57.991Z"
   },
   {
    "duration": 4,
    "start_time": "2022-12-26T12:14:58.007Z"
   },
   {
    "duration": 6,
    "start_time": "2022-12-26T12:14:58.012Z"
   },
   {
    "duration": 9,
    "start_time": "2022-12-26T12:14:58.019Z"
   },
   {
    "duration": 9,
    "start_time": "2022-12-26T12:14:58.029Z"
   },
   {
    "duration": 42,
    "start_time": "2022-12-26T12:14:58.040Z"
   },
   {
    "duration": 27,
    "start_time": "2022-12-26T12:14:58.084Z"
   },
   {
    "duration": 6,
    "start_time": "2022-12-26T12:14:58.113Z"
   },
   {
    "duration": 56,
    "start_time": "2022-12-26T12:14:58.122Z"
   },
   {
    "duration": 17,
    "start_time": "2022-12-26T12:14:58.180Z"
   },
   {
    "duration": 29,
    "start_time": "2022-12-26T12:14:58.198Z"
   },
   {
    "duration": 19,
    "start_time": "2022-12-26T12:14:58.229Z"
   },
   {
    "duration": 50,
    "start_time": "2022-12-26T12:14:58.249Z"
   },
   {
    "duration": 115,
    "start_time": "2022-12-26T12:14:58.300Z"
   },
   {
    "duration": 25,
    "start_time": "2022-12-26T12:14:58.417Z"
   },
   {
    "duration": 14,
    "start_time": "2022-12-26T12:14:58.444Z"
   },
   {
    "duration": 34,
    "start_time": "2022-12-26T12:14:58.460Z"
   },
   {
    "duration": 34,
    "start_time": "2022-12-26T12:14:58.496Z"
   },
   {
    "duration": 43,
    "start_time": "2022-12-26T12:14:58.531Z"
   },
   {
    "duration": 52,
    "start_time": "2022-12-26T12:14:58.576Z"
   },
   {
    "duration": 42,
    "start_time": "2022-12-26T12:14:58.630Z"
   },
   {
    "duration": 42,
    "start_time": "2022-12-26T12:14:58.674Z"
   },
   {
    "duration": 214,
    "start_time": "2022-12-26T12:14:58.718Z"
   },
   {
    "duration": 3,
    "start_time": "2022-12-26T12:14:58.934Z"
   },
   {
    "duration": 33,
    "start_time": "2022-12-26T12:14:58.953Z"
   },
   {
    "duration": 156,
    "start_time": "2022-12-26T12:14:58.987Z"
   },
   {
    "duration": 7,
    "start_time": "2022-12-26T12:14:59.145Z"
   },
   {
    "duration": 39,
    "start_time": "2022-12-26T12:14:59.154Z"
   },
   {
    "duration": 194,
    "start_time": "2022-12-26T12:14:59.194Z"
   },
   {
    "duration": 148,
    "start_time": "2022-12-26T12:14:59.389Z"
   },
   {
    "duration": 28,
    "start_time": "2022-12-26T12:14:59.539Z"
   },
   {
    "duration": 222,
    "start_time": "2022-12-26T12:14:59.568Z"
   },
   {
    "duration": 144,
    "start_time": "2022-12-26T12:14:59.791Z"
   },
   {
    "duration": 3,
    "start_time": "2022-12-26T12:14:59.937Z"
   },
   {
    "duration": 27,
    "start_time": "2022-12-26T12:14:59.941Z"
   },
   {
    "duration": 252,
    "start_time": "2022-12-26T12:14:59.972Z"
   },
   {
    "duration": 3,
    "start_time": "2022-12-26T12:15:00.225Z"
   },
   {
    "duration": 21,
    "start_time": "2022-12-26T12:15:00.229Z"
   },
   {
    "duration": 267,
    "start_time": "2022-12-26T12:15:00.252Z"
   },
   {
    "duration": 3,
    "start_time": "2022-12-26T12:15:00.520Z"
   },
   {
    "duration": 33,
    "start_time": "2022-12-26T12:15:00.524Z"
   },
   {
    "duration": 24,
    "start_time": "2022-12-26T12:15:00.559Z"
   },
   {
    "duration": 30,
    "start_time": "2022-12-26T12:15:00.585Z"
   },
   {
    "duration": 32,
    "start_time": "2022-12-26T12:15:00.617Z"
   },
   {
    "duration": 570,
    "start_time": "2022-12-26T12:15:00.650Z"
   },
   {
    "duration": 6,
    "start_time": "2022-12-26T12:15:01.222Z"
   },
   {
    "duration": 14,
    "start_time": "2022-12-26T12:15:01.229Z"
   },
   {
    "duration": 148,
    "start_time": "2022-12-26T12:15:01.245Z"
   },
   {
    "duration": 2753,
    "start_time": "2022-12-26T12:15:01.394Z"
   },
   {
    "duration": 2781,
    "start_time": "2022-12-26T12:15:04.148Z"
   },
   {
    "duration": 537,
    "start_time": "2022-12-26T12:15:06.931Z"
   },
   {
    "duration": 6,
    "start_time": "2022-12-26T12:15:07.470Z"
   },
   {
    "duration": 177,
    "start_time": "2022-12-26T12:15:07.478Z"
   },
   {
    "duration": 179,
    "start_time": "2022-12-26T12:15:07.657Z"
   },
   {
    "duration": 155,
    "start_time": "2022-12-26T12:15:07.838Z"
   },
   {
    "duration": 181,
    "start_time": "2022-12-26T12:15:07.994Z"
   },
   {
    "duration": 366,
    "start_time": "2022-12-26T12:15:08.177Z"
   },
   {
    "duration": 173,
    "start_time": "2022-12-26T12:15:08.545Z"
   },
   {
    "duration": 178,
    "start_time": "2022-12-26T12:15:08.720Z"
   },
   {
    "duration": 13,
    "start_time": "2022-12-26T12:15:08.899Z"
   },
   {
    "duration": 272,
    "start_time": "2022-12-26T12:15:08.914Z"
   },
   {
    "duration": 184,
    "start_time": "2022-12-26T12:16:14.194Z"
   },
   {
    "duration": 149,
    "start_time": "2022-12-26T12:16:19.693Z"
   },
   {
    "duration": 191,
    "start_time": "2022-12-26T12:16:25.074Z"
   },
   {
    "duration": 172,
    "start_time": "2022-12-26T12:16:29.104Z"
   },
   {
    "duration": 141,
    "start_time": "2022-12-26T12:16:33.218Z"
   },
   {
    "duration": 126,
    "start_time": "2022-12-26T12:16:37.498Z"
   },
   {
    "duration": 2693,
    "start_time": "2022-12-26T12:16:49.442Z"
   },
   {
    "duration": 340,
    "start_time": "2022-12-26T12:17:32.397Z"
   },
   {
    "duration": 177,
    "start_time": "2022-12-26T12:27:22.248Z"
   },
   {
    "duration": 158,
    "start_time": "2022-12-26T12:27:48.099Z"
   },
   {
    "duration": 158,
    "start_time": "2022-12-26T12:27:55.270Z"
   },
   {
    "duration": 167,
    "start_time": "2022-12-26T12:28:04.483Z"
   },
   {
    "duration": 150,
    "start_time": "2022-12-26T12:28:13.048Z"
   },
   {
    "duration": 275,
    "start_time": "2022-12-26T12:34:07.235Z"
   },
   {
    "duration": 455,
    "start_time": "2022-12-26T12:34:56.166Z"
   },
   {
    "duration": 529,
    "start_time": "2022-12-26T12:37:14.178Z"
   },
   {
    "duration": 380,
    "start_time": "2022-12-26T12:37:19.299Z"
   },
   {
    "duration": 413,
    "start_time": "2022-12-26T12:37:25.275Z"
   },
   {
    "duration": 551,
    "start_time": "2022-12-26T12:37:32.609Z"
   },
   {
    "duration": 13,
    "start_time": "2022-12-26T12:40:01.149Z"
   }
  ],
  "kernelspec": {
   "display_name": "Python 3 (ipykernel)",
   "language": "python",
   "name": "python3"
  },
  "language_info": {
   "codemirror_mode": {
    "name": "ipython",
    "version": 3
   },
   "file_extension": ".py",
   "mimetype": "text/x-python",
   "name": "python",
   "nbconvert_exporter": "python",
   "pygments_lexer": "ipython3",
   "version": "3.9.5"
  },
  "toc": {
   "base_numbering": 1,
   "nav_menu": {},
   "number_sections": true,
   "sideBar": true,
   "skip_h1_title": true,
   "title_cell": "Table of Contents",
   "title_sidebar": "Contents",
   "toc_cell": false,
   "toc_position": {
    "height": "calc(100% - 180px)",
    "left": "10px",
    "top": "150px",
    "width": "229.188px"
   },
   "toc_section_display": true,
   "toc_window_display": true
  }
 },
 "nbformat": 4,
 "nbformat_minor": 2
}
