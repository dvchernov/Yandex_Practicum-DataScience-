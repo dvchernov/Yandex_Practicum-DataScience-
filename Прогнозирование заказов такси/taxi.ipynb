{
 "cells": [
  {
   "cell_type": "markdown",
   "metadata": {
    "toc": true
   },
   "source": [
    "<h1>Содержание<span class=\"tocSkip\"></span></h1>\n",
    "<div class=\"toc\"><ul class=\"toc-item\"><li><ul class=\"toc-item\"><li><ul class=\"toc-item\"><li><span><a href=\"#Полезные-ссылки:\" data-toc-modified-id=\"Полезные-ссылки:-0.0.1\"><span class=\"toc-item-num\">0.0.1&nbsp;&nbsp;</span><font color=\"orange\">Полезные ссылки:</font></a></span></li></ul></li><li><span><a href=\"#Общее-впечатление\" data-toc-modified-id=\"Общее-впечатление-0.1\"><span class=\"toc-item-num\">0.1&nbsp;&nbsp;</span><font color=\"orange\">Общее впечатление</font></a></span></li><li><span><a href=\"#Общее-впечатление-(ревью-2)\" data-toc-modified-id=\"Общее-впечатление-(ревью-2)-0.2\"><span class=\"toc-item-num\">0.2&nbsp;&nbsp;</span><font color=\"orange\">Общее впечатление (ревью 2)</font></a></span></li><li><span><a href=\"#Общее-впечатление-(ревью-3)\" data-toc-modified-id=\"Общее-впечатление-(ревью-3)-0.3\"><span class=\"toc-item-num\">0.3&nbsp;&nbsp;</span><font color=\"orange\">Общее впечатление (ревью 3)</font></a></span></li><li><span><a href=\"#Общее-впечатление-(ревью-4)\" data-toc-modified-id=\"Общее-впечатление-(ревью-4)-0.4\"><span class=\"toc-item-num\">0.4&nbsp;&nbsp;</span><font color=\"orange\">Общее впечатление (ревью 4)</font></a></span></li></ul></li><li><span><a href=\"#Подготовка\" data-toc-modified-id=\"Подготовка-1\"><span class=\"toc-item-num\">1&nbsp;&nbsp;</span>Подготовка</a></span></li><li><span><a href=\"#Анализ\" data-toc-modified-id=\"Анализ-2\"><span class=\"toc-item-num\">2&nbsp;&nbsp;</span>Анализ</a></span></li><li><span><a href=\"#Обучение\" data-toc-modified-id=\"Обучение-3\"><span class=\"toc-item-num\">3&nbsp;&nbsp;</span>Обучение</a></span></li><li><span><a href=\"#Тестирование\" data-toc-modified-id=\"Тестирование-4\"><span class=\"toc-item-num\">4&nbsp;&nbsp;</span>Тестирование</a></span></li><li><span><a href=\"#Чек-лист-проверки\" data-toc-modified-id=\"Чек-лист-проверки-5\"><span class=\"toc-item-num\">5&nbsp;&nbsp;</span>Чек-лист проверки</a></span></li></ul></div>"
   ]
  },
  {
   "cell_type": "markdown",
   "metadata": {},
   "source": [
    "#  Прогнозирование заказов такси"
   ]
  },
  {
   "cell_type": "markdown",
   "metadata": {},
   "source": [
    "Компания «Чётенькое такси» собрала исторические данные о заказах такси в аэропортах. Чтобы привлекать больше водителей в период пиковой нагрузки, нужно спрогнозировать количество заказов такси на следующий час. Постройте модель для такого предсказания.\n",
    "\n",
    "Значение метрики *RMSE* на тестовой выборке должно быть не больше 48.\n",
    "\n",
    "Вам нужно:\n",
    "\n",
    "1. Загрузить данные и выполнить их ресемплирование по одному часу.\n",
    "2. Проанализировать данные.\n",
    "3. Обучить разные модели с различными гиперпараметрами. Сделать тестовую выборку размером 10% от исходных данных.\n",
    "4. Проверить данные на тестовой выборке и сделать выводы.\n",
    "\n",
    "\n",
    "Данные лежат в файле `taxi.csv`. Количество заказов находится в столбце `num_orders` (от англ. *number of orders*, «число заказов»)."
   ]
  },
  {
   "cell_type": "markdown",
   "metadata": {},
   "source": [
    "**Библиотеки**"
   ]
  },
  {
   "cell_type": "code",
   "execution_count": 1,
   "metadata": {},
   "outputs": [],
   "source": [
    "import pandas as pd\n",
    "import numpy as np\n",
    "from statsmodels.tsa.seasonal import seasonal_decompose\n",
    "\n",
    "import matplotlib.pyplot as plt \n",
    "import seaborn as sns\n",
    "\n",
    "from sklearn.model_selection import train_test_split\n",
    "from sklearn.linear_model import LinearRegression\n",
    "from sklearn.ensemble import RandomForestRegressor\n",
    "from catboost import CatBoostRegressor\n",
    "import catboost as cb\n",
    "\n",
    "from sklearn.model_selection import TimeSeriesSplit\n",
    "from sklearn.model_selection import GridSearchCV\n",
    "import warnings\n",
    "\n",
    "from sklearn.metrics import mean_absolute_error\n",
    "from sklearn.metrics import make_scorer\n",
    "from sklearn.metrics import mean_squared_error \n",
    "from sklearn.model_selection import cross_val_score\n",
    "from sklearn.model_selection import train_test_split\n",
    "\n",
    "warnings.filterwarnings('ignore')"
   ]
  },
  {
   "cell_type": "markdown",
   "metadata": {},
   "source": [
    "## Подготовка"
   ]
  },
  {
   "cell_type": "markdown",
   "metadata": {},
   "source": [
    "**Открываем датасет**"
   ]
  },
  {
   "cell_type": "code",
   "execution_count": 2,
   "metadata": {},
   "outputs": [],
   "source": [
    "data = pd.read_csv('/datasets/taxi.csv',index_col=[0], parse_dates=[0]) "
   ]
  },
  {
   "cell_type": "markdown",
   "metadata": {},
   "source": [
    "**Проверим ненарушена ли хронология**"
   ]
  },
  {
   "cell_type": "code",
   "execution_count": 3,
   "metadata": {},
   "outputs": [
    {
     "data": {
      "text/plain": [
       "True"
      ]
     },
     "metadata": {},
     "output_type": "display_data"
    }
   ],
   "source": [
    "display(data.index.is_monotonic)"
   ]
  },
  {
   "cell_type": "markdown",
   "metadata": {},
   "source": [
    "**Выполним ресемплирование данных по одному часу**"
   ]
  },
  {
   "cell_type": "code",
   "execution_count": 4,
   "metadata": {},
   "outputs": [
    {
     "data": {
      "image/png": "[encoded data removed]",
      "text/plain": [
       "<Figure size 432x288 with 1 Axes>"
      ]
     },
     "metadata": {
      "needs_background": "light"
     },
     "output_type": "display_data"
    }
   ],
   "source": [
    "data = data.resample('1H').sum()\n",
    "data.plot(ylabel='количество заказов', xlabel='дата')\n",
    "plt.title('График вызовов по дням');\n"
   ]
  },
  {
   "cell_type": "markdown",
   "metadata": {},
   "source": [
    "## Анализ"
   ]
  },
  {
   "cell_type": "code",
   "execution_count": 5,
   "metadata": {},
   "outputs": [
    {
     "name": "stdout",
     "output_type": "stream",
     "text": [
      "<class 'pandas.core.frame.DataFrame'>\n",
      "DatetimeIndex: 4416 entries, 2018-03-01 00:00:00 to 2018-08-31 23:00:00\n",
      "Freq: H\n",
      "Data columns (total 1 columns):\n",
      " #   Column      Non-Null Count  Dtype\n",
      "---  ------      --------------  -----\n",
      " 0   num_orders  4416 non-null   int64\n",
      "dtypes: int64(1)\n",
      "memory usage: 69.0 KB\n"
     ]
    }
   ],
   "source": [
    "data.info()"
   ]
  },
  {
   "cell_type": "markdown",
   "metadata": {},
   "source": [
    "4416 строк. Пропусков нет. Данные за 2018 год, начинаются с 1 марта и заканчиваются 31 августа"
   ]
  },
  {
   "cell_type": "markdown",
   "metadata": {},
   "source": [
    "**Первые строки датасета наглядно**"
   ]
  },
  {
   "cell_type": "code",
   "execution_count": 6,
   "metadata": {},
   "outputs": [
    {
     "data": {
      "text/html": [
       "<div>\n",
       "<style scoped>\n",
       "    .dataframe tbody tr th:only-of-type {\n",
       "        vertical-align: middle;\n",
       "    }\n",
       "\n",
       "    .dataframe tbody tr th {\n",
       "        vertical-align: top;\n",
       "    }\n",
       "\n",
       "    .dataframe thead th {\n",
       "        text-align: right;\n",
       "    }\n",
       "</style>\n",
       "<table border=\"1\" class=\"dataframe\">\n",
       "  <thead>\n",
       "    <tr style=\"text-align: right;\">\n",
       "      <th></th>\n",
       "      <th>num_orders</th>\n",
       "    </tr>\n",
       "    <tr>\n",
       "      <th>datetime</th>\n",
       "      <th></th>\n",
       "    </tr>\n",
       "  </thead>\n",
       "  <tbody>\n",
       "    <tr>\n",
       "      <th>2018-03-01 00:00:00</th>\n",
       "      <td>124</td>\n",
       "    </tr>\n",
       "    <tr>\n",
       "      <th>2018-03-01 01:00:00</th>\n",
       "      <td>85</td>\n",
       "    </tr>\n",
       "    <tr>\n",
       "      <th>2018-03-01 02:00:00</th>\n",
       "      <td>71</td>\n",
       "    </tr>\n",
       "    <tr>\n",
       "      <th>2018-03-01 03:00:00</th>\n",
       "      <td>66</td>\n",
       "    </tr>\n",
       "    <tr>\n",
       "      <th>2018-03-01 04:00:00</th>\n",
       "      <td>43</td>\n",
       "    </tr>\n",
       "    <tr>\n",
       "      <th>2018-03-01 05:00:00</th>\n",
       "      <td>6</td>\n",
       "    </tr>\n",
       "    <tr>\n",
       "      <th>2018-03-01 06:00:00</th>\n",
       "      <td>12</td>\n",
       "    </tr>\n",
       "    <tr>\n",
       "      <th>2018-03-01 07:00:00</th>\n",
       "      <td>15</td>\n",
       "    </tr>\n",
       "    <tr>\n",
       "      <th>2018-03-01 08:00:00</th>\n",
       "      <td>34</td>\n",
       "    </tr>\n",
       "    <tr>\n",
       "      <th>2018-03-01 09:00:00</th>\n",
       "      <td>69</td>\n",
       "    </tr>\n",
       "  </tbody>\n",
       "</table>\n",
       "</div>"
      ],
      "text/plain": [
       "                     num_orders\n",
       "datetime                       \n",
       "2018-03-01 00:00:00         124\n",
       "2018-03-01 01:00:00          85\n",
       "2018-03-01 02:00:00          71\n",
       "2018-03-01 03:00:00          66\n",
       "2018-03-01 04:00:00          43\n",
       "2018-03-01 05:00:00           6\n",
       "2018-03-01 06:00:00          12\n",
       "2018-03-01 07:00:00          15\n",
       "2018-03-01 08:00:00          34\n",
       "2018-03-01 09:00:00          69"
      ]
     },
     "metadata": {},
     "output_type": "display_data"
    }
   ],
   "source": [
    "display(data.head(10))"
   ]
  },
  {
   "cell_type": "code",
   "execution_count": 7,
   "metadata": {},
   "outputs": [
    {
     "data": {
      "image/png": "[encoded data removed]",
      "text/plain": [
       "<Figure size 432x288 with 1 Axes>"
      ]
     },
     "metadata": {
      "needs_background": "light"
     },
     "output_type": "display_data"
    }
   ],
   "source": [
    "data.plot(ylabel='количество заказов', xlabel='дата');"
   ]
  },
  {
   "cell_type": "markdown",
   "metadata": {},
   "source": [
    "**Данные сливаются в шум, посмотрим на скользящую среднюю**"
   ]
  },
  {
   "cell_type": "code",
   "execution_count": 8,
   "metadata": {},
   "outputs": [
    {
     "data": {
      "image/png": "[encoded data removed]",
      "text/plain": [
       "<Figure size 432x288 with 1 Axes>"
      ]
     },
     "metadata": {
      "needs_background": "light"
     },
     "output_type": "display_data"
    }
   ],
   "source": [
    "data.rolling(50).mean().plot(title='Скользящая средняя', ylabel='количество заказов', xlabel='дата');"
   ]
  },
  {
   "cell_type": "markdown",
   "metadata": {},
   "source": [
    "Благодаря скользящей средней мы  смогли увидеть восхдящий тренд"
   ]
  },
  {
   "cell_type": "markdown",
   "metadata": {},
   "source": [
    "**Рассмотрим тернды, сезонность, остаток декомпозиции по заказам такси**"
   ]
  },
  {
   "cell_type": "code",
   "execution_count": 9,
   "metadata": {},
   "outputs": [
    {
     "data": {
      "image/png": "[encoded data removed]",
      "text/plain": [
       "<Figure size 864x1440 with 3 Axes>"
      ]
     },
     "metadata": {
      "needs_background": "light"
     },
     "output_type": "display_data"
    }
   ],
   "source": [
    "decomposed = seasonal_decompose(data)\n",
    "\n",
    "plt.figure(figsize=(12, 20))\n",
    "\n",
    "plt.subplot(311)\n",
    "decomposed.trend.plot(ylabel='количество заказов', xlabel='дата', ax=plt.gca())\n",
    "plt.title('Trend за все время')\n",
    "\n",
    "plt.subplot(312)\n",
    "decomposed.seasonal.plot(ylabel='количество заказов', xlabel='дата', ax=plt.gca())\n",
    "plt.title('Seasonality за все время')\n",
    "\n",
    "plt.subplot(313)\n",
    "decomposed.resid.plot(ylabel='количество заказов', xlabel='дата', ax=plt.gca())\n",
    "plt.title('Residuals за все время')\n",
    "plt.tight_layout()"
   ]
  },
  {
   "cell_type": "markdown",
   "metadata": {},
   "source": [
    "Из-за высокой частотности на графиках ничего не видно (кроме Тренда), посмотрим на данные в срезе, на примере недели"
   ]
  },
  {
   "cell_type": "code",
   "execution_count": 10,
   "metadata": {},
   "outputs": [
    {
     "data": {
      "image/png": "[encoded data removed]",
      "text/plain": [
       "<Figure size 864x1440 with 3 Axes>"
      ]
     },
     "metadata": {
      "needs_background": "light"
     },
     "output_type": "display_data"
    }
   ],
   "source": [
    "decomposed = seasonal_decompose(data['2018-04-02':'2018-04-08'])\n",
    "\n",
    "plt.figure(figsize=(12, 20))\n",
    "\n",
    "plt.subplot(311)\n",
    "decomposed.trend.plot(ylabel='количество заказов', xlabel='дата', ax=plt.gca())\n",
    "plt.title('Trend за неделю')\n",
    "\n",
    "plt.subplot(312)\n",
    "decomposed.seasonal.plot(ylabel='количество заказов', xlabel='дата', ax=plt.gca())\n",
    "plt.title('Seasonality за неделю')\n",
    "\n",
    "plt.subplot(313)\n",
    "decomposed.resid.plot(ylabel='количество заказов', xlabel='дата', ax=plt.gca())\n",
    "plt.title('Residuals за неделю')\n",
    "plt.tight_layout()"
   ]
  },
  {
   "cell_type": "markdown",
   "metadata": {},
   "source": [
    "Явно виден недельный тренд, в пятницу и субботу больше всего заказов, все хотят погулять. Также видна суточная сезонность. Вечером самый большой спрос на услуги такси, а ночью он наоборот падает до минимума."
   ]
  },
  {
   "cell_type": "code",
   "execution_count": 11,
   "metadata": {},
   "outputs": [
    {
     "data": {
      "image/png": "[encoded data removed]",
      "text/plain": [
       "<Figure size 1296x432 with 1 Axes>"
      ]
     },
     "metadata": {
      "needs_background": "light"
     },
     "output_type": "display_data"
    }
   ],
   "source": [
    "data_plot = data.copy()\n",
    "data_plot['rolling_mean'] = data_plot.rolling(24).mean()\n",
    "data_plot['std'] = data_plot['num_orders'].rolling(24).std()\n",
    "data_plot.plot(title='Стационарные временные рядыy', label='количество заказов', xlabel='дата', figsize=(18, 6));"
   ]
  },
  {
   "cell_type": "markdown",
   "metadata": {},
   "source": [
    "**Вывод:**\n",
    "- Данные за 2018 год, начинаются с 1 марта и заканчиваются 31 августа\n",
    "- В датасете 4416 строк, пропусков нет\n",
    "- Виден недельный тренд, заказов в пятницу и субботу больше\n",
    "- Есть суточная сезонность, вечером самый большой спрос\n",
    "- Временной ряд не стационарный, ведь подвержен тренду, который меняется во времени"
   ]
  },
  {
   "cell_type": "markdown",
   "metadata": {},
   "source": [
    "## Обучение"
   ]
  },
  {
   "cell_type": "markdown",
   "metadata": {},
   "source": [
    "**Создадим признаки для обучения модели**"
   ]
  },
  {
   "cell_type": "markdown",
   "metadata": {},
   "source": [
    "Признаки: Календарные, «Отстающие значения», Скользящее среднее "
   ]
  },
  {
   "cell_type": "markdown",
   "metadata": {},
   "source": [
    "Напишем функцию для создания признаков"
   ]
  },
  {
   "cell_type": "code",
   "execution_count": 12,
   "metadata": {},
   "outputs": [],
   "source": [
    "def make_features(data, max_lag, rolling_mean_size):\n",
    "    data['dayofweek'] = data.index.dayofweek\n",
    "    data['hour'] = data.index.hour\n",
    "    \n",
    "    for lag in range(1, max_lag + 1):\n",
    "        data['lag_{}'.format(lag)] = data['num_orders'].shift(lag)\n",
    "\n",
    "    data['rolling_mean'] = data['num_orders'].shift().rolling(rolling_mean_size).mean()"
   ]
  },
  {
   "cell_type": "code",
   "execution_count": 13,
   "metadata": {},
   "outputs": [],
   "source": [
    "make_features(data, 24, 48)"
   ]
  },
  {
   "cell_type": "markdown",
   "metadata": {},
   "source": [
    "**Разделим данные на выборки**"
   ]
  },
  {
   "cell_type": "code",
   "execution_count": 14,
   "metadata": {},
   "outputs": [],
   "source": [
    "train, test = train_test_split(data, shuffle=False, test_size=0.1)\n",
    "train = train.dropna()\n",
    "\n",
    "features_train = train.drop(['num_orders'], axis=1)\n",
    "target_train = train['num_orders']\n",
    "\n",
    "features_test = test.drop(['num_orders'], axis=1)\n",
    "target_test = test['num_orders']"
   ]
  },
  {
   "cell_type": "markdown",
   "metadata": {},
   "source": [
    "Функция для расчета метрики RMSE:"
   ]
  },
  {
   "cell_type": "code",
   "execution_count": 15,
   "metadata": {},
   "outputs": [],
   "source": [
    "def RMSE(target, predict):\n",
    "    return (mean_squared_error(target, predict))**0.5\n",
    "\n",
    "RMSE_score = make_scorer(RMSE, greater_is_better=False)"
   ]
  },
  {
   "cell_type": "markdown",
   "metadata": {},
   "source": [
    "**Модель \"Линейная регрессия\"**"
   ]
  },
  {
   "cell_type": "code",
   "execution_count": 16,
   "metadata": {},
   "outputs": [
    {
     "name": "stdout",
     "output_type": "stream",
     "text": [
      "Среднее качество модели линейной регрессии на кросс-валидации: 28.236083190890884\n",
      "\n",
      "CPU times: user 156 ms, sys: 370 ms, total: 525 ms\n",
      "Wall time: 459 ms\n"
     ]
    }
   ],
   "source": [
    "%%time\n",
    "\n",
    "my_cv = TimeSeriesSplit(n_splits=3).split(features_train)\n",
    "\n",
    "regression = LinearRegression(copy_X=True, fit_intercept=True, n_jobs=None, normalize=True)\n",
    "\n",
    "regression.fit(features_train, target_train)\n",
    "\n",
    "regression_cv_score = pd.Series(cross_val_score(regression,features_train,target_train,scoring=RMSE_score,cv=my_cv)).mean()*(-1)\n",
    "\n",
    "print('Среднее качество модели линейной регрессии на кросс-валидации:', regression_cv_score)\n",
    "print()"
   ]
  },
  {
   "cell_type": "markdown",
   "metadata": {},
   "source": [
    "**Модель \"Случайный лес\"**"
   ]
  },
  {
   "cell_type": "code",
   "execution_count": 17,
   "metadata": {},
   "outputs": [
    {
     "name": "stdout",
     "output_type": "stream",
     "text": [
      "CPU times: user 3min 54s, sys: 1.1 s, total: 3min 55s\n",
      "Wall time: 3min 59s\n"
     ]
    },
    {
     "data": {
      "text/plain": [
       "GridSearchCV(cv=<generator object TimeSeriesSplit.split at 0x7f5b42195120>,\n",
       "             estimator=RandomForestRegressor(),\n",
       "             param_grid={'max_depth': range(1, 15, 2),\n",
       "                         'min_samples_leaf': range(1, 5),\n",
       "                         'min_samples_split': range(2, 8, 2),\n",
       "                         'n_estimators': range(5, 30, 5)},\n",
       "             scoring=make_scorer(RMSE, greater_is_better=False))"
      ]
     },
     "execution_count": 17,
     "metadata": {},
     "output_type": "execute_result"
    }
   ],
   "source": [
    "%%time\n",
    "\n",
    "my_cv = TimeSeriesSplit(n_splits=3).split(features_train)\n",
    "\n",
    "forest = RandomForestRegressor()\n",
    "\n",
    "forest_parametrs = { 'n_estimators': range(5, 30, 5),\n",
    "                     'max_depth': range(1, 15, 2),\n",
    "                     'min_samples_leaf': range(1,5),\n",
    "                     'min_samples_split': range(2,8,2) }\n",
    "\n",
    "\n",
    "forest_grid = GridSearchCV(forest, forest_parametrs, scoring=RMSE_score, cv=my_cv)\n",
    "forest_grid.fit(features_train, target_train)"
   ]
  },
  {
   "cell_type": "code",
   "execution_count": 18,
   "metadata": {},
   "outputs": [
    {
     "name": "stdout",
     "output_type": "stream",
     "text": [
      "{'max_depth': 13, 'min_samples_leaf': 4, 'min_samples_split': 4, 'n_estimators': 20}\n",
      "Среднее качество модели случайный лес на кросс-валидации: 13.846311211680097\n",
      "\n",
      "CPU times: user 13.7 ms, sys: 3.97 ms, total: 17.7 ms\n",
      "Wall time: 20.3 ms\n"
     ]
    }
   ],
   "source": [
    "%%time\n",
    "\n",
    "forest_params = forest_grid.best_params_\n",
    "forest_score = forest_grid.score(features_train, target_train) * (-1)\n",
    "print(forest_params)\n",
    "print('Среднее качество модели случайный лес на кросс-валидации:', forest_score)\n",
    "print()\n"
   ]
  },
  {
   "cell_type": "code",
   "execution_count": 28,
   "metadata": {},
   "outputs": [],
   "source": [
    "my_cv = TimeSeriesSplit(n_splits=3).split(features_train)\n",
    "forest_cv = RandomForestRegressor(random_state=12345, max_depth=13, min_samples_leaf=1, min_samples_split=6, n_estimators=25)\n",
    "scores_forest_cv = cross_val_score(forest_cv, features_train, target_train, scoring=RMSE_score, cv=my_cv).mean()*(-1)"
   ]
  },
  {
   "cell_type": "code",
   "execution_count": 29,
   "metadata": {},
   "outputs": [
    {
     "name": "stdout",
     "output_type": "stream",
     "text": [
      "Среднее качество модели случайный лес на кросс-валидации: 27.10573861184227\n",
      "\n"
     ]
    }
   ],
   "source": [
    "print('Среднее качество модели случайный лес на кросс-валидации:', scores_forest_cv)\n",
    "print()"
   ]
  },
  {
   "cell_type": "markdown",
   "metadata": {},
   "source": [
    "**Модель \"CatBoost\"**"
   ]
  },
  {
   "cell_type": "code",
   "execution_count": 21,
   "metadata": {},
   "outputs": [
    {
     "name": "stdout",
     "output_type": "stream",
     "text": [
      "0:\tlearn: 28.8931722\ttotal: 48ms\tremaining: 48s\n",
      "100:\tlearn: 18.0590059\ttotal: 198ms\tremaining: 1.76s\n",
      "200:\tlearn: 16.1457672\ttotal: 362ms\tremaining: 1.44s\n",
      "300:\tlearn: 14.8007293\ttotal: 547ms\tremaining: 1.27s\n",
      "400:\tlearn: 13.5275412\ttotal: 701ms\tremaining: 1.05s\n",
      "500:\tlearn: 12.5542705\ttotal: 851ms\tremaining: 848ms\n",
      "600:\tlearn: 11.6928906\ttotal: 998ms\tremaining: 663ms\n",
      "700:\tlearn: 11.0091826\ttotal: 1.14s\tremaining: 487ms\n",
      "800:\tlearn: 10.4177630\ttotal: 1.3s\tremaining: 323ms\n",
      "900:\tlearn: 9.8465037\ttotal: 1.46s\tremaining: 160ms\n",
      "999:\tlearn: 9.3216274\ttotal: 1.61s\tremaining: 0us\n",
      "0:\tlearn: 31.6039032\ttotal: 4.17ms\tremaining: 4.17s\n",
      "100:\tlearn: 20.2019251\ttotal: 255ms\tremaining: 2.27s\n",
      "200:\tlearn: 18.4605830\ttotal: 497ms\tremaining: 1.98s\n",
      "300:\tlearn: 17.4252678\ttotal: 738ms\tremaining: 1.71s\n",
      "400:\tlearn: 16.5664453\ttotal: 972ms\tremaining: 1.45s\n",
      "500:\tlearn: 15.8614830\ttotal: 1.19s\tremaining: 1.18s\n",
      "600:\tlearn: 15.2873262\ttotal: 1.4s\tremaining: 930ms\n",
      "700:\tlearn: 14.7235826\ttotal: 1.58s\tremaining: 674ms\n",
      "800:\tlearn: 14.1310638\ttotal: 1.77s\tremaining: 440ms\n",
      "900:\tlearn: 13.6167713\ttotal: 1.95s\tremaining: 214ms\n",
      "999:\tlearn: 13.1284326\ttotal: 2.13s\tremaining: 0us\n",
      "0:\tlearn: 33.4972691\ttotal: 3.29ms\tremaining: 3.28s\n",
      "100:\tlearn: 21.5883966\ttotal: 258ms\tremaining: 2.29s\n",
      "200:\tlearn: 20.0520003\ttotal: 478ms\tremaining: 1.9s\n",
      "300:\tlearn: 19.1007508\ttotal: 695ms\tremaining: 1.61s\n",
      "400:\tlearn: 18.3997179\ttotal: 964ms\tremaining: 1.44s\n",
      "500:\tlearn: 17.7077267\ttotal: 1.23s\tremaining: 1.22s\n",
      "600:\tlearn: 17.0376735\ttotal: 1.44s\tremaining: 954ms\n",
      "700:\tlearn: 16.4998975\ttotal: 1.64s\tremaining: 700ms\n",
      "800:\tlearn: 16.0080670\ttotal: 1.84s\tremaining: 459ms\n",
      "900:\tlearn: 15.5505094\ttotal: 2.05s\tremaining: 226ms\n",
      "999:\tlearn: 15.1285164\ttotal: 2.27s\tremaining: 0us\n",
      "0:\tlearn: 28.0735873\ttotal: 2.73ms\tremaining: 2.73s\n",
      "100:\tlearn: 14.3782056\ttotal: 168ms\tremaining: 1.49s\n",
      "200:\tlearn: 11.4428813\ttotal: 311ms\tremaining: 1.24s\n",
      "300:\tlearn: 9.3257925\ttotal: 458ms\tremaining: 1.06s\n",
      "400:\tlearn: 7.8024934\ttotal: 611ms\tremaining: 912ms\n",
      "500:\tlearn: 6.6092959\ttotal: 760ms\tremaining: 757ms\n",
      "600:\tlearn: 5.5368539\ttotal: 953ms\tremaining: 633ms\n",
      "700:\tlearn: 4.6757620\ttotal: 1.12s\tremaining: 476ms\n",
      "800:\tlearn: 3.9983849\ttotal: 1.27s\tremaining: 315ms\n",
      "900:\tlearn: 3.3979035\ttotal: 1.43s\tremaining: 157ms\n",
      "999:\tlearn: 2.9338714\ttotal: 1.57s\tremaining: 0us\n",
      "0:\tlearn: 30.6380142\ttotal: 2.12ms\tremaining: 2.11s\n",
      "100:\tlearn: 17.0462079\ttotal: 201ms\tremaining: 1.78s\n",
      "200:\tlearn: 14.8186030\ttotal: 401ms\tremaining: 1.59s\n",
      "300:\tlearn: 13.0307786\ttotal: 620ms\tremaining: 1.44s\n",
      "400:\tlearn: 11.7375202\ttotal: 814ms\tremaining: 1.22s\n",
      "500:\tlearn: 10.5599090\ttotal: 1.03s\tremaining: 1.03s\n",
      "600:\tlearn: 9.5398127\ttotal: 1.25s\tremaining: 832ms\n",
      "700:\tlearn: 8.6919347\ttotal: 1.44s\tremaining: 615ms\n",
      "800:\tlearn: 7.9217326\ttotal: 1.63s\tremaining: 406ms\n",
      "900:\tlearn: 7.2395736\ttotal: 1.82s\tremaining: 200ms\n",
      "999:\tlearn: 6.6414687\ttotal: 2.01s\tremaining: 0us\n",
      "0:\tlearn: 32.4928298\ttotal: 2.56ms\tremaining: 2.56s\n",
      "100:\tlearn: 19.0331144\ttotal: 251ms\tremaining: 2.23s\n",
      "200:\tlearn: 16.7533835\ttotal: 468ms\tremaining: 1.86s\n",
      "300:\tlearn: 15.1169708\ttotal: 717ms\tremaining: 1.67s\n",
      "400:\tlearn: 14.0979045\ttotal: 923ms\tremaining: 1.38s\n",
      "500:\tlearn: 13.0987298\ttotal: 1.16s\tremaining: 1.15s\n",
      "600:\tlearn: 12.2927033\ttotal: 1.39s\tremaining: 926ms\n",
      "700:\tlearn: 11.5363362\ttotal: 1.61s\tremaining: 688ms\n",
      "800:\tlearn: 10.8933763\ttotal: 1.84s\tremaining: 458ms\n",
      "900:\tlearn: 10.2595958\ttotal: 2.08s\tremaining: 228ms\n",
      "999:\tlearn: 9.6034159\ttotal: 2.43s\tremaining: 0us\n",
      "0:\tlearn: 28.8760756\ttotal: 7.2ms\tremaining: 7.19s\n",
      "100:\tlearn: 16.5088592\ttotal: 504ms\tremaining: 4.49s\n",
      "200:\tlearn: 13.9728773\ttotal: 957ms\tremaining: 3.8s\n",
      "300:\tlearn: 12.2815386\ttotal: 1.39s\tremaining: 3.23s\n",
      "400:\tlearn: 10.6742224\ttotal: 1.75s\tremaining: 2.62s\n",
      "500:\tlearn: 9.4670276\ttotal: 2.13s\tremaining: 2.12s\n",
      "600:\tlearn: 8.3958230\ttotal: 2.5s\tremaining: 1.66s\n",
      "700:\tlearn: 7.4976264\ttotal: 2.86s\tremaining: 1.22s\n",
      "800:\tlearn: 6.7020461\ttotal: 3.24s\tremaining: 804ms\n",
      "900:\tlearn: 5.9670430\ttotal: 3.59s\tremaining: 394ms\n",
      "999:\tlearn: 5.3286240\ttotal: 3.97s\tremaining: 0us\n",
      "0:\tlearn: 31.6014254\ttotal: 5.95ms\tremaining: 5.95s\n",
      "100:\tlearn: 18.8626832\ttotal: 502ms\tremaining: 4.47s\n",
      "200:\tlearn: 16.6686687\ttotal: 949ms\tremaining: 3.77s\n",
      "300:\tlearn: 15.2742013\ttotal: 1.42s\tremaining: 3.29s\n",
      "400:\tlearn: 14.1326380\ttotal: 1.84s\tremaining: 2.75s\n",
      "500:\tlearn: 13.2134826\ttotal: 2.31s\tremaining: 2.31s\n",
      "600:\tlearn: 12.3590709\ttotal: 2.8s\tremaining: 1.86s\n",
      "700:\tlearn: 11.6140005\ttotal: 3.28s\tremaining: 1.4s\n",
      "800:\tlearn: 10.8594507\ttotal: 3.74s\tremaining: 930ms\n",
      "900:\tlearn: 10.1972948\ttotal: 4.26s\tremaining: 468ms\n",
      "999:\tlearn: 9.5950671\ttotal: 4.7s\tremaining: 0us\n",
      "0:\tlearn: 33.4956422\ttotal: 6ms\tremaining: 6s\n",
      "100:\tlearn: 20.4552720\ttotal: 490ms\tremaining: 4.36s\n",
      "200:\tlearn: 18.4909846\ttotal: 981ms\tremaining: 3.9s\n",
      "300:\tlearn: 17.2645856\ttotal: 1.49s\tremaining: 3.46s\n",
      "400:\tlearn: 16.3300015\ttotal: 1.99s\tremaining: 2.97s\n",
      "500:\tlearn: 15.3226292\ttotal: 2.47s\tremaining: 2.46s\n",
      "600:\tlearn: 14.4788627\ttotal: 2.96s\tremaining: 1.96s\n",
      "700:\tlearn: 13.7054187\ttotal: 3.49s\tremaining: 1.49s\n",
      "800:\tlearn: 12.9650552\ttotal: 4.04s\tremaining: 1s\n",
      "900:\tlearn: 12.3281156\ttotal: 4.56s\tremaining: 501ms\n",
      "999:\tlearn: 11.8197529\ttotal: 5.09s\tremaining: 0us\n",
      "0:\tlearn: 28.0139250\ttotal: 3.75ms\tremaining: 3.74s\n",
      "100:\tlearn: 11.9835397\ttotal: 346ms\tremaining: 3.08s\n",
      "200:\tlearn: 8.0260011\ttotal: 688ms\tremaining: 2.73s\n",
      "300:\tlearn: 5.4998236\ttotal: 1.05s\tremaining: 2.44s\n",
      "400:\tlearn: 3.7211193\ttotal: 1.43s\tremaining: 2.14s\n",
      "500:\tlearn: 2.6617948\ttotal: 1.79s\tremaining: 1.79s\n",
      "600:\tlearn: 1.8938525\ttotal: 2.24s\tremaining: 1.49s\n",
      "700:\tlearn: 1.3442428\ttotal: 2.58s\tremaining: 1.1s\n",
      "800:\tlearn: 1.0033759\ttotal: 2.96s\tremaining: 735ms\n",
      "900:\tlearn: 0.7475581\ttotal: 3.35s\tremaining: 369ms\n",
      "999:\tlearn: 0.5633634\ttotal: 3.72s\tremaining: 0us\n",
      "0:\tlearn: 30.6289331\ttotal: 4.58ms\tremaining: 4.57s\n",
      "100:\tlearn: 14.9543803\ttotal: 434ms\tremaining: 3.87s\n",
      "200:\tlearn: 12.0858655\ttotal: 999ms\tremaining: 3.97s\n",
      "300:\tlearn: 9.6030796\ttotal: 1.47s\tremaining: 3.42s\n",
      "400:\tlearn: 7.7170706\ttotal: 1.96s\tremaining: 2.92s\n",
      "500:\tlearn: 6.4208535\ttotal: 2.47s\tremaining: 2.46s\n",
      "600:\tlearn: 5.3190732\ttotal: 2.97s\tremaining: 1.97s\n",
      "700:\tlearn: 4.4440804\ttotal: 3.43s\tremaining: 1.46s\n",
      "800:\tlearn: 3.7151321\ttotal: 3.89s\tremaining: 967ms\n",
      "900:\tlearn: 3.0547364\ttotal: 4.37s\tremaining: 480ms\n",
      "999:\tlearn: 2.5318254\ttotal: 4.81s\tremaining: 0us\n",
      "0:\tlearn: 32.4868479\ttotal: 8.63ms\tremaining: 8.62s\n",
      "100:\tlearn: 17.0924455\ttotal: 498ms\tremaining: 4.43s\n",
      "200:\tlearn: 14.0764736\ttotal: 1.04s\tremaining: 4.13s\n",
      "300:\tlearn: 11.8960278\ttotal: 1.59s\tremaining: 3.7s\n",
      "400:\tlearn: 10.2498800\ttotal: 2.21s\tremaining: 3.3s\n",
      "500:\tlearn: 8.8650104\ttotal: 2.8s\tremaining: 2.79s\n",
      "600:\tlearn: 7.7224381\ttotal: 3.35s\tremaining: 2.23s\n",
      "700:\tlearn: 6.6684599\ttotal: 3.88s\tremaining: 1.66s\n",
      "800:\tlearn: 5.8813643\ttotal: 4.45s\tremaining: 1.1s\n",
      "900:\tlearn: 5.1707538\ttotal: 4.97s\tremaining: 546ms\n",
      "999:\tlearn: 4.5316034\ttotal: 5.46s\tremaining: 0us\n",
      "0:\tlearn: 28.8857222\ttotal: 34.3ms\tremaining: 34.3s\n",
      "100:\tlearn: 13.4960801\ttotal: 3.7s\tremaining: 33s\n",
      "200:\tlearn: 9.0903136\ttotal: 7.43s\tremaining: 29.5s\n",
      "300:\tlearn: 6.7497514\ttotal: 11s\tremaining: 25.5s\n",
      "400:\tlearn: 4.8544965\ttotal: 14.7s\tremaining: 22s\n",
      "500:\tlearn: 3.6288454\ttotal: 18.3s\tremaining: 18.3s\n",
      "600:\tlearn: 2.7493281\ttotal: 21.9s\tremaining: 14.5s\n",
      "700:\tlearn: 2.1687820\ttotal: 25.5s\tremaining: 10.9s\n",
      "800:\tlearn: 1.6165416\ttotal: 28.9s\tremaining: 7.17s\n",
      "900:\tlearn: 1.2419328\ttotal: 32.4s\tremaining: 3.56s\n",
      "999:\tlearn: 0.9598469\ttotal: 36s\tremaining: 0us\n",
      "0:\tlearn: 31.5919373\ttotal: 39.9ms\tremaining: 39.8s\n",
      "100:\tlearn: 15.7601909\ttotal: 4.18s\tremaining: 37.2s\n",
      "200:\tlearn: 12.1959027\ttotal: 8.46s\tremaining: 33.6s\n",
      "300:\tlearn: 10.0394169\ttotal: 12.8s\tremaining: 29.6s\n",
      "400:\tlearn: 8.3937318\ttotal: 17.1s\tremaining: 25.6s\n",
      "500:\tlearn: 7.0734088\ttotal: 21.5s\tremaining: 21.4s\n",
      "600:\tlearn: 6.0467265\ttotal: 25.8s\tremaining: 17.1s\n",
      "700:\tlearn: 5.1413663\ttotal: 30.1s\tremaining: 12.8s\n",
      "800:\tlearn: 4.3983199\ttotal: 34.3s\tremaining: 8.53s\n",
      "900:\tlearn: 3.8008202\ttotal: 38.6s\tremaining: 4.24s\n",
      "999:\tlearn: 3.2043147\ttotal: 42.8s\tremaining: 0us\n",
      "0:\tlearn: 33.4715488\ttotal: 42.3ms\tremaining: 42.3s\n",
      "100:\tlearn: 17.5114250\ttotal: 4.79s\tremaining: 42.7s\n",
      "200:\tlearn: 14.0004678\ttotal: 9.36s\tremaining: 37.2s\n",
      "300:\tlearn: 11.8391105\ttotal: 14s\tremaining: 32.6s\n",
      "400:\tlearn: 10.2005313\ttotal: 18.6s\tremaining: 27.7s\n",
      "500:\tlearn: 8.8476483\ttotal: 23.2s\tremaining: 23.1s\n",
      "600:\tlearn: 7.7051658\ttotal: 27.9s\tremaining: 18.5s\n",
      "700:\tlearn: 6.7115670\ttotal: 32.6s\tremaining: 13.9s\n",
      "800:\tlearn: 5.9201137\ttotal: 37.3s\tremaining: 9.27s\n",
      "900:\tlearn: 5.1832361\ttotal: 42s\tremaining: 4.62s\n",
      "999:\tlearn: 4.5567917\ttotal: 46.7s\tremaining: 0us\n",
      "0:\tlearn: 28.0380325\ttotal: 32.1ms\tremaining: 32s\n",
      "100:\tlearn: 5.9230907\ttotal: 3.5s\tremaining: 31.2s\n",
      "200:\tlearn: 2.3265010\ttotal: 7.01s\tremaining: 27.9s\n",
      "300:\tlearn: 0.9764431\ttotal: 10.5s\tremaining: 24.4s\n",
      "400:\tlearn: 0.4064668\ttotal: 13.9s\tremaining: 20.8s\n",
      "500:\tlearn: 0.1772938\ttotal: 17.6s\tremaining: 17.5s\n",
      "600:\tlearn: 0.0760037\ttotal: 21s\tremaining: 13.9s\n",
      "700:\tlearn: 0.0320318\ttotal: 24.5s\tremaining: 10.4s\n",
      "800:\tlearn: 0.0137360\ttotal: 28.1s\tremaining: 6.98s\n",
      "900:\tlearn: 0.0062056\ttotal: 31.5s\tremaining: 3.46s\n",
      "999:\tlearn: 0.0026153\ttotal: 34.9s\tremaining: 0us\n",
      "0:\tlearn: 30.5958210\ttotal: 41.3ms\tremaining: 41.3s\n",
      "100:\tlearn: 9.2750832\ttotal: 4.3s\tremaining: 38.2s\n",
      "200:\tlearn: 4.9041669\ttotal: 8.57s\tremaining: 34.1s\n",
      "300:\tlearn: 2.6046987\ttotal: 13s\tremaining: 30.1s\n",
      "400:\tlearn: 1.4187715\ttotal: 17.2s\tremaining: 25.7s\n",
      "500:\tlearn: 0.8165477\ttotal: 21.4s\tremaining: 21.4s\n",
      "600:\tlearn: 0.4673735\ttotal: 25.5s\tremaining: 16.9s\n",
      "700:\tlearn: 0.2593840\ttotal: 29.7s\tremaining: 12.7s\n",
      "800:\tlearn: 0.1529444\ttotal: 34.1s\tremaining: 8.47s\n",
      "900:\tlearn: 0.0908254\ttotal: 38.3s\tremaining: 4.21s\n",
      "999:\tlearn: 0.0523327\ttotal: 42.6s\tremaining: 0us\n",
      "0:\tlearn: 32.4025462\ttotal: 43.8ms\tremaining: 43.8s\n",
      "100:\tlearn: 11.6224438\ttotal: 4.68s\tremaining: 41.7s\n",
      "200:\tlearn: 7.2979230\ttotal: 9.37s\tremaining: 37.2s\n",
      "300:\tlearn: 4.5204593\ttotal: 14s\tremaining: 32.4s\n",
      "400:\tlearn: 2.8978934\ttotal: 18.7s\tremaining: 27.9s\n",
      "500:\tlearn: 1.8573968\ttotal: 23.5s\tremaining: 23.4s\n",
      "600:\tlearn: 1.2121327\ttotal: 28.3s\tremaining: 18.8s\n",
      "700:\tlearn: 0.7787960\ttotal: 33s\tremaining: 14.1s\n",
      "800:\tlearn: 0.4928491\ttotal: 37.6s\tremaining: 9.35s\n",
      "900:\tlearn: 0.3277228\ttotal: 42.3s\tremaining: 4.65s\n",
      "999:\tlearn: 0.2203138\ttotal: 47.1s\tremaining: 0us\n",
      "0:\tlearn: 38.1970361\ttotal: 2.85ms\tremaining: 2.85s\n",
      "100:\tlearn: 24.2121934\ttotal: 266ms\tremaining: 2.36s\n",
      "200:\tlearn: 22.6839709\ttotal: 525ms\tremaining: 2.09s\n",
      "300:\tlearn: 21.6991582\ttotal: 789ms\tremaining: 1.83s\n",
      "400:\tlearn: 20.7714878\ttotal: 1.08s\tremaining: 1.61s\n",
      "500:\tlearn: 19.9673786\ttotal: 1.36s\tremaining: 1.35s\n",
      "600:\tlearn: 19.3274899\ttotal: 1.67s\tremaining: 1.11s\n",
      "700:\tlearn: 18.7605927\ttotal: 1.96s\tremaining: 838ms\n",
      "800:\tlearn: 18.2454972\ttotal: 2.25s\tremaining: 559ms\n",
      "900:\tlearn: 17.7893211\ttotal: 2.5s\tremaining: 275ms\n",
      "999:\tlearn: 17.4138093\ttotal: 2.78s\tremaining: 0us\n",
      "CPU times: user 4min 53s, sys: 3.09 s, total: 4min 56s\n",
      "Wall time: 5min 13s\n"
     ]
    },
    {
     "data": {
      "text/plain": [
       "GridSearchCV(cv=<generator object TimeSeriesSplit.split at 0x7f5b41d127b0>,\n",
       "             estimator=<catboost.core.CatBoostRegressor object at 0x7f5b421cbbe0>,\n",
       "             param_grid={'depth': [4, 6, 10], 'learning_rate': [0.03, 0.1]},\n",
       "             scoring=make_scorer(RMSE, greater_is_better=False))"
      ]
     },
     "execution_count": 21,
     "metadata": {},
     "output_type": "execute_result"
    }
   ],
   "source": [
    "%%time\n",
    "\n",
    "my_cv = TimeSeriesSplit(n_splits=3).split(features_train)\n",
    "\n",
    "cb = cb.CatBoostRegressor()\n",
    "\n",
    "cb_parametrs = {'learning_rate': [0.03, 0.1],\n",
    "                'depth': [4, 6, 10]\n",
    "               }\n",
    "\n",
    "\n",
    "cb_grid = GridSearchCV(cb, cb_parametrs, scoring=RMSE_score, cv=my_cv)\n",
    "cb_grid.fit(features_train, target_train, verbose=100)"
   ]
  },
  {
   "cell_type": "code",
   "execution_count": 22,
   "metadata": {},
   "outputs": [
    {
     "name": "stdout",
     "output_type": "stream",
     "text": [
      "{'depth': 4, 'learning_rate': 0.03}\n"
     ]
    }
   ],
   "source": [
    "cb_params = cb_grid.best_params_\n",
    "cb_score = cb_grid.score(features_train, target_train) * (-1)\n",
    "print(cb_params)"
   ]
  },
  {
   "cell_type": "code",
   "execution_count": 30,
   "metadata": {},
   "outputs": [
    {
     "name": "stdout",
     "output_type": "stream",
     "text": [
      "0:\tlearn: 28.8931722\ttotal: 1.76ms\tremaining: 1.76s\n",
      "1:\tlearn: 28.5950076\ttotal: 3.67ms\tremaining: 1.83s\n",
      "2:\tlearn: 28.2123837\ttotal: 5.23ms\tremaining: 1.74s\n",
      "3:\tlearn: 27.8468744\ttotal: 6.87ms\tremaining: 1.71s\n",
      "4:\tlearn: 27.5430778\ttotal: 8.44ms\tremaining: 1.68s\n",
      "5:\tlearn: 27.2501581\ttotal: 9.91ms\tremaining: 1.64s\n",
      "6:\tlearn: 26.9452079\ttotal: 11.5ms\tremaining: 1.63s\n",
      "7:\tlearn: 26.6790841\ttotal: 13.1ms\tremaining: 1.62s\n",
      "8:\tlearn: 26.4078093\ttotal: 14.7ms\tremaining: 1.62s\n",
      "9:\tlearn: 26.1555983\ttotal: 16.2ms\tremaining: 1.6s\n",
      "10:\tlearn: 25.8753489\ttotal: 17.6ms\tremaining: 1.58s\n",
      "11:\tlearn: 25.6105811\ttotal: 19ms\tremaining: 1.57s\n",
      "12:\tlearn: 25.3984384\ttotal: 20.5ms\tremaining: 1.56s\n",
      "13:\tlearn: 25.1782511\ttotal: 22.1ms\tremaining: 1.56s\n",
      "14:\tlearn: 24.9599760\ttotal: 23.5ms\tremaining: 1.54s\n",
      "15:\tlearn: 24.7630346\ttotal: 24.9ms\tremaining: 1.53s\n",
      "16:\tlearn: 24.5391819\ttotal: 26.3ms\tremaining: 1.52s\n",
      "17:\tlearn: 24.3640390\ttotal: 27.9ms\tremaining: 1.52s\n",
      "18:\tlearn: 24.1635049\ttotal: 29.5ms\tremaining: 1.52s\n",
      "19:\tlearn: 23.9570563\ttotal: 31ms\tremaining: 1.52s\n",
      "20:\tlearn: 23.7812519\ttotal: 32.5ms\tremaining: 1.51s\n",
      "21:\tlearn: 23.6203585\ttotal: 34.1ms\tremaining: 1.52s\n",
      "22:\tlearn: 23.4456515\ttotal: 35.6ms\tremaining: 1.51s\n",
      "23:\tlearn: 23.2950604\ttotal: 37ms\tremaining: 1.51s\n",
      "24:\tlearn: 23.1277060\ttotal: 38.6ms\tremaining: 1.5s\n",
      "25:\tlearn: 22.9916377\ttotal: 40ms\tremaining: 1.5s\n",
      "26:\tlearn: 22.8328730\ttotal: 41.6ms\tremaining: 1.5s\n",
      "27:\tlearn: 22.6734949\ttotal: 43ms\tremaining: 1.49s\n",
      "28:\tlearn: 22.5433745\ttotal: 44.5ms\tremaining: 1.49s\n",
      "29:\tlearn: 22.4106256\ttotal: 46ms\tremaining: 1.49s\n",
      "30:\tlearn: 22.2735677\ttotal: 47.6ms\tremaining: 1.49s\n",
      "31:\tlearn: 22.1376383\ttotal: 49.1ms\tremaining: 1.48s\n",
      "32:\tlearn: 22.0432201\ttotal: 50.5ms\tremaining: 1.48s\n",
      "33:\tlearn: 21.9175740\ttotal: 52ms\tremaining: 1.48s\n",
      "34:\tlearn: 21.7944596\ttotal: 53.4ms\tremaining: 1.47s\n",
      "35:\tlearn: 21.6998571\ttotal: 55ms\tremaining: 1.47s\n",
      "36:\tlearn: 21.5859573\ttotal: 56.4ms\tremaining: 1.47s\n",
      "37:\tlearn: 21.4820493\ttotal: 57.8ms\tremaining: 1.46s\n",
      "38:\tlearn: 21.3688316\ttotal: 59.4ms\tremaining: 1.46s\n",
      "39:\tlearn: 21.2428481\ttotal: 60.8ms\tremaining: 1.46s\n",
      "40:\tlearn: 21.1423008\ttotal: 62.2ms\tremaining: 1.45s\n",
      "41:\tlearn: 21.0535032\ttotal: 63.7ms\tremaining: 1.45s\n",
      "42:\tlearn: 20.9632945\ttotal: 65.1ms\tremaining: 1.45s\n",
      "43:\tlearn: 20.8917014\ttotal: 66.6ms\tremaining: 1.45s\n",
      "44:\tlearn: 20.8100397\ttotal: 68.4ms\tremaining: 1.45s\n",
      "45:\tlearn: 20.7308523\ttotal: 70.1ms\tremaining: 1.45s\n",
      "46:\tlearn: 20.6416085\ttotal: 71.6ms\tremaining: 1.45s\n",
      "47:\tlearn: 20.5376840\ttotal: 73ms\tremaining: 1.45s\n",
      "48:\tlearn: 20.4576167\ttotal: 74.6ms\tremaining: 1.45s\n",
      "49:\tlearn: 20.3748336\ttotal: 77ms\tremaining: 1.46s\n",
      "50:\tlearn: 20.2946970\ttotal: 79.2ms\tremaining: 1.47s\n",
      "51:\tlearn: 20.2229917\ttotal: 81.5ms\tremaining: 1.49s\n",
      "52:\tlearn: 20.1525053\ttotal: 83.9ms\tremaining: 1.5s\n",
      "53:\tlearn: 20.0825288\ttotal: 85.9ms\tremaining: 1.5s\n",
      "54:\tlearn: 20.0152500\ttotal: 88.1ms\tremaining: 1.51s\n",
      "55:\tlearn: 19.9456986\ttotal: 90ms\tremaining: 1.52s\n",
      "56:\tlearn: 19.8687075\ttotal: 91.5ms\tremaining: 1.51s\n",
      "57:\tlearn: 19.8021129\ttotal: 93ms\tremaining: 1.51s\n",
      "58:\tlearn: 19.7455668\ttotal: 94.4ms\tremaining: 1.51s\n",
      "59:\tlearn: 19.6961985\ttotal: 96.6ms\tremaining: 1.51s\n",
      "60:\tlearn: 19.6369261\ttotal: 98.3ms\tremaining: 1.51s\n",
      "61:\tlearn: 19.5731403\ttotal: 99.8ms\tremaining: 1.51s\n",
      "62:\tlearn: 19.5155477\ttotal: 101ms\tremaining: 1.51s\n",
      "63:\tlearn: 19.4697044\ttotal: 103ms\tremaining: 1.5s\n",
      "64:\tlearn: 19.4272540\ttotal: 104ms\tremaining: 1.5s\n",
      "65:\tlearn: 19.3818444\ttotal: 106ms\tremaining: 1.49s\n",
      "66:\tlearn: 19.3358558\ttotal: 107ms\tremaining: 1.49s\n",
      "67:\tlearn: 19.2885071\ttotal: 109ms\tremaining: 1.49s\n",
      "68:\tlearn: 19.2293990\ttotal: 110ms\tremaining: 1.48s\n",
      "69:\tlearn: 19.1830095\ttotal: 112ms\tremaining: 1.48s\n",
      "70:\tlearn: 19.1514283\ttotal: 113ms\tremaining: 1.48s\n",
      "71:\tlearn: 19.0998896\ttotal: 114ms\tremaining: 1.47s\n",
      "72:\tlearn: 19.0723899\ttotal: 117ms\tremaining: 1.48s\n",
      "73:\tlearn: 19.0323548\ttotal: 118ms\tremaining: 1.48s\n",
      "74:\tlearn: 18.9893092\ttotal: 119ms\tremaining: 1.47s\n",
      "75:\tlearn: 18.9483675\ttotal: 121ms\tremaining: 1.47s\n",
      "76:\tlearn: 18.9026827\ttotal: 122ms\tremaining: 1.47s\n",
      "77:\tlearn: 18.8640639\ttotal: 124ms\tremaining: 1.47s\n",
      "78:\tlearn: 18.8264250\ttotal: 126ms\tremaining: 1.47s\n",
      "79:\tlearn: 18.7779968\ttotal: 127ms\tremaining: 1.46s\n",
      "80:\tlearn: 18.7241914\ttotal: 129ms\tremaining: 1.46s\n",
      "81:\tlearn: 18.6859035\ttotal: 130ms\tremaining: 1.46s\n",
      "82:\tlearn: 18.6473770\ttotal: 132ms\tremaining: 1.46s\n",
      "83:\tlearn: 18.5994490\ttotal: 134ms\tremaining: 1.46s\n",
      "84:\tlearn: 18.5619820\ttotal: 135ms\tremaining: 1.46s\n",
      "85:\tlearn: 18.5429310\ttotal: 137ms\tremaining: 1.46s\n",
      "86:\tlearn: 18.5137647\ttotal: 139ms\tremaining: 1.46s\n",
      "87:\tlearn: 18.4724662\ttotal: 140ms\tremaining: 1.45s\n",
      "88:\tlearn: 18.4317175\ttotal: 142ms\tremaining: 1.45s\n",
      "89:\tlearn: 18.3960231\ttotal: 144ms\tremaining: 1.45s\n",
      "90:\tlearn: 18.3615492\ttotal: 145ms\tremaining: 1.45s\n",
      "91:\tlearn: 18.3361376\ttotal: 147ms\tremaining: 1.45s\n",
      "92:\tlearn: 18.3087187\ttotal: 149ms\tremaining: 1.45s\n",
      "93:\tlearn: 18.2845239\ttotal: 150ms\tremaining: 1.45s\n",
      "94:\tlearn: 18.2442778\ttotal: 152ms\tremaining: 1.44s\n",
      "95:\tlearn: 18.2214504\ttotal: 153ms\tremaining: 1.44s\n",
      "96:\tlearn: 18.1822834\ttotal: 155ms\tremaining: 1.44s\n",
      "97:\tlearn: 18.1500683\ttotal: 156ms\tremaining: 1.44s\n",
      "98:\tlearn: 18.1136425\ttotal: 158ms\tremaining: 1.44s\n",
      "99:\tlearn: 18.0865325\ttotal: 159ms\tremaining: 1.43s\n",
      "100:\tlearn: 18.0590059\ttotal: 161ms\tremaining: 1.43s\n",
      "101:\tlearn: 18.0362709\ttotal: 162ms\tremaining: 1.43s\n",
      "102:\tlearn: 18.0159794\ttotal: 164ms\tremaining: 1.43s\n",
      "103:\tlearn: 18.0020269\ttotal: 165ms\tremaining: 1.42s\n",
      "104:\tlearn: 17.9778555\ttotal: 167ms\tremaining: 1.42s\n",
      "105:\tlearn: 17.9437635\ttotal: 169ms\tremaining: 1.42s\n",
      "106:\tlearn: 17.9022280\ttotal: 170ms\tremaining: 1.42s\n",
      "107:\tlearn: 17.8675577\ttotal: 172ms\tremaining: 1.42s\n",
      "108:\tlearn: 17.8544595\ttotal: 174ms\tremaining: 1.43s\n",
      "109:\tlearn: 17.8322679\ttotal: 176ms\tremaining: 1.42s\n",
      "110:\tlearn: 17.8110547\ttotal: 178ms\tremaining: 1.42s\n",
      "111:\tlearn: 17.7911739\ttotal: 179ms\tremaining: 1.42s\n",
      "112:\tlearn: 17.7661726\ttotal: 181ms\tremaining: 1.42s\n",
      "113:\tlearn: 17.7418572\ttotal: 183ms\tremaining: 1.42s\n",
      "114:\tlearn: 17.7241993\ttotal: 185ms\tremaining: 1.42s\n",
      "115:\tlearn: 17.7188096\ttotal: 186ms\tremaining: 1.42s\n",
      "116:\tlearn: 17.7077952\ttotal: 188ms\tremaining: 1.42s\n",
      "117:\tlearn: 17.6961240\ttotal: 190ms\tremaining: 1.42s\n",
      "118:\tlearn: 17.6809774\ttotal: 191ms\tremaining: 1.42s\n",
      "119:\tlearn: 17.6561341\ttotal: 193ms\tremaining: 1.42s\n",
      "120:\tlearn: 17.6339286\ttotal: 195ms\tremaining: 1.41s\n",
      "121:\tlearn: 17.6204527\ttotal: 196ms\tremaining: 1.41s\n",
      "122:\tlearn: 17.6004592\ttotal: 198ms\tremaining: 1.41s\n",
      "123:\tlearn: 17.5674725\ttotal: 199ms\tremaining: 1.41s\n",
      "124:\tlearn: 17.5538593\ttotal: 201ms\tremaining: 1.41s\n",
      "125:\tlearn: 17.5226293\ttotal: 202ms\tremaining: 1.4s\n",
      "126:\tlearn: 17.4970079\ttotal: 204ms\tremaining: 1.4s\n",
      "127:\tlearn: 17.4627337\ttotal: 205ms\tremaining: 1.4s\n",
      "128:\tlearn: 17.4499219\ttotal: 207ms\tremaining: 1.4s\n",
      "129:\tlearn: 17.4292551\ttotal: 208ms\tremaining: 1.4s\n",
      "130:\tlearn: 17.3974615\ttotal: 210ms\tremaining: 1.39s\n",
      "131:\tlearn: 17.3635788\ttotal: 212ms\tremaining: 1.39s\n",
      "132:\tlearn: 17.3402206\ttotal: 213ms\tremaining: 1.39s\n",
      "133:\tlearn: 17.3354465\ttotal: 215ms\tremaining: 1.39s\n",
      "134:\tlearn: 17.3057353\ttotal: 216ms\tremaining: 1.39s\n",
      "135:\tlearn: 17.2769249\ttotal: 218ms\tremaining: 1.39s\n",
      "136:\tlearn: 17.2517812\ttotal: 220ms\tremaining: 1.38s\n",
      "137:\tlearn: 17.2369861\ttotal: 221ms\tremaining: 1.38s\n",
      "138:\tlearn: 17.2207495\ttotal: 223ms\tremaining: 1.38s\n",
      "139:\tlearn: 17.2121116\ttotal: 224ms\tremaining: 1.38s\n",
      "140:\tlearn: 17.1792372\ttotal: 226ms\tremaining: 1.38s\n",
      "141:\tlearn: 17.1447299\ttotal: 227ms\tremaining: 1.37s\n",
      "142:\tlearn: 17.1149256\ttotal: 229ms\tremaining: 1.37s\n",
      "143:\tlearn: 17.0942395\ttotal: 231ms\tremaining: 1.37s\n",
      "144:\tlearn: 17.0667576\ttotal: 232ms\tremaining: 1.37s\n",
      "145:\tlearn: 17.0523944\ttotal: 234ms\tremaining: 1.37s\n",
      "146:\tlearn: 17.0311000\ttotal: 236ms\tremaining: 1.37s\n",
      "147:\tlearn: 17.0124782\ttotal: 237ms\tremaining: 1.36s\n",
      "148:\tlearn: 16.9881909\ttotal: 239ms\tremaining: 1.36s\n",
      "149:\tlearn: 16.9822147\ttotal: 240ms\tremaining: 1.36s\n",
      "150:\tlearn: 16.9647566\ttotal: 242ms\tremaining: 1.36s\n",
      "151:\tlearn: 16.9288759\ttotal: 244ms\tremaining: 1.36s\n",
      "152:\tlearn: 16.9195624\ttotal: 246ms\tremaining: 1.36s\n",
      "153:\tlearn: 16.9077459\ttotal: 247ms\tremaining: 1.36s\n",
      "154:\tlearn: 16.8985976\ttotal: 249ms\tremaining: 1.35s\n",
      "155:\tlearn: 16.8637208\ttotal: 250ms\tremaining: 1.35s\n",
      "156:\tlearn: 16.8444260\ttotal: 252ms\tremaining: 1.35s\n",
      "157:\tlearn: 16.8298862\ttotal: 253ms\tremaining: 1.35s\n",
      "158:\tlearn: 16.8194711\ttotal: 255ms\tremaining: 1.35s\n",
      "159:\tlearn: 16.8056360\ttotal: 257ms\tremaining: 1.35s\n",
      "160:\tlearn: 16.7845129\ttotal: 258ms\tremaining: 1.34s\n",
      "161:\tlearn: 16.7510964\ttotal: 260ms\tremaining: 1.34s\n",
      "162:\tlearn: 16.7342216\ttotal: 261ms\tremaining: 1.34s\n",
      "163:\tlearn: 16.7085646\ttotal: 263ms\tremaining: 1.34s\n",
      "164:\tlearn: 16.6987960\ttotal: 264ms\tremaining: 1.34s\n",
      "165:\tlearn: 16.6944882\ttotal: 266ms\tremaining: 1.33s\n",
      "166:\tlearn: 16.6800809\ttotal: 267ms\tremaining: 1.33s\n",
      "167:\tlearn: 16.6701576\ttotal: 269ms\tremaining: 1.33s\n",
      "168:\tlearn: 16.6481113\ttotal: 271ms\tremaining: 1.33s\n",
      "169:\tlearn: 16.6330309\ttotal: 272ms\tremaining: 1.33s\n",
      "170:\tlearn: 16.6105842\ttotal: 274ms\tremaining: 1.33s\n",
      "171:\tlearn: 16.5972425\ttotal: 275ms\tremaining: 1.32s\n",
      "172:\tlearn: 16.5759600\ttotal: 277ms\tremaining: 1.32s\n",
      "173:\tlearn: 16.5589336\ttotal: 278ms\tremaining: 1.32s\n",
      "174:\tlearn: 16.5454592\ttotal: 280ms\tremaining: 1.32s\n",
      "175:\tlearn: 16.5296234\ttotal: 281ms\tremaining: 1.32s\n",
      "176:\tlearn: 16.5103738\ttotal: 283ms\tremaining: 1.31s\n",
      "177:\tlearn: 16.4856049\ttotal: 284ms\tremaining: 1.31s\n",
      "178:\tlearn: 16.4814664\ttotal: 285ms\tremaining: 1.31s\n",
      "179:\tlearn: 16.4592117\ttotal: 287ms\tremaining: 1.31s\n",
      "180:\tlearn: 16.4328599\ttotal: 288ms\tremaining: 1.3s\n",
      "181:\tlearn: 16.4140309\ttotal: 290ms\tremaining: 1.3s\n",
      "182:\tlearn: 16.3996996\ttotal: 291ms\tremaining: 1.3s\n",
      "183:\tlearn: 16.3880492\ttotal: 293ms\tremaining: 1.3s\n",
      "184:\tlearn: 16.3747692\ttotal: 294ms\tremaining: 1.3s\n",
      "185:\tlearn: 16.3665025\ttotal: 296ms\tremaining: 1.29s\n",
      "186:\tlearn: 16.3488552\ttotal: 297ms\tremaining: 1.29s\n",
      "187:\tlearn: 16.3375056\ttotal: 299ms\tremaining: 1.29s\n",
      "188:\tlearn: 16.3102746\ttotal: 300ms\tremaining: 1.29s\n",
      "189:\tlearn: 16.2946347\ttotal: 301ms\tremaining: 1.28s\n",
      "190:\tlearn: 16.2899979\ttotal: 303ms\tremaining: 1.28s\n",
      "191:\tlearn: 16.2725715\ttotal: 304ms\tremaining: 1.28s\n",
      "192:\tlearn: 16.2593838\ttotal: 306ms\tremaining: 1.28s\n",
      "193:\tlearn: 16.2413984\ttotal: 307ms\tremaining: 1.28s\n",
      "194:\tlearn: 16.2289764\ttotal: 309ms\tremaining: 1.27s\n",
      "195:\tlearn: 16.2127297\ttotal: 310ms\tremaining: 1.27s\n",
      "196:\tlearn: 16.1962387\ttotal: 312ms\tremaining: 1.27s\n",
      "197:\tlearn: 16.1796296\ttotal: 313ms\tremaining: 1.27s\n",
      "198:\tlearn: 16.1725234\ttotal: 315ms\tremaining: 1.27s\n",
      "199:\tlearn: 16.1640426\ttotal: 317ms\tremaining: 1.27s\n",
      "200:\tlearn: 16.1457672\ttotal: 318ms\tremaining: 1.26s\n",
      "201:\tlearn: 16.1369193\ttotal: 320ms\tremaining: 1.26s\n",
      "202:\tlearn: 16.1194683\ttotal: 321ms\tremaining: 1.26s\n",
      "203:\tlearn: 16.0980317\ttotal: 323ms\tremaining: 1.26s\n",
      "204:\tlearn: 16.0816200\ttotal: 324ms\tremaining: 1.26s\n",
      "205:\tlearn: 16.0694598\ttotal: 326ms\tremaining: 1.25s\n",
      "206:\tlearn: 16.0464597\ttotal: 327ms\tremaining: 1.25s\n",
      "207:\tlearn: 16.0366064\ttotal: 329ms\tremaining: 1.25s\n",
      "208:\tlearn: 16.0295412\ttotal: 330ms\tremaining: 1.25s\n",
      "209:\tlearn: 16.0189000\ttotal: 333ms\tremaining: 1.25s\n",
      "210:\tlearn: 16.0058653\ttotal: 335ms\tremaining: 1.25s\n",
      "211:\tlearn: 15.9951580\ttotal: 337ms\tremaining: 1.25s\n",
      "212:\tlearn: 15.9706474\ttotal: 339ms\tremaining: 1.25s\n",
      "213:\tlearn: 15.9508144\ttotal: 342ms\tremaining: 1.25s\n",
      "214:\tlearn: 15.9287998\ttotal: 343ms\tremaining: 1.25s\n",
      "215:\tlearn: 15.9135253\ttotal: 345ms\tremaining: 1.25s\n",
      "216:\tlearn: 15.9053703\ttotal: 347ms\tremaining: 1.25s\n",
      "217:\tlearn: 15.8883207\ttotal: 348ms\tremaining: 1.25s\n",
      "218:\tlearn: 15.8781292\ttotal: 350ms\tremaining: 1.25s\n",
      "219:\tlearn: 15.8623151\ttotal: 351ms\tremaining: 1.25s\n",
      "220:\tlearn: 15.8489022\ttotal: 353ms\tremaining: 1.24s\n",
      "221:\tlearn: 15.8444027\ttotal: 354ms\tremaining: 1.24s\n",
      "222:\tlearn: 15.8252049\ttotal: 355ms\tremaining: 1.24s\n",
      "223:\tlearn: 15.8205334\ttotal: 357ms\tremaining: 1.24s\n",
      "224:\tlearn: 15.8124781\ttotal: 358ms\tremaining: 1.23s\n",
      "225:\tlearn: 15.7949031\ttotal: 360ms\tremaining: 1.23s\n",
      "226:\tlearn: 15.7771677\ttotal: 361ms\tremaining: 1.23s\n",
      "227:\tlearn: 15.7638724\ttotal: 363ms\tremaining: 1.23s\n",
      "228:\tlearn: 15.7549626\ttotal: 364ms\tremaining: 1.23s\n",
      "229:\tlearn: 15.7368254\ttotal: 366ms\tremaining: 1.22s\n",
      "230:\tlearn: 15.7202572\ttotal: 367ms\tremaining: 1.22s\n",
      "231:\tlearn: 15.7082738\ttotal: 369ms\tremaining: 1.22s\n",
      "232:\tlearn: 15.6887872\ttotal: 370ms\tremaining: 1.22s\n",
      "233:\tlearn: 15.6691579\ttotal: 372ms\tremaining: 1.22s\n",
      "234:\tlearn: 15.6475334\ttotal: 373ms\tremaining: 1.21s\n",
      "235:\tlearn: 15.6385607\ttotal: 375ms\tremaining: 1.21s\n",
      "236:\tlearn: 15.6162485\ttotal: 376ms\tremaining: 1.21s\n",
      "237:\tlearn: 15.6058437\ttotal: 377ms\tremaining: 1.21s\n",
      "238:\tlearn: 15.5877750\ttotal: 379ms\tremaining: 1.21s\n",
      "239:\tlearn: 15.5630001\ttotal: 380ms\tremaining: 1.2s\n",
      "240:\tlearn: 15.5566689\ttotal: 382ms\tremaining: 1.2s\n",
      "241:\tlearn: 15.5436124\ttotal: 383ms\tremaining: 1.2s\n",
      "242:\tlearn: 15.5273842\ttotal: 384ms\tremaining: 1.2s\n",
      "243:\tlearn: 15.5050770\ttotal: 386ms\tremaining: 1.2s\n",
      "244:\tlearn: 15.4862497\ttotal: 387ms\tremaining: 1.19s\n",
      "245:\tlearn: 15.4737220\ttotal: 389ms\tremaining: 1.19s\n",
      "246:\tlearn: 15.4615853\ttotal: 390ms\tremaining: 1.19s\n",
      "247:\tlearn: 15.4333867\ttotal: 392ms\tremaining: 1.19s\n",
      "248:\tlearn: 15.4216499\ttotal: 394ms\tremaining: 1.19s\n",
      "249:\tlearn: 15.4118631\ttotal: 396ms\tremaining: 1.19s\n",
      "250:\tlearn: 15.4044927\ttotal: 398ms\tremaining: 1.19s\n",
      "251:\tlearn: 15.3897692\ttotal: 400ms\tremaining: 1.19s\n",
      "252:\tlearn: 15.3844493\ttotal: 402ms\tremaining: 1.19s\n",
      "253:\tlearn: 15.3784375\ttotal: 404ms\tremaining: 1.19s\n",
      "254:\tlearn: 15.3515654\ttotal: 405ms\tremaining: 1.18s\n",
      "255:\tlearn: 15.3434515\ttotal: 407ms\tremaining: 1.18s\n",
      "256:\tlearn: 15.3294941\ttotal: 408ms\tremaining: 1.18s\n",
      "257:\tlearn: 15.3175809\ttotal: 410ms\tremaining: 1.18s\n",
      "258:\tlearn: 15.3086943\ttotal: 411ms\tremaining: 1.18s\n",
      "259:\tlearn: 15.3068514\ttotal: 413ms\tremaining: 1.18s\n",
      "260:\tlearn: 15.2880630\ttotal: 415ms\tremaining: 1.17s\n",
      "261:\tlearn: 15.2760972\ttotal: 416ms\tremaining: 1.17s\n",
      "262:\tlearn: 15.2742935\ttotal: 418ms\tremaining: 1.17s\n",
      "263:\tlearn: 15.2581209\ttotal: 419ms\tremaining: 1.17s\n",
      "264:\tlearn: 15.2405090\ttotal: 421ms\tremaining: 1.17s\n",
      "265:\tlearn: 15.2385570\ttotal: 422ms\tremaining: 1.17s\n",
      "266:\tlearn: 15.2313174\ttotal: 424ms\tremaining: 1.16s\n",
      "267:\tlearn: 15.2210056\ttotal: 425ms\tremaining: 1.16s\n",
      "268:\tlearn: 15.2113149\ttotal: 427ms\tremaining: 1.16s\n",
      "269:\tlearn: 15.2090308\ttotal: 429ms\tremaining: 1.16s\n",
      "270:\tlearn: 15.2023552\ttotal: 430ms\tremaining: 1.16s\n",
      "271:\tlearn: 15.1871164\ttotal: 432ms\tremaining: 1.16s\n",
      "272:\tlearn: 15.1747328\ttotal: 433ms\tremaining: 1.15s\n",
      "273:\tlearn: 15.1606630\ttotal: 435ms\tremaining: 1.15s\n",
      "274:\tlearn: 15.1446812\ttotal: 436ms\tremaining: 1.15s\n",
      "275:\tlearn: 15.1262262\ttotal: 438ms\tremaining: 1.15s\n",
      "276:\tlearn: 15.1241555\ttotal: 439ms\tremaining: 1.15s\n",
      "277:\tlearn: 15.1145276\ttotal: 441ms\tremaining: 1.14s\n",
      "278:\tlearn: 15.1123497\ttotal: 442ms\tremaining: 1.14s\n",
      "279:\tlearn: 15.0987842\ttotal: 444ms\tremaining: 1.14s\n",
      "280:\tlearn: 15.0864914\ttotal: 445ms\tremaining: 1.14s\n",
      "281:\tlearn: 15.0728675\ttotal: 447ms\tremaining: 1.14s\n",
      "282:\tlearn: 15.0669793\ttotal: 448ms\tremaining: 1.14s\n",
      "283:\tlearn: 15.0542646\ttotal: 450ms\tremaining: 1.13s\n",
      "284:\tlearn: 15.0398386\ttotal: 451ms\tremaining: 1.13s\n",
      "285:\tlearn: 15.0222210\ttotal: 452ms\tremaining: 1.13s\n",
      "286:\tlearn: 15.0049736\ttotal: 454ms\tremaining: 1.13s\n",
      "287:\tlearn: 14.9851981\ttotal: 455ms\tremaining: 1.13s\n",
      "288:\tlearn: 14.9729602\ttotal: 457ms\tremaining: 1.12s\n",
      "289:\tlearn: 14.9601858\ttotal: 458ms\tremaining: 1.12s\n",
      "290:\tlearn: 14.9410962\ttotal: 460ms\tremaining: 1.12s\n",
      "291:\tlearn: 14.9388766\ttotal: 462ms\tremaining: 1.12s\n",
      "292:\tlearn: 14.9238031\ttotal: 463ms\tremaining: 1.12s\n",
      "293:\tlearn: 14.9048682\ttotal: 465ms\tremaining: 1.12s\n",
      "294:\tlearn: 14.8878393\ttotal: 467ms\tremaining: 1.11s\n",
      "295:\tlearn: 14.8704820\ttotal: 468ms\tremaining: 1.11s\n",
      "296:\tlearn: 14.8593030\ttotal: 470ms\tremaining: 1.11s\n",
      "297:\tlearn: 14.8433538\ttotal: 472ms\tremaining: 1.11s\n",
      "298:\tlearn: 14.8366044\ttotal: 474ms\tremaining: 1.11s\n",
      "299:\tlearn: 14.8203988\ttotal: 475ms\tremaining: 1.11s\n",
      "300:\tlearn: 14.8007293\ttotal: 477ms\tremaining: 1.11s\n",
      "301:\tlearn: 14.7985595\ttotal: 478ms\tremaining: 1.1s\n",
      "302:\tlearn: 14.7963196\ttotal: 480ms\tremaining: 1.1s\n",
      "303:\tlearn: 14.7942018\ttotal: 482ms\tremaining: 1.1s\n",
      "304:\tlearn: 14.7889655\ttotal: 483ms\tremaining: 1.1s\n",
      "305:\tlearn: 14.7869285\ttotal: 485ms\tremaining: 1.1s\n",
      "306:\tlearn: 14.7652058\ttotal: 486ms\tremaining: 1.1s\n",
      "307:\tlearn: 14.7501141\ttotal: 488ms\tremaining: 1.09s\n",
      "308:\tlearn: 14.7478603\ttotal: 489ms\tremaining: 1.09s\n",
      "309:\tlearn: 14.7295314\ttotal: 492ms\tremaining: 1.09s\n",
      "310:\tlearn: 14.7144850\ttotal: 493ms\tremaining: 1.09s\n",
      "311:\tlearn: 14.7006957\ttotal: 495ms\tremaining: 1.09s\n",
      "312:\tlearn: 14.6828586\ttotal: 496ms\tremaining: 1.09s\n",
      "313:\tlearn: 14.6552849\ttotal: 498ms\tremaining: 1.09s\n",
      "314:\tlearn: 14.6459043\ttotal: 500ms\tremaining: 1.09s\n",
      "315:\tlearn: 14.6439659\ttotal: 501ms\tremaining: 1.08s\n",
      "316:\tlearn: 14.6286798\ttotal: 503ms\tremaining: 1.08s\n",
      "317:\tlearn: 14.6267272\ttotal: 504ms\tremaining: 1.08s\n",
      "318:\tlearn: 14.6069213\ttotal: 506ms\tremaining: 1.08s\n",
      "319:\tlearn: 14.5961770\ttotal: 507ms\tremaining: 1.08s\n",
      "320:\tlearn: 14.5800411\ttotal: 509ms\tremaining: 1.08s\n",
      "321:\tlearn: 14.5617992\ttotal: 510ms\tremaining: 1.07s\n",
      "322:\tlearn: 14.5480130\ttotal: 512ms\tremaining: 1.07s\n",
      "323:\tlearn: 14.5278661\ttotal: 513ms\tremaining: 1.07s\n",
      "324:\tlearn: 14.5158783\ttotal: 515ms\tremaining: 1.07s\n",
      "325:\tlearn: 14.4993165\ttotal: 516ms\tremaining: 1.07s\n",
      "326:\tlearn: 14.4861808\ttotal: 518ms\tremaining: 1.06s\n",
      "327:\tlearn: 14.4724753\ttotal: 519ms\tremaining: 1.06s\n",
      "328:\tlearn: 14.4598944\ttotal: 521ms\tremaining: 1.06s\n",
      "329:\tlearn: 14.4459238\ttotal: 522ms\tremaining: 1.06s\n",
      "330:\tlearn: 14.4298741\ttotal: 524ms\tremaining: 1.06s\n",
      "331:\tlearn: 14.4142601\ttotal: 527ms\tremaining: 1.06s\n",
      "332:\tlearn: 14.3994432\ttotal: 529ms\tremaining: 1.06s\n",
      "333:\tlearn: 14.3847779\ttotal: 531ms\tremaining: 1.06s\n",
      "334:\tlearn: 14.3623778\ttotal: 532ms\tremaining: 1.06s\n",
      "335:\tlearn: 14.3478563\ttotal: 534ms\tremaining: 1.05s\n",
      "336:\tlearn: 14.3357906\ttotal: 535ms\tremaining: 1.05s\n",
      "337:\tlearn: 14.3159612\ttotal: 537ms\tremaining: 1.05s\n",
      "338:\tlearn: 14.3086730\ttotal: 538ms\tremaining: 1.05s\n",
      "339:\tlearn: 14.2964970\ttotal: 540ms\tremaining: 1.05s\n",
      "340:\tlearn: 14.2887830\ttotal: 541ms\tremaining: 1.04s\n",
      "341:\tlearn: 14.2751760\ttotal: 542ms\tremaining: 1.04s\n",
      "342:\tlearn: 14.2613928\ttotal: 544ms\tremaining: 1.04s\n",
      "343:\tlearn: 14.2463571\ttotal: 545ms\tremaining: 1.04s\n",
      "344:\tlearn: 14.2374975\ttotal: 547ms\tremaining: 1.04s\n",
      "345:\tlearn: 14.2233047\ttotal: 548ms\tremaining: 1.04s\n",
      "346:\tlearn: 14.2145203\ttotal: 550ms\tremaining: 1.03s\n",
      "347:\tlearn: 14.2008761\ttotal: 551ms\tremaining: 1.03s\n",
      "348:\tlearn: 14.1898756\ttotal: 553ms\tremaining: 1.03s\n",
      "349:\tlearn: 14.1753594\ttotal: 554ms\tremaining: 1.03s\n",
      "350:\tlearn: 14.1602571\ttotal: 556ms\tremaining: 1.03s\n",
      "351:\tlearn: 14.1443517\ttotal: 557ms\tremaining: 1.02s\n",
      "352:\tlearn: 14.1271141\ttotal: 558ms\tremaining: 1.02s\n",
      "353:\tlearn: 14.1105037\ttotal: 560ms\tremaining: 1.02s\n",
      "354:\tlearn: 14.1022893\ttotal: 561ms\tremaining: 1.02s\n",
      "355:\tlearn: 14.0899582\ttotal: 563ms\tremaining: 1.02s\n",
      "356:\tlearn: 14.0708809\ttotal: 564ms\tremaining: 1.02s\n",
      "357:\tlearn: 14.0553813\ttotal: 566ms\tremaining: 1.01s\n",
      "358:\tlearn: 14.0473836\ttotal: 567ms\tremaining: 1.01s\n",
      "359:\tlearn: 14.0363452\ttotal: 569ms\tremaining: 1.01s\n",
      "360:\tlearn: 14.0215252\ttotal: 570ms\tremaining: 1.01s\n",
      "361:\tlearn: 14.0078747\ttotal: 572ms\tremaining: 1.01s\n",
      "362:\tlearn: 13.9954779\ttotal: 573ms\tremaining: 1s\n",
      "363:\tlearn: 13.9779059\ttotal: 575ms\tremaining: 1s\n",
      "364:\tlearn: 13.9643463\ttotal: 576ms\tremaining: 1s\n",
      "365:\tlearn: 13.9504059\ttotal: 577ms\tremaining: 1s\n",
      "366:\tlearn: 13.9369955\ttotal: 579ms\tremaining: 999ms\n",
      "367:\tlearn: 13.9242219\ttotal: 581ms\tremaining: 997ms\n",
      "368:\tlearn: 13.9138136\ttotal: 582ms\tremaining: 995ms\n",
      "369:\tlearn: 13.9011332\ttotal: 583ms\tremaining: 993ms\n",
      "370:\tlearn: 13.8856069\ttotal: 585ms\tremaining: 992ms\n",
      "371:\tlearn: 13.8757366\ttotal: 586ms\tremaining: 990ms\n",
      "372:\tlearn: 13.8655370\ttotal: 588ms\tremaining: 988ms\n",
      "373:\tlearn: 13.8526590\ttotal: 590ms\tremaining: 987ms\n",
      "374:\tlearn: 13.8435606\ttotal: 591ms\tremaining: 985ms\n",
      "375:\tlearn: 13.8315376\ttotal: 593ms\tremaining: 983ms\n",
      "376:\tlearn: 13.8129107\ttotal: 594ms\tremaining: 982ms\n",
      "377:\tlearn: 13.7980631\ttotal: 596ms\tremaining: 980ms\n",
      "378:\tlearn: 13.7781468\ttotal: 597ms\tremaining: 979ms\n",
      "379:\tlearn: 13.7712511\ttotal: 599ms\tremaining: 977ms\n",
      "380:\tlearn: 13.7512171\ttotal: 600ms\tremaining: 975ms\n",
      "381:\tlearn: 13.7381043\ttotal: 602ms\tremaining: 974ms\n",
      "382:\tlearn: 13.7314204\ttotal: 603ms\tremaining: 972ms\n",
      "383:\tlearn: 13.7133043\ttotal: 605ms\tremaining: 970ms\n",
      "384:\tlearn: 13.7017905\ttotal: 606ms\tremaining: 969ms\n",
      "385:\tlearn: 13.6886677\ttotal: 608ms\tremaining: 967ms\n",
      "386:\tlearn: 13.6797287\ttotal: 610ms\tremaining: 965ms\n",
      "387:\tlearn: 13.6680889\ttotal: 611ms\tremaining: 964ms\n",
      "388:\tlearn: 13.6603761\ttotal: 613ms\tremaining: 962ms\n",
      "389:\tlearn: 13.6545434\ttotal: 614ms\tremaining: 960ms\n",
      "390:\tlearn: 13.6408609\ttotal: 616ms\tremaining: 959ms\n",
      "391:\tlearn: 13.6325060\ttotal: 617ms\tremaining: 957ms\n",
      "392:\tlearn: 13.6228683\ttotal: 619ms\tremaining: 956ms\n",
      "393:\tlearn: 13.6124144\ttotal: 620ms\tremaining: 954ms\n",
      "394:\tlearn: 13.6032884\ttotal: 622ms\tremaining: 953ms\n",
      "395:\tlearn: 13.5970228\ttotal: 625ms\tremaining: 953ms\n",
      "396:\tlearn: 13.5841080\ttotal: 627ms\tremaining: 952ms\n",
      "397:\tlearn: 13.5681498\ttotal: 629ms\tremaining: 952ms\n",
      "398:\tlearn: 13.5530857\ttotal: 631ms\tremaining: 951ms\n",
      "399:\tlearn: 13.5443445\ttotal: 633ms\tremaining: 950ms\n",
      "400:\tlearn: 13.5275412\ttotal: 635ms\tremaining: 949ms\n",
      "401:\tlearn: 13.5183910\ttotal: 636ms\tremaining: 947ms\n",
      "402:\tlearn: 13.5126872\ttotal: 638ms\tremaining: 945ms\n",
      "403:\tlearn: 13.5001553\ttotal: 639ms\tremaining: 943ms\n",
      "404:\tlearn: 13.4984108\ttotal: 641ms\tremaining: 942ms\n",
      "405:\tlearn: 13.4966928\ttotal: 642ms\tremaining: 940ms\n",
      "406:\tlearn: 13.4856753\ttotal: 644ms\tremaining: 938ms\n",
      "407:\tlearn: 13.4730368\ttotal: 645ms\tremaining: 936ms\n",
      "408:\tlearn: 13.4547635\ttotal: 647ms\tremaining: 935ms\n",
      "409:\tlearn: 13.4479667\ttotal: 648ms\tremaining: 933ms\n",
      "410:\tlearn: 13.4342519\ttotal: 650ms\tremaining: 931ms\n",
      "411:\tlearn: 13.4242099\ttotal: 651ms\tremaining: 930ms\n",
      "412:\tlearn: 13.4225285\ttotal: 653ms\tremaining: 928ms\n",
      "413:\tlearn: 13.4107283\ttotal: 654ms\tremaining: 926ms\n",
      "414:\tlearn: 13.4035513\ttotal: 656ms\tremaining: 924ms\n",
      "415:\tlearn: 13.3932952\ttotal: 657ms\tremaining: 922ms\n",
      "416:\tlearn: 13.3916457\ttotal: 658ms\tremaining: 920ms\n",
      "417:\tlearn: 13.3816092\ttotal: 660ms\tremaining: 919ms\n",
      "418:\tlearn: 13.3722364\ttotal: 661ms\tremaining: 917ms\n",
      "419:\tlearn: 13.3601699\ttotal: 663ms\tremaining: 915ms\n",
      "420:\tlearn: 13.3479569\ttotal: 664ms\tremaining: 914ms\n",
      "421:\tlearn: 13.3353797\ttotal: 666ms\tremaining: 912ms\n",
      "422:\tlearn: 13.3238676\ttotal: 667ms\tremaining: 910ms\n",
      "423:\tlearn: 13.3060513\ttotal: 669ms\tremaining: 908ms\n",
      "424:\tlearn: 13.2974472\ttotal: 670ms\tremaining: 907ms\n",
      "425:\tlearn: 13.2854959\ttotal: 672ms\tremaining: 905ms\n",
      "426:\tlearn: 13.2755098\ttotal: 673ms\tremaining: 903ms\n",
      "427:\tlearn: 13.2687649\ttotal: 675ms\tremaining: 902ms\n",
      "428:\tlearn: 13.2575526\ttotal: 676ms\tremaining: 900ms\n",
      "429:\tlearn: 13.2559312\ttotal: 677ms\tremaining: 898ms\n",
      "430:\tlearn: 13.2491247\ttotal: 679ms\tremaining: 896ms\n",
      "431:\tlearn: 13.2386479\ttotal: 680ms\tremaining: 895ms\n",
      "432:\tlearn: 13.2270049\ttotal: 682ms\tremaining: 893ms\n",
      "433:\tlearn: 13.2254244\ttotal: 683ms\tremaining: 891ms\n",
      "434:\tlearn: 13.2124537\ttotal: 685ms\tremaining: 890ms\n",
      "435:\tlearn: 13.1955665\ttotal: 687ms\tremaining: 888ms\n",
      "436:\tlearn: 13.1798969\ttotal: 688ms\tremaining: 886ms\n",
      "437:\tlearn: 13.1650803\ttotal: 690ms\tremaining: 885ms\n",
      "438:\tlearn: 13.1547989\ttotal: 691ms\tremaining: 883ms\n",
      "439:\tlearn: 13.1445055\ttotal: 693ms\tremaining: 882ms\n",
      "440:\tlearn: 13.1315446\ttotal: 694ms\tremaining: 880ms\n",
      "441:\tlearn: 13.1228813\ttotal: 695ms\tremaining: 878ms\n",
      "442:\tlearn: 13.1071129\ttotal: 697ms\tremaining: 876ms\n",
      "443:\tlearn: 13.0992873\ttotal: 698ms\tremaining: 874ms\n",
      "444:\tlearn: 13.0876205\ttotal: 699ms\tremaining: 872ms\n",
      "445:\tlearn: 13.0713932\ttotal: 701ms\tremaining: 871ms\n",
      "446:\tlearn: 13.0697361\ttotal: 702ms\tremaining: 869ms\n",
      "447:\tlearn: 13.0518728\ttotal: 704ms\tremaining: 867ms\n",
      "448:\tlearn: 13.0406849\ttotal: 705ms\tremaining: 866ms\n",
      "449:\tlearn: 13.0313978\ttotal: 707ms\tremaining: 864ms\n",
      "450:\tlearn: 13.0253430\ttotal: 709ms\tremaining: 863ms\n",
      "451:\tlearn: 13.0210271\ttotal: 710ms\tremaining: 861ms\n",
      "452:\tlearn: 13.0057551\ttotal: 712ms\tremaining: 860ms\n",
      "453:\tlearn: 12.9950328\ttotal: 713ms\tremaining: 858ms\n",
      "454:\tlearn: 12.9815878\ttotal: 715ms\tremaining: 856ms\n",
      "455:\tlearn: 12.9756634\ttotal: 716ms\tremaining: 854ms\n",
      "456:\tlearn: 12.9697105\ttotal: 718ms\tremaining: 853ms\n",
      "457:\tlearn: 12.9542365\ttotal: 719ms\tremaining: 851ms\n",
      "458:\tlearn: 12.9428272\ttotal: 721ms\tremaining: 849ms\n",
      "459:\tlearn: 12.9327759\ttotal: 722ms\tremaining: 848ms\n",
      "460:\tlearn: 12.9221567\ttotal: 724ms\tremaining: 846ms\n",
      "461:\tlearn: 12.9206591\ttotal: 726ms\tremaining: 845ms\n",
      "462:\tlearn: 12.9067959\ttotal: 727ms\tremaining: 843ms\n",
      "463:\tlearn: 12.9010523\ttotal: 729ms\tremaining: 842ms\n",
      "464:\tlearn: 12.8995743\ttotal: 730ms\tremaining: 840ms\n",
      "465:\tlearn: 12.8928600\ttotal: 732ms\tremaining: 838ms\n",
      "466:\tlearn: 12.8852121\ttotal: 733ms\tremaining: 837ms\n",
      "467:\tlearn: 12.8718681\ttotal: 734ms\tremaining: 835ms\n",
      "468:\tlearn: 12.8585842\ttotal: 737ms\tremaining: 834ms\n",
      "469:\tlearn: 12.8467820\ttotal: 739ms\tremaining: 834ms\n",
      "470:\tlearn: 12.8346362\ttotal: 742ms\tremaining: 833ms\n",
      "471:\tlearn: 12.8304263\ttotal: 744ms\tremaining: 833ms\n",
      "472:\tlearn: 12.8171999\ttotal: 747ms\tremaining: 832ms\n",
      "473:\tlearn: 12.8089361\ttotal: 749ms\tremaining: 831ms\n",
      "474:\tlearn: 12.7967626\ttotal: 751ms\tremaining: 831ms\n",
      "475:\tlearn: 12.7831447\ttotal: 754ms\tremaining: 830ms\n",
      "476:\tlearn: 12.7725689\ttotal: 756ms\tremaining: 829ms\n",
      "477:\tlearn: 12.7595778\ttotal: 759ms\tremaining: 828ms\n",
      "478:\tlearn: 12.7489080\ttotal: 761ms\tremaining: 828ms\n",
      "479:\tlearn: 12.7437996\ttotal: 763ms\tremaining: 827ms\n",
      "480:\tlearn: 12.7311975\ttotal: 765ms\tremaining: 826ms\n",
      "481:\tlearn: 12.7248337\ttotal: 767ms\tremaining: 824ms\n",
      "482:\tlearn: 12.7106159\ttotal: 768ms\tremaining: 822ms\n",
      "483:\tlearn: 12.7002038\ttotal: 770ms\tremaining: 821ms\n",
      "484:\tlearn: 12.6960729\ttotal: 771ms\tremaining: 819ms\n",
      "485:\tlearn: 12.6864423\ttotal: 773ms\tremaining: 817ms\n",
      "486:\tlearn: 12.6792147\ttotal: 774ms\tremaining: 816ms\n",
      "487:\tlearn: 12.6743379\ttotal: 776ms\tremaining: 814ms\n",
      "488:\tlearn: 12.6572136\ttotal: 777ms\tremaining: 812ms\n",
      "489:\tlearn: 12.6484543\ttotal: 779ms\tremaining: 811ms\n",
      "490:\tlearn: 12.6384661\ttotal: 780ms\tremaining: 809ms\n",
      "491:\tlearn: 12.6308982\ttotal: 782ms\tremaining: 807ms\n",
      "492:\tlearn: 12.6213334\ttotal: 783ms\tremaining: 805ms\n",
      "493:\tlearn: 12.6110192\ttotal: 785ms\tremaining: 804ms\n",
      "494:\tlearn: 12.6002804\ttotal: 786ms\tremaining: 802ms\n",
      "495:\tlearn: 12.5868808\ttotal: 788ms\tremaining: 801ms\n",
      "496:\tlearn: 12.5754369\ttotal: 790ms\tremaining: 799ms\n",
      "497:\tlearn: 12.5639569\ttotal: 791ms\tremaining: 798ms\n",
      "498:\tlearn: 12.5625193\ttotal: 793ms\tremaining: 796ms\n",
      "499:\tlearn: 12.5610537\ttotal: 794ms\tremaining: 794ms\n",
      "500:\tlearn: 12.5542705\ttotal: 796ms\tremaining: 792ms\n",
      "501:\tlearn: 12.5469616\ttotal: 797ms\tremaining: 791ms\n",
      "502:\tlearn: 12.5379742\ttotal: 798ms\tremaining: 789ms\n",
      "503:\tlearn: 12.5241576\ttotal: 800ms\tremaining: 787ms\n",
      "504:\tlearn: 12.5111185\ttotal: 801ms\tremaining: 786ms\n",
      "505:\tlearn: 12.5029092\ttotal: 803ms\tremaining: 784ms\n",
      "506:\tlearn: 12.4904601\ttotal: 804ms\tremaining: 782ms\n",
      "507:\tlearn: 12.4889952\ttotal: 806ms\tremaining: 780ms\n",
      "508:\tlearn: 12.4777661\ttotal: 807ms\tremaining: 779ms\n",
      "509:\tlearn: 12.4763964\ttotal: 809ms\tremaining: 777ms\n",
      "510:\tlearn: 12.4643754\ttotal: 810ms\tremaining: 775ms\n",
      "511:\tlearn: 12.4586490\ttotal: 812ms\tremaining: 774ms\n",
      "512:\tlearn: 12.4493702\ttotal: 813ms\tremaining: 772ms\n",
      "513:\tlearn: 12.4364907\ttotal: 815ms\tremaining: 770ms\n",
      "514:\tlearn: 12.4228363\ttotal: 816ms\tremaining: 769ms\n",
      "515:\tlearn: 12.4093715\ttotal: 818ms\tremaining: 767ms\n",
      "516:\tlearn: 12.3930537\ttotal: 819ms\tremaining: 765ms\n",
      "517:\tlearn: 12.3890708\ttotal: 821ms\tremaining: 764ms\n",
      "518:\tlearn: 12.3801594\ttotal: 822ms\tremaining: 762ms\n",
      "519:\tlearn: 12.3788150\ttotal: 824ms\tremaining: 760ms\n",
      "520:\tlearn: 12.3623318\ttotal: 825ms\tremaining: 759ms\n",
      "521:\tlearn: 12.3582398\ttotal: 827ms\tremaining: 757ms\n",
      "522:\tlearn: 12.3526318\ttotal: 828ms\tremaining: 756ms\n",
      "523:\tlearn: 12.3404096\ttotal: 830ms\tremaining: 754ms\n",
      "524:\tlearn: 12.3390790\ttotal: 831ms\tremaining: 752ms\n",
      "525:\tlearn: 12.3307671\ttotal: 833ms\tremaining: 751ms\n",
      "526:\tlearn: 12.3192299\ttotal: 834ms\tremaining: 749ms\n",
      "527:\tlearn: 12.3116477\ttotal: 836ms\tremaining: 747ms\n",
      "528:\tlearn: 12.3004661\ttotal: 837ms\tremaining: 745ms\n",
      "529:\tlearn: 12.2866245\ttotal: 839ms\tremaining: 744ms\n",
      "530:\tlearn: 12.2789298\ttotal: 840ms\tremaining: 742ms\n",
      "531:\tlearn: 12.2690592\ttotal: 841ms\tremaining: 740ms\n",
      "532:\tlearn: 12.2645035\ttotal: 843ms\tremaining: 738ms\n",
      "533:\tlearn: 12.2589286\ttotal: 844ms\tremaining: 737ms\n",
      "534:\tlearn: 12.2477187\ttotal: 846ms\tremaining: 735ms\n",
      "535:\tlearn: 12.2381526\ttotal: 848ms\tremaining: 734ms\n",
      "536:\tlearn: 12.2344382\ttotal: 849ms\tremaining: 732ms\n",
      "537:\tlearn: 12.2200685\ttotal: 851ms\tremaining: 731ms\n",
      "538:\tlearn: 12.2096818\ttotal: 852ms\tremaining: 729ms\n",
      "539:\tlearn: 12.1970276\ttotal: 854ms\tremaining: 728ms\n",
      "540:\tlearn: 12.1870202\ttotal: 856ms\tremaining: 726ms\n",
      "541:\tlearn: 12.1770918\ttotal: 857ms\tremaining: 724ms\n",
      "542:\tlearn: 12.1675043\ttotal: 859ms\tremaining: 723ms\n",
      "543:\tlearn: 12.1662005\ttotal: 860ms\tremaining: 721ms\n",
      "544:\tlearn: 12.1643641\ttotal: 862ms\tremaining: 719ms\n",
      "545:\tlearn: 12.1587193\ttotal: 863ms\tremaining: 718ms\n",
      "546:\tlearn: 12.1490607\ttotal: 865ms\tremaining: 716ms\n",
      "547:\tlearn: 12.1438865\ttotal: 866ms\tremaining: 714ms\n",
      "548:\tlearn: 12.1342177\ttotal: 868ms\tremaining: 713ms\n",
      "549:\tlearn: 12.1223425\ttotal: 871ms\tremaining: 712ms\n",
      "550:\tlearn: 12.1117705\ttotal: 873ms\tremaining: 711ms\n",
      "551:\tlearn: 12.1037110\ttotal: 875ms\tremaining: 710ms\n",
      "552:\tlearn: 12.0965924\ttotal: 878ms\tremaining: 709ms\n",
      "553:\tlearn: 12.0844213\ttotal: 880ms\tremaining: 709ms\n",
      "554:\tlearn: 12.0734334\ttotal: 882ms\tremaining: 708ms\n",
      "555:\tlearn: 12.0631417\ttotal: 885ms\tremaining: 707ms\n",
      "556:\tlearn: 12.0479879\ttotal: 887ms\tremaining: 706ms\n",
      "557:\tlearn: 12.0464078\ttotal: 890ms\tremaining: 705ms\n",
      "558:\tlearn: 12.0417642\ttotal: 892ms\tremaining: 704ms\n",
      "559:\tlearn: 12.0311407\ttotal: 894ms\tremaining: 703ms\n",
      "560:\tlearn: 12.0298786\ttotal: 896ms\tremaining: 701ms\n",
      "561:\tlearn: 12.0186626\ttotal: 897ms\tremaining: 699ms\n",
      "562:\tlearn: 12.0091589\ttotal: 899ms\tremaining: 698ms\n",
      "563:\tlearn: 12.0000818\ttotal: 901ms\tremaining: 696ms\n",
      "564:\tlearn: 11.9927229\ttotal: 902ms\tremaining: 695ms\n",
      "565:\tlearn: 11.9827816\ttotal: 904ms\tremaining: 693ms\n",
      "566:\tlearn: 11.9765035\ttotal: 905ms\tremaining: 691ms\n",
      "567:\tlearn: 11.9651253\ttotal: 906ms\tremaining: 689ms\n",
      "568:\tlearn: 11.9557397\ttotal: 908ms\tremaining: 688ms\n",
      "569:\tlearn: 11.9494257\ttotal: 910ms\tremaining: 686ms\n",
      "570:\tlearn: 11.9478323\ttotal: 911ms\tremaining: 684ms\n",
      "571:\tlearn: 11.9358799\ttotal: 913ms\tremaining: 683ms\n",
      "572:\tlearn: 11.9251045\ttotal: 915ms\tremaining: 682ms\n",
      "573:\tlearn: 11.9207424\ttotal: 917ms\tremaining: 681ms\n",
      "574:\tlearn: 11.9169748\ttotal: 920ms\tremaining: 680ms\n",
      "575:\tlearn: 11.9120549\ttotal: 922ms\tremaining: 679ms\n",
      "576:\tlearn: 11.9107954\ttotal: 924ms\tremaining: 678ms\n",
      "577:\tlearn: 11.9012957\ttotal: 926ms\tremaining: 676ms\n",
      "578:\tlearn: 11.8920005\ttotal: 927ms\tremaining: 674ms\n",
      "579:\tlearn: 11.8824868\ttotal: 929ms\tremaining: 673ms\n",
      "580:\tlearn: 11.8737284\ttotal: 931ms\tremaining: 671ms\n",
      "581:\tlearn: 11.8628689\ttotal: 932ms\tremaining: 669ms\n",
      "582:\tlearn: 11.8614448\ttotal: 934ms\tremaining: 668ms\n",
      "583:\tlearn: 11.8478021\ttotal: 936ms\tremaining: 667ms\n",
      "584:\tlearn: 11.8394573\ttotal: 938ms\tremaining: 665ms\n",
      "585:\tlearn: 11.8316382\ttotal: 939ms\tremaining: 663ms\n",
      "586:\tlearn: 11.8201176\ttotal: 941ms\tremaining: 662ms\n",
      "587:\tlearn: 11.8186578\ttotal: 942ms\tremaining: 660ms\n",
      "588:\tlearn: 11.8032453\ttotal: 944ms\tremaining: 658ms\n",
      "589:\tlearn: 11.7939854\ttotal: 945ms\tremaining: 657ms\n",
      "590:\tlearn: 11.7796239\ttotal: 946ms\tremaining: 655ms\n",
      "591:\tlearn: 11.7762012\ttotal: 948ms\tremaining: 653ms\n",
      "592:\tlearn: 11.7674336\ttotal: 949ms\tremaining: 652ms\n",
      "593:\tlearn: 11.7613125\ttotal: 952ms\tremaining: 650ms\n",
      "594:\tlearn: 11.7508999\ttotal: 953ms\tremaining: 649ms\n",
      "595:\tlearn: 11.7440679\ttotal: 955ms\tremaining: 647ms\n",
      "596:\tlearn: 11.7356188\ttotal: 957ms\tremaining: 646ms\n",
      "597:\tlearn: 11.7231197\ttotal: 958ms\tremaining: 644ms\n",
      "598:\tlearn: 11.7147236\ttotal: 960ms\tremaining: 643ms\n",
      "599:\tlearn: 11.7050471\ttotal: 962ms\tremaining: 641ms\n",
      "600:\tlearn: 11.6928906\ttotal: 963ms\tremaining: 640ms\n",
      "601:\tlearn: 11.6794967\ttotal: 965ms\tremaining: 638ms\n",
      "602:\tlearn: 11.6675388\ttotal: 966ms\tremaining: 636ms\n",
      "603:\tlearn: 11.6608518\ttotal: 968ms\tremaining: 635ms\n",
      "604:\tlearn: 11.6560236\ttotal: 969ms\tremaining: 633ms\n",
      "605:\tlearn: 11.6548494\ttotal: 971ms\tremaining: 631ms\n",
      "606:\tlearn: 11.6505328\ttotal: 973ms\tremaining: 630ms\n",
      "607:\tlearn: 11.6386503\ttotal: 974ms\tremaining: 628ms\n",
      "608:\tlearn: 11.6372594\ttotal: 976ms\tremaining: 626ms\n",
      "609:\tlearn: 11.6271246\ttotal: 977ms\tremaining: 625ms\n",
      "610:\tlearn: 11.6211321\ttotal: 979ms\tremaining: 623ms\n",
      "611:\tlearn: 11.6197739\ttotal: 982ms\tremaining: 622ms\n",
      "612:\tlearn: 11.6111307\ttotal: 984ms\tremaining: 621ms\n",
      "613:\tlearn: 11.5974546\ttotal: 986ms\tremaining: 620ms\n",
      "614:\tlearn: 11.5961224\ttotal: 989ms\tremaining: 619ms\n",
      "615:\tlearn: 11.5933249\ttotal: 991ms\tremaining: 618ms\n",
      "616:\tlearn: 11.5876392\ttotal: 994ms\tremaining: 617ms\n",
      "617:\tlearn: 11.5792612\ttotal: 996ms\tremaining: 616ms\n",
      "618:\tlearn: 11.5705023\ttotal: 998ms\tremaining: 614ms\n",
      "619:\tlearn: 11.5692037\ttotal: 1s\tremaining: 613ms\n",
      "620:\tlearn: 11.5605736\ttotal: 1s\tremaining: 612ms\n",
      "621:\tlearn: 11.5522316\ttotal: 1s\tremaining: 611ms\n",
      "622:\tlearn: 11.5404565\ttotal: 1.01s\tremaining: 610ms\n",
      "623:\tlearn: 11.5333270\ttotal: 1.01s\tremaining: 609ms\n",
      "624:\tlearn: 11.5266712\ttotal: 1.01s\tremaining: 608ms\n",
      "625:\tlearn: 11.5158838\ttotal: 1.01s\tremaining: 607ms\n",
      "626:\tlearn: 11.5056148\ttotal: 1.02s\tremaining: 606ms\n",
      "627:\tlearn: 11.4981234\ttotal: 1.02s\tremaining: 605ms\n",
      "628:\tlearn: 11.4878447\ttotal: 1.02s\tremaining: 604ms\n",
      "629:\tlearn: 11.4757298\ttotal: 1.02s\tremaining: 602ms\n",
      "630:\tlearn: 11.4745854\ttotal: 1.03s\tremaining: 601ms\n",
      "631:\tlearn: 11.4673630\ttotal: 1.03s\tremaining: 600ms\n",
      "632:\tlearn: 11.4605395\ttotal: 1.03s\tremaining: 599ms\n",
      "633:\tlearn: 11.4455720\ttotal: 1.04s\tremaining: 598ms\n",
      "634:\tlearn: 11.4348624\ttotal: 1.04s\tremaining: 597ms\n",
      "635:\tlearn: 11.4267446\ttotal: 1.04s\tremaining: 596ms\n",
      "636:\tlearn: 11.4147721\ttotal: 1.04s\tremaining: 595ms\n",
      "637:\tlearn: 11.4073487\ttotal: 1.04s\tremaining: 593ms\n",
      "638:\tlearn: 11.3977096\ttotal: 1.05s\tremaining: 592ms\n",
      "639:\tlearn: 11.3950464\ttotal: 1.05s\tremaining: 590ms\n",
      "640:\tlearn: 11.3866093\ttotal: 1.05s\tremaining: 588ms\n",
      "641:\tlearn: 11.3855062\ttotal: 1.05s\tremaining: 587ms\n",
      "642:\tlearn: 11.3775605\ttotal: 1.05s\tremaining: 585ms\n",
      "643:\tlearn: 11.3764467\ttotal: 1.05s\tremaining: 583ms\n",
      "644:\tlearn: 11.3727162\ttotal: 1.06s\tremaining: 582ms\n",
      "645:\tlearn: 11.3665412\ttotal: 1.06s\tremaining: 580ms\n",
      "646:\tlearn: 11.3653011\ttotal: 1.06s\tremaining: 578ms\n",
      "647:\tlearn: 11.3512885\ttotal: 1.06s\tremaining: 576ms\n",
      "648:\tlearn: 11.3413761\ttotal: 1.06s\tremaining: 575ms\n",
      "649:\tlearn: 11.3366809\ttotal: 1.06s\tremaining: 573ms\n",
      "650:\tlearn: 11.3278115\ttotal: 1.06s\tremaining: 571ms\n",
      "651:\tlearn: 11.3169587\ttotal: 1.07s\tremaining: 569ms\n",
      "652:\tlearn: 11.3158936\ttotal: 1.07s\tremaining: 568ms\n",
      "653:\tlearn: 11.3097183\ttotal: 1.07s\tremaining: 566ms\n",
      "654:\tlearn: 11.3084787\ttotal: 1.07s\tremaining: 564ms\n",
      "655:\tlearn: 11.3037306\ttotal: 1.07s\tremaining: 562ms\n",
      "656:\tlearn: 11.2956174\ttotal: 1.07s\tremaining: 561ms\n",
      "657:\tlearn: 11.2940823\ttotal: 1.07s\tremaining: 559ms\n",
      "658:\tlearn: 11.2903577\ttotal: 1.08s\tremaining: 557ms\n",
      "659:\tlearn: 11.2869802\ttotal: 1.08s\tremaining: 556ms\n",
      "660:\tlearn: 11.2844919\ttotal: 1.08s\tremaining: 554ms\n",
      "661:\tlearn: 11.2744324\ttotal: 1.08s\tremaining: 552ms\n",
      "662:\tlearn: 11.2647410\ttotal: 1.08s\tremaining: 550ms\n",
      "663:\tlearn: 11.2612880\ttotal: 1.08s\tremaining: 549ms\n",
      "664:\tlearn: 11.2515643\ttotal: 1.08s\tremaining: 547ms\n",
      "665:\tlearn: 11.2449374\ttotal: 1.09s\tremaining: 545ms\n",
      "666:\tlearn: 11.2402027\ttotal: 1.09s\tremaining: 543ms\n",
      "667:\tlearn: 11.2328219\ttotal: 1.09s\tremaining: 542ms\n",
      "668:\tlearn: 11.2231198\ttotal: 1.09s\tremaining: 540ms\n",
      "669:\tlearn: 11.2219975\ttotal: 1.09s\tremaining: 538ms\n",
      "670:\tlearn: 11.2207706\ttotal: 1.09s\tremaining: 537ms\n",
      "671:\tlearn: 11.2158288\ttotal: 1.09s\tremaining: 535ms\n",
      "672:\tlearn: 11.2134266\ttotal: 1.1s\tremaining: 533ms\n",
      "673:\tlearn: 11.2044569\ttotal: 1.1s\tremaining: 531ms\n",
      "674:\tlearn: 11.1896925\ttotal: 1.1s\tremaining: 530ms\n",
      "675:\tlearn: 11.1886685\ttotal: 1.1s\tremaining: 528ms\n",
      "676:\tlearn: 11.1776172\ttotal: 1.1s\tremaining: 526ms\n",
      "677:\tlearn: 11.1698288\ttotal: 1.1s\tremaining: 525ms\n",
      "678:\tlearn: 11.1635005\ttotal: 1.11s\tremaining: 523ms\n",
      "679:\tlearn: 11.1516126\ttotal: 1.11s\tremaining: 521ms\n",
      "680:\tlearn: 11.1386194\ttotal: 1.11s\tremaining: 520ms\n",
      "681:\tlearn: 11.1307748\ttotal: 1.11s\tremaining: 518ms\n",
      "682:\tlearn: 11.1262156\ttotal: 1.11s\tremaining: 517ms\n",
      "683:\tlearn: 11.1141349\ttotal: 1.12s\tremaining: 516ms\n",
      "684:\tlearn: 11.1131170\ttotal: 1.12s\tremaining: 515ms\n",
      "685:\tlearn: 11.1114823\ttotal: 1.12s\tremaining: 514ms\n",
      "686:\tlearn: 11.1031580\ttotal: 1.12s\tremaining: 512ms\n",
      "687:\tlearn: 11.0986930\ttotal: 1.13s\tremaining: 511ms\n",
      "688:\tlearn: 11.0908995\ttotal: 1.13s\tremaining: 510ms\n",
      "689:\tlearn: 11.0814939\ttotal: 1.13s\tremaining: 509ms\n",
      "690:\tlearn: 11.0744146\ttotal: 1.13s\tremaining: 507ms\n",
      "691:\tlearn: 11.0633472\ttotal: 1.14s\tremaining: 506ms\n",
      "692:\tlearn: 11.0542635\ttotal: 1.14s\tremaining: 505ms\n",
      "693:\tlearn: 11.0452626\ttotal: 1.14s\tremaining: 503ms\n",
      "694:\tlearn: 11.0371237\ttotal: 1.14s\tremaining: 502ms\n",
      "695:\tlearn: 11.0302584\ttotal: 1.15s\tremaining: 501ms\n",
      "696:\tlearn: 11.0283831\ttotal: 1.15s\tremaining: 500ms\n",
      "697:\tlearn: 11.0192655\ttotal: 1.15s\tremaining: 498ms\n",
      "698:\tlearn: 11.0183360\ttotal: 1.15s\tremaining: 496ms\n",
      "699:\tlearn: 11.0101824\ttotal: 1.15s\tremaining: 494ms\n",
      "700:\tlearn: 11.0091826\ttotal: 1.16s\tremaining: 493ms\n",
      "701:\tlearn: 11.0049113\ttotal: 1.16s\tremaining: 491ms\n",
      "702:\tlearn: 11.0039252\ttotal: 1.16s\tremaining: 489ms\n",
      "703:\tlearn: 10.9927347\ttotal: 1.16s\tremaining: 488ms\n",
      "704:\tlearn: 10.9917579\ttotal: 1.16s\tremaining: 486ms\n",
      "705:\tlearn: 10.9832686\ttotal: 1.16s\tremaining: 484ms\n",
      "706:\tlearn: 10.9748302\ttotal: 1.16s\tremaining: 483ms\n",
      "707:\tlearn: 10.9672275\ttotal: 1.17s\tremaining: 481ms\n",
      "708:\tlearn: 10.9591269\ttotal: 1.17s\tremaining: 479ms\n",
      "709:\tlearn: 10.9581531\ttotal: 1.17s\tremaining: 478ms\n",
      "710:\tlearn: 10.9530700\ttotal: 1.17s\tremaining: 476ms\n",
      "711:\tlearn: 10.9509408\ttotal: 1.17s\tremaining: 475ms\n",
      "712:\tlearn: 10.9402245\ttotal: 1.17s\tremaining: 473ms\n",
      "713:\tlearn: 10.9270794\ttotal: 1.18s\tremaining: 471ms\n",
      "714:\tlearn: 10.9205837\ttotal: 1.18s\tremaining: 470ms\n",
      "715:\tlearn: 10.9128888\ttotal: 1.18s\tremaining: 468ms\n",
      "716:\tlearn: 10.9047160\ttotal: 1.18s\tremaining: 466ms\n",
      "717:\tlearn: 10.9023789\ttotal: 1.18s\tremaining: 465ms\n",
      "718:\tlearn: 10.8943100\ttotal: 1.18s\tremaining: 463ms\n",
      "719:\tlearn: 10.8873986\ttotal: 1.19s\tremaining: 461ms\n",
      "720:\tlearn: 10.8772848\ttotal: 1.19s\tremaining: 460ms\n",
      "721:\tlearn: 10.8658027\ttotal: 1.19s\tremaining: 458ms\n",
      "722:\tlearn: 10.8567786\ttotal: 1.19s\tremaining: 456ms\n",
      "723:\tlearn: 10.8489862\ttotal: 1.19s\tremaining: 454ms\n",
      "724:\tlearn: 10.8480279\ttotal: 1.19s\tremaining: 453ms\n",
      "725:\tlearn: 10.8419827\ttotal: 1.2s\tremaining: 452ms\n",
      "726:\tlearn: 10.8345901\ttotal: 1.2s\tremaining: 450ms\n",
      "727:\tlearn: 10.8281270\ttotal: 1.2s\tremaining: 449ms\n",
      "728:\tlearn: 10.8247433\ttotal: 1.2s\tremaining: 448ms\n",
      "729:\tlearn: 10.8206228\ttotal: 1.21s\tremaining: 446ms\n",
      "730:\tlearn: 10.8154875\ttotal: 1.21s\tremaining: 445ms\n",
      "731:\tlearn: 10.8063703\ttotal: 1.21s\tremaining: 444ms\n",
      "732:\tlearn: 10.8054240\ttotal: 1.21s\tremaining: 442ms\n",
      "733:\tlearn: 10.7970717\ttotal: 1.22s\tremaining: 441ms\n",
      "734:\tlearn: 10.7871519\ttotal: 1.22s\tremaining: 439ms\n",
      "735:\tlearn: 10.7863702\ttotal: 1.22s\tremaining: 438ms\n",
      "736:\tlearn: 10.7788430\ttotal: 1.22s\tremaining: 437ms\n",
      "737:\tlearn: 10.7707347\ttotal: 1.23s\tremaining: 435ms\n",
      "738:\tlearn: 10.7698802\ttotal: 1.23s\tremaining: 434ms\n",
      "739:\tlearn: 10.7534556\ttotal: 1.23s\tremaining: 433ms\n",
      "740:\tlearn: 10.7453736\ttotal: 1.23s\tremaining: 431ms\n",
      "741:\tlearn: 10.7356710\ttotal: 1.24s\tremaining: 430ms\n",
      "742:\tlearn: 10.7260983\ttotal: 1.24s\tremaining: 428ms\n",
      "743:\tlearn: 10.7151283\ttotal: 1.24s\tremaining: 427ms\n",
      "744:\tlearn: 10.7140828\ttotal: 1.24s\tremaining: 425ms\n",
      "745:\tlearn: 10.7063165\ttotal: 1.24s\tremaining: 423ms\n",
      "746:\tlearn: 10.6975644\ttotal: 1.24s\tremaining: 422ms\n",
      "747:\tlearn: 10.6841866\ttotal: 1.25s\tremaining: 420ms\n",
      "748:\tlearn: 10.6778175\ttotal: 1.25s\tremaining: 418ms\n",
      "749:\tlearn: 10.6767845\ttotal: 1.25s\tremaining: 416ms\n",
      "750:\tlearn: 10.6724337\ttotal: 1.25s\tremaining: 415ms\n",
      "751:\tlearn: 10.6662343\ttotal: 1.25s\tremaining: 413ms\n",
      "752:\tlearn: 10.6607468\ttotal: 1.25s\tremaining: 411ms\n",
      "753:\tlearn: 10.6554635\ttotal: 1.25s\tremaining: 409ms\n",
      "754:\tlearn: 10.6465878\ttotal: 1.26s\tremaining: 408ms\n",
      "755:\tlearn: 10.6392925\ttotal: 1.26s\tremaining: 406ms\n",
      "756:\tlearn: 10.6361446\ttotal: 1.26s\tremaining: 404ms\n",
      "757:\tlearn: 10.6352507\ttotal: 1.26s\tremaining: 403ms\n",
      "758:\tlearn: 10.6257192\ttotal: 1.26s\tremaining: 401ms\n",
      "759:\tlearn: 10.6184178\ttotal: 1.26s\tremaining: 399ms\n",
      "760:\tlearn: 10.6173264\ttotal: 1.26s\tremaining: 397ms\n",
      "761:\tlearn: 10.6102798\ttotal: 1.27s\tremaining: 396ms\n",
      "762:\tlearn: 10.6025519\ttotal: 1.27s\tremaining: 394ms\n",
      "763:\tlearn: 10.5961285\ttotal: 1.27s\tremaining: 392ms\n",
      "764:\tlearn: 10.5952507\ttotal: 1.27s\tremaining: 391ms\n",
      "765:\tlearn: 10.5905800\ttotal: 1.27s\tremaining: 389ms\n",
      "766:\tlearn: 10.5822321\ttotal: 1.27s\tremaining: 387ms\n",
      "767:\tlearn: 10.5713224\ttotal: 1.27s\tremaining: 385ms\n",
      "768:\tlearn: 10.5691003\ttotal: 1.28s\tremaining: 384ms\n",
      "769:\tlearn: 10.5659832\ttotal: 1.28s\tremaining: 382ms\n",
      "770:\tlearn: 10.5651314\ttotal: 1.28s\tremaining: 380ms\n",
      "771:\tlearn: 10.5641553\ttotal: 1.28s\tremaining: 378ms\n",
      "772:\tlearn: 10.5611319\ttotal: 1.28s\tremaining: 377ms\n",
      "773:\tlearn: 10.5559609\ttotal: 1.28s\tremaining: 375ms\n",
      "774:\tlearn: 10.5464107\ttotal: 1.29s\tremaining: 373ms\n",
      "775:\tlearn: 10.5379395\ttotal: 1.29s\tremaining: 372ms\n",
      "776:\tlearn: 10.5268959\ttotal: 1.29s\tremaining: 370ms\n",
      "777:\tlearn: 10.5198005\ttotal: 1.29s\tremaining: 368ms\n",
      "778:\tlearn: 10.5159676\ttotal: 1.29s\tremaining: 367ms\n",
      "779:\tlearn: 10.5138030\ttotal: 1.29s\tremaining: 365ms\n",
      "780:\tlearn: 10.5111118\ttotal: 1.29s\tremaining: 363ms\n",
      "781:\tlearn: 10.5081940\ttotal: 1.3s\tremaining: 362ms\n",
      "782:\tlearn: 10.5023071\ttotal: 1.3s\tremaining: 360ms\n",
      "783:\tlearn: 10.4909804\ttotal: 1.3s\tremaining: 358ms\n",
      "784:\tlearn: 10.4840184\ttotal: 1.3s\tremaining: 356ms\n",
      "785:\tlearn: 10.4817518\ttotal: 1.3s\tremaining: 355ms\n",
      "786:\tlearn: 10.4809169\ttotal: 1.3s\tremaining: 353ms\n",
      "787:\tlearn: 10.4709761\ttotal: 1.31s\tremaining: 351ms\n",
      "788:\tlearn: 10.4694437\ttotal: 1.31s\tremaining: 350ms\n",
      "789:\tlearn: 10.4677017\ttotal: 1.31s\tremaining: 348ms\n",
      "790:\tlearn: 10.4597404\ttotal: 1.31s\tremaining: 346ms\n",
      "791:\tlearn: 10.4481107\ttotal: 1.31s\tremaining: 345ms\n",
      "792:\tlearn: 10.4471045\ttotal: 1.31s\tremaining: 343ms\n",
      "793:\tlearn: 10.4433470\ttotal: 1.31s\tremaining: 341ms\n",
      "794:\tlearn: 10.4426357\ttotal: 1.32s\tremaining: 340ms\n",
      "795:\tlearn: 10.4347712\ttotal: 1.32s\tremaining: 338ms\n",
      "796:\tlearn: 10.4271305\ttotal: 1.32s\tremaining: 336ms\n",
      "797:\tlearn: 10.4249499\ttotal: 1.32s\tremaining: 334ms\n",
      "798:\tlearn: 10.4193860\ttotal: 1.32s\tremaining: 333ms\n",
      "799:\tlearn: 10.4185539\ttotal: 1.32s\tremaining: 331ms\n",
      "800:\tlearn: 10.4177630\ttotal: 1.32s\tremaining: 329ms\n",
      "801:\tlearn: 10.4156701\ttotal: 1.33s\tremaining: 328ms\n",
      "802:\tlearn: 10.4088806\ttotal: 1.33s\tremaining: 326ms\n",
      "803:\tlearn: 10.4067518\ttotal: 1.33s\tremaining: 324ms\n",
      "804:\tlearn: 10.3943145\ttotal: 1.33s\tremaining: 322ms\n",
      "805:\tlearn: 10.3859235\ttotal: 1.33s\tremaining: 321ms\n",
      "806:\tlearn: 10.3839704\ttotal: 1.33s\tremaining: 319ms\n",
      "807:\tlearn: 10.3756917\ttotal: 1.33s\tremaining: 317ms\n",
      "808:\tlearn: 10.3732315\ttotal: 1.34s\tremaining: 316ms\n",
      "809:\tlearn: 10.3707707\ttotal: 1.34s\tremaining: 314ms\n",
      "810:\tlearn: 10.3626640\ttotal: 1.34s\tremaining: 312ms\n",
      "811:\tlearn: 10.3603276\ttotal: 1.34s\tremaining: 311ms\n",
      "812:\tlearn: 10.3595122\ttotal: 1.34s\tremaining: 309ms\n",
      "813:\tlearn: 10.3580650\ttotal: 1.34s\tremaining: 307ms\n",
      "814:\tlearn: 10.3486167\ttotal: 1.35s\tremaining: 306ms\n",
      "815:\tlearn: 10.3368897\ttotal: 1.35s\tremaining: 304ms\n",
      "816:\tlearn: 10.3330182\ttotal: 1.35s\tremaining: 302ms\n",
      "817:\tlearn: 10.3237174\ttotal: 1.35s\tremaining: 300ms\n",
      "818:\tlearn: 10.3200668\ttotal: 1.35s\tremaining: 299ms\n",
      "819:\tlearn: 10.3133918\ttotal: 1.35s\tremaining: 297ms\n",
      "820:\tlearn: 10.3053498\ttotal: 1.35s\tremaining: 295ms\n",
      "821:\tlearn: 10.2971924\ttotal: 1.36s\tremaining: 294ms\n",
      "822:\tlearn: 10.2861264\ttotal: 1.36s\tremaining: 292ms\n",
      "823:\tlearn: 10.2822748\ttotal: 1.36s\tremaining: 290ms\n",
      "824:\tlearn: 10.2742693\ttotal: 1.36s\tremaining: 289ms\n",
      "825:\tlearn: 10.2622305\ttotal: 1.36s\tremaining: 287ms\n",
      "826:\tlearn: 10.2560572\ttotal: 1.36s\tremaining: 285ms\n",
      "827:\tlearn: 10.2494634\ttotal: 1.37s\tremaining: 284ms\n",
      "828:\tlearn: 10.2412518\ttotal: 1.37s\tremaining: 282ms\n",
      "829:\tlearn: 10.2336440\ttotal: 1.37s\tremaining: 280ms\n",
      "830:\tlearn: 10.2328492\ttotal: 1.37s\tremaining: 279ms\n",
      "831:\tlearn: 10.2207192\ttotal: 1.37s\tremaining: 277ms\n",
      "832:\tlearn: 10.2164493\ttotal: 1.37s\tremaining: 275ms\n",
      "833:\tlearn: 10.2083970\ttotal: 1.37s\tremaining: 274ms\n",
      "834:\tlearn: 10.2000665\ttotal: 1.38s\tremaining: 272ms\n",
      "835:\tlearn: 10.1938571\ttotal: 1.38s\tremaining: 270ms\n",
      "836:\tlearn: 10.1892100\ttotal: 1.38s\tremaining: 269ms\n",
      "837:\tlearn: 10.1804930\ttotal: 1.38s\tremaining: 267ms\n",
      "838:\tlearn: 10.1696238\ttotal: 1.38s\tremaining: 265ms\n",
      "839:\tlearn: 10.1628051\ttotal: 1.38s\tremaining: 264ms\n",
      "840:\tlearn: 10.1557310\ttotal: 1.38s\tremaining: 262ms\n",
      "841:\tlearn: 10.1485524\ttotal: 1.39s\tremaining: 260ms\n",
      "842:\tlearn: 10.1393533\ttotal: 1.39s\tremaining: 258ms\n",
      "843:\tlearn: 10.1303656\ttotal: 1.39s\tremaining: 257ms\n",
      "844:\tlearn: 10.1191637\ttotal: 1.39s\tremaining: 255ms\n",
      "845:\tlearn: 10.1183304\ttotal: 1.39s\tremaining: 253ms\n",
      "846:\tlearn: 10.1093460\ttotal: 1.39s\tremaining: 252ms\n",
      "847:\tlearn: 10.0971434\ttotal: 1.39s\tremaining: 250ms\n",
      "848:\tlearn: 10.0899891\ttotal: 1.4s\tremaining: 248ms\n",
      "849:\tlearn: 10.0816090\ttotal: 1.4s\tremaining: 247ms\n",
      "850:\tlearn: 10.0721848\ttotal: 1.4s\tremaining: 245ms\n",
      "851:\tlearn: 10.0701089\ttotal: 1.4s\tremaining: 243ms\n",
      "852:\tlearn: 10.0682985\ttotal: 1.4s\tremaining: 242ms\n",
      "853:\tlearn: 10.0666004\ttotal: 1.4s\tremaining: 240ms\n",
      "854:\tlearn: 10.0613218\ttotal: 1.41s\tremaining: 238ms\n",
      "855:\tlearn: 10.0539446\ttotal: 1.41s\tremaining: 237ms\n",
      "856:\tlearn: 10.0530157\ttotal: 1.41s\tremaining: 235ms\n",
      "857:\tlearn: 10.0451357\ttotal: 1.41s\tremaining: 233ms\n",
      "858:\tlearn: 10.0354335\ttotal: 1.41s\tremaining: 232ms\n",
      "859:\tlearn: 10.0294004\ttotal: 1.41s\tremaining: 230ms\n",
      "860:\tlearn: 10.0214702\ttotal: 1.41s\tremaining: 228ms\n",
      "861:\tlearn: 10.0206912\ttotal: 1.42s\tremaining: 227ms\n",
      "862:\tlearn: 10.0093201\ttotal: 1.42s\tremaining: 225ms\n",
      "863:\tlearn: 10.0085776\ttotal: 1.42s\tremaining: 223ms\n",
      "864:\tlearn: 9.9996487\ttotal: 1.42s\tremaining: 222ms\n",
      "865:\tlearn: 9.9914210\ttotal: 1.42s\tremaining: 220ms\n",
      "866:\tlearn: 9.9841929\ttotal: 1.42s\tremaining: 218ms\n",
      "867:\tlearn: 9.9834570\ttotal: 1.42s\tremaining: 217ms\n",
      "868:\tlearn: 9.9827070\ttotal: 1.43s\tremaining: 215ms\n",
      "869:\tlearn: 9.9768328\ttotal: 1.43s\tremaining: 213ms\n",
      "870:\tlearn: 9.9709499\ttotal: 1.43s\tremaining: 212ms\n",
      "871:\tlearn: 9.9687095\ttotal: 1.43s\tremaining: 210ms\n",
      "872:\tlearn: 9.9653033\ttotal: 1.43s\tremaining: 208ms\n",
      "873:\tlearn: 9.9645622\ttotal: 1.43s\tremaining: 207ms\n",
      "874:\tlearn: 9.9581517\ttotal: 1.43s\tremaining: 205ms\n",
      "875:\tlearn: 9.9565467\ttotal: 1.44s\tremaining: 203ms\n",
      "876:\tlearn: 9.9558541\ttotal: 1.44s\tremaining: 202ms\n",
      "877:\tlearn: 9.9551142\ttotal: 1.44s\tremaining: 200ms\n",
      "878:\tlearn: 9.9543570\ttotal: 1.44s\tremaining: 198ms\n",
      "879:\tlearn: 9.9527422\ttotal: 1.44s\tremaining: 197ms\n",
      "880:\tlearn: 9.9521368\ttotal: 1.44s\tremaining: 195ms\n",
      "881:\tlearn: 9.9480983\ttotal: 1.44s\tremaining: 193ms\n",
      "882:\tlearn: 9.9446116\ttotal: 1.45s\tremaining: 192ms\n",
      "883:\tlearn: 9.9400413\ttotal: 1.45s\tremaining: 190ms\n",
      "884:\tlearn: 9.9372448\ttotal: 1.45s\tremaining: 188ms\n",
      "885:\tlearn: 9.9323340\ttotal: 1.45s\tremaining: 187ms\n",
      "886:\tlearn: 9.9294282\ttotal: 1.45s\tremaining: 185ms\n",
      "887:\tlearn: 9.9240147\ttotal: 1.45s\tremaining: 183ms\n",
      "888:\tlearn: 9.9130104\ttotal: 1.46s\tremaining: 182ms\n",
      "889:\tlearn: 9.9064429\ttotal: 1.46s\tremaining: 180ms\n",
      "890:\tlearn: 9.8987287\ttotal: 1.46s\tremaining: 178ms\n",
      "891:\tlearn: 9.8949431\ttotal: 1.46s\tremaining: 177ms\n",
      "892:\tlearn: 9.8884208\ttotal: 1.46s\tremaining: 175ms\n",
      "893:\tlearn: 9.8868779\ttotal: 1.46s\tremaining: 173ms\n",
      "894:\tlearn: 9.8820396\ttotal: 1.46s\tremaining: 172ms\n",
      "895:\tlearn: 9.8772147\ttotal: 1.47s\tremaining: 170ms\n",
      "896:\tlearn: 9.8704016\ttotal: 1.47s\tremaining: 169ms\n",
      "897:\tlearn: 9.8615480\ttotal: 1.47s\tremaining: 167ms\n",
      "898:\tlearn: 9.8599488\ttotal: 1.47s\tremaining: 165ms\n",
      "899:\tlearn: 9.8533225\ttotal: 1.47s\tremaining: 164ms\n",
      "900:\tlearn: 9.8465037\ttotal: 1.47s\tremaining: 162ms\n",
      "901:\tlearn: 9.8400961\ttotal: 1.48s\tremaining: 160ms\n",
      "902:\tlearn: 9.8342646\ttotal: 1.48s\tremaining: 159ms\n",
      "903:\tlearn: 9.8266690\ttotal: 1.48s\tremaining: 157ms\n",
      "904:\tlearn: 9.8214210\ttotal: 1.48s\tremaining: 155ms\n",
      "905:\tlearn: 9.8148972\ttotal: 1.48s\tremaining: 154ms\n",
      "906:\tlearn: 9.8099034\ttotal: 1.48s\tremaining: 152ms\n",
      "907:\tlearn: 9.8053825\ttotal: 1.49s\tremaining: 150ms\n",
      "908:\tlearn: 9.7996247\ttotal: 1.49s\tremaining: 149ms\n",
      "909:\tlearn: 9.7960789\ttotal: 1.49s\tremaining: 147ms\n",
      "910:\tlearn: 9.7868610\ttotal: 1.49s\tremaining: 146ms\n",
      "911:\tlearn: 9.7862487\ttotal: 1.49s\tremaining: 144ms\n",
      "912:\tlearn: 9.7785412\ttotal: 1.49s\tremaining: 142ms\n",
      "913:\tlearn: 9.7717048\ttotal: 1.5s\tremaining: 141ms\n",
      "914:\tlearn: 9.7630418\ttotal: 1.5s\tremaining: 139ms\n",
      "915:\tlearn: 9.7623512\ttotal: 1.5s\tremaining: 137ms\n",
      "916:\tlearn: 9.7535969\ttotal: 1.5s\tremaining: 136ms\n",
      "917:\tlearn: 9.7445765\ttotal: 1.5s\tremaining: 134ms\n",
      "918:\tlearn: 9.7366386\ttotal: 1.5s\tremaining: 133ms\n",
      "919:\tlearn: 9.7307465\ttotal: 1.51s\tremaining: 131ms\n",
      "920:\tlearn: 9.7247098\ttotal: 1.51s\tremaining: 129ms\n",
      "921:\tlearn: 9.7200569\ttotal: 1.51s\tremaining: 128ms\n",
      "922:\tlearn: 9.7125519\ttotal: 1.51s\tremaining: 126ms\n",
      "923:\tlearn: 9.7065018\ttotal: 1.51s\tremaining: 124ms\n",
      "924:\tlearn: 9.6950724\ttotal: 1.51s\tremaining: 123ms\n",
      "925:\tlearn: 9.6903044\ttotal: 1.51s\tremaining: 121ms\n",
      "926:\tlearn: 9.6896245\ttotal: 1.52s\tremaining: 119ms\n",
      "927:\tlearn: 9.6787585\ttotal: 1.52s\tremaining: 118ms\n",
      "928:\tlearn: 9.6704219\ttotal: 1.52s\tremaining: 116ms\n",
      "929:\tlearn: 9.6670450\ttotal: 1.52s\tremaining: 115ms\n",
      "930:\tlearn: 9.6597120\ttotal: 1.52s\tremaining: 113ms\n",
      "931:\tlearn: 9.6550627\ttotal: 1.52s\tremaining: 111ms\n",
      "932:\tlearn: 9.6542731\ttotal: 1.53s\tremaining: 110ms\n",
      "933:\tlearn: 9.6472472\ttotal: 1.53s\tremaining: 108ms\n",
      "934:\tlearn: 9.6443970\ttotal: 1.53s\tremaining: 106ms\n",
      "935:\tlearn: 9.6373874\ttotal: 1.53s\tremaining: 105ms\n",
      "936:\tlearn: 9.6357364\ttotal: 1.53s\tremaining: 103ms\n",
      "937:\tlearn: 9.6273640\ttotal: 1.53s\tremaining: 101ms\n",
      "938:\tlearn: 9.6267356\ttotal: 1.54s\tremaining: 99.8ms\n",
      "939:\tlearn: 9.6224834\ttotal: 1.54s\tremaining: 98.2ms\n",
      "940:\tlearn: 9.6156561\ttotal: 1.54s\tremaining: 96.5ms\n",
      "941:\tlearn: 9.6105583\ttotal: 1.54s\tremaining: 94.9ms\n",
      "942:\tlearn: 9.6032124\ttotal: 1.54s\tremaining: 93.3ms\n",
      "943:\tlearn: 9.5977437\ttotal: 1.54s\tremaining: 91.6ms\n",
      "944:\tlearn: 9.5936763\ttotal: 1.55s\tremaining: 90ms\n",
      "945:\tlearn: 9.5880132\ttotal: 1.55s\tremaining: 88.4ms\n",
      "946:\tlearn: 9.5803730\ttotal: 1.55s\tremaining: 86.7ms\n",
      "947:\tlearn: 9.5723143\ttotal: 1.55s\tremaining: 85.1ms\n",
      "948:\tlearn: 9.5681992\ttotal: 1.55s\tremaining: 83.5ms\n",
      "949:\tlearn: 9.5615694\ttotal: 1.55s\tremaining: 81.8ms\n",
      "950:\tlearn: 9.5538222\ttotal: 1.56s\tremaining: 80.2ms\n",
      "951:\tlearn: 9.5455645\ttotal: 1.56s\tremaining: 78.6ms\n",
      "952:\tlearn: 9.5434105\ttotal: 1.56s\tremaining: 77ms\n",
      "953:\tlearn: 9.5408887\ttotal: 1.56s\tremaining: 75.3ms\n",
      "954:\tlearn: 9.5402378\ttotal: 1.56s\tremaining: 73.7ms\n",
      "955:\tlearn: 9.5346364\ttotal: 1.56s\tremaining: 72ms\n",
      "956:\tlearn: 9.5281105\ttotal: 1.57s\tremaining: 70.4ms\n",
      "957:\tlearn: 9.5231871\ttotal: 1.57s\tremaining: 68.8ms\n",
      "958:\tlearn: 9.5217329\ttotal: 1.57s\tremaining: 67.1ms\n",
      "959:\tlearn: 9.5114235\ttotal: 1.57s\tremaining: 65.5ms\n",
      "960:\tlearn: 9.5071238\ttotal: 1.57s\tremaining: 63.8ms\n",
      "961:\tlearn: 9.5005481\ttotal: 1.57s\tremaining: 62.2ms\n",
      "962:\tlearn: 9.4973396\ttotal: 1.58s\tremaining: 60.6ms\n",
      "963:\tlearn: 9.4892844\ttotal: 1.58s\tremaining: 58.9ms\n",
      "964:\tlearn: 9.4855510\ttotal: 1.58s\tremaining: 57.3ms\n",
      "965:\tlearn: 9.4807954\ttotal: 1.58s\tremaining: 55.6ms\n",
      "966:\tlearn: 9.4701145\ttotal: 1.58s\tremaining: 54ms\n",
      "967:\tlearn: 9.4628231\ttotal: 1.58s\tremaining: 52.4ms\n",
      "968:\tlearn: 9.4575110\ttotal: 1.58s\tremaining: 50.7ms\n",
      "969:\tlearn: 9.4558466\ttotal: 1.59s\tremaining: 49.1ms\n",
      "970:\tlearn: 9.4513892\ttotal: 1.59s\tremaining: 47.4ms\n",
      "971:\tlearn: 9.4507381\ttotal: 1.59s\tremaining: 45.8ms\n",
      "972:\tlearn: 9.4492680\ttotal: 1.59s\tremaining: 44.2ms\n",
      "973:\tlearn: 9.4448323\ttotal: 1.59s\tremaining: 42.5ms\n",
      "974:\tlearn: 9.4434088\ttotal: 1.59s\tremaining: 40.9ms\n",
      "975:\tlearn: 9.4388477\ttotal: 1.59s\tremaining: 39.2ms\n",
      "976:\tlearn: 9.4321233\ttotal: 1.6s\tremaining: 37.6ms\n",
      "977:\tlearn: 9.4267261\ttotal: 1.6s\tremaining: 36ms\n",
      "978:\tlearn: 9.4193883\ttotal: 1.6s\tremaining: 34.3ms\n",
      "979:\tlearn: 9.4178427\ttotal: 1.6s\tremaining: 32.7ms\n",
      "980:\tlearn: 9.4158867\ttotal: 1.6s\tremaining: 31.1ms\n",
      "981:\tlearn: 9.4131361\ttotal: 1.6s\tremaining: 29.4ms\n",
      "982:\tlearn: 9.4124363\ttotal: 1.61s\tremaining: 27.8ms\n",
      "983:\tlearn: 9.4048009\ttotal: 1.61s\tremaining: 26.1ms\n",
      "984:\tlearn: 9.3980550\ttotal: 1.61s\tremaining: 24.5ms\n",
      "985:\tlearn: 9.3974249\ttotal: 1.61s\tremaining: 22.9ms\n",
      "986:\tlearn: 9.3937699\ttotal: 1.61s\tremaining: 21.2ms\n",
      "987:\tlearn: 9.3862850\ttotal: 1.61s\tremaining: 19.6ms\n",
      "988:\tlearn: 9.3790071\ttotal: 1.61s\tremaining: 18ms\n",
      "989:\tlearn: 9.3773512\ttotal: 1.62s\tremaining: 16.3ms\n",
      "990:\tlearn: 9.3684497\ttotal: 1.62s\tremaining: 14.7ms\n",
      "991:\tlearn: 9.3670476\ttotal: 1.62s\tremaining: 13.1ms\n",
      "992:\tlearn: 9.3628055\ttotal: 1.62s\tremaining: 11.4ms\n",
      "993:\tlearn: 9.3621207\ttotal: 1.62s\tremaining: 9.8ms\n",
      "994:\tlearn: 9.3615317\ttotal: 1.62s\tremaining: 8.16ms\n",
      "995:\tlearn: 9.3571404\ttotal: 1.63s\tremaining: 6.53ms\n",
      "996:\tlearn: 9.3477769\ttotal: 1.63s\tremaining: 4.9ms\n",
      "997:\tlearn: 9.3404018\ttotal: 1.63s\tremaining: 3.26ms\n",
      "998:\tlearn: 9.3305327\ttotal: 1.63s\tremaining: 1.63ms\n",
      "999:\tlearn: 9.3216274\ttotal: 1.63s\tremaining: 0us\n",
      "0:\tlearn: 31.6039032\ttotal: 2.43ms\tremaining: 2.43s\n",
      "1:\tlearn: 31.2677393\ttotal: 4.61ms\tremaining: 2.3s\n",
      "2:\tlearn: 30.9060338\ttotal: 6.86ms\tremaining: 2.28s\n",
      "3:\tlearn: 30.5232609\ttotal: 8.97ms\tremaining: 2.23s\n",
      "4:\tlearn: 30.1937186\ttotal: 11ms\tremaining: 2.19s\n",
      "5:\tlearn: 29.8770547\ttotal: 13ms\tremaining: 2.15s\n",
      "6:\tlearn: 29.5518713\ttotal: 15ms\tremaining: 2.13s\n",
      "7:\tlearn: 29.2642544\ttotal: 17ms\tremaining: 2.11s\n",
      "8:\tlearn: 28.9601261\ttotal: 19.6ms\tremaining: 2.16s\n",
      "9:\tlearn: 28.6924543\ttotal: 21.5ms\tremaining: 2.12s\n",
      "10:\tlearn: 28.4048537\ttotal: 23.5ms\tremaining: 2.11s\n",
      "11:\tlearn: 28.1490411\ttotal: 25.6ms\tremaining: 2.1s\n",
      "12:\tlearn: 27.8542318\ttotal: 27.5ms\tremaining: 2.09s\n",
      "13:\tlearn: 27.6222480\ttotal: 29.6ms\tremaining: 2.08s\n",
      "14:\tlearn: 27.3747922\ttotal: 31.7ms\tremaining: 2.08s\n",
      "15:\tlearn: 27.1471606\ttotal: 33.8ms\tremaining: 2.08s\n",
      "16:\tlearn: 26.9114465\ttotal: 35.8ms\tremaining: 2.07s\n",
      "17:\tlearn: 26.7025101\ttotal: 37.9ms\tremaining: 2.06s\n",
      "18:\tlearn: 26.4734465\ttotal: 40ms\tremaining: 2.07s\n",
      "19:\tlearn: 26.2652497\ttotal: 42.1ms\tremaining: 2.06s\n",
      "20:\tlearn: 26.0389865\ttotal: 44.1ms\tremaining: 2.06s\n",
      "21:\tlearn: 25.8537180\ttotal: 46.2ms\tremaining: 2.05s\n",
      "22:\tlearn: 25.6659224\ttotal: 48.1ms\tremaining: 2.04s\n",
      "23:\tlearn: 25.5044326\ttotal: 50.2ms\tremaining: 2.04s\n",
      "24:\tlearn: 25.3152135\ttotal: 52.2ms\tremaining: 2.04s\n",
      "25:\tlearn: 25.1521191\ttotal: 54.2ms\tremaining: 2.03s\n",
      "26:\tlearn: 25.0089232\ttotal: 56.2ms\tremaining: 2.03s\n",
      "27:\tlearn: 24.8569570\ttotal: 58.2ms\tremaining: 2.02s\n",
      "28:\tlearn: 24.7029267\ttotal: 60.2ms\tremaining: 2.02s\n",
      "29:\tlearn: 24.5513845\ttotal: 62.2ms\tremaining: 2.01s\n",
      "30:\tlearn: 24.4236811\ttotal: 64.6ms\tremaining: 2.02s\n",
      "31:\tlearn: 24.3054283\ttotal: 66.8ms\tremaining: 2.02s\n",
      "32:\tlearn: 24.1997829\ttotal: 68.8ms\tremaining: 2.02s\n",
      "33:\tlearn: 24.0600490\ttotal: 70.8ms\tremaining: 2.01s\n",
      "34:\tlearn: 23.9425452\ttotal: 72.9ms\tremaining: 2.01s\n",
      "35:\tlearn: 23.8387993\ttotal: 75ms\tremaining: 2.01s\n",
      "36:\tlearn: 23.7383651\ttotal: 77.1ms\tremaining: 2.01s\n",
      "37:\tlearn: 23.6232058\ttotal: 79.1ms\tremaining: 2s\n",
      "38:\tlearn: 23.5062555\ttotal: 81.3ms\tremaining: 2s\n",
      "39:\tlearn: 23.3852168\ttotal: 83.5ms\tremaining: 2s\n",
      "40:\tlearn: 23.2707541\ttotal: 85.6ms\tremaining: 2s\n",
      "41:\tlearn: 23.1824350\ttotal: 87.6ms\tremaining: 2s\n",
      "42:\tlearn: 23.0597975\ttotal: 90ms\tremaining: 2s\n",
      "43:\tlearn: 22.9861108\ttotal: 92ms\tremaining: 2s\n",
      "44:\tlearn: 22.8881271\ttotal: 94.1ms\tremaining: 2s\n",
      "45:\tlearn: 22.7989413\ttotal: 96.3ms\tremaining: 2s\n",
      "46:\tlearn: 22.7148679\ttotal: 98.5ms\tremaining: 2s\n",
      "47:\tlearn: 22.6438530\ttotal: 101ms\tremaining: 2s\n",
      "48:\tlearn: 22.5707143\ttotal: 103ms\tremaining: 1.99s\n",
      "49:\tlearn: 22.5050120\ttotal: 105ms\tremaining: 1.99s\n",
      "50:\tlearn: 22.4245185\ttotal: 107ms\tremaining: 1.99s\n",
      "51:\tlearn: 22.3613250\ttotal: 109ms\tremaining: 1.99s\n",
      "52:\tlearn: 22.2901233\ttotal: 111ms\tremaining: 1.98s\n",
      "53:\tlearn: 22.2273513\ttotal: 113ms\tremaining: 1.98s\n",
      "54:\tlearn: 22.1763761\ttotal: 115ms\tremaining: 1.98s\n",
      "55:\tlearn: 22.1171266\ttotal: 117ms\tremaining: 1.98s\n",
      "56:\tlearn: 22.0310778\ttotal: 119ms\tremaining: 1.97s\n",
      "57:\tlearn: 21.9689490\ttotal: 122ms\tremaining: 1.98s\n",
      "58:\tlearn: 21.9013913\ttotal: 124ms\tremaining: 1.97s\n",
      "59:\tlearn: 21.8368897\ttotal: 126ms\tremaining: 1.97s\n",
      "60:\tlearn: 21.7690407\ttotal: 128ms\tremaining: 1.97s\n",
      "61:\tlearn: 21.7153530\ttotal: 130ms\tremaining: 1.97s\n",
      "62:\tlearn: 21.6601720\ttotal: 132ms\tremaining: 1.97s\n",
      "63:\tlearn: 21.6057229\ttotal: 135ms\tremaining: 1.97s\n",
      "64:\tlearn: 21.5498743\ttotal: 137ms\tremaining: 1.97s\n",
      "65:\tlearn: 21.5078805\ttotal: 139ms\tremaining: 1.96s\n",
      "66:\tlearn: 21.4581536\ttotal: 141ms\tremaining: 1.96s\n",
      "67:\tlearn: 21.4103703\ttotal: 143ms\tremaining: 1.96s\n",
      "68:\tlearn: 21.3608326\ttotal: 145ms\tremaining: 1.96s\n",
      "69:\tlearn: 21.3202345\ttotal: 147ms\tremaining: 1.95s\n",
      "70:\tlearn: 21.2665472\ttotal: 149ms\tremaining: 1.95s\n",
      "71:\tlearn: 21.2258317\ttotal: 151ms\tremaining: 1.95s\n",
      "72:\tlearn: 21.1758791\ttotal: 153ms\tremaining: 1.95s\n",
      "73:\tlearn: 21.1377089\ttotal: 155ms\tremaining: 1.95s\n",
      "74:\tlearn: 21.0901073\ttotal: 158ms\tremaining: 1.94s\n",
      "75:\tlearn: 21.0393508\ttotal: 160ms\tremaining: 1.94s\n",
      "76:\tlearn: 20.9916351\ttotal: 161ms\tremaining: 1.94s\n",
      "77:\tlearn: 20.9471169\ttotal: 164ms\tremaining: 1.93s\n",
      "78:\tlearn: 20.9082307\ttotal: 166ms\tremaining: 1.93s\n",
      "79:\tlearn: 20.8764566\ttotal: 168ms\tremaining: 1.93s\n",
      "80:\tlearn: 20.8324279\ttotal: 170ms\tremaining: 1.93s\n",
      "81:\tlearn: 20.7874590\ttotal: 173ms\tremaining: 1.93s\n",
      "82:\tlearn: 20.7520176\ttotal: 175ms\tremaining: 1.93s\n",
      "83:\tlearn: 20.7128600\ttotal: 177ms\tremaining: 1.93s\n",
      "84:\tlearn: 20.6791495\ttotal: 179ms\tremaining: 1.92s\n",
      "85:\tlearn: 20.6381996\ttotal: 181ms\tremaining: 1.92s\n",
      "86:\tlearn: 20.6079202\ttotal: 182ms\tremaining: 1.91s\n",
      "87:\tlearn: 20.5763799\ttotal: 184ms\tremaining: 1.91s\n",
      "88:\tlearn: 20.5394885\ttotal: 186ms\tremaining: 1.91s\n",
      "89:\tlearn: 20.5022063\ttotal: 188ms\tremaining: 1.9s\n",
      "90:\tlearn: 20.4716324\ttotal: 191ms\tremaining: 1.9s\n",
      "91:\tlearn: 20.4515742\ttotal: 193ms\tremaining: 1.9s\n",
      "92:\tlearn: 20.4237733\ttotal: 195ms\tremaining: 1.9s\n",
      "93:\tlearn: 20.3848299\ttotal: 197ms\tremaining: 1.9s\n",
      "94:\tlearn: 20.3557564\ttotal: 199ms\tremaining: 1.89s\n",
      "95:\tlearn: 20.3256811\ttotal: 201ms\tremaining: 1.89s\n",
      "96:\tlearn: 20.2959042\ttotal: 203ms\tremaining: 1.89s\n",
      "97:\tlearn: 20.2735653\ttotal: 205ms\tremaining: 1.89s\n",
      "98:\tlearn: 20.2492846\ttotal: 207ms\tremaining: 1.88s\n",
      "99:\tlearn: 20.2297992\ttotal: 209ms\tremaining: 1.88s\n",
      "100:\tlearn: 20.2019251\ttotal: 211ms\tremaining: 1.88s\n",
      "101:\tlearn: 20.1698502\ttotal: 213ms\tremaining: 1.87s\n",
      "102:\tlearn: 20.1475322\ttotal: 215ms\tremaining: 1.87s\n",
      "103:\tlearn: 20.1266124\ttotal: 217ms\tremaining: 1.87s\n",
      "104:\tlearn: 20.1002819\ttotal: 219ms\tremaining: 1.86s\n",
      "105:\tlearn: 20.0654044\ttotal: 221ms\tremaining: 1.86s\n",
      "106:\tlearn: 20.0293670\ttotal: 223ms\tremaining: 1.86s\n",
      "107:\tlearn: 20.0102528\ttotal: 225ms\tremaining: 1.86s\n",
      "108:\tlearn: 19.9988046\ttotal: 227ms\tremaining: 1.85s\n",
      "109:\tlearn: 19.9818383\ttotal: 229ms\tremaining: 1.86s\n",
      "110:\tlearn: 19.9483286\ttotal: 233ms\tremaining: 1.86s\n",
      "111:\tlearn: 19.9263026\ttotal: 235ms\tremaining: 1.87s\n",
      "112:\tlearn: 19.9034149\ttotal: 238ms\tremaining: 1.87s\n",
      "113:\tlearn: 19.8813281\ttotal: 240ms\tremaining: 1.87s\n",
      "114:\tlearn: 19.8510417\ttotal: 244ms\tremaining: 1.87s\n",
      "115:\tlearn: 19.8282541\ttotal: 247ms\tremaining: 1.88s\n",
      "116:\tlearn: 19.8129027\ttotal: 250ms\tremaining: 1.89s\n",
      "117:\tlearn: 19.7859997\ttotal: 253ms\tremaining: 1.89s\n",
      "118:\tlearn: 19.7759790\ttotal: 256ms\tremaining: 1.89s\n",
      "119:\tlearn: 19.7462577\ttotal: 259ms\tremaining: 1.9s\n",
      "120:\tlearn: 19.7290710\ttotal: 262ms\tremaining: 1.9s\n",
      "121:\tlearn: 19.7027448\ttotal: 265ms\tremaining: 1.91s\n",
      "122:\tlearn: 19.6869753\ttotal: 267ms\tremaining: 1.9s\n",
      "123:\tlearn: 19.6665512\ttotal: 269ms\tremaining: 1.9s\n",
      "124:\tlearn: 19.6527343\ttotal: 271ms\tremaining: 1.9s\n",
      "125:\tlearn: 19.6344756\ttotal: 273ms\tremaining: 1.9s\n",
      "126:\tlearn: 19.6161601\ttotal: 275ms\tremaining: 1.89s\n",
      "127:\tlearn: 19.6030135\ttotal: 277ms\tremaining: 1.89s\n",
      "128:\tlearn: 19.5823660\ttotal: 279ms\tremaining: 1.89s\n",
      "129:\tlearn: 19.5578378\ttotal: 281ms\tremaining: 1.88s\n",
      "130:\tlearn: 19.5423247\ttotal: 284ms\tremaining: 1.88s\n",
      "131:\tlearn: 19.5238647\ttotal: 286ms\tremaining: 1.88s\n",
      "132:\tlearn: 19.5060625\ttotal: 288ms\tremaining: 1.88s\n",
      "133:\tlearn: 19.4931499\ttotal: 290ms\tremaining: 1.87s\n",
      "134:\tlearn: 19.4748583\ttotal: 292ms\tremaining: 1.87s\n",
      "135:\tlearn: 19.4524176\ttotal: 294ms\tremaining: 1.87s\n",
      "136:\tlearn: 19.4239612\ttotal: 296ms\tremaining: 1.87s\n",
      "137:\tlearn: 19.4042450\ttotal: 298ms\tremaining: 1.86s\n",
      "138:\tlearn: 19.3860558\ttotal: 300ms\tremaining: 1.86s\n",
      "139:\tlearn: 19.3657461\ttotal: 302ms\tremaining: 1.86s\n",
      "140:\tlearn: 19.3401858\ttotal: 304ms\tremaining: 1.85s\n",
      "141:\tlearn: 19.3145315\ttotal: 306ms\tremaining: 1.85s\n",
      "142:\tlearn: 19.3024036\ttotal: 308ms\tremaining: 1.85s\n",
      "143:\tlearn: 19.2833955\ttotal: 310ms\tremaining: 1.84s\n",
      "144:\tlearn: 19.2546640\ttotal: 312ms\tremaining: 1.84s\n",
      "145:\tlearn: 19.2395392\ttotal: 314ms\tremaining: 1.84s\n",
      "146:\tlearn: 19.2271070\ttotal: 316ms\tremaining: 1.83s\n",
      "147:\tlearn: 19.2080981\ttotal: 318ms\tremaining: 1.83s\n",
      "148:\tlearn: 19.1886226\ttotal: 320ms\tremaining: 1.83s\n",
      "149:\tlearn: 19.1760106\ttotal: 322ms\tremaining: 1.83s\n",
      "150:\tlearn: 19.1583415\ttotal: 325ms\tremaining: 1.82s\n",
      "151:\tlearn: 19.1451147\ttotal: 327ms\tremaining: 1.82s\n",
      "152:\tlearn: 19.1294417\ttotal: 329ms\tremaining: 1.82s\n",
      "153:\tlearn: 19.1108990\ttotal: 331ms\tremaining: 1.82s\n",
      "154:\tlearn: 19.0987534\ttotal: 333ms\tremaining: 1.81s\n",
      "155:\tlearn: 19.0828696\ttotal: 335ms\tremaining: 1.81s\n",
      "156:\tlearn: 19.0708765\ttotal: 339ms\tremaining: 1.82s\n",
      "157:\tlearn: 19.0612042\ttotal: 342ms\tremaining: 1.82s\n",
      "158:\tlearn: 19.0405927\ttotal: 345ms\tremaining: 1.82s\n",
      "159:\tlearn: 19.0340372\ttotal: 347ms\tremaining: 1.82s\n",
      "160:\tlearn: 19.0202346\ttotal: 349ms\tremaining: 1.82s\n",
      "161:\tlearn: 19.0078397\ttotal: 351ms\tremaining: 1.82s\n",
      "162:\tlearn: 18.9912875\ttotal: 354ms\tremaining: 1.81s\n",
      "163:\tlearn: 18.9764544\ttotal: 356ms\tremaining: 1.81s\n",
      "164:\tlearn: 18.9621102\ttotal: 358ms\tremaining: 1.81s\n",
      "165:\tlearn: 18.9448691\ttotal: 360ms\tremaining: 1.81s\n",
      "166:\tlearn: 18.9291825\ttotal: 362ms\tremaining: 1.8s\n",
      "167:\tlearn: 18.9131004\ttotal: 364ms\tremaining: 1.8s\n",
      "168:\tlearn: 18.9035895\ttotal: 367ms\tremaining: 1.8s\n",
      "169:\tlearn: 18.8919220\ttotal: 369ms\tremaining: 1.8s\n",
      "170:\tlearn: 18.8735893\ttotal: 371ms\tremaining: 1.8s\n",
      "171:\tlearn: 18.8573340\ttotal: 373ms\tremaining: 1.8s\n",
      "172:\tlearn: 18.8464800\ttotal: 376ms\tremaining: 1.79s\n",
      "173:\tlearn: 18.8362307\ttotal: 378ms\tremaining: 1.79s\n",
      "174:\tlearn: 18.8271556\ttotal: 380ms\tremaining: 1.79s\n",
      "175:\tlearn: 18.8125812\ttotal: 382ms\tremaining: 1.79s\n",
      "176:\tlearn: 18.8026053\ttotal: 384ms\tremaining: 1.79s\n",
      "177:\tlearn: 18.7938561\ttotal: 386ms\tremaining: 1.78s\n",
      "178:\tlearn: 18.7779447\ttotal: 389ms\tremaining: 1.78s\n",
      "179:\tlearn: 18.7665605\ttotal: 391ms\tremaining: 1.78s\n",
      "180:\tlearn: 18.7561708\ttotal: 393ms\tremaining: 1.78s\n",
      "181:\tlearn: 18.7434264\ttotal: 395ms\tremaining: 1.77s\n",
      "182:\tlearn: 18.7277032\ttotal: 397ms\tremaining: 1.77s\n",
      "183:\tlearn: 18.7082884\ttotal: 399ms\tremaining: 1.77s\n",
      "184:\tlearn: 18.6930884\ttotal: 401ms\tremaining: 1.77s\n",
      "185:\tlearn: 18.6844663\ttotal: 403ms\tremaining: 1.76s\n",
      "186:\tlearn: 18.6666765\ttotal: 406ms\tremaining: 1.76s\n",
      "187:\tlearn: 18.6552986\ttotal: 408ms\tremaining: 1.76s\n",
      "188:\tlearn: 18.6440796\ttotal: 410ms\tremaining: 1.76s\n",
      "189:\tlearn: 18.6294508\ttotal: 412ms\tremaining: 1.75s\n",
      "190:\tlearn: 18.6148832\ttotal: 414ms\tremaining: 1.75s\n",
      "191:\tlearn: 18.5991759\ttotal: 416ms\tremaining: 1.75s\n",
      "192:\tlearn: 18.5823522\ttotal: 418ms\tremaining: 1.75s\n",
      "193:\tlearn: 18.5704914\ttotal: 420ms\tremaining: 1.75s\n",
      "194:\tlearn: 18.5564668\ttotal: 422ms\tremaining: 1.74s\n",
      "195:\tlearn: 18.5411554\ttotal: 424ms\tremaining: 1.74s\n",
      "196:\tlearn: 18.5315155\ttotal: 427ms\tremaining: 1.74s\n",
      "197:\tlearn: 18.5089700\ttotal: 429ms\tremaining: 1.74s\n",
      "198:\tlearn: 18.4924755\ttotal: 430ms\tremaining: 1.73s\n",
      "199:\tlearn: 18.4810383\ttotal: 432ms\tremaining: 1.73s\n",
      "200:\tlearn: 18.4605830\ttotal: 434ms\tremaining: 1.73s\n",
      "201:\tlearn: 18.4499153\ttotal: 436ms\tremaining: 1.72s\n",
      "202:\tlearn: 18.4386266\ttotal: 438ms\tremaining: 1.72s\n",
      "203:\tlearn: 18.4242834\ttotal: 440ms\tremaining: 1.72s\n",
      "204:\tlearn: 18.4168297\ttotal: 442ms\tremaining: 1.71s\n",
      "205:\tlearn: 18.4086140\ttotal: 444ms\tremaining: 1.71s\n",
      "206:\tlearn: 18.3941138\ttotal: 446ms\tremaining: 1.71s\n",
      "207:\tlearn: 18.3825708\ttotal: 449ms\tremaining: 1.71s\n",
      "208:\tlearn: 18.3685098\ttotal: 451ms\tremaining: 1.71s\n",
      "209:\tlearn: 18.3617396\ttotal: 453ms\tremaining: 1.7s\n",
      "210:\tlearn: 18.3496831\ttotal: 455ms\tremaining: 1.7s\n",
      "211:\tlearn: 18.3384141\ttotal: 457ms\tremaining: 1.7s\n",
      "212:\tlearn: 18.3243768\ttotal: 459ms\tremaining: 1.7s\n",
      "213:\tlearn: 18.3054348\ttotal: 461ms\tremaining: 1.69s\n",
      "214:\tlearn: 18.2938543\ttotal: 463ms\tremaining: 1.69s\n",
      "215:\tlearn: 18.2886109\ttotal: 465ms\tremaining: 1.69s\n",
      "216:\tlearn: 18.2736277\ttotal: 467ms\tremaining: 1.69s\n",
      "217:\tlearn: 18.2574849\ttotal: 469ms\tremaining: 1.68s\n",
      "218:\tlearn: 18.2487390\ttotal: 471ms\tremaining: 1.68s\n",
      "219:\tlearn: 18.2422784\ttotal: 473ms\tremaining: 1.68s\n",
      "220:\tlearn: 18.2297269\ttotal: 475ms\tremaining: 1.67s\n",
      "221:\tlearn: 18.2201037\ttotal: 477ms\tremaining: 1.67s\n",
      "222:\tlearn: 18.2071480\ttotal: 479ms\tremaining: 1.67s\n",
      "223:\tlearn: 18.1948450\ttotal: 481ms\tremaining: 1.67s\n",
      "224:\tlearn: 18.1859315\ttotal: 483ms\tremaining: 1.66s\n",
      "225:\tlearn: 18.1726068\ttotal: 485ms\tremaining: 1.66s\n",
      "226:\tlearn: 18.1582195\ttotal: 487ms\tremaining: 1.66s\n",
      "227:\tlearn: 18.1487651\ttotal: 489ms\tremaining: 1.65s\n",
      "228:\tlearn: 18.1402042\ttotal: 491ms\tremaining: 1.65s\n",
      "229:\tlearn: 18.1277677\ttotal: 493ms\tremaining: 1.65s\n",
      "230:\tlearn: 18.1187741\ttotal: 495ms\tremaining: 1.65s\n",
      "231:\tlearn: 18.1120072\ttotal: 497ms\tremaining: 1.64s\n",
      "232:\tlearn: 18.0986601\ttotal: 499ms\tremaining: 1.64s\n",
      "233:\tlearn: 18.0842332\ttotal: 501ms\tremaining: 1.64s\n",
      "234:\tlearn: 18.0725687\ttotal: 503ms\tremaining: 1.64s\n",
      "235:\tlearn: 18.0635737\ttotal: 505ms\tremaining: 1.63s\n",
      "236:\tlearn: 18.0572021\ttotal: 506ms\tremaining: 1.63s\n",
      "237:\tlearn: 18.0483021\ttotal: 508ms\tremaining: 1.63s\n",
      "238:\tlearn: 18.0378790\ttotal: 510ms\tremaining: 1.62s\n",
      "239:\tlearn: 18.0289724\ttotal: 512ms\tremaining: 1.62s\n",
      "240:\tlearn: 18.0193368\ttotal: 514ms\tremaining: 1.62s\n",
      "241:\tlearn: 18.0078540\ttotal: 516ms\tremaining: 1.61s\n",
      "242:\tlearn: 17.9893540\ttotal: 518ms\tremaining: 1.61s\n",
      "243:\tlearn: 17.9780871\ttotal: 520ms\tremaining: 1.61s\n",
      "244:\tlearn: 17.9664533\ttotal: 522ms\tremaining: 1.61s\n",
      "245:\tlearn: 17.9537100\ttotal: 524ms\tremaining: 1.61s\n",
      "246:\tlearn: 17.9438717\ttotal: 526ms\tremaining: 1.6s\n",
      "247:\tlearn: 17.9351011\ttotal: 528ms\tremaining: 1.6s\n",
      "248:\tlearn: 17.9256403\ttotal: 530ms\tremaining: 1.6s\n",
      "249:\tlearn: 17.9172674\ttotal: 533ms\tremaining: 1.6s\n",
      "250:\tlearn: 17.9113195\ttotal: 535ms\tremaining: 1.59s\n",
      "251:\tlearn: 17.9061758\ttotal: 537ms\tremaining: 1.59s\n",
      "252:\tlearn: 17.9050767\ttotal: 539ms\tremaining: 1.59s\n",
      "253:\tlearn: 17.8908503\ttotal: 541ms\tremaining: 1.59s\n",
      "254:\tlearn: 17.8771232\ttotal: 543ms\tremaining: 1.58s\n",
      "255:\tlearn: 17.8685873\ttotal: 545ms\tremaining: 1.58s\n",
      "256:\tlearn: 17.8511417\ttotal: 547ms\tremaining: 1.58s\n",
      "257:\tlearn: 17.8427643\ttotal: 549ms\tremaining: 1.58s\n",
      "258:\tlearn: 17.8327736\ttotal: 551ms\tremaining: 1.58s\n",
      "259:\tlearn: 17.8236715\ttotal: 553ms\tremaining: 1.57s\n",
      "260:\tlearn: 17.8085622\ttotal: 555ms\tremaining: 1.57s\n",
      "261:\tlearn: 17.8012111\ttotal: 557ms\tremaining: 1.57s\n",
      "262:\tlearn: 17.7974393\ttotal: 560ms\tremaining: 1.57s\n",
      "263:\tlearn: 17.7886751\ttotal: 562ms\tremaining: 1.57s\n",
      "264:\tlearn: 17.7764626\ttotal: 565ms\tremaining: 1.57s\n",
      "265:\tlearn: 17.7603140\ttotal: 567ms\tremaining: 1.56s\n",
      "266:\tlearn: 17.7530820\ttotal: 569ms\tremaining: 1.56s\n",
      "267:\tlearn: 17.7399114\ttotal: 571ms\tremaining: 1.56s\n",
      "268:\tlearn: 17.7299540\ttotal: 575ms\tremaining: 1.56s\n",
      "269:\tlearn: 17.7218624\ttotal: 577ms\tremaining: 1.56s\n",
      "270:\tlearn: 17.7136154\ttotal: 579ms\tremaining: 1.56s\n",
      "271:\tlearn: 17.7007827\ttotal: 581ms\tremaining: 1.55s\n",
      "272:\tlearn: 17.6933164\ttotal: 583ms\tremaining: 1.55s\n",
      "273:\tlearn: 17.6860846\ttotal: 585ms\tremaining: 1.55s\n",
      "274:\tlearn: 17.6708997\ttotal: 587ms\tremaining: 1.55s\n",
      "275:\tlearn: 17.6602999\ttotal: 589ms\tremaining: 1.54s\n",
      "276:\tlearn: 17.6538750\ttotal: 591ms\tremaining: 1.54s\n",
      "277:\tlearn: 17.6501434\ttotal: 593ms\tremaining: 1.54s\n",
      "278:\tlearn: 17.6404918\ttotal: 595ms\tremaining: 1.54s\n",
      "279:\tlearn: 17.6244299\ttotal: 597ms\tremaining: 1.53s\n",
      "280:\tlearn: 17.6184850\ttotal: 600ms\tremaining: 1.54s\n",
      "281:\tlearn: 17.6140856\ttotal: 604ms\tremaining: 1.54s\n",
      "282:\tlearn: 17.6130551\ttotal: 606ms\tremaining: 1.54s\n",
      "283:\tlearn: 17.5973271\ttotal: 608ms\tremaining: 1.53s\n",
      "284:\tlearn: 17.5865398\ttotal: 610ms\tremaining: 1.53s\n",
      "285:\tlearn: 17.5770949\ttotal: 612ms\tremaining: 1.53s\n",
      "286:\tlearn: 17.5647795\ttotal: 615ms\tremaining: 1.53s\n",
      "287:\tlearn: 17.5580389\ttotal: 617ms\tremaining: 1.52s\n",
      "288:\tlearn: 17.5440317\ttotal: 619ms\tremaining: 1.52s\n",
      "289:\tlearn: 17.5346733\ttotal: 621ms\tremaining: 1.52s\n",
      "290:\tlearn: 17.5215043\ttotal: 623ms\tremaining: 1.52s\n",
      "291:\tlearn: 17.5124416\ttotal: 625ms\tremaining: 1.51s\n",
      "292:\tlearn: 17.4952247\ttotal: 626ms\tremaining: 1.51s\n",
      "293:\tlearn: 17.4894476\ttotal: 628ms\tremaining: 1.51s\n",
      "294:\tlearn: 17.4788825\ttotal: 630ms\tremaining: 1.51s\n",
      "295:\tlearn: 17.4685540\ttotal: 632ms\tremaining: 1.5s\n",
      "296:\tlearn: 17.4594673\ttotal: 634ms\tremaining: 1.5s\n",
      "297:\tlearn: 17.4492710\ttotal: 636ms\tremaining: 1.5s\n",
      "298:\tlearn: 17.4480491\ttotal: 639ms\tremaining: 1.5s\n",
      "299:\tlearn: 17.4325144\ttotal: 641ms\tremaining: 1.49s\n",
      "300:\tlearn: 17.4252678\ttotal: 643ms\tremaining: 1.49s\n",
      "301:\tlearn: 17.4242471\ttotal: 645ms\tremaining: 1.49s\n",
      "302:\tlearn: 17.4230545\ttotal: 647ms\tremaining: 1.49s\n",
      "303:\tlearn: 17.4218416\ttotal: 649ms\tremaining: 1.49s\n",
      "304:\tlearn: 17.4052678\ttotal: 651ms\tremaining: 1.48s\n",
      "305:\tlearn: 17.3974703\ttotal: 653ms\tremaining: 1.48s\n",
      "306:\tlearn: 17.3882817\ttotal: 655ms\tremaining: 1.48s\n",
      "307:\tlearn: 17.3715724\ttotal: 657ms\tremaining: 1.48s\n",
      "308:\tlearn: 17.3645973\ttotal: 659ms\tremaining: 1.47s\n",
      "309:\tlearn: 17.3507062\ttotal: 662ms\tremaining: 1.47s\n",
      "310:\tlearn: 17.3389212\ttotal: 664ms\tremaining: 1.47s\n",
      "311:\tlearn: 17.3334611\ttotal: 666ms\tremaining: 1.47s\n",
      "312:\tlearn: 17.3183473\ttotal: 668ms\tremaining: 1.47s\n",
      "313:\tlearn: 17.3172826\ttotal: 670ms\tremaining: 1.46s\n",
      "314:\tlearn: 17.3099899\ttotal: 672ms\tremaining: 1.46s\n",
      "315:\tlearn: 17.2954464\ttotal: 674ms\tremaining: 1.46s\n",
      "316:\tlearn: 17.2841975\ttotal: 676ms\tremaining: 1.46s\n",
      "317:\tlearn: 17.2732586\ttotal: 678ms\tremaining: 1.45s\n",
      "318:\tlearn: 17.2609619\ttotal: 680ms\tremaining: 1.45s\n",
      "319:\tlearn: 17.2501621\ttotal: 682ms\tremaining: 1.45s\n",
      "320:\tlearn: 17.2456529\ttotal: 684ms\tremaining: 1.45s\n",
      "321:\tlearn: 17.2299508\ttotal: 686ms\tremaining: 1.44s\n",
      "322:\tlearn: 17.2201778\ttotal: 688ms\tremaining: 1.44s\n",
      "323:\tlearn: 17.2094899\ttotal: 690ms\tremaining: 1.44s\n",
      "324:\tlearn: 17.2019023\ttotal: 692ms\tremaining: 1.44s\n",
      "325:\tlearn: 17.2007970\ttotal: 694ms\tremaining: 1.44s\n",
      "326:\tlearn: 17.1997480\ttotal: 696ms\tremaining: 1.43s\n",
      "327:\tlearn: 17.1821108\ttotal: 698ms\tremaining: 1.43s\n",
      "328:\tlearn: 17.1811762\ttotal: 701ms\tremaining: 1.43s\n",
      "329:\tlearn: 17.1704230\ttotal: 703ms\tremaining: 1.43s\n",
      "330:\tlearn: 17.1629121\ttotal: 705ms\tremaining: 1.42s\n",
      "331:\tlearn: 17.1531281\ttotal: 707ms\tremaining: 1.42s\n",
      "332:\tlearn: 17.1468009\ttotal: 709ms\tremaining: 1.42s\n",
      "333:\tlearn: 17.1333180\ttotal: 711ms\tremaining: 1.42s\n",
      "334:\tlearn: 17.1261661\ttotal: 713ms\tremaining: 1.42s\n",
      "335:\tlearn: 17.1133910\ttotal: 715ms\tremaining: 1.41s\n",
      "336:\tlearn: 17.1037328\ttotal: 717ms\tremaining: 1.41s\n",
      "337:\tlearn: 17.1027140\ttotal: 719ms\tremaining: 1.41s\n",
      "338:\tlearn: 17.0924447\ttotal: 721ms\tremaining: 1.41s\n",
      "339:\tlearn: 17.0832783\ttotal: 723ms\tremaining: 1.4s\n",
      "340:\tlearn: 17.0822272\ttotal: 725ms\tremaining: 1.4s\n",
      "341:\tlearn: 17.0698537\ttotal: 727ms\tremaining: 1.4s\n",
      "342:\tlearn: 17.0688235\ttotal: 730ms\tremaining: 1.4s\n",
      "343:\tlearn: 17.0586288\ttotal: 732ms\tremaining: 1.4s\n",
      "344:\tlearn: 17.0463315\ttotal: 734ms\tremaining: 1.39s\n",
      "345:\tlearn: 17.0453261\ttotal: 736ms\tremaining: 1.39s\n",
      "346:\tlearn: 17.0428441\ttotal: 738ms\tremaining: 1.39s\n",
      "347:\tlearn: 17.0351665\ttotal: 740ms\tremaining: 1.39s\n",
      "348:\tlearn: 17.0250058\ttotal: 742ms\tremaining: 1.38s\n",
      "349:\tlearn: 17.0165135\ttotal: 744ms\tremaining: 1.38s\n",
      "350:\tlearn: 17.0055783\ttotal: 746ms\tremaining: 1.38s\n",
      "351:\tlearn: 16.9925668\ttotal: 748ms\tremaining: 1.38s\n",
      "352:\tlearn: 16.9915863\ttotal: 750ms\tremaining: 1.37s\n",
      "353:\tlearn: 16.9905731\ttotal: 752ms\tremaining: 1.37s\n",
      "354:\tlearn: 16.9811337\ttotal: 754ms\tremaining: 1.37s\n",
      "355:\tlearn: 16.9695580\ttotal: 756ms\tremaining: 1.37s\n",
      "356:\tlearn: 16.9597983\ttotal: 758ms\tremaining: 1.36s\n",
      "357:\tlearn: 16.9473784\ttotal: 760ms\tremaining: 1.36s\n",
      "358:\tlearn: 16.9414842\ttotal: 762ms\tremaining: 1.36s\n",
      "359:\tlearn: 16.9347019\ttotal: 764ms\tremaining: 1.36s\n",
      "360:\tlearn: 16.9235218\ttotal: 766ms\tremaining: 1.35s\n",
      "361:\tlearn: 16.9124922\ttotal: 768ms\tremaining: 1.35s\n",
      "362:\tlearn: 16.9048336\ttotal: 770ms\tremaining: 1.35s\n",
      "363:\tlearn: 16.8918792\ttotal: 772ms\tremaining: 1.35s\n",
      "364:\tlearn: 16.8909409\ttotal: 774ms\tremaining: 1.35s\n",
      "365:\tlearn: 16.8837835\ttotal: 776ms\tremaining: 1.34s\n",
      "366:\tlearn: 16.8716028\ttotal: 778ms\tremaining: 1.34s\n",
      "367:\tlearn: 16.8636836\ttotal: 781ms\tremaining: 1.34s\n",
      "368:\tlearn: 16.8550064\ttotal: 784ms\tremaining: 1.34s\n",
      "369:\tlearn: 16.8402721\ttotal: 787ms\tremaining: 1.34s\n",
      "370:\tlearn: 16.8349260\ttotal: 790ms\tremaining: 1.34s\n",
      "371:\tlearn: 16.8269406\ttotal: 793ms\tremaining: 1.34s\n",
      "372:\tlearn: 16.8187501\ttotal: 795ms\tremaining: 1.34s\n",
      "373:\tlearn: 16.8086756\ttotal: 797ms\tremaining: 1.33s\n",
      "374:\tlearn: 16.8077564\ttotal: 799ms\tremaining: 1.33s\n",
      "375:\tlearn: 16.7920254\ttotal: 801ms\tremaining: 1.33s\n",
      "376:\tlearn: 16.7797964\ttotal: 804ms\tremaining: 1.33s\n",
      "377:\tlearn: 16.7721745\ttotal: 806ms\tremaining: 1.33s\n",
      "378:\tlearn: 16.7554574\ttotal: 809ms\tremaining: 1.32s\n",
      "379:\tlearn: 16.7469198\ttotal: 812ms\tremaining: 1.32s\n",
      "380:\tlearn: 16.7338079\ttotal: 814ms\tremaining: 1.32s\n",
      "381:\tlearn: 16.7264180\ttotal: 817ms\tremaining: 1.32s\n",
      "382:\tlearn: 16.7188905\ttotal: 819ms\tremaining: 1.32s\n",
      "383:\tlearn: 16.7067893\ttotal: 821ms\tremaining: 1.32s\n",
      "384:\tlearn: 16.6959906\ttotal: 825ms\tremaining: 1.32s\n",
      "385:\tlearn: 16.6866803\ttotal: 828ms\tremaining: 1.32s\n",
      "386:\tlearn: 16.6783755\ttotal: 831ms\tremaining: 1.32s\n",
      "387:\tlearn: 16.6658555\ttotal: 834ms\tremaining: 1.31s\n",
      "388:\tlearn: 16.6549967\ttotal: 837ms\tremaining: 1.31s\n",
      "389:\tlearn: 16.6465546\ttotal: 839ms\tremaining: 1.31s\n",
      "390:\tlearn: 16.6367920\ttotal: 842ms\tremaining: 1.31s\n",
      "391:\tlearn: 16.6359646\ttotal: 844ms\tremaining: 1.31s\n",
      "392:\tlearn: 16.6296220\ttotal: 846ms\tremaining: 1.31s\n",
      "393:\tlearn: 16.6216595\ttotal: 848ms\tremaining: 1.3s\n",
      "394:\tlearn: 16.6114460\ttotal: 850ms\tremaining: 1.3s\n",
      "395:\tlearn: 16.6047696\ttotal: 852ms\tremaining: 1.3s\n",
      "396:\tlearn: 16.5960516\ttotal: 854ms\tremaining: 1.3s\n",
      "397:\tlearn: 16.5857805\ttotal: 856ms\tremaining: 1.29s\n",
      "398:\tlearn: 16.5789511\ttotal: 858ms\tremaining: 1.29s\n",
      "399:\tlearn: 16.5755394\ttotal: 860ms\tremaining: 1.29s\n",
      "400:\tlearn: 16.5664453\ttotal: 862ms\tremaining: 1.29s\n",
      "401:\tlearn: 16.5491791\ttotal: 865ms\tremaining: 1.29s\n",
      "402:\tlearn: 16.5422417\ttotal: 869ms\tremaining: 1.29s\n",
      "403:\tlearn: 16.5303359\ttotal: 872ms\tremaining: 1.28s\n",
      "404:\tlearn: 16.5175180\ttotal: 875ms\tremaining: 1.28s\n",
      "405:\tlearn: 16.5166661\ttotal: 878ms\tremaining: 1.28s\n",
      "406:\tlearn: 16.5104201\ttotal: 881ms\tremaining: 1.28s\n",
      "407:\tlearn: 16.5035127\ttotal: 883ms\tremaining: 1.28s\n",
      "408:\tlearn: 16.4946869\ttotal: 885ms\tremaining: 1.28s\n",
      "409:\tlearn: 16.4842010\ttotal: 888ms\tremaining: 1.28s\n",
      "410:\tlearn: 16.4789383\ttotal: 891ms\tremaining: 1.28s\n",
      "411:\tlearn: 16.4726554\ttotal: 893ms\tremaining: 1.27s\n",
      "412:\tlearn: 16.4639940\ttotal: 896ms\tremaining: 1.27s\n",
      "413:\tlearn: 16.4521096\ttotal: 899ms\tremaining: 1.27s\n",
      "414:\tlearn: 16.4512752\ttotal: 901ms\tremaining: 1.27s\n",
      "415:\tlearn: 16.4451089\ttotal: 903ms\tremaining: 1.27s\n",
      "416:\tlearn: 16.4341335\ttotal: 905ms\tremaining: 1.26s\n",
      "417:\tlearn: 16.4271561\ttotal: 908ms\tremaining: 1.26s\n",
      "418:\tlearn: 16.4197551\ttotal: 910ms\tremaining: 1.26s\n",
      "419:\tlearn: 16.4148038\ttotal: 912ms\tremaining: 1.26s\n",
      "420:\tlearn: 16.4069211\ttotal: 914ms\tremaining: 1.26s\n",
      "421:\tlearn: 16.3966608\ttotal: 916ms\tremaining: 1.25s\n",
      "422:\tlearn: 16.3848645\ttotal: 918ms\tremaining: 1.25s\n",
      "423:\tlearn: 16.3757429\ttotal: 920ms\tremaining: 1.25s\n",
      "424:\tlearn: 16.3748801\ttotal: 922ms\tremaining: 1.25s\n",
      "425:\tlearn: 16.3740302\ttotal: 924ms\tremaining: 1.24s\n",
      "426:\tlearn: 16.3637874\ttotal: 926ms\tremaining: 1.24s\n",
      "427:\tlearn: 16.3576347\ttotal: 928ms\tremaining: 1.24s\n",
      "428:\tlearn: 16.3504392\ttotal: 930ms\tremaining: 1.24s\n",
      "429:\tlearn: 16.3429914\ttotal: 932ms\tremaining: 1.23s\n",
      "430:\tlearn: 16.3421478\ttotal: 934ms\tremaining: 1.23s\n",
      "431:\tlearn: 16.3330333\ttotal: 935ms\tremaining: 1.23s\n",
      "432:\tlearn: 16.3225675\ttotal: 937ms\tremaining: 1.23s\n",
      "433:\tlearn: 16.3151022\ttotal: 939ms\tremaining: 1.22s\n",
      "434:\tlearn: 16.3039821\ttotal: 941ms\tremaining: 1.22s\n",
      "435:\tlearn: 16.2967671\ttotal: 943ms\tremaining: 1.22s\n",
      "436:\tlearn: 16.2959721\ttotal: 945ms\tremaining: 1.22s\n",
      "437:\tlearn: 16.2858117\ttotal: 947ms\tremaining: 1.22s\n",
      "438:\tlearn: 16.2783053\ttotal: 949ms\tremaining: 1.21s\n",
      "439:\tlearn: 16.2681204\ttotal: 951ms\tremaining: 1.21s\n",
      "440:\tlearn: 16.2629562\ttotal: 953ms\tremaining: 1.21s\n",
      "441:\tlearn: 16.2575935\ttotal: 955ms\tremaining: 1.21s\n",
      "442:\tlearn: 16.2500020\ttotal: 957ms\tremaining: 1.2s\n",
      "443:\tlearn: 16.2435901\ttotal: 959ms\tremaining: 1.2s\n",
      "444:\tlearn: 16.2427783\ttotal: 962ms\tremaining: 1.2s\n",
      "445:\tlearn: 16.2360920\ttotal: 964ms\tremaining: 1.2s\n",
      "446:\tlearn: 16.2286998\ttotal: 966ms\tremaining: 1.19s\n",
      "447:\tlearn: 16.2184808\ttotal: 968ms\tremaining: 1.19s\n",
      "448:\tlearn: 16.2108164\ttotal: 970ms\tremaining: 1.19s\n",
      "449:\tlearn: 16.2016832\ttotal: 972ms\tremaining: 1.19s\n",
      "450:\tlearn: 16.1930657\ttotal: 974ms\tremaining: 1.19s\n",
      "451:\tlearn: 16.1841420\ttotal: 976ms\tremaining: 1.18s\n",
      "452:\tlearn: 16.1779078\ttotal: 978ms\tremaining: 1.18s\n",
      "453:\tlearn: 16.1720462\ttotal: 980ms\tremaining: 1.18s\n",
      "454:\tlearn: 16.1694309\ttotal: 982ms\tremaining: 1.18s\n",
      "455:\tlearn: 16.1608343\ttotal: 983ms\tremaining: 1.17s\n",
      "456:\tlearn: 16.1506873\ttotal: 985ms\tremaining: 1.17s\n",
      "457:\tlearn: 16.1444458\ttotal: 987ms\tremaining: 1.17s\n",
      "458:\tlearn: 16.1369954\ttotal: 990ms\tremaining: 1.17s\n",
      "459:\tlearn: 16.1296328\ttotal: 991ms\tremaining: 1.16s\n",
      "460:\tlearn: 16.1241188\ttotal: 993ms\tremaining: 1.16s\n",
      "461:\tlearn: 16.1168586\ttotal: 995ms\tremaining: 1.16s\n",
      "462:\tlearn: 16.1079035\ttotal: 997ms\tremaining: 1.16s\n",
      "463:\tlearn: 16.1026142\ttotal: 999ms\tremaining: 1.15s\n",
      "464:\tlearn: 16.0923211\ttotal: 1s\tremaining: 1.15s\n",
      "465:\tlearn: 16.0809562\ttotal: 1s\tremaining: 1.15s\n",
      "466:\tlearn: 16.0745245\ttotal: 1s\tremaining: 1.15s\n",
      "467:\tlearn: 16.0737517\ttotal: 1.01s\tremaining: 1.15s\n",
      "468:\tlearn: 16.0668506\ttotal: 1.01s\tremaining: 1.14s\n",
      "469:\tlearn: 16.0630483\ttotal: 1.01s\tremaining: 1.14s\n",
      "470:\tlearn: 16.0623235\ttotal: 1.02s\tremaining: 1.14s\n",
      "471:\tlearn: 16.0510603\ttotal: 1.02s\tremaining: 1.14s\n",
      "472:\tlearn: 16.0423238\ttotal: 1.02s\tremaining: 1.14s\n",
      "473:\tlearn: 16.0357957\ttotal: 1.02s\tremaining: 1.14s\n",
      "474:\tlearn: 16.0300969\ttotal: 1.03s\tremaining: 1.14s\n",
      "475:\tlearn: 16.0293204\ttotal: 1.03s\tremaining: 1.14s\n",
      "476:\tlearn: 16.0191533\ttotal: 1.03s\tremaining: 1.14s\n",
      "477:\tlearn: 16.0068027\ttotal: 1.04s\tremaining: 1.13s\n",
      "478:\tlearn: 16.0015324\ttotal: 1.04s\tremaining: 1.13s\n",
      "479:\tlearn: 15.9970059\ttotal: 1.04s\tremaining: 1.13s\n",
      "480:\tlearn: 15.9870671\ttotal: 1.05s\tremaining: 1.13s\n",
      "481:\tlearn: 15.9809656\ttotal: 1.05s\tremaining: 1.13s\n",
      "482:\tlearn: 15.9762847\ttotal: 1.05s\tremaining: 1.13s\n",
      "483:\tlearn: 15.9700826\ttotal: 1.06s\tremaining: 1.13s\n",
      "484:\tlearn: 15.9655216\ttotal: 1.06s\tremaining: 1.13s\n",
      "485:\tlearn: 15.9644544\ttotal: 1.06s\tremaining: 1.12s\n",
      "486:\tlearn: 15.9575704\ttotal: 1.06s\tremaining: 1.12s\n",
      "487:\tlearn: 15.9568817\ttotal: 1.06s\tremaining: 1.12s\n",
      "488:\tlearn: 15.9501023\ttotal: 1.07s\tremaining: 1.12s\n",
      "489:\tlearn: 15.9399252\ttotal: 1.07s\tremaining: 1.11s\n",
      "490:\tlearn: 15.9321542\ttotal: 1.07s\tremaining: 1.11s\n",
      "491:\tlearn: 15.9223744\ttotal: 1.07s\tremaining: 1.11s\n",
      "492:\tlearn: 15.9169915\ttotal: 1.08s\tremaining: 1.11s\n",
      "493:\tlearn: 15.9055241\ttotal: 1.08s\tremaining: 1.11s\n",
      "494:\tlearn: 15.9027873\ttotal: 1.08s\tremaining: 1.1s\n",
      "495:\tlearn: 15.8941656\ttotal: 1.08s\tremaining: 1.1s\n",
      "496:\tlearn: 15.8898436\ttotal: 1.09s\tremaining: 1.1s\n",
      "497:\tlearn: 15.8793353\ttotal: 1.09s\tremaining: 1.1s\n",
      "498:\tlearn: 15.8740693\ttotal: 1.09s\tremaining: 1.09s\n",
      "499:\tlearn: 15.8679705\ttotal: 1.09s\tremaining: 1.09s\n",
      "500:\tlearn: 15.8614830\ttotal: 1.09s\tremaining: 1.09s\n",
      "501:\tlearn: 15.8589061\ttotal: 1.1s\tremaining: 1.09s\n",
      "502:\tlearn: 15.8581709\ttotal: 1.1s\tremaining: 1.08s\n",
      "503:\tlearn: 15.8482968\ttotal: 1.1s\tremaining: 1.08s\n",
      "504:\tlearn: 15.8385533\ttotal: 1.1s\tremaining: 1.08s\n",
      "505:\tlearn: 15.8286077\ttotal: 1.11s\tremaining: 1.08s\n",
      "506:\tlearn: 15.8278966\ttotal: 1.11s\tremaining: 1.08s\n",
      "507:\tlearn: 15.8233709\ttotal: 1.11s\tremaining: 1.07s\n",
      "508:\tlearn: 15.8142134\ttotal: 1.11s\tremaining: 1.07s\n",
      "509:\tlearn: 15.8066033\ttotal: 1.11s\tremaining: 1.07s\n",
      "510:\tlearn: 15.8035969\ttotal: 1.12s\tremaining: 1.07s\n",
      "511:\tlearn: 15.8029515\ttotal: 1.12s\tremaining: 1.07s\n",
      "512:\tlearn: 15.7976584\ttotal: 1.12s\tremaining: 1.06s\n",
      "513:\tlearn: 15.7912083\ttotal: 1.12s\tremaining: 1.06s\n",
      "514:\tlearn: 15.7823004\ttotal: 1.13s\tremaining: 1.06s\n",
      "515:\tlearn: 15.7766122\ttotal: 1.13s\tremaining: 1.06s\n",
      "516:\tlearn: 15.7727720\ttotal: 1.13s\tremaining: 1.05s\n",
      "517:\tlearn: 15.7668197\ttotal: 1.13s\tremaining: 1.05s\n",
      "518:\tlearn: 15.7588404\ttotal: 1.13s\tremaining: 1.05s\n",
      "519:\tlearn: 15.7544831\ttotal: 1.14s\tremaining: 1.05s\n",
      "520:\tlearn: 15.7502381\ttotal: 1.14s\tremaining: 1.04s\n",
      "521:\tlearn: 15.7409124\ttotal: 1.14s\tremaining: 1.04s\n",
      "522:\tlearn: 15.7317098\ttotal: 1.14s\tremaining: 1.04s\n",
      "523:\tlearn: 15.7255862\ttotal: 1.14s\tremaining: 1.04s\n",
      "524:\tlearn: 15.7204989\ttotal: 1.14s\tremaining: 1.03s\n",
      "525:\tlearn: 15.7159859\ttotal: 1.15s\tremaining: 1.03s\n",
      "526:\tlearn: 15.7095634\ttotal: 1.15s\tremaining: 1.03s\n",
      "527:\tlearn: 15.6993586\ttotal: 1.15s\tremaining: 1.03s\n",
      "528:\tlearn: 15.6963918\ttotal: 1.15s\tremaining: 1.03s\n",
      "529:\tlearn: 15.6907706\ttotal: 1.16s\tremaining: 1.02s\n",
      "530:\tlearn: 15.6851834\ttotal: 1.16s\tremaining: 1.02s\n",
      "531:\tlearn: 15.6788658\ttotal: 1.16s\tremaining: 1.02s\n",
      "532:\tlearn: 15.6715362\ttotal: 1.16s\tremaining: 1.02s\n",
      "533:\tlearn: 15.6705410\ttotal: 1.16s\tremaining: 1.01s\n",
      "534:\tlearn: 15.6645852\ttotal: 1.17s\tremaining: 1.01s\n",
      "535:\tlearn: 15.6618604\ttotal: 1.17s\tremaining: 1.01s\n",
      "536:\tlearn: 15.6547769\ttotal: 1.17s\tremaining: 1.01s\n",
      "537:\tlearn: 15.6461794\ttotal: 1.17s\tremaining: 1s\n",
      "538:\tlearn: 15.6427772\ttotal: 1.17s\tremaining: 1s\n",
      "539:\tlearn: 15.6421035\ttotal: 1.17s\tremaining: 1s\n",
      "540:\tlearn: 15.6350740\ttotal: 1.18s\tremaining: 998ms\n",
      "541:\tlearn: 15.6291156\ttotal: 1.18s\tremaining: 996ms\n",
      "542:\tlearn: 15.6264366\ttotal: 1.18s\tremaining: 993ms\n",
      "543:\tlearn: 15.6159766\ttotal: 1.18s\tremaining: 991ms\n",
      "544:\tlearn: 15.6097692\ttotal: 1.18s\tremaining: 988ms\n",
      "545:\tlearn: 15.6026720\ttotal: 1.19s\tremaining: 986ms\n",
      "546:\tlearn: 15.5991376\ttotal: 1.19s\tremaining: 983ms\n",
      "547:\tlearn: 15.5944699\ttotal: 1.19s\tremaining: 981ms\n",
      "548:\tlearn: 15.5859408\ttotal: 1.19s\tremaining: 979ms\n",
      "549:\tlearn: 15.5827301\ttotal: 1.19s\tremaining: 976ms\n",
      "550:\tlearn: 15.5753296\ttotal: 1.19s\tremaining: 974ms\n",
      "551:\tlearn: 15.5680124\ttotal: 1.2s\tremaining: 972ms\n",
      "552:\tlearn: 15.5653161\ttotal: 1.2s\tremaining: 969ms\n",
      "553:\tlearn: 15.5612370\ttotal: 1.2s\tremaining: 967ms\n",
      "554:\tlearn: 15.5526067\ttotal: 1.2s\tremaining: 964ms\n",
      "555:\tlearn: 15.5481591\ttotal: 1.2s\tremaining: 962ms\n",
      "556:\tlearn: 15.5401049\ttotal: 1.21s\tremaining: 959ms\n",
      "557:\tlearn: 15.5394350\ttotal: 1.21s\tremaining: 957ms\n",
      "558:\tlearn: 15.5316681\ttotal: 1.21s\tremaining: 955ms\n",
      "559:\tlearn: 15.5242292\ttotal: 1.21s\tremaining: 952ms\n",
      "560:\tlearn: 15.5236382\ttotal: 1.21s\tremaining: 950ms\n",
      "561:\tlearn: 15.5193182\ttotal: 1.22s\tremaining: 947ms\n",
      "562:\tlearn: 15.5166955\ttotal: 1.22s\tremaining: 945ms\n",
      "563:\tlearn: 15.5154349\ttotal: 1.22s\tremaining: 942ms\n",
      "564:\tlearn: 15.5098088\ttotal: 1.22s\tremaining: 940ms\n",
      "565:\tlearn: 15.5021782\ttotal: 1.22s\tremaining: 938ms\n",
      "566:\tlearn: 15.4967705\ttotal: 1.23s\tremaining: 936ms\n",
      "567:\tlearn: 15.4948348\ttotal: 1.23s\tremaining: 933ms\n",
      "568:\tlearn: 15.4866458\ttotal: 1.23s\tremaining: 931ms\n",
      "569:\tlearn: 15.4785580\ttotal: 1.23s\tremaining: 928ms\n",
      "570:\tlearn: 15.4742556\ttotal: 1.23s\tremaining: 926ms\n",
      "571:\tlearn: 15.4690906\ttotal: 1.23s\tremaining: 924ms\n",
      "572:\tlearn: 15.4634962\ttotal: 1.24s\tremaining: 921ms\n",
      "573:\tlearn: 15.4628400\ttotal: 1.24s\tremaining: 919ms\n",
      "574:\tlearn: 15.4518259\ttotal: 1.24s\tremaining: 916ms\n",
      "575:\tlearn: 15.4459133\ttotal: 1.24s\tremaining: 914ms\n",
      "576:\tlearn: 15.4389297\ttotal: 1.24s\tremaining: 912ms\n",
      "577:\tlearn: 15.4306657\ttotal: 1.25s\tremaining: 909ms\n",
      "578:\tlearn: 15.4300392\ttotal: 1.25s\tremaining: 907ms\n",
      "579:\tlearn: 15.4248244\ttotal: 1.25s\tremaining: 904ms\n",
      "580:\tlearn: 15.4184357\ttotal: 1.25s\tremaining: 902ms\n",
      "581:\tlearn: 15.4178728\ttotal: 1.25s\tremaining: 900ms\n",
      "582:\tlearn: 15.4110077\ttotal: 1.25s\tremaining: 897ms\n",
      "583:\tlearn: 15.4038927\ttotal: 1.26s\tremaining: 895ms\n",
      "584:\tlearn: 15.3984715\ttotal: 1.26s\tremaining: 892ms\n",
      "585:\tlearn: 15.3951640\ttotal: 1.26s\tremaining: 890ms\n",
      "586:\tlearn: 15.3841209\ttotal: 1.26s\tremaining: 888ms\n",
      "587:\tlearn: 15.3742011\ttotal: 1.26s\tremaining: 885ms\n",
      "588:\tlearn: 15.3692957\ttotal: 1.26s\tremaining: 883ms\n",
      "589:\tlearn: 15.3608407\ttotal: 1.27s\tremaining: 881ms\n",
      "590:\tlearn: 15.3532344\ttotal: 1.27s\tremaining: 878ms\n",
      "591:\tlearn: 15.3434972\ttotal: 1.27s\tremaining: 876ms\n",
      "592:\tlearn: 15.3360688\ttotal: 1.27s\tremaining: 874ms\n",
      "593:\tlearn: 15.3274433\ttotal: 1.27s\tremaining: 871ms\n",
      "594:\tlearn: 15.3219847\ttotal: 1.28s\tremaining: 869ms\n",
      "595:\tlearn: 15.3171426\ttotal: 1.28s\tremaining: 867ms\n",
      "596:\tlearn: 15.3130789\ttotal: 1.28s\tremaining: 864ms\n",
      "597:\tlearn: 15.3122015\ttotal: 1.28s\tremaining: 862ms\n",
      "598:\tlearn: 15.3029520\ttotal: 1.28s\tremaining: 860ms\n",
      "599:\tlearn: 15.2943586\ttotal: 1.29s\tremaining: 858ms\n",
      "600:\tlearn: 15.2873262\ttotal: 1.29s\tremaining: 855ms\n",
      "601:\tlearn: 15.2817578\ttotal: 1.29s\tremaining: 853ms\n",
      "602:\tlearn: 15.2767380\ttotal: 1.29s\tremaining: 851ms\n",
      "603:\tlearn: 15.2694344\ttotal: 1.29s\tremaining: 848ms\n",
      "604:\tlearn: 15.2685753\ttotal: 1.29s\tremaining: 846ms\n",
      "605:\tlearn: 15.2664072\ttotal: 1.3s\tremaining: 844ms\n",
      "606:\tlearn: 15.2584671\ttotal: 1.3s\tremaining: 841ms\n",
      "607:\tlearn: 15.2478076\ttotal: 1.3s\tremaining: 839ms\n",
      "608:\tlearn: 15.2454278\ttotal: 1.3s\tremaining: 837ms\n",
      "609:\tlearn: 15.2319624\ttotal: 1.3s\tremaining: 834ms\n",
      "610:\tlearn: 15.2231835\ttotal: 1.31s\tremaining: 832ms\n",
      "611:\tlearn: 15.2163304\ttotal: 1.31s\tremaining: 830ms\n",
      "612:\tlearn: 15.2098590\ttotal: 1.31s\tremaining: 828ms\n",
      "613:\tlearn: 15.2049432\ttotal: 1.31s\tremaining: 825ms\n",
      "614:\tlearn: 15.1991081\ttotal: 1.31s\tremaining: 823ms\n",
      "615:\tlearn: 15.1867680\ttotal: 1.32s\tremaining: 821ms\n",
      "616:\tlearn: 15.1846523\ttotal: 1.32s\tremaining: 819ms\n",
      "617:\tlearn: 15.1819033\ttotal: 1.32s\tremaining: 817ms\n",
      "618:\tlearn: 15.1765005\ttotal: 1.32s\tremaining: 814ms\n",
      "619:\tlearn: 15.1733779\ttotal: 1.32s\tremaining: 812ms\n",
      "620:\tlearn: 15.1686199\ttotal: 1.33s\tremaining: 810ms\n",
      "621:\tlearn: 15.1606763\ttotal: 1.33s\tremaining: 807ms\n",
      "622:\tlearn: 15.1487391\ttotal: 1.33s\tremaining: 805ms\n",
      "623:\tlearn: 15.1447131\ttotal: 1.33s\tremaining: 803ms\n",
      "624:\tlearn: 15.1418247\ttotal: 1.33s\tremaining: 801ms\n",
      "625:\tlearn: 15.1380413\ttotal: 1.34s\tremaining: 799ms\n",
      "626:\tlearn: 15.1313607\ttotal: 1.34s\tremaining: 796ms\n",
      "627:\tlearn: 15.1227913\ttotal: 1.34s\tremaining: 794ms\n",
      "628:\tlearn: 15.1154299\ttotal: 1.34s\tremaining: 792ms\n",
      "629:\tlearn: 15.1085213\ttotal: 1.34s\tremaining: 790ms\n",
      "630:\tlearn: 15.1011170\ttotal: 1.35s\tremaining: 788ms\n",
      "631:\tlearn: 15.0983811\ttotal: 1.35s\tremaining: 786ms\n",
      "632:\tlearn: 15.0906605\ttotal: 1.35s\tremaining: 783ms\n",
      "633:\tlearn: 15.0875852\ttotal: 1.35s\tremaining: 781ms\n",
      "634:\tlearn: 15.0787433\ttotal: 1.35s\tremaining: 779ms\n",
      "635:\tlearn: 15.0779112\ttotal: 1.36s\tremaining: 776ms\n",
      "636:\tlearn: 15.0773281\ttotal: 1.36s\tremaining: 774ms\n",
      "637:\tlearn: 15.0688478\ttotal: 1.36s\tremaining: 772ms\n",
      "638:\tlearn: 15.0633049\ttotal: 1.36s\tremaining: 769ms\n",
      "639:\tlearn: 15.0604162\ttotal: 1.36s\tremaining: 767ms\n",
      "640:\tlearn: 15.0532575\ttotal: 1.36s\tremaining: 765ms\n",
      "641:\tlearn: 15.0479642\ttotal: 1.37s\tremaining: 762ms\n",
      "642:\tlearn: 15.0407376\ttotal: 1.37s\tremaining: 760ms\n",
      "643:\tlearn: 15.0315520\ttotal: 1.37s\tremaining: 758ms\n",
      "644:\tlearn: 15.0245484\ttotal: 1.37s\tremaining: 755ms\n",
      "645:\tlearn: 15.0198575\ttotal: 1.37s\tremaining: 753ms\n",
      "646:\tlearn: 15.0160989\ttotal: 1.38s\tremaining: 750ms\n",
      "647:\tlearn: 15.0119780\ttotal: 1.38s\tremaining: 748ms\n",
      "648:\tlearn: 15.0049079\ttotal: 1.38s\tremaining: 746ms\n",
      "649:\tlearn: 15.0017388\ttotal: 1.38s\tremaining: 743ms\n",
      "650:\tlearn: 14.9953795\ttotal: 1.38s\tremaining: 741ms\n",
      "651:\tlearn: 14.9878422\ttotal: 1.38s\tremaining: 739ms\n",
      "652:\tlearn: 14.9839722\ttotal: 1.39s\tremaining: 736ms\n",
      "653:\tlearn: 14.9756932\ttotal: 1.39s\tremaining: 734ms\n",
      "654:\tlearn: 14.9680828\ttotal: 1.39s\tremaining: 732ms\n",
      "655:\tlearn: 14.9631726\ttotal: 1.39s\tremaining: 729ms\n",
      "656:\tlearn: 14.9581148\ttotal: 1.39s\tremaining: 727ms\n",
      "657:\tlearn: 14.9552797\ttotal: 1.39s\tremaining: 725ms\n",
      "658:\tlearn: 14.9494260\ttotal: 1.4s\tremaining: 722ms\n",
      "659:\tlearn: 14.9488573\ttotal: 1.4s\tremaining: 720ms\n",
      "660:\tlearn: 14.9439600\ttotal: 1.4s\tremaining: 718ms\n",
      "661:\tlearn: 14.9392962\ttotal: 1.4s\tremaining: 715ms\n",
      "662:\tlearn: 14.9297218\ttotal: 1.4s\tremaining: 713ms\n",
      "663:\tlearn: 14.9254591\ttotal: 1.4s\tremaining: 711ms\n",
      "664:\tlearn: 14.9248271\ttotal: 1.41s\tremaining: 709ms\n",
      "665:\tlearn: 14.9136629\ttotal: 1.41s\tremaining: 707ms\n",
      "666:\tlearn: 14.9085604\ttotal: 1.41s\tremaining: 705ms\n",
      "667:\tlearn: 14.9024842\ttotal: 1.41s\tremaining: 703ms\n",
      "668:\tlearn: 14.8925881\ttotal: 1.42s\tremaining: 701ms\n",
      "669:\tlearn: 14.8902230\ttotal: 1.42s\tremaining: 699ms\n",
      "670:\tlearn: 14.8862975\ttotal: 1.42s\tremaining: 697ms\n",
      "671:\tlearn: 14.8801686\ttotal: 1.42s\tremaining: 695ms\n",
      "672:\tlearn: 14.8785077\ttotal: 1.43s\tremaining: 693ms\n",
      "673:\tlearn: 14.8743577\ttotal: 1.43s\tremaining: 691ms\n",
      "674:\tlearn: 14.8698557\ttotal: 1.43s\tremaining: 689ms\n",
      "675:\tlearn: 14.8590825\ttotal: 1.43s\tremaining: 687ms\n",
      "676:\tlearn: 14.8555074\ttotal: 1.44s\tremaining: 685ms\n",
      "677:\tlearn: 14.8472263\ttotal: 1.44s\tremaining: 682ms\n",
      "678:\tlearn: 14.8397292\ttotal: 1.44s\tremaining: 680ms\n",
      "679:\tlearn: 14.8318215\ttotal: 1.44s\tremaining: 678ms\n",
      "680:\tlearn: 14.8234872\ttotal: 1.44s\tremaining: 675ms\n",
      "681:\tlearn: 14.8229600\ttotal: 1.44s\tremaining: 673ms\n",
      "682:\tlearn: 14.8178994\ttotal: 1.45s\tremaining: 671ms\n",
      "683:\tlearn: 14.8111065\ttotal: 1.45s\tremaining: 669ms\n",
      "684:\tlearn: 14.8064577\ttotal: 1.45s\tremaining: 666ms\n",
      "685:\tlearn: 14.8019719\ttotal: 1.45s\tremaining: 664ms\n",
      "686:\tlearn: 14.7942455\ttotal: 1.45s\tremaining: 663ms\n",
      "687:\tlearn: 14.7898594\ttotal: 1.46s\tremaining: 661ms\n",
      "688:\tlearn: 14.7887198\ttotal: 1.46s\tremaining: 659ms\n",
      "689:\tlearn: 14.7823546\ttotal: 1.46s\tremaining: 658ms\n",
      "690:\tlearn: 14.7783573\ttotal: 1.47s\tremaining: 656ms\n",
      "691:\tlearn: 14.7714539\ttotal: 1.47s\tremaining: 654ms\n",
      "692:\tlearn: 14.7681732\ttotal: 1.47s\tremaining: 652ms\n",
      "693:\tlearn: 14.7614846\ttotal: 1.47s\tremaining: 650ms\n",
      "694:\tlearn: 14.7592844\ttotal: 1.48s\tremaining: 648ms\n",
      "695:\tlearn: 14.7523573\ttotal: 1.48s\tremaining: 646ms\n",
      "696:\tlearn: 14.7461329\ttotal: 1.48s\tremaining: 644ms\n",
      "697:\tlearn: 14.7426187\ttotal: 1.48s\tremaining: 641ms\n",
      "698:\tlearn: 14.7358968\ttotal: 1.48s\tremaining: 639ms\n",
      "699:\tlearn: 14.7325126\ttotal: 1.49s\tremaining: 637ms\n",
      "700:\tlearn: 14.7235826\ttotal: 1.49s\tremaining: 635ms\n",
      "701:\tlearn: 14.7230903\ttotal: 1.49s\tremaining: 632ms\n",
      "702:\tlearn: 14.7172171\ttotal: 1.49s\tremaining: 630ms\n",
      "703:\tlearn: 14.7058797\ttotal: 1.49s\tremaining: 628ms\n",
      "704:\tlearn: 14.7050762\ttotal: 1.49s\tremaining: 625ms\n",
      "705:\tlearn: 14.7017397\ttotal: 1.5s\tremaining: 623ms\n",
      "706:\tlearn: 14.6946948\ttotal: 1.5s\tremaining: 621ms\n",
      "707:\tlearn: 14.6827704\ttotal: 1.5s\tremaining: 619ms\n",
      "708:\tlearn: 14.6776788\ttotal: 1.5s\tremaining: 617ms\n",
      "709:\tlearn: 14.6755179\ttotal: 1.51s\tremaining: 615ms\n",
      "710:\tlearn: 14.6717834\ttotal: 1.51s\tremaining: 614ms\n",
      "711:\tlearn: 14.6710624\ttotal: 1.51s\tremaining: 612ms\n",
      "712:\tlearn: 14.6588694\ttotal: 1.52s\tremaining: 610ms\n",
      "713:\tlearn: 14.6530666\ttotal: 1.52s\tremaining: 609ms\n",
      "714:\tlearn: 14.6482348\ttotal: 1.52s\tremaining: 607ms\n",
      "715:\tlearn: 14.6418078\ttotal: 1.52s\tremaining: 605ms\n",
      "716:\tlearn: 14.6376698\ttotal: 1.53s\tremaining: 603ms\n",
      "717:\tlearn: 14.6334583\ttotal: 1.53s\tremaining: 602ms\n",
      "718:\tlearn: 14.6261560\ttotal: 1.53s\tremaining: 600ms\n",
      "719:\tlearn: 14.6220583\ttotal: 1.54s\tremaining: 598ms\n",
      "720:\tlearn: 14.6144761\ttotal: 1.54s\tremaining: 596ms\n",
      "721:\tlearn: 14.6113007\ttotal: 1.54s\tremaining: 594ms\n",
      "722:\tlearn: 14.6040770\ttotal: 1.55s\tremaining: 593ms\n",
      "723:\tlearn: 14.5993166\ttotal: 1.55s\tremaining: 591ms\n",
      "724:\tlearn: 14.5919576\ttotal: 1.55s\tremaining: 589ms\n",
      "725:\tlearn: 14.5851617\ttotal: 1.56s\tremaining: 587ms\n",
      "726:\tlearn: 14.5796875\ttotal: 1.56s\tremaining: 586ms\n",
      "727:\tlearn: 14.5791691\ttotal: 1.56s\tremaining: 584ms\n",
      "728:\tlearn: 14.5694749\ttotal: 1.57s\tremaining: 582ms\n",
      "729:\tlearn: 14.5639969\ttotal: 1.57s\tremaining: 580ms\n",
      "730:\tlearn: 14.5579047\ttotal: 1.57s\tremaining: 579ms\n",
      "731:\tlearn: 14.5558163\ttotal: 1.57s\tremaining: 577ms\n",
      "732:\tlearn: 14.5498398\ttotal: 1.58s\tremaining: 575ms\n",
      "733:\tlearn: 14.5478385\ttotal: 1.58s\tremaining: 573ms\n",
      "734:\tlearn: 14.5415429\ttotal: 1.58s\tremaining: 572ms\n",
      "735:\tlearn: 14.5366056\ttotal: 1.59s\tremaining: 570ms\n",
      "736:\tlearn: 14.5348415\ttotal: 1.59s\tremaining: 568ms\n",
      "737:\tlearn: 14.5290356\ttotal: 1.59s\tremaining: 566ms\n",
      "738:\tlearn: 14.5183413\ttotal: 1.6s\tremaining: 564ms\n",
      "739:\tlearn: 14.5116412\ttotal: 1.6s\tremaining: 562ms\n",
      "740:\tlearn: 14.5041290\ttotal: 1.6s\tremaining: 560ms\n",
      "741:\tlearn: 14.5024691\ttotal: 1.6s\tremaining: 558ms\n",
      "742:\tlearn: 14.4976304\ttotal: 1.61s\tremaining: 556ms\n",
      "743:\tlearn: 14.4911876\ttotal: 1.61s\tremaining: 554ms\n",
      "744:\tlearn: 14.4874148\ttotal: 1.61s\tremaining: 551ms\n",
      "745:\tlearn: 14.4862900\ttotal: 1.61s\tremaining: 549ms\n",
      "746:\tlearn: 14.4778635\ttotal: 1.62s\tremaining: 547ms\n",
      "747:\tlearn: 14.4683908\ttotal: 1.62s\tremaining: 545ms\n",
      "748:\tlearn: 14.4625379\ttotal: 1.62s\tremaining: 543ms\n",
      "749:\tlearn: 14.4595079\ttotal: 1.62s\tremaining: 541ms\n",
      "750:\tlearn: 14.4524254\ttotal: 1.63s\tremaining: 539ms\n",
      "751:\tlearn: 14.4448191\ttotal: 1.63s\tremaining: 537ms\n",
      "752:\tlearn: 14.4384507\ttotal: 1.63s\tremaining: 535ms\n",
      "753:\tlearn: 14.4325508\ttotal: 1.63s\tremaining: 533ms\n",
      "754:\tlearn: 14.4228316\ttotal: 1.64s\tremaining: 531ms\n",
      "755:\tlearn: 14.4180893\ttotal: 1.64s\tremaining: 529ms\n",
      "756:\tlearn: 14.4154731\ttotal: 1.64s\tremaining: 526ms\n",
      "757:\tlearn: 14.4144751\ttotal: 1.64s\tremaining: 524ms\n",
      "758:\tlearn: 14.4086256\ttotal: 1.64s\tremaining: 522ms\n",
      "759:\tlearn: 14.4038517\ttotal: 1.65s\tremaining: 520ms\n",
      "760:\tlearn: 14.3954107\ttotal: 1.65s\tremaining: 517ms\n",
      "761:\tlearn: 14.3883053\ttotal: 1.65s\tremaining: 515ms\n",
      "762:\tlearn: 14.3832423\ttotal: 1.65s\tremaining: 513ms\n",
      "763:\tlearn: 14.3768242\ttotal: 1.65s\tremaining: 511ms\n",
      "764:\tlearn: 14.3725727\ttotal: 1.66s\tremaining: 509ms\n",
      "765:\tlearn: 14.3705012\ttotal: 1.66s\tremaining: 507ms\n",
      "766:\tlearn: 14.3686770\ttotal: 1.66s\tremaining: 505ms\n",
      "767:\tlearn: 14.3604870\ttotal: 1.67s\tremaining: 503ms\n",
      "768:\tlearn: 14.3524136\ttotal: 1.67s\tremaining: 501ms\n",
      "769:\tlearn: 14.3470849\ttotal: 1.67s\tremaining: 499ms\n",
      "770:\tlearn: 14.3370888\ttotal: 1.67s\tremaining: 497ms\n",
      "771:\tlearn: 14.3309142\ttotal: 1.67s\tremaining: 494ms\n",
      "772:\tlearn: 14.3214827\ttotal: 1.68s\tremaining: 492ms\n",
      "773:\tlearn: 14.3130240\ttotal: 1.68s\tremaining: 490ms\n",
      "774:\tlearn: 14.3056285\ttotal: 1.68s\tremaining: 488ms\n",
      "775:\tlearn: 14.3014379\ttotal: 1.68s\tremaining: 486ms\n",
      "776:\tlearn: 14.2947278\ttotal: 1.68s\tremaining: 483ms\n",
      "777:\tlearn: 14.2860788\ttotal: 1.69s\tremaining: 481ms\n",
      "778:\tlearn: 14.2783394\ttotal: 1.69s\tremaining: 479ms\n",
      "779:\tlearn: 14.2715511\ttotal: 1.69s\tremaining: 477ms\n",
      "780:\tlearn: 14.2708240\ttotal: 1.69s\tremaining: 474ms\n",
      "781:\tlearn: 14.2651493\ttotal: 1.69s\tremaining: 472ms\n",
      "782:\tlearn: 14.2579354\ttotal: 1.7s\tremaining: 470ms\n",
      "783:\tlearn: 14.2494732\ttotal: 1.7s\tremaining: 468ms\n",
      "784:\tlearn: 14.2417366\ttotal: 1.7s\tremaining: 466ms\n",
      "785:\tlearn: 14.2372423\ttotal: 1.7s\tremaining: 464ms\n",
      "786:\tlearn: 14.2276201\ttotal: 1.7s\tremaining: 461ms\n",
      "787:\tlearn: 14.2180123\ttotal: 1.71s\tremaining: 459ms\n",
      "788:\tlearn: 14.2142455\ttotal: 1.71s\tremaining: 457ms\n",
      "789:\tlearn: 14.2137996\ttotal: 1.71s\tremaining: 455ms\n",
      "790:\tlearn: 14.2048001\ttotal: 1.71s\tremaining: 452ms\n",
      "791:\tlearn: 14.1928059\ttotal: 1.71s\tremaining: 450ms\n",
      "792:\tlearn: 14.1873110\ttotal: 1.72s\tremaining: 448ms\n",
      "793:\tlearn: 14.1772443\ttotal: 1.72s\tremaining: 446ms\n",
      "794:\tlearn: 14.1693350\ttotal: 1.72s\tremaining: 443ms\n",
      "795:\tlearn: 14.1598224\ttotal: 1.72s\tremaining: 441ms\n",
      "796:\tlearn: 14.1541337\ttotal: 1.72s\tremaining: 439ms\n",
      "797:\tlearn: 14.1506152\ttotal: 1.73s\tremaining: 437ms\n",
      "798:\tlearn: 14.1471344\ttotal: 1.73s\tremaining: 435ms\n",
      "799:\tlearn: 14.1381848\ttotal: 1.73s\tremaining: 432ms\n",
      "800:\tlearn: 14.1310638\ttotal: 1.73s\tremaining: 430ms\n",
      "801:\tlearn: 14.1243945\ttotal: 1.73s\tremaining: 428ms\n",
      "802:\tlearn: 14.1235000\ttotal: 1.74s\tremaining: 426ms\n",
      "803:\tlearn: 14.1187465\ttotal: 1.74s\tremaining: 424ms\n",
      "804:\tlearn: 14.1166374\ttotal: 1.74s\tremaining: 421ms\n",
      "805:\tlearn: 14.1051520\ttotal: 1.74s\tremaining: 419ms\n",
      "806:\tlearn: 14.0994141\ttotal: 1.74s\tremaining: 417ms\n",
      "807:\tlearn: 14.0948821\ttotal: 1.75s\tremaining: 415ms\n",
      "808:\tlearn: 14.0917340\ttotal: 1.75s\tremaining: 413ms\n",
      "809:\tlearn: 14.0826890\ttotal: 1.75s\tremaining: 411ms\n",
      "810:\tlearn: 14.0740086\ttotal: 1.75s\tremaining: 409ms\n",
      "811:\tlearn: 14.0697542\ttotal: 1.76s\tremaining: 407ms\n",
      "812:\tlearn: 14.0671456\ttotal: 1.76s\tremaining: 404ms\n",
      "813:\tlearn: 14.0657951\ttotal: 1.76s\tremaining: 403ms\n",
      "814:\tlearn: 14.0623353\ttotal: 1.76s\tremaining: 401ms\n",
      "815:\tlearn: 14.0541930\ttotal: 1.77s\tremaining: 399ms\n",
      "816:\tlearn: 14.0457521\ttotal: 1.77s\tremaining: 397ms\n",
      "817:\tlearn: 14.0387922\ttotal: 1.77s\tremaining: 395ms\n",
      "818:\tlearn: 14.0329873\ttotal: 1.78s\tremaining: 393ms\n",
      "819:\tlearn: 14.0241042\ttotal: 1.78s\tremaining: 391ms\n",
      "820:\tlearn: 14.0221525\ttotal: 1.78s\tremaining: 389ms\n",
      "821:\tlearn: 14.0199541\ttotal: 1.79s\tremaining: 387ms\n",
      "822:\tlearn: 14.0163746\ttotal: 1.79s\tremaining: 385ms\n",
      "823:\tlearn: 14.0145241\ttotal: 1.79s\tremaining: 383ms\n",
      "824:\tlearn: 14.0112234\ttotal: 1.8s\tremaining: 381ms\n",
      "825:\tlearn: 14.0027926\ttotal: 1.8s\tremaining: 380ms\n",
      "826:\tlearn: 13.9968015\ttotal: 1.8s\tremaining: 378ms\n",
      "827:\tlearn: 13.9914997\ttotal: 1.81s\tremaining: 376ms\n",
      "828:\tlearn: 13.9910263\ttotal: 1.81s\tremaining: 374ms\n",
      "829:\tlearn: 13.9840135\ttotal: 1.81s\tremaining: 372ms\n",
      "830:\tlearn: 13.9794475\ttotal: 1.82s\tremaining: 370ms\n",
      "831:\tlearn: 13.9738846\ttotal: 1.82s\tremaining: 368ms\n",
      "832:\tlearn: 13.9671598\ttotal: 1.82s\tremaining: 365ms\n",
      "833:\tlearn: 13.9611149\ttotal: 1.82s\tremaining: 363ms\n",
      "834:\tlearn: 13.9544557\ttotal: 1.82s\tremaining: 361ms\n",
      "835:\tlearn: 13.9524846\ttotal: 1.83s\tremaining: 359ms\n",
      "836:\tlearn: 13.9493136\ttotal: 1.83s\tremaining: 356ms\n",
      "837:\tlearn: 13.9439776\ttotal: 1.83s\tremaining: 354ms\n",
      "838:\tlearn: 13.9370910\ttotal: 1.83s\tremaining: 352ms\n",
      "839:\tlearn: 13.9350746\ttotal: 1.83s\tremaining: 350ms\n",
      "840:\tlearn: 13.9290898\ttotal: 1.84s\tremaining: 347ms\n",
      "841:\tlearn: 13.9286246\ttotal: 1.84s\tremaining: 345ms\n",
      "842:\tlearn: 13.9186228\ttotal: 1.84s\tremaining: 343ms\n",
      "843:\tlearn: 13.9133482\ttotal: 1.84s\tremaining: 341ms\n",
      "844:\tlearn: 13.9065652\ttotal: 1.84s\tremaining: 338ms\n",
      "845:\tlearn: 13.9019277\ttotal: 1.85s\tremaining: 336ms\n",
      "846:\tlearn: 13.8952673\ttotal: 1.85s\tremaining: 334ms\n",
      "847:\tlearn: 13.8914147\ttotal: 1.85s\tremaining: 332ms\n",
      "848:\tlearn: 13.8875331\ttotal: 1.85s\tremaining: 330ms\n",
      "849:\tlearn: 13.8791600\ttotal: 1.86s\tremaining: 328ms\n",
      "850:\tlearn: 13.8720919\ttotal: 1.86s\tremaining: 325ms\n",
      "851:\tlearn: 13.8645443\ttotal: 1.86s\tremaining: 323ms\n",
      "852:\tlearn: 13.8637710\ttotal: 1.86s\tremaining: 321ms\n",
      "853:\tlearn: 13.8570276\ttotal: 1.86s\tremaining: 319ms\n",
      "854:\tlearn: 13.8488608\ttotal: 1.87s\tremaining: 317ms\n",
      "855:\tlearn: 13.8478499\ttotal: 1.87s\tremaining: 314ms\n",
      "856:\tlearn: 13.8408217\ttotal: 1.87s\tremaining: 312ms\n",
      "857:\tlearn: 13.8350674\ttotal: 1.87s\tremaining: 310ms\n",
      "858:\tlearn: 13.8297726\ttotal: 1.87s\tremaining: 308ms\n",
      "859:\tlearn: 13.8222569\ttotal: 1.88s\tremaining: 306ms\n",
      "860:\tlearn: 13.8181454\ttotal: 1.88s\tremaining: 303ms\n",
      "861:\tlearn: 13.8116764\ttotal: 1.88s\tremaining: 301ms\n",
      "862:\tlearn: 13.8026896\ttotal: 1.88s\tremaining: 299ms\n",
      "863:\tlearn: 13.7986220\ttotal: 1.88s\tremaining: 297ms\n",
      "864:\tlearn: 13.7965978\ttotal: 1.89s\tremaining: 294ms\n",
      "865:\tlearn: 13.7907000\ttotal: 1.89s\tremaining: 292ms\n",
      "866:\tlearn: 13.7855735\ttotal: 1.89s\tremaining: 290ms\n",
      "867:\tlearn: 13.7814424\ttotal: 1.89s\tremaining: 288ms\n",
      "868:\tlearn: 13.7719149\ttotal: 1.9s\tremaining: 286ms\n",
      "869:\tlearn: 13.7658844\ttotal: 1.9s\tremaining: 284ms\n",
      "870:\tlearn: 13.7608358\ttotal: 1.9s\tremaining: 282ms\n",
      "871:\tlearn: 13.7552053\ttotal: 1.9s\tremaining: 280ms\n",
      "872:\tlearn: 13.7501506\ttotal: 1.91s\tremaining: 278ms\n",
      "873:\tlearn: 13.7442634\ttotal: 1.91s\tremaining: 276ms\n",
      "874:\tlearn: 13.7365744\ttotal: 1.91s\tremaining: 274ms\n",
      "875:\tlearn: 13.7279796\ttotal: 1.92s\tremaining: 271ms\n",
      "876:\tlearn: 13.7272348\ttotal: 1.92s\tremaining: 269ms\n",
      "877:\tlearn: 13.7223757\ttotal: 1.92s\tremaining: 267ms\n",
      "878:\tlearn: 13.7201233\ttotal: 1.93s\tremaining: 265ms\n",
      "879:\tlearn: 13.7139681\ttotal: 1.93s\tremaining: 263ms\n",
      "880:\tlearn: 13.7078187\ttotal: 1.93s\tremaining: 261ms\n",
      "881:\tlearn: 13.7073585\ttotal: 1.94s\tremaining: 259ms\n",
      "882:\tlearn: 13.7056854\ttotal: 1.94s\tremaining: 257ms\n",
      "883:\tlearn: 13.7024560\ttotal: 1.94s\tremaining: 255ms\n",
      "884:\tlearn: 13.6983931\ttotal: 1.94s\tremaining: 252ms\n",
      "885:\tlearn: 13.6930514\ttotal: 1.94s\tremaining: 250ms\n",
      "886:\tlearn: 13.6863368\ttotal: 1.95s\tremaining: 248ms\n",
      "887:\tlearn: 13.6820269\ttotal: 1.95s\tremaining: 246ms\n",
      "888:\tlearn: 13.6765366\ttotal: 1.95s\tremaining: 244ms\n",
      "889:\tlearn: 13.6712744\ttotal: 1.95s\tremaining: 241ms\n",
      "890:\tlearn: 13.6643303\ttotal: 1.95s\tremaining: 239ms\n",
      "891:\tlearn: 13.6594073\ttotal: 1.96s\tremaining: 237ms\n",
      "892:\tlearn: 13.6525694\ttotal: 1.96s\tremaining: 235ms\n",
      "893:\tlearn: 13.6475453\ttotal: 1.96s\tremaining: 233ms\n",
      "894:\tlearn: 13.6446496\ttotal: 1.96s\tremaining: 230ms\n",
      "895:\tlearn: 13.6384497\ttotal: 1.96s\tremaining: 228ms\n",
      "896:\tlearn: 13.6321468\ttotal: 1.97s\tremaining: 226ms\n",
      "897:\tlearn: 13.6257903\ttotal: 1.97s\tremaining: 224ms\n",
      "898:\tlearn: 13.6204265\ttotal: 1.97s\tremaining: 221ms\n",
      "899:\tlearn: 13.6171851\ttotal: 1.97s\tremaining: 219ms\n",
      "900:\tlearn: 13.6167713\ttotal: 1.97s\tremaining: 217ms\n",
      "901:\tlearn: 13.6112537\ttotal: 1.98s\tremaining: 215ms\n",
      "902:\tlearn: 13.6094005\ttotal: 1.98s\tremaining: 213ms\n",
      "903:\tlearn: 13.6042560\ttotal: 1.98s\tremaining: 210ms\n",
      "904:\tlearn: 13.5981128\ttotal: 1.98s\tremaining: 208ms\n",
      "905:\tlearn: 13.5976657\ttotal: 1.99s\tremaining: 206ms\n",
      "906:\tlearn: 13.5908630\ttotal: 1.99s\tremaining: 204ms\n",
      "907:\tlearn: 13.5847939\ttotal: 1.99s\tremaining: 202ms\n",
      "908:\tlearn: 13.5796028\ttotal: 1.99s\tremaining: 199ms\n",
      "909:\tlearn: 13.5745029\ttotal: 1.99s\tremaining: 197ms\n",
      "910:\tlearn: 13.5671481\ttotal: 1.99s\tremaining: 195ms\n",
      "911:\tlearn: 13.5623630\ttotal: 2s\tremaining: 193ms\n",
      "912:\tlearn: 13.5550055\ttotal: 2s\tremaining: 190ms\n",
      "913:\tlearn: 13.5491243\ttotal: 2s\tremaining: 188ms\n",
      "914:\tlearn: 13.5435407\ttotal: 2s\tremaining: 186ms\n",
      "915:\tlearn: 13.5415436\ttotal: 2s\tremaining: 184ms\n",
      "916:\tlearn: 13.5375591\ttotal: 2.01s\tremaining: 182ms\n",
      "917:\tlearn: 13.5299405\ttotal: 2.01s\tremaining: 179ms\n",
      "918:\tlearn: 13.5264468\ttotal: 2.01s\tremaining: 177ms\n",
      "919:\tlearn: 13.5213319\ttotal: 2.01s\tremaining: 175ms\n",
      "920:\tlearn: 13.5130548\ttotal: 2.01s\tremaining: 173ms\n",
      "921:\tlearn: 13.5052312\ttotal: 2.02s\tremaining: 171ms\n",
      "922:\tlearn: 13.4960654\ttotal: 2.02s\tremaining: 168ms\n",
      "923:\tlearn: 13.4918386\ttotal: 2.02s\tremaining: 166ms\n",
      "924:\tlearn: 13.4871404\ttotal: 2.02s\tremaining: 164ms\n",
      "925:\tlearn: 13.4809696\ttotal: 2.02s\tremaining: 162ms\n",
      "926:\tlearn: 13.4771359\ttotal: 2.02s\tremaining: 160ms\n",
      "927:\tlearn: 13.4721766\ttotal: 2.03s\tremaining: 157ms\n",
      "928:\tlearn: 13.4649799\ttotal: 2.03s\tremaining: 155ms\n",
      "929:\tlearn: 13.4581707\ttotal: 2.03s\tremaining: 153ms\n",
      "930:\tlearn: 13.4544760\ttotal: 2.03s\tremaining: 151ms\n",
      "931:\tlearn: 13.4465787\ttotal: 2.04s\tremaining: 149ms\n",
      "932:\tlearn: 13.4456566\ttotal: 2.04s\tremaining: 146ms\n",
      "933:\tlearn: 13.4406209\ttotal: 2.04s\tremaining: 144ms\n",
      "934:\tlearn: 13.4353917\ttotal: 2.04s\tremaining: 142ms\n",
      "935:\tlearn: 13.4325640\ttotal: 2.04s\tremaining: 140ms\n",
      "936:\tlearn: 13.4266285\ttotal: 2.04s\tremaining: 138ms\n",
      "937:\tlearn: 13.4238566\ttotal: 2.05s\tremaining: 135ms\n",
      "938:\tlearn: 13.4201862\ttotal: 2.05s\tremaining: 133ms\n",
      "939:\tlearn: 13.4144735\ttotal: 2.05s\tremaining: 131ms\n",
      "940:\tlearn: 13.4109800\ttotal: 2.05s\tremaining: 129ms\n",
      "941:\tlearn: 13.4070396\ttotal: 2.06s\tremaining: 127ms\n",
      "942:\tlearn: 13.4013576\ttotal: 2.06s\tremaining: 124ms\n",
      "943:\tlearn: 13.3950042\ttotal: 2.06s\tremaining: 122ms\n",
      "944:\tlearn: 13.3901119\ttotal: 2.06s\tremaining: 120ms\n",
      "945:\tlearn: 13.3848376\ttotal: 2.06s\tremaining: 118ms\n",
      "946:\tlearn: 13.3813596\ttotal: 2.07s\tremaining: 116ms\n",
      "947:\tlearn: 13.3731707\ttotal: 2.07s\tremaining: 113ms\n",
      "948:\tlearn: 13.3663410\ttotal: 2.07s\tremaining: 111ms\n",
      "949:\tlearn: 13.3635706\ttotal: 2.07s\tremaining: 109ms\n",
      "950:\tlearn: 13.3631920\ttotal: 2.07s\tremaining: 107ms\n",
      "951:\tlearn: 13.3612126\ttotal: 2.08s\tremaining: 105ms\n",
      "952:\tlearn: 13.3581716\ttotal: 2.08s\tremaining: 102ms\n",
      "953:\tlearn: 13.3548788\ttotal: 2.08s\tremaining: 100ms\n",
      "954:\tlearn: 13.3520832\ttotal: 2.08s\tremaining: 98.1ms\n",
      "955:\tlearn: 13.3439006\ttotal: 2.08s\tremaining: 95.9ms\n",
      "956:\tlearn: 13.3410255\ttotal: 2.08s\tremaining: 93.7ms\n",
      "957:\tlearn: 13.3337486\ttotal: 2.09s\tremaining: 91.5ms\n",
      "958:\tlearn: 13.3290567\ttotal: 2.09s\tremaining: 89.3ms\n",
      "959:\tlearn: 13.3256557\ttotal: 2.09s\tremaining: 87.2ms\n",
      "960:\tlearn: 13.3207814\ttotal: 2.09s\tremaining: 85ms\n",
      "961:\tlearn: 13.3158061\ttotal: 2.1s\tremaining: 82.8ms\n",
      "962:\tlearn: 13.3065946\ttotal: 2.1s\tremaining: 80.6ms\n",
      "963:\tlearn: 13.3005651\ttotal: 2.1s\tremaining: 78.5ms\n",
      "964:\tlearn: 13.2982391\ttotal: 2.1s\tremaining: 76.3ms\n",
      "965:\tlearn: 13.2951522\ttotal: 2.1s\tremaining: 74.1ms\n",
      "966:\tlearn: 13.2910169\ttotal: 2.11s\tremaining: 71.9ms\n",
      "967:\tlearn: 13.2852660\ttotal: 2.11s\tremaining: 69.8ms\n",
      "968:\tlearn: 13.2836357\ttotal: 2.11s\tremaining: 67.6ms\n",
      "969:\tlearn: 13.2778865\ttotal: 2.11s\tremaining: 65.4ms\n",
      "970:\tlearn: 13.2729724\ttotal: 2.12s\tremaining: 63.2ms\n",
      "971:\tlearn: 13.2655330\ttotal: 2.12s\tremaining: 61ms\n",
      "972:\tlearn: 13.2632565\ttotal: 2.12s\tremaining: 58.8ms\n",
      "973:\tlearn: 13.2571502\ttotal: 2.12s\tremaining: 56.7ms\n",
      "974:\tlearn: 13.2527420\ttotal: 2.12s\tremaining: 54.5ms\n",
      "975:\tlearn: 13.2443149\ttotal: 2.13s\tremaining: 52.3ms\n",
      "976:\tlearn: 13.2392135\ttotal: 2.13s\tremaining: 50.1ms\n",
      "977:\tlearn: 13.2323973\ttotal: 2.13s\tremaining: 47.9ms\n",
      "978:\tlearn: 13.2254438\ttotal: 2.13s\tremaining: 45.7ms\n",
      "979:\tlearn: 13.2230406\ttotal: 2.13s\tremaining: 43.6ms\n",
      "980:\tlearn: 13.2168978\ttotal: 2.14s\tremaining: 41.4ms\n",
      "981:\tlearn: 13.2153965\ttotal: 2.14s\tremaining: 39.2ms\n",
      "982:\tlearn: 13.2109587\ttotal: 2.14s\tremaining: 37ms\n",
      "983:\tlearn: 13.2069850\ttotal: 2.14s\tremaining: 34.8ms\n",
      "984:\tlearn: 13.1992915\ttotal: 2.14s\tremaining: 32.7ms\n",
      "985:\tlearn: 13.1934180\ttotal: 2.15s\tremaining: 30.5ms\n",
      "986:\tlearn: 13.1907640\ttotal: 2.15s\tremaining: 28.3ms\n",
      "987:\tlearn: 13.1855054\ttotal: 2.15s\tremaining: 26.1ms\n",
      "988:\tlearn: 13.1837558\ttotal: 2.15s\tremaining: 23.9ms\n",
      "989:\tlearn: 13.1805115\ttotal: 2.15s\tremaining: 21.8ms\n",
      "990:\tlearn: 13.1735308\ttotal: 2.15s\tremaining: 19.6ms\n",
      "991:\tlearn: 13.1643665\ttotal: 2.16s\tremaining: 17.4ms\n",
      "992:\tlearn: 13.1583300\ttotal: 2.16s\tremaining: 15.2ms\n",
      "993:\tlearn: 13.1576648\ttotal: 2.16s\tremaining: 13.1ms\n",
      "994:\tlearn: 13.1557305\ttotal: 2.16s\tremaining: 10.9ms\n",
      "995:\tlearn: 13.1490358\ttotal: 2.17s\tremaining: 8.7ms\n",
      "996:\tlearn: 13.1431656\ttotal: 2.17s\tremaining: 6.52ms\n",
      "997:\tlearn: 13.1388368\ttotal: 2.17s\tremaining: 4.35ms\n",
      "998:\tlearn: 13.1324628\ttotal: 2.17s\tremaining: 2.17ms\n",
      "999:\tlearn: 13.1284326\ttotal: 2.17s\tremaining: 0us\n",
      "0:\tlearn: 33.4972691\ttotal: 2.47ms\tremaining: 2.47s\n",
      "1:\tlearn: 33.0973799\ttotal: 4.98ms\tremaining: 2.49s\n",
      "2:\tlearn: 32.7037631\ttotal: 7.42ms\tremaining: 2.46s\n",
      "3:\tlearn: 32.3026650\ttotal: 9.57ms\tremaining: 2.38s\n",
      "4:\tlearn: 31.9292637\ttotal: 11.7ms\tremaining: 2.33s\n",
      "5:\tlearn: 31.5214905\ttotal: 14ms\tremaining: 2.33s\n",
      "6:\tlearn: 31.1640005\ttotal: 16.3ms\tremaining: 2.32s\n",
      "7:\tlearn: 30.8412031\ttotal: 18.5ms\tremaining: 2.29s\n",
      "8:\tlearn: 30.5039621\ttotal: 20.8ms\tremaining: 2.29s\n",
      "9:\tlearn: 30.1925895\ttotal: 23.1ms\tremaining: 2.29s\n",
      "10:\tlearn: 29.8645837\ttotal: 25.5ms\tremaining: 2.29s\n",
      "11:\tlearn: 29.5613052\ttotal: 27.6ms\tremaining: 2.27s\n",
      "12:\tlearn: 29.2631322\ttotal: 29.9ms\tremaining: 2.27s\n",
      "13:\tlearn: 28.9967992\ttotal: 32.1ms\tremaining: 2.26s\n",
      "14:\tlearn: 28.7350506\ttotal: 34.3ms\tremaining: 2.25s\n",
      "15:\tlearn: 28.4752146\ttotal: 36.5ms\tremaining: 2.25s\n",
      "16:\tlearn: 28.2465727\ttotal: 38.8ms\tremaining: 2.25s\n",
      "17:\tlearn: 28.0318377\ttotal: 41.7ms\tremaining: 2.27s\n",
      "18:\tlearn: 27.7992841\ttotal: 44ms\tremaining: 2.27s\n",
      "19:\tlearn: 27.6021358\ttotal: 46.2ms\tremaining: 2.27s\n",
      "20:\tlearn: 27.3774904\ttotal: 48.5ms\tremaining: 2.26s\n",
      "21:\tlearn: 27.1555134\ttotal: 50.9ms\tremaining: 2.26s\n",
      "22:\tlearn: 26.9666014\ttotal: 53.2ms\tremaining: 2.26s\n",
      "23:\tlearn: 26.7908671\ttotal: 55.4ms\tremaining: 2.25s\n",
      "24:\tlearn: 26.6047896\ttotal: 57.9ms\tremaining: 2.26s\n",
      "25:\tlearn: 26.4341247\ttotal: 60.3ms\tremaining: 2.26s\n",
      "26:\tlearn: 26.2619867\ttotal: 62.6ms\tremaining: 2.25s\n",
      "27:\tlearn: 26.1067002\ttotal: 65ms\tremaining: 2.26s\n",
      "28:\tlearn: 25.9618013\ttotal: 67.6ms\tremaining: 2.26s\n",
      "29:\tlearn: 25.8200696\ttotal: 70.6ms\tremaining: 2.28s\n",
      "30:\tlearn: 25.6820754\ttotal: 72.9ms\tremaining: 2.28s\n",
      "31:\tlearn: 25.5467470\ttotal: 76ms\tremaining: 2.3s\n",
      "32:\tlearn: 25.4394959\ttotal: 78.4ms\tremaining: 2.3s\n",
      "33:\tlearn: 25.2957313\ttotal: 80.8ms\tremaining: 2.29s\n",
      "34:\tlearn: 25.1741369\ttotal: 83ms\tremaining: 2.29s\n",
      "35:\tlearn: 25.0578770\ttotal: 85.4ms\tremaining: 2.29s\n",
      "36:\tlearn: 24.9418566\ttotal: 87.7ms\tremaining: 2.28s\n",
      "37:\tlearn: 24.8339757\ttotal: 89.9ms\tremaining: 2.27s\n",
      "38:\tlearn: 24.7235370\ttotal: 92.3ms\tremaining: 2.27s\n",
      "39:\tlearn: 24.6227972\ttotal: 94.6ms\tremaining: 2.27s\n",
      "40:\tlearn: 24.5083353\ttotal: 96.9ms\tremaining: 2.27s\n",
      "41:\tlearn: 24.4266954\ttotal: 99.2ms\tremaining: 2.26s\n",
      "42:\tlearn: 24.3163758\ttotal: 102ms\tremaining: 2.26s\n",
      "43:\tlearn: 24.2303286\ttotal: 104ms\tremaining: 2.25s\n",
      "44:\tlearn: 24.1483682\ttotal: 106ms\tremaining: 2.25s\n",
      "45:\tlearn: 24.0625201\ttotal: 108ms\tremaining: 2.24s\n",
      "46:\tlearn: 23.9751822\ttotal: 110ms\tremaining: 2.23s\n",
      "47:\tlearn: 23.8875752\ttotal: 112ms\tremaining: 2.23s\n",
      "48:\tlearn: 23.8166984\ttotal: 114ms\tremaining: 2.22s\n",
      "49:\tlearn: 23.7440804\ttotal: 117ms\tremaining: 2.22s\n",
      "50:\tlearn: 23.6794233\ttotal: 119ms\tremaining: 2.21s\n",
      "51:\tlearn: 23.6050805\ttotal: 121ms\tremaining: 2.2s\n",
      "52:\tlearn: 23.5365154\ttotal: 123ms\tremaining: 2.2s\n",
      "53:\tlearn: 23.4761608\ttotal: 126ms\tremaining: 2.21s\n",
      "54:\tlearn: 23.4182645\ttotal: 128ms\tremaining: 2.21s\n",
      "55:\tlearn: 23.3521595\ttotal: 131ms\tremaining: 2.2s\n",
      "56:\tlearn: 23.2718892\ttotal: 132ms\tremaining: 2.19s\n",
      "57:\tlearn: 23.2188949\ttotal: 135ms\tremaining: 2.19s\n",
      "58:\tlearn: 23.1527398\ttotal: 137ms\tremaining: 2.18s\n",
      "59:\tlearn: 23.0843228\ttotal: 139ms\tremaining: 2.17s\n",
      "60:\tlearn: 23.0295390\ttotal: 141ms\tremaining: 2.16s\n",
      "61:\tlearn: 22.9808108\ttotal: 143ms\tremaining: 2.16s\n",
      "62:\tlearn: 22.9273931\ttotal: 145ms\tremaining: 2.15s\n",
      "63:\tlearn: 22.8792049\ttotal: 146ms\tremaining: 2.14s\n",
      "64:\tlearn: 22.8381979\ttotal: 149ms\tremaining: 2.14s\n",
      "65:\tlearn: 22.7979058\ttotal: 151ms\tremaining: 2.13s\n",
      "66:\tlearn: 22.7503068\ttotal: 153ms\tremaining: 2.12s\n",
      "67:\tlearn: 22.7019131\ttotal: 155ms\tremaining: 2.13s\n",
      "68:\tlearn: 22.6457092\ttotal: 157ms\tremaining: 2.12s\n",
      "69:\tlearn: 22.6033039\ttotal: 160ms\tremaining: 2.13s\n",
      "70:\tlearn: 22.5533698\ttotal: 162ms\tremaining: 2.12s\n",
      "71:\tlearn: 22.5123808\ttotal: 164ms\tremaining: 2.12s\n",
      "72:\tlearn: 22.4741074\ttotal: 167ms\tremaining: 2.12s\n",
      "73:\tlearn: 22.4330209\ttotal: 169ms\tremaining: 2.11s\n",
      "74:\tlearn: 22.3865078\ttotal: 171ms\tremaining: 2.11s\n",
      "75:\tlearn: 22.3443228\ttotal: 174ms\tremaining: 2.12s\n",
      "76:\tlearn: 22.3045019\ttotal: 176ms\tremaining: 2.11s\n",
      "77:\tlearn: 22.2719323\ttotal: 178ms\tremaining: 2.11s\n",
      "78:\tlearn: 22.2332873\ttotal: 181ms\tremaining: 2.1s\n",
      "79:\tlearn: 22.2047840\ttotal: 183ms\tremaining: 2.1s\n",
      "80:\tlearn: 22.1708432\ttotal: 185ms\tremaining: 2.1s\n",
      "81:\tlearn: 22.1267682\ttotal: 187ms\tremaining: 2.09s\n",
      "82:\tlearn: 22.0966156\ttotal: 189ms\tremaining: 2.09s\n",
      "83:\tlearn: 22.0604478\ttotal: 191ms\tremaining: 2.08s\n",
      "84:\tlearn: 22.0314910\ttotal: 193ms\tremaining: 2.08s\n",
      "85:\tlearn: 22.0048992\ttotal: 195ms\tremaining: 2.07s\n",
      "86:\tlearn: 21.9743804\ttotal: 197ms\tremaining: 2.07s\n",
      "87:\tlearn: 21.9440507\ttotal: 199ms\tremaining: 2.07s\n",
      "88:\tlearn: 21.9174436\ttotal: 202ms\tremaining: 2.06s\n",
      "89:\tlearn: 21.8902345\ttotal: 204ms\tremaining: 2.06s\n",
      "90:\tlearn: 21.8598579\ttotal: 206ms\tremaining: 2.05s\n",
      "91:\tlearn: 21.8285235\ttotal: 208ms\tremaining: 2.05s\n",
      "92:\tlearn: 21.8038446\ttotal: 210ms\tremaining: 2.04s\n",
      "93:\tlearn: 21.7717712\ttotal: 212ms\tremaining: 2.04s\n",
      "94:\tlearn: 21.7442964\ttotal: 214ms\tremaining: 2.04s\n",
      "95:\tlearn: 21.7241129\ttotal: 216ms\tremaining: 2.03s\n",
      "96:\tlearn: 21.6964162\ttotal: 218ms\tremaining: 2.03s\n",
      "97:\tlearn: 21.6715950\ttotal: 220ms\tremaining: 2.02s\n",
      "98:\tlearn: 21.6354136\ttotal: 222ms\tremaining: 2.02s\n",
      "99:\tlearn: 21.6143663\ttotal: 224ms\tremaining: 2.01s\n",
      "100:\tlearn: 21.5883966\ttotal: 226ms\tremaining: 2.01s\n",
      "101:\tlearn: 21.5510727\ttotal: 228ms\tremaining: 2s\n",
      "102:\tlearn: 21.5370508\ttotal: 230ms\tremaining: 2s\n",
      "103:\tlearn: 21.5197347\ttotal: 232ms\tremaining: 2s\n",
      "104:\tlearn: 21.4951369\ttotal: 234ms\tremaining: 1.99s\n",
      "105:\tlearn: 21.4719275\ttotal: 236ms\tremaining: 1.99s\n",
      "106:\tlearn: 21.4495629\ttotal: 238ms\tremaining: 1.98s\n",
      "107:\tlearn: 21.4303495\ttotal: 240ms\tremaining: 1.98s\n",
      "108:\tlearn: 21.4123607\ttotal: 242ms\tremaining: 1.98s\n",
      "109:\tlearn: 21.3924287\ttotal: 244ms\tremaining: 1.98s\n",
      "110:\tlearn: 21.3746548\ttotal: 246ms\tremaining: 1.97s\n",
      "111:\tlearn: 21.3556290\ttotal: 248ms\tremaining: 1.97s\n",
      "112:\tlearn: 21.3398551\ttotal: 250ms\tremaining: 1.96s\n",
      "113:\tlearn: 21.3202981\ttotal: 252ms\tremaining: 1.96s\n",
      "114:\tlearn: 21.3030364\ttotal: 254ms\tremaining: 1.96s\n",
      "115:\tlearn: 21.2846891\ttotal: 256ms\tremaining: 1.95s\n",
      "116:\tlearn: 21.2587580\ttotal: 258ms\tremaining: 1.95s\n",
      "117:\tlearn: 21.2373995\ttotal: 260ms\tremaining: 1.95s\n",
      "118:\tlearn: 21.2205482\ttotal: 263ms\tremaining: 1.94s\n",
      "119:\tlearn: 21.1972872\ttotal: 265ms\tremaining: 1.94s\n",
      "120:\tlearn: 21.1768040\ttotal: 267ms\tremaining: 1.94s\n",
      "121:\tlearn: 21.1594513\ttotal: 269ms\tremaining: 1.94s\n",
      "122:\tlearn: 21.1362839\ttotal: 271ms\tremaining: 1.93s\n",
      "123:\tlearn: 21.1192810\ttotal: 273ms\tremaining: 1.93s\n",
      "124:\tlearn: 21.1031627\ttotal: 275ms\tremaining: 1.92s\n",
      "125:\tlearn: 21.0863876\ttotal: 277ms\tremaining: 1.92s\n",
      "126:\tlearn: 21.0647417\ttotal: 279ms\tremaining: 1.92s\n",
      "127:\tlearn: 21.0458886\ttotal: 282ms\tremaining: 1.92s\n",
      "128:\tlearn: 21.0242511\ttotal: 284ms\tremaining: 1.92s\n",
      "129:\tlearn: 21.0102194\ttotal: 286ms\tremaining: 1.92s\n",
      "130:\tlearn: 20.9863363\ttotal: 288ms\tremaining: 1.91s\n",
      "131:\tlearn: 20.9731973\ttotal: 290ms\tremaining: 1.91s\n",
      "132:\tlearn: 20.9590324\ttotal: 293ms\tremaining: 1.91s\n",
      "133:\tlearn: 20.9459872\ttotal: 295ms\tremaining: 1.9s\n",
      "134:\tlearn: 20.9346001\ttotal: 297ms\tremaining: 1.9s\n",
      "135:\tlearn: 20.9109309\ttotal: 299ms\tremaining: 1.9s\n",
      "136:\tlearn: 20.8980660\ttotal: 301ms\tremaining: 1.89s\n",
      "137:\tlearn: 20.8859616\ttotal: 303ms\tremaining: 1.89s\n",
      "138:\tlearn: 20.8699928\ttotal: 305ms\tremaining: 1.89s\n",
      "139:\tlearn: 20.8567403\ttotal: 306ms\tremaining: 1.88s\n",
      "140:\tlearn: 20.8353597\ttotal: 309ms\tremaining: 1.88s\n",
      "141:\tlearn: 20.8043434\ttotal: 311ms\tremaining: 1.88s\n",
      "142:\tlearn: 20.7882173\ttotal: 313ms\tremaining: 1.87s\n",
      "143:\tlearn: 20.7727484\ttotal: 315ms\tremaining: 1.87s\n",
      "144:\tlearn: 20.7484448\ttotal: 317ms\tremaining: 1.87s\n",
      "145:\tlearn: 20.7301637\ttotal: 319ms\tremaining: 1.86s\n",
      "146:\tlearn: 20.7150397\ttotal: 321ms\tremaining: 1.86s\n",
      "147:\tlearn: 20.6985615\ttotal: 324ms\tremaining: 1.86s\n",
      "148:\tlearn: 20.6850851\ttotal: 326ms\tremaining: 1.86s\n",
      "149:\tlearn: 20.6737509\ttotal: 328ms\tremaining: 1.86s\n",
      "150:\tlearn: 20.6507217\ttotal: 330ms\tremaining: 1.85s\n",
      "151:\tlearn: 20.6267573\ttotal: 332ms\tremaining: 1.85s\n",
      "152:\tlearn: 20.6186824\ttotal: 334ms\tremaining: 1.85s\n",
      "153:\tlearn: 20.6031039\ttotal: 336ms\tremaining: 1.85s\n",
      "154:\tlearn: 20.5934258\ttotal: 338ms\tremaining: 1.84s\n",
      "155:\tlearn: 20.5726479\ttotal: 340ms\tremaining: 1.84s\n",
      "156:\tlearn: 20.5594051\ttotal: 342ms\tremaining: 1.84s\n",
      "157:\tlearn: 20.5486373\ttotal: 344ms\tremaining: 1.83s\n",
      "158:\tlearn: 20.5399524\ttotal: 346ms\tremaining: 1.83s\n",
      "159:\tlearn: 20.5276364\ttotal: 348ms\tremaining: 1.83s\n",
      "160:\tlearn: 20.5174104\ttotal: 350ms\tremaining: 1.82s\n",
      "161:\tlearn: 20.5060429\ttotal: 352ms\tremaining: 1.82s\n",
      "162:\tlearn: 20.4960363\ttotal: 354ms\tremaining: 1.82s\n",
      "163:\tlearn: 20.4793510\ttotal: 356ms\tremaining: 1.82s\n",
      "164:\tlearn: 20.4684643\ttotal: 358ms\tremaining: 1.81s\n",
      "165:\tlearn: 20.4580635\ttotal: 360ms\tremaining: 1.81s\n",
      "166:\tlearn: 20.4435732\ttotal: 362ms\tremaining: 1.81s\n",
      "167:\tlearn: 20.4308811\ttotal: 364ms\tremaining: 1.8s\n",
      "168:\tlearn: 20.4214344\ttotal: 367ms\tremaining: 1.8s\n",
      "169:\tlearn: 20.4129087\ttotal: 369ms\tremaining: 1.8s\n",
      "170:\tlearn: 20.4004055\ttotal: 371ms\tremaining: 1.8s\n",
      "171:\tlearn: 20.3910350\ttotal: 373ms\tremaining: 1.8s\n",
      "172:\tlearn: 20.3801274\ttotal: 376ms\tremaining: 1.79s\n",
      "173:\tlearn: 20.3599512\ttotal: 378ms\tremaining: 1.79s\n",
      "174:\tlearn: 20.3522497\ttotal: 380ms\tremaining: 1.79s\n",
      "175:\tlearn: 20.3434645\ttotal: 382ms\tremaining: 1.79s\n",
      "176:\tlearn: 20.3306496\ttotal: 384ms\tremaining: 1.78s\n",
      "177:\tlearn: 20.3178338\ttotal: 386ms\tremaining: 1.78s\n",
      "178:\tlearn: 20.2980695\ttotal: 388ms\tremaining: 1.78s\n",
      "179:\tlearn: 20.2818379\ttotal: 391ms\tremaining: 1.78s\n",
      "180:\tlearn: 20.2717681\ttotal: 393ms\tremaining: 1.78s\n",
      "181:\tlearn: 20.2580474\ttotal: 395ms\tremaining: 1.77s\n",
      "182:\tlearn: 20.2477605\ttotal: 397ms\tremaining: 1.77s\n",
      "183:\tlearn: 20.2324422\ttotal: 399ms\tremaining: 1.77s\n",
      "184:\tlearn: 20.2161911\ttotal: 401ms\tremaining: 1.76s\n",
      "185:\tlearn: 20.2093920\ttotal: 403ms\tremaining: 1.76s\n",
      "186:\tlearn: 20.1933174\ttotal: 405ms\tremaining: 1.76s\n",
      "187:\tlearn: 20.1813196\ttotal: 407ms\tremaining: 1.76s\n",
      "188:\tlearn: 20.1603683\ttotal: 409ms\tremaining: 1.75s\n",
      "189:\tlearn: 20.1495501\ttotal: 411ms\tremaining: 1.75s\n",
      "190:\tlearn: 20.1391049\ttotal: 413ms\tremaining: 1.75s\n",
      "191:\tlearn: 20.1284607\ttotal: 416ms\tremaining: 1.75s\n",
      "192:\tlearn: 20.1168221\ttotal: 418ms\tremaining: 1.75s\n",
      "193:\tlearn: 20.1132332\ttotal: 420ms\tremaining: 1.75s\n",
      "194:\tlearn: 20.1065500\ttotal: 422ms\tremaining: 1.74s\n",
      "195:\tlearn: 20.0964372\ttotal: 425ms\tremaining: 1.74s\n",
      "196:\tlearn: 20.0904182\ttotal: 427ms\tremaining: 1.74s\n",
      "197:\tlearn: 20.0789077\ttotal: 429ms\tremaining: 1.74s\n",
      "198:\tlearn: 20.0701642\ttotal: 431ms\tremaining: 1.73s\n",
      "199:\tlearn: 20.0620806\ttotal: 433ms\tremaining: 1.73s\n",
      "200:\tlearn: 20.0520003\ttotal: 435ms\tremaining: 1.73s\n",
      "201:\tlearn: 20.0366428\ttotal: 438ms\tremaining: 1.73s\n",
      "202:\tlearn: 20.0219523\ttotal: 440ms\tremaining: 1.73s\n",
      "203:\tlearn: 20.0138477\ttotal: 442ms\tremaining: 1.72s\n",
      "204:\tlearn: 20.0085175\ttotal: 444ms\tremaining: 1.72s\n",
      "205:\tlearn: 20.0003745\ttotal: 446ms\tremaining: 1.72s\n",
      "206:\tlearn: 19.9859302\ttotal: 448ms\tremaining: 1.72s\n",
      "207:\tlearn: 19.9778154\ttotal: 450ms\tremaining: 1.72s\n",
      "208:\tlearn: 19.9672314\ttotal: 453ms\tremaining: 1.71s\n",
      "209:\tlearn: 19.9560047\ttotal: 455ms\tremaining: 1.71s\n",
      "210:\tlearn: 19.9429798\ttotal: 457ms\tremaining: 1.71s\n",
      "211:\tlearn: 19.9348326\ttotal: 459ms\tremaining: 1.71s\n",
      "212:\tlearn: 19.9237316\ttotal: 461ms\tremaining: 1.7s\n",
      "213:\tlearn: 19.9161487\ttotal: 463ms\tremaining: 1.7s\n",
      "214:\tlearn: 19.9058673\ttotal: 465ms\tremaining: 1.7s\n",
      "215:\tlearn: 19.8956980\ttotal: 468ms\tremaining: 1.7s\n",
      "216:\tlearn: 19.8871471\ttotal: 471ms\tremaining: 1.7s\n",
      "217:\tlearn: 19.8735884\ttotal: 473ms\tremaining: 1.7s\n",
      "218:\tlearn: 19.8635753\ttotal: 475ms\tremaining: 1.69s\n",
      "219:\tlearn: 19.8580830\ttotal: 477ms\tremaining: 1.69s\n",
      "220:\tlearn: 19.8510361\ttotal: 479ms\tremaining: 1.69s\n",
      "221:\tlearn: 19.8430062\ttotal: 481ms\tremaining: 1.69s\n",
      "222:\tlearn: 19.8320014\ttotal: 484ms\tremaining: 1.68s\n",
      "223:\tlearn: 19.8264788\ttotal: 486ms\tremaining: 1.68s\n",
      "224:\tlearn: 19.8158865\ttotal: 488ms\tremaining: 1.68s\n",
      "225:\tlearn: 19.8020102\ttotal: 490ms\tremaining: 1.68s\n",
      "226:\tlearn: 19.7907198\ttotal: 493ms\tremaining: 1.68s\n",
      "227:\tlearn: 19.7773411\ttotal: 495ms\tremaining: 1.68s\n",
      "228:\tlearn: 19.7696010\ttotal: 498ms\tremaining: 1.68s\n",
      "229:\tlearn: 19.7627629\ttotal: 500ms\tremaining: 1.67s\n",
      "230:\tlearn: 19.7536730\ttotal: 502ms\tremaining: 1.67s\n",
      "231:\tlearn: 19.7447145\ttotal: 504ms\tremaining: 1.67s\n",
      "232:\tlearn: 19.7313045\ttotal: 506ms\tremaining: 1.67s\n",
      "233:\tlearn: 19.7190428\ttotal: 509ms\tremaining: 1.66s\n",
      "234:\tlearn: 19.7074251\ttotal: 511ms\tremaining: 1.66s\n",
      "235:\tlearn: 19.7026038\ttotal: 513ms\tremaining: 1.66s\n",
      "236:\tlearn: 19.6914426\ttotal: 515ms\tremaining: 1.66s\n",
      "237:\tlearn: 19.6825917\ttotal: 517ms\tremaining: 1.65s\n",
      "238:\tlearn: 19.6649893\ttotal: 519ms\tremaining: 1.65s\n",
      "239:\tlearn: 19.6579596\ttotal: 521ms\tremaining: 1.65s\n",
      "240:\tlearn: 19.6525336\ttotal: 523ms\tremaining: 1.65s\n",
      "241:\tlearn: 19.6434387\ttotal: 525ms\tremaining: 1.64s\n",
      "242:\tlearn: 19.6377939\ttotal: 527ms\tremaining: 1.64s\n",
      "243:\tlearn: 19.6239191\ttotal: 529ms\tremaining: 1.64s\n",
      "244:\tlearn: 19.6214563\ttotal: 531ms\tremaining: 1.64s\n",
      "245:\tlearn: 19.6093560\ttotal: 533ms\tremaining: 1.63s\n",
      "246:\tlearn: 19.6032851\ttotal: 535ms\tremaining: 1.63s\n",
      "247:\tlearn: 19.5984450\ttotal: 538ms\tremaining: 1.63s\n",
      "248:\tlearn: 19.5903459\ttotal: 540ms\tremaining: 1.63s\n",
      "249:\tlearn: 19.5751203\ttotal: 542ms\tremaining: 1.63s\n",
      "250:\tlearn: 19.5652285\ttotal: 544ms\tremaining: 1.62s\n",
      "251:\tlearn: 19.5574103\ttotal: 546ms\tremaining: 1.62s\n",
      "252:\tlearn: 19.5482018\ttotal: 548ms\tremaining: 1.62s\n",
      "253:\tlearn: 19.5395116\ttotal: 550ms\tremaining: 1.61s\n",
      "254:\tlearn: 19.5279807\ttotal: 552ms\tremaining: 1.61s\n",
      "255:\tlearn: 19.5169522\ttotal: 554ms\tremaining: 1.61s\n",
      "256:\tlearn: 19.5076526\ttotal: 556ms\tremaining: 1.61s\n",
      "257:\tlearn: 19.4965794\ttotal: 559ms\tremaining: 1.61s\n",
      "258:\tlearn: 19.4903484\ttotal: 561ms\tremaining: 1.6s\n",
      "259:\tlearn: 19.4852419\ttotal: 563ms\tremaining: 1.6s\n",
      "260:\tlearn: 19.4735230\ttotal: 565ms\tremaining: 1.6s\n",
      "261:\tlearn: 19.4656116\ttotal: 567ms\tremaining: 1.6s\n",
      "262:\tlearn: 19.4560739\ttotal: 569ms\tremaining: 1.59s\n",
      "263:\tlearn: 19.4358690\ttotal: 571ms\tremaining: 1.59s\n",
      "264:\tlearn: 19.4250687\ttotal: 573ms\tremaining: 1.59s\n",
      "265:\tlearn: 19.4234104\ttotal: 575ms\tremaining: 1.59s\n",
      "266:\tlearn: 19.4135379\ttotal: 579ms\tremaining: 1.59s\n",
      "267:\tlearn: 19.4046247\ttotal: 582ms\tremaining: 1.59s\n",
      "268:\tlearn: 19.3931708\ttotal: 585ms\tremaining: 1.59s\n",
      "269:\tlearn: 19.3829974\ttotal: 588ms\tremaining: 1.59s\n",
      "270:\tlearn: 19.3775566\ttotal: 590ms\tremaining: 1.59s\n",
      "271:\tlearn: 19.3656893\ttotal: 592ms\tremaining: 1.58s\n",
      "272:\tlearn: 19.3566620\ttotal: 594ms\tremaining: 1.58s\n",
      "273:\tlearn: 19.3453292\ttotal: 596ms\tremaining: 1.58s\n",
      "274:\tlearn: 19.3316585\ttotal: 598ms\tremaining: 1.58s\n",
      "275:\tlearn: 19.3247367\ttotal: 600ms\tremaining: 1.57s\n",
      "276:\tlearn: 19.3166921\ttotal: 602ms\tremaining: 1.57s\n",
      "277:\tlearn: 19.3065772\ttotal: 605ms\tremaining: 1.57s\n",
      "278:\tlearn: 19.2991377\ttotal: 607ms\tremaining: 1.57s\n",
      "279:\tlearn: 19.2899311\ttotal: 610ms\tremaining: 1.57s\n",
      "280:\tlearn: 19.2807953\ttotal: 614ms\tremaining: 1.57s\n",
      "281:\tlearn: 19.2727899\ttotal: 616ms\tremaining: 1.57s\n",
      "282:\tlearn: 19.2720640\ttotal: 620ms\tremaining: 1.57s\n",
      "283:\tlearn: 19.2601967\ttotal: 623ms\tremaining: 1.57s\n",
      "284:\tlearn: 19.2482587\ttotal: 626ms\tremaining: 1.57s\n",
      "285:\tlearn: 19.2420168\ttotal: 629ms\tremaining: 1.57s\n",
      "286:\tlearn: 19.2277779\ttotal: 633ms\tremaining: 1.57s\n",
      "287:\tlearn: 19.2235642\ttotal: 636ms\tremaining: 1.57s\n",
      "288:\tlearn: 19.2064613\ttotal: 640ms\tremaining: 1.57s\n",
      "289:\tlearn: 19.1963313\ttotal: 643ms\tremaining: 1.57s\n",
      "290:\tlearn: 19.1856202\ttotal: 646ms\tremaining: 1.57s\n",
      "291:\tlearn: 19.1765264\ttotal: 650ms\tremaining: 1.58s\n",
      "292:\tlearn: 19.1688648\ttotal: 654ms\tremaining: 1.58s\n",
      "293:\tlearn: 19.1617109\ttotal: 657ms\tremaining: 1.58s\n",
      "294:\tlearn: 19.1540193\ttotal: 661ms\tremaining: 1.58s\n",
      "295:\tlearn: 19.1474330\ttotal: 665ms\tremaining: 1.58s\n",
      "296:\tlearn: 19.1375018\ttotal: 669ms\tremaining: 1.58s\n",
      "297:\tlearn: 19.1284675\ttotal: 672ms\tremaining: 1.58s\n",
      "298:\tlearn: 19.1189005\ttotal: 677ms\tremaining: 1.59s\n",
      "299:\tlearn: 19.1089098\ttotal: 681ms\tremaining: 1.59s\n",
      "300:\tlearn: 19.1007508\ttotal: 684ms\tremaining: 1.59s\n",
      "301:\tlearn: 19.0993426\ttotal: 688ms\tremaining: 1.59s\n",
      "302:\tlearn: 19.0923110\ttotal: 692ms\tremaining: 1.59s\n",
      "303:\tlearn: 19.0841281\ttotal: 695ms\tremaining: 1.59s\n",
      "304:\tlearn: 19.0693153\ttotal: 699ms\tremaining: 1.59s\n",
      "305:\tlearn: 19.0637158\ttotal: 703ms\tremaining: 1.59s\n",
      "306:\tlearn: 19.0550984\ttotal: 706ms\tremaining: 1.59s\n",
      "307:\tlearn: 19.0487838\ttotal: 709ms\tremaining: 1.59s\n",
      "308:\tlearn: 19.0387185\ttotal: 712ms\tremaining: 1.59s\n",
      "309:\tlearn: 19.0277828\ttotal: 714ms\tremaining: 1.59s\n",
      "310:\tlearn: 19.0218379\ttotal: 717ms\tremaining: 1.59s\n",
      "311:\tlearn: 19.0148353\ttotal: 720ms\tremaining: 1.59s\n",
      "312:\tlearn: 19.0120964\ttotal: 723ms\tremaining: 1.59s\n",
      "313:\tlearn: 19.0060231\ttotal: 725ms\tremaining: 1.58s\n",
      "314:\tlearn: 18.9966653\ttotal: 729ms\tremaining: 1.58s\n",
      "315:\tlearn: 18.9884177\ttotal: 733ms\tremaining: 1.59s\n",
      "316:\tlearn: 18.9788107\ttotal: 736ms\tremaining: 1.58s\n",
      "317:\tlearn: 18.9721553\ttotal: 738ms\tremaining: 1.58s\n",
      "318:\tlearn: 18.9622546\ttotal: 741ms\tremaining: 1.58s\n",
      "319:\tlearn: 18.9542884\ttotal: 744ms\tremaining: 1.58s\n",
      "320:\tlearn: 18.9535107\ttotal: 746ms\tremaining: 1.58s\n",
      "321:\tlearn: 18.9430339\ttotal: 748ms\tremaining: 1.57s\n",
      "322:\tlearn: 18.9358575\ttotal: 751ms\tremaining: 1.57s\n",
      "323:\tlearn: 18.9244246\ttotal: 753ms\tremaining: 1.57s\n",
      "324:\tlearn: 18.9234309\ttotal: 756ms\tremaining: 1.57s\n",
      "325:\tlearn: 18.9225485\ttotal: 759ms\tremaining: 1.57s\n",
      "326:\tlearn: 18.9194435\ttotal: 761ms\tremaining: 1.57s\n",
      "327:\tlearn: 18.9117155\ttotal: 764ms\tremaining: 1.56s\n",
      "328:\tlearn: 18.9030415\ttotal: 767ms\tremaining: 1.56s\n",
      "329:\tlearn: 18.8968211\ttotal: 769ms\tremaining: 1.56s\n",
      "330:\tlearn: 18.8960463\ttotal: 772ms\tremaining: 1.56s\n",
      "331:\tlearn: 18.8931464\ttotal: 775ms\tremaining: 1.56s\n",
      "332:\tlearn: 18.8856487\ttotal: 778ms\tremaining: 1.56s\n",
      "333:\tlearn: 18.8754107\ttotal: 781ms\tremaining: 1.56s\n",
      "334:\tlearn: 18.8704841\ttotal: 784ms\tremaining: 1.55s\n",
      "335:\tlearn: 18.8649850\ttotal: 786ms\tremaining: 1.55s\n",
      "336:\tlearn: 18.8578344\ttotal: 789ms\tremaining: 1.55s\n",
      "337:\tlearn: 18.8492575\ttotal: 793ms\tremaining: 1.55s\n",
      "338:\tlearn: 18.8421609\ttotal: 796ms\tremaining: 1.55s\n",
      "339:\tlearn: 18.8383392\ttotal: 800ms\tremaining: 1.55s\n",
      "340:\tlearn: 18.8370445\ttotal: 804ms\tremaining: 1.55s\n",
      "341:\tlearn: 18.8278448\ttotal: 807ms\tremaining: 1.55s\n",
      "342:\tlearn: 18.8216425\ttotal: 810ms\tremaining: 1.55s\n",
      "343:\tlearn: 18.8191153\ttotal: 812ms\tremaining: 1.55s\n",
      "344:\tlearn: 18.8107244\ttotal: 815ms\tremaining: 1.55s\n",
      "345:\tlearn: 18.8033768\ttotal: 818ms\tremaining: 1.55s\n",
      "346:\tlearn: 18.7952800\ttotal: 821ms\tremaining: 1.54s\n",
      "347:\tlearn: 18.7836365\ttotal: 825ms\tremaining: 1.54s\n",
      "348:\tlearn: 18.7749754\ttotal: 827ms\tremaining: 1.54s\n",
      "349:\tlearn: 18.7660438\ttotal: 830ms\tremaining: 1.54s\n",
      "350:\tlearn: 18.7584851\ttotal: 833ms\tremaining: 1.54s\n",
      "351:\tlearn: 18.7576586\ttotal: 836ms\tremaining: 1.54s\n",
      "352:\tlearn: 18.7490796\ttotal: 839ms\tremaining: 1.54s\n",
      "353:\tlearn: 18.7482999\ttotal: 842ms\tremaining: 1.54s\n",
      "354:\tlearn: 18.7419012\ttotal: 845ms\tremaining: 1.54s\n",
      "355:\tlearn: 18.7337669\ttotal: 848ms\tremaining: 1.53s\n",
      "356:\tlearn: 18.7287066\ttotal: 851ms\tremaining: 1.53s\n",
      "357:\tlearn: 18.7279829\ttotal: 854ms\tremaining: 1.53s\n",
      "358:\tlearn: 18.7273285\ttotal: 856ms\tremaining: 1.53s\n",
      "359:\tlearn: 18.7211853\ttotal: 860ms\tremaining: 1.53s\n",
      "360:\tlearn: 18.7117231\ttotal: 863ms\tremaining: 1.53s\n",
      "361:\tlearn: 18.7006334\ttotal: 865ms\tremaining: 1.52s\n",
      "362:\tlearn: 18.6928626\ttotal: 869ms\tremaining: 1.52s\n",
      "363:\tlearn: 18.6921400\ttotal: 871ms\tremaining: 1.52s\n",
      "364:\tlearn: 18.6848886\ttotal: 873ms\tremaining: 1.52s\n",
      "365:\tlearn: 18.6841296\ttotal: 875ms\tremaining: 1.51s\n",
      "366:\tlearn: 18.6729190\ttotal: 877ms\tremaining: 1.51s\n",
      "367:\tlearn: 18.6702896\ttotal: 879ms\tremaining: 1.51s\n",
      "368:\tlearn: 18.6667845\ttotal: 881ms\tremaining: 1.51s\n",
      "369:\tlearn: 18.6660350\ttotal: 883ms\tremaining: 1.5s\n",
      "370:\tlearn: 18.6509890\ttotal: 885ms\tremaining: 1.5s\n",
      "371:\tlearn: 18.6494846\ttotal: 887ms\tremaining: 1.5s\n",
      "372:\tlearn: 18.6396785\ttotal: 889ms\tremaining: 1.49s\n",
      "373:\tlearn: 18.6293309\ttotal: 891ms\tremaining: 1.49s\n",
      "374:\tlearn: 18.6210216\ttotal: 893ms\tremaining: 1.49s\n",
      "375:\tlearn: 18.6063201\ttotal: 895ms\tremaining: 1.49s\n",
      "376:\tlearn: 18.5937778\ttotal: 897ms\tremaining: 1.48s\n",
      "377:\tlearn: 18.5859888\ttotal: 899ms\tremaining: 1.48s\n",
      "378:\tlearn: 18.5769424\ttotal: 901ms\tremaining: 1.48s\n",
      "379:\tlearn: 18.5674993\ttotal: 903ms\tremaining: 1.47s\n",
      "380:\tlearn: 18.5595191\ttotal: 906ms\tremaining: 1.47s\n",
      "381:\tlearn: 18.5513293\ttotal: 908ms\tremaining: 1.47s\n",
      "382:\tlearn: 18.5415062\ttotal: 910ms\tremaining: 1.47s\n",
      "383:\tlearn: 18.5405697\ttotal: 912ms\tremaining: 1.46s\n",
      "384:\tlearn: 18.5311719\ttotal: 915ms\tremaining: 1.46s\n",
      "385:\tlearn: 18.5228671\ttotal: 917ms\tremaining: 1.46s\n",
      "386:\tlearn: 18.5125909\ttotal: 919ms\tremaining: 1.46s\n",
      "387:\tlearn: 18.5050693\ttotal: 922ms\tremaining: 1.45s\n",
      "388:\tlearn: 18.4979801\ttotal: 924ms\tremaining: 1.45s\n",
      "389:\tlearn: 18.4918263\ttotal: 927ms\tremaining: 1.45s\n",
      "390:\tlearn: 18.4848077\ttotal: 930ms\tremaining: 1.45s\n",
      "391:\tlearn: 18.4767706\ttotal: 934ms\tremaining: 1.45s\n",
      "392:\tlearn: 18.4696461\ttotal: 937ms\tremaining: 1.45s\n",
      "393:\tlearn: 18.4580789\ttotal: 940ms\tremaining: 1.45s\n",
      "394:\tlearn: 18.4474913\ttotal: 943ms\tremaining: 1.44s\n",
      "395:\tlearn: 18.4387734\ttotal: 946ms\tremaining: 1.44s\n",
      "396:\tlearn: 18.4316996\ttotal: 948ms\tremaining: 1.44s\n",
      "397:\tlearn: 18.4185261\ttotal: 951ms\tremaining: 1.44s\n",
      "398:\tlearn: 18.4116841\ttotal: 955ms\tremaining: 1.44s\n",
      "399:\tlearn: 18.4060524\ttotal: 958ms\tremaining: 1.44s\n",
      "400:\tlearn: 18.3997179\ttotal: 962ms\tremaining: 1.44s\n",
      "401:\tlearn: 18.3903878\ttotal: 965ms\tremaining: 1.44s\n",
      "402:\tlearn: 18.3834448\ttotal: 968ms\tremaining: 1.43s\n",
      "403:\tlearn: 18.3755890\ttotal: 971ms\tremaining: 1.43s\n",
      "404:\tlearn: 18.3680006\ttotal: 974ms\tremaining: 1.43s\n",
      "405:\tlearn: 18.3577323\ttotal: 977ms\tremaining: 1.43s\n",
      "406:\tlearn: 18.3507282\ttotal: 979ms\tremaining: 1.43s\n",
      "407:\tlearn: 18.3388964\ttotal: 982ms\tremaining: 1.42s\n",
      "408:\tlearn: 18.3323493\ttotal: 984ms\tremaining: 1.42s\n",
      "409:\tlearn: 18.3256074\ttotal: 986ms\tremaining: 1.42s\n",
      "410:\tlearn: 18.3249384\ttotal: 988ms\tremaining: 1.42s\n",
      "411:\tlearn: 18.3198210\ttotal: 990ms\tremaining: 1.41s\n",
      "412:\tlearn: 18.3132508\ttotal: 992ms\tremaining: 1.41s\n",
      "413:\tlearn: 18.3126083\ttotal: 994ms\tremaining: 1.41s\n",
      "414:\tlearn: 18.3054833\ttotal: 996ms\tremaining: 1.4s\n",
      "415:\tlearn: 18.2993331\ttotal: 998ms\tremaining: 1.4s\n",
      "416:\tlearn: 18.2923510\ttotal: 1s\tremaining: 1.4s\n",
      "417:\tlearn: 18.2833349\ttotal: 1s\tremaining: 1.4s\n",
      "418:\tlearn: 18.2826515\ttotal: 1s\tremaining: 1.39s\n",
      "419:\tlearn: 18.2727594\ttotal: 1.01s\tremaining: 1.39s\n",
      "420:\tlearn: 18.2720878\ttotal: 1.01s\tremaining: 1.39s\n",
      "421:\tlearn: 18.2588745\ttotal: 1.01s\tremaining: 1.38s\n",
      "422:\tlearn: 18.2511143\ttotal: 1.01s\tremaining: 1.38s\n",
      "423:\tlearn: 18.2419178\ttotal: 1.01s\tremaining: 1.38s\n",
      "424:\tlearn: 18.2344381\ttotal: 1.02s\tremaining: 1.38s\n",
      "425:\tlearn: 18.2246846\ttotal: 1.02s\tremaining: 1.37s\n",
      "426:\tlearn: 18.2183259\ttotal: 1.02s\tremaining: 1.37s\n",
      "427:\tlearn: 18.2093122\ttotal: 1.02s\tremaining: 1.37s\n",
      "428:\tlearn: 18.1989458\ttotal: 1.03s\tremaining: 1.36s\n",
      "429:\tlearn: 18.1869481\ttotal: 1.03s\tremaining: 1.36s\n",
      "430:\tlearn: 18.1825646\ttotal: 1.03s\tremaining: 1.36s\n",
      "431:\tlearn: 18.1748472\ttotal: 1.03s\tremaining: 1.36s\n",
      "432:\tlearn: 18.1656745\ttotal: 1.03s\tremaining: 1.35s\n",
      "433:\tlearn: 18.1590535\ttotal: 1.04s\tremaining: 1.35s\n",
      "434:\tlearn: 18.1526400\ttotal: 1.04s\tremaining: 1.35s\n",
      "435:\tlearn: 18.1457498\ttotal: 1.04s\tremaining: 1.35s\n",
      "436:\tlearn: 18.1352579\ttotal: 1.04s\tremaining: 1.34s\n",
      "437:\tlearn: 18.1250790\ttotal: 1.04s\tremaining: 1.34s\n",
      "438:\tlearn: 18.1240327\ttotal: 1.05s\tremaining: 1.34s\n",
      "439:\tlearn: 18.1173009\ttotal: 1.05s\tremaining: 1.33s\n",
      "440:\tlearn: 18.1117461\ttotal: 1.05s\tremaining: 1.33s\n",
      "441:\tlearn: 18.1035984\ttotal: 1.05s\tremaining: 1.33s\n",
      "442:\tlearn: 18.0960569\ttotal: 1.06s\tremaining: 1.33s\n",
      "443:\tlearn: 18.0881765\ttotal: 1.06s\tremaining: 1.32s\n",
      "444:\tlearn: 18.0791740\ttotal: 1.06s\tremaining: 1.32s\n",
      "445:\tlearn: 18.0702513\ttotal: 1.06s\tremaining: 1.32s\n",
      "446:\tlearn: 18.0592257\ttotal: 1.06s\tremaining: 1.32s\n",
      "447:\tlearn: 18.0512044\ttotal: 1.07s\tremaining: 1.31s\n",
      "448:\tlearn: 18.0504971\ttotal: 1.07s\tremaining: 1.31s\n",
      "449:\tlearn: 18.0438454\ttotal: 1.07s\tremaining: 1.31s\n",
      "450:\tlearn: 18.0375538\ttotal: 1.07s\tremaining: 1.31s\n",
      "451:\tlearn: 18.0254939\ttotal: 1.07s\tremaining: 1.3s\n",
      "452:\tlearn: 18.0246904\ttotal: 1.08s\tremaining: 1.3s\n",
      "453:\tlearn: 18.0201403\ttotal: 1.08s\tremaining: 1.3s\n",
      "454:\tlearn: 18.0102118\ttotal: 1.08s\tremaining: 1.29s\n",
      "455:\tlearn: 18.0017139\ttotal: 1.08s\tremaining: 1.29s\n",
      "456:\tlearn: 17.9954326\ttotal: 1.08s\tremaining: 1.29s\n",
      "457:\tlearn: 17.9876894\ttotal: 1.09s\tremaining: 1.29s\n",
      "458:\tlearn: 17.9784537\ttotal: 1.09s\tremaining: 1.28s\n",
      "459:\tlearn: 17.9692263\ttotal: 1.09s\tremaining: 1.28s\n",
      "460:\tlearn: 17.9682495\ttotal: 1.09s\tremaining: 1.28s\n",
      "461:\tlearn: 17.9597364\ttotal: 1.09s\tremaining: 1.28s\n",
      "462:\tlearn: 17.9591342\ttotal: 1.1s\tremaining: 1.27s\n",
      "463:\tlearn: 17.9540337\ttotal: 1.1s\tremaining: 1.27s\n",
      "464:\tlearn: 17.9453555\ttotal: 1.1s\tremaining: 1.27s\n",
      "465:\tlearn: 17.9399863\ttotal: 1.1s\tremaining: 1.26s\n",
      "466:\tlearn: 17.9354972\ttotal: 1.1s\tremaining: 1.26s\n",
      "467:\tlearn: 17.9284086\ttotal: 1.11s\tremaining: 1.26s\n",
      "468:\tlearn: 17.9201685\ttotal: 1.11s\tremaining: 1.25s\n",
      "469:\tlearn: 17.9117349\ttotal: 1.11s\tremaining: 1.25s\n",
      "470:\tlearn: 17.9064611\ttotal: 1.11s\tremaining: 1.25s\n",
      "471:\tlearn: 17.8955958\ttotal: 1.11s\tremaining: 1.25s\n",
      "472:\tlearn: 17.8877184\ttotal: 1.12s\tremaining: 1.24s\n",
      "473:\tlearn: 17.8799212\ttotal: 1.12s\tremaining: 1.24s\n",
      "474:\tlearn: 17.8707868\ttotal: 1.12s\tremaining: 1.24s\n",
      "475:\tlearn: 17.8629306\ttotal: 1.12s\tremaining: 1.24s\n",
      "476:\tlearn: 17.8570751\ttotal: 1.13s\tremaining: 1.23s\n",
      "477:\tlearn: 17.8477369\ttotal: 1.13s\tremaining: 1.23s\n",
      "478:\tlearn: 17.8387776\ttotal: 1.13s\tremaining: 1.23s\n",
      "479:\tlearn: 17.8316951\ttotal: 1.13s\tremaining: 1.23s\n",
      "480:\tlearn: 17.8309870\ttotal: 1.13s\tremaining: 1.22s\n",
      "481:\tlearn: 17.8259524\ttotal: 1.14s\tremaining: 1.22s\n",
      "482:\tlearn: 17.8253310\ttotal: 1.14s\tremaining: 1.22s\n",
      "483:\tlearn: 17.8200492\ttotal: 1.14s\tremaining: 1.22s\n",
      "484:\tlearn: 17.8134802\ttotal: 1.14s\tremaining: 1.21s\n",
      "485:\tlearn: 17.8128814\ttotal: 1.14s\tremaining: 1.21s\n",
      "486:\tlearn: 17.8070694\ttotal: 1.15s\tremaining: 1.21s\n",
      "487:\tlearn: 17.7962626\ttotal: 1.15s\tremaining: 1.2s\n",
      "488:\tlearn: 17.7886976\ttotal: 1.15s\tremaining: 1.2s\n",
      "489:\tlearn: 17.7817456\ttotal: 1.15s\tremaining: 1.2s\n",
      "490:\tlearn: 17.7726734\ttotal: 1.15s\tremaining: 1.2s\n",
      "491:\tlearn: 17.7667457\ttotal: 1.16s\tremaining: 1.19s\n",
      "492:\tlearn: 17.7604509\ttotal: 1.16s\tremaining: 1.19s\n",
      "493:\tlearn: 17.7496120\ttotal: 1.16s\tremaining: 1.19s\n",
      "494:\tlearn: 17.7393856\ttotal: 1.16s\tremaining: 1.19s\n",
      "495:\tlearn: 17.7331978\ttotal: 1.16s\tremaining: 1.18s\n",
      "496:\tlearn: 17.7246360\ttotal: 1.17s\tremaining: 1.18s\n",
      "497:\tlearn: 17.7152369\ttotal: 1.17s\tremaining: 1.18s\n",
      "498:\tlearn: 17.7145565\ttotal: 1.17s\tremaining: 1.17s\n",
      "499:\tlearn: 17.7137373\ttotal: 1.17s\tremaining: 1.17s\n",
      "500:\tlearn: 17.7077267\ttotal: 1.17s\tremaining: 1.17s\n",
      "501:\tlearn: 17.6987563\ttotal: 1.18s\tremaining: 1.17s\n",
      "502:\tlearn: 17.6915064\ttotal: 1.18s\tremaining: 1.16s\n",
      "503:\tlearn: 17.6826473\ttotal: 1.18s\tremaining: 1.16s\n",
      "504:\tlearn: 17.6747238\ttotal: 1.18s\tremaining: 1.16s\n",
      "505:\tlearn: 17.6660083\ttotal: 1.18s\tremaining: 1.16s\n",
      "506:\tlearn: 17.6573331\ttotal: 1.19s\tremaining: 1.15s\n",
      "507:\tlearn: 17.6507656\ttotal: 1.19s\tremaining: 1.15s\n",
      "508:\tlearn: 17.6413568\ttotal: 1.19s\tremaining: 1.15s\n",
      "509:\tlearn: 17.6339936\ttotal: 1.19s\tremaining: 1.15s\n",
      "510:\tlearn: 17.6267446\ttotal: 1.19s\tremaining: 1.14s\n",
      "511:\tlearn: 17.6220112\ttotal: 1.2s\tremaining: 1.14s\n",
      "512:\tlearn: 17.6213534\ttotal: 1.2s\tremaining: 1.14s\n",
      "513:\tlearn: 17.6129505\ttotal: 1.2s\tremaining: 1.13s\n",
      "514:\tlearn: 17.6070448\ttotal: 1.2s\tremaining: 1.13s\n",
      "515:\tlearn: 17.6007993\ttotal: 1.2s\tremaining: 1.13s\n",
      "516:\tlearn: 17.5915937\ttotal: 1.21s\tremaining: 1.13s\n",
      "517:\tlearn: 17.5814537\ttotal: 1.21s\tremaining: 1.12s\n",
      "518:\tlearn: 17.5717418\ttotal: 1.21s\tremaining: 1.12s\n",
      "519:\tlearn: 17.5651759\ttotal: 1.21s\tremaining: 1.12s\n",
      "520:\tlearn: 17.5595060\ttotal: 1.21s\tremaining: 1.12s\n",
      "521:\tlearn: 17.5516681\ttotal: 1.22s\tremaining: 1.11s\n",
      "522:\tlearn: 17.5431516\ttotal: 1.22s\tremaining: 1.11s\n",
      "523:\tlearn: 17.5356275\ttotal: 1.22s\tremaining: 1.11s\n",
      "524:\tlearn: 17.5283755\ttotal: 1.22s\tremaining: 1.11s\n",
      "525:\tlearn: 17.5221033\ttotal: 1.23s\tremaining: 1.1s\n",
      "526:\tlearn: 17.5214826\ttotal: 1.23s\tremaining: 1.1s\n",
      "527:\tlearn: 17.5191475\ttotal: 1.23s\tremaining: 1.1s\n",
      "528:\tlearn: 17.5121732\ttotal: 1.23s\tremaining: 1.1s\n",
      "529:\tlearn: 17.5064406\ttotal: 1.23s\tremaining: 1.09s\n",
      "530:\tlearn: 17.4998337\ttotal: 1.24s\tremaining: 1.09s\n",
      "531:\tlearn: 17.4935311\ttotal: 1.24s\tremaining: 1.09s\n",
      "532:\tlearn: 17.4854002\ttotal: 1.24s\tremaining: 1.08s\n",
      "533:\tlearn: 17.4777337\ttotal: 1.24s\tremaining: 1.08s\n",
      "534:\tlearn: 17.4700027\ttotal: 1.24s\tremaining: 1.08s\n",
      "535:\tlearn: 17.4644396\ttotal: 1.25s\tremaining: 1.08s\n",
      "536:\tlearn: 17.4560857\ttotal: 1.25s\tremaining: 1.07s\n",
      "537:\tlearn: 17.4501453\ttotal: 1.25s\tremaining: 1.07s\n",
      "538:\tlearn: 17.4413332\ttotal: 1.25s\tremaining: 1.07s\n",
      "539:\tlearn: 17.4332241\ttotal: 1.25s\tremaining: 1.07s\n",
      "540:\tlearn: 17.4269093\ttotal: 1.25s\tremaining: 1.06s\n",
      "541:\tlearn: 17.4214703\ttotal: 1.26s\tremaining: 1.06s\n",
      "542:\tlearn: 17.4138113\ttotal: 1.26s\tremaining: 1.06s\n",
      "543:\tlearn: 17.4043800\ttotal: 1.26s\tremaining: 1.06s\n",
      "544:\tlearn: 17.3990213\ttotal: 1.26s\tremaining: 1.05s\n",
      "545:\tlearn: 17.3939784\ttotal: 1.26s\tremaining: 1.05s\n",
      "546:\tlearn: 17.3860262\ttotal: 1.27s\tremaining: 1.05s\n",
      "547:\tlearn: 17.3817155\ttotal: 1.27s\tremaining: 1.05s\n",
      "548:\tlearn: 17.3742983\ttotal: 1.27s\tremaining: 1.04s\n",
      "549:\tlearn: 17.3599284\ttotal: 1.27s\tremaining: 1.04s\n",
      "550:\tlearn: 17.3533786\ttotal: 1.27s\tremaining: 1.04s\n",
      "551:\tlearn: 17.3482659\ttotal: 1.28s\tremaining: 1.04s\n",
      "552:\tlearn: 17.3413141\ttotal: 1.28s\tremaining: 1.03s\n",
      "553:\tlearn: 17.3395030\ttotal: 1.28s\tremaining: 1.03s\n",
      "554:\tlearn: 17.3302575\ttotal: 1.28s\tremaining: 1.03s\n",
      "555:\tlearn: 17.3251194\ttotal: 1.28s\tremaining: 1.03s\n",
      "556:\tlearn: 17.3177610\ttotal: 1.29s\tremaining: 1.02s\n",
      "557:\tlearn: 17.3114247\ttotal: 1.29s\tremaining: 1.02s\n",
      "558:\tlearn: 17.3056445\ttotal: 1.29s\tremaining: 1.02s\n",
      "559:\tlearn: 17.2980693\ttotal: 1.29s\tremaining: 1.02s\n",
      "560:\tlearn: 17.2923362\ttotal: 1.29s\tremaining: 1.01s\n",
      "561:\tlearn: 17.2842461\ttotal: 1.3s\tremaining: 1.01s\n",
      "562:\tlearn: 17.2783150\ttotal: 1.3s\tremaining: 1.01s\n",
      "563:\tlearn: 17.2757470\ttotal: 1.3s\tremaining: 1.01s\n",
      "564:\tlearn: 17.2706933\ttotal: 1.3s\tremaining: 1s\n",
      "565:\tlearn: 17.2617737\ttotal: 1.31s\tremaining: 1s\n",
      "566:\tlearn: 17.2524549\ttotal: 1.31s\tremaining: 1000ms\n",
      "567:\tlearn: 17.2439324\ttotal: 1.31s\tremaining: 998ms\n",
      "568:\tlearn: 17.2360250\ttotal: 1.31s\tremaining: 995ms\n",
      "569:\tlearn: 17.2308168\ttotal: 1.31s\tremaining: 993ms\n",
      "570:\tlearn: 17.2255019\ttotal: 1.32s\tremaining: 990ms\n",
      "571:\tlearn: 17.2194401\ttotal: 1.32s\tremaining: 988ms\n",
      "572:\tlearn: 17.2128739\ttotal: 1.32s\tremaining: 986ms\n",
      "573:\tlearn: 17.2057677\ttotal: 1.32s\tremaining: 984ms\n",
      "574:\tlearn: 17.1978528\ttotal: 1.33s\tremaining: 981ms\n",
      "575:\tlearn: 17.1931017\ttotal: 1.33s\tremaining: 979ms\n",
      "576:\tlearn: 17.1880642\ttotal: 1.33s\tremaining: 977ms\n",
      "577:\tlearn: 17.1837438\ttotal: 1.33s\tremaining: 974ms\n",
      "578:\tlearn: 17.1831578\ttotal: 1.34s\tremaining: 972ms\n",
      "579:\tlearn: 17.1759973\ttotal: 1.34s\tremaining: 969ms\n",
      "580:\tlearn: 17.1684051\ttotal: 1.34s\tremaining: 967ms\n",
      "581:\tlearn: 17.1613975\ttotal: 1.34s\tremaining: 965ms\n",
      "582:\tlearn: 17.1521504\ttotal: 1.34s\tremaining: 962ms\n",
      "583:\tlearn: 17.1471054\ttotal: 1.35s\tremaining: 960ms\n",
      "584:\tlearn: 17.1447428\ttotal: 1.35s\tremaining: 957ms\n",
      "585:\tlearn: 17.1407435\ttotal: 1.35s\tremaining: 955ms\n",
      "586:\tlearn: 17.1339817\ttotal: 1.35s\tremaining: 953ms\n",
      "587:\tlearn: 17.1276900\ttotal: 1.36s\tremaining: 950ms\n",
      "588:\tlearn: 17.1181283\ttotal: 1.36s\tremaining: 948ms\n",
      "589:\tlearn: 17.1095552\ttotal: 1.36s\tremaining: 946ms\n",
      "590:\tlearn: 17.1032194\ttotal: 1.36s\tremaining: 944ms\n",
      "591:\tlearn: 17.0996280\ttotal: 1.36s\tremaining: 941ms\n",
      "592:\tlearn: 17.0912755\ttotal: 1.37s\tremaining: 939ms\n",
      "593:\tlearn: 17.0843682\ttotal: 1.37s\tremaining: 936ms\n",
      "594:\tlearn: 17.0778893\ttotal: 1.37s\tremaining: 934ms\n",
      "595:\tlearn: 17.0736670\ttotal: 1.37s\tremaining: 932ms\n",
      "596:\tlearn: 17.0642562\ttotal: 1.38s\tremaining: 929ms\n",
      "597:\tlearn: 17.0548223\ttotal: 1.38s\tremaining: 927ms\n",
      "598:\tlearn: 17.0511223\ttotal: 1.38s\tremaining: 924ms\n",
      "599:\tlearn: 17.0475467\ttotal: 1.38s\tremaining: 922ms\n",
      "600:\tlearn: 17.0376735\ttotal: 1.38s\tremaining: 919ms\n",
      "601:\tlearn: 17.0283331\ttotal: 1.39s\tremaining: 917ms\n",
      "602:\tlearn: 17.0278148\ttotal: 1.39s\tremaining: 915ms\n",
      "603:\tlearn: 17.0215832\ttotal: 1.39s\tremaining: 912ms\n",
      "604:\tlearn: 17.0147786\ttotal: 1.39s\tremaining: 910ms\n",
      "605:\tlearn: 17.0088980\ttotal: 1.4s\tremaining: 908ms\n",
      "606:\tlearn: 17.0056884\ttotal: 1.4s\tremaining: 906ms\n",
      "607:\tlearn: 16.9985996\ttotal: 1.4s\tremaining: 903ms\n",
      "608:\tlearn: 16.9923275\ttotal: 1.4s\tremaining: 901ms\n",
      "609:\tlearn: 16.9846717\ttotal: 1.41s\tremaining: 898ms\n",
      "610:\tlearn: 16.9794859\ttotal: 1.41s\tremaining: 896ms\n",
      "611:\tlearn: 16.9750714\ttotal: 1.41s\tremaining: 894ms\n",
      "612:\tlearn: 16.9705842\ttotal: 1.41s\tremaining: 891ms\n",
      "613:\tlearn: 16.9654109\ttotal: 1.41s\tremaining: 889ms\n",
      "614:\tlearn: 16.9613214\ttotal: 1.42s\tremaining: 887ms\n",
      "615:\tlearn: 16.9530937\ttotal: 1.42s\tremaining: 884ms\n",
      "616:\tlearn: 16.9449227\ttotal: 1.42s\tremaining: 882ms\n",
      "617:\tlearn: 16.9391342\ttotal: 1.42s\tremaining: 879ms\n",
      "618:\tlearn: 16.9316431\ttotal: 1.42s\tremaining: 877ms\n",
      "619:\tlearn: 16.9268055\ttotal: 1.43s\tremaining: 875ms\n",
      "620:\tlearn: 16.9244523\ttotal: 1.43s\tremaining: 872ms\n",
      "621:\tlearn: 16.9167588\ttotal: 1.43s\tremaining: 870ms\n",
      "622:\tlearn: 16.9109203\ttotal: 1.43s\tremaining: 868ms\n",
      "623:\tlearn: 16.9053099\ttotal: 1.44s\tremaining: 866ms\n",
      "624:\tlearn: 16.8996313\ttotal: 1.44s\tremaining: 864ms\n",
      "625:\tlearn: 16.8955011\ttotal: 1.44s\tremaining: 862ms\n",
      "626:\tlearn: 16.8905190\ttotal: 1.44s\tremaining: 859ms\n",
      "627:\tlearn: 16.8860503\ttotal: 1.45s\tremaining: 857ms\n",
      "628:\tlearn: 16.8791419\ttotal: 1.45s\tremaining: 855ms\n",
      "629:\tlearn: 16.8727528\ttotal: 1.45s\tremaining: 853ms\n",
      "630:\tlearn: 16.8685324\ttotal: 1.45s\tremaining: 850ms\n",
      "631:\tlearn: 16.8680197\ttotal: 1.46s\tremaining: 848ms\n",
      "632:\tlearn: 16.8595557\ttotal: 1.46s\tremaining: 846ms\n",
      "633:\tlearn: 16.8550259\ttotal: 1.46s\tremaining: 844ms\n",
      "634:\tlearn: 16.8448195\ttotal: 1.46s\tremaining: 842ms\n",
      "635:\tlearn: 16.8382948\ttotal: 1.47s\tremaining: 840ms\n",
      "636:\tlearn: 16.8329764\ttotal: 1.47s\tremaining: 838ms\n",
      "637:\tlearn: 16.8315095\ttotal: 1.47s\tremaining: 835ms\n",
      "638:\tlearn: 16.8268130\ttotal: 1.47s\tremaining: 833ms\n",
      "639:\tlearn: 16.8205726\ttotal: 1.48s\tremaining: 831ms\n",
      "640:\tlearn: 16.8200865\ttotal: 1.48s\tremaining: 829ms\n",
      "641:\tlearn: 16.8116767\ttotal: 1.48s\tremaining: 826ms\n",
      "642:\tlearn: 16.8109025\ttotal: 1.48s\tremaining: 824ms\n",
      "643:\tlearn: 16.8092241\ttotal: 1.49s\tremaining: 822ms\n",
      "644:\tlearn: 16.8042202\ttotal: 1.49s\tremaining: 819ms\n",
      "645:\tlearn: 16.7995070\ttotal: 1.49s\tremaining: 817ms\n",
      "646:\tlearn: 16.7927537\ttotal: 1.49s\tremaining: 814ms\n",
      "647:\tlearn: 16.7912587\ttotal: 1.5s\tremaining: 813ms\n",
      "648:\tlearn: 16.7860443\ttotal: 1.5s\tremaining: 810ms\n",
      "649:\tlearn: 16.7796761\ttotal: 1.5s\tremaining: 808ms\n",
      "650:\tlearn: 16.7766155\ttotal: 1.5s\tremaining: 806ms\n",
      "651:\tlearn: 16.7733696\ttotal: 1.5s\tremaining: 804ms\n",
      "652:\tlearn: 16.7656323\ttotal: 1.51s\tremaining: 801ms\n",
      "653:\tlearn: 16.7588471\ttotal: 1.51s\tremaining: 799ms\n",
      "654:\tlearn: 16.7519298\ttotal: 1.51s\tremaining: 797ms\n",
      "655:\tlearn: 16.7464969\ttotal: 1.51s\tremaining: 794ms\n",
      "656:\tlearn: 16.7399059\ttotal: 1.52s\tremaining: 792ms\n",
      "657:\tlearn: 16.7346204\ttotal: 1.52s\tremaining: 790ms\n",
      "658:\tlearn: 16.7307573\ttotal: 1.52s\tremaining: 788ms\n",
      "659:\tlearn: 16.7208523\ttotal: 1.52s\tremaining: 786ms\n",
      "660:\tlearn: 16.7159431\ttotal: 1.53s\tremaining: 783ms\n",
      "661:\tlearn: 16.7101275\ttotal: 1.53s\tremaining: 781ms\n",
      "662:\tlearn: 16.7032697\ttotal: 1.53s\tremaining: 779ms\n",
      "663:\tlearn: 16.6979537\ttotal: 1.53s\tremaining: 776ms\n",
      "664:\tlearn: 16.6972903\ttotal: 1.54s\tremaining: 774ms\n",
      "665:\tlearn: 16.6934641\ttotal: 1.54s\tremaining: 772ms\n",
      "666:\tlearn: 16.6921469\ttotal: 1.54s\tremaining: 769ms\n",
      "667:\tlearn: 16.6854091\ttotal: 1.54s\tremaining: 767ms\n",
      "668:\tlearn: 16.6772449\ttotal: 1.54s\tremaining: 765ms\n",
      "669:\tlearn: 16.6709520\ttotal: 1.55s\tremaining: 763ms\n",
      "670:\tlearn: 16.6647273\ttotal: 1.55s\tremaining: 760ms\n",
      "671:\tlearn: 16.6593760\ttotal: 1.55s\tremaining: 758ms\n",
      "672:\tlearn: 16.6537021\ttotal: 1.55s\tremaining: 756ms\n",
      "673:\tlearn: 16.6470587\ttotal: 1.56s\tremaining: 753ms\n",
      "674:\tlearn: 16.6411201\ttotal: 1.56s\tremaining: 751ms\n",
      "675:\tlearn: 16.6357076\ttotal: 1.56s\tremaining: 749ms\n",
      "676:\tlearn: 16.6310719\ttotal: 1.56s\tremaining: 746ms\n",
      "677:\tlearn: 16.6254413\ttotal: 1.57s\tremaining: 744ms\n",
      "678:\tlearn: 16.6198015\ttotal: 1.57s\tremaining: 742ms\n",
      "679:\tlearn: 16.6124257\ttotal: 1.57s\tremaining: 740ms\n",
      "680:\tlearn: 16.6062395\ttotal: 1.57s\tremaining: 738ms\n",
      "681:\tlearn: 16.6014097\ttotal: 1.58s\tremaining: 736ms\n",
      "682:\tlearn: 16.5951877\ttotal: 1.58s\tremaining: 734ms\n",
      "683:\tlearn: 16.5921388\ttotal: 1.58s\tremaining: 732ms\n",
      "684:\tlearn: 16.5845917\ttotal: 1.59s\tremaining: 730ms\n",
      "685:\tlearn: 16.5785386\ttotal: 1.59s\tremaining: 727ms\n",
      "686:\tlearn: 16.5725627\ttotal: 1.59s\tremaining: 725ms\n",
      "687:\tlearn: 16.5675432\ttotal: 1.59s\tremaining: 723ms\n",
      "688:\tlearn: 16.5611211\ttotal: 1.6s\tremaining: 721ms\n",
      "689:\tlearn: 16.5555581\ttotal: 1.6s\tremaining: 719ms\n",
      "690:\tlearn: 16.5505402\ttotal: 1.6s\tremaining: 716ms\n",
      "691:\tlearn: 16.5445196\ttotal: 1.6s\tremaining: 714ms\n",
      "692:\tlearn: 16.5440678\ttotal: 1.61s\tremaining: 712ms\n",
      "693:\tlearn: 16.5399403\ttotal: 1.61s\tremaining: 710ms\n",
      "694:\tlearn: 16.5343139\ttotal: 1.61s\tremaining: 707ms\n",
      "695:\tlearn: 16.5265568\ttotal: 1.61s\tremaining: 705ms\n",
      "696:\tlearn: 16.5225716\ttotal: 1.62s\tremaining: 703ms\n",
      "697:\tlearn: 16.5190995\ttotal: 1.62s\tremaining: 701ms\n",
      "698:\tlearn: 16.5103460\ttotal: 1.62s\tremaining: 698ms\n",
      "699:\tlearn: 16.5061057\ttotal: 1.62s\tremaining: 696ms\n",
      "700:\tlearn: 16.4998975\ttotal: 1.63s\tremaining: 694ms\n",
      "701:\tlearn: 16.4937785\ttotal: 1.63s\tremaining: 692ms\n",
      "702:\tlearn: 16.4861257\ttotal: 1.63s\tremaining: 689ms\n",
      "703:\tlearn: 16.4819139\ttotal: 1.63s\tremaining: 687ms\n",
      "704:\tlearn: 16.4810384\ttotal: 1.64s\tremaining: 685ms\n",
      "705:\tlearn: 16.4750272\ttotal: 1.64s\tremaining: 682ms\n",
      "706:\tlearn: 16.4713446\ttotal: 1.64s\tremaining: 680ms\n",
      "707:\tlearn: 16.4659239\ttotal: 1.64s\tremaining: 677ms\n",
      "708:\tlearn: 16.4605904\ttotal: 1.64s\tremaining: 675ms\n",
      "709:\tlearn: 16.4541416\ttotal: 1.65s\tremaining: 672ms\n",
      "710:\tlearn: 16.4490531\ttotal: 1.65s\tremaining: 670ms\n",
      "711:\tlearn: 16.4448699\ttotal: 1.65s\tremaining: 667ms\n",
      "712:\tlearn: 16.4444226\ttotal: 1.65s\tremaining: 665ms\n",
      "713:\tlearn: 16.4389936\ttotal: 1.65s\tremaining: 663ms\n",
      "714:\tlearn: 16.4313982\ttotal: 1.66s\tremaining: 660ms\n",
      "715:\tlearn: 16.4275034\ttotal: 1.66s\tremaining: 658ms\n",
      "716:\tlearn: 16.4212958\ttotal: 1.66s\tremaining: 655ms\n",
      "717:\tlearn: 16.4144264\ttotal: 1.66s\tremaining: 653ms\n",
      "718:\tlearn: 16.4109787\ttotal: 1.67s\tremaining: 651ms\n",
      "719:\tlearn: 16.4023812\ttotal: 1.67s\tremaining: 648ms\n",
      "720:\tlearn: 16.3978518\ttotal: 1.67s\tremaining: 646ms\n",
      "721:\tlearn: 16.3935643\ttotal: 1.67s\tremaining: 644ms\n",
      "722:\tlearn: 16.3870941\ttotal: 1.67s\tremaining: 641ms\n",
      "723:\tlearn: 16.3827803\ttotal: 1.68s\tremaining: 639ms\n",
      "724:\tlearn: 16.3764859\ttotal: 1.68s\tremaining: 637ms\n",
      "725:\tlearn: 16.3760196\ttotal: 1.68s\tremaining: 634ms\n",
      "726:\tlearn: 16.3703155\ttotal: 1.68s\tremaining: 632ms\n",
      "727:\tlearn: 16.3677958\ttotal: 1.68s\tremaining: 629ms\n",
      "728:\tlearn: 16.3634716\ttotal: 1.69s\tremaining: 627ms\n",
      "729:\tlearn: 16.3613142\ttotal: 1.69s\tremaining: 625ms\n",
      "730:\tlearn: 16.3569033\ttotal: 1.69s\tremaining: 622ms\n",
      "731:\tlearn: 16.3529144\ttotal: 1.69s\tremaining: 620ms\n",
      "732:\tlearn: 16.3474664\ttotal: 1.7s\tremaining: 618ms\n",
      "733:\tlearn: 16.3421986\ttotal: 1.7s\tremaining: 615ms\n",
      "734:\tlearn: 16.3356500\ttotal: 1.7s\tremaining: 613ms\n",
      "735:\tlearn: 16.3316690\ttotal: 1.7s\tremaining: 610ms\n",
      "736:\tlearn: 16.3259647\ttotal: 1.7s\tremaining: 608ms\n",
      "737:\tlearn: 16.3207270\ttotal: 1.71s\tremaining: 606ms\n",
      "738:\tlearn: 16.3146485\ttotal: 1.71s\tremaining: 603ms\n",
      "739:\tlearn: 16.3085918\ttotal: 1.71s\tremaining: 601ms\n",
      "740:\tlearn: 16.3017355\ttotal: 1.71s\tremaining: 599ms\n",
      "741:\tlearn: 16.2970647\ttotal: 1.71s\tremaining: 596ms\n",
      "742:\tlearn: 16.2956221\ttotal: 1.72s\tremaining: 594ms\n",
      "743:\tlearn: 16.2912130\ttotal: 1.72s\tremaining: 592ms\n",
      "744:\tlearn: 16.2847609\ttotal: 1.72s\tremaining: 589ms\n",
      "745:\tlearn: 16.2794108\ttotal: 1.72s\tremaining: 587ms\n",
      "746:\tlearn: 16.2729691\ttotal: 1.73s\tremaining: 585ms\n",
      "747:\tlearn: 16.2643397\ttotal: 1.73s\tremaining: 582ms\n",
      "748:\tlearn: 16.2566151\ttotal: 1.73s\tremaining: 580ms\n",
      "749:\tlearn: 16.2517887\ttotal: 1.73s\tremaining: 577ms\n",
      "750:\tlearn: 16.2476459\ttotal: 1.73s\tremaining: 575ms\n",
      "751:\tlearn: 16.2412253\ttotal: 1.74s\tremaining: 573ms\n",
      "752:\tlearn: 16.2392702\ttotal: 1.74s\tremaining: 571ms\n",
      "753:\tlearn: 16.2314086\ttotal: 1.74s\tremaining: 569ms\n",
      "754:\tlearn: 16.2265104\ttotal: 1.74s\tremaining: 566ms\n",
      "755:\tlearn: 16.2225231\ttotal: 1.75s\tremaining: 564ms\n",
      "756:\tlearn: 16.2180844\ttotal: 1.75s\tremaining: 561ms\n",
      "757:\tlearn: 16.2120640\ttotal: 1.75s\tremaining: 559ms\n",
      "758:\tlearn: 16.2072741\ttotal: 1.75s\tremaining: 557ms\n",
      "759:\tlearn: 16.2043155\ttotal: 1.75s\tremaining: 554ms\n",
      "760:\tlearn: 16.1992895\ttotal: 1.76s\tremaining: 552ms\n",
      "761:\tlearn: 16.1888401\ttotal: 1.76s\tremaining: 550ms\n",
      "762:\tlearn: 16.1835976\ttotal: 1.76s\tremaining: 547ms\n",
      "763:\tlearn: 16.1823168\ttotal: 1.76s\tremaining: 545ms\n",
      "764:\tlearn: 16.1794290\ttotal: 1.76s\tremaining: 542ms\n",
      "765:\tlearn: 16.1751924\ttotal: 1.77s\tremaining: 540ms\n",
      "766:\tlearn: 16.1704123\ttotal: 1.77s\tremaining: 538ms\n",
      "767:\tlearn: 16.1653491\ttotal: 1.77s\tremaining: 535ms\n",
      "768:\tlearn: 16.1649051\ttotal: 1.77s\tremaining: 533ms\n",
      "769:\tlearn: 16.1591595\ttotal: 1.78s\tremaining: 531ms\n",
      "770:\tlearn: 16.1582178\ttotal: 1.78s\tremaining: 528ms\n",
      "771:\tlearn: 16.1522440\ttotal: 1.78s\tremaining: 526ms\n",
      "772:\tlearn: 16.1476543\ttotal: 1.78s\tremaining: 524ms\n",
      "773:\tlearn: 16.1430507\ttotal: 1.78s\tremaining: 521ms\n",
      "774:\tlearn: 16.1366757\ttotal: 1.79s\tremaining: 519ms\n",
      "775:\tlearn: 16.1348838\ttotal: 1.79s\tremaining: 517ms\n",
      "776:\tlearn: 16.1271260\ttotal: 1.79s\tremaining: 515ms\n",
      "777:\tlearn: 16.1193900\ttotal: 1.79s\tremaining: 512ms\n",
      "778:\tlearn: 16.1138830\ttotal: 1.8s\tremaining: 510ms\n",
      "779:\tlearn: 16.1111571\ttotal: 1.8s\tremaining: 508ms\n",
      "780:\tlearn: 16.1052395\ttotal: 1.8s\tremaining: 505ms\n",
      "781:\tlearn: 16.1039629\ttotal: 1.8s\tremaining: 503ms\n",
      "782:\tlearn: 16.0986790\ttotal: 1.81s\tremaining: 501ms\n",
      "783:\tlearn: 16.0944140\ttotal: 1.81s\tremaining: 499ms\n",
      "784:\tlearn: 16.0906438\ttotal: 1.81s\tremaining: 496ms\n",
      "785:\tlearn: 16.0812146\ttotal: 1.81s\tremaining: 494ms\n",
      "786:\tlearn: 16.0748004\ttotal: 1.82s\tremaining: 492ms\n",
      "787:\tlearn: 16.0716731\ttotal: 1.82s\tremaining: 489ms\n",
      "788:\tlearn: 16.0667954\ttotal: 1.82s\tremaining: 487ms\n",
      "789:\tlearn: 16.0610242\ttotal: 1.82s\tremaining: 485ms\n",
      "790:\tlearn: 16.0584716\ttotal: 1.82s\tremaining: 482ms\n",
      "791:\tlearn: 16.0527233\ttotal: 1.83s\tremaining: 480ms\n",
      "792:\tlearn: 16.0475276\ttotal: 1.83s\tremaining: 478ms\n",
      "793:\tlearn: 16.0423698\ttotal: 1.83s\tremaining: 475ms\n",
      "794:\tlearn: 16.0362413\ttotal: 1.83s\tremaining: 473ms\n",
      "795:\tlearn: 16.0339948\ttotal: 1.84s\tremaining: 471ms\n",
      "796:\tlearn: 16.0276993\ttotal: 1.84s\tremaining: 469ms\n",
      "797:\tlearn: 16.0223682\ttotal: 1.84s\tremaining: 466ms\n",
      "798:\tlearn: 16.0184335\ttotal: 1.84s\tremaining: 464ms\n",
      "799:\tlearn: 16.0125963\ttotal: 1.85s\tremaining: 462ms\n",
      "800:\tlearn: 16.0080670\ttotal: 1.85s\tremaining: 459ms\n",
      "801:\tlearn: 16.0033415\ttotal: 1.85s\tremaining: 457ms\n",
      "802:\tlearn: 15.9971836\ttotal: 1.85s\tremaining: 454ms\n",
      "803:\tlearn: 15.9914861\ttotal: 1.85s\tremaining: 452ms\n",
      "804:\tlearn: 15.9865024\ttotal: 1.86s\tremaining: 450ms\n",
      "805:\tlearn: 15.9820340\ttotal: 1.86s\tremaining: 447ms\n",
      "806:\tlearn: 15.9801931\ttotal: 1.86s\tremaining: 445ms\n",
      "807:\tlearn: 15.9748461\ttotal: 1.86s\tremaining: 443ms\n",
      "808:\tlearn: 15.9703149\ttotal: 1.87s\tremaining: 441ms\n",
      "809:\tlearn: 15.9649840\ttotal: 1.87s\tremaining: 439ms\n",
      "810:\tlearn: 15.9604650\ttotal: 1.87s\tremaining: 436ms\n",
      "811:\tlearn: 15.9555104\ttotal: 1.87s\tremaining: 434ms\n",
      "812:\tlearn: 15.9501765\ttotal: 1.88s\tremaining: 432ms\n",
      "813:\tlearn: 15.9456931\ttotal: 1.88s\tremaining: 429ms\n",
      "814:\tlearn: 15.9399615\ttotal: 1.88s\tremaining: 427ms\n",
      "815:\tlearn: 15.9353173\ttotal: 1.88s\tremaining: 425ms\n",
      "816:\tlearn: 15.9295944\ttotal: 1.89s\tremaining: 422ms\n",
      "817:\tlearn: 15.9244017\ttotal: 1.89s\tremaining: 420ms\n",
      "818:\tlearn: 15.9193488\ttotal: 1.89s\tremaining: 418ms\n",
      "819:\tlearn: 15.9138881\ttotal: 1.89s\tremaining: 415ms\n",
      "820:\tlearn: 15.9056690\ttotal: 1.9s\tremaining: 413ms\n",
      "821:\tlearn: 15.9014493\ttotal: 1.9s\tremaining: 411ms\n",
      "822:\tlearn: 15.8933546\ttotal: 1.9s\tremaining: 409ms\n",
      "823:\tlearn: 15.8895176\ttotal: 1.9s\tremaining: 406ms\n",
      "824:\tlearn: 15.8823108\ttotal: 1.9s\tremaining: 404ms\n",
      "825:\tlearn: 15.8771358\ttotal: 1.91s\tremaining: 402ms\n",
      "826:\tlearn: 15.8714705\ttotal: 1.91s\tremaining: 399ms\n",
      "827:\tlearn: 15.8638419\ttotal: 1.91s\tremaining: 397ms\n",
      "828:\tlearn: 15.8627575\ttotal: 1.91s\tremaining: 395ms\n",
      "829:\tlearn: 15.8567274\ttotal: 1.92s\tremaining: 392ms\n",
      "830:\tlearn: 15.8529048\ttotal: 1.92s\tremaining: 390ms\n",
      "831:\tlearn: 15.8435898\ttotal: 1.92s\tremaining: 388ms\n",
      "832:\tlearn: 15.8394632\ttotal: 1.92s\tremaining: 385ms\n",
      "833:\tlearn: 15.8357511\ttotal: 1.92s\tremaining: 383ms\n",
      "834:\tlearn: 15.8291162\ttotal: 1.93s\tremaining: 381ms\n",
      "835:\tlearn: 15.8235639\ttotal: 1.93s\tremaining: 378ms\n",
      "836:\tlearn: 15.8163679\ttotal: 1.93s\tremaining: 376ms\n",
      "837:\tlearn: 15.8132011\ttotal: 1.93s\tremaining: 374ms\n",
      "838:\tlearn: 15.8128884\ttotal: 1.93s\tremaining: 371ms\n",
      "839:\tlearn: 15.8095069\ttotal: 1.94s\tremaining: 369ms\n",
      "840:\tlearn: 15.8046240\ttotal: 1.94s\tremaining: 367ms\n",
      "841:\tlearn: 15.8025290\ttotal: 1.94s\tremaining: 364ms\n",
      "842:\tlearn: 15.7976428\ttotal: 1.94s\tremaining: 362ms\n",
      "843:\tlearn: 15.7925403\ttotal: 1.95s\tremaining: 360ms\n",
      "844:\tlearn: 15.7884318\ttotal: 1.95s\tremaining: 357ms\n",
      "845:\tlearn: 15.7825399\ttotal: 1.95s\tremaining: 355ms\n",
      "846:\tlearn: 15.7750866\ttotal: 1.95s\tremaining: 353ms\n",
      "847:\tlearn: 15.7739452\ttotal: 1.95s\tremaining: 350ms\n",
      "848:\tlearn: 15.7690008\ttotal: 1.96s\tremaining: 348ms\n",
      "849:\tlearn: 15.7636277\ttotal: 1.96s\tremaining: 346ms\n",
      "850:\tlearn: 15.7577675\ttotal: 1.96s\tremaining: 343ms\n",
      "851:\tlearn: 15.7564300\ttotal: 1.96s\tremaining: 341ms\n",
      "852:\tlearn: 15.7552197\ttotal: 1.97s\tremaining: 339ms\n",
      "853:\tlearn: 15.7488619\ttotal: 1.97s\tremaining: 336ms\n",
      "854:\tlearn: 15.7447453\ttotal: 1.97s\tremaining: 334ms\n",
      "855:\tlearn: 15.7435933\ttotal: 1.97s\tremaining: 332ms\n",
      "856:\tlearn: 15.7389720\ttotal: 1.97s\tremaining: 330ms\n",
      "857:\tlearn: 15.7369941\ttotal: 1.98s\tremaining: 327ms\n",
      "858:\tlearn: 15.7286979\ttotal: 1.98s\tremaining: 325ms\n",
      "859:\tlearn: 15.7212411\ttotal: 1.98s\tremaining: 323ms\n",
      "860:\tlearn: 15.7159106\ttotal: 1.98s\tremaining: 320ms\n",
      "861:\tlearn: 15.7114687\ttotal: 1.99s\tremaining: 318ms\n",
      "862:\tlearn: 15.7053650\ttotal: 1.99s\tremaining: 316ms\n",
      "863:\tlearn: 15.7021612\ttotal: 1.99s\tremaining: 313ms\n",
      "864:\tlearn: 15.6967490\ttotal: 1.99s\tremaining: 311ms\n",
      "865:\tlearn: 15.6954433\ttotal: 2s\tremaining: 309ms\n",
      "866:\tlearn: 15.6899755\ttotal: 2s\tremaining: 306ms\n",
      "867:\tlearn: 15.6873124\ttotal: 2s\tremaining: 304ms\n",
      "868:\tlearn: 15.6828488\ttotal: 2s\tremaining: 302ms\n",
      "869:\tlearn: 15.6796463\ttotal: 2s\tremaining: 299ms\n",
      "870:\tlearn: 15.6762023\ttotal: 2.01s\tremaining: 297ms\n",
      "871:\tlearn: 15.6716256\ttotal: 2.01s\tremaining: 295ms\n",
      "872:\tlearn: 15.6660470\ttotal: 2.01s\tremaining: 292ms\n",
      "873:\tlearn: 15.6633521\ttotal: 2.01s\tremaining: 290ms\n",
      "874:\tlearn: 15.6559552\ttotal: 2.01s\tremaining: 288ms\n",
      "875:\tlearn: 15.6514396\ttotal: 2.02s\tremaining: 286ms\n",
      "876:\tlearn: 15.6469214\ttotal: 2.02s\tremaining: 284ms\n",
      "877:\tlearn: 15.6458879\ttotal: 2.02s\tremaining: 281ms\n",
      "878:\tlearn: 15.6415904\ttotal: 2.03s\tremaining: 279ms\n",
      "879:\tlearn: 15.6337185\ttotal: 2.03s\tremaining: 277ms\n",
      "880:\tlearn: 15.6310865\ttotal: 2.03s\tremaining: 274ms\n",
      "881:\tlearn: 15.6276918\ttotal: 2.03s\tremaining: 272ms\n",
      "882:\tlearn: 15.6249362\ttotal: 2.04s\tremaining: 270ms\n",
      "883:\tlearn: 15.6233158\ttotal: 2.04s\tremaining: 268ms\n",
      "884:\tlearn: 15.6174829\ttotal: 2.04s\tremaining: 265ms\n",
      "885:\tlearn: 15.6167033\ttotal: 2.04s\tremaining: 263ms\n",
      "886:\tlearn: 15.6138409\ttotal: 2.04s\tremaining: 261ms\n",
      "887:\tlearn: 15.6089130\ttotal: 2.05s\tremaining: 258ms\n",
      "888:\tlearn: 15.6044212\ttotal: 2.05s\tremaining: 256ms\n",
      "889:\tlearn: 15.6035736\ttotal: 2.05s\tremaining: 254ms\n",
      "890:\tlearn: 15.5966538\ttotal: 2.05s\tremaining: 251ms\n",
      "891:\tlearn: 15.5931213\ttotal: 2.06s\tremaining: 249ms\n",
      "892:\tlearn: 15.5868234\ttotal: 2.06s\tremaining: 247ms\n",
      "893:\tlearn: 15.5821718\ttotal: 2.06s\tremaining: 244ms\n",
      "894:\tlearn: 15.5782431\ttotal: 2.06s\tremaining: 242ms\n",
      "895:\tlearn: 15.5726647\ttotal: 2.06s\tremaining: 240ms\n",
      "896:\tlearn: 15.5702774\ttotal: 2.07s\tremaining: 237ms\n",
      "897:\tlearn: 15.5611712\ttotal: 2.07s\tremaining: 235ms\n",
      "898:\tlearn: 15.5572449\ttotal: 2.07s\tremaining: 233ms\n",
      "899:\tlearn: 15.5536234\ttotal: 2.07s\tremaining: 230ms\n",
      "900:\tlearn: 15.5505094\ttotal: 2.08s\tremaining: 228ms\n",
      "901:\tlearn: 15.5437265\ttotal: 2.08s\tremaining: 226ms\n",
      "902:\tlearn: 15.5386044\ttotal: 2.08s\tremaining: 223ms\n",
      "903:\tlearn: 15.5317501\ttotal: 2.08s\tremaining: 221ms\n",
      "904:\tlearn: 15.5269077\ttotal: 2.08s\tremaining: 219ms\n",
      "905:\tlearn: 15.5207936\ttotal: 2.09s\tremaining: 216ms\n",
      "906:\tlearn: 15.5189616\ttotal: 2.09s\tremaining: 214ms\n",
      "907:\tlearn: 15.5153214\ttotal: 2.09s\tremaining: 212ms\n",
      "908:\tlearn: 15.5115774\ttotal: 2.09s\tremaining: 210ms\n",
      "909:\tlearn: 15.5048967\ttotal: 2.1s\tremaining: 207ms\n",
      "910:\tlearn: 15.5009517\ttotal: 2.1s\tremaining: 205ms\n",
      "911:\tlearn: 15.4982980\ttotal: 2.1s\tremaining: 203ms\n",
      "912:\tlearn: 15.4970304\ttotal: 2.1s\tremaining: 200ms\n",
      "913:\tlearn: 15.4893074\ttotal: 2.1s\tremaining: 198ms\n",
      "914:\tlearn: 15.4847522\ttotal: 2.11s\tremaining: 196ms\n",
      "915:\tlearn: 15.4801231\ttotal: 2.11s\tremaining: 193ms\n",
      "916:\tlearn: 15.4683368\ttotal: 2.11s\tremaining: 191ms\n",
      "917:\tlearn: 15.4661487\ttotal: 2.11s\tremaining: 189ms\n",
      "918:\tlearn: 15.4627622\ttotal: 2.12s\tremaining: 186ms\n",
      "919:\tlearn: 15.4579771\ttotal: 2.12s\tremaining: 184ms\n",
      "920:\tlearn: 15.4531258\ttotal: 2.12s\tremaining: 182ms\n",
      "921:\tlearn: 15.4485292\ttotal: 2.12s\tremaining: 180ms\n",
      "922:\tlearn: 15.4453850\ttotal: 2.12s\tremaining: 177ms\n",
      "923:\tlearn: 15.4385855\ttotal: 2.13s\tremaining: 175ms\n",
      "924:\tlearn: 15.4335400\ttotal: 2.13s\tremaining: 173ms\n",
      "925:\tlearn: 15.4296800\ttotal: 2.13s\tremaining: 170ms\n",
      "926:\tlearn: 15.4251032\ttotal: 2.13s\tremaining: 168ms\n",
      "927:\tlearn: 15.4226176\ttotal: 2.13s\tremaining: 166ms\n",
      "928:\tlearn: 15.4187472\ttotal: 2.14s\tremaining: 163ms\n",
      "929:\tlearn: 15.4155438\ttotal: 2.14s\tremaining: 161ms\n",
      "930:\tlearn: 15.4104879\ttotal: 2.14s\tremaining: 159ms\n",
      "931:\tlearn: 15.4095210\ttotal: 2.14s\tremaining: 156ms\n",
      "932:\tlearn: 15.4060649\ttotal: 2.15s\tremaining: 154ms\n",
      "933:\tlearn: 15.4022762\ttotal: 2.15s\tremaining: 152ms\n",
      "934:\tlearn: 15.3978807\ttotal: 2.15s\tremaining: 150ms\n",
      "935:\tlearn: 15.3946127\ttotal: 2.15s\tremaining: 147ms\n",
      "936:\tlearn: 15.3935180\ttotal: 2.15s\tremaining: 145ms\n",
      "937:\tlearn: 15.3881058\ttotal: 2.16s\tremaining: 143ms\n",
      "938:\tlearn: 15.3834308\ttotal: 2.16s\tremaining: 140ms\n",
      "939:\tlearn: 15.3783000\ttotal: 2.16s\tremaining: 138ms\n",
      "940:\tlearn: 15.3742367\ttotal: 2.16s\tremaining: 136ms\n",
      "941:\tlearn: 15.3691793\ttotal: 2.17s\tremaining: 133ms\n",
      "942:\tlearn: 15.3641819\ttotal: 2.17s\tremaining: 131ms\n",
      "943:\tlearn: 15.3610186\ttotal: 2.17s\tremaining: 129ms\n",
      "944:\tlearn: 15.3559889\ttotal: 2.17s\tremaining: 126ms\n",
      "945:\tlearn: 15.3472332\ttotal: 2.17s\tremaining: 124ms\n",
      "946:\tlearn: 15.3433228\ttotal: 2.18s\tremaining: 122ms\n",
      "947:\tlearn: 15.3403842\ttotal: 2.18s\tremaining: 119ms\n",
      "948:\tlearn: 15.3367433\ttotal: 2.18s\tremaining: 117ms\n",
      "949:\tlearn: 15.3330711\ttotal: 2.18s\tremaining: 115ms\n",
      "950:\tlearn: 15.3277706\ttotal: 2.18s\tremaining: 113ms\n",
      "951:\tlearn: 15.3245894\ttotal: 2.19s\tremaining: 110ms\n",
      "952:\tlearn: 15.3187018\ttotal: 2.19s\tremaining: 108ms\n",
      "953:\tlearn: 15.3141925\ttotal: 2.19s\tremaining: 106ms\n",
      "954:\tlearn: 15.3111534\ttotal: 2.19s\tremaining: 103ms\n",
      "955:\tlearn: 15.3022104\ttotal: 2.19s\tremaining: 101ms\n",
      "956:\tlearn: 15.3002043\ttotal: 2.2s\tremaining: 98.7ms\n",
      "957:\tlearn: 15.2926647\ttotal: 2.2s\tremaining: 96.4ms\n",
      "958:\tlearn: 15.2902882\ttotal: 2.2s\tremaining: 94.1ms\n",
      "959:\tlearn: 15.2867499\ttotal: 2.2s\tremaining: 91.8ms\n",
      "960:\tlearn: 15.2837905\ttotal: 2.2s\tremaining: 89.5ms\n",
      "961:\tlearn: 15.2773910\ttotal: 2.21s\tremaining: 87.2ms\n",
      "962:\tlearn: 15.2770014\ttotal: 2.21s\tremaining: 84.9ms\n",
      "963:\tlearn: 15.2719436\ttotal: 2.21s\tremaining: 82.6ms\n",
      "964:\tlearn: 15.2715232\ttotal: 2.21s\tremaining: 80.3ms\n",
      "965:\tlearn: 15.2667756\ttotal: 2.22s\tremaining: 78ms\n",
      "966:\tlearn: 15.2620017\ttotal: 2.22s\tremaining: 75.7ms\n",
      "967:\tlearn: 15.2568660\ttotal: 2.22s\tremaining: 73.4ms\n",
      "968:\tlearn: 15.2534559\ttotal: 2.22s\tremaining: 71.1ms\n",
      "969:\tlearn: 15.2455759\ttotal: 2.22s\tremaining: 68.8ms\n",
      "970:\tlearn: 15.2412183\ttotal: 2.23s\tremaining: 66.5ms\n",
      "971:\tlearn: 15.2379254\ttotal: 2.23s\tremaining: 64.2ms\n",
      "972:\tlearn: 15.2301795\ttotal: 2.23s\tremaining: 61.9ms\n",
      "973:\tlearn: 15.2284021\ttotal: 2.23s\tremaining: 59.6ms\n",
      "974:\tlearn: 15.2236607\ttotal: 2.23s\tremaining: 57.3ms\n",
      "975:\tlearn: 15.2191341\ttotal: 2.24s\tremaining: 55ms\n",
      "976:\tlearn: 15.2157072\ttotal: 2.24s\tremaining: 52.7ms\n",
      "977:\tlearn: 15.2143621\ttotal: 2.24s\tremaining: 50.4ms\n",
      "978:\tlearn: 15.2086208\ttotal: 2.24s\tremaining: 48.1ms\n",
      "979:\tlearn: 15.2079128\ttotal: 2.24s\tremaining: 45.8ms\n",
      "980:\tlearn: 15.2023818\ttotal: 2.25s\tremaining: 43.5ms\n",
      "981:\tlearn: 15.1979465\ttotal: 2.25s\tremaining: 41.2ms\n",
      "982:\tlearn: 15.1941127\ttotal: 2.25s\tremaining: 38.9ms\n",
      "983:\tlearn: 15.1888572\ttotal: 2.25s\tremaining: 36.6ms\n",
      "984:\tlearn: 15.1854465\ttotal: 2.25s\tremaining: 34.4ms\n",
      "985:\tlearn: 15.1803796\ttotal: 2.26s\tremaining: 32.1ms\n",
      "986:\tlearn: 15.1768756\ttotal: 2.26s\tremaining: 29.8ms\n",
      "987:\tlearn: 15.1710696\ttotal: 2.26s\tremaining: 27.5ms\n",
      "988:\tlearn: 15.1642426\ttotal: 2.26s\tremaining: 25.2ms\n",
      "989:\tlearn: 15.1616036\ttotal: 2.27s\tremaining: 22.9ms\n",
      "990:\tlearn: 15.1590213\ttotal: 2.27s\tremaining: 20.6ms\n",
      "991:\tlearn: 15.1567534\ttotal: 2.27s\tremaining: 18.3ms\n",
      "992:\tlearn: 15.1533174\ttotal: 2.27s\tremaining: 16ms\n",
      "993:\tlearn: 15.1515280\ttotal: 2.27s\tremaining: 13.7ms\n",
      "994:\tlearn: 15.1491756\ttotal: 2.28s\tremaining: 11.4ms\n",
      "995:\tlearn: 15.1457262\ttotal: 2.28s\tremaining: 9.15ms\n",
      "996:\tlearn: 15.1410899\ttotal: 2.28s\tremaining: 6.86ms\n",
      "997:\tlearn: 15.1350908\ttotal: 2.28s\tremaining: 4.57ms\n",
      "998:\tlearn: 15.1342320\ttotal: 2.28s\tremaining: 2.29ms\n",
      "999:\tlearn: 15.1285164\ttotal: 2.29s\tremaining: 0us\n"
     ]
    }
   ],
   "source": [
    "my_cv = TimeSeriesSplit(n_splits=3).split(features_train)\n",
    "cv_cat = CatBoostRegressor(depth=4, learning_rate=0.03)\n",
    "scores_cv_cat = cross_val_score(cv_cat, features_train, target_train, scoring=RMSE_score, cv=my_cv).mean()*(-1)"
   ]
  },
  {
   "cell_type": "code",
   "execution_count": 31,
   "metadata": {},
   "outputs": [
    {
     "name": "stdout",
     "output_type": "stream",
     "text": [
      "Среднее качество модели случайный лес на кросс-валидации: 25.708015694718384\n"
     ]
    }
   ],
   "source": [
    "print('Среднее качество модели случайный лес на кросс-валидации:', scores_cv_cat)"
   ]
  },
  {
   "cell_type": "markdown",
   "metadata": {},
   "source": [
    "**Сравним ROC AUC моделей на обучающихся выборках**"
   ]
  },
  {
   "cell_type": "code",
   "execution_count": 32,
   "metadata": {},
   "outputs": [
    {
     "data": {
      "text/html": [
       "<style  type=\"text/css\" >\n",
       "#T_6973e_row0_col0{\n",
       "            background-color:  red;\n",
       "        }#T_6973e_row2_col0{\n",
       "            background-color:  green;\n",
       "        }</style><table id=\"T_6973e_\" ><thead>    <tr>        <th class=\"blank level0\" ></th>        <th class=\"col_heading level0 col0\" >Среднее качество модели на кросс-валидации</th>    </tr></thead><tbody>\n",
       "                <tr>\n",
       "                        <th id=\"T_6973e_level0_row0\" class=\"row_heading level0 row0\" >LinearRegression</th>\n",
       "                        <td id=\"T_6973e_row0_col0\" class=\"data row0 col0\" >28.236083</td>\n",
       "            </tr>\n",
       "            <tr>\n",
       "                        <th id=\"T_6973e_level0_row1\" class=\"row_heading level0 row1\" >RandomForestRegressor</th>\n",
       "                        <td id=\"T_6973e_row1_col0\" class=\"data row1 col0\" >27.105739</td>\n",
       "            </tr>\n",
       "            <tr>\n",
       "                        <th id=\"T_6973e_level0_row2\" class=\"row_heading level0 row2\" >CatBoostRegressor</th>\n",
       "                        <td id=\"T_6973e_row2_col0\" class=\"data row2 col0\" >25.708016</td>\n",
       "            </tr>\n",
       "    </tbody></table>"
      ],
      "text/plain": [
       "<pandas.io.formats.style.Styler at 0x7f5b4218c4f0>"
      ]
     },
     "execution_count": 32,
     "metadata": {},
     "output_type": "execute_result"
    }
   ],
   "source": [
    "column=['Среднее качество модели на кросс-валидации']\n",
    "\n",
    "comparison_tabl = pd.DataFrame(index=['Среднее качество модели на кросс-валидации'], columns=['LinearRegression','RandomForestRegressor','CatBoostRegressor'])\n",
    "comparison_tabl['LinearRegression'] = regression_cv_score\n",
    "comparison_tabl['RandomForestRegressor'] = scores_forest_cv\n",
    "comparison_tabl['CatBoostRegressor'] = scores_cv_cat\n",
    "\n",
    "comparison_tabl.T.style.highlight_min(color='green',subset=column).highlight_max(color='red',subset=column)"
   ]
  },
  {
   "cell_type": "markdown",
   "metadata": {},
   "source": [
    "Лучше всего себя показывает модель \"Случайный лес\", применим ее к тестовой выборке"
   ]
  },
  {
   "cell_type": "markdown",
   "metadata": {},
   "source": [
    "## Тестирование"
   ]
  },
  {
   "cell_type": "code",
   "execution_count": 26,
   "metadata": {},
   "outputs": [
    {
     "name": "stdout",
     "output_type": "stream",
     "text": [
      "{'max_depth': 13, 'min_samples_leaf': 4, 'min_samples_split': 4, 'n_estimators': 20}\n"
     ]
    }
   ],
   "source": [
    "print(forest_params)"
   ]
  },
  {
   "cell_type": "code",
   "execution_count": 27,
   "metadata": {},
   "outputs": [
    {
     "name": "stdout",
     "output_type": "stream",
     "text": [
      "RMSE модели Случайного леса: 42.89751641330967\n",
      "CPU times: user 887 ms, sys: 0 ns, total: 887 ms\n",
      "Wall time: 886 ms\n"
     ]
    }
   ],
   "source": [
    "%%time\n",
    "\n",
    "forest_model = RandomForestRegressor(random_state=12345,\n",
    "                                     max_depth=13,\n",
    "                                     min_samples_leaf = 4,\n",
    "                                     min_samples_split = 6,\n",
    "                                     n_estimators = 25)\n",
    "\n",
    "forest_model.fit(features_train, target_train)\n",
    "forest_model_predictions = forest_model.predict(features_test)\n",
    "\n",
    "forest_RMSE = RMSE(target_test, forest_model_predictions)\n",
    "print('RMSE модели Случайного леса:', forest_RMSE)"
   ]
  },
  {
   "cell_type": "markdown",
   "metadata": {},
   "source": [
    "**RMSE модели Случайного леса на тестовой выборке составляет: 42.897, что соответствует условиям задачи**"
   ]
  },
  {
   "cell_type": "markdown",
   "metadata": {},
   "source": [
    "## Чек-лист проверки"
   ]
  },
  {
   "cell_type": "markdown",
   "metadata": {},
   "source": [
    "- [x]  Jupyter Notebook открыт\n",
    "- [x]  Весь код выполняется без ошибок\n",
    "- [x]  Ячейки с кодом расположены в порядке исполнения\n",
    "- [x]  Данные загружены и подготовлены\n",
    "- [x]  Данные проанализированы\n",
    "- [x]  Модель обучена, гиперпараметры подобраны\n",
    "- [x]  Качество моделей проверено, выводы сделаны\n",
    "- [x]  Значение *RMSE* на тестовой выборке не больше 48"
   ]
  }
 ],
 "metadata": {
  "ExecuteTimeLog": [
   {
    "duration": 1716,
    "start_time": "2023-04-25T15:27:00.354Z"
   },
   {
    "duration": 105,
    "start_time": "2023-04-25T15:28:25.140Z"
   },
   {
    "duration": 128,
    "start_time": "2023-04-25T15:28:33.157Z"
   },
   {
    "duration": 7,
    "start_time": "2023-04-25T15:28:43.065Z"
   },
   {
    "duration": 12,
    "start_time": "2023-04-25T15:29:58.557Z"
   },
   {
    "duration": 91,
    "start_time": "2023-04-25T15:30:49.149Z"
   },
   {
    "duration": 9,
    "start_time": "2023-04-25T15:31:07.446Z"
   },
   {
    "duration": 269,
    "start_time": "2023-04-25T15:34:05.126Z"
   },
   {
    "duration": 297,
    "start_time": "2023-04-25T15:34:12.806Z"
   },
   {
    "duration": 69,
    "start_time": "2023-04-25T15:35:55.998Z"
   },
   {
    "duration": 13,
    "start_time": "2023-04-25T15:36:36.847Z"
   },
   {
    "duration": 9,
    "start_time": "2023-04-25T15:38:58.765Z"
   },
   {
    "duration": 218,
    "start_time": "2023-04-25T15:44:03.492Z"
   },
   {
    "duration": 236,
    "start_time": "2023-04-25T15:44:30.427Z"
   },
   {
    "duration": 11,
    "start_time": "2023-04-25T15:44:39.507Z"
   },
   {
    "duration": 228,
    "start_time": "2023-04-25T15:44:45.094Z"
   },
   {
    "duration": 208,
    "start_time": "2023-04-25T15:44:50.399Z"
   },
   {
    "duration": 296,
    "start_time": "2023-04-25T15:45:20.190Z"
   },
   {
    "duration": 212,
    "start_time": "2023-04-25T15:45:48.278Z"
   },
   {
    "duration": 61,
    "start_time": "2023-04-26T13:53:18.840Z"
   },
   {
    "duration": 1645,
    "start_time": "2023-04-26T13:53:39.817Z"
   },
   {
    "duration": 103,
    "start_time": "2023-04-26T13:53:41.464Z"
   },
   {
    "duration": 15,
    "start_time": "2023-04-26T13:53:41.568Z"
   },
   {
    "duration": 261,
    "start_time": "2023-04-26T13:53:41.586Z"
   },
   {
    "duration": 11,
    "start_time": "2023-04-26T13:53:41.849Z"
   },
   {
    "duration": 22,
    "start_time": "2023-04-26T13:53:41.862Z"
   },
   {
    "duration": 296,
    "start_time": "2023-04-26T13:53:41.886Z"
   },
   {
    "duration": 218,
    "start_time": "2023-04-26T13:53:42.184Z"
   },
   {
    "duration": 1068,
    "start_time": "2023-04-26T13:53:42.403Z"
   },
   {
    "duration": 142,
    "start_time": "2023-04-26T14:00:14.466Z"
   },
   {
    "duration": 656,
    "start_time": "2023-04-26T14:00:22.750Z"
   },
   {
    "duration": 11,
    "start_time": "2023-04-26T14:07:23.902Z"
   },
   {
    "duration": 374,
    "start_time": "2023-04-26T14:07:32.767Z"
   },
   {
    "duration": 306,
    "start_time": "2023-04-26T14:07:53.787Z"
   },
   {
    "duration": 240,
    "start_time": "2023-04-26T14:16:25.558Z"
   },
   {
    "duration": 3,
    "start_time": "2023-04-26T14:39:33.294Z"
   },
   {
    "duration": 4,
    "start_time": "2023-04-26T14:40:10.656Z"
   },
   {
    "duration": 4,
    "start_time": "2023-04-26T14:40:22.283Z"
   },
   {
    "duration": 5,
    "start_time": "2023-04-26T14:40:23.301Z"
   },
   {
    "duration": 5,
    "start_time": "2023-04-26T14:40:26.365Z"
   },
   {
    "duration": 5,
    "start_time": "2023-04-26T14:40:26.856Z"
   },
   {
    "duration": 12,
    "start_time": "2023-04-26T14:43:37.458Z"
   },
   {
    "duration": 14,
    "start_time": "2023-04-26T14:43:50.063Z"
   },
   {
    "duration": 4,
    "start_time": "2023-04-26T14:44:31.383Z"
   },
   {
    "duration": 8,
    "start_time": "2023-04-26T14:49:26.937Z"
   },
   {
    "duration": 4,
    "start_time": "2023-04-26T14:50:21.254Z"
   },
   {
    "duration": 3,
    "start_time": "2023-04-26T14:50:27.031Z"
   },
   {
    "duration": 297,
    "start_time": "2023-04-26T14:53:16.096Z"
   },
   {
    "duration": 3,
    "start_time": "2023-04-26T14:54:03.392Z"
   },
   {
    "duration": 3,
    "start_time": "2023-04-26T14:54:10.146Z"
   },
   {
    "duration": 72,
    "start_time": "2023-04-26T14:54:15.584Z"
   },
   {
    "duration": 1407,
    "start_time": "2023-04-26T14:56:01.255Z"
   },
   {
    "duration": 53,
    "start_time": "2023-04-26T14:56:02.664Z"
   },
   {
    "duration": 5,
    "start_time": "2023-04-26T14:56:02.719Z"
   },
   {
    "duration": 236,
    "start_time": "2023-04-26T14:56:02.726Z"
   },
   {
    "duration": 18,
    "start_time": "2023-04-26T14:56:02.964Z"
   },
   {
    "duration": 31,
    "start_time": "2023-04-26T14:56:02.984Z"
   },
   {
    "duration": 222,
    "start_time": "2023-04-26T14:56:03.017Z"
   },
   {
    "duration": 256,
    "start_time": "2023-04-26T14:56:03.240Z"
   },
   {
    "duration": 906,
    "start_time": "2023-04-26T14:56:03.497Z"
   },
   {
    "duration": 560,
    "start_time": "2023-04-26T14:56:04.405Z"
   },
   {
    "duration": 134,
    "start_time": "2023-04-26T14:56:04.967Z"
   },
   {
    "duration": 0,
    "start_time": "2023-04-26T14:56:05.103Z"
   },
   {
    "duration": 0,
    "start_time": "2023-04-26T14:56:05.104Z"
   },
   {
    "duration": 0,
    "start_time": "2023-04-26T14:56:05.105Z"
   },
   {
    "duration": 0,
    "start_time": "2023-04-26T14:56:05.107Z"
   },
   {
    "duration": 0,
    "start_time": "2023-04-26T14:56:05.108Z"
   },
   {
    "duration": 0,
    "start_time": "2023-04-26T14:56:05.109Z"
   },
   {
    "duration": 336,
    "start_time": "2023-04-26T14:56:24.434Z"
   },
   {
    "duration": 5,
    "start_time": "2023-04-26T14:56:29.629Z"
   },
   {
    "duration": 6,
    "start_time": "2023-04-26T14:56:32.338Z"
   },
   {
    "duration": 3,
    "start_time": "2023-04-26T14:56:35.457Z"
   },
   {
    "duration": 227,
    "start_time": "2023-04-26T14:56:37.890Z"
   },
   {
    "duration": 99,
    "start_time": "2023-04-26T14:56:46.722Z"
   },
   {
    "duration": 6,
    "start_time": "2023-04-26T14:57:20.099Z"
   },
   {
    "duration": 10,
    "start_time": "2023-04-26T14:59:06.085Z"
   },
   {
    "duration": 12,
    "start_time": "2023-04-26T14:59:20.451Z"
   },
   {
    "duration": 1327,
    "start_time": "2023-04-26T15:00:13.626Z"
   },
   {
    "duration": 45,
    "start_time": "2023-04-26T15:00:14.955Z"
   },
   {
    "duration": 5,
    "start_time": "2023-04-26T15:00:15.002Z"
   },
   {
    "duration": 238,
    "start_time": "2023-04-26T15:00:15.009Z"
   },
   {
    "duration": 9,
    "start_time": "2023-04-26T15:00:15.248Z"
   },
   {
    "duration": 34,
    "start_time": "2023-04-26T15:00:15.258Z"
   },
   {
    "duration": 186,
    "start_time": "2023-04-26T15:00:15.293Z"
   },
   {
    "duration": 247,
    "start_time": "2023-04-26T15:00:15.481Z"
   },
   {
    "duration": 857,
    "start_time": "2023-04-26T15:00:15.730Z"
   },
   {
    "duration": 559,
    "start_time": "2023-04-26T15:00:16.589Z"
   },
   {
    "duration": 282,
    "start_time": "2023-04-26T15:00:17.149Z"
   },
   {
    "duration": 4,
    "start_time": "2023-04-26T15:00:17.432Z"
   },
   {
    "duration": 30,
    "start_time": "2023-04-26T15:00:17.437Z"
   },
   {
    "duration": 15,
    "start_time": "2023-04-26T15:00:17.469Z"
   },
   {
    "duration": 18,
    "start_time": "2023-04-26T15:00:17.486Z"
   },
   {
    "duration": 152,
    "start_time": "2023-04-26T15:00:17.505Z"
   },
   {
    "duration": 0,
    "start_time": "2023-04-26T15:00:17.658Z"
   },
   {
    "duration": 12,
    "start_time": "2023-04-26T15:00:45.147Z"
   },
   {
    "duration": 22,
    "start_time": "2023-04-26T15:01:04.235Z"
   },
   {
    "duration": 95386,
    "start_time": "2023-04-26T15:03:32.516Z"
   },
   {
    "duration": 16,
    "start_time": "2023-04-26T15:10:18.341Z"
   },
   {
    "duration": 17,
    "start_time": "2023-04-26T15:16:01.527Z"
   },
   {
    "duration": 17,
    "start_time": "2023-04-26T15:18:02.000Z"
   },
   {
    "duration": 22,
    "start_time": "2023-04-26T15:18:31.951Z"
   },
   {
    "duration": 244,
    "start_time": "2023-04-26T15:21:22.161Z"
   },
   {
    "duration": 19,
    "start_time": "2023-04-26T15:22:11.217Z"
   },
   {
    "duration": 104814,
    "start_time": "2023-04-26T15:22:15.937Z"
   },
   {
    "duration": 17,
    "start_time": "2023-04-26T15:24:55.665Z"
   },
   {
    "duration": 52,
    "start_time": "2023-04-26T15:32:14.734Z"
   },
   {
    "duration": 321,
    "start_time": "2023-04-26T15:35:45.120Z"
   },
   {
    "duration": 330,
    "start_time": "2023-04-26T15:36:30.968Z"
   },
   {
    "duration": 351,
    "start_time": "2023-04-26T15:37:35.490Z"
   },
   {
    "duration": 4,
    "start_time": "2023-04-26T15:38:59.657Z"
   },
   {
    "duration": 13,
    "start_time": "2023-04-26T15:43:14.043Z"
   },
   {
    "duration": 93657,
    "start_time": "2023-04-26T15:46:05.260Z"
   },
   {
    "duration": 324,
    "start_time": "2023-04-26T15:47:38.919Z"
   },
   {
    "duration": 17,
    "start_time": "2023-04-26T15:50:16.142Z"
   },
   {
    "duration": 350,
    "start_time": "2023-04-26T15:50:45.926Z"
   },
   {
    "duration": 345,
    "start_time": "2023-04-26T15:50:56.167Z"
   },
   {
    "duration": 336,
    "start_time": "2023-04-26T15:51:02.078Z"
   },
   {
    "duration": 332,
    "start_time": "2023-04-26T15:51:08.464Z"
   },
   {
    "duration": 340,
    "start_time": "2023-04-26T15:51:12.118Z"
   },
   {
    "duration": 349,
    "start_time": "2023-04-26T15:51:18.414Z"
   },
   {
    "duration": 395,
    "start_time": "2023-04-26T15:51:23.974Z"
   },
   {
    "duration": 346,
    "start_time": "2023-04-26T15:51:31.534Z"
   },
   {
    "duration": 352,
    "start_time": "2023-04-26T15:51:38.823Z"
   },
   {
    "duration": 383,
    "start_time": "2023-04-26T15:51:49.398Z"
   },
   {
    "duration": 293,
    "start_time": "2023-04-26T15:51:55.518Z"
   },
   {
    "duration": 428,
    "start_time": "2023-04-26T15:51:59.469Z"
   },
   {
    "duration": 318,
    "start_time": "2023-04-26T15:52:13.638Z"
   },
   {
    "duration": 1433,
    "start_time": "2023-04-26T15:52:31.191Z"
   },
   {
    "duration": 48,
    "start_time": "2023-04-26T15:52:32.626Z"
   },
   {
    "duration": 5,
    "start_time": "2023-04-26T15:52:32.675Z"
   },
   {
    "duration": 220,
    "start_time": "2023-04-26T15:52:32.682Z"
   },
   {
    "duration": 10,
    "start_time": "2023-04-26T15:52:32.904Z"
   },
   {
    "duration": 17,
    "start_time": "2023-04-26T15:52:32.916Z"
   },
   {
    "duration": 216,
    "start_time": "2023-04-26T15:52:32.935Z"
   },
   {
    "duration": 248,
    "start_time": "2023-04-26T15:52:33.152Z"
   },
   {
    "duration": 857,
    "start_time": "2023-04-26T15:52:33.402Z"
   },
   {
    "duration": 547,
    "start_time": "2023-04-26T15:52:34.261Z"
   },
   {
    "duration": 286,
    "start_time": "2023-04-26T15:52:34.809Z"
   },
   {
    "duration": 3,
    "start_time": "2023-04-26T15:52:35.096Z"
   },
   {
    "duration": 15,
    "start_time": "2023-04-26T15:52:35.100Z"
   },
   {
    "duration": 8,
    "start_time": "2023-04-26T15:52:35.117Z"
   },
   {
    "duration": 5,
    "start_time": "2023-04-26T15:52:35.127Z"
   },
   {
    "duration": 104,
    "start_time": "2023-04-26T15:52:35.133Z"
   },
   {
    "duration": 93202,
    "start_time": "2023-04-26T15:52:35.238Z"
   },
   {
    "duration": 13,
    "start_time": "2023-04-26T15:54:08.441Z"
   },
   {
    "duration": 91954,
    "start_time": "2023-04-26T15:54:08.456Z"
   },
   {
    "duration": 8,
    "start_time": "2023-04-26T15:55:40.411Z"
   },
   {
    "duration": 45,
    "start_time": "2023-04-26T15:55:40.420Z"
   },
   {
    "duration": 2,
    "start_time": "2023-04-26T15:55:40.466Z"
   },
   {
    "duration": 330,
    "start_time": "2023-04-26T15:55:40.470Z"
   },
   {
    "duration": 66,
    "start_time": "2023-04-27T12:13:08.301Z"
   },
   {
    "duration": 1651,
    "start_time": "2023-04-27T12:13:16.457Z"
   },
   {
    "duration": 304,
    "start_time": "2023-04-27T12:13:18.111Z"
   },
   {
    "duration": 6,
    "start_time": "2023-04-27T12:13:19.378Z"
   },
   {
    "duration": 344,
    "start_time": "2023-04-27T12:13:20.835Z"
   },
   {
    "duration": 268,
    "start_time": "2023-04-27T12:13:33.818Z"
   },
   {
    "duration": 227,
    "start_time": "2023-04-27T12:13:55.361Z"
   },
   {
    "duration": 227,
    "start_time": "2023-04-27T12:14:03.972Z"
   },
   {
    "duration": 1476,
    "start_time": "2023-04-27T12:14:46.445Z"
   },
   {
    "duration": 49,
    "start_time": "2023-04-27T12:14:47.923Z"
   },
   {
    "duration": 5,
    "start_time": "2023-04-27T12:14:47.974Z"
   },
   {
    "duration": 251,
    "start_time": "2023-04-27T12:14:47.981Z"
   },
   {
    "duration": 12,
    "start_time": "2023-04-27T12:14:48.233Z"
   },
   {
    "duration": 25,
    "start_time": "2023-04-27T12:14:48.246Z"
   },
   {
    "duration": 234,
    "start_time": "2023-04-27T12:14:48.273Z"
   },
   {
    "duration": 291,
    "start_time": "2023-04-27T12:14:48.509Z"
   },
   {
    "duration": 910,
    "start_time": "2023-04-27T12:14:48.803Z"
   },
   {
    "duration": 718,
    "start_time": "2023-04-27T12:14:49.716Z"
   },
   {
    "duration": 350,
    "start_time": "2023-04-27T12:14:50.437Z"
   },
   {
    "duration": 4,
    "start_time": "2023-04-27T12:14:50.789Z"
   },
   {
    "duration": 38,
    "start_time": "2023-04-27T12:14:50.794Z"
   },
   {
    "duration": 19,
    "start_time": "2023-04-27T12:14:50.834Z"
   },
   {
    "duration": 4,
    "start_time": "2023-04-27T12:14:50.856Z"
   },
   {
    "duration": 153,
    "start_time": "2023-04-27T12:14:50.862Z"
   },
   {
    "duration": 100170,
    "start_time": "2023-04-27T12:14:51.060Z"
   },
   {
    "duration": 18,
    "start_time": "2023-04-27T12:16:31.232Z"
   },
   {
    "duration": 110453,
    "start_time": "2023-04-27T12:16:31.260Z"
   },
   {
    "duration": 12,
    "start_time": "2023-04-27T12:18:21.715Z"
   },
   {
    "duration": 67,
    "start_time": "2023-04-27T12:18:21.729Z"
   },
   {
    "duration": 4,
    "start_time": "2023-04-27T12:18:21.798Z"
   },
   {
    "duration": 353,
    "start_time": "2023-04-27T12:18:21.803Z"
   },
   {
    "duration": 15,
    "start_time": "2023-04-27T12:20:19.354Z"
   },
   {
    "duration": 18,
    "start_time": "2023-04-27T12:22:10.664Z"
   },
   {
    "duration": 1524,
    "start_time": "2023-04-27T12:22:22.855Z"
   },
   {
    "duration": 48,
    "start_time": "2023-04-27T12:22:24.381Z"
   },
   {
    "duration": 5,
    "start_time": "2023-04-27T12:22:24.430Z"
   },
   {
    "duration": 257,
    "start_time": "2023-04-27T12:22:24.437Z"
   },
   {
    "duration": 11,
    "start_time": "2023-04-27T12:22:24.696Z"
   },
   {
    "duration": 26,
    "start_time": "2023-04-27T12:22:24.708Z"
   },
   {
    "duration": 228,
    "start_time": "2023-04-27T12:22:24.735Z"
   },
   {
    "duration": 299,
    "start_time": "2023-04-27T12:22:24.965Z"
   },
   {
    "duration": 960,
    "start_time": "2023-04-27T12:22:25.265Z"
   },
   {
    "duration": 647,
    "start_time": "2023-04-27T12:22:26.228Z"
   },
   {
    "duration": 328,
    "start_time": "2023-04-27T12:22:26.876Z"
   },
   {
    "duration": 4,
    "start_time": "2023-04-27T12:22:27.205Z"
   },
   {
    "duration": 26,
    "start_time": "2023-04-27T12:22:27.211Z"
   },
   {
    "duration": 24,
    "start_time": "2023-04-27T12:22:27.238Z"
   },
   {
    "duration": 9,
    "start_time": "2023-04-27T12:22:27.263Z"
   },
   {
    "duration": 786,
    "start_time": "2023-04-27T12:22:27.274Z"
   },
   {
    "duration": 248576,
    "start_time": "2023-04-27T12:22:28.062Z"
   },
   {
    "duration": 34,
    "start_time": "2023-04-27T12:26:36.640Z"
   },
   {
    "duration": 308064,
    "start_time": "2023-04-27T12:26:36.675Z"
   },
   {
    "duration": 11,
    "start_time": "2023-04-27T12:31:44.742Z"
   },
   {
    "duration": 58,
    "start_time": "2023-04-27T12:31:44.756Z"
   },
   {
    "duration": 4,
    "start_time": "2023-04-27T12:31:44.816Z"
   },
   {
    "duration": 1034,
    "start_time": "2023-04-27T12:31:44.821Z"
   },
   {
    "duration": 0,
    "start_time": "2023-04-27T12:31:47.473Z"
   },
   {
    "duration": 1251,
    "start_time": "2023-04-27T12:42:39.145Z"
   },
   {
    "duration": 1442,
    "start_time": "2023-04-27T12:42:50.953Z"
   },
   {
    "duration": 1544,
    "start_time": "2023-04-27T12:43:39.183Z"
   },
   {
    "duration": 1266,
    "start_time": "2023-04-27T12:44:54.922Z"
   },
   {
    "duration": 1248,
    "start_time": "2023-04-27T12:45:20.953Z"
   },
   {
    "duration": 1280,
    "start_time": "2023-04-27T12:46:08.575Z"
   },
   {
    "duration": 1399,
    "start_time": "2023-04-27T13:06:52.752Z"
   },
   {
    "duration": 1439,
    "start_time": "2023-04-27T13:07:12.456Z"
   },
   {
    "duration": 1372,
    "start_time": "2023-04-27T13:07:23.413Z"
   },
   {
    "duration": 1612,
    "start_time": "2023-04-27T13:08:09.352Z"
   },
   {
    "duration": 1351,
    "start_time": "2023-04-27T13:08:47.097Z"
   },
   {
    "duration": 1498,
    "start_time": "2023-04-27T13:09:00.372Z"
   },
   {
    "duration": 26,
    "start_time": "2023-04-27T13:09:36.175Z"
   },
   {
    "duration": 1577,
    "start_time": "2023-04-27T13:09:59.517Z"
   },
   {
    "duration": 50,
    "start_time": "2023-04-27T13:10:01.096Z"
   },
   {
    "duration": 6,
    "start_time": "2023-04-27T13:10:01.147Z"
   },
   {
    "duration": 282,
    "start_time": "2023-04-27T13:10:01.154Z"
   },
   {
    "duration": 12,
    "start_time": "2023-04-27T13:10:01.438Z"
   },
   {
    "duration": 37,
    "start_time": "2023-04-27T13:10:01.460Z"
   },
   {
    "duration": 248,
    "start_time": "2023-04-27T13:10:01.498Z"
   },
   {
    "duration": 313,
    "start_time": "2023-04-27T13:10:01.748Z"
   },
   {
    "duration": 1006,
    "start_time": "2023-04-27T13:10:02.063Z"
   },
   {
    "duration": 605,
    "start_time": "2023-04-27T13:10:03.071Z"
   },
   {
    "duration": 326,
    "start_time": "2023-04-27T13:10:03.677Z"
   },
   {
    "duration": 3,
    "start_time": "2023-04-27T13:10:04.005Z"
   },
   {
    "duration": 34,
    "start_time": "2023-04-27T13:10:04.009Z"
   },
   {
    "duration": 14,
    "start_time": "2023-04-27T13:10:04.045Z"
   },
   {
    "duration": 12,
    "start_time": "2023-04-27T13:10:04.061Z"
   },
   {
    "duration": 594,
    "start_time": "2023-04-27T13:10:04.074Z"
   },
   {
    "duration": 1522,
    "start_time": "2023-04-27T13:12:47.428Z"
   },
   {
    "duration": 51,
    "start_time": "2023-04-27T13:12:48.952Z"
   },
   {
    "duration": 6,
    "start_time": "2023-04-27T13:12:49.005Z"
   },
   {
    "duration": 248,
    "start_time": "2023-04-27T13:12:49.013Z"
   },
   {
    "duration": 12,
    "start_time": "2023-04-27T13:12:49.263Z"
   },
   {
    "duration": 9,
    "start_time": "2023-04-27T13:12:49.277Z"
   },
   {
    "duration": 241,
    "start_time": "2023-04-27T13:12:49.287Z"
   },
   {
    "duration": 300,
    "start_time": "2023-04-27T13:12:49.530Z"
   },
   {
    "duration": 1032,
    "start_time": "2023-04-27T13:12:49.833Z"
   },
   {
    "duration": 629,
    "start_time": "2023-04-27T13:12:50.868Z"
   },
   {
    "duration": 346,
    "start_time": "2023-04-27T13:12:51.499Z"
   },
   {
    "duration": 12,
    "start_time": "2023-04-27T13:12:51.847Z"
   },
   {
    "duration": 22,
    "start_time": "2023-04-27T13:12:51.861Z"
   },
   {
    "duration": 9,
    "start_time": "2023-04-27T13:12:51.885Z"
   },
   {
    "duration": 3,
    "start_time": "2023-04-27T13:12:51.896Z"
   },
   {
    "duration": 764,
    "start_time": "2023-04-27T13:12:51.900Z"
   },
   {
    "duration": 1481,
    "start_time": "2023-04-27T13:14:19.378Z"
   },
   {
    "duration": 53,
    "start_time": "2023-04-27T13:14:20.861Z"
   },
   {
    "duration": 6,
    "start_time": "2023-04-27T13:14:20.916Z"
   },
   {
    "duration": 253,
    "start_time": "2023-04-27T13:14:20.924Z"
   },
   {
    "duration": 11,
    "start_time": "2023-04-27T13:14:21.179Z"
   },
   {
    "duration": 17,
    "start_time": "2023-04-27T13:14:21.192Z"
   },
   {
    "duration": 221,
    "start_time": "2023-04-27T13:14:21.210Z"
   },
   {
    "duration": 285,
    "start_time": "2023-04-27T13:14:21.433Z"
   },
   {
    "duration": 945,
    "start_time": "2023-04-27T13:14:21.720Z"
   },
   {
    "duration": 608,
    "start_time": "2023-04-27T13:14:22.668Z"
   },
   {
    "duration": 329,
    "start_time": "2023-04-27T13:14:23.277Z"
   },
   {
    "duration": 3,
    "start_time": "2023-04-27T13:14:23.608Z"
   },
   {
    "duration": 22,
    "start_time": "2023-04-27T13:14:23.613Z"
   },
   {
    "duration": 25,
    "start_time": "2023-04-27T13:14:23.637Z"
   },
   {
    "duration": 3,
    "start_time": "2023-04-27T13:14:23.664Z"
   },
   {
    "duration": 701,
    "start_time": "2023-04-27T13:14:23.668Z"
   },
   {
    "duration": 1444,
    "start_time": "2023-04-27T13:15:57.312Z"
   },
   {
    "duration": 50,
    "start_time": "2023-04-27T13:15:58.758Z"
   },
   {
    "duration": 5,
    "start_time": "2023-04-27T13:15:58.810Z"
   },
   {
    "duration": 251,
    "start_time": "2023-04-27T13:15:58.816Z"
   },
   {
    "duration": 12,
    "start_time": "2023-04-27T13:15:59.069Z"
   },
   {
    "duration": 12,
    "start_time": "2023-04-27T13:15:59.083Z"
   },
   {
    "duration": 241,
    "start_time": "2023-04-27T13:15:59.097Z"
   },
   {
    "duration": 321,
    "start_time": "2023-04-27T13:15:59.340Z"
   },
   {
    "duration": 1070,
    "start_time": "2023-04-27T13:15:59.663Z"
   },
   {
    "duration": 653,
    "start_time": "2023-04-27T13:16:00.735Z"
   },
   {
    "duration": 358,
    "start_time": "2023-04-27T13:16:01.390Z"
   },
   {
    "duration": 12,
    "start_time": "2023-04-27T13:16:01.750Z"
   },
   {
    "duration": 54,
    "start_time": "2023-04-27T13:16:01.764Z"
   },
   {
    "duration": 11,
    "start_time": "2023-04-27T13:16:01.821Z"
   },
   {
    "duration": 39,
    "start_time": "2023-04-27T13:16:01.833Z"
   },
   {
    "duration": 692,
    "start_time": "2023-04-27T13:16:01.874Z"
   },
   {
    "duration": 242449,
    "start_time": "2023-04-27T13:16:02.569Z"
   },
   {
    "duration": 23,
    "start_time": "2023-04-27T13:20:05.020Z"
   },
   {
    "duration": 304242,
    "start_time": "2023-04-27T13:20:05.044Z"
   },
   {
    "duration": 10,
    "start_time": "2023-04-27T13:25:09.288Z"
   },
   {
    "duration": 50,
    "start_time": "2023-04-27T13:25:09.299Z"
   },
   {
    "duration": 3,
    "start_time": "2023-04-27T13:25:09.351Z"
   },
   {
    "duration": 1036,
    "start_time": "2023-04-27T13:25:09.356Z"
   },
   {
    "duration": 77,
    "start_time": "2023-04-27T13:29:42.838Z"
   },
   {
    "duration": 100,
    "start_time": "2023-04-28T15:55:47.404Z"
   },
   {
    "duration": 2037,
    "start_time": "2023-04-28T15:57:14.169Z"
   },
   {
    "duration": 129,
    "start_time": "2023-04-28T15:57:16.209Z"
   },
   {
    "duration": 105,
    "start_time": "2023-04-28T15:57:16.340Z"
   },
   {
    "duration": 360,
    "start_time": "2023-04-28T15:57:16.448Z"
   },
   {
    "duration": 15,
    "start_time": "2023-04-28T15:57:16.810Z"
   },
   {
    "duration": 154,
    "start_time": "2023-04-28T15:57:16.844Z"
   },
   {
    "duration": 305,
    "start_time": "2023-04-28T15:57:17.000Z"
   },
   {
    "duration": 267,
    "start_time": "2023-04-28T15:57:17.306Z"
   },
   {
    "duration": 1143,
    "start_time": "2023-04-28T15:57:17.576Z"
   },
   {
    "duration": 715,
    "start_time": "2023-04-28T15:57:18.722Z"
   },
   {
    "duration": 502,
    "start_time": "2023-04-28T15:57:19.441Z"
   },
   {
    "duration": 4,
    "start_time": "2023-04-28T15:57:19.945Z"
   },
   {
    "duration": 33,
    "start_time": "2023-04-28T15:57:19.951Z"
   },
   {
    "duration": 12,
    "start_time": "2023-04-28T15:57:19.986Z"
   },
   {
    "duration": 3,
    "start_time": "2023-04-28T15:57:20.000Z"
   },
   {
    "duration": 640,
    "start_time": "2023-04-28T15:57:20.005Z"
   },
   {
    "duration": 260119,
    "start_time": "2023-04-28T15:57:20.649Z"
   },
   {
    "duration": 238,
    "start_time": "2023-04-28T16:01:40.770Z"
   },
   {
    "duration": 1618,
    "start_time": "2023-04-28T16:04:52.363Z"
   },
   {
    "duration": 55,
    "start_time": "2023-04-28T16:04:53.983Z"
   },
   {
    "duration": 5,
    "start_time": "2023-04-28T16:04:54.040Z"
   },
   {
    "duration": 295,
    "start_time": "2023-04-28T16:04:54.048Z"
   },
   {
    "duration": 13,
    "start_time": "2023-04-28T16:04:54.345Z"
   },
   {
    "duration": 43,
    "start_time": "2023-04-28T16:04:54.360Z"
   },
   {
    "duration": 249,
    "start_time": "2023-04-28T16:04:54.405Z"
   },
   {
    "duration": 356,
    "start_time": "2023-04-28T16:04:54.656Z"
   },
   {
    "duration": 1096,
    "start_time": "2023-04-28T16:04:55.015Z"
   },
   {
    "duration": 716,
    "start_time": "2023-04-28T16:04:56.115Z"
   },
   {
    "duration": 388,
    "start_time": "2023-04-28T16:04:56.833Z"
   },
   {
    "duration": 5,
    "start_time": "2023-04-28T16:04:57.224Z"
   },
   {
    "duration": 24,
    "start_time": "2023-04-28T16:04:57.242Z"
   },
   {
    "duration": 12,
    "start_time": "2023-04-28T16:04:57.268Z"
   },
   {
    "duration": 4,
    "start_time": "2023-04-28T16:04:57.282Z"
   },
   {
    "duration": 960,
    "start_time": "2023-04-28T16:04:57.288Z"
   },
   {
    "duration": 253708,
    "start_time": "2023-04-28T16:04:58.340Z"
   },
   {
    "duration": 25,
    "start_time": "2023-04-28T16:09:12.050Z"
   },
   {
    "duration": 347866,
    "start_time": "2023-04-28T16:09:12.077Z"
   },
   {
    "duration": 12,
    "start_time": "2023-04-28T16:14:59.945Z"
   },
   {
    "duration": 66,
    "start_time": "2023-04-28T16:14:59.959Z"
   },
   {
    "duration": 4,
    "start_time": "2023-04-28T16:15:00.042Z"
   },
   {
    "duration": 1094,
    "start_time": "2023-04-28T16:15:00.049Z"
   },
   {
    "duration": 197,
    "start_time": "2023-04-28T16:23:57.923Z"
   },
   {
    "duration": 93,
    "start_time": "2023-04-28T16:27:40.125Z"
   },
   {
    "duration": 66,
    "start_time": "2023-04-28T16:28:11.324Z"
   },
   {
    "duration": 29,
    "start_time": "2023-04-28T16:28:19.558Z"
   },
   {
    "duration": 25,
    "start_time": "2023-04-28T16:28:23.057Z"
   },
   {
    "duration": 83,
    "start_time": "2023-04-28T16:28:56.550Z"
   },
   {
    "duration": 94,
    "start_time": "2023-04-28T16:31:15.252Z"
   },
   {
    "duration": 28,
    "start_time": "2023-04-28T16:31:29.624Z"
   },
   {
    "duration": 20,
    "start_time": "2023-04-28T16:34:06.496Z"
   },
   {
    "duration": 20,
    "start_time": "2023-04-28T16:34:34.867Z"
   },
   {
    "duration": 93,
    "start_time": "2023-04-28T16:37:47.934Z"
   },
   {
    "duration": 94,
    "start_time": "2023-04-28T16:38:11.265Z"
   },
   {
    "duration": 87,
    "start_time": "2023-04-28T16:38:25.354Z"
   },
   {
    "duration": 29,
    "start_time": "2023-04-28T16:38:43.746Z"
   },
   {
    "duration": 3,
    "start_time": "2023-04-28T16:39:37.873Z"
   },
   {
    "duration": 3,
    "start_time": "2023-04-28T16:40:15.659Z"
   },
   {
    "duration": 14,
    "start_time": "2023-04-28T16:40:58.010Z"
   },
   {
    "duration": 18,
    "start_time": "2023-04-28T16:41:12.022Z"
   },
   {
    "duration": 4262,
    "start_time": "2023-04-28T16:41:20.854Z"
   },
   {
    "duration": 4,
    "start_time": "2023-04-28T16:42:14.568Z"
   },
   {
    "duration": 4,
    "start_time": "2023-04-28T16:42:27.480Z"
   },
   {
    "duration": 4356,
    "start_time": "2023-04-28T16:45:44.690Z"
   },
   {
    "duration": 4,
    "start_time": "2023-04-28T16:46:04.690Z"
   },
   {
    "duration": 4256,
    "start_time": "2023-04-28T16:46:07.290Z"
   },
   {
    "duration": 4,
    "start_time": "2023-04-28T16:46:13.943Z"
   },
   {
    "duration": 13,
    "start_time": "2023-04-28T16:49:37.931Z"
   },
   {
    "duration": 15,
    "start_time": "2023-04-28T16:50:19.431Z"
   },
   {
    "duration": 14,
    "start_time": "2023-04-28T16:50:55.739Z"
   },
   {
    "duration": 13,
    "start_time": "2023-04-28T16:51:15.483Z"
   },
   {
    "duration": 12,
    "start_time": "2023-04-28T16:51:38.869Z"
   },
   {
    "duration": 13,
    "start_time": "2023-04-28T16:51:52.303Z"
   },
   {
    "duration": 12,
    "start_time": "2023-04-28T16:51:58.444Z"
   },
   {
    "duration": 12,
    "start_time": "2023-04-28T16:56:20.501Z"
   },
   {
    "duration": 43,
    "start_time": "2023-04-28T16:57:21.638Z"
   },
   {
    "duration": 11,
    "start_time": "2023-04-28T16:58:27.543Z"
   },
   {
    "duration": 14,
    "start_time": "2023-04-28T16:58:56.733Z"
   },
   {
    "duration": 5,
    "start_time": "2023-04-28T16:59:47.612Z"
   },
   {
    "duration": 12,
    "start_time": "2023-04-28T17:00:03.263Z"
   },
   {
    "duration": 4,
    "start_time": "2023-04-28T17:00:10.315Z"
   },
   {
    "duration": 4,
    "start_time": "2023-04-28T17:00:42.381Z"
   },
   {
    "duration": 20410,
    "start_time": "2023-04-28T17:01:43.359Z"
   },
   {
    "duration": 7255,
    "start_time": "2023-04-28T17:02:51.433Z"
   },
   {
    "duration": 19088,
    "start_time": "2023-04-28T17:03:23.106Z"
   },
   {
    "duration": 4,
    "start_time": "2023-04-28T17:07:16.208Z"
   },
   {
    "duration": 5,
    "start_time": "2023-04-28T17:07:24.663Z"
   },
   {
    "duration": 20,
    "start_time": "2023-04-28T17:08:22.029Z"
   },
   {
    "duration": 45,
    "start_time": "2023-04-28T17:09:24.232Z"
   },
   {
    "duration": 1750,
    "start_time": "2023-04-28T17:10:05.505Z"
   },
   {
    "duration": 54,
    "start_time": "2023-04-28T17:10:07.257Z"
   },
   {
    "duration": 6,
    "start_time": "2023-04-28T17:10:07.314Z"
   },
   {
    "duration": 336,
    "start_time": "2023-04-28T17:10:07.322Z"
   },
   {
    "duration": 13,
    "start_time": "2023-04-28T17:10:07.660Z"
   },
   {
    "duration": 30,
    "start_time": "2023-04-28T17:10:07.675Z"
   },
   {
    "duration": 260,
    "start_time": "2023-04-28T17:10:07.707Z"
   },
   {
    "duration": 371,
    "start_time": "2023-04-28T17:10:07.970Z"
   },
   {
    "duration": 1064,
    "start_time": "2023-04-28T17:10:08.344Z"
   },
   {
    "duration": 701,
    "start_time": "2023-04-28T17:10:09.411Z"
   },
   {
    "duration": 387,
    "start_time": "2023-04-28T17:10:10.114Z"
   },
   {
    "duration": 5,
    "start_time": "2023-04-28T17:10:10.503Z"
   },
   {
    "duration": 39,
    "start_time": "2023-04-28T17:10:10.510Z"
   },
   {
    "duration": 13,
    "start_time": "2023-04-28T17:10:10.551Z"
   },
   {
    "duration": 4,
    "start_time": "2023-04-28T17:10:10.566Z"
   },
   {
    "duration": 770,
    "start_time": "2023-04-28T17:10:10.572Z"
   },
   {
    "duration": 252441,
    "start_time": "2023-04-28T17:10:11.344Z"
   },
   {
    "duration": 23,
    "start_time": "2023-04-28T17:14:23.788Z"
   },
   {
    "duration": 4339,
    "start_time": "2023-04-28T17:14:23.813Z"
   },
   {
    "duration": 4,
    "start_time": "2023-04-28T17:14:28.154Z"
   },
   {
    "duration": 343177,
    "start_time": "2023-04-28T17:14:28.160Z"
   },
   {
    "duration": 9,
    "start_time": "2023-04-28T17:20:11.339Z"
   },
   {
    "duration": 19801,
    "start_time": "2023-04-28T17:20:11.350Z"
   },
   {
    "duration": 4,
    "start_time": "2023-04-28T17:20:31.153Z"
   },
   {
    "duration": 244,
    "start_time": "2023-04-28T17:20:31.159Z"
   },
   {
    "duration": 4,
    "start_time": "2023-04-28T17:20:31.405Z"
   },
   {
    "duration": 1029,
    "start_time": "2023-04-28T17:20:31.410Z"
   },
   {
    "duration": 1643,
    "start_time": "2023-05-03T06:14:41.235Z"
   },
   {
    "duration": 136,
    "start_time": "2023-05-03T06:14:42.880Z"
   },
   {
    "duration": 7,
    "start_time": "2023-05-03T06:14:43.017Z"
   },
   {
    "duration": 287,
    "start_time": "2023-05-03T06:14:43.026Z"
   },
   {
    "duration": 13,
    "start_time": "2023-05-03T06:14:43.314Z"
   },
   {
    "duration": 96,
    "start_time": "2023-05-03T06:14:43.329Z"
   },
   {
    "duration": 252,
    "start_time": "2023-05-03T06:14:43.427Z"
   },
   {
    "duration": 245,
    "start_time": "2023-05-03T06:14:43.681Z"
   },
   {
    "duration": 1117,
    "start_time": "2023-05-03T06:14:43.928Z"
   },
   {
    "duration": 672,
    "start_time": "2023-05-03T06:14:45.048Z"
   },
   {
    "duration": 457,
    "start_time": "2023-05-03T06:14:45.723Z"
   },
   {
    "duration": 4,
    "start_time": "2023-05-03T06:14:46.181Z"
   },
   {
    "duration": 28,
    "start_time": "2023-05-03T06:14:46.187Z"
   },
   {
    "duration": 11,
    "start_time": "2023-05-03T06:14:46.217Z"
   },
   {
    "duration": 9,
    "start_time": "2023-05-03T06:14:46.230Z"
   },
   {
    "duration": 552,
    "start_time": "2023-05-03T06:14:46.241Z"
   },
   {
    "duration": 239387,
    "start_time": "2023-05-03T06:14:46.794Z"
   },
   {
    "duration": 24,
    "start_time": "2023-05-03T06:18:46.183Z"
   },
   {
    "duration": 4084,
    "start_time": "2023-05-03T06:18:46.209Z"
   },
   {
    "duration": 4,
    "start_time": "2023-05-03T06:18:50.294Z"
   },
   {
    "duration": 313522,
    "start_time": "2023-05-03T06:18:50.299Z"
   },
   {
    "duration": 8,
    "start_time": "2023-05-03T06:24:03.823Z"
   },
   {
    "duration": 17269,
    "start_time": "2023-05-03T06:24:03.833Z"
   },
   {
    "duration": 3,
    "start_time": "2023-05-03T06:24:21.104Z"
   },
   {
    "duration": 70,
    "start_time": "2023-05-03T06:24:21.109Z"
   },
   {
    "duration": 4,
    "start_time": "2023-05-03T06:24:21.180Z"
   },
   {
    "duration": 902,
    "start_time": "2023-05-03T06:24:21.185Z"
   },
   {
    "duration": 1507,
    "start_time": "2023-05-03T06:26:22.684Z"
   },
   {
    "duration": 4,
    "start_time": "2023-05-03T06:26:27.110Z"
   },
   {
    "duration": 8954,
    "start_time": "2023-05-03T06:26:50.553Z"
   },
   {
    "duration": 4,
    "start_time": "2023-05-03T06:27:10.367Z"
   },
   {
    "duration": 17,
    "start_time": "2023-05-03T06:27:13.917Z"
   }
  ],
  "kernelspec": {
   "display_name": "Python 3 (ipykernel)",
   "language": "python",
   "name": "python3"
  },
  "language_info": {
   "codemirror_mode": {
    "name": "ipython",
    "version": 3
   },
   "file_extension": ".py",
   "mimetype": "text/x-python",
   "name": "python",
   "nbconvert_exporter": "python",
   "pygments_lexer": "ipython3",
   "version": "3.9.5"
  },
  "toc": {
   "base_numbering": 1,
   "nav_menu": {},
   "number_sections": true,
   "sideBar": true,
   "skip_h1_title": true,
   "title_cell": "Содержание",
   "title_sidebar": "Contents",
   "toc_cell": true,
   "toc_position": {},
   "toc_section_display": true,
   "toc_window_display": false
  }
 },
 "nbformat": 4,
 "nbformat_minor": 2
}
