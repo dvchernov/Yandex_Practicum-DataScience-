{
 "cells": [
  {
   "cell_type": "markdown",
   "metadata": {},
   "source": [
    "# Определение стоимости автомобилей"
   ]
  },
  {
   "cell_type": "markdown",
   "metadata": {},
   "source": [
    "Сервис по продаже автомобилей с пробегом «Не бит, не крашен» разрабатывает приложение для привлечения новых клиентов. В нём можно быстро узнать рыночную стоимость своего автомобиля. В вашем распоряжении исторические данные: технические характеристики, комплектации и цены автомобилей. Вам нужно построить модель для определения стоимости. \n",
    "\n",
    "Заказчику важны:\n",
    "\n",
    "- качество предсказания;\n",
    "- скорость предсказания;\n",
    "- время обучения."
   ]
  },
  {
   "cell_type": "markdown",
   "metadata": {},
   "source": [
    "## Подготовка данных"
   ]
  },
  {
   "cell_type": "markdown",
   "metadata": {},
   "source": [
    "**Библиотеки**"
   ]
  },
  {
   "cell_type": "code",
   "execution_count": 1,
   "metadata": {},
   "outputs": [],
   "source": [
    "import pandas as pd\n",
    "import matplotlib.pyplot as plt\n",
    "import seaborn as sns\n",
    "from sklearn.preprocessing import OrdinalEncoder\n",
    "from sklearn.metrics import mean_squared_error\n",
    "\n",
    "from sklearn.model_selection import train_test_split\n",
    "from sklearn.preprocessing import StandardScaler\n",
    "import lightgbm as lgbm\n",
    "from sklearn.linear_model import LinearRegression\n",
    "from catboost import CatBoostClassifier\n",
    "from catboost import CatBoostRegressor\n",
    "from lightgbm import LGBMRegressor\n",
    "\n",
    "from sklearn.metrics import r2_score\n",
    "from tqdm.notebook import tqdm\n",
    "from sklearn.model_selection import cross_val_score\n",
    "from sklearn.model_selection import GridSearchCV\n",
    "\n",
    "import time\n",
    "import warnings\n",
    "warnings.filterwarnings('ignore')"
   ]
  },
  {
   "cell_type": "markdown",
   "metadata": {},
   "source": [
    "**Датасет**"
   ]
  },
  {
   "cell_type": "code",
   "execution_count": 2,
   "metadata": {},
   "outputs": [],
   "source": [
    "data = pd.read_csv('/datasets/autos.csv')"
   ]
  },
  {
   "cell_type": "code",
   "execution_count": 3,
   "metadata": {},
   "outputs": [
    {
     "data": {
      "text/html": [
       "<div>\n",
       "<style scoped>\n",
       "    .dataframe tbody tr th:only-of-type {\n",
       "        vertical-align: middle;\n",
       "    }\n",
       "\n",
       "    .dataframe tbody tr th {\n",
       "        vertical-align: top;\n",
       "    }\n",
       "\n",
       "    .dataframe thead th {\n",
       "        text-align: right;\n",
       "    }\n",
       "</style>\n",
       "<table border=\"1\" class=\"dataframe\">\n",
       "  <thead>\n",
       "    <tr style=\"text-align: right;\">\n",
       "      <th></th>\n",
       "      <th>DateCrawled</th>\n",
       "      <th>Price</th>\n",
       "      <th>VehicleType</th>\n",
       "      <th>RegistrationYear</th>\n",
       "      <th>Gearbox</th>\n",
       "      <th>Power</th>\n",
       "      <th>Model</th>\n",
       "      <th>Kilometer</th>\n",
       "      <th>RegistrationMonth</th>\n",
       "      <th>FuelType</th>\n",
       "      <th>Brand</th>\n",
       "      <th>Repaired</th>\n",
       "      <th>DateCreated</th>\n",
       "      <th>NumberOfPictures</th>\n",
       "      <th>PostalCode</th>\n",
       "      <th>LastSeen</th>\n",
       "    </tr>\n",
       "  </thead>\n",
       "  <tbody>\n",
       "    <tr>\n",
       "      <th>0</th>\n",
       "      <td>2016-03-24 11:52:17</td>\n",
       "      <td>480</td>\n",
       "      <td>NaN</td>\n",
       "      <td>1993</td>\n",
       "      <td>manual</td>\n",
       "      <td>0</td>\n",
       "      <td>golf</td>\n",
       "      <td>150000</td>\n",
       "      <td>0</td>\n",
       "      <td>petrol</td>\n",
       "      <td>volkswagen</td>\n",
       "      <td>NaN</td>\n",
       "      <td>2016-03-24 00:00:00</td>\n",
       "      <td>0</td>\n",
       "      <td>70435</td>\n",
       "      <td>2016-04-07 03:16:57</td>\n",
       "    </tr>\n",
       "    <tr>\n",
       "      <th>1</th>\n",
       "      <td>2016-03-24 10:58:45</td>\n",
       "      <td>18300</td>\n",
       "      <td>coupe</td>\n",
       "      <td>2011</td>\n",
       "      <td>manual</td>\n",
       "      <td>190</td>\n",
       "      <td>NaN</td>\n",
       "      <td>125000</td>\n",
       "      <td>5</td>\n",
       "      <td>gasoline</td>\n",
       "      <td>audi</td>\n",
       "      <td>yes</td>\n",
       "      <td>2016-03-24 00:00:00</td>\n",
       "      <td>0</td>\n",
       "      <td>66954</td>\n",
       "      <td>2016-04-07 01:46:50</td>\n",
       "    </tr>\n",
       "    <tr>\n",
       "      <th>2</th>\n",
       "      <td>2016-03-14 12:52:21</td>\n",
       "      <td>9800</td>\n",
       "      <td>suv</td>\n",
       "      <td>2004</td>\n",
       "      <td>auto</td>\n",
       "      <td>163</td>\n",
       "      <td>grand</td>\n",
       "      <td>125000</td>\n",
       "      <td>8</td>\n",
       "      <td>gasoline</td>\n",
       "      <td>jeep</td>\n",
       "      <td>NaN</td>\n",
       "      <td>2016-03-14 00:00:00</td>\n",
       "      <td>0</td>\n",
       "      <td>90480</td>\n",
       "      <td>2016-04-05 12:47:46</td>\n",
       "    </tr>\n",
       "    <tr>\n",
       "      <th>3</th>\n",
       "      <td>2016-03-17 16:54:04</td>\n",
       "      <td>1500</td>\n",
       "      <td>small</td>\n",
       "      <td>2001</td>\n",
       "      <td>manual</td>\n",
       "      <td>75</td>\n",
       "      <td>golf</td>\n",
       "      <td>150000</td>\n",
       "      <td>6</td>\n",
       "      <td>petrol</td>\n",
       "      <td>volkswagen</td>\n",
       "      <td>no</td>\n",
       "      <td>2016-03-17 00:00:00</td>\n",
       "      <td>0</td>\n",
       "      <td>91074</td>\n",
       "      <td>2016-03-17 17:40:17</td>\n",
       "    </tr>\n",
       "    <tr>\n",
       "      <th>4</th>\n",
       "      <td>2016-03-31 17:25:20</td>\n",
       "      <td>3600</td>\n",
       "      <td>small</td>\n",
       "      <td>2008</td>\n",
       "      <td>manual</td>\n",
       "      <td>69</td>\n",
       "      <td>fabia</td>\n",
       "      <td>90000</td>\n",
       "      <td>7</td>\n",
       "      <td>gasoline</td>\n",
       "      <td>skoda</td>\n",
       "      <td>no</td>\n",
       "      <td>2016-03-31 00:00:00</td>\n",
       "      <td>0</td>\n",
       "      <td>60437</td>\n",
       "      <td>2016-04-06 10:17:21</td>\n",
       "    </tr>\n",
       "  </tbody>\n",
       "</table>\n",
       "</div>"
      ],
      "text/plain": [
       "           DateCrawled  Price VehicleType  RegistrationYear Gearbox  Power  \\\n",
       "0  2016-03-24 11:52:17    480         NaN              1993  manual      0   \n",
       "1  2016-03-24 10:58:45  18300       coupe              2011  manual    190   \n",
       "2  2016-03-14 12:52:21   9800         suv              2004    auto    163   \n",
       "3  2016-03-17 16:54:04   1500       small              2001  manual     75   \n",
       "4  2016-03-31 17:25:20   3600       small              2008  manual     69   \n",
       "\n",
       "   Model  Kilometer  RegistrationMonth  FuelType       Brand Repaired  \\\n",
       "0   golf     150000                  0    petrol  volkswagen      NaN   \n",
       "1    NaN     125000                  5  gasoline        audi      yes   \n",
       "2  grand     125000                  8  gasoline        jeep      NaN   \n",
       "3   golf     150000                  6    petrol  volkswagen       no   \n",
       "4  fabia      90000                  7  gasoline       skoda       no   \n",
       "\n",
       "           DateCreated  NumberOfPictures  PostalCode             LastSeen  \n",
       "0  2016-03-24 00:00:00                 0       70435  2016-04-07 03:16:57  \n",
       "1  2016-03-24 00:00:00                 0       66954  2016-04-07 01:46:50  \n",
       "2  2016-03-14 00:00:00                 0       90480  2016-04-05 12:47:46  \n",
       "3  2016-03-17 00:00:00                 0       91074  2016-03-17 17:40:17  \n",
       "4  2016-03-31 00:00:00                 0       60437  2016-04-06 10:17:21  "
      ]
     },
     "execution_count": 3,
     "metadata": {},
     "output_type": "execute_result"
    }
   ],
   "source": [
    "data.head()"
   ]
  },
  {
   "cell_type": "markdown",
   "metadata": {},
   "source": [
    "**Описание данных**"
   ]
  },
  {
   "cell_type": "markdown",
   "metadata": {},
   "source": [
    "**Признаки:**\n",
    "- DateCrawled — дата скачивания анкеты из базы\n",
    "- VehicleType — тип автомобильного кузова\n",
    "- RegistrationYear — год регистрации автомобиля\n",
    "- Gearbox — тип коробки передач\n",
    "- Power — мощность (л. с.)\n",
    "- Model — модель автомобиля\n",
    "- Kilometer — пробег (км)\n",
    "- RegistrationMonth — месяц регистрации автомобиля\n",
    "- FuelType — тип топлива\n",
    "- Brand — марка автомобиля\n",
    "- Repaired — была машина в ремонте или нет\n",
    "- DateCreated — дата создания анкеты\n",
    "- NumberOfPictures — количество фотографий автомобиля\n",
    "- PostalCode — почтовый индекс владельца анкеты (пользователя)\n",
    "- LastSeen — дата последней активности пользователя\n",
    "\n",
    "**Целевой признак:**\n",
    "- Price — цена (евро)"
   ]
  },
  {
   "cell_type": "code",
   "execution_count": 4,
   "metadata": {},
   "outputs": [
    {
     "name": "stdout",
     "output_type": "stream",
     "text": [
      "<class 'pandas.core.frame.DataFrame'>\n",
      "RangeIndex: 354369 entries, 0 to 354368\n",
      "Data columns (total 16 columns):\n",
      " #   Column             Non-Null Count   Dtype \n",
      "---  ------             --------------   ----- \n",
      " 0   DateCrawled        354369 non-null  object\n",
      " 1   Price              354369 non-null  int64 \n",
      " 2   VehicleType        316879 non-null  object\n",
      " 3   RegistrationYear   354369 non-null  int64 \n",
      " 4   Gearbox            334536 non-null  object\n",
      " 5   Power              354369 non-null  int64 \n",
      " 6   Model              334664 non-null  object\n",
      " 7   Kilometer          354369 non-null  int64 \n",
      " 8   RegistrationMonth  354369 non-null  int64 \n",
      " 9   FuelType           321474 non-null  object\n",
      " 10  Brand              354369 non-null  object\n",
      " 11  Repaired           283215 non-null  object\n",
      " 12  DateCreated        354369 non-null  object\n",
      " 13  NumberOfPictures   354369 non-null  int64 \n",
      " 14  PostalCode         354369 non-null  int64 \n",
      " 15  LastSeen           354369 non-null  object\n",
      "dtypes: int64(7), object(9)\n",
      "memory usage: 43.3+ MB\n"
     ]
    }
   ],
   "source": [
    "data.info()"
   ]
  },
  {
   "cell_type": "markdown",
   "metadata": {},
   "source": [
    "**Предобработка данных**"
   ]
  },
  {
   "cell_type": "markdown",
   "metadata": {},
   "source": [
    "Удаляем следующие столбцы, так как эти признаки не потребуются для построения модели:\n",
    "\n",
    "DateCrawled, NumberOfPictures, PostalCode, LastSeen"
   ]
  },
  {
   "cell_type": "code",
   "execution_count": 5,
   "metadata": {},
   "outputs": [],
   "source": [
    "data = data.drop(['NumberOfPictures', 'PostalCode', 'DateCrawled', 'LastSeen'], axis=1)"
   ]
  },
  {
   "cell_type": "markdown",
   "metadata": {},
   "source": [
    "Сбросим индексы после удаления"
   ]
  },
  {
   "cell_type": "code",
   "execution_count": 6,
   "metadata": {},
   "outputs": [],
   "source": [
    "data = data.reset_index(drop=True)"
   ]
  },
  {
   "cell_type": "markdown",
   "metadata": {},
   "source": [
    "**Работа со столбцами**"
   ]
  },
  {
   "cell_type": "markdown",
   "metadata": {},
   "source": [
    "Разберем столбцы, которые нуждаются в нашем вмешательстве"
   ]
  },
  {
   "cell_type": "markdown",
   "metadata": {},
   "source": [
    "**Price**"
   ]
  },
  {
   "cell_type": "code",
   "execution_count": 7,
   "metadata": {},
   "outputs": [
    {
     "data": {
      "image/png": "[encoded data removed]",
      "text/plain": [
       "<Figure size 864x504 with 1 Axes>"
      ]
     },
     "metadata": {},
     "output_type": "display_data"
    }
   ],
   "source": [
    "sns.set_style('darkgrid')\n",
    "data.Price.hist(bins=50,figsize=(12,7))\n",
    "plt.title('Стоимость автомобилей')\n",
    "plt.xlabel('Стоимость')\n",
    "plt.ylabel('Количество')\n",
    "plt.show()"
   ]
  },
  {
   "cell_type": "code",
   "execution_count": 8,
   "metadata": {},
   "outputs": [
    {
     "data": {
      "text/plain": [
       "167033"
      ]
     },
     "execution_count": 8,
     "metadata": {},
     "output_type": "execute_result"
    }
   ],
   "source": [
    "data.loc[data['Price'] < 2500]['Price'].count()"
   ]
  },
  {
   "cell_type": "markdown",
   "metadata": {},
   "source": [
    "Чуть меньше половины всех данных сосредоточены в диапазоне цен до 2500 евро"
   ]
  },
  {
   "cell_type": "markdown",
   "metadata": {},
   "source": [
    "На минимальной стоимости будут совсем плохие автомобили, годящиеся только на детали, но удалять половину данных тоже не выход. Исключим автомобили со стоимостью неже 100 евро"
   ]
  },
  {
   "cell_type": "code",
   "execution_count": 9,
   "metadata": {},
   "outputs": [
    {
     "data": {
      "text/plain": [
       "13314"
      ]
     },
     "execution_count": 9,
     "metadata": {},
     "output_type": "execute_result"
    }
   ],
   "source": [
    "data.loc[data['Price'] < 100]['Price'].count()"
   ]
  },
  {
   "cell_type": "code",
   "execution_count": 10,
   "metadata": {},
   "outputs": [],
   "source": [
    "data = data.query('Price> 99')"
   ]
  },
  {
   "cell_type": "code",
   "execution_count": 11,
   "metadata": {},
   "outputs": [
    {
     "data": {
      "text/plain": [
       "0"
      ]
     },
     "execution_count": 11,
     "metadata": {},
     "output_type": "execute_result"
    }
   ],
   "source": [
    "data.loc[data['Price'] < 100]['Price'].count()"
   ]
  },
  {
   "cell_type": "markdown",
   "metadata": {},
   "source": [
    "**VehicleType**"
   ]
  },
  {
   "cell_type": "code",
   "execution_count": 12,
   "metadata": {},
   "outputs": [
    {
     "data": {
      "text/plain": [
       "array([nan, 'coupe', 'suv', 'small', 'sedan', 'convertible', 'bus',\n",
       "       'wagon', 'other'], dtype=object)"
      ]
     },
     "execution_count": 12,
     "metadata": {},
     "output_type": "execute_result"
    }
   ],
   "source": [
    "data.VehicleType.unique()"
   ]
  },
  {
   "cell_type": "code",
   "execution_count": 13,
   "metadata": {},
   "outputs": [
    {
     "name": "stdout",
     "output_type": "stream",
     "text": [
      "Обьявления с незаполненным типом кузова: 32612\n"
     ]
    }
   ],
   "source": [
    "print(\"Обьявления с незаполненным типом кузова:\", len(data.loc[data['VehicleType'].isna()])) "
   ]
  },
  {
   "cell_type": "markdown",
   "metadata": {},
   "source": [
    "Удалять не будем, переименнуем в \"неизвестно\""
   ]
  },
  {
   "cell_type": "code",
   "execution_count": 14,
   "metadata": {},
   "outputs": [],
   "source": [
    "data['VehicleType'] = data['VehicleType'].fillna('unknown')"
   ]
  },
  {
   "cell_type": "code",
   "execution_count": 15,
   "metadata": {},
   "outputs": [
    {
     "data": {
      "text/plain": [
       "array(['unknown', 'coupe', 'suv', 'small', 'sedan', 'convertible', 'bus',\n",
       "       'wagon', 'other'], dtype=object)"
      ]
     },
     "execution_count": 15,
     "metadata": {},
     "output_type": "execute_result"
    }
   ],
   "source": [
    "data.VehicleType.unique()"
   ]
  },
  {
   "cell_type": "code",
   "execution_count": 16,
   "metadata": {},
   "outputs": [
    {
     "data": {
      "text/plain": [
       "0"
      ]
     },
     "execution_count": 16,
     "metadata": {},
     "output_type": "execute_result"
    }
   ],
   "source": [
    "data.VehicleType.isna().sum()"
   ]
  },
  {
   "cell_type": "markdown",
   "metadata": {},
   "source": [
    "**RegistrationYear**"
   ]
  },
  {
   "cell_type": "code",
   "execution_count": 17,
   "metadata": {},
   "outputs": [
    {
     "data": {
      "text/plain": [
       "array([1993, 2011, 2004, 2001, 2008, 1995, 2014, 1998, 2005, 1910, 2016,\n",
       "       2007, 2009, 2002, 2018, 1997, 1990, 2017, 1981, 2003, 1994, 1991,\n",
       "       1984, 2006, 1999, 2012, 2010, 2000, 1992, 2013, 1996, 1985, 1989,\n",
       "       2015, 1982, 1976, 1983, 1973, 1969, 1971, 1987, 1986, 1988, 1980,\n",
       "       1970, 1965, 1945, 1925, 1974, 1979, 1955, 1978, 1972, 1968, 1977,\n",
       "       1961, 1966, 1975, 1963, 1964, 1960, 1958, 1967, 1956, 3200, 1000,\n",
       "       1941, 9999, 8888, 1500, 2200, 4100, 1962, 1929, 1957, 1940, 3000,\n",
       "       2066, 1949, 2019, 1937, 1951, 1800, 1959, 1953, 1954, 1234, 5300,\n",
       "       9000, 2900, 6000, 5900, 5911, 1400, 5000, 1950, 4000, 1948, 1952,\n",
       "       8500, 1932, 1255, 3700, 3800, 4800, 1942, 7000, 1935, 1933, 1936,\n",
       "       1923, 2290, 1930, 1001, 9450, 1944, 2500, 1943, 1938, 1934, 1928,\n",
       "       5555, 5600, 1600, 1111, 2222, 1039, 1300, 2800, 1931, 4500, 1602,\n",
       "       7800, 1947, 1927, 7100, 8200, 1946])"
      ]
     },
     "execution_count": 17,
     "metadata": {},
     "output_type": "execute_result"
    }
   ],
   "source": [
    "data.RegistrationYear.unique()"
   ]
  },
  {
   "cell_type": "markdown",
   "metadata": {},
   "source": [
    "Есть даже автомобили из будущего "
   ]
  },
  {
   "cell_type": "code",
   "execution_count": 18,
   "metadata": {},
   "outputs": [
    {
     "name": "stdout",
     "output_type": "stream",
     "text": [
      "Колличество объявлений с неправельным годом: 115\n"
     ]
    }
   ],
   "source": [
    "print(\"Колличество объявлений с неправельным годом:\",len(data.loc[(data['RegistrationYear'] > 2022) | (data['RegistrationYear'] < 1900)]))"
   ]
  },
  {
   "cell_type": "markdown",
   "metadata": {},
   "source": [
    "Остановимся на машинах от 1900 года и до 2022, так как только начало 2023 и могут попасться некоректные обьявления "
   ]
  },
  {
   "cell_type": "code",
   "execution_count": 19,
   "metadata": {},
   "outputs": [],
   "source": [
    "data = data.loc[(data['RegistrationYear'] <= 2016) & (data['RegistrationYear'] >= 1900)]"
   ]
  },
  {
   "cell_type": "code",
   "execution_count": 20,
   "metadata": {},
   "outputs": [
    {
     "data": {
      "text/plain": [
       "array([1993, 2011, 2004, 2001, 2008, 1995, 2014, 1998, 2005, 1910, 2016,\n",
       "       2007, 2009, 2002, 1997, 1990, 1981, 2003, 1994, 1991, 1984, 2006,\n",
       "       1999, 2012, 2010, 2000, 1992, 2013, 1996, 1985, 1989, 2015, 1982,\n",
       "       1976, 1983, 1973, 1969, 1971, 1987, 1986, 1988, 1980, 1970, 1965,\n",
       "       1945, 1925, 1974, 1979, 1955, 1978, 1972, 1968, 1977, 1961, 1966,\n",
       "       1975, 1963, 1964, 1960, 1958, 1967, 1956, 1941, 1962, 1929, 1957,\n",
       "       1940, 1949, 1937, 1951, 1959, 1953, 1954, 1950, 1948, 1952, 1932,\n",
       "       1942, 1935, 1933, 1936, 1923, 1930, 1944, 1943, 1938, 1934, 1928,\n",
       "       1931, 1947, 1927, 1946])"
      ]
     },
     "execution_count": 20,
     "metadata": {},
     "output_type": "execute_result"
    }
   ],
   "source": [
    "data.RegistrationYear.unique()"
   ]
  },
  {
   "cell_type": "markdown",
   "metadata": {},
   "source": [
    "**Gearbox**"
   ]
  },
  {
   "cell_type": "code",
   "execution_count": 21,
   "metadata": {},
   "outputs": [
    {
     "name": "stdout",
     "output_type": "stream",
     "text": [
      "Обьявления с незаполненным типом коробки передач: 14600\n"
     ]
    }
   ],
   "source": [
    "print(\"Обьявления с незаполненным типом коробки передач:\", len(data.loc[data['Gearbox'].isna()])) "
   ]
  },
  {
   "cell_type": "code",
   "execution_count": 22,
   "metadata": {},
   "outputs": [
    {
     "data": {
      "text/html": [
       "<div>\n",
       "<style scoped>\n",
       "    .dataframe tbody tr th:only-of-type {\n",
       "        vertical-align: middle;\n",
       "    }\n",
       "\n",
       "    .dataframe tbody tr th {\n",
       "        vertical-align: top;\n",
       "    }\n",
       "\n",
       "    .dataframe thead th {\n",
       "        text-align: right;\n",
       "    }\n",
       "</style>\n",
       "<table border=\"1\" class=\"dataframe\">\n",
       "  <thead>\n",
       "    <tr style=\"text-align: right;\">\n",
       "      <th></th>\n",
       "      <th>Price</th>\n",
       "      <th>VehicleType</th>\n",
       "      <th>RegistrationYear</th>\n",
       "      <th>Gearbox</th>\n",
       "      <th>Power</th>\n",
       "      <th>Model</th>\n",
       "      <th>Kilometer</th>\n",
       "      <th>RegistrationMonth</th>\n",
       "      <th>FuelType</th>\n",
       "      <th>Brand</th>\n",
       "      <th>Repaired</th>\n",
       "      <th>DateCreated</th>\n",
       "    </tr>\n",
       "  </thead>\n",
       "  <tbody>\n",
       "    <tr>\n",
       "      <th>15</th>\n",
       "      <td>450</td>\n",
       "      <td>small</td>\n",
       "      <td>1910</td>\n",
       "      <td>NaN</td>\n",
       "      <td>0</td>\n",
       "      <td>ka</td>\n",
       "      <td>5000</td>\n",
       "      <td>0</td>\n",
       "      <td>petrol</td>\n",
       "      <td>ford</td>\n",
       "      <td>NaN</td>\n",
       "      <td>2016-03-11 00:00:00</td>\n",
       "    </tr>\n",
       "    <tr>\n",
       "      <th>16</th>\n",
       "      <td>300</td>\n",
       "      <td>unknown</td>\n",
       "      <td>2016</td>\n",
       "      <td>NaN</td>\n",
       "      <td>60</td>\n",
       "      <td>polo</td>\n",
       "      <td>150000</td>\n",
       "      <td>0</td>\n",
       "      <td>petrol</td>\n",
       "      <td>volkswagen</td>\n",
       "      <td>NaN</td>\n",
       "      <td>2016-04-01 00:00:00</td>\n",
       "    </tr>\n",
       "    <tr>\n",
       "      <th>32</th>\n",
       "      <td>245</td>\n",
       "      <td>sedan</td>\n",
       "      <td>1994</td>\n",
       "      <td>NaN</td>\n",
       "      <td>0</td>\n",
       "      <td>golf</td>\n",
       "      <td>150000</td>\n",
       "      <td>2</td>\n",
       "      <td>petrol</td>\n",
       "      <td>volkswagen</td>\n",
       "      <td>no</td>\n",
       "      <td>2016-03-15 00:00:00</td>\n",
       "    </tr>\n",
       "    <tr>\n",
       "      <th>37</th>\n",
       "      <td>1500</td>\n",
       "      <td>unknown</td>\n",
       "      <td>2016</td>\n",
       "      <td>NaN</td>\n",
       "      <td>0</td>\n",
       "      <td>kangoo</td>\n",
       "      <td>150000</td>\n",
       "      <td>1</td>\n",
       "      <td>gasoline</td>\n",
       "      <td>renault</td>\n",
       "      <td>no</td>\n",
       "      <td>2016-03-28 00:00:00</td>\n",
       "    </tr>\n",
       "    <tr>\n",
       "      <th>69</th>\n",
       "      <td>1200</td>\n",
       "      <td>coupe</td>\n",
       "      <td>2001</td>\n",
       "      <td>NaN</td>\n",
       "      <td>0</td>\n",
       "      <td>astra</td>\n",
       "      <td>150000</td>\n",
       "      <td>0</td>\n",
       "      <td>NaN</td>\n",
       "      <td>opel</td>\n",
       "      <td>NaN</td>\n",
       "      <td>2016-04-01 00:00:00</td>\n",
       "    </tr>\n",
       "    <tr>\n",
       "      <th>...</th>\n",
       "      <td>...</td>\n",
       "      <td>...</td>\n",
       "      <td>...</td>\n",
       "      <td>...</td>\n",
       "      <td>...</td>\n",
       "      <td>...</td>\n",
       "      <td>...</td>\n",
       "      <td>...</td>\n",
       "      <td>...</td>\n",
       "      <td>...</td>\n",
       "      <td>...</td>\n",
       "      <td>...</td>\n",
       "    </tr>\n",
       "    <tr>\n",
       "      <th>354288</th>\n",
       "      <td>3300</td>\n",
       "      <td>wagon</td>\n",
       "      <td>2006</td>\n",
       "      <td>NaN</td>\n",
       "      <td>0</td>\n",
       "      <td>touran</td>\n",
       "      <td>150000</td>\n",
       "      <td>7</td>\n",
       "      <td>gasoline</td>\n",
       "      <td>volkswagen</td>\n",
       "      <td>NaN</td>\n",
       "      <td>2016-03-16 00:00:00</td>\n",
       "    </tr>\n",
       "    <tr>\n",
       "      <th>354305</th>\n",
       "      <td>3500</td>\n",
       "      <td>unknown</td>\n",
       "      <td>1995</td>\n",
       "      <td>NaN</td>\n",
       "      <td>0</td>\n",
       "      <td>polo</td>\n",
       "      <td>150000</td>\n",
       "      <td>0</td>\n",
       "      <td>NaN</td>\n",
       "      <td>volkswagen</td>\n",
       "      <td>NaN</td>\n",
       "      <td>2016-04-03 00:00:00</td>\n",
       "    </tr>\n",
       "    <tr>\n",
       "      <th>354329</th>\n",
       "      <td>350</td>\n",
       "      <td>small</td>\n",
       "      <td>1996</td>\n",
       "      <td>NaN</td>\n",
       "      <td>65</td>\n",
       "      <td>punto</td>\n",
       "      <td>150000</td>\n",
       "      <td>0</td>\n",
       "      <td>NaN</td>\n",
       "      <td>fiat</td>\n",
       "      <td>NaN</td>\n",
       "      <td>2016-03-30 00:00:00</td>\n",
       "    </tr>\n",
       "    <tr>\n",
       "      <th>354338</th>\n",
       "      <td>180</td>\n",
       "      <td>unknown</td>\n",
       "      <td>1995</td>\n",
       "      <td>NaN</td>\n",
       "      <td>0</td>\n",
       "      <td>NaN</td>\n",
       "      <td>125000</td>\n",
       "      <td>3</td>\n",
       "      <td>petrol</td>\n",
       "      <td>opel</td>\n",
       "      <td>NaN</td>\n",
       "      <td>2016-03-31 00:00:00</td>\n",
       "    </tr>\n",
       "    <tr>\n",
       "      <th>354365</th>\n",
       "      <td>2200</td>\n",
       "      <td>unknown</td>\n",
       "      <td>2005</td>\n",
       "      <td>NaN</td>\n",
       "      <td>0</td>\n",
       "      <td>NaN</td>\n",
       "      <td>20000</td>\n",
       "      <td>1</td>\n",
       "      <td>NaN</td>\n",
       "      <td>sonstige_autos</td>\n",
       "      <td>NaN</td>\n",
       "      <td>2016-03-14 00:00:00</td>\n",
       "    </tr>\n",
       "  </tbody>\n",
       "</table>\n",
       "<p>14600 rows × 12 columns</p>\n",
       "</div>"
      ],
      "text/plain": [
       "        Price VehicleType  RegistrationYear Gearbox  Power   Model  Kilometer  \\\n",
       "15        450       small              1910     NaN      0      ka       5000   \n",
       "16        300     unknown              2016     NaN     60    polo     150000   \n",
       "32        245       sedan              1994     NaN      0    golf     150000   \n",
       "37       1500     unknown              2016     NaN      0  kangoo     150000   \n",
       "69       1200       coupe              2001     NaN      0   astra     150000   \n",
       "...       ...         ...               ...     ...    ...     ...        ...   \n",
       "354288   3300       wagon              2006     NaN      0  touran     150000   \n",
       "354305   3500     unknown              1995     NaN      0    polo     150000   \n",
       "354329    350       small              1996     NaN     65   punto     150000   \n",
       "354338    180     unknown              1995     NaN      0     NaN     125000   \n",
       "354365   2200     unknown              2005     NaN      0     NaN      20000   \n",
       "\n",
       "        RegistrationMonth  FuelType           Brand Repaired  \\\n",
       "15                      0    petrol            ford      NaN   \n",
       "16                      0    petrol      volkswagen      NaN   \n",
       "32                      2    petrol      volkswagen       no   \n",
       "37                      1  gasoline         renault       no   \n",
       "69                      0       NaN            opel      NaN   \n",
       "...                   ...       ...             ...      ...   \n",
       "354288                  7  gasoline      volkswagen      NaN   \n",
       "354305                  0       NaN      volkswagen      NaN   \n",
       "354329                  0       NaN            fiat      NaN   \n",
       "354338                  3    petrol            opel      NaN   \n",
       "354365                  1       NaN  sonstige_autos      NaN   \n",
       "\n",
       "                DateCreated  \n",
       "15      2016-03-11 00:00:00  \n",
       "16      2016-04-01 00:00:00  \n",
       "32      2016-03-15 00:00:00  \n",
       "37      2016-03-28 00:00:00  \n",
       "69      2016-04-01 00:00:00  \n",
       "...                     ...  \n",
       "354288  2016-03-16 00:00:00  \n",
       "354305  2016-04-03 00:00:00  \n",
       "354329  2016-03-30 00:00:00  \n",
       "354338  2016-03-31 00:00:00  \n",
       "354365  2016-03-14 00:00:00  \n",
       "\n",
       "[14600 rows x 12 columns]"
      ]
     },
     "execution_count": 22,
     "metadata": {},
     "output_type": "execute_result"
    }
   ],
   "source": [
    "data.query('Gearbox.isna()')"
   ]
  },
  {
   "cell_type": "code",
   "execution_count": 23,
   "metadata": {},
   "outputs": [
    {
     "data": {
      "text/plain": [
       "array(['manual', 'auto', nan], dtype=object)"
      ]
     },
     "execution_count": 23,
     "metadata": {},
     "output_type": "execute_result"
    }
   ],
   "source": [
    "data.Gearbox.unique()"
   ]
  },
  {
   "cell_type": "markdown",
   "metadata": {},
   "source": [
    "Можно было попробовать заменить на значения из аналогичных моделей авто, но тот же Polo может быть как с автоматической, так и с механической коробкой передач, проще удалить пропуски"
   ]
  },
  {
   "cell_type": "code",
   "execution_count": 24,
   "metadata": {},
   "outputs": [],
   "source": [
    "data.dropna(subset=['Gearbox'], inplace=True)"
   ]
  },
  {
   "cell_type": "code",
   "execution_count": 25,
   "metadata": {},
   "outputs": [
    {
     "data": {
      "text/plain": [
       "0"
      ]
     },
     "execution_count": 25,
     "metadata": {},
     "output_type": "execute_result"
    }
   ],
   "source": [
    "data['Gearbox'].isna().sum()"
   ]
  },
  {
   "cell_type": "markdown",
   "metadata": {},
   "source": [
    "**Power**"
   ]
  },
  {
   "cell_type": "code",
   "execution_count": 26,
   "metadata": {},
   "outputs": [
    {
     "data": {
      "text/plain": [
       "count    312725.000000\n",
       "mean        115.742729\n",
       "std         184.968993\n",
       "min           0.000000\n",
       "25%          75.000000\n",
       "50%         107.000000\n",
       "75%         144.000000\n",
       "max       20000.000000\n",
       "Name: Power, dtype: float64"
      ]
     },
     "execution_count": 26,
     "metadata": {},
     "output_type": "execute_result"
    }
   ],
   "source": [
    "data.Power.describe()"
   ]
  },
  {
   "cell_type": "code",
   "execution_count": 27,
   "metadata": {},
   "outputs": [
    {
     "data": {
      "image/png": "[encoded data removed]",
      "text/plain": [
       "<Figure size 864x432 with 1 Axes>"
      ]
     },
     "metadata": {},
     "output_type": "display_data"
    }
   ],
   "source": [
    "pd.Series(list(data.Power.unique())).sort_values(ascending=False).plot(kind='hist', figsize=(12,6), grid=True, bins=50)\n",
    "plt.title('График распределения уникальных значений мощности двигателя')\n",
    "plt.ylabel('Количество')\n",
    "plt.xlabel('Мощность')\n",
    "plt.show()"
   ]
  },
  {
   "cell_type": "markdown",
   "metadata": {},
   "source": [
    "Имеются значения Power равные 0 и больше 2000 что являеться некорректным, "
   ]
  },
  {
   "cell_type": "code",
   "execution_count": 28,
   "metadata": {},
   "outputs": [
    {
     "data": {
      "text/plain": [
       "22391"
      ]
     },
     "execution_count": 28,
     "metadata": {},
     "output_type": "execute_result"
    }
   ],
   "source": [
    "len(data.loc[(data['Power'] > 2000) | (data['Power'] <= 0)])"
   ]
  },
  {
   "cell_type": "markdown",
   "metadata": {},
   "source": [
    "Удалим данные о мощности дигателя свыше 2000 л.с. и менее 15 л.с."
   ]
  },
  {
   "cell_type": "code",
   "execution_count": 29,
   "metadata": {},
   "outputs": [],
   "source": [
    "data=data.query('Power > 15 & Power < 2000')"
   ]
  },
  {
   "cell_type": "markdown",
   "metadata": {},
   "source": [
    "**Model**"
   ]
  },
  {
   "cell_type": "code",
   "execution_count": 30,
   "metadata": {},
   "outputs": [
    {
     "name": "stdout",
     "output_type": "stream",
     "text": [
      "Обьявления с незаполненной моделью: 10259\n"
     ]
    }
   ],
   "source": [
    "print(\"Обьявления с незаполненной моделью:\", len(data.loc[data['Model'].isna()])) "
   ]
  },
  {
   "cell_type": "markdown",
   "metadata": {},
   "source": [
    "Модель - это важный фактор построения цены автомобиля, заполнять пропуски будет некоректно"
   ]
  },
  {
   "cell_type": "code",
   "execution_count": 31,
   "metadata": {},
   "outputs": [],
   "source": [
    "data.dropna(subset=['Model'], inplace=True)"
   ]
  },
  {
   "cell_type": "code",
   "execution_count": 32,
   "metadata": {},
   "outputs": [
    {
     "data": {
      "text/plain": [
       "0"
      ]
     },
     "execution_count": 32,
     "metadata": {},
     "output_type": "execute_result"
    }
   ],
   "source": [
    "data['Model'].isna().sum()"
   ]
  },
  {
   "cell_type": "markdown",
   "metadata": {},
   "source": [
    "**Kilometer**"
   ]
  },
  {
   "cell_type": "code",
   "execution_count": 33,
   "metadata": {},
   "outputs": [
    {
     "data": {
      "text/plain": [
       "0"
      ]
     },
     "execution_count": 33,
     "metadata": {},
     "output_type": "execute_result"
    }
   ],
   "source": [
    "data['Kilometer'].isna().sum()"
   ]
  },
  {
   "cell_type": "markdown",
   "metadata": {},
   "source": [
    "**RegistrationMonth**"
   ]
  },
  {
   "cell_type": "markdown",
   "metadata": {},
   "source": [
    "Для построения модели этот столбец не важен, можно удалить"
   ]
  },
  {
   "cell_type": "code",
   "execution_count": 34,
   "metadata": {},
   "outputs": [],
   "source": [
    "data = data.drop(['RegistrationMonth'], axis=1)"
   ]
  },
  {
   "cell_type": "markdown",
   "metadata": {},
   "source": [
    "**FuelType**"
   ]
  },
  {
   "cell_type": "code",
   "execution_count": 35,
   "metadata": {},
   "outputs": [
    {
     "data": {
      "text/plain": [
       "11816"
      ]
     },
     "execution_count": 35,
     "metadata": {},
     "output_type": "execute_result"
    }
   ],
   "source": [
    "data['FuelType'].isna().sum()"
   ]
  },
  {
   "cell_type": "code",
   "execution_count": 36,
   "metadata": {},
   "outputs": [
    {
     "data": {
      "text/plain": [
       "array(['gasoline', 'petrol', nan, 'lpg', 'other', 'hybrid', 'cng',\n",
       "       'electric'], dtype=object)"
      ]
     },
     "execution_count": 36,
     "metadata": {},
     "output_type": "execute_result"
    }
   ],
   "source": [
    "data.FuelType.unique()"
   ]
  },
  {
   "cell_type": "code",
   "execution_count": 37,
   "metadata": {},
   "outputs": [
    {
     "data": {
      "text/plain": [
       "petrol      177977\n",
       "gasoline     84896\n",
       "lpg           4359\n",
       "cng            460\n",
       "hybrid         178\n",
       "other           68\n",
       "electric        38\n",
       "Name: FuelType, dtype: int64"
      ]
     },
     "execution_count": 37,
     "metadata": {},
     "output_type": "execute_result"
    }
   ],
   "source": [
    "data.FuelType.value_counts()"
   ]
  },
  {
   "cell_type": "markdown",
   "metadata": {},
   "source": [
    "Пропуски в FuelType заменю на среднее по моделям"
   ]
  },
  {
   "cell_type": "code",
   "execution_count": 38,
   "metadata": {},
   "outputs": [],
   "source": [
    "data['FuelType'] = data['FuelType'].fillna(data.groupby('Model')['FuelType'].transform(lambda x: x.value_counts().idxmax()))"
   ]
  },
  {
   "cell_type": "code",
   "execution_count": 39,
   "metadata": {},
   "outputs": [
    {
     "data": {
      "text/plain": [
       "petrol      187519\n",
       "gasoline     87170\n",
       "lpg           4359\n",
       "cng            460\n",
       "hybrid         178\n",
       "other           68\n",
       "electric        38\n",
       "Name: FuelType, dtype: int64"
      ]
     },
     "execution_count": 39,
     "metadata": {},
     "output_type": "execute_result"
    }
   ],
   "source": [
    "data.FuelType.value_counts()"
   ]
  },
  {
   "cell_type": "markdown",
   "metadata": {},
   "source": [
    "**Brand**"
   ]
  },
  {
   "cell_type": "code",
   "execution_count": 40,
   "metadata": {},
   "outputs": [
    {
     "data": {
      "text/plain": [
       "0"
      ]
     },
     "execution_count": 40,
     "metadata": {},
     "output_type": "execute_result"
    }
   ],
   "source": [
    "data['Brand'].isna().sum()"
   ]
  },
  {
   "cell_type": "code",
   "execution_count": 41,
   "metadata": {},
   "outputs": [
    {
     "data": {
      "text/plain": [
       "array(['jeep', 'volkswagen', 'skoda', 'bmw', 'peugeot', 'ford', 'mazda',\n",
       "       'nissan', 'renault', 'mercedes_benz', 'seat', 'honda', 'fiat',\n",
       "       'opel', 'mini', 'smart', 'hyundai', 'audi', 'alfa_romeo', 'subaru',\n",
       "       'volvo', 'mitsubishi', 'kia', 'suzuki', 'lancia', 'citroen',\n",
       "       'toyota', 'chevrolet', 'dacia', 'daihatsu', 'chrysler', 'jaguar',\n",
       "       'daewoo', 'rover', 'porsche', 'saab', 'land_rover', 'trabant',\n",
       "       'lada'], dtype=object)"
      ]
     },
     "execution_count": 41,
     "metadata": {},
     "output_type": "execute_result"
    }
   ],
   "source": [
    "data.Brand.unique()"
   ]
  },
  {
   "cell_type": "markdown",
   "metadata": {},
   "source": [
    "Все хорошо"
   ]
  },
  {
   "cell_type": "markdown",
   "metadata": {},
   "source": [
    "**Repaired**"
   ]
  },
  {
   "cell_type": "code",
   "execution_count": 42,
   "metadata": {},
   "outputs": [
    {
     "data": {
      "text/plain": [
       "36936"
      ]
     },
     "execution_count": 42,
     "metadata": {},
     "output_type": "execute_result"
    }
   ],
   "source": [
    "data['Repaired'].isna().sum()"
   ]
  },
  {
   "cell_type": "code",
   "execution_count": 43,
   "metadata": {},
   "outputs": [
    {
     "data": {
      "text/plain": [
       "array([nan, 'no', 'yes'], dtype=object)"
      ]
     },
     "execution_count": 43,
     "metadata": {},
     "output_type": "execute_result"
    }
   ],
   "source": [
    "data.Repaired.unique()"
   ]
  },
  {
   "cell_type": "code",
   "execution_count": 44,
   "metadata": {},
   "outputs": [
    {
     "data": {
      "text/plain": [
       "no     216213\n",
       "yes     26643\n",
       "Name: Repaired, dtype: int64"
      ]
     },
     "execution_count": 44,
     "metadata": {},
     "output_type": "execute_result"
    }
   ],
   "source": [
    "data.Repaired.value_counts()"
   ]
  },
  {
   "cell_type": "markdown",
   "metadata": {},
   "source": [
    "Заполним пропуски как N/A"
   ]
  },
  {
   "cell_type": "code",
   "execution_count": 45,
   "metadata": {},
   "outputs": [],
   "source": [
    "data['Repaired']=data['Repaired'].fillna('N/A')"
   ]
  },
  {
   "cell_type": "code",
   "execution_count": 46,
   "metadata": {},
   "outputs": [
    {
     "data": {
      "text/plain": [
       "no     216213\n",
       "N/A     36936\n",
       "yes     26643\n",
       "Name: Repaired, dtype: int64"
      ]
     },
     "execution_count": 46,
     "metadata": {},
     "output_type": "execute_result"
    }
   ],
   "source": [
    "data.Repaired.value_counts()"
   ]
  },
  {
   "cell_type": "markdown",
   "metadata": {},
   "source": [
    "**DateCreated**"
   ]
  },
  {
   "cell_type": "code",
   "execution_count": 47,
   "metadata": {},
   "outputs": [
    {
     "data": {
      "text/plain": [
       "0"
      ]
     },
     "execution_count": 47,
     "metadata": {},
     "output_type": "execute_result"
    }
   ],
   "source": [
    "data['DateCreated'].isna().sum()"
   ]
  },
  {
   "cell_type": "markdown",
   "metadata": {},
   "source": [
    "Приведём к формату datetime"
   ]
  },
  {
   "cell_type": "code",
   "execution_count": 48,
   "metadata": {},
   "outputs": [],
   "source": [
    "data['DateCreated'] = pd.to_datetime(data['DateCreated'], format='%Y-%m-%d %H:%M:%S')"
   ]
  },
  {
   "cell_type": "markdown",
   "metadata": {},
   "source": [
    "Позже посчитал, что эта информация не пригодится для будущих моделей"
   ]
  },
  {
   "cell_type": "code",
   "execution_count": 49,
   "metadata": {},
   "outputs": [],
   "source": [
    "data = data.drop(['DateCreated'], axis=1)"
   ]
  },
  {
   "cell_type": "markdown",
   "metadata": {},
   "source": [
    "**Итого пропусков**"
   ]
  },
  {
   "cell_type": "code",
   "execution_count": 50,
   "metadata": {},
   "outputs": [
    {
     "data": {
      "text/plain": [
       "Price               0\n",
       "VehicleType         0\n",
       "RegistrationYear    0\n",
       "Gearbox             0\n",
       "Power               0\n",
       "Model               0\n",
       "Kilometer           0\n",
       "FuelType            0\n",
       "Brand               0\n",
       "Repaired            0\n",
       "dtype: int64"
      ]
     },
     "execution_count": 50,
     "metadata": {},
     "output_type": "execute_result"
    }
   ],
   "source": [
    "data.isnull().sum()"
   ]
  },
  {
   "cell_type": "markdown",
   "metadata": {},
   "source": [
    "Отлично, пропусков в данных нет"
   ]
  },
  {
   "cell_type": "markdown",
   "metadata": {},
   "source": [
    "**Проверка на явные дубликаты**"
   ]
  },
  {
   "cell_type": "code",
   "execution_count": 51,
   "metadata": {},
   "outputs": [
    {
     "data": {
      "text/plain": [
       "39761"
      ]
     },
     "execution_count": 51,
     "metadata": {},
     "output_type": "execute_result"
    }
   ],
   "source": [
    "data.duplicated().sum()"
   ]
  },
  {
   "cell_type": "code",
   "execution_count": 52,
   "metadata": {},
   "outputs": [
    {
     "data": {
      "text/plain": [
       "0"
      ]
     },
     "execution_count": 52,
     "metadata": {},
     "output_type": "execute_result"
    }
   ],
   "source": [
    "data = data.drop_duplicates()\n",
    "data.duplicated().sum()"
   ]
  },
  {
   "cell_type": "markdown",
   "metadata": {},
   "source": [
    "**Вывод подготовки данных**"
   ]
  },
  {
   "cell_type": "markdown",
   "metadata": {},
   "source": [
    "- Отобраны признаки, необходимые для построения моделей\n",
    "- Признаки ненужные для дальнейшего построения моделей были удалены\n",
    "- Пропуски были удалены или заполнены на основе имеющейся инфрмации\n",
    "- Неправдоподобные значения в признаках были удалены\n",
    "- Явные дубликаты в данных были удалены"
   ]
  },
  {
   "cell_type": "markdown",
   "metadata": {},
   "source": [
    "## Обучение моделей"
   ]
  },
  {
   "cell_type": "code",
   "execution_count": 53,
   "metadata": {},
   "outputs": [],
   "source": [
    "cat_data = data"
   ]
  },
  {
   "cell_type": "markdown",
   "metadata": {},
   "source": [
    "**Кодирование категориальных признаков**"
   ]
  },
  {
   "cell_type": "markdown",
   "metadata": {},
   "source": [
    "**Прямое кодирование**"
   ]
  },
  {
   "cell_type": "code",
   "execution_count": 54,
   "metadata": {},
   "outputs": [],
   "source": [
    "def dum(data, column):\n",
    "    df = pd.get_dummies(data[column], prefix=column, drop_first=True)\n",
    "    data = data.drop(column, axis=1)\n",
    "    return data.join(df)"
   ]
  },
  {
   "cell_type": "code",
   "execution_count": 55,
   "metadata": {},
   "outputs": [],
   "source": [
    "data = dum(data, 'VehicleType')\n",
    "data = dum(data, 'Gearbox')\n",
    "data = dum(data, 'FuelType')\n",
    "data = dum(data, 'Repaired')"
   ]
  },
  {
   "cell_type": "markdown",
   "metadata": {},
   "source": [
    "**Применим кодирование категориальных данных в цифровые значения методом OrdinalEncoder**"
   ]
  },
  {
   "cell_type": "code",
   "execution_count": 56,
   "metadata": {},
   "outputs": [],
   "source": [
    "encoder = OrdinalEncoder()\n",
    "data_ordinal = pd.DataFrame(encoder.fit_transform(data),\n",
    "                            columns=data.columns)"
   ]
  },
  {
   "cell_type": "markdown",
   "metadata": {},
   "source": [
    "**Подготовим выборки для обучения моделей**"
   ]
  },
  {
   "cell_type": "code",
   "execution_count": 57,
   "metadata": {},
   "outputs": [],
   "source": [
    "RANDOM_STATE=12345\n",
    "target = data_ordinal['Price']\n",
    "features = data_ordinal.drop('Price', axis=1)\n",
    "features_train, features_test, target_train, target_test = train_test_split(\n",
    "    features, target, test_size=0.25, random_state=RANDOM_STATE)"
   ]
  },
  {
   "cell_type": "markdown",
   "metadata": {},
   "source": [
    "**Проверим размер выборки**"
   ]
  },
  {
   "cell_type": "code",
   "execution_count": 58,
   "metadata": {},
   "outputs": [
    {
     "name": "stdout",
     "output_type": "stream",
     "text": [
      "Размер тренировочной выборки- 75%\n",
      "Размер тестовой выборки - 25%\n"
     ]
    }
   ],
   "source": [
    "train_sample=features_train.shape[0]/features.shape[0]\n",
    "test_sample=target_test.shape[0]/target.shape[0]\n",
    "\n",
    "print('Размер тренировочной выборки- {:.0%}'.format(train_sample))\n",
    "print('Размер тестовой выборки - {:.0%}'.format(test_sample))"
   ]
  },
  {
   "cell_type": "markdown",
   "metadata": {},
   "source": [
    "**Применим масштабирование с помощью StandardScaler**"
   ]
  },
  {
   "cell_type": "code",
   "execution_count": 59,
   "metadata": {},
   "outputs": [],
   "source": [
    "numeric = ['RegistrationYear', 'Power', 'Model', 'Kilometer', 'Brand']"
   ]
  },
  {
   "cell_type": "code",
   "execution_count": 60,
   "metadata": {
    "scrolled": true
   },
   "outputs": [
    {
     "name": "stdout",
     "output_type": "stream",
     "text": [
      "        RegistrationYear     Power     Model  Kilometer     Brand  \\\n",
      "23412           1.542497 -0.731962 -0.028962  -2.903163  0.914032   \n",
      "84791           0.460823  0.327056  0.873699   0.532638  1.298954   \n",
      "8685           -0.311801 -1.159285  0.281328   0.532638 -0.779626   \n",
      "146330         -0.002751 -0.880596 -0.353355   0.532638  0.298156   \n",
      "91889           1.233448  0.884434  0.873699  -0.612629  1.298954   \n",
      "\n",
      "        VehicleType_convertible  VehicleType_coupe  VehicleType_other  \\\n",
      "23412                       0.0                0.0                0.0   \n",
      "84791                       0.0                0.0                0.0   \n",
      "8685                        0.0                0.0                0.0   \n",
      "146330                      0.0                0.0                0.0   \n",
      "91889                       0.0                0.0                0.0   \n",
      "\n",
      "        VehicleType_sedan  VehicleType_small  ...  VehicleType_wagon  \\\n",
      "23412                 0.0                1.0  ...                0.0   \n",
      "84791                 1.0                0.0  ...                0.0   \n",
      "8685                  0.0                1.0  ...                0.0   \n",
      "146330                0.0                1.0  ...                0.0   \n",
      "91889                 0.0                0.0  ...                1.0   \n",
      "\n",
      "        Gearbox_manual  FuelType_electric  FuelType_gasoline  FuelType_hybrid  \\\n",
      "23412              0.0                0.0                0.0              0.0   \n",
      "84791              1.0                0.0                1.0              0.0   \n",
      "8685               1.0                0.0                0.0              0.0   \n",
      "146330             1.0                0.0                0.0              0.0   \n",
      "91889              1.0                0.0                1.0              0.0   \n",
      "\n",
      "        FuelType_lpg  FuelType_other  FuelType_petrol  Repaired_no  \\\n",
      "23412            0.0             0.0              1.0          1.0   \n",
      "84791            0.0             0.0              0.0          0.0   \n",
      "8685             0.0             0.0              1.0          1.0   \n",
      "146330           0.0             0.0              1.0          0.0   \n",
      "91889            0.0             0.0              0.0          1.0   \n",
      "\n",
      "        Repaired_yes  \n",
      "23412            0.0  \n",
      "84791            0.0  \n",
      "8685             0.0  \n",
      "146330           1.0  \n",
      "91889            0.0  \n",
      "\n",
      "[5 rows x 22 columns]\n"
     ]
    }
   ],
   "source": [
    "scaler = StandardScaler()\n",
    "scaler.fit(features_train[numeric])\n",
    "features_train[numeric] = scaler.transform(features_train[numeric])\n",
    "features_test[numeric] = scaler.transform(features_test[numeric]) \n",
    "print(features_train.head())"
   ]
  },
  {
   "cell_type": "markdown",
   "metadata": {},
   "source": [
    "**Посмотрим на результат**"
   ]
  },
  {
   "cell_type": "code",
   "execution_count": 61,
   "metadata": {},
   "outputs": [
    {
     "data": {
      "text/html": [
       "<div>\n",
       "<style scoped>\n",
       "    .dataframe tbody tr th:only-of-type {\n",
       "        vertical-align: middle;\n",
       "    }\n",
       "\n",
       "    .dataframe tbody tr th {\n",
       "        vertical-align: top;\n",
       "    }\n",
       "\n",
       "    .dataframe thead th {\n",
       "        text-align: right;\n",
       "    }\n",
       "</style>\n",
       "<table border=\"1\" class=\"dataframe\">\n",
       "  <thead>\n",
       "    <tr style=\"text-align: right;\">\n",
       "      <th></th>\n",
       "      <th>Price</th>\n",
       "      <th>RegistrationYear</th>\n",
       "      <th>Power</th>\n",
       "      <th>Model</th>\n",
       "      <th>Kilometer</th>\n",
       "      <th>Brand</th>\n",
       "      <th>VehicleType_convertible</th>\n",
       "      <th>VehicleType_coupe</th>\n",
       "      <th>VehicleType_other</th>\n",
       "      <th>VehicleType_sedan</th>\n",
       "      <th>...</th>\n",
       "      <th>VehicleType_wagon</th>\n",
       "      <th>Gearbox_manual</th>\n",
       "      <th>FuelType_electric</th>\n",
       "      <th>FuelType_gasoline</th>\n",
       "      <th>FuelType_hybrid</th>\n",
       "      <th>FuelType_lpg</th>\n",
       "      <th>FuelType_other</th>\n",
       "      <th>FuelType_petrol</th>\n",
       "      <th>Repaired_no</th>\n",
       "      <th>Repaired_yes</th>\n",
       "    </tr>\n",
       "  </thead>\n",
       "  <tbody>\n",
       "    <tr>\n",
       "      <th>0</th>\n",
       "      <td>2386.0</td>\n",
       "      <td>69.0</td>\n",
       "      <td>147.0</td>\n",
       "      <td>117.0</td>\n",
       "      <td>11.0</td>\n",
       "      <td>14.0</td>\n",
       "      <td>0.0</td>\n",
       "      <td>0.0</td>\n",
       "      <td>0.0</td>\n",
       "      <td>0.0</td>\n",
       "      <td>...</td>\n",
       "      <td>0.0</td>\n",
       "      <td>0.0</td>\n",
       "      <td>0.0</td>\n",
       "      <td>1.0</td>\n",
       "      <td>0.0</td>\n",
       "      <td>0.0</td>\n",
       "      <td>0.0</td>\n",
       "      <td>0.0</td>\n",
       "      <td>0.0</td>\n",
       "      <td>0.0</td>\n",
       "    </tr>\n",
       "    <tr>\n",
       "      <th>1</th>\n",
       "      <td>584.0</td>\n",
       "      <td>66.0</td>\n",
       "      <td>59.0</td>\n",
       "      <td>116.0</td>\n",
       "      <td>12.0</td>\n",
       "      <td>37.0</td>\n",
       "      <td>0.0</td>\n",
       "      <td>0.0</td>\n",
       "      <td>0.0</td>\n",
       "      <td>0.0</td>\n",
       "      <td>...</td>\n",
       "      <td>0.0</td>\n",
       "      <td>1.0</td>\n",
       "      <td>0.0</td>\n",
       "      <td>0.0</td>\n",
       "      <td>0.0</td>\n",
       "      <td>0.0</td>\n",
       "      <td>0.0</td>\n",
       "      <td>1.0</td>\n",
       "      <td>1.0</td>\n",
       "      <td>0.0</td>\n",
       "    </tr>\n",
       "    <tr>\n",
       "      <th>2</th>\n",
       "      <td>1180.0</td>\n",
       "      <td>73.0</td>\n",
       "      <td>53.0</td>\n",
       "      <td>101.0</td>\n",
       "      <td>9.0</td>\n",
       "      <td>31.0</td>\n",
       "      <td>0.0</td>\n",
       "      <td>0.0</td>\n",
       "      <td>0.0</td>\n",
       "      <td>0.0</td>\n",
       "      <td>...</td>\n",
       "      <td>0.0</td>\n",
       "      <td>1.0</td>\n",
       "      <td>0.0</td>\n",
       "      <td>1.0</td>\n",
       "      <td>0.0</td>\n",
       "      <td>0.0</td>\n",
       "      <td>0.0</td>\n",
       "      <td>0.0</td>\n",
       "      <td>1.0</td>\n",
       "      <td>0.0</td>\n",
       "    </tr>\n",
       "    <tr>\n",
       "      <th>3</th>\n",
       "      <td>262.0</td>\n",
       "      <td>60.0</td>\n",
       "      <td>86.0</td>\n",
       "      <td>11.0</td>\n",
       "      <td>12.0</td>\n",
       "      <td>2.0</td>\n",
       "      <td>0.0</td>\n",
       "      <td>0.0</td>\n",
       "      <td>0.0</td>\n",
       "      <td>1.0</td>\n",
       "      <td>...</td>\n",
       "      <td>0.0</td>\n",
       "      <td>1.0</td>\n",
       "      <td>0.0</td>\n",
       "      <td>0.0</td>\n",
       "      <td>0.0</td>\n",
       "      <td>0.0</td>\n",
       "      <td>0.0</td>\n",
       "      <td>1.0</td>\n",
       "      <td>0.0</td>\n",
       "      <td>1.0</td>\n",
       "    </tr>\n",
       "    <tr>\n",
       "      <th>4</th>\n",
       "      <td>794.0</td>\n",
       "      <td>69.0</td>\n",
       "      <td>93.0</td>\n",
       "      <td>8.0</td>\n",
       "      <td>12.0</td>\n",
       "      <td>25.0</td>\n",
       "      <td>1.0</td>\n",
       "      <td>0.0</td>\n",
       "      <td>0.0</td>\n",
       "      <td>0.0</td>\n",
       "      <td>...</td>\n",
       "      <td>0.0</td>\n",
       "      <td>1.0</td>\n",
       "      <td>0.0</td>\n",
       "      <td>0.0</td>\n",
       "      <td>0.0</td>\n",
       "      <td>0.0</td>\n",
       "      <td>0.0</td>\n",
       "      <td>1.0</td>\n",
       "      <td>1.0</td>\n",
       "      <td>0.0</td>\n",
       "    </tr>\n",
       "  </tbody>\n",
       "</table>\n",
       "<p>5 rows × 23 columns</p>\n",
       "</div>"
      ],
      "text/plain": [
       "    Price  RegistrationYear  Power  Model  Kilometer  Brand  \\\n",
       "0  2386.0              69.0  147.0  117.0       11.0   14.0   \n",
       "1   584.0              66.0   59.0  116.0       12.0   37.0   \n",
       "2  1180.0              73.0   53.0  101.0        9.0   31.0   \n",
       "3   262.0              60.0   86.0   11.0       12.0    2.0   \n",
       "4   794.0              69.0   93.0    8.0       12.0   25.0   \n",
       "\n",
       "   VehicleType_convertible  VehicleType_coupe  VehicleType_other  \\\n",
       "0                      0.0                0.0                0.0   \n",
       "1                      0.0                0.0                0.0   \n",
       "2                      0.0                0.0                0.0   \n",
       "3                      0.0                0.0                0.0   \n",
       "4                      1.0                0.0                0.0   \n",
       "\n",
       "   VehicleType_sedan  ...  VehicleType_wagon  Gearbox_manual  \\\n",
       "0                0.0  ...                0.0             0.0   \n",
       "1                0.0  ...                0.0             1.0   \n",
       "2                0.0  ...                0.0             1.0   \n",
       "3                1.0  ...                0.0             1.0   \n",
       "4                0.0  ...                0.0             1.0   \n",
       "\n",
       "   FuelType_electric  FuelType_gasoline  FuelType_hybrid  FuelType_lpg  \\\n",
       "0                0.0                1.0              0.0           0.0   \n",
       "1                0.0                0.0              0.0           0.0   \n",
       "2                0.0                1.0              0.0           0.0   \n",
       "3                0.0                0.0              0.0           0.0   \n",
       "4                0.0                0.0              0.0           0.0   \n",
       "\n",
       "   FuelType_other  FuelType_petrol  Repaired_no  Repaired_yes  \n",
       "0             0.0              0.0          0.0           0.0  \n",
       "1             0.0              1.0          1.0           0.0  \n",
       "2             0.0              0.0          1.0           0.0  \n",
       "3             0.0              1.0          0.0           1.0  \n",
       "4             0.0              1.0          1.0           0.0  \n",
       "\n",
       "[5 rows x 23 columns]"
      ]
     },
     "execution_count": 61,
     "metadata": {},
     "output_type": "execute_result"
    }
   ],
   "source": [
    "data_ordinal.head()"
   ]
  },
  {
   "cell_type": "markdown",
   "metadata": {},
   "source": [
    "**Приступим к обучению моделей**"
   ]
  },
  {
   "cell_type": "code",
   "execution_count": 62,
   "metadata": {},
   "outputs": [],
   "source": [
    "def rmse(test,predict):\n",
    "    return ((mean_squared_error(test,predict))**0.5).round(2)"
   ]
  },
  {
   "cell_type": "markdown",
   "metadata": {},
   "source": [
    "**Linear Regression**"
   ]
  },
  {
   "cell_type": "code",
   "execution_count": 79,
   "metadata": {},
   "outputs": [
    {
     "name": "stdout",
     "output_type": "stream",
     "text": [
      "CPU times: user 231 ms, sys: 120 ms, total: 351 ms\n",
      "Wall time: 357 ms\n"
     ]
    }
   ],
   "source": [
    "%%time\n",
    "start = time.time()\n",
    "lr_model = LinearRegression()\n",
    "lr_model.fit(features_train, target_train)\n",
    "end = time.time()\n",
    "t_lr=round(end-start,2)"
   ]
  },
  {
   "cell_type": "code",
   "execution_count": 85,
   "metadata": {},
   "outputs": [
    {
     "name": "stdout",
     "output_type": "stream",
     "text": [
      "CPU times: user 28.7 ms, sys: 15.7 ms, total: 44.4 ms\n",
      "Wall time: 10.8 ms\n"
     ]
    }
   ],
   "source": [
    "%%time\n",
    "start = time.time()\n",
    "pred_lr_model = lr_model.predict(features_train)\n",
    "end = time.time()\n",
    "t_lr_p=round(end-start,2)"
   ]
  },
  {
   "cell_type": "code",
   "execution_count": 86,
   "metadata": {},
   "outputs": [
    {
     "name": "stdout",
     "output_type": "stream",
     "text": [
      "RMSE для модели LR на тестовой выборке: 543.14\n"
     ]
    }
   ],
   "source": [
    "mse_lr_model = mean_squared_error(target_train, pred_lr_model)\n",
    "rmse_lr_model = rmse(target_train, pred_lr_model)\n",
    "print(\"RMSE для модели LR на тренировочной выборке:\", rmse_lr_model)"
   ]
  },
  {
   "cell_type": "code",
   "execution_count": 116,
   "metadata": {},
   "outputs": [
    {
     "name": "stdout",
     "output_type": "stream",
     "text": [
      "-295127.2677898471\n"
     ]
    }
   ],
   "source": [
    "scores = cross_val_score(lr_model, features_train, target_train, cv=5, scoring='neg_mean_squared_error')\n",
    "final_score = scores.mean()\n",
    "print(final_score)"
   ]
  },
  {
   "cell_type": "markdown",
   "metadata": {},
   "source": [
    "**CatBoost**"
   ]
  },
  {
   "cell_type": "markdown",
   "metadata": {},
   "source": [
    "Найдем лучшие гиперпараметры для модели, используя GridSearchCV"
   ]
  },
  {
   "cell_type": "raw",
   "metadata": {},
   "source": [
    "CBR = CatBoostRegressor()"
   ]
  },
  {
   "cell_type": "raw",
   "metadata": {},
   "source": [
    "parameters = {'learning_rate': [0.01,0.02,0.03,0.04],'iterations': [10, 20,30,40,50,60,70,80,90, 100]}"
   ]
  },
  {
   "cell_type": "raw",
   "metadata": {},
   "source": [
    "Grid_CBR = GridSearchCV(estimator=CBR, param_grid = parameters, cv = 2)\n",
    "Grid_CBR.fit(features_train, target_train)"
   ]
  },
  {
   "cell_type": "raw",
   "metadata": {},
   "source": [
    "print(\" Results from Grid Search \" )\n",
    "print(\"\\n The best estimator across ALL searched params:\\n\",Grid_CBR.best_estimator_)\n",
    "print(\"\\n The best score across ALL searched params:\\n\",Grid_CBR.best_score_)\n",
    "print(\"\\n The best parameters across ALL searched params:\\n\",Grid_CBR.best_params_)"
   ]
  },
  {
   "cell_type": "markdown",
   "metadata": {},
   "source": [
    "Обучим модель"
   ]
  },
  {
   "cell_type": "code",
   "execution_count": 100,
   "metadata": {},
   "outputs": [
    {
     "name": "stdout",
     "output_type": "stream",
     "text": [
      "0:\tlearn: 685.8945120\ttest: 685.8945120\tbest: 685.8945120 (0)\ttotal: 26.4ms\tremaining: 26.3s\n",
      "100:\tlearn: 305.0795034\ttest: 305.0795034\tbest: 305.0795034 (100)\ttotal: 2.65s\tremaining: 23.6s\n",
      "200:\tlearn: 292.6999685\ttest: 292.6999685\tbest: 292.6999685 (200)\ttotal: 5.36s\tremaining: 21.3s\n",
      "300:\tlearn: 285.8508379\ttest: 285.8508379\tbest: 285.8508379 (300)\ttotal: 8.06s\tremaining: 18.7s\n",
      "400:\tlearn: 280.9701234\ttest: 280.9701234\tbest: 280.9701234 (400)\ttotal: 10.7s\tremaining: 15.9s\n",
      "500:\tlearn: 276.9895167\ttest: 276.9895167\tbest: 276.9895167 (500)\ttotal: 13.3s\tremaining: 13.2s\n",
      "600:\tlearn: 273.7572367\ttest: 273.7572367\tbest: 273.7572367 (600)\ttotal: 15.8s\tremaining: 10.5s\n",
      "700:\tlearn: 270.9720365\ttest: 270.9720365\tbest: 270.9720365 (700)\ttotal: 18.3s\tremaining: 7.8s\n",
      "800:\tlearn: 268.8311143\ttest: 268.8311143\tbest: 268.8311143 (800)\ttotal: 20.7s\tremaining: 5.15s\n",
      "900:\tlearn: 266.7678078\ttest: 266.7678078\tbest: 266.7678078 (900)\ttotal: 23.1s\tremaining: 2.54s\n",
      "999:\tlearn: 264.7622771\ttest: 264.7622771\tbest: 264.7622771 (999)\ttotal: 25.5s\tremaining: 0us\n",
      "\n",
      "bestTest = 264.7622771\n",
      "bestIteration = 999\n",
      "\n",
      "CPU times: user 25.8 s, sys: 264 ms, total: 26 s\n",
      "Wall time: 27 s\n"
     ]
    }
   ],
   "source": [
    "%%time\n",
    "start = time.time()\n",
    "model_cat = CatBoostRegressor(random_state=RANDOM_STATE,learning_rate=0.4, verbose=100,n_estimators=1000)\n",
    "model_cat.fit(features_train, target_train, eval_set=(features_train,target_train))\n",
    "end = time.time()\n",
    "t_cat=round(end-start,2)"
   ]
  },
  {
   "cell_type": "code",
   "execution_count": 101,
   "metadata": {},
   "outputs": [
    {
     "name": "stdout",
     "output_type": "stream",
     "text": [
      "CPU times: user 205 ms, sys: 39 µs, total: 205 ms\n",
      "Wall time: 203 ms\n"
     ]
    }
   ],
   "source": [
    "%%time\n",
    "start = time.time()\n",
    "predict_cat_model=model_cat.predict(features_train)\n",
    "end = time.time()\n",
    "t_cat_p=round(end-start,2)"
   ]
  },
  {
   "cell_type": "code",
   "execution_count": 102,
   "metadata": {},
   "outputs": [
    {
     "name": "stdout",
     "output_type": "stream",
     "text": [
      "RMSE для модели LR на тренировочной выборке: 264.76\n"
     ]
    }
   ],
   "source": [
    "mse_cat_model = mean_squared_error(target_train, predict_cat_model)\n",
    "rmse_cat_model = rmse(target_train, predict_cat_model)\n",
    "print(\"RMSE для модели CatBoost на тренировочной выборке:\", rmse_cat_model)"
   ]
  },
  {
   "cell_type": "markdown",
   "metadata": {},
   "source": [
    "**LightGBM**"
   ]
  },
  {
   "cell_type": "code",
   "execution_count": 95,
   "metadata": {},
   "outputs": [
    {
     "name": "stdout",
     "output_type": "stream",
     "text": [
      "[100]\ttraining's rmse: 289.684\n",
      "[200]\ttraining's rmse: 275.692\n",
      "[300]\ttraining's rmse: 267.169\n",
      "[400]\ttraining's rmse: 260.79\n",
      "[500]\ttraining's rmse: 255.836\n",
      "[600]\ttraining's rmse: 252.121\n",
      "[700]\ttraining's rmse: 248.169\n",
      "[800]\ttraining's rmse: 244.944\n",
      "[900]\ttraining's rmse: 242.126\n",
      "[1000]\ttraining's rmse: 239.386\n",
      "CPU times: user 1min 22s, sys: 422 ms, total: 1min 22s\n",
      "Wall time: 1min 23s\n"
     ]
    }
   ],
   "source": [
    "%%time\n",
    "start = time.time()\n",
    "model_LGB = lgbm.sklearn.LGBMRegressor(n_estimators=1000, random_state=RANDOM_STATE, learning_rate=0.4, objective='rmse')\n",
    "model_LGB.fit(features_train, target_train, verbose=100, eval_set=(features_train,target_train))\n",
    "end = time.time()\n",
    "t_lgb=round(end-start,2)"
   ]
  },
  {
   "cell_type": "code",
   "execution_count": 97,
   "metadata": {},
   "outputs": [
    {
     "name": "stdout",
     "output_type": "stream",
     "text": [
      "CPU times: user 15.5 s, sys: 12.3 ms, total: 15.5 s\n",
      "Wall time: 15.5 s\n"
     ]
    }
   ],
   "source": [
    "%%time\n",
    "start = time.time()\n",
    "predict_LGB_model = model_LGB.predict(features_train)\n",
    "end = time.time()\n",
    "t_lgb_p=round(end-start,2)"
   ]
  },
  {
   "cell_type": "code",
   "execution_count": 98,
   "metadata": {},
   "outputs": [
    {
     "name": "stdout",
     "output_type": "stream",
     "text": [
      "RMSE для модели LR на тренировочной выборке: 239.39\n"
     ]
    }
   ],
   "source": [
    "mse_LGB_model = mean_squared_error(target_train, predict_LGB_model)\n",
    "rmse_LGB_model = rmse(target_train, predict_LGB_model)\n",
    "print(\"RMSE для модели LightGBM на тренировочной выборке:\", rmse_LGB_model)"
   ]
  },
  {
   "cell_type": "markdown",
   "metadata": {},
   "source": [
    "## Анализ моделей"
   ]
  },
  {
   "cell_type": "code",
   "execution_count": 117,
   "metadata": {},
   "outputs": [
    {
     "data": {
      "text/html": [
       "<style  type=\"text/css\" >\n",
       "#T_0fcf8_row0_col0,#T_0fcf8_row2_col1,#T_0fcf8_row2_col2{\n",
       "            background-color:  red;\n",
       "        }#T_0fcf8_row0_col1,#T_0fcf8_row0_col2,#T_0fcf8_row2_col0{\n",
       "            background-color:  green;\n",
       "        }</style><table id=\"T_0fcf8_\" ><thead>    <tr>        <th class=\"blank level0\" ></th>        <th class=\"col_heading level0 col0\" >RMSE модели</th>        <th class=\"col_heading level0 col1\" >Скорость обучения, сек.</th>        <th class=\"col_heading level0 col2\" >Скорость предсказания, сек.</th>    </tr></thead><tbody>\n",
       "                <tr>\n",
       "                        <th id=\"T_0fcf8_level0_row0\" class=\"row_heading level0 row0\" >LinearRegression</th>\n",
       "                        <td id=\"T_0fcf8_row0_col0\" class=\"data row0 col0\" >543.140000</td>\n",
       "                        <td id=\"T_0fcf8_row0_col1\" class=\"data row0 col1\" >0.280000</td>\n",
       "                        <td id=\"T_0fcf8_row0_col2\" class=\"data row0 col2\" >0.010000</td>\n",
       "            </tr>\n",
       "            <tr>\n",
       "                        <th id=\"T_0fcf8_level0_row1\" class=\"row_heading level0 row1\" >CatBoostRegressor</th>\n",
       "                        <td id=\"T_0fcf8_row1_col0\" class=\"data row1 col0\" >264.760000</td>\n",
       "                        <td id=\"T_0fcf8_row1_col1\" class=\"data row1 col1\" >27.000000</td>\n",
       "                        <td id=\"T_0fcf8_row1_col2\" class=\"data row1 col2\" >0.200000</td>\n",
       "            </tr>\n",
       "            <tr>\n",
       "                        <th id=\"T_0fcf8_level0_row2\" class=\"row_heading level0 row2\" >LightGBM</th>\n",
       "                        <td id=\"T_0fcf8_row2_col0\" class=\"data row2 col0\" >239.390000</td>\n",
       "                        <td id=\"T_0fcf8_row2_col1\" class=\"data row2 col1\" >83.510000</td>\n",
       "                        <td id=\"T_0fcf8_row2_col2\" class=\"data row2 col2\" >15.470000</td>\n",
       "            </tr>\n",
       "    </tbody></table>"
      ],
      "text/plain": [
       "<pandas.io.formats.style.Styler at 0x7fc4afb53a00>"
      ]
     },
     "execution_count": 117,
     "metadata": {},
     "output_type": "execute_result"
    }
   ],
   "source": [
    "column=['RMSE модели','Скорость обучения, сек.','Скорость предсказания, сек.']\n",
    "\n",
    "comparison_tabl = pd.DataFrame(index=['RMSE модели','Скорость обучения, сек.', 'Скорость предсказания, сек.'], columns=['LinearRegression','CatBoostRegressor','LightGBM'])\n",
    "comparison_tabl['LinearRegression'] = rmse_lr_model, t_lr, t_lr_p\n",
    "comparison_tabl['CatBoostRegressor'] = rmse_cat_model, t_cat, t_cat_p\n",
    "comparison_tabl['LightGBM'] = rmse_LGB_model, t_lgb,t_lgb_p\n",
    "\n",
    "comparison_tabl.T.style.highlight_min(color='green',subset=column).highlight_max(color='red',subset=column)\n"
   ]
  },
  {
   "cell_type": "markdown",
   "metadata": {},
   "source": [
    "**Вывод**"
   ]
  },
  {
   "cell_type": "markdown",
   "metadata": {},
   "source": [
    "- LinearRegression показал самую высокую скорость обучения и при этом саму низкую точность\n",
    "- Самое лучшее качество модели получилось у LGBMRegressor, но ее время обучения довольно большое секкунд.\n",
    "- CatBoost предсказала совсем немного хуже, чем LGBMRegressor, но обучение заняло заняло меньше времени\n",
    "- Основываясь на этих данных можем рекомендовать модель CatBoostRegressor"
   ]
  },
  {
   "cell_type": "markdown",
   "metadata": {},
   "source": [
    "## Тестирование лучшей модели"
   ]
  },
  {
   "cell_type": "code",
   "execution_count": 136,
   "metadata": {},
   "outputs": [
    {
     "name": "stdout",
     "output_type": "stream",
     "text": [
      "0:\tlearn: 685.8945120\ttotal: 25.8ms\tremaining: 25.8s\n",
      "100:\tlearn: 305.0795034\ttotal: 2.42s\tremaining: 21.5s\n",
      "200:\tlearn: 292.6999685\ttotal: 4.68s\tremaining: 18.6s\n",
      "300:\tlearn: 285.8508379\ttotal: 7.04s\tremaining: 16.4s\n",
      "400:\tlearn: 280.9701234\ttotal: 9.32s\tremaining: 13.9s\n",
      "500:\tlearn: 276.9895167\ttotal: 11.7s\tremaining: 11.6s\n",
      "600:\tlearn: 273.7572367\ttotal: 14s\tremaining: 9.32s\n",
      "700:\tlearn: 270.9720365\ttotal: 16.5s\tremaining: 7.02s\n",
      "800:\tlearn: 268.8311143\ttotal: 18.8s\tremaining: 4.67s\n",
      "900:\tlearn: 266.7678078\ttotal: 21.1s\tremaining: 2.32s\n",
      "999:\tlearn: 264.7622771\ttotal: 23.5s\tremaining: 0us\n",
      "CPU times: user 23.8 s, sys: 124 ms, total: 23.9 s\n",
      "Wall time: 24.8 s\n"
     ]
    }
   ],
   "source": [
    "%%time\n",
    "start = time.time()\n",
    "model_cat_test = CatBoostRegressor(random_state=RANDOM_STATE,learning_rate=0.4, verbose=100,n_estimators=1000)\n",
    "model_cat_test.fit(features_train, target_train)\n",
    "end = time.time()\n",
    "tt_cat=round(end-start,2)"
   ]
  },
  {
   "cell_type": "code",
   "execution_count": 137,
   "metadata": {},
   "outputs": [
    {
     "name": "stdout",
     "output_type": "stream",
     "text": [
      "CPU times: user 70.4 ms, sys: 3.93 ms, total: 74.3 ms\n",
      "Wall time: 72.6 ms\n"
     ]
    }
   ],
   "source": [
    "%%time\n",
    "start = time.time()\n",
    "predict_cat_test=model_cat_test.predict(features_test)\n",
    "end = time.time()\n",
    "tt_cat_p=round(end-start,2)"
   ]
  },
  {
   "cell_type": "code",
   "execution_count": 140,
   "metadata": {},
   "outputs": [
    {
     "name": "stdout",
     "output_type": "stream",
     "text": [
      "RMSE для модели CatBoost на тестовой выборке: 297.46\n"
     ]
    }
   ],
   "source": [
    "mse_cat_test = mean_squared_error(target_test, predict_cat_test)\n",
    "rmse_cat_test = rmse(target_test, predict_cat_test)\n",
    "print(\"RMSE для модели CatBoost на тестовой выборке:\", rmse_cat_test)"
   ]
  },
  {
   "cell_type": "code",
   "execution_count": 143,
   "metadata": {},
   "outputs": [
    {
     "data": {
      "text/html": [
       "<style  type=\"text/css\" >\n",
       "#T_592b5_row0_col0,#T_592b5_row1_col1,#T_592b5_row1_col2{\n",
       "            background-color:  red;\n",
       "        }#T_592b5_row0_col1,#T_592b5_row0_col2,#T_592b5_row1_col0{\n",
       "            background-color:  green;\n",
       "        }</style><table id=\"T_592b5_\" ><thead>    <tr>        <th class=\"blank level0\" ></th>        <th class=\"col_heading level0 col0\" >RMSE модели</th>        <th class=\"col_heading level0 col1\" >Скорость обучения, сек.</th>        <th class=\"col_heading level0 col2\" >Скорость предсказания, сек.</th>    </tr></thead><tbody>\n",
       "                <tr>\n",
       "                        <th id=\"T_592b5_level0_row0\" class=\"row_heading level0 row0\" >Тестовая</th>\n",
       "                        <td id=\"T_592b5_row0_col0\" class=\"data row0 col0\" >297.460000</td>\n",
       "                        <td id=\"T_592b5_row0_col1\" class=\"data row0 col1\" >24.760000</td>\n",
       "                        <td id=\"T_592b5_row0_col2\" class=\"data row0 col2\" >0.070000</td>\n",
       "            </tr>\n",
       "            <tr>\n",
       "                        <th id=\"T_592b5_level0_row1\" class=\"row_heading level0 row1\" >Тренировочная</th>\n",
       "                        <td id=\"T_592b5_row1_col0\" class=\"data row1 col0\" >264.760000</td>\n",
       "                        <td id=\"T_592b5_row1_col1\" class=\"data row1 col1\" >27.000000</td>\n",
       "                        <td id=\"T_592b5_row1_col2\" class=\"data row1 col2\" >0.200000</td>\n",
       "            </tr>\n",
       "    </tbody></table>"
      ],
      "text/plain": [
       "<pandas.io.formats.style.Styler at 0x7fc4afb53820>"
      ]
     },
     "execution_count": 143,
     "metadata": {},
     "output_type": "execute_result"
    }
   ],
   "source": [
    "column=['RMSE модели','Скорость обучения, сек.','Скорость предсказания, сек.']\n",
    "\n",
    "comparison_tabl = pd.DataFrame(index=['RMSE модели','Скорость обучения, сек.', 'Скорость предсказания, сек.'], columns=['Тестовая','Тренировочная'])\n",
    "comparison_tabl['Тестовая'] = rmse_cat_test, tt_cat, tt_cat_p\n",
    "comparison_tabl['Тренировочная'] = rmse_cat_model, t_cat, t_cat_p\n",
    "\n",
    "\n",
    "comparison_tabl.T.style.highlight_min(color='green',subset=column).highlight_max(color='red',subset=column)"
   ]
  }
 ],
 "metadata": {
  "ExecuteTimeLog": [
   {
    "duration": 49,
    "start_time": "2023-03-30T14:05:28.963Z"
   },
   {
    "duration": 418,
    "start_time": "2023-03-30T14:05:31.978Z"
   },
   {
    "duration": 2834,
    "start_time": "2023-03-30T14:05:32.666Z"
   },
   {
    "duration": 17,
    "start_time": "2023-03-30T14:05:41.930Z"
   },
   {
    "duration": 12,
    "start_time": "2023-03-30T14:05:59.914Z"
   },
   {
    "duration": 36,
    "start_time": "2023-03-30T14:10:05.370Z"
   },
   {
    "duration": 8,
    "start_time": "2023-03-30T14:10:10.508Z"
   },
   {
    "duration": 7,
    "start_time": "2023-03-30T14:10:21.268Z"
   },
   {
    "duration": 9,
    "start_time": "2023-03-30T14:10:54.004Z"
   },
   {
    "duration": 12,
    "start_time": "2023-03-30T14:11:19.892Z"
   },
   {
    "duration": 495,
    "start_time": "2023-03-30T14:11:55.116Z"
   },
   {
    "duration": 9,
    "start_time": "2023-03-30T14:13:00.532Z"
   },
   {
    "duration": 440,
    "start_time": "2023-03-30T14:13:33.078Z"
   },
   {
    "duration": 922,
    "start_time": "2023-03-30T14:13:43.869Z"
   },
   {
    "duration": 92,
    "start_time": "2023-03-30T14:15:08.597Z"
   },
   {
    "duration": 178,
    "start_time": "2023-03-30T14:18:34.711Z"
   },
   {
    "duration": 396,
    "start_time": "2023-03-30T14:19:26.872Z"
   },
   {
    "duration": 767,
    "start_time": "2023-03-30T14:19:27.270Z"
   },
   {
    "duration": 33,
    "start_time": "2023-03-30T14:19:28.039Z"
   },
   {
    "duration": 143,
    "start_time": "2023-03-30T14:19:28.074Z"
   },
   {
    "duration": 413,
    "start_time": "2023-03-30T14:19:28.219Z"
   },
   {
    "duration": 869,
    "start_time": "2023-03-30T14:19:28.634Z"
   },
   {
    "duration": 112,
    "start_time": "2023-03-30T14:19:29.504Z"
   },
   {
    "duration": 93,
    "start_time": "2023-04-04T11:22:28.744Z"
   },
   {
    "duration": 66,
    "start_time": "2023-04-04T11:28:01.233Z"
   },
   {
    "duration": 386,
    "start_time": "2023-04-04T11:28:07.416Z"
   },
   {
    "duration": 1323,
    "start_time": "2023-04-04T11:28:08.207Z"
   },
   {
    "duration": 19,
    "start_time": "2023-04-04T11:28:09.532Z"
   },
   {
    "duration": 150,
    "start_time": "2023-04-04T11:28:13.008Z"
   },
   {
    "duration": 28,
    "start_time": "2023-04-04T11:28:16.805Z"
   },
   {
    "duration": 87,
    "start_time": "2023-04-04T11:28:19.596Z"
   },
   {
    "duration": 55,
    "start_time": "2023-04-04T11:28:24.809Z"
   },
   {
    "duration": 38,
    "start_time": "2023-04-04T11:31:40.638Z"
   },
   {
    "duration": 1046,
    "start_time": "2023-04-04T11:31:58.438Z"
   },
   {
    "duration": 336,
    "start_time": "2023-04-04T11:32:04.098Z"
   },
   {
    "duration": 300,
    "start_time": "2023-04-04T11:33:58.642Z"
   },
   {
    "duration": 51,
    "start_time": "2023-04-04T11:35:46.355Z"
   },
   {
    "duration": 18,
    "start_time": "2023-04-04T11:37:03.507Z"
   },
   {
    "duration": 33,
    "start_time": "2023-04-04T11:39:47.940Z"
   },
   {
    "duration": 20,
    "start_time": "2023-04-04T11:40:44.909Z"
   },
   {
    "duration": 9,
    "start_time": "2023-04-04T11:43:30.014Z"
   },
   {
    "duration": 35,
    "start_time": "2023-04-04T11:44:28.095Z"
   },
   {
    "duration": 10,
    "start_time": "2023-04-04T11:44:32.662Z"
   },
   {
    "duration": 31,
    "start_time": "2023-04-04T11:47:34.199Z"
   },
   {
    "duration": 22,
    "start_time": "2023-04-04T11:49:21.120Z"
   },
   {
    "duration": 22,
    "start_time": "2023-04-04T11:50:22.904Z"
   },
   {
    "duration": 24,
    "start_time": "2023-04-04T11:50:30.928Z"
   },
   {
    "duration": 30,
    "start_time": "2023-04-04T11:51:51.689Z"
   },
   {
    "duration": 22,
    "start_time": "2023-04-04T11:52:05.160Z"
   },
   {
    "duration": 332,
    "start_time": "2023-04-04T11:53:05.857Z"
   },
   {
    "duration": 379,
    "start_time": "2023-04-04T11:53:27.808Z"
   },
   {
    "duration": 7,
    "start_time": "2023-04-04T11:55:23.692Z"
   },
   {
    "duration": 7,
    "start_time": "2023-04-04T11:55:27.417Z"
   },
   {
    "duration": 6,
    "start_time": "2023-04-04T11:55:29.746Z"
   },
   {
    "duration": 10,
    "start_time": "2023-04-04T11:56:26.211Z"
   },
   {
    "duration": 11,
    "start_time": "2023-04-04T11:57:00.601Z"
   },
   {
    "duration": 48,
    "start_time": "2023-04-04T11:57:43.928Z"
   },
   {
    "duration": 10,
    "start_time": "2023-04-04T11:59:19.203Z"
   },
   {
    "duration": 37,
    "start_time": "2023-04-04T11:59:25.243Z"
   },
   {
    "duration": 8,
    "start_time": "2023-04-04T11:59:46.700Z"
   },
   {
    "duration": 8,
    "start_time": "2023-04-04T12:00:47.114Z"
   },
   {
    "duration": 8,
    "start_time": "2023-04-04T12:01:00.243Z"
   },
   {
    "duration": 1524,
    "start_time": "2023-04-04T12:01:06.043Z"
   },
   {
    "duration": 1459,
    "start_time": "2023-04-04T12:01:07.570Z"
   },
   {
    "duration": 22,
    "start_time": "2023-04-04T12:01:09.030Z"
   },
   {
    "duration": 283,
    "start_time": "2023-04-04T12:01:09.055Z"
   },
   {
    "duration": 59,
    "start_time": "2023-04-04T12:01:09.340Z"
   },
   {
    "duration": 60,
    "start_time": "2023-04-04T12:01:09.402Z"
   },
   {
    "duration": 467,
    "start_time": "2023-04-04T12:01:09.465Z"
   },
   {
    "duration": 41,
    "start_time": "2023-04-04T12:01:09.934Z"
   },
   {
    "duration": 14,
    "start_time": "2023-04-04T12:01:09.987Z"
   },
   {
    "duration": 64,
    "start_time": "2023-04-04T12:01:10.005Z"
   },
   {
    "duration": 8,
    "start_time": "2023-04-04T12:01:10.071Z"
   },
   {
    "duration": 48,
    "start_time": "2023-04-04T12:01:10.081Z"
   },
   {
    "duration": 25,
    "start_time": "2023-04-04T12:01:10.131Z"
   },
   {
    "duration": 43,
    "start_time": "2023-04-04T12:01:10.170Z"
   },
   {
    "duration": 30,
    "start_time": "2023-04-04T12:01:10.215Z"
   },
   {
    "duration": 23,
    "start_time": "2023-04-04T12:01:10.246Z"
   },
   {
    "duration": 17,
    "start_time": "2023-04-04T12:01:10.271Z"
   },
   {
    "duration": 11,
    "start_time": "2023-04-04T12:01:10.290Z"
   },
   {
    "duration": 15,
    "start_time": "2023-04-04T12:01:10.309Z"
   },
   {
    "duration": 176,
    "start_time": "2023-04-04T12:01:10.328Z"
   },
   {
    "duration": 0,
    "start_time": "2023-04-04T12:01:10.506Z"
   },
   {
    "duration": 0,
    "start_time": "2023-04-04T12:01:10.508Z"
   },
   {
    "duration": 0,
    "start_time": "2023-04-04T12:01:10.509Z"
   },
   {
    "duration": 0,
    "start_time": "2023-04-04T12:01:10.511Z"
   },
   {
    "duration": 0,
    "start_time": "2023-04-04T12:01:10.512Z"
   },
   {
    "duration": 0,
    "start_time": "2023-04-04T12:01:10.513Z"
   },
   {
    "duration": 0,
    "start_time": "2023-04-04T12:01:10.515Z"
   },
   {
    "duration": 9,
    "start_time": "2023-04-04T12:01:38.731Z"
   },
   {
    "duration": 6,
    "start_time": "2023-04-04T12:02:01.044Z"
   },
   {
    "duration": 58,
    "start_time": "2023-04-04T12:02:41.619Z"
   },
   {
    "duration": 8,
    "start_time": "2023-04-04T12:02:44.125Z"
   },
   {
    "duration": 29,
    "start_time": "2023-04-04T12:04:32.899Z"
   },
   {
    "duration": 114,
    "start_time": "2023-04-04T12:05:13.918Z"
   },
   {
    "duration": 18,
    "start_time": "2023-04-04T12:05:21.004Z"
   },
   {
    "duration": 35,
    "start_time": "2023-04-04T12:06:15.837Z"
   },
   {
    "duration": 40,
    "start_time": "2023-04-04T12:06:35.005Z"
   },
   {
    "duration": 26,
    "start_time": "2023-04-04T12:08:35.496Z"
   },
   {
    "duration": 260,
    "start_time": "2023-04-04T12:15:51.285Z"
   },
   {
    "duration": 77,
    "start_time": "2023-04-04T12:17:59.603Z"
   },
   {
    "duration": 17,
    "start_time": "2023-04-04T12:18:03.096Z"
   },
   {
    "duration": 20,
    "start_time": "2023-04-04T12:18:11.896Z"
   },
   {
    "duration": 320,
    "start_time": "2023-04-04T12:19:25.712Z"
   },
   {
    "duration": 11,
    "start_time": "2023-04-04T12:19:59.605Z"
   },
   {
    "duration": 6,
    "start_time": "2023-04-04T12:25:55.723Z"
   },
   {
    "duration": 5,
    "start_time": "2023-04-04T12:28:35.956Z"
   },
   {
    "duration": 17,
    "start_time": "2023-04-04T12:28:39.997Z"
   },
   {
    "duration": 11,
    "start_time": "2023-04-04T12:29:00.705Z"
   },
   {
    "duration": 11,
    "start_time": "2023-04-04T12:29:10.504Z"
   },
   {
    "duration": 291,
    "start_time": "2023-04-04T12:30:32.054Z"
   },
   {
    "duration": 18,
    "start_time": "2023-04-04T12:30:59.910Z"
   },
   {
    "duration": 14,
    "start_time": "2023-04-04T12:32:46.429Z"
   },
   {
    "duration": 295,
    "start_time": "2023-04-04T12:33:47.357Z"
   },
   {
    "duration": 25,
    "start_time": "2023-04-04T12:34:03.422Z"
   },
   {
    "duration": 286,
    "start_time": "2023-04-04T12:34:29.496Z"
   },
   {
    "duration": 13,
    "start_time": "2023-04-04T12:35:16.262Z"
   },
   {
    "duration": 1248,
    "start_time": "2023-04-04T12:35:39.474Z"
   },
   {
    "duration": 911,
    "start_time": "2023-04-04T12:35:40.724Z"
   },
   {
    "duration": 18,
    "start_time": "2023-04-04T12:35:41.636Z"
   },
   {
    "duration": 164,
    "start_time": "2023-04-04T12:35:41.662Z"
   },
   {
    "duration": 39,
    "start_time": "2023-04-04T12:35:41.827Z"
   },
   {
    "duration": 46,
    "start_time": "2023-04-04T12:35:41.869Z"
   },
   {
    "duration": 312,
    "start_time": "2023-04-04T12:35:41.917Z"
   },
   {
    "duration": 41,
    "start_time": "2023-04-04T12:35:42.230Z"
   },
   {
    "duration": 15,
    "start_time": "2023-04-04T12:35:42.275Z"
   },
   {
    "duration": 36,
    "start_time": "2023-04-04T12:35:42.293Z"
   },
   {
    "duration": 5,
    "start_time": "2023-04-04T12:35:42.331Z"
   },
   {
    "duration": 50,
    "start_time": "2023-04-04T12:35:42.337Z"
   },
   {
    "duration": 24,
    "start_time": "2023-04-04T12:35:42.390Z"
   },
   {
    "duration": 26,
    "start_time": "2023-04-04T12:35:42.416Z"
   },
   {
    "duration": 40,
    "start_time": "2023-04-04T12:35:42.445Z"
   },
   {
    "duration": 28,
    "start_time": "2023-04-04T12:35:42.488Z"
   },
   {
    "duration": 12,
    "start_time": "2023-04-04T12:35:42.518Z"
   },
   {
    "duration": 7,
    "start_time": "2023-04-04T12:35:42.532Z"
   },
   {
    "duration": 56,
    "start_time": "2023-04-04T12:35:42.540Z"
   },
   {
    "duration": 6,
    "start_time": "2023-04-04T12:35:42.598Z"
   },
   {
    "duration": 27,
    "start_time": "2023-04-04T12:35:42.606Z"
   },
   {
    "duration": 68,
    "start_time": "2023-04-04T12:35:42.635Z"
   },
   {
    "duration": 21,
    "start_time": "2023-04-04T12:35:42.705Z"
   },
   {
    "duration": 65,
    "start_time": "2023-04-04T12:35:42.727Z"
   },
   {
    "duration": 19,
    "start_time": "2023-04-04T12:35:42.794Z"
   },
   {
    "duration": 21,
    "start_time": "2023-04-04T12:35:42.815Z"
   },
   {
    "duration": 324,
    "start_time": "2023-04-04T12:35:42.838Z"
   },
   {
    "duration": 21,
    "start_time": "2023-04-04T12:35:43.165Z"
   },
   {
    "duration": 119,
    "start_time": "2023-04-04T12:35:43.192Z"
   },
   {
    "duration": 0,
    "start_time": "2023-04-04T12:35:43.312Z"
   },
   {
    "duration": 0,
    "start_time": "2023-04-04T12:35:43.313Z"
   },
   {
    "duration": 0,
    "start_time": "2023-04-04T12:35:43.314Z"
   },
   {
    "duration": 0,
    "start_time": "2023-04-04T12:35:43.315Z"
   },
   {
    "duration": 0,
    "start_time": "2023-04-04T12:35:43.317Z"
   },
   {
    "duration": 37,
    "start_time": "2023-04-04T12:38:49.057Z"
   },
   {
    "duration": 280,
    "start_time": "2023-04-04T12:38:50.350Z"
   },
   {
    "duration": 20,
    "start_time": "2023-04-04T12:41:40.416Z"
   },
   {
    "duration": 49,
    "start_time": "2023-04-04T12:42:31.329Z"
   },
   {
    "duration": 19,
    "start_time": "2023-04-04T12:42:47.394Z"
   },
   {
    "duration": 25,
    "start_time": "2023-04-04T12:43:11.432Z"
   },
   {
    "duration": 5,
    "start_time": "2023-04-04T12:44:31.108Z"
   },
   {
    "duration": 8,
    "start_time": "2023-04-04T12:44:53.898Z"
   },
   {
    "duration": 5,
    "start_time": "2023-04-04T12:45:26.197Z"
   },
   {
    "duration": 10,
    "start_time": "2023-04-04T12:46:42.306Z"
   },
   {
    "duration": 87,
    "start_time": "2023-04-04T12:46:54.394Z"
   },
   {
    "duration": 10,
    "start_time": "2023-04-04T12:46:58.292Z"
   },
   {
    "duration": 85,
    "start_time": "2023-04-04T12:49:15.691Z"
   },
   {
    "duration": 23,
    "start_time": "2023-04-04T12:50:25.133Z"
   },
   {
    "duration": 25,
    "start_time": "2023-04-04T12:50:48.690Z"
   },
   {
    "duration": 7,
    "start_time": "2023-04-04T12:50:56.322Z"
   },
   {
    "duration": 33,
    "start_time": "2023-04-04T12:51:44.052Z"
   },
   {
    "duration": 19,
    "start_time": "2023-04-04T12:51:57.988Z"
   },
   {
    "duration": 355,
    "start_time": "2023-04-04T12:54:15.141Z"
   },
   {
    "duration": 10,
    "start_time": "2023-04-04T12:54:43.508Z"
   },
   {
    "duration": 41,
    "start_time": "2023-04-04T12:54:50.092Z"
   },
   {
    "duration": 42,
    "start_time": "2023-04-04T12:54:55.148Z"
   },
   {
    "duration": 1347,
    "start_time": "2023-04-04T12:55:01.586Z"
   },
   {
    "duration": 982,
    "start_time": "2023-04-04T12:55:02.936Z"
   },
   {
    "duration": 29,
    "start_time": "2023-04-04T12:55:03.920Z"
   },
   {
    "duration": 187,
    "start_time": "2023-04-04T12:55:03.951Z"
   },
   {
    "duration": 53,
    "start_time": "2023-04-04T12:55:04.141Z"
   },
   {
    "duration": 49,
    "start_time": "2023-04-04T12:55:04.196Z"
   },
   {
    "duration": 333,
    "start_time": "2023-04-04T12:55:04.247Z"
   },
   {
    "duration": 30,
    "start_time": "2023-04-04T12:55:04.581Z"
   },
   {
    "duration": 11,
    "start_time": "2023-04-04T12:55:04.613Z"
   },
   {
    "duration": 63,
    "start_time": "2023-04-04T12:55:04.626Z"
   },
   {
    "duration": 6,
    "start_time": "2023-04-04T12:55:04.691Z"
   },
   {
    "duration": 27,
    "start_time": "2023-04-04T12:55:04.698Z"
   },
   {
    "duration": 56,
    "start_time": "2023-04-04T12:55:04.726Z"
   },
   {
    "duration": 20,
    "start_time": "2023-04-04T12:55:04.787Z"
   },
   {
    "duration": 24,
    "start_time": "2023-04-04T12:55:04.809Z"
   },
   {
    "duration": 36,
    "start_time": "2023-04-04T12:55:04.835Z"
   },
   {
    "duration": 20,
    "start_time": "2023-04-04T12:55:04.873Z"
   },
   {
    "duration": 22,
    "start_time": "2023-04-04T12:55:04.894Z"
   },
   {
    "duration": 60,
    "start_time": "2023-04-04T12:55:04.917Z"
   },
   {
    "duration": 9,
    "start_time": "2023-04-04T12:55:04.980Z"
   },
   {
    "duration": 23,
    "start_time": "2023-04-04T12:55:04.990Z"
   },
   {
    "duration": 62,
    "start_time": "2023-04-04T12:55:05.015Z"
   },
   {
    "duration": 38,
    "start_time": "2023-04-04T12:55:05.080Z"
   },
   {
    "duration": 87,
    "start_time": "2023-04-04T12:55:05.120Z"
   },
   {
    "duration": 31,
    "start_time": "2023-04-04T12:55:05.209Z"
   },
   {
    "duration": 44,
    "start_time": "2023-04-04T12:55:05.242Z"
   },
   {
    "duration": 350,
    "start_time": "2023-04-04T12:55:05.288Z"
   },
   {
    "duration": 23,
    "start_time": "2023-04-04T12:55:05.640Z"
   },
   {
    "duration": 32,
    "start_time": "2023-04-04T12:55:05.665Z"
   },
   {
    "duration": 21,
    "start_time": "2023-04-04T12:55:05.699Z"
   },
   {
    "duration": 68,
    "start_time": "2023-04-04T12:55:05.722Z"
   },
   {
    "duration": 19,
    "start_time": "2023-04-04T12:55:05.792Z"
   },
   {
    "duration": 10,
    "start_time": "2023-04-04T12:55:05.821Z"
   },
   {
    "duration": 8,
    "start_time": "2023-04-04T12:55:05.833Z"
   },
   {
    "duration": 24,
    "start_time": "2023-04-04T12:55:05.843Z"
   },
   {
    "duration": 19,
    "start_time": "2023-04-04T12:55:05.869Z"
   },
   {
    "duration": 29,
    "start_time": "2023-04-04T12:55:05.890Z"
   },
   {
    "duration": 7,
    "start_time": "2023-04-04T12:55:05.921Z"
   },
   {
    "duration": 51,
    "start_time": "2023-04-04T12:55:05.929Z"
   },
   {
    "duration": 30,
    "start_time": "2023-04-04T12:55:05.983Z"
   },
   {
    "duration": 63,
    "start_time": "2023-04-04T12:55:06.019Z"
   },
   {
    "duration": 305,
    "start_time": "2023-04-04T12:55:06.084Z"
   },
   {
    "duration": 31,
    "start_time": "2023-04-04T12:55:06.392Z"
   },
   {
    "duration": 159,
    "start_time": "2023-04-04T12:55:06.425Z"
   },
   {
    "duration": 0,
    "start_time": "2023-04-04T12:55:06.586Z"
   },
   {
    "duration": 25,
    "start_time": "2023-04-04T12:56:30.948Z"
   },
   {
    "duration": 21,
    "start_time": "2023-04-04T12:56:58.005Z"
   },
   {
    "duration": 24,
    "start_time": "2023-04-04T12:58:35.611Z"
   },
   {
    "duration": 38,
    "start_time": "2023-04-04T12:58:47.460Z"
   },
   {
    "duration": 33,
    "start_time": "2023-04-04T12:59:12.245Z"
   },
   {
    "duration": 1657,
    "start_time": "2023-04-04T13:01:15.197Z"
   },
   {
    "duration": 33,
    "start_time": "2023-04-04T13:01:29.038Z"
   },
   {
    "duration": 34,
    "start_time": "2023-04-04T13:01:35.506Z"
   },
   {
    "duration": 30,
    "start_time": "2023-04-04T13:01:46.707Z"
   },
   {
    "duration": 1778,
    "start_time": "2023-04-04T13:03:46.354Z"
   },
   {
    "duration": 1369,
    "start_time": "2023-04-04T13:03:54.166Z"
   },
   {
    "duration": 1039,
    "start_time": "2023-04-04T13:03:55.537Z"
   },
   {
    "duration": 30,
    "start_time": "2023-04-04T13:03:56.582Z"
   },
   {
    "duration": 169,
    "start_time": "2023-04-04T13:03:56.615Z"
   },
   {
    "duration": 33,
    "start_time": "2023-04-04T13:03:56.786Z"
   },
   {
    "duration": 50,
    "start_time": "2023-04-04T13:03:56.821Z"
   },
   {
    "duration": 339,
    "start_time": "2023-04-04T13:03:56.873Z"
   },
   {
    "duration": 24,
    "start_time": "2023-04-04T13:03:57.213Z"
   },
   {
    "duration": 10,
    "start_time": "2023-04-04T13:03:57.239Z"
   },
   {
    "duration": 50,
    "start_time": "2023-04-04T13:03:57.267Z"
   },
   {
    "duration": 8,
    "start_time": "2023-04-04T13:03:57.319Z"
   },
   {
    "duration": 48,
    "start_time": "2023-04-04T13:03:57.329Z"
   },
   {
    "duration": 37,
    "start_time": "2023-04-04T13:03:57.379Z"
   },
   {
    "duration": 23,
    "start_time": "2023-04-04T13:03:57.424Z"
   },
   {
    "duration": 39,
    "start_time": "2023-04-04T13:03:57.449Z"
   },
   {
    "duration": 33,
    "start_time": "2023-04-04T13:03:57.490Z"
   },
   {
    "duration": 6,
    "start_time": "2023-04-04T13:03:57.525Z"
   },
   {
    "duration": 9,
    "start_time": "2023-04-04T13:03:57.532Z"
   },
   {
    "duration": 60,
    "start_time": "2023-04-04T13:03:57.542Z"
   },
   {
    "duration": 9,
    "start_time": "2023-04-04T13:03:57.603Z"
   },
   {
    "duration": 23,
    "start_time": "2023-04-04T13:03:57.613Z"
   },
   {
    "duration": 88,
    "start_time": "2023-04-04T13:03:57.637Z"
   },
   {
    "duration": 21,
    "start_time": "2023-04-04T13:03:57.726Z"
   },
   {
    "duration": 114,
    "start_time": "2023-04-04T13:03:57.749Z"
   },
   {
    "duration": 35,
    "start_time": "2023-04-04T13:03:57.881Z"
   },
   {
    "duration": 22,
    "start_time": "2023-04-04T13:03:57.918Z"
   },
   {
    "duration": 311,
    "start_time": "2023-04-04T13:03:57.942Z"
   },
   {
    "duration": 21,
    "start_time": "2023-04-04T13:03:58.257Z"
   },
   {
    "duration": 36,
    "start_time": "2023-04-04T13:03:58.284Z"
   },
   {
    "duration": 19,
    "start_time": "2023-04-04T13:03:58.322Z"
   },
   {
    "duration": 71,
    "start_time": "2023-04-04T13:03:58.343Z"
   },
   {
    "duration": 15,
    "start_time": "2023-04-04T13:03:58.416Z"
   },
   {
    "duration": 12,
    "start_time": "2023-04-04T13:03:58.433Z"
   },
   {
    "duration": 4,
    "start_time": "2023-04-04T13:03:58.447Z"
   },
   {
    "duration": 13,
    "start_time": "2023-04-04T13:03:58.465Z"
   },
   {
    "duration": 17,
    "start_time": "2023-04-04T13:03:58.480Z"
   },
   {
    "duration": 60,
    "start_time": "2023-04-04T13:03:58.499Z"
   },
   {
    "duration": 21,
    "start_time": "2023-04-04T13:03:58.561Z"
   },
   {
    "duration": 36,
    "start_time": "2023-04-04T13:03:58.584Z"
   },
   {
    "duration": 24,
    "start_time": "2023-04-04T13:03:58.622Z"
   },
   {
    "duration": 57,
    "start_time": "2023-04-04T13:03:58.648Z"
   },
   {
    "duration": 344,
    "start_time": "2023-04-04T13:03:58.707Z"
   },
   {
    "duration": 50,
    "start_time": "2023-04-04T13:03:59.053Z"
   },
   {
    "duration": 21,
    "start_time": "2023-04-04T13:03:59.104Z"
   },
   {
    "duration": 31,
    "start_time": "2023-04-04T13:03:59.126Z"
   },
   {
    "duration": 30,
    "start_time": "2023-04-04T13:03:59.158Z"
   },
   {
    "duration": 31,
    "start_time": "2023-04-04T13:03:59.189Z"
   },
   {
    "duration": 27,
    "start_time": "2023-04-04T13:03:59.222Z"
   },
   {
    "duration": 1951,
    "start_time": "2023-04-04T13:03:59.251Z"
   },
   {
    "duration": 0,
    "start_time": "2023-04-04T13:04:01.205Z"
   },
   {
    "duration": 366,
    "start_time": "2023-04-04T13:04:46.134Z"
   },
   {
    "duration": 454,
    "start_time": "2023-04-04T13:05:01.360Z"
   },
   {
    "duration": 387,
    "start_time": "2023-04-04T13:05:13.293Z"
   },
   {
    "duration": 580,
    "start_time": "2023-04-04T13:06:02.038Z"
   },
   {
    "duration": 18,
    "start_time": "2023-04-04T13:06:40.320Z"
   },
   {
    "duration": 15,
    "start_time": "2023-04-04T13:06:43.528Z"
   },
   {
    "duration": 33,
    "start_time": "2023-04-04T13:06:52.440Z"
   },
   {
    "duration": 200,
    "start_time": "2023-04-04T13:07:12.201Z"
   },
   {
    "duration": 122,
    "start_time": "2023-04-04T13:07:25.003Z"
   },
   {
    "duration": 462,
    "start_time": "2023-04-04T13:08:24.309Z"
   },
   {
    "duration": 110,
    "start_time": "2023-04-04T13:09:05.248Z"
   },
   {
    "duration": 28,
    "start_time": "2023-04-04T13:11:02.315Z"
   },
   {
    "duration": 59,
    "start_time": "2023-04-04T13:11:49.625Z"
   },
   {
    "duration": 77,
    "start_time": "2023-04-04T13:13:24.051Z"
   },
   {
    "duration": 1389,
    "start_time": "2023-04-04T13:13:49.256Z"
   },
   {
    "duration": 1089,
    "start_time": "2023-04-04T13:13:50.647Z"
   },
   {
    "duration": 18,
    "start_time": "2023-04-04T13:13:51.737Z"
   },
   {
    "duration": 199,
    "start_time": "2023-04-04T13:13:51.772Z"
   },
   {
    "duration": 39,
    "start_time": "2023-04-04T13:13:51.988Z"
   },
   {
    "duration": 56,
    "start_time": "2023-04-04T13:13:52.029Z"
   },
   {
    "duration": 361,
    "start_time": "2023-04-04T13:13:52.088Z"
   },
   {
    "duration": 54,
    "start_time": "2023-04-04T13:13:52.451Z"
   },
   {
    "duration": 17,
    "start_time": "2023-04-04T13:13:52.511Z"
   },
   {
    "duration": 73,
    "start_time": "2023-04-04T13:13:52.532Z"
   },
   {
    "duration": 7,
    "start_time": "2023-04-04T13:13:52.607Z"
   },
   {
    "duration": 30,
    "start_time": "2023-04-04T13:13:52.616Z"
   },
   {
    "duration": 66,
    "start_time": "2023-04-04T13:13:52.648Z"
   },
   {
    "duration": 22,
    "start_time": "2023-04-04T13:13:52.716Z"
   },
   {
    "duration": 49,
    "start_time": "2023-04-04T13:13:52.740Z"
   },
   {
    "duration": 31,
    "start_time": "2023-04-04T13:13:52.791Z"
   },
   {
    "duration": 11,
    "start_time": "2023-04-04T13:13:52.824Z"
   },
   {
    "duration": 7,
    "start_time": "2023-04-04T13:13:52.837Z"
   },
   {
    "duration": 56,
    "start_time": "2023-04-04T13:13:52.846Z"
   },
   {
    "duration": 7,
    "start_time": "2023-04-04T13:13:52.904Z"
   },
   {
    "duration": 38,
    "start_time": "2023-04-04T13:13:52.919Z"
   },
   {
    "duration": 74,
    "start_time": "2023-04-04T13:13:52.959Z"
   },
   {
    "duration": 53,
    "start_time": "2023-04-04T13:13:53.035Z"
   },
   {
    "duration": 70,
    "start_time": "2023-04-04T13:13:53.090Z"
   },
   {
    "duration": 41,
    "start_time": "2023-04-04T13:13:53.166Z"
   },
   {
    "duration": 21,
    "start_time": "2023-04-04T13:13:53.209Z"
   },
   {
    "duration": 400,
    "start_time": "2023-04-04T13:13:53.232Z"
   },
   {
    "duration": 13,
    "start_time": "2023-04-04T13:13:53.636Z"
   },
   {
    "duration": 58,
    "start_time": "2023-04-04T13:13:53.650Z"
   },
   {
    "duration": 28,
    "start_time": "2023-04-04T13:13:53.710Z"
   },
   {
    "duration": 49,
    "start_time": "2023-04-04T13:13:53.740Z"
   },
   {
    "duration": 28,
    "start_time": "2023-04-04T13:13:53.791Z"
   },
   {
    "duration": 19,
    "start_time": "2023-04-04T13:13:53.820Z"
   },
   {
    "duration": 6,
    "start_time": "2023-04-04T13:13:53.840Z"
   },
   {
    "duration": 26,
    "start_time": "2023-04-04T13:13:53.848Z"
   },
   {
    "duration": 16,
    "start_time": "2023-04-04T13:13:53.876Z"
   },
   {
    "duration": 30,
    "start_time": "2023-04-04T13:13:53.896Z"
   },
   {
    "duration": 6,
    "start_time": "2023-04-04T13:13:53.927Z"
   },
   {
    "duration": 15,
    "start_time": "2023-04-04T13:13:53.934Z"
   },
   {
    "duration": 46,
    "start_time": "2023-04-04T13:13:53.950Z"
   },
   {
    "duration": 43,
    "start_time": "2023-04-04T13:13:53.997Z"
   },
   {
    "duration": 416,
    "start_time": "2023-04-04T13:13:54.042Z"
   },
   {
    "duration": 87,
    "start_time": "2023-04-04T13:13:54.460Z"
   },
   {
    "duration": 66,
    "start_time": "2023-04-04T13:13:54.562Z"
   },
   {
    "duration": 27,
    "start_time": "2023-04-04T13:13:54.636Z"
   },
   {
    "duration": 41,
    "start_time": "2023-04-04T13:13:54.673Z"
   },
   {
    "duration": 38,
    "start_time": "2023-04-04T13:13:54.717Z"
   },
   {
    "duration": 77,
    "start_time": "2023-04-04T13:13:54.757Z"
   },
   {
    "duration": 48,
    "start_time": "2023-04-04T13:13:54.837Z"
   },
   {
    "duration": 65,
    "start_time": "2023-04-04T13:13:54.897Z"
   },
   {
    "duration": 88,
    "start_time": "2023-04-04T13:13:54.964Z"
   },
   {
    "duration": 24,
    "start_time": "2023-04-04T13:13:55.054Z"
   },
   {
    "duration": 151,
    "start_time": "2023-04-04T13:13:55.080Z"
   },
   {
    "duration": 255,
    "start_time": "2023-04-04T13:13:55.235Z"
   },
   {
    "duration": 488,
    "start_time": "2023-04-04T13:13:55.493Z"
   },
   {
    "duration": 6,
    "start_time": "2023-04-04T13:17:59.234Z"
   },
   {
    "duration": 495,
    "start_time": "2023-04-04T13:43:30.125Z"
   },
   {
    "duration": 5,
    "start_time": "2023-04-04T13:44:09.215Z"
   },
   {
    "duration": 14,
    "start_time": "2023-04-04T13:51:18.935Z"
   },
   {
    "duration": 85,
    "start_time": "2023-04-04T13:54:00.737Z"
   },
   {
    "duration": 715,
    "start_time": "2023-04-04T13:58:11.677Z"
   },
   {
    "duration": 134,
    "start_time": "2023-04-04T13:59:38.401Z"
   },
   {
    "duration": 89,
    "start_time": "2023-04-04T13:59:46.963Z"
   },
   {
    "duration": 31,
    "start_time": "2023-04-04T13:59:57.953Z"
   },
   {
    "duration": 47,
    "start_time": "2023-04-04T14:01:23.634Z"
   },
   {
    "duration": 13,
    "start_time": "2023-04-04T14:01:30.842Z"
   },
   {
    "duration": 13,
    "start_time": "2023-04-04T14:01:53.394Z"
   },
   {
    "duration": 1682,
    "start_time": "2023-04-04T14:04:37.375Z"
   },
   {
    "duration": 948,
    "start_time": "2023-04-04T14:04:39.059Z"
   },
   {
    "duration": 19,
    "start_time": "2023-04-04T14:04:40.008Z"
   },
   {
    "duration": 168,
    "start_time": "2023-04-04T14:04:40.029Z"
   },
   {
    "duration": 32,
    "start_time": "2023-04-04T14:04:40.200Z"
   },
   {
    "duration": 57,
    "start_time": "2023-04-04T14:04:40.234Z"
   },
   {
    "duration": 305,
    "start_time": "2023-04-04T14:04:40.293Z"
   },
   {
    "duration": 26,
    "start_time": "2023-04-04T14:04:40.600Z"
   },
   {
    "duration": 10,
    "start_time": "2023-04-04T14:04:40.628Z"
   },
   {
    "duration": 60,
    "start_time": "2023-04-04T14:04:40.639Z"
   },
   {
    "duration": 6,
    "start_time": "2023-04-04T14:04:40.701Z"
   },
   {
    "duration": 21,
    "start_time": "2023-04-04T14:04:40.708Z"
   },
   {
    "duration": 54,
    "start_time": "2023-04-04T14:04:40.731Z"
   },
   {
    "duration": 20,
    "start_time": "2023-04-04T14:04:40.789Z"
   },
   {
    "duration": 22,
    "start_time": "2023-04-04T14:04:40.811Z"
   },
   {
    "duration": 16,
    "start_time": "2023-04-04T14:04:40.835Z"
   },
   {
    "duration": 26,
    "start_time": "2023-04-04T14:04:40.862Z"
   },
   {
    "duration": 6,
    "start_time": "2023-04-04T14:04:40.890Z"
   },
   {
    "duration": 40,
    "start_time": "2023-04-04T14:04:40.898Z"
   },
   {
    "duration": 6,
    "start_time": "2023-04-04T14:04:40.940Z"
   },
   {
    "duration": 51,
    "start_time": "2023-04-04T14:04:40.947Z"
   },
   {
    "duration": 38,
    "start_time": "2023-04-04T14:04:41.000Z"
   },
   {
    "duration": 49,
    "start_time": "2023-04-04T14:04:41.039Z"
   },
   {
    "duration": 46,
    "start_time": "2023-04-04T14:04:41.090Z"
   },
   {
    "duration": 16,
    "start_time": "2023-04-04T14:04:41.138Z"
   },
   {
    "duration": 26,
    "start_time": "2023-04-04T14:04:41.162Z"
   },
   {
    "duration": 367,
    "start_time": "2023-04-04T14:04:41.190Z"
   },
   {
    "duration": 26,
    "start_time": "2023-04-04T14:04:41.558Z"
   },
   {
    "duration": 28,
    "start_time": "2023-04-04T14:04:41.590Z"
   },
   {
    "duration": 21,
    "start_time": "2023-04-04T14:04:41.619Z"
   },
   {
    "duration": 55,
    "start_time": "2023-04-04T14:04:41.642Z"
   },
   {
    "duration": 16,
    "start_time": "2023-04-04T14:04:41.698Z"
   },
   {
    "duration": 7,
    "start_time": "2023-04-04T14:04:41.715Z"
   },
   {
    "duration": 25,
    "start_time": "2023-04-04T14:04:41.724Z"
   },
   {
    "duration": 25,
    "start_time": "2023-04-04T14:04:41.751Z"
   },
   {
    "duration": 12,
    "start_time": "2023-04-04T14:04:41.779Z"
   },
   {
    "duration": 23,
    "start_time": "2023-04-04T14:04:41.793Z"
   },
   {
    "duration": 5,
    "start_time": "2023-04-04T14:04:41.818Z"
   },
   {
    "duration": 16,
    "start_time": "2023-04-04T14:04:41.824Z"
   },
   {
    "duration": 35,
    "start_time": "2023-04-04T14:04:41.842Z"
   },
   {
    "duration": 29,
    "start_time": "2023-04-04T14:04:41.889Z"
   },
   {
    "duration": 278,
    "start_time": "2023-04-04T14:04:41.919Z"
   },
   {
    "duration": 30,
    "start_time": "2023-04-04T14:04:42.199Z"
   },
   {
    "duration": 17,
    "start_time": "2023-04-04T14:04:42.231Z"
   },
   {
    "duration": 61,
    "start_time": "2023-04-04T14:04:42.250Z"
   },
   {
    "duration": 17,
    "start_time": "2023-04-04T14:04:42.313Z"
   },
   {
    "duration": 16,
    "start_time": "2023-04-04T14:04:42.332Z"
   },
   {
    "duration": 47,
    "start_time": "2023-04-04T14:04:42.350Z"
   },
   {
    "duration": 17,
    "start_time": "2023-04-04T14:04:42.398Z"
   },
   {
    "duration": 32,
    "start_time": "2023-04-04T14:04:42.417Z"
   },
   {
    "duration": 44,
    "start_time": "2023-04-04T14:04:42.451Z"
   },
   {
    "duration": 62,
    "start_time": "2023-04-04T14:04:42.497Z"
   },
   {
    "duration": 78,
    "start_time": "2023-04-04T14:04:42.563Z"
   },
   {
    "duration": 192,
    "start_time": "2023-04-04T14:04:42.642Z"
   },
   {
    "duration": 391,
    "start_time": "2023-04-04T14:04:42.836Z"
   },
   {
    "duration": 695,
    "start_time": "2023-04-04T14:04:43.229Z"
   },
   {
    "duration": 26,
    "start_time": "2023-04-04T14:04:43.926Z"
   },
   {
    "duration": 46,
    "start_time": "2023-04-04T14:04:43.962Z"
   },
   {
    "duration": 16,
    "start_time": "2023-04-04T14:04:44.010Z"
   },
   {
    "duration": 10,
    "start_time": "2023-04-04T14:04:44.028Z"
   },
   {
    "duration": 97,
    "start_time": "2023-04-04T14:06:38.091Z"
   },
   {
    "duration": 156,
    "start_time": "2023-04-04T14:15:58.855Z"
   },
   {
    "duration": 4,
    "start_time": "2023-04-04T14:16:48.824Z"
   },
   {
    "duration": 90,
    "start_time": "2023-04-04T14:16:55.392Z"
   },
   {
    "duration": 7,
    "start_time": "2023-04-04T14:17:42.889Z"
   },
   {
    "duration": 212,
    "start_time": "2023-04-04T14:18:58.848Z"
   },
   {
    "duration": 721,
    "start_time": "2023-04-04T14:20:06.195Z"
   },
   {
    "duration": 18,
    "start_time": "2023-04-04T14:20:22.009Z"
   },
   {
    "duration": 682,
    "start_time": "2023-04-04T14:20:39.512Z"
   },
   {
    "duration": 23,
    "start_time": "2023-04-04T14:20:40.736Z"
   },
   {
    "duration": 1899,
    "start_time": "2023-04-04T14:21:05.289Z"
   },
   {
    "duration": 1104,
    "start_time": "2023-04-04T14:21:07.190Z"
   },
   {
    "duration": 21,
    "start_time": "2023-04-04T14:21:08.297Z"
   },
   {
    "duration": 189,
    "start_time": "2023-04-04T14:21:08.320Z"
   },
   {
    "duration": 34,
    "start_time": "2023-04-04T14:21:08.515Z"
   },
   {
    "duration": 64,
    "start_time": "2023-04-04T14:21:08.550Z"
   },
   {
    "duration": 331,
    "start_time": "2023-04-04T14:21:08.617Z"
   },
   {
    "duration": 45,
    "start_time": "2023-04-04T14:21:08.950Z"
   },
   {
    "duration": 15,
    "start_time": "2023-04-04T14:21:08.996Z"
   },
   {
    "duration": 40,
    "start_time": "2023-04-04T14:21:09.012Z"
   },
   {
    "duration": 17,
    "start_time": "2023-04-04T14:21:09.064Z"
   },
   {
    "duration": 30,
    "start_time": "2023-04-04T14:21:09.083Z"
   },
   {
    "duration": 24,
    "start_time": "2023-04-04T14:21:09.115Z"
   },
   {
    "duration": 45,
    "start_time": "2023-04-04T14:21:09.142Z"
   },
   {
    "duration": 25,
    "start_time": "2023-04-04T14:21:09.196Z"
   },
   {
    "duration": 18,
    "start_time": "2023-04-04T14:21:09.223Z"
   },
   {
    "duration": 26,
    "start_time": "2023-04-04T14:21:09.243Z"
   },
   {
    "duration": 9,
    "start_time": "2023-04-04T14:21:09.271Z"
   },
   {
    "duration": 46,
    "start_time": "2023-04-04T14:21:09.284Z"
   },
   {
    "duration": 7,
    "start_time": "2023-04-04T14:21:09.332Z"
   },
   {
    "duration": 64,
    "start_time": "2023-04-04T14:21:09.341Z"
   },
   {
    "duration": 68,
    "start_time": "2023-04-04T14:21:09.407Z"
   },
   {
    "duration": 41,
    "start_time": "2023-04-04T14:21:09.477Z"
   },
   {
    "duration": 63,
    "start_time": "2023-04-04T14:21:09.520Z"
   },
   {
    "duration": 33,
    "start_time": "2023-04-04T14:21:09.589Z"
   },
   {
    "duration": 21,
    "start_time": "2023-04-04T14:21:09.624Z"
   },
   {
    "duration": 430,
    "start_time": "2023-04-04T14:21:09.647Z"
   },
   {
    "duration": 18,
    "start_time": "2023-04-04T14:21:10.085Z"
   },
   {
    "duration": 41,
    "start_time": "2023-04-04T14:21:10.105Z"
   },
   {
    "duration": 23,
    "start_time": "2023-04-04T14:21:10.148Z"
   },
   {
    "duration": 52,
    "start_time": "2023-04-04T14:21:10.179Z"
   },
   {
    "duration": 15,
    "start_time": "2023-04-04T14:21:10.233Z"
   },
   {
    "duration": 13,
    "start_time": "2023-04-04T14:21:10.264Z"
   },
   {
    "duration": 24,
    "start_time": "2023-04-04T14:21:10.278Z"
   },
   {
    "duration": 15,
    "start_time": "2023-04-04T14:21:10.304Z"
   },
   {
    "duration": 15,
    "start_time": "2023-04-04T14:21:10.320Z"
   },
   {
    "duration": 39,
    "start_time": "2023-04-04T14:21:10.337Z"
   },
   {
    "duration": 12,
    "start_time": "2023-04-04T14:21:10.385Z"
   },
   {
    "duration": 14,
    "start_time": "2023-04-04T14:21:10.402Z"
   },
   {
    "duration": 18,
    "start_time": "2023-04-04T14:21:10.418Z"
   },
   {
    "duration": 57,
    "start_time": "2023-04-04T14:21:10.440Z"
   },
   {
    "duration": 286,
    "start_time": "2023-04-04T14:21:10.498Z"
   },
   {
    "duration": 36,
    "start_time": "2023-04-04T14:21:10.785Z"
   },
   {
    "duration": 16,
    "start_time": "2023-04-04T14:21:10.823Z"
   },
   {
    "duration": 37,
    "start_time": "2023-04-04T14:21:10.841Z"
   },
   {
    "duration": 26,
    "start_time": "2023-04-04T14:21:10.879Z"
   },
   {
    "duration": 18,
    "start_time": "2023-04-04T14:21:10.907Z"
   },
   {
    "duration": 77,
    "start_time": "2023-04-04T14:21:10.926Z"
   },
   {
    "duration": 19,
    "start_time": "2023-04-04T14:21:11.005Z"
   },
   {
    "duration": 53,
    "start_time": "2023-04-04T14:21:11.025Z"
   },
   {
    "duration": 31,
    "start_time": "2023-04-04T14:21:11.079Z"
   },
   {
    "duration": 71,
    "start_time": "2023-04-04T14:21:11.112Z"
   },
   {
    "duration": 80,
    "start_time": "2023-04-04T14:21:11.188Z"
   },
   {
    "duration": 217,
    "start_time": "2023-04-04T14:21:11.269Z"
   },
   {
    "duration": 405,
    "start_time": "2023-04-04T14:21:11.488Z"
   },
   {
    "duration": 688,
    "start_time": "2023-04-04T14:21:11.895Z"
   },
   {
    "duration": 23,
    "start_time": "2023-04-04T14:21:12.585Z"
   },
   {
    "duration": 17,
    "start_time": "2023-04-04T14:21:12.610Z"
   },
   {
    "duration": 14,
    "start_time": "2023-04-04T14:21:12.629Z"
   },
   {
    "duration": 35,
    "start_time": "2023-04-04T14:21:12.645Z"
   },
   {
    "duration": 69,
    "start_time": "2023-04-04T14:21:12.686Z"
   },
   {
    "duration": 17,
    "start_time": "2023-04-04T14:21:12.757Z"
   },
   {
    "duration": 131,
    "start_time": "2023-04-04T14:21:12.782Z"
   },
   {
    "duration": 675,
    "start_time": "2023-04-04T14:21:35.929Z"
   },
   {
    "duration": 18,
    "start_time": "2023-04-04T14:21:36.982Z"
   },
   {
    "duration": 35,
    "start_time": "2023-04-04T14:22:00.657Z"
   },
   {
    "duration": 1717,
    "start_time": "2023-04-04T14:22:10.589Z"
   },
   {
    "duration": 986,
    "start_time": "2023-04-04T14:22:12.309Z"
   },
   {
    "duration": 20,
    "start_time": "2023-04-04T14:22:13.297Z"
   },
   {
    "duration": 191,
    "start_time": "2023-04-04T14:22:13.320Z"
   },
   {
    "duration": 40,
    "start_time": "2023-04-04T14:22:13.513Z"
   },
   {
    "duration": 50,
    "start_time": "2023-04-04T14:22:13.555Z"
   },
   {
    "duration": 331,
    "start_time": "2023-04-04T14:22:13.607Z"
   },
   {
    "duration": 44,
    "start_time": "2023-04-04T14:22:13.940Z"
   },
   {
    "duration": 23,
    "start_time": "2023-04-04T14:22:13.985Z"
   },
   {
    "duration": 40,
    "start_time": "2023-04-04T14:22:14.012Z"
   },
   {
    "duration": 13,
    "start_time": "2023-04-04T14:22:14.061Z"
   },
   {
    "duration": 36,
    "start_time": "2023-04-04T14:22:14.078Z"
   },
   {
    "duration": 51,
    "start_time": "2023-04-04T14:22:14.116Z"
   },
   {
    "duration": 37,
    "start_time": "2023-04-04T14:22:14.173Z"
   },
   {
    "duration": 25,
    "start_time": "2023-04-04T14:22:14.212Z"
   },
   {
    "duration": 61,
    "start_time": "2023-04-04T14:22:14.239Z"
   },
   {
    "duration": 9,
    "start_time": "2023-04-04T14:22:14.303Z"
   },
   {
    "duration": 10,
    "start_time": "2023-04-04T14:22:14.314Z"
   },
   {
    "duration": 63,
    "start_time": "2023-04-04T14:22:14.326Z"
   },
   {
    "duration": 9,
    "start_time": "2023-04-04T14:22:14.400Z"
   },
   {
    "duration": 22,
    "start_time": "2023-04-04T14:22:14.415Z"
   },
   {
    "duration": 49,
    "start_time": "2023-04-04T14:22:14.439Z"
   },
   {
    "duration": 23,
    "start_time": "2023-04-04T14:22:14.490Z"
   },
   {
    "duration": 75,
    "start_time": "2023-04-04T14:22:14.515Z"
   },
   {
    "duration": 16,
    "start_time": "2023-04-04T14:22:14.593Z"
   },
   {
    "duration": 17,
    "start_time": "2023-04-04T14:22:14.611Z"
   },
   {
    "duration": 389,
    "start_time": "2023-04-04T14:22:14.630Z"
   },
   {
    "duration": 13,
    "start_time": "2023-04-04T14:22:15.024Z"
   },
   {
    "duration": 50,
    "start_time": "2023-04-04T14:22:15.039Z"
   },
   {
    "duration": 22,
    "start_time": "2023-04-04T14:22:15.091Z"
   },
   {
    "duration": 49,
    "start_time": "2023-04-04T14:22:15.114Z"
   },
   {
    "duration": 28,
    "start_time": "2023-04-04T14:22:15.165Z"
   },
   {
    "duration": 19,
    "start_time": "2023-04-04T14:22:15.200Z"
   },
   {
    "duration": 12,
    "start_time": "2023-04-04T14:22:15.220Z"
   },
   {
    "duration": 17,
    "start_time": "2023-04-04T14:22:15.234Z"
   },
   {
    "duration": 27,
    "start_time": "2023-04-04T14:22:15.253Z"
   },
   {
    "duration": 29,
    "start_time": "2023-04-04T14:22:15.282Z"
   },
   {
    "duration": 5,
    "start_time": "2023-04-04T14:22:15.313Z"
   },
   {
    "duration": 16,
    "start_time": "2023-04-04T14:22:15.319Z"
   },
   {
    "duration": 28,
    "start_time": "2023-04-04T14:22:15.337Z"
   },
   {
    "duration": 45,
    "start_time": "2023-04-04T14:22:15.367Z"
   },
   {
    "duration": 290,
    "start_time": "2023-04-04T14:22:15.414Z"
   },
   {
    "duration": 29,
    "start_time": "2023-04-04T14:22:15.706Z"
   },
   {
    "duration": 27,
    "start_time": "2023-04-04T14:22:15.737Z"
   },
   {
    "duration": 34,
    "start_time": "2023-04-04T14:22:15.766Z"
   },
   {
    "duration": 14,
    "start_time": "2023-04-04T14:22:15.802Z"
   },
   {
    "duration": 21,
    "start_time": "2023-04-04T14:22:15.818Z"
   },
   {
    "duration": 57,
    "start_time": "2023-04-04T14:22:15.841Z"
   },
   {
    "duration": 17,
    "start_time": "2023-04-04T14:22:15.900Z"
   },
   {
    "duration": 44,
    "start_time": "2023-04-04T14:22:15.919Z"
   },
   {
    "duration": 29,
    "start_time": "2023-04-04T14:22:15.972Z"
   },
   {
    "duration": 72,
    "start_time": "2023-04-04T14:22:16.004Z"
   },
   {
    "duration": 86,
    "start_time": "2023-04-04T14:22:16.081Z"
   },
   {
    "duration": 173,
    "start_time": "2023-04-04T14:22:16.168Z"
   },
   {
    "duration": 329,
    "start_time": "2023-04-04T14:22:16.342Z"
   },
   {
    "duration": 745,
    "start_time": "2023-04-04T14:22:16.673Z"
   },
   {
    "duration": 18,
    "start_time": "2023-04-04T14:22:17.426Z"
   },
   {
    "duration": 29,
    "start_time": "2023-04-04T14:22:17.446Z"
   },
   {
    "duration": 16,
    "start_time": "2023-04-04T14:22:17.480Z"
   },
   {
    "duration": 16,
    "start_time": "2023-04-04T14:22:17.498Z"
   },
   {
    "duration": 103,
    "start_time": "2023-04-04T14:22:17.516Z"
   },
   {
    "duration": 4,
    "start_time": "2023-04-04T14:22:17.621Z"
   },
   {
    "duration": 148,
    "start_time": "2023-04-04T14:22:17.626Z"
   },
   {
    "duration": 16,
    "start_time": "2023-04-04T14:29:05.500Z"
   },
   {
    "duration": 82,
    "start_time": "2023-04-04T14:29:23.653Z"
   },
   {
    "duration": 1648,
    "start_time": "2023-04-04T14:30:57.442Z"
   },
   {
    "duration": 990,
    "start_time": "2023-04-04T14:30:59.092Z"
   },
   {
    "duration": 17,
    "start_time": "2023-04-04T14:31:00.086Z"
   },
   {
    "duration": 145,
    "start_time": "2023-04-04T14:31:00.106Z"
   },
   {
    "duration": 44,
    "start_time": "2023-04-04T14:31:00.253Z"
   },
   {
    "duration": 87,
    "start_time": "2023-04-04T14:31:00.298Z"
   },
   {
    "duration": 320,
    "start_time": "2023-04-04T14:31:00.389Z"
   },
   {
    "duration": 21,
    "start_time": "2023-04-04T14:31:00.711Z"
   },
   {
    "duration": 11,
    "start_time": "2023-04-04T14:31:00.734Z"
   },
   {
    "duration": 49,
    "start_time": "2023-04-04T14:31:00.761Z"
   },
   {
    "duration": 5,
    "start_time": "2023-04-04T14:31:00.812Z"
   },
   {
    "duration": 58,
    "start_time": "2023-04-04T14:31:00.818Z"
   },
   {
    "duration": 24,
    "start_time": "2023-04-04T14:31:00.885Z"
   },
   {
    "duration": 32,
    "start_time": "2023-04-04T14:31:00.911Z"
   },
   {
    "duration": 58,
    "start_time": "2023-04-04T14:31:00.946Z"
   },
   {
    "duration": 35,
    "start_time": "2023-04-04T14:31:01.005Z"
   },
   {
    "duration": 39,
    "start_time": "2023-04-04T14:31:01.041Z"
   },
   {
    "duration": 29,
    "start_time": "2023-04-04T14:31:01.085Z"
   },
   {
    "duration": 85,
    "start_time": "2023-04-04T14:31:01.116Z"
   },
   {
    "duration": 7,
    "start_time": "2023-04-04T14:31:01.202Z"
   },
   {
    "duration": 52,
    "start_time": "2023-04-04T14:31:01.210Z"
   },
   {
    "duration": 58,
    "start_time": "2023-04-04T14:31:01.265Z"
   },
   {
    "duration": 20,
    "start_time": "2023-04-04T14:31:01.325Z"
   },
   {
    "duration": 69,
    "start_time": "2023-04-04T14:31:01.346Z"
   },
   {
    "duration": 20,
    "start_time": "2023-04-04T14:31:01.417Z"
   },
   {
    "duration": 47,
    "start_time": "2023-04-04T14:31:01.438Z"
   },
   {
    "duration": 371,
    "start_time": "2023-04-04T14:31:01.486Z"
   },
   {
    "duration": 22,
    "start_time": "2023-04-04T14:31:01.863Z"
   },
   {
    "duration": 50,
    "start_time": "2023-04-04T14:31:01.888Z"
   },
   {
    "duration": 49,
    "start_time": "2023-04-04T14:31:01.939Z"
   },
   {
    "duration": 36,
    "start_time": "2023-04-04T14:31:01.993Z"
   },
   {
    "duration": 23,
    "start_time": "2023-04-04T14:31:02.031Z"
   },
   {
    "duration": 36,
    "start_time": "2023-04-04T14:31:02.056Z"
   },
   {
    "duration": 14,
    "start_time": "2023-04-04T14:31:02.094Z"
   },
   {
    "duration": 20,
    "start_time": "2023-04-04T14:31:02.109Z"
   },
   {
    "duration": 45,
    "start_time": "2023-04-04T14:31:02.131Z"
   },
   {
    "duration": 45,
    "start_time": "2023-04-04T14:31:02.177Z"
   },
   {
    "duration": 5,
    "start_time": "2023-04-04T14:31:02.224Z"
   },
   {
    "duration": 57,
    "start_time": "2023-04-04T14:31:02.231Z"
   },
   {
    "duration": 25,
    "start_time": "2023-04-04T14:31:02.289Z"
   },
   {
    "duration": 39,
    "start_time": "2023-04-04T14:31:02.316Z"
   },
   {
    "duration": 263,
    "start_time": "2023-04-04T14:31:02.356Z"
   },
   {
    "duration": 28,
    "start_time": "2023-04-04T14:31:02.621Z"
   },
   {
    "duration": 49,
    "start_time": "2023-04-04T14:31:02.651Z"
   },
   {
    "duration": 23,
    "start_time": "2023-04-04T14:31:02.702Z"
   },
   {
    "duration": 69,
    "start_time": "2023-04-04T14:31:02.727Z"
   },
   {
    "duration": 52,
    "start_time": "2023-04-04T14:31:02.798Z"
   },
   {
    "duration": 54,
    "start_time": "2023-04-04T14:31:02.851Z"
   },
   {
    "duration": 34,
    "start_time": "2023-04-04T14:31:02.906Z"
   },
   {
    "duration": 58,
    "start_time": "2023-04-04T14:31:02.941Z"
   },
   {
    "duration": 14,
    "start_time": "2023-04-04T14:31:03.001Z"
   },
   {
    "duration": 99,
    "start_time": "2023-04-04T14:31:03.016Z"
   },
   {
    "duration": 83,
    "start_time": "2023-04-04T14:31:03.117Z"
   },
   {
    "duration": 197,
    "start_time": "2023-04-04T14:31:03.202Z"
   },
   {
    "duration": 388,
    "start_time": "2023-04-04T14:31:03.401Z"
   },
   {
    "duration": 758,
    "start_time": "2023-04-04T14:31:03.793Z"
   },
   {
    "duration": 30,
    "start_time": "2023-04-04T14:31:04.553Z"
   },
   {
    "duration": 17,
    "start_time": "2023-04-04T14:31:04.587Z"
   },
   {
    "duration": 13,
    "start_time": "2023-04-04T14:31:04.606Z"
   },
   {
    "duration": 9,
    "start_time": "2023-04-04T14:31:04.621Z"
   },
   {
    "duration": 76,
    "start_time": "2023-04-04T14:31:04.632Z"
   },
   {
    "duration": 5,
    "start_time": "2023-04-04T14:31:04.709Z"
   },
   {
    "duration": 434,
    "start_time": "2023-04-04T14:31:04.715Z"
   },
   {
    "duration": 2094,
    "start_time": "2023-04-05T12:28:52.471Z"
   },
   {
    "duration": 3909,
    "start_time": "2023-04-05T12:28:54.568Z"
   },
   {
    "duration": 19,
    "start_time": "2023-04-05T12:28:58.478Z"
   },
   {
    "duration": 129,
    "start_time": "2023-04-05T12:28:58.499Z"
   },
   {
    "duration": 47,
    "start_time": "2023-04-05T12:28:58.631Z"
   },
   {
    "duration": 48,
    "start_time": "2023-04-05T12:28:58.680Z"
   },
   {
    "duration": 352,
    "start_time": "2023-04-05T12:28:58.730Z"
   },
   {
    "duration": 27,
    "start_time": "2023-04-05T12:28:59.084Z"
   },
   {
    "duration": 11,
    "start_time": "2023-04-05T12:28:59.113Z"
   },
   {
    "duration": 61,
    "start_time": "2023-04-05T12:28:59.126Z"
   },
   {
    "duration": 6,
    "start_time": "2023-04-05T12:28:59.189Z"
   },
   {
    "duration": 31,
    "start_time": "2023-04-05T12:28:59.197Z"
   },
   {
    "duration": 45,
    "start_time": "2023-04-05T12:28:59.241Z"
   },
   {
    "duration": 20,
    "start_time": "2023-04-05T12:28:59.291Z"
   },
   {
    "duration": 41,
    "start_time": "2023-04-05T12:28:59.314Z"
   },
   {
    "duration": 45,
    "start_time": "2023-04-05T12:28:59.357Z"
   },
   {
    "duration": 7,
    "start_time": "2023-04-05T12:28:59.404Z"
   },
   {
    "duration": 7,
    "start_time": "2023-04-05T12:28:59.413Z"
   },
   {
    "duration": 88,
    "start_time": "2023-04-05T12:28:59.421Z"
   },
   {
    "duration": 9,
    "start_time": "2023-04-05T12:28:59.512Z"
   },
   {
    "duration": 52,
    "start_time": "2023-04-05T12:28:59.523Z"
   },
   {
    "duration": 95,
    "start_time": "2023-04-05T12:28:59.576Z"
   },
   {
    "duration": 30,
    "start_time": "2023-04-05T12:28:59.673Z"
   },
   {
    "duration": 77,
    "start_time": "2023-04-05T12:28:59.713Z"
   },
   {
    "duration": 25,
    "start_time": "2023-04-05T12:28:59.793Z"
   },
   {
    "duration": 37,
    "start_time": "2023-04-05T12:28:59.820Z"
   },
   {
    "duration": 419,
    "start_time": "2023-04-05T12:28:59.860Z"
   },
   {
    "duration": 13,
    "start_time": "2023-04-05T12:29:00.281Z"
   },
   {
    "duration": 64,
    "start_time": "2023-04-05T12:29:00.296Z"
   },
   {
    "duration": 54,
    "start_time": "2023-04-05T12:29:00.362Z"
   },
   {
    "duration": 66,
    "start_time": "2023-04-05T12:29:00.418Z"
   },
   {
    "duration": 36,
    "start_time": "2023-04-05T12:29:00.486Z"
   },
   {
    "duration": 68,
    "start_time": "2023-04-05T12:29:00.524Z"
   },
   {
    "duration": 83,
    "start_time": "2023-04-05T12:29:00.594Z"
   },
   {
    "duration": 128,
    "start_time": "2023-04-05T12:29:00.679Z"
   },
   {
    "duration": 125,
    "start_time": "2023-04-05T12:29:00.809Z"
   },
   {
    "duration": 72,
    "start_time": "2023-04-05T12:29:00.936Z"
   },
   {
    "duration": 8,
    "start_time": "2023-04-05T12:29:01.010Z"
   },
   {
    "duration": 84,
    "start_time": "2023-04-05T12:29:01.020Z"
   },
   {
    "duration": 110,
    "start_time": "2023-04-05T12:29:01.106Z"
   },
   {
    "duration": 97,
    "start_time": "2023-04-05T12:29:01.222Z"
   },
   {
    "duration": 501,
    "start_time": "2023-04-05T12:29:01.322Z"
   },
   {
    "duration": 45,
    "start_time": "2023-04-05T12:29:01.828Z"
   },
   {
    "duration": 109,
    "start_time": "2023-04-05T12:29:01.876Z"
   },
   {
    "duration": 87,
    "start_time": "2023-04-05T12:29:01.987Z"
   },
   {
    "duration": 44,
    "start_time": "2023-04-05T12:29:02.076Z"
   },
   {
    "duration": 107,
    "start_time": "2023-04-05T12:29:02.122Z"
   },
   {
    "duration": 99,
    "start_time": "2023-04-05T12:29:02.231Z"
   },
   {
    "duration": 97,
    "start_time": "2023-04-05T12:29:02.333Z"
   },
   {
    "duration": 113,
    "start_time": "2023-04-05T12:29:02.433Z"
   },
   {
    "duration": 79,
    "start_time": "2023-04-05T12:29:02.548Z"
   },
   {
    "duration": 102,
    "start_time": "2023-04-05T12:29:02.630Z"
   },
   {
    "duration": 92,
    "start_time": "2023-04-05T12:29:02.734Z"
   },
   {
    "duration": 285,
    "start_time": "2023-04-05T12:29:02.829Z"
   },
   {
    "duration": 494,
    "start_time": "2023-04-05T12:29:03.117Z"
   },
   {
    "duration": 695,
    "start_time": "2023-04-05T12:29:03.614Z"
   },
   {
    "duration": 16,
    "start_time": "2023-04-05T12:29:04.311Z"
   },
   {
    "duration": 91,
    "start_time": "2023-04-05T12:29:04.329Z"
   },
   {
    "duration": 97,
    "start_time": "2023-04-05T12:29:04.421Z"
   },
   {
    "duration": 90,
    "start_time": "2023-04-05T12:29:04.520Z"
   },
   {
    "duration": 115,
    "start_time": "2023-04-05T12:29:04.612Z"
   },
   {
    "duration": 4,
    "start_time": "2023-04-05T12:29:04.729Z"
   },
   {
    "duration": 508,
    "start_time": "2023-04-05T12:29:04.736Z"
   },
   {
    "duration": 135,
    "start_time": "2023-04-05T12:39:22.310Z"
   },
   {
    "duration": 21,
    "start_time": "2023-04-05T12:39:25.981Z"
   },
   {
    "duration": 154,
    "start_time": "2023-04-05T12:39:29.615Z"
   },
   {
    "duration": 5,
    "start_time": "2023-04-05T12:39:55.126Z"
   },
   {
    "duration": 6,
    "start_time": "2023-04-05T12:40:02.479Z"
   },
   {
    "duration": 5,
    "start_time": "2023-04-05T12:41:01.662Z"
   },
   {
    "duration": 14,
    "start_time": "2023-04-05T13:11:29.566Z"
   },
   {
    "duration": 4,
    "start_time": "2023-04-05T13:15:31.610Z"
   },
   {
    "duration": 4,
    "start_time": "2023-04-05T13:16:36.363Z"
   },
   {
    "duration": 18,
    "start_time": "2023-04-05T13:16:42.617Z"
   },
   {
    "duration": 2647,
    "start_time": "2023-04-05T13:16:50.990Z"
   },
   {
    "duration": 3,
    "start_time": "2023-04-05T13:22:45.896Z"
   },
   {
    "duration": 1916,
    "start_time": "2023-04-05T13:22:49.286Z"
   },
   {
    "duration": 1568,
    "start_time": "2023-04-05T13:45:47.571Z"
   },
   {
    "duration": 937,
    "start_time": "2023-04-05T13:45:49.153Z"
   },
   {
    "duration": 18,
    "start_time": "2023-04-05T13:45:50.092Z"
   },
   {
    "duration": 140,
    "start_time": "2023-04-05T13:45:50.112Z"
   },
   {
    "duration": 35,
    "start_time": "2023-04-05T13:45:50.257Z"
   },
   {
    "duration": 75,
    "start_time": "2023-04-05T13:45:50.294Z"
   },
   {
    "duration": 310,
    "start_time": "2023-04-05T13:45:50.371Z"
   },
   {
    "duration": 37,
    "start_time": "2023-04-05T13:45:50.683Z"
   },
   {
    "duration": 35,
    "start_time": "2023-04-05T13:45:50.724Z"
   },
   {
    "duration": 55,
    "start_time": "2023-04-05T13:45:50.761Z"
   },
   {
    "duration": 7,
    "start_time": "2023-04-05T13:45:50.817Z"
   },
   {
    "duration": 50,
    "start_time": "2023-04-05T13:45:50.826Z"
   },
   {
    "duration": 56,
    "start_time": "2023-04-05T13:45:50.878Z"
   },
   {
    "duration": 42,
    "start_time": "2023-04-05T13:45:50.936Z"
   },
   {
    "duration": 46,
    "start_time": "2023-04-05T13:45:50.980Z"
   },
   {
    "duration": 34,
    "start_time": "2023-04-05T13:45:51.027Z"
   },
   {
    "duration": 33,
    "start_time": "2023-04-05T13:45:51.063Z"
   },
   {
    "duration": 73,
    "start_time": "2023-04-05T13:45:51.098Z"
   },
   {
    "duration": 59,
    "start_time": "2023-04-05T13:45:51.173Z"
   },
   {
    "duration": 8,
    "start_time": "2023-04-05T13:45:51.234Z"
   },
   {
    "duration": 37,
    "start_time": "2023-04-05T13:45:51.257Z"
   },
   {
    "duration": 64,
    "start_time": "2023-04-05T13:45:51.296Z"
   },
   {
    "duration": 20,
    "start_time": "2023-04-05T13:45:51.362Z"
   },
   {
    "duration": 78,
    "start_time": "2023-04-05T13:45:51.384Z"
   },
   {
    "duration": 15,
    "start_time": "2023-04-05T13:45:51.464Z"
   },
   {
    "duration": 31,
    "start_time": "2023-04-05T13:45:51.480Z"
   },
   {
    "duration": 297,
    "start_time": "2023-04-05T13:45:51.515Z"
   },
   {
    "duration": 14,
    "start_time": "2023-04-05T13:45:51.814Z"
   },
   {
    "duration": 43,
    "start_time": "2023-04-05T13:45:51.843Z"
   },
   {
    "duration": 26,
    "start_time": "2023-04-05T13:45:51.889Z"
   },
   {
    "duration": 92,
    "start_time": "2023-04-05T13:45:51.918Z"
   },
   {
    "duration": 13,
    "start_time": "2023-04-05T13:45:52.012Z"
   },
   {
    "duration": 44,
    "start_time": "2023-04-05T13:45:52.027Z"
   },
   {
    "duration": 40,
    "start_time": "2023-04-05T13:45:52.073Z"
   },
   {
    "duration": 18,
    "start_time": "2023-04-05T13:45:52.115Z"
   },
   {
    "duration": 45,
    "start_time": "2023-04-05T13:45:52.135Z"
   },
   {
    "duration": 34,
    "start_time": "2023-04-05T13:45:52.182Z"
   },
   {
    "duration": 7,
    "start_time": "2023-04-05T13:45:52.218Z"
   },
   {
    "duration": 29,
    "start_time": "2023-04-05T13:45:52.226Z"
   },
   {
    "duration": 42,
    "start_time": "2023-04-05T13:45:52.257Z"
   },
   {
    "duration": 55,
    "start_time": "2023-04-05T13:45:52.301Z"
   },
   {
    "duration": 401,
    "start_time": "2023-04-05T13:45:52.358Z"
   },
   {
    "duration": 28,
    "start_time": "2023-04-05T13:45:52.761Z"
   },
   {
    "duration": 33,
    "start_time": "2023-04-05T13:45:52.791Z"
   },
   {
    "duration": 69,
    "start_time": "2023-04-05T13:45:52.827Z"
   },
   {
    "duration": 27,
    "start_time": "2023-04-05T13:45:52.898Z"
   },
   {
    "duration": 48,
    "start_time": "2023-04-05T13:45:52.927Z"
   },
   {
    "duration": 55,
    "start_time": "2023-04-05T13:45:52.978Z"
   },
   {
    "duration": 70,
    "start_time": "2023-04-05T13:45:53.034Z"
   },
   {
    "duration": 39,
    "start_time": "2023-04-05T13:45:53.106Z"
   },
   {
    "duration": 60,
    "start_time": "2023-04-05T13:45:53.157Z"
   },
   {
    "duration": 141,
    "start_time": "2023-04-05T13:45:53.219Z"
   },
   {
    "duration": 61,
    "start_time": "2023-04-05T13:45:53.362Z"
   },
   {
    "duration": 202,
    "start_time": "2023-04-05T13:45:53.425Z"
   },
   {
    "duration": 343,
    "start_time": "2023-04-05T13:45:53.629Z"
   },
   {
    "duration": 589,
    "start_time": "2023-04-05T13:45:53.973Z"
   },
   {
    "duration": 18,
    "start_time": "2023-04-05T13:45:54.564Z"
   },
   {
    "duration": 50,
    "start_time": "2023-04-05T13:45:54.584Z"
   },
   {
    "duration": 36,
    "start_time": "2023-04-05T13:45:54.636Z"
   },
   {
    "duration": 25,
    "start_time": "2023-04-05T13:45:54.674Z"
   },
   {
    "duration": 114,
    "start_time": "2023-04-05T13:45:54.701Z"
   },
   {
    "duration": 4,
    "start_time": "2023-04-05T13:45:54.817Z"
   },
   {
    "duration": 497,
    "start_time": "2023-04-05T13:45:54.823Z"
   },
   {
    "duration": 124,
    "start_time": "2023-04-05T13:45:55.321Z"
   },
   {
    "duration": 112,
    "start_time": "2023-04-05T13:45:55.447Z"
   },
   {
    "duration": 17,
    "start_time": "2023-04-05T13:45:55.641Z"
   },
   {
    "duration": 113,
    "start_time": "2023-04-05T13:45:55.660Z"
   },
   {
    "duration": 3,
    "start_time": "2023-04-05T13:45:55.776Z"
   },
   {
    "duration": 1410,
    "start_time": "2023-04-05T13:45:55.781Z"
   },
   {
    "duration": 37,
    "start_time": "2023-04-05T13:51:05.236Z"
   },
   {
    "duration": 39,
    "start_time": "2023-04-05T13:52:02.317Z"
   },
   {
    "duration": 101,
    "start_time": "2023-04-05T13:52:12.580Z"
   },
   {
    "duration": 2,
    "start_time": "2023-04-05T13:53:26.788Z"
   },
   {
    "duration": 2942,
    "start_time": "2023-04-05T13:53:44.384Z"
   },
   {
    "duration": 98,
    "start_time": "2023-04-05T13:56:29.567Z"
   },
   {
    "duration": 3,
    "start_time": "2023-04-05T13:56:30.422Z"
   },
   {
    "duration": 975,
    "start_time": "2023-04-05T13:56:32.870Z"
   },
   {
    "duration": 1666,
    "start_time": "2023-04-05T13:57:28.657Z"
   },
   {
    "duration": 899,
    "start_time": "2023-04-05T13:57:30.328Z"
   },
   {
    "duration": 34,
    "start_time": "2023-04-05T13:57:31.229Z"
   },
   {
    "duration": 147,
    "start_time": "2023-04-05T13:57:31.265Z"
   },
   {
    "duration": 41,
    "start_time": "2023-04-05T13:57:31.415Z"
   },
   {
    "duration": 69,
    "start_time": "2023-04-05T13:57:31.459Z"
   },
   {
    "duration": 323,
    "start_time": "2023-04-05T13:57:31.530Z"
   },
   {
    "duration": 30,
    "start_time": "2023-04-05T13:57:31.859Z"
   },
   {
    "duration": 33,
    "start_time": "2023-04-05T13:57:31.891Z"
   },
   {
    "duration": 46,
    "start_time": "2023-04-05T13:57:31.925Z"
   },
   {
    "duration": 14,
    "start_time": "2023-04-05T13:57:31.973Z"
   },
   {
    "duration": 69,
    "start_time": "2023-04-05T13:57:31.989Z"
   },
   {
    "duration": 36,
    "start_time": "2023-04-05T13:57:32.060Z"
   },
   {
    "duration": 47,
    "start_time": "2023-04-05T13:57:32.098Z"
   },
   {
    "duration": 44,
    "start_time": "2023-04-05T13:57:32.149Z"
   },
   {
    "duration": 25,
    "start_time": "2023-04-05T13:57:32.196Z"
   },
   {
    "duration": 48,
    "start_time": "2023-04-05T13:57:32.223Z"
   },
   {
    "duration": 17,
    "start_time": "2023-04-05T13:57:32.273Z"
   },
   {
    "duration": 39,
    "start_time": "2023-04-05T13:57:32.293Z"
   },
   {
    "duration": 14,
    "start_time": "2023-04-05T13:57:32.335Z"
   },
   {
    "duration": 29,
    "start_time": "2023-04-05T13:57:32.357Z"
   },
   {
    "duration": 40,
    "start_time": "2023-04-05T13:57:32.388Z"
   },
   {
    "duration": 32,
    "start_time": "2023-04-05T13:57:32.430Z"
   },
   {
    "duration": 84,
    "start_time": "2023-04-05T13:57:32.464Z"
   },
   {
    "duration": 24,
    "start_time": "2023-04-05T13:57:32.550Z"
   },
   {
    "duration": 30,
    "start_time": "2023-04-05T13:57:32.576Z"
   },
   {
    "duration": 324,
    "start_time": "2023-04-05T13:57:32.612Z"
   },
   {
    "duration": 19,
    "start_time": "2023-04-05T13:57:32.940Z"
   },
   {
    "duration": 62,
    "start_time": "2023-04-05T13:57:32.962Z"
   },
   {
    "duration": 33,
    "start_time": "2023-04-05T13:57:33.027Z"
   },
   {
    "duration": 47,
    "start_time": "2023-04-05T13:57:33.062Z"
   },
   {
    "duration": 15,
    "start_time": "2023-04-05T13:57:33.111Z"
   },
   {
    "duration": 48,
    "start_time": "2023-04-05T13:57:33.127Z"
   },
   {
    "duration": 54,
    "start_time": "2023-04-05T13:57:33.177Z"
   },
   {
    "duration": 50,
    "start_time": "2023-04-05T13:57:33.234Z"
   },
   {
    "duration": 44,
    "start_time": "2023-04-05T13:57:33.286Z"
   },
   {
    "duration": 61,
    "start_time": "2023-04-05T13:57:33.332Z"
   },
   {
    "duration": 6,
    "start_time": "2023-04-05T13:57:33.395Z"
   },
   {
    "duration": 28,
    "start_time": "2023-04-05T13:57:33.403Z"
   },
   {
    "duration": 57,
    "start_time": "2023-04-05T13:57:33.433Z"
   },
   {
    "duration": 45,
    "start_time": "2023-04-05T13:57:33.492Z"
   },
   {
    "duration": 380,
    "start_time": "2023-04-05T13:57:33.539Z"
   },
   {
    "duration": 33,
    "start_time": "2023-04-05T13:57:33.921Z"
   },
   {
    "duration": 36,
    "start_time": "2023-04-05T13:57:33.956Z"
   },
   {
    "duration": 38,
    "start_time": "2023-04-05T13:57:33.994Z"
   },
   {
    "duration": 48,
    "start_time": "2023-04-05T13:57:34.035Z"
   },
   {
    "duration": 37,
    "start_time": "2023-04-05T13:57:34.085Z"
   },
   {
    "duration": 78,
    "start_time": "2023-04-05T13:57:34.125Z"
   },
   {
    "duration": 42,
    "start_time": "2023-04-05T13:57:34.205Z"
   },
   {
    "duration": 54,
    "start_time": "2023-04-05T13:57:34.250Z"
   },
   {
    "duration": 47,
    "start_time": "2023-04-05T13:57:34.306Z"
   },
   {
    "duration": 60,
    "start_time": "2023-04-05T13:57:34.359Z"
   },
   {
    "duration": 63,
    "start_time": "2023-04-05T13:57:34.421Z"
   },
   {
    "duration": 193,
    "start_time": "2023-04-05T13:57:34.486Z"
   },
   {
    "duration": 358,
    "start_time": "2023-04-05T13:57:34.682Z"
   },
   {
    "duration": 616,
    "start_time": "2023-04-05T13:57:35.046Z"
   },
   {
    "duration": 18,
    "start_time": "2023-04-05T13:57:35.666Z"
   },
   {
    "duration": 140,
    "start_time": "2023-04-05T13:57:35.686Z"
   },
   {
    "duration": 17,
    "start_time": "2023-04-05T13:57:35.828Z"
   },
   {
    "duration": 42,
    "start_time": "2023-04-05T13:57:35.847Z"
   },
   {
    "duration": 81,
    "start_time": "2023-04-05T13:57:35.891Z"
   },
   {
    "duration": 5,
    "start_time": "2023-04-05T13:57:35.974Z"
   },
   {
    "duration": 497,
    "start_time": "2023-04-05T13:57:35.982Z"
   },
   {
    "duration": 161,
    "start_time": "2023-04-05T13:57:36.481Z"
   },
   {
    "duration": 137,
    "start_time": "2023-04-05T13:57:36.644Z"
   },
   {
    "duration": 165,
    "start_time": "2023-04-05T13:57:36.785Z"
   },
   {
    "duration": 152,
    "start_time": "2023-04-05T13:57:36.952Z"
   },
   {
    "duration": 4,
    "start_time": "2023-04-05T13:57:37.106Z"
   },
   {
    "duration": 1664,
    "start_time": "2023-04-05T13:57:37.112Z"
   },
   {
    "duration": 10,
    "start_time": "2023-04-05T14:05:08.394Z"
   },
   {
    "duration": 2,
    "start_time": "2023-04-05T14:05:15.571Z"
   },
   {
    "duration": 3,
    "start_time": "2023-04-05T14:05:33.881Z"
   },
   {
    "duration": 13,
    "start_time": "2023-04-05T14:05:41.224Z"
   },
   {
    "duration": 15,
    "start_time": "2023-04-05T14:07:29.082Z"
   },
   {
    "duration": 6,
    "start_time": "2023-04-05T14:07:47.904Z"
   },
   {
    "duration": 14,
    "start_time": "2023-04-05T14:07:48.359Z"
   },
   {
    "duration": 11,
    "start_time": "2023-04-05T14:07:48.984Z"
   },
   {
    "duration": 90,
    "start_time": "2023-04-05T14:09:43.809Z"
   },
   {
    "duration": 7,
    "start_time": "2023-04-05T14:09:49.240Z"
   },
   {
    "duration": 1943,
    "start_time": "2023-04-05T14:09:54.520Z"
   },
   {
    "duration": 2244,
    "start_time": "2023-04-05T14:11:32.658Z"
   },
   {
    "duration": 88,
    "start_time": "2023-04-05T14:11:37.330Z"
   },
   {
    "duration": 2,
    "start_time": "2023-04-05T14:11:38.074Z"
   },
   {
    "duration": 1125,
    "start_time": "2023-04-05T14:11:39.150Z"
   },
   {
    "duration": 95,
    "start_time": "2023-04-05T14:12:53.563Z"
   },
   {
    "duration": 3,
    "start_time": "2023-04-05T14:12:54.610Z"
   },
   {
    "duration": 1161,
    "start_time": "2023-04-05T14:12:57.787Z"
   },
   {
    "duration": 1926,
    "start_time": "2023-04-05T14:17:05.211Z"
   },
   {
    "duration": 1008,
    "start_time": "2023-04-05T14:17:07.139Z"
   },
   {
    "duration": 23,
    "start_time": "2023-04-05T14:17:08.152Z"
   },
   {
    "duration": 149,
    "start_time": "2023-04-05T14:17:08.177Z"
   },
   {
    "duration": 36,
    "start_time": "2023-04-05T14:17:08.328Z"
   },
   {
    "duration": 62,
    "start_time": "2023-04-05T14:17:08.366Z"
   },
   {
    "duration": 420,
    "start_time": "2023-04-05T14:17:08.430Z"
   },
   {
    "duration": 31,
    "start_time": "2023-04-05T14:17:08.858Z"
   },
   {
    "duration": 23,
    "start_time": "2023-04-05T14:17:08.891Z"
   },
   {
    "duration": 58,
    "start_time": "2023-04-05T14:17:08.917Z"
   },
   {
    "duration": 28,
    "start_time": "2023-04-05T14:17:08.977Z"
   },
   {
    "duration": 30,
    "start_time": "2023-04-05T14:17:09.007Z"
   },
   {
    "duration": 43,
    "start_time": "2023-04-05T14:17:09.038Z"
   },
   {
    "duration": 19,
    "start_time": "2023-04-05T14:17:09.083Z"
   },
   {
    "duration": 42,
    "start_time": "2023-04-05T14:17:09.104Z"
   },
   {
    "duration": 33,
    "start_time": "2023-04-05T14:17:09.151Z"
   },
   {
    "duration": 29,
    "start_time": "2023-04-05T14:17:09.186Z"
   },
   {
    "duration": 12,
    "start_time": "2023-04-05T14:17:09.217Z"
   },
   {
    "duration": 61,
    "start_time": "2023-04-05T14:17:09.232Z"
   },
   {
    "duration": 7,
    "start_time": "2023-04-05T14:17:09.295Z"
   },
   {
    "duration": 45,
    "start_time": "2023-04-05T14:17:09.303Z"
   },
   {
    "duration": 69,
    "start_time": "2023-04-05T14:17:09.350Z"
   },
   {
    "duration": 19,
    "start_time": "2023-04-05T14:17:09.421Z"
   },
   {
    "duration": 81,
    "start_time": "2023-04-05T14:17:09.444Z"
   },
   {
    "duration": 22,
    "start_time": "2023-04-05T14:17:09.527Z"
   },
   {
    "duration": 33,
    "start_time": "2023-04-05T14:17:09.557Z"
   },
   {
    "duration": 286,
    "start_time": "2023-04-05T14:17:09.592Z"
   },
   {
    "duration": 15,
    "start_time": "2023-04-05T14:17:09.883Z"
   },
   {
    "duration": 158,
    "start_time": "2023-04-05T14:17:09.900Z"
   },
   {
    "duration": 22,
    "start_time": "2023-04-05T14:17:10.060Z"
   },
   {
    "duration": 54,
    "start_time": "2023-04-05T14:17:10.084Z"
   },
   {
    "duration": 20,
    "start_time": "2023-04-05T14:17:10.143Z"
   },
   {
    "duration": 14,
    "start_time": "2023-04-05T14:17:10.165Z"
   },
   {
    "duration": 14,
    "start_time": "2023-04-05T14:17:10.182Z"
   },
   {
    "duration": 11,
    "start_time": "2023-04-05T14:17:10.198Z"
   },
   {
    "duration": 15,
    "start_time": "2023-04-05T14:17:10.212Z"
   },
   {
    "duration": 53,
    "start_time": "2023-04-05T14:17:10.241Z"
   },
   {
    "duration": 7,
    "start_time": "2023-04-05T14:17:10.295Z"
   },
   {
    "duration": 31,
    "start_time": "2023-04-05T14:17:10.303Z"
   },
   {
    "duration": 57,
    "start_time": "2023-04-05T14:17:10.336Z"
   },
   {
    "duration": 38,
    "start_time": "2023-04-05T14:17:10.395Z"
   },
   {
    "duration": 284,
    "start_time": "2023-04-05T14:17:10.435Z"
   },
   {
    "duration": 48,
    "start_time": "2023-04-05T14:17:10.722Z"
   },
   {
    "duration": 22,
    "start_time": "2023-04-05T14:17:10.772Z"
   },
   {
    "duration": 64,
    "start_time": "2023-04-05T14:17:10.796Z"
   },
   {
    "duration": 23,
    "start_time": "2023-04-05T14:17:10.862Z"
   },
   {
    "duration": 45,
    "start_time": "2023-04-05T14:17:10.888Z"
   },
   {
    "duration": 55,
    "start_time": "2023-04-05T14:17:10.935Z"
   },
   {
    "duration": 24,
    "start_time": "2023-04-05T14:17:10.992Z"
   },
   {
    "duration": 51,
    "start_time": "2023-04-05T14:17:11.018Z"
   },
   {
    "duration": 38,
    "start_time": "2023-04-05T14:17:11.071Z"
   },
   {
    "duration": 67,
    "start_time": "2023-04-05T14:17:11.111Z"
   },
   {
    "duration": 72,
    "start_time": "2023-04-05T14:17:11.180Z"
   },
   {
    "duration": 156,
    "start_time": "2023-04-05T14:17:11.258Z"
   },
   {
    "duration": 342,
    "start_time": "2023-04-05T14:17:11.416Z"
   },
   {
    "duration": 651,
    "start_time": "2023-04-05T14:17:11.760Z"
   },
   {
    "duration": 19,
    "start_time": "2023-04-05T14:17:12.413Z"
   },
   {
    "duration": 22,
    "start_time": "2023-04-05T14:17:12.433Z"
   },
   {
    "duration": 30,
    "start_time": "2023-04-05T14:17:12.462Z"
   },
   {
    "duration": 14,
    "start_time": "2023-04-05T14:17:12.495Z"
   },
   {
    "duration": 57,
    "start_time": "2023-04-05T14:17:12.511Z"
   },
   {
    "duration": 37,
    "start_time": "2023-04-05T14:17:12.570Z"
   },
   {
    "duration": 12,
    "start_time": "2023-04-05T14:17:12.609Z"
   },
   {
    "duration": 124,
    "start_time": "2023-04-05T14:17:12.623Z"
   },
   {
    "duration": 5,
    "start_time": "2023-04-05T14:17:12.756Z"
   },
   {
    "duration": 124,
    "start_time": "2023-04-05T14:17:12.764Z"
   },
   {
    "duration": 1732,
    "start_time": "2023-04-05T14:17:38.379Z"
   },
   {
    "duration": 1776,
    "start_time": "2023-04-05T14:37:43.942Z"
   },
   {
    "duration": 1047,
    "start_time": "2023-04-05T14:37:45.720Z"
   },
   {
    "duration": 17,
    "start_time": "2023-04-05T14:37:46.769Z"
   },
   {
    "duration": 131,
    "start_time": "2023-04-05T14:37:46.788Z"
   },
   {
    "duration": 37,
    "start_time": "2023-04-05T14:37:46.921Z"
   },
   {
    "duration": 66,
    "start_time": "2023-04-05T14:37:46.960Z"
   },
   {
    "duration": 368,
    "start_time": "2023-04-05T14:37:47.027Z"
   },
   {
    "duration": 27,
    "start_time": "2023-04-05T14:37:47.396Z"
   },
   {
    "duration": 31,
    "start_time": "2023-04-05T14:37:47.425Z"
   },
   {
    "duration": 43,
    "start_time": "2023-04-05T14:37:47.460Z"
   },
   {
    "duration": 6,
    "start_time": "2023-04-05T14:37:47.505Z"
   },
   {
    "duration": 44,
    "start_time": "2023-04-05T14:37:47.513Z"
   },
   {
    "duration": 56,
    "start_time": "2023-04-05T14:37:47.559Z"
   },
   {
    "duration": 136,
    "start_time": "2023-04-05T14:37:47.617Z"
   },
   {
    "duration": 232,
    "start_time": "2023-04-05T14:37:47.755Z"
   },
   {
    "duration": 213,
    "start_time": "2023-04-05T14:37:47.990Z"
   },
   {
    "duration": 12,
    "start_time": "2023-04-05T14:37:48.205Z"
   },
   {
    "duration": 13,
    "start_time": "2023-04-05T14:37:48.218Z"
   },
   {
    "duration": 72,
    "start_time": "2023-04-05T14:37:48.233Z"
   },
   {
    "duration": 6,
    "start_time": "2023-04-05T14:37:48.306Z"
   },
   {
    "duration": 26,
    "start_time": "2023-04-05T14:37:48.314Z"
   },
   {
    "duration": 43,
    "start_time": "2023-04-05T14:37:48.348Z"
   },
   {
    "duration": 19,
    "start_time": "2023-04-05T14:37:48.393Z"
   },
   {
    "duration": 65,
    "start_time": "2023-04-05T14:37:48.414Z"
   },
   {
    "duration": 15,
    "start_time": "2023-04-05T14:37:48.482Z"
   },
   {
    "duration": 57,
    "start_time": "2023-04-05T14:37:48.499Z"
   },
   {
    "duration": 303,
    "start_time": "2023-04-05T14:37:48.559Z"
   },
   {
    "duration": 14,
    "start_time": "2023-04-05T14:37:48.866Z"
   },
   {
    "duration": 154,
    "start_time": "2023-04-05T14:37:48.882Z"
   },
   {
    "duration": 27,
    "start_time": "2023-04-05T14:37:49.038Z"
   },
   {
    "duration": 100,
    "start_time": "2023-04-05T14:37:49.067Z"
   },
   {
    "duration": 16,
    "start_time": "2023-04-05T14:37:49.168Z"
   },
   {
    "duration": 18,
    "start_time": "2023-04-05T14:37:49.186Z"
   },
   {
    "duration": 17,
    "start_time": "2023-04-05T14:37:49.206Z"
   },
   {
    "duration": 39,
    "start_time": "2023-04-05T14:37:49.225Z"
   },
   {
    "duration": 22,
    "start_time": "2023-04-05T14:37:49.266Z"
   },
   {
    "duration": 132,
    "start_time": "2023-04-05T14:37:49.290Z"
   },
   {
    "duration": 6,
    "start_time": "2023-04-05T14:37:49.424Z"
   },
   {
    "duration": 45,
    "start_time": "2023-04-05T14:37:49.432Z"
   },
   {
    "duration": 28,
    "start_time": "2023-04-05T14:37:49.479Z"
   },
   {
    "duration": 52,
    "start_time": "2023-04-05T14:37:49.509Z"
   },
   {
    "duration": 280,
    "start_time": "2023-04-05T14:37:49.563Z"
   },
   {
    "duration": 34,
    "start_time": "2023-04-05T14:37:49.846Z"
   },
   {
    "duration": 37,
    "start_time": "2023-04-05T14:37:49.882Z"
   },
   {
    "duration": 39,
    "start_time": "2023-04-05T14:37:49.921Z"
   },
   {
    "duration": 31,
    "start_time": "2023-04-05T14:37:49.962Z"
   },
   {
    "duration": 29,
    "start_time": "2023-04-05T14:37:49.995Z"
   },
   {
    "duration": 58,
    "start_time": "2023-04-05T14:37:50.025Z"
   },
   {
    "duration": 42,
    "start_time": "2023-04-05T14:37:50.085Z"
   },
   {
    "duration": 57,
    "start_time": "2023-04-05T14:37:50.129Z"
   },
   {
    "duration": 37,
    "start_time": "2023-04-05T14:37:50.187Z"
   },
   {
    "duration": 79,
    "start_time": "2023-04-05T14:37:50.226Z"
   },
   {
    "duration": 20,
    "start_time": "2023-04-05T14:37:50.307Z"
   },
   {
    "duration": 64,
    "start_time": "2023-04-05T14:37:50.329Z"
   },
   {
    "duration": 141,
    "start_time": "2023-04-05T14:37:50.394Z"
   },
   {
    "duration": 269,
    "start_time": "2023-04-05T14:37:50.537Z"
   },
   {
    "duration": 3,
    "start_time": "2023-04-05T14:37:50.808Z"
   },
   {
    "duration": 555,
    "start_time": "2023-04-05T14:37:50.813Z"
   },
   {
    "duration": 17,
    "start_time": "2023-04-05T14:37:51.370Z"
   },
   {
    "duration": 26,
    "start_time": "2023-04-05T14:37:51.389Z"
   },
   {
    "duration": 50,
    "start_time": "2023-04-05T14:37:51.417Z"
   },
   {
    "duration": 30,
    "start_time": "2023-04-05T14:37:51.468Z"
   },
   {
    "duration": 652,
    "start_time": "2023-04-05T14:48:07.651Z"
   },
   {
    "duration": 1630,
    "start_time": "2023-04-05T14:48:19.394Z"
   },
   {
    "duration": 1046,
    "start_time": "2023-04-05T14:48:21.026Z"
   },
   {
    "duration": 18,
    "start_time": "2023-04-05T14:48:22.074Z"
   },
   {
    "duration": 141,
    "start_time": "2023-04-05T14:48:22.095Z"
   },
   {
    "duration": 31,
    "start_time": "2023-04-05T14:48:22.242Z"
   },
   {
    "duration": 75,
    "start_time": "2023-04-05T14:48:22.276Z"
   },
   {
    "duration": 321,
    "start_time": "2023-04-05T14:48:22.354Z"
   },
   {
    "duration": 44,
    "start_time": "2023-04-05T14:48:22.677Z"
   },
   {
    "duration": 40,
    "start_time": "2023-04-05T14:48:22.723Z"
   },
   {
    "duration": 52,
    "start_time": "2023-04-05T14:48:22.768Z"
   },
   {
    "duration": 7,
    "start_time": "2023-04-05T14:48:22.822Z"
   },
   {
    "duration": 51,
    "start_time": "2023-04-05T14:48:22.844Z"
   },
   {
    "duration": 28,
    "start_time": "2023-04-05T14:48:22.897Z"
   },
   {
    "duration": 34,
    "start_time": "2023-04-05T14:48:22.927Z"
   },
   {
    "duration": 40,
    "start_time": "2023-04-05T14:48:22.964Z"
   },
   {
    "duration": 19,
    "start_time": "2023-04-05T14:48:23.006Z"
   },
   {
    "duration": 26,
    "start_time": "2023-04-05T14:48:23.027Z"
   },
   {
    "duration": 25,
    "start_time": "2023-04-05T14:48:23.059Z"
   },
   {
    "duration": 68,
    "start_time": "2023-04-05T14:48:23.086Z"
   },
   {
    "duration": 7,
    "start_time": "2023-04-05T14:48:23.159Z"
   },
   {
    "duration": 41,
    "start_time": "2023-04-05T14:48:23.167Z"
   },
   {
    "duration": 57,
    "start_time": "2023-04-05T14:48:23.211Z"
   },
   {
    "duration": 30,
    "start_time": "2023-04-05T14:48:23.270Z"
   },
   {
    "duration": 65,
    "start_time": "2023-04-05T14:48:23.302Z"
   },
   {
    "duration": 21,
    "start_time": "2023-04-05T14:48:23.369Z"
   },
   {
    "duration": 23,
    "start_time": "2023-04-05T14:48:23.392Z"
   },
   {
    "duration": 347,
    "start_time": "2023-04-05T14:48:23.417Z"
   },
   {
    "duration": 16,
    "start_time": "2023-04-05T14:48:23.768Z"
   },
   {
    "duration": 39,
    "start_time": "2023-04-05T14:48:23.785Z"
   },
   {
    "duration": 41,
    "start_time": "2023-04-05T14:48:23.826Z"
   },
   {
    "duration": 42,
    "start_time": "2023-04-05T14:48:23.868Z"
   },
   {
    "duration": 28,
    "start_time": "2023-04-05T14:48:23.912Z"
   },
   {
    "duration": 22,
    "start_time": "2023-04-05T14:48:23.943Z"
   },
   {
    "duration": 12,
    "start_time": "2023-04-05T14:48:23.967Z"
   },
   {
    "duration": 16,
    "start_time": "2023-04-05T14:48:23.981Z"
   },
   {
    "duration": 24,
    "start_time": "2023-04-05T14:48:23.999Z"
   },
   {
    "duration": 151,
    "start_time": "2023-04-05T14:48:24.026Z"
   },
   {
    "duration": 23,
    "start_time": "2023-04-05T14:48:24.179Z"
   },
   {
    "duration": 40,
    "start_time": "2023-04-05T14:48:24.204Z"
   },
   {
    "duration": 53,
    "start_time": "2023-04-05T14:48:24.254Z"
   },
   {
    "duration": 44,
    "start_time": "2023-04-05T14:48:24.309Z"
   },
   {
    "duration": 334,
    "start_time": "2023-04-05T14:48:24.359Z"
   },
   {
    "duration": 25,
    "start_time": "2023-04-05T14:48:24.695Z"
   },
   {
    "duration": 45,
    "start_time": "2023-04-05T14:48:24.722Z"
   },
   {
    "duration": 55,
    "start_time": "2023-04-05T14:48:24.770Z"
   },
   {
    "duration": 56,
    "start_time": "2023-04-05T14:48:24.827Z"
   },
   {
    "duration": 63,
    "start_time": "2023-04-05T14:48:24.886Z"
   },
   {
    "duration": 73,
    "start_time": "2023-04-05T14:48:24.954Z"
   },
   {
    "duration": 66,
    "start_time": "2023-04-05T14:48:25.029Z"
   },
   {
    "duration": 72,
    "start_time": "2023-04-05T14:48:25.098Z"
   },
   {
    "duration": 34,
    "start_time": "2023-04-05T14:48:25.172Z"
   },
   {
    "duration": 121,
    "start_time": "2023-04-05T14:48:25.208Z"
   },
   {
    "duration": 37,
    "start_time": "2023-04-05T14:48:25.331Z"
   },
   {
    "duration": 78,
    "start_time": "2023-04-05T14:48:25.370Z"
   },
   {
    "duration": 180,
    "start_time": "2023-04-05T14:48:25.450Z"
   },
   {
    "duration": 309,
    "start_time": "2023-04-05T14:48:25.632Z"
   },
   {
    "duration": 11,
    "start_time": "2023-04-05T14:48:25.943Z"
   },
   {
    "duration": 776,
    "start_time": "2023-04-05T14:48:25.956Z"
   },
   {
    "duration": 1,
    "start_time": "2023-04-05T14:48:26.734Z"
   },
   {
    "duration": 0,
    "start_time": "2023-04-05T14:48:26.737Z"
   },
   {
    "duration": 0,
    "start_time": "2023-04-05T14:48:26.751Z"
   },
   {
    "duration": 0,
    "start_time": "2023-04-05T14:48:26.752Z"
   },
   {
    "duration": 1686,
    "start_time": "2023-04-05T14:54:24.590Z"
   },
   {
    "duration": 984,
    "start_time": "2023-04-05T14:54:26.278Z"
   },
   {
    "duration": 19,
    "start_time": "2023-04-05T14:54:27.264Z"
   },
   {
    "duration": 139,
    "start_time": "2023-04-05T14:54:27.286Z"
   },
   {
    "duration": 42,
    "start_time": "2023-04-05T14:54:27.427Z"
   },
   {
    "duration": 53,
    "start_time": "2023-04-05T14:54:27.472Z"
   },
   {
    "duration": 328,
    "start_time": "2023-04-05T14:54:27.527Z"
   },
   {
    "duration": 29,
    "start_time": "2023-04-05T14:54:27.857Z"
   },
   {
    "duration": 14,
    "start_time": "2023-04-05T14:54:27.888Z"
   },
   {
    "duration": 68,
    "start_time": "2023-04-05T14:54:27.904Z"
   },
   {
    "duration": 6,
    "start_time": "2023-04-05T14:54:27.974Z"
   },
   {
    "duration": 37,
    "start_time": "2023-04-05T14:54:27.982Z"
   },
   {
    "duration": 37,
    "start_time": "2023-04-05T14:54:28.021Z"
   },
   {
    "duration": 39,
    "start_time": "2023-04-05T14:54:28.061Z"
   },
   {
    "duration": 34,
    "start_time": "2023-04-05T14:54:28.102Z"
   },
   {
    "duration": 25,
    "start_time": "2023-04-05T14:54:28.138Z"
   },
   {
    "duration": 17,
    "start_time": "2023-04-05T14:54:28.165Z"
   },
   {
    "duration": 9,
    "start_time": "2023-04-05T14:54:28.184Z"
   },
   {
    "duration": 59,
    "start_time": "2023-04-05T14:54:28.195Z"
   },
   {
    "duration": 7,
    "start_time": "2023-04-05T14:54:28.256Z"
   },
   {
    "duration": 32,
    "start_time": "2023-04-05T14:54:28.264Z"
   },
   {
    "duration": 55,
    "start_time": "2023-04-05T14:54:28.298Z"
   },
   {
    "duration": 19,
    "start_time": "2023-04-05T14:54:28.356Z"
   },
   {
    "duration": 76,
    "start_time": "2023-04-05T14:54:28.376Z"
   },
   {
    "duration": 14,
    "start_time": "2023-04-05T14:54:28.458Z"
   },
   {
    "duration": 39,
    "start_time": "2023-04-05T14:54:28.474Z"
   },
   {
    "duration": 283,
    "start_time": "2023-04-05T14:54:28.515Z"
   },
   {
    "duration": 21,
    "start_time": "2023-04-05T14:54:28.804Z"
   },
   {
    "duration": 54,
    "start_time": "2023-04-05T14:54:28.842Z"
   },
   {
    "duration": 42,
    "start_time": "2023-04-05T14:54:28.899Z"
   },
   {
    "duration": 82,
    "start_time": "2023-04-05T14:54:28.945Z"
   },
   {
    "duration": 15,
    "start_time": "2023-04-05T14:54:29.029Z"
   },
   {
    "duration": 33,
    "start_time": "2023-04-05T14:54:29.047Z"
   },
   {
    "duration": 13,
    "start_time": "2023-04-05T14:54:29.082Z"
   },
   {
    "duration": 11,
    "start_time": "2023-04-05T14:54:29.097Z"
   },
   {
    "duration": 16,
    "start_time": "2023-04-05T14:54:29.110Z"
   },
   {
    "duration": 140,
    "start_time": "2023-04-05T14:54:29.128Z"
   },
   {
    "duration": 7,
    "start_time": "2023-04-05T14:54:29.270Z"
   },
   {
    "duration": 28,
    "start_time": "2023-04-05T14:54:29.279Z"
   },
   {
    "duration": 27,
    "start_time": "2023-04-05T14:54:29.309Z"
   },
   {
    "duration": 43,
    "start_time": "2023-04-05T14:54:29.344Z"
   },
   {
    "duration": 286,
    "start_time": "2023-04-05T14:54:29.389Z"
   },
   {
    "duration": 29,
    "start_time": "2023-04-05T14:54:29.677Z"
   },
   {
    "duration": 28,
    "start_time": "2023-04-05T14:54:29.708Z"
   },
   {
    "duration": 37,
    "start_time": "2023-04-05T14:54:29.738Z"
   },
   {
    "duration": 13,
    "start_time": "2023-04-05T14:54:29.777Z"
   },
   {
    "duration": 36,
    "start_time": "2023-04-05T14:54:29.792Z"
   },
   {
    "duration": 37,
    "start_time": "2023-04-05T14:54:29.830Z"
   },
   {
    "duration": 27,
    "start_time": "2023-04-05T14:54:29.870Z"
   },
   {
    "duration": 25,
    "start_time": "2023-04-05T14:54:29.899Z"
   },
   {
    "duration": 33,
    "start_time": "2023-04-05T14:54:29.926Z"
   },
   {
    "duration": 97,
    "start_time": "2023-04-05T14:54:29.962Z"
   },
   {
    "duration": 31,
    "start_time": "2023-04-05T14:54:30.062Z"
   },
   {
    "duration": 104,
    "start_time": "2023-04-05T14:54:30.095Z"
   },
   {
    "duration": 160,
    "start_time": "2023-04-05T14:54:30.201Z"
   },
   {
    "duration": 296,
    "start_time": "2023-04-05T14:54:30.363Z"
   },
   {
    "duration": 3,
    "start_time": "2023-04-05T14:54:30.661Z"
   },
   {
    "duration": 57,
    "start_time": "2023-04-05T14:54:30.666Z"
   },
   {
    "duration": 137,
    "start_time": "2023-04-05T14:56:58.217Z"
   },
   {
    "duration": 1543,
    "start_time": "2023-04-05T14:57:09.634Z"
   },
   {
    "duration": 972,
    "start_time": "2023-04-05T14:57:11.179Z"
   },
   {
    "duration": 23,
    "start_time": "2023-04-05T14:57:12.154Z"
   },
   {
    "duration": 134,
    "start_time": "2023-04-05T14:57:12.179Z"
   },
   {
    "duration": 52,
    "start_time": "2023-04-05T14:57:12.315Z"
   },
   {
    "duration": 111,
    "start_time": "2023-04-05T14:57:12.370Z"
   },
   {
    "duration": 303,
    "start_time": "2023-04-05T14:57:12.484Z"
   },
   {
    "duration": 28,
    "start_time": "2023-04-05T14:57:12.789Z"
   },
   {
    "duration": 32,
    "start_time": "2023-04-05T14:57:12.819Z"
   },
   {
    "duration": 45,
    "start_time": "2023-04-05T14:57:12.858Z"
   },
   {
    "duration": 6,
    "start_time": "2023-04-05T14:57:12.905Z"
   },
   {
    "duration": 31,
    "start_time": "2023-04-05T14:57:12.913Z"
   },
   {
    "duration": 32,
    "start_time": "2023-04-05T14:57:12.946Z"
   },
   {
    "duration": 37,
    "start_time": "2023-04-05T14:57:12.980Z"
   },
   {
    "duration": 32,
    "start_time": "2023-04-05T14:57:13.019Z"
   },
   {
    "duration": 28,
    "start_time": "2023-04-05T14:57:13.053Z"
   },
   {
    "duration": 17,
    "start_time": "2023-04-05T14:57:13.083Z"
   },
   {
    "duration": 18,
    "start_time": "2023-04-05T14:57:13.102Z"
   },
   {
    "duration": 74,
    "start_time": "2023-04-05T14:57:13.122Z"
   },
   {
    "duration": 8,
    "start_time": "2023-04-05T14:57:13.199Z"
   },
   {
    "duration": 58,
    "start_time": "2023-04-05T14:57:13.209Z"
   },
   {
    "duration": 68,
    "start_time": "2023-04-05T14:57:13.269Z"
   },
   {
    "duration": 31,
    "start_time": "2023-04-05T14:57:13.338Z"
   },
   {
    "duration": 52,
    "start_time": "2023-04-05T14:57:13.371Z"
   },
   {
    "duration": 40,
    "start_time": "2023-04-05T14:57:13.425Z"
   },
   {
    "duration": 18,
    "start_time": "2023-04-05T14:57:13.467Z"
   },
   {
    "duration": 295,
    "start_time": "2023-04-05T14:57:13.487Z"
   },
   {
    "duration": 15,
    "start_time": "2023-04-05T14:57:13.786Z"
   },
   {
    "duration": 55,
    "start_time": "2023-04-05T14:57:13.803Z"
   },
   {
    "duration": 20,
    "start_time": "2023-04-05T14:57:13.860Z"
   },
   {
    "duration": 44,
    "start_time": "2023-04-05T14:57:13.882Z"
   },
   {
    "duration": 21,
    "start_time": "2023-04-05T14:57:13.953Z"
   },
   {
    "duration": 11,
    "start_time": "2023-04-05T14:57:13.976Z"
   },
   {
    "duration": 9,
    "start_time": "2023-04-05T14:57:13.989Z"
   },
   {
    "duration": 24,
    "start_time": "2023-04-05T14:57:13.999Z"
   },
   {
    "duration": 44,
    "start_time": "2023-04-05T14:57:14.024Z"
   },
   {
    "duration": 125,
    "start_time": "2023-04-05T14:57:14.069Z"
   },
   {
    "duration": 6,
    "start_time": "2023-04-05T14:57:14.196Z"
   },
   {
    "duration": 14,
    "start_time": "2023-04-05T14:57:14.204Z"
   },
   {
    "duration": 43,
    "start_time": "2023-04-05T14:57:14.220Z"
   },
   {
    "duration": 24,
    "start_time": "2023-04-05T14:57:14.265Z"
   },
   {
    "duration": 262,
    "start_time": "2023-04-05T14:57:14.291Z"
   },
   {
    "duration": 25,
    "start_time": "2023-04-05T14:57:14.555Z"
   },
   {
    "duration": 20,
    "start_time": "2023-04-05T14:57:14.582Z"
   },
   {
    "duration": 28,
    "start_time": "2023-04-05T14:57:14.603Z"
   },
   {
    "duration": 17,
    "start_time": "2023-04-05T14:57:14.633Z"
   },
   {
    "duration": 37,
    "start_time": "2023-04-05T14:57:14.654Z"
   },
   {
    "duration": 36,
    "start_time": "2023-04-05T14:57:14.693Z"
   },
   {
    "duration": 39,
    "start_time": "2023-04-05T14:57:14.731Z"
   },
   {
    "duration": 25,
    "start_time": "2023-04-05T14:57:14.772Z"
   },
   {
    "duration": 39,
    "start_time": "2023-04-05T14:57:14.799Z"
   },
   {
    "duration": 66,
    "start_time": "2023-04-05T14:57:14.840Z"
   },
   {
    "duration": 18,
    "start_time": "2023-04-05T14:57:14.908Z"
   },
   {
    "duration": 60,
    "start_time": "2023-04-05T14:57:14.928Z"
   },
   {
    "duration": 130,
    "start_time": "2023-04-05T14:57:14.989Z"
   },
   {
    "duration": 272,
    "start_time": "2023-04-05T14:57:15.120Z"
   },
   {
    "duration": 3,
    "start_time": "2023-04-05T14:57:15.394Z"
   },
   {
    "duration": 28,
    "start_time": "2023-04-05T14:57:15.399Z"
   },
   {
    "duration": 133,
    "start_time": "2023-04-05T14:58:19.940Z"
   },
   {
    "duration": 1568,
    "start_time": "2023-04-05T14:58:26.507Z"
   },
   {
    "duration": 990,
    "start_time": "2023-04-05T14:58:28.077Z"
   },
   {
    "duration": 18,
    "start_time": "2023-04-05T14:58:29.069Z"
   },
   {
    "duration": 145,
    "start_time": "2023-04-05T14:58:29.090Z"
   },
   {
    "duration": 47,
    "start_time": "2023-04-05T14:58:29.238Z"
   },
   {
    "duration": 71,
    "start_time": "2023-04-05T14:58:29.288Z"
   },
   {
    "duration": 339,
    "start_time": "2023-04-05T14:58:29.361Z"
   },
   {
    "duration": 50,
    "start_time": "2023-04-05T14:58:29.703Z"
   },
   {
    "duration": 14,
    "start_time": "2023-04-05T14:58:29.758Z"
   },
   {
    "duration": 67,
    "start_time": "2023-04-05T14:58:29.775Z"
   },
   {
    "duration": 8,
    "start_time": "2023-04-05T14:58:29.846Z"
   },
   {
    "duration": 37,
    "start_time": "2023-04-05T14:58:29.857Z"
   },
   {
    "duration": 36,
    "start_time": "2023-04-05T14:58:29.895Z"
   },
   {
    "duration": 30,
    "start_time": "2023-04-05T14:58:29.933Z"
   },
   {
    "duration": 24,
    "start_time": "2023-04-05T14:58:29.965Z"
   },
   {
    "duration": 15,
    "start_time": "2023-04-05T14:58:29.991Z"
   },
   {
    "duration": 27,
    "start_time": "2023-04-05T14:58:30.008Z"
   },
   {
    "duration": 46,
    "start_time": "2023-04-05T14:58:30.043Z"
   },
   {
    "duration": 74,
    "start_time": "2023-04-05T14:58:30.091Z"
   },
   {
    "duration": 26,
    "start_time": "2023-04-05T14:58:30.167Z"
   },
   {
    "duration": 94,
    "start_time": "2023-04-05T14:58:30.195Z"
   },
   {
    "duration": 124,
    "start_time": "2023-04-05T14:58:30.291Z"
   },
   {
    "duration": 49,
    "start_time": "2023-04-05T14:58:30.417Z"
   },
   {
    "duration": 93,
    "start_time": "2023-04-05T14:58:30.469Z"
   },
   {
    "duration": 41,
    "start_time": "2023-04-05T14:58:30.564Z"
   },
   {
    "duration": 92,
    "start_time": "2023-04-05T14:58:30.607Z"
   },
   {
    "duration": 334,
    "start_time": "2023-04-05T14:58:30.701Z"
   },
   {
    "duration": 18,
    "start_time": "2023-04-05T14:58:31.039Z"
   },
   {
    "duration": 67,
    "start_time": "2023-04-05T14:58:31.063Z"
   },
   {
    "duration": 34,
    "start_time": "2023-04-05T14:58:31.132Z"
   },
   {
    "duration": 63,
    "start_time": "2023-04-05T14:58:31.168Z"
   },
   {
    "duration": 23,
    "start_time": "2023-04-05T14:58:31.233Z"
   },
   {
    "duration": 50,
    "start_time": "2023-04-05T14:58:31.259Z"
   },
   {
    "duration": 65,
    "start_time": "2023-04-05T14:58:31.312Z"
   },
   {
    "duration": 50,
    "start_time": "2023-04-05T14:58:31.379Z"
   },
   {
    "duration": 70,
    "start_time": "2023-04-05T14:58:31.447Z"
   },
   {
    "duration": 168,
    "start_time": "2023-04-05T14:58:31.519Z"
   },
   {
    "duration": 10,
    "start_time": "2023-04-05T14:58:31.689Z"
   },
   {
    "duration": 40,
    "start_time": "2023-04-05T14:58:31.700Z"
   },
   {
    "duration": 57,
    "start_time": "2023-04-05T14:58:31.746Z"
   },
   {
    "duration": 92,
    "start_time": "2023-04-05T14:58:31.804Z"
   },
   {
    "duration": 306,
    "start_time": "2023-04-05T14:58:31.898Z"
   },
   {
    "duration": 39,
    "start_time": "2023-04-05T14:58:32.206Z"
   },
   {
    "duration": 35,
    "start_time": "2023-04-05T14:58:32.249Z"
   },
   {
    "duration": 31,
    "start_time": "2023-04-05T14:58:32.286Z"
   },
   {
    "duration": 62,
    "start_time": "2023-04-05T14:58:32.319Z"
   },
   {
    "duration": 24,
    "start_time": "2023-04-05T14:58:32.383Z"
   },
   {
    "duration": 51,
    "start_time": "2023-04-05T14:58:32.409Z"
   },
   {
    "duration": 22,
    "start_time": "2023-04-05T14:58:32.463Z"
   },
   {
    "duration": 28,
    "start_time": "2023-04-05T14:58:32.487Z"
   },
   {
    "duration": 40,
    "start_time": "2023-04-05T14:58:32.517Z"
   },
   {
    "duration": 71,
    "start_time": "2023-04-05T14:58:32.559Z"
   },
   {
    "duration": 27,
    "start_time": "2023-04-05T14:58:32.633Z"
   },
   {
    "duration": 65,
    "start_time": "2023-04-05T14:58:32.661Z"
   },
   {
    "duration": 179,
    "start_time": "2023-04-05T14:58:32.728Z"
   },
   {
    "duration": 301,
    "start_time": "2023-04-05T14:58:32.909Z"
   },
   {
    "duration": 3,
    "start_time": "2023-04-05T14:58:33.213Z"
   },
   {
    "duration": 37,
    "start_time": "2023-04-05T14:58:33.218Z"
   },
   {
    "duration": 3,
    "start_time": "2023-04-05T15:04:43.091Z"
   },
   {
    "duration": 3,
    "start_time": "2023-04-05T15:05:16.291Z"
   },
   {
    "duration": 693,
    "start_time": "2023-04-05T15:10:23.725Z"
   },
   {
    "duration": 28,
    "start_time": "2023-04-05T15:13:21.302Z"
   },
   {
    "duration": 1598,
    "start_time": "2023-04-05T15:13:40.591Z"
   },
   {
    "duration": 915,
    "start_time": "2023-04-05T15:13:42.191Z"
   },
   {
    "duration": 17,
    "start_time": "2023-04-05T15:13:43.108Z"
   },
   {
    "duration": 152,
    "start_time": "2023-04-05T15:13:43.128Z"
   },
   {
    "duration": 31,
    "start_time": "2023-04-05T15:13:43.283Z"
   },
   {
    "duration": 62,
    "start_time": "2023-04-05T15:13:43.316Z"
   },
   {
    "duration": 301,
    "start_time": "2023-04-05T15:13:43.380Z"
   },
   {
    "duration": 29,
    "start_time": "2023-04-05T15:13:43.683Z"
   },
   {
    "duration": 30,
    "start_time": "2023-04-05T15:13:43.714Z"
   },
   {
    "duration": 48,
    "start_time": "2023-04-05T15:13:43.748Z"
   },
   {
    "duration": 6,
    "start_time": "2023-04-05T15:13:43.798Z"
   },
   {
    "duration": 45,
    "start_time": "2023-04-05T15:13:43.806Z"
   },
   {
    "duration": 50,
    "start_time": "2023-04-05T15:13:43.857Z"
   },
   {
    "duration": 61,
    "start_time": "2023-04-05T15:13:43.909Z"
   },
   {
    "duration": 24,
    "start_time": "2023-04-05T15:13:43.972Z"
   },
   {
    "duration": 19,
    "start_time": "2023-04-05T15:13:43.997Z"
   },
   {
    "duration": 18,
    "start_time": "2023-04-05T15:13:44.018Z"
   },
   {
    "duration": 22,
    "start_time": "2023-04-05T15:13:44.038Z"
   },
   {
    "duration": 52,
    "start_time": "2023-04-05T15:13:44.063Z"
   },
   {
    "duration": 6,
    "start_time": "2023-04-05T15:13:44.117Z"
   },
   {
    "duration": 33,
    "start_time": "2023-04-05T15:13:44.125Z"
   },
   {
    "duration": 47,
    "start_time": "2023-04-05T15:13:44.160Z"
   },
   {
    "duration": 18,
    "start_time": "2023-04-05T15:13:44.208Z"
   },
   {
    "duration": 73,
    "start_time": "2023-04-05T15:13:44.227Z"
   },
   {
    "duration": 14,
    "start_time": "2023-04-05T15:13:44.302Z"
   },
   {
    "duration": 39,
    "start_time": "2023-04-05T15:13:44.317Z"
   },
   {
    "duration": 270,
    "start_time": "2023-04-05T15:13:44.358Z"
   },
   {
    "duration": 39,
    "start_time": "2023-04-05T15:13:44.632Z"
   },
   {
    "duration": 35,
    "start_time": "2023-04-05T15:13:44.675Z"
   },
   {
    "duration": 18,
    "start_time": "2023-04-05T15:13:44.712Z"
   },
   {
    "duration": 49,
    "start_time": "2023-04-05T15:13:44.732Z"
   },
   {
    "duration": 13,
    "start_time": "2023-04-05T15:13:44.783Z"
   },
   {
    "duration": 10,
    "start_time": "2023-04-05T15:13:44.798Z"
   },
   {
    "duration": 7,
    "start_time": "2023-04-05T15:13:44.810Z"
   },
   {
    "duration": 23,
    "start_time": "2023-04-05T15:13:44.819Z"
   },
   {
    "duration": 16,
    "start_time": "2023-04-05T15:13:44.843Z"
   },
   {
    "duration": 137,
    "start_time": "2023-04-05T15:13:44.861Z"
   },
   {
    "duration": 6,
    "start_time": "2023-04-05T15:13:45.000Z"
   },
   {
    "duration": 49,
    "start_time": "2023-04-05T15:13:45.008Z"
   },
   {
    "duration": 40,
    "start_time": "2023-04-05T15:13:45.059Z"
   },
   {
    "duration": 54,
    "start_time": "2023-04-05T15:13:45.100Z"
   },
   {
    "duration": 298,
    "start_time": "2023-04-05T15:13:45.156Z"
   },
   {
    "duration": 26,
    "start_time": "2023-04-05T15:13:45.456Z"
   },
   {
    "duration": 18,
    "start_time": "2023-04-05T15:13:45.484Z"
   },
   {
    "duration": 24,
    "start_time": "2023-04-05T15:13:45.504Z"
   },
   {
    "duration": 28,
    "start_time": "2023-04-05T15:13:45.530Z"
   },
   {
    "duration": 24,
    "start_time": "2023-04-05T15:13:45.560Z"
   },
   {
    "duration": 29,
    "start_time": "2023-04-05T15:13:45.585Z"
   },
   {
    "duration": 38,
    "start_time": "2023-04-05T15:13:45.615Z"
   },
   {
    "duration": 27,
    "start_time": "2023-04-05T15:13:45.658Z"
   },
   {
    "duration": 15,
    "start_time": "2023-04-05T15:13:45.687Z"
   },
   {
    "duration": 62,
    "start_time": "2023-04-05T15:13:45.704Z"
   },
   {
    "duration": 18,
    "start_time": "2023-04-05T15:13:45.770Z"
   },
   {
    "duration": 59,
    "start_time": "2023-04-05T15:13:45.790Z"
   },
   {
    "duration": 171,
    "start_time": "2023-04-05T15:13:45.851Z"
   },
   {
    "duration": 315,
    "start_time": "2023-04-05T15:13:46.024Z"
   },
   {
    "duration": 12,
    "start_time": "2023-04-05T15:13:46.341Z"
   },
   {
    "duration": 547,
    "start_time": "2023-04-05T15:13:46.358Z"
   },
   {
    "duration": 18,
    "start_time": "2023-04-05T15:14:43.870Z"
   },
   {
    "duration": 51,
    "start_time": "2023-04-05T15:16:16.470Z"
   },
   {
    "duration": 4,
    "start_time": "2023-04-05T15:17:01.935Z"
   },
   {
    "duration": 3,
    "start_time": "2023-04-05T15:19:39.320Z"
   },
   {
    "duration": 91,
    "start_time": "2023-04-05T15:19:42.494Z"
   },
   {
    "duration": 125,
    "start_time": "2023-04-05T15:21:54.626Z"
   },
   {
    "duration": 1574,
    "start_time": "2023-04-05T15:23:00.734Z"
   },
   {
    "duration": 947,
    "start_time": "2023-04-05T15:23:02.310Z"
   },
   {
    "duration": 21,
    "start_time": "2023-04-05T15:23:03.259Z"
   },
   {
    "duration": 129,
    "start_time": "2023-04-05T15:23:03.282Z"
   },
   {
    "duration": 45,
    "start_time": "2023-04-05T15:23:03.412Z"
   },
   {
    "duration": 56,
    "start_time": "2023-04-05T15:23:03.460Z"
   },
   {
    "duration": 283,
    "start_time": "2023-04-05T15:23:03.518Z"
   },
   {
    "duration": 42,
    "start_time": "2023-04-05T15:23:03.804Z"
   },
   {
    "duration": 12,
    "start_time": "2023-04-05T15:23:03.857Z"
   },
   {
    "duration": 44,
    "start_time": "2023-04-05T15:23:03.872Z"
   },
   {
    "duration": 5,
    "start_time": "2023-04-05T15:23:03.919Z"
   },
   {
    "duration": 37,
    "start_time": "2023-04-05T15:23:03.926Z"
   },
   {
    "duration": 28,
    "start_time": "2023-04-05T15:23:03.964Z"
   },
   {
    "duration": 26,
    "start_time": "2023-04-05T15:23:03.994Z"
   },
   {
    "duration": 30,
    "start_time": "2023-04-05T15:23:04.022Z"
   },
   {
    "duration": 19,
    "start_time": "2023-04-05T15:23:04.056Z"
   },
   {
    "duration": 18,
    "start_time": "2023-04-05T15:23:04.077Z"
   },
   {
    "duration": 9,
    "start_time": "2023-04-05T15:23:04.097Z"
   },
   {
    "duration": 75,
    "start_time": "2023-04-05T15:23:04.108Z"
   },
   {
    "duration": 6,
    "start_time": "2023-04-05T15:23:04.185Z"
   },
   {
    "duration": 33,
    "start_time": "2023-04-05T15:23:04.192Z"
   },
   {
    "duration": 52,
    "start_time": "2023-04-05T15:23:04.227Z"
   },
   {
    "duration": 19,
    "start_time": "2023-04-05T15:23:04.281Z"
   },
   {
    "duration": 90,
    "start_time": "2023-04-05T15:23:04.302Z"
   },
   {
    "duration": 14,
    "start_time": "2023-04-05T15:23:04.394Z"
   },
   {
    "duration": 34,
    "start_time": "2023-04-05T15:23:04.409Z"
   },
   {
    "duration": 270,
    "start_time": "2023-04-05T15:23:04.448Z"
   },
   {
    "duration": 34,
    "start_time": "2023-04-05T15:23:04.722Z"
   },
   {
    "duration": 132,
    "start_time": "2023-04-05T15:23:04.758Z"
   },
   {
    "duration": 19,
    "start_time": "2023-04-05T15:23:04.892Z"
   },
   {
    "duration": 64,
    "start_time": "2023-04-05T15:23:04.913Z"
   },
   {
    "duration": 16,
    "start_time": "2023-04-05T15:23:04.979Z"
   },
   {
    "duration": 5,
    "start_time": "2023-04-05T15:23:04.997Z"
   },
   {
    "duration": 6,
    "start_time": "2023-04-05T15:23:05.004Z"
   },
   {
    "duration": 43,
    "start_time": "2023-04-05T15:23:05.012Z"
   },
   {
    "duration": 15,
    "start_time": "2023-04-05T15:23:05.057Z"
   },
   {
    "duration": 36,
    "start_time": "2023-04-05T15:23:05.074Z"
   },
   {
    "duration": 5,
    "start_time": "2023-04-05T15:23:05.113Z"
   },
   {
    "duration": 28,
    "start_time": "2023-04-05T15:23:05.120Z"
   },
   {
    "duration": 18,
    "start_time": "2023-04-05T15:23:05.151Z"
   },
   {
    "duration": 27,
    "start_time": "2023-04-05T15:23:05.171Z"
   },
   {
    "duration": 267,
    "start_time": "2023-04-05T15:23:05.200Z"
   },
   {
    "duration": 24,
    "start_time": "2023-04-05T15:23:05.469Z"
   },
   {
    "duration": 58,
    "start_time": "2023-04-05T15:23:05.495Z"
   },
   {
    "duration": 39,
    "start_time": "2023-04-05T15:23:05.555Z"
   },
   {
    "duration": 34,
    "start_time": "2023-04-05T15:23:05.596Z"
   },
   {
    "duration": 41,
    "start_time": "2023-04-05T15:23:05.631Z"
   },
   {
    "duration": 24,
    "start_time": "2023-04-05T15:23:05.674Z"
   },
   {
    "duration": 27,
    "start_time": "2023-04-05T15:23:05.699Z"
   },
   {
    "duration": 51,
    "start_time": "2023-04-05T15:23:05.728Z"
   },
   {
    "duration": 22,
    "start_time": "2023-04-05T15:23:05.781Z"
   },
   {
    "duration": 66,
    "start_time": "2023-04-05T15:23:05.805Z"
   },
   {
    "duration": 20,
    "start_time": "2023-04-05T15:23:05.872Z"
   },
   {
    "duration": 72,
    "start_time": "2023-04-05T15:23:05.894Z"
   },
   {
    "duration": 143,
    "start_time": "2023-04-05T15:23:05.967Z"
   },
   {
    "duration": 263,
    "start_time": "2023-04-05T15:23:06.112Z"
   },
   {
    "duration": 3,
    "start_time": "2023-04-05T15:23:06.377Z"
   },
   {
    "duration": 751,
    "start_time": "2023-04-05T15:23:06.381Z"
   },
   {
    "duration": 0,
    "start_time": "2023-04-05T15:23:07.134Z"
   },
   {
    "duration": 0,
    "start_time": "2023-04-05T15:23:07.146Z"
   },
   {
    "duration": 0,
    "start_time": "2023-04-05T15:23:07.147Z"
   },
   {
    "duration": 0,
    "start_time": "2023-04-05T15:23:07.147Z"
   },
   {
    "duration": 0,
    "start_time": "2023-04-05T15:23:07.151Z"
   },
   {
    "duration": 0,
    "start_time": "2023-04-05T15:23:07.151Z"
   },
   {
    "duration": 0,
    "start_time": "2023-04-05T15:23:07.154Z"
   },
   {
    "duration": 0,
    "start_time": "2023-04-05T15:23:07.157Z"
   },
   {
    "duration": 0,
    "start_time": "2023-04-05T15:23:07.157Z"
   },
   {
    "duration": 1562,
    "start_time": "2023-04-05T15:30:57.599Z"
   },
   {
    "duration": 1116,
    "start_time": "2023-04-05T15:30:59.164Z"
   },
   {
    "duration": 18,
    "start_time": "2023-04-05T15:31:00.282Z"
   },
   {
    "duration": 143,
    "start_time": "2023-04-05T15:31:00.303Z"
   },
   {
    "duration": 54,
    "start_time": "2023-04-05T15:31:00.449Z"
   },
   {
    "duration": 70,
    "start_time": "2023-04-05T15:31:00.505Z"
   },
   {
    "duration": 314,
    "start_time": "2023-04-05T15:31:00.577Z"
   },
   {
    "duration": 28,
    "start_time": "2023-04-05T15:31:00.893Z"
   },
   {
    "duration": 36,
    "start_time": "2023-04-05T15:31:00.923Z"
   },
   {
    "duration": 57,
    "start_time": "2023-04-05T15:31:00.963Z"
   },
   {
    "duration": 8,
    "start_time": "2023-04-05T15:31:01.022Z"
   },
   {
    "duration": 81,
    "start_time": "2023-04-05T15:31:01.032Z"
   },
   {
    "duration": 63,
    "start_time": "2023-04-05T15:31:01.115Z"
   },
   {
    "duration": 65,
    "start_time": "2023-04-05T15:31:01.180Z"
   },
   {
    "duration": 45,
    "start_time": "2023-04-05T15:31:01.247Z"
   },
   {
    "duration": 25,
    "start_time": "2023-04-05T15:31:01.294Z"
   },
   {
    "duration": 33,
    "start_time": "2023-04-05T15:31:01.320Z"
   },
   {
    "duration": 25,
    "start_time": "2023-04-05T15:31:01.357Z"
   },
   {
    "duration": 106,
    "start_time": "2023-04-05T15:31:01.384Z"
   },
   {
    "duration": 23,
    "start_time": "2023-04-05T15:31:01.491Z"
   },
   {
    "duration": 58,
    "start_time": "2023-04-05T15:31:01.516Z"
   },
   {
    "duration": 47,
    "start_time": "2023-04-05T15:31:01.576Z"
   },
   {
    "duration": 32,
    "start_time": "2023-04-05T15:31:01.625Z"
   },
   {
    "duration": 101,
    "start_time": "2023-04-05T15:31:01.659Z"
   },
   {
    "duration": 14,
    "start_time": "2023-04-05T15:31:01.762Z"
   },
   {
    "duration": 44,
    "start_time": "2023-04-05T15:31:01.779Z"
   },
   {
    "duration": 311,
    "start_time": "2023-04-05T15:31:01.825Z"
   },
   {
    "duration": 17,
    "start_time": "2023-04-05T15:31:02.143Z"
   },
   {
    "duration": 168,
    "start_time": "2023-04-05T15:31:02.162Z"
   },
   {
    "duration": 26,
    "start_time": "2023-04-05T15:31:02.331Z"
   },
   {
    "duration": 54,
    "start_time": "2023-04-05T15:31:02.358Z"
   },
   {
    "duration": 13,
    "start_time": "2023-04-05T15:31:02.414Z"
   },
   {
    "duration": 31,
    "start_time": "2023-04-05T15:31:02.429Z"
   },
   {
    "duration": 15,
    "start_time": "2023-04-05T15:31:02.462Z"
   },
   {
    "duration": 14,
    "start_time": "2023-04-05T15:31:02.479Z"
   },
   {
    "duration": 28,
    "start_time": "2023-04-05T15:31:02.495Z"
   },
   {
    "duration": 39,
    "start_time": "2023-04-05T15:31:02.524Z"
   },
   {
    "duration": 10,
    "start_time": "2023-04-05T15:31:02.565Z"
   },
   {
    "duration": 28,
    "start_time": "2023-04-05T15:31:02.577Z"
   },
   {
    "duration": 34,
    "start_time": "2023-04-05T15:31:02.606Z"
   },
   {
    "duration": 62,
    "start_time": "2023-04-05T15:31:02.642Z"
   },
   {
    "duration": 271,
    "start_time": "2023-04-05T15:31:02.707Z"
   },
   {
    "duration": 25,
    "start_time": "2023-04-05T15:31:02.980Z"
   },
   {
    "duration": 64,
    "start_time": "2023-04-05T15:31:03.007Z"
   },
   {
    "duration": 20,
    "start_time": "2023-04-05T15:31:03.073Z"
   },
   {
    "duration": 13,
    "start_time": "2023-04-05T15:31:03.095Z"
   },
   {
    "duration": 21,
    "start_time": "2023-04-05T15:31:03.109Z"
   },
   {
    "duration": 65,
    "start_time": "2023-04-05T15:31:03.131Z"
   },
   {
    "duration": 26,
    "start_time": "2023-04-05T15:31:03.197Z"
   },
   {
    "duration": 43,
    "start_time": "2023-04-05T15:31:03.225Z"
   },
   {
    "duration": 13,
    "start_time": "2023-04-05T15:31:03.270Z"
   },
   {
    "duration": 73,
    "start_time": "2023-04-05T15:31:03.285Z"
   },
   {
    "duration": 21,
    "start_time": "2023-04-05T15:31:03.360Z"
   },
   {
    "duration": 62,
    "start_time": "2023-04-05T15:31:03.383Z"
   },
   {
    "duration": 160,
    "start_time": "2023-04-05T15:31:03.450Z"
   },
   {
    "duration": 282,
    "start_time": "2023-04-05T15:31:03.611Z"
   },
   {
    "duration": 2,
    "start_time": "2023-04-05T15:31:03.895Z"
   },
   {
    "duration": 36,
    "start_time": "2023-04-05T15:31:03.899Z"
   },
   {
    "duration": 23,
    "start_time": "2023-04-05T15:31:03.936Z"
   },
   {
    "duration": 122,
    "start_time": "2023-04-05T15:31:03.961Z"
   },
   {
    "duration": 0,
    "start_time": "2023-04-05T15:31:04.085Z"
   },
   {
    "duration": 0,
    "start_time": "2023-04-05T15:31:04.086Z"
   },
   {
    "duration": 0,
    "start_time": "2023-04-05T15:31:04.086Z"
   },
   {
    "duration": 0,
    "start_time": "2023-04-05T15:31:04.087Z"
   },
   {
    "duration": 0,
    "start_time": "2023-04-05T15:31:04.088Z"
   },
   {
    "duration": 0,
    "start_time": "2023-04-05T15:31:04.090Z"
   },
   {
    "duration": 33,
    "start_time": "2023-04-05T15:31:29.594Z"
   },
   {
    "duration": 14,
    "start_time": "2023-04-05T15:31:31.610Z"
   },
   {
    "duration": 8,
    "start_time": "2023-04-05T15:31:48.027Z"
   },
   {
    "duration": 19,
    "start_time": "2023-04-05T15:31:53.357Z"
   },
   {
    "duration": 9,
    "start_time": "2023-04-05T15:31:54.699Z"
   },
   {
    "duration": 4,
    "start_time": "2023-04-05T15:35:39.835Z"
   },
   {
    "duration": 257,
    "start_time": "2023-04-05T15:35:40.847Z"
   },
   {
    "duration": 26,
    "start_time": "2023-04-05T15:36:02.266Z"
   },
   {
    "duration": 1593,
    "start_time": "2023-04-05T15:38:04.212Z"
   },
   {
    "duration": 1023,
    "start_time": "2023-04-05T15:38:05.808Z"
   },
   {
    "duration": 28,
    "start_time": "2023-04-05T15:38:06.833Z"
   },
   {
    "duration": 168,
    "start_time": "2023-04-05T15:38:06.863Z"
   },
   {
    "duration": 73,
    "start_time": "2023-04-05T15:38:07.033Z"
   },
   {
    "duration": 65,
    "start_time": "2023-04-05T15:38:07.108Z"
   },
   {
    "duration": 351,
    "start_time": "2023-04-05T15:38:07.176Z"
   },
   {
    "duration": 51,
    "start_time": "2023-04-05T15:38:07.529Z"
   },
   {
    "duration": 27,
    "start_time": "2023-04-05T15:38:07.581Z"
   },
   {
    "duration": 56,
    "start_time": "2023-04-05T15:38:07.611Z"
   },
   {
    "duration": 7,
    "start_time": "2023-04-05T15:38:07.669Z"
   },
   {
    "duration": 63,
    "start_time": "2023-04-05T15:38:07.678Z"
   },
   {
    "duration": 63,
    "start_time": "2023-04-05T15:38:07.743Z"
   },
   {
    "duration": 63,
    "start_time": "2023-04-05T15:38:07.808Z"
   },
   {
    "duration": 80,
    "start_time": "2023-04-05T15:38:07.873Z"
   },
   {
    "duration": 27,
    "start_time": "2023-04-05T15:38:07.957Z"
   },
   {
    "duration": 33,
    "start_time": "2023-04-05T15:38:07.986Z"
   },
   {
    "duration": 64,
    "start_time": "2023-04-05T15:38:08.022Z"
   },
   {
    "duration": 86,
    "start_time": "2023-04-05T15:38:08.088Z"
   },
   {
    "duration": 6,
    "start_time": "2023-04-05T15:38:08.176Z"
   },
   {
    "duration": 79,
    "start_time": "2023-04-05T15:38:08.184Z"
   },
   {
    "duration": 54,
    "start_time": "2023-04-05T15:38:08.265Z"
   },
   {
    "duration": 45,
    "start_time": "2023-04-05T15:38:08.320Z"
   },
   {
    "duration": 59,
    "start_time": "2023-04-05T15:38:08.367Z"
   },
   {
    "duration": 25,
    "start_time": "2023-04-05T15:38:08.427Z"
   },
   {
    "duration": 25,
    "start_time": "2023-04-05T15:38:08.453Z"
   },
   {
    "duration": 321,
    "start_time": "2023-04-05T15:38:08.479Z"
   },
   {
    "duration": 16,
    "start_time": "2023-04-05T15:38:08.804Z"
   },
   {
    "duration": 81,
    "start_time": "2023-04-05T15:38:08.822Z"
   },
   {
    "duration": 19,
    "start_time": "2023-04-05T15:38:08.905Z"
   },
   {
    "duration": 65,
    "start_time": "2023-04-05T15:38:08.926Z"
   },
   {
    "duration": 36,
    "start_time": "2023-04-05T15:38:08.994Z"
   },
   {
    "duration": 31,
    "start_time": "2023-04-05T15:38:09.032Z"
   },
   {
    "duration": 25,
    "start_time": "2023-04-05T15:38:09.065Z"
   },
   {
    "duration": 143,
    "start_time": "2023-04-05T15:38:09.091Z"
   },
   {
    "duration": 22,
    "start_time": "2023-04-05T15:38:09.236Z"
   },
   {
    "duration": 43,
    "start_time": "2023-04-05T15:38:09.260Z"
   },
   {
    "duration": 7,
    "start_time": "2023-04-05T15:38:09.305Z"
   },
   {
    "duration": 54,
    "start_time": "2023-04-05T15:38:09.314Z"
   },
   {
    "duration": 39,
    "start_time": "2023-04-05T15:38:09.370Z"
   },
   {
    "duration": 61,
    "start_time": "2023-04-05T15:38:09.411Z"
   },
   {
    "duration": 324,
    "start_time": "2023-04-05T15:38:09.473Z"
   },
   {
    "duration": 25,
    "start_time": "2023-04-05T15:38:09.799Z"
   },
   {
    "duration": 78,
    "start_time": "2023-04-05T15:38:09.825Z"
   },
   {
    "duration": 113,
    "start_time": "2023-04-05T15:38:09.904Z"
   },
   {
    "duration": 214,
    "start_time": "2023-04-05T15:38:10.020Z"
   },
   {
    "duration": 71,
    "start_time": "2023-04-05T15:38:10.236Z"
   },
   {
    "duration": 49,
    "start_time": "2023-04-05T15:38:10.308Z"
   },
   {
    "duration": 23,
    "start_time": "2023-04-05T15:38:10.359Z"
   },
   {
    "duration": 45,
    "start_time": "2023-04-05T15:38:10.384Z"
   },
   {
    "duration": 38,
    "start_time": "2023-04-05T15:38:10.431Z"
   },
   {
    "duration": 55,
    "start_time": "2023-04-05T15:38:10.471Z"
   },
   {
    "duration": 29,
    "start_time": "2023-04-05T15:38:10.528Z"
   },
   {
    "duration": 53,
    "start_time": "2023-04-05T15:38:10.559Z"
   },
   {
    "duration": 152,
    "start_time": "2023-04-05T15:38:10.614Z"
   },
   {
    "duration": 291,
    "start_time": "2023-04-05T15:38:10.768Z"
   },
   {
    "duration": 5,
    "start_time": "2023-04-05T15:38:11.065Z"
   },
   {
    "duration": 24,
    "start_time": "2023-04-05T15:38:11.072Z"
   },
   {
    "duration": 281,
    "start_time": "2023-04-05T15:38:11.098Z"
   },
   {
    "duration": 554,
    "start_time": "2023-04-05T15:38:11.380Z"
   },
   {
    "duration": 34,
    "start_time": "2023-04-05T15:38:11.936Z"
   },
   {
    "duration": 124,
    "start_time": "2023-04-05T15:38:11.972Z"
   },
   {
    "duration": 0,
    "start_time": "2023-04-05T15:38:12.098Z"
   },
   {
    "duration": 0,
    "start_time": "2023-04-05T15:38:12.099Z"
   },
   {
    "duration": 0,
    "start_time": "2023-04-05T15:38:12.100Z"
   },
   {
    "duration": 0,
    "start_time": "2023-04-05T15:38:12.102Z"
   },
   {
    "duration": 99,
    "start_time": "2023-04-05T15:38:48.660Z"
   },
   {
    "duration": 5,
    "start_time": "2023-04-05T15:38:56.771Z"
   },
   {
    "duration": 12,
    "start_time": "2023-04-05T15:39:24.075Z"
   },
   {
    "duration": 3,
    "start_time": "2023-04-05T15:39:29.370Z"
   },
   {
    "duration": 131,
    "start_time": "2023-04-05T15:39:30.468Z"
   },
   {
    "duration": 463,
    "start_time": "2023-04-05T15:40:12.979Z"
   },
   {
    "duration": 92,
    "start_time": "2023-04-05T15:40:26.269Z"
   },
   {
    "duration": 6,
    "start_time": "2023-04-05T15:40:37.588Z"
   },
   {
    "duration": 1613,
    "start_time": "2023-04-05T15:47:37.232Z"
   },
   {
    "duration": 972,
    "start_time": "2023-04-05T15:47:38.847Z"
   },
   {
    "duration": 25,
    "start_time": "2023-04-05T15:47:39.821Z"
   },
   {
    "duration": 143,
    "start_time": "2023-04-05T15:47:39.854Z"
   },
   {
    "duration": 56,
    "start_time": "2023-04-05T15:47:39.999Z"
   },
   {
    "duration": 76,
    "start_time": "2023-04-05T15:47:40.057Z"
   },
   {
    "duration": 297,
    "start_time": "2023-04-05T15:47:40.135Z"
   },
   {
    "duration": 39,
    "start_time": "2023-04-05T15:47:40.434Z"
   },
   {
    "duration": 15,
    "start_time": "2023-04-05T15:47:40.475Z"
   },
   {
    "duration": 67,
    "start_time": "2023-04-05T15:47:40.493Z"
   },
   {
    "duration": 6,
    "start_time": "2023-04-05T15:47:40.563Z"
   },
   {
    "duration": 35,
    "start_time": "2023-04-05T15:47:40.570Z"
   },
   {
    "duration": 40,
    "start_time": "2023-04-05T15:47:40.607Z"
   },
   {
    "duration": 29,
    "start_time": "2023-04-05T15:47:40.650Z"
   },
   {
    "duration": 29,
    "start_time": "2023-04-05T15:47:40.681Z"
   },
   {
    "duration": 15,
    "start_time": "2023-04-05T15:47:40.712Z"
   },
   {
    "duration": 25,
    "start_time": "2023-04-05T15:47:40.728Z"
   },
   {
    "duration": 43,
    "start_time": "2023-04-05T15:47:40.757Z"
   },
   {
    "duration": 64,
    "start_time": "2023-04-05T15:47:40.802Z"
   },
   {
    "duration": 7,
    "start_time": "2023-04-05T15:47:40.868Z"
   },
   {
    "duration": 35,
    "start_time": "2023-04-05T15:47:40.877Z"
   },
   {
    "duration": 57,
    "start_time": "2023-04-05T15:47:40.914Z"
   },
   {
    "duration": 20,
    "start_time": "2023-04-05T15:47:40.972Z"
   },
   {
    "duration": 68,
    "start_time": "2023-04-05T15:47:40.994Z"
   },
   {
    "duration": 15,
    "start_time": "2023-04-05T15:47:41.063Z"
   },
   {
    "duration": 32,
    "start_time": "2023-04-05T15:47:41.080Z"
   },
   {
    "duration": 314,
    "start_time": "2023-04-05T15:47:41.113Z"
   },
   {
    "duration": 26,
    "start_time": "2023-04-05T15:47:41.431Z"
   },
   {
    "duration": 140,
    "start_time": "2023-04-05T15:47:41.459Z"
   },
   {
    "duration": 20,
    "start_time": "2023-04-05T15:47:41.601Z"
   },
   {
    "duration": 60,
    "start_time": "2023-04-05T15:47:41.623Z"
   },
   {
    "duration": 16,
    "start_time": "2023-04-05T15:47:41.685Z"
   },
   {
    "duration": 20,
    "start_time": "2023-04-05T15:47:41.703Z"
   },
   {
    "duration": 13,
    "start_time": "2023-04-05T15:47:41.725Z"
   },
   {
    "duration": 62,
    "start_time": "2023-04-05T15:47:41.740Z"
   },
   {
    "duration": 22,
    "start_time": "2023-04-05T15:47:41.804Z"
   },
   {
    "duration": 33,
    "start_time": "2023-04-05T15:47:41.828Z"
   },
   {
    "duration": 6,
    "start_time": "2023-04-05T15:47:41.863Z"
   },
   {
    "duration": 17,
    "start_time": "2023-04-05T15:47:41.871Z"
   },
   {
    "duration": 18,
    "start_time": "2023-04-05T15:47:41.889Z"
   },
   {
    "duration": 59,
    "start_time": "2023-04-05T15:47:41.908Z"
   },
   {
    "duration": 296,
    "start_time": "2023-04-05T15:47:41.969Z"
   },
   {
    "duration": 26,
    "start_time": "2023-04-05T15:47:42.267Z"
   },
   {
    "duration": 29,
    "start_time": "2023-04-05T15:47:42.296Z"
   },
   {
    "duration": 36,
    "start_time": "2023-04-05T15:47:42.328Z"
   },
   {
    "duration": 18,
    "start_time": "2023-04-05T15:47:42.366Z"
   },
   {
    "duration": 19,
    "start_time": "2023-04-05T15:47:42.386Z"
   },
   {
    "duration": 51,
    "start_time": "2023-04-05T15:47:42.407Z"
   },
   {
    "duration": 34,
    "start_time": "2023-04-05T15:47:42.460Z"
   },
   {
    "duration": 43,
    "start_time": "2023-04-05T15:47:42.496Z"
   },
   {
    "duration": 49,
    "start_time": "2023-04-05T15:47:42.541Z"
   },
   {
    "duration": 69,
    "start_time": "2023-04-05T15:47:42.592Z"
   },
   {
    "duration": 27,
    "start_time": "2023-04-05T15:47:42.665Z"
   },
   {
    "duration": 72,
    "start_time": "2023-04-05T15:47:42.694Z"
   },
   {
    "duration": 139,
    "start_time": "2023-04-05T15:47:42.768Z"
   },
   {
    "duration": 273,
    "start_time": "2023-04-05T15:47:42.909Z"
   },
   {
    "duration": 3,
    "start_time": "2023-04-05T15:47:43.183Z"
   },
   {
    "duration": 45,
    "start_time": "2023-04-05T15:47:43.188Z"
   },
   {
    "duration": 299,
    "start_time": "2023-04-05T15:47:43.235Z"
   },
   {
    "duration": 539,
    "start_time": "2023-04-05T15:47:43.536Z"
   },
   {
    "duration": 95,
    "start_time": "2023-04-05T15:47:44.077Z"
   },
   {
    "duration": 5,
    "start_time": "2023-04-05T15:47:44.173Z"
   },
   {
    "duration": 19,
    "start_time": "2023-04-05T15:47:44.179Z"
   },
   {
    "duration": 120,
    "start_time": "2023-04-05T15:47:44.199Z"
   },
   {
    "duration": 40,
    "start_time": "2023-04-05T15:47:44.320Z"
   },
   {
    "duration": 494,
    "start_time": "2023-04-05T15:47:44.362Z"
   },
   {
    "duration": 86,
    "start_time": "2023-04-05T15:47:44.862Z"
   },
   {
    "duration": 127,
    "start_time": "2023-04-05T15:47:44.959Z"
   },
   {
    "duration": 165,
    "start_time": "2023-04-05T15:47:45.088Z"
   },
   {
    "duration": 58,
    "start_time": "2023-04-05T15:48:36.436Z"
   },
   {
    "duration": 12,
    "start_time": "2023-04-05T15:54:53.215Z"
   },
   {
    "duration": 1719,
    "start_time": "2023-04-05T15:57:42.294Z"
   },
   {
    "duration": 1096,
    "start_time": "2023-04-05T15:57:44.016Z"
   },
   {
    "duration": 41,
    "start_time": "2023-04-05T15:57:45.114Z"
   },
   {
    "duration": 211,
    "start_time": "2023-04-05T15:57:45.157Z"
   },
   {
    "duration": 35,
    "start_time": "2023-04-05T15:57:45.370Z"
   },
   {
    "duration": 67,
    "start_time": "2023-04-05T15:57:45.407Z"
   },
   {
    "duration": 425,
    "start_time": "2023-04-05T15:57:45.476Z"
   },
   {
    "duration": 52,
    "start_time": "2023-04-05T15:57:45.904Z"
   },
   {
    "duration": 16,
    "start_time": "2023-04-05T15:57:45.958Z"
   },
   {
    "duration": 57,
    "start_time": "2023-04-05T15:57:45.977Z"
   },
   {
    "duration": 9,
    "start_time": "2023-04-05T15:57:46.041Z"
   },
   {
    "duration": 59,
    "start_time": "2023-04-05T15:57:46.054Z"
   },
   {
    "duration": 56,
    "start_time": "2023-04-05T15:57:46.115Z"
   },
   {
    "duration": 28,
    "start_time": "2023-04-05T15:57:46.173Z"
   },
   {
    "duration": 48,
    "start_time": "2023-04-05T15:57:46.203Z"
   },
   {
    "duration": 73,
    "start_time": "2023-04-05T15:57:46.254Z"
   },
   {
    "duration": 38,
    "start_time": "2023-04-05T15:57:46.330Z"
   },
   {
    "duration": 7,
    "start_time": "2023-04-05T15:57:46.371Z"
   },
   {
    "duration": 48,
    "start_time": "2023-04-05T15:57:46.381Z"
   },
   {
    "duration": 14,
    "start_time": "2023-04-05T15:57:46.431Z"
   },
   {
    "duration": 82,
    "start_time": "2023-04-05T15:57:46.447Z"
   },
   {
    "duration": 67,
    "start_time": "2023-04-05T15:57:46.532Z"
   },
   {
    "duration": 48,
    "start_time": "2023-04-05T15:57:46.603Z"
   },
   {
    "duration": 122,
    "start_time": "2023-04-05T15:57:46.657Z"
   },
   {
    "duration": 22,
    "start_time": "2023-04-05T15:57:46.782Z"
   },
   {
    "duration": 46,
    "start_time": "2023-04-05T15:57:46.807Z"
   },
   {
    "duration": 446,
    "start_time": "2023-04-05T15:57:46.857Z"
   },
   {
    "duration": 146,
    "start_time": "2023-04-05T15:57:47.310Z"
   },
   {
    "duration": 58,
    "start_time": "2023-04-05T15:57:47.458Z"
   },
   {
    "duration": 21,
    "start_time": "2023-04-05T15:57:47.519Z"
   },
   {
    "duration": 82,
    "start_time": "2023-04-05T15:57:47.542Z"
   },
   {
    "duration": 18,
    "start_time": "2023-04-05T15:57:47.626Z"
   },
   {
    "duration": 35,
    "start_time": "2023-04-05T15:57:47.652Z"
   },
   {
    "duration": 22,
    "start_time": "2023-04-05T15:57:47.689Z"
   },
   {
    "duration": 59,
    "start_time": "2023-04-05T15:57:47.713Z"
   },
   {
    "duration": 26,
    "start_time": "2023-04-05T15:57:47.774Z"
   },
   {
    "duration": 45,
    "start_time": "2023-04-05T15:57:47.802Z"
   },
   {
    "duration": 12,
    "start_time": "2023-04-05T15:57:47.849Z"
   },
   {
    "duration": 34,
    "start_time": "2023-04-05T15:57:47.863Z"
   },
   {
    "duration": 31,
    "start_time": "2023-04-05T15:57:47.900Z"
   },
   {
    "duration": 101,
    "start_time": "2023-04-05T15:57:47.933Z"
   },
   {
    "duration": 331,
    "start_time": "2023-04-05T15:57:48.036Z"
   },
   {
    "duration": 27,
    "start_time": "2023-04-05T15:57:48.369Z"
   },
   {
    "duration": 26,
    "start_time": "2023-04-05T15:57:48.399Z"
   },
   {
    "duration": 43,
    "start_time": "2023-04-05T15:57:48.427Z"
   },
   {
    "duration": 22,
    "start_time": "2023-04-05T15:57:48.472Z"
   },
   {
    "duration": 50,
    "start_time": "2023-04-05T15:57:48.496Z"
   },
   {
    "duration": 34,
    "start_time": "2023-04-05T15:57:48.548Z"
   },
   {
    "duration": 39,
    "start_time": "2023-04-05T15:57:48.584Z"
   },
   {
    "duration": 88,
    "start_time": "2023-04-05T15:57:48.626Z"
   },
   {
    "duration": 77,
    "start_time": "2023-04-05T15:57:48.716Z"
   },
   {
    "duration": 95,
    "start_time": "2023-04-05T15:57:48.796Z"
   },
   {
    "duration": 31,
    "start_time": "2023-04-05T15:57:48.894Z"
   },
   {
    "duration": 91,
    "start_time": "2023-04-05T15:57:48.927Z"
   },
   {
    "duration": 219,
    "start_time": "2023-04-05T15:57:49.020Z"
   },
   {
    "duration": 294,
    "start_time": "2023-04-05T15:57:49.240Z"
   },
   {
    "duration": 14,
    "start_time": "2023-04-05T15:57:49.536Z"
   },
   {
    "duration": 51,
    "start_time": "2023-04-05T15:57:49.554Z"
   },
   {
    "duration": 308,
    "start_time": "2023-04-05T15:57:49.608Z"
   },
   {
    "duration": 578,
    "start_time": "2023-04-05T15:57:49.919Z"
   },
   {
    "duration": 98,
    "start_time": "2023-04-05T15:57:50.499Z"
   },
   {
    "duration": 6,
    "start_time": "2023-04-05T15:57:50.600Z"
   },
   {
    "duration": 22,
    "start_time": "2023-04-05T15:57:50.607Z"
   },
   {
    "duration": 159,
    "start_time": "2023-04-05T15:57:50.631Z"
   },
   {
    "duration": 36,
    "start_time": "2023-04-05T15:57:50.792Z"
   },
   {
    "duration": 448,
    "start_time": "2023-04-05T15:57:50.844Z"
   },
   {
    "duration": 107,
    "start_time": "2023-04-05T15:57:51.341Z"
   },
   {
    "duration": 158,
    "start_time": "2023-04-05T15:57:51.456Z"
   },
   {
    "duration": 74,
    "start_time": "2023-04-05T15:57:51.616Z"
   },
   {
    "duration": 30,
    "start_time": "2023-04-05T15:57:51.692Z"
   },
   {
    "duration": 41,
    "start_time": "2023-04-05T15:57:51.724Z"
   },
   {
    "duration": 216,
    "start_time": "2023-04-05T15:57:51.767Z"
   },
   {
    "duration": 0,
    "start_time": "2023-04-05T15:57:51.986Z"
   },
   {
    "duration": 0,
    "start_time": "2023-04-05T15:57:51.988Z"
   },
   {
    "duration": 0,
    "start_time": "2023-04-05T15:57:51.989Z"
   },
   {
    "duration": 0,
    "start_time": "2023-04-05T15:57:51.991Z"
   },
   {
    "duration": 0,
    "start_time": "2023-04-05T15:57:51.992Z"
   },
   {
    "duration": 0,
    "start_time": "2023-04-05T15:57:51.994Z"
   },
   {
    "duration": 20,
    "start_time": "2023-04-05T16:01:09.377Z"
   },
   {
    "duration": 87,
    "start_time": "2023-04-05T16:04:52.601Z"
   },
   {
    "duration": 154,
    "start_time": "2023-04-05T16:05:14.817Z"
   },
   {
    "duration": 6,
    "start_time": "2023-04-05T16:05:43.561Z"
   },
   {
    "duration": 3509,
    "start_time": "2023-04-05T16:05:52.184Z"
   },
   {
    "duration": 14,
    "start_time": "2023-04-05T16:12:58.074Z"
   },
   {
    "duration": 93,
    "start_time": "2023-04-05T16:17:20.290Z"
   },
   {
    "duration": 86,
    "start_time": "2023-04-05T16:18:58.849Z"
   },
   {
    "duration": 4,
    "start_time": "2023-04-05T16:19:05.434Z"
   },
   {
    "duration": 2696,
    "start_time": "2023-04-05T16:19:06.571Z"
   },
   {
    "duration": 1671,
    "start_time": "2023-04-05T16:21:40.826Z"
   },
   {
    "duration": 3292,
    "start_time": "2023-04-05T16:21:42.499Z"
   },
   {
    "duration": 17,
    "start_time": "2023-04-05T16:21:45.793Z"
   },
   {
    "duration": 140,
    "start_time": "2023-04-05T16:21:45.813Z"
   },
   {
    "duration": 29,
    "start_time": "2023-04-05T16:21:45.955Z"
   },
   {
    "duration": 75,
    "start_time": "2023-04-05T16:21:45.986Z"
   },
   {
    "duration": 359,
    "start_time": "2023-04-05T16:21:46.066Z"
   },
   {
    "duration": 39,
    "start_time": "2023-04-05T16:21:46.428Z"
   },
   {
    "duration": 13,
    "start_time": "2023-04-05T16:21:46.468Z"
   },
   {
    "duration": 71,
    "start_time": "2023-04-05T16:21:46.484Z"
   },
   {
    "duration": 9,
    "start_time": "2023-04-05T16:21:46.556Z"
   },
   {
    "duration": 31,
    "start_time": "2023-04-05T16:21:46.567Z"
   },
   {
    "duration": 41,
    "start_time": "2023-04-05T16:21:46.600Z"
   },
   {
    "duration": 43,
    "start_time": "2023-04-05T16:21:46.645Z"
   },
   {
    "duration": 80,
    "start_time": "2023-04-05T16:21:46.690Z"
   },
   {
    "duration": 38,
    "start_time": "2023-04-05T16:21:46.772Z"
   },
   {
    "duration": 14,
    "start_time": "2023-04-05T16:21:46.812Z"
   },
   {
    "duration": 8,
    "start_time": "2023-04-05T16:21:46.828Z"
   },
   {
    "duration": 75,
    "start_time": "2023-04-05T16:21:46.839Z"
   },
   {
    "duration": 7,
    "start_time": "2023-04-05T16:21:46.916Z"
   },
   {
    "duration": 51,
    "start_time": "2023-04-05T16:21:46.925Z"
   },
   {
    "duration": 66,
    "start_time": "2023-04-05T16:21:46.977Z"
   },
   {
    "duration": 25,
    "start_time": "2023-04-05T16:21:47.055Z"
   },
   {
    "duration": 73,
    "start_time": "2023-04-05T16:21:47.083Z"
   },
   {
    "duration": 14,
    "start_time": "2023-04-05T16:21:47.157Z"
   },
   {
    "duration": 36,
    "start_time": "2023-04-05T16:21:47.173Z"
   },
   {
    "duration": 298,
    "start_time": "2023-04-05T16:21:47.212Z"
   },
   {
    "duration": 14,
    "start_time": "2023-04-05T16:21:47.515Z"
   },
   {
    "duration": 141,
    "start_time": "2023-04-05T16:21:47.542Z"
   },
   {
    "duration": 19,
    "start_time": "2023-04-05T16:21:47.685Z"
   },
   {
    "duration": 53,
    "start_time": "2023-04-05T16:21:47.706Z"
   },
   {
    "duration": 15,
    "start_time": "2023-04-05T16:21:47.761Z"
   },
   {
    "duration": 22,
    "start_time": "2023-04-05T16:21:47.778Z"
   },
   {
    "duration": 35,
    "start_time": "2023-04-05T16:21:47.802Z"
   },
   {
    "duration": 20,
    "start_time": "2023-04-05T16:21:47.839Z"
   },
   {
    "duration": 30,
    "start_time": "2023-04-05T16:21:47.861Z"
   },
   {
    "duration": 33,
    "start_time": "2023-04-05T16:21:47.893Z"
   },
   {
    "duration": 5,
    "start_time": "2023-04-05T16:21:47.928Z"
   },
   {
    "duration": 35,
    "start_time": "2023-04-05T16:21:47.935Z"
   },
   {
    "duration": 42,
    "start_time": "2023-04-05T16:21:47.972Z"
   },
   {
    "duration": 35,
    "start_time": "2023-04-05T16:21:48.015Z"
   },
   {
    "duration": 263,
    "start_time": "2023-04-05T16:21:48.052Z"
   },
   {
    "duration": 35,
    "start_time": "2023-04-05T16:21:48.317Z"
   },
   {
    "duration": 21,
    "start_time": "2023-04-05T16:21:48.355Z"
   },
   {
    "duration": 38,
    "start_time": "2023-04-05T16:21:48.378Z"
   },
   {
    "duration": 13,
    "start_time": "2023-04-05T16:21:48.418Z"
   },
   {
    "duration": 35,
    "start_time": "2023-04-05T16:21:48.432Z"
   },
   {
    "duration": 37,
    "start_time": "2023-04-05T16:21:48.469Z"
   },
   {
    "duration": 39,
    "start_time": "2023-04-05T16:21:48.508Z"
   },
   {
    "duration": 35,
    "start_time": "2023-04-05T16:21:48.552Z"
   },
   {
    "duration": 20,
    "start_time": "2023-04-05T16:21:48.589Z"
   },
   {
    "duration": 67,
    "start_time": "2023-04-05T16:21:48.611Z"
   },
   {
    "duration": 21,
    "start_time": "2023-04-05T16:21:48.680Z"
   },
   {
    "duration": 71,
    "start_time": "2023-04-05T16:21:48.703Z"
   },
   {
    "duration": 151,
    "start_time": "2023-04-05T16:21:48.776Z"
   },
   {
    "duration": 286,
    "start_time": "2023-04-05T16:21:48.929Z"
   },
   {
    "duration": 3,
    "start_time": "2023-04-05T16:21:49.217Z"
   },
   {
    "duration": 8,
    "start_time": "2023-04-05T16:21:49.223Z"
   },
   {
    "duration": 255,
    "start_time": "2023-04-05T16:21:49.240Z"
   },
   {
    "duration": 536,
    "start_time": "2023-04-05T16:21:49.497Z"
   },
   {
    "duration": 89,
    "start_time": "2023-04-05T16:21:50.035Z"
   },
   {
    "duration": 4,
    "start_time": "2023-04-05T16:21:50.126Z"
   },
   {
    "duration": 27,
    "start_time": "2023-04-05T16:21:50.131Z"
   },
   {
    "duration": 115,
    "start_time": "2023-04-05T16:21:50.160Z"
   },
   {
    "duration": 24,
    "start_time": "2023-04-05T16:21:50.276Z"
   },
   {
    "duration": 462,
    "start_time": "2023-04-05T16:21:50.301Z"
   },
   {
    "duration": 82,
    "start_time": "2023-04-05T16:21:50.765Z"
   },
   {
    "duration": 7,
    "start_time": "2023-04-05T16:21:50.850Z"
   },
   {
    "duration": 95,
    "start_time": "2023-04-05T16:21:50.859Z"
   },
   {
    "duration": 214,
    "start_time": "2023-04-05T16:21:50.957Z"
   },
   {
    "duration": 3,
    "start_time": "2023-04-05T16:21:51.174Z"
   },
   {
    "duration": 56,
    "start_time": "2023-04-05T16:22:28.925Z"
   },
   {
    "duration": 1560,
    "start_time": "2023-04-05T16:22:38.660Z"
   },
   {
    "duration": 3253,
    "start_time": "2023-04-05T16:22:40.222Z"
   },
   {
    "duration": 17,
    "start_time": "2023-04-05T16:22:43.477Z"
   },
   {
    "duration": 129,
    "start_time": "2023-04-05T16:22:43.495Z"
   },
   {
    "duration": 39,
    "start_time": "2023-04-05T16:22:43.626Z"
   },
   {
    "duration": 56,
    "start_time": "2023-04-05T16:22:43.667Z"
   },
   {
    "duration": 316,
    "start_time": "2023-04-05T16:22:43.725Z"
   },
   {
    "duration": 35,
    "start_time": "2023-04-05T16:22:44.044Z"
   },
   {
    "duration": 14,
    "start_time": "2023-04-05T16:22:44.080Z"
   },
   {
    "duration": 65,
    "start_time": "2023-04-05T16:22:44.096Z"
   },
   {
    "duration": 6,
    "start_time": "2023-04-05T16:22:44.164Z"
   },
   {
    "duration": 37,
    "start_time": "2023-04-05T16:22:44.171Z"
   },
   {
    "duration": 35,
    "start_time": "2023-04-05T16:22:44.210Z"
   },
   {
    "duration": 19,
    "start_time": "2023-04-05T16:22:44.254Z"
   },
   {
    "duration": 24,
    "start_time": "2023-04-05T16:22:44.274Z"
   },
   {
    "duration": 14,
    "start_time": "2023-04-05T16:22:44.300Z"
   },
   {
    "duration": 30,
    "start_time": "2023-04-05T16:22:44.315Z"
   },
   {
    "duration": 11,
    "start_time": "2023-04-05T16:22:44.347Z"
   },
   {
    "duration": 44,
    "start_time": "2023-04-05T16:22:44.360Z"
   },
   {
    "duration": 6,
    "start_time": "2023-04-05T16:22:44.406Z"
   },
   {
    "duration": 45,
    "start_time": "2023-04-05T16:22:44.413Z"
   },
   {
    "duration": 39,
    "start_time": "2023-04-05T16:22:44.460Z"
   },
   {
    "duration": 19,
    "start_time": "2023-04-05T16:22:44.500Z"
   },
   {
    "duration": 82,
    "start_time": "2023-04-05T16:22:44.521Z"
   },
   {
    "duration": 15,
    "start_time": "2023-04-05T16:22:44.605Z"
   },
   {
    "duration": 28,
    "start_time": "2023-04-05T16:22:44.622Z"
   },
   {
    "duration": 302,
    "start_time": "2023-04-05T16:22:44.652Z"
   },
   {
    "duration": 17,
    "start_time": "2023-04-05T16:22:44.958Z"
   },
   {
    "duration": 34,
    "start_time": "2023-04-05T16:22:44.977Z"
   },
   {
    "duration": 46,
    "start_time": "2023-04-05T16:22:45.012Z"
   },
   {
    "duration": 40,
    "start_time": "2023-04-05T16:22:45.063Z"
   },
   {
    "duration": 17,
    "start_time": "2023-04-05T16:22:45.105Z"
   },
   {
    "duration": 24,
    "start_time": "2023-04-05T16:22:45.124Z"
   },
   {
    "duration": 10,
    "start_time": "2023-04-05T16:22:45.150Z"
   },
   {
    "duration": 9,
    "start_time": "2023-04-05T16:22:45.162Z"
   },
   {
    "duration": 27,
    "start_time": "2023-04-05T16:22:45.173Z"
   },
   {
    "duration": 57,
    "start_time": "2023-04-05T16:22:45.202Z"
   },
   {
    "duration": 8,
    "start_time": "2023-04-05T16:22:45.261Z"
   },
   {
    "duration": 13,
    "start_time": "2023-04-05T16:22:45.271Z"
   },
   {
    "duration": 18,
    "start_time": "2023-04-05T16:22:45.285Z"
   },
   {
    "duration": 61,
    "start_time": "2023-04-05T16:22:45.307Z"
   },
   {
    "duration": 356,
    "start_time": "2023-04-05T16:22:45.370Z"
   },
   {
    "duration": 36,
    "start_time": "2023-04-05T16:22:45.728Z"
   },
   {
    "duration": 12,
    "start_time": "2023-04-05T16:22:45.766Z"
   },
   {
    "duration": 19,
    "start_time": "2023-04-05T16:22:45.780Z"
   },
   {
    "duration": 13,
    "start_time": "2023-04-05T16:22:45.801Z"
   },
   {
    "duration": 54,
    "start_time": "2023-04-05T16:22:45.816Z"
   },
   {
    "duration": 28,
    "start_time": "2023-04-05T16:22:45.873Z"
   },
   {
    "duration": 19,
    "start_time": "2023-04-05T16:22:45.903Z"
   },
   {
    "duration": 38,
    "start_time": "2023-04-05T16:22:45.924Z"
   },
   {
    "duration": 23,
    "start_time": "2023-04-05T16:22:45.964Z"
   },
   {
    "duration": 60,
    "start_time": "2023-04-05T16:22:45.988Z"
   },
   {
    "duration": 23,
    "start_time": "2023-04-05T16:22:46.050Z"
   },
   {
    "duration": 82,
    "start_time": "2023-04-05T16:22:46.075Z"
   },
   {
    "duration": 161,
    "start_time": "2023-04-05T16:22:46.159Z"
   },
   {
    "duration": 337,
    "start_time": "2023-04-05T16:22:46.323Z"
   },
   {
    "duration": 4,
    "start_time": "2023-04-05T16:22:46.662Z"
   },
   {
    "duration": 11,
    "start_time": "2023-04-05T16:22:46.668Z"
   },
   {
    "duration": 277,
    "start_time": "2023-04-05T16:22:46.681Z"
   },
   {
    "duration": 559,
    "start_time": "2023-04-05T16:22:46.960Z"
   },
   {
    "duration": 91,
    "start_time": "2023-04-05T16:22:47.521Z"
   },
   {
    "duration": 4,
    "start_time": "2023-04-05T16:22:47.614Z"
   },
   {
    "duration": 22,
    "start_time": "2023-04-05T16:22:47.620Z"
   },
   {
    "duration": 129,
    "start_time": "2023-04-05T16:22:47.644Z"
   },
   {
    "duration": 26,
    "start_time": "2023-04-05T16:22:47.775Z"
   },
   {
    "duration": 545,
    "start_time": "2023-04-05T16:22:47.803Z"
   },
   {
    "duration": 94,
    "start_time": "2023-04-05T16:22:48.353Z"
   },
   {
    "duration": 84,
    "start_time": "2023-04-05T16:22:48.464Z"
   },
   {
    "duration": 22,
    "start_time": "2023-04-05T16:22:48.555Z"
   },
   {
    "duration": 111,
    "start_time": "2023-04-05T16:22:48.580Z"
   },
   {
    "duration": 3,
    "start_time": "2023-04-05T16:22:48.693Z"
   },
   {
    "duration": 51,
    "start_time": "2023-04-05T16:25:05.333Z"
   },
   {
    "duration": 1750,
    "start_time": "2023-04-07T12:13:41.220Z"
   },
   {
    "duration": 1372,
    "start_time": "2023-04-07T12:13:42.972Z"
   },
   {
    "duration": 26,
    "start_time": "2023-04-07T12:13:44.346Z"
   },
   {
    "duration": 291,
    "start_time": "2023-04-07T12:13:44.375Z"
   },
   {
    "duration": 34,
    "start_time": "2023-04-07T12:13:44.668Z"
   },
   {
    "duration": 57,
    "start_time": "2023-04-07T12:13:44.705Z"
   },
   {
    "duration": 339,
    "start_time": "2023-04-07T12:13:44.765Z"
   },
   {
    "duration": 36,
    "start_time": "2023-04-07T12:13:45.106Z"
   },
   {
    "duration": 22,
    "start_time": "2023-04-07T12:13:45.144Z"
   },
   {
    "duration": 62,
    "start_time": "2023-04-07T12:13:45.170Z"
   },
   {
    "duration": 7,
    "start_time": "2023-04-07T12:13:45.234Z"
   },
   {
    "duration": 37,
    "start_time": "2023-04-07T12:13:45.243Z"
   },
   {
    "duration": 26,
    "start_time": "2023-04-07T12:13:45.282Z"
   },
   {
    "duration": 151,
    "start_time": "2023-04-07T12:13:45.310Z"
   },
   {
    "duration": 39,
    "start_time": "2023-04-07T12:13:45.463Z"
   },
   {
    "duration": 21,
    "start_time": "2023-04-07T12:13:45.504Z"
   },
   {
    "duration": 37,
    "start_time": "2023-04-07T12:13:45.526Z"
   },
   {
    "duration": 8,
    "start_time": "2023-04-07T12:13:45.565Z"
   },
   {
    "duration": 51,
    "start_time": "2023-04-07T12:13:45.575Z"
   },
   {
    "duration": 8,
    "start_time": "2023-04-07T12:13:45.628Z"
   },
   {
    "duration": 56,
    "start_time": "2023-04-07T12:13:45.638Z"
   },
   {
    "duration": 44,
    "start_time": "2023-04-07T12:13:45.696Z"
   },
   {
    "duration": 52,
    "start_time": "2023-04-07T12:13:45.742Z"
   },
   {
    "duration": 66,
    "start_time": "2023-04-07T12:13:45.796Z"
   },
   {
    "duration": 18,
    "start_time": "2023-04-07T12:13:45.863Z"
   },
   {
    "duration": 21,
    "start_time": "2023-04-07T12:13:45.883Z"
   },
   {
    "duration": 410,
    "start_time": "2023-04-07T12:13:45.905Z"
   },
   {
    "duration": 12,
    "start_time": "2023-04-07T12:13:46.319Z"
   },
   {
    "duration": 45,
    "start_time": "2023-04-07T12:13:46.333Z"
   },
   {
    "duration": 21,
    "start_time": "2023-04-07T12:13:46.380Z"
   },
   {
    "duration": 36,
    "start_time": "2023-04-07T12:13:46.403Z"
   },
   {
    "duration": 35,
    "start_time": "2023-04-07T12:13:46.441Z"
   },
   {
    "duration": 8,
    "start_time": "2023-04-07T12:13:46.477Z"
   },
   {
    "duration": 14,
    "start_time": "2023-04-07T12:13:46.487Z"
   },
   {
    "duration": 32,
    "start_time": "2023-04-07T12:13:46.503Z"
   },
   {
    "duration": 14,
    "start_time": "2023-04-07T12:13:46.538Z"
   },
   {
    "duration": 30,
    "start_time": "2023-04-07T12:13:46.554Z"
   },
   {
    "duration": 7,
    "start_time": "2023-04-07T12:13:46.586Z"
   },
   {
    "duration": 18,
    "start_time": "2023-04-07T12:13:46.595Z"
   },
   {
    "duration": 57,
    "start_time": "2023-04-07T12:13:46.615Z"
   },
   {
    "duration": 54,
    "start_time": "2023-04-07T12:13:46.674Z"
   },
   {
    "duration": 319,
    "start_time": "2023-04-07T12:13:46.731Z"
   },
   {
    "duration": 52,
    "start_time": "2023-04-07T12:13:47.052Z"
   },
   {
    "duration": 21,
    "start_time": "2023-04-07T12:13:47.106Z"
   },
   {
    "duration": 46,
    "start_time": "2023-04-07T12:13:47.130Z"
   },
   {
    "duration": 26,
    "start_time": "2023-04-07T12:13:47.179Z"
   },
   {
    "duration": 33,
    "start_time": "2023-04-07T12:13:47.208Z"
   },
   {
    "duration": 66,
    "start_time": "2023-04-07T12:13:47.244Z"
   },
   {
    "duration": 28,
    "start_time": "2023-04-07T12:13:47.313Z"
   },
   {
    "duration": 50,
    "start_time": "2023-04-07T12:13:47.345Z"
   },
   {
    "duration": 21,
    "start_time": "2023-04-07T12:13:47.397Z"
   },
   {
    "duration": 100,
    "start_time": "2023-04-07T12:13:47.421Z"
   },
   {
    "duration": 42,
    "start_time": "2023-04-07T12:13:47.524Z"
   },
   {
    "duration": 70,
    "start_time": "2023-04-07T12:13:47.569Z"
   },
   {
    "duration": 152,
    "start_time": "2023-04-07T12:13:47.641Z"
   },
   {
    "duration": 262,
    "start_time": "2023-04-07T12:13:47.795Z"
   },
   {
    "duration": 4,
    "start_time": "2023-04-07T12:13:48.059Z"
   },
   {
    "duration": 11,
    "start_time": "2023-04-07T12:13:48.065Z"
   },
   {
    "duration": 240,
    "start_time": "2023-04-07T12:13:48.078Z"
   },
   {
    "duration": 549,
    "start_time": "2023-04-07T12:13:48.320Z"
   },
   {
    "duration": 73,
    "start_time": "2023-04-07T12:13:48.871Z"
   },
   {
    "duration": 18,
    "start_time": "2023-04-07T12:13:48.947Z"
   },
   {
    "duration": 4,
    "start_time": "2023-04-07T12:13:48.967Z"
   },
   {
    "duration": 119,
    "start_time": "2023-04-07T12:13:48.973Z"
   },
   {
    "duration": 28,
    "start_time": "2023-04-07T12:13:49.093Z"
   },
   {
    "duration": 639,
    "start_time": "2023-04-07T12:13:49.124Z"
   },
   {
    "duration": 19,
    "start_time": "2023-04-07T12:13:49.766Z"
   },
   {
    "duration": 7,
    "start_time": "2023-04-07T12:13:49.864Z"
   },
   {
    "duration": 101,
    "start_time": "2023-04-07T12:13:49.873Z"
   },
   {
    "duration": 101,
    "start_time": "2023-04-07T12:13:49.976Z"
   },
   {
    "duration": 3,
    "start_time": "2023-04-07T12:13:50.079Z"
   },
   {
    "duration": 49,
    "start_time": "2023-04-07T12:14:23.065Z"
   },
   {
    "duration": 1645,
    "start_time": "2023-04-07T12:14:38.850Z"
   },
   {
    "duration": 1156,
    "start_time": "2023-04-07T12:14:40.497Z"
   },
   {
    "duration": 27,
    "start_time": "2023-04-07T12:14:41.655Z"
   },
   {
    "duration": 177,
    "start_time": "2023-04-07T12:14:41.685Z"
   },
   {
    "duration": 30,
    "start_time": "2023-04-07T12:14:41.865Z"
   },
   {
    "duration": 65,
    "start_time": "2023-04-07T12:14:41.898Z"
   },
   {
    "duration": 304,
    "start_time": "2023-04-07T12:14:41.965Z"
   },
   {
    "duration": 34,
    "start_time": "2023-04-07T12:14:42.270Z"
   },
   {
    "duration": 13,
    "start_time": "2023-04-07T12:14:42.306Z"
   },
   {
    "duration": 62,
    "start_time": "2023-04-07T12:14:42.322Z"
   },
   {
    "duration": 6,
    "start_time": "2023-04-07T12:14:42.386Z"
   },
   {
    "duration": 23,
    "start_time": "2023-04-07T12:14:42.394Z"
   },
   {
    "duration": 54,
    "start_time": "2023-04-07T12:14:42.419Z"
   },
   {
    "duration": 21,
    "start_time": "2023-04-07T12:14:42.475Z"
   },
   {
    "duration": 24,
    "start_time": "2023-04-07T12:14:42.498Z"
   },
   {
    "duration": 41,
    "start_time": "2023-04-07T12:14:42.524Z"
   },
   {
    "duration": 8,
    "start_time": "2023-04-07T12:14:42.566Z"
   },
   {
    "duration": 6,
    "start_time": "2023-04-07T12:14:42.576Z"
   },
   {
    "duration": 44,
    "start_time": "2023-04-07T12:14:42.584Z"
   },
   {
    "duration": 32,
    "start_time": "2023-04-07T12:14:42.630Z"
   },
   {
    "duration": 23,
    "start_time": "2023-04-07T12:14:42.663Z"
   },
   {
    "duration": 49,
    "start_time": "2023-04-07T12:14:42.688Z"
   },
   {
    "duration": 20,
    "start_time": "2023-04-07T12:14:42.762Z"
   },
   {
    "duration": 50,
    "start_time": "2023-04-07T12:14:42.783Z"
   },
   {
    "duration": 34,
    "start_time": "2023-04-07T12:14:42.835Z"
   },
   {
    "duration": 18,
    "start_time": "2023-04-07T12:14:42.870Z"
   },
   {
    "duration": 299,
    "start_time": "2023-04-07T12:14:42.890Z"
   },
   {
    "duration": 12,
    "start_time": "2023-04-07T12:14:43.193Z"
   },
   {
    "duration": 124,
    "start_time": "2023-04-07T12:14:43.208Z"
   },
   {
    "duration": 30,
    "start_time": "2023-04-07T12:14:43.334Z"
   },
   {
    "duration": 45,
    "start_time": "2023-04-07T12:14:43.366Z"
   },
   {
    "duration": 19,
    "start_time": "2023-04-07T12:14:43.413Z"
   },
   {
    "duration": 29,
    "start_time": "2023-04-07T12:14:43.434Z"
   },
   {
    "duration": 7,
    "start_time": "2023-04-07T12:14:43.465Z"
   },
   {
    "duration": 7,
    "start_time": "2023-04-07T12:14:43.474Z"
   },
   {
    "duration": 10,
    "start_time": "2023-04-07T12:14:43.483Z"
   },
   {
    "duration": 26,
    "start_time": "2023-04-07T12:14:43.495Z"
   },
   {
    "duration": 40,
    "start_time": "2023-04-07T12:14:43.523Z"
   },
   {
    "duration": 16,
    "start_time": "2023-04-07T12:14:43.565Z"
   },
   {
    "duration": 19,
    "start_time": "2023-04-07T12:14:43.582Z"
   },
   {
    "duration": 31,
    "start_time": "2023-04-07T12:14:43.603Z"
   },
   {
    "duration": 257,
    "start_time": "2023-04-07T12:14:43.662Z"
   },
   {
    "duration": 30,
    "start_time": "2023-04-07T12:14:43.921Z"
   },
   {
    "duration": 25,
    "start_time": "2023-04-07T12:14:43.962Z"
   },
   {
    "duration": 24,
    "start_time": "2023-04-07T12:14:43.988Z"
   },
   {
    "duration": 28,
    "start_time": "2023-04-07T12:14:44.014Z"
   },
   {
    "duration": 30,
    "start_time": "2023-04-07T12:14:44.044Z"
   },
   {
    "duration": 33,
    "start_time": "2023-04-07T12:14:44.076Z"
   },
   {
    "duration": 23,
    "start_time": "2023-04-07T12:14:44.110Z"
   },
   {
    "duration": 56,
    "start_time": "2023-04-07T12:14:44.135Z"
   },
   {
    "duration": 27,
    "start_time": "2023-04-07T12:14:44.194Z"
   },
   {
    "duration": 80,
    "start_time": "2023-04-07T12:14:44.223Z"
   },
   {
    "duration": 21,
    "start_time": "2023-04-07T12:14:44.306Z"
   },
   {
    "duration": 141,
    "start_time": "2023-04-07T12:14:44.330Z"
   },
   {
    "duration": 188,
    "start_time": "2023-04-07T12:14:44.474Z"
   },
   {
    "duration": 260,
    "start_time": "2023-04-07T12:14:44.665Z"
   },
   {
    "duration": 3,
    "start_time": "2023-04-07T12:14:44.927Z"
   },
   {
    "duration": 5,
    "start_time": "2023-04-07T12:14:44.932Z"
   },
   {
    "duration": 236,
    "start_time": "2023-04-07T12:14:44.939Z"
   },
   {
    "duration": 565,
    "start_time": "2023-04-07T12:14:45.177Z"
   },
   {
    "duration": 76,
    "start_time": "2023-04-07T12:14:45.744Z"
   },
   {
    "duration": 4,
    "start_time": "2023-04-07T12:14:45.822Z"
   },
   {
    "duration": 4,
    "start_time": "2023-04-07T12:14:45.828Z"
   },
   {
    "duration": 145,
    "start_time": "2023-04-07T12:14:45.834Z"
   },
   {
    "duration": 39,
    "start_time": "2023-04-07T12:14:45.981Z"
   },
   {
    "duration": 446,
    "start_time": "2023-04-07T12:14:46.022Z"
   },
   {
    "duration": 96,
    "start_time": "2023-04-07T12:14:46.471Z"
   },
   {
    "duration": 92,
    "start_time": "2023-04-07T12:14:46.570Z"
   },
   {
    "duration": 13,
    "start_time": "2023-04-07T12:14:46.664Z"
   },
   {
    "duration": 89,
    "start_time": "2023-04-07T12:14:46.678Z"
   },
   {
    "duration": 3,
    "start_time": "2023-04-07T12:14:46.769Z"
   },
   {
    "duration": 157,
    "start_time": "2023-04-07T12:14:46.774Z"
   },
   {
    "duration": 0,
    "start_time": "2023-04-07T12:14:46.933Z"
   },
   {
    "duration": 1669,
    "start_time": "2023-04-07T12:19:42.440Z"
   },
   {
    "duration": 832,
    "start_time": "2023-04-07T12:19:44.111Z"
   },
   {
    "duration": 24,
    "start_time": "2023-04-07T12:19:44.945Z"
   },
   {
    "duration": 141,
    "start_time": "2023-04-07T12:19:44.971Z"
   },
   {
    "duration": 29,
    "start_time": "2023-04-07T12:19:45.114Z"
   },
   {
    "duration": 54,
    "start_time": "2023-04-07T12:19:45.145Z"
   },
   {
    "duration": 436,
    "start_time": "2023-04-07T12:19:45.201Z"
   },
   {
    "duration": 38,
    "start_time": "2023-04-07T12:19:45.639Z"
   },
   {
    "duration": 11,
    "start_time": "2023-04-07T12:19:45.679Z"
   },
   {
    "duration": 35,
    "start_time": "2023-04-07T12:19:45.692Z"
   },
   {
    "duration": 6,
    "start_time": "2023-04-07T12:19:45.728Z"
   },
   {
    "duration": 48,
    "start_time": "2023-04-07T12:19:45.736Z"
   },
   {
    "duration": 30,
    "start_time": "2023-04-07T12:19:45.785Z"
   },
   {
    "duration": 45,
    "start_time": "2023-04-07T12:19:45.817Z"
   },
   {
    "duration": 25,
    "start_time": "2023-04-07T12:19:45.864Z"
   },
   {
    "duration": 17,
    "start_time": "2023-04-07T12:19:45.891Z"
   },
   {
    "duration": 7,
    "start_time": "2023-04-07T12:19:45.910Z"
   },
   {
    "duration": 30,
    "start_time": "2023-04-07T12:19:45.919Z"
   },
   {
    "duration": 47,
    "start_time": "2023-04-07T12:19:45.951Z"
   },
   {
    "duration": 6,
    "start_time": "2023-04-07T12:19:46.000Z"
   },
   {
    "duration": 23,
    "start_time": "2023-04-07T12:19:46.007Z"
   },
   {
    "duration": 65,
    "start_time": "2023-04-07T12:19:46.032Z"
   },
   {
    "duration": 21,
    "start_time": "2023-04-07T12:19:46.099Z"
   },
   {
    "duration": 59,
    "start_time": "2023-04-07T12:19:46.122Z"
   },
   {
    "duration": 16,
    "start_time": "2023-04-07T12:19:46.183Z"
   },
   {
    "duration": 18,
    "start_time": "2023-04-07T12:19:46.200Z"
   },
   {
    "duration": 305,
    "start_time": "2023-04-07T12:19:46.220Z"
   },
   {
    "duration": 14,
    "start_time": "2023-04-07T12:19:46.532Z"
   },
   {
    "duration": 134,
    "start_time": "2023-04-07T12:19:46.561Z"
   },
   {
    "duration": 26,
    "start_time": "2023-04-07T12:19:46.697Z"
   },
   {
    "duration": 68,
    "start_time": "2023-04-07T12:19:46.725Z"
   },
   {
    "duration": 16,
    "start_time": "2023-04-07T12:19:46.795Z"
   },
   {
    "duration": 10,
    "start_time": "2023-04-07T12:19:46.812Z"
   },
   {
    "duration": 43,
    "start_time": "2023-04-07T12:19:46.823Z"
   },
   {
    "duration": 16,
    "start_time": "2023-04-07T12:19:46.868Z"
   },
   {
    "duration": 28,
    "start_time": "2023-04-07T12:19:46.885Z"
   },
   {
    "duration": 50,
    "start_time": "2023-04-07T12:19:46.915Z"
   },
   {
    "duration": 267,
    "start_time": "2023-04-07T12:19:46.967Z"
   },
   {
    "duration": 45,
    "start_time": "2023-04-07T12:19:47.237Z"
   },
   {
    "duration": 23,
    "start_time": "2023-04-07T12:19:47.284Z"
   },
   {
    "duration": 39,
    "start_time": "2023-04-07T12:19:47.310Z"
   },
   {
    "duration": 35,
    "start_time": "2023-04-07T12:19:47.351Z"
   },
   {
    "duration": 18,
    "start_time": "2023-04-07T12:19:47.389Z"
   },
   {
    "duration": 55,
    "start_time": "2023-04-07T12:19:47.409Z"
   },
   {
    "duration": 22,
    "start_time": "2023-04-07T12:19:47.465Z"
   },
   {
    "duration": 40,
    "start_time": "2023-04-07T12:19:47.489Z"
   },
   {
    "duration": 37,
    "start_time": "2023-04-07T12:19:47.531Z"
   },
   {
    "duration": 49,
    "start_time": "2023-04-07T12:19:47.570Z"
   },
   {
    "duration": 16,
    "start_time": "2023-04-07T12:19:47.621Z"
   },
   {
    "duration": 149,
    "start_time": "2023-04-07T12:19:47.638Z"
   },
   {
    "duration": 136,
    "start_time": "2023-04-07T12:19:47.790Z"
   },
   {
    "duration": 260,
    "start_time": "2023-04-07T12:19:47.928Z"
   },
   {
    "duration": 2,
    "start_time": "2023-04-07T12:19:48.190Z"
   },
   {
    "duration": 5,
    "start_time": "2023-04-07T12:19:48.194Z"
   },
   {
    "duration": 233,
    "start_time": "2023-04-07T12:19:48.201Z"
   },
   {
    "duration": 483,
    "start_time": "2023-04-07T12:19:48.436Z"
   },
   {
    "duration": 74,
    "start_time": "2023-04-07T12:19:48.921Z"
   },
   {
    "duration": 4,
    "start_time": "2023-04-07T12:19:48.997Z"
   },
   {
    "duration": 3,
    "start_time": "2023-04-07T12:19:49.003Z"
   },
   {
    "duration": 146,
    "start_time": "2023-04-07T12:19:49.008Z"
   },
   {
    "duration": 0,
    "start_time": "2023-04-07T12:19:49.156Z"
   },
   {
    "duration": 0,
    "start_time": "2023-04-07T12:19:49.162Z"
   },
   {
    "duration": 0,
    "start_time": "2023-04-07T12:19:49.163Z"
   },
   {
    "duration": 0,
    "start_time": "2023-04-07T12:19:49.165Z"
   },
   {
    "duration": 0,
    "start_time": "2023-04-07T12:19:49.166Z"
   },
   {
    "duration": 0,
    "start_time": "2023-04-07T12:19:49.167Z"
   },
   {
    "duration": 0,
    "start_time": "2023-04-07T12:19:49.169Z"
   },
   {
    "duration": 0,
    "start_time": "2023-04-07T12:19:49.170Z"
   },
   {
    "duration": 0,
    "start_time": "2023-04-07T12:19:49.171Z"
   },
   {
    "duration": 20,
    "start_time": "2023-04-07T12:23:38.555Z"
   },
   {
    "duration": 4,
    "start_time": "2023-04-07T12:23:45.662Z"
   },
   {
    "duration": 95,
    "start_time": "2023-04-07T12:23:46.518Z"
   },
   {
    "duration": 1558,
    "start_time": "2023-04-07T13:06:51.813Z"
   },
   {
    "duration": 963,
    "start_time": "2023-04-07T13:06:53.374Z"
   },
   {
    "duration": 23,
    "start_time": "2023-04-07T13:06:54.339Z"
   },
   {
    "duration": 141,
    "start_time": "2023-04-07T13:06:54.365Z"
   },
   {
    "duration": 28,
    "start_time": "2023-04-07T13:06:54.508Z"
   },
   {
    "duration": 71,
    "start_time": "2023-04-07T13:06:54.538Z"
   },
   {
    "duration": 313,
    "start_time": "2023-04-07T13:06:54.611Z"
   },
   {
    "duration": 26,
    "start_time": "2023-04-07T13:06:54.926Z"
   },
   {
    "duration": 12,
    "start_time": "2023-04-07T13:06:54.962Z"
   },
   {
    "duration": 43,
    "start_time": "2023-04-07T13:06:54.977Z"
   },
   {
    "duration": 6,
    "start_time": "2023-04-07T13:06:55.022Z"
   },
   {
    "duration": 48,
    "start_time": "2023-04-07T13:06:55.030Z"
   },
   {
    "duration": 27,
    "start_time": "2023-04-07T13:06:55.080Z"
   },
   {
    "duration": 22,
    "start_time": "2023-04-07T13:06:55.108Z"
   },
   {
    "duration": 49,
    "start_time": "2023-04-07T13:06:55.132Z"
   },
   {
    "duration": 18,
    "start_time": "2023-04-07T13:06:55.183Z"
   },
   {
    "duration": 7,
    "start_time": "2023-04-07T13:06:55.203Z"
   },
   {
    "duration": 7,
    "start_time": "2023-04-07T13:06:55.211Z"
   },
   {
    "duration": 73,
    "start_time": "2023-04-07T13:06:55.220Z"
   },
   {
    "duration": 8,
    "start_time": "2023-04-07T13:06:55.295Z"
   },
   {
    "duration": 23,
    "start_time": "2023-04-07T13:06:55.305Z"
   },
   {
    "duration": 62,
    "start_time": "2023-04-07T13:06:55.330Z"
   },
   {
    "duration": 23,
    "start_time": "2023-04-07T13:06:55.394Z"
   },
   {
    "duration": 67,
    "start_time": "2023-04-07T13:06:55.419Z"
   },
   {
    "duration": 17,
    "start_time": "2023-04-07T13:06:55.488Z"
   },
   {
    "duration": 20,
    "start_time": "2023-04-07T13:06:55.507Z"
   },
   {
    "duration": 295,
    "start_time": "2023-04-07T13:06:55.529Z"
   },
   {
    "duration": 97,
    "start_time": "2023-04-07T13:06:55.828Z"
   },
   {
    "duration": 40,
    "start_time": "2023-04-07T13:06:55.926Z"
   },
   {
    "duration": 22,
    "start_time": "2023-04-07T13:06:55.967Z"
   },
   {
    "duration": 37,
    "start_time": "2023-04-07T13:06:55.990Z"
   },
   {
    "duration": 34,
    "start_time": "2023-04-07T13:06:56.029Z"
   },
   {
    "duration": 5,
    "start_time": "2023-04-07T13:06:56.064Z"
   },
   {
    "duration": 24,
    "start_time": "2023-04-07T13:06:56.070Z"
   },
   {
    "duration": 15,
    "start_time": "2023-04-07T13:06:56.095Z"
   },
   {
    "duration": 22,
    "start_time": "2023-04-07T13:06:56.111Z"
   },
   {
    "duration": 51,
    "start_time": "2023-04-07T13:06:56.134Z"
   },
   {
    "duration": 249,
    "start_time": "2023-04-07T13:06:56.187Z"
   },
   {
    "duration": 34,
    "start_time": "2023-04-07T13:06:56.438Z"
   },
   {
    "duration": 19,
    "start_time": "2023-04-07T13:06:56.474Z"
   },
   {
    "duration": 21,
    "start_time": "2023-04-07T13:06:56.495Z"
   },
   {
    "duration": 16,
    "start_time": "2023-04-07T13:06:56.517Z"
   },
   {
    "duration": 44,
    "start_time": "2023-04-07T13:06:56.535Z"
   },
   {
    "duration": 33,
    "start_time": "2023-04-07T13:06:56.581Z"
   },
   {
    "duration": 18,
    "start_time": "2023-04-07T13:06:56.615Z"
   },
   {
    "duration": 44,
    "start_time": "2023-04-07T13:06:56.635Z"
   },
   {
    "duration": 17,
    "start_time": "2023-04-07T13:06:56.681Z"
   },
   {
    "duration": 65,
    "start_time": "2023-04-07T13:06:56.699Z"
   },
   {
    "duration": 16,
    "start_time": "2023-04-07T13:06:56.766Z"
   },
   {
    "duration": 82,
    "start_time": "2023-04-07T13:06:56.784Z"
   },
   {
    "duration": 131,
    "start_time": "2023-04-07T13:06:56.868Z"
   },
   {
    "duration": 277,
    "start_time": "2023-04-07T13:06:57.001Z"
   },
   {
    "duration": 2,
    "start_time": "2023-04-07T13:06:57.281Z"
   },
   {
    "duration": 125,
    "start_time": "2023-04-07T13:06:57.285Z"
   },
   {
    "duration": 0,
    "start_time": "2023-04-07T13:06:57.412Z"
   },
   {
    "duration": 0,
    "start_time": "2023-04-07T13:06:57.413Z"
   },
   {
    "duration": 0,
    "start_time": "2023-04-07T13:06:57.415Z"
   },
   {
    "duration": 0,
    "start_time": "2023-04-07T13:06:57.416Z"
   },
   {
    "duration": 0,
    "start_time": "2023-04-07T13:06:57.417Z"
   },
   {
    "duration": 0,
    "start_time": "2023-04-07T13:06:57.418Z"
   },
   {
    "duration": 1,
    "start_time": "2023-04-07T13:06:57.418Z"
   },
   {
    "duration": 0,
    "start_time": "2023-04-07T13:06:57.420Z"
   },
   {
    "duration": 0,
    "start_time": "2023-04-07T13:06:57.422Z"
   },
   {
    "duration": 0,
    "start_time": "2023-04-07T13:06:57.423Z"
   },
   {
    "duration": 0,
    "start_time": "2023-04-07T13:06:57.424Z"
   },
   {
    "duration": 0,
    "start_time": "2023-04-07T13:06:57.425Z"
   },
   {
    "duration": 0,
    "start_time": "2023-04-07T13:06:57.426Z"
   },
   {
    "duration": 0,
    "start_time": "2023-04-07T13:06:57.427Z"
   },
   {
    "duration": 0,
    "start_time": "2023-04-07T13:06:57.428Z"
   },
   {
    "duration": 0,
    "start_time": "2023-04-07T13:06:57.430Z"
   },
   {
    "duration": 0,
    "start_time": "2023-04-07T13:06:57.431Z"
   },
   {
    "duration": 0,
    "start_time": "2023-04-07T13:06:57.462Z"
   },
   {
    "duration": 0,
    "start_time": "2023-04-07T13:06:57.464Z"
   },
   {
    "duration": 0,
    "start_time": "2023-04-07T13:06:57.465Z"
   },
   {
    "duration": 0,
    "start_time": "2023-04-07T13:06:57.466Z"
   },
   {
    "duration": 0,
    "start_time": "2023-04-07T13:06:57.467Z"
   },
   {
    "duration": 0,
    "start_time": "2023-04-07T13:06:57.468Z"
   },
   {
    "duration": 0,
    "start_time": "2023-04-07T13:06:57.470Z"
   },
   {
    "duration": 0,
    "start_time": "2023-04-07T13:06:57.471Z"
   },
   {
    "duration": 3,
    "start_time": "2023-04-07T13:07:13.913Z"
   },
   {
    "duration": 63,
    "start_time": "2023-04-07T13:07:17.256Z"
   },
   {
    "duration": 369,
    "start_time": "2023-04-07T13:07:19.257Z"
   },
   {
    "duration": 513,
    "start_time": "2023-04-07T13:12:22.449Z"
   },
   {
    "duration": 4,
    "start_time": "2023-04-07T13:12:34.114Z"
   },
   {
    "duration": 142,
    "start_time": "2023-04-07T13:12:40.637Z"
   },
   {
    "duration": 50,
    "start_time": "2023-04-07T13:12:44.978Z"
   },
   {
    "duration": 51,
    "start_time": "2023-04-07T13:13:00.410Z"
   },
   {
    "duration": 570,
    "start_time": "2023-04-07T13:13:16.729Z"
   },
   {
    "duration": 3,
    "start_time": "2023-04-07T13:14:17.308Z"
   },
   {
    "duration": 60,
    "start_time": "2023-04-07T13:14:33.027Z"
   },
   {
    "duration": 3,
    "start_time": "2023-04-07T13:14:38.137Z"
   },
   {
    "duration": 58,
    "start_time": "2023-04-07T13:14:39.466Z"
   },
   {
    "duration": 13,
    "start_time": "2023-04-07T13:15:00.123Z"
   },
   {
    "duration": 18,
    "start_time": "2023-04-07T13:16:51.371Z"
   },
   {
    "duration": 1580,
    "start_time": "2023-04-07T13:40:19.637Z"
   },
   {
    "duration": 909,
    "start_time": "2023-04-07T13:40:21.219Z"
   },
   {
    "duration": 17,
    "start_time": "2023-04-07T13:40:22.130Z"
   },
   {
    "duration": 151,
    "start_time": "2023-04-07T13:40:22.150Z"
   },
   {
    "duration": 33,
    "start_time": "2023-04-07T13:40:22.303Z"
   },
   {
    "duration": 59,
    "start_time": "2023-04-07T13:40:22.338Z"
   },
   {
    "duration": 286,
    "start_time": "2023-04-07T13:40:22.398Z"
   },
   {
    "duration": 25,
    "start_time": "2023-04-07T13:40:22.686Z"
   },
   {
    "duration": 10,
    "start_time": "2023-04-07T13:40:22.713Z"
   },
   {
    "duration": 61,
    "start_time": "2023-04-07T13:40:22.725Z"
   },
   {
    "duration": 5,
    "start_time": "2023-04-07T13:40:22.788Z"
   },
   {
    "duration": 45,
    "start_time": "2023-04-07T13:40:22.794Z"
   },
   {
    "duration": 29,
    "start_time": "2023-04-07T13:40:22.841Z"
   },
   {
    "duration": 21,
    "start_time": "2023-04-07T13:40:22.872Z"
   },
   {
    "duration": 24,
    "start_time": "2023-04-07T13:40:22.894Z"
   },
   {
    "duration": 19,
    "start_time": "2023-04-07T13:40:22.919Z"
   },
   {
    "duration": 26,
    "start_time": "2023-04-07T13:40:22.940Z"
   },
   {
    "duration": 13,
    "start_time": "2023-04-07T13:40:22.968Z"
   },
   {
    "duration": 38,
    "start_time": "2023-04-07T13:40:22.983Z"
   },
   {
    "duration": 6,
    "start_time": "2023-04-07T13:40:23.023Z"
   },
   {
    "duration": 43,
    "start_time": "2023-04-07T13:40:23.030Z"
   },
   {
    "duration": 37,
    "start_time": "2023-04-07T13:40:23.075Z"
   },
   {
    "duration": 18,
    "start_time": "2023-04-07T13:40:23.113Z"
   },
   {
    "duration": 65,
    "start_time": "2023-04-07T13:40:23.133Z"
   },
   {
    "duration": 17,
    "start_time": "2023-04-07T13:40:23.199Z"
   },
   {
    "duration": 31,
    "start_time": "2023-04-07T13:40:23.218Z"
   },
   {
    "duration": 276,
    "start_time": "2023-04-07T13:40:23.250Z"
   },
   {
    "duration": 98,
    "start_time": "2023-04-07T13:40:23.530Z"
   },
   {
    "duration": 38,
    "start_time": "2023-04-07T13:40:23.630Z"
   },
   {
    "duration": 18,
    "start_time": "2023-04-07T13:40:23.670Z"
   },
   {
    "duration": 37,
    "start_time": "2023-04-07T13:40:23.690Z"
   },
   {
    "duration": 15,
    "start_time": "2023-04-07T13:40:23.728Z"
   },
   {
    "duration": 5,
    "start_time": "2023-04-07T13:40:23.763Z"
   },
   {
    "duration": 17,
    "start_time": "2023-04-07T13:40:23.770Z"
   },
   {
    "duration": 14,
    "start_time": "2023-04-07T13:40:23.789Z"
   },
   {
    "duration": 18,
    "start_time": "2023-04-07T13:40:23.805Z"
   },
   {
    "duration": 57,
    "start_time": "2023-04-07T13:40:23.824Z"
   },
   {
    "duration": 324,
    "start_time": "2023-04-07T13:40:23.883Z"
   },
   {
    "duration": 28,
    "start_time": "2023-04-07T13:40:24.209Z"
   },
   {
    "duration": 25,
    "start_time": "2023-04-07T13:40:24.239Z"
   },
   {
    "duration": 20,
    "start_time": "2023-04-07T13:40:24.266Z"
   },
   {
    "duration": 15,
    "start_time": "2023-04-07T13:40:24.288Z"
   },
   {
    "duration": 25,
    "start_time": "2023-04-07T13:40:24.305Z"
   },
   {
    "duration": 48,
    "start_time": "2023-04-07T13:40:24.332Z"
   },
   {
    "duration": 19,
    "start_time": "2023-04-07T13:40:24.382Z"
   },
   {
    "duration": 35,
    "start_time": "2023-04-07T13:40:24.403Z"
   },
   {
    "duration": 27,
    "start_time": "2023-04-07T13:40:24.440Z"
   },
   {
    "duration": 51,
    "start_time": "2023-04-07T13:40:24.469Z"
   },
   {
    "duration": 16,
    "start_time": "2023-04-07T13:40:24.521Z"
   },
   {
    "duration": 85,
    "start_time": "2023-04-07T13:40:24.539Z"
   },
   {
    "duration": 137,
    "start_time": "2023-04-07T13:40:24.625Z"
   },
   {
    "duration": 273,
    "start_time": "2023-04-07T13:40:24.764Z"
   },
   {
    "duration": 3,
    "start_time": "2023-04-07T13:40:25.039Z"
   },
   {
    "duration": 517,
    "start_time": "2023-04-07T13:40:25.044Z"
   },
   {
    "duration": 153,
    "start_time": "2023-04-07T13:40:25.563Z"
   },
   {
    "duration": 236,
    "start_time": "2023-04-07T13:40:25.717Z"
   },
   {
    "duration": 132,
    "start_time": "2023-04-07T13:40:25.955Z"
   },
   {
    "duration": 0,
    "start_time": "2023-04-07T13:40:26.088Z"
   },
   {
    "duration": 0,
    "start_time": "2023-04-07T13:40:26.089Z"
   },
   {
    "duration": 0,
    "start_time": "2023-04-07T13:40:26.090Z"
   },
   {
    "duration": 0,
    "start_time": "2023-04-07T13:40:26.092Z"
   },
   {
    "duration": 0,
    "start_time": "2023-04-07T13:40:26.093Z"
   },
   {
    "duration": 0,
    "start_time": "2023-04-07T13:40:26.094Z"
   },
   {
    "duration": 0,
    "start_time": "2023-04-07T13:40:26.096Z"
   },
   {
    "duration": 0,
    "start_time": "2023-04-07T13:40:26.097Z"
   },
   {
    "duration": 0,
    "start_time": "2023-04-07T13:40:26.098Z"
   },
   {
    "duration": 0,
    "start_time": "2023-04-07T13:40:26.099Z"
   },
   {
    "duration": 0,
    "start_time": "2023-04-07T13:40:26.100Z"
   },
   {
    "duration": 0,
    "start_time": "2023-04-07T13:40:26.101Z"
   },
   {
    "duration": 0,
    "start_time": "2023-04-07T13:40:26.102Z"
   },
   {
    "duration": 0,
    "start_time": "2023-04-07T13:40:26.103Z"
   },
   {
    "duration": 0,
    "start_time": "2023-04-07T13:40:26.104Z"
   },
   {
    "duration": 0,
    "start_time": "2023-04-07T13:40:26.106Z"
   },
   {
    "duration": 0,
    "start_time": "2023-04-07T13:40:26.107Z"
   },
   {
    "duration": 0,
    "start_time": "2023-04-07T13:40:26.109Z"
   },
   {
    "duration": 0,
    "start_time": "2023-04-07T13:40:26.110Z"
   },
   {
    "duration": 0,
    "start_time": "2023-04-07T13:40:26.112Z"
   },
   {
    "duration": 0,
    "start_time": "2023-04-07T13:40:26.113Z"
   },
   {
    "duration": 0,
    "start_time": "2023-04-07T13:40:26.114Z"
   },
   {
    "duration": 0,
    "start_time": "2023-04-07T13:40:26.114Z"
   },
   {
    "duration": 0,
    "start_time": "2023-04-07T13:40:26.115Z"
   },
   {
    "duration": 0,
    "start_time": "2023-04-07T13:40:26.116Z"
   },
   {
    "duration": 0,
    "start_time": "2023-04-07T13:40:26.162Z"
   },
   {
    "duration": 0,
    "start_time": "2023-04-07T13:40:26.163Z"
   },
   {
    "duration": 1604,
    "start_time": "2023-04-07T13:57:27.816Z"
   },
   {
    "duration": 940,
    "start_time": "2023-04-07T13:57:29.422Z"
   },
   {
    "duration": 19,
    "start_time": "2023-04-07T13:57:30.364Z"
   },
   {
    "duration": 195,
    "start_time": "2023-04-07T13:57:30.386Z"
   },
   {
    "duration": 31,
    "start_time": "2023-04-07T13:57:30.582Z"
   },
   {
    "duration": 72,
    "start_time": "2023-04-07T13:57:30.614Z"
   },
   {
    "duration": 304,
    "start_time": "2023-04-07T13:57:30.688Z"
   },
   {
    "duration": 27,
    "start_time": "2023-04-07T13:57:30.994Z"
   },
   {
    "duration": 46,
    "start_time": "2023-04-07T13:57:31.023Z"
   },
   {
    "duration": 71,
    "start_time": "2023-04-07T13:57:31.072Z"
   },
   {
    "duration": 6,
    "start_time": "2023-04-07T13:57:31.145Z"
   },
   {
    "duration": 73,
    "start_time": "2023-04-07T13:57:31.152Z"
   },
   {
    "duration": 60,
    "start_time": "2023-04-07T13:57:31.226Z"
   },
   {
    "duration": 51,
    "start_time": "2023-04-07T13:57:31.288Z"
   },
   {
    "duration": 51,
    "start_time": "2023-04-07T13:57:31.341Z"
   },
   {
    "duration": 29,
    "start_time": "2023-04-07T13:57:31.394Z"
   },
   {
    "duration": 28,
    "start_time": "2023-04-07T13:57:31.425Z"
   },
   {
    "duration": 23,
    "start_time": "2023-04-07T13:57:31.454Z"
   },
   {
    "duration": 59,
    "start_time": "2023-04-07T13:57:31.479Z"
   },
   {
    "duration": 6,
    "start_time": "2023-04-07T13:57:31.540Z"
   },
   {
    "duration": 35,
    "start_time": "2023-04-07T13:57:31.548Z"
   },
   {
    "duration": 56,
    "start_time": "2023-04-07T13:57:31.585Z"
   },
   {
    "duration": 21,
    "start_time": "2023-04-07T13:57:31.642Z"
   },
   {
    "duration": 69,
    "start_time": "2023-04-07T13:57:31.665Z"
   },
   {
    "duration": 17,
    "start_time": "2023-04-07T13:57:31.736Z"
   },
   {
    "duration": 39,
    "start_time": "2023-04-07T13:57:31.755Z"
   },
   {
    "duration": 287,
    "start_time": "2023-04-07T13:57:31.796Z"
   },
   {
    "duration": 93,
    "start_time": "2023-04-07T13:57:32.087Z"
   },
   {
    "duration": 42,
    "start_time": "2023-04-07T13:57:32.181Z"
   },
   {
    "duration": 18,
    "start_time": "2023-04-07T13:57:32.225Z"
   },
   {
    "duration": 49,
    "start_time": "2023-04-07T13:57:32.245Z"
   },
   {
    "duration": 18,
    "start_time": "2023-04-07T13:57:32.296Z"
   },
   {
    "duration": 23,
    "start_time": "2023-04-07T13:57:32.316Z"
   },
   {
    "duration": 61,
    "start_time": "2023-04-07T13:57:32.341Z"
   },
   {
    "duration": 33,
    "start_time": "2023-04-07T13:57:32.404Z"
   },
   {
    "duration": 36,
    "start_time": "2023-04-07T13:57:32.438Z"
   },
   {
    "duration": 39,
    "start_time": "2023-04-07T13:57:32.476Z"
   },
   {
    "duration": 267,
    "start_time": "2023-04-07T13:57:32.517Z"
   },
   {
    "duration": 30,
    "start_time": "2023-04-07T13:57:32.786Z"
   },
   {
    "duration": 29,
    "start_time": "2023-04-07T13:57:32.818Z"
   },
   {
    "duration": 29,
    "start_time": "2023-04-07T13:57:32.849Z"
   },
   {
    "duration": 22,
    "start_time": "2023-04-07T13:57:32.879Z"
   },
   {
    "duration": 27,
    "start_time": "2023-04-07T13:57:32.902Z"
   },
   {
    "duration": 34,
    "start_time": "2023-04-07T13:57:32.931Z"
   },
   {
    "duration": 19,
    "start_time": "2023-04-07T13:57:32.967Z"
   },
   {
    "duration": 30,
    "start_time": "2023-04-07T13:57:32.987Z"
   },
   {
    "duration": 16,
    "start_time": "2023-04-07T13:57:33.019Z"
   },
   {
    "duration": 56,
    "start_time": "2023-04-07T13:57:33.062Z"
   },
   {
    "duration": 15,
    "start_time": "2023-04-07T13:57:33.120Z"
   },
   {
    "duration": 93,
    "start_time": "2023-04-07T13:57:33.137Z"
   },
   {
    "duration": 131,
    "start_time": "2023-04-07T13:57:33.231Z"
   },
   {
    "duration": 254,
    "start_time": "2023-04-07T13:57:33.364Z"
   },
   {
    "duration": 197,
    "start_time": "2023-04-07T13:57:33.620Z"
   },
   {
    "duration": 0,
    "start_time": "2023-04-07T13:57:33.819Z"
   },
   {
    "duration": 0,
    "start_time": "2023-04-07T13:57:33.820Z"
   },
   {
    "duration": 0,
    "start_time": "2023-04-07T13:57:33.821Z"
   },
   {
    "duration": 0,
    "start_time": "2023-04-07T13:57:33.822Z"
   },
   {
    "duration": 0,
    "start_time": "2023-04-07T13:57:33.824Z"
   },
   {
    "duration": 0,
    "start_time": "2023-04-07T13:57:33.825Z"
   },
   {
    "duration": 0,
    "start_time": "2023-04-07T13:57:33.826Z"
   },
   {
    "duration": 0,
    "start_time": "2023-04-07T13:57:33.828Z"
   },
   {
    "duration": 0,
    "start_time": "2023-04-07T13:57:33.829Z"
   },
   {
    "duration": 0,
    "start_time": "2023-04-07T13:57:33.829Z"
   },
   {
    "duration": 0,
    "start_time": "2023-04-07T13:57:33.830Z"
   },
   {
    "duration": 0,
    "start_time": "2023-04-07T13:57:33.831Z"
   },
   {
    "duration": 0,
    "start_time": "2023-04-07T13:57:33.832Z"
   },
   {
    "duration": 0,
    "start_time": "2023-04-07T13:57:33.833Z"
   },
   {
    "duration": 0,
    "start_time": "2023-04-07T13:57:33.834Z"
   },
   {
    "duration": 0,
    "start_time": "2023-04-07T13:57:33.862Z"
   },
   {
    "duration": 0,
    "start_time": "2023-04-07T13:57:33.863Z"
   },
   {
    "duration": 0,
    "start_time": "2023-04-07T13:57:33.864Z"
   },
   {
    "duration": 0,
    "start_time": "2023-04-07T13:57:33.865Z"
   },
   {
    "duration": 0,
    "start_time": "2023-04-07T13:57:33.866Z"
   },
   {
    "duration": 0,
    "start_time": "2023-04-07T13:57:33.867Z"
   },
   {
    "duration": 0,
    "start_time": "2023-04-07T13:57:33.868Z"
   },
   {
    "duration": 0,
    "start_time": "2023-04-07T13:57:33.870Z"
   },
   {
    "duration": 0,
    "start_time": "2023-04-07T13:57:33.871Z"
   },
   {
    "duration": 0,
    "start_time": "2023-04-07T13:57:33.872Z"
   },
   {
    "duration": 0,
    "start_time": "2023-04-07T13:57:33.873Z"
   },
   {
    "duration": 0,
    "start_time": "2023-04-07T13:57:33.873Z"
   },
   {
    "duration": 0,
    "start_time": "2023-04-07T13:57:33.874Z"
   },
   {
    "duration": 0,
    "start_time": "2023-04-07T13:57:33.875Z"
   },
   {
    "duration": 0,
    "start_time": "2023-04-07T13:57:33.877Z"
   },
   {
    "duration": 0,
    "start_time": "2023-04-07T13:57:33.878Z"
   },
   {
    "duration": 0,
    "start_time": "2023-04-07T13:57:33.879Z"
   },
   {
    "duration": 0,
    "start_time": "2023-04-07T13:57:33.880Z"
   },
   {
    "duration": 81,
    "start_time": "2023-04-07T13:58:30.548Z"
   },
   {
    "duration": 4,
    "start_time": "2023-04-07T14:01:23.184Z"
   },
   {
    "duration": 460,
    "start_time": "2023-04-07T14:05:46.279Z"
   },
   {
    "duration": 149,
    "start_time": "2023-04-07T14:06:51.105Z"
   },
   {
    "duration": 4,
    "start_time": "2023-04-07T14:07:30.794Z"
   },
   {
    "duration": 59,
    "start_time": "2023-04-07T14:07:42.866Z"
   },
   {
    "duration": 13,
    "start_time": "2023-04-07T14:09:16.994Z"
   },
   {
    "duration": 18,
    "start_time": "2023-04-07T14:09:26.576Z"
   },
   {
    "duration": 1893,
    "start_time": "2023-04-07T14:16:01.046Z"
   },
   {
    "duration": 1105,
    "start_time": "2023-04-07T14:16:02.941Z"
   },
   {
    "duration": 30,
    "start_time": "2023-04-07T14:16:04.047Z"
   },
   {
    "duration": 165,
    "start_time": "2023-04-07T14:16:04.080Z"
   },
   {
    "duration": 38,
    "start_time": "2023-04-07T14:16:04.246Z"
   },
   {
    "duration": 69,
    "start_time": "2023-04-07T14:16:04.286Z"
   },
   {
    "duration": 376,
    "start_time": "2023-04-07T14:16:04.357Z"
   },
   {
    "duration": 39,
    "start_time": "2023-04-07T14:16:04.735Z"
   },
   {
    "duration": 17,
    "start_time": "2023-04-07T14:16:04.777Z"
   },
   {
    "duration": 49,
    "start_time": "2023-04-07T14:16:04.797Z"
   },
   {
    "duration": 20,
    "start_time": "2023-04-07T14:16:04.848Z"
   },
   {
    "duration": 46,
    "start_time": "2023-04-07T14:16:04.872Z"
   },
   {
    "duration": 49,
    "start_time": "2023-04-07T14:16:04.920Z"
   },
   {
    "duration": 38,
    "start_time": "2023-04-07T14:16:04.972Z"
   },
   {
    "duration": 53,
    "start_time": "2023-04-07T14:16:05.013Z"
   },
   {
    "duration": 39,
    "start_time": "2023-04-07T14:16:05.068Z"
   },
   {
    "duration": 17,
    "start_time": "2023-04-07T14:16:05.109Z"
   },
   {
    "duration": 10,
    "start_time": "2023-04-07T14:16:05.129Z"
   },
   {
    "duration": 57,
    "start_time": "2023-04-07T14:16:05.161Z"
   },
   {
    "duration": 9,
    "start_time": "2023-04-07T14:16:05.220Z"
   },
   {
    "duration": 65,
    "start_time": "2023-04-07T14:16:05.231Z"
   },
   {
    "duration": 69,
    "start_time": "2023-04-07T14:16:05.301Z"
   },
   {
    "duration": 39,
    "start_time": "2023-04-07T14:16:05.373Z"
   },
   {
    "duration": 76,
    "start_time": "2023-04-07T14:16:05.414Z"
   },
   {
    "duration": 37,
    "start_time": "2023-04-07T14:16:05.493Z"
   },
   {
    "duration": 35,
    "start_time": "2023-04-07T14:16:05.533Z"
   },
   {
    "duration": 394,
    "start_time": "2023-04-07T14:16:05.583Z"
   },
   {
    "duration": 107,
    "start_time": "2023-04-07T14:16:05.982Z"
   },
   {
    "duration": 51,
    "start_time": "2023-04-07T14:16:06.091Z"
   },
   {
    "duration": 50,
    "start_time": "2023-04-07T14:16:06.144Z"
   },
   {
    "duration": 54,
    "start_time": "2023-04-07T14:16:06.196Z"
   },
   {
    "duration": 19,
    "start_time": "2023-04-07T14:16:06.253Z"
   },
   {
    "duration": 11,
    "start_time": "2023-04-07T14:16:06.275Z"
   },
   {
    "duration": 27,
    "start_time": "2023-04-07T14:16:06.288Z"
   },
   {
    "duration": 28,
    "start_time": "2023-04-07T14:16:06.318Z"
   },
   {
    "duration": 35,
    "start_time": "2023-04-07T14:16:06.363Z"
   },
   {
    "duration": 60,
    "start_time": "2023-04-07T14:16:06.404Z"
   },
   {
    "duration": 432,
    "start_time": "2023-04-07T14:16:06.466Z"
   },
   {
    "duration": 33,
    "start_time": "2023-04-07T14:16:06.900Z"
   },
   {
    "duration": 28,
    "start_time": "2023-04-07T14:16:06.935Z"
   },
   {
    "duration": 35,
    "start_time": "2023-04-07T14:16:06.966Z"
   },
   {
    "duration": 16,
    "start_time": "2023-04-07T14:16:07.003Z"
   },
   {
    "duration": 44,
    "start_time": "2023-04-07T14:16:07.021Z"
   },
   {
    "duration": 42,
    "start_time": "2023-04-07T14:16:07.067Z"
   },
   {
    "duration": 32,
    "start_time": "2023-04-07T14:16:07.111Z"
   },
   {
    "duration": 65,
    "start_time": "2023-04-07T14:16:07.144Z"
   },
   {
    "duration": 28,
    "start_time": "2023-04-07T14:16:07.211Z"
   },
   {
    "duration": 91,
    "start_time": "2023-04-07T14:16:07.241Z"
   },
   {
    "duration": 19,
    "start_time": "2023-04-07T14:16:07.334Z"
   },
   {
    "duration": 138,
    "start_time": "2023-04-07T14:16:07.358Z"
   },
   {
    "duration": 150,
    "start_time": "2023-04-07T14:16:07.498Z"
   },
   {
    "duration": 316,
    "start_time": "2023-04-07T14:16:07.650Z"
   },
   {
    "duration": 93,
    "start_time": "2023-04-07T14:16:07.969Z"
   },
   {
    "duration": 754,
    "start_time": "2023-04-07T14:16:08.064Z"
   },
   {
    "duration": 0,
    "start_time": "2023-04-07T14:16:08.820Z"
   },
   {
    "duration": 0,
    "start_time": "2023-04-07T14:16:08.822Z"
   },
   {
    "duration": 0,
    "start_time": "2023-04-07T14:16:08.823Z"
   },
   {
    "duration": 0,
    "start_time": "2023-04-07T14:16:08.825Z"
   },
   {
    "duration": 0,
    "start_time": "2023-04-07T14:16:08.826Z"
   },
   {
    "duration": 0,
    "start_time": "2023-04-07T14:16:08.828Z"
   },
   {
    "duration": 0,
    "start_time": "2023-04-07T14:16:08.830Z"
   },
   {
    "duration": 0,
    "start_time": "2023-04-07T14:16:08.831Z"
   },
   {
    "duration": 0,
    "start_time": "2023-04-07T14:16:08.833Z"
   },
   {
    "duration": 0,
    "start_time": "2023-04-07T14:16:08.834Z"
   },
   {
    "duration": 0,
    "start_time": "2023-04-07T14:16:08.837Z"
   },
   {
    "duration": 0,
    "start_time": "2023-04-07T14:16:08.862Z"
   },
   {
    "duration": 0,
    "start_time": "2023-04-07T14:16:08.864Z"
   },
   {
    "duration": 0,
    "start_time": "2023-04-07T14:16:08.865Z"
   },
   {
    "duration": 0,
    "start_time": "2023-04-07T14:16:08.867Z"
   },
   {
    "duration": 0,
    "start_time": "2023-04-07T14:16:08.869Z"
   },
   {
    "duration": 0,
    "start_time": "2023-04-07T14:16:08.870Z"
   },
   {
    "duration": 1,
    "start_time": "2023-04-07T14:16:08.871Z"
   },
   {
    "duration": 0,
    "start_time": "2023-04-07T14:16:08.875Z"
   },
   {
    "duration": 0,
    "start_time": "2023-04-07T14:16:08.876Z"
   },
   {
    "duration": 0,
    "start_time": "2023-04-07T14:16:08.878Z"
   },
   {
    "duration": 0,
    "start_time": "2023-04-07T14:16:08.880Z"
   },
   {
    "duration": 0,
    "start_time": "2023-04-07T14:16:08.883Z"
   },
   {
    "duration": 0,
    "start_time": "2023-04-07T14:16:08.884Z"
   },
   {
    "duration": 1,
    "start_time": "2023-04-07T14:16:08.885Z"
   },
   {
    "duration": 0,
    "start_time": "2023-04-07T14:16:08.887Z"
   },
   {
    "duration": 0,
    "start_time": "2023-04-07T14:16:08.888Z"
   },
   {
    "duration": 0,
    "start_time": "2023-04-07T14:16:08.889Z"
   },
   {
    "duration": 0,
    "start_time": "2023-04-07T14:16:08.890Z"
   },
   {
    "duration": 0,
    "start_time": "2023-04-07T14:16:08.891Z"
   },
   {
    "duration": 0,
    "start_time": "2023-04-07T14:16:08.894Z"
   },
   {
    "duration": 0,
    "start_time": "2023-04-07T14:16:08.896Z"
   },
   {
    "duration": 0,
    "start_time": "2023-04-07T14:16:08.897Z"
   },
   {
    "duration": 0,
    "start_time": "2023-04-07T14:16:08.898Z"
   },
   {
    "duration": 0,
    "start_time": "2023-04-07T14:16:08.899Z"
   },
   {
    "duration": 0,
    "start_time": "2023-04-07T14:16:08.901Z"
   },
   {
    "duration": 0,
    "start_time": "2023-04-07T14:16:08.902Z"
   },
   {
    "duration": 0,
    "start_time": "2023-04-07T14:16:08.903Z"
   },
   {
    "duration": 433,
    "start_time": "2023-04-07T14:17:23.387Z"
   },
   {
    "duration": 1595,
    "start_time": "2023-04-07T15:26:45.278Z"
   },
   {
    "duration": 1110,
    "start_time": "2023-04-07T15:26:46.875Z"
   },
   {
    "duration": 28,
    "start_time": "2023-04-07T15:26:47.987Z"
   },
   {
    "duration": 187,
    "start_time": "2023-04-07T15:26:48.018Z"
   },
   {
    "duration": 31,
    "start_time": "2023-04-07T15:26:48.206Z"
   },
   {
    "duration": 64,
    "start_time": "2023-04-07T15:26:48.239Z"
   },
   {
    "duration": 314,
    "start_time": "2023-04-07T15:26:48.305Z"
   },
   {
    "duration": 35,
    "start_time": "2023-04-07T15:26:48.622Z"
   },
   {
    "duration": 13,
    "start_time": "2023-04-07T15:26:48.662Z"
   },
   {
    "duration": 40,
    "start_time": "2023-04-07T15:26:48.677Z"
   },
   {
    "duration": 7,
    "start_time": "2023-04-07T15:26:48.718Z"
   },
   {
    "duration": 70,
    "start_time": "2023-04-07T15:26:48.727Z"
   },
   {
    "duration": 37,
    "start_time": "2023-04-07T15:26:48.799Z"
   },
   {
    "duration": 42,
    "start_time": "2023-04-07T15:26:48.837Z"
   },
   {
    "duration": 23,
    "start_time": "2023-04-07T15:26:48.881Z"
   },
   {
    "duration": 19,
    "start_time": "2023-04-07T15:26:48.905Z"
   },
   {
    "duration": 38,
    "start_time": "2023-04-07T15:26:48.926Z"
   },
   {
    "duration": 8,
    "start_time": "2023-04-07T15:26:48.967Z"
   },
   {
    "duration": 50,
    "start_time": "2023-04-07T15:26:48.978Z"
   },
   {
    "duration": 35,
    "start_time": "2023-04-07T15:26:49.030Z"
   },
   {
    "duration": 34,
    "start_time": "2023-04-07T15:26:49.068Z"
   },
   {
    "duration": 59,
    "start_time": "2023-04-07T15:26:49.104Z"
   },
   {
    "duration": 19,
    "start_time": "2023-04-07T15:26:49.165Z"
   },
   {
    "duration": 79,
    "start_time": "2023-04-07T15:26:49.186Z"
   },
   {
    "duration": 17,
    "start_time": "2023-04-07T15:26:49.267Z"
   },
   {
    "duration": 17,
    "start_time": "2023-04-07T15:26:49.286Z"
   },
   {
    "duration": 335,
    "start_time": "2023-04-07T15:26:49.305Z"
   },
   {
    "duration": 129,
    "start_time": "2023-04-07T15:26:49.647Z"
   },
   {
    "duration": 28,
    "start_time": "2023-04-07T15:26:49.778Z"
   },
   {
    "duration": 22,
    "start_time": "2023-04-07T15:26:49.808Z"
   },
   {
    "duration": 79,
    "start_time": "2023-04-07T15:26:49.832Z"
   },
   {
    "duration": 27,
    "start_time": "2023-04-07T15:26:49.913Z"
   },
   {
    "duration": 25,
    "start_time": "2023-04-07T15:26:49.942Z"
   },
   {
    "duration": 24,
    "start_time": "2023-04-07T15:26:49.970Z"
   },
   {
    "duration": 18,
    "start_time": "2023-04-07T15:26:49.996Z"
   },
   {
    "duration": 66,
    "start_time": "2023-04-07T15:26:50.016Z"
   },
   {
    "duration": 44,
    "start_time": "2023-04-07T15:26:50.084Z"
   },
   {
    "duration": 302,
    "start_time": "2023-04-07T15:26:50.130Z"
   },
   {
    "duration": 33,
    "start_time": "2023-04-07T15:26:50.434Z"
   },
   {
    "duration": 27,
    "start_time": "2023-04-07T15:26:50.469Z"
   },
   {
    "duration": 37,
    "start_time": "2023-04-07T15:26:50.498Z"
   },
   {
    "duration": 46,
    "start_time": "2023-04-07T15:26:50.537Z"
   },
   {
    "duration": 37,
    "start_time": "2023-04-07T15:26:50.586Z"
   },
   {
    "duration": 47,
    "start_time": "2023-04-07T15:26:50.626Z"
   },
   {
    "duration": 34,
    "start_time": "2023-04-07T15:26:50.675Z"
   },
   {
    "duration": 62,
    "start_time": "2023-04-07T15:26:50.711Z"
   },
   {
    "duration": 31,
    "start_time": "2023-04-07T15:26:50.776Z"
   },
   {
    "duration": 77,
    "start_time": "2023-04-07T15:26:50.810Z"
   },
   {
    "duration": 16,
    "start_time": "2023-04-07T15:26:50.889Z"
   },
   {
    "duration": 85,
    "start_time": "2023-04-07T15:26:50.907Z"
   },
   {
    "duration": 139,
    "start_time": "2023-04-07T15:26:50.994Z"
   },
   {
    "duration": 264,
    "start_time": "2023-04-07T15:26:51.135Z"
   },
   {
    "duration": 76,
    "start_time": "2023-04-07T15:26:51.401Z"
   },
   {
    "duration": 5,
    "start_time": "2023-04-07T15:26:51.479Z"
   },
   {
    "duration": 137,
    "start_time": "2023-04-07T15:26:51.485Z"
   },
   {
    "duration": 0,
    "start_time": "2023-04-07T15:26:51.624Z"
   },
   {
    "duration": 0,
    "start_time": "2023-04-07T15:26:51.625Z"
   },
   {
    "duration": 0,
    "start_time": "2023-04-07T15:26:51.627Z"
   },
   {
    "duration": 0,
    "start_time": "2023-04-07T15:26:51.628Z"
   },
   {
    "duration": 0,
    "start_time": "2023-04-07T15:26:51.630Z"
   },
   {
    "duration": 0,
    "start_time": "2023-04-07T15:26:51.632Z"
   },
   {
    "duration": 0,
    "start_time": "2023-04-07T15:26:51.633Z"
   },
   {
    "duration": 0,
    "start_time": "2023-04-07T15:26:51.635Z"
   },
   {
    "duration": 0,
    "start_time": "2023-04-07T15:26:51.636Z"
   },
   {
    "duration": 0,
    "start_time": "2023-04-07T15:26:51.637Z"
   },
   {
    "duration": 0,
    "start_time": "2023-04-07T15:26:51.638Z"
   },
   {
    "duration": 0,
    "start_time": "2023-04-07T15:26:51.640Z"
   },
   {
    "duration": 0,
    "start_time": "2023-04-07T15:26:51.662Z"
   },
   {
    "duration": 0,
    "start_time": "2023-04-07T15:26:51.664Z"
   },
   {
    "duration": 0,
    "start_time": "2023-04-07T15:26:51.665Z"
   },
   {
    "duration": 0,
    "start_time": "2023-04-07T15:26:51.667Z"
   },
   {
    "duration": 0,
    "start_time": "2023-04-07T15:26:51.668Z"
   },
   {
    "duration": 0,
    "start_time": "2023-04-07T15:26:51.669Z"
   },
   {
    "duration": 0,
    "start_time": "2023-04-07T15:26:51.671Z"
   },
   {
    "duration": 0,
    "start_time": "2023-04-07T15:26:51.672Z"
   },
   {
    "duration": 0,
    "start_time": "2023-04-07T15:26:51.674Z"
   },
   {
    "duration": 1,
    "start_time": "2023-04-07T15:26:51.675Z"
   },
   {
    "duration": 0,
    "start_time": "2023-04-07T15:26:51.677Z"
   },
   {
    "duration": 0,
    "start_time": "2023-04-07T15:26:51.678Z"
   },
   {
    "duration": 0,
    "start_time": "2023-04-07T15:26:51.680Z"
   },
   {
    "duration": 0,
    "start_time": "2023-04-07T15:26:51.681Z"
   },
   {
    "duration": 0,
    "start_time": "2023-04-07T15:26:51.682Z"
   },
   {
    "duration": 0,
    "start_time": "2023-04-07T15:26:51.683Z"
   },
   {
    "duration": 0,
    "start_time": "2023-04-07T15:26:51.685Z"
   },
   {
    "duration": 0,
    "start_time": "2023-04-07T15:26:51.686Z"
   },
   {
    "duration": 0,
    "start_time": "2023-04-07T15:26:51.688Z"
   },
   {
    "duration": 0,
    "start_time": "2023-04-07T15:26:51.689Z"
   },
   {
    "duration": 0,
    "start_time": "2023-04-07T15:26:51.690Z"
   },
   {
    "duration": 0,
    "start_time": "2023-04-07T15:26:51.692Z"
   },
   {
    "duration": 0,
    "start_time": "2023-04-07T15:26:51.693Z"
   },
   {
    "duration": 0,
    "start_time": "2023-04-07T15:26:51.694Z"
   },
   {
    "duration": 0,
    "start_time": "2023-04-07T15:26:51.696Z"
   },
   {
    "duration": 0,
    "start_time": "2023-04-07T15:26:51.698Z"
   },
   {
    "duration": 0,
    "start_time": "2023-04-07T15:26:51.699Z"
   },
   {
    "duration": 463,
    "start_time": "2023-04-07T15:27:42.187Z"
   },
   {
    "duration": 4,
    "start_time": "2023-04-07T15:28:25.409Z"
   },
   {
    "duration": 149,
    "start_time": "2023-04-07T15:28:36.809Z"
   },
   {
    "duration": 92,
    "start_time": "2023-04-07T15:29:47.320Z"
   },
   {
    "duration": 4,
    "start_time": "2023-04-07T15:30:13.441Z"
   },
   {
    "duration": 18,
    "start_time": "2023-04-07T15:31:48.777Z"
   },
   {
    "duration": 15,
    "start_time": "2023-04-07T15:32:26.731Z"
   },
   {
    "duration": 1576,
    "start_time": "2023-04-07T15:40:53.080Z"
   },
   {
    "duration": 934,
    "start_time": "2023-04-07T15:40:54.658Z"
   },
   {
    "duration": 19,
    "start_time": "2023-04-07T15:40:55.593Z"
   },
   {
    "duration": 149,
    "start_time": "2023-04-07T15:40:55.613Z"
   },
   {
    "duration": 27,
    "start_time": "2023-04-07T15:40:55.765Z"
   },
   {
    "duration": 48,
    "start_time": "2023-04-07T15:40:55.795Z"
   },
   {
    "duration": 306,
    "start_time": "2023-04-07T15:40:55.845Z"
   },
   {
    "duration": 34,
    "start_time": "2023-04-07T15:40:56.152Z"
   },
   {
    "duration": 11,
    "start_time": "2023-04-07T15:40:56.188Z"
   },
   {
    "duration": 38,
    "start_time": "2023-04-07T15:40:56.201Z"
   },
   {
    "duration": 6,
    "start_time": "2023-04-07T15:40:56.262Z"
   },
   {
    "duration": 25,
    "start_time": "2023-04-07T15:40:56.269Z"
   },
   {
    "duration": 24,
    "start_time": "2023-04-07T15:40:56.296Z"
   },
   {
    "duration": 43,
    "start_time": "2023-04-07T15:40:56.324Z"
   },
   {
    "duration": 23,
    "start_time": "2023-04-07T15:40:56.369Z"
   },
   {
    "duration": 17,
    "start_time": "2023-04-07T15:40:56.393Z"
   },
   {
    "duration": 7,
    "start_time": "2023-04-07T15:40:56.411Z"
   },
   {
    "duration": 6,
    "start_time": "2023-04-07T15:40:56.420Z"
   },
   {
    "duration": 68,
    "start_time": "2023-04-07T15:40:56.428Z"
   },
   {
    "duration": 6,
    "start_time": "2023-04-07T15:40:56.498Z"
   },
   {
    "duration": 31,
    "start_time": "2023-04-07T15:40:56.506Z"
   },
   {
    "duration": 48,
    "start_time": "2023-04-07T15:40:56.539Z"
   },
   {
    "duration": 20,
    "start_time": "2023-04-07T15:40:56.588Z"
   },
   {
    "duration": 61,
    "start_time": "2023-04-07T15:40:56.609Z"
   },
   {
    "duration": 17,
    "start_time": "2023-04-07T15:40:56.672Z"
   },
   {
    "duration": 34,
    "start_time": "2023-04-07T15:40:56.691Z"
   },
   {
    "duration": 274,
    "start_time": "2023-04-07T15:40:56.726Z"
   },
   {
    "duration": 16,
    "start_time": "2023-04-07T15:40:57.002Z"
   },
   {
    "duration": 27,
    "start_time": "2023-04-07T15:40:57.019Z"
   },
   {
    "duration": 19,
    "start_time": "2023-04-07T15:40:57.062Z"
   },
   {
    "duration": 35,
    "start_time": "2023-04-07T15:40:57.083Z"
   },
   {
    "duration": 16,
    "start_time": "2023-04-07T15:40:57.120Z"
   },
   {
    "duration": 29,
    "start_time": "2023-04-07T15:40:57.137Z"
   },
   {
    "duration": 32,
    "start_time": "2023-04-07T15:40:57.167Z"
   },
   {
    "duration": 21,
    "start_time": "2023-04-07T15:40:57.201Z"
   },
   {
    "duration": 40,
    "start_time": "2023-04-07T15:40:57.224Z"
   },
   {
    "duration": 59,
    "start_time": "2023-04-07T15:40:57.266Z"
   },
   {
    "duration": 349,
    "start_time": "2023-04-07T15:40:57.327Z"
   },
   {
    "duration": 30,
    "start_time": "2023-04-07T15:40:57.678Z"
   },
   {
    "duration": 20,
    "start_time": "2023-04-07T15:40:57.709Z"
   },
   {
    "duration": 36,
    "start_time": "2023-04-07T15:40:57.733Z"
   },
   {
    "duration": 15,
    "start_time": "2023-04-07T15:40:57.771Z"
   },
   {
    "duration": 25,
    "start_time": "2023-04-07T15:40:57.787Z"
   },
   {
    "duration": 50,
    "start_time": "2023-04-07T15:40:57.813Z"
   },
   {
    "duration": 19,
    "start_time": "2023-04-07T15:40:57.864Z"
   },
   {
    "duration": 34,
    "start_time": "2023-04-07T15:40:57.885Z"
   },
   {
    "duration": 19,
    "start_time": "2023-04-07T15:40:57.921Z"
   },
   {
    "duration": 54,
    "start_time": "2023-04-07T15:40:57.962Z"
   },
   {
    "duration": 16,
    "start_time": "2023-04-07T15:40:58.017Z"
   },
   {
    "duration": 93,
    "start_time": "2023-04-07T15:40:58.034Z"
   },
   {
    "duration": 142,
    "start_time": "2023-04-07T15:40:58.129Z"
   },
   {
    "duration": 262,
    "start_time": "2023-04-07T15:40:58.273Z"
   },
   {
    "duration": 3,
    "start_time": "2023-04-07T15:40:58.537Z"
   },
   {
    "duration": 204,
    "start_time": "2023-04-07T15:40:58.542Z"
   },
   {
    "duration": 494,
    "start_time": "2023-04-07T15:40:58.748Z"
   },
   {
    "duration": 74,
    "start_time": "2023-04-07T15:40:59.243Z"
   },
   {
    "duration": 4,
    "start_time": "2023-04-07T15:40:59.319Z"
   },
   {
    "duration": 6,
    "start_time": "2023-04-07T15:40:59.324Z"
   },
   {
    "duration": 106,
    "start_time": "2023-04-07T15:40:59.332Z"
   },
   {
    "duration": 45,
    "start_time": "2023-04-07T15:40:59.440Z"
   },
   {
    "duration": 379,
    "start_time": "2023-04-07T15:40:59.487Z"
   },
   {
    "duration": 96,
    "start_time": "2023-04-07T15:40:59.867Z"
   },
   {
    "duration": 93,
    "start_time": "2023-04-07T15:40:59.969Z"
   },
   {
    "duration": 121,
    "start_time": "2023-04-07T15:41:00.064Z"
   },
   {
    "duration": 0,
    "start_time": "2023-04-07T15:41:00.187Z"
   },
   {
    "duration": 0,
    "start_time": "2023-04-07T15:41:00.188Z"
   },
   {
    "duration": 0,
    "start_time": "2023-04-07T15:41:00.189Z"
   },
   {
    "duration": 0,
    "start_time": "2023-04-07T15:41:00.190Z"
   },
   {
    "duration": 1525,
    "start_time": "2023-04-07T15:43:01.169Z"
   },
   {
    "duration": 849,
    "start_time": "2023-04-07T15:43:02.696Z"
   },
   {
    "duration": 17,
    "start_time": "2023-04-07T15:43:03.546Z"
   },
   {
    "duration": 157,
    "start_time": "2023-04-07T15:43:03.565Z"
   },
   {
    "duration": 43,
    "start_time": "2023-04-07T15:43:03.724Z"
   },
   {
    "duration": 48,
    "start_time": "2023-04-07T15:43:03.769Z"
   },
   {
    "duration": 363,
    "start_time": "2023-04-07T15:43:03.819Z"
   },
   {
    "duration": 26,
    "start_time": "2023-04-07T15:43:04.185Z"
   },
   {
    "duration": 11,
    "start_time": "2023-04-07T15:43:04.212Z"
   },
   {
    "duration": 58,
    "start_time": "2023-04-07T15:43:04.225Z"
   },
   {
    "duration": 6,
    "start_time": "2023-04-07T15:43:04.285Z"
   },
   {
    "duration": 25,
    "start_time": "2023-04-07T15:43:04.292Z"
   },
   {
    "duration": 50,
    "start_time": "2023-04-07T15:43:04.319Z"
   },
   {
    "duration": 23,
    "start_time": "2023-04-07T15:43:04.371Z"
   },
   {
    "duration": 25,
    "start_time": "2023-04-07T15:43:04.396Z"
   },
   {
    "duration": 24,
    "start_time": "2023-04-07T15:43:04.423Z"
   },
   {
    "duration": 25,
    "start_time": "2023-04-07T15:43:04.449Z"
   },
   {
    "duration": 14,
    "start_time": "2023-04-07T15:43:04.476Z"
   },
   {
    "duration": 54,
    "start_time": "2023-04-07T15:43:04.491Z"
   },
   {
    "duration": 7,
    "start_time": "2023-04-07T15:43:04.547Z"
   },
   {
    "duration": 28,
    "start_time": "2023-04-07T15:43:04.556Z"
   },
   {
    "duration": 82,
    "start_time": "2023-04-07T15:43:04.586Z"
   },
   {
    "duration": 27,
    "start_time": "2023-04-07T15:43:04.671Z"
   },
   {
    "duration": 62,
    "start_time": "2023-04-07T15:43:04.700Z"
   },
   {
    "duration": 19,
    "start_time": "2023-04-07T15:43:04.764Z"
   },
   {
    "duration": 17,
    "start_time": "2023-04-07T15:43:04.785Z"
   },
   {
    "duration": 288,
    "start_time": "2023-04-07T15:43:04.805Z"
   },
   {
    "duration": 13,
    "start_time": "2023-04-07T15:43:05.099Z"
   },
   {
    "duration": 120,
    "start_time": "2023-04-07T15:43:05.113Z"
   },
   {
    "duration": 31,
    "start_time": "2023-04-07T15:43:05.235Z"
   },
   {
    "duration": 39,
    "start_time": "2023-04-07T15:43:05.268Z"
   },
   {
    "duration": 19,
    "start_time": "2023-04-07T15:43:05.308Z"
   },
   {
    "duration": 5,
    "start_time": "2023-04-07T15:43:05.329Z"
   },
   {
    "duration": 43,
    "start_time": "2023-04-07T15:43:05.336Z"
   },
   {
    "duration": 18,
    "start_time": "2023-04-07T15:43:05.380Z"
   },
   {
    "duration": 28,
    "start_time": "2023-04-07T15:43:05.400Z"
   },
   {
    "duration": 49,
    "start_time": "2023-04-07T15:43:05.430Z"
   },
   {
    "duration": 251,
    "start_time": "2023-04-07T15:43:05.481Z"
   },
   {
    "duration": 35,
    "start_time": "2023-04-07T15:43:05.734Z"
   },
   {
    "duration": 29,
    "start_time": "2023-04-07T15:43:05.771Z"
   },
   {
    "duration": 19,
    "start_time": "2023-04-07T15:43:05.802Z"
   },
   {
    "duration": 17,
    "start_time": "2023-04-07T15:43:05.823Z"
   },
   {
    "duration": 34,
    "start_time": "2023-04-07T15:43:05.842Z"
   },
   {
    "duration": 45,
    "start_time": "2023-04-07T15:43:05.878Z"
   },
   {
    "duration": 32,
    "start_time": "2023-04-07T15:43:05.924Z"
   },
   {
    "duration": 39,
    "start_time": "2023-04-07T15:43:05.958Z"
   },
   {
    "duration": 17,
    "start_time": "2023-04-07T15:43:05.999Z"
   },
   {
    "duration": 67,
    "start_time": "2023-04-07T15:43:06.018Z"
   },
   {
    "duration": 17,
    "start_time": "2023-04-07T15:43:06.086Z"
   },
   {
    "duration": 92,
    "start_time": "2023-04-07T15:43:06.105Z"
   },
   {
    "duration": 134,
    "start_time": "2023-04-07T15:43:06.199Z"
   },
   {
    "duration": 259,
    "start_time": "2023-04-07T15:43:06.335Z"
   },
   {
    "duration": 2,
    "start_time": "2023-04-07T15:43:06.596Z"
   },
   {
    "duration": 5,
    "start_time": "2023-04-07T15:43:06.599Z"
   },
   {
    "duration": 211,
    "start_time": "2023-04-07T15:43:06.606Z"
   },
   {
    "duration": 494,
    "start_time": "2023-04-07T15:43:06.819Z"
   },
   {
    "duration": 74,
    "start_time": "2023-04-07T15:43:07.315Z"
   },
   {
    "duration": 4,
    "start_time": "2023-04-07T15:43:07.391Z"
   },
   {
    "duration": 16,
    "start_time": "2023-04-07T15:43:07.397Z"
   },
   {
    "duration": 101,
    "start_time": "2023-04-07T15:43:07.415Z"
   },
   {
    "duration": 24,
    "start_time": "2023-04-07T15:43:07.518Z"
   },
   {
    "duration": 339,
    "start_time": "2023-04-07T15:43:07.543Z"
   },
   {
    "duration": 106,
    "start_time": "2023-04-07T15:43:07.962Z"
   },
   {
    "duration": 88,
    "start_time": "2023-04-07T15:43:08.075Z"
   },
   {
    "duration": 31,
    "start_time": "2023-04-07T15:43:08.164Z"
   },
   {
    "duration": 74,
    "start_time": "2023-04-07T15:43:08.197Z"
   },
   {
    "duration": 4,
    "start_time": "2023-04-07T15:43:08.273Z"
   },
   {
    "duration": 119,
    "start_time": "2023-04-07T15:43:08.279Z"
   },
   {
    "duration": 0,
    "start_time": "2023-04-07T15:43:08.400Z"
   },
   {
    "duration": 1624,
    "start_time": "2023-04-07T15:49:35.809Z"
   },
   {
    "duration": 948,
    "start_time": "2023-04-07T15:49:37.436Z"
   },
   {
    "duration": 20,
    "start_time": "2023-04-07T15:49:38.386Z"
   },
   {
    "duration": 158,
    "start_time": "2023-04-07T15:49:38.409Z"
   },
   {
    "duration": 32,
    "start_time": "2023-04-07T15:49:38.579Z"
   },
   {
    "duration": 55,
    "start_time": "2023-04-07T15:49:38.613Z"
   },
   {
    "duration": 322,
    "start_time": "2023-04-07T15:49:38.673Z"
   },
   {
    "duration": 26,
    "start_time": "2023-04-07T15:49:38.998Z"
   },
   {
    "duration": 10,
    "start_time": "2023-04-07T15:49:39.026Z"
   },
   {
    "duration": 57,
    "start_time": "2023-04-07T15:49:39.039Z"
   },
   {
    "duration": 6,
    "start_time": "2023-04-07T15:49:39.097Z"
   },
   {
    "duration": 27,
    "start_time": "2023-04-07T15:49:39.105Z"
   },
   {
    "duration": 39,
    "start_time": "2023-04-07T15:49:39.133Z"
   },
   {
    "duration": 22,
    "start_time": "2023-04-07T15:49:39.173Z"
   },
   {
    "duration": 21,
    "start_time": "2023-04-07T15:49:39.197Z"
   },
   {
    "duration": 17,
    "start_time": "2023-04-07T15:49:39.220Z"
   },
   {
    "duration": 29,
    "start_time": "2023-04-07T15:49:39.239Z"
   },
   {
    "duration": 12,
    "start_time": "2023-04-07T15:49:39.274Z"
   },
   {
    "duration": 37,
    "start_time": "2023-04-07T15:49:39.288Z"
   },
   {
    "duration": 7,
    "start_time": "2023-04-07T15:49:39.327Z"
   },
   {
    "duration": 56,
    "start_time": "2023-04-07T15:49:39.336Z"
   },
   {
    "duration": 43,
    "start_time": "2023-04-07T15:49:39.394Z"
   },
   {
    "duration": 32,
    "start_time": "2023-04-07T15:49:39.438Z"
   },
   {
    "duration": 46,
    "start_time": "2023-04-07T15:49:39.472Z"
   },
   {
    "duration": 17,
    "start_time": "2023-04-07T15:49:39.520Z"
   },
   {
    "duration": 40,
    "start_time": "2023-04-07T15:49:39.538Z"
   },
   {
    "duration": 301,
    "start_time": "2023-04-07T15:49:39.579Z"
   },
   {
    "duration": 11,
    "start_time": "2023-04-07T15:49:39.884Z"
   },
   {
    "duration": 111,
    "start_time": "2023-04-07T15:49:39.897Z"
   },
   {
    "duration": 21,
    "start_time": "2023-04-07T15:49:40.009Z"
   },
   {
    "duration": 60,
    "start_time": "2023-04-07T15:49:40.032Z"
   },
   {
    "duration": 16,
    "start_time": "2023-04-07T15:49:40.094Z"
   },
   {
    "duration": 8,
    "start_time": "2023-04-07T15:49:40.112Z"
   },
   {
    "duration": 25,
    "start_time": "2023-04-07T15:49:40.122Z"
   },
   {
    "duration": 34,
    "start_time": "2023-04-07T15:49:40.149Z"
   },
   {
    "duration": 23,
    "start_time": "2023-04-07T15:49:40.185Z"
   },
   {
    "duration": 37,
    "start_time": "2023-04-07T15:49:40.210Z"
   },
   {
    "duration": 278,
    "start_time": "2023-04-07T15:49:40.249Z"
   },
   {
    "duration": 33,
    "start_time": "2023-04-07T15:49:40.529Z"
   },
   {
    "duration": 22,
    "start_time": "2023-04-07T15:49:40.563Z"
   },
   {
    "duration": 21,
    "start_time": "2023-04-07T15:49:40.586Z"
   },
   {
    "duration": 26,
    "start_time": "2023-04-07T15:49:40.610Z"
   },
   {
    "duration": 28,
    "start_time": "2023-04-07T15:49:40.664Z"
   },
   {
    "duration": 28,
    "start_time": "2023-04-07T15:49:40.693Z"
   },
   {
    "duration": 18,
    "start_time": "2023-04-07T15:49:40.723Z"
   },
   {
    "duration": 50,
    "start_time": "2023-04-07T15:49:40.743Z"
   },
   {
    "duration": 15,
    "start_time": "2023-04-07T15:49:40.796Z"
   },
   {
    "duration": 80,
    "start_time": "2023-04-07T15:49:40.813Z"
   },
   {
    "duration": 18,
    "start_time": "2023-04-07T15:49:40.894Z"
   },
   {
    "duration": 93,
    "start_time": "2023-04-07T15:49:40.914Z"
   },
   {
    "duration": 161,
    "start_time": "2023-04-07T15:49:41.009Z"
   },
   {
    "duration": 262,
    "start_time": "2023-04-07T15:49:41.175Z"
   },
   {
    "duration": 3,
    "start_time": "2023-04-07T15:49:41.439Z"
   },
   {
    "duration": 6,
    "start_time": "2023-04-07T15:49:41.443Z"
   },
   {
    "duration": 226,
    "start_time": "2023-04-07T15:49:41.462Z"
   },
   {
    "duration": 501,
    "start_time": "2023-04-07T15:49:41.690Z"
   },
   {
    "duration": 74,
    "start_time": "2023-04-07T15:49:42.193Z"
   },
   {
    "duration": 6,
    "start_time": "2023-04-07T15:49:42.272Z"
   },
   {
    "duration": 5,
    "start_time": "2023-04-07T15:49:42.280Z"
   },
   {
    "duration": 92,
    "start_time": "2023-04-07T15:49:42.287Z"
   },
   {
    "duration": 26,
    "start_time": "2023-04-07T15:49:42.381Z"
   },
   {
    "duration": 367,
    "start_time": "2023-04-07T15:49:42.409Z"
   },
   {
    "duration": 91,
    "start_time": "2023-04-07T15:49:42.778Z"
   },
   {
    "duration": 9,
    "start_time": "2023-04-07T15:49:42.871Z"
   },
   {
    "duration": 204,
    "start_time": "2023-04-07T15:49:42.884Z"
   },
   {
    "duration": 0,
    "start_time": "2023-04-07T15:49:43.090Z"
   },
   {
    "duration": 0,
    "start_time": "2023-04-07T15:49:43.092Z"
   },
   {
    "duration": 0,
    "start_time": "2023-04-07T15:49:43.094Z"
   },
   {
    "duration": 0,
    "start_time": "2023-04-07T15:49:43.096Z"
   },
   {
    "duration": 0,
    "start_time": "2023-04-07T15:49:43.097Z"
   },
   {
    "duration": 18,
    "start_time": "2023-04-07T15:50:45.814Z"
   },
   {
    "duration": 3,
    "start_time": "2023-04-07T15:51:11.881Z"
   },
   {
    "duration": 4,
    "start_time": "2023-04-07T15:51:23.798Z"
   },
   {
    "duration": 18,
    "start_time": "2023-04-07T15:52:39.797Z"
   },
   {
    "duration": 1654,
    "start_time": "2023-04-07T15:57:45.836Z"
   },
   {
    "duration": 934,
    "start_time": "2023-04-07T15:57:47.492Z"
   },
   {
    "duration": 18,
    "start_time": "2023-04-07T15:57:48.428Z"
   },
   {
    "duration": 171,
    "start_time": "2023-04-07T15:57:48.449Z"
   },
   {
    "duration": 26,
    "start_time": "2023-04-07T15:57:48.623Z"
   },
   {
    "duration": 61,
    "start_time": "2023-04-07T15:57:48.652Z"
   },
   {
    "duration": 309,
    "start_time": "2023-04-07T15:57:48.715Z"
   },
   {
    "duration": 35,
    "start_time": "2023-04-07T15:57:49.026Z"
   },
   {
    "duration": 19,
    "start_time": "2023-04-07T15:57:49.063Z"
   },
   {
    "duration": 40,
    "start_time": "2023-04-07T15:57:49.084Z"
   },
   {
    "duration": 6,
    "start_time": "2023-04-07T15:57:49.126Z"
   },
   {
    "duration": 60,
    "start_time": "2023-04-07T15:57:49.134Z"
   },
   {
    "duration": 24,
    "start_time": "2023-04-07T15:57:49.196Z"
   },
   {
    "duration": 50,
    "start_time": "2023-04-07T15:57:49.223Z"
   },
   {
    "duration": 30,
    "start_time": "2023-04-07T15:57:49.275Z"
   },
   {
    "duration": 18,
    "start_time": "2023-04-07T15:57:49.307Z"
   },
   {
    "duration": 11,
    "start_time": "2023-04-07T15:57:49.328Z"
   },
   {
    "duration": 31,
    "start_time": "2023-04-07T15:57:49.341Z"
   },
   {
    "duration": 41,
    "start_time": "2023-04-07T15:57:49.374Z"
   },
   {
    "duration": 10,
    "start_time": "2023-04-07T15:57:49.418Z"
   },
   {
    "duration": 55,
    "start_time": "2023-04-07T15:57:49.430Z"
   },
   {
    "duration": 62,
    "start_time": "2023-04-07T15:57:49.488Z"
   },
   {
    "duration": 26,
    "start_time": "2023-04-07T15:57:49.568Z"
   },
   {
    "duration": 54,
    "start_time": "2023-04-07T15:57:49.596Z"
   },
   {
    "duration": 21,
    "start_time": "2023-04-07T15:57:49.652Z"
   },
   {
    "duration": 31,
    "start_time": "2023-04-07T15:57:49.675Z"
   },
   {
    "duration": 342,
    "start_time": "2023-04-07T15:57:49.708Z"
   },
   {
    "duration": 30,
    "start_time": "2023-04-07T15:57:50.055Z"
   },
   {
    "duration": 118,
    "start_time": "2023-04-07T15:57:50.087Z"
   },
   {
    "duration": 40,
    "start_time": "2023-04-07T15:57:50.208Z"
   },
   {
    "duration": 43,
    "start_time": "2023-04-07T15:57:50.250Z"
   },
   {
    "duration": 17,
    "start_time": "2023-04-07T15:57:50.295Z"
   },
   {
    "duration": 31,
    "start_time": "2023-04-07T15:57:50.313Z"
   },
   {
    "duration": 51,
    "start_time": "2023-04-07T15:57:50.346Z"
   },
   {
    "duration": 17,
    "start_time": "2023-04-07T15:57:50.398Z"
   },
   {
    "duration": 36,
    "start_time": "2023-04-07T15:57:50.417Z"
   },
   {
    "duration": 50,
    "start_time": "2023-04-07T15:57:50.455Z"
   },
   {
    "duration": 287,
    "start_time": "2023-04-07T15:57:50.507Z"
   },
   {
    "duration": 39,
    "start_time": "2023-04-07T15:57:50.796Z"
   },
   {
    "duration": 45,
    "start_time": "2023-04-07T15:57:50.837Z"
   },
   {
    "duration": 54,
    "start_time": "2023-04-07T15:57:50.884Z"
   },
   {
    "duration": 49,
    "start_time": "2023-04-07T15:57:50.940Z"
   },
   {
    "duration": 43,
    "start_time": "2023-04-07T15:57:50.991Z"
   },
   {
    "duration": 51,
    "start_time": "2023-04-07T15:57:51.036Z"
   },
   {
    "duration": 34,
    "start_time": "2023-04-07T15:57:51.089Z"
   },
   {
    "duration": 50,
    "start_time": "2023-04-07T15:57:51.127Z"
   },
   {
    "duration": 17,
    "start_time": "2023-04-07T15:57:51.187Z"
   },
   {
    "duration": 89,
    "start_time": "2023-04-07T15:57:51.206Z"
   },
   {
    "duration": 24,
    "start_time": "2023-04-07T15:57:51.297Z"
   },
   {
    "duration": 91,
    "start_time": "2023-04-07T15:57:51.322Z"
   },
   {
    "duration": 142,
    "start_time": "2023-04-07T15:57:51.415Z"
   },
   {
    "duration": 272,
    "start_time": "2023-04-07T15:57:51.559Z"
   },
   {
    "duration": 3,
    "start_time": "2023-04-07T15:57:51.832Z"
   },
   {
    "duration": 5,
    "start_time": "2023-04-07T15:57:51.837Z"
   },
   {
    "duration": 245,
    "start_time": "2023-04-07T15:57:51.844Z"
   },
   {
    "duration": 540,
    "start_time": "2023-04-07T15:57:52.090Z"
   },
   {
    "duration": 85,
    "start_time": "2023-04-07T15:57:52.632Z"
   },
   {
    "duration": 4,
    "start_time": "2023-04-07T15:57:52.719Z"
   },
   {
    "duration": 12,
    "start_time": "2023-04-07T15:57:52.725Z"
   },
   {
    "duration": 109,
    "start_time": "2023-04-07T15:57:52.739Z"
   },
   {
    "duration": 41,
    "start_time": "2023-04-07T15:57:52.850Z"
   },
   {
    "duration": 387,
    "start_time": "2023-04-07T15:57:52.893Z"
   },
   {
    "duration": 88,
    "start_time": "2023-04-07T15:57:53.281Z"
   },
   {
    "duration": 12,
    "start_time": "2023-04-07T15:57:53.372Z"
   },
   {
    "duration": 227,
    "start_time": "2023-04-07T15:57:53.462Z"
   },
   {
    "duration": 13,
    "start_time": "2023-04-07T15:57:53.691Z"
   },
   {
    "duration": 0,
    "start_time": "2023-04-07T15:57:53.706Z"
   },
   {
    "duration": 0,
    "start_time": "2023-04-07T15:57:53.708Z"
   },
   {
    "duration": 0,
    "start_time": "2023-04-07T15:57:53.709Z"
   },
   {
    "duration": 0,
    "start_time": "2023-04-07T15:57:53.710Z"
   },
   {
    "duration": 0,
    "start_time": "2023-04-07T15:57:53.712Z"
   },
   {
    "duration": 0,
    "start_time": "2023-04-07T15:57:53.713Z"
   },
   {
    "duration": 0,
    "start_time": "2023-04-07T15:57:53.715Z"
   },
   {
    "duration": 0,
    "start_time": "2023-04-07T15:57:53.716Z"
   },
   {
    "duration": 0,
    "start_time": "2023-04-07T15:57:53.718Z"
   },
   {
    "duration": 0,
    "start_time": "2023-04-07T15:57:53.719Z"
   },
   {
    "duration": 4,
    "start_time": "2023-04-07T15:58:24.849Z"
   },
   {
    "duration": 1559,
    "start_time": "2023-04-07T15:58:36.096Z"
   },
   {
    "duration": 926,
    "start_time": "2023-04-07T15:58:37.657Z"
   },
   {
    "duration": 18,
    "start_time": "2023-04-07T15:58:38.585Z"
   },
   {
    "duration": 172,
    "start_time": "2023-04-07T15:58:38.605Z"
   },
   {
    "duration": 29,
    "start_time": "2023-04-07T15:58:38.779Z"
   },
   {
    "duration": 74,
    "start_time": "2023-04-07T15:58:38.810Z"
   },
   {
    "duration": 301,
    "start_time": "2023-04-07T15:58:38.886Z"
   },
   {
    "duration": 26,
    "start_time": "2023-04-07T15:58:39.188Z"
   },
   {
    "duration": 10,
    "start_time": "2023-04-07T15:58:39.216Z"
   },
   {
    "duration": 62,
    "start_time": "2023-04-07T15:58:39.228Z"
   },
   {
    "duration": 7,
    "start_time": "2023-04-07T15:58:39.292Z"
   },
   {
    "duration": 46,
    "start_time": "2023-04-07T15:58:39.302Z"
   },
   {
    "duration": 44,
    "start_time": "2023-04-07T15:58:39.351Z"
   },
   {
    "duration": 21,
    "start_time": "2023-04-07T15:58:39.397Z"
   },
   {
    "duration": 44,
    "start_time": "2023-04-07T15:58:39.420Z"
   },
   {
    "duration": 24,
    "start_time": "2023-04-07T15:58:39.466Z"
   },
   {
    "duration": 12,
    "start_time": "2023-04-07T15:58:39.492Z"
   },
   {
    "duration": 7,
    "start_time": "2023-04-07T15:58:39.506Z"
   },
   {
    "duration": 64,
    "start_time": "2023-04-07T15:58:39.515Z"
   },
   {
    "duration": 9,
    "start_time": "2023-04-07T15:58:39.581Z"
   },
   {
    "duration": 34,
    "start_time": "2023-04-07T15:58:39.592Z"
   },
   {
    "duration": 59,
    "start_time": "2023-04-07T15:58:39.629Z"
   },
   {
    "duration": 19,
    "start_time": "2023-04-07T15:58:39.690Z"
   },
   {
    "duration": 71,
    "start_time": "2023-04-07T15:58:39.710Z"
   },
   {
    "duration": 18,
    "start_time": "2023-04-07T15:58:39.783Z"
   },
   {
    "duration": 40,
    "start_time": "2023-04-07T15:58:39.802Z"
   },
   {
    "duration": 295,
    "start_time": "2023-04-07T15:58:39.844Z"
   },
   {
    "duration": 19,
    "start_time": "2023-04-07T15:58:40.144Z"
   },
   {
    "duration": 119,
    "start_time": "2023-04-07T15:58:40.164Z"
   },
   {
    "duration": 32,
    "start_time": "2023-04-07T15:58:40.285Z"
   },
   {
    "duration": 61,
    "start_time": "2023-04-07T15:58:40.319Z"
   },
   {
    "duration": 16,
    "start_time": "2023-04-07T15:58:40.382Z"
   },
   {
    "duration": 6,
    "start_time": "2023-04-07T15:58:40.400Z"
   },
   {
    "duration": 20,
    "start_time": "2023-04-07T15:58:40.408Z"
   },
   {
    "duration": 44,
    "start_time": "2023-04-07T15:58:40.430Z"
   },
   {
    "duration": 20,
    "start_time": "2023-04-07T15:58:40.477Z"
   },
   {
    "duration": 31,
    "start_time": "2023-04-07T15:58:40.498Z"
   },
   {
    "duration": 278,
    "start_time": "2023-04-07T15:58:40.530Z"
   },
   {
    "duration": 29,
    "start_time": "2023-04-07T15:58:40.810Z"
   },
   {
    "duration": 35,
    "start_time": "2023-04-07T15:58:40.841Z"
   },
   {
    "duration": 30,
    "start_time": "2023-04-07T15:58:40.878Z"
   },
   {
    "duration": 25,
    "start_time": "2023-04-07T15:58:40.910Z"
   },
   {
    "duration": 47,
    "start_time": "2023-04-07T15:58:40.937Z"
   },
   {
    "duration": 34,
    "start_time": "2023-04-07T15:58:40.986Z"
   },
   {
    "duration": 19,
    "start_time": "2023-04-07T15:58:41.022Z"
   },
   {
    "duration": 34,
    "start_time": "2023-04-07T15:58:41.063Z"
   },
   {
    "duration": 16,
    "start_time": "2023-04-07T15:58:41.099Z"
   },
   {
    "duration": 78,
    "start_time": "2023-04-07T15:58:41.117Z"
   },
   {
    "duration": 17,
    "start_time": "2023-04-07T15:58:41.197Z"
   },
   {
    "duration": 85,
    "start_time": "2023-04-07T15:58:41.215Z"
   },
   {
    "duration": 150,
    "start_time": "2023-04-07T15:58:41.302Z"
   },
   {
    "duration": 281,
    "start_time": "2023-04-07T15:58:41.453Z"
   },
   {
    "duration": 2,
    "start_time": "2023-04-07T15:58:41.736Z"
   },
   {
    "duration": 6,
    "start_time": "2023-04-07T15:58:41.739Z"
   },
   {
    "duration": 247,
    "start_time": "2023-04-07T15:58:41.746Z"
   },
   {
    "duration": 525,
    "start_time": "2023-04-07T15:58:41.995Z"
   },
   {
    "duration": 84,
    "start_time": "2023-04-07T15:58:42.522Z"
   },
   {
    "duration": 4,
    "start_time": "2023-04-07T15:58:42.608Z"
   },
   {
    "duration": 4,
    "start_time": "2023-04-07T15:58:42.614Z"
   },
   {
    "duration": 111,
    "start_time": "2023-04-07T15:58:42.620Z"
   },
   {
    "duration": 44,
    "start_time": "2023-04-07T15:58:42.732Z"
   },
   {
    "duration": 398,
    "start_time": "2023-04-07T15:58:42.778Z"
   },
   {
    "duration": 94,
    "start_time": "2023-04-07T15:58:43.178Z"
   },
   {
    "duration": 86,
    "start_time": "2023-04-07T15:58:43.281Z"
   },
   {
    "duration": 203,
    "start_time": "2023-04-07T15:58:43.372Z"
   },
   {
    "duration": 12,
    "start_time": "2023-04-07T15:58:43.578Z"
   },
   {
    "duration": 0,
    "start_time": "2023-04-07T15:58:43.592Z"
   },
   {
    "duration": 0,
    "start_time": "2023-04-07T15:58:43.593Z"
   },
   {
    "duration": 0,
    "start_time": "2023-04-07T15:58:43.595Z"
   },
   {
    "duration": 0,
    "start_time": "2023-04-07T15:58:43.596Z"
   },
   {
    "duration": 0,
    "start_time": "2023-04-07T15:58:43.598Z"
   },
   {
    "duration": 0,
    "start_time": "2023-04-07T15:58:43.599Z"
   },
   {
    "duration": 0,
    "start_time": "2023-04-07T15:58:43.601Z"
   },
   {
    "duration": 0,
    "start_time": "2023-04-07T15:58:43.602Z"
   },
   {
    "duration": 0,
    "start_time": "2023-04-07T15:58:43.603Z"
   },
   {
    "duration": 0,
    "start_time": "2023-04-07T15:58:43.606Z"
   },
   {
    "duration": 28027,
    "start_time": "2023-04-07T16:00:31.423Z"
   },
   {
    "duration": 101,
    "start_time": "2023-04-07T16:02:06.105Z"
   },
   {
    "duration": 6,
    "start_time": "2023-04-07T16:03:22.690Z"
   },
   {
    "duration": 6,
    "start_time": "2023-04-07T16:03:30.791Z"
   },
   {
    "duration": 92,
    "start_time": "2023-04-07T16:04:15.511Z"
   },
   {
    "duration": 1552,
    "start_time": "2023-04-07T16:07:04.449Z"
   },
   {
    "duration": 899,
    "start_time": "2023-04-07T16:07:06.002Z"
   },
   {
    "duration": 17,
    "start_time": "2023-04-07T16:07:06.903Z"
   },
   {
    "duration": 159,
    "start_time": "2023-04-07T16:07:06.922Z"
   },
   {
    "duration": 30,
    "start_time": "2023-04-07T16:07:07.082Z"
   },
   {
    "duration": 67,
    "start_time": "2023-04-07T16:07:07.114Z"
   },
   {
    "duration": 351,
    "start_time": "2023-04-07T16:07:07.184Z"
   },
   {
    "duration": 41,
    "start_time": "2023-04-07T16:07:07.537Z"
   },
   {
    "duration": 10,
    "start_time": "2023-04-07T16:07:07.580Z"
   },
   {
    "duration": 39,
    "start_time": "2023-04-07T16:07:07.593Z"
   },
   {
    "duration": 5,
    "start_time": "2023-04-07T16:07:07.634Z"
   },
   {
    "duration": 53,
    "start_time": "2023-04-07T16:07:07.640Z"
   },
   {
    "duration": 22,
    "start_time": "2023-04-07T16:07:07.694Z"
   },
   {
    "duration": 19,
    "start_time": "2023-04-07T16:07:07.718Z"
   },
   {
    "duration": 48,
    "start_time": "2023-04-07T16:07:07.738Z"
   },
   {
    "duration": 17,
    "start_time": "2023-04-07T16:07:07.788Z"
   },
   {
    "duration": 20,
    "start_time": "2023-04-07T16:07:07.807Z"
   },
   {
    "duration": 11,
    "start_time": "2023-04-07T16:07:07.829Z"
   },
   {
    "duration": 52,
    "start_time": "2023-04-07T16:07:07.841Z"
   },
   {
    "duration": 6,
    "start_time": "2023-04-07T16:07:07.895Z"
   },
   {
    "duration": 21,
    "start_time": "2023-04-07T16:07:07.903Z"
   },
   {
    "duration": 79,
    "start_time": "2023-04-07T16:07:07.925Z"
   },
   {
    "duration": 19,
    "start_time": "2023-04-07T16:07:08.006Z"
   },
   {
    "duration": 52,
    "start_time": "2023-04-07T16:07:08.027Z"
   },
   {
    "duration": 16,
    "start_time": "2023-04-07T16:07:08.081Z"
   },
   {
    "duration": 19,
    "start_time": "2023-04-07T16:07:08.099Z"
   },
   {
    "duration": 298,
    "start_time": "2023-04-07T16:07:08.120Z"
   },
   {
    "duration": 94,
    "start_time": "2023-04-07T16:07:08.422Z"
   },
   {
    "duration": 29,
    "start_time": "2023-04-07T16:07:08.517Z"
   },
   {
    "duration": 41,
    "start_time": "2023-04-07T16:07:08.547Z"
   },
   {
    "duration": 38,
    "start_time": "2023-04-07T16:07:08.590Z"
   },
   {
    "duration": 33,
    "start_time": "2023-04-07T16:07:08.630Z"
   },
   {
    "duration": 22,
    "start_time": "2023-04-07T16:07:08.665Z"
   },
   {
    "duration": 24,
    "start_time": "2023-04-07T16:07:08.689Z"
   },
   {
    "duration": 27,
    "start_time": "2023-04-07T16:07:08.715Z"
   },
   {
    "duration": 36,
    "start_time": "2023-04-07T16:07:08.743Z"
   },
   {
    "duration": 30,
    "start_time": "2023-04-07T16:07:08.781Z"
   },
   {
    "duration": 272,
    "start_time": "2023-04-07T16:07:08.812Z"
   },
   {
    "duration": 31,
    "start_time": "2023-04-07T16:07:09.085Z"
   },
   {
    "duration": 18,
    "start_time": "2023-04-07T16:07:09.117Z"
   },
   {
    "duration": 39,
    "start_time": "2023-04-07T16:07:09.137Z"
   },
   {
    "duration": 15,
    "start_time": "2023-04-07T16:07:09.178Z"
   },
   {
    "duration": 23,
    "start_time": "2023-04-07T16:07:09.195Z"
   },
   {
    "duration": 51,
    "start_time": "2023-04-07T16:07:09.220Z"
   },
   {
    "duration": 20,
    "start_time": "2023-04-07T16:07:09.273Z"
   },
   {
    "duration": 28,
    "start_time": "2023-04-07T16:07:09.295Z"
   },
   {
    "duration": 16,
    "start_time": "2023-04-07T16:07:09.325Z"
   },
   {
    "duration": 77,
    "start_time": "2023-04-07T16:07:09.343Z"
   },
   {
    "duration": 16,
    "start_time": "2023-04-07T16:07:09.421Z"
   },
   {
    "duration": 83,
    "start_time": "2023-04-07T16:07:09.439Z"
   },
   {
    "duration": 133,
    "start_time": "2023-04-07T16:07:09.524Z"
   },
   {
    "duration": 267,
    "start_time": "2023-04-07T16:07:09.664Z"
   },
   {
    "duration": 3,
    "start_time": "2023-04-07T16:07:09.934Z"
   },
   {
    "duration": 5,
    "start_time": "2023-04-07T16:07:09.938Z"
   },
   {
    "duration": 231,
    "start_time": "2023-04-07T16:07:09.945Z"
   },
   {
    "duration": 498,
    "start_time": "2023-04-07T16:07:10.178Z"
   },
   {
    "duration": 66,
    "start_time": "2023-04-07T16:07:10.678Z"
   },
   {
    "duration": 4,
    "start_time": "2023-04-07T16:07:10.746Z"
   },
   {
    "duration": 4,
    "start_time": "2023-04-07T16:07:10.751Z"
   },
   {
    "duration": 97,
    "start_time": "2023-04-07T16:07:10.757Z"
   },
   {
    "duration": 31,
    "start_time": "2023-04-07T16:07:10.856Z"
   },
   {
    "duration": 380,
    "start_time": "2023-04-07T16:07:10.888Z"
   },
   {
    "duration": 194,
    "start_time": "2023-04-07T16:07:11.270Z"
   },
   {
    "duration": 10,
    "start_time": "2023-04-07T16:07:11.469Z"
   },
   {
    "duration": 27404,
    "start_time": "2023-04-07T16:07:11.481Z"
   },
   {
    "duration": 97,
    "start_time": "2023-04-07T16:07:38.887Z"
   },
   {
    "duration": 4,
    "start_time": "2023-04-07T16:07:38.986Z"
   },
   {
    "duration": 123,
    "start_time": "2023-04-07T16:07:38.992Z"
   },
   {
    "duration": 0,
    "start_time": "2023-04-07T16:07:39.117Z"
   },
   {
    "duration": 0,
    "start_time": "2023-04-07T16:07:39.119Z"
   },
   {
    "duration": 0,
    "start_time": "2023-04-07T16:07:39.121Z"
   },
   {
    "duration": 0,
    "start_time": "2023-04-07T16:07:39.122Z"
   },
   {
    "duration": 0,
    "start_time": "2023-04-07T16:07:39.123Z"
   },
   {
    "duration": 0,
    "start_time": "2023-04-07T16:07:39.126Z"
   },
   {
    "duration": 0,
    "start_time": "2023-04-07T16:07:39.127Z"
   },
   {
    "duration": 0,
    "start_time": "2023-04-07T16:07:39.129Z"
   },
   {
    "duration": 0,
    "start_time": "2023-04-07T16:07:39.130Z"
   },
   {
    "duration": 0,
    "start_time": "2023-04-07T16:07:39.131Z"
   },
   {
    "duration": 4,
    "start_time": "2023-04-07T16:08:29.516Z"
   },
   {
    "duration": 85,
    "start_time": "2023-04-07T16:13:41.165Z"
   },
   {
    "duration": 91,
    "start_time": "2023-04-07T16:14:37.699Z"
   },
   {
    "duration": 3,
    "start_time": "2023-04-07T16:15:16.988Z"
   },
   {
    "duration": 81,
    "start_time": "2023-04-07T16:15:30.789Z"
   },
   {
    "duration": 96,
    "start_time": "2023-04-07T16:16:12.567Z"
   },
   {
    "duration": 87,
    "start_time": "2023-04-07T16:16:25.276Z"
   },
   {
    "duration": 13,
    "start_time": "2023-04-07T16:16:45.741Z"
   },
   {
    "duration": 1591,
    "start_time": "2023-04-07T16:16:54.228Z"
   },
   {
    "duration": 870,
    "start_time": "2023-04-07T16:16:55.822Z"
   },
   {
    "duration": 17,
    "start_time": "2023-04-07T16:16:56.694Z"
   },
   {
    "duration": 142,
    "start_time": "2023-04-07T16:16:56.713Z"
   },
   {
    "duration": 27,
    "start_time": "2023-04-07T16:16:56.861Z"
   },
   {
    "duration": 47,
    "start_time": "2023-04-07T16:16:56.890Z"
   },
   {
    "duration": 317,
    "start_time": "2023-04-07T16:16:56.938Z"
   },
   {
    "duration": 28,
    "start_time": "2023-04-07T16:16:57.262Z"
   },
   {
    "duration": 11,
    "start_time": "2023-04-07T16:16:57.291Z"
   },
   {
    "duration": 57,
    "start_time": "2023-04-07T16:16:57.305Z"
   },
   {
    "duration": 6,
    "start_time": "2023-04-07T16:16:57.363Z"
   },
   {
    "duration": 21,
    "start_time": "2023-04-07T16:16:57.371Z"
   },
   {
    "duration": 31,
    "start_time": "2023-04-07T16:16:57.393Z"
   },
   {
    "duration": 42,
    "start_time": "2023-04-07T16:16:57.426Z"
   },
   {
    "duration": 26,
    "start_time": "2023-04-07T16:16:57.470Z"
   },
   {
    "duration": 18,
    "start_time": "2023-04-07T16:16:57.498Z"
   },
   {
    "duration": 22,
    "start_time": "2023-04-07T16:16:57.518Z"
   },
   {
    "duration": 21,
    "start_time": "2023-04-07T16:16:57.542Z"
   },
   {
    "duration": 38,
    "start_time": "2023-04-07T16:16:57.565Z"
   },
   {
    "duration": 8,
    "start_time": "2023-04-07T16:16:57.604Z"
   },
   {
    "duration": 32,
    "start_time": "2023-04-07T16:16:57.614Z"
   },
   {
    "duration": 40,
    "start_time": "2023-04-07T16:16:57.662Z"
   },
   {
    "duration": 20,
    "start_time": "2023-04-07T16:16:57.704Z"
   },
   {
    "duration": 65,
    "start_time": "2023-04-07T16:16:57.726Z"
   },
   {
    "duration": 17,
    "start_time": "2023-04-07T16:16:57.793Z"
   },
   {
    "duration": 31,
    "start_time": "2023-04-07T16:16:57.811Z"
   },
   {
    "duration": 275,
    "start_time": "2023-04-07T16:16:57.844Z"
   },
   {
    "duration": 12,
    "start_time": "2023-04-07T16:16:58.123Z"
   },
   {
    "duration": 125,
    "start_time": "2023-04-07T16:16:58.137Z"
   },
   {
    "duration": 19,
    "start_time": "2023-04-07T16:16:58.264Z"
   },
   {
    "duration": 36,
    "start_time": "2023-04-07T16:16:58.285Z"
   },
   {
    "duration": 26,
    "start_time": "2023-04-07T16:16:58.322Z"
   },
   {
    "duration": 5,
    "start_time": "2023-04-07T16:16:58.362Z"
   },
   {
    "duration": 18,
    "start_time": "2023-04-07T16:16:58.369Z"
   },
   {
    "duration": 14,
    "start_time": "2023-04-07T16:16:58.389Z"
   },
   {
    "duration": 20,
    "start_time": "2023-04-07T16:16:58.405Z"
   },
   {
    "duration": 61,
    "start_time": "2023-04-07T16:16:58.427Z"
   },
   {
    "duration": 263,
    "start_time": "2023-04-07T16:16:58.489Z"
   },
   {
    "duration": 30,
    "start_time": "2023-04-07T16:16:58.753Z"
   },
   {
    "duration": 19,
    "start_time": "2023-04-07T16:16:58.784Z"
   },
   {
    "duration": 24,
    "start_time": "2023-04-07T16:16:58.804Z"
   },
   {
    "duration": 34,
    "start_time": "2023-04-07T16:16:58.829Z"
   },
   {
    "duration": 20,
    "start_time": "2023-04-07T16:16:58.864Z"
   },
   {
    "duration": 30,
    "start_time": "2023-04-07T16:16:58.886Z"
   },
   {
    "duration": 20,
    "start_time": "2023-04-07T16:16:58.918Z"
   },
   {
    "duration": 46,
    "start_time": "2023-04-07T16:16:58.940Z"
   },
   {
    "duration": 15,
    "start_time": "2023-04-07T16:16:58.987Z"
   },
   {
    "duration": 65,
    "start_time": "2023-04-07T16:16:59.004Z"
   },
   {
    "duration": 25,
    "start_time": "2023-04-07T16:16:59.071Z"
   },
   {
    "duration": 80,
    "start_time": "2023-04-07T16:16:59.098Z"
   },
   {
    "duration": 139,
    "start_time": "2023-04-07T16:16:59.179Z"
   },
   {
    "duration": 275,
    "start_time": "2023-04-07T16:16:59.320Z"
   },
   {
    "duration": 3,
    "start_time": "2023-04-07T16:16:59.597Z"
   },
   {
    "duration": 5,
    "start_time": "2023-04-07T16:16:59.601Z"
   },
   {
    "duration": 242,
    "start_time": "2023-04-07T16:16:59.608Z"
   },
   {
    "duration": 528,
    "start_time": "2023-04-07T16:16:59.852Z"
   },
   {
    "duration": 80,
    "start_time": "2023-04-07T16:17:00.382Z"
   },
   {
    "duration": 5,
    "start_time": "2023-04-07T16:17:00.464Z"
   },
   {
    "duration": 26,
    "start_time": "2023-04-07T16:17:00.470Z"
   },
   {
    "duration": 110,
    "start_time": "2023-04-07T16:17:00.498Z"
   },
   {
    "duration": 25,
    "start_time": "2023-04-07T16:17:00.610Z"
   },
   {
    "duration": 334,
    "start_time": "2023-04-07T16:17:00.637Z"
   },
   {
    "duration": 92,
    "start_time": "2023-04-07T16:17:00.973Z"
   },
   {
    "duration": 96,
    "start_time": "2023-04-07T16:17:01.068Z"
   },
   {
    "duration": 26502,
    "start_time": "2023-04-07T16:17:01.165Z"
   },
   {
    "duration": 79,
    "start_time": "2023-04-07T16:17:27.669Z"
   },
   {
    "duration": 6,
    "start_time": "2023-04-07T16:17:27.761Z"
   },
   {
    "duration": 142,
    "start_time": "2023-04-07T16:17:27.769Z"
   },
   {
    "duration": 0,
    "start_time": "2023-04-07T16:17:27.913Z"
   },
   {
    "duration": 0,
    "start_time": "2023-04-07T16:17:27.915Z"
   },
   {
    "duration": 0,
    "start_time": "2023-04-07T16:17:27.917Z"
   },
   {
    "duration": 111,
    "start_time": "2023-04-20T12:42:32.766Z"
   },
   {
    "duration": 73,
    "start_time": "2023-04-20T12:44:22.716Z"
   },
   {
    "duration": 127,
    "start_time": "2023-04-20T12:59:52.636Z"
   },
   {
    "duration": 1629,
    "start_time": "2023-04-20T13:06:31.573Z"
   },
   {
    "duration": 2938,
    "start_time": "2023-04-20T13:06:33.204Z"
   },
   {
    "duration": 16,
    "start_time": "2023-04-20T13:06:36.144Z"
   },
   {
    "duration": 107,
    "start_time": "2023-04-20T13:06:36.162Z"
   },
   {
    "duration": 25,
    "start_time": "2023-04-20T13:06:36.270Z"
   },
   {
    "duration": 47,
    "start_time": "2023-04-20T13:06:36.296Z"
   },
   {
    "duration": 257,
    "start_time": "2023-04-20T13:06:36.355Z"
   },
   {
    "duration": 24,
    "start_time": "2023-04-20T13:06:36.614Z"
   },
   {
    "duration": 22,
    "start_time": "2023-04-20T13:06:36.639Z"
   },
   {
    "duration": 50,
    "start_time": "2023-04-20T13:06:36.663Z"
   },
   {
    "duration": 7,
    "start_time": "2023-04-20T13:06:36.714Z"
   },
   {
    "duration": 26,
    "start_time": "2023-04-20T13:06:36.722Z"
   },
   {
    "duration": 32,
    "start_time": "2023-04-20T13:06:36.750Z"
   },
   {
    "duration": 19,
    "start_time": "2023-04-20T13:06:36.784Z"
   },
   {
    "duration": 22,
    "start_time": "2023-04-20T13:06:36.804Z"
   },
   {
    "duration": 33,
    "start_time": "2023-04-20T13:06:36.827Z"
   },
   {
    "duration": 6,
    "start_time": "2023-04-20T13:06:36.862Z"
   },
   {
    "duration": 5,
    "start_time": "2023-04-20T13:06:36.870Z"
   },
   {
    "duration": 41,
    "start_time": "2023-04-20T13:06:36.877Z"
   },
   {
    "duration": 6,
    "start_time": "2023-04-20T13:06:36.919Z"
   },
   {
    "duration": 41,
    "start_time": "2023-04-20T13:06:36.927Z"
   },
   {
    "duration": 34,
    "start_time": "2023-04-20T13:06:36.969Z"
   },
   {
    "duration": 16,
    "start_time": "2023-04-20T13:06:37.004Z"
   },
   {
    "duration": 57,
    "start_time": "2023-04-20T13:06:37.022Z"
   },
   {
    "duration": 13,
    "start_time": "2023-04-20T13:06:37.081Z"
   },
   {
    "duration": 17,
    "start_time": "2023-04-20T13:06:37.096Z"
   },
   {
    "duration": 269,
    "start_time": "2023-04-20T13:06:37.115Z"
   },
   {
    "duration": 12,
    "start_time": "2023-04-20T13:06:37.388Z"
   },
   {
    "duration": 117,
    "start_time": "2023-04-20T13:06:37.402Z"
   },
   {
    "duration": 18,
    "start_time": "2023-04-20T13:06:37.521Z"
   },
   {
    "duration": 44,
    "start_time": "2023-04-20T13:06:37.541Z"
   },
   {
    "duration": 12,
    "start_time": "2023-04-20T13:06:37.586Z"
   },
   {
    "duration": 10,
    "start_time": "2023-04-20T13:06:37.600Z"
   },
   {
    "duration": 19,
    "start_time": "2023-04-20T13:06:37.612Z"
   },
   {
    "duration": 31,
    "start_time": "2023-04-20T13:06:37.632Z"
   },
   {
    "duration": 23,
    "start_time": "2023-04-20T13:06:37.665Z"
   },
   {
    "duration": 28,
    "start_time": "2023-04-20T13:06:37.689Z"
   },
   {
    "duration": 237,
    "start_time": "2023-04-20T13:06:37.718Z"
   },
   {
    "duration": 24,
    "start_time": "2023-04-20T13:06:37.957Z"
   },
   {
    "duration": 12,
    "start_time": "2023-04-20T13:06:37.983Z"
   },
   {
    "duration": 24,
    "start_time": "2023-04-20T13:06:37.996Z"
   },
   {
    "duration": 37,
    "start_time": "2023-04-20T13:06:38.022Z"
   },
   {
    "duration": 16,
    "start_time": "2023-04-20T13:06:38.061Z"
   },
   {
    "duration": 24,
    "start_time": "2023-04-20T13:06:38.079Z"
   },
   {
    "duration": 16,
    "start_time": "2023-04-20T13:06:38.104Z"
   },
   {
    "duration": 42,
    "start_time": "2023-04-20T13:06:38.122Z"
   },
   {
    "duration": 18,
    "start_time": "2023-04-20T13:06:38.165Z"
   },
   {
    "duration": 53,
    "start_time": "2023-04-20T13:06:38.184Z"
   },
   {
    "duration": 29,
    "start_time": "2023-04-20T13:06:38.239Z"
   },
   {
    "duration": 53,
    "start_time": "2023-04-20T13:06:38.270Z"
   },
   {
    "duration": 124,
    "start_time": "2023-04-20T13:06:38.324Z"
   },
   {
    "duration": 222,
    "start_time": "2023-04-20T13:06:38.450Z"
   },
   {
    "duration": 3,
    "start_time": "2023-04-20T13:06:38.674Z"
   },
   {
    "duration": 13,
    "start_time": "2023-04-20T13:06:38.678Z"
   },
   {
    "duration": 210,
    "start_time": "2023-04-20T13:06:38.692Z"
   },
   {
    "duration": 438,
    "start_time": "2023-04-20T13:06:38.904Z"
   },
   {
    "duration": 67,
    "start_time": "2023-04-20T13:06:39.343Z"
   },
   {
    "duration": 4,
    "start_time": "2023-04-20T13:06:39.411Z"
   },
   {
    "duration": 14,
    "start_time": "2023-04-20T13:06:39.417Z"
   },
   {
    "duration": 101,
    "start_time": "2023-04-20T13:06:39.432Z"
   },
   {
    "duration": 27,
    "start_time": "2023-04-20T13:06:39.535Z"
   },
   {
    "duration": 306,
    "start_time": "2023-04-20T13:06:39.563Z"
   },
   {
    "duration": 89,
    "start_time": "2023-04-20T13:06:39.870Z"
   },
   {
    "duration": 97,
    "start_time": "2023-04-20T13:06:39.961Z"
   },
   {
    "duration": 25401,
    "start_time": "2023-04-20T13:06:40.063Z"
   },
   {
    "duration": 73,
    "start_time": "2023-04-20T13:07:05.466Z"
   },
   {
    "duration": 15,
    "start_time": "2023-04-20T13:07:05.541Z"
   },
   {
    "duration": 170,
    "start_time": "2023-04-20T13:07:05.557Z"
   },
   {
    "duration": 3,
    "start_time": "2023-04-20T13:09:46.713Z"
   },
   {
    "duration": 100,
    "start_time": "2023-04-20T13:09:58.045Z"
   },
   {
    "duration": 108,
    "start_time": "2023-04-20T13:10:16.602Z"
   },
   {
    "duration": 41010,
    "start_time": "2023-04-20T13:10:36.555Z"
   },
   {
    "duration": 40250,
    "start_time": "2023-04-20T13:11:18.817Z"
   },
   {
    "duration": 95,
    "start_time": "2023-04-20T13:11:59.815Z"
   },
   {
    "duration": 33548,
    "start_time": "2023-04-20T13:12:18.927Z"
   },
   {
    "duration": 35680,
    "start_time": "2023-04-20T13:17:43.193Z"
   },
   {
    "duration": 99,
    "start_time": "2023-04-20T13:18:40.158Z"
   },
   {
    "duration": 5044,
    "start_time": "2023-04-20T13:18:53.717Z"
   },
   {
    "duration": 5,
    "start_time": "2023-04-20T13:20:57.318Z"
   },
   {
    "duration": 71,
    "start_time": "2023-04-20T13:23:55.933Z"
   },
   {
    "duration": 13,
    "start_time": "2023-04-20T13:24:31.014Z"
   },
   {
    "duration": 70,
    "start_time": "2023-04-20T13:26:09.869Z"
   },
   {
    "duration": 72,
    "start_time": "2023-04-20T13:26:25.618Z"
   },
   {
    "duration": 5,
    "start_time": "2023-04-20T13:26:46.033Z"
   },
   {
    "duration": 11,
    "start_time": "2023-04-20T13:27:48.543Z"
   },
   {
    "duration": 3,
    "start_time": "2023-04-20T13:28:49.077Z"
   },
   {
    "duration": 5,
    "start_time": "2023-04-20T13:29:07.921Z"
   },
   {
    "duration": 12,
    "start_time": "2023-04-20T13:29:26.210Z"
   },
   {
    "duration": 9,
    "start_time": "2023-04-20T13:29:32.224Z"
   },
   {
    "duration": 8,
    "start_time": "2023-04-20T13:29:59.545Z"
   },
   {
    "duration": 5,
    "start_time": "2023-04-20T13:30:05.371Z"
   },
   {
    "duration": 6,
    "start_time": "2023-04-20T13:30:39.126Z"
   },
   {
    "duration": 7,
    "start_time": "2023-04-20T13:30:49.920Z"
   },
   {
    "duration": 7,
    "start_time": "2023-04-20T13:30:56.975Z"
   },
   {
    "duration": 7,
    "start_time": "2023-04-20T13:31:31.626Z"
   },
   {
    "duration": 6,
    "start_time": "2023-04-20T13:31:37.448Z"
   },
   {
    "duration": 12,
    "start_time": "2023-04-20T13:34:55.928Z"
   },
   {
    "duration": 1518,
    "start_time": "2023-04-20T13:35:23.174Z"
   },
   {
    "duration": 830,
    "start_time": "2023-04-20T13:35:24.694Z"
   },
   {
    "duration": 16,
    "start_time": "2023-04-20T13:35:25.525Z"
   },
   {
    "duration": 136,
    "start_time": "2023-04-20T13:35:25.543Z"
   },
   {
    "duration": 29,
    "start_time": "2023-04-20T13:35:25.681Z"
   },
   {
    "duration": 53,
    "start_time": "2023-04-20T13:35:25.712Z"
   },
   {
    "duration": 280,
    "start_time": "2023-04-20T13:35:25.768Z"
   },
   {
    "duration": 25,
    "start_time": "2023-04-20T13:35:26.056Z"
   },
   {
    "duration": 10,
    "start_time": "2023-04-20T13:35:26.082Z"
   },
   {
    "duration": 41,
    "start_time": "2023-04-20T13:35:26.094Z"
   },
   {
    "duration": 23,
    "start_time": "2023-04-20T13:35:26.137Z"
   },
   {
    "duration": 19,
    "start_time": "2023-04-20T13:35:26.162Z"
   },
   {
    "duration": 45,
    "start_time": "2023-04-20T13:35:26.183Z"
   },
   {
    "duration": 42,
    "start_time": "2023-04-20T13:35:26.230Z"
   },
   {
    "duration": 23,
    "start_time": "2023-04-20T13:35:26.274Z"
   },
   {
    "duration": 15,
    "start_time": "2023-04-20T13:35:26.298Z"
   },
   {
    "duration": 6,
    "start_time": "2023-04-20T13:35:26.315Z"
   },
   {
    "duration": 5,
    "start_time": "2023-04-20T13:35:26.323Z"
   },
   {
    "duration": 63,
    "start_time": "2023-04-20T13:35:26.330Z"
   },
   {
    "duration": 6,
    "start_time": "2023-04-20T13:35:26.395Z"
   },
   {
    "duration": 18,
    "start_time": "2023-04-20T13:35:26.403Z"
   },
   {
    "duration": 63,
    "start_time": "2023-04-20T13:35:26.423Z"
   },
   {
    "duration": 21,
    "start_time": "2023-04-20T13:35:26.488Z"
   },
   {
    "duration": 50,
    "start_time": "2023-04-20T13:35:26.511Z"
   },
   {
    "duration": 18,
    "start_time": "2023-04-20T13:35:26.565Z"
   },
   {
    "duration": 24,
    "start_time": "2023-04-20T13:35:26.585Z"
   },
   {
    "duration": 306,
    "start_time": "2023-04-20T13:35:26.610Z"
   },
   {
    "duration": 12,
    "start_time": "2023-04-20T13:35:26.921Z"
   },
   {
    "duration": 116,
    "start_time": "2023-04-20T13:35:26.934Z"
   },
   {
    "duration": 26,
    "start_time": "2023-04-20T13:35:27.051Z"
   },
   {
    "duration": 36,
    "start_time": "2023-04-20T13:35:27.079Z"
   },
   {
    "duration": 12,
    "start_time": "2023-04-20T13:35:27.116Z"
   },
   {
    "duration": 8,
    "start_time": "2023-04-20T13:35:27.130Z"
   },
   {
    "duration": 35,
    "start_time": "2023-04-20T13:35:27.140Z"
   },
   {
    "duration": 20,
    "start_time": "2023-04-20T13:35:27.177Z"
   },
   {
    "duration": 26,
    "start_time": "2023-04-20T13:35:27.199Z"
   },
   {
    "duration": 54,
    "start_time": "2023-04-20T13:35:27.227Z"
   },
   {
    "duration": 256,
    "start_time": "2023-04-20T13:35:27.283Z"
   },
   {
    "duration": 38,
    "start_time": "2023-04-20T13:35:27.541Z"
   },
   {
    "duration": 12,
    "start_time": "2023-04-20T13:35:27.580Z"
   },
   {
    "duration": 20,
    "start_time": "2023-04-20T13:35:27.594Z"
   },
   {
    "duration": 14,
    "start_time": "2023-04-20T13:35:27.616Z"
   },
   {
    "duration": 38,
    "start_time": "2023-04-20T13:35:27.632Z"
   },
   {
    "duration": 26,
    "start_time": "2023-04-20T13:35:27.672Z"
   },
   {
    "duration": 17,
    "start_time": "2023-04-20T13:35:27.700Z"
   },
   {
    "duration": 24,
    "start_time": "2023-04-20T13:35:27.719Z"
   },
   {
    "duration": 16,
    "start_time": "2023-04-20T13:35:27.764Z"
   },
   {
    "duration": 52,
    "start_time": "2023-04-20T13:35:27.782Z"
   },
   {
    "duration": 42,
    "start_time": "2023-04-20T13:35:27.835Z"
   },
   {
    "duration": 51,
    "start_time": "2023-04-20T13:35:27.879Z"
   },
   {
    "duration": 136,
    "start_time": "2023-04-20T13:35:27.931Z"
   },
   {
    "duration": 229,
    "start_time": "2023-04-20T13:35:28.071Z"
   },
   {
    "duration": 3,
    "start_time": "2023-04-20T13:35:28.302Z"
   },
   {
    "duration": 10,
    "start_time": "2023-04-20T13:35:28.307Z"
   },
   {
    "duration": 205,
    "start_time": "2023-04-20T13:35:28.318Z"
   },
   {
    "duration": 440,
    "start_time": "2023-04-20T13:35:28.524Z"
   },
   {
    "duration": 69,
    "start_time": "2023-04-20T13:35:28.972Z"
   },
   {
    "duration": 4,
    "start_time": "2023-04-20T13:35:29.042Z"
   },
   {
    "duration": 20,
    "start_time": "2023-04-20T13:35:29.047Z"
   },
   {
    "duration": 85,
    "start_time": "2023-04-20T13:35:29.069Z"
   },
   {
    "duration": 24,
    "start_time": "2023-04-20T13:35:29.166Z"
   },
   {
    "duration": 9,
    "start_time": "2023-04-20T13:35:29.192Z"
   },
   {
    "duration": 276,
    "start_time": "2023-04-20T13:35:29.203Z"
   },
   {
    "duration": 14,
    "start_time": "2023-04-20T13:35:29.564Z"
   },
   {
    "duration": 8,
    "start_time": "2023-04-20T13:35:29.658Z"
   },
   {
    "duration": 25719,
    "start_time": "2023-04-20T13:35:29.671Z"
   },
   {
    "duration": 71,
    "start_time": "2023-04-20T13:35:55.391Z"
   },
   {
    "duration": 7,
    "start_time": "2023-04-20T13:35:55.463Z"
   },
   {
    "duration": 544014,
    "start_time": "2023-04-20T13:35:55.471Z"
   },
   {
    "duration": 5203,
    "start_time": "2023-04-20T13:44:59.487Z"
   },
   {
    "duration": 157,
    "start_time": "2023-04-20T13:45:04.692Z"
   },
   {
    "duration": 0,
    "start_time": "2023-04-20T13:45:04.852Z"
   },
   {
    "duration": 6,
    "start_time": "2023-04-20T13:46:37.174Z"
   },
   {
    "duration": 14,
    "start_time": "2023-04-20T13:46:49.437Z"
   },
   {
    "duration": 69,
    "start_time": "2023-04-20T13:48:05.493Z"
   },
   {
    "duration": 27,
    "start_time": "2023-04-20T13:48:24.271Z"
   },
   {
    "duration": 24,
    "start_time": "2023-04-20T13:48:52.306Z"
   },
   {
    "duration": 22,
    "start_time": "2023-04-20T13:50:32.799Z"
   },
   {
    "duration": 37,
    "start_time": "2023-04-20T13:50:46.631Z"
   },
   {
    "duration": 28,
    "start_time": "2023-04-20T13:51:09.039Z"
   },
   {
    "duration": 21,
    "start_time": "2023-04-20T13:51:47.599Z"
   },
   {
    "duration": 5,
    "start_time": "2023-04-20T14:03:30.803Z"
   },
   {
    "duration": 2407,
    "start_time": "2023-04-21T14:28:34.750Z"
   },
   {
    "duration": 183,
    "start_time": "2023-04-21T14:36:29.484Z"
   },
   {
    "duration": 14,
    "start_time": "2023-04-21T14:36:42.818Z"
   },
   {
    "duration": 1681,
    "start_time": "2023-04-21T14:37:49.948Z"
   },
   {
    "duration": 1617,
    "start_time": "2023-04-21T14:37:51.638Z"
   },
   {
    "duration": 27,
    "start_time": "2023-04-21T14:37:53.257Z"
   },
   {
    "duration": 177,
    "start_time": "2023-04-21T14:37:53.287Z"
   },
   {
    "duration": 26,
    "start_time": "2023-04-21T14:37:53.466Z"
   },
   {
    "duration": 58,
    "start_time": "2023-04-21T14:37:53.493Z"
   },
   {
    "duration": 338,
    "start_time": "2023-04-21T14:37:53.553Z"
   },
   {
    "duration": 49,
    "start_time": "2023-04-21T14:37:53.893Z"
   },
   {
    "duration": 13,
    "start_time": "2023-04-21T14:37:53.952Z"
   },
   {
    "duration": 48,
    "start_time": "2023-04-21T14:37:53.968Z"
   },
   {
    "duration": 26,
    "start_time": "2023-04-21T14:37:54.023Z"
   },
   {
    "duration": 61,
    "start_time": "2023-04-21T14:37:54.052Z"
   },
   {
    "duration": 72,
    "start_time": "2023-04-21T14:37:54.115Z"
   },
   {
    "duration": 40,
    "start_time": "2023-04-21T14:37:54.190Z"
   },
   {
    "duration": 49,
    "start_time": "2023-04-21T14:37:54.235Z"
   },
   {
    "duration": 46,
    "start_time": "2023-04-21T14:37:54.286Z"
   },
   {
    "duration": 38,
    "start_time": "2023-04-21T14:37:54.335Z"
   },
   {
    "duration": 28,
    "start_time": "2023-04-21T14:37:54.375Z"
   },
   {
    "duration": 82,
    "start_time": "2023-04-21T14:37:54.404Z"
   },
   {
    "duration": 6,
    "start_time": "2023-04-21T14:37:54.488Z"
   },
   {
    "duration": 41,
    "start_time": "2023-04-21T14:37:54.496Z"
   },
   {
    "duration": 71,
    "start_time": "2023-04-21T14:37:54.538Z"
   },
   {
    "duration": 52,
    "start_time": "2023-04-21T14:37:54.611Z"
   },
   {
    "duration": 67,
    "start_time": "2023-04-21T14:37:54.664Z"
   },
   {
    "duration": 32,
    "start_time": "2023-04-21T14:37:54.733Z"
   },
   {
    "duration": 42,
    "start_time": "2023-04-21T14:37:54.770Z"
   },
   {
    "duration": 333,
    "start_time": "2023-04-21T14:37:54.814Z"
   },
   {
    "duration": 13,
    "start_time": "2023-04-21T14:37:55.155Z"
   },
   {
    "duration": 120,
    "start_time": "2023-04-21T14:37:55.170Z"
   },
   {
    "duration": 34,
    "start_time": "2023-04-21T14:37:55.292Z"
   },
   {
    "duration": 60,
    "start_time": "2023-04-21T14:37:55.328Z"
   },
   {
    "duration": 16,
    "start_time": "2023-04-21T14:37:55.390Z"
   },
   {
    "duration": 8,
    "start_time": "2023-04-21T14:37:55.408Z"
   },
   {
    "duration": 49,
    "start_time": "2023-04-21T14:37:55.424Z"
   },
   {
    "duration": 17,
    "start_time": "2023-04-21T14:37:55.475Z"
   },
   {
    "duration": 22,
    "start_time": "2023-04-21T14:37:55.494Z"
   },
   {
    "duration": 67,
    "start_time": "2023-04-21T14:37:55.522Z"
   },
   {
    "duration": 328,
    "start_time": "2023-04-21T14:37:55.591Z"
   },
   {
    "duration": 44,
    "start_time": "2023-04-21T14:37:55.932Z"
   },
   {
    "duration": 31,
    "start_time": "2023-04-21T14:37:55.978Z"
   },
   {
    "duration": 37,
    "start_time": "2023-04-21T14:37:56.011Z"
   },
   {
    "duration": 25,
    "start_time": "2023-04-21T14:37:56.051Z"
   },
   {
    "duration": 22,
    "start_time": "2023-04-21T14:37:56.078Z"
   },
   {
    "duration": 56,
    "start_time": "2023-04-21T14:37:56.102Z"
   },
   {
    "duration": 19,
    "start_time": "2023-04-21T14:37:56.160Z"
   },
   {
    "duration": 46,
    "start_time": "2023-04-21T14:37:56.180Z"
   },
   {
    "duration": 43,
    "start_time": "2023-04-21T14:37:56.227Z"
   },
   {
    "duration": 71,
    "start_time": "2023-04-21T14:37:56.272Z"
   },
   {
    "duration": 26,
    "start_time": "2023-04-21T14:37:56.344Z"
   },
   {
    "duration": 96,
    "start_time": "2023-04-21T14:37:56.372Z"
   },
   {
    "duration": 174,
    "start_time": "2023-04-21T14:37:56.470Z"
   },
   {
    "duration": 304,
    "start_time": "2023-04-21T14:37:56.648Z"
   },
   {
    "duration": 3,
    "start_time": "2023-04-21T14:37:56.954Z"
   },
   {
    "duration": 31,
    "start_time": "2023-04-21T14:37:56.959Z"
   },
   {
    "duration": 289,
    "start_time": "2023-04-21T14:37:56.992Z"
   },
   {
    "duration": 592,
    "start_time": "2023-04-21T14:37:57.284Z"
   },
   {
    "duration": 80,
    "start_time": "2023-04-21T14:37:57.878Z"
   },
   {
    "duration": 5,
    "start_time": "2023-04-21T14:37:57.960Z"
   },
   {
    "duration": 12,
    "start_time": "2023-04-21T14:37:57.966Z"
   },
   {
    "duration": 121,
    "start_time": "2023-04-21T14:37:57.980Z"
   },
   {
    "duration": 47,
    "start_time": "2023-04-21T14:37:58.103Z"
   },
   {
    "duration": 19,
    "start_time": "2023-04-21T14:37:58.153Z"
   },
   {
    "duration": 368,
    "start_time": "2023-04-21T14:37:58.174Z"
   },
   {
    "duration": 75,
    "start_time": "2023-04-21T14:37:58.544Z"
   },
   {
    "duration": 138,
    "start_time": "2023-04-21T14:37:58.621Z"
   },
   {
    "duration": 30806,
    "start_time": "2023-04-21T14:37:58.760Z"
   },
   {
    "duration": 89,
    "start_time": "2023-04-21T14:38:29.568Z"
   },
   {
    "duration": 8,
    "start_time": "2023-04-21T14:38:29.661Z"
   },
   {
    "duration": 95,
    "start_time": "2023-04-21T14:38:29.671Z"
   },
   {
    "duration": 0,
    "start_time": "2023-04-21T14:38:29.767Z"
   },
   {
    "duration": 0,
    "start_time": "2023-04-21T14:38:29.768Z"
   },
   {
    "duration": 0,
    "start_time": "2023-04-21T14:38:29.769Z"
   },
   {
    "duration": 0,
    "start_time": "2023-04-21T14:38:29.770Z"
   },
   {
    "duration": 0,
    "start_time": "2023-04-21T14:38:29.771Z"
   },
   {
    "duration": 0,
    "start_time": "2023-04-21T14:38:29.771Z"
   },
   {
    "duration": 122260,
    "start_time": "2023-04-21T14:51:08.775Z"
   },
   {
    "duration": 10,
    "start_time": "2023-04-21T14:54:00.348Z"
   },
   {
    "duration": 137,
    "start_time": "2023-04-21T14:55:30.555Z"
   },
   {
    "duration": 4,
    "start_time": "2023-04-21T14:55:41.356Z"
   },
   {
    "duration": 61591,
    "start_time": "2023-04-21T14:56:24.959Z"
   },
   {
    "duration": 10,
    "start_time": "2023-04-21T14:59:05.545Z"
   },
   {
    "duration": 126,
    "start_time": "2023-04-21T14:59:10.129Z"
   },
   {
    "duration": 4,
    "start_time": "2023-04-21T15:08:02.355Z"
   },
   {
    "duration": 3,
    "start_time": "2023-04-21T15:12:16.412Z"
   },
   {
    "duration": 7,
    "start_time": "2023-04-21T15:14:26.545Z"
   },
   {
    "duration": 5,
    "start_time": "2023-04-21T15:14:27.543Z"
   },
   {
    "duration": 14,
    "start_time": "2023-04-21T15:14:29.444Z"
   },
   {
    "duration": 1736,
    "start_time": "2023-04-21T15:19:45.734Z"
   },
   {
    "duration": 985,
    "start_time": "2023-04-21T15:19:47.472Z"
   },
   {
    "duration": 19,
    "start_time": "2023-04-21T15:19:48.461Z"
   },
   {
    "duration": 182,
    "start_time": "2023-04-21T15:19:48.482Z"
   },
   {
    "duration": 27,
    "start_time": "2023-04-21T15:19:48.666Z"
   },
   {
    "duration": 66,
    "start_time": "2023-04-21T15:19:48.695Z"
   },
   {
    "duration": 323,
    "start_time": "2023-04-21T15:19:48.763Z"
   },
   {
    "duration": 30,
    "start_time": "2023-04-21T15:19:49.088Z"
   },
   {
    "duration": 18,
    "start_time": "2023-04-21T15:19:49.121Z"
   },
   {
    "duration": 90,
    "start_time": "2023-04-21T15:19:49.141Z"
   },
   {
    "duration": 18,
    "start_time": "2023-04-21T15:19:49.241Z"
   },
   {
    "duration": 36,
    "start_time": "2023-04-21T15:19:49.261Z"
   },
   {
    "duration": 43,
    "start_time": "2023-04-21T15:19:49.299Z"
   },
   {
    "duration": 44,
    "start_time": "2023-04-21T15:19:49.344Z"
   },
   {
    "duration": 38,
    "start_time": "2023-04-21T15:19:49.389Z"
   },
   {
    "duration": 33,
    "start_time": "2023-04-21T15:19:49.437Z"
   },
   {
    "duration": 19,
    "start_time": "2023-04-21T15:19:49.471Z"
   },
   {
    "duration": 18,
    "start_time": "2023-04-21T15:19:49.492Z"
   },
   {
    "duration": 48,
    "start_time": "2023-04-21T15:19:49.511Z"
   },
   {
    "duration": 12,
    "start_time": "2023-04-21T15:19:49.561Z"
   },
   {
    "duration": 32,
    "start_time": "2023-04-21T15:19:49.574Z"
   },
   {
    "duration": 69,
    "start_time": "2023-04-21T15:19:49.608Z"
   },
   {
    "duration": 18,
    "start_time": "2023-04-21T15:19:49.679Z"
   },
   {
    "duration": 71,
    "start_time": "2023-04-21T15:19:49.699Z"
   },
   {
    "duration": 17,
    "start_time": "2023-04-21T15:19:49.772Z"
   },
   {
    "duration": 34,
    "start_time": "2023-04-21T15:19:49.791Z"
   },
   {
    "duration": 338,
    "start_time": "2023-04-21T15:19:49.827Z"
   },
   {
    "duration": 107,
    "start_time": "2023-04-21T15:19:50.171Z"
   },
   {
    "duration": 34,
    "start_time": "2023-04-21T15:19:50.280Z"
   },
   {
    "duration": 41,
    "start_time": "2023-04-21T15:19:50.315Z"
   },
   {
    "duration": 52,
    "start_time": "2023-04-21T15:19:50.359Z"
   },
   {
    "duration": 45,
    "start_time": "2023-04-21T15:19:50.413Z"
   },
   {
    "duration": 9,
    "start_time": "2023-04-21T15:19:50.463Z"
   },
   {
    "duration": 29,
    "start_time": "2023-04-21T15:19:50.474Z"
   },
   {
    "duration": 35,
    "start_time": "2023-04-21T15:19:50.505Z"
   },
   {
    "duration": 44,
    "start_time": "2023-04-21T15:19:50.543Z"
   },
   {
    "duration": 74,
    "start_time": "2023-04-21T15:19:50.589Z"
   },
   {
    "duration": 301,
    "start_time": "2023-04-21T15:19:50.665Z"
   },
   {
    "duration": 31,
    "start_time": "2023-04-21T15:19:50.969Z"
   },
   {
    "duration": 48,
    "start_time": "2023-04-21T15:19:51.002Z"
   },
   {
    "duration": 58,
    "start_time": "2023-04-21T15:19:51.051Z"
   },
   {
    "duration": 28,
    "start_time": "2023-04-21T15:19:51.111Z"
   },
   {
    "duration": 46,
    "start_time": "2023-04-21T15:19:51.141Z"
   },
   {
    "duration": 64,
    "start_time": "2023-04-21T15:19:51.189Z"
   },
   {
    "duration": 23,
    "start_time": "2023-04-21T15:19:51.259Z"
   },
   {
    "duration": 34,
    "start_time": "2023-04-21T15:19:51.283Z"
   },
   {
    "duration": 46,
    "start_time": "2023-04-21T15:19:51.325Z"
   },
   {
    "duration": 88,
    "start_time": "2023-04-21T15:19:51.373Z"
   },
   {
    "duration": 16,
    "start_time": "2023-04-21T15:19:51.462Z"
   },
   {
    "duration": 110,
    "start_time": "2023-04-21T15:19:51.480Z"
   },
   {
    "duration": 168,
    "start_time": "2023-04-21T15:19:51.591Z"
   },
   {
    "duration": 347,
    "start_time": "2023-04-21T15:19:51.761Z"
   },
   {
    "duration": 3,
    "start_time": "2023-04-21T15:19:52.110Z"
   },
   {
    "duration": 46,
    "start_time": "2023-04-21T15:19:52.122Z"
   },
   {
    "duration": 250,
    "start_time": "2023-04-21T15:19:52.170Z"
   },
   {
    "duration": 617,
    "start_time": "2023-04-21T15:19:52.433Z"
   },
   {
    "duration": 72,
    "start_time": "2023-04-21T15:19:53.056Z"
   },
   {
    "duration": 12,
    "start_time": "2023-04-21T15:19:53.130Z"
   },
   {
    "duration": 62,
    "start_time": "2023-04-21T15:19:53.146Z"
   },
   {
    "duration": 128,
    "start_time": "2023-04-21T15:19:53.210Z"
   },
   {
    "duration": 33,
    "start_time": "2023-04-21T15:19:53.342Z"
   },
   {
    "duration": 12,
    "start_time": "2023-04-21T15:19:53.377Z"
   },
   {
    "duration": 468,
    "start_time": "2023-04-21T15:19:53.391Z"
   },
   {
    "duration": 46,
    "start_time": "2023-04-21T15:19:53.920Z"
   },
   {
    "duration": 132,
    "start_time": "2023-04-21T15:19:54.021Z"
   },
   {
    "duration": 30655,
    "start_time": "2023-04-21T15:19:54.155Z"
   },
   {
    "duration": 88,
    "start_time": "2023-04-21T15:20:24.812Z"
   },
   {
    "duration": 6,
    "start_time": "2023-04-21T15:20:24.902Z"
   },
   {
    "duration": 62949,
    "start_time": "2023-04-21T15:20:24.917Z"
   },
   {
    "duration": 4,
    "start_time": "2023-04-21T15:21:27.868Z"
   },
   {
    "duration": 14,
    "start_time": "2023-04-21T15:21:27.874Z"
   },
   {
    "duration": 16,
    "start_time": "2023-04-21T15:21:27.890Z"
   },
   {
    "duration": 1642,
    "start_time": "2023-04-21T15:25:28.251Z"
   },
   {
    "duration": 982,
    "start_time": "2023-04-21T15:25:29.895Z"
   },
   {
    "duration": 19,
    "start_time": "2023-04-21T15:25:30.879Z"
   },
   {
    "duration": 212,
    "start_time": "2023-04-21T15:25:30.900Z"
   },
   {
    "duration": 40,
    "start_time": "2023-04-21T15:25:31.114Z"
   },
   {
    "duration": 86,
    "start_time": "2023-04-21T15:25:31.158Z"
   },
   {
    "duration": 342,
    "start_time": "2023-04-21T15:25:31.251Z"
   },
   {
    "duration": 47,
    "start_time": "2023-04-21T15:25:31.595Z"
   },
   {
    "duration": 33,
    "start_time": "2023-04-21T15:25:31.650Z"
   },
   {
    "duration": 84,
    "start_time": "2023-04-21T15:25:31.686Z"
   },
   {
    "duration": 6,
    "start_time": "2023-04-21T15:25:31.773Z"
   },
   {
    "duration": 44,
    "start_time": "2023-04-21T15:25:31.781Z"
   },
   {
    "duration": 77,
    "start_time": "2023-04-21T15:25:31.827Z"
   },
   {
    "duration": 44,
    "start_time": "2023-04-21T15:25:31.906Z"
   },
   {
    "duration": 81,
    "start_time": "2023-04-21T15:25:31.953Z"
   },
   {
    "duration": 106,
    "start_time": "2023-04-21T15:25:32.036Z"
   },
   {
    "duration": 30,
    "start_time": "2023-04-21T15:25:32.148Z"
   },
   {
    "duration": 6,
    "start_time": "2023-04-21T15:25:32.180Z"
   },
   {
    "duration": 61,
    "start_time": "2023-04-21T15:25:32.188Z"
   },
   {
    "duration": 6,
    "start_time": "2023-04-21T15:25:32.255Z"
   },
   {
    "duration": 24,
    "start_time": "2023-04-21T15:25:32.263Z"
   },
   {
    "duration": 69,
    "start_time": "2023-04-21T15:25:32.289Z"
   },
   {
    "duration": 20,
    "start_time": "2023-04-21T15:25:32.363Z"
   },
   {
    "duration": 59,
    "start_time": "2023-04-21T15:25:32.385Z"
   },
   {
    "duration": 22,
    "start_time": "2023-04-21T15:25:32.447Z"
   },
   {
    "duration": 36,
    "start_time": "2023-04-21T15:25:32.471Z"
   },
   {
    "duration": 301,
    "start_time": "2023-04-21T15:25:32.509Z"
   },
   {
    "duration": 123,
    "start_time": "2023-04-21T15:25:32.816Z"
   },
   {
    "duration": 34,
    "start_time": "2023-04-21T15:25:32.948Z"
   },
   {
    "duration": 32,
    "start_time": "2023-04-21T15:25:32.984Z"
   },
   {
    "duration": 70,
    "start_time": "2023-04-21T15:25:33.024Z"
   },
   {
    "duration": 15,
    "start_time": "2023-04-21T15:25:33.096Z"
   },
   {
    "duration": 31,
    "start_time": "2023-04-21T15:25:33.113Z"
   },
   {
    "duration": 40,
    "start_time": "2023-04-21T15:25:33.146Z"
   },
   {
    "duration": 28,
    "start_time": "2023-04-21T15:25:33.188Z"
   },
   {
    "duration": 80,
    "start_time": "2023-04-21T15:25:33.217Z"
   },
   {
    "duration": 77,
    "start_time": "2023-04-21T15:25:33.300Z"
   },
   {
    "duration": 336,
    "start_time": "2023-04-21T15:25:33.379Z"
   },
   {
    "duration": 54,
    "start_time": "2023-04-21T15:25:33.717Z"
   },
   {
    "duration": 19,
    "start_time": "2023-04-21T15:25:33.773Z"
   },
   {
    "duration": 46,
    "start_time": "2023-04-21T15:25:33.794Z"
   },
   {
    "duration": 34,
    "start_time": "2023-04-21T15:25:33.847Z"
   },
   {
    "duration": 33,
    "start_time": "2023-04-21T15:25:33.883Z"
   },
   {
    "duration": 74,
    "start_time": "2023-04-21T15:25:33.917Z"
   },
   {
    "duration": 42,
    "start_time": "2023-04-21T15:25:33.993Z"
   },
   {
    "duration": 66,
    "start_time": "2023-04-21T15:25:34.036Z"
   },
   {
    "duration": 77,
    "start_time": "2023-04-21T15:25:34.103Z"
   },
   {
    "duration": 91,
    "start_time": "2023-04-21T15:25:34.182Z"
   },
   {
    "duration": 16,
    "start_time": "2023-04-21T15:25:34.275Z"
   },
   {
    "duration": 93,
    "start_time": "2023-04-21T15:25:34.293Z"
   },
   {
    "duration": 175,
    "start_time": "2023-04-21T15:25:34.387Z"
   },
   {
    "duration": 314,
    "start_time": "2023-04-21T15:25:34.564Z"
   },
   {
    "duration": 3,
    "start_time": "2023-04-21T15:25:34.880Z"
   },
   {
    "duration": 13,
    "start_time": "2023-04-21T15:25:34.884Z"
   },
   {
    "duration": 244,
    "start_time": "2023-04-21T15:25:34.899Z"
   },
   {
    "duration": 591,
    "start_time": "2023-04-21T15:25:35.149Z"
   },
   {
    "duration": 79,
    "start_time": "2023-04-21T15:25:35.749Z"
   },
   {
    "duration": 4,
    "start_time": "2023-04-21T15:25:35.832Z"
   },
   {
    "duration": 13,
    "start_time": "2023-04-21T15:25:35.842Z"
   },
   {
    "duration": 103,
    "start_time": "2023-04-21T15:25:35.856Z"
   },
   {
    "duration": 25,
    "start_time": "2023-04-21T15:25:35.961Z"
   },
   {
    "duration": 26,
    "start_time": "2023-04-21T15:25:35.987Z"
   },
   {
    "duration": 415,
    "start_time": "2023-04-21T15:25:36.015Z"
   },
   {
    "duration": 121,
    "start_time": "2023-04-21T15:25:36.432Z"
   },
   {
    "duration": 7,
    "start_time": "2023-04-21T15:25:36.556Z"
   },
   {
    "duration": 30936,
    "start_time": "2023-04-21T15:25:36.619Z"
   },
   {
    "duration": 99,
    "start_time": "2023-04-21T15:26:07.557Z"
   },
   {
    "duration": 6,
    "start_time": "2023-04-21T15:26:07.660Z"
   },
   {
    "duration": 60787,
    "start_time": "2023-04-21T15:26:07.668Z"
   },
   {
    "duration": 4,
    "start_time": "2023-04-21T15:27:08.457Z"
   },
   {
    "duration": 21,
    "start_time": "2023-04-21T15:27:08.463Z"
   },
   {
    "duration": 25,
    "start_time": "2023-04-21T15:27:08.486Z"
   },
   {
    "duration": 78680,
    "start_time": "2023-04-21T15:27:08.512Z"
   },
   {
    "duration": 5,
    "start_time": "2023-04-21T15:28:27.194Z"
   },
   {
    "duration": 168,
    "start_time": "2023-04-21T15:28:27.201Z"
   },
   {
    "duration": 0,
    "start_time": "2023-04-21T15:28:27.371Z"
   },
   {
    "duration": 0,
    "start_time": "2023-04-21T15:28:27.372Z"
   },
   {
    "duration": 0,
    "start_time": "2023-04-21T15:28:27.374Z"
   },
   {
    "duration": 0,
    "start_time": "2023-04-21T15:28:27.375Z"
   },
   {
    "duration": 0,
    "start_time": "2023-04-21T15:28:27.376Z"
   },
   {
    "duration": 3,
    "start_time": "2023-04-21T15:35:46.913Z"
   },
   {
    "duration": 893384,
    "start_time": "2023-04-21T15:35:49.673Z"
   },
   {
    "duration": 4,
    "start_time": "2023-04-21T15:51:22.281Z"
   },
   {
    "duration": 361,
    "start_time": "2023-04-21T15:56:27.358Z"
   },
   {
    "duration": 13,
    "start_time": "2023-04-21T15:56:30.069Z"
   },
   {
    "duration": 19,
    "start_time": "2023-04-21T15:56:48.477Z"
   },
   {
    "duration": 7,
    "start_time": "2023-04-21T15:57:15.838Z"
   },
   {
    "duration": 10,
    "start_time": "2023-04-21T15:57:58.781Z"
   },
   {
    "duration": 7,
    "start_time": "2023-04-21T15:58:01.942Z"
   },
   {
    "duration": 15,
    "start_time": "2023-04-21T15:59:01.246Z"
   },
   {
    "duration": 8,
    "start_time": "2023-04-21T15:59:02.607Z"
   },
   {
    "duration": 25652,
    "start_time": "2023-04-21T16:03:33.912Z"
   },
   {
    "duration": 219,
    "start_time": "2023-04-21T16:04:56.729Z"
   },
   {
    "duration": 13,
    "start_time": "2023-04-21T16:05:10.176Z"
   },
   {
    "duration": 7,
    "start_time": "2023-04-21T16:05:19.873Z"
   },
   {
    "duration": 6,
    "start_time": "2023-04-21T16:05:35.804Z"
   },
   {
    "duration": 28194,
    "start_time": "2023-04-21T16:07:17.123Z"
   },
   {
    "duration": 220,
    "start_time": "2023-04-21T16:08:01.432Z"
   },
   {
    "duration": 8,
    "start_time": "2023-04-21T16:08:03.930Z"
   },
   {
    "duration": 83517,
    "start_time": "2023-04-21T16:08:30.808Z"
   },
   {
    "duration": 7,
    "start_time": "2023-04-21T16:09:54.327Z"
   },
   {
    "duration": 15534,
    "start_time": "2023-04-21T16:10:12.884Z"
   },
   {
    "duration": 9,
    "start_time": "2023-04-21T16:10:31.632Z"
   },
   {
    "duration": 71,
    "start_time": "2023-04-21T16:10:35.529Z"
   },
   {
    "duration": 27001,
    "start_time": "2023-04-21T16:11:44.945Z"
   },
   {
    "duration": 207,
    "start_time": "2023-04-21T16:12:32.882Z"
   },
   {
    "duration": 6,
    "start_time": "2023-04-21T16:12:45.609Z"
   },
   {
    "duration": 25,
    "start_time": "2023-04-21T16:13:11.887Z"
   },
   {
    "duration": 11,
    "start_time": "2023-04-21T16:19:16.085Z"
   },
   {
    "duration": 11,
    "start_time": "2023-04-21T16:19:51.469Z"
   },
   {
    "duration": 14,
    "start_time": "2023-04-21T16:20:19.196Z"
   },
   {
    "duration": 13,
    "start_time": "2023-04-21T16:20:54.485Z"
   },
   {
    "duration": 14,
    "start_time": "2023-04-21T16:21:51.118Z"
   },
   {
    "duration": 10,
    "start_time": "2023-04-21T16:22:25.404Z"
   },
   {
    "duration": 2158,
    "start_time": "2023-04-21T16:22:46.269Z"
   },
   {
    "duration": 2443,
    "start_time": "2023-04-21T16:23:08.989Z"
   },
   {
    "duration": 2249,
    "start_time": "2023-04-21T16:23:17.574Z"
   },
   {
    "duration": 2218,
    "start_time": "2023-04-21T16:28:00.207Z"
   },
   {
    "duration": 2347,
    "start_time": "2023-04-21T16:28:50.772Z"
   },
   {
    "duration": 16,
    "start_time": "2023-04-21T16:31:08.785Z"
   },
   {
    "duration": 2213,
    "start_time": "2023-04-21T16:31:42.613Z"
   },
   {
    "duration": 21,
    "start_time": "2023-04-21T16:38:30.982Z"
   },
   {
    "duration": 25588,
    "start_time": "2023-04-21T16:43:06.675Z"
   },
   {
    "duration": 70,
    "start_time": "2023-04-21T16:43:39.516Z"
   },
   {
    "duration": 5,
    "start_time": "2023-04-21T16:44:17.044Z"
   },
   {
    "duration": 3,
    "start_time": "2023-04-21T16:44:20.323Z"
   },
   {
    "duration": 74,
    "start_time": "2023-04-21T16:48:35.070Z"
   },
   {
    "duration": 5,
    "start_time": "2023-04-21T16:48:37.365Z"
   },
   {
    "duration": 216,
    "start_time": "2023-04-21T16:49:11.429Z"
   },
   {
    "duration": 13,
    "start_time": "2023-04-21T16:49:13.022Z"
   },
   {
    "duration": 19,
    "start_time": "2023-04-21T16:49:35.933Z"
   },
   {
    "duration": 6,
    "start_time": "2023-04-21T16:49:42.861Z"
   },
   {
    "duration": 218,
    "start_time": "2023-04-21T16:49:50.853Z"
   },
   {
    "duration": 6,
    "start_time": "2023-04-21T16:49:51.589Z"
   },
   {
    "duration": 4,
    "start_time": "2023-04-21T16:49:53.182Z"
   },
   {
    "duration": 14,
    "start_time": "2023-04-21T16:57:43.224Z"
   },
   {
    "duration": 9046,
    "start_time": "2023-04-21T16:57:47.727Z"
   },
   {
    "duration": 223,
    "start_time": "2023-04-21T16:58:06.801Z"
   },
   {
    "duration": 6,
    "start_time": "2023-04-21T16:58:09.904Z"
   },
   {
    "duration": 25,
    "start_time": "2023-04-21T16:58:12.471Z"
   },
   {
    "duration": 24765,
    "start_time": "2023-04-21T16:59:25.801Z"
   },
   {
    "duration": 77,
    "start_time": "2023-04-21T17:03:46.233Z"
   },
   {
    "duration": 12,
    "start_time": "2023-04-21T17:03:49.305Z"
   },
   {
    "duration": 17,
    "start_time": "2023-04-21T17:04:06.565Z"
   },
   {
    "duration": 5,
    "start_time": "2023-04-21T17:04:13.370Z"
   },
   {
    "duration": 3,
    "start_time": "2023-04-21T17:04:16.770Z"
   },
   {
    "duration": 19,
    "start_time": "2023-04-21T17:04:18.031Z"
   },
   {
    "duration": 22,
    "start_time": "2023-04-21T17:04:41.965Z"
   },
   {
    "duration": 3,
    "start_time": "2023-04-21T17:06:51.786Z"
   }
  ],
  "kernelspec": {
   "display_name": "Python 3 (ipykernel)",
   "language": "python",
   "name": "python3"
  },
  "language_info": {
   "codemirror_mode": {
    "name": "ipython",
    "version": 3
   },
   "file_extension": ".py",
   "mimetype": "text/x-python",
   "name": "python",
   "nbconvert_exporter": "python",
   "pygments_lexer": "ipython3",
   "version": "3.9.5"
  },
  "toc": {
   "base_numbering": 1,
   "nav_menu": {},
   "number_sections": true,
   "sideBar": true,
   "skip_h1_title": true,
   "title_cell": "Table of Contents",
   "title_sidebar": "Contents",
   "toc_cell": false,
   "toc_position": {},
   "toc_section_display": true,
   "toc_window_display": false
  }
 },
 "nbformat": 4,
 "nbformat_minor": 2
}
