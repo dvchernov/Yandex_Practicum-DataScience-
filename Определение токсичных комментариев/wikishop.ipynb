{
 "cells": [
  {
   "cell_type": "markdown",
   "metadata": {
    "toc": true
   },
   "source": [
    "<h1>Содержание<span class=\"tocSkip\"></span></h1>\n",
    "<div class=\"toc\"><ul class=\"toc-item\"><li><ul class=\"toc-item\"><li><span><a href=\"#Общее-впечатление\" data-toc-modified-id=\"Общее-впечатление-0.1\"><span class=\"toc-item-num\">0.1&nbsp;&nbsp;</span><font color=\"orange\">Общее впечатление</font></a></span></li><li><span><a href=\"#Общее-впечатление-(ревью-2)\" data-toc-modified-id=\"Общее-впечатление-(ревью-2)-0.2\"><span class=\"toc-item-num\">0.2&nbsp;&nbsp;</span><font color=\"orange\">Общее впечатление (ревью 2)</font></a></span></li></ul></li><li><span><a href=\"#Подготовка\" data-toc-modified-id=\"Подготовка-1\"><span class=\"toc-item-num\">1&nbsp;&nbsp;</span>Подготовка</a></span></li><li><span><a href=\"#Обучение\" data-toc-modified-id=\"Обучение-2\"><span class=\"toc-item-num\">2&nbsp;&nbsp;</span>Обучение</a></span></li><li><span><a href=\"#Выводы\" data-toc-modified-id=\"Выводы-3\"><span class=\"toc-item-num\">3&nbsp;&nbsp;</span>Выводы</a></span></li><li><span><a href=\"#Чек-лист-проверки\" data-toc-modified-id=\"Чек-лист-проверки-4\"><span class=\"toc-item-num\">4&nbsp;&nbsp;</span>Чек-лист проверки</a></span></li></ul></div>"
   ]
  },
  {
   "cell_type": "markdown",
   "metadata": {},
   "source": [
    "# Проект для «Викишоп»"
   ]
  },
  {
   "cell_type": "markdown",
   "metadata": {},
   "source": [
    "Интернет-магазин «Викишоп» запускает новый сервис. Теперь пользователи могут редактировать и дополнять описания товаров, как в вики-сообществах. То есть клиенты предлагают свои правки и комментируют изменения других. Магазину нужен инструмент, который будет искать токсичные комментарии и отправлять их на модерацию. \n",
    "\n",
    "Обучите модель классифицировать комментарии на позитивные и негативные. В вашем распоряжении набор данных с разметкой о токсичности правок.\n",
    "\n",
    "Постройте модель со значением метрики качества *F1* не меньше 0.75. \n",
    "\n",
    "**Инструкция по выполнению проекта**\n",
    "\n",
    "1. Загрузите и подготовьте данные.\n",
    "2. Обучите разные модели. \n",
    "3. Сделайте выводы.\n",
    "\n",
    "Для выполнения проекта применять *BERT* необязательно, но вы можете попробовать.\n",
    "\n",
    "**Описание данных**\n",
    "\n",
    "Данные находятся в файле `toxic_comments.csv`. Столбец *text* в нём содержит текст комментария, а *toxic* — целевой признак."
   ]
  },
  {
   "cell_type": "markdown",
   "metadata": {},
   "source": [
    "## Подготовка"
   ]
  },
  {
   "cell_type": "markdown",
   "metadata": {},
   "source": [
    "**Библиотеки**"
   ]
  },
  {
   "cell_type": "code",
   "execution_count": 1,
   "metadata": {},
   "outputs": [],
   "source": [
    "import pandas as pd\n",
    "import numpy as np\n",
    "import re\n",
    "\n",
    "import nltk\n",
    "from nltk.corpus import stopwords as nltk_stopwords\n",
    "from nltk.stem import WordNetLemmatizer\n",
    "from nltk.corpus import wordnet\n",
    "\n",
    "from sklearn.model_selection import TimeSeriesSplit\n",
    "\n",
    "from sklearn.feature_extraction.text import TfidfVectorizer\n",
    "from sklearn.model_selection import train_test_split, cross_val_score, GridSearchCV\n",
    "from sklearn.linear_model import LogisticRegression, SGDClassifier\n",
    "from sklearn.tree import DecisionTreeClassifier\n",
    "from catboost import CatBoostClassifier\n",
    "\n",
    "from sklearn.metrics import f1_score\n",
    "import warnings\n",
    "warnings.filterwarnings('ignore')"
   ]
  },
  {
   "cell_type": "markdown",
   "metadata": {},
   "source": [
    "**Загружаем датасет**"
   ]
  },
  {
   "cell_type": "code",
   "execution_count": 2,
   "metadata": {},
   "outputs": [],
   "source": [
    "data = pd.read_csv('/datasets/toxic_comments.csv')"
   ]
  },
  {
   "cell_type": "markdown",
   "metadata": {},
   "source": [
    "**Посмотрим данные**"
   ]
  },
  {
   "cell_type": "code",
   "execution_count": 3,
   "metadata": {},
   "outputs": [
    {
     "data": {
      "text/html": [
       "<div>\n",
       "<style scoped>\n",
       "    .dataframe tbody tr th:only-of-type {\n",
       "        vertical-align: middle;\n",
       "    }\n",
       "\n",
       "    .dataframe tbody tr th {\n",
       "        vertical-align: top;\n",
       "    }\n",
       "\n",
       "    .dataframe thead th {\n",
       "        text-align: right;\n",
       "    }\n",
       "</style>\n",
       "<table border=\"1\" class=\"dataframe\">\n",
       "  <thead>\n",
       "    <tr style=\"text-align: right;\">\n",
       "      <th></th>\n",
       "      <th>Unnamed: 0</th>\n",
       "      <th>text</th>\n",
       "      <th>toxic</th>\n",
       "    </tr>\n",
       "  </thead>\n",
       "  <tbody>\n",
       "    <tr>\n",
       "      <th>0</th>\n",
       "      <td>0</td>\n",
       "      <td>Explanation\\nWhy the edits made under my usern...</td>\n",
       "      <td>0</td>\n",
       "    </tr>\n",
       "    <tr>\n",
       "      <th>1</th>\n",
       "      <td>1</td>\n",
       "      <td>D'aww! He matches this background colour I'm s...</td>\n",
       "      <td>0</td>\n",
       "    </tr>\n",
       "    <tr>\n",
       "      <th>2</th>\n",
       "      <td>2</td>\n",
       "      <td>Hey man, I'm really not trying to edit war. It...</td>\n",
       "      <td>0</td>\n",
       "    </tr>\n",
       "    <tr>\n",
       "      <th>3</th>\n",
       "      <td>3</td>\n",
       "      <td>\"\\nMore\\nI can't make any real suggestions on ...</td>\n",
       "      <td>0</td>\n",
       "    </tr>\n",
       "    <tr>\n",
       "      <th>4</th>\n",
       "      <td>4</td>\n",
       "      <td>You, sir, are my hero. Any chance you remember...</td>\n",
       "      <td>0</td>\n",
       "    </tr>\n",
       "    <tr>\n",
       "      <th>5</th>\n",
       "      <td>5</td>\n",
       "      <td>\"\\n\\nCongratulations from me as well, use the ...</td>\n",
       "      <td>0</td>\n",
       "    </tr>\n",
       "    <tr>\n",
       "      <th>6</th>\n",
       "      <td>6</td>\n",
       "      <td>COCKSUCKER BEFORE YOU PISS AROUND ON MY WORK</td>\n",
       "      <td>1</td>\n",
       "    </tr>\n",
       "    <tr>\n",
       "      <th>7</th>\n",
       "      <td>7</td>\n",
       "      <td>Your vandalism to the Matt Shirvington article...</td>\n",
       "      <td>0</td>\n",
       "    </tr>\n",
       "    <tr>\n",
       "      <th>8</th>\n",
       "      <td>8</td>\n",
       "      <td>Sorry if the word 'nonsense' was offensive to ...</td>\n",
       "      <td>0</td>\n",
       "    </tr>\n",
       "    <tr>\n",
       "      <th>9</th>\n",
       "      <td>9</td>\n",
       "      <td>alignment on this subject and which are contra...</td>\n",
       "      <td>0</td>\n",
       "    </tr>\n",
       "  </tbody>\n",
       "</table>\n",
       "</div>"
      ],
      "text/plain": [
       "   Unnamed: 0                                               text  toxic\n",
       "0           0  Explanation\\nWhy the edits made under my usern...      0\n",
       "1           1  D'aww! He matches this background colour I'm s...      0\n",
       "2           2  Hey man, I'm really not trying to edit war. It...      0\n",
       "3           3  \"\\nMore\\nI can't make any real suggestions on ...      0\n",
       "4           4  You, sir, are my hero. Any chance you remember...      0\n",
       "5           5  \"\\n\\nCongratulations from me as well, use the ...      0\n",
       "6           6       COCKSUCKER BEFORE YOU PISS AROUND ON MY WORK      1\n",
       "7           7  Your vandalism to the Matt Shirvington article...      0\n",
       "8           8  Sorry if the word 'nonsense' was offensive to ...      0\n",
       "9           9  alignment on this subject and which are contra...      0"
      ]
     },
     "execution_count": 3,
     "metadata": {},
     "output_type": "execute_result"
    }
   ],
   "source": [
    "data.head(10)"
   ]
  },
  {
   "cell_type": "code",
   "execution_count": 4,
   "metadata": {},
   "outputs": [
    {
     "name": "stdout",
     "output_type": "stream",
     "text": [
      "<class 'pandas.core.frame.DataFrame'>\n",
      "RangeIndex: 159292 entries, 0 to 159291\n",
      "Data columns (total 3 columns):\n",
      " #   Column      Non-Null Count   Dtype \n",
      "---  ------      --------------   ----- \n",
      " 0   Unnamed: 0  159292 non-null  int64 \n",
      " 1   text        159292 non-null  object\n",
      " 2   toxic       159292 non-null  int64 \n",
      "dtypes: int64(2), object(1)\n",
      "memory usage: 3.6+ MB\n"
     ]
    }
   ],
   "source": [
    "data.info()"
   ]
  },
  {
   "cell_type": "markdown",
   "metadata": {},
   "source": [
    "Пропусков нет"
   ]
  },
  {
   "cell_type": "code",
   "execution_count": 5,
   "metadata": {},
   "outputs": [
    {
     "data": {
      "text/plain": [
       "0    143106\n",
       "1     16186\n",
       "Name: toxic, dtype: int64"
      ]
     },
     "metadata": {},
     "output_type": "display_data"
    }
   ],
   "source": [
    "display(data['toxic'].value_counts())"
   ]
  },
  {
   "cell_type": "code",
   "execution_count": 6,
   "metadata": {},
   "outputs": [
    {
     "data": {
      "text/plain": [
       "8.841344371679229"
      ]
     },
     "execution_count": 6,
     "metadata": {},
     "output_type": "execute_result"
    }
   ],
   "source": [
    "class_ratio = data['toxic'].value_counts()[0] / data['toxic'].value_counts()[1]\n",
    "class_ratio"
   ]
  },
  {
   "cell_type": "markdown",
   "metadata": {},
   "source": [
    "Классы в датасете несбалансированы. Необходимо это учитывать при дальнейшей обучении моделей."
   ]
  },
  {
   "cell_type": "markdown",
   "metadata": {},
   "source": [
    "**Лемматизация**"
   ]
  },
  {
   "cell_type": "markdown",
   "metadata": {},
   "source": [
    "*Сначала хотел через BERT, а потом через Mystem, но ядро умирает, рабочий ПК не вывозит*"
   ]
  },
  {
   "cell_type": "markdown",
   "metadata": {},
   "source": [
    "создадим корпус"
   ]
  },
  {
   "cell_type": "code",
   "execution_count": 7,
   "metadata": {},
   "outputs": [],
   "source": [
    "corpus = list(data['text'])"
   ]
  },
  {
   "cell_type": "code",
   "execution_count": 8,
   "metadata": {},
   "outputs": [
    {
     "name": "stderr",
     "output_type": "stream",
     "text": [
      "[nltk_data] Downloading package averaged_perceptron_tagger to\n",
      "[nltk_data]     /home/jovyan/nltk_data...\n",
      "[nltk_data]   Package averaged_perceptron_tagger is already up-to-\n",
      "[nltk_data]       date!\n"
     ]
    },
    {
     "data": {
      "text/plain": [
       "True"
      ]
     },
     "execution_count": 8,
     "metadata": {},
     "output_type": "execute_result"
    }
   ],
   "source": [
    "nltk.download('averaged_perceptron_tagger')"
   ]
  },
  {
   "cell_type": "code",
   "execution_count": 9,
   "metadata": {},
   "outputs": [],
   "source": [
    "def clear_text(text):\n",
    "    re_list = re.sub(r\"[^a-zA-Z']\", ' ', text)\n",
    "    re_list = re_list.split()\n",
    "    re_list = \" \".join(re_list)\n",
    "    return re_list\n",
    "\n",
    "def get_wordnet_pos(word):\n",
    "    \"\"\"Map POS tag to first character lemmatize() accepts\"\"\"\n",
    "    tag = nltk.pos_tag([word])[0][1][0].upper()\n",
    "    tag_dict = {\"J\": wordnet.ADJ,\n",
    "                \"N\": wordnet.NOUN,\n",
    "                \"V\": wordnet.VERB,\n",
    "                \"R\": wordnet.ADV}\n",
    "    return tag_dict.get(tag, wordnet.NOUN)\n",
    "\n",
    "m = WordNetLemmatizer()\n",
    "\n",
    "def lemmatize_text(text):\n",
    "    word_list = nltk.word_tokenize(text)\n",
    "    \n",
    "    return ' '.join([m.lemmatize(w, get_wordnet_pos(w)) for w in word_list])"
   ]
  },
  {
   "cell_type": "code",
   "execution_count": 10,
   "metadata": {},
   "outputs": [
    {
     "name": "stdout",
     "output_type": "stream",
     "text": [
      "Проверим\n",
      "\n",
      "Исходный текст:\n",
      "Explanation\n",
      "Why the edits made under my username Hardcore Metallica Fan were reverted? They weren't vandalisms, just closure on some GAs after I voted at New York Dolls FAC. And please don't remove the template from the talk page since I'm retired now.89.205.38.27\n",
      "\n",
      "Очищенный и лемматизированный текст:\n",
      "Explanation Why the edits make under my username Hardcore Metallica Fan be revert They be n't vandalism just closure on some GAs after I vote at New York Dolls FAC And please do n't remove the template from the talk page since I 'm retire now\n"
     ]
    }
   ],
   "source": [
    "print(\"Проверим\")\n",
    "print()\n",
    "print(\"Исходный текст:\")\n",
    "print(corpus[0])\n",
    "print()\n",
    "print(\"Очищенный и лемматизированный текст:\")\n",
    "print(lemmatize_text(clear_text(corpus[0])))"
   ]
  },
  {
   "cell_type": "code",
   "execution_count": 11,
   "metadata": {},
   "outputs": [],
   "source": [
    "data['text'] = data['text'].apply(clear_text)"
   ]
  },
  {
   "cell_type": "code",
   "execution_count": 12,
   "metadata": {},
   "outputs": [],
   "source": [
    "data['lemm_text'] = data['text'].apply(lemmatize_text)"
   ]
  },
  {
   "cell_type": "code",
   "execution_count": 13,
   "metadata": {},
   "outputs": [
    {
     "data": {
      "text/html": [
       "<div>\n",
       "<style scoped>\n",
       "    .dataframe tbody tr th:only-of-type {\n",
       "        vertical-align: middle;\n",
       "    }\n",
       "\n",
       "    .dataframe tbody tr th {\n",
       "        vertical-align: top;\n",
       "    }\n",
       "\n",
       "    .dataframe thead th {\n",
       "        text-align: right;\n",
       "    }\n",
       "</style>\n",
       "<table border=\"1\" class=\"dataframe\">\n",
       "  <thead>\n",
       "    <tr style=\"text-align: right;\">\n",
       "      <th></th>\n",
       "      <th>Unnamed: 0</th>\n",
       "      <th>text</th>\n",
       "      <th>toxic</th>\n",
       "      <th>lemm_text</th>\n",
       "    </tr>\n",
       "  </thead>\n",
       "  <tbody>\n",
       "    <tr>\n",
       "      <th>0</th>\n",
       "      <td>0</td>\n",
       "      <td>Explanation Why the edits made under my userna...</td>\n",
       "      <td>0</td>\n",
       "      <td>Explanation Why the edits make under my userna...</td>\n",
       "    </tr>\n",
       "    <tr>\n",
       "      <th>1</th>\n",
       "      <td>1</td>\n",
       "      <td>D'aww He matches this background colour I'm se...</td>\n",
       "      <td>0</td>\n",
       "      <td>D'aww He match this background colour I 'm see...</td>\n",
       "    </tr>\n",
       "    <tr>\n",
       "      <th>2</th>\n",
       "      <td>2</td>\n",
       "      <td>Hey man I'm really not trying to edit war It's...</td>\n",
       "      <td>0</td>\n",
       "      <td>Hey man I 'm really not try to edit war It 's ...</td>\n",
       "    </tr>\n",
       "    <tr>\n",
       "      <th>3</th>\n",
       "      <td>3</td>\n",
       "      <td>More I can't make any real suggestions on impr...</td>\n",
       "      <td>0</td>\n",
       "      <td>More I ca n't make any real suggestion on impr...</td>\n",
       "    </tr>\n",
       "    <tr>\n",
       "      <th>4</th>\n",
       "      <td>4</td>\n",
       "      <td>You sir are my hero Any chance you remember wh...</td>\n",
       "      <td>0</td>\n",
       "      <td>You sir be my hero Any chance you remember wha...</td>\n",
       "    </tr>\n",
       "  </tbody>\n",
       "</table>\n",
       "</div>"
      ],
      "text/plain": [
       "   Unnamed: 0                                               text  toxic  \\\n",
       "0           0  Explanation Why the edits made under my userna...      0   \n",
       "1           1  D'aww He matches this background colour I'm se...      0   \n",
       "2           2  Hey man I'm really not trying to edit war It's...      0   \n",
       "3           3  More I can't make any real suggestions on impr...      0   \n",
       "4           4  You sir are my hero Any chance you remember wh...      0   \n",
       "\n",
       "                                           lemm_text  \n",
       "0  Explanation Why the edits make under my userna...  \n",
       "1  D'aww He match this background colour I 'm see...  \n",
       "2  Hey man I 'm really not try to edit war It 's ...  \n",
       "3  More I ca n't make any real suggestion on impr...  \n",
       "4  You sir be my hero Any chance you remember wha...  "
      ]
     },
     "execution_count": 13,
     "metadata": {},
     "output_type": "execute_result"
    }
   ],
   "source": [
    "data.head()"
   ]
  },
  {
   "cell_type": "markdown",
   "metadata": {},
   "source": [
    "**Разделим данные на выборки**"
   ]
  },
  {
   "cell_type": "code",
   "execution_count": 14,
   "metadata": {},
   "outputs": [],
   "source": [
    "features = corpus\n",
    "target = data['toxic'].values\n",
    "RANDOM_STATE = 12345\n",
    "features_train, features_test, target_train, target_test = train_test_split(features, target, test_size=0.2, random_state=RANDOM_STATE)"
   ]
  },
  {
   "cell_type": "markdown",
   "metadata": {},
   "source": [
    "Создадим счётчик, указав в нём стоп-слова:"
   ]
  },
  {
   "cell_type": "code",
   "execution_count": 15,
   "metadata": {},
   "outputs": [
    {
     "name": "stderr",
     "output_type": "stream",
     "text": [
      "[nltk_data] Downloading package stopwords to /home/jovyan/nltk_data...\n",
      "[nltk_data]   Package stopwords is already up-to-date!\n"
     ]
    }
   ],
   "source": [
    "nltk.download('stopwords')\n",
    "stopwords = set(nltk_stopwords.words('english'))\n",
    "\n",
    "count_tf_idf = TfidfVectorizer(stop_words=stopwords)\n",
    "\n",
    "features_train = count_tf_idf.fit_transform(features_train)"
   ]
  },
  {
   "cell_type": "code",
   "execution_count": 16,
   "metadata": {},
   "outputs": [],
   "source": [
    "features_test = count_tf_idf.transform(features_test)"
   ]
  },
  {
   "cell_type": "markdown",
   "metadata": {},
   "source": [
    "## Обучение"
   ]
  },
  {
   "cell_type": "markdown",
   "metadata": {},
   "source": [
    "Классы в датасете несбалансированы. Необходимо это учитывать при обучении моделей"
   ]
  },
  {
   "cell_type": "markdown",
   "metadata": {},
   "source": [
    "**Построем модели со значением метрики качества F1 не меньше 0.75**"
   ]
  },
  {
   "cell_type": "markdown",
   "metadata": {},
   "source": [
    "**Модель \"Логистическая регрессия\"**"
   ]
  },
  {
   "cell_type": "code",
   "execution_count": 17,
   "metadata": {},
   "outputs": [
    {
     "name": "stdout",
     "output_type": "stream",
     "text": [
      "Лучшие параметры модели:\n",
      "\n",
      "{'C': 10, 'class_weight': 'balanced'}\n",
      "\n",
      "F1 модели Логистическая регрессия: 0.7626180553601154\n",
      "\n",
      "CPU times: user 2min 4s, sys: 4min 45s, total: 6min 49s\n",
      "Wall time: 6min 50s\n"
     ]
    }
   ],
   "source": [
    "%%time\n",
    "lr_model = LogisticRegression()\n",
    "hyperparams = [{'C':[0.1, 1, 10],\n",
    "                'class_weight':['balanced']}]\n",
    "lr_clf = GridSearchCV(lr_model, hyperparams, scoring='f1',cv=3)\n",
    "lr_clf.fit(features_train, target_train)\n",
    "lr_score = lr_clf.best_score_\n",
    "print(\"Лучшие параметры модели:\")\n",
    "print()\n",
    "LR_best_params = lr_clf.best_params_\n",
    "print(LR_best_params)\n",
    "print()\n",
    "print('F1 модели Логистическая регрессия:', lr_score)\n",
    "print()"
   ]
  },
  {
   "cell_type": "markdown",
   "metadata": {},
   "source": [
    "**Модель \"Дерево решений\"**"
   ]
  },
  {
   "cell_type": "code",
   "execution_count": 18,
   "metadata": {},
   "outputs": [
    {
     "name": "stdout",
     "output_type": "stream",
     "text": [
      "Лучшие параметры модели:\n",
      "\n",
      "{'class_weight': 'balanced', 'max_depth': 19, 'random_state': 12345}\n",
      "\n",
      "F1 модели Дерево решений: 0.5912005464587206\n",
      "\n",
      "CPU times: user 11min 18s, sys: 2.85 s, total: 11min 21s\n",
      "Wall time: 11min 22s\n"
     ]
    }
   ],
   "source": [
    "%%time\n",
    "dtc_model = DecisionTreeClassifier()\n",
    "hyperparams = [{'max_depth':[x for x in range(1,20)],\n",
    "                'random_state':[RANDOM_STATE],\n",
    "                'class_weight':['balanced']}]\n",
    "dtc_clf = GridSearchCV(dtc_model, hyperparams, scoring='f1',cv=3)\n",
    "dtc_clf.fit(features_train, target_train)\n",
    "print(\"Лучшие параметры модели:\")\n",
    "print()\n",
    "dtc_best_params = dtc_clf.best_params_\n",
    "print(dtc_best_params)\n",
    "print()\n",
    "dtc_score = dtc_clf.best_score_\n",
    "print('F1 модели Дерево решений:', dtc_score)\n",
    "print()"
   ]
  },
  {
   "cell_type": "markdown",
   "metadata": {},
   "source": [
    "**Модель \"CatBoost\"**"
   ]
  },
  {
   "cell_type": "code",
   "execution_count": 19,
   "metadata": {},
   "outputs": [
    {
     "name": "stdout",
     "output_type": "stream",
     "text": [
      "F1 модели CatBoost 0.729487782219269\n"
     ]
    }
   ],
   "source": [
    "cat_model = CatBoostClassifier(verbose=False, iterations=250)\n",
    "cat_model.fit(features_train, target_train)\n",
    "cat_score = cross_val_score(cat_model,\n",
    "                                         features_train, \n",
    "                                         target_train, \n",
    "                                         cv=3, \n",
    "                                         scoring='f1').mean()\n",
    "print('F1 модели CatBoost', cat_score)"
   ]
  },
  {
   "cell_type": "code",
   "execution_count": 23,
   "metadata": {},
   "outputs": [
    {
     "data": {
      "text/html": [
       "<div>\n",
       "<style scoped>\n",
       "    .dataframe tbody tr th:only-of-type {\n",
       "        vertical-align: middle;\n",
       "    }\n",
       "\n",
       "    .dataframe tbody tr th {\n",
       "        vertical-align: top;\n",
       "    }\n",
       "\n",
       "    .dataframe thead th {\n",
       "        text-align: right;\n",
       "    }\n",
       "</style>\n",
       "<table border=\"1\" class=\"dataframe\">\n",
       "  <thead>\n",
       "    <tr style=\"text-align: right;\">\n",
       "      <th></th>\n",
       "      <th>Логистическая регрессия</th>\n",
       "      <th>Дерево решений</th>\n",
       "      <th>CatBoost</th>\n",
       "    </tr>\n",
       "  </thead>\n",
       "  <tbody>\n",
       "    <tr>\n",
       "      <th>Модели по метрике качества F1</th>\n",
       "      <td>0.762618</td>\n",
       "      <td>0.591201</td>\n",
       "      <td>0.729488</td>\n",
       "    </tr>\n",
       "  </tbody>\n",
       "</table>\n",
       "</div>"
      ],
      "text/plain": [
       "                               Логистическая регрессия  Дерево решений  \\\n",
       "Модели по метрике качества F1                 0.762618        0.591201   \n",
       "\n",
       "                               CatBoost  \n",
       "Модели по метрике качества F1  0.729488  "
      ]
     },
     "execution_count": 23,
     "metadata": {},
     "output_type": "execute_result"
    }
   ],
   "source": [
    "column=['Модели по метрике качества F1']\n",
    "\n",
    "comparison_tabl = pd.DataFrame(index=['Модели по метрике качества F1'], columns=['Логистическая регрессия','Дерево решений','CatBoost'])\n",
    "comparison_tabl['Логистическая регрессия'] = lr_score\n",
    "comparison_tabl['Дерево решений'] = dtc_score\n",
    "comparison_tabl['CatBoost'] = cat_score\n",
    "comparison_tabl"
   ]
  },
  {
   "cell_type": "markdown",
   "metadata": {},
   "source": [
    "**Лучший результат на тренировочной выборке показала модель \"Логистическая регрессия\"**"
   ]
  },
  {
   "cell_type": "markdown",
   "metadata": {},
   "source": [
    "**Теперь обучим лучшую модель на тестовой выборке**"
   ]
  },
  {
   "cell_type": "code",
   "execution_count": 21,
   "metadata": {},
   "outputs": [
    {
     "name": "stdout",
     "output_type": "stream",
     "text": [
      "F1 модели \"Логистическая регрессия\" на тестовой выборке: 0.7756048095031146\n",
      "\n",
      "CPU times: user 14.8 s, sys: 36.1 s, total: 50.9 s\n",
      "Wall time: 50.9 s\n"
     ]
    }
   ],
   "source": [
    "%%time\n",
    "lr_test_model = LogisticRegression()\n",
    "lr_test_model.set_params(**LR_best_params)\n",
    "lr_test_model.fit(features_train, target_train)\n",
    "prediction = lr_test_model.predict(features_test)\n",
    "f1 = f1_score(target_test, prediction)\n",
    "print('F1 модели \"Логистическая регрессия\" на тестовой выборке:', f1)\n",
    "print()"
   ]
  },
  {
   "cell_type": "markdown",
   "metadata": {},
   "source": [
    "**F1 модели соответствует условиям поставленной задачи**"
   ]
  },
  {
   "cell_type": "markdown",
   "metadata": {},
   "source": [
    "## Выводы"
   ]
  },
  {
   "cell_type": "markdown",
   "metadata": {},
   "source": [
    "- Проведена предподготовка данных\n",
    "- Тект был очищен и лематизирован\n",
    "- Обучены разные модели и лучшая из них обучена на тестовой выборке\n",
    "- F1 на тестовой виборке было больше 0,75\n",
    "- Для поставленной задичи лучше подходит модель LogisticRegression"
   ]
  },
  {
   "cell_type": "markdown",
   "metadata": {},
   "source": [
    "## Чек-лист проверки"
   ]
  },
  {
   "cell_type": "markdown",
   "metadata": {},
   "source": [
    "- [x]  Jupyter Notebook открыт\n",
    "- [x]  Весь код выполняется без ошибок\n",
    "- [x]  Ячейки с кодом расположены в порядке исполнения\n",
    "- [x]  Данные загружены и подготовлены\n",
    "- [x]  Модели обучены\n",
    "- [x]  Значение метрики *F1* не меньше 0.75\n",
    "- [x]  Выводы написаны"
   ]
  }
 ],
 "metadata": {
  "ExecuteTimeLog": [
   {
    "duration": 2260,
    "start_time": "2023-05-04T06:46:31.647Z"
   },
   {
    "duration": 2320,
    "start_time": "2023-05-04T06:46:42.539Z"
   },
   {
    "duration": 730,
    "start_time": "2023-05-04T06:52:44.158Z"
   },
   {
    "duration": 6,
    "start_time": "2023-05-04T06:52:46.732Z"
   },
   {
    "duration": 7,
    "start_time": "2023-05-04T06:52:52.980Z"
   },
   {
    "duration": 26,
    "start_time": "2023-05-04T06:53:19.444Z"
   },
   {
    "duration": 6,
    "start_time": "2023-05-04T06:54:40.385Z"
   },
   {
    "duration": 8,
    "start_time": "2023-05-04T06:54:43.469Z"
   },
   {
    "duration": 122,
    "start_time": "2023-05-04T06:59:38.526Z"
   },
   {
    "duration": 1685,
    "start_time": "2023-05-04T07:04:44.391Z"
   },
   {
    "duration": 876,
    "start_time": "2023-05-04T07:04:46.077Z"
   },
   {
    "duration": 9,
    "start_time": "2023-05-04T07:04:46.955Z"
   },
   {
    "duration": 29,
    "start_time": "2023-05-04T07:04:46.965Z"
   },
   {
    "duration": 8,
    "start_time": "2023-05-04T07:04:46.996Z"
   },
   {
    "duration": 16,
    "start_time": "2023-05-04T07:04:47.005Z"
   },
   {
    "duration": 1578,
    "start_time": "2023-05-04T07:04:47.022Z"
   },
   {
    "duration": 3,
    "start_time": "2023-05-04T07:05:27.908Z"
   },
   {
    "duration": 716,
    "start_time": "2023-05-04T07:05:38.075Z"
   },
   {
    "duration": 756,
    "start_time": "2023-05-04T07:06:35.875Z"
   },
   {
    "duration": 3248,
    "start_time": "2023-05-04T07:13:14.190Z"
   },
   {
    "duration": 2962,
    "start_time": "2023-05-04T07:13:59.744Z"
   },
   {
    "duration": 773,
    "start_time": "2023-05-04T07:14:02.708Z"
   },
   {
    "duration": 9,
    "start_time": "2023-05-04T07:14:03.483Z"
   },
   {
    "duration": 20,
    "start_time": "2023-05-04T07:14:03.494Z"
   },
   {
    "duration": 4,
    "start_time": "2023-05-04T07:14:03.516Z"
   },
   {
    "duration": 7,
    "start_time": "2023-05-04T07:14:03.522Z"
   },
   {
    "duration": 2412,
    "start_time": "2023-05-04T07:14:10.384Z"
   },
   {
    "duration": 49,
    "start_time": "2023-05-04T07:20:13.185Z"
   },
   {
    "duration": 290,
    "start_time": "2023-05-04T07:21:15.161Z"
   },
   {
    "duration": 5,
    "start_time": "2023-05-04T07:25:51.819Z"
   },
   {
    "duration": 6620,
    "start_time": "2023-05-04T07:26:01.834Z"
   },
   {
    "duration": 2222,
    "start_time": "2023-05-04T07:26:08.456Z"
   },
   {
    "duration": 9,
    "start_time": "2023-05-04T07:26:10.680Z"
   },
   {
    "duration": 25,
    "start_time": "2023-05-04T07:26:10.691Z"
   },
   {
    "duration": 6,
    "start_time": "2023-05-04T07:26:10.718Z"
   },
   {
    "duration": 7,
    "start_time": "2023-05-04T07:26:10.725Z"
   },
   {
    "duration": 40,
    "start_time": "2023-05-04T07:26:10.733Z"
   },
   {
    "duration": 4,
    "start_time": "2023-05-04T07:26:10.775Z"
   },
   {
    "duration": 667,
    "start_time": "2023-05-04T07:26:10.780Z"
   },
   {
    "duration": 3592,
    "start_time": "2023-05-04T07:30:56.932Z"
   },
   {
    "duration": 2344,
    "start_time": "2023-05-04T08:00:47.983Z"
   },
   {
    "duration": 731,
    "start_time": "2023-05-04T08:00:50.328Z"
   },
   {
    "duration": 15,
    "start_time": "2023-05-04T08:00:51.060Z"
   },
   {
    "duration": 24,
    "start_time": "2023-05-04T08:00:51.078Z"
   },
   {
    "duration": 7,
    "start_time": "2023-05-04T08:00:51.103Z"
   },
   {
    "duration": 17,
    "start_time": "2023-05-04T08:00:51.111Z"
   },
   {
    "duration": 45,
    "start_time": "2023-05-04T08:00:51.129Z"
   },
   {
    "duration": 29,
    "start_time": "2023-05-04T08:00:51.175Z"
   },
   {
    "duration": 3429,
    "start_time": "2023-05-04T08:01:45.468Z"
   },
   {
    "duration": 73061,
    "start_time": "2023-05-04T08:01:50.633Z"
   },
   {
    "duration": 12,
    "start_time": "2023-05-04T08:07:50.626Z"
   },
   {
    "duration": 160,
    "start_time": "2023-05-04T08:09:01.862Z"
   },
   {
    "duration": 5,
    "start_time": "2023-05-04T08:09:15.429Z"
   },
   {
    "duration": 144,
    "start_time": "2023-05-04T08:10:26.295Z"
   },
   {
    "duration": 78,
    "start_time": "2023-05-04T08:10:33.718Z"
   },
   {
    "duration": 5,
    "start_time": "2023-05-04T08:11:07.992Z"
   },
   {
    "duration": 4,
    "start_time": "2023-05-04T08:11:18.856Z"
   },
   {
    "duration": 8,
    "start_time": "2023-05-04T08:12:22.314Z"
   },
   {
    "duration": 11,
    "start_time": "2023-05-04T08:12:52.127Z"
   },
   {
    "duration": 7,
    "start_time": "2023-05-04T08:13:17.560Z"
   },
   {
    "duration": 11,
    "start_time": "2023-05-04T08:16:52.619Z"
   },
   {
    "duration": 52,
    "start_time": "2023-05-04T08:16:59.151Z"
   },
   {
    "duration": 11,
    "start_time": "2023-05-04T08:20:34.276Z"
   },
   {
    "duration": 13,
    "start_time": "2023-05-04T08:22:02.383Z"
   },
   {
    "duration": 3114,
    "start_time": "2023-05-04T08:22:11.793Z"
   },
   {
    "duration": 761,
    "start_time": "2023-05-04T08:22:14.909Z"
   },
   {
    "duration": 11,
    "start_time": "2023-05-04T08:22:15.671Z"
   },
   {
    "duration": 30,
    "start_time": "2023-05-04T08:22:15.684Z"
   },
   {
    "duration": 6,
    "start_time": "2023-05-04T08:22:15.716Z"
   },
   {
    "duration": 7,
    "start_time": "2023-05-04T08:22:15.724Z"
   },
   {
    "duration": 46,
    "start_time": "2023-05-04T08:22:15.732Z"
   },
   {
    "duration": 9,
    "start_time": "2023-05-04T08:22:15.780Z"
   },
   {
    "duration": 1174,
    "start_time": "2023-05-04T08:22:15.790Z"
   },
   {
    "duration": 3378,
    "start_time": "2023-05-04T08:22:16.967Z"
   },
   {
    "duration": 71574,
    "start_time": "2023-05-04T08:22:20.347Z"
   },
   {
    "duration": 7,
    "start_time": "2023-05-04T08:23:31.922Z"
   },
   {
    "duration": 102,
    "start_time": "2023-05-04T08:23:31.930Z"
   },
   {
    "duration": 192,
    "start_time": "2023-05-04T08:23:32.033Z"
   },
   {
    "duration": 4,
    "start_time": "2023-05-04T08:25:12.113Z"
   },
   {
    "duration": 4,
    "start_time": "2023-05-04T08:25:21.402Z"
   },
   {
    "duration": 11,
    "start_time": "2023-05-04T08:25:25.873Z"
   },
   {
    "duration": 6902,
    "start_time": "2023-05-04T08:26:31.658Z"
   },
   {
    "duration": 5411,
    "start_time": "2023-05-04T08:26:54.162Z"
   },
   {
    "duration": 28,
    "start_time": "2023-05-04T08:28:06.635Z"
   },
   {
    "duration": 16,
    "start_time": "2023-05-04T08:28:25.172Z"
   },
   {
    "duration": 18,
    "start_time": "2023-05-04T08:28:27.667Z"
   },
   {
    "duration": 1767,
    "start_time": "2023-05-04T08:28:41.210Z"
   },
   {
    "duration": 874,
    "start_time": "2023-05-04T08:28:42.982Z"
   },
   {
    "duration": 14,
    "start_time": "2023-05-04T08:28:43.858Z"
   },
   {
    "duration": 34,
    "start_time": "2023-05-04T08:28:43.875Z"
   },
   {
    "duration": 6,
    "start_time": "2023-05-04T08:28:43.911Z"
   },
   {
    "duration": 16,
    "start_time": "2023-05-04T08:28:43.918Z"
   },
   {
    "duration": 43,
    "start_time": "2023-05-04T08:28:43.935Z"
   },
   {
    "duration": 13,
    "start_time": "2023-05-04T08:28:43.980Z"
   },
   {
    "duration": 1229,
    "start_time": "2023-05-04T08:28:43.994Z"
   },
   {
    "duration": 3689,
    "start_time": "2023-05-04T08:28:45.225Z"
   },
   {
    "duration": 75927,
    "start_time": "2023-05-04T08:28:48.915Z"
   },
   {
    "duration": 7,
    "start_time": "2023-05-04T08:30:04.844Z"
   },
   {
    "duration": 72,
    "start_time": "2023-05-04T08:30:04.852Z"
   },
   {
    "duration": 5659,
    "start_time": "2023-05-04T08:30:04.926Z"
   },
   {
    "duration": 1282,
    "start_time": "2023-05-04T08:30:10.587Z"
   },
   {
    "duration": 183,
    "start_time": "2023-05-04T08:42:03.642Z"
   },
   {
    "duration": 129,
    "start_time": "2023-05-04T08:44:32.840Z"
   },
   {
    "duration": 4,
    "start_time": "2023-05-04T08:45:30.180Z"
   },
   {
    "duration": 179,
    "start_time": "2023-05-04T08:45:34.604Z"
   },
   {
    "duration": 95,
    "start_time": "2023-05-04T08:45:47.188Z"
   },
   {
    "duration": 163859,
    "start_time": "2023-05-04T08:48:41.414Z"
   },
   {
    "duration": 34,
    "start_time": "2023-05-04T08:57:04.352Z"
   },
   {
    "duration": 11,
    "start_time": "2023-05-04T08:58:09.377Z"
   },
   {
    "duration": 10,
    "start_time": "2023-05-04T08:58:32.849Z"
   },
   {
    "duration": 322665,
    "start_time": "2023-05-04T09:00:13.210Z"
   },
   {
    "duration": 248395,
    "start_time": "2023-05-04T09:15:45.977Z"
   },
   {
    "duration": 313372,
    "start_time": "2023-05-04T09:28:20.108Z"
   },
   {
    "duration": 58,
    "start_time": "2023-05-04T09:39:19.143Z"
   },
   {
    "duration": 3169675,
    "start_time": "2023-05-04T09:39:48.400Z"
   },
   {
    "duration": 114,
    "start_time": "2023-05-04T11:04:05.607Z"
   },
   {
    "duration": 110,
    "start_time": "2023-05-04T11:04:35.001Z"
   },
   {
    "duration": 10,
    "start_time": "2023-05-04T11:04:44.597Z"
   },
   {
    "duration": 46,
    "start_time": "2023-05-04T11:07:24.722Z"
   },
   {
    "duration": 1864,
    "start_time": "2023-05-04T11:20:44.987Z"
   },
   {
    "duration": 93,
    "start_time": "2023-05-04T11:20:54.594Z"
   },
   {
    "duration": 1380,
    "start_time": "2023-05-04T11:21:04.289Z"
   },
   {
    "duration": 2284,
    "start_time": "2023-05-04T11:21:05.671Z"
   },
   {
    "duration": 11,
    "start_time": "2023-05-04T11:21:07.956Z"
   },
   {
    "duration": 29,
    "start_time": "2023-05-04T11:21:07.969Z"
   },
   {
    "duration": 7,
    "start_time": "2023-05-04T11:21:08.001Z"
   },
   {
    "duration": 17,
    "start_time": "2023-05-04T11:21:08.010Z"
   },
   {
    "duration": 28,
    "start_time": "2023-05-04T11:21:08.028Z"
   },
   {
    "duration": 10,
    "start_time": "2023-05-04T11:21:08.057Z"
   },
   {
    "duration": 1128,
    "start_time": "2023-05-04T11:21:08.068Z"
   },
   {
    "duration": 3368,
    "start_time": "2023-05-04T11:21:09.198Z"
   },
   {
    "duration": 73390,
    "start_time": "2023-05-04T11:21:12.568Z"
   },
   {
    "duration": 13,
    "start_time": "2023-05-04T11:22:25.959Z"
   },
   {
    "duration": 49,
    "start_time": "2023-05-04T11:22:25.974Z"
   },
   {
    "duration": 5547,
    "start_time": "2023-05-04T11:22:26.025Z"
   },
   {
    "duration": 1240,
    "start_time": "2023-05-04T11:22:31.574Z"
   },
   {
    "duration": 325065,
    "start_time": "2023-05-04T11:22:32.815Z"
   },
   {
    "duration": 560265,
    "start_time": "2023-05-04T11:27:57.882Z"
   },
   {
    "duration": 1251,
    "start_time": "2023-05-04T11:43:04.808Z"
   },
   {
    "duration": 854,
    "start_time": "2023-05-04T11:43:06.060Z"
   },
   {
    "duration": 16,
    "start_time": "2023-05-04T11:43:06.915Z"
   },
   {
    "duration": 40,
    "start_time": "2023-05-04T11:43:06.933Z"
   },
   {
    "duration": 5,
    "start_time": "2023-05-04T11:43:06.975Z"
   },
   {
    "duration": 13,
    "start_time": "2023-05-04T11:43:06.981Z"
   },
   {
    "duration": 31,
    "start_time": "2023-05-04T11:43:06.996Z"
   },
   {
    "duration": 5,
    "start_time": "2023-05-04T11:43:07.029Z"
   },
   {
    "duration": 1092,
    "start_time": "2023-05-04T11:43:07.036Z"
   },
   {
    "duration": 3417,
    "start_time": "2023-05-04T11:43:08.131Z"
   },
   {
    "duration": 73991,
    "start_time": "2023-05-04T11:43:11.550Z"
   },
   {
    "duration": 8,
    "start_time": "2023-05-04T11:44:25.542Z"
   },
   {
    "duration": 75,
    "start_time": "2023-05-04T11:44:25.552Z"
   },
   {
    "duration": 5826,
    "start_time": "2023-05-04T11:44:25.628Z"
   },
   {
    "duration": 1277,
    "start_time": "2023-05-04T11:44:31.455Z"
   },
   {
    "duration": 321551,
    "start_time": "2023-05-04T11:44:32.733Z"
   },
   {
    "duration": 595106,
    "start_time": "2023-05-04T11:49:54.286Z"
   },
   {
    "duration": 623426,
    "start_time": "2023-05-04T11:59:49.393Z"
   },
   {
    "duration": 0,
    "start_time": "2023-05-04T12:10:12.821Z"
   },
   {
    "duration": 0,
    "start_time": "2023-05-04T12:10:12.822Z"
   },
   {
    "duration": 0,
    "start_time": "2023-05-04T12:10:12.823Z"
   },
   {
    "duration": 0,
    "start_time": "2023-05-04T12:10:12.824Z"
   },
   {
    "duration": 0,
    "start_time": "2023-05-04T12:10:12.824Z"
   },
   {
    "duration": 1976777,
    "start_time": "2023-05-04T12:13:57.499Z"
   },
   {
    "duration": 225422,
    "start_time": "2023-05-04T13:08:30.754Z"
   },
   {
    "duration": 99,
    "start_time": "2023-05-04T13:13:57.447Z"
   },
   {
    "duration": 190,
    "start_time": "2023-05-04T13:14:06.441Z"
   },
   {
    "duration": 72,
    "start_time": "2023-05-04T13:14:20.808Z"
   },
   {
    "duration": 80,
    "start_time": "2023-05-04T13:16:58.039Z"
   },
   {
    "duration": 61,
    "start_time": "2023-05-04T13:17:17.544Z"
   },
   {
    "duration": 3,
    "start_time": "2023-05-04T13:17:28.765Z"
   },
   {
    "duration": 14,
    "start_time": "2023-05-04T13:17:53.393Z"
   },
   {
    "duration": 10,
    "start_time": "2023-05-04T13:18:18.300Z"
   },
   {
    "duration": 11,
    "start_time": "2023-05-04T13:18:22.192Z"
   },
   {
    "duration": 43868,
    "start_time": "2023-05-04T13:34:12.005Z"
   },
   {
    "duration": 51875,
    "start_time": "2023-05-04T13:41:32.718Z"
   },
   {
    "duration": 1314,
    "start_time": "2023-05-04T13:43:43.758Z"
   },
   {
    "duration": 860,
    "start_time": "2023-05-04T13:43:45.075Z"
   },
   {
    "duration": 14,
    "start_time": "2023-05-04T13:43:45.936Z"
   },
   {
    "duration": 48,
    "start_time": "2023-05-04T13:43:45.951Z"
   },
   {
    "duration": 5,
    "start_time": "2023-05-04T13:43:46.001Z"
   },
   {
    "duration": 9,
    "start_time": "2023-05-04T13:43:46.008Z"
   },
   {
    "duration": 34,
    "start_time": "2023-05-04T13:43:46.018Z"
   },
   {
    "duration": 9,
    "start_time": "2023-05-04T13:43:46.054Z"
   },
   {
    "duration": 1208,
    "start_time": "2023-05-04T13:43:46.065Z"
   },
   {
    "duration": 3439,
    "start_time": "2023-05-04T13:43:47.275Z"
   },
   {
    "duration": 74598,
    "start_time": "2023-05-04T13:43:50.716Z"
   },
   {
    "duration": 8,
    "start_time": "2023-05-04T13:45:05.315Z"
   },
   {
    "duration": 74,
    "start_time": "2023-05-04T13:45:05.324Z"
   },
   {
    "duration": 5655,
    "start_time": "2023-05-04T13:45:05.399Z"
   },
   {
    "duration": 1285,
    "start_time": "2023-05-04T13:45:11.056Z"
   },
   {
    "duration": 312032,
    "start_time": "2023-05-04T13:45:12.343Z"
   },
   {
    "duration": 625187,
    "start_time": "2023-05-04T13:50:24.377Z"
   },
   {
    "duration": 1995720,
    "start_time": "2023-05-04T14:00:49.566Z"
   },
   {
    "duration": 5,
    "start_time": "2023-05-04T14:34:05.287Z"
   },
   {
    "duration": 45479,
    "start_time": "2023-05-04T14:34:05.294Z"
   },
   {
    "duration": 1481,
    "start_time": "2023-05-05T06:36:36.471Z"
   },
   {
    "duration": 5,
    "start_time": "2023-05-05T06:38:09.656Z"
   },
   {
    "duration": 5,
    "start_time": "2023-05-05T06:39:11.943Z"
   },
   {
    "duration": 1431,
    "start_time": "2023-05-05T06:39:57.676Z"
   },
   {
    "duration": 3374,
    "start_time": "2023-05-05T06:39:59.109Z"
   },
   {
    "duration": 18,
    "start_time": "2023-05-05T06:40:02.488Z"
   },
   {
    "duration": 60,
    "start_time": "2023-05-05T06:40:02.508Z"
   },
   {
    "duration": 48,
    "start_time": "2023-05-05T06:40:02.570Z"
   },
   {
    "duration": 23,
    "start_time": "2023-05-05T06:40:02.621Z"
   },
   {
    "duration": 60,
    "start_time": "2023-05-05T06:40:02.645Z"
   },
   {
    "duration": 55,
    "start_time": "2023-05-05T06:40:02.707Z"
   },
   {
    "duration": 248,
    "start_time": "2023-05-05T06:40:02.764Z"
   },
   {
    "duration": 0,
    "start_time": "2023-05-05T06:40:03.014Z"
   },
   {
    "duration": 0,
    "start_time": "2023-05-05T06:40:03.016Z"
   },
   {
    "duration": 0,
    "start_time": "2023-05-05T06:40:03.017Z"
   },
   {
    "duration": 0,
    "start_time": "2023-05-05T06:40:03.019Z"
   },
   {
    "duration": 0,
    "start_time": "2023-05-05T06:40:03.021Z"
   },
   {
    "duration": 0,
    "start_time": "2023-05-05T06:40:03.022Z"
   },
   {
    "duration": 0,
    "start_time": "2023-05-05T06:40:03.024Z"
   },
   {
    "duration": 0,
    "start_time": "2023-05-05T06:40:03.026Z"
   },
   {
    "duration": 0,
    "start_time": "2023-05-05T06:40:03.027Z"
   },
   {
    "duration": 0,
    "start_time": "2023-05-05T06:40:03.029Z"
   },
   {
    "duration": 0,
    "start_time": "2023-05-05T06:40:03.030Z"
   },
   {
    "duration": 1469,
    "start_time": "2023-05-05T06:45:36.916Z"
   },
   {
    "duration": 806,
    "start_time": "2023-05-05T06:45:38.386Z"
   },
   {
    "duration": 14,
    "start_time": "2023-05-05T06:45:39.194Z"
   },
   {
    "duration": 38,
    "start_time": "2023-05-05T06:45:39.210Z"
   },
   {
    "duration": 6,
    "start_time": "2023-05-05T06:45:39.249Z"
   },
   {
    "duration": 40,
    "start_time": "2023-05-05T06:45:39.257Z"
   },
   {
    "duration": 30,
    "start_time": "2023-05-05T06:45:39.298Z"
   },
   {
    "duration": 8,
    "start_time": "2023-05-05T06:45:39.330Z"
   },
   {
    "duration": 131,
    "start_time": "2023-05-05T06:45:39.340Z"
   },
   {
    "duration": 0,
    "start_time": "2023-05-05T06:45:39.473Z"
   },
   {
    "duration": 0,
    "start_time": "2023-05-05T06:45:39.475Z"
   },
   {
    "duration": 0,
    "start_time": "2023-05-05T06:45:39.476Z"
   },
   {
    "duration": 0,
    "start_time": "2023-05-05T06:45:39.492Z"
   },
   {
    "duration": 0,
    "start_time": "2023-05-05T06:45:39.501Z"
   },
   {
    "duration": 0,
    "start_time": "2023-05-05T06:45:39.502Z"
   },
   {
    "duration": 0,
    "start_time": "2023-05-05T06:45:39.504Z"
   },
   {
    "duration": 0,
    "start_time": "2023-05-05T06:45:39.506Z"
   },
   {
    "duration": 0,
    "start_time": "2023-05-05T06:45:39.507Z"
   },
   {
    "duration": 0,
    "start_time": "2023-05-05T06:45:39.508Z"
   },
   {
    "duration": 0,
    "start_time": "2023-05-05T06:45:39.510Z"
   },
   {
    "duration": 29,
    "start_time": "2023-05-05T06:46:13.487Z"
   },
   {
    "duration": 1415,
    "start_time": "2023-05-05T06:46:49.438Z"
   },
   {
    "duration": 890,
    "start_time": "2023-05-05T06:46:50.857Z"
   },
   {
    "duration": 21,
    "start_time": "2023-05-05T06:46:51.749Z"
   },
   {
    "duration": 54,
    "start_time": "2023-05-05T06:46:51.773Z"
   },
   {
    "duration": 6,
    "start_time": "2023-05-05T06:46:51.829Z"
   },
   {
    "duration": 8,
    "start_time": "2023-05-05T06:46:51.837Z"
   },
   {
    "duration": 68,
    "start_time": "2023-05-05T06:46:51.847Z"
   },
   {
    "duration": 5,
    "start_time": "2023-05-05T06:46:51.917Z"
   },
   {
    "duration": 895,
    "start_time": "2023-05-05T06:46:51.924Z"
   },
   {
    "duration": 3894,
    "start_time": "2023-05-05T06:46:52.824Z"
   },
   {
    "duration": 126,
    "start_time": "2023-05-05T06:46:56.720Z"
   },
   {
    "duration": 0,
    "start_time": "2023-05-05T06:46:56.847Z"
   },
   {
    "duration": 0,
    "start_time": "2023-05-05T06:46:56.848Z"
   },
   {
    "duration": 0,
    "start_time": "2023-05-05T06:46:56.849Z"
   },
   {
    "duration": 0,
    "start_time": "2023-05-05T06:46:56.851Z"
   },
   {
    "duration": 0,
    "start_time": "2023-05-05T06:46:56.852Z"
   },
   {
    "duration": 0,
    "start_time": "2023-05-05T06:46:56.853Z"
   },
   {
    "duration": 0,
    "start_time": "2023-05-05T06:46:56.855Z"
   },
   {
    "duration": 0,
    "start_time": "2023-05-05T06:46:56.864Z"
   },
   {
    "duration": 0,
    "start_time": "2023-05-05T06:46:56.865Z"
   },
   {
    "duration": 1388,
    "start_time": "2023-05-05T06:49:18.686Z"
   },
   {
    "duration": 791,
    "start_time": "2023-05-05T06:49:20.077Z"
   },
   {
    "duration": 24,
    "start_time": "2023-05-05T06:49:20.870Z"
   },
   {
    "duration": 32,
    "start_time": "2023-05-05T06:49:20.896Z"
   },
   {
    "duration": 14,
    "start_time": "2023-05-05T06:49:20.930Z"
   },
   {
    "duration": 27,
    "start_time": "2023-05-05T06:49:20.945Z"
   },
   {
    "duration": 1870,
    "start_time": "2023-05-05T06:49:20.974Z"
   },
   {
    "duration": 14,
    "start_time": "2023-05-05T06:49:22.846Z"
   },
   {
    "duration": 125,
    "start_time": "2023-05-05T06:49:22.862Z"
   },
   {
    "duration": 0,
    "start_time": "2023-05-05T06:49:22.992Z"
   },
   {
    "duration": 0,
    "start_time": "2023-05-05T06:49:22.994Z"
   },
   {
    "duration": 0,
    "start_time": "2023-05-05T06:49:22.995Z"
   },
   {
    "duration": 0,
    "start_time": "2023-05-05T06:49:22.996Z"
   },
   {
    "duration": 0,
    "start_time": "2023-05-05T06:49:22.997Z"
   },
   {
    "duration": 0,
    "start_time": "2023-05-05T06:49:22.999Z"
   },
   {
    "duration": 0,
    "start_time": "2023-05-05T06:49:23.001Z"
   },
   {
    "duration": 0,
    "start_time": "2023-05-05T06:49:23.002Z"
   },
   {
    "duration": 0,
    "start_time": "2023-05-05T06:49:23.003Z"
   },
   {
    "duration": 0,
    "start_time": "2023-05-05T06:49:23.004Z"
   },
   {
    "duration": 0,
    "start_time": "2023-05-05T06:49:23.005Z"
   },
   {
    "duration": 849,
    "start_time": "2023-05-05T06:49:54.363Z"
   },
   {
    "duration": 19,
    "start_time": "2023-05-05T06:56:58.949Z"
   },
   {
    "duration": 793,
    "start_time": "2023-05-05T06:57:27.446Z"
   },
   {
    "duration": 1519,
    "start_time": "2023-05-05T06:58:25.945Z"
   },
   {
    "duration": 843,
    "start_time": "2023-05-05T06:58:27.468Z"
   },
   {
    "duration": 14,
    "start_time": "2023-05-05T06:58:28.312Z"
   },
   {
    "duration": 34,
    "start_time": "2023-05-05T06:58:28.328Z"
   },
   {
    "duration": 17,
    "start_time": "2023-05-05T06:58:28.364Z"
   },
   {
    "duration": 8,
    "start_time": "2023-05-05T06:58:28.392Z"
   },
   {
    "duration": 33,
    "start_time": "2023-05-05T06:58:28.402Z"
   },
   {
    "duration": 14,
    "start_time": "2023-05-05T06:58:28.437Z"
   },
   {
    "duration": 150,
    "start_time": "2023-05-05T06:58:28.457Z"
   },
   {
    "duration": 0,
    "start_time": "2023-05-05T06:58:28.616Z"
   },
   {
    "duration": 0,
    "start_time": "2023-05-05T06:58:28.617Z"
   },
   {
    "duration": 0,
    "start_time": "2023-05-05T06:58:28.618Z"
   },
   {
    "duration": 0,
    "start_time": "2023-05-05T06:58:28.619Z"
   },
   {
    "duration": 0,
    "start_time": "2023-05-05T06:58:28.620Z"
   },
   {
    "duration": 0,
    "start_time": "2023-05-05T06:58:28.622Z"
   },
   {
    "duration": 0,
    "start_time": "2023-05-05T06:58:28.622Z"
   },
   {
    "duration": 0,
    "start_time": "2023-05-05T06:58:28.624Z"
   },
   {
    "duration": 0,
    "start_time": "2023-05-05T06:58:28.625Z"
   },
   {
    "duration": 0,
    "start_time": "2023-05-05T06:58:28.626Z"
   },
   {
    "duration": 0,
    "start_time": "2023-05-05T06:58:28.627Z"
   },
   {
    "duration": 1438,
    "start_time": "2023-05-05T06:58:59.710Z"
   },
   {
    "duration": 1504,
    "start_time": "2023-05-05T06:59:58.596Z"
   },
   {
    "duration": 843,
    "start_time": "2023-05-05T07:00:00.102Z"
   },
   {
    "duration": 20,
    "start_time": "2023-05-05T07:00:00.950Z"
   },
   {
    "duration": 48,
    "start_time": "2023-05-05T07:00:00.972Z"
   },
   {
    "duration": 6,
    "start_time": "2023-05-05T07:00:01.022Z"
   },
   {
    "duration": 32,
    "start_time": "2023-05-05T07:00:01.030Z"
   },
   {
    "duration": 44,
    "start_time": "2023-05-05T07:00:01.064Z"
   },
   {
    "duration": 252,
    "start_time": "2023-05-05T07:00:01.110Z"
   },
   {
    "duration": 6,
    "start_time": "2023-05-05T07:00:01.365Z"
   },
   {
    "duration": 1530,
    "start_time": "2023-05-05T07:00:01.373Z"
   },
   {
    "duration": 3706,
    "start_time": "2023-05-05T07:00:02.905Z"
   },
   {
    "duration": 1210472,
    "start_time": "2023-05-05T07:00:06.613Z"
   },
   {
    "duration": 9,
    "start_time": "2023-05-05T07:20:17.091Z"
   },
   {
    "duration": 61,
    "start_time": "2023-05-05T07:20:17.102Z"
   },
   {
    "duration": 6301,
    "start_time": "2023-05-05T07:20:17.165Z"
   },
   {
    "duration": 1557,
    "start_time": "2023-05-05T07:20:23.467Z"
   },
   {
    "duration": 388967,
    "start_time": "2023-05-05T07:20:25.026Z"
   },
   {
    "duration": 648985,
    "start_time": "2023-05-05T07:26:53.996Z"
   },
   {
    "duration": 1356545,
    "start_time": "2023-05-05T07:37:42.982Z"
   },
   {
    "duration": 0,
    "start_time": "2023-05-05T08:00:19.529Z"
   },
   {
    "duration": 0,
    "start_time": "2023-05-05T08:00:19.530Z"
   },
   {
    "duration": 1428,
    "start_time": "2023-05-05T08:00:49.873Z"
   },
   {
    "duration": 869,
    "start_time": "2023-05-05T08:00:51.304Z"
   },
   {
    "duration": 19,
    "start_time": "2023-05-05T08:00:52.176Z"
   },
   {
    "duration": 36,
    "start_time": "2023-05-05T08:00:52.197Z"
   },
   {
    "duration": 7,
    "start_time": "2023-05-05T08:00:52.235Z"
   },
   {
    "duration": 6,
    "start_time": "2023-05-05T08:00:52.244Z"
   },
   {
    "duration": 59,
    "start_time": "2023-05-05T08:00:52.252Z"
   },
   {
    "duration": 237,
    "start_time": "2023-05-05T08:00:52.315Z"
   },
   {
    "duration": 5,
    "start_time": "2023-05-05T08:00:52.554Z"
   },
   {
    "duration": 1613,
    "start_time": "2023-05-05T08:00:52.561Z"
   },
   {
    "duration": 4331,
    "start_time": "2023-05-05T08:00:54.175Z"
   },
   {
    "duration": 1308357,
    "start_time": "2023-05-05T08:00:58.511Z"
   },
   {
    "duration": 9,
    "start_time": "2023-05-05T08:22:46.870Z"
   },
   {
    "duration": 67,
    "start_time": "2023-05-05T08:22:46.891Z"
   },
   {
    "duration": 7141,
    "start_time": "2023-05-05T08:22:46.960Z"
   },
   {
    "duration": 1774,
    "start_time": "2023-05-05T08:22:54.104Z"
   },
   {
    "duration": 410123,
    "start_time": "2023-05-05T08:22:55.880Z"
   },
   {
    "duration": 682911,
    "start_time": "2023-05-05T08:29:46.005Z"
   },
   {
    "duration": 2294356,
    "start_time": "2023-05-05T08:41:08.918Z"
   },
   {
    "duration": 6,
    "start_time": "2023-05-05T09:19:23.276Z"
   },
   {
    "duration": 50910,
    "start_time": "2023-05-05T09:19:23.297Z"
   },
   {
    "duration": 12,
    "start_time": "2023-05-05T09:24:24.251Z"
   },
   {
    "duration": 13,
    "start_time": "2023-05-05T09:25:05.081Z"
   }
  ],
  "kernelspec": {
   "display_name": "Python 3 (ipykernel)",
   "language": "python",
   "name": "python3"
  },
  "language_info": {
   "codemirror_mode": {
    "name": "ipython",
    "version": 3
   },
   "file_extension": ".py",
   "mimetype": "text/x-python",
   "name": "python",
   "nbconvert_exporter": "python",
   "pygments_lexer": "ipython3",
   "version": "3.9.5"
  },
  "toc": {
   "base_numbering": 1,
   "nav_menu": {},
   "number_sections": true,
   "sideBar": true,
   "skip_h1_title": true,
   "title_cell": "Содержание",
   "title_sidebar": "Contents",
   "toc_cell": true,
   "toc_position": {
    "height": "calc(100% - 180px)",
    "left": "10px",
    "top": "150px",
    "width": "302.391px"
   },
   "toc_section_display": true,
   "toc_window_display": false
  }
 },
 "nbformat": 4,
 "nbformat_minor": 2
}
