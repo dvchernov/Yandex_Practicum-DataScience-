{
 "cells": [
  {
   "cell_type": "markdown",
   "metadata": {},
   "source": [
    "# Рекомендация тарифов"
   ]
  },
  {
   "cell_type": "markdown",
   "metadata": {},
   "source": [
    "В вашем распоряжении данные о поведении клиентов, которые уже перешли на эти тарифы (из проекта курса «Статистический анализ данных»). Нужно построить модель для задачи классификации, которая выберет подходящий тариф. Предобработка данных не понадобится — вы её уже сделали.\n",
    "\n",
    "Постройте модель с максимально большим значением *accuracy*. Чтобы сдать проект успешно, нужно довести долю правильных ответов по крайней мере до 0.75. Проверьте *accuracy* на тестовой выборке самостоятельно."
   ]
  },
  {
   "cell_type": "markdown",
   "metadata": {},
   "source": [
    "## Откройте и изучите файл"
   ]
  },
  {
   "cell_type": "code",
   "execution_count": 1,
   "metadata": {},
   "outputs": [],
   "source": [
    "import pandas as pd\n",
    "from sklearn.tree import DecisionTreeClassifier\n",
    "from sklearn.ensemble import RandomForestClassifier\n",
    "from sklearn.linear_model import LogisticRegression \n",
    "from sklearn.model_selection import train_test_split\n",
    "from sklearn.metrics import accuracy_score"
   ]
  },
  {
   "cell_type": "markdown",
   "metadata": {},
   "source": [
    "**Открываем и изучаем первые строки**"
   ]
  },
  {
   "cell_type": "code",
   "execution_count": 2,
   "metadata": {},
   "outputs": [
    {
     "data": {
      "text/html": [
       "<div>\n",
       "<style scoped>\n",
       "    .dataframe tbody tr th:only-of-type {\n",
       "        vertical-align: middle;\n",
       "    }\n",
       "\n",
       "    .dataframe tbody tr th {\n",
       "        vertical-align: top;\n",
       "    }\n",
       "\n",
       "    .dataframe thead th {\n",
       "        text-align: right;\n",
       "    }\n",
       "</style>\n",
       "<table border=\"1\" class=\"dataframe\">\n",
       "  <thead>\n",
       "    <tr style=\"text-align: right;\">\n",
       "      <th></th>\n",
       "      <th>calls</th>\n",
       "      <th>minutes</th>\n",
       "      <th>messages</th>\n",
       "      <th>mb_used</th>\n",
       "      <th>is_ultra</th>\n",
       "    </tr>\n",
       "  </thead>\n",
       "  <tbody>\n",
       "    <tr>\n",
       "      <th>0</th>\n",
       "      <td>40.0</td>\n",
       "      <td>311.90</td>\n",
       "      <td>83.0</td>\n",
       "      <td>19915.42</td>\n",
       "      <td>0</td>\n",
       "    </tr>\n",
       "    <tr>\n",
       "      <th>1</th>\n",
       "      <td>85.0</td>\n",
       "      <td>516.75</td>\n",
       "      <td>56.0</td>\n",
       "      <td>22696.96</td>\n",
       "      <td>0</td>\n",
       "    </tr>\n",
       "    <tr>\n",
       "      <th>2</th>\n",
       "      <td>77.0</td>\n",
       "      <td>467.66</td>\n",
       "      <td>86.0</td>\n",
       "      <td>21060.45</td>\n",
       "      <td>0</td>\n",
       "    </tr>\n",
       "    <tr>\n",
       "      <th>3</th>\n",
       "      <td>106.0</td>\n",
       "      <td>745.53</td>\n",
       "      <td>81.0</td>\n",
       "      <td>8437.39</td>\n",
       "      <td>1</td>\n",
       "    </tr>\n",
       "    <tr>\n",
       "      <th>4</th>\n",
       "      <td>66.0</td>\n",
       "      <td>418.74</td>\n",
       "      <td>1.0</td>\n",
       "      <td>14502.75</td>\n",
       "      <td>0</td>\n",
       "    </tr>\n",
       "  </tbody>\n",
       "</table>\n",
       "</div>"
      ],
      "text/plain": [
       "   calls  minutes  messages   mb_used  is_ultra\n",
       "0   40.0   311.90      83.0  19915.42         0\n",
       "1   85.0   516.75      56.0  22696.96         0\n",
       "2   77.0   467.66      86.0  21060.45         0\n",
       "3  106.0   745.53      81.0   8437.39         1\n",
       "4   66.0   418.74       1.0  14502.75         0"
      ]
     },
     "execution_count": 2,
     "metadata": {},
     "output_type": "execute_result"
    }
   ],
   "source": [
    "df = pd.read_csv('/datasets/users_behavior.csv')\n",
    "df.head()"
   ]
  },
  {
   "cell_type": "markdown",
   "metadata": {},
   "source": [
    "**Выводим инфо**"
   ]
  },
  {
   "cell_type": "code",
   "execution_count": 3,
   "metadata": {},
   "outputs": [
    {
     "name": "stdout",
     "output_type": "stream",
     "text": [
      "<class 'pandas.core.frame.DataFrame'>\n",
      "RangeIndex: 3214 entries, 0 to 3213\n",
      "Data columns (total 5 columns):\n",
      " #   Column    Non-Null Count  Dtype  \n",
      "---  ------    --------------  -----  \n",
      " 0   calls     3214 non-null   float64\n",
      " 1   minutes   3214 non-null   float64\n",
      " 2   messages  3214 non-null   float64\n",
      " 3   mb_used   3214 non-null   float64\n",
      " 4   is_ultra  3214 non-null   int64  \n",
      "dtypes: float64(4), int64(1)\n",
      "memory usage: 125.7 KB\n"
     ]
    }
   ],
   "source": [
    "df.info()"
   ]
  },
  {
   "cell_type": "markdown",
   "metadata": {},
   "source": [
    "**Проверяем на дубликаты**"
   ]
  },
  {
   "cell_type": "code",
   "execution_count": 4,
   "metadata": {},
   "outputs": [
    {
     "data": {
      "text/plain": [
       "0"
      ]
     },
     "execution_count": 4,
     "metadata": {},
     "output_type": "execute_result"
    }
   ],
   "source": [
    "df.duplicated().sum()"
   ]
  },
  {
   "cell_type": "markdown",
   "metadata": {},
   "source": [
    "**Меняем типы данных и проверяем**"
   ]
  },
  {
   "cell_type": "code",
   "execution_count": 5,
   "metadata": {},
   "outputs": [],
   "source": [
    "df['calls']=df['calls'].astype(\"int\")\n",
    "df['messages']=df['messages'].astype(\"int\")"
   ]
  },
  {
   "cell_type": "code",
   "execution_count": 6,
   "metadata": {},
   "outputs": [
    {
     "name": "stdout",
     "output_type": "stream",
     "text": [
      "<class 'pandas.core.frame.DataFrame'>\n",
      "RangeIndex: 3214 entries, 0 to 3213\n",
      "Data columns (total 5 columns):\n",
      " #   Column    Non-Null Count  Dtype  \n",
      "---  ------    --------------  -----  \n",
      " 0   calls     3214 non-null   int64  \n",
      " 1   minutes   3214 non-null   float64\n",
      " 2   messages  3214 non-null   int64  \n",
      " 3   mb_used   3214 non-null   float64\n",
      " 4   is_ultra  3214 non-null   int64  \n",
      "dtypes: float64(2), int64(3)\n",
      "memory usage: 125.7 KB\n"
     ]
    }
   ],
   "source": [
    "df.info()"
   ]
  },
  {
   "cell_type": "markdown",
   "metadata": {},
   "source": [
    "**Описание данных**\n",
    "- сalls — количество звонков,\n",
    "- minutes — суммарная длительность звонков в минутах,\n",
    "- messages — количество sms-сообщений,\n",
    "- mb_used — израсходованный интернет-трафик в Мб,\n",
    "- is_ultra — каким тарифом пользовался в течение месяца («Ультра» — 1, «Смарт» — 0)."
   ]
  },
  {
   "cell_type": "markdown",
   "metadata": {},
   "source": [
    "**Вывод:**\n",
    "- Пропусков нет\n",
    "- Дубликанов нет\n",
    "- Типы данных корректны"
   ]
  },
  {
   "cell_type": "markdown",
   "metadata": {},
   "source": [
    "## Разбейте данные на выборки"
   ]
  },
  {
   "cell_type": "markdown",
   "metadata": {},
   "source": [
    "**Исходные данные разбивают в соотношении 3:1:1**\n",
    "- Обучающая выборка (features_train, target_train) 60%\n",
    "- Валидационая выборка (features_valid, target_valid) 20%\n",
    "- Тестовая выборка (features_test, target_test) 20%"
   ]
  },
  {
   "cell_type": "code",
   "execution_count": 7,
   "metadata": {},
   "outputs": [],
   "source": [
    "df_train, df_test = train_test_split(df, test_size=0.4, random_state=12345)\n",
    "features = df_test.drop('is_ultra', axis=1)\n",
    "target = df_test['is_ultra']\n",
    "features_valid, features_test, target_valid, target_test = train_test_split(features, target, test_size=0.5, random_state=12345)\n",
    "features_train = df_train.drop('is_ultra', axis=1)\n",
    "target_train = df_train['is_ultra']"
   ]
  },
  {
   "cell_type": "markdown",
   "metadata": {},
   "source": [
    "## Исследуйте модели"
   ]
  },
  {
   "cell_type": "markdown",
   "metadata": {},
   "source": [
    "**Смена гиперпараметров**"
   ]
  },
  {
   "cell_type": "markdown",
   "metadata": {},
   "source": [
    "Самый важный гиперпараметр решающего дерева — max_depth.\n",
    "Настроим его для нашего дерева решений."
   ]
  },
  {
   "cell_type": "code",
   "execution_count": 8,
   "metadata": {},
   "outputs": [
    {
     "name": "stdout",
     "output_type": "stream",
     "text": [
      "max_depth = 1 : 0.7542768273716952\n",
      "max_depth = 2 : 0.7822706065318819\n",
      "max_depth = 3 : 0.7853810264385692\n",
      "max_depth = 4 : 0.7791601866251944\n",
      "max_depth = 5 : 0.7791601866251944\n",
      "max_depth = 6 : 0.7838258164852255\n",
      "max_depth = 7 : 0.7822706065318819\n",
      "max_depth = 8 : 0.7791601866251944\n",
      "max_depth = 9 : 0.7822706065318819\n"
     ]
    }
   ],
   "source": [
    "for depth in range(1, 10):\n",
    "    model = DecisionTreeClassifier(random_state=12345, max_depth = depth) \n",
    "\n",
    "    model.fit(features_train,target_train) \n",
    "\n",
    "    predictions_valid = model.predict(features_valid) \n",
    "\n",
    "    result = accuracy_score(target_valid, predictions_valid) \n",
    "\n",
    "    print('max_depth =', depth, ':', result)"
   ]
  },
  {
   "cell_type": "markdown",
   "metadata": {},
   "source": [
    "**Вывод: лучший параметр max_depth = 3 : 0.7853810264385692**"
   ]
  },
  {
   "cell_type": "markdown",
   "metadata": {},
   "source": [
    "**Дерево решений**"
   ]
  },
  {
   "cell_type": "code",
   "execution_count": 9,
   "metadata": {},
   "outputs": [
    {
     "name": "stdout",
     "output_type": "stream",
     "text": [
      "Лучшая модель: 0.7853810264385692 Глубина дерева: 3\n"
     ]
    }
   ],
   "source": [
    "best_model_dt = None\n",
    "best_result = 0\n",
    "best_depth = 0\n",
    "\n",
    "for depth in range(1, 4):\n",
    "    model = DecisionTreeClassifier(random_state=12345, max_depth=depth)\n",
    "    model.fit(features_train,target_train)\n",
    "    predictions_valid = model.predict(features_valid) \n",
    "    result = model.score(features_valid, target_valid)\n",
    "    if result > best_result:\n",
    "        best_model_dt = model\n",
    "        best_result = result\n",
    "        best_depth = depth\n",
    "\n",
    "print(\"Лучшая модель:\", best_result, \"Глубина дерева:\", best_depth)"
   ]
  },
  {
   "cell_type": "markdown",
   "metadata": {},
   "source": [
    "**Случайный лес**"
   ]
  },
  {
   "cell_type": "code",
   "execution_count": 10,
   "metadata": {},
   "outputs": [
    {
     "name": "stdout",
     "output_type": "stream",
     "text": [
      "Лучшая модель: 0.7822706065318819 Глубина дерева: 3\n"
     ]
    }
   ],
   "source": [
    "best_model_rf = None\n",
    "best_result = 0\n",
    "for est in range(1, 10):\n",
    "    model = RandomForestClassifier(random_state=12345, n_estimators=est)\n",
    "    model.fit(features_train,target_train) \n",
    "    result = model.score(features_valid, target_valid)\n",
    "    if result > best_result:\n",
    "        best_model_rf = model\n",
    "        best_result = result\n",
    "        best_depth = depth\n",
    "\n",
    "print(\"Лучшая модель:\", best_result, \"Глубина дерева:\", best_depth)"
   ]
  },
  {
   "cell_type": "markdown",
   "metadata": {},
   "source": [
    "**Логистическая регрессия**"
   ]
  },
  {
   "cell_type": "code",
   "execution_count": 11,
   "metadata": {},
   "outputs": [
    {
     "name": "stdout",
     "output_type": "stream",
     "text": [
      "Качество модели: 0.7107309486780715\n"
     ]
    }
   ],
   "source": [
    "model = LogisticRegression(random_state=12345, solver='lbfgs')\n",
    "model.fit(features_train, target_train)\n",
    "result = model.score(features_valid, target_valid)\n",
    "print(\"Качество модели:\", result)"
   ]
  },
  {
   "cell_type": "markdown",
   "metadata": {},
   "source": [
    "## Проверьте модель на тестовой выборке"
   ]
  },
  {
   "cell_type": "markdown",
   "metadata": {},
   "source": [
    "**Наиболее качественные результаты, после проверки точности на валидной выборке, прогнозирует модель \"Дерево решений\", проверим ее на тестовой выборке, указав лучший гиперпараметр max_depth=3**"
   ]
  },
  {
   "cell_type": "code",
   "execution_count": 17,
   "metadata": {},
   "outputs": [
    {
     "name": "stdout",
     "output_type": "stream",
     "text": [
      "Качество модели: 0.7791601866251944\n"
     ]
    }
   ],
   "source": [
    "model = DecisionTreeClassifier(max_depth=3, random_state=12345)\n",
    "model.fit(features_train, target_train)\n",
    "result = model.score(features_test, target_test)\n",
    "print(\"Качество модели:\", result)"
   ]
  },
  {
   "cell_type": "code",
   "execution_count": 18,
   "metadata": {},
   "outputs": [
    {
     "data": {
      "text/plain": [
       "RandomForestClassifier(n_estimators=8, random_state=12345)"
      ]
     },
     "execution_count": 18,
     "metadata": {},
     "output_type": "execute_result"
    }
   ],
   "source": [
    "best_model_rf"
   ]
  },
  {
   "cell_type": "markdown",
   "metadata": {},
   "source": [
    "### Вывод"
   ]
  },
  {
   "cell_type": "markdown",
   "metadata": {},
   "source": [
    "**Были проверены три модели: дерево решений, случайный лес и логистическая регрессия. После проверки точности этих моделей на валидной выборке, можно прийти к выводу, что в данном случае наиболее качественные результаты прогнозирует модель \"Дерево решений\", этот результат был подтвержден после на тестовой выборке**"
   ]
  },
  {
   "cell_type": "markdown",
   "metadata": {},
   "source": [
    "## Чек-лист готовности проекта"
   ]
  },
  {
   "cell_type": "markdown",
   "metadata": {},
   "source": [
    "Поставьте 'x' в выполненных пунктах. Далее нажмите Shift+Enter."
   ]
  },
  {
   "cell_type": "markdown",
   "metadata": {},
   "source": [
    "- [x] Jupyter Notebook открыт\n",
    "- [x] Весь код исполняется без ошибок\n",
    "- [x] Ячейки с кодом расположены в порядке исполнения\n",
    "- [x] Выполнено задание 1: данные загружены и изучены\n",
    "- [x] Выполнено задание 2: данные разбиты на три выборки\n",
    "- [x] Выполнено задание 3: проведено исследование моделей\n",
    "    - [x] Рассмотрено больше одной модели\n",
    "    - [x] Рассмотрено хотя бы 3 значения гипепараметров для какой-нибудь модели\n",
    "    - [x] Написаны выводы по результатам исследования\n",
    "- [x] Выполнено задание 3: Проведено тестирование\n",
    "- [x] Удалось достичь accuracy не меньше 0.75\n"
   ]
  }
 ],
 "metadata": {
  "ExecuteTimeLog": [
   {
    "duration": 59,
    "start_time": "2023-01-31T11:07:59.997Z"
   },
   {
    "duration": 484,
    "start_time": "2023-01-31T11:08:13.323Z"
   },
   {
    "duration": 727,
    "start_time": "2023-01-31T11:09:15.420Z"
   },
   {
    "duration": 35,
    "start_time": "2023-01-31T11:09:18.551Z"
   },
   {
    "duration": 12,
    "start_time": "2023-01-31T11:09:36.780Z"
   },
   {
    "duration": 6,
    "start_time": "2023-01-31T11:20:05.765Z"
   },
   {
    "duration": 4,
    "start_time": "2023-01-31T11:21:28.314Z"
   },
   {
    "duration": 10,
    "start_time": "2023-01-31T11:21:48.034Z"
   },
   {
    "duration": 12,
    "start_time": "2023-01-31T12:15:48.806Z"
   },
   {
    "duration": 58,
    "start_time": "2023-01-31T12:20:18.693Z"
   },
   {
    "duration": 80,
    "start_time": "2023-01-31T12:26:29.892Z"
   },
   {
    "duration": 71,
    "start_time": "2023-01-31T12:26:34.567Z"
   },
   {
    "duration": 71,
    "start_time": "2023-01-31T12:27:02.407Z"
   },
   {
    "duration": 69,
    "start_time": "2023-01-31T12:28:39.788Z"
   },
   {
    "duration": 10,
    "start_time": "2023-01-31T12:29:06.743Z"
   },
   {
    "duration": 96,
    "start_time": "2023-01-31T12:29:21.641Z"
   },
   {
    "duration": 115,
    "start_time": "2023-01-31T12:29:33.449Z"
   },
   {
    "duration": 9,
    "start_time": "2023-01-31T12:29:51.839Z"
   },
   {
    "duration": 115,
    "start_time": "2023-01-31T12:29:56.943Z"
   },
   {
    "duration": 81,
    "start_time": "2023-01-31T12:33:21.936Z"
   },
   {
    "duration": 68,
    "start_time": "2023-01-31T12:36:03.985Z"
   },
   {
    "duration": 67,
    "start_time": "2023-01-31T12:36:14.273Z"
   },
   {
    "duration": 69,
    "start_time": "2023-01-31T12:36:39.017Z"
   },
   {
    "duration": 92,
    "start_time": "2023-01-31T12:36:41.649Z"
   },
   {
    "duration": 11,
    "start_time": "2023-01-31T12:37:47.442Z"
   },
   {
    "duration": 3,
    "start_time": "2023-01-31T12:38:22.201Z"
   },
   {
    "duration": 63,
    "start_time": "2023-01-31T12:38:35.811Z"
   },
   {
    "duration": 96,
    "start_time": "2023-01-31T12:38:38.618Z"
   },
   {
    "duration": 13,
    "start_time": "2023-01-31T12:38:40.298Z"
   },
   {
    "duration": 68,
    "start_time": "2023-01-31T12:39:08.282Z"
   },
   {
    "duration": 10,
    "start_time": "2023-01-31T12:42:31.474Z"
   },
   {
    "duration": 3,
    "start_time": "2023-01-31T12:42:53.939Z"
   },
   {
    "duration": 260,
    "start_time": "2023-01-31T12:42:58.051Z"
   },
   {
    "duration": 263,
    "start_time": "2023-01-31T12:44:59.261Z"
   },
   {
    "duration": 71,
    "start_time": "2023-01-31T12:45:04.645Z"
   },
   {
    "duration": 257,
    "start_time": "2023-01-31T12:45:06.997Z"
   },
   {
    "duration": 256,
    "start_time": "2023-01-31T12:45:40.014Z"
   },
   {
    "duration": 120,
    "start_time": "2023-01-31T12:47:27.812Z"
   },
   {
    "duration": 481,
    "start_time": "2023-01-31T12:47:30.972Z"
   },
   {
    "duration": 10,
    "start_time": "2023-01-31T12:49:51.597Z"
   },
   {
    "duration": 9,
    "start_time": "2023-01-31T12:50:24.130Z"
   },
   {
    "duration": 1129,
    "start_time": "2023-01-31T12:50:40.148Z"
   },
   {
    "duration": 38,
    "start_time": "2023-01-31T12:50:41.278Z"
   },
   {
    "duration": 12,
    "start_time": "2023-01-31T12:50:41.317Z"
   },
   {
    "duration": 20,
    "start_time": "2023-01-31T12:50:41.331Z"
   },
   {
    "duration": 17,
    "start_time": "2023-01-31T12:50:41.353Z"
   },
   {
    "duration": 19,
    "start_time": "2023-01-31T12:50:41.371Z"
   },
   {
    "duration": 17,
    "start_time": "2023-01-31T12:50:41.392Z"
   },
   {
    "duration": 125,
    "start_time": "2023-01-31T12:50:41.411Z"
   },
   {
    "duration": 506,
    "start_time": "2023-01-31T12:50:41.537Z"
   },
   {
    "duration": 40,
    "start_time": "2023-01-31T12:50:42.045Z"
   },
   {
    "duration": 26,
    "start_time": "2023-01-31T12:51:10.774Z"
   },
   {
    "duration": 13,
    "start_time": "2023-01-31T13:13:41.965Z"
   },
   {
    "duration": 12,
    "start_time": "2023-01-31T13:13:53.529Z"
   },
   {
    "duration": 14,
    "start_time": "2023-01-31T13:13:58.449Z"
   },
   {
    "duration": 148,
    "start_time": "2023-01-31T13:14:35.977Z"
   },
   {
    "duration": 14,
    "start_time": "2023-01-31T13:14:39.217Z"
   },
   {
    "duration": 50,
    "start_time": "2023-01-31T13:15:26.762Z"
   },
   {
    "duration": 24,
    "start_time": "2023-01-31T13:16:00.509Z"
   },
   {
    "duration": 2,
    "start_time": "2023-01-31T13:19:14.586Z"
   },
   {
    "duration": 13,
    "start_time": "2023-01-31T13:20:08.197Z"
   },
   {
    "duration": 13,
    "start_time": "2023-01-31T13:20:13.090Z"
   },
   {
    "duration": 14,
    "start_time": "2023-01-31T13:20:18.442Z"
   },
   {
    "duration": 13,
    "start_time": "2023-01-31T13:20:23.003Z"
   },
   {
    "duration": 47,
    "start_time": "2023-01-31T13:20:29.067Z"
   },
   {
    "duration": 46,
    "start_time": "2023-01-31T13:20:35.579Z"
   },
   {
    "duration": 51,
    "start_time": "2023-01-31T13:20:39.730Z"
   },
   {
    "duration": 49,
    "start_time": "2023-01-31T13:20:45.810Z"
   },
   {
    "duration": 51,
    "start_time": "2023-01-31T13:20:50.842Z"
   },
   {
    "duration": 13,
    "start_time": "2023-01-31T13:21:07.339Z"
   },
   {
    "duration": 14,
    "start_time": "2023-01-31T13:21:24.747Z"
   },
   {
    "duration": 14,
    "start_time": "2023-01-31T13:21:28.898Z"
   },
   {
    "duration": 240,
    "start_time": "2023-01-31T13:21:37.707Z"
   },
   {
    "duration": 73,
    "start_time": "2023-01-31T13:21:44.507Z"
   },
   {
    "duration": 71,
    "start_time": "2023-01-31T13:21:55.731Z"
   },
   {
    "duration": 205,
    "start_time": "2023-01-31T13:21:57.738Z"
   },
   {
    "duration": 1973,
    "start_time": "2023-01-31T13:55:04.970Z"
   },
   {
    "duration": 83,
    "start_time": "2023-01-31T13:55:06.945Z"
   },
   {
    "duration": 12,
    "start_time": "2023-01-31T13:55:07.029Z"
   },
   {
    "duration": 19,
    "start_time": "2023-01-31T13:55:07.044Z"
   },
   {
    "duration": 13,
    "start_time": "2023-01-31T13:55:07.065Z"
   },
   {
    "duration": 27,
    "start_time": "2023-01-31T13:55:07.079Z"
   },
   {
    "duration": 41,
    "start_time": "2023-01-31T13:55:07.108Z"
   },
   {
    "duration": 92,
    "start_time": "2023-01-31T13:55:07.151Z"
   },
   {
    "duration": 220,
    "start_time": "2023-01-31T13:55:07.245Z"
   },
   {
    "duration": 30,
    "start_time": "2023-01-31T13:55:07.467Z"
   },
   {
    "duration": 19,
    "start_time": "2023-01-31T13:55:07.499Z"
   },
   {
    "duration": 81,
    "start_time": "2023-01-31T13:55:07.520Z"
   },
   {
    "duration": 32,
    "start_time": "2023-01-31T13:55:07.603Z"
   },
   {
    "duration": 73,
    "start_time": "2023-01-31T14:24:06.168Z"
   },
   {
    "duration": 234,
    "start_time": "2023-01-31T14:24:09.425Z"
   },
   {
    "duration": 212,
    "start_time": "2023-01-31T14:25:25.113Z"
   },
   {
    "duration": 67,
    "start_time": "2023-01-31T14:25:52.482Z"
   },
   {
    "duration": 51,
    "start_time": "2023-02-01T09:58:04.731Z"
   },
   {
    "duration": 1097,
    "start_time": "2023-02-01T09:58:21.743Z"
   },
   {
    "duration": 80,
    "start_time": "2023-02-01T09:58:22.842Z"
   },
   {
    "duration": 12,
    "start_time": "2023-02-01T09:58:22.927Z"
   },
   {
    "duration": 8,
    "start_time": "2023-02-01T09:58:22.941Z"
   },
   {
    "duration": 4,
    "start_time": "2023-02-01T09:58:22.951Z"
   },
   {
    "duration": 14,
    "start_time": "2023-02-01T09:58:22.957Z"
   },
   {
    "duration": 15,
    "start_time": "2023-02-01T09:58:22.973Z"
   },
   {
    "duration": 75,
    "start_time": "2023-02-01T09:58:22.990Z"
   },
   {
    "duration": 236,
    "start_time": "2023-02-01T09:58:23.084Z"
   },
   {
    "duration": 27,
    "start_time": "2023-02-01T09:58:23.322Z"
   },
   {
    "duration": 33,
    "start_time": "2023-02-01T09:58:23.351Z"
   },
   {
    "duration": 41,
    "start_time": "2023-02-01T09:58:23.386Z"
   },
   {
    "duration": 26,
    "start_time": "2023-02-01T09:58:23.430Z"
   },
   {
    "duration": 111,
    "start_time": "2023-02-01T11:17:42.652Z"
   },
   {
    "duration": 30,
    "start_time": "2023-02-01T11:18:56.364Z"
   },
   {
    "duration": 1229,
    "start_time": "2023-02-01T11:19:26.031Z"
   },
   {
    "duration": 42,
    "start_time": "2023-02-01T11:19:27.262Z"
   },
   {
    "duration": 15,
    "start_time": "2023-02-01T11:19:27.310Z"
   },
   {
    "duration": 53,
    "start_time": "2023-02-01T11:19:27.330Z"
   },
   {
    "duration": 58,
    "start_time": "2023-02-01T11:19:27.385Z"
   },
   {
    "duration": 46,
    "start_time": "2023-02-01T11:19:27.445Z"
   },
   {
    "duration": 30,
    "start_time": "2023-02-01T11:19:27.493Z"
   },
   {
    "duration": 179,
    "start_time": "2023-02-01T11:19:27.525Z"
   },
   {
    "duration": 0,
    "start_time": "2023-02-01T11:19:27.706Z"
   },
   {
    "duration": 0,
    "start_time": "2023-02-01T11:19:27.708Z"
   },
   {
    "duration": 0,
    "start_time": "2023-02-01T11:19:27.709Z"
   },
   {
    "duration": 0,
    "start_time": "2023-02-01T11:19:27.710Z"
   },
   {
    "duration": 0,
    "start_time": "2023-02-01T11:19:27.711Z"
   },
   {
    "duration": 273,
    "start_time": "2023-02-01T11:20:40.335Z"
   },
   {
    "duration": 79,
    "start_time": "2023-02-01T11:21:52.560Z"
   },
   {
    "duration": 1142,
    "start_time": "2023-02-01T11:36:16.207Z"
   },
   {
    "duration": 44,
    "start_time": "2023-02-01T11:36:17.352Z"
   },
   {
    "duration": 13,
    "start_time": "2023-02-01T11:36:17.398Z"
   },
   {
    "duration": 7,
    "start_time": "2023-02-01T11:36:17.413Z"
   },
   {
    "duration": 8,
    "start_time": "2023-02-01T11:36:17.422Z"
   },
   {
    "duration": 15,
    "start_time": "2023-02-01T11:36:17.431Z"
   },
   {
    "duration": 9,
    "start_time": "2023-02-01T11:36:17.448Z"
   },
   {
    "duration": 84,
    "start_time": "2023-02-01T11:36:17.485Z"
   },
   {
    "duration": 246,
    "start_time": "2023-02-01T11:36:17.584Z"
   },
   {
    "duration": 27,
    "start_time": "2023-02-01T11:36:17.832Z"
   },
   {
    "duration": 30,
    "start_time": "2023-02-01T11:36:17.861Z"
   },
   {
    "duration": 43,
    "start_time": "2023-02-01T11:36:17.893Z"
   },
   {
    "duration": 46,
    "start_time": "2023-02-01T11:36:17.938Z"
   },
   {
    "duration": 82,
    "start_time": "2023-02-01T11:39:32.038Z"
   },
   {
    "duration": 237,
    "start_time": "2023-02-01T11:39:48.036Z"
   },
   {
    "duration": 85,
    "start_time": "2023-02-01T11:39:52.818Z"
   },
   {
    "duration": 253,
    "start_time": "2023-02-01T11:39:58.605Z"
   },
   {
    "duration": 110,
    "start_time": "2023-02-01T11:45:46.012Z"
   },
   {
    "duration": 14,
    "start_time": "2023-02-01T11:46:06.962Z"
   },
   {
    "duration": 3,
    "start_time": "2023-02-01T11:47:25.273Z"
   },
   {
    "duration": 38,
    "start_time": "2023-02-01T11:47:38.605Z"
   },
   {
    "duration": 130,
    "start_time": "2023-02-01T11:47:47.870Z"
   },
   {
    "duration": 146,
    "start_time": "2023-02-01T11:48:00.313Z"
   },
   {
    "duration": 88,
    "start_time": "2023-02-01T11:49:27.036Z"
   },
   {
    "duration": 100,
    "start_time": "2023-02-01T11:51:45.741Z"
   },
   {
    "duration": 19,
    "start_time": "2023-02-01T11:53:20.513Z"
   },
   {
    "duration": 31,
    "start_time": "2023-02-01T11:53:27.161Z"
   },
   {
    "duration": 25,
    "start_time": "2023-02-01T11:54:55.213Z"
   },
   {
    "duration": 26,
    "start_time": "2023-02-01T11:55:04.517Z"
   },
   {
    "duration": 70,
    "start_time": "2023-02-01T11:56:09.532Z"
   },
   {
    "duration": 1192,
    "start_time": "2023-02-01T12:06:08.464Z"
   },
   {
    "duration": 60,
    "start_time": "2023-02-01T12:06:09.660Z"
   },
   {
    "duration": 34,
    "start_time": "2023-02-01T12:06:09.722Z"
   },
   {
    "duration": 22,
    "start_time": "2023-02-01T12:06:09.759Z"
   },
   {
    "duration": 20,
    "start_time": "2023-02-01T12:06:09.783Z"
   },
   {
    "duration": 29,
    "start_time": "2023-02-01T12:06:09.806Z"
   },
   {
    "duration": 12,
    "start_time": "2023-02-01T12:06:09.837Z"
   },
   {
    "duration": 139,
    "start_time": "2023-02-01T12:06:09.852Z"
   },
   {
    "duration": 37,
    "start_time": "2023-02-01T12:06:09.993Z"
   },
   {
    "duration": 281,
    "start_time": "2023-02-01T12:06:10.033Z"
   },
   {
    "duration": 26,
    "start_time": "2023-02-01T12:06:10.316Z"
   },
   {
    "duration": 16,
    "start_time": "2023-02-01T12:06:10.344Z"
   },
   {
    "duration": 62,
    "start_time": "2023-02-01T12:06:10.362Z"
   },
   {
    "duration": 38,
    "start_time": "2023-02-01T12:06:10.426Z"
   },
   {
    "duration": 1206,
    "start_time": "2023-02-02T07:58:49.754Z"
   },
   {
    "duration": 131,
    "start_time": "2023-02-02T07:58:50.962Z"
   },
   {
    "duration": 12,
    "start_time": "2023-02-02T07:58:51.095Z"
   },
   {
    "duration": 11,
    "start_time": "2023-02-02T07:58:51.109Z"
   },
   {
    "duration": 5,
    "start_time": "2023-02-02T07:58:51.122Z"
   },
   {
    "duration": 25,
    "start_time": "2023-02-02T07:58:51.129Z"
   },
   {
    "duration": 8,
    "start_time": "2023-02-02T07:58:51.156Z"
   },
   {
    "duration": 71,
    "start_time": "2023-02-02T07:58:51.166Z"
   },
   {
    "duration": 31,
    "start_time": "2023-02-02T07:58:51.239Z"
   },
   {
    "duration": 245,
    "start_time": "2023-02-02T07:58:51.273Z"
   },
   {
    "duration": 40,
    "start_time": "2023-02-02T07:58:51.519Z"
   },
   {
    "duration": 17,
    "start_time": "2023-02-02T07:58:51.561Z"
   },
   {
    "duration": 56,
    "start_time": "2023-02-02T07:58:51.580Z"
   },
   {
    "duration": 26,
    "start_time": "2023-02-02T07:58:51.639Z"
   },
   {
    "duration": 13,
    "start_time": "2023-02-02T08:02:34.215Z"
   },
   {
    "duration": 13,
    "start_time": "2023-02-02T08:02:38.591Z"
   },
   {
    "duration": 41,
    "start_time": "2023-02-02T08:02:54.688Z"
   },
   {
    "duration": 46,
    "start_time": "2023-02-02T08:03:01.030Z"
   },
   {
    "duration": 32,
    "start_time": "2023-02-02T08:03:05.527Z"
   },
   {
    "duration": 14,
    "start_time": "2023-02-02T08:04:12.489Z"
   },
   {
    "duration": 31,
    "start_time": "2023-02-02T08:04:19.654Z"
   },
   {
    "duration": 26,
    "start_time": "2023-02-02T08:04:35.159Z"
   },
   {
    "duration": 3,
    "start_time": "2023-02-02T08:05:26.551Z"
   },
   {
    "duration": 1183,
    "start_time": "2023-02-02T08:05:32.118Z"
   },
   {
    "duration": 47,
    "start_time": "2023-02-02T08:05:33.303Z"
   },
   {
    "duration": 15,
    "start_time": "2023-02-02T08:05:33.352Z"
   },
   {
    "duration": 43,
    "start_time": "2023-02-02T08:05:33.370Z"
   },
   {
    "duration": 19,
    "start_time": "2023-02-02T08:05:33.416Z"
   },
   {
    "duration": 22,
    "start_time": "2023-02-02T08:05:33.437Z"
   },
   {
    "duration": 19,
    "start_time": "2023-02-02T08:05:33.461Z"
   },
   {
    "duration": 97,
    "start_time": "2023-02-02T08:05:33.482Z"
   },
   {
    "duration": 35,
    "start_time": "2023-02-02T08:05:33.581Z"
   },
   {
    "duration": 297,
    "start_time": "2023-02-02T08:05:33.637Z"
   },
   {
    "duration": 41,
    "start_time": "2023-02-02T08:05:33.936Z"
   },
   {
    "duration": 13,
    "start_time": "2023-02-02T08:05:33.979Z"
   },
   {
    "duration": 68,
    "start_time": "2023-02-02T08:05:33.995Z"
   },
   {
    "duration": 41,
    "start_time": "2023-02-02T08:05:34.066Z"
   },
   {
    "duration": 1951,
    "start_time": "2023-02-02T14:39:10.692Z"
   },
   {
    "duration": 185,
    "start_time": "2023-02-02T14:39:12.646Z"
   },
   {
    "duration": 11,
    "start_time": "2023-02-02T14:39:12.833Z"
   },
   {
    "duration": 11,
    "start_time": "2023-02-02T14:39:12.846Z"
   },
   {
    "duration": 5,
    "start_time": "2023-02-02T14:39:12.859Z"
   },
   {
    "duration": 14,
    "start_time": "2023-02-02T14:39:12.866Z"
   },
   {
    "duration": 16,
    "start_time": "2023-02-02T14:39:12.883Z"
   },
   {
    "duration": 94,
    "start_time": "2023-02-02T14:39:12.902Z"
   },
   {
    "duration": 22,
    "start_time": "2023-02-02T14:39:12.997Z"
   },
   {
    "duration": 237,
    "start_time": "2023-02-02T14:39:13.021Z"
   },
   {
    "duration": 24,
    "start_time": "2023-02-02T14:39:13.260Z"
   },
   {
    "duration": 28,
    "start_time": "2023-02-02T14:39:13.286Z"
   },
   {
    "duration": 6,
    "start_time": "2023-02-02T14:40:02.817Z"
   },
   {
    "duration": 1019,
    "start_time": "2023-02-03T06:12:49.725Z"
   },
   {
    "duration": 140,
    "start_time": "2023-02-03T06:12:50.746Z"
   },
   {
    "duration": 10,
    "start_time": "2023-02-03T06:12:50.888Z"
   },
   {
    "duration": 17,
    "start_time": "2023-02-03T06:12:50.900Z"
   },
   {
    "duration": 6,
    "start_time": "2023-02-03T06:12:50.918Z"
   },
   {
    "duration": 12,
    "start_time": "2023-02-03T06:12:50.926Z"
   },
   {
    "duration": 7,
    "start_time": "2023-02-03T06:12:50.939Z"
   },
   {
    "duration": 68,
    "start_time": "2023-02-03T06:12:50.947Z"
   },
   {
    "duration": 23,
    "start_time": "2023-02-03T06:12:51.017Z"
   },
   {
    "duration": 241,
    "start_time": "2023-02-03T06:12:51.042Z"
   },
   {
    "duration": 24,
    "start_time": "2023-02-03T06:12:51.285Z"
   },
   {
    "duration": 25,
    "start_time": "2023-02-03T06:12:51.311Z"
   },
   {
    "duration": 5,
    "start_time": "2023-02-03T06:12:51.337Z"
   },
   {
    "duration": 5,
    "start_time": "2023-02-03T06:14:36.841Z"
   },
   {
    "duration": 10,
    "start_time": "2023-02-03T06:15:31.137Z"
   },
   {
    "duration": 26,
    "start_time": "2023-02-03T06:15:37.304Z"
   },
   {
    "duration": 9,
    "start_time": "2023-02-03T06:18:11.421Z"
   },
   {
    "duration": 4,
    "start_time": "2023-02-03T06:18:23.209Z"
   }
  ],
  "kernelspec": {
   "display_name": "Python 3 (ipykernel)",
   "language": "python",
   "name": "python3"
  },
  "language_info": {
   "codemirror_mode": {
    "name": "ipython",
    "version": 3
   },
   "file_extension": ".py",
   "mimetype": "text/x-python",
   "name": "python",
   "nbconvert_exporter": "python",
   "pygments_lexer": "ipython3",
   "version": "3.9.5"
  },
  "toc": {
   "base_numbering": 1,
   "nav_menu": {},
   "number_sections": true,
   "sideBar": true,
   "skip_h1_title": true,
   "title_cell": "Table of Contents",
   "title_sidebar": "Contents",
   "toc_cell": false,
   "toc_position": {},
   "toc_section_display": true,
   "toc_window_display": false
  }
 },
 "nbformat": 4,
 "nbformat_minor": 2
}
