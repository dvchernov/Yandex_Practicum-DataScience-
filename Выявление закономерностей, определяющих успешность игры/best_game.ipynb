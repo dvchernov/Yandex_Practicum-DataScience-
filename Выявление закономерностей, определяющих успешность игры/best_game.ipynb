{
 "cells": [
  {
   "cell_type": "markdown",
   "metadata": {},
   "source": [
    "# Сборный проект"
   ]
  },
  {
   "cell_type": "markdown",
   "metadata": {},
   "source": [
    "**Описание проекта**"
   ]
  },
  {
   "cell_type": "markdown",
   "metadata": {},
   "source": [
    "Вы работаете в интернет-магазине «Стримчик», который продаёт по всему миру компьютерные игры. Из открытых источников доступны исторические данные о продажах игр, оценки пользователей и экспертов, жанры и платформы (например, Xbox или PlayStation). Вам нужно выявить определяющие успешность игры закономерности. Это позволит сделать ставку на потенциально популярный продукт и спланировать рекламные кампании."
   ]
  },
  {
   "cell_type": "markdown",
   "metadata": {},
   "source": [
    "Перед вами данные до 2016 года. Представим, что сейчас декабрь 2016 г., и вы планируете кампанию на 2017-й. Нужно отработать принцип работы с данными. Неважно, прогнозируете ли вы продажи на 2017 год по данным 2016-го или же 2027-й — по данным 2026 года."
   ]
  },
  {
   "cell_type": "markdown",
   "metadata": {},
   "source": [
    "<font color='DarkBlue'><b>Комментарий ревьюера</b></font><br>\n",
    "<font color='DarkGreen'>👌 Хорошо, сделали описание проекта. 👍</font>"
   ]
  },
  {
   "cell_type": "markdown",
   "metadata": {},
   "source": [
    "## Шаг. Открываем файл с данными и изучаем общую информацию"
   ]
  },
  {
   "cell_type": "code",
   "execution_count": 1,
   "metadata": {},
   "outputs": [],
   "source": [
    "import pandas as pd\n",
    "import numpy as np\n",
    "import matplotlib.pyplot as plt\n",
    "import seaborn as sns\n",
    "import warnings\n",
    "warnings.filterwarnings(\"ignore\")"
   ]
  },
  {
   "cell_type": "code",
   "execution_count": 2,
   "metadata": {},
   "outputs": [],
   "source": [
    "df = pd.read_csv('/datasets/games.csv')"
   ]
  },
  {
   "cell_type": "code",
   "execution_count": 3,
   "metadata": {},
   "outputs": [
    {
     "data": {
      "text/html": [
       "<div>\n",
       "<style scoped>\n",
       "    .dataframe tbody tr th:only-of-type {\n",
       "        vertical-align: middle;\n",
       "    }\n",
       "\n",
       "    .dataframe tbody tr th {\n",
       "        vertical-align: top;\n",
       "    }\n",
       "\n",
       "    .dataframe thead th {\n",
       "        text-align: right;\n",
       "    }\n",
       "</style>\n",
       "<table border=\"1\" class=\"dataframe\">\n",
       "  <thead>\n",
       "    <tr style=\"text-align: right;\">\n",
       "      <th></th>\n",
       "      <th>Name</th>\n",
       "      <th>Platform</th>\n",
       "      <th>Year_of_Release</th>\n",
       "      <th>Genre</th>\n",
       "      <th>NA_sales</th>\n",
       "      <th>EU_sales</th>\n",
       "      <th>JP_sales</th>\n",
       "      <th>Other_sales</th>\n",
       "      <th>Critic_Score</th>\n",
       "      <th>User_Score</th>\n",
       "      <th>Rating</th>\n",
       "    </tr>\n",
       "  </thead>\n",
       "  <tbody>\n",
       "    <tr>\n",
       "      <th>0</th>\n",
       "      <td>Wii Sports</td>\n",
       "      <td>Wii</td>\n",
       "      <td>2006.0</td>\n",
       "      <td>Sports</td>\n",
       "      <td>41.36</td>\n",
       "      <td>28.96</td>\n",
       "      <td>3.77</td>\n",
       "      <td>8.45</td>\n",
       "      <td>76.0</td>\n",
       "      <td>8</td>\n",
       "      <td>E</td>\n",
       "    </tr>\n",
       "    <tr>\n",
       "      <th>1</th>\n",
       "      <td>Super Mario Bros.</td>\n",
       "      <td>NES</td>\n",
       "      <td>1985.0</td>\n",
       "      <td>Platform</td>\n",
       "      <td>29.08</td>\n",
       "      <td>3.58</td>\n",
       "      <td>6.81</td>\n",
       "      <td>0.77</td>\n",
       "      <td>NaN</td>\n",
       "      <td>NaN</td>\n",
       "      <td>NaN</td>\n",
       "    </tr>\n",
       "    <tr>\n",
       "      <th>2</th>\n",
       "      <td>Mario Kart Wii</td>\n",
       "      <td>Wii</td>\n",
       "      <td>2008.0</td>\n",
       "      <td>Racing</td>\n",
       "      <td>15.68</td>\n",
       "      <td>12.76</td>\n",
       "      <td>3.79</td>\n",
       "      <td>3.29</td>\n",
       "      <td>82.0</td>\n",
       "      <td>8.3</td>\n",
       "      <td>E</td>\n",
       "    </tr>\n",
       "    <tr>\n",
       "      <th>3</th>\n",
       "      <td>Wii Sports Resort</td>\n",
       "      <td>Wii</td>\n",
       "      <td>2009.0</td>\n",
       "      <td>Sports</td>\n",
       "      <td>15.61</td>\n",
       "      <td>10.93</td>\n",
       "      <td>3.28</td>\n",
       "      <td>2.95</td>\n",
       "      <td>80.0</td>\n",
       "      <td>8</td>\n",
       "      <td>E</td>\n",
       "    </tr>\n",
       "    <tr>\n",
       "      <th>4</th>\n",
       "      <td>Pokemon Red/Pokemon Blue</td>\n",
       "      <td>GB</td>\n",
       "      <td>1996.0</td>\n",
       "      <td>Role-Playing</td>\n",
       "      <td>11.27</td>\n",
       "      <td>8.89</td>\n",
       "      <td>10.22</td>\n",
       "      <td>1.00</td>\n",
       "      <td>NaN</td>\n",
       "      <td>NaN</td>\n",
       "      <td>NaN</td>\n",
       "    </tr>\n",
       "  </tbody>\n",
       "</table>\n",
       "</div>"
      ],
      "text/plain": [
       "                       Name Platform  Year_of_Release         Genre  NA_sales  \\\n",
       "0                Wii Sports      Wii           2006.0        Sports     41.36   \n",
       "1         Super Mario Bros.      NES           1985.0      Platform     29.08   \n",
       "2            Mario Kart Wii      Wii           2008.0        Racing     15.68   \n",
       "3         Wii Sports Resort      Wii           2009.0        Sports     15.61   \n",
       "4  Pokemon Red/Pokemon Blue       GB           1996.0  Role-Playing     11.27   \n",
       "\n",
       "   EU_sales  JP_sales  Other_sales  Critic_Score User_Score Rating  \n",
       "0     28.96      3.77         8.45          76.0          8      E  \n",
       "1      3.58      6.81         0.77           NaN        NaN    NaN  \n",
       "2     12.76      3.79         3.29          82.0        8.3      E  \n",
       "3     10.93      3.28         2.95          80.0          8      E  \n",
       "4      8.89     10.22         1.00           NaN        NaN    NaN  "
      ]
     },
     "execution_count": 3,
     "metadata": {},
     "output_type": "execute_result"
    }
   ],
   "source": [
    "df.head()"
   ]
  },
  {
   "cell_type": "code",
   "execution_count": 4,
   "metadata": {},
   "outputs": [
    {
     "name": "stdout",
     "output_type": "stream",
     "text": [
      "<class 'pandas.core.frame.DataFrame'>\n",
      "RangeIndex: 16715 entries, 0 to 16714\n",
      "Data columns (total 11 columns):\n",
      " #   Column           Non-Null Count  Dtype  \n",
      "---  ------           --------------  -----  \n",
      " 0   Name             16713 non-null  object \n",
      " 1   Platform         16715 non-null  object \n",
      " 2   Year_of_Release  16446 non-null  float64\n",
      " 3   Genre            16713 non-null  object \n",
      " 4   NA_sales         16715 non-null  float64\n",
      " 5   EU_sales         16715 non-null  float64\n",
      " 6   JP_sales         16715 non-null  float64\n",
      " 7   Other_sales      16715 non-null  float64\n",
      " 8   Critic_Score     8137 non-null   float64\n",
      " 9   User_Score       10014 non-null  object \n",
      " 10  Rating           9949 non-null   object \n",
      "dtypes: float64(6), object(5)\n",
      "memory usage: 1.4+ MB\n"
     ]
    }
   ],
   "source": [
    "df.info()"
   ]
  },
  {
   "cell_type": "markdown",
   "metadata": {},
   "source": [
    "**Файл состоит из 11 столбцов и 16715 строк**"
   ]
  },
  {
   "cell_type": "markdown",
   "metadata": {},
   "source": [
    "**Описание данных:**"
   ]
  },
  {
   "cell_type": "markdown",
   "metadata": {},
   "source": [
    "- Name — название игры\n",
    "- Platform — платформа\n",
    "- Year_of_Release — год выпуска\n",
    "- Genre — жанр игры\n",
    "- NA_sales — продажи в Северной Америке (миллионы проданных копий)\n",
    "- EU_sales — продажи в Европе (миллионы проданных копий)\n",
    "- JP_sales — продажи в Японии (миллионы проданных копий)\n",
    "- Other_sales — продажи в других странах (миллионы проданных копий)\n",
    "- Critic_Score — оценка критиков (максимум 100)\n",
    "- User_Score — оценка пользователей (максимум 10)\n",
    "- Rating — рейтинг от организации ESRB"
   ]
  },
  {
   "cell_type": "markdown",
   "metadata": {},
   "source": [
    "## Шаг. Подготовка данных"
   ]
  },
  {
   "cell_type": "code",
   "execution_count": 5,
   "metadata": {},
   "outputs": [],
   "source": [
    "df.columns=df.columns.str.lower()"
   ]
  },
  {
   "cell_type": "code",
   "execution_count": 6,
   "metadata": {},
   "outputs": [
    {
     "data": {
      "text/plain": [
       "Index(['name', 'platform', 'year_of_release', 'genre', 'na_sales', 'eu_sales',\n",
       "       'jp_sales', 'other_sales', 'critic_score', 'user_score', 'rating'],\n",
       "      dtype='object')"
      ]
     },
     "execution_count": 6,
     "metadata": {},
     "output_type": "execute_result"
    }
   ],
   "source": [
    "df.columns"
   ]
  },
  {
   "cell_type": "markdown",
   "metadata": {},
   "source": [
    "**Нижний регистр применен, теперь посмотрим дубликаты и каждый столбец на наличие пропусков (где они были)**"
   ]
  },
  {
   "cell_type": "markdown",
   "metadata": {},
   "source": [
    "### Дубликаты"
   ]
  },
  {
   "cell_type": "code",
   "execution_count": 7,
   "metadata": {},
   "outputs": [
    {
     "data": {
      "text/plain": [
       "0"
      ]
     },
     "execution_count": 7,
     "metadata": {},
     "output_type": "execute_result"
    }
   ],
   "source": [
    "df.duplicated().sum()"
   ]
  },
  {
   "cell_type": "markdown",
   "metadata": {},
   "source": [
    "**Явных дубликатов не найдено, это хорошо**"
   ]
  },
  {
   "cell_type": "markdown",
   "metadata": {},
   "source": [
    "### Работа с пропусками"
   ]
  },
  {
   "cell_type": "markdown",
   "metadata": {},
   "source": [
    "**Выведим количество пропущенных значений для каждого столбца**"
   ]
  },
  {
   "cell_type": "code",
   "execution_count": 8,
   "metadata": {},
   "outputs": [
    {
     "data": {
      "text/plain": [
       "name                  2\n",
       "platform              0\n",
       "year_of_release     269\n",
       "genre                 2\n",
       "na_sales              0\n",
       "eu_sales              0\n",
       "jp_sales              0\n",
       "other_sales           0\n",
       "critic_score       8578\n",
       "user_score         6701\n",
       "rating             6766\n",
       "dtype: int64"
      ]
     },
     "execution_count": 8,
     "metadata": {},
     "output_type": "execute_result"
    }
   ],
   "source": [
    "df.isnull().sum()"
   ]
  },
  {
   "cell_type": "code",
   "execution_count": 9,
   "metadata": {},
   "outputs": [
    {
     "data": {
      "text/plain": [
       "array([2006., 1985., 2008., 2009., 1996., 1989., 1984., 2005., 1999.,\n",
       "       2007., 2010., 2013., 2004., 1990., 1988., 2002., 2001., 2011.,\n",
       "       1998., 2015., 2012., 2014., 1992., 1997., 1993., 1994., 1982.,\n",
       "       2016., 2003., 1986., 2000.,   nan, 1995., 1991., 1981., 1987.,\n",
       "       1980., 1983.])"
      ]
     },
     "metadata": {},
     "output_type": "display_data"
    },
    {
     "data": {
      "text/plain": [
       "array(['Sports', 'Platform', 'Racing', 'Role-Playing', 'Puzzle', 'Misc',\n",
       "       'Shooter', 'Simulation', 'Action', 'Fighting', 'Adventure',\n",
       "       'Strategy', nan], dtype=object)"
      ]
     },
     "metadata": {},
     "output_type": "display_data"
    },
    {
     "data": {
      "text/plain": [
       "array([76., nan, 82., 80., 89., 58., 87., 91., 61., 97., 95., 77., 88.,\n",
       "       83., 94., 93., 85., 86., 98., 96., 90., 84., 73., 74., 78., 92.,\n",
       "       71., 72., 68., 62., 49., 67., 81., 66., 56., 79., 70., 59., 64.,\n",
       "       75., 60., 63., 69., 50., 25., 42., 44., 55., 48., 57., 29., 47.,\n",
       "       65., 54., 20., 53., 37., 38., 33., 52., 30., 32., 43., 45., 51.,\n",
       "       40., 46., 39., 34., 35., 41., 36., 28., 31., 27., 26., 19., 23.,\n",
       "       24., 21., 17., 22., 13.])"
      ]
     },
     "metadata": {},
     "output_type": "display_data"
    },
    {
     "data": {
      "text/plain": [
       "array(['8', nan, '8.3', '8.5', '6.6', '8.4', '8.6', '7.7', '6.3', '7.4',\n",
       "       '8.2', '9', '7.9', '8.1', '8.7', '7.1', '3.4', '5.3', '4.8', '3.2',\n",
       "       '8.9', '6.4', '7.8', '7.5', '2.6', '7.2', '9.2', '7', '7.3', '4.3',\n",
       "       '7.6', '5.7', '5', '9.1', '6.5', 'tbd', '8.8', '6.9', '9.4', '6.8',\n",
       "       '6.1', '6.7', '5.4', '4', '4.9', '4.5', '9.3', '6.2', '4.2', '6',\n",
       "       '3.7', '4.1', '5.8', '5.6', '5.5', '4.4', '4.6', '5.9', '3.9',\n",
       "       '3.1', '2.9', '5.2', '3.3', '4.7', '5.1', '3.5', '2.5', '1.9', '3',\n",
       "       '2.7', '2.2', '2', '9.5', '2.1', '3.6', '2.8', '1.8', '3.8', '0',\n",
       "       '1.6', '9.6', '2.4', '1.7', '1.1', '0.3', '1.5', '0.7', '1.2',\n",
       "       '2.3', '0.5', '1.3', '0.2', '0.6', '1.4', '0.9', '1', '9.7'],\n",
       "      dtype=object)"
      ]
     },
     "metadata": {},
     "output_type": "display_data"
    },
    {
     "data": {
      "text/plain": [
       "array(['E', nan, 'M', 'T', 'E10+', 'K-A', 'AO', 'EC', 'RP'], dtype=object)"
      ]
     },
     "metadata": {},
     "output_type": "display_data"
    }
   ],
   "source": [
    "display(df['year_of_release'].unique())\n",
    "display(df['genre'].unique())\n",
    "display(df['critic_score'].unique())\n",
    "display(df['user_score'].unique())\n",
    "display(df['rating'].unique())"
   ]
  },
  {
   "cell_type": "markdown",
   "metadata": {},
   "source": [
    "#### name"
   ]
  },
  {
   "cell_type": "code",
   "execution_count": 10,
   "metadata": {},
   "outputs": [
    {
     "data": {
      "text/plain": [
       "2"
      ]
     },
     "execution_count": 10,
     "metadata": {},
     "output_type": "execute_result"
    }
   ],
   "source": [
    "df['name'].isnull().sum()"
   ]
  },
  {
   "cell_type": "code",
   "execution_count": 11,
   "metadata": {},
   "outputs": [
    {
     "data": {
      "text/html": [
       "<div>\n",
       "<style scoped>\n",
       "    .dataframe tbody tr th:only-of-type {\n",
       "        vertical-align: middle;\n",
       "    }\n",
       "\n",
       "    .dataframe tbody tr th {\n",
       "        vertical-align: top;\n",
       "    }\n",
       "\n",
       "    .dataframe thead th {\n",
       "        text-align: right;\n",
       "    }\n",
       "</style>\n",
       "<table border=\"1\" class=\"dataframe\">\n",
       "  <thead>\n",
       "    <tr style=\"text-align: right;\">\n",
       "      <th></th>\n",
       "      <th>name</th>\n",
       "      <th>platform</th>\n",
       "      <th>year_of_release</th>\n",
       "      <th>genre</th>\n",
       "      <th>na_sales</th>\n",
       "      <th>eu_sales</th>\n",
       "      <th>jp_sales</th>\n",
       "      <th>other_sales</th>\n",
       "      <th>critic_score</th>\n",
       "      <th>user_score</th>\n",
       "      <th>rating</th>\n",
       "    </tr>\n",
       "  </thead>\n",
       "  <tbody>\n",
       "    <tr>\n",
       "      <th>659</th>\n",
       "      <td>NaN</td>\n",
       "      <td>GEN</td>\n",
       "      <td>1993.0</td>\n",
       "      <td>NaN</td>\n",
       "      <td>1.78</td>\n",
       "      <td>0.53</td>\n",
       "      <td>0.00</td>\n",
       "      <td>0.08</td>\n",
       "      <td>NaN</td>\n",
       "      <td>NaN</td>\n",
       "      <td>NaN</td>\n",
       "    </tr>\n",
       "    <tr>\n",
       "      <th>14244</th>\n",
       "      <td>NaN</td>\n",
       "      <td>GEN</td>\n",
       "      <td>1993.0</td>\n",
       "      <td>NaN</td>\n",
       "      <td>0.00</td>\n",
       "      <td>0.00</td>\n",
       "      <td>0.03</td>\n",
       "      <td>0.00</td>\n",
       "      <td>NaN</td>\n",
       "      <td>NaN</td>\n",
       "      <td>NaN</td>\n",
       "    </tr>\n",
       "  </tbody>\n",
       "</table>\n",
       "</div>"
      ],
      "text/plain": [
       "      name platform  year_of_release genre  na_sales  eu_sales  jp_sales  \\\n",
       "659    NaN      GEN           1993.0   NaN      1.78      0.53      0.00   \n",
       "14244  NaN      GEN           1993.0   NaN      0.00      0.00      0.03   \n",
       "\n",
       "       other_sales  critic_score user_score rating  \n",
       "659           0.08           NaN        NaN    NaN  \n",
       "14244         0.00           NaN        NaN    NaN  "
      ]
     },
     "execution_count": 11,
     "metadata": {},
     "output_type": "execute_result"
    }
   ],
   "source": [
    "df.loc[df['name'].isnull()]"
   ]
  },
  {
   "cell_type": "markdown",
   "metadata": {},
   "source": [
    "**Платформа одна и та же, пропусков в этих строках можно, данные почти нулевые, удаляем, на общую картину это не повлеяет**"
   ]
  },
  {
   "cell_type": "code",
   "execution_count": 12,
   "metadata": {},
   "outputs": [],
   "source": [
    "df=df.dropna(subset=['name'])"
   ]
  },
  {
   "cell_type": "markdown",
   "metadata": {},
   "source": [
    "#### platform"
   ]
  },
  {
   "cell_type": "markdown",
   "metadata": {},
   "source": [
    "**platform - пропусков нет, проверим уникальные значения**"
   ]
  },
  {
   "cell_type": "code",
   "execution_count": 13,
   "metadata": {},
   "outputs": [
    {
     "data": {
      "text/plain": [
       "array(['Wii', 'NES', 'GB', 'DS', 'X360', 'PS3', 'PS2', 'SNES', 'GBA',\n",
       "       'PS4', '3DS', 'N64', 'PS', 'XB', 'PC', '2600', 'PSP', 'XOne',\n",
       "       'WiiU', 'GC', 'GEN', 'DC', 'PSV', 'SAT', 'SCD', 'WS', 'NG', 'TG16',\n",
       "       '3DO', 'GG', 'PCFX'], dtype=object)"
      ]
     },
     "execution_count": 13,
     "metadata": {},
     "output_type": "execute_result"
    }
   ],
   "source": [
    "df['platform'].unique()"
   ]
  },
  {
   "cell_type": "markdown",
   "metadata": {},
   "source": [
    "#### year_of_release"
   ]
  },
  {
   "cell_type": "code",
   "execution_count": 14,
   "metadata": {},
   "outputs": [
    {
     "data": {
      "text/plain": [
       "269"
      ]
     },
     "execution_count": 14,
     "metadata": {},
     "output_type": "execute_result"
    }
   ],
   "source": [
    "df['year_of_release'].isnull().sum()"
   ]
  },
  {
   "cell_type": "code",
   "execution_count": 15,
   "metadata": {},
   "outputs": [
    {
     "data": {
      "text/html": [
       "<div>\n",
       "<style scoped>\n",
       "    .dataframe tbody tr th:only-of-type {\n",
       "        vertical-align: middle;\n",
       "    }\n",
       "\n",
       "    .dataframe tbody tr th {\n",
       "        vertical-align: top;\n",
       "    }\n",
       "\n",
       "    .dataframe thead th {\n",
       "        text-align: right;\n",
       "    }\n",
       "</style>\n",
       "<table border=\"1\" class=\"dataframe\">\n",
       "  <thead>\n",
       "    <tr style=\"text-align: right;\">\n",
       "      <th></th>\n",
       "      <th>name</th>\n",
       "      <th>platform</th>\n",
       "      <th>year_of_release</th>\n",
       "      <th>genre</th>\n",
       "      <th>na_sales</th>\n",
       "      <th>eu_sales</th>\n",
       "      <th>jp_sales</th>\n",
       "      <th>other_sales</th>\n",
       "      <th>critic_score</th>\n",
       "      <th>user_score</th>\n",
       "      <th>rating</th>\n",
       "    </tr>\n",
       "  </thead>\n",
       "  <tbody>\n",
       "    <tr>\n",
       "      <th>183</th>\n",
       "      <td>Madden NFL 2004</td>\n",
       "      <td>PS2</td>\n",
       "      <td>NaN</td>\n",
       "      <td>Sports</td>\n",
       "      <td>4.26</td>\n",
       "      <td>0.26</td>\n",
       "      <td>0.01</td>\n",
       "      <td>0.71</td>\n",
       "      <td>94.0</td>\n",
       "      <td>8.5</td>\n",
       "      <td>E</td>\n",
       "    </tr>\n",
       "    <tr>\n",
       "      <th>377</th>\n",
       "      <td>FIFA Soccer 2004</td>\n",
       "      <td>PS2</td>\n",
       "      <td>NaN</td>\n",
       "      <td>Sports</td>\n",
       "      <td>0.59</td>\n",
       "      <td>2.36</td>\n",
       "      <td>0.04</td>\n",
       "      <td>0.51</td>\n",
       "      <td>84.0</td>\n",
       "      <td>6.4</td>\n",
       "      <td>E</td>\n",
       "    </tr>\n",
       "    <tr>\n",
       "      <th>456</th>\n",
       "      <td>LEGO Batman: The Videogame</td>\n",
       "      <td>Wii</td>\n",
       "      <td>NaN</td>\n",
       "      <td>Action</td>\n",
       "      <td>1.80</td>\n",
       "      <td>0.97</td>\n",
       "      <td>0.00</td>\n",
       "      <td>0.29</td>\n",
       "      <td>74.0</td>\n",
       "      <td>7.9</td>\n",
       "      <td>E10+</td>\n",
       "    </tr>\n",
       "    <tr>\n",
       "      <th>475</th>\n",
       "      <td>wwe Smackdown vs. Raw 2006</td>\n",
       "      <td>PS2</td>\n",
       "      <td>NaN</td>\n",
       "      <td>Fighting</td>\n",
       "      <td>1.57</td>\n",
       "      <td>1.02</td>\n",
       "      <td>0.00</td>\n",
       "      <td>0.41</td>\n",
       "      <td>NaN</td>\n",
       "      <td>NaN</td>\n",
       "      <td>NaN</td>\n",
       "    </tr>\n",
       "    <tr>\n",
       "      <th>609</th>\n",
       "      <td>Space Invaders</td>\n",
       "      <td>2600</td>\n",
       "      <td>NaN</td>\n",
       "      <td>Shooter</td>\n",
       "      <td>2.36</td>\n",
       "      <td>0.14</td>\n",
       "      <td>0.00</td>\n",
       "      <td>0.03</td>\n",
       "      <td>NaN</td>\n",
       "      <td>NaN</td>\n",
       "      <td>NaN</td>\n",
       "    </tr>\n",
       "    <tr>\n",
       "      <th>627</th>\n",
       "      <td>Rock Band</td>\n",
       "      <td>X360</td>\n",
       "      <td>NaN</td>\n",
       "      <td>Misc</td>\n",
       "      <td>1.93</td>\n",
       "      <td>0.33</td>\n",
       "      <td>0.00</td>\n",
       "      <td>0.21</td>\n",
       "      <td>92.0</td>\n",
       "      <td>8.2</td>\n",
       "      <td>T</td>\n",
       "    </tr>\n",
       "    <tr>\n",
       "      <th>657</th>\n",
       "      <td>Frogger's Adventures: Temple of the Frog</td>\n",
       "      <td>GBA</td>\n",
       "      <td>NaN</td>\n",
       "      <td>Adventure</td>\n",
       "      <td>2.15</td>\n",
       "      <td>0.18</td>\n",
       "      <td>0.00</td>\n",
       "      <td>0.07</td>\n",
       "      <td>73.0</td>\n",
       "      <td>tbd</td>\n",
       "      <td>E</td>\n",
       "    </tr>\n",
       "    <tr>\n",
       "      <th>678</th>\n",
       "      <td>LEGO Indiana Jones: The Original Adventures</td>\n",
       "      <td>Wii</td>\n",
       "      <td>NaN</td>\n",
       "      <td>Action</td>\n",
       "      <td>1.51</td>\n",
       "      <td>0.61</td>\n",
       "      <td>0.00</td>\n",
       "      <td>0.21</td>\n",
       "      <td>78.0</td>\n",
       "      <td>6.6</td>\n",
       "      <td>E10+</td>\n",
       "    </tr>\n",
       "    <tr>\n",
       "      <th>719</th>\n",
       "      <td>Call of Duty 3</td>\n",
       "      <td>Wii</td>\n",
       "      <td>NaN</td>\n",
       "      <td>Shooter</td>\n",
       "      <td>1.17</td>\n",
       "      <td>0.84</td>\n",
       "      <td>0.00</td>\n",
       "      <td>0.23</td>\n",
       "      <td>69.0</td>\n",
       "      <td>6.7</td>\n",
       "      <td>T</td>\n",
       "    </tr>\n",
       "    <tr>\n",
       "      <th>805</th>\n",
       "      <td>Rock Band</td>\n",
       "      <td>Wii</td>\n",
       "      <td>NaN</td>\n",
       "      <td>Misc</td>\n",
       "      <td>1.33</td>\n",
       "      <td>0.56</td>\n",
       "      <td>0.00</td>\n",
       "      <td>0.20</td>\n",
       "      <td>80.0</td>\n",
       "      <td>6.3</td>\n",
       "      <td>T</td>\n",
       "    </tr>\n",
       "  </tbody>\n",
       "</table>\n",
       "</div>"
      ],
      "text/plain": [
       "                                            name platform  year_of_release  \\\n",
       "183                              Madden NFL 2004      PS2              NaN   \n",
       "377                             FIFA Soccer 2004      PS2              NaN   \n",
       "456                   LEGO Batman: The Videogame      Wii              NaN   \n",
       "475                   wwe Smackdown vs. Raw 2006      PS2              NaN   \n",
       "609                               Space Invaders     2600              NaN   \n",
       "627                                    Rock Band     X360              NaN   \n",
       "657     Frogger's Adventures: Temple of the Frog      GBA              NaN   \n",
       "678  LEGO Indiana Jones: The Original Adventures      Wii              NaN   \n",
       "719                               Call of Duty 3      Wii              NaN   \n",
       "805                                    Rock Band      Wii              NaN   \n",
       "\n",
       "         genre  na_sales  eu_sales  jp_sales  other_sales  critic_score  \\\n",
       "183     Sports      4.26      0.26      0.01         0.71          94.0   \n",
       "377     Sports      0.59      2.36      0.04         0.51          84.0   \n",
       "456     Action      1.80      0.97      0.00         0.29          74.0   \n",
       "475   Fighting      1.57      1.02      0.00         0.41           NaN   \n",
       "609    Shooter      2.36      0.14      0.00         0.03           NaN   \n",
       "627       Misc      1.93      0.33      0.00         0.21          92.0   \n",
       "657  Adventure      2.15      0.18      0.00         0.07          73.0   \n",
       "678     Action      1.51      0.61      0.00         0.21          78.0   \n",
       "719    Shooter      1.17      0.84      0.00         0.23          69.0   \n",
       "805       Misc      1.33      0.56      0.00         0.20          80.0   \n",
       "\n",
       "    user_score rating  \n",
       "183        8.5      E  \n",
       "377        6.4      E  \n",
       "456        7.9   E10+  \n",
       "475        NaN    NaN  \n",
       "609        NaN    NaN  \n",
       "627        8.2      T  \n",
       "657        tbd      E  \n",
       "678        6.6   E10+  \n",
       "719        6.7      T  \n",
       "805        6.3      T  "
      ]
     },
     "execution_count": 15,
     "metadata": {},
     "output_type": "execute_result"
    }
   ],
   "source": [
    "df.loc[df['year_of_release'].isnull()].head(10)"
   ]
  },
  {
   "cell_type": "markdown",
   "metadata": {},
   "source": [
    "**Пропусков 269, сначала хотел заменить на среднее, а потом понял, что игра с годом в названии может получить совершенно другое среднее, это будет странно. 269 не такое большое количество данных, удалим**"
   ]
  },
  {
   "cell_type": "code",
   "execution_count": 16,
   "metadata": {},
   "outputs": [],
   "source": [
    "df=df.dropna(subset=['year_of_release'])"
   ]
  },
  {
   "cell_type": "code",
   "execution_count": 17,
   "metadata": {},
   "outputs": [
    {
     "data": {
      "text/plain": [
       "0"
      ]
     },
     "execution_count": 17,
     "metadata": {},
     "output_type": "execute_result"
    }
   ],
   "source": [
    "df['year_of_release'].isna().sum()"
   ]
  },
  {
   "cell_type": "markdown",
   "metadata": {},
   "source": [
    "**Поменяем тип данных столбца**"
   ]
  },
  {
   "cell_type": "code",
   "execution_count": 18,
   "metadata": {},
   "outputs": [],
   "source": [
    "df['year_of_release'] = df['year_of_release'].astype(int)"
   ]
  },
  {
   "cell_type": "markdown",
   "metadata": {},
   "source": [
    "#### genre"
   ]
  },
  {
   "cell_type": "markdown",
   "metadata": {},
   "source": [
    "**Для удобства и на всякий случай приведем к нижнему регистру**"
   ]
  },
  {
   "cell_type": "code",
   "execution_count": 19,
   "metadata": {},
   "outputs": [],
   "source": [
    "df['genre'] = df['genre'].str.lower()"
   ]
  },
  {
   "cell_type": "code",
   "execution_count": 20,
   "metadata": {},
   "outputs": [
    {
     "data": {
      "text/plain": [
       "array(['sports', 'platform', 'racing', 'role-playing', 'puzzle', 'misc',\n",
       "       'shooter', 'simulation', 'action', 'fighting', 'adventure',\n",
       "       'strategy'], dtype=object)"
      ]
     },
     "execution_count": 20,
     "metadata": {},
     "output_type": "execute_result"
    }
   ],
   "source": [
    " df['genre'].unique()"
   ]
  },
  {
   "cell_type": "code",
   "execution_count": 21,
   "metadata": {},
   "outputs": [
    {
     "data": {
      "text/plain": [
       "0"
      ]
     },
     "execution_count": 21,
     "metadata": {},
     "output_type": "execute_result"
    }
   ],
   "source": [
    "df['genre'].isnull().sum()"
   ]
  },
  {
   "cell_type": "markdown",
   "metadata": {},
   "source": [
    "**Было 2 пропуска, видимо они совпали с пропусками в name и были удалены, отлично**"
   ]
  },
  {
   "cell_type": "markdown",
   "metadata": {},
   "source": [
    "#### critic_score"
   ]
  },
  {
   "cell_type": "code",
   "execution_count": 22,
   "metadata": {},
   "outputs": [
    {
     "data": {
      "text/plain": [
       "8461"
      ]
     },
     "execution_count": 22,
     "metadata": {},
     "output_type": "execute_result"
    }
   ],
   "source": [
    "df['critic_score'].isnull().sum()"
   ]
  },
  {
   "cell_type": "code",
   "execution_count": 23,
   "metadata": {},
   "outputs": [
    {
     "data": {
      "text/plain": [
       "array([76., nan, 82., 80., 89., 58., 87., 91., 61., 97., 95., 77., 88.,\n",
       "       83., 94., 93., 85., 86., 98., 96., 90., 84., 73., 74., 78., 92.,\n",
       "       71., 72., 68., 62., 49., 67., 81., 66., 56., 79., 70., 59., 64.,\n",
       "       75., 60., 63., 69., 50., 25., 42., 44., 55., 48., 57., 29., 47.,\n",
       "       65., 54., 20., 53., 37., 38., 33., 52., 30., 32., 43., 45., 51.,\n",
       "       40., 46., 39., 34., 41., 36., 31., 27., 35., 26., 19., 28., 23.,\n",
       "       24., 21., 17., 13.])"
      ]
     },
     "execution_count": 23,
     "metadata": {},
     "output_type": "execute_result"
    }
   ],
   "source": [
    "df['critic_score'].unique()"
   ]
  },
  {
   "cell_type": "markdown",
   "metadata": {},
   "source": [
    "**Заменим пропущеные значения на на заглушку -1, в дальнейших расчетах ее не будем использовать**"
   ]
  },
  {
   "cell_type": "code",
   "execution_count": 24,
   "metadata": {},
   "outputs": [],
   "source": [
    "df.loc[df['critic_score'].isna(), 'critic_score'] = -1"
   ]
  },
  {
   "cell_type": "code",
   "execution_count": 25,
   "metadata": {
    "scrolled": true
   },
   "outputs": [
    {
     "data": {
      "text/plain": [
       "array([76., -1., 82., 80., 89., 58., 87., 91., 61., 97., 95., 77., 88.,\n",
       "       83., 94., 93., 85., 86., 98., 96., 90., 84., 73., 74., 78., 92.,\n",
       "       71., 72., 68., 62., 49., 67., 81., 66., 56., 79., 70., 59., 64.,\n",
       "       75., 60., 63., 69., 50., 25., 42., 44., 55., 48., 57., 29., 47.,\n",
       "       65., 54., 20., 53., 37., 38., 33., 52., 30., 32., 43., 45., 51.,\n",
       "       40., 46., 39., 34., 41., 36., 31., 27., 35., 26., 19., 28., 23.,\n",
       "       24., 21., 17., 13.])"
      ]
     },
     "execution_count": 25,
     "metadata": {},
     "output_type": "execute_result"
    }
   ],
   "source": [
    "df['critic_score'].unique()"
   ]
  },
  {
   "cell_type": "code",
   "execution_count": 26,
   "metadata": {},
   "outputs": [
    {
     "data": {
      "text/plain": [
       "0"
      ]
     },
     "execution_count": 26,
     "metadata": {},
     "output_type": "execute_result"
    }
   ],
   "source": [
    "df['critic_score'].isnull().sum()"
   ]
  },
  {
   "cell_type": "markdown",
   "metadata": {},
   "source": [
    "#### user_score"
   ]
  },
  {
   "cell_type": "code",
   "execution_count": 27,
   "metadata": {},
   "outputs": [
    {
     "data": {
      "text/plain": [
       "6605"
      ]
     },
     "execution_count": 27,
     "metadata": {},
     "output_type": "execute_result"
    }
   ],
   "source": [
    "df['user_score'].isnull().sum()"
   ]
  },
  {
   "cell_type": "code",
   "execution_count": 28,
   "metadata": {},
   "outputs": [
    {
     "data": {
      "text/plain": [
       "array(['8', nan, '8.3', '8.5', '6.6', '8.4', '8.6', '7.7', '6.3', '7.4',\n",
       "       '8.2', '9', '7.9', '8.1', '8.7', '7.1', '3.4', '5.3', '4.8', '3.2',\n",
       "       '8.9', '6.4', '7.8', '7.5', '2.6', '7.2', '9.2', '7', '7.3', '4.3',\n",
       "       '7.6', '5.7', '5', '9.1', '6.5', 'tbd', '8.8', '6.9', '9.4', '6.8',\n",
       "       '6.1', '6.7', '5.4', '4', '4.9', '4.5', '9.3', '6.2', '4.2', '6',\n",
       "       '3.7', '4.1', '5.8', '5.6', '5.5', '4.4', '4.6', '5.9', '3.9',\n",
       "       '3.1', '2.9', '5.2', '3.3', '4.7', '5.1', '3.5', '2.5', '1.9', '3',\n",
       "       '2.7', '2.2', '2', '9.5', '2.1', '3.6', '2.8', '1.8', '3.8', '0',\n",
       "       '1.6', '9.6', '2.4', '1.7', '1.1', '0.3', '1.5', '0.7', '1.2',\n",
       "       '2.3', '0.5', '1.3', '0.2', '0.6', '1.4', '0.9', '1', '9.7'],\n",
       "      dtype=object)"
      ]
     },
     "execution_count": 28,
     "metadata": {},
     "output_type": "execute_result"
    }
   ],
   "source": [
    "df['user_score'].unique()"
   ]
  },
  {
   "cell_type": "code",
   "execution_count": 29,
   "metadata": {},
   "outputs": [
    {
     "data": {
      "text/plain": [
       "tbd    2376\n",
       "7.8     322\n",
       "8       285\n",
       "8.2     276\n",
       "8.3     252\n",
       "       ... \n",
       "1         2\n",
       "0.7       2\n",
       "2.3       2\n",
       "0         1\n",
       "9.7       1\n",
       "Name: user_score, Length: 96, dtype: int64"
      ]
     },
     "execution_count": 29,
     "metadata": {},
     "output_type": "execute_result"
    }
   ],
   "source": [
    "df['user_score'].value_counts()"
   ]
  },
  {
   "cell_type": "markdown",
   "metadata": {},
   "source": [
    "**tbd - \"To be announced\" (Будет аннонсировано), значит рейтинга нет, приравниваем к заглушке -1 (как и пропуски) и меяем тип на вещественный**"
   ]
  },
  {
   "cell_type": "code",
   "execution_count": 30,
   "metadata": {},
   "outputs": [],
   "source": [
    "df.loc[(df['user_score'] == 'tbd') | (df['user_score'].isna()), 'user_score'] = -1\n",
    "df['user_score'] = pd.to_numeric(df['user_score'])"
   ]
  },
  {
   "cell_type": "code",
   "execution_count": 31,
   "metadata": {},
   "outputs": [
    {
     "data": {
      "text/plain": [
       "array([ 8. , -1. ,  8.3,  8.5,  6.6,  8.4,  8.6,  7.7,  6.3,  7.4,  8.2,\n",
       "        9. ,  7.9,  8.1,  8.7,  7.1,  3.4,  5.3,  4.8,  3.2,  8.9,  6.4,\n",
       "        7.8,  7.5,  2.6,  7.2,  9.2,  7. ,  7.3,  4.3,  7.6,  5.7,  5. ,\n",
       "        9.1,  6.5,  8.8,  6.9,  9.4,  6.8,  6.1,  6.7,  5.4,  4. ,  4.9,\n",
       "        4.5,  9.3,  6.2,  4.2,  6. ,  3.7,  4.1,  5.8,  5.6,  5.5,  4.4,\n",
       "        4.6,  5.9,  3.9,  3.1,  2.9,  5.2,  3.3,  4.7,  5.1,  3.5,  2.5,\n",
       "        1.9,  3. ,  2.7,  2.2,  2. ,  9.5,  2.1,  3.6,  2.8,  1.8,  3.8,\n",
       "        0. ,  1.6,  9.6,  2.4,  1.7,  1.1,  0.3,  1.5,  0.7,  1.2,  2.3,\n",
       "        0.5,  1.3,  0.2,  0.6,  1.4,  0.9,  1. ,  9.7])"
      ]
     },
     "execution_count": 31,
     "metadata": {},
     "output_type": "execute_result"
    }
   ],
   "source": [
    "df['user_score'].unique()"
   ]
  },
  {
   "cell_type": "code",
   "execution_count": 32,
   "metadata": {},
   "outputs": [
    {
     "data": {
      "text/plain": [
       "0"
      ]
     },
     "execution_count": 32,
     "metadata": {},
     "output_type": "execute_result"
    }
   ],
   "source": [
    "df['user_score'].isnull().sum()"
   ]
  },
  {
   "cell_type": "markdown",
   "metadata": {},
   "source": [
    "**Отлично! В оценках пользователей и критиков пропусков нет, идем дальше**"
   ]
  },
  {
   "cell_type": "markdown",
   "metadata": {},
   "source": [
    "#### rating"
   ]
  },
  {
   "cell_type": "code",
   "execution_count": 33,
   "metadata": {},
   "outputs": [
    {
     "data": {
      "text/plain": [
       "6676"
      ]
     },
     "execution_count": 33,
     "metadata": {},
     "output_type": "execute_result"
    }
   ],
   "source": [
    "df['rating'].isna().sum()"
   ]
  },
  {
   "cell_type": "code",
   "execution_count": 34,
   "metadata": {},
   "outputs": [
    {
     "data": {
      "text/html": [
       "<div>\n",
       "<style scoped>\n",
       "    .dataframe tbody tr th:only-of-type {\n",
       "        vertical-align: middle;\n",
       "    }\n",
       "\n",
       "    .dataframe tbody tr th {\n",
       "        vertical-align: top;\n",
       "    }\n",
       "\n",
       "    .dataframe thead th {\n",
       "        text-align: right;\n",
       "    }\n",
       "</style>\n",
       "<table border=\"1\" class=\"dataframe\">\n",
       "  <thead>\n",
       "    <tr style=\"text-align: right;\">\n",
       "      <th></th>\n",
       "      <th>name</th>\n",
       "      <th>platform</th>\n",
       "      <th>year_of_release</th>\n",
       "      <th>genre</th>\n",
       "      <th>na_sales</th>\n",
       "      <th>eu_sales</th>\n",
       "      <th>jp_sales</th>\n",
       "      <th>other_sales</th>\n",
       "      <th>critic_score</th>\n",
       "      <th>user_score</th>\n",
       "      <th>rating</th>\n",
       "    </tr>\n",
       "  </thead>\n",
       "  <tbody>\n",
       "    <tr>\n",
       "      <th>1</th>\n",
       "      <td>Super Mario Bros.</td>\n",
       "      <td>NES</td>\n",
       "      <td>1985</td>\n",
       "      <td>platform</td>\n",
       "      <td>29.08</td>\n",
       "      <td>3.58</td>\n",
       "      <td>6.81</td>\n",
       "      <td>0.77</td>\n",
       "      <td>-1.0</td>\n",
       "      <td>-1.0</td>\n",
       "      <td>NaN</td>\n",
       "    </tr>\n",
       "    <tr>\n",
       "      <th>4</th>\n",
       "      <td>Pokemon Red/Pokemon Blue</td>\n",
       "      <td>GB</td>\n",
       "      <td>1996</td>\n",
       "      <td>role-playing</td>\n",
       "      <td>11.27</td>\n",
       "      <td>8.89</td>\n",
       "      <td>10.22</td>\n",
       "      <td>1.00</td>\n",
       "      <td>-1.0</td>\n",
       "      <td>-1.0</td>\n",
       "      <td>NaN</td>\n",
       "    </tr>\n",
       "    <tr>\n",
       "      <th>5</th>\n",
       "      <td>Tetris</td>\n",
       "      <td>GB</td>\n",
       "      <td>1989</td>\n",
       "      <td>puzzle</td>\n",
       "      <td>23.20</td>\n",
       "      <td>2.26</td>\n",
       "      <td>4.22</td>\n",
       "      <td>0.58</td>\n",
       "      <td>-1.0</td>\n",
       "      <td>-1.0</td>\n",
       "      <td>NaN</td>\n",
       "    </tr>\n",
       "    <tr>\n",
       "      <th>9</th>\n",
       "      <td>Duck Hunt</td>\n",
       "      <td>NES</td>\n",
       "      <td>1984</td>\n",
       "      <td>shooter</td>\n",
       "      <td>26.93</td>\n",
       "      <td>0.63</td>\n",
       "      <td>0.28</td>\n",
       "      <td>0.47</td>\n",
       "      <td>-1.0</td>\n",
       "      <td>-1.0</td>\n",
       "      <td>NaN</td>\n",
       "    </tr>\n",
       "    <tr>\n",
       "      <th>10</th>\n",
       "      <td>Nintendogs</td>\n",
       "      <td>DS</td>\n",
       "      <td>2005</td>\n",
       "      <td>simulation</td>\n",
       "      <td>9.05</td>\n",
       "      <td>10.95</td>\n",
       "      <td>1.93</td>\n",
       "      <td>2.74</td>\n",
       "      <td>-1.0</td>\n",
       "      <td>-1.0</td>\n",
       "      <td>NaN</td>\n",
       "    </tr>\n",
       "  </tbody>\n",
       "</table>\n",
       "</div>"
      ],
      "text/plain": [
       "                        name platform  year_of_release         genre  \\\n",
       "1          Super Mario Bros.      NES             1985      platform   \n",
       "4   Pokemon Red/Pokemon Blue       GB             1996  role-playing   \n",
       "5                     Tetris       GB             1989        puzzle   \n",
       "9                  Duck Hunt      NES             1984       shooter   \n",
       "10                Nintendogs       DS             2005    simulation   \n",
       "\n",
       "    na_sales  eu_sales  jp_sales  other_sales  critic_score  user_score rating  \n",
       "1      29.08      3.58      6.81         0.77          -1.0        -1.0    NaN  \n",
       "4      11.27      8.89     10.22         1.00          -1.0        -1.0    NaN  \n",
       "5      23.20      2.26      4.22         0.58          -1.0        -1.0    NaN  \n",
       "9      26.93      0.63      0.28         0.47          -1.0        -1.0    NaN  \n",
       "10      9.05     10.95      1.93         2.74          -1.0        -1.0    NaN  "
      ]
     },
     "execution_count": 34,
     "metadata": {},
     "output_type": "execute_result"
    }
   ],
   "source": [
    "df[df['rating'].isna()].head()"
   ]
  },
  {
   "cell_type": "code",
   "execution_count": 35,
   "metadata": {},
   "outputs": [
    {
     "data": {
      "text/plain": [
       "E       3921\n",
       "T       2905\n",
       "M       1536\n",
       "E10+    1393\n",
       "EC         8\n",
       "K-A        3\n",
       "AO         1\n",
       "RP         1\n",
       "Name: rating, dtype: int64"
      ]
     },
     "execution_count": 35,
     "metadata": {},
     "output_type": "execute_result"
    }
   ],
   "source": [
    "df['rating'].value_counts()"
   ]
  },
  {
   "cell_type": "markdown",
   "metadata": {},
   "source": [
    "**Entertainment Software Rating Board (ESRB)**\n",
    "- «EC» («Early childhood») — «Для детей младшего возраста»\n",
    "- «E» («Everyone») — «Для всех»\n",
    "- «E10+» («Everyone 10 and older») — «Для всех от 10 лет и старше»\n",
    "- «T» («Teen») — «Подросткам»\n",
    "- «M» («Mature») — «Для взрослых»\n",
    "- «AO» («Adults Only 18+») — «Только для взрослых»\n",
    "- «RP» («Rating Pending») — «Рейтинг ожидается»"
   ]
  },
  {
   "cell_type": "markdown",
   "metadata": {},
   "source": [
    "**Такого рейтинга как K-A нет, «Kids to Adults» был переименован в «E10+»**"
   ]
  },
  {
   "cell_type": "code",
   "execution_count": 36,
   "metadata": {},
   "outputs": [],
   "source": [
    "df['rating'] = df['rating'].replace('K-A', 'E10+')"
   ]
  },
  {
   "cell_type": "code",
   "execution_count": 37,
   "metadata": {},
   "outputs": [
    {
     "data": {
      "text/plain": [
       "E       3921\n",
       "T       2905\n",
       "M       1536\n",
       "E10+    1396\n",
       "EC         8\n",
       "AO         1\n",
       "RP         1\n",
       "Name: rating, dtype: int64"
      ]
     },
     "execution_count": 37,
     "metadata": {},
     "output_type": "execute_result"
    }
   ],
   "source": [
    "df['rating'].value_counts()"
   ]
  },
  {
   "cell_type": "markdown",
   "metadata": {},
   "source": [
    "**Мы не сможем понять возрастное ограничение, если не будем знать его точно, для дальнейших расчетов он не нужен, 6676 строк удалять тоже не стоит, так что заменим пропуски на \"неопределен\"**"
   ]
  },
  {
   "cell_type": "code",
   "execution_count": 38,
   "metadata": {},
   "outputs": [],
   "source": [
    "df['rating'] = df['rating'].fillna('неопределен')"
   ]
  },
  {
   "cell_type": "code",
   "execution_count": 39,
   "metadata": {},
   "outputs": [
    {
     "data": {
      "text/plain": [
       "0"
      ]
     },
     "execution_count": 39,
     "metadata": {},
     "output_type": "execute_result"
    }
   ],
   "source": [
    "df['rating'].isnull().sum()"
   ]
  },
  {
   "cell_type": "markdown",
   "metadata": {},
   "source": [
    "#### Формат данных"
   ]
  },
  {
   "cell_type": "markdown",
   "metadata": {},
   "source": [
    "**После предобработки данных в ячейках, проверим, все ли перевели в корректный формат**"
   ]
  },
  {
   "cell_type": "code",
   "execution_count": 40,
   "metadata": {},
   "outputs": [
    {
     "name": "stdout",
     "output_type": "stream",
     "text": [
      "<class 'pandas.core.frame.DataFrame'>\n",
      "Int64Index: 16444 entries, 0 to 16714\n",
      "Data columns (total 11 columns):\n",
      " #   Column           Non-Null Count  Dtype  \n",
      "---  ------           --------------  -----  \n",
      " 0   name             16444 non-null  object \n",
      " 1   platform         16444 non-null  object \n",
      " 2   year_of_release  16444 non-null  int64  \n",
      " 3   genre            16444 non-null  object \n",
      " 4   na_sales         16444 non-null  float64\n",
      " 5   eu_sales         16444 non-null  float64\n",
      " 6   jp_sales         16444 non-null  float64\n",
      " 7   other_sales      16444 non-null  float64\n",
      " 8   critic_score     16444 non-null  float64\n",
      " 9   user_score       16444 non-null  float64\n",
      " 10  rating           16444 non-null  object \n",
      "dtypes: float64(6), int64(1), object(4)\n",
      "memory usage: 1.5+ MB\n"
     ]
    }
   ],
   "source": [
    "df.info()"
   ]
  },
  {
   "cell_type": "markdown",
   "metadata": {},
   "source": [
    "**Фотмат данных корректный**"
   ]
  },
  {
   "cell_type": "markdown",
   "metadata": {},
   "source": [
    "#### Вывод работы с пропусками"
   ]
  },
  {
   "cell_type": "markdown",
   "metadata": {},
   "source": [
    "- **Пропуски данных могли быть обусловленны как механическим так и человеческим факторам**\n",
    "- **Большое количество пропусков в годах випуска и оценках реставрировать не удалось**\n",
    "- **Теперь представленные данные корректны. Готовы к дальнейшей аналитике**\n",
    "- **Пропуска в названиях всего 2, возможен человечаский фактор**\n",
    "- **Пропуска в рейтинге обучловлены тем, что не все игры выпускаются на американский рынок, для которого этот рейтинг и создан**\n"
   ]
  },
  {
   "cell_type": "markdown",
   "metadata": {},
   "source": [
    "### Посчитаем суммарные продажи во всех регионах"
   ]
  },
  {
   "cell_type": "code",
   "execution_count": 41,
   "metadata": {},
   "outputs": [
    {
     "data": {
      "text/html": [
       "<div>\n",
       "<style scoped>\n",
       "    .dataframe tbody tr th:only-of-type {\n",
       "        vertical-align: middle;\n",
       "    }\n",
       "\n",
       "    .dataframe tbody tr th {\n",
       "        vertical-align: top;\n",
       "    }\n",
       "\n",
       "    .dataframe thead th {\n",
       "        text-align: right;\n",
       "    }\n",
       "</style>\n",
       "<table border=\"1\" class=\"dataframe\">\n",
       "  <thead>\n",
       "    <tr style=\"text-align: right;\">\n",
       "      <th></th>\n",
       "      <th>name</th>\n",
       "      <th>platform</th>\n",
       "      <th>year_of_release</th>\n",
       "      <th>genre</th>\n",
       "      <th>na_sales</th>\n",
       "      <th>eu_sales</th>\n",
       "      <th>jp_sales</th>\n",
       "      <th>other_sales</th>\n",
       "      <th>critic_score</th>\n",
       "      <th>user_score</th>\n",
       "      <th>rating</th>\n",
       "      <th>total_sales</th>\n",
       "    </tr>\n",
       "  </thead>\n",
       "  <tbody>\n",
       "    <tr>\n",
       "      <th>0</th>\n",
       "      <td>Wii Sports</td>\n",
       "      <td>Wii</td>\n",
       "      <td>2006</td>\n",
       "      <td>sports</td>\n",
       "      <td>41.36</td>\n",
       "      <td>28.96</td>\n",
       "      <td>3.77</td>\n",
       "      <td>8.45</td>\n",
       "      <td>76.0</td>\n",
       "      <td>8.0</td>\n",
       "      <td>E</td>\n",
       "      <td>82.54</td>\n",
       "    </tr>\n",
       "    <tr>\n",
       "      <th>1</th>\n",
       "      <td>Super Mario Bros.</td>\n",
       "      <td>NES</td>\n",
       "      <td>1985</td>\n",
       "      <td>platform</td>\n",
       "      <td>29.08</td>\n",
       "      <td>3.58</td>\n",
       "      <td>6.81</td>\n",
       "      <td>0.77</td>\n",
       "      <td>-1.0</td>\n",
       "      <td>-1.0</td>\n",
       "      <td>неопределен</td>\n",
       "      <td>40.24</td>\n",
       "    </tr>\n",
       "    <tr>\n",
       "      <th>2</th>\n",
       "      <td>Mario Kart Wii</td>\n",
       "      <td>Wii</td>\n",
       "      <td>2008</td>\n",
       "      <td>racing</td>\n",
       "      <td>15.68</td>\n",
       "      <td>12.76</td>\n",
       "      <td>3.79</td>\n",
       "      <td>3.29</td>\n",
       "      <td>82.0</td>\n",
       "      <td>8.3</td>\n",
       "      <td>E</td>\n",
       "      <td>35.52</td>\n",
       "    </tr>\n",
       "    <tr>\n",
       "      <th>3</th>\n",
       "      <td>Wii Sports Resort</td>\n",
       "      <td>Wii</td>\n",
       "      <td>2009</td>\n",
       "      <td>sports</td>\n",
       "      <td>15.61</td>\n",
       "      <td>10.93</td>\n",
       "      <td>3.28</td>\n",
       "      <td>2.95</td>\n",
       "      <td>80.0</td>\n",
       "      <td>8.0</td>\n",
       "      <td>E</td>\n",
       "      <td>32.77</td>\n",
       "    </tr>\n",
       "    <tr>\n",
       "      <th>4</th>\n",
       "      <td>Pokemon Red/Pokemon Blue</td>\n",
       "      <td>GB</td>\n",
       "      <td>1996</td>\n",
       "      <td>role-playing</td>\n",
       "      <td>11.27</td>\n",
       "      <td>8.89</td>\n",
       "      <td>10.22</td>\n",
       "      <td>1.00</td>\n",
       "      <td>-1.0</td>\n",
       "      <td>-1.0</td>\n",
       "      <td>неопределен</td>\n",
       "      <td>31.38</td>\n",
       "    </tr>\n",
       "    <tr>\n",
       "      <th>5</th>\n",
       "      <td>Tetris</td>\n",
       "      <td>GB</td>\n",
       "      <td>1989</td>\n",
       "      <td>puzzle</td>\n",
       "      <td>23.20</td>\n",
       "      <td>2.26</td>\n",
       "      <td>4.22</td>\n",
       "      <td>0.58</td>\n",
       "      <td>-1.0</td>\n",
       "      <td>-1.0</td>\n",
       "      <td>неопределен</td>\n",
       "      <td>30.26</td>\n",
       "    </tr>\n",
       "    <tr>\n",
       "      <th>6</th>\n",
       "      <td>New Super Mario Bros.</td>\n",
       "      <td>DS</td>\n",
       "      <td>2006</td>\n",
       "      <td>platform</td>\n",
       "      <td>11.28</td>\n",
       "      <td>9.14</td>\n",
       "      <td>6.50</td>\n",
       "      <td>2.88</td>\n",
       "      <td>89.0</td>\n",
       "      <td>8.5</td>\n",
       "      <td>E</td>\n",
       "      <td>29.80</td>\n",
       "    </tr>\n",
       "    <tr>\n",
       "      <th>7</th>\n",
       "      <td>Wii Play</td>\n",
       "      <td>Wii</td>\n",
       "      <td>2006</td>\n",
       "      <td>misc</td>\n",
       "      <td>13.96</td>\n",
       "      <td>9.18</td>\n",
       "      <td>2.93</td>\n",
       "      <td>2.84</td>\n",
       "      <td>58.0</td>\n",
       "      <td>6.6</td>\n",
       "      <td>E</td>\n",
       "      <td>28.91</td>\n",
       "    </tr>\n",
       "    <tr>\n",
       "      <th>8</th>\n",
       "      <td>New Super Mario Bros. Wii</td>\n",
       "      <td>Wii</td>\n",
       "      <td>2009</td>\n",
       "      <td>platform</td>\n",
       "      <td>14.44</td>\n",
       "      <td>6.94</td>\n",
       "      <td>4.70</td>\n",
       "      <td>2.24</td>\n",
       "      <td>87.0</td>\n",
       "      <td>8.4</td>\n",
       "      <td>E</td>\n",
       "      <td>28.32</td>\n",
       "    </tr>\n",
       "    <tr>\n",
       "      <th>9</th>\n",
       "      <td>Duck Hunt</td>\n",
       "      <td>NES</td>\n",
       "      <td>1984</td>\n",
       "      <td>shooter</td>\n",
       "      <td>26.93</td>\n",
       "      <td>0.63</td>\n",
       "      <td>0.28</td>\n",
       "      <td>0.47</td>\n",
       "      <td>-1.0</td>\n",
       "      <td>-1.0</td>\n",
       "      <td>неопределен</td>\n",
       "      <td>28.31</td>\n",
       "    </tr>\n",
       "  </tbody>\n",
       "</table>\n",
       "</div>"
      ],
      "text/plain": [
       "                        name platform  year_of_release         genre  \\\n",
       "0                 Wii Sports      Wii             2006        sports   \n",
       "1          Super Mario Bros.      NES             1985      platform   \n",
       "2             Mario Kart Wii      Wii             2008        racing   \n",
       "3          Wii Sports Resort      Wii             2009        sports   \n",
       "4   Pokemon Red/Pokemon Blue       GB             1996  role-playing   \n",
       "5                     Tetris       GB             1989        puzzle   \n",
       "6      New Super Mario Bros.       DS             2006      platform   \n",
       "7                   Wii Play      Wii             2006          misc   \n",
       "8  New Super Mario Bros. Wii      Wii             2009      platform   \n",
       "9                  Duck Hunt      NES             1984       shooter   \n",
       "\n",
       "   na_sales  eu_sales  jp_sales  other_sales  critic_score  user_score  \\\n",
       "0     41.36     28.96      3.77         8.45          76.0         8.0   \n",
       "1     29.08      3.58      6.81         0.77          -1.0        -1.0   \n",
       "2     15.68     12.76      3.79         3.29          82.0         8.3   \n",
       "3     15.61     10.93      3.28         2.95          80.0         8.0   \n",
       "4     11.27      8.89     10.22         1.00          -1.0        -1.0   \n",
       "5     23.20      2.26      4.22         0.58          -1.0        -1.0   \n",
       "6     11.28      9.14      6.50         2.88          89.0         8.5   \n",
       "7     13.96      9.18      2.93         2.84          58.0         6.6   \n",
       "8     14.44      6.94      4.70         2.24          87.0         8.4   \n",
       "9     26.93      0.63      0.28         0.47          -1.0        -1.0   \n",
       "\n",
       "        rating  total_sales  \n",
       "0            E        82.54  \n",
       "1  неопределен        40.24  \n",
       "2            E        35.52  \n",
       "3            E        32.77  \n",
       "4  неопределен        31.38  \n",
       "5  неопределен        30.26  \n",
       "6            E        29.80  \n",
       "7            E        28.91  \n",
       "8            E        28.32  \n",
       "9  неопределен        28.31  "
      ]
     },
     "execution_count": 41,
     "metadata": {},
     "output_type": "execute_result"
    }
   ],
   "source": [
    "df['total_sales'] =  df[['na_sales','eu_sales','jp_sales', 'other_sales']].sum(axis = 1)\n",
    "df.head(10)"
   ]
  },
  {
   "cell_type": "markdown",
   "metadata": {},
   "source": [
    "**На всякий случай сбросим индексацию после предобработки данных**"
   ]
  },
  {
   "cell_type": "code",
   "execution_count": 42,
   "metadata": {},
   "outputs": [],
   "source": [
    "df.reset_index(drop=True,inplace=True)"
   ]
  },
  {
   "cell_type": "markdown",
   "metadata": {},
   "source": [
    "**Вывод:**"
   ]
  },
  {
   "cell_type": "markdown",
   "metadata": {},
   "source": [
    "При предобработке данных:\n",
    "- Провели предварительный анализ данных.\n",
    "- Привели названия столбцов к нижнему регистру\n",
    "- Проверили данные на наличие пропусков\n",
    "- Обработали пропуска где это возможно: пару пропусков с названием удалили, оценки привели к медиане, а пропуски в рейтинге игр переименовали\n",
    "- Переименовали платформы в более корректные названия, понятные рядовому обывателю\n",
    "- Преобразовали данные в нужные типы\n",
    "- Посчитали суммарные продажи во всех регионах и запишите их в отдельный столбец\n",
    "- Обновили индексацию данных после предобработки"
   ]
  },
  {
   "cell_type": "code",
   "execution_count": 43,
   "metadata": {},
   "outputs": [
    {
     "name": "stdout",
     "output_type": "stream",
     "text": [
      "<class 'pandas.core.frame.DataFrame'>\n",
      "RangeIndex: 16444 entries, 0 to 16443\n",
      "Data columns (total 12 columns):\n",
      " #   Column           Non-Null Count  Dtype  \n",
      "---  ------           --------------  -----  \n",
      " 0   name             16444 non-null  object \n",
      " 1   platform         16444 non-null  object \n",
      " 2   year_of_release  16444 non-null  int64  \n",
      " 3   genre            16444 non-null  object \n",
      " 4   na_sales         16444 non-null  float64\n",
      " 5   eu_sales         16444 non-null  float64\n",
      " 6   jp_sales         16444 non-null  float64\n",
      " 7   other_sales      16444 non-null  float64\n",
      " 8   critic_score     16444 non-null  float64\n",
      " 9   user_score       16444 non-null  float64\n",
      " 10  rating           16444 non-null  object \n",
      " 11  total_sales      16444 non-null  float64\n",
      "dtypes: float64(7), int64(1), object(4)\n",
      "memory usage: 1.5+ MB\n",
      "None\n",
      "-------------------------\n",
      "name [' Beyblade Burst' ' Fire Emblem Fates' \" Frozen: Olaf's Quest\" ...\n",
      " 'uDraw Studio' 'uDraw Studio: Instant Artist'\n",
      " '¡Shin Chan Flipa en colores!']\n",
      "name : кол-во NaN 0 , процент NaN 0.0 %\n",
      "-------------------------\n",
      "platform ['2600' '3DO' '3DS' 'DC' 'DS' 'GB' 'GBA' 'GC' 'GEN' 'GG' 'N64' 'NES' 'NG'\n",
      " 'PC' 'PCFX' 'PS' 'PS2' 'PS3' 'PS4' 'PSP' 'PSV' 'SAT' 'SCD' 'SNES' 'TG16'\n",
      " 'WS' 'Wii' 'WiiU' 'X360' 'XB' 'XOne']\n",
      "platform : кол-во NaN 0 , процент NaN 0.0 %\n",
      "-------------------------\n",
      "year_of_release [1980 1981 1982 1983 1984 1985 1986 1987 1988 1989 1990 1991 1992 1993\n",
      " 1994 1995 1996 1997 1998 1999 2000 2001 2002 2003 2004 2005 2006 2007\n",
      " 2008 2009 2010 2011 2012 2013 2014 2015 2016]\n",
      "year_of_release : кол-во NaN 0 , процент NaN 0.0 %\n",
      "-------------------------\n",
      "genre ['action' 'adventure' 'fighting' 'misc' 'platform' 'puzzle' 'racing'\n",
      " 'role-playing' 'shooter' 'simulation' 'sports' 'strategy']\n",
      "genre : кол-во NaN 0 , процент NaN 0.0 %\n",
      "-------------------------\n",
      "critic_score [-1. 13. 17. 19. 20. 21. 23. 24. 25. 26. 27. 28. 29. 30. 31. 32. 33. 34.\n",
      " 35. 36. 37. 38. 39. 40. 41. 42. 43. 44. 45. 46. 47. 48. 49. 50. 51. 52.\n",
      " 53. 54. 55. 56. 57. 58. 59. 60. 61. 62. 63. 64. 65. 66. 67. 68. 69. 70.\n",
      " 71. 72. 73. 74. 75. 76. 77. 78. 79. 80. 81. 82. 83. 84. 85. 86. 87. 88.\n",
      " 89. 90. 91. 92. 93. 94. 95. 96. 97. 98.]\n",
      "critic_score : кол-во NaN 0 , процент NaN 0.0 %\n",
      "-------------------------\n",
      "user_score [-1.   0.   0.2  0.3  0.5  0.6  0.7  0.9  1.   1.1  1.2  1.3  1.4  1.5\n",
      "  1.6  1.7  1.8  1.9  2.   2.1  2.2  2.3  2.4  2.5  2.6  2.7  2.8  2.9\n",
      "  3.   3.1  3.2  3.3  3.4  3.5  3.6  3.7  3.8  3.9  4.   4.1  4.2  4.3\n",
      "  4.4  4.5  4.6  4.7  4.8  4.9  5.   5.1  5.2  5.3  5.4  5.5  5.6  5.7\n",
      "  5.8  5.9  6.   6.1  6.2  6.3  6.4  6.5  6.6  6.7  6.8  6.9  7.   7.1\n",
      "  7.2  7.3  7.4  7.5  7.6  7.7  7.8  7.9  8.   8.1  8.2  8.3  8.4  8.5\n",
      "  8.6  8.7  8.8  8.9  9.   9.1  9.2  9.3  9.4  9.5  9.6  9.7]\n",
      "user_score : кол-во NaN 0 , процент NaN 0.0 %\n",
      "-------------------------\n",
      "rating ['AO' 'E' 'E10+' 'EC' 'M' 'RP' 'T' 'неопределен']\n",
      "rating : кол-во NaN 0 , процент NaN 0.0 %\n"
     ]
    }
   ],
   "source": [
    "temp = df.copy() \n",
    "list_c = ['name', 'platform', 'year_of_release', 'genre', 'critic_score', 'user_score', 'rating']\n",
    "print(temp.info())\n",
    "for col_l in list_c:\n",
    "  print('-'* 25)\n",
    "  print(col_l, temp[col_l].sort_values().unique())\n",
    "  print(col_l,': кол-во NaN',temp[col_l].isna().sum(),\n",
    "        ', процент NaN', round(temp[col_l].isna().sum()/len(temp)*100, 2),'%')"
   ]
  },
  {
   "cell_type": "markdown",
   "metadata": {},
   "source": [
    "## Шаг. Проведите исследовательский анализ данных"
   ]
  },
  {
   "cell_type": "markdown",
   "metadata": {},
   "source": [
    "### Сколько игр выпускалось в разные годы."
   ]
  },
  {
   "cell_type": "code",
   "execution_count": 44,
   "metadata": {},
   "outputs": [
    {
     "data": {
      "image/png": "[encoded data removed]",
      "text/plain": [
       "<Figure size 720x504 with 1 Axes>"
      ]
     },
     "metadata": {
      "needs_background": "light"
     },
     "output_type": "display_data"
    }
   ],
   "source": [
    "df.groupby('year_of_release')['name'].count().plot(x=\"year_of_release\",style=\"-o\",figsize=(10,7));"
   ]
  },
  {
   "cell_type": "code",
   "execution_count": 45,
   "metadata": {},
   "outputs": [
    {
     "data": {
      "text/plain": [
       "year_of_release\n",
       "1980       9\n",
       "1981      46\n",
       "1982      36\n",
       "1983      17\n",
       "1984      14\n",
       "1985      14\n",
       "1986      21\n",
       "1987      16\n",
       "1988      15\n",
       "1989      17\n",
       "1990      16\n",
       "1991      41\n",
       "1992      43\n",
       "1993      60\n",
       "1994     121\n",
       "1995     219\n",
       "1996     263\n",
       "1997     289\n",
       "1998     379\n",
       "1999     338\n",
       "2000     350\n",
       "2001     482\n",
       "2002     829\n",
       "2003     775\n",
       "2004     762\n",
       "2005     939\n",
       "2006    1006\n",
       "2007    1197\n",
       "2008    1427\n",
       "2009    1426\n",
       "2010    1255\n",
       "2011    1136\n",
       "2012     653\n",
       "2013     544\n",
       "2014     581\n",
       "2015     606\n",
       "2016     502\n",
       "Name: name, dtype: int64"
      ]
     },
     "execution_count": 45,
     "metadata": {},
     "output_type": "execute_result"
    }
   ],
   "source": [
    "games_per_year = df.groupby(['year_of_release'])['name'].count()\n",
    "games_per_year"
   ]
  },
  {
   "cell_type": "markdown",
   "metadata": {},
   "source": [
    "**Как можем наблюдать большего всего игр выпускалось с 2006 по 2011 года, каждый год больше 1000 игр**"
   ]
  },
  {
   "cell_type": "markdown",
   "metadata": {},
   "source": [
    "### Как менялись продажи по платформам"
   ]
  },
  {
   "cell_type": "code",
   "execution_count": 46,
   "metadata": {},
   "outputs": [
    {
     "data": {
      "text/html": [
       "<div>\n",
       "<style scoped>\n",
       "    .dataframe tbody tr th:only-of-type {\n",
       "        vertical-align: middle;\n",
       "    }\n",
       "\n",
       "    .dataframe tbody tr th {\n",
       "        vertical-align: top;\n",
       "    }\n",
       "\n",
       "    .dataframe thead th {\n",
       "        text-align: right;\n",
       "    }\n",
       "</style>\n",
       "<table border=\"1\" class=\"dataframe\">\n",
       "  <thead>\n",
       "    <tr style=\"text-align: right;\">\n",
       "      <th></th>\n",
       "      <th>na_sales</th>\n",
       "      <th>eu_sales</th>\n",
       "      <th>jp_sales</th>\n",
       "      <th>other_sales</th>\n",
       "      <th>total_sales</th>\n",
       "    </tr>\n",
       "    <tr>\n",
       "      <th>platform</th>\n",
       "      <th></th>\n",
       "      <th></th>\n",
       "      <th></th>\n",
       "      <th></th>\n",
       "      <th></th>\n",
       "    </tr>\n",
       "  </thead>\n",
       "  <tbody>\n",
       "    <tr>\n",
       "      <th>2600</th>\n",
       "      <td>80.78</td>\n",
       "      <td>4.86</td>\n",
       "      <td>0.00</td>\n",
       "      <td>0.84</td>\n",
       "      <td>86.48</td>\n",
       "    </tr>\n",
       "    <tr>\n",
       "      <th>3DO</th>\n",
       "      <td>0.00</td>\n",
       "      <td>0.00</td>\n",
       "      <td>0.10</td>\n",
       "      <td>0.00</td>\n",
       "      <td>0.10</td>\n",
       "    </tr>\n",
       "    <tr>\n",
       "      <th>3DS</th>\n",
       "      <td>82.65</td>\n",
       "      <td>61.27</td>\n",
       "      <td>100.62</td>\n",
       "      <td>13.27</td>\n",
       "      <td>257.81</td>\n",
       "    </tr>\n",
       "    <tr>\n",
       "      <th>DC</th>\n",
       "      <td>5.43</td>\n",
       "      <td>1.69</td>\n",
       "      <td>8.56</td>\n",
       "      <td>0.27</td>\n",
       "      <td>15.95</td>\n",
       "    </tr>\n",
       "    <tr>\n",
       "      <th>DS</th>\n",
       "      <td>380.31</td>\n",
       "      <td>188.41</td>\n",
       "      <td>175.02</td>\n",
       "      <td>59.04</td>\n",
       "      <td>802.78</td>\n",
       "    </tr>\n",
       "    <tr>\n",
       "      <th>GB</th>\n",
       "      <td>113.64</td>\n",
       "      <td>47.51</td>\n",
       "      <td>85.12</td>\n",
       "      <td>8.16</td>\n",
       "      <td>254.43</td>\n",
       "    </tr>\n",
       "    <tr>\n",
       "      <th>GBA</th>\n",
       "      <td>184.12</td>\n",
       "      <td>74.59</td>\n",
       "      <td>46.56</td>\n",
       "      <td>7.61</td>\n",
       "      <td>312.88</td>\n",
       "    </tr>\n",
       "    <tr>\n",
       "      <th>GC</th>\n",
       "      <td>131.94</td>\n",
       "      <td>38.32</td>\n",
       "      <td>21.34</td>\n",
       "      <td>5.13</td>\n",
       "      <td>196.73</td>\n",
       "    </tr>\n",
       "    <tr>\n",
       "      <th>GEN</th>\n",
       "      <td>19.27</td>\n",
       "      <td>5.52</td>\n",
       "      <td>2.67</td>\n",
       "      <td>0.89</td>\n",
       "      <td>28.35</td>\n",
       "    </tr>\n",
       "    <tr>\n",
       "      <th>GG</th>\n",
       "      <td>0.00</td>\n",
       "      <td>0.00</td>\n",
       "      <td>0.04</td>\n",
       "      <td>0.00</td>\n",
       "      <td>0.04</td>\n",
       "    </tr>\n",
       "    <tr>\n",
       "      <th>N64</th>\n",
       "      <td>138.91</td>\n",
       "      <td>41.03</td>\n",
       "      <td>33.76</td>\n",
       "      <td>4.31</td>\n",
       "      <td>218.01</td>\n",
       "    </tr>\n",
       "    <tr>\n",
       "      <th>NES</th>\n",
       "      <td>125.94</td>\n",
       "      <td>21.15</td>\n",
       "      <td>98.65</td>\n",
       "      <td>5.31</td>\n",
       "      <td>251.05</td>\n",
       "    </tr>\n",
       "    <tr>\n",
       "      <th>NG</th>\n",
       "      <td>0.00</td>\n",
       "      <td>0.00</td>\n",
       "      <td>1.44</td>\n",
       "      <td>0.00</td>\n",
       "      <td>1.44</td>\n",
       "    </tr>\n",
       "    <tr>\n",
       "      <th>PC</th>\n",
       "      <td>93.34</td>\n",
       "      <td>140.37</td>\n",
       "      <td>0.17</td>\n",
       "      <td>21.88</td>\n",
       "      <td>255.76</td>\n",
       "    </tr>\n",
       "    <tr>\n",
       "      <th>PCFX</th>\n",
       "      <td>0.00</td>\n",
       "      <td>0.00</td>\n",
       "      <td>0.03</td>\n",
       "      <td>0.00</td>\n",
       "      <td>0.03</td>\n",
       "    </tr>\n",
       "    <tr>\n",
       "      <th>PS</th>\n",
       "      <td>334.72</td>\n",
       "      <td>212.39</td>\n",
       "      <td>139.78</td>\n",
       "      <td>40.69</td>\n",
       "      <td>727.58</td>\n",
       "    </tr>\n",
       "    <tr>\n",
       "      <th>PS2</th>\n",
       "      <td>572.92</td>\n",
       "      <td>332.63</td>\n",
       "      <td>137.54</td>\n",
       "      <td>190.47</td>\n",
       "      <td>1233.56</td>\n",
       "    </tr>\n",
       "    <tr>\n",
       "      <th>PS3</th>\n",
       "      <td>390.13</td>\n",
       "      <td>327.21</td>\n",
       "      <td>79.41</td>\n",
       "      <td>134.59</td>\n",
       "      <td>931.34</td>\n",
       "    </tr>\n",
       "    <tr>\n",
       "      <th>PS4</th>\n",
       "      <td>108.74</td>\n",
       "      <td>141.09</td>\n",
       "      <td>15.96</td>\n",
       "      <td>48.35</td>\n",
       "      <td>314.14</td>\n",
       "    </tr>\n",
       "    <tr>\n",
       "      <th>PSP</th>\n",
       "      <td>107.27</td>\n",
       "      <td>65.62</td>\n",
       "      <td>75.88</td>\n",
       "      <td>40.76</td>\n",
       "      <td>289.53</td>\n",
       "    </tr>\n",
       "    <tr>\n",
       "      <th>PSV</th>\n",
       "      <td>12.47</td>\n",
       "      <td>13.07</td>\n",
       "      <td>21.84</td>\n",
       "      <td>6.43</td>\n",
       "      <td>53.81</td>\n",
       "    </tr>\n",
       "    <tr>\n",
       "      <th>SAT</th>\n",
       "      <td>0.72</td>\n",
       "      <td>0.54</td>\n",
       "      <td>32.26</td>\n",
       "      <td>0.07</td>\n",
       "      <td>33.59</td>\n",
       "    </tr>\n",
       "    <tr>\n",
       "      <th>SCD</th>\n",
       "      <td>1.00</td>\n",
       "      <td>0.36</td>\n",
       "      <td>0.45</td>\n",
       "      <td>0.05</td>\n",
       "      <td>1.86</td>\n",
       "    </tr>\n",
       "    <tr>\n",
       "      <th>SNES</th>\n",
       "      <td>61.23</td>\n",
       "      <td>19.04</td>\n",
       "      <td>116.55</td>\n",
       "      <td>3.22</td>\n",
       "      <td>200.04</td>\n",
       "    </tr>\n",
       "    <tr>\n",
       "      <th>TG16</th>\n",
       "      <td>0.00</td>\n",
       "      <td>0.00</td>\n",
       "      <td>0.16</td>\n",
       "      <td>0.00</td>\n",
       "      <td>0.16</td>\n",
       "    </tr>\n",
       "    <tr>\n",
       "      <th>WS</th>\n",
       "      <td>0.00</td>\n",
       "      <td>0.00</td>\n",
       "      <td>1.42</td>\n",
       "      <td>0.00</td>\n",
       "      <td>1.42</td>\n",
       "    </tr>\n",
       "    <tr>\n",
       "      <th>Wii</th>\n",
       "      <td>486.87</td>\n",
       "      <td>258.32</td>\n",
       "      <td>68.28</td>\n",
       "      <td>77.71</td>\n",
       "      <td>891.18</td>\n",
       "    </tr>\n",
       "    <tr>\n",
       "      <th>WiiU</th>\n",
       "      <td>38.10</td>\n",
       "      <td>25.13</td>\n",
       "      <td>13.01</td>\n",
       "      <td>5.95</td>\n",
       "      <td>82.19</td>\n",
       "    </tr>\n",
       "    <tr>\n",
       "      <th>X360</th>\n",
       "      <td>595.74</td>\n",
       "      <td>268.32</td>\n",
       "      <td>12.30</td>\n",
       "      <td>84.88</td>\n",
       "      <td>961.24</td>\n",
       "    </tr>\n",
       "    <tr>\n",
       "      <th>XB</th>\n",
       "      <td>182.06</td>\n",
       "      <td>59.65</td>\n",
       "      <td>1.38</td>\n",
       "      <td>8.48</td>\n",
       "      <td>251.57</td>\n",
       "    </tr>\n",
       "    <tr>\n",
       "      <th>XOne</th>\n",
       "      <td>93.12</td>\n",
       "      <td>51.59</td>\n",
       "      <td>0.34</td>\n",
       "      <td>14.27</td>\n",
       "      <td>159.32</td>\n",
       "    </tr>\n",
       "  </tbody>\n",
       "</table>\n",
       "</div>"
      ],
      "text/plain": [
       "          na_sales  eu_sales  jp_sales  other_sales  total_sales\n",
       "platform                                                        \n",
       "2600         80.78      4.86      0.00         0.84        86.48\n",
       "3DO           0.00      0.00      0.10         0.00         0.10\n",
       "3DS          82.65     61.27    100.62        13.27       257.81\n",
       "DC            5.43      1.69      8.56         0.27        15.95\n",
       "DS          380.31    188.41    175.02        59.04       802.78\n",
       "GB          113.64     47.51     85.12         8.16       254.43\n",
       "GBA         184.12     74.59     46.56         7.61       312.88\n",
       "GC          131.94     38.32     21.34         5.13       196.73\n",
       "GEN          19.27      5.52      2.67         0.89        28.35\n",
       "GG            0.00      0.00      0.04         0.00         0.04\n",
       "N64         138.91     41.03     33.76         4.31       218.01\n",
       "NES         125.94     21.15     98.65         5.31       251.05\n",
       "NG            0.00      0.00      1.44         0.00         1.44\n",
       "PC           93.34    140.37      0.17        21.88       255.76\n",
       "PCFX          0.00      0.00      0.03         0.00         0.03\n",
       "PS          334.72    212.39    139.78        40.69       727.58\n",
       "PS2         572.92    332.63    137.54       190.47      1233.56\n",
       "PS3         390.13    327.21     79.41       134.59       931.34\n",
       "PS4         108.74    141.09     15.96        48.35       314.14\n",
       "PSP         107.27     65.62     75.88        40.76       289.53\n",
       "PSV          12.47     13.07     21.84         6.43        53.81\n",
       "SAT           0.72      0.54     32.26         0.07        33.59\n",
       "SCD           1.00      0.36      0.45         0.05         1.86\n",
       "SNES         61.23     19.04    116.55         3.22       200.04\n",
       "TG16          0.00      0.00      0.16         0.00         0.16\n",
       "WS            0.00      0.00      1.42         0.00         1.42\n",
       "Wii         486.87    258.32     68.28        77.71       891.18\n",
       "WiiU         38.10     25.13     13.01         5.95        82.19\n",
       "X360        595.74    268.32     12.30        84.88       961.24\n",
       "XB          182.06     59.65      1.38         8.48       251.57\n",
       "XOne         93.12     51.59      0.34        14.27       159.32"
      ]
     },
     "execution_count": 46,
     "metadata": {},
     "output_type": "execute_result"
    }
   ],
   "source": [
    "df.groupby(['platform'])['na_sales', 'eu_sales', 'jp_sales', 'other_sales', 'total_sales'].sum()"
   ]
  },
  {
   "cell_type": "code",
   "execution_count": 47,
   "metadata": {},
   "outputs": [],
   "source": [
    "platform_sales=df.pivot_table(index='platform',values='total_sales',aggfunc=('sum'))"
   ]
  },
  {
   "cell_type": "code",
   "execution_count": 48,
   "metadata": {},
   "outputs": [
    {
     "data": {
      "image/png": "[encoded data removed]",
      "text/plain": [
       "<Figure size 720x504 with 1 Axes>"
      ]
     },
     "metadata": {
      "needs_background": "light"
     },
     "output_type": "display_data"
    }
   ],
   "source": [
    "platform_sales.sort_values(by='total_sales',ascending=False).plot(kind='bar',figsize=(10,7));"
   ]
  },
  {
   "cell_type": "code",
   "execution_count": 49,
   "metadata": {},
   "outputs": [],
   "source": [
    "top_platform_data = df.query(\"platform == ['PS2', 'X360', 'PS3', 'Wii', 'DS', 'PS']\")"
   ]
  },
  {
   "cell_type": "code",
   "execution_count": 50,
   "metadata": {},
   "outputs": [
    {
     "data": {
      "text/html": [
       "<div>\n",
       "<style scoped>\n",
       "    .dataframe tbody tr th:only-of-type {\n",
       "        vertical-align: middle;\n",
       "    }\n",
       "\n",
       "    .dataframe tbody tr th {\n",
       "        vertical-align: top;\n",
       "    }\n",
       "\n",
       "    .dataframe thead th {\n",
       "        text-align: right;\n",
       "    }\n",
       "</style>\n",
       "<table border=\"1\" class=\"dataframe\">\n",
       "  <thead>\n",
       "    <tr style=\"text-align: right;\">\n",
       "      <th></th>\n",
       "      <th>na_sales</th>\n",
       "      <th>eu_sales</th>\n",
       "      <th>jp_sales</th>\n",
       "      <th>other_sales</th>\n",
       "      <th>total_sales</th>\n",
       "    </tr>\n",
       "    <tr>\n",
       "      <th>platform</th>\n",
       "      <th></th>\n",
       "      <th></th>\n",
       "      <th></th>\n",
       "      <th></th>\n",
       "      <th></th>\n",
       "    </tr>\n",
       "  </thead>\n",
       "  <tbody>\n",
       "    <tr>\n",
       "      <th>DS</th>\n",
       "      <td>380.31</td>\n",
       "      <td>188.41</td>\n",
       "      <td>175.02</td>\n",
       "      <td>59.04</td>\n",
       "      <td>802.78</td>\n",
       "    </tr>\n",
       "    <tr>\n",
       "      <th>PS</th>\n",
       "      <td>334.72</td>\n",
       "      <td>212.39</td>\n",
       "      <td>139.78</td>\n",
       "      <td>40.69</td>\n",
       "      <td>727.58</td>\n",
       "    </tr>\n",
       "    <tr>\n",
       "      <th>PS2</th>\n",
       "      <td>572.92</td>\n",
       "      <td>332.63</td>\n",
       "      <td>137.54</td>\n",
       "      <td>190.47</td>\n",
       "      <td>1233.56</td>\n",
       "    </tr>\n",
       "    <tr>\n",
       "      <th>PS3</th>\n",
       "      <td>390.13</td>\n",
       "      <td>327.21</td>\n",
       "      <td>79.41</td>\n",
       "      <td>134.59</td>\n",
       "      <td>931.34</td>\n",
       "    </tr>\n",
       "    <tr>\n",
       "      <th>Wii</th>\n",
       "      <td>486.87</td>\n",
       "      <td>258.32</td>\n",
       "      <td>68.28</td>\n",
       "      <td>77.71</td>\n",
       "      <td>891.18</td>\n",
       "    </tr>\n",
       "    <tr>\n",
       "      <th>X360</th>\n",
       "      <td>595.74</td>\n",
       "      <td>268.32</td>\n",
       "      <td>12.30</td>\n",
       "      <td>84.88</td>\n",
       "      <td>961.24</td>\n",
       "    </tr>\n",
       "  </tbody>\n",
       "</table>\n",
       "</div>"
      ],
      "text/plain": [
       "          na_sales  eu_sales  jp_sales  other_sales  total_sales\n",
       "platform                                                        \n",
       "DS          380.31    188.41    175.02        59.04       802.78\n",
       "PS          334.72    212.39    139.78        40.69       727.58\n",
       "PS2         572.92    332.63    137.54       190.47      1233.56\n",
       "PS3         390.13    327.21     79.41       134.59       931.34\n",
       "Wii         486.87    258.32     68.28        77.71       891.18\n",
       "X360        595.74    268.32     12.30        84.88       961.24"
      ]
     },
     "execution_count": 50,
     "metadata": {},
     "output_type": "execute_result"
    }
   ],
   "source": [
    "top_platform_data.groupby(['platform'])['na_sales', 'eu_sales', 'jp_sales', 'other_sales', 'total_sales'].sum()"
   ]
  },
  {
   "cell_type": "code",
   "execution_count": 51,
   "metadata": {},
   "outputs": [],
   "source": [
    "top_platform=top_platform_data.pivot_table(index=\"year_of_release\",columns='platform',values='total_sales',aggfunc=('sum'))"
   ]
  },
  {
   "cell_type": "code",
   "execution_count": 52,
   "metadata": {},
   "outputs": [
    {
     "data": {
      "image/png": "[encoded data removed]",
      "text/plain": [
       "<Figure size 3600x2160 with 1 Axes>"
      ]
     },
     "metadata": {
      "needs_background": "light"
     },
     "output_type": "display_data"
    }
   ],
   "source": [
    "top_platform.sort_values(by='year_of_release',ascending=True).plot(kind='bar',figsize=(50,30));"
   ]
  },
  {
   "cell_type": "markdown",
   "metadata": {},
   "source": [
    "Платформы на графике:\n",
    "- Красный - 'PS2'\n",
    "- Коричневый - 'Xbox 360'\n",
    "- Фиолетовый - 'PS3'\n",
    "- Оранжевый - 'Nintendo Wii'\n",
    "- Синий - 'Nintendo DS'\n",
    "- Зеленый - 'PS'"
   ]
  },
  {
   "cell_type": "markdown",
   "metadata": {},
   "source": [
    "**Вывод:**\n",
    "- Были выделены 5 наиболее прибыльных платформы за все время\n",
    "- Взят период с 1985 по 2016 года. \n",
    "- На графике можно видеть взлеты и падения каждой топовой платформы.\n",
    "- В среднем период \"жизни\" платформыв составляет 10 лет\n",
    "- Пик продаж приходится на середину \"жизни\" платформы\n",
    "- На текущий момент все эти платформы устарели и почти не имеют продаж (особенно за 2015 и 2016 года)"
   ]
  },
  {
   "cell_type": "markdown",
   "metadata": {},
   "source": [
    "### Продажи по платформам за актуальный период"
   ]
  },
  {
   "cell_type": "markdown",
   "metadata": {},
   "source": [
    "**Как мы выяснили, срок жизни платформы приблизительно 8 лет. Возьмем данные за последние 4 года и выделим платформы, на которых продажи продолжают расти**"
   ]
  },
  {
   "cell_type": "code",
   "execution_count": 53,
   "metadata": {},
   "outputs": [],
   "source": [
    "actual_platform_data = df.query('year_of_release>=2013')"
   ]
  },
  {
   "cell_type": "markdown",
   "metadata": {},
   "source": [
    "**Посмотрим на сумарные продажи по платформам от 2008 года**"
   ]
  },
  {
   "cell_type": "code",
   "execution_count": 54,
   "metadata": {},
   "outputs": [
    {
     "data": {
      "image/png": "[encoded data removed]",
      "text/plain": [
       "<Figure size 720x288 with 1 Axes>"
      ]
     },
     "metadata": {
      "needs_background": "light"
     },
     "output_type": "display_data"
    }
   ],
   "source": [
    "actual_platform_data.groupby('platform')['total_sales'].sum().sort_values(ascending=False).plot(figsize=(10,4),kind=\"bar\");\n"
   ]
  },
  {
   "cell_type": "code",
   "execution_count": 55,
   "metadata": {},
   "outputs": [],
   "source": [
    "actual_platform=actual_platform_data.pivot_table(index=\"year_of_release\",columns='platform',values='total_sales',aggfunc=('sum'))"
   ]
  },
  {
   "cell_type": "code",
   "execution_count": 56,
   "metadata": {},
   "outputs": [
    {
     "data": {
      "image/png": "[encoded data removed]",
      "text/plain": [
       "<Figure size 720x432 with 1 Axes>"
      ]
     },
     "metadata": {
      "needs_background": "light"
     },
     "output_type": "display_data"
    }
   ],
   "source": [
    "actual_platform.sort_values(by='year_of_release',ascending=True).plot(kind='bar',figsize=(10,6));"
   ]
  },
  {
   "cell_type": "markdown",
   "metadata": {},
   "source": [
    "**Постороим диаграму размаха по топовым платформам**"
   ]
  },
  {
   "cell_type": "code",
   "execution_count": 57,
   "metadata": {},
   "outputs": [
    {
     "data": {
      "image/png": "[encoded data removed]",
      "text/plain": [
       "<Figure size 1080x720 with 1 Axes>"
      ]
     },
     "metadata": {
      "needs_background": "light"
     },
     "output_type": "display_data"
    }
   ],
   "source": [
    "plt.figure(figsize=(15,10))\n",
    "plt.ylim(0,3)\n",
    "sns.boxplot(x='platform',y='total_sales',data=actual_platform_data);"
   ]
  },
  {
   "cell_type": "markdown",
   "metadata": {},
   "source": [
    "Диаграмма межквартального размаха по общим продажам и разбивкой по платформам:\n",
    "\n",
    "- В ящике с усами можно увидеть, что 3 лучшие платформы очень похожи. \n",
    "- PS3 уже начинает отставать. \n",
    "- 3DS больше расчитан на рынок Японии, хоть имеет и покупателей по всему миру. У нее третий квартиль меньшем у остальных. \n",
    "- Медиана продаж у X360, PS4, XOne почти одинакова. Они все скошены вправо."
   ]
  },
  {
   "cell_type": "code",
   "execution_count": 58,
   "metadata": {},
   "outputs": [
    {
     "data": {
      "text/html": [
       "<div>\n",
       "<style scoped>\n",
       "    .dataframe tbody tr th:only-of-type {\n",
       "        vertical-align: middle;\n",
       "    }\n",
       "\n",
       "    .dataframe tbody tr th {\n",
       "        vertical-align: top;\n",
       "    }\n",
       "\n",
       "    .dataframe thead th {\n",
       "        text-align: right;\n",
       "    }\n",
       "</style>\n",
       "<table border=\"1\" class=\"dataframe\">\n",
       "  <thead>\n",
       "    <tr style=\"text-align: right;\">\n",
       "      <th></th>\n",
       "      <th>total_sales</th>\n",
       "    </tr>\n",
       "    <tr>\n",
       "      <th>platform</th>\n",
       "      <th></th>\n",
       "    </tr>\n",
       "  </thead>\n",
       "  <tbody>\n",
       "    <tr>\n",
       "      <th>PS4</th>\n",
       "      <td>314.14</td>\n",
       "    </tr>\n",
       "    <tr>\n",
       "      <th>PS3</th>\n",
       "      <td>181.43</td>\n",
       "    </tr>\n",
       "    <tr>\n",
       "      <th>XOne</th>\n",
       "      <td>159.32</td>\n",
       "    </tr>\n",
       "    <tr>\n",
       "      <th>3DS</th>\n",
       "      <td>143.25</td>\n",
       "    </tr>\n",
       "    <tr>\n",
       "      <th>X360</th>\n",
       "      <td>136.80</td>\n",
       "    </tr>\n",
       "    <tr>\n",
       "      <th>WiiU</th>\n",
       "      <td>64.63</td>\n",
       "    </tr>\n",
       "    <tr>\n",
       "      <th>PC</th>\n",
       "      <td>39.43</td>\n",
       "    </tr>\n",
       "    <tr>\n",
       "      <th>PSV</th>\n",
       "      <td>32.99</td>\n",
       "    </tr>\n",
       "    <tr>\n",
       "      <th>Wii</th>\n",
       "      <td>13.66</td>\n",
       "    </tr>\n",
       "    <tr>\n",
       "      <th>PSP</th>\n",
       "      <td>3.50</td>\n",
       "    </tr>\n",
       "  </tbody>\n",
       "</table>\n",
       "</div>"
      ],
      "text/plain": [
       "          total_sales\n",
       "platform             \n",
       "PS4            314.14\n",
       "PS3            181.43\n",
       "XOne           159.32\n",
       "3DS            143.25\n",
       "X360           136.80\n",
       "WiiU            64.63\n",
       "PC              39.43\n",
       "PSV             32.99\n",
       "Wii             13.66\n",
       "PSP              3.50"
      ]
     },
     "execution_count": 58,
     "metadata": {},
     "output_type": "execute_result"
    }
   ],
   "source": [
    "actual_platform_data.pivot_table(index='platform', values='total_sales', aggfunc='sum').nlargest(10, 'total_sales')"
   ]
  },
  {
   "cell_type": "markdown",
   "metadata": {},
   "source": [
    "**Вывод:**\n",
    "- 2016 год характеризуется повсеместным спадом продаж\n",
    "- На графике видно, что топовые платформы в 2016 году тоже идут на спад\n",
    "- На графике видно две растущие (лидирующие) платформы: PS4 и Xbox One\n",
    "- PS4 и Xbox One показывают лучшие продажи, так что они потенциально прибыльные (прогноз на 2017 год)"
   ]
  },
  {
   "cell_type": "markdown",
   "metadata": {},
   "source": [
    "### Как влияют на продажи внутри одной популярной платформы отзывы пользователей и критиков"
   ]
  },
  {
   "cell_type": "markdown",
   "metadata": {},
   "source": [
    "**Еще раз посмотрим на график по продажам на платформах за последние пару лет**"
   ]
  },
  {
   "cell_type": "code",
   "execution_count": 59,
   "metadata": {},
   "outputs": [
    {
     "data": {
      "image/png": "[encoded data removed]",
      "text/plain": [
       "<Figure size 720x288 with 1 Axes>"
      ]
     },
     "metadata": {
      "needs_background": "light"
     },
     "output_type": "display_data"
    }
   ],
   "source": [
    "actual_platform_data.groupby('platform')['total_sales'].sum().sort_values(ascending=False).plot(figsize=(10,4),kind=\"bar\");\n"
   ]
  },
  {
   "cell_type": "markdown",
   "metadata": {},
   "source": [
    "**За последние года лучшей платформой стала PS4, на нее и посмотрим**"
   ]
  },
  {
   "cell_type": "markdown",
   "metadata": {},
   "source": [
    "**В отзывах пользователей и критиков были пропуски, на которые поставили заглушку -1, избавимся от них**"
   ]
  },
  {
   "cell_type": "code",
   "execution_count": 60,
   "metadata": {},
   "outputs": [],
   "source": [
    "ps4 = actual_platform_data.query('platform == \"PS4\"')\n",
    "user_ps4 = ps4.query('user_score != -1')\n",
    "critic_ps4 = ps4.query('critic_score != -1')"
   ]
  },
  {
   "cell_type": "code",
   "execution_count": 61,
   "metadata": {},
   "outputs": [
    {
     "name": "stdout",
     "output_type": "stream",
     "text": [
      "1192\n",
      "991\n",
      "976\n"
     ]
    }
   ],
   "source": [
    "print(len(actual_platform_data.query('user_score != -1')))\n",
    "print(len(actual_platform_data.query('critic_score != -1')))\n",
    "print(len(actual_platform_data.query('(user_score != -1) and (critic_score != -1)')))"
   ]
  },
  {
   "cell_type": "markdown",
   "metadata": {},
   "source": [
    "**Построим диаграммы рассеяния и посчитаем корреляцию между отзывами и продажами**"
   ]
  },
  {
   "cell_type": "code",
   "execution_count": 62,
   "metadata": {},
   "outputs": [
    {
     "data": {
      "image/png": "[encoded data removed]",
      "text/plain": [
       "<Figure size 720x288 with 1 Axes>"
      ]
     },
     "metadata": {
      "needs_background": "light"
     },
     "output_type": "display_data"
    }
   ],
   "source": [
    "user_ps4.sort_values(by='user_score',ascending=True).plot(kind='scatter',x='user_score',y='total_sales',figsize=(10,4), ylim=(0, 1.5), title='Зависимость продаж PS4 от отзывов пользователей');"
   ]
  },
  {
   "cell_type": "code",
   "execution_count": 63,
   "metadata": {},
   "outputs": [
    {
     "data": {
      "image/png": "[encoded data removed]",
      "text/plain": [
       "<Figure size 720x288 with 1 Axes>"
      ]
     },
     "metadata": {
      "needs_background": "light"
     },
     "output_type": "display_data"
    }
   ],
   "source": [
    "critic_ps4.sort_values(by='critic_score',ascending=True).plot(kind='scatter',x='critic_score',y='total_sales',figsize=(10,4), ylim=(0, 1.5),title='Зависимость продаж PS4 от отзывов критиков');\n"
   ]
  },
  {
   "cell_type": "markdown",
   "metadata": {},
   "source": [
    "**Корреляция Пирсона между продажами по PS4 и отзывами пользователей**"
   ]
  },
  {
   "cell_type": "code",
   "execution_count": 64,
   "metadata": {},
   "outputs": [
    {
     "data": {
      "text/plain": [
       "-0.031957110204556376"
      ]
     },
     "execution_count": 64,
     "metadata": {},
     "output_type": "execute_result"
    }
   ],
   "source": [
    "user_ps4['total_sales'].corr(user_ps4['user_score'])"
   ]
  },
  {
   "cell_type": "markdown",
   "metadata": {},
   "source": [
    "**Корреляция Пирсона между продажами по PS4 и отзывами критиков**"
   ]
  },
  {
   "cell_type": "code",
   "execution_count": 65,
   "metadata": {},
   "outputs": [
    {
     "data": {
      "text/plain": [
       "0.406567902061781"
      ]
     },
     "execution_count": 65,
     "metadata": {},
     "output_type": "execute_result"
    }
   ],
   "source": [
    "critic_ps4['total_sales'].corr(critic_ps4['critic_score'])"
   ]
  },
  {
   "cell_type": "markdown",
   "metadata": {},
   "source": [
    "**Выводы:**\n",
    "- По графикам видно положительную корреляцию, чем выше оценка - тем больше продаж. \n",
    "- В графике пользователей плотнее всего находятся на уровне 6-8 баллов\n",
    "- В графике критиков плотнее всего находятся на уровне 65-80 баллов\n",
    "- Корреляция между отзывами и продажами есть\n",
    "- Обратная корреляция между отзывами пользователей и продажами, даже можно сказать, что близка к нулю\n",
    "- Прямая корреляция между отзывами критиков и продажами, достаточно влияния, чем выше балл тем больше продаж"
   ]
  },
  {
   "cell_type": "markdown",
   "metadata": {},
   "source": [
    "### Соотнесем выводы с продажами игр на других платформах"
   ]
  },
  {
   "cell_type": "markdown",
   "metadata": {},
   "source": [
    "**Используем актуальную дату по всем платформам, чтобы отсеять устаревшие**"
   ]
  },
  {
   "cell_type": "code",
   "execution_count": 66,
   "metadata": {},
   "outputs": [
    {
     "data": {
      "text/html": [
       "<div>\n",
       "<style scoped>\n",
       "    .dataframe tbody tr th:only-of-type {\n",
       "        vertical-align: middle;\n",
       "    }\n",
       "\n",
       "    .dataframe tbody tr th {\n",
       "        vertical-align: top;\n",
       "    }\n",
       "\n",
       "    .dataframe thead th {\n",
       "        text-align: right;\n",
       "    }\n",
       "</style>\n",
       "<table border=\"1\" class=\"dataframe\">\n",
       "  <thead>\n",
       "    <tr style=\"text-align: right;\">\n",
       "      <th></th>\n",
       "      <th>count</th>\n",
       "      <th>mean</th>\n",
       "      <th>std</th>\n",
       "      <th>min</th>\n",
       "      <th>25%</th>\n",
       "      <th>50%</th>\n",
       "      <th>75%</th>\n",
       "      <th>max</th>\n",
       "    </tr>\n",
       "    <tr>\n",
       "      <th>platform</th>\n",
       "      <th></th>\n",
       "      <th></th>\n",
       "      <th></th>\n",
       "      <th></th>\n",
       "      <th></th>\n",
       "      <th></th>\n",
       "      <th></th>\n",
       "      <th></th>\n",
       "    </tr>\n",
       "  </thead>\n",
       "  <tbody>\n",
       "    <tr>\n",
       "      <th>3DS</th>\n",
       "      <td>303.0</td>\n",
       "      <td>0.472772</td>\n",
       "      <td>1.381347</td>\n",
       "      <td>0.01</td>\n",
       "      <td>0.0400</td>\n",
       "      <td>0.090</td>\n",
       "      <td>0.2800</td>\n",
       "      <td>14.60</td>\n",
       "    </tr>\n",
       "    <tr>\n",
       "      <th>DS</th>\n",
       "      <td>8.0</td>\n",
       "      <td>0.192500</td>\n",
       "      <td>0.172026</td>\n",
       "      <td>0.03</td>\n",
       "      <td>0.0675</td>\n",
       "      <td>0.150</td>\n",
       "      <td>0.2525</td>\n",
       "      <td>0.51</td>\n",
       "    </tr>\n",
       "    <tr>\n",
       "      <th>PC</th>\n",
       "      <td>189.0</td>\n",
       "      <td>0.208624</td>\n",
       "      <td>0.352304</td>\n",
       "      <td>0.01</td>\n",
       "      <td>0.0300</td>\n",
       "      <td>0.080</td>\n",
       "      <td>0.2300</td>\n",
       "      <td>3.05</td>\n",
       "    </tr>\n",
       "    <tr>\n",
       "      <th>PS3</th>\n",
       "      <td>345.0</td>\n",
       "      <td>0.525884</td>\n",
       "      <td>1.451939</td>\n",
       "      <td>0.01</td>\n",
       "      <td>0.0400</td>\n",
       "      <td>0.150</td>\n",
       "      <td>0.5100</td>\n",
       "      <td>21.05</td>\n",
       "    </tr>\n",
       "    <tr>\n",
       "      <th>PS4</th>\n",
       "      <td>392.0</td>\n",
       "      <td>0.801378</td>\n",
       "      <td>1.609456</td>\n",
       "      <td>0.01</td>\n",
       "      <td>0.0600</td>\n",
       "      <td>0.200</td>\n",
       "      <td>0.7300</td>\n",
       "      <td>14.63</td>\n",
       "    </tr>\n",
       "    <tr>\n",
       "      <th>PSP</th>\n",
       "      <td>67.0</td>\n",
       "      <td>0.052239</td>\n",
       "      <td>0.059768</td>\n",
       "      <td>0.01</td>\n",
       "      <td>0.0150</td>\n",
       "      <td>0.020</td>\n",
       "      <td>0.0700</td>\n",
       "      <td>0.24</td>\n",
       "    </tr>\n",
       "    <tr>\n",
       "      <th>PSV</th>\n",
       "      <td>358.0</td>\n",
       "      <td>0.092151</td>\n",
       "      <td>0.153816</td>\n",
       "      <td>0.01</td>\n",
       "      <td>0.0200</td>\n",
       "      <td>0.040</td>\n",
       "      <td>0.1100</td>\n",
       "      <td>1.96</td>\n",
       "    </tr>\n",
       "    <tr>\n",
       "      <th>Wii</th>\n",
       "      <td>23.0</td>\n",
       "      <td>0.593913</td>\n",
       "      <td>0.915432</td>\n",
       "      <td>0.01</td>\n",
       "      <td>0.0450</td>\n",
       "      <td>0.180</td>\n",
       "      <td>0.7550</td>\n",
       "      <td>3.58</td>\n",
       "    </tr>\n",
       "    <tr>\n",
       "      <th>WiiU</th>\n",
       "      <td>115.0</td>\n",
       "      <td>0.562000</td>\n",
       "      <td>1.038778</td>\n",
       "      <td>0.01</td>\n",
       "      <td>0.0600</td>\n",
       "      <td>0.200</td>\n",
       "      <td>0.5950</td>\n",
       "      <td>7.09</td>\n",
       "    </tr>\n",
       "    <tr>\n",
       "      <th>X360</th>\n",
       "      <td>186.0</td>\n",
       "      <td>0.735484</td>\n",
       "      <td>1.663275</td>\n",
       "      <td>0.01</td>\n",
       "      <td>0.0800</td>\n",
       "      <td>0.265</td>\n",
       "      <td>0.7950</td>\n",
       "      <td>16.27</td>\n",
       "    </tr>\n",
       "    <tr>\n",
       "      <th>XOne</th>\n",
       "      <td>247.0</td>\n",
       "      <td>0.645020</td>\n",
       "      <td>1.036139</td>\n",
       "      <td>0.01</td>\n",
       "      <td>0.0600</td>\n",
       "      <td>0.220</td>\n",
       "      <td>0.6850</td>\n",
       "      <td>7.39</td>\n",
       "    </tr>\n",
       "  </tbody>\n",
       "</table>\n",
       "</div>"
      ],
      "text/plain": [
       "          count      mean       std   min     25%    50%     75%    max\n",
       "platform                                                               \n",
       "3DS       303.0  0.472772  1.381347  0.01  0.0400  0.090  0.2800  14.60\n",
       "DS          8.0  0.192500  0.172026  0.03  0.0675  0.150  0.2525   0.51\n",
       "PC        189.0  0.208624  0.352304  0.01  0.0300  0.080  0.2300   3.05\n",
       "PS3       345.0  0.525884  1.451939  0.01  0.0400  0.150  0.5100  21.05\n",
       "PS4       392.0  0.801378  1.609456  0.01  0.0600  0.200  0.7300  14.63\n",
       "PSP        67.0  0.052239  0.059768  0.01  0.0150  0.020  0.0700   0.24\n",
       "PSV       358.0  0.092151  0.153816  0.01  0.0200  0.040  0.1100   1.96\n",
       "Wii        23.0  0.593913  0.915432  0.01  0.0450  0.180  0.7550   3.58\n",
       "WiiU      115.0  0.562000  1.038778  0.01  0.0600  0.200  0.5950   7.09\n",
       "X360      186.0  0.735484  1.663275  0.01  0.0800  0.265  0.7950  16.27\n",
       "XOne      247.0  0.645020  1.036139  0.01  0.0600  0.220  0.6850   7.39"
      ]
     },
     "execution_count": 66,
     "metadata": {},
     "output_type": "execute_result"
    }
   ],
   "source": [
    "actual_platform_data.groupby('platform')['total_sales'].describe()"
   ]
  },
  {
   "cell_type": "markdown",
   "metadata": {},
   "source": [
    "#### Постороим диаграму размаха по всем платформам"
   ]
  },
  {
   "cell_type": "code",
   "execution_count": 67,
   "metadata": {},
   "outputs": [
    {
     "data": {
      "image/png": "[encoded data removed]",
      "text/plain": [
       "<Figure size 1080x504 with 1 Axes>"
      ]
     },
     "metadata": {
      "needs_background": "light"
     },
     "output_type": "display_data"
    }
   ],
   "source": [
    "actual_platform_data.boxplot(column='total_sales', by='platform', figsize=(15,7))\n",
    "plt.show()"
   ]
  },
  {
   "cell_type": "markdown",
   "metadata": {},
   "source": [
    "- Видем виброс 20млн+ на PS3, достаточно продаваемая игра\n",
    "- В основном выбросы находятся на уровне 5-10 млн\n",
    "- В среднем диапазон продаж находятся на отметке 1-5 млн "
   ]
  },
  {
   "cell_type": "markdown",
   "metadata": {},
   "source": [
    "**Теперь посмотрим на диаграму без выбросов до 5 млн**"
   ]
  },
  {
   "cell_type": "code",
   "execution_count": 68,
   "metadata": {},
   "outputs": [
    {
     "data": {
      "image/png": "[encoded data removed]",
      "text/plain": [
       "<Figure size 1080x504 with 1 Axes>"
      ]
     },
     "metadata": {
      "needs_background": "light"
     },
     "output_type": "display_data"
    }
   ],
   "source": [
    "actual_platform_data.boxplot(column='total_sales', by='platform', figsize=(15,7))\n",
    "plt.ylim(0, 5)\n",
    "plt.show()"
   ]
  },
  {
   "cell_type": "code",
   "execution_count": 69,
   "metadata": {},
   "outputs": [
    {
     "data": {
      "text/html": [
       "<div>\n",
       "<style scoped>\n",
       "    .dataframe tbody tr th:only-of-type {\n",
       "        vertical-align: middle;\n",
       "    }\n",
       "\n",
       "    .dataframe tbody tr th {\n",
       "        vertical-align: top;\n",
       "    }\n",
       "\n",
       "    .dataframe thead th {\n",
       "        text-align: right;\n",
       "    }\n",
       "</style>\n",
       "<table border=\"1\" class=\"dataframe\">\n",
       "  <thead>\n",
       "    <tr style=\"text-align: right;\">\n",
       "      <th></th>\n",
       "      <th>total_sales</th>\n",
       "    </tr>\n",
       "    <tr>\n",
       "      <th>platform</th>\n",
       "      <th></th>\n",
       "    </tr>\n",
       "  </thead>\n",
       "  <tbody>\n",
       "    <tr>\n",
       "      <th>PS4</th>\n",
       "      <td>314.14</td>\n",
       "    </tr>\n",
       "    <tr>\n",
       "      <th>PS3</th>\n",
       "      <td>181.43</td>\n",
       "    </tr>\n",
       "    <tr>\n",
       "      <th>XOne</th>\n",
       "      <td>159.32</td>\n",
       "    </tr>\n",
       "    <tr>\n",
       "      <th>3DS</th>\n",
       "      <td>143.25</td>\n",
       "    </tr>\n",
       "    <tr>\n",
       "      <th>X360</th>\n",
       "      <td>136.80</td>\n",
       "    </tr>\n",
       "    <tr>\n",
       "      <th>WiiU</th>\n",
       "      <td>64.63</td>\n",
       "    </tr>\n",
       "    <tr>\n",
       "      <th>PC</th>\n",
       "      <td>39.43</td>\n",
       "    </tr>\n",
       "    <tr>\n",
       "      <th>PSV</th>\n",
       "      <td>32.99</td>\n",
       "    </tr>\n",
       "    <tr>\n",
       "      <th>Wii</th>\n",
       "      <td>13.66</td>\n",
       "    </tr>\n",
       "    <tr>\n",
       "      <th>PSP</th>\n",
       "      <td>3.50</td>\n",
       "    </tr>\n",
       "  </tbody>\n",
       "</table>\n",
       "</div>"
      ],
      "text/plain": [
       "          total_sales\n",
       "platform             \n",
       "PS4            314.14\n",
       "PS3            181.43\n",
       "XOne           159.32\n",
       "3DS            143.25\n",
       "X360           136.80\n",
       "WiiU            64.63\n",
       "PC              39.43\n",
       "PSV             32.99\n",
       "Wii             13.66\n",
       "PSP              3.50"
      ]
     },
     "execution_count": 69,
     "metadata": {},
     "output_type": "execute_result"
    }
   ],
   "source": [
    "actual_platform_data.pivot_table(index='platform', values='total_sales', aggfunc='sum').nlargest(10, 'total_sales')"
   ]
  },
  {
   "cell_type": "markdown",
   "metadata": {},
   "source": [
    "**После построения диграмы можно сравнить показатели топов платформ и тех, что не попали в рейтинги:**"
   ]
  },
  {
   "cell_type": "markdown",
   "metadata": {},
   "source": [
    "- Из общего списка можем выделить: PS4, PS3, XOne, 3DS, X360\n",
    "- Медианы у всех не выходит за пределы 0.5, кроме топовой 3DS, у нее ниже"
   ]
  },
  {
   "cell_type": "markdown",
   "metadata": {},
   "source": [
    "#### Сравним корреляции и по другим платформам"
   ]
  },
  {
   "cell_type": "code",
   "execution_count": 70,
   "metadata": {},
   "outputs": [
    {
     "name": "stdout",
     "output_type": "stream",
     "text": [
      "\n",
      "PS3:\n",
      "Коэффициент корреляции user_score и total_sales: 0.02\n",
      "Коэффициент корреляции critic_score и total_sales: 0.33\n",
      "\n",
      "XOne:\n",
      "Коэффициент корреляции user_score и total_sales: -0.09\n",
      "Коэффициент корреляции critic_score и total_sales: 0.41\n",
      "\n",
      "3DS:\n",
      "Коэффициент корреляции user_score и total_sales: 0.27\n",
      "Коэффициент корреляции critic_score и total_sales: 0.34\n",
      "\n",
      "X360:\n",
      "Коэффициент корреляции user_score и total_sales: -0.01\n",
      "Коэффициент корреляции critic_score и total_sales: 0.35\n"
     ]
    }
   ],
   "source": [
    "for platform in ['PS3', 'XOne', '3DS', 'X360']:\n",
    "    print('\\n{0}:'.format(platform))\n",
    "    for column in ['user_score', 'critic_score']:\n",
    "        all_plat = actual_platform_data.query('platform == @platform and (user_score != -1) and (critic_score != -1)')\n",
    "        print('Коэффициент корреляции {0} и total_sales: {1}'.\\\n",
    "              format(column, round(all_plat[column].corr(all_plat['total_sales']), 2)))"
   ]
  },
  {
   "cell_type": "code",
   "execution_count": 71,
   "metadata": {},
   "outputs": [
    {
     "data": {
      "image/png": "[encoded data removed]",
      "text/plain": [
       "<Figure size 720x288 with 1 Axes>"
      ]
     },
     "metadata": {
      "needs_background": "light"
     },
     "output_type": "display_data"
    },
    {
     "data": {
      "image/png": "[encoded data removed]",
      "text/plain": [
       "<Figure size 720x288 with 1 Axes>"
      ]
     },
     "metadata": {
      "needs_background": "light"
     },
     "output_type": "display_data"
    }
   ],
   "source": [
    "ps3 = actual_platform_data.query('platform == \"PS3\"')\n",
    "user_ps3 = ps3.query('user_score != -1')\n",
    "critic_ps3 = ps3.query('critic_score != -1')\n",
    "user_ps3.sort_values(by='user_score',ascending=True).plot(kind='scatter',x='user_score',y='total_sales',figsize=(10,4), ylim=(0, 1.5), title='Зависимость продаж PS3 от отзывов пользователей');\n",
    "critic_ps3.sort_values(by='critic_score',ascending=True).plot(kind='scatter',x='critic_score',y='total_sales',figsize=(10,4), ylim=(0, 1.5),title='Зависимость продаж PS3 от отзывов критиков');"
   ]
  },
  {
   "cell_type": "code",
   "execution_count": 72,
   "metadata": {},
   "outputs": [
    {
     "data": {
      "image/png": "[encoded data removed]",
      "text/plain": [
       "<Figure size 720x288 with 1 Axes>"
      ]
     },
     "metadata": {
      "needs_background": "light"
     },
     "output_type": "display_data"
    },
    {
     "data": {
      "image/png": "[encoded data removed]",
      "text/plain": [
       "<Figure size 720x288 with 1 Axes>"
      ]
     },
     "metadata": {
      "needs_background": "light"
     },
     "output_type": "display_data"
    }
   ],
   "source": [
    "xone = actual_platform_data.query('platform == \"XOne\"')\n",
    "user_xone = xone.query('user_score != -1')\n",
    "critic_xone = xone.query('critic_score != -1')\n",
    "user_xone.sort_values(by='user_score',ascending=True).plot(kind='scatter',x='user_score',y='total_sales',figsize=(10,4), ylim=(0, 1.5), title='Зависимость продаж XOne от отзывов пользователей');\n",
    "critic_xone.sort_values(by='critic_score',ascending=True).plot(kind='scatter',x='critic_score',y='total_sales',figsize=(10,4), ylim=(0, 1.5),title='Зависимость продаж XOne от отзывов критиков');"
   ]
  },
  {
   "cell_type": "code",
   "execution_count": 73,
   "metadata": {},
   "outputs": [
    {
     "data": {
      "image/png": "[encoded data removed]",
      "text/plain": [
       "<Figure size 720x288 with 1 Axes>"
      ]
     },
     "metadata": {
      "needs_background": "light"
     },
     "output_type": "display_data"
    },
    {
     "data": {
      "image/png": "[encoded data removed]",
      "text/plain": [
       "<Figure size 720x288 with 1 Axes>"
      ]
     },
     "metadata": {
      "needs_background": "light"
     },
     "output_type": "display_data"
    }
   ],
   "source": [
    "ds = actual_platform_data.query('platform == \"3DS\"')\n",
    "user_ds = ds.query('user_score != -1')\n",
    "critic_ds = ds.query('critic_score != -1')\n",
    "user_ds.sort_values(by='user_score',ascending=True).plot(kind='scatter',x='user_score',y='total_sales',figsize=(10,4), ylim=(0, 1.5), title='Зависимость продаж 3DS от отзывов пользователей');\n",
    "critic_ds.sort_values(by='critic_score',ascending=True).plot(kind='scatter',x='critic_score',y='total_sales',figsize=(10,4), ylim=(0, 1.5),title='Зависимость продаж 3DS от отзывов критиков');"
   ]
  },
  {
   "cell_type": "code",
   "execution_count": 74,
   "metadata": {},
   "outputs": [
    {
     "data": {
      "image/png": "[encoded data removed]",
      "text/plain": [
       "<Figure size 720x288 with 1 Axes>"
      ]
     },
     "metadata": {
      "needs_background": "light"
     },
     "output_type": "display_data"
    },
    {
     "data": {
      "image/png": "[encoded data removed]",
      "text/plain": [
       "<Figure size 720x288 with 1 Axes>"
      ]
     },
     "metadata": {
      "needs_background": "light"
     },
     "output_type": "display_data"
    }
   ],
   "source": [
    "x360 = actual_platform_data.query('platform == \"X360\"')\n",
    "user_x360 = x360.query('user_score != -1')\n",
    "critic_x360 = x360.query('critic_score != -1')\n",
    "user_x360.sort_values(by='user_score',ascending=True).plot(kind='scatter',x='user_score',y='total_sales',figsize=(10,4), ylim=(0, 1.5), title='Зависимость продаж X360 от отзывов пользователей');\n",
    "critic_x360.sort_values(by='critic_score',ascending=True).plot(kind='scatter',x='critic_score',y='total_sales',figsize=(10,4), ylim=(0, 1.5),title='Зависимость продаж X360 от отзывов критиков');"
   ]
  },
  {
   "cell_type": "markdown",
   "metadata": {},
   "source": [
    "#### Выподы по другим платформам"
   ]
  },
  {
   "cell_type": "markdown",
   "metadata": {},
   "source": [
    "**Как и на PS4, для всех платформ характерно:**\n",
    "- Отзывы критиков средне влияют на продажи\n",
    "- Отзывы пользователей не влияют на продажи"
   ]
  },
  {
   "cell_type": "markdown",
   "metadata": {},
   "source": [
    "### Общее распределение игр по жанрам"
   ]
  },
  {
   "cell_type": "code",
   "execution_count": 75,
   "metadata": {},
   "outputs": [],
   "source": [
    "median_genre = actual_platform_data.groupby('genre')['total_sales'].median().sort_values(ascending=False)\n",
    "count_genre = actual_platform_data.groupby('genre')['total_sales'].count().sort_values(ascending=False)"
   ]
  },
  {
   "cell_type": "code",
   "execution_count": 76,
   "metadata": {},
   "outputs": [
    {
     "data": {
      "image/png": "[encoded data removed]",
      "text/plain": [
       "<Figure size 720x432 with 1 Axes>"
      ]
     },
     "metadata": {
      "needs_background": "light"
     },
     "output_type": "display_data"
    }
   ],
   "source": [
    "count_genre.plot(y='genre',grid=True,figsize=(10,6),kind='bar',title='Количеством продаж по жанрам');"
   ]
  },
  {
   "cell_type": "code",
   "execution_count": 77,
   "metadata": {},
   "outputs": [
    {
     "data": {
      "image/png": "[encoded data removed]",
      "text/plain": [
       "<Figure size 720x432 with 1 Axes>"
      ]
     },
     "metadata": {
      "needs_background": "light"
     },
     "output_type": "display_data"
    }
   ],
   "source": [
    "median_genre.plot(y='genre',grid=True,figsize=(10,6),kind='bar',alpha=0.5,title='Медианные продажы по жанрам');"
   ]
  },
  {
   "cell_type": "markdown",
   "metadata": {},
   "source": [
    "**Вывод:**\n",
    "- Больше всего покупают игры жанра Action\n",
    "- Меньше всего покупают Стратегии, пазлы и платформеры\n",
    "- В плане выручки картина совсем другая\n",
    "- Больше всего выручки приносят Шутеры и Платформеры, а Action игры оказались на 6 месте"
   ]
  },
  {
   "cell_type": "markdown",
   "metadata": {},
   "source": [
    "## Шаг. Составьте портрет пользователя каждого региона"
   ]
  },
  {
   "cell_type": "markdown",
   "metadata": {},
   "source": [
    "**Определим для пользователя каждого региона (NA, EU, JP):**"
   ]
  },
  {
   "cell_type": "markdown",
   "metadata": {},
   "source": [
    "**За основу возьмем actual_platform_data с данными за последние 8 лет**"
   ]
  },
  {
   "cell_type": "markdown",
   "metadata": {},
   "source": [
    "### Самые популярные платформы (топ-5)"
   ]
  },
  {
   "cell_type": "markdown",
   "metadata": {},
   "source": [
    "#### Пользователи из Северной Америки (NA)"
   ]
  },
  {
   "cell_type": "code",
   "execution_count": 78,
   "metadata": {},
   "outputs": [
    {
     "data": {
      "text/html": [
       "<div>\n",
       "<style scoped>\n",
       "    .dataframe tbody tr th:only-of-type {\n",
       "        vertical-align: middle;\n",
       "    }\n",
       "\n",
       "    .dataframe tbody tr th {\n",
       "        vertical-align: top;\n",
       "    }\n",
       "\n",
       "    .dataframe thead th {\n",
       "        text-align: right;\n",
       "    }\n",
       "</style>\n",
       "<table border=\"1\" class=\"dataframe\">\n",
       "  <thead>\n",
       "    <tr style=\"text-align: right;\">\n",
       "      <th></th>\n",
       "      <th>na_sales</th>\n",
       "    </tr>\n",
       "    <tr>\n",
       "      <th>platform</th>\n",
       "      <th></th>\n",
       "    </tr>\n",
       "  </thead>\n",
       "  <tbody>\n",
       "    <tr>\n",
       "      <th>PS4</th>\n",
       "      <td>108.74</td>\n",
       "    </tr>\n",
       "    <tr>\n",
       "      <th>XOne</th>\n",
       "      <td>93.12</td>\n",
       "    </tr>\n",
       "    <tr>\n",
       "      <th>X360</th>\n",
       "      <td>81.66</td>\n",
       "    </tr>\n",
       "    <tr>\n",
       "      <th>PS3</th>\n",
       "      <td>63.50</td>\n",
       "    </tr>\n",
       "    <tr>\n",
       "      <th>3DS</th>\n",
       "      <td>38.20</td>\n",
       "    </tr>\n",
       "  </tbody>\n",
       "</table>\n",
       "</div>"
      ],
      "text/plain": [
       "          na_sales\n",
       "platform          \n",
       "PS4         108.74\n",
       "XOne         93.12\n",
       "X360         81.66\n",
       "PS3          63.50\n",
       "3DS          38.20"
      ]
     },
     "execution_count": 78,
     "metadata": {},
     "output_type": "execute_result"
    }
   ],
   "source": [
    "na_platform = actual_platform_data.pivot_table(index='platform',values=['na_sales'],aggfunc=('sum'))\n",
    "na_platform = na_platform.sort_values(by='na_sales',ascending=False).head(5)\n",
    "na_platform"
   ]
  },
  {
   "cell_type": "markdown",
   "metadata": {},
   "source": [
    "**Самая популярная платформа в Северной Америке - Xbox 360**"
   ]
  },
  {
   "cell_type": "markdown",
   "metadata": {},
   "source": [
    "#### Пользователи из Европы (EU)"
   ]
  },
  {
   "cell_type": "code",
   "execution_count": 79,
   "metadata": {},
   "outputs": [
    {
     "data": {
      "text/html": [
       "<div>\n",
       "<style scoped>\n",
       "    .dataframe tbody tr th:only-of-type {\n",
       "        vertical-align: middle;\n",
       "    }\n",
       "\n",
       "    .dataframe tbody tr th {\n",
       "        vertical-align: top;\n",
       "    }\n",
       "\n",
       "    .dataframe thead th {\n",
       "        text-align: right;\n",
       "    }\n",
       "</style>\n",
       "<table border=\"1\" class=\"dataframe\">\n",
       "  <thead>\n",
       "    <tr style=\"text-align: right;\">\n",
       "      <th></th>\n",
       "      <th>eu_sales</th>\n",
       "    </tr>\n",
       "    <tr>\n",
       "      <th>platform</th>\n",
       "      <th></th>\n",
       "    </tr>\n",
       "  </thead>\n",
       "  <tbody>\n",
       "    <tr>\n",
       "      <th>PS4</th>\n",
       "      <td>141.09</td>\n",
       "    </tr>\n",
       "    <tr>\n",
       "      <th>PS3</th>\n",
       "      <td>67.81</td>\n",
       "    </tr>\n",
       "    <tr>\n",
       "      <th>XOne</th>\n",
       "      <td>51.59</td>\n",
       "    </tr>\n",
       "    <tr>\n",
       "      <th>X360</th>\n",
       "      <td>42.52</td>\n",
       "    </tr>\n",
       "    <tr>\n",
       "      <th>3DS</th>\n",
       "      <td>30.96</td>\n",
       "    </tr>\n",
       "  </tbody>\n",
       "</table>\n",
       "</div>"
      ],
      "text/plain": [
       "          eu_sales\n",
       "platform          \n",
       "PS4         141.09\n",
       "PS3          67.81\n",
       "XOne         51.59\n",
       "X360         42.52\n",
       "3DS          30.96"
      ]
     },
     "execution_count": 79,
     "metadata": {},
     "output_type": "execute_result"
    }
   ],
   "source": [
    "eu_platform = actual_platform_data.pivot_table(index='platform',values=['eu_sales'],aggfunc=('sum'))\n",
    "eu_platform = eu_platform.sort_values(by='eu_sales',ascending=False).head(5)\n",
    "eu_platform"
   ]
  },
  {
   "cell_type": "markdown",
   "metadata": {},
   "source": [
    "**Самая популярная платформа в Европе - PS3**"
   ]
  },
  {
   "cell_type": "markdown",
   "metadata": {},
   "source": [
    "#### Пользователи из Японии (JP)"
   ]
  },
  {
   "cell_type": "code",
   "execution_count": 80,
   "metadata": {},
   "outputs": [
    {
     "data": {
      "text/html": [
       "<div>\n",
       "<style scoped>\n",
       "    .dataframe tbody tr th:only-of-type {\n",
       "        vertical-align: middle;\n",
       "    }\n",
       "\n",
       "    .dataframe tbody tr th {\n",
       "        vertical-align: top;\n",
       "    }\n",
       "\n",
       "    .dataframe thead th {\n",
       "        text-align: right;\n",
       "    }\n",
       "</style>\n",
       "<table border=\"1\" class=\"dataframe\">\n",
       "  <thead>\n",
       "    <tr style=\"text-align: right;\">\n",
       "      <th></th>\n",
       "      <th>jp_sales</th>\n",
       "    </tr>\n",
       "    <tr>\n",
       "      <th>platform</th>\n",
       "      <th></th>\n",
       "    </tr>\n",
       "  </thead>\n",
       "  <tbody>\n",
       "    <tr>\n",
       "      <th>3DS</th>\n",
       "      <td>67.81</td>\n",
       "    </tr>\n",
       "    <tr>\n",
       "      <th>PS3</th>\n",
       "      <td>23.35</td>\n",
       "    </tr>\n",
       "    <tr>\n",
       "      <th>PSV</th>\n",
       "      <td>18.59</td>\n",
       "    </tr>\n",
       "    <tr>\n",
       "      <th>PS4</th>\n",
       "      <td>15.96</td>\n",
       "    </tr>\n",
       "    <tr>\n",
       "      <th>WiiU</th>\n",
       "      <td>10.88</td>\n",
       "    </tr>\n",
       "  </tbody>\n",
       "</table>\n",
       "</div>"
      ],
      "text/plain": [
       "          jp_sales\n",
       "platform          \n",
       "3DS          67.81\n",
       "PS3          23.35\n",
       "PSV          18.59\n",
       "PS4          15.96\n",
       "WiiU         10.88"
      ]
     },
     "execution_count": 80,
     "metadata": {},
     "output_type": "execute_result"
    }
   ],
   "source": [
    "jp_platform = actual_platform_data.pivot_table(index='platform',values=['jp_sales'],aggfunc=('sum'))\n",
    "jp_platform = jp_platform.sort_values(by='jp_sales',ascending=False).head(5)\n",
    "jp_platform"
   ]
  },
  {
   "cell_type": "markdown",
   "metadata": {},
   "source": [
    "**Самая популярная платформа в Японии - Nintendo 3DS**"
   ]
  },
  {
   "cell_type": "markdown",
   "metadata": {},
   "source": [
    "#### Вывод"
   ]
  },
  {
   "cell_type": "markdown",
   "metadata": {},
   "source": [
    "- В каждом регионе своя популярная платформа\n",
    "- Самая популярная платформа в Северной Америке - Xbox 360\n",
    "- Самая популярная платформа в Европе - PS3\n",
    "- Самая популярная платформа в Японии - Nintendo 3DS"
   ]
  },
  {
   "cell_type": "markdown",
   "metadata": {},
   "source": [
    "### Самые популярные жанры (топ-5)"
   ]
  },
  {
   "cell_type": "markdown",
   "metadata": {},
   "source": [
    "#### Пользователи из Северной Америки (NA)"
   ]
  },
  {
   "cell_type": "code",
   "execution_count": 81,
   "metadata": {},
   "outputs": [
    {
     "data": {
      "text/html": [
       "<div>\n",
       "<style scoped>\n",
       "    .dataframe tbody tr th:only-of-type {\n",
       "        vertical-align: middle;\n",
       "    }\n",
       "\n",
       "    .dataframe tbody tr th {\n",
       "        vertical-align: top;\n",
       "    }\n",
       "\n",
       "    .dataframe thead th {\n",
       "        text-align: right;\n",
       "    }\n",
       "</style>\n",
       "<table border=\"1\" class=\"dataframe\">\n",
       "  <thead>\n",
       "    <tr style=\"text-align: right;\">\n",
       "      <th></th>\n",
       "      <th>na_sales</th>\n",
       "    </tr>\n",
       "    <tr>\n",
       "      <th>genre</th>\n",
       "      <th></th>\n",
       "    </tr>\n",
       "  </thead>\n",
       "  <tbody>\n",
       "    <tr>\n",
       "      <th>action</th>\n",
       "      <td>126.05</td>\n",
       "    </tr>\n",
       "    <tr>\n",
       "      <th>shooter</th>\n",
       "      <td>109.74</td>\n",
       "    </tr>\n",
       "    <tr>\n",
       "      <th>sports</th>\n",
       "      <td>65.27</td>\n",
       "    </tr>\n",
       "    <tr>\n",
       "      <th>role-playing</th>\n",
       "      <td>46.40</td>\n",
       "    </tr>\n",
       "    <tr>\n",
       "      <th>misc</th>\n",
       "      <td>27.49</td>\n",
       "    </tr>\n",
       "  </tbody>\n",
       "</table>\n",
       "</div>"
      ],
      "text/plain": [
       "              na_sales\n",
       "genre                 \n",
       "action          126.05\n",
       "shooter         109.74\n",
       "sports           65.27\n",
       "role-playing     46.40\n",
       "misc             27.49"
      ]
     },
     "execution_count": 81,
     "metadata": {},
     "output_type": "execute_result"
    }
   ],
   "source": [
    "na_genre = actual_platform_data.pivot_table(index='genre',values=['na_sales'],aggfunc=('sum'))\n",
    "na_genre = na_genre.sort_values(by='na_sales',ascending=False).head(5)\n",
    "na_genre"
   ]
  },
  {
   "cell_type": "markdown",
   "metadata": {},
   "source": [
    "**Самый популярный жанр в Северной Америке - Action**"
   ]
  },
  {
   "cell_type": "markdown",
   "metadata": {},
   "source": [
    "#### Пользователи из Европы (EU)"
   ]
  },
  {
   "cell_type": "code",
   "execution_count": 82,
   "metadata": {},
   "outputs": [
    {
     "data": {
      "text/html": [
       "<div>\n",
       "<style scoped>\n",
       "    .dataframe tbody tr th:only-of-type {\n",
       "        vertical-align: middle;\n",
       "    }\n",
       "\n",
       "    .dataframe tbody tr th {\n",
       "        vertical-align: top;\n",
       "    }\n",
       "\n",
       "    .dataframe thead th {\n",
       "        text-align: right;\n",
       "    }\n",
       "</style>\n",
       "<table border=\"1\" class=\"dataframe\">\n",
       "  <thead>\n",
       "    <tr style=\"text-align: right;\">\n",
       "      <th></th>\n",
       "      <th>eu_sales</th>\n",
       "    </tr>\n",
       "    <tr>\n",
       "      <th>genre</th>\n",
       "      <th></th>\n",
       "    </tr>\n",
       "  </thead>\n",
       "  <tbody>\n",
       "    <tr>\n",
       "      <th>action</th>\n",
       "      <td>118.13</td>\n",
       "    </tr>\n",
       "    <tr>\n",
       "      <th>shooter</th>\n",
       "      <td>87.86</td>\n",
       "    </tr>\n",
       "    <tr>\n",
       "      <th>sports</th>\n",
       "      <td>60.52</td>\n",
       "    </tr>\n",
       "    <tr>\n",
       "      <th>role-playing</th>\n",
       "      <td>36.97</td>\n",
       "    </tr>\n",
       "    <tr>\n",
       "      <th>racing</th>\n",
       "      <td>20.19</td>\n",
       "    </tr>\n",
       "  </tbody>\n",
       "</table>\n",
       "</div>"
      ],
      "text/plain": [
       "              eu_sales\n",
       "genre                 \n",
       "action          118.13\n",
       "shooter          87.86\n",
       "sports           60.52\n",
       "role-playing     36.97\n",
       "racing           20.19"
      ]
     },
     "execution_count": 82,
     "metadata": {},
     "output_type": "execute_result"
    }
   ],
   "source": [
    "eu_genre = actual_platform_data.pivot_table(index='genre',values=['eu_sales'],aggfunc=('sum'))\n",
    "eu_genre = eu_genre.sort_values(by='eu_sales',ascending=False).head(5)\n",
    "eu_genre"
   ]
  },
  {
   "cell_type": "markdown",
   "metadata": {},
   "source": [
    "**Самый популярный жанр в Европе - Action**"
   ]
  },
  {
   "cell_type": "markdown",
   "metadata": {},
   "source": [
    "#### Пользователи из Японии (JP)"
   ]
  },
  {
   "cell_type": "code",
   "execution_count": 83,
   "metadata": {},
   "outputs": [
    {
     "data": {
      "text/html": [
       "<div>\n",
       "<style scoped>\n",
       "    .dataframe tbody tr th:only-of-type {\n",
       "        vertical-align: middle;\n",
       "    }\n",
       "\n",
       "    .dataframe tbody tr th {\n",
       "        vertical-align: top;\n",
       "    }\n",
       "\n",
       "    .dataframe thead th {\n",
       "        text-align: right;\n",
       "    }\n",
       "</style>\n",
       "<table border=\"1\" class=\"dataframe\">\n",
       "  <thead>\n",
       "    <tr style=\"text-align: right;\">\n",
       "      <th></th>\n",
       "      <th>jp_sales</th>\n",
       "    </tr>\n",
       "    <tr>\n",
       "      <th>genre</th>\n",
       "      <th></th>\n",
       "    </tr>\n",
       "  </thead>\n",
       "  <tbody>\n",
       "    <tr>\n",
       "      <th>role-playing</th>\n",
       "      <td>51.04</td>\n",
       "    </tr>\n",
       "    <tr>\n",
       "      <th>action</th>\n",
       "      <td>40.49</td>\n",
       "    </tr>\n",
       "    <tr>\n",
       "      <th>misc</th>\n",
       "      <td>9.20</td>\n",
       "    </tr>\n",
       "    <tr>\n",
       "      <th>fighting</th>\n",
       "      <td>7.65</td>\n",
       "    </tr>\n",
       "    <tr>\n",
       "      <th>shooter</th>\n",
       "      <td>6.61</td>\n",
       "    </tr>\n",
       "  </tbody>\n",
       "</table>\n",
       "</div>"
      ],
      "text/plain": [
       "              jp_sales\n",
       "genre                 \n",
       "role-playing     51.04\n",
       "action           40.49\n",
       "misc              9.20\n",
       "fighting          7.65\n",
       "shooter           6.61"
      ]
     },
     "execution_count": 83,
     "metadata": {},
     "output_type": "execute_result"
    }
   ],
   "source": [
    "jp_genre = actual_platform_data.pivot_table(index='genre',values=['jp_sales'],aggfunc=('sum'))\n",
    "jp_genre = jp_genre.sort_values(by='jp_sales',ascending=False).head(5)\n",
    "jp_genre"
   ]
  },
  {
   "cell_type": "markdown",
   "metadata": {},
   "source": [
    "**Самый популярный жанр в Японии - Role-Playing**"
   ]
  },
  {
   "cell_type": "markdown",
   "metadata": {},
   "source": [
    "#### Круговые диаграммы топ жанров по регионам:"
   ]
  },
  {
   "cell_type": "code",
   "execution_count": 84,
   "metadata": {},
   "outputs": [
    {
     "data": {
      "image/png": "[encoded data removed]",
      "text/plain": [
       "<Figure size 432x288 with 1 Axes>"
      ]
     },
     "metadata": {},
     "output_type": "display_data"
    },
    {
     "data": {
      "image/png": "[encoded data removed]",
      "text/plain": [
       "<Figure size 432x288 with 1 Axes>"
      ]
     },
     "metadata": {},
     "output_type": "display_data"
    },
    {
     "data": {
      "image/png": "[encoded data removed]",
      "text/plain": [
       "<Figure size 432x288 with 1 Axes>"
      ]
     },
     "metadata": {},
     "output_type": "display_data"
    }
   ],
   "source": [
    "na_genre.plot(kind='pie',y=\"na_sales\", autopct='%1.1f%%', title='Доля популярных жанров по Америке');\n",
    "eu_genre.plot(kind='pie',y=\"eu_sales\", autopct='%1.1f%%', title='Доля популярных жанров по Европе');\n",
    "jp_genre.plot(kind='pie',y=\"jp_sales\", autopct='%1.1f%%', title='Доля популярных жанров по Японии');"
   ]
  },
  {
   "cell_type": "markdown",
   "metadata": {},
   "source": [
    "#### Вывод"
   ]
  },
  {
   "cell_type": "markdown",
   "metadata": {},
   "source": [
    "- В Америке и Европе самый популярный жанр Action\n",
    "- В Америке и Европе одинаковый топ5 жанров игр\n",
    "- В Японии самым популярным оказалось Role-Playing, но Action на втором месте"
   ]
  },
  {
   "cell_type": "markdown",
   "metadata": {},
   "source": [
    "### Влияет ли рейтинг ESRB на продажи в отдельном регионе?"
   ]
  },
  {
   "cell_type": "markdown",
   "metadata": {},
   "source": [
    "#### Пользователи из Северной Америки (NA)"
   ]
  },
  {
   "cell_type": "code",
   "execution_count": 85,
   "metadata": {},
   "outputs": [
    {
     "data": {
      "text/html": [
       "<div>\n",
       "<style scoped>\n",
       "    .dataframe tbody tr th:only-of-type {\n",
       "        vertical-align: middle;\n",
       "    }\n",
       "\n",
       "    .dataframe tbody tr th {\n",
       "        vertical-align: top;\n",
       "    }\n",
       "\n",
       "    .dataframe thead th {\n",
       "        text-align: right;\n",
       "    }\n",
       "</style>\n",
       "<table border=\"1\" class=\"dataframe\">\n",
       "  <thead>\n",
       "    <tr style=\"text-align: right;\">\n",
       "      <th></th>\n",
       "      <th>na_sales</th>\n",
       "    </tr>\n",
       "    <tr>\n",
       "      <th>rating</th>\n",
       "      <th></th>\n",
       "    </tr>\n",
       "  </thead>\n",
       "  <tbody>\n",
       "    <tr>\n",
       "      <th>M</th>\n",
       "      <td>165.21</td>\n",
       "    </tr>\n",
       "    <tr>\n",
       "      <th>неопределен</th>\n",
       "      <td>89.42</td>\n",
       "    </tr>\n",
       "    <tr>\n",
       "      <th>E</th>\n",
       "      <td>79.05</td>\n",
       "    </tr>\n",
       "    <tr>\n",
       "      <th>E10+</th>\n",
       "      <td>54.24</td>\n",
       "    </tr>\n",
       "    <tr>\n",
       "      <th>T</th>\n",
       "      <td>49.79</td>\n",
       "    </tr>\n",
       "  </tbody>\n",
       "</table>\n",
       "</div>"
      ],
      "text/plain": [
       "             na_sales\n",
       "rating               \n",
       "M              165.21\n",
       "неопределен     89.42\n",
       "E               79.05\n",
       "E10+            54.24\n",
       "T               49.79"
      ]
     },
     "execution_count": 85,
     "metadata": {},
     "output_type": "execute_result"
    }
   ],
   "source": [
    "na_ESRB = actual_platform_data.pivot_table(index='rating',values=['na_sales'],aggfunc=('sum'))\n",
    "na_ESRB = na_ESRB.sort_values(by='na_sales',ascending=False)\n",
    "na_ESRB"
   ]
  },
  {
   "cell_type": "markdown",
   "metadata": {},
   "source": [
    "#### Пользователи из Европы (EU)"
   ]
  },
  {
   "cell_type": "code",
   "execution_count": 86,
   "metadata": {},
   "outputs": [
    {
     "data": {
      "text/html": [
       "<div>\n",
       "<style scoped>\n",
       "    .dataframe tbody tr th:only-of-type {\n",
       "        vertical-align: middle;\n",
       "    }\n",
       "\n",
       "    .dataframe tbody tr th {\n",
       "        vertical-align: top;\n",
       "    }\n",
       "\n",
       "    .dataframe thead th {\n",
       "        text-align: right;\n",
       "    }\n",
       "</style>\n",
       "<table border=\"1\" class=\"dataframe\">\n",
       "  <thead>\n",
       "    <tr style=\"text-align: right;\">\n",
       "      <th></th>\n",
       "      <th>eu_sales</th>\n",
       "    </tr>\n",
       "    <tr>\n",
       "      <th>rating</th>\n",
       "      <th></th>\n",
       "    </tr>\n",
       "  </thead>\n",
       "  <tbody>\n",
       "    <tr>\n",
       "      <th>M</th>\n",
       "      <td>145.32</td>\n",
       "    </tr>\n",
       "    <tr>\n",
       "      <th>E</th>\n",
       "      <td>83.36</td>\n",
       "    </tr>\n",
       "    <tr>\n",
       "      <th>неопределен</th>\n",
       "      <td>78.91</td>\n",
       "    </tr>\n",
       "    <tr>\n",
       "      <th>E10+</th>\n",
       "      <td>42.69</td>\n",
       "    </tr>\n",
       "    <tr>\n",
       "      <th>T</th>\n",
       "      <td>41.95</td>\n",
       "    </tr>\n",
       "  </tbody>\n",
       "</table>\n",
       "</div>"
      ],
      "text/plain": [
       "             eu_sales\n",
       "rating               \n",
       "M              145.32\n",
       "E               83.36\n",
       "неопределен     78.91\n",
       "E10+            42.69\n",
       "T               41.95"
      ]
     },
     "execution_count": 86,
     "metadata": {},
     "output_type": "execute_result"
    }
   ],
   "source": [
    "eu_ESRB = actual_platform_data.pivot_table(index='rating',values=['eu_sales'],aggfunc=('sum'))\n",
    "eu_ESRB = eu_ESRB.sort_values(by='eu_sales',ascending=False)\n",
    "eu_ESRB"
   ]
  },
  {
   "cell_type": "markdown",
   "metadata": {},
   "source": [
    "#### Пользователи из Японии (JP)"
   ]
  },
  {
   "cell_type": "code",
   "execution_count": 87,
   "metadata": {},
   "outputs": [
    {
     "data": {
      "text/html": [
       "<div>\n",
       "<style scoped>\n",
       "    .dataframe tbody tr th:only-of-type {\n",
       "        vertical-align: middle;\n",
       "    }\n",
       "\n",
       "    .dataframe tbody tr th {\n",
       "        vertical-align: top;\n",
       "    }\n",
       "\n",
       "    .dataframe thead th {\n",
       "        text-align: right;\n",
       "    }\n",
       "</style>\n",
       "<table border=\"1\" class=\"dataframe\">\n",
       "  <thead>\n",
       "    <tr style=\"text-align: right;\">\n",
       "      <th></th>\n",
       "      <th>jp_sales</th>\n",
       "    </tr>\n",
       "    <tr>\n",
       "      <th>rating</th>\n",
       "      <th></th>\n",
       "    </tr>\n",
       "  </thead>\n",
       "  <tbody>\n",
       "    <tr>\n",
       "      <th>неопределен</th>\n",
       "      <td>85.05</td>\n",
       "    </tr>\n",
       "    <tr>\n",
       "      <th>T</th>\n",
       "      <td>20.59</td>\n",
       "    </tr>\n",
       "    <tr>\n",
       "      <th>E</th>\n",
       "      <td>15.14</td>\n",
       "    </tr>\n",
       "    <tr>\n",
       "      <th>M</th>\n",
       "      <td>14.11</td>\n",
       "    </tr>\n",
       "    <tr>\n",
       "      <th>E10+</th>\n",
       "      <td>5.89</td>\n",
       "    </tr>\n",
       "  </tbody>\n",
       "</table>\n",
       "</div>"
      ],
      "text/plain": [
       "             jp_sales\n",
       "rating               \n",
       "неопределен     85.05\n",
       "T               20.59\n",
       "E               15.14\n",
       "M               14.11\n",
       "E10+             5.89"
      ]
     },
     "execution_count": 87,
     "metadata": {},
     "output_type": "execute_result"
    }
   ],
   "source": [
    "jp_ESRB = actual_platform_data.pivot_table(index='rating',values=['jp_sales'],aggfunc=('sum'))\n",
    "jp_ESRB = jp_ESRB.sort_values(by='jp_sales',ascending=False)\n",
    "jp_ESRB"
   ]
  },
  {
   "cell_type": "code",
   "execution_count": 88,
   "metadata": {},
   "outputs": [
    {
     "data": {
      "image/png": "[encoded data removed]",
      "text/plain": [
       "<Figure size 432x288 with 1 Axes>"
      ]
     },
     "metadata": {
      "needs_background": "light"
     },
     "output_type": "display_data"
    },
    {
     "data": {
      "image/png": "[encoded data removed]",
      "text/plain": [
       "<Figure size 432x288 with 1 Axes>"
      ]
     },
     "metadata": {
      "needs_background": "light"
     },
     "output_type": "display_data"
    },
    {
     "data": {
      "image/png": "[encoded data removed]",
      "text/plain": [
       "<Figure size 432x288 with 1 Axes>"
      ]
     },
     "metadata": {
      "needs_background": "light"
     },
     "output_type": "display_data"
    }
   ],
   "source": [
    "na_ESRB.plot(kind='bar');\n",
    "eu_ESRB.plot(kind='bar');\n",
    "jp_ESRB.plot(kind='bar');"
   ]
  },
  {
   "cell_type": "markdown",
   "metadata": {},
   "source": [
    "#### Вывод"
   ]
  },
  {
   "cell_type": "markdown",
   "metadata": {},
   "source": [
    "- В Америке и Европе 1 и 2 место почти равны\n",
    "- В Америке и Европе лидируют рейтинги «E» (Для всех) и «M» (Для взрослых)\n",
    "- В Японии «E» (Для всех) находится тоже на втором месте\n",
    "- В Японии на первом месте игры, которые не получили рейтинг, в японии илидируют именно японские платформы, так что скорее всего это игры нацелены на японский рынок"
   ]
  },
  {
   "cell_type": "markdown",
   "metadata": {},
   "source": [
    "## Шаг. Проверьте гипотезы"
   ]
  },
  {
   "cell_type": "markdown",
   "metadata": {},
   "source": [
    "### Средние пользовательские рейтинги платформ Xbox One и PC одинаковые"
   ]
  },
  {
   "cell_type": "markdown",
   "metadata": {},
   "source": [
    "**Гипотезы:**\n",
    "- Нулевая гипотеза: cредний пользовательский рейтинг платформы Xbox One и PC равны.\n",
    "- Альтернативная гипотеза: cредний пользовательский рейтинг платформы Xbox One и PC не равны."
   ]
  },
  {
   "cell_type": "code",
   "execution_count": 89,
   "metadata": {},
   "outputs": [],
   "source": [
    "from scipy import stats as st"
   ]
  },
  {
   "cell_type": "markdown",
   "metadata": {},
   "source": [
    "**Создаем даты для каждой платформы отдельно**"
   ]
  },
  {
   "cell_type": "code",
   "execution_count": 90,
   "metadata": {},
   "outputs": [],
   "source": [
    "Xbox_data = actual_platform_data.query('platform==\"XOne\" and (user_score != -1) and (critic_score != -1)')\n",
    "PC_data = actual_platform_data.query('platform==\"PC\" and (user_score != -1) and (critic_score != -1)')"
   ]
  },
  {
   "cell_type": "code",
   "execution_count": 91,
   "metadata": {},
   "outputs": [
    {
     "data": {
      "image/png": "[encoded data removed]",
      "text/plain": [
       "<Figure size 720x432 with 1 Axes>"
      ]
     },
     "metadata": {
      "needs_background": "light"
     },
     "output_type": "display_data"
    }
   ],
   "source": [
    "plt.figure(figsize=(10,6))\n",
    "sns.distplot(Xbox_data['user_score']);"
   ]
  },
  {
   "cell_type": "code",
   "execution_count": 92,
   "metadata": {},
   "outputs": [
    {
     "name": "stdout",
     "output_type": "stream",
     "text": [
      "Среднее значение пользовательского рейтинга платформы XOne: 6.538181818181818\n"
     ]
    }
   ],
   "source": [
    "mean_Xbox = Xbox_data['user_score'].mean()\n",
    "print('Среднее значение пользовательского рейтинга платформы XOne:',mean_Xbox)"
   ]
  },
  {
   "cell_type": "code",
   "execution_count": 93,
   "metadata": {},
   "outputs": [
    {
     "data": {
      "image/png": "[encoded data removed]",
      "text/plain": [
       "<Figure size 720x432 with 1 Axes>"
      ]
     },
     "metadata": {
      "needs_background": "light"
     },
     "output_type": "display_data"
    }
   ],
   "source": [
    "plt.figure(figsize=(10,6))\n",
    "sns.distplot(PC_data['user_score']);"
   ]
  },
  {
   "cell_type": "code",
   "execution_count": 94,
   "metadata": {},
   "outputs": [
    {
     "name": "stdout",
     "output_type": "stream",
     "text": [
      "Среднее значение пользовательского рейтинга платформы PC: 6.3020270270270276\n"
     ]
    }
   ],
   "source": [
    "mean_PC = PC_data['user_score'].mean()\n",
    "print('Среднее значение пользовательского рейтинга платформы PC:',mean_PC)"
   ]
  },
  {
   "cell_type": "code",
   "execution_count": 95,
   "metadata": {},
   "outputs": [
    {
     "name": "stdout",
     "output_type": "stream",
     "text": [
      "p-значение: 0.17882648263401307\n",
      "Не получилось отвергнуть нулевую гипотезу\n"
     ]
    }
   ],
   "source": [
    "xone = Xbox_data.query('platform == \"XOne\"')['user_score']\n",
    "pc = PC_data.query('platform == \"PC\"')['user_score']\n",
    "\n",
    "alpha = .01\n",
    "\n",
    "results = st.ttest_ind(\n",
    "    xone, \n",
    "    pc, \n",
    "    equal_var=False)\n",
    "\n",
    "print('p-значение:', results.pvalue)\n",
    "\n",
    "if (results.pvalue < alpha):\n",
    "    print(\"Отвергаем нулевую гипотезу\")\n",
    "else:\n",
    "    print(\"Не получилось отвергнуть нулевую гипотезу\")"
   ]
  },
  {
   "cell_type": "markdown",
   "metadata": {},
   "source": [
    "**Вывод:**\n",
    "\n",
    "**Проверка показала, что гипотезу о равенстве среднего пользовательского рейтинга для Xbox One и PC не получилось отвергнуть**"
   ]
  },
  {
   "cell_type": "markdown",
   "metadata": {},
   "source": [
    "### Средние пользовательские рейтинги жанров Action и Sports разные."
   ]
  },
  {
   "cell_type": "markdown",
   "metadata": {},
   "source": [
    "**Гипотезы:**\n",
    "- Нулевая гипотеза: средние пользовательские рейтинги жанров Action и Sports одинаковые.\n",
    "- Альтернативная гипотеза: средние пользовательские рейтинги жанров Action и Sports разные."
   ]
  },
  {
   "cell_type": "code",
   "execution_count": 96,
   "metadata": {},
   "outputs": [],
   "source": [
    "Action_data = actual_platform_data.query('genre==\"action\" and (user_score != -1)')\n",
    "Sports_data = actual_platform_data.query('genre==\"sports\" and (user_score != -1)')"
   ]
  },
  {
   "cell_type": "code",
   "execution_count": 97,
   "metadata": {},
   "outputs": [
    {
     "data": {
      "image/png": "[encoded data removed]",
      "text/plain": [
       "<Figure size 720x432 with 1 Axes>"
      ]
     },
     "metadata": {
      "needs_background": "light"
     },
     "output_type": "display_data"
    }
   ],
   "source": [
    "plt.figure(figsize=(10,6))\n",
    "sns.distplot(Action_data['user_score']);"
   ]
  },
  {
   "cell_type": "code",
   "execution_count": 98,
   "metadata": {},
   "outputs": [
    {
     "name": "stdout",
     "output_type": "stream",
     "text": [
      "Среднее значение пользовательского рейтинга жанра Action: 6.837532133676092\n"
     ]
    }
   ],
   "source": [
    "mean_action = Action_data['user_score'].mean()\n",
    "print('Среднее значение пользовательского рейтинга жанра Action:',mean_action)"
   ]
  },
  {
   "cell_type": "code",
   "execution_count": 99,
   "metadata": {},
   "outputs": [
    {
     "data": {
      "image/png": "[encoded data removed]",
      "text/plain": [
       "<Figure size 720x432 with 1 Axes>"
      ]
     },
     "metadata": {
      "needs_background": "light"
     },
     "output_type": "display_data"
    }
   ],
   "source": [
    "plt.figure(figsize=(10,6))\n",
    "sns.distplot(Sports_data['user_score']);"
   ]
  },
  {
   "cell_type": "code",
   "execution_count": 100,
   "metadata": {},
   "outputs": [
    {
     "name": "stdout",
     "output_type": "stream",
     "text": [
      "Среднее значение пользовательского рейтинга жанра Sports: 6.837532133676092\n"
     ]
    }
   ],
   "source": [
    "mean_sports = Sports_data['user_score'].mean()\n",
    "print('Среднее значение пользовательского рейтинга жанра Sports:',mean_action)"
   ]
  },
  {
   "cell_type": "code",
   "execution_count": 101,
   "metadata": {},
   "outputs": [
    {
     "name": "stdout",
     "output_type": "stream",
     "text": [
      "p-значение: 1.4460039700704315e-20\n",
      "Отвергаем нулевую гипотезу\n"
     ]
    }
   ],
   "source": [
    "action = Action_data.query('genre == \"action\"')['user_score']\n",
    "sports = Sports_data.query('genre == \"sports\"')['user_score']\n",
    "\n",
    "alpha = .01\n",
    "\n",
    "results = st.ttest_ind(\n",
    "    action, \n",
    "    sports, \n",
    "    equal_var=False)\n",
    "\n",
    "print('p-значение:', results.pvalue)\n",
    "\n",
    "if (results.pvalue < alpha):\n",
    "    print(\"Отвергаем нулевую гипотезу\")\n",
    "else:\n",
    "    print(\"Не получилось отвергнуть нулевую гипотезу\")"
   ]
  },
  {
   "cell_type": "markdown",
   "metadata": {},
   "source": [
    "**Вывод:**\n",
    "\n",
    "**Проверка показала, что мы отвергаем гипотезу о разности среднего пользовательского рейтинга для жанров Action и Sports**"
   ]
  },
  {
   "cell_type": "markdown",
   "metadata": {},
   "source": [
    "### Вывод"
   ]
  },
  {
   "cell_type": "markdown",
   "metadata": {},
   "source": [
    "**Проверка гипотез начинается с формулировки нулевой гипотезы, которые были сформулированы условием задания**"
   ]
  },
  {
   "cell_type": "markdown",
   "metadata": {},
   "source": [
    "**Исходя из нулевой формулируется альтернативная гипотеза, противополажная по значению**"
   ]
  },
  {
   "cell_type": "markdown",
   "metadata": {},
   "source": [
    "**Для этого нужно посчитать вероятность получить наблюдаемое на выборке значение (чаще всего, среднее) при условии, что нулевая гипотеза верна. Если вероятность меньше — отвергаем нулевую гипотезу**"
   ]
  },
  {
   "cell_type": "markdown",
   "metadata": {},
   "source": [
    "**В первом задании проверка показала, что не получилось отвергнуть нулевую гипотезу о равенстве среднего пользовательского рейтинга для Xbox One и PC**"
   ]
  },
  {
   "cell_type": "markdown",
   "metadata": {},
   "source": [
    "**Во втором задании проверка показала, что мы отвергаем нулевую гипотезу о разности среднего пользовательского рейтинга для жанров Action и Sports**"
   ]
  },
  {
   "cell_type": "markdown",
   "metadata": {},
   "source": [
    "## Шаг. Общий вывод"
   ]
  },
  {
   "cell_type": "markdown",
   "metadata": {},
   "source": [
    "**Данные прошли предобработку, с ними можно работать**"
   ]
  },
  {
   "cell_type": "markdown",
   "metadata": {},
   "source": [
    "**Посчитали сумарные продажи по всем регионам**"
   ]
  },
  {
   "cell_type": "markdown",
   "metadata": {},
   "source": [
    "**Большего всего игр выпускалось с 2006 по 2011 года**"
   ]
  },
  {
   "cell_type": "markdown",
   "metadata": {},
   "source": [
    "**Средняя длина жизни платформы составляет 10, пик популярности посередине, далее идет на спад**"
   ]
  },
  {
   "cell_type": "markdown",
   "metadata": {},
   "source": [
    "**Самыми популярными платформами были PS3 и Xbox One**"
   ]
  },
  {
   "cell_type": "markdown",
   "metadata": {},
   "source": [
    "**Самая популярная платформама на текущий период PS4**"
   ]
  },
  {
   "cell_type": "markdown",
   "metadata": {},
   "source": [
    "**Популярные жанры на Западе: Action или Shooter, для Японии - Role-Playing**"
   ]
  },
  {
   "cell_type": "markdown",
   "metadata": {},
   "source": [
    "**Рейтинг ESRB: E и M для Америки и Европы, для Японии лучше Е**"
   ]
  },
  {
   "cell_type": "markdown",
   "metadata": {},
   "source": [
    "**Не стоит ориентироваться на оценки пользователей, они не оказывает влияния на продажи. Но вот отзывы критиков не стоит упускать из внимания**"
   ]
  },
  {
   "cell_type": "markdown",
   "metadata": {},
   "source": [
    "**Средний пользовательский рейтинг для Xbox One и PC одинаковы**"
   ]
  },
  {
   "cell_type": "markdown",
   "metadata": {},
   "source": [
    "**Средний пользовательский рейтинг для жанров Action и Sports одинаковы**"
   ]
  }
 ],
 "metadata": {
  "ExecuteTimeLog": [
   {
    "duration": 1346,
    "start_time": "2022-12-27T08:44:37.225Z"
   },
   {
    "duration": 123,
    "start_time": "2022-12-27T08:45:16.911Z"
   },
   {
    "duration": 3,
    "start_time": "2022-12-27T08:45:32.060Z"
   },
   {
    "duration": 49,
    "start_time": "2022-12-27T08:45:35.287Z"
   },
   {
    "duration": 243,
    "start_time": "2022-12-27T08:46:03.175Z"
   },
   {
    "duration": 18,
    "start_time": "2022-12-27T08:46:23.487Z"
   },
   {
    "duration": 14,
    "start_time": "2022-12-27T08:46:33.607Z"
   },
   {
    "duration": 14,
    "start_time": "2022-12-27T08:47:48.055Z"
   },
   {
    "duration": 10,
    "start_time": "2022-12-27T08:51:01.373Z"
   },
   {
    "duration": 4,
    "start_time": "2022-12-27T08:51:09.613Z"
   },
   {
    "duration": 4,
    "start_time": "2022-12-27T08:51:31.673Z"
   },
   {
    "duration": 3,
    "start_time": "2022-12-27T08:55:24.519Z"
   },
   {
    "duration": 5,
    "start_time": "2022-12-27T09:02:03.596Z"
   },
   {
    "duration": 3,
    "start_time": "2022-12-27T09:03:28.636Z"
   },
   {
    "duration": 5,
    "start_time": "2022-12-27T09:05:11.766Z"
   },
   {
    "duration": 18,
    "start_time": "2022-12-27T09:05:30.085Z"
   },
   {
    "duration": 9,
    "start_time": "2022-12-27T09:09:46.334Z"
   },
   {
    "duration": 6,
    "start_time": "2022-12-27T09:11:24.543Z"
   },
   {
    "duration": 33,
    "start_time": "2022-12-27T09:11:45.848Z"
   },
   {
    "duration": 30,
    "start_time": "2022-12-27T09:11:59.114Z"
   },
   {
    "duration": 23,
    "start_time": "2022-12-27T09:12:07.609Z"
   },
   {
    "duration": 51,
    "start_time": "2022-12-27T09:32:38.870Z"
   },
   {
    "duration": 1317,
    "start_time": "2022-12-27T09:32:50.267Z"
   },
   {
    "duration": 103,
    "start_time": "2022-12-27T09:32:51.586Z"
   },
   {
    "duration": 26,
    "start_time": "2022-12-27T09:32:51.690Z"
   },
   {
    "duration": 21,
    "start_time": "2022-12-27T09:32:51.720Z"
   },
   {
    "duration": 3,
    "start_time": "2022-12-27T09:32:51.744Z"
   },
   {
    "duration": 10,
    "start_time": "2022-12-27T09:32:51.750Z"
   },
   {
    "duration": 10,
    "start_time": "2022-12-27T09:32:51.762Z"
   },
   {
    "duration": 23,
    "start_time": "2022-12-27T09:32:51.797Z"
   },
   {
    "duration": 18,
    "start_time": "2022-12-27T09:32:51.822Z"
   },
   {
    "duration": 4,
    "start_time": "2022-12-27T09:32:51.843Z"
   },
   {
    "duration": 23,
    "start_time": "2022-12-27T09:32:51.849Z"
   },
   {
    "duration": 8,
    "start_time": "2022-12-27T09:32:51.874Z"
   },
   {
    "duration": 110,
    "start_time": "2022-12-27T09:32:59.275Z"
   },
   {
    "duration": 577,
    "start_time": "2022-12-27T09:39:24.262Z"
   },
   {
    "duration": 1347,
    "start_time": "2022-12-27T09:40:02.864Z"
   },
   {
    "duration": 805,
    "start_time": "2022-12-27T09:40:34.928Z"
   },
   {
    "duration": 10,
    "start_time": "2022-12-27T09:40:57.199Z"
   },
   {
    "duration": 1167,
    "start_time": "2022-12-27T09:41:16.187Z"
   },
   {
    "duration": 50,
    "start_time": "2022-12-27T09:41:17.356Z"
   },
   {
    "duration": 16,
    "start_time": "2022-12-27T09:41:17.407Z"
   },
   {
    "duration": 14,
    "start_time": "2022-12-27T09:41:17.425Z"
   },
   {
    "duration": 3,
    "start_time": "2022-12-27T09:41:17.440Z"
   },
   {
    "duration": 6,
    "start_time": "2022-12-27T09:41:17.444Z"
   },
   {
    "duration": 7,
    "start_time": "2022-12-27T09:41:17.451Z"
   },
   {
    "duration": 48,
    "start_time": "2022-12-27T09:41:17.459Z"
   },
   {
    "duration": 8,
    "start_time": "2022-12-27T09:41:17.508Z"
   },
   {
    "duration": 7,
    "start_time": "2022-12-27T09:41:17.518Z"
   },
   {
    "duration": 20,
    "start_time": "2022-12-27T09:41:17.527Z"
   },
   {
    "duration": 7,
    "start_time": "2022-12-27T09:41:17.549Z"
   },
   {
    "duration": 4,
    "start_time": "2022-12-27T09:41:56.771Z"
   },
   {
    "duration": 4,
    "start_time": "2022-12-27T09:42:06.151Z"
   },
   {
    "duration": 6,
    "start_time": "2022-12-27T09:42:26.288Z"
   },
   {
    "duration": 1057,
    "start_time": "2022-12-27T09:43:27.818Z"
   },
   {
    "duration": 51,
    "start_time": "2022-12-27T09:43:28.877Z"
   },
   {
    "duration": 17,
    "start_time": "2022-12-27T09:43:28.929Z"
   },
   {
    "duration": 14,
    "start_time": "2022-12-27T09:43:28.949Z"
   },
   {
    "duration": 4,
    "start_time": "2022-12-27T09:43:28.964Z"
   },
   {
    "duration": 6,
    "start_time": "2022-12-27T09:43:28.969Z"
   },
   {
    "duration": 21,
    "start_time": "2022-12-27T09:43:28.977Z"
   },
   {
    "duration": 16,
    "start_time": "2022-12-27T09:43:28.999Z"
   },
   {
    "duration": 13,
    "start_time": "2022-12-27T09:43:29.016Z"
   },
   {
    "duration": 5,
    "start_time": "2022-12-27T09:43:29.030Z"
   },
   {
    "duration": 15,
    "start_time": "2022-12-27T09:43:29.036Z"
   },
   {
    "duration": 6,
    "start_time": "2022-12-27T09:43:29.052Z"
   },
   {
    "duration": 7,
    "start_time": "2022-12-27T09:43:29.059Z"
   },
   {
    "duration": 6,
    "start_time": "2022-12-27T09:43:29.067Z"
   },
   {
    "duration": 6,
    "start_time": "2022-12-27T09:43:49.919Z"
   },
   {
    "duration": 4,
    "start_time": "2022-12-27T09:48:54.513Z"
   },
   {
    "duration": 6,
    "start_time": "2022-12-27T09:48:58.296Z"
   },
   {
    "duration": 5,
    "start_time": "2022-12-27T09:50:12.530Z"
   },
   {
    "duration": 5,
    "start_time": "2022-12-27T09:51:52.282Z"
   },
   {
    "duration": 19,
    "start_time": "2022-12-27T09:52:05.034Z"
   },
   {
    "duration": 22,
    "start_time": "2022-12-27T09:52:18.924Z"
   },
   {
    "duration": 19,
    "start_time": "2022-12-27T09:52:32.284Z"
   },
   {
    "duration": 91,
    "start_time": "2022-12-27T11:43:59.353Z"
   },
   {
    "duration": 11,
    "start_time": "2022-12-27T11:44:10.194Z"
   },
   {
    "duration": 51,
    "start_time": "2022-12-27T11:44:20.202Z"
   },
   {
    "duration": 5,
    "start_time": "2022-12-27T11:44:31.169Z"
   },
   {
    "duration": 21,
    "start_time": "2022-12-27T11:45:09.801Z"
   },
   {
    "duration": 5,
    "start_time": "2022-12-27T11:45:21.692Z"
   },
   {
    "duration": 43,
    "start_time": "2022-12-27T11:46:29.161Z"
   },
   {
    "duration": 6,
    "start_time": "2022-12-27T11:48:20.131Z"
   },
   {
    "duration": 17,
    "start_time": "2022-12-27T11:50:25.993Z"
   },
   {
    "duration": 10,
    "start_time": "2022-12-27T11:51:52.727Z"
   },
   {
    "duration": 22,
    "start_time": "2022-12-27T11:52:09.921Z"
   },
   {
    "duration": 9,
    "start_time": "2022-12-27T11:52:54.850Z"
   },
   {
    "duration": 8,
    "start_time": "2022-12-27T11:59:37.665Z"
   },
   {
    "duration": 4,
    "start_time": "2022-12-27T12:00:47.506Z"
   },
   {
    "duration": 7,
    "start_time": "2022-12-27T12:00:53.987Z"
   },
   {
    "duration": 63,
    "start_time": "2022-12-27T12:02:30.315Z"
   },
   {
    "duration": 6,
    "start_time": "2022-12-27T12:02:38.962Z"
   },
   {
    "duration": 5,
    "start_time": "2022-12-27T12:04:33.586Z"
   },
   {
    "duration": 6,
    "start_time": "2022-12-27T12:04:56.434Z"
   },
   {
    "duration": 9,
    "start_time": "2022-12-27T12:14:16.454Z"
   },
   {
    "duration": 18,
    "start_time": "2022-12-27T12:14:19.101Z"
   },
   {
    "duration": 8,
    "start_time": "2022-12-27T12:14:39.531Z"
   },
   {
    "duration": 16,
    "start_time": "2022-12-27T12:14:59.366Z"
   },
   {
    "duration": 16,
    "start_time": "2022-12-27T12:16:17.407Z"
   },
   {
    "duration": 19,
    "start_time": "2022-12-27T12:19:55.135Z"
   },
   {
    "duration": 19,
    "start_time": "2022-12-27T12:20:31.801Z"
   },
   {
    "duration": 299,
    "start_time": "2022-12-27T12:27:51.216Z"
   },
   {
    "duration": 3,
    "start_time": "2022-12-27T12:28:23.944Z"
   },
   {
    "duration": 23,
    "start_time": "2022-12-27T12:28:39.786Z"
   },
   {
    "duration": 21,
    "start_time": "2022-12-27T12:37:13.679Z"
   },
   {
    "duration": 9,
    "start_time": "2022-12-27T12:40:46.316Z"
   },
   {
    "duration": 11,
    "start_time": "2022-12-27T12:40:52.356Z"
   },
   {
    "duration": 11,
    "start_time": "2022-12-27T12:43:15.469Z"
   },
   {
    "duration": 4,
    "start_time": "2022-12-27T12:43:15.940Z"
   },
   {
    "duration": 28,
    "start_time": "2022-12-27T12:43:16.356Z"
   },
   {
    "duration": 661,
    "start_time": "2022-12-27T12:43:48.037Z"
   },
   {
    "duration": 10,
    "start_time": "2022-12-27T13:22:47.933Z"
   },
   {
    "duration": 3,
    "start_time": "2022-12-27T13:22:49.120Z"
   },
   {
    "duration": 26,
    "start_time": "2022-12-27T13:22:50.919Z"
   },
   {
    "duration": 43,
    "start_time": "2022-12-27T13:23:59.564Z"
   },
   {
    "duration": 3,
    "start_time": "2022-12-27T13:24:19.316Z"
   },
   {
    "duration": 25,
    "start_time": "2022-12-27T13:24:23.613Z"
   },
   {
    "duration": 7,
    "start_time": "2022-12-27T13:24:41.708Z"
   },
   {
    "duration": 640,
    "start_time": "2022-12-27T13:24:46.735Z"
   },
   {
    "duration": 19,
    "start_time": "2022-12-27T13:27:09.699Z"
   },
   {
    "duration": 19,
    "start_time": "2022-12-27T13:27:25.670Z"
   },
   {
    "duration": 9,
    "start_time": "2022-12-27T13:31:31.791Z"
   },
   {
    "duration": 13,
    "start_time": "2022-12-27T13:31:38.463Z"
   },
   {
    "duration": 6,
    "start_time": "2022-12-27T13:39:42.072Z"
   },
   {
    "duration": 1059,
    "start_time": "2022-12-27T13:39:48.154Z"
   },
   {
    "duration": 53,
    "start_time": "2022-12-27T13:39:49.215Z"
   },
   {
    "duration": 18,
    "start_time": "2022-12-27T13:39:49.270Z"
   },
   {
    "duration": 15,
    "start_time": "2022-12-27T13:39:49.290Z"
   },
   {
    "duration": 3,
    "start_time": "2022-12-27T13:39:49.307Z"
   },
   {
    "duration": 11,
    "start_time": "2022-12-27T13:39:49.311Z"
   },
   {
    "duration": 144,
    "start_time": "2022-12-27T13:39:49.324Z"
   },
   {
    "duration": 0,
    "start_time": "2022-12-27T13:39:49.470Z"
   },
   {
    "duration": 0,
    "start_time": "2022-12-27T13:39:49.471Z"
   },
   {
    "duration": 0,
    "start_time": "2022-12-27T13:39:49.473Z"
   },
   {
    "duration": 0,
    "start_time": "2022-12-27T13:39:49.474Z"
   },
   {
    "duration": 0,
    "start_time": "2022-12-27T13:39:49.475Z"
   },
   {
    "duration": 0,
    "start_time": "2022-12-27T13:39:49.476Z"
   },
   {
    "duration": 0,
    "start_time": "2022-12-27T13:39:49.478Z"
   },
   {
    "duration": 0,
    "start_time": "2022-12-27T13:39:49.479Z"
   },
   {
    "duration": 0,
    "start_time": "2022-12-27T13:39:49.480Z"
   },
   {
    "duration": 0,
    "start_time": "2022-12-27T13:39:49.497Z"
   },
   {
    "duration": 0,
    "start_time": "2022-12-27T13:39:49.499Z"
   },
   {
    "duration": 0,
    "start_time": "2022-12-27T13:39:49.500Z"
   },
   {
    "duration": 0,
    "start_time": "2022-12-27T13:39:49.502Z"
   },
   {
    "duration": 0,
    "start_time": "2022-12-27T13:39:49.503Z"
   },
   {
    "duration": 0,
    "start_time": "2022-12-27T13:39:49.505Z"
   },
   {
    "duration": 0,
    "start_time": "2022-12-27T13:39:49.506Z"
   },
   {
    "duration": 0,
    "start_time": "2022-12-27T13:39:49.508Z"
   },
   {
    "duration": 0,
    "start_time": "2022-12-27T13:39:49.509Z"
   },
   {
    "duration": 0,
    "start_time": "2022-12-27T13:39:49.510Z"
   },
   {
    "duration": 0,
    "start_time": "2022-12-27T13:39:49.512Z"
   },
   {
    "duration": 0,
    "start_time": "2022-12-27T13:39:49.513Z"
   },
   {
    "duration": 0,
    "start_time": "2022-12-27T13:39:49.515Z"
   },
   {
    "duration": 0,
    "start_time": "2022-12-27T13:39:49.516Z"
   },
   {
    "duration": 5,
    "start_time": "2022-12-27T13:42:20.754Z"
   },
   {
    "duration": 5,
    "start_time": "2022-12-27T13:43:01.160Z"
   },
   {
    "duration": 6,
    "start_time": "2022-12-27T13:43:20.321Z"
   },
   {
    "duration": 1097,
    "start_time": "2022-12-27T13:44:00.370Z"
   },
   {
    "duration": 51,
    "start_time": "2022-12-27T13:44:01.469Z"
   },
   {
    "duration": 16,
    "start_time": "2022-12-27T13:44:01.522Z"
   },
   {
    "duration": 43,
    "start_time": "2022-12-27T13:44:01.540Z"
   },
   {
    "duration": 10,
    "start_time": "2022-12-27T13:44:01.585Z"
   },
   {
    "duration": 29,
    "start_time": "2022-12-27T13:44:01.596Z"
   },
   {
    "duration": 19,
    "start_time": "2022-12-27T13:44:01.627Z"
   },
   {
    "duration": 20,
    "start_time": "2022-12-27T13:44:01.647Z"
   },
   {
    "duration": 14,
    "start_time": "2022-12-27T13:44:01.668Z"
   },
   {
    "duration": 7,
    "start_time": "2022-12-27T13:44:01.685Z"
   },
   {
    "duration": 9,
    "start_time": "2022-12-27T13:44:01.693Z"
   },
   {
    "duration": 24,
    "start_time": "2022-12-27T13:44:01.703Z"
   },
   {
    "duration": 6,
    "start_time": "2022-12-27T13:44:01.729Z"
   },
   {
    "duration": 124,
    "start_time": "2022-12-27T13:44:01.737Z"
   },
   {
    "duration": 0,
    "start_time": "2022-12-27T13:44:01.863Z"
   },
   {
    "duration": 0,
    "start_time": "2022-12-27T13:44:01.864Z"
   },
   {
    "duration": 0,
    "start_time": "2022-12-27T13:44:01.865Z"
   },
   {
    "duration": 0,
    "start_time": "2022-12-27T13:44:01.866Z"
   },
   {
    "duration": 0,
    "start_time": "2022-12-27T13:44:01.867Z"
   },
   {
    "duration": 0,
    "start_time": "2022-12-27T13:44:01.868Z"
   },
   {
    "duration": 0,
    "start_time": "2022-12-27T13:44:01.869Z"
   },
   {
    "duration": 0,
    "start_time": "2022-12-27T13:44:01.870Z"
   },
   {
    "duration": 0,
    "start_time": "2022-12-27T13:44:01.871Z"
   },
   {
    "duration": 0,
    "start_time": "2022-12-27T13:44:01.872Z"
   },
   {
    "duration": 0,
    "start_time": "2022-12-27T13:44:01.873Z"
   },
   {
    "duration": 0,
    "start_time": "2022-12-27T13:44:01.873Z"
   },
   {
    "duration": 0,
    "start_time": "2022-12-27T13:44:01.874Z"
   },
   {
    "duration": 0,
    "start_time": "2022-12-27T13:44:01.876Z"
   },
   {
    "duration": 0,
    "start_time": "2022-12-27T13:44:01.876Z"
   },
   {
    "duration": 0,
    "start_time": "2022-12-27T13:44:01.877Z"
   },
   {
    "duration": 1025,
    "start_time": "2022-12-27T13:44:37.961Z"
   },
   {
    "duration": 52,
    "start_time": "2022-12-27T13:44:38.987Z"
   },
   {
    "duration": 15,
    "start_time": "2022-12-27T13:44:39.041Z"
   },
   {
    "duration": 14,
    "start_time": "2022-12-27T13:44:39.058Z"
   },
   {
    "duration": 3,
    "start_time": "2022-12-27T13:44:39.074Z"
   },
   {
    "duration": 7,
    "start_time": "2022-12-27T13:44:39.078Z"
   },
   {
    "duration": 12,
    "start_time": "2022-12-27T13:44:39.086Z"
   },
   {
    "duration": 14,
    "start_time": "2022-12-27T13:44:39.099Z"
   },
   {
    "duration": 13,
    "start_time": "2022-12-27T13:44:39.115Z"
   },
   {
    "duration": 5,
    "start_time": "2022-12-27T13:44:39.130Z"
   },
   {
    "duration": 15,
    "start_time": "2022-12-27T13:44:39.136Z"
   },
   {
    "duration": 6,
    "start_time": "2022-12-27T13:44:39.153Z"
   },
   {
    "duration": 6,
    "start_time": "2022-12-27T13:44:39.160Z"
   },
   {
    "duration": 6,
    "start_time": "2022-12-27T13:44:39.168Z"
   },
   {
    "duration": 23,
    "start_time": "2022-12-27T13:44:39.175Z"
   },
   {
    "duration": 6,
    "start_time": "2022-12-27T13:44:39.200Z"
   },
   {
    "duration": 23,
    "start_time": "2022-12-27T13:44:39.207Z"
   },
   {
    "duration": 40,
    "start_time": "2022-12-27T13:44:39.231Z"
   },
   {
    "duration": 4,
    "start_time": "2022-12-27T13:44:39.272Z"
   },
   {
    "duration": 21,
    "start_time": "2022-12-27T13:44:39.277Z"
   },
   {
    "duration": 16,
    "start_time": "2022-12-27T13:44:39.300Z"
   },
   {
    "duration": 6,
    "start_time": "2022-12-27T13:44:39.317Z"
   },
   {
    "duration": 6,
    "start_time": "2022-12-27T13:44:39.324Z"
   },
   {
    "duration": 52,
    "start_time": "2022-12-27T13:44:39.331Z"
   },
   {
    "duration": 5,
    "start_time": "2022-12-27T13:44:39.397Z"
   },
   {
    "duration": 7,
    "start_time": "2022-12-27T13:44:39.403Z"
   },
   {
    "duration": 16,
    "start_time": "2022-12-27T13:44:39.411Z"
   },
   {
    "duration": 5,
    "start_time": "2022-12-27T13:44:39.429Z"
   },
   {
    "duration": 9,
    "start_time": "2022-12-27T13:44:39.436Z"
   },
   {
    "duration": 6,
    "start_time": "2022-12-27T13:47:42.265Z"
   },
   {
    "duration": 3,
    "start_time": "2022-12-27T13:48:27.018Z"
   },
   {
    "duration": 4,
    "start_time": "2022-12-27T13:48:40.842Z"
   },
   {
    "duration": 1049,
    "start_time": "2022-12-27T13:48:47.618Z"
   },
   {
    "duration": 55,
    "start_time": "2022-12-27T13:48:48.668Z"
   },
   {
    "duration": 17,
    "start_time": "2022-12-27T13:48:48.724Z"
   },
   {
    "duration": 15,
    "start_time": "2022-12-27T13:48:48.743Z"
   },
   {
    "duration": 6,
    "start_time": "2022-12-27T13:48:48.759Z"
   },
   {
    "duration": 25,
    "start_time": "2022-12-27T13:48:48.767Z"
   },
   {
    "duration": 11,
    "start_time": "2022-12-27T13:48:48.794Z"
   },
   {
    "duration": 13,
    "start_time": "2022-12-27T13:48:48.807Z"
   },
   {
    "duration": 41,
    "start_time": "2022-12-27T13:48:48.822Z"
   },
   {
    "duration": 4,
    "start_time": "2022-12-27T13:48:48.865Z"
   },
   {
    "duration": 19,
    "start_time": "2022-12-27T13:48:48.871Z"
   },
   {
    "duration": 11,
    "start_time": "2022-12-27T13:48:48.891Z"
   },
   {
    "duration": 9,
    "start_time": "2022-12-27T13:48:48.903Z"
   },
   {
    "duration": 16,
    "start_time": "2022-12-27T13:48:48.913Z"
   },
   {
    "duration": 6,
    "start_time": "2022-12-27T13:48:48.930Z"
   },
   {
    "duration": 27,
    "start_time": "2022-12-27T13:48:48.938Z"
   },
   {
    "duration": 20,
    "start_time": "2022-12-27T13:48:48.966Z"
   },
   {
    "duration": 53,
    "start_time": "2022-12-27T13:48:48.988Z"
   },
   {
    "duration": 5,
    "start_time": "2022-12-27T13:48:49.042Z"
   },
   {
    "duration": 16,
    "start_time": "2022-12-27T13:48:49.048Z"
   },
   {
    "duration": 30,
    "start_time": "2022-12-27T13:48:49.066Z"
   },
   {
    "duration": 8,
    "start_time": "2022-12-27T13:48:49.097Z"
   },
   {
    "duration": 24,
    "start_time": "2022-12-27T13:48:49.106Z"
   },
   {
    "duration": 57,
    "start_time": "2022-12-27T13:48:49.131Z"
   },
   {
    "duration": 4,
    "start_time": "2022-12-27T13:48:49.189Z"
   },
   {
    "duration": 8,
    "start_time": "2022-12-27T13:48:49.195Z"
   },
   {
    "duration": 20,
    "start_time": "2022-12-27T13:48:49.204Z"
   },
   {
    "duration": 6,
    "start_time": "2022-12-27T13:48:49.226Z"
   },
   {
    "duration": 7,
    "start_time": "2022-12-27T13:48:49.233Z"
   },
   {
    "duration": 90,
    "start_time": "2022-12-27T13:51:02.874Z"
   },
   {
    "duration": 5,
    "start_time": "2022-12-27T13:51:09.179Z"
   },
   {
    "duration": 4,
    "start_time": "2022-12-27T13:53:47.628Z"
   },
   {
    "duration": 86,
    "start_time": "2022-12-27T13:54:00.828Z"
   },
   {
    "duration": 26,
    "start_time": "2022-12-27T13:55:24.421Z"
   },
   {
    "duration": 6,
    "start_time": "2022-12-27T13:55:27.924Z"
   },
   {
    "duration": 8,
    "start_time": "2022-12-27T14:00:46.780Z"
   },
   {
    "duration": 4,
    "start_time": "2022-12-27T14:00:47.701Z"
   },
   {
    "duration": 6,
    "start_time": "2022-12-27T14:01:24.133Z"
   },
   {
    "duration": 1023,
    "start_time": "2022-12-27T14:01:56.054Z"
   },
   {
    "duration": 50,
    "start_time": "2022-12-27T14:01:57.078Z"
   },
   {
    "duration": 21,
    "start_time": "2022-12-27T14:01:57.130Z"
   },
   {
    "duration": 16,
    "start_time": "2022-12-27T14:01:57.153Z"
   },
   {
    "duration": 3,
    "start_time": "2022-12-27T14:01:57.172Z"
   },
   {
    "duration": 7,
    "start_time": "2022-12-27T14:01:57.176Z"
   },
   {
    "duration": 18,
    "start_time": "2022-12-27T14:01:57.184Z"
   },
   {
    "duration": 17,
    "start_time": "2022-12-27T14:01:57.203Z"
   },
   {
    "duration": 9,
    "start_time": "2022-12-27T14:01:57.221Z"
   },
   {
    "duration": 7,
    "start_time": "2022-12-27T14:01:57.231Z"
   },
   {
    "duration": 32,
    "start_time": "2022-12-27T14:01:57.239Z"
   },
   {
    "duration": 25,
    "start_time": "2022-12-27T14:01:57.273Z"
   },
   {
    "duration": 5,
    "start_time": "2022-12-27T14:01:57.300Z"
   },
   {
    "duration": 15,
    "start_time": "2022-12-27T14:01:57.309Z"
   },
   {
    "duration": 4,
    "start_time": "2022-12-27T14:01:57.326Z"
   },
   {
    "duration": 5,
    "start_time": "2022-12-27T14:01:57.332Z"
   },
   {
    "duration": 12,
    "start_time": "2022-12-27T14:01:57.339Z"
   },
   {
    "duration": 6,
    "start_time": "2022-12-27T14:01:57.352Z"
   },
   {
    "duration": 7,
    "start_time": "2022-12-27T14:01:57.359Z"
   },
   {
    "duration": 5,
    "start_time": "2022-12-27T14:01:57.398Z"
   },
   {
    "duration": 7,
    "start_time": "2022-12-27T14:01:57.404Z"
   },
   {
    "duration": 29,
    "start_time": "2022-12-27T14:01:57.413Z"
   },
   {
    "duration": 62,
    "start_time": "2022-12-27T14:01:57.444Z"
   },
   {
    "duration": 4,
    "start_time": "2022-12-27T14:01:57.508Z"
   },
   {
    "duration": 10,
    "start_time": "2022-12-27T14:01:57.513Z"
   },
   {
    "duration": 21,
    "start_time": "2022-12-27T14:01:57.525Z"
   },
   {
    "duration": 7,
    "start_time": "2022-12-27T14:01:57.547Z"
   },
   {
    "duration": 16,
    "start_time": "2022-12-27T14:01:57.555Z"
   },
   {
    "duration": 66,
    "start_time": "2022-12-27T14:01:57.573Z"
   },
   {
    "duration": 5,
    "start_time": "2022-12-27T14:01:57.640Z"
   },
   {
    "duration": 10,
    "start_time": "2022-12-27T14:01:57.646Z"
   },
   {
    "duration": 21,
    "start_time": "2022-12-27T14:01:57.658Z"
   },
   {
    "duration": 18,
    "start_time": "2022-12-27T14:01:57.680Z"
   },
   {
    "duration": 6,
    "start_time": "2022-12-27T14:01:57.700Z"
   },
   {
    "duration": 7,
    "start_time": "2022-12-27T14:02:22.286Z"
   },
   {
    "duration": 3,
    "start_time": "2022-12-27T14:04:56.102Z"
   },
   {
    "duration": 14,
    "start_time": "2022-12-27T14:05:02.949Z"
   },
   {
    "duration": 5,
    "start_time": "2022-12-27T14:05:15.687Z"
   },
   {
    "duration": 14,
    "start_time": "2022-12-27T14:05:16.419Z"
   },
   {
    "duration": 4,
    "start_time": "2022-12-27T14:05:53.384Z"
   },
   {
    "duration": 15,
    "start_time": "2022-12-27T14:05:54.014Z"
   },
   {
    "duration": 95,
    "start_time": "2022-12-27T14:06:29.254Z"
   },
   {
    "duration": 5,
    "start_time": "2022-12-27T14:06:41.070Z"
   },
   {
    "duration": 4,
    "start_time": "2022-12-27T14:07:31.815Z"
   },
   {
    "duration": 15,
    "start_time": "2022-12-27T14:07:32.431Z"
   },
   {
    "duration": 1098,
    "start_time": "2022-12-27T14:07:40.537Z"
   },
   {
    "duration": 50,
    "start_time": "2022-12-27T14:07:41.636Z"
   },
   {
    "duration": 15,
    "start_time": "2022-12-27T14:07:41.688Z"
   },
   {
    "duration": 12,
    "start_time": "2022-12-27T14:07:41.704Z"
   },
   {
    "duration": 3,
    "start_time": "2022-12-27T14:07:41.717Z"
   },
   {
    "duration": 9,
    "start_time": "2022-12-27T14:07:41.721Z"
   },
   {
    "duration": 7,
    "start_time": "2022-12-27T14:07:41.731Z"
   },
   {
    "duration": 23,
    "start_time": "2022-12-27T14:07:41.739Z"
   },
   {
    "duration": 9,
    "start_time": "2022-12-27T14:07:41.763Z"
   },
   {
    "duration": 5,
    "start_time": "2022-12-27T14:07:41.774Z"
   },
   {
    "duration": 45,
    "start_time": "2022-12-27T14:07:41.781Z"
   },
   {
    "duration": 6,
    "start_time": "2022-12-27T14:07:41.828Z"
   },
   {
    "duration": 9,
    "start_time": "2022-12-27T14:07:41.835Z"
   },
   {
    "duration": 15,
    "start_time": "2022-12-27T14:07:41.845Z"
   },
   {
    "duration": 9,
    "start_time": "2022-12-27T14:07:41.861Z"
   },
   {
    "duration": 8,
    "start_time": "2022-12-27T14:07:41.871Z"
   },
   {
    "duration": 17,
    "start_time": "2022-12-27T14:07:41.880Z"
   },
   {
    "duration": 4,
    "start_time": "2022-12-27T14:07:41.898Z"
   },
   {
    "duration": 7,
    "start_time": "2022-12-27T14:07:41.903Z"
   },
   {
    "duration": 6,
    "start_time": "2022-12-27T14:07:41.911Z"
   },
   {
    "duration": 6,
    "start_time": "2022-12-27T14:07:41.918Z"
   },
   {
    "duration": 27,
    "start_time": "2022-12-27T14:07:41.925Z"
   },
   {
    "duration": 59,
    "start_time": "2022-12-27T14:07:41.954Z"
   },
   {
    "duration": 4,
    "start_time": "2022-12-27T14:07:42.015Z"
   },
   {
    "duration": 6,
    "start_time": "2022-12-27T14:07:42.021Z"
   },
   {
    "duration": 20,
    "start_time": "2022-12-27T14:07:42.028Z"
   },
   {
    "duration": 5,
    "start_time": "2022-12-27T14:07:42.050Z"
   },
   {
    "duration": 9,
    "start_time": "2022-12-27T14:07:42.058Z"
   },
   {
    "duration": 66,
    "start_time": "2022-12-27T14:07:42.068Z"
   },
   {
    "duration": 5,
    "start_time": "2022-12-27T14:07:42.135Z"
   },
   {
    "duration": 7,
    "start_time": "2022-12-27T14:07:42.141Z"
   },
   {
    "duration": 17,
    "start_time": "2022-12-27T14:07:42.149Z"
   },
   {
    "duration": 5,
    "start_time": "2022-12-27T14:07:42.167Z"
   },
   {
    "duration": 6,
    "start_time": "2022-12-27T14:07:42.174Z"
   },
   {
    "duration": 20,
    "start_time": "2022-12-27T14:07:42.182Z"
   },
   {
    "duration": 4,
    "start_time": "2022-12-27T14:07:42.203Z"
   },
   {
    "duration": 14,
    "start_time": "2022-12-27T14:07:42.209Z"
   },
   {
    "duration": 4,
    "start_time": "2022-12-27T14:09:00.383Z"
   },
   {
    "duration": 15,
    "start_time": "2022-12-27T14:09:01.311Z"
   },
   {
    "duration": 4,
    "start_time": "2022-12-27T14:09:10.971Z"
   },
   {
    "duration": 17,
    "start_time": "2022-12-27T14:09:11.424Z"
   },
   {
    "duration": 4,
    "start_time": "2022-12-27T14:09:16.055Z"
   },
   {
    "duration": 15,
    "start_time": "2022-12-27T14:09:16.575Z"
   },
   {
    "duration": 4,
    "start_time": "2022-12-27T14:09:20.807Z"
   },
   {
    "duration": 17,
    "start_time": "2022-12-27T14:09:21.254Z"
   },
   {
    "duration": 4,
    "start_time": "2022-12-27T14:09:38.494Z"
   },
   {
    "duration": 5,
    "start_time": "2022-12-27T14:27:15.748Z"
   },
   {
    "duration": 3,
    "start_time": "2022-12-27T14:27:17.034Z"
   },
   {
    "duration": 9,
    "start_time": "2022-12-27T14:27:17.915Z"
   },
   {
    "duration": 3,
    "start_time": "2022-12-27T14:27:38.066Z"
   },
   {
    "duration": 9,
    "start_time": "2022-12-27T14:27:38.514Z"
   },
   {
    "duration": 1046,
    "start_time": "2022-12-27T14:27:45.619Z"
   },
   {
    "duration": 51,
    "start_time": "2022-12-27T14:27:46.666Z"
   },
   {
    "duration": 15,
    "start_time": "2022-12-27T14:27:46.719Z"
   },
   {
    "duration": 13,
    "start_time": "2022-12-27T14:27:46.736Z"
   },
   {
    "duration": 2,
    "start_time": "2022-12-27T14:27:46.751Z"
   },
   {
    "duration": 8,
    "start_time": "2022-12-27T14:27:46.755Z"
   },
   {
    "duration": 6,
    "start_time": "2022-12-27T14:27:46.765Z"
   },
   {
    "duration": 30,
    "start_time": "2022-12-27T14:27:46.773Z"
   },
   {
    "duration": 12,
    "start_time": "2022-12-27T14:27:46.804Z"
   },
   {
    "duration": 4,
    "start_time": "2022-12-27T14:27:46.818Z"
   },
   {
    "duration": 25,
    "start_time": "2022-12-27T14:27:46.824Z"
   },
   {
    "duration": 4,
    "start_time": "2022-12-27T14:27:46.851Z"
   },
   {
    "duration": 6,
    "start_time": "2022-12-27T14:27:46.856Z"
   },
   {
    "duration": 41,
    "start_time": "2022-12-27T14:27:46.864Z"
   },
   {
    "duration": 2,
    "start_time": "2022-12-27T14:27:46.907Z"
   },
   {
    "duration": 5,
    "start_time": "2022-12-27T14:27:46.910Z"
   },
   {
    "duration": 9,
    "start_time": "2022-12-27T14:27:46.916Z"
   },
   {
    "duration": 4,
    "start_time": "2022-12-27T14:27:46.927Z"
   },
   {
    "duration": 7,
    "start_time": "2022-12-27T14:27:46.932Z"
   },
   {
    "duration": 7,
    "start_time": "2022-12-27T14:27:46.940Z"
   },
   {
    "duration": 6,
    "start_time": "2022-12-27T14:27:46.948Z"
   },
   {
    "duration": 15,
    "start_time": "2022-12-27T14:27:46.955Z"
   },
   {
    "duration": 61,
    "start_time": "2022-12-27T14:27:46.971Z"
   },
   {
    "duration": 4,
    "start_time": "2022-12-27T14:27:47.033Z"
   },
   {
    "duration": 10,
    "start_time": "2022-12-27T14:27:47.038Z"
   },
   {
    "duration": 17,
    "start_time": "2022-12-27T14:27:47.049Z"
   },
   {
    "duration": 6,
    "start_time": "2022-12-27T14:27:47.067Z"
   },
   {
    "duration": 22,
    "start_time": "2022-12-27T14:27:47.076Z"
   },
   {
    "duration": 46,
    "start_time": "2022-12-27T14:27:47.099Z"
   },
   {
    "duration": 4,
    "start_time": "2022-12-27T14:27:47.147Z"
   },
   {
    "duration": 6,
    "start_time": "2022-12-27T14:27:47.153Z"
   },
   {
    "duration": 37,
    "start_time": "2022-12-27T14:27:47.161Z"
   },
   {
    "duration": 6,
    "start_time": "2022-12-27T14:27:47.200Z"
   },
   {
    "duration": 5,
    "start_time": "2022-12-27T14:27:47.207Z"
   },
   {
    "duration": 9,
    "start_time": "2022-12-27T14:27:47.214Z"
   },
   {
    "duration": 11,
    "start_time": "2022-12-27T14:27:47.225Z"
   },
   {
    "duration": 16,
    "start_time": "2022-12-27T14:27:47.237Z"
   },
   {
    "duration": 5,
    "start_time": "2022-12-27T14:28:40.292Z"
   },
   {
    "duration": 2,
    "start_time": "2022-12-27T14:28:41.276Z"
   },
   {
    "duration": 9,
    "start_time": "2022-12-27T14:28:42.012Z"
   },
   {
    "duration": 1098,
    "start_time": "2022-12-27T14:29:13.607Z"
   },
   {
    "duration": 57,
    "start_time": "2022-12-27T14:29:14.707Z"
   },
   {
    "duration": 19,
    "start_time": "2022-12-27T14:29:14.767Z"
   },
   {
    "duration": 16,
    "start_time": "2022-12-27T14:29:14.788Z"
   },
   {
    "duration": 5,
    "start_time": "2022-12-27T14:29:14.806Z"
   },
   {
    "duration": 11,
    "start_time": "2022-12-27T14:29:14.813Z"
   },
   {
    "duration": 12,
    "start_time": "2022-12-27T14:29:14.825Z"
   },
   {
    "duration": 30,
    "start_time": "2022-12-27T14:29:14.838Z"
   },
   {
    "duration": 19,
    "start_time": "2022-12-27T14:29:14.870Z"
   },
   {
    "duration": 5,
    "start_time": "2022-12-27T14:29:14.893Z"
   },
   {
    "duration": 40,
    "start_time": "2022-12-27T14:29:14.900Z"
   },
   {
    "duration": 22,
    "start_time": "2022-12-27T14:29:14.941Z"
   },
   {
    "duration": 15,
    "start_time": "2022-12-27T14:29:14.964Z"
   },
   {
    "duration": 20,
    "start_time": "2022-12-27T14:29:14.980Z"
   },
   {
    "duration": 30,
    "start_time": "2022-12-27T14:29:15.001Z"
   },
   {
    "duration": 39,
    "start_time": "2022-12-27T14:29:15.033Z"
   },
   {
    "duration": 29,
    "start_time": "2022-12-27T14:29:15.073Z"
   },
   {
    "duration": 12,
    "start_time": "2022-12-27T14:29:15.104Z"
   },
   {
    "duration": 5,
    "start_time": "2022-12-27T14:29:15.117Z"
   },
   {
    "duration": 5,
    "start_time": "2022-12-27T14:29:15.123Z"
   },
   {
    "duration": 6,
    "start_time": "2022-12-27T14:29:15.129Z"
   },
   {
    "duration": 23,
    "start_time": "2022-12-27T14:29:15.136Z"
   },
   {
    "duration": 46,
    "start_time": "2022-12-27T14:29:15.160Z"
   },
   {
    "duration": 5,
    "start_time": "2022-12-27T14:29:15.207Z"
   },
   {
    "duration": 6,
    "start_time": "2022-12-27T14:29:15.213Z"
   },
   {
    "duration": 17,
    "start_time": "2022-12-27T14:29:15.220Z"
   },
   {
    "duration": 7,
    "start_time": "2022-12-27T14:29:15.239Z"
   },
   {
    "duration": 4,
    "start_time": "2022-12-27T14:29:15.249Z"
   },
   {
    "duration": 78,
    "start_time": "2022-12-27T14:29:15.254Z"
   },
   {
    "duration": 5,
    "start_time": "2022-12-27T14:29:15.333Z"
   },
   {
    "duration": 6,
    "start_time": "2022-12-27T14:29:15.339Z"
   },
   {
    "duration": 15,
    "start_time": "2022-12-27T14:29:15.346Z"
   },
   {
    "duration": 5,
    "start_time": "2022-12-27T14:29:15.362Z"
   },
   {
    "duration": 7,
    "start_time": "2022-12-27T14:29:15.368Z"
   },
   {
    "duration": 24,
    "start_time": "2022-12-27T14:29:15.377Z"
   },
   {
    "duration": 13,
    "start_time": "2022-12-27T14:29:15.402Z"
   },
   {
    "duration": 21,
    "start_time": "2022-12-27T14:29:15.417Z"
   },
   {
    "duration": 5,
    "start_time": "2022-12-27T14:36:02.284Z"
   },
   {
    "duration": 2,
    "start_time": "2022-12-27T14:36:03.020Z"
   },
   {
    "duration": 8,
    "start_time": "2022-12-27T14:36:03.833Z"
   },
   {
    "duration": 6,
    "start_time": "2022-12-27T14:36:11.269Z"
   },
   {
    "duration": 8,
    "start_time": "2022-12-27T14:36:27.573Z"
   },
   {
    "duration": 4,
    "start_time": "2022-12-27T14:36:59.902Z"
   },
   {
    "duration": 13,
    "start_time": "2022-12-27T14:37:32.886Z"
   },
   {
    "duration": 4,
    "start_time": "2022-12-27T14:39:52.998Z"
   },
   {
    "duration": 89,
    "start_time": "2022-12-27T14:40:25.422Z"
   },
   {
    "duration": 5,
    "start_time": "2022-12-27T14:40:31.245Z"
   },
   {
    "duration": 13,
    "start_time": "2022-12-27T14:40:46.526Z"
   },
   {
    "duration": 7,
    "start_time": "2022-12-27T14:42:26.807Z"
   },
   {
    "duration": 12,
    "start_time": "2022-12-27T14:42:31.878Z"
   },
   {
    "duration": 7,
    "start_time": "2022-12-27T14:53:18.113Z"
   },
   {
    "duration": 13,
    "start_time": "2022-12-27T14:53:25.049Z"
   },
   {
    "duration": 1026,
    "start_time": "2022-12-27T15:04:56.060Z"
   },
   {
    "duration": 51,
    "start_time": "2022-12-27T15:04:57.088Z"
   },
   {
    "duration": 16,
    "start_time": "2022-12-27T15:04:57.143Z"
   },
   {
    "duration": 13,
    "start_time": "2022-12-27T15:04:57.160Z"
   },
   {
    "duration": 5,
    "start_time": "2022-12-27T15:04:57.175Z"
   },
   {
    "duration": 17,
    "start_time": "2022-12-27T15:04:57.181Z"
   },
   {
    "duration": 7,
    "start_time": "2022-12-27T15:04:57.199Z"
   },
   {
    "duration": 19,
    "start_time": "2022-12-27T15:04:57.207Z"
   },
   {
    "duration": 14,
    "start_time": "2022-12-27T15:04:57.230Z"
   },
   {
    "duration": 6,
    "start_time": "2022-12-27T15:04:57.245Z"
   },
   {
    "duration": 50,
    "start_time": "2022-12-27T15:04:57.252Z"
   },
   {
    "duration": 5,
    "start_time": "2022-12-27T15:04:57.303Z"
   },
   {
    "duration": 8,
    "start_time": "2022-12-27T15:04:57.310Z"
   },
   {
    "duration": 41,
    "start_time": "2022-12-27T15:04:57.319Z"
   },
   {
    "duration": 2,
    "start_time": "2022-12-27T15:04:57.362Z"
   },
   {
    "duration": 4,
    "start_time": "2022-12-27T15:04:57.366Z"
   },
   {
    "duration": 12,
    "start_time": "2022-12-27T15:04:57.372Z"
   },
   {
    "duration": 4,
    "start_time": "2022-12-27T15:04:57.386Z"
   },
   {
    "duration": 4,
    "start_time": "2022-12-27T15:04:57.397Z"
   },
   {
    "duration": 11,
    "start_time": "2022-12-27T15:04:57.402Z"
   },
   {
    "duration": 43,
    "start_time": "2022-12-27T15:04:57.414Z"
   },
   {
    "duration": 20,
    "start_time": "2022-12-27T15:04:57.458Z"
   },
   {
    "duration": 38,
    "start_time": "2022-12-27T15:04:57.479Z"
   },
   {
    "duration": 4,
    "start_time": "2022-12-27T15:04:57.519Z"
   },
   {
    "duration": 9,
    "start_time": "2022-12-27T15:04:57.525Z"
   },
   {
    "duration": 18,
    "start_time": "2022-12-27T15:04:57.535Z"
   },
   {
    "duration": 6,
    "start_time": "2022-12-27T15:04:57.556Z"
   },
   {
    "duration": 9,
    "start_time": "2022-12-27T15:04:57.563Z"
   },
   {
    "duration": 60,
    "start_time": "2022-12-27T15:04:57.574Z"
   },
   {
    "duration": 7,
    "start_time": "2022-12-27T15:04:57.635Z"
   },
   {
    "duration": 6,
    "start_time": "2022-12-27T15:04:57.643Z"
   },
   {
    "duration": 19,
    "start_time": "2022-12-27T15:04:57.651Z"
   },
   {
    "duration": 28,
    "start_time": "2022-12-27T15:04:57.672Z"
   },
   {
    "duration": 6,
    "start_time": "2022-12-27T15:04:57.702Z"
   },
   {
    "duration": 8,
    "start_time": "2022-12-27T15:04:57.710Z"
   },
   {
    "duration": 6,
    "start_time": "2022-12-27T15:04:57.719Z"
   },
   {
    "duration": 7,
    "start_time": "2022-12-27T15:04:57.726Z"
   },
   {
    "duration": 13,
    "start_time": "2022-12-27T15:04:57.734Z"
   },
   {
    "duration": 11,
    "start_time": "2022-12-27T15:04:57.748Z"
   },
   {
    "duration": 94,
    "start_time": "2022-12-27T15:09:50.564Z"
   },
   {
    "duration": 18,
    "start_time": "2022-12-27T15:09:59.044Z"
   },
   {
    "duration": 17,
    "start_time": "2022-12-27T15:10:47.171Z"
   },
   {
    "duration": 16,
    "start_time": "2022-12-27T15:10:50.647Z"
   },
   {
    "duration": 2,
    "start_time": "2022-12-27T15:18:00.600Z"
   },
   {
    "duration": 1090,
    "start_time": "2022-12-27T15:25:19.898Z"
   },
   {
    "duration": 53,
    "start_time": "2022-12-27T15:25:20.990Z"
   },
   {
    "duration": 18,
    "start_time": "2022-12-27T15:25:21.045Z"
   },
   {
    "duration": 22,
    "start_time": "2022-12-27T15:25:21.065Z"
   },
   {
    "duration": 13,
    "start_time": "2022-12-27T15:25:21.089Z"
   },
   {
    "duration": 39,
    "start_time": "2022-12-27T15:25:21.103Z"
   },
   {
    "duration": 25,
    "start_time": "2022-12-27T15:25:21.144Z"
   },
   {
    "duration": 32,
    "start_time": "2022-12-27T15:25:21.171Z"
   },
   {
    "duration": 24,
    "start_time": "2022-12-27T15:25:21.205Z"
   },
   {
    "duration": 14,
    "start_time": "2022-12-27T15:25:21.232Z"
   },
   {
    "duration": 34,
    "start_time": "2022-12-27T15:25:21.247Z"
   },
   {
    "duration": 12,
    "start_time": "2022-12-27T15:25:21.282Z"
   },
   {
    "duration": 26,
    "start_time": "2022-12-27T15:25:21.296Z"
   },
   {
    "duration": 29,
    "start_time": "2022-12-27T15:25:21.324Z"
   },
   {
    "duration": 11,
    "start_time": "2022-12-27T15:25:21.354Z"
   },
   {
    "duration": 24,
    "start_time": "2022-12-27T15:25:21.366Z"
   },
   {
    "duration": 31,
    "start_time": "2022-12-27T15:25:21.392Z"
   },
   {
    "duration": 13,
    "start_time": "2022-12-27T15:25:21.425Z"
   },
   {
    "duration": 18,
    "start_time": "2022-12-27T15:25:21.440Z"
   },
   {
    "duration": 11,
    "start_time": "2022-12-27T15:25:21.459Z"
   },
   {
    "duration": 8,
    "start_time": "2022-12-27T15:25:21.471Z"
   },
   {
    "duration": 40,
    "start_time": "2022-12-27T15:25:21.480Z"
   },
   {
    "duration": 42,
    "start_time": "2022-12-27T15:25:21.522Z"
   },
   {
    "duration": 5,
    "start_time": "2022-12-27T15:25:21.565Z"
   },
   {
    "duration": 17,
    "start_time": "2022-12-27T15:25:21.572Z"
   },
   {
    "duration": 33,
    "start_time": "2022-12-27T15:25:21.591Z"
   },
   {
    "duration": 7,
    "start_time": "2022-12-27T15:25:21.626Z"
   },
   {
    "duration": 14,
    "start_time": "2022-12-27T15:25:21.636Z"
   },
   {
    "duration": 90,
    "start_time": "2022-12-27T15:25:21.652Z"
   },
   {
    "duration": 6,
    "start_time": "2022-12-27T15:25:21.744Z"
   },
   {
    "duration": 14,
    "start_time": "2022-12-27T15:25:21.751Z"
   },
   {
    "duration": 33,
    "start_time": "2022-12-27T15:25:21.767Z"
   },
   {
    "duration": 7,
    "start_time": "2022-12-27T15:25:21.802Z"
   },
   {
    "duration": 13,
    "start_time": "2022-12-27T15:25:21.810Z"
   },
   {
    "duration": 9,
    "start_time": "2022-12-27T15:25:21.824Z"
   },
   {
    "duration": 26,
    "start_time": "2022-12-27T15:25:21.834Z"
   },
   {
    "duration": 16,
    "start_time": "2022-12-27T15:25:21.863Z"
   },
   {
    "duration": 20,
    "start_time": "2022-12-27T15:25:21.881Z"
   },
   {
    "duration": 29,
    "start_time": "2022-12-27T15:25:21.902Z"
   },
   {
    "duration": 19,
    "start_time": "2022-12-27T15:25:21.933Z"
   },
   {
    "duration": 12,
    "start_time": "2022-12-27T15:25:21.955Z"
   },
   {
    "duration": 1165,
    "start_time": "2022-12-27T15:27:44.304Z"
   },
   {
    "duration": 51,
    "start_time": "2022-12-27T15:27:45.470Z"
   },
   {
    "duration": 16,
    "start_time": "2022-12-27T15:27:45.523Z"
   },
   {
    "duration": 13,
    "start_time": "2022-12-27T15:27:45.541Z"
   },
   {
    "duration": 3,
    "start_time": "2022-12-27T15:27:45.556Z"
   },
   {
    "duration": 7,
    "start_time": "2022-12-27T15:27:45.560Z"
   },
   {
    "duration": 29,
    "start_time": "2022-12-27T15:27:45.568Z"
   },
   {
    "duration": 13,
    "start_time": "2022-12-27T15:27:45.599Z"
   },
   {
    "duration": 21,
    "start_time": "2022-12-27T15:27:45.614Z"
   },
   {
    "duration": 11,
    "start_time": "2022-12-27T15:27:45.638Z"
   },
   {
    "duration": 28,
    "start_time": "2022-12-27T15:27:45.651Z"
   },
   {
    "duration": 17,
    "start_time": "2022-12-27T15:27:45.680Z"
   },
   {
    "duration": 5,
    "start_time": "2022-12-27T15:27:45.698Z"
   },
   {
    "duration": 20,
    "start_time": "2022-12-27T15:27:45.704Z"
   },
   {
    "duration": 2,
    "start_time": "2022-12-27T15:27:45.725Z"
   },
   {
    "duration": 8,
    "start_time": "2022-12-27T15:27:45.728Z"
   },
   {
    "duration": 13,
    "start_time": "2022-12-27T15:27:45.737Z"
   },
   {
    "duration": 12,
    "start_time": "2022-12-27T15:27:45.752Z"
   },
   {
    "duration": 9,
    "start_time": "2022-12-27T15:27:45.765Z"
   },
   {
    "duration": 9,
    "start_time": "2022-12-27T15:27:45.775Z"
   },
   {
    "duration": 12,
    "start_time": "2022-12-27T15:27:45.786Z"
   },
   {
    "duration": 24,
    "start_time": "2022-12-27T15:27:45.799Z"
   },
   {
    "duration": 40,
    "start_time": "2022-12-27T15:27:45.824Z"
   },
   {
    "duration": 4,
    "start_time": "2022-12-27T15:27:45.865Z"
   },
   {
    "duration": 9,
    "start_time": "2022-12-27T15:27:45.871Z"
   },
   {
    "duration": 36,
    "start_time": "2022-12-27T15:27:45.882Z"
   },
   {
    "duration": 7,
    "start_time": "2022-12-27T15:27:45.919Z"
   },
   {
    "duration": 5,
    "start_time": "2022-12-27T15:27:45.930Z"
   },
   {
    "duration": 69,
    "start_time": "2022-12-27T15:27:45.936Z"
   },
   {
    "duration": 6,
    "start_time": "2022-12-27T15:27:46.006Z"
   },
   {
    "duration": 10,
    "start_time": "2022-12-27T15:27:46.013Z"
   },
   {
    "duration": 17,
    "start_time": "2022-12-27T15:27:46.024Z"
   },
   {
    "duration": 5,
    "start_time": "2022-12-27T15:27:46.042Z"
   },
   {
    "duration": 9,
    "start_time": "2022-12-27T15:27:46.048Z"
   },
   {
    "duration": 7,
    "start_time": "2022-12-27T15:27:46.058Z"
   },
   {
    "duration": 31,
    "start_time": "2022-12-27T15:27:46.067Z"
   },
   {
    "duration": 5,
    "start_time": "2022-12-27T15:27:46.099Z"
   },
   {
    "duration": 11,
    "start_time": "2022-12-27T15:27:46.105Z"
   },
   {
    "duration": 16,
    "start_time": "2022-12-27T15:27:46.118Z"
   },
   {
    "duration": 18,
    "start_time": "2022-12-27T15:27:46.136Z"
   },
   {
    "duration": 2,
    "start_time": "2022-12-27T15:27:46.156Z"
   },
   {
    "duration": 89,
    "start_time": "2022-12-28T07:39:39.618Z"
   },
   {
    "duration": 55,
    "start_time": "2022-12-28T07:40:23.753Z"
   },
   {
    "duration": 1447,
    "start_time": "2022-12-28T07:40:32.243Z"
   },
   {
    "duration": 196,
    "start_time": "2022-12-28T07:40:33.692Z"
   },
   {
    "duration": 19,
    "start_time": "2022-12-28T07:40:33.893Z"
   },
   {
    "duration": 16,
    "start_time": "2022-12-28T07:40:33.914Z"
   },
   {
    "duration": 3,
    "start_time": "2022-12-28T07:40:33.932Z"
   },
   {
    "duration": 14,
    "start_time": "2022-12-28T07:40:33.937Z"
   },
   {
    "duration": 5,
    "start_time": "2022-12-28T07:40:33.953Z"
   },
   {
    "duration": 18,
    "start_time": "2022-12-28T07:40:33.960Z"
   },
   {
    "duration": 12,
    "start_time": "2022-12-28T07:40:33.981Z"
   },
   {
    "duration": 5,
    "start_time": "2022-12-28T07:40:33.995Z"
   },
   {
    "duration": 53,
    "start_time": "2022-12-28T07:40:34.002Z"
   },
   {
    "duration": 5,
    "start_time": "2022-12-28T07:40:34.057Z"
   },
   {
    "duration": 9,
    "start_time": "2022-12-28T07:40:34.064Z"
   },
   {
    "duration": 23,
    "start_time": "2022-12-28T07:40:34.074Z"
   },
   {
    "duration": 10,
    "start_time": "2022-12-28T07:40:34.099Z"
   },
   {
    "duration": 14,
    "start_time": "2022-12-28T07:40:34.111Z"
   },
   {
    "duration": 12,
    "start_time": "2022-12-28T07:40:34.126Z"
   },
   {
    "duration": 14,
    "start_time": "2022-12-28T07:40:34.140Z"
   },
   {
    "duration": 9,
    "start_time": "2022-12-28T07:40:34.156Z"
   },
   {
    "duration": 12,
    "start_time": "2022-12-28T07:40:34.167Z"
   },
   {
    "duration": 13,
    "start_time": "2022-12-28T07:40:34.181Z"
   },
   {
    "duration": 33,
    "start_time": "2022-12-28T07:40:34.195Z"
   },
   {
    "duration": 55,
    "start_time": "2022-12-28T07:40:34.229Z"
   },
   {
    "duration": 4,
    "start_time": "2022-12-28T07:40:34.286Z"
   },
   {
    "duration": 9,
    "start_time": "2022-12-28T07:40:34.291Z"
   },
   {
    "duration": 20,
    "start_time": "2022-12-28T07:40:34.302Z"
   },
   {
    "duration": 8,
    "start_time": "2022-12-28T07:40:34.350Z"
   },
   {
    "duration": 13,
    "start_time": "2022-12-28T07:40:34.360Z"
   },
   {
    "duration": 53,
    "start_time": "2022-12-28T07:40:34.375Z"
   },
   {
    "duration": 5,
    "start_time": "2022-12-28T07:40:34.430Z"
   },
   {
    "duration": 6,
    "start_time": "2022-12-28T07:40:34.451Z"
   },
   {
    "duration": 19,
    "start_time": "2022-12-28T07:40:34.459Z"
   },
   {
    "duration": 8,
    "start_time": "2022-12-28T07:40:34.480Z"
   },
   {
    "duration": 8,
    "start_time": "2022-12-28T07:40:34.489Z"
   },
   {
    "duration": 14,
    "start_time": "2022-12-28T07:40:34.499Z"
   },
   {
    "duration": 8,
    "start_time": "2022-12-28T07:40:34.515Z"
   },
   {
    "duration": 5,
    "start_time": "2022-12-28T07:40:34.552Z"
   },
   {
    "duration": 20,
    "start_time": "2022-12-28T07:40:34.559Z"
   },
   {
    "duration": 19,
    "start_time": "2022-12-28T07:40:34.582Z"
   },
   {
    "duration": 21,
    "start_time": "2022-12-28T07:40:34.603Z"
   },
   {
    "duration": 27,
    "start_time": "2022-12-28T07:40:34.625Z"
   },
   {
    "duration": 191,
    "start_time": "2022-12-28T07:40:34.654Z"
   },
   {
    "duration": 158,
    "start_time": "2022-12-28T07:40:55.303Z"
   },
   {
    "duration": 172,
    "start_time": "2022-12-28T07:41:00.552Z"
   },
   {
    "duration": 167,
    "start_time": "2022-12-28T07:41:04.967Z"
   },
   {
    "duration": 161,
    "start_time": "2022-12-28T07:41:10.215Z"
   },
   {
    "duration": 196,
    "start_time": "2022-12-28T07:41:13.143Z"
   },
   {
    "duration": 176,
    "start_time": "2022-12-28T07:41:17.919Z"
   },
   {
    "duration": 174,
    "start_time": "2022-12-28T07:41:31.096Z"
   },
   {
    "duration": 15,
    "start_time": "2022-12-28T07:42:38.872Z"
   },
   {
    "duration": 9,
    "start_time": "2022-12-28T07:43:44.424Z"
   },
   {
    "duration": 8,
    "start_time": "2022-12-28T07:44:15.594Z"
   },
   {
    "duration": 114,
    "start_time": "2022-12-28T08:13:30.131Z"
   },
   {
    "duration": 13,
    "start_time": "2022-12-28T08:13:35.946Z"
   },
   {
    "duration": 25,
    "start_time": "2022-12-28T08:14:16.836Z"
   },
   {
    "duration": 16,
    "start_time": "2022-12-28T08:15:24.494Z"
   },
   {
    "duration": 9,
    "start_time": "2022-12-28T08:18:37.583Z"
   },
   {
    "duration": 80,
    "start_time": "2022-12-28T08:18:46.878Z"
   },
   {
    "duration": 11,
    "start_time": "2022-12-28T08:18:49.550Z"
   },
   {
    "duration": 10,
    "start_time": "2022-12-28T08:18:55.477Z"
   },
   {
    "duration": 15,
    "start_time": "2022-12-28T08:20:18.651Z"
   },
   {
    "duration": 341,
    "start_time": "2022-12-28T08:20:27.503Z"
   },
   {
    "duration": 326,
    "start_time": "2022-12-28T08:20:33.639Z"
   },
   {
    "duration": 10,
    "start_time": "2022-12-28T08:21:50.766Z"
   },
   {
    "duration": 323,
    "start_time": "2022-12-28T08:21:53.101Z"
   },
   {
    "duration": 28,
    "start_time": "2022-12-28T08:26:47.096Z"
   },
   {
    "duration": 26,
    "start_time": "2022-12-28T08:27:31.826Z"
   },
   {
    "duration": 26,
    "start_time": "2022-12-28T08:29:43.547Z"
   },
   {
    "duration": 26,
    "start_time": "2022-12-28T08:30:10.964Z"
   },
   {
    "duration": 24,
    "start_time": "2022-12-28T08:30:34.882Z"
   },
   {
    "duration": 16,
    "start_time": "2022-12-28T08:31:28.251Z"
   },
   {
    "duration": 20,
    "start_time": "2022-12-28T08:31:49.699Z"
   },
   {
    "duration": 25,
    "start_time": "2022-12-28T08:32:11.875Z"
   },
   {
    "duration": 8,
    "start_time": "2022-12-28T08:37:38.392Z"
   },
   {
    "duration": 9,
    "start_time": "2022-12-28T08:38:40.062Z"
   },
   {
    "duration": 11,
    "start_time": "2022-12-28T08:38:40.573Z"
   },
   {
    "duration": 10,
    "start_time": "2022-12-28T08:40:10.374Z"
   },
   {
    "duration": 13,
    "start_time": "2022-12-28T08:40:14.406Z"
   },
   {
    "duration": 12,
    "start_time": "2022-12-28T08:40:26.325Z"
   },
   {
    "duration": 17,
    "start_time": "2022-12-28T08:40:30.550Z"
   },
   {
    "duration": 9,
    "start_time": "2022-12-28T08:41:11.406Z"
   },
   {
    "duration": 11,
    "start_time": "2022-12-28T08:41:17.574Z"
   },
   {
    "duration": 10,
    "start_time": "2022-12-28T08:41:19.871Z"
   },
   {
    "duration": 12,
    "start_time": "2022-12-28T08:41:20.335Z"
   },
   {
    "duration": 9,
    "start_time": "2022-12-28T08:41:38.902Z"
   },
   {
    "duration": 11,
    "start_time": "2022-12-28T08:41:39.373Z"
   },
   {
    "duration": 1253,
    "start_time": "2022-12-28T08:41:50.533Z"
   },
   {
    "duration": 55,
    "start_time": "2022-12-28T08:41:51.788Z"
   },
   {
    "duration": 19,
    "start_time": "2022-12-28T08:41:51.845Z"
   },
   {
    "duration": 32,
    "start_time": "2022-12-28T08:41:51.868Z"
   },
   {
    "duration": 10,
    "start_time": "2022-12-28T08:41:51.902Z"
   },
   {
    "duration": 24,
    "start_time": "2022-12-28T08:41:51.914Z"
   },
   {
    "duration": 30,
    "start_time": "2022-12-28T08:41:51.940Z"
   },
   {
    "duration": 46,
    "start_time": "2022-12-28T08:41:51.972Z"
   },
   {
    "duration": 31,
    "start_time": "2022-12-28T08:41:52.020Z"
   },
   {
    "duration": 11,
    "start_time": "2022-12-28T08:41:52.054Z"
   },
   {
    "duration": 41,
    "start_time": "2022-12-28T08:41:52.067Z"
   },
   {
    "duration": 8,
    "start_time": "2022-12-28T08:41:52.110Z"
   },
   {
    "duration": 23,
    "start_time": "2022-12-28T08:41:52.120Z"
   },
   {
    "duration": 21,
    "start_time": "2022-12-28T08:41:52.145Z"
   },
   {
    "duration": 3,
    "start_time": "2022-12-28T08:41:52.168Z"
   },
   {
    "duration": 11,
    "start_time": "2022-12-28T08:41:52.174Z"
   },
   {
    "duration": 18,
    "start_time": "2022-12-28T08:41:52.187Z"
   },
   {
    "duration": 18,
    "start_time": "2022-12-28T08:41:52.207Z"
   },
   {
    "duration": 12,
    "start_time": "2022-12-28T08:41:52.227Z"
   },
   {
    "duration": 18,
    "start_time": "2022-12-28T08:41:52.240Z"
   },
   {
    "duration": 14,
    "start_time": "2022-12-28T08:41:52.260Z"
   },
   {
    "duration": 21,
    "start_time": "2022-12-28T08:41:52.276Z"
   },
   {
    "duration": 60,
    "start_time": "2022-12-28T08:41:52.299Z"
   },
   {
    "duration": 6,
    "start_time": "2022-12-28T08:41:52.361Z"
   },
   {
    "duration": 20,
    "start_time": "2022-12-28T08:41:52.368Z"
   },
   {
    "duration": 24,
    "start_time": "2022-12-28T08:41:52.390Z"
   },
   {
    "duration": 8,
    "start_time": "2022-12-28T08:41:52.417Z"
   },
   {
    "duration": 23,
    "start_time": "2022-12-28T08:41:52.428Z"
   },
   {
    "duration": 60,
    "start_time": "2022-12-28T08:41:52.453Z"
   },
   {
    "duration": 6,
    "start_time": "2022-12-28T08:41:52.515Z"
   },
   {
    "duration": 22,
    "start_time": "2022-12-28T08:41:52.522Z"
   },
   {
    "duration": 23,
    "start_time": "2022-12-28T08:41:52.546Z"
   },
   {
    "duration": 6,
    "start_time": "2022-12-28T08:41:52.571Z"
   },
   {
    "duration": 6,
    "start_time": "2022-12-28T08:41:52.579Z"
   },
   {
    "duration": 13,
    "start_time": "2022-12-28T08:41:52.587Z"
   },
   {
    "duration": 8,
    "start_time": "2022-12-28T08:41:52.602Z"
   },
   {
    "duration": 8,
    "start_time": "2022-12-28T08:41:52.612Z"
   },
   {
    "duration": 37,
    "start_time": "2022-12-28T08:41:52.621Z"
   },
   {
    "duration": 18,
    "start_time": "2022-12-28T08:41:52.660Z"
   },
   {
    "duration": 26,
    "start_time": "2022-12-28T08:41:52.680Z"
   },
   {
    "duration": 20,
    "start_time": "2022-12-28T08:41:52.708Z"
   },
   {
    "duration": 196,
    "start_time": "2022-12-28T08:41:52.731Z"
   },
   {
    "duration": 9,
    "start_time": "2022-12-28T08:41:52.929Z"
   },
   {
    "duration": 38,
    "start_time": "2022-12-28T08:41:52.940Z"
   },
   {
    "duration": 11,
    "start_time": "2022-12-28T08:41:52.979Z"
   },
   {
    "duration": 355,
    "start_time": "2022-12-28T08:41:52.991Z"
   },
   {
    "duration": 11,
    "start_time": "2022-12-28T08:41:53.347Z"
   },
   {
    "duration": 120,
    "start_time": "2022-12-28T08:41:53.360Z"
   },
   {
    "duration": 341,
    "start_time": "2022-12-28T08:42:25.854Z"
   },
   {
    "duration": 12,
    "start_time": "2022-12-28T08:43:10.695Z"
   },
   {
    "duration": 16,
    "start_time": "2022-12-28T08:43:20.786Z"
   },
   {
    "duration": 16,
    "start_time": "2022-12-28T08:43:29.912Z"
   },
   {
    "duration": 12,
    "start_time": "2022-12-28T08:43:47.791Z"
   },
   {
    "duration": 10,
    "start_time": "2022-12-28T08:43:57.231Z"
   },
   {
    "duration": 15,
    "start_time": "2022-12-28T08:43:59.528Z"
   },
   {
    "duration": 11,
    "start_time": "2022-12-28T08:44:00.496Z"
   },
   {
    "duration": 30,
    "start_time": "2022-12-28T08:45:54.221Z"
   },
   {
    "duration": 13,
    "start_time": "2022-12-28T08:48:12.704Z"
   },
   {
    "duration": 2906,
    "start_time": "2022-12-28T08:48:13.769Z"
   },
   {
    "duration": 22,
    "start_time": "2022-12-28T08:48:17.417Z"
   },
   {
    "duration": 3146,
    "start_time": "2022-12-28T08:49:14.041Z"
   },
   {
    "duration": 17,
    "start_time": "2022-12-28T08:49:17.189Z"
   },
   {
    "duration": 3151,
    "start_time": "2022-12-28T08:49:18.504Z"
   },
   {
    "duration": 96,
    "start_time": "2022-12-28T08:53:19.027Z"
   },
   {
    "duration": 2862,
    "start_time": "2022-12-28T08:53:22.595Z"
   },
   {
    "duration": 83,
    "start_time": "2022-12-28T08:54:05.663Z"
   },
   {
    "duration": 74,
    "start_time": "2022-12-28T08:54:13.347Z"
   },
   {
    "duration": 3092,
    "start_time": "2022-12-28T08:54:14.218Z"
   },
   {
    "duration": 20,
    "start_time": "2022-12-28T08:55:19.140Z"
   },
   {
    "duration": 3,
    "start_time": "2022-12-28T08:55:21.896Z"
   },
   {
    "duration": 15,
    "start_time": "2022-12-28T08:55:28.564Z"
   },
   {
    "duration": 23,
    "start_time": "2022-12-28T08:55:40.644Z"
   },
   {
    "duration": 3,
    "start_time": "2022-12-28T08:57:09.750Z"
   },
   {
    "duration": 4,
    "start_time": "2022-12-28T08:59:11.629Z"
   },
   {
    "duration": 15,
    "start_time": "2022-12-28T08:59:12.765Z"
   },
   {
    "duration": 33,
    "start_time": "2022-12-28T09:00:32.165Z"
   },
   {
    "duration": 3,
    "start_time": "2022-12-28T09:04:22.934Z"
   },
   {
    "duration": 15,
    "start_time": "2022-12-28T09:05:04.720Z"
   },
   {
    "duration": 2962,
    "start_time": "2022-12-28T09:05:07.671Z"
   },
   {
    "duration": 72,
    "start_time": "2022-12-28T09:05:31.590Z"
   },
   {
    "duration": 69,
    "start_time": "2022-12-28T09:06:00.776Z"
   },
   {
    "duration": 16,
    "start_time": "2022-12-28T09:06:13.960Z"
   },
   {
    "duration": 15,
    "start_time": "2022-12-28T09:06:34.608Z"
   },
   {
    "duration": 20,
    "start_time": "2022-12-28T09:06:39.737Z"
   },
   {
    "duration": 14,
    "start_time": "2022-12-28T09:06:44.497Z"
   },
   {
    "duration": 14,
    "start_time": "2022-12-28T09:06:51.576Z"
   },
   {
    "duration": 9,
    "start_time": "2022-12-28T09:08:35.900Z"
   },
   {
    "duration": 7,
    "start_time": "2022-12-28T09:08:43.775Z"
   },
   {
    "duration": 8,
    "start_time": "2022-12-28T09:09:25.492Z"
   },
   {
    "duration": 195,
    "start_time": "2022-12-28T09:09:26.968Z"
   },
   {
    "duration": 510,
    "start_time": "2022-12-28T09:09:28.009Z"
   },
   {
    "duration": 513,
    "start_time": "2022-12-28T09:13:06.196Z"
   },
   {
    "duration": 489,
    "start_time": "2022-12-28T09:13:14.474Z"
   },
   {
    "duration": 607,
    "start_time": "2022-12-28T09:13:25.018Z"
   },
   {
    "duration": 509,
    "start_time": "2022-12-28T09:13:37.978Z"
   },
   {
    "duration": 806,
    "start_time": "2022-12-28T09:13:44.349Z"
   },
   {
    "duration": 1215,
    "start_time": "2022-12-28T09:13:53.562Z"
   },
   {
    "duration": 909,
    "start_time": "2022-12-28T09:14:06.809Z"
   },
   {
    "duration": 507,
    "start_time": "2022-12-28T09:15:17.229Z"
   },
   {
    "duration": 782,
    "start_time": "2022-12-28T09:17:20.502Z"
   },
   {
    "duration": 899,
    "start_time": "2022-12-28T09:17:26.797Z"
   },
   {
    "duration": 15,
    "start_time": "2022-12-28T09:26:02.719Z"
   },
   {
    "duration": 7,
    "start_time": "2022-12-28T09:34:24.777Z"
   },
   {
    "duration": 11,
    "start_time": "2022-12-28T09:34:54.978Z"
   },
   {
    "duration": 7,
    "start_time": "2022-12-28T09:35:25.082Z"
   },
   {
    "duration": 10,
    "start_time": "2022-12-28T09:35:26.274Z"
   },
   {
    "duration": 748,
    "start_time": "2022-12-28T09:35:46.066Z"
   },
   {
    "duration": 211,
    "start_time": "2022-12-28T09:36:02.162Z"
   },
   {
    "duration": 10,
    "start_time": "2022-12-28T09:36:24.219Z"
   },
   {
    "duration": 16,
    "start_time": "2022-12-28T09:36:51.387Z"
   },
   {
    "duration": 8,
    "start_time": "2022-12-28T09:37:34.012Z"
   },
   {
    "duration": 7,
    "start_time": "2022-12-28T09:37:39.123Z"
   },
   {
    "duration": 9,
    "start_time": "2022-12-28T09:37:40.874Z"
   },
   {
    "duration": 7,
    "start_time": "2022-12-28T09:37:50.363Z"
   },
   {
    "duration": 8,
    "start_time": "2022-12-28T09:39:42.685Z"
   },
   {
    "duration": 17,
    "start_time": "2022-12-28T09:39:43.860Z"
   },
   {
    "duration": 14,
    "start_time": "2022-12-28T09:40:35.949Z"
   },
   {
    "duration": 185,
    "start_time": "2022-12-28T09:40:50.902Z"
   },
   {
    "duration": 192,
    "start_time": "2022-12-28T09:41:03.341Z"
   },
   {
    "duration": 18,
    "start_time": "2022-12-28T09:43:03.417Z"
   },
   {
    "duration": 894,
    "start_time": "2022-12-28T09:43:04.525Z"
   },
   {
    "duration": 472,
    "start_time": "2022-12-28T09:43:17.535Z"
   },
   {
    "duration": 202,
    "start_time": "2022-12-28T09:55:29.038Z"
   },
   {
    "duration": 36,
    "start_time": "2022-12-28T10:00:26.665Z"
   },
   {
    "duration": 282,
    "start_time": "2022-12-28T10:00:45.401Z"
   },
   {
    "duration": 155,
    "start_time": "2022-12-28T10:00:54.665Z"
   },
   {
    "duration": 164,
    "start_time": "2022-12-28T11:04:00.867Z"
   },
   {
    "duration": 1275,
    "start_time": "2022-12-28T11:05:05.954Z"
   },
   {
    "duration": 210,
    "start_time": "2022-12-28T11:05:18.948Z"
   },
   {
    "duration": 161,
    "start_time": "2022-12-28T11:05:26.883Z"
   },
   {
    "duration": 173,
    "start_time": "2022-12-28T11:05:35.658Z"
   },
   {
    "duration": 37,
    "start_time": "2022-12-28T11:13:02.454Z"
   },
   {
    "duration": 11,
    "start_time": "2022-12-28T11:13:20.040Z"
   },
   {
    "duration": 6,
    "start_time": "2022-12-28T11:15:48.494Z"
   },
   {
    "duration": 6,
    "start_time": "2022-12-28T11:15:50.765Z"
   },
   {
    "duration": 147,
    "start_time": "2022-12-28T11:16:01.486Z"
   },
   {
    "duration": 153,
    "start_time": "2022-12-28T11:16:07.862Z"
   },
   {
    "duration": 160,
    "start_time": "2022-12-28T11:16:22.087Z"
   },
   {
    "duration": 160,
    "start_time": "2022-12-28T11:16:27.925Z"
   },
   {
    "duration": 152,
    "start_time": "2022-12-28T11:16:34.677Z"
   },
   {
    "duration": 153,
    "start_time": "2022-12-28T11:16:39.229Z"
   },
   {
    "duration": 152,
    "start_time": "2022-12-28T11:16:51.039Z"
   },
   {
    "duration": 285,
    "start_time": "2022-12-28T11:16:55.973Z"
   },
   {
    "duration": 166,
    "start_time": "2022-12-28T11:17:00.312Z"
   },
   {
    "duration": 173,
    "start_time": "2022-12-28T11:17:04.629Z"
   },
   {
    "duration": 156,
    "start_time": "2022-12-28T11:17:11.903Z"
   },
   {
    "duration": 152,
    "start_time": "2022-12-28T11:17:19.837Z"
   },
   {
    "duration": 8,
    "start_time": "2022-12-28T11:27:02.449Z"
   },
   {
    "duration": 201,
    "start_time": "2022-12-28T11:27:04.433Z"
   },
   {
    "duration": 10,
    "start_time": "2022-12-28T11:28:37.762Z"
   },
   {
    "duration": 211,
    "start_time": "2022-12-28T11:29:46.220Z"
   },
   {
    "duration": 208,
    "start_time": "2022-12-28T11:29:55.649Z"
   },
   {
    "duration": 10,
    "start_time": "2022-12-28T11:30:39.323Z"
   },
   {
    "duration": 9,
    "start_time": "2022-12-28T11:30:45.208Z"
   },
   {
    "duration": 209,
    "start_time": "2022-12-28T11:30:47.873Z"
   },
   {
    "duration": 3,
    "start_time": "2022-12-28T11:42:12.611Z"
   },
   {
    "duration": 3,
    "start_time": "2022-12-28T12:02:52.934Z"
   },
   {
    "duration": 14,
    "start_time": "2022-12-28T12:07:55.126Z"
   },
   {
    "duration": 15,
    "start_time": "2022-12-28T12:09:03.574Z"
   },
   {
    "duration": 17,
    "start_time": "2022-12-28T12:09:43.335Z"
   },
   {
    "duration": 19,
    "start_time": "2022-12-28T12:12:23.662Z"
   },
   {
    "duration": 19,
    "start_time": "2022-12-28T12:13:08.639Z"
   },
   {
    "duration": 12,
    "start_time": "2022-12-28T12:13:15.318Z"
   },
   {
    "duration": 25,
    "start_time": "2022-12-28T12:13:19.775Z"
   },
   {
    "duration": 15,
    "start_time": "2022-12-28T12:13:26.566Z"
   },
   {
    "duration": 17,
    "start_time": "2022-12-28T12:13:56.075Z"
   },
   {
    "duration": 17,
    "start_time": "2022-12-28T12:19:17.265Z"
   },
   {
    "duration": 19,
    "start_time": "2022-12-28T12:20:50.219Z"
   },
   {
    "duration": 16,
    "start_time": "2022-12-28T12:21:46.517Z"
   },
   {
    "duration": 16,
    "start_time": "2022-12-28T12:21:57.628Z"
   },
   {
    "duration": 18,
    "start_time": "2022-12-28T12:27:13.831Z"
   },
   {
    "duration": 18,
    "start_time": "2022-12-28T12:28:44.663Z"
   },
   {
    "duration": 17,
    "start_time": "2022-12-28T12:30:47.370Z"
   },
   {
    "duration": 72,
    "start_time": "2022-12-28T12:36:16.409Z"
   },
   {
    "duration": 470,
    "start_time": "2022-12-28T12:37:55.095Z"
   },
   {
    "duration": 8,
    "start_time": "2022-12-28T12:43:11.118Z"
   },
   {
    "duration": 9,
    "start_time": "2022-12-28T12:43:26.172Z"
   },
   {
    "duration": 17,
    "start_time": "2022-12-28T12:45:52.012Z"
   },
   {
    "duration": 12,
    "start_time": "2022-12-28T12:49:59.410Z"
   },
   {
    "duration": 13,
    "start_time": "2022-12-28T12:51:25.069Z"
   },
   {
    "duration": 16,
    "start_time": "2022-12-28T12:52:22.469Z"
   },
   {
    "duration": 15,
    "start_time": "2022-12-28T12:54:07.438Z"
   },
   {
    "duration": 3,
    "start_time": "2022-12-28T13:12:47.822Z"
   },
   {
    "duration": 9,
    "start_time": "2022-12-28T13:13:01.849Z"
   },
   {
    "duration": 17,
    "start_time": "2022-12-28T13:13:22.023Z"
   },
   {
    "duration": 5,
    "start_time": "2022-12-28T13:14:03.168Z"
   },
   {
    "duration": 5,
    "start_time": "2022-12-28T13:14:18.435Z"
   },
   {
    "duration": 10,
    "start_time": "2022-12-28T13:14:40.858Z"
   },
   {
    "duration": 5,
    "start_time": "2022-12-28T13:14:42.033Z"
   },
   {
    "duration": 8,
    "start_time": "2022-12-28T13:14:47.617Z"
   },
   {
    "duration": 6,
    "start_time": "2022-12-28T13:14:48.112Z"
   },
   {
    "duration": 5,
    "start_time": "2022-12-28T13:14:49.130Z"
   },
   {
    "duration": 12,
    "start_time": "2022-12-28T13:15:20.322Z"
   },
   {
    "duration": 6,
    "start_time": "2022-12-28T13:16:37.163Z"
   },
   {
    "duration": 5,
    "start_time": "2022-12-28T13:16:42.112Z"
   },
   {
    "duration": 291,
    "start_time": "2022-12-28T13:18:15.035Z"
   },
   {
    "duration": 179,
    "start_time": "2022-12-28T13:19:39.187Z"
   },
   {
    "duration": 4,
    "start_time": "2022-12-28T13:21:07.333Z"
   },
   {
    "duration": 4,
    "start_time": "2022-12-28T13:22:21.956Z"
   },
   {
    "duration": 1323,
    "start_time": "2022-12-28T13:22:54.746Z"
   },
   {
    "duration": 55,
    "start_time": "2022-12-28T13:22:56.071Z"
   },
   {
    "duration": 19,
    "start_time": "2022-12-28T13:22:56.128Z"
   },
   {
    "duration": 22,
    "start_time": "2022-12-28T13:22:56.149Z"
   },
   {
    "duration": 4,
    "start_time": "2022-12-28T13:22:56.173Z"
   },
   {
    "duration": 9,
    "start_time": "2022-12-28T13:22:56.178Z"
   },
   {
    "duration": 9,
    "start_time": "2022-12-28T13:22:56.189Z"
   },
   {
    "duration": 20,
    "start_time": "2022-12-28T13:22:56.200Z"
   },
   {
    "duration": 32,
    "start_time": "2022-12-28T13:22:56.222Z"
   },
   {
    "duration": 5,
    "start_time": "2022-12-28T13:22:56.256Z"
   },
   {
    "duration": 29,
    "start_time": "2022-12-28T13:22:56.263Z"
   },
   {
    "duration": 21,
    "start_time": "2022-12-28T13:22:56.293Z"
   },
   {
    "duration": 50,
    "start_time": "2022-12-28T13:22:56.316Z"
   },
   {
    "duration": 59,
    "start_time": "2022-12-28T13:22:56.368Z"
   },
   {
    "duration": 26,
    "start_time": "2022-12-28T13:22:56.429Z"
   },
   {
    "duration": 20,
    "start_time": "2022-12-28T13:22:56.457Z"
   },
   {
    "duration": 29,
    "start_time": "2022-12-28T13:22:56.479Z"
   },
   {
    "duration": 25,
    "start_time": "2022-12-28T13:22:56.510Z"
   },
   {
    "duration": 20,
    "start_time": "2022-12-28T13:22:56.536Z"
   },
   {
    "duration": 25,
    "start_time": "2022-12-28T13:22:56.558Z"
   },
   {
    "duration": 19,
    "start_time": "2022-12-28T13:22:56.585Z"
   },
   {
    "duration": 28,
    "start_time": "2022-12-28T13:22:56.605Z"
   },
   {
    "duration": 45,
    "start_time": "2022-12-28T13:22:56.635Z"
   },
   {
    "duration": 5,
    "start_time": "2022-12-28T13:22:56.681Z"
   },
   {
    "duration": 23,
    "start_time": "2022-12-28T13:22:56.688Z"
   },
   {
    "duration": 29,
    "start_time": "2022-12-28T13:22:56.713Z"
   },
   {
    "duration": 13,
    "start_time": "2022-12-28T13:22:56.744Z"
   },
   {
    "duration": 20,
    "start_time": "2022-12-28T13:22:56.762Z"
   },
   {
    "duration": 71,
    "start_time": "2022-12-28T13:22:56.784Z"
   },
   {
    "duration": 6,
    "start_time": "2022-12-28T13:22:56.856Z"
   },
   {
    "duration": 12,
    "start_time": "2022-12-28T13:22:56.863Z"
   },
   {
    "duration": 31,
    "start_time": "2022-12-28T13:22:56.877Z"
   },
   {
    "duration": 7,
    "start_time": "2022-12-28T13:22:56.910Z"
   },
   {
    "duration": 20,
    "start_time": "2022-12-28T13:22:56.918Z"
   },
   {
    "duration": 21,
    "start_time": "2022-12-28T13:22:56.940Z"
   },
   {
    "duration": 9,
    "start_time": "2022-12-28T13:22:56.963Z"
   },
   {
    "duration": 10,
    "start_time": "2022-12-28T13:22:56.974Z"
   },
   {
    "duration": 11,
    "start_time": "2022-12-28T13:22:56.985Z"
   },
   {
    "duration": 14,
    "start_time": "2022-12-28T13:22:56.998Z"
   },
   {
    "duration": 21,
    "start_time": "2022-12-28T13:22:57.013Z"
   },
   {
    "duration": 16,
    "start_time": "2022-12-28T13:22:57.036Z"
   },
   {
    "duration": 186,
    "start_time": "2022-12-28T13:22:57.054Z"
   },
   {
    "duration": 14,
    "start_time": "2022-12-28T13:22:57.242Z"
   },
   {
    "duration": 21,
    "start_time": "2022-12-28T13:22:57.258Z"
   },
   {
    "duration": 9,
    "start_time": "2022-12-28T13:22:57.281Z"
   },
   {
    "duration": 346,
    "start_time": "2022-12-28T13:22:57.291Z"
   },
   {
    "duration": 13,
    "start_time": "2022-12-28T13:22:57.639Z"
   },
   {
    "duration": 20,
    "start_time": "2022-12-28T13:22:57.653Z"
   },
   {
    "duration": 13,
    "start_time": "2022-12-28T13:22:57.674Z"
   },
   {
    "duration": 939,
    "start_time": "2022-12-28T13:22:57.689Z"
   },
   {
    "duration": 6,
    "start_time": "2022-12-28T13:22:58.630Z"
   },
   {
    "duration": 195,
    "start_time": "2022-12-28T13:22:58.637Z"
   },
   {
    "duration": 22,
    "start_time": "2022-12-28T13:22:58.833Z"
   },
   {
    "duration": 583,
    "start_time": "2022-12-28T13:22:58.856Z"
   },
   {
    "duration": 216,
    "start_time": "2022-12-28T13:22:59.441Z"
   },
   {
    "duration": 206,
    "start_time": "2022-12-28T13:22:59.659Z"
   },
   {
    "duration": 157,
    "start_time": "2022-12-28T13:22:59.867Z"
   },
   {
    "duration": 7,
    "start_time": "2022-12-28T13:23:00.026Z"
   },
   {
    "duration": 19,
    "start_time": "2022-12-28T13:23:00.034Z"
   },
   {
    "duration": 10,
    "start_time": "2022-12-28T13:23:00.054Z"
   },
   {
    "duration": 14,
    "start_time": "2022-12-28T13:23:00.065Z"
   },
   {
    "duration": 238,
    "start_time": "2022-12-28T13:23:00.081Z"
   },
   {
    "duration": 207,
    "start_time": "2022-12-28T13:23:00.321Z"
   },
   {
    "duration": 23,
    "start_time": "2022-12-28T13:23:00.529Z"
   },
   {
    "duration": 17,
    "start_time": "2022-12-28T13:23:00.554Z"
   },
   {
    "duration": 25,
    "start_time": "2022-12-28T13:23:00.572Z"
   },
   {
    "duration": 25,
    "start_time": "2022-12-28T13:23:00.599Z"
   },
   {
    "duration": 30,
    "start_time": "2022-12-28T13:23:00.626Z"
   },
   {
    "duration": 26,
    "start_time": "2022-12-28T13:23:00.658Z"
   },
   {
    "duration": 15,
    "start_time": "2022-12-28T13:23:00.686Z"
   },
   {
    "duration": 15,
    "start_time": "2022-12-28T13:23:00.703Z"
   },
   {
    "duration": 38,
    "start_time": "2022-12-28T13:23:00.720Z"
   },
   {
    "duration": 432,
    "start_time": "2022-12-28T13:23:00.760Z"
   },
   {
    "duration": 3,
    "start_time": "2022-12-28T13:23:01.193Z"
   },
   {
    "duration": 25,
    "start_time": "2022-12-28T13:23:01.197Z"
   },
   {
    "duration": 215,
    "start_time": "2022-12-28T13:23:01.224Z"
   },
   {
    "duration": 12,
    "start_time": "2022-12-28T13:23:01.440Z"
   },
   {
    "duration": 202,
    "start_time": "2022-12-28T13:23:01.454Z"
   },
   {
    "duration": 4,
    "start_time": "2022-12-28T13:23:01.657Z"
   },
   {
    "duration": 38,
    "start_time": "2022-12-28T13:23:01.663Z"
   },
   {
    "duration": 21,
    "start_time": "2022-12-28T13:23:01.703Z"
   },
   {
    "duration": 102,
    "start_time": "2022-12-28T13:24:03.276Z"
   },
   {
    "duration": 4,
    "start_time": "2022-12-28T13:24:13.008Z"
   },
   {
    "duration": 20,
    "start_time": "2022-12-28T13:29:04.574Z"
   },
   {
    "duration": 6,
    "start_time": "2022-12-28T13:29:17.358Z"
   },
   {
    "duration": 4,
    "start_time": "2022-12-28T13:32:11.508Z"
   },
   {
    "duration": 17,
    "start_time": "2022-12-28T13:32:47.061Z"
   },
   {
    "duration": 4,
    "start_time": "2022-12-28T13:32:51.886Z"
   },
   {
    "duration": 23,
    "start_time": "2022-12-28T13:35:21.518Z"
   },
   {
    "duration": 9,
    "start_time": "2022-12-28T13:36:06.126Z"
   },
   {
    "duration": 5,
    "start_time": "2022-12-28T13:36:28.753Z"
   },
   {
    "duration": 9,
    "start_time": "2022-12-28T13:37:13.782Z"
   },
   {
    "duration": 277,
    "start_time": "2022-12-28T13:37:14.479Z"
   },
   {
    "duration": 4,
    "start_time": "2022-12-28T13:37:16.182Z"
   },
   {
    "duration": 172,
    "start_time": "2022-12-28T13:37:18.469Z"
   },
   {
    "duration": 5,
    "start_time": "2022-12-28T13:37:19.413Z"
   },
   {
    "duration": 17,
    "start_time": "2022-12-28T13:37:20.253Z"
   },
   {
    "duration": 3,
    "start_time": "2022-12-28T13:37:23.205Z"
   },
   {
    "duration": 5,
    "start_time": "2022-12-28T13:38:14.758Z"
   },
   {
    "duration": 8,
    "start_time": "2022-12-28T13:38:55.783Z"
   },
   {
    "duration": 17,
    "start_time": "2022-12-28T13:46:05.318Z"
   },
   {
    "duration": 9,
    "start_time": "2022-12-28T13:46:13.346Z"
   },
   {
    "duration": 865,
    "start_time": "2022-12-28T13:46:58.302Z"
   },
   {
    "duration": 10,
    "start_time": "2022-12-28T13:48:17.414Z"
   },
   {
    "duration": 6,
    "start_time": "2022-12-28T13:48:51.412Z"
   },
   {
    "duration": 10,
    "start_time": "2022-12-28T13:50:36.017Z"
   },
   {
    "duration": 6,
    "start_time": "2022-12-28T13:51:06.930Z"
   },
   {
    "duration": 27,
    "start_time": "2022-12-28T13:52:25.529Z"
   },
   {
    "duration": 11,
    "start_time": "2022-12-28T13:58:00.278Z"
   },
   {
    "duration": 10,
    "start_time": "2022-12-28T14:02:30.820Z"
   },
   {
    "duration": 6,
    "start_time": "2022-12-28T14:02:37.364Z"
   },
   {
    "duration": 14,
    "start_time": "2022-12-28T14:02:52.475Z"
   },
   {
    "duration": 179,
    "start_time": "2022-12-28T14:05:06.493Z"
   },
   {
    "duration": 192,
    "start_time": "2022-12-28T14:05:19.395Z"
   },
   {
    "duration": 186,
    "start_time": "2022-12-28T14:05:26.396Z"
   },
   {
    "duration": 15,
    "start_time": "2022-12-28T14:06:28.169Z"
   },
   {
    "duration": 2,
    "start_time": "2022-12-28T14:07:31.645Z"
   },
   {
    "duration": 13,
    "start_time": "2022-12-28T14:07:49.291Z"
   },
   {
    "duration": 12,
    "start_time": "2022-12-28T14:09:13.998Z"
   },
   {
    "duration": 13,
    "start_time": "2022-12-28T14:13:09.903Z"
   },
   {
    "duration": 1273,
    "start_time": "2022-12-28T14:15:26.209Z"
   },
   {
    "duration": 57,
    "start_time": "2022-12-28T14:15:27.485Z"
   },
   {
    "duration": 67,
    "start_time": "2022-12-28T14:15:27.544Z"
   },
   {
    "duration": 129,
    "start_time": "2022-12-28T14:15:27.613Z"
   },
   {
    "duration": 4,
    "start_time": "2022-12-28T14:15:27.744Z"
   },
   {
    "duration": 10,
    "start_time": "2022-12-28T14:15:27.749Z"
   },
   {
    "duration": 12,
    "start_time": "2022-12-28T14:15:27.761Z"
   },
   {
    "duration": 21,
    "start_time": "2022-12-28T14:15:27.775Z"
   },
   {
    "duration": 20,
    "start_time": "2022-12-28T14:15:27.798Z"
   },
   {
    "duration": 7,
    "start_time": "2022-12-28T14:15:27.822Z"
   },
   {
    "duration": 32,
    "start_time": "2022-12-28T14:15:27.831Z"
   },
   {
    "duration": 5,
    "start_time": "2022-12-28T14:15:27.864Z"
   },
   {
    "duration": 9,
    "start_time": "2022-12-28T14:15:27.871Z"
   },
   {
    "duration": 18,
    "start_time": "2022-12-28T14:15:27.881Z"
   },
   {
    "duration": 13,
    "start_time": "2022-12-28T14:15:27.901Z"
   },
   {
    "duration": 15,
    "start_time": "2022-12-28T14:15:27.916Z"
   },
   {
    "duration": 28,
    "start_time": "2022-12-28T14:15:27.932Z"
   },
   {
    "duration": 9,
    "start_time": "2022-12-28T14:15:27.962Z"
   },
   {
    "duration": 17,
    "start_time": "2022-12-28T14:15:27.973Z"
   },
   {
    "duration": 18,
    "start_time": "2022-12-28T14:15:27.992Z"
   },
   {
    "duration": 15,
    "start_time": "2022-12-28T14:15:28.012Z"
   },
   {
    "duration": 29,
    "start_time": "2022-12-28T14:15:28.029Z"
   },
   {
    "duration": 50,
    "start_time": "2022-12-28T14:15:28.060Z"
   },
   {
    "duration": 6,
    "start_time": "2022-12-28T14:15:28.111Z"
   },
   {
    "duration": 24,
    "start_time": "2022-12-28T14:15:28.119Z"
   },
   {
    "duration": 30,
    "start_time": "2022-12-28T14:15:28.145Z"
   },
   {
    "duration": 8,
    "start_time": "2022-12-28T14:15:28.177Z"
   },
   {
    "duration": 21,
    "start_time": "2022-12-28T14:15:28.192Z"
   },
   {
    "duration": 84,
    "start_time": "2022-12-28T14:15:28.216Z"
   },
   {
    "duration": 5,
    "start_time": "2022-12-28T14:15:28.301Z"
   },
   {
    "duration": 8,
    "start_time": "2022-12-28T14:15:28.308Z"
   },
   {
    "duration": 35,
    "start_time": "2022-12-28T14:15:28.318Z"
   },
   {
    "duration": 10,
    "start_time": "2022-12-28T14:15:28.355Z"
   },
   {
    "duration": 8,
    "start_time": "2022-12-28T14:15:28.367Z"
   },
   {
    "duration": 14,
    "start_time": "2022-12-28T14:15:28.377Z"
   },
   {
    "duration": 10,
    "start_time": "2022-12-28T14:15:28.393Z"
   },
   {
    "duration": 7,
    "start_time": "2022-12-28T14:15:28.405Z"
   },
   {
    "duration": 12,
    "start_time": "2022-12-28T14:15:28.414Z"
   },
   {
    "duration": 33,
    "start_time": "2022-12-28T14:15:28.428Z"
   },
   {
    "duration": 25,
    "start_time": "2022-12-28T14:15:28.462Z"
   },
   {
    "duration": 3,
    "start_time": "2022-12-28T14:15:28.488Z"
   },
   {
    "duration": 200,
    "start_time": "2022-12-28T14:15:28.493Z"
   },
   {
    "duration": 8,
    "start_time": "2022-12-28T14:15:28.695Z"
   },
   {
    "duration": 22,
    "start_time": "2022-12-28T14:15:28.705Z"
   },
   {
    "duration": 30,
    "start_time": "2022-12-28T14:15:28.729Z"
   },
   {
    "duration": 380,
    "start_time": "2022-12-28T14:15:28.760Z"
   },
   {
    "duration": 11,
    "start_time": "2022-12-28T14:15:29.142Z"
   },
   {
    "duration": 26,
    "start_time": "2022-12-28T14:15:29.155Z"
   },
   {
    "duration": 15,
    "start_time": "2022-12-28T14:15:29.183Z"
   },
   {
    "duration": 1034,
    "start_time": "2022-12-28T14:15:29.200Z"
   },
   {
    "duration": 15,
    "start_time": "2022-12-28T14:15:30.236Z"
   },
   {
    "duration": 215,
    "start_time": "2022-12-28T14:15:30.253Z"
   },
   {
    "duration": 15,
    "start_time": "2022-12-28T14:15:30.470Z"
   },
   {
    "duration": 624,
    "start_time": "2022-12-28T14:15:30.487Z"
   },
   {
    "duration": 207,
    "start_time": "2022-12-28T14:15:31.113Z"
   },
   {
    "duration": 178,
    "start_time": "2022-12-28T14:15:31.322Z"
   },
   {
    "duration": 170,
    "start_time": "2022-12-28T14:15:31.502Z"
   },
   {
    "duration": 6,
    "start_time": "2022-12-28T14:15:31.674Z"
   },
   {
    "duration": 24,
    "start_time": "2022-12-28T14:15:31.682Z"
   },
   {
    "duration": 16,
    "start_time": "2022-12-28T14:15:31.708Z"
   },
   {
    "duration": 18,
    "start_time": "2022-12-28T14:15:31.727Z"
   },
   {
    "duration": 217,
    "start_time": "2022-12-28T14:15:31.747Z"
   },
   {
    "duration": 217,
    "start_time": "2022-12-28T14:15:31.965Z"
   },
   {
    "duration": 27,
    "start_time": "2022-12-28T14:15:32.184Z"
   },
   {
    "duration": 19,
    "start_time": "2022-12-28T14:15:32.214Z"
   },
   {
    "duration": 28,
    "start_time": "2022-12-28T14:15:32.234Z"
   },
   {
    "duration": 15,
    "start_time": "2022-12-28T14:15:32.264Z"
   },
   {
    "duration": 37,
    "start_time": "2022-12-28T14:15:32.281Z"
   },
   {
    "duration": 21,
    "start_time": "2022-12-28T14:15:32.320Z"
   },
   {
    "duration": 20,
    "start_time": "2022-12-28T14:15:32.352Z"
   },
   {
    "duration": 17,
    "start_time": "2022-12-28T14:15:32.374Z"
   },
   {
    "duration": 16,
    "start_time": "2022-12-28T14:15:32.393Z"
   },
   {
    "duration": 473,
    "start_time": "2022-12-28T14:15:32.411Z"
   },
   {
    "duration": 3,
    "start_time": "2022-12-28T14:15:32.886Z"
   },
   {
    "duration": 12,
    "start_time": "2022-12-28T14:15:32.890Z"
   },
   {
    "duration": 194,
    "start_time": "2022-12-28T14:15:32.904Z"
   },
   {
    "duration": 5,
    "start_time": "2022-12-28T14:15:33.100Z"
   },
   {
    "duration": 196,
    "start_time": "2022-12-28T14:15:33.106Z"
   },
   {
    "duration": 5,
    "start_time": "2022-12-28T14:15:33.304Z"
   },
   {
    "duration": 13,
    "start_time": "2022-12-28T14:15:33.311Z"
   },
   {
    "duration": 31,
    "start_time": "2022-12-28T14:15:33.326Z"
   },
   {
    "duration": 1224,
    "start_time": "2022-12-28T14:32:53.205Z"
   },
   {
    "duration": 57,
    "start_time": "2022-12-28T14:32:54.432Z"
   },
   {
    "duration": 19,
    "start_time": "2022-12-28T14:32:54.490Z"
   },
   {
    "duration": 17,
    "start_time": "2022-12-28T14:32:54.512Z"
   },
   {
    "duration": 3,
    "start_time": "2022-12-28T14:32:54.535Z"
   },
   {
    "duration": 15,
    "start_time": "2022-12-28T14:32:54.540Z"
   },
   {
    "duration": 10,
    "start_time": "2022-12-28T14:32:54.556Z"
   },
   {
    "duration": 20,
    "start_time": "2022-12-28T14:32:54.568Z"
   },
   {
    "duration": 26,
    "start_time": "2022-12-28T14:32:54.590Z"
   },
   {
    "duration": 25,
    "start_time": "2022-12-28T14:32:54.620Z"
   },
   {
    "duration": 33,
    "start_time": "2022-12-28T14:32:54.648Z"
   },
   {
    "duration": 6,
    "start_time": "2022-12-28T14:32:54.683Z"
   },
   {
    "duration": 16,
    "start_time": "2022-12-28T14:32:54.691Z"
   },
   {
    "duration": 31,
    "start_time": "2022-12-28T14:32:54.709Z"
   },
   {
    "duration": 4,
    "start_time": "2022-12-28T14:32:54.742Z"
   },
   {
    "duration": 12,
    "start_time": "2022-12-28T14:32:54.748Z"
   },
   {
    "duration": 30,
    "start_time": "2022-12-28T14:32:54.761Z"
   },
   {
    "duration": 29,
    "start_time": "2022-12-28T14:32:54.793Z"
   },
   {
    "duration": 9,
    "start_time": "2022-12-28T14:32:54.824Z"
   },
   {
    "duration": 9,
    "start_time": "2022-12-28T14:32:54.834Z"
   },
   {
    "duration": 15,
    "start_time": "2022-12-28T14:32:54.845Z"
   },
   {
    "duration": 26,
    "start_time": "2022-12-28T14:32:54.862Z"
   },
   {
    "duration": 48,
    "start_time": "2022-12-28T14:32:54.890Z"
   },
   {
    "duration": 7,
    "start_time": "2022-12-28T14:32:54.940Z"
   },
   {
    "duration": 15,
    "start_time": "2022-12-28T14:32:54.949Z"
   },
   {
    "duration": 20,
    "start_time": "2022-12-28T14:32:54.966Z"
   },
   {
    "duration": 7,
    "start_time": "2022-12-28T14:32:54.989Z"
   },
   {
    "duration": 16,
    "start_time": "2022-12-28T14:32:55.001Z"
   },
   {
    "duration": 44,
    "start_time": "2022-12-28T14:32:55.036Z"
   },
   {
    "duration": 4,
    "start_time": "2022-12-28T14:32:55.082Z"
   },
   {
    "duration": 13,
    "start_time": "2022-12-28T14:32:55.088Z"
   },
   {
    "duration": 42,
    "start_time": "2022-12-28T14:32:55.104Z"
   },
   {
    "duration": 7,
    "start_time": "2022-12-28T14:32:55.148Z"
   },
   {
    "duration": 10,
    "start_time": "2022-12-28T14:32:55.157Z"
   },
   {
    "duration": 13,
    "start_time": "2022-12-28T14:32:55.169Z"
   },
   {
    "duration": 11,
    "start_time": "2022-12-28T14:32:55.184Z"
   },
   {
    "duration": 11,
    "start_time": "2022-12-28T14:32:55.197Z"
   },
   {
    "duration": 34,
    "start_time": "2022-12-28T14:32:55.210Z"
   },
   {
    "duration": 23,
    "start_time": "2022-12-28T14:32:55.246Z"
   },
   {
    "duration": 24,
    "start_time": "2022-12-28T14:32:55.271Z"
   },
   {
    "duration": 3,
    "start_time": "2022-12-28T14:32:55.297Z"
   },
   {
    "duration": 223,
    "start_time": "2022-12-28T14:32:55.302Z"
   },
   {
    "duration": 13,
    "start_time": "2022-12-28T14:32:55.527Z"
   },
   {
    "duration": 25,
    "start_time": "2022-12-28T14:32:55.542Z"
   },
   {
    "duration": 9,
    "start_time": "2022-12-28T14:32:55.569Z"
   },
   {
    "duration": 361,
    "start_time": "2022-12-28T14:32:55.580Z"
   },
   {
    "duration": 8,
    "start_time": "2022-12-28T14:32:55.943Z"
   },
   {
    "duration": 30,
    "start_time": "2022-12-28T14:32:55.952Z"
   },
   {
    "duration": 18,
    "start_time": "2022-12-28T14:32:55.984Z"
   },
   {
    "duration": 1039,
    "start_time": "2022-12-28T14:32:56.005Z"
   },
   {
    "duration": 9,
    "start_time": "2022-12-28T14:32:57.046Z"
   },
   {
    "duration": 214,
    "start_time": "2022-12-28T14:32:57.057Z"
   },
   {
    "duration": 14,
    "start_time": "2022-12-28T14:32:57.273Z"
   },
   {
    "duration": 586,
    "start_time": "2022-12-28T14:32:57.289Z"
   },
   {
    "duration": 224,
    "start_time": "2022-12-28T14:32:57.877Z"
   },
   {
    "duration": 182,
    "start_time": "2022-12-28T14:32:58.103Z"
   },
   {
    "duration": 171,
    "start_time": "2022-12-28T14:32:58.286Z"
   },
   {
    "duration": 6,
    "start_time": "2022-12-28T14:32:58.459Z"
   },
   {
    "duration": 17,
    "start_time": "2022-12-28T14:32:58.467Z"
   },
   {
    "duration": 11,
    "start_time": "2022-12-28T14:32:58.485Z"
   },
   {
    "duration": 22,
    "start_time": "2022-12-28T14:32:58.498Z"
   },
   {
    "duration": 222,
    "start_time": "2022-12-28T14:32:58.521Z"
   },
   {
    "duration": 211,
    "start_time": "2022-12-28T14:32:58.745Z"
   },
   {
    "duration": 15,
    "start_time": "2022-12-28T14:32:58.957Z"
   },
   {
    "duration": 23,
    "start_time": "2022-12-28T14:32:58.974Z"
   },
   {
    "duration": 35,
    "start_time": "2022-12-28T14:32:59.000Z"
   },
   {
    "duration": 14,
    "start_time": "2022-12-28T14:32:59.037Z"
   },
   {
    "duration": 13,
    "start_time": "2022-12-28T14:32:59.053Z"
   },
   {
    "duration": 18,
    "start_time": "2022-12-28T14:32:59.068Z"
   },
   {
    "duration": 16,
    "start_time": "2022-12-28T14:32:59.088Z"
   },
   {
    "duration": 23,
    "start_time": "2022-12-28T14:32:59.136Z"
   },
   {
    "duration": 26,
    "start_time": "2022-12-28T14:32:59.161Z"
   },
   {
    "duration": 451,
    "start_time": "2022-12-28T14:32:59.189Z"
   },
   {
    "duration": 3,
    "start_time": "2022-12-28T14:32:59.642Z"
   },
   {
    "duration": 16,
    "start_time": "2022-12-28T14:32:59.647Z"
   },
   {
    "duration": 189,
    "start_time": "2022-12-28T14:32:59.665Z"
   },
   {
    "duration": 4,
    "start_time": "2022-12-28T14:32:59.856Z"
   },
   {
    "duration": 207,
    "start_time": "2022-12-28T14:32:59.862Z"
   },
   {
    "duration": 4,
    "start_time": "2022-12-28T14:33:00.071Z"
   },
   {
    "duration": 50,
    "start_time": "2022-12-28T14:33:00.077Z"
   },
   {
    "duration": 54,
    "start_time": "2022-12-28T14:33:00.129Z"
   },
   {
    "duration": 86,
    "start_time": "2022-12-28T16:20:28.060Z"
   },
   {
    "duration": 1234,
    "start_time": "2022-12-28T16:20:39.714Z"
   },
   {
    "duration": 52,
    "start_time": "2022-12-28T16:20:40.950Z"
   },
   {
    "duration": 23,
    "start_time": "2022-12-28T16:20:41.004Z"
   },
   {
    "duration": 19,
    "start_time": "2022-12-28T16:20:41.029Z"
   },
   {
    "duration": 4,
    "start_time": "2022-12-28T16:20:41.050Z"
   },
   {
    "duration": 7,
    "start_time": "2022-12-28T16:20:41.056Z"
   },
   {
    "duration": 9,
    "start_time": "2022-12-28T16:20:41.064Z"
   },
   {
    "duration": 27,
    "start_time": "2022-12-28T16:20:41.075Z"
   },
   {
    "duration": 11,
    "start_time": "2022-12-28T16:20:41.104Z"
   },
   {
    "duration": 6,
    "start_time": "2022-12-28T16:20:41.134Z"
   },
   {
    "duration": 33,
    "start_time": "2022-12-28T16:20:41.142Z"
   },
   {
    "duration": 5,
    "start_time": "2022-12-28T16:20:41.177Z"
   },
   {
    "duration": 9,
    "start_time": "2022-12-28T16:20:41.184Z"
   },
   {
    "duration": 43,
    "start_time": "2022-12-28T16:20:41.195Z"
   },
   {
    "duration": 3,
    "start_time": "2022-12-28T16:20:41.240Z"
   },
   {
    "duration": 12,
    "start_time": "2022-12-28T16:20:41.245Z"
   },
   {
    "duration": 11,
    "start_time": "2022-12-28T16:20:41.259Z"
   },
   {
    "duration": 4,
    "start_time": "2022-12-28T16:20:41.272Z"
   },
   {
    "duration": 8,
    "start_time": "2022-12-28T16:20:41.278Z"
   },
   {
    "duration": 6,
    "start_time": "2022-12-28T16:20:41.288Z"
   },
   {
    "duration": 10,
    "start_time": "2022-12-28T16:20:41.296Z"
   },
   {
    "duration": 39,
    "start_time": "2022-12-28T16:20:41.308Z"
   },
   {
    "duration": 65,
    "start_time": "2022-12-28T16:20:41.349Z"
   },
   {
    "duration": 22,
    "start_time": "2022-12-28T16:20:41.416Z"
   },
   {
    "duration": 8,
    "start_time": "2022-12-28T16:20:41.439Z"
   },
   {
    "duration": 22,
    "start_time": "2022-12-28T16:20:41.449Z"
   },
   {
    "duration": 7,
    "start_time": "2022-12-28T16:20:41.473Z"
   },
   {
    "duration": 10,
    "start_time": "2022-12-28T16:20:41.484Z"
   },
   {
    "duration": 70,
    "start_time": "2022-12-28T16:20:41.495Z"
   },
   {
    "duration": 4,
    "start_time": "2022-12-28T16:20:41.566Z"
   },
   {
    "duration": 8,
    "start_time": "2022-12-28T16:20:41.572Z"
   },
   {
    "duration": 18,
    "start_time": "2022-12-28T16:20:41.581Z"
   },
   {
    "duration": 6,
    "start_time": "2022-12-28T16:20:41.600Z"
   },
   {
    "duration": 29,
    "start_time": "2022-12-28T16:20:41.608Z"
   },
   {
    "duration": 9,
    "start_time": "2022-12-28T16:20:41.639Z"
   },
   {
    "duration": 7,
    "start_time": "2022-12-28T16:20:41.650Z"
   },
   {
    "duration": 7,
    "start_time": "2022-12-28T16:20:41.659Z"
   },
   {
    "duration": 10,
    "start_time": "2022-12-28T16:20:41.668Z"
   },
   {
    "duration": 12,
    "start_time": "2022-12-28T16:20:41.679Z"
   },
   {
    "duration": 58,
    "start_time": "2022-12-28T16:20:41.693Z"
   },
   {
    "duration": 3,
    "start_time": "2022-12-28T16:20:41.753Z"
   },
   {
    "duration": 95,
    "start_time": "2022-12-28T16:20:41.758Z"
   },
   {
    "duration": 175,
    "start_time": "2022-12-28T16:20:41.855Z"
   },
   {
    "duration": 9,
    "start_time": "2022-12-28T16:20:42.034Z"
   },
   {
    "duration": 26,
    "start_time": "2022-12-28T16:20:42.044Z"
   },
   {
    "duration": 10,
    "start_time": "2022-12-28T16:20:42.071Z"
   },
   {
    "duration": 344,
    "start_time": "2022-12-28T16:20:42.083Z"
   },
   {
    "duration": 9,
    "start_time": "2022-12-28T16:20:42.436Z"
   },
   {
    "duration": 21,
    "start_time": "2022-12-28T16:20:42.447Z"
   },
   {
    "duration": 29,
    "start_time": "2022-12-28T16:20:42.470Z"
   },
   {
    "duration": 980,
    "start_time": "2022-12-28T16:20:42.501Z"
   },
   {
    "duration": 7,
    "start_time": "2022-12-28T16:20:43.483Z"
   },
   {
    "duration": 203,
    "start_time": "2022-12-28T16:20:43.492Z"
   },
   {
    "duration": 14,
    "start_time": "2022-12-28T16:20:43.696Z"
   },
   {
    "duration": 726,
    "start_time": "2022-12-28T16:20:43.712Z"
   },
   {
    "duration": 187,
    "start_time": "2022-12-28T16:20:44.440Z"
   },
   {
    "duration": 155,
    "start_time": "2022-12-28T16:20:44.634Z"
   },
   {
    "duration": 176,
    "start_time": "2022-12-28T16:20:44.791Z"
   },
   {
    "duration": 7,
    "start_time": "2022-12-28T16:20:44.969Z"
   },
   {
    "duration": 9,
    "start_time": "2022-12-28T16:20:44.977Z"
   },
   {
    "duration": 6,
    "start_time": "2022-12-28T16:20:44.988Z"
   },
   {
    "duration": 24,
    "start_time": "2022-12-28T16:20:44.996Z"
   },
   {
    "duration": 198,
    "start_time": "2022-12-28T16:20:45.021Z"
   },
   {
    "duration": 206,
    "start_time": "2022-12-28T16:20:45.221Z"
   },
   {
    "duration": 18,
    "start_time": "2022-12-28T16:20:45.428Z"
   },
   {
    "duration": 15,
    "start_time": "2022-12-28T16:20:45.450Z"
   },
   {
    "duration": 14,
    "start_time": "2022-12-28T16:20:45.466Z"
   },
   {
    "duration": 14,
    "start_time": "2022-12-28T16:20:45.481Z"
   },
   {
    "duration": 47,
    "start_time": "2022-12-28T16:20:45.496Z"
   },
   {
    "duration": 13,
    "start_time": "2022-12-28T16:20:45.545Z"
   },
   {
    "duration": 13,
    "start_time": "2022-12-28T16:20:45.560Z"
   },
   {
    "duration": 17,
    "start_time": "2022-12-28T16:20:45.575Z"
   },
   {
    "duration": 44,
    "start_time": "2022-12-28T16:20:45.593Z"
   },
   {
    "duration": 464,
    "start_time": "2022-12-28T16:20:45.639Z"
   },
   {
    "duration": 5,
    "start_time": "2022-12-28T16:20:46.105Z"
   },
   {
    "duration": 22,
    "start_time": "2022-12-28T16:20:46.113Z"
   },
   {
    "duration": 214,
    "start_time": "2022-12-28T16:20:46.137Z"
   },
   {
    "duration": 4,
    "start_time": "2022-12-28T16:20:46.353Z"
   },
   {
    "duration": 193,
    "start_time": "2022-12-28T16:20:46.359Z"
   },
   {
    "duration": 4,
    "start_time": "2022-12-28T16:20:46.554Z"
   },
   {
    "duration": 19,
    "start_time": "2022-12-28T16:20:46.559Z"
   },
   {
    "duration": 11,
    "start_time": "2022-12-28T16:20:46.584Z"
   },
   {
    "duration": 59,
    "start_time": "2022-12-29T08:48:38.837Z"
   },
   {
    "duration": 1548,
    "start_time": "2022-12-29T08:48:45.864Z"
   },
   {
    "duration": 114,
    "start_time": "2022-12-29T08:48:47.414Z"
   },
   {
    "duration": 20,
    "start_time": "2022-12-29T08:48:47.530Z"
   },
   {
    "duration": 15,
    "start_time": "2022-12-29T08:48:47.552Z"
   },
   {
    "duration": 10,
    "start_time": "2022-12-29T08:48:47.569Z"
   },
   {
    "duration": 39,
    "start_time": "2022-12-29T08:48:47.580Z"
   },
   {
    "duration": 13,
    "start_time": "2022-12-29T08:48:47.620Z"
   },
   {
    "duration": 7,
    "start_time": "2022-12-29T08:48:47.635Z"
   },
   {
    "duration": 16,
    "start_time": "2022-12-29T08:48:47.644Z"
   },
   {
    "duration": 8,
    "start_time": "2022-12-29T08:48:47.664Z"
   },
   {
    "duration": 37,
    "start_time": "2022-12-29T08:48:47.674Z"
   },
   {
    "duration": 29,
    "start_time": "2022-12-29T08:48:47.713Z"
   },
   {
    "duration": 4,
    "start_time": "2022-12-29T08:48:47.744Z"
   },
   {
    "duration": 9,
    "start_time": "2022-12-29T08:48:47.750Z"
   },
   {
    "duration": 41,
    "start_time": "2022-12-29T08:48:47.760Z"
   },
   {
    "duration": 23,
    "start_time": "2022-12-29T08:48:47.803Z"
   },
   {
    "duration": 7,
    "start_time": "2022-12-29T08:48:47.828Z"
   },
   {
    "duration": 16,
    "start_time": "2022-12-29T08:48:47.836Z"
   },
   {
    "duration": 7,
    "start_time": "2022-12-29T08:48:47.854Z"
   },
   {
    "duration": 10,
    "start_time": "2022-12-29T08:48:47.863Z"
   },
   {
    "duration": 41,
    "start_time": "2022-12-29T08:48:47.875Z"
   },
   {
    "duration": 12,
    "start_time": "2022-12-29T08:48:47.918Z"
   },
   {
    "duration": 23,
    "start_time": "2022-12-29T08:48:47.931Z"
   },
   {
    "duration": 55,
    "start_time": "2022-12-29T08:48:47.956Z"
   },
   {
    "duration": 6,
    "start_time": "2022-12-29T08:48:48.012Z"
   },
   {
    "duration": 8,
    "start_time": "2022-12-29T08:48:48.020Z"
   },
   {
    "duration": 29,
    "start_time": "2022-12-29T08:48:48.030Z"
   },
   {
    "duration": 15,
    "start_time": "2022-12-29T08:48:48.086Z"
   },
   {
    "duration": 28,
    "start_time": "2022-12-29T08:48:48.104Z"
   },
   {
    "duration": 41,
    "start_time": "2022-12-29T08:48:48.133Z"
   },
   {
    "duration": 7,
    "start_time": "2022-12-29T08:48:48.176Z"
   },
   {
    "duration": 38,
    "start_time": "2022-12-29T08:48:48.189Z"
   },
   {
    "duration": 52,
    "start_time": "2022-12-29T08:48:48.229Z"
   },
   {
    "duration": 12,
    "start_time": "2022-12-29T08:48:48.283Z"
   },
   {
    "duration": 43,
    "start_time": "2022-12-29T08:48:48.298Z"
   },
   {
    "duration": 20,
    "start_time": "2022-12-29T08:48:48.343Z"
   },
   {
    "duration": 21,
    "start_time": "2022-12-29T08:48:48.365Z"
   },
   {
    "duration": 27,
    "start_time": "2022-12-29T08:48:48.396Z"
   },
   {
    "duration": 18,
    "start_time": "2022-12-29T08:48:48.425Z"
   },
   {
    "duration": 25,
    "start_time": "2022-12-29T08:48:48.446Z"
   },
   {
    "duration": 62,
    "start_time": "2022-12-29T08:48:48.473Z"
   },
   {
    "duration": 4,
    "start_time": "2022-12-29T08:48:48.537Z"
   },
   {
    "duration": 113,
    "start_time": "2022-12-29T08:48:48.543Z"
   },
   {
    "duration": 200,
    "start_time": "2022-12-29T08:48:48.659Z"
   },
   {
    "duration": 19,
    "start_time": "2022-12-29T08:48:48.860Z"
   },
   {
    "duration": 33,
    "start_time": "2022-12-29T08:48:48.884Z"
   },
   {
    "duration": 11,
    "start_time": "2022-12-29T08:48:48.919Z"
   },
   {
    "duration": 399,
    "start_time": "2022-12-29T08:48:48.932Z"
   },
   {
    "duration": 9,
    "start_time": "2022-12-29T08:48:49.333Z"
   },
   {
    "duration": 19,
    "start_time": "2022-12-29T08:48:49.344Z"
   },
   {
    "duration": 28,
    "start_time": "2022-12-29T08:48:49.382Z"
   },
   {
    "duration": 1049,
    "start_time": "2022-12-29T08:48:49.412Z"
   },
   {
    "duration": 16,
    "start_time": "2022-12-29T08:48:50.463Z"
   },
   {
    "duration": 227,
    "start_time": "2022-12-29T08:48:50.491Z"
   },
   {
    "duration": 14,
    "start_time": "2022-12-29T08:48:50.720Z"
   },
   {
    "duration": 652,
    "start_time": "2022-12-29T08:48:50.736Z"
   },
   {
    "duration": 227,
    "start_time": "2022-12-29T08:48:51.389Z"
   },
   {
    "duration": 184,
    "start_time": "2022-12-29T08:48:51.617Z"
   },
   {
    "duration": 169,
    "start_time": "2022-12-29T08:48:51.803Z"
   },
   {
    "duration": 20,
    "start_time": "2022-12-29T08:48:51.974Z"
   },
   {
    "duration": 28,
    "start_time": "2022-12-29T08:48:51.996Z"
   },
   {
    "duration": 7,
    "start_time": "2022-12-29T08:48:52.026Z"
   },
   {
    "duration": 9,
    "start_time": "2022-12-29T08:48:52.035Z"
   },
   {
    "duration": 220,
    "start_time": "2022-12-29T08:48:52.046Z"
   },
   {
    "duration": 235,
    "start_time": "2022-12-29T08:48:52.268Z"
   },
   {
    "duration": 15,
    "start_time": "2022-12-29T08:48:52.508Z"
   },
   {
    "duration": 14,
    "start_time": "2022-12-29T08:48:52.525Z"
   },
   {
    "duration": 17,
    "start_time": "2022-12-29T08:48:52.541Z"
   },
   {
    "duration": 44,
    "start_time": "2022-12-29T08:48:52.559Z"
   },
   {
    "duration": 25,
    "start_time": "2022-12-29T08:48:52.604Z"
   },
   {
    "duration": 14,
    "start_time": "2022-12-29T08:48:52.631Z"
   },
   {
    "duration": 15,
    "start_time": "2022-12-29T08:48:52.646Z"
   },
   {
    "duration": 36,
    "start_time": "2022-12-29T08:48:52.662Z"
   },
   {
    "duration": 28,
    "start_time": "2022-12-29T08:48:52.700Z"
   },
   {
    "duration": 474,
    "start_time": "2022-12-29T08:48:52.730Z"
   },
   {
    "duration": 5,
    "start_time": "2022-12-29T08:48:53.206Z"
   },
   {
    "duration": 10,
    "start_time": "2022-12-29T08:48:53.213Z"
   },
   {
    "duration": 203,
    "start_time": "2022-12-29T08:48:53.225Z"
   },
   {
    "duration": 4,
    "start_time": "2022-12-29T08:48:53.430Z"
   },
   {
    "duration": 207,
    "start_time": "2022-12-29T08:48:53.437Z"
   },
   {
    "duration": 4,
    "start_time": "2022-12-29T08:48:53.646Z"
   },
   {
    "duration": 38,
    "start_time": "2022-12-29T08:48:53.655Z"
   },
   {
    "duration": 23,
    "start_time": "2022-12-29T08:48:53.700Z"
   },
   {
    "duration": 37,
    "start_time": "2022-12-29T08:53:07.672Z"
   },
   {
    "duration": 43,
    "start_time": "2022-12-29T08:53:22.760Z"
   },
   {
    "duration": 9,
    "start_time": "2022-12-29T08:55:14.856Z"
   },
   {
    "duration": 1152,
    "start_time": "2022-12-29T08:55:45.241Z"
   },
   {
    "duration": 55,
    "start_time": "2022-12-29T08:55:46.397Z"
   },
   {
    "duration": 18,
    "start_time": "2022-12-29T08:55:46.454Z"
   },
   {
    "duration": 45,
    "start_time": "2022-12-29T08:55:46.475Z"
   },
   {
    "duration": 4,
    "start_time": "2022-12-29T08:55:46.522Z"
   },
   {
    "duration": 6,
    "start_time": "2022-12-29T08:55:46.528Z"
   },
   {
    "duration": 10,
    "start_time": "2022-12-29T08:55:46.536Z"
   },
   {
    "duration": 7,
    "start_time": "2022-12-29T08:55:46.548Z"
   },
   {
    "duration": 41,
    "start_time": "2022-12-29T08:55:46.557Z"
   },
   {
    "duration": 6,
    "start_time": "2022-12-29T08:55:46.601Z"
   },
   {
    "duration": 22,
    "start_time": "2022-12-29T08:55:46.608Z"
   },
   {
    "duration": 10,
    "start_time": "2022-12-29T08:55:46.632Z"
   },
   {
    "duration": 9,
    "start_time": "2022-12-29T08:55:46.643Z"
   },
   {
    "duration": 36,
    "start_time": "2022-12-29T08:55:46.653Z"
   },
   {
    "duration": 9,
    "start_time": "2022-12-29T08:55:46.691Z"
   },
   {
    "duration": 13,
    "start_time": "2022-12-29T08:55:46.702Z"
   },
   {
    "duration": 19,
    "start_time": "2022-12-29T08:55:46.716Z"
   },
   {
    "duration": 3,
    "start_time": "2022-12-29T08:55:46.736Z"
   },
   {
    "duration": 5,
    "start_time": "2022-12-29T08:55:46.740Z"
   },
   {
    "duration": 12,
    "start_time": "2022-12-29T08:55:46.747Z"
   },
   {
    "duration": 7,
    "start_time": "2022-12-29T08:55:46.760Z"
   },
   {
    "duration": 21,
    "start_time": "2022-12-29T08:55:46.768Z"
   },
   {
    "duration": 24,
    "start_time": "2022-12-29T08:55:46.790Z"
   },
   {
    "duration": 8,
    "start_time": "2022-12-29T08:55:46.815Z"
   },
   {
    "duration": 20,
    "start_time": "2022-12-29T08:55:46.824Z"
   },
   {
    "duration": 49,
    "start_time": "2022-12-29T08:55:46.846Z"
   },
   {
    "duration": 5,
    "start_time": "2022-12-29T08:55:46.896Z"
   },
   {
    "duration": 5,
    "start_time": "2022-12-29T08:55:46.908Z"
   },
   {
    "duration": 21,
    "start_time": "2022-12-29T08:55:46.914Z"
   },
   {
    "duration": 8,
    "start_time": "2022-12-29T08:55:46.936Z"
   },
   {
    "duration": 12,
    "start_time": "2022-12-29T08:55:46.945Z"
   },
   {
    "duration": 55,
    "start_time": "2022-12-29T08:55:46.984Z"
   },
   {
    "duration": 6,
    "start_time": "2022-12-29T08:55:47.040Z"
   },
   {
    "duration": 9,
    "start_time": "2022-12-29T08:55:47.048Z"
   },
   {
    "duration": 44,
    "start_time": "2022-12-29T08:55:47.059Z"
   },
   {
    "duration": 10,
    "start_time": "2022-12-29T08:55:47.113Z"
   },
   {
    "duration": 7,
    "start_time": "2022-12-29T08:55:47.125Z"
   },
   {
    "duration": 8,
    "start_time": "2022-12-29T08:55:47.134Z"
   },
   {
    "duration": 7,
    "start_time": "2022-12-29T08:55:47.144Z"
   },
   {
    "duration": 6,
    "start_time": "2022-12-29T08:55:47.153Z"
   },
   {
    "duration": 17,
    "start_time": "2022-12-29T08:55:47.161Z"
   },
   {
    "duration": 83,
    "start_time": "2022-12-29T08:55:47.180Z"
   },
   {
    "duration": 30,
    "start_time": "2022-12-29T08:55:47.264Z"
   },
   {
    "duration": 3,
    "start_time": "2022-12-29T08:55:47.295Z"
   },
   {
    "duration": 107,
    "start_time": "2022-12-29T08:55:47.300Z"
   },
   {
    "duration": 193,
    "start_time": "2022-12-29T08:55:47.410Z"
   },
   {
    "duration": 10,
    "start_time": "2022-12-29T08:55:47.608Z"
   },
   {
    "duration": 24,
    "start_time": "2022-12-29T08:55:47.620Z"
   },
   {
    "duration": 9,
    "start_time": "2022-12-29T08:55:47.646Z"
   },
   {
    "duration": 378,
    "start_time": "2022-12-29T08:55:47.657Z"
   },
   {
    "duration": 8,
    "start_time": "2022-12-29T08:55:48.036Z"
   },
   {
    "duration": 35,
    "start_time": "2022-12-29T08:55:48.046Z"
   },
   {
    "duration": 28,
    "start_time": "2022-12-29T08:55:48.084Z"
   },
   {
    "duration": 1105,
    "start_time": "2022-12-29T08:55:48.114Z"
   },
   {
    "duration": 8,
    "start_time": "2022-12-29T08:55:49.221Z"
   },
   {
    "duration": 218,
    "start_time": "2022-12-29T08:55:49.231Z"
   },
   {
    "duration": 14,
    "start_time": "2022-12-29T08:55:49.452Z"
   },
   {
    "duration": 661,
    "start_time": "2022-12-29T08:55:49.480Z"
   },
   {
    "duration": 238,
    "start_time": "2022-12-29T08:55:50.143Z"
   },
   {
    "duration": 178,
    "start_time": "2022-12-29T08:55:50.383Z"
   },
   {
    "duration": 186,
    "start_time": "2022-12-29T08:55:50.564Z"
   },
   {
    "duration": 10,
    "start_time": "2022-12-29T08:55:50.752Z"
   },
   {
    "duration": 53,
    "start_time": "2022-12-29T08:55:50.764Z"
   },
   {
    "duration": 6,
    "start_time": "2022-12-29T08:55:50.820Z"
   },
   {
    "duration": 11,
    "start_time": "2022-12-29T08:55:50.828Z"
   },
   {
    "duration": 270,
    "start_time": "2022-12-29T08:55:50.841Z"
   },
   {
    "duration": 213,
    "start_time": "2022-12-29T08:55:51.114Z"
   },
   {
    "duration": 17,
    "start_time": "2022-12-29T08:55:51.329Z"
   },
   {
    "duration": 33,
    "start_time": "2022-12-29T08:55:51.348Z"
   },
   {
    "duration": 35,
    "start_time": "2022-12-29T08:55:51.382Z"
   },
   {
    "duration": 25,
    "start_time": "2022-12-29T08:55:51.420Z"
   },
   {
    "duration": 14,
    "start_time": "2022-12-29T08:55:51.447Z"
   },
   {
    "duration": 28,
    "start_time": "2022-12-29T08:55:51.463Z"
   },
   {
    "duration": 62,
    "start_time": "2022-12-29T08:55:51.492Z"
   },
   {
    "duration": 14,
    "start_time": "2022-12-29T08:55:51.556Z"
   },
   {
    "duration": 18,
    "start_time": "2022-12-29T08:55:51.572Z"
   },
   {
    "duration": 483,
    "start_time": "2022-12-29T08:55:51.593Z"
   },
   {
    "duration": 7,
    "start_time": "2022-12-29T08:55:52.084Z"
   },
   {
    "duration": 41,
    "start_time": "2022-12-29T08:55:52.093Z"
   },
   {
    "duration": 199,
    "start_time": "2022-12-29T08:55:52.136Z"
   },
   {
    "duration": 5,
    "start_time": "2022-12-29T08:55:52.338Z"
   },
   {
    "duration": 215,
    "start_time": "2022-12-29T08:55:52.347Z"
   },
   {
    "duration": 4,
    "start_time": "2022-12-29T08:55:52.563Z"
   },
   {
    "duration": 14,
    "start_time": "2022-12-29T08:55:52.577Z"
   },
   {
    "duration": 34,
    "start_time": "2022-12-29T08:55:52.600Z"
   },
   {
    "duration": 3,
    "start_time": "2022-12-29T08:56:34.240Z"
   },
   {
    "duration": 1305,
    "start_time": "2022-12-29T09:05:58.876Z"
   },
   {
    "duration": 71,
    "start_time": "2022-12-29T09:06:00.186Z"
   },
   {
    "duration": 23,
    "start_time": "2022-12-29T09:06:00.259Z"
   },
   {
    "duration": 60,
    "start_time": "2022-12-29T09:06:00.292Z"
   },
   {
    "duration": 13,
    "start_time": "2022-12-29T09:06:00.354Z"
   },
   {
    "duration": 63,
    "start_time": "2022-12-29T09:06:00.370Z"
   },
   {
    "duration": 35,
    "start_time": "2022-12-29T09:06:00.435Z"
   },
   {
    "duration": 50,
    "start_time": "2022-12-29T09:06:00.472Z"
   },
   {
    "duration": 44,
    "start_time": "2022-12-29T09:06:00.524Z"
   },
   {
    "duration": 66,
    "start_time": "2022-12-29T09:06:00.570Z"
   },
   {
    "duration": 39,
    "start_time": "2022-12-29T09:06:00.637Z"
   },
   {
    "duration": 73,
    "start_time": "2022-12-29T09:06:00.677Z"
   },
   {
    "duration": 63,
    "start_time": "2022-12-29T09:06:00.753Z"
   },
   {
    "duration": 25,
    "start_time": "2022-12-29T09:06:00.818Z"
   },
   {
    "duration": 20,
    "start_time": "2022-12-29T09:06:00.846Z"
   },
   {
    "duration": 70,
    "start_time": "2022-12-29T09:06:00.868Z"
   },
   {
    "duration": 12,
    "start_time": "2022-12-29T09:06:00.940Z"
   },
   {
    "duration": 15,
    "start_time": "2022-12-29T09:06:00.954Z"
   },
   {
    "duration": 46,
    "start_time": "2022-12-29T09:06:00.971Z"
   },
   {
    "duration": 19,
    "start_time": "2022-12-29T09:06:01.019Z"
   },
   {
    "duration": 47,
    "start_time": "2022-12-29T09:06:01.040Z"
   },
   {
    "duration": 65,
    "start_time": "2022-12-29T09:06:01.091Z"
   },
   {
    "duration": 57,
    "start_time": "2022-12-29T09:06:01.158Z"
   },
   {
    "duration": 7,
    "start_time": "2022-12-29T09:06:01.217Z"
   },
   {
    "duration": 16,
    "start_time": "2022-12-29T09:06:01.226Z"
   },
   {
    "duration": 100,
    "start_time": "2022-12-29T09:06:01.243Z"
   },
   {
    "duration": 60,
    "start_time": "2022-12-29T09:06:01.345Z"
   },
   {
    "duration": 30,
    "start_time": "2022-12-29T09:06:01.411Z"
   },
   {
    "duration": 82,
    "start_time": "2022-12-29T09:06:01.443Z"
   },
   {
    "duration": 6,
    "start_time": "2022-12-29T09:06:01.527Z"
   },
   {
    "duration": 38,
    "start_time": "2022-12-29T09:06:01.534Z"
   },
   {
    "duration": 75,
    "start_time": "2022-12-29T09:06:01.574Z"
   },
   {
    "duration": 22,
    "start_time": "2022-12-29T09:06:01.651Z"
   },
   {
    "duration": 47,
    "start_time": "2022-12-29T09:06:01.675Z"
   },
   {
    "duration": 22,
    "start_time": "2022-12-29T09:06:01.725Z"
   },
   {
    "duration": 47,
    "start_time": "2022-12-29T09:06:01.749Z"
   },
   {
    "duration": 42,
    "start_time": "2022-12-29T09:06:01.798Z"
   },
   {
    "duration": 19,
    "start_time": "2022-12-29T09:06:01.842Z"
   },
   {
    "duration": 64,
    "start_time": "2022-12-29T09:06:01.863Z"
   },
   {
    "duration": 31,
    "start_time": "2022-12-29T09:06:01.929Z"
   },
   {
    "duration": 3,
    "start_time": "2022-12-29T09:06:01.962Z"
   },
   {
    "duration": 119,
    "start_time": "2022-12-29T09:06:01.967Z"
   },
   {
    "duration": 210,
    "start_time": "2022-12-29T09:06:02.094Z"
   },
   {
    "duration": 8,
    "start_time": "2022-12-29T09:06:02.307Z"
   },
   {
    "duration": 29,
    "start_time": "2022-12-29T09:06:02.317Z"
   },
   {
    "duration": 10,
    "start_time": "2022-12-29T09:06:02.348Z"
   },
   {
    "duration": 342,
    "start_time": "2022-12-29T09:06:02.360Z"
   },
   {
    "duration": 9,
    "start_time": "2022-12-29T09:06:02.704Z"
   },
   {
    "duration": 23,
    "start_time": "2022-12-29T09:06:02.715Z"
   },
   {
    "duration": 21,
    "start_time": "2022-12-29T09:06:02.741Z"
   },
   {
    "duration": 1079,
    "start_time": "2022-12-29T09:06:02.765Z"
   },
   {
    "duration": 10,
    "start_time": "2022-12-29T09:06:03.846Z"
   },
   {
    "duration": 209,
    "start_time": "2022-12-29T09:06:03.858Z"
   },
   {
    "duration": 28,
    "start_time": "2022-12-29T09:06:04.070Z"
   },
   {
    "duration": 651,
    "start_time": "2022-12-29T09:06:04.100Z"
   },
   {
    "duration": 206,
    "start_time": "2022-12-29T09:06:04.753Z"
   },
   {
    "duration": 187,
    "start_time": "2022-12-29T09:06:04.960Z"
   },
   {
    "duration": 179,
    "start_time": "2022-12-29T09:06:05.149Z"
   },
   {
    "duration": 7,
    "start_time": "2022-12-29T09:06:05.330Z"
   },
   {
    "duration": 10,
    "start_time": "2022-12-29T09:06:05.339Z"
   },
   {
    "duration": 12,
    "start_time": "2022-12-29T09:06:05.351Z"
   },
   {
    "duration": 27,
    "start_time": "2022-12-29T09:06:05.365Z"
   },
   {
    "duration": 231,
    "start_time": "2022-12-29T09:06:05.401Z"
   },
   {
    "duration": 239,
    "start_time": "2022-12-29T09:06:05.634Z"
   },
   {
    "duration": 25,
    "start_time": "2022-12-29T09:06:05.875Z"
   },
   {
    "duration": 119,
    "start_time": "2022-12-29T09:06:05.902Z"
   },
   {
    "duration": 20,
    "start_time": "2022-12-29T09:06:06.023Z"
   },
   {
    "duration": 15,
    "start_time": "2022-12-29T09:06:06.045Z"
   },
   {
    "duration": 40,
    "start_time": "2022-12-29T09:06:06.062Z"
   },
   {
    "duration": 27,
    "start_time": "2022-12-29T09:06:06.107Z"
   },
   {
    "duration": 22,
    "start_time": "2022-12-29T09:06:06.136Z"
   },
   {
    "duration": 43,
    "start_time": "2022-12-29T09:06:06.160Z"
   },
   {
    "duration": 16,
    "start_time": "2022-12-29T09:06:06.209Z"
   },
   {
    "duration": 492,
    "start_time": "2022-12-29T09:06:06.226Z"
   },
   {
    "duration": 3,
    "start_time": "2022-12-29T09:06:06.720Z"
   },
   {
    "duration": 16,
    "start_time": "2022-12-29T09:06:06.725Z"
   },
   {
    "duration": 217,
    "start_time": "2022-12-29T09:06:06.743Z"
   },
   {
    "duration": 5,
    "start_time": "2022-12-29T09:06:06.962Z"
   },
   {
    "duration": 211,
    "start_time": "2022-12-29T09:06:06.986Z"
   },
   {
    "duration": 5,
    "start_time": "2022-12-29T09:06:07.203Z"
   },
   {
    "duration": 15,
    "start_time": "2022-12-29T09:06:07.210Z"
   },
   {
    "duration": 11,
    "start_time": "2022-12-29T09:06:07.231Z"
   },
   {
    "duration": 7,
    "start_time": "2022-12-29T09:19:06.698Z"
   },
   {
    "duration": 7,
    "start_time": "2022-12-29T09:26:25.469Z"
   },
   {
    "duration": 1276,
    "start_time": "2022-12-29T09:26:40.853Z"
   },
   {
    "duration": 66,
    "start_time": "2022-12-29T09:26:42.131Z"
   },
   {
    "duration": 24,
    "start_time": "2022-12-29T09:26:42.200Z"
   },
   {
    "duration": 16,
    "start_time": "2022-12-29T09:26:42.227Z"
   },
   {
    "duration": 4,
    "start_time": "2022-12-29T09:26:42.245Z"
   },
   {
    "duration": 10,
    "start_time": "2022-12-29T09:26:42.251Z"
   },
   {
    "duration": 19,
    "start_time": "2022-12-29T09:26:42.262Z"
   },
   {
    "duration": 24,
    "start_time": "2022-12-29T09:26:42.283Z"
   },
   {
    "duration": 17,
    "start_time": "2022-12-29T09:26:42.309Z"
   },
   {
    "duration": 5,
    "start_time": "2022-12-29T09:26:42.328Z"
   },
   {
    "duration": 18,
    "start_time": "2022-12-29T09:26:42.335Z"
   },
   {
    "duration": 35,
    "start_time": "2022-12-29T09:26:42.354Z"
   },
   {
    "duration": 27,
    "start_time": "2022-12-29T09:26:42.393Z"
   },
   {
    "duration": 24,
    "start_time": "2022-12-29T09:26:42.422Z"
   },
   {
    "duration": 24,
    "start_time": "2022-12-29T09:26:42.447Z"
   },
   {
    "duration": 20,
    "start_time": "2022-12-29T09:26:42.473Z"
   },
   {
    "duration": 15,
    "start_time": "2022-12-29T09:26:42.505Z"
   },
   {
    "duration": 6,
    "start_time": "2022-12-29T09:26:42.522Z"
   },
   {
    "duration": 11,
    "start_time": "2022-12-29T09:26:42.530Z"
   },
   {
    "duration": 13,
    "start_time": "2022-12-29T09:26:42.543Z"
   },
   {
    "duration": 7,
    "start_time": "2022-12-29T09:26:42.558Z"
   },
   {
    "duration": 34,
    "start_time": "2022-12-29T09:26:42.567Z"
   },
   {
    "duration": 43,
    "start_time": "2022-12-29T09:26:42.607Z"
   },
   {
    "duration": 4,
    "start_time": "2022-12-29T09:26:42.652Z"
   },
   {
    "duration": 8,
    "start_time": "2022-12-29T09:26:42.658Z"
   },
   {
    "duration": 20,
    "start_time": "2022-12-29T09:26:42.668Z"
   },
   {
    "duration": 25,
    "start_time": "2022-12-29T09:26:42.690Z"
   },
   {
    "duration": 7,
    "start_time": "2022-12-29T09:26:42.719Z"
   },
   {
    "duration": 14,
    "start_time": "2022-12-29T09:26:42.727Z"
   },
   {
    "duration": 5,
    "start_time": "2022-12-29T09:26:42.743Z"
   },
   {
    "duration": 63,
    "start_time": "2022-12-29T09:26:42.749Z"
   },
   {
    "duration": 5,
    "start_time": "2022-12-29T09:26:42.813Z"
   },
   {
    "duration": 18,
    "start_time": "2022-12-29T09:26:42.820Z"
   },
   {
    "duration": 24,
    "start_time": "2022-12-29T09:26:42.841Z"
   },
   {
    "duration": 6,
    "start_time": "2022-12-29T09:26:42.867Z"
   },
   {
    "duration": 35,
    "start_time": "2022-12-29T09:26:42.875Z"
   },
   {
    "duration": 14,
    "start_time": "2022-12-29T09:26:42.912Z"
   },
   {
    "duration": 9,
    "start_time": "2022-12-29T09:26:42.928Z"
   },
   {
    "duration": 10,
    "start_time": "2022-12-29T09:26:42.938Z"
   },
   {
    "duration": 8,
    "start_time": "2022-12-29T09:26:42.950Z"
   },
   {
    "duration": 15,
    "start_time": "2022-12-29T09:26:42.959Z"
   },
   {
    "duration": 27,
    "start_time": "2022-12-29T09:26:42.975Z"
   },
   {
    "duration": 11,
    "start_time": "2022-12-29T09:26:43.004Z"
   },
   {
    "duration": 96,
    "start_time": "2022-12-29T09:26:43.017Z"
   },
   {
    "duration": 200,
    "start_time": "2022-12-29T09:26:43.114Z"
   },
   {
    "duration": 10,
    "start_time": "2022-12-29T09:26:43.316Z"
   },
   {
    "duration": 37,
    "start_time": "2022-12-29T09:26:43.328Z"
   },
   {
    "duration": 27,
    "start_time": "2022-12-29T09:26:43.382Z"
   },
   {
    "duration": 312,
    "start_time": "2022-12-29T09:26:43.411Z"
   },
   {
    "duration": 9,
    "start_time": "2022-12-29T09:26:43.725Z"
   },
   {
    "duration": 17,
    "start_time": "2022-12-29T09:26:43.736Z"
   },
   {
    "duration": 44,
    "start_time": "2022-12-29T09:26:43.755Z"
   },
   {
    "duration": 1007,
    "start_time": "2022-12-29T09:26:43.808Z"
   },
   {
    "duration": 6,
    "start_time": "2022-12-29T09:26:44.817Z"
   },
   {
    "duration": 208,
    "start_time": "2022-12-29T09:26:44.825Z"
   },
   {
    "duration": 15,
    "start_time": "2022-12-29T09:26:45.035Z"
   },
   {
    "duration": 675,
    "start_time": "2022-12-29T09:26:45.052Z"
   },
   {
    "duration": 279,
    "start_time": "2022-12-29T09:26:45.728Z"
   },
   {
    "duration": 196,
    "start_time": "2022-12-29T09:26:46.012Z"
   },
   {
    "duration": 163,
    "start_time": "2022-12-29T09:26:46.214Z"
   },
   {
    "duration": 11,
    "start_time": "2022-12-29T09:26:46.390Z"
   },
   {
    "duration": 52,
    "start_time": "2022-12-29T09:26:46.403Z"
   },
   {
    "duration": 48,
    "start_time": "2022-12-29T09:26:46.457Z"
   },
   {
    "duration": 29,
    "start_time": "2022-12-29T09:26:46.508Z"
   },
   {
    "duration": 268,
    "start_time": "2022-12-29T09:26:46.539Z"
   },
   {
    "duration": 244,
    "start_time": "2022-12-29T09:26:46.809Z"
   },
   {
    "duration": 15,
    "start_time": "2022-12-29T09:26:47.055Z"
   },
   {
    "duration": 35,
    "start_time": "2022-12-29T09:26:47.078Z"
   },
   {
    "duration": 24,
    "start_time": "2022-12-29T09:26:47.116Z"
   },
   {
    "duration": 18,
    "start_time": "2022-12-29T09:26:47.142Z"
   },
   {
    "duration": 35,
    "start_time": "2022-12-29T09:26:47.162Z"
   },
   {
    "duration": 26,
    "start_time": "2022-12-29T09:26:47.198Z"
   },
   {
    "duration": 16,
    "start_time": "2022-12-29T09:26:47.226Z"
   },
   {
    "duration": 19,
    "start_time": "2022-12-29T09:26:47.245Z"
   },
   {
    "duration": 57,
    "start_time": "2022-12-29T09:26:47.266Z"
   },
   {
    "duration": 512,
    "start_time": "2022-12-29T09:26:47.325Z"
   },
   {
    "duration": 3,
    "start_time": "2022-12-29T09:26:47.839Z"
   },
   {
    "duration": 18,
    "start_time": "2022-12-29T09:26:47.845Z"
   },
   {
    "duration": 234,
    "start_time": "2022-12-29T09:26:47.865Z"
   },
   {
    "duration": 4,
    "start_time": "2022-12-29T09:26:48.101Z"
   },
   {
    "duration": 213,
    "start_time": "2022-12-29T09:26:48.107Z"
   },
   {
    "duration": 5,
    "start_time": "2022-12-29T09:26:48.326Z"
   },
   {
    "duration": 25,
    "start_time": "2022-12-29T09:26:48.333Z"
   },
   {
    "duration": 30,
    "start_time": "2022-12-29T09:26:48.360Z"
   },
   {
    "duration": 21,
    "start_time": "2022-12-29T09:41:06.299Z"
   },
   {
    "duration": 22,
    "start_time": "2022-12-29T09:42:48.972Z"
   },
   {
    "duration": 6,
    "start_time": "2022-12-29T09:45:05.247Z"
   },
   {
    "duration": 63,
    "start_time": "2022-12-29T09:46:35.407Z"
   },
   {
    "duration": 5,
    "start_time": "2022-12-29T09:47:31.350Z"
   },
   {
    "duration": 6,
    "start_time": "2022-12-29T09:47:40.900Z"
   },
   {
    "duration": 1282,
    "start_time": "2022-12-29T09:49:37.571Z"
   },
   {
    "duration": 61,
    "start_time": "2022-12-29T09:49:38.854Z"
   },
   {
    "duration": 20,
    "start_time": "2022-12-29T09:49:38.917Z"
   },
   {
    "duration": 16,
    "start_time": "2022-12-29T09:49:38.940Z"
   },
   {
    "duration": 4,
    "start_time": "2022-12-29T09:49:38.958Z"
   },
   {
    "duration": 9,
    "start_time": "2022-12-29T09:49:38.977Z"
   },
   {
    "duration": 41,
    "start_time": "2022-12-29T09:49:38.988Z"
   },
   {
    "duration": 10,
    "start_time": "2022-12-29T09:49:39.031Z"
   },
   {
    "duration": 13,
    "start_time": "2022-12-29T09:49:39.042Z"
   },
   {
    "duration": 4,
    "start_time": "2022-12-29T09:49:39.058Z"
   },
   {
    "duration": 34,
    "start_time": "2022-12-29T09:49:39.064Z"
   },
   {
    "duration": 18,
    "start_time": "2022-12-29T09:49:39.101Z"
   },
   {
    "duration": 9,
    "start_time": "2022-12-29T09:49:39.121Z"
   },
   {
    "duration": 9,
    "start_time": "2022-12-29T09:49:39.131Z"
   },
   {
    "duration": 25,
    "start_time": "2022-12-29T09:49:39.142Z"
   },
   {
    "duration": 16,
    "start_time": "2022-12-29T09:49:39.169Z"
   },
   {
    "duration": 25,
    "start_time": "2022-12-29T09:49:39.187Z"
   },
   {
    "duration": 5,
    "start_time": "2022-12-29T09:49:39.214Z"
   },
   {
    "duration": 22,
    "start_time": "2022-12-29T09:49:39.221Z"
   },
   {
    "duration": 6,
    "start_time": "2022-12-29T09:49:39.245Z"
   },
   {
    "duration": 5,
    "start_time": "2022-12-29T09:49:39.253Z"
   },
   {
    "duration": 6,
    "start_time": "2022-12-29T09:49:39.260Z"
   },
   {
    "duration": 14,
    "start_time": "2022-12-29T09:49:39.268Z"
   },
   {
    "duration": 41,
    "start_time": "2022-12-29T09:49:39.283Z"
   },
   {
    "duration": 4,
    "start_time": "2022-12-29T09:49:39.326Z"
   },
   {
    "duration": 7,
    "start_time": "2022-12-29T09:49:39.332Z"
   },
   {
    "duration": 6,
    "start_time": "2022-12-29T09:49:39.341Z"
   },
   {
    "duration": 7,
    "start_time": "2022-12-29T09:49:39.351Z"
   },
   {
    "duration": 36,
    "start_time": "2022-12-29T09:49:39.359Z"
   },
   {
    "duration": 13,
    "start_time": "2022-12-29T09:49:39.397Z"
   },
   {
    "duration": 8,
    "start_time": "2022-12-29T09:49:39.412Z"
   },
   {
    "duration": 13,
    "start_time": "2022-12-29T09:49:39.422Z"
   },
   {
    "duration": 2,
    "start_time": "2022-12-29T09:49:39.436Z"
   },
   {
    "duration": 60,
    "start_time": "2022-12-29T09:49:39.440Z"
   },
   {
    "duration": 7,
    "start_time": "2022-12-29T09:49:39.501Z"
   },
   {
    "duration": 9,
    "start_time": "2022-12-29T09:49:39.509Z"
   },
   {
    "duration": 18,
    "start_time": "2022-12-29T09:49:39.520Z"
   },
   {
    "duration": 5,
    "start_time": "2022-12-29T09:49:39.540Z"
   },
   {
    "duration": 4,
    "start_time": "2022-12-29T09:49:39.547Z"
   },
   {
    "duration": 7,
    "start_time": "2022-12-29T09:49:39.553Z"
   },
   {
    "duration": 21,
    "start_time": "2022-12-29T09:49:39.561Z"
   },
   {
    "duration": 17,
    "start_time": "2022-12-29T09:49:39.588Z"
   },
   {
    "duration": 8,
    "start_time": "2022-12-29T09:49:39.606Z"
   },
   {
    "duration": 20,
    "start_time": "2022-12-29T09:49:39.616Z"
   },
   {
    "duration": 24,
    "start_time": "2022-12-29T09:49:39.638Z"
   },
   {
    "duration": 3,
    "start_time": "2022-12-29T09:49:39.663Z"
   },
   {
    "duration": 124,
    "start_time": "2022-12-29T09:49:39.677Z"
   },
   {
    "duration": 206,
    "start_time": "2022-12-29T09:49:39.804Z"
   },
   {
    "duration": 9,
    "start_time": "2022-12-29T09:49:40.015Z"
   },
   {
    "duration": 26,
    "start_time": "2022-12-29T09:49:40.027Z"
   },
   {
    "duration": 29,
    "start_time": "2022-12-29T09:49:40.055Z"
   },
   {
    "duration": 339,
    "start_time": "2022-12-29T09:49:40.094Z"
   },
   {
    "duration": 8,
    "start_time": "2022-12-29T09:49:40.435Z"
   },
   {
    "duration": 19,
    "start_time": "2022-12-29T09:49:40.445Z"
   },
   {
    "duration": 30,
    "start_time": "2022-12-29T09:49:40.465Z"
   },
   {
    "duration": 1065,
    "start_time": "2022-12-29T09:49:40.496Z"
   },
   {
    "duration": 7,
    "start_time": "2022-12-29T09:49:41.563Z"
   },
   {
    "duration": 218,
    "start_time": "2022-12-29T09:49:41.571Z"
   },
   {
    "duration": 17,
    "start_time": "2022-12-29T09:49:41.790Z"
   },
   {
    "duration": 619,
    "start_time": "2022-12-29T09:49:41.809Z"
   },
   {
    "duration": 194,
    "start_time": "2022-12-29T09:49:42.430Z"
   },
   {
    "duration": 166,
    "start_time": "2022-12-29T09:49:42.626Z"
   },
   {
    "duration": 316,
    "start_time": "2022-12-29T09:49:42.794Z"
   },
   {
    "duration": 9,
    "start_time": "2022-12-29T09:49:43.112Z"
   },
   {
    "duration": 10,
    "start_time": "2022-12-29T09:49:43.123Z"
   },
   {
    "duration": 5,
    "start_time": "2022-12-29T09:49:43.135Z"
   },
   {
    "duration": 12,
    "start_time": "2022-12-29T09:49:43.142Z"
   },
   {
    "duration": 219,
    "start_time": "2022-12-29T09:49:43.155Z"
   },
   {
    "duration": 215,
    "start_time": "2022-12-29T09:49:43.376Z"
   },
   {
    "duration": 21,
    "start_time": "2022-12-29T09:49:43.592Z"
   },
   {
    "duration": 15,
    "start_time": "2022-12-29T09:49:43.615Z"
   },
   {
    "duration": 13,
    "start_time": "2022-12-29T09:49:43.632Z"
   },
   {
    "duration": 17,
    "start_time": "2022-12-29T09:49:43.646Z"
   },
   {
    "duration": 37,
    "start_time": "2022-12-29T09:49:43.664Z"
   },
   {
    "duration": 22,
    "start_time": "2022-12-29T09:49:43.703Z"
   },
   {
    "duration": 13,
    "start_time": "2022-12-29T09:49:43.726Z"
   },
   {
    "duration": 13,
    "start_time": "2022-12-29T09:49:43.741Z"
   },
   {
    "duration": 43,
    "start_time": "2022-12-29T09:49:43.756Z"
   },
   {
    "duration": 442,
    "start_time": "2022-12-29T09:49:43.800Z"
   },
   {
    "duration": 3,
    "start_time": "2022-12-29T09:49:44.244Z"
   },
   {
    "duration": 18,
    "start_time": "2022-12-29T09:49:44.248Z"
   },
   {
    "duration": 181,
    "start_time": "2022-12-29T09:49:44.279Z"
   },
   {
    "duration": 4,
    "start_time": "2022-12-29T09:49:44.462Z"
   },
   {
    "duration": 215,
    "start_time": "2022-12-29T09:49:44.477Z"
   },
   {
    "duration": 6,
    "start_time": "2022-12-29T09:49:44.695Z"
   },
   {
    "duration": 49,
    "start_time": "2022-12-29T09:49:44.705Z"
   },
   {
    "duration": 57,
    "start_time": "2022-12-29T09:49:44.756Z"
   },
   {
    "duration": 6,
    "start_time": "2022-12-29T09:50:32.263Z"
   },
   {
    "duration": 6,
    "start_time": "2022-12-29T09:50:39.030Z"
   },
   {
    "duration": 7,
    "start_time": "2022-12-29T09:55:14.974Z"
   },
   {
    "duration": 8,
    "start_time": "2022-12-29T09:56:06.271Z"
   },
   {
    "duration": 1383,
    "start_time": "2022-12-29T09:58:17.677Z"
   },
   {
    "duration": 70,
    "start_time": "2022-12-29T09:58:19.062Z"
   },
   {
    "duration": 20,
    "start_time": "2022-12-29T09:58:19.134Z"
   },
   {
    "duration": 17,
    "start_time": "2022-12-29T09:58:19.156Z"
   },
   {
    "duration": 27,
    "start_time": "2022-12-29T09:58:19.175Z"
   },
   {
    "duration": 8,
    "start_time": "2022-12-29T09:58:19.208Z"
   },
   {
    "duration": 21,
    "start_time": "2022-12-29T09:58:19.218Z"
   },
   {
    "duration": 10,
    "start_time": "2022-12-29T09:58:19.240Z"
   },
   {
    "duration": 20,
    "start_time": "2022-12-29T09:58:19.251Z"
   },
   {
    "duration": 18,
    "start_time": "2022-12-29T09:58:19.287Z"
   },
   {
    "duration": 15,
    "start_time": "2022-12-29T09:58:19.306Z"
   },
   {
    "duration": 13,
    "start_time": "2022-12-29T09:58:19.322Z"
   },
   {
    "duration": 5,
    "start_time": "2022-12-29T09:58:19.337Z"
   },
   {
    "duration": 12,
    "start_time": "2022-12-29T09:58:19.344Z"
   },
   {
    "duration": 33,
    "start_time": "2022-12-29T09:58:19.358Z"
   },
   {
    "duration": 13,
    "start_time": "2022-12-29T09:58:19.398Z"
   },
   {
    "duration": 15,
    "start_time": "2022-12-29T09:58:19.412Z"
   },
   {
    "duration": 8,
    "start_time": "2022-12-29T09:58:19.428Z"
   },
   {
    "duration": 16,
    "start_time": "2022-12-29T09:58:19.438Z"
   },
   {
    "duration": 13,
    "start_time": "2022-12-29T09:58:19.456Z"
   },
   {
    "duration": 38,
    "start_time": "2022-12-29T09:58:19.472Z"
   },
   {
    "duration": 7,
    "start_time": "2022-12-29T09:58:19.512Z"
   },
   {
    "duration": 6,
    "start_time": "2022-12-29T09:58:19.521Z"
   },
   {
    "duration": 5,
    "start_time": "2022-12-29T09:58:19.529Z"
   },
   {
    "duration": 9,
    "start_time": "2022-12-29T09:58:19.535Z"
   },
   {
    "duration": 8,
    "start_time": "2022-12-29T09:58:19.546Z"
   },
   {
    "duration": 8,
    "start_time": "2022-12-29T09:58:19.555Z"
   },
   {
    "duration": 5,
    "start_time": "2022-12-29T09:58:19.567Z"
   },
   {
    "duration": 33,
    "start_time": "2022-12-29T09:58:19.574Z"
   },
   {
    "duration": 15,
    "start_time": "2022-12-29T09:58:19.609Z"
   },
   {
    "duration": 5,
    "start_time": "2022-12-29T09:58:19.626Z"
   },
   {
    "duration": 7,
    "start_time": "2022-12-29T09:58:19.633Z"
   },
   {
    "duration": 6,
    "start_time": "2022-12-29T09:58:19.642Z"
   },
   {
    "duration": 22,
    "start_time": "2022-12-29T09:58:19.650Z"
   },
   {
    "duration": 29,
    "start_time": "2022-12-29T09:58:19.674Z"
   },
   {
    "duration": 7,
    "start_time": "2022-12-29T09:58:19.705Z"
   },
   {
    "duration": 9,
    "start_time": "2022-12-29T09:58:19.714Z"
   },
   {
    "duration": 12,
    "start_time": "2022-12-29T09:58:19.724Z"
   },
   {
    "duration": 12,
    "start_time": "2022-12-29T09:58:19.738Z"
   },
   {
    "duration": 49,
    "start_time": "2022-12-29T09:58:19.751Z"
   },
   {
    "duration": 28,
    "start_time": "2022-12-29T09:58:19.802Z"
   },
   {
    "duration": 3,
    "start_time": "2022-12-29T09:58:19.832Z"
   },
   {
    "duration": 109,
    "start_time": "2022-12-29T09:58:19.836Z"
   },
   {
    "duration": 192,
    "start_time": "2022-12-29T09:58:19.947Z"
   },
   {
    "duration": 8,
    "start_time": "2022-12-29T09:58:20.141Z"
   },
   {
    "duration": 58,
    "start_time": "2022-12-29T09:58:20.150Z"
   },
   {
    "duration": 14,
    "start_time": "2022-12-29T09:58:20.209Z"
   },
   {
    "duration": 381,
    "start_time": "2022-12-29T09:58:20.224Z"
   },
   {
    "duration": 8,
    "start_time": "2022-12-29T09:58:20.607Z"
   },
   {
    "duration": 19,
    "start_time": "2022-12-29T09:58:20.616Z"
   },
   {
    "duration": 13,
    "start_time": "2022-12-29T09:58:20.637Z"
   },
   {
    "duration": 1103,
    "start_time": "2022-12-29T09:58:20.652Z"
   },
   {
    "duration": 7,
    "start_time": "2022-12-29T09:58:21.756Z"
   },
   {
    "duration": 231,
    "start_time": "2022-12-29T09:58:21.764Z"
   },
   {
    "duration": 24,
    "start_time": "2022-12-29T09:58:22.001Z"
   },
   {
    "duration": 670,
    "start_time": "2022-12-29T09:58:22.027Z"
   },
   {
    "duration": 208,
    "start_time": "2022-12-29T09:58:22.703Z"
   },
   {
    "duration": 183,
    "start_time": "2022-12-29T09:58:22.912Z"
   },
   {
    "duration": 172,
    "start_time": "2022-12-29T09:58:23.104Z"
   },
   {
    "duration": 14,
    "start_time": "2022-12-29T09:58:23.290Z"
   },
   {
    "duration": 7,
    "start_time": "2022-12-29T09:58:23.306Z"
   },
   {
    "duration": 29,
    "start_time": "2022-12-29T09:58:23.317Z"
   },
   {
    "duration": 25,
    "start_time": "2022-12-29T09:58:23.349Z"
   },
   {
    "duration": 270,
    "start_time": "2022-12-29T09:58:23.376Z"
   },
   {
    "duration": 212,
    "start_time": "2022-12-29T09:58:23.647Z"
   },
   {
    "duration": 15,
    "start_time": "2022-12-29T09:58:23.861Z"
   },
   {
    "duration": 22,
    "start_time": "2022-12-29T09:58:23.894Z"
   },
   {
    "duration": 22,
    "start_time": "2022-12-29T09:58:23.918Z"
   },
   {
    "duration": 31,
    "start_time": "2022-12-29T09:58:23.942Z"
   },
   {
    "duration": 42,
    "start_time": "2022-12-29T09:58:23.975Z"
   },
   {
    "duration": 18,
    "start_time": "2022-12-29T09:58:24.019Z"
   },
   {
    "duration": 35,
    "start_time": "2022-12-29T09:58:24.038Z"
   },
   {
    "duration": 33,
    "start_time": "2022-12-29T09:58:24.076Z"
   },
   {
    "duration": 36,
    "start_time": "2022-12-29T09:58:24.112Z"
   },
   {
    "duration": 502,
    "start_time": "2022-12-29T09:58:24.150Z"
   },
   {
    "duration": 3,
    "start_time": "2022-12-29T09:58:24.655Z"
   },
   {
    "duration": 61,
    "start_time": "2022-12-29T09:58:24.659Z"
   },
   {
    "duration": 203,
    "start_time": "2022-12-29T09:58:24.722Z"
   },
   {
    "duration": 4,
    "start_time": "2022-12-29T09:58:24.927Z"
   },
   {
    "duration": 217,
    "start_time": "2022-12-29T09:58:24.933Z"
   },
   {
    "duration": 4,
    "start_time": "2022-12-29T09:58:25.152Z"
   },
   {
    "duration": 50,
    "start_time": "2022-12-29T09:58:25.162Z"
   },
   {
    "duration": 71,
    "start_time": "2022-12-29T09:58:25.214Z"
   },
   {
    "duration": 67,
    "start_time": "2022-12-29T11:12:50.860Z"
   },
   {
    "duration": 63,
    "start_time": "2022-12-29T11:16:42.350Z"
   },
   {
    "duration": 4,
    "start_time": "2022-12-29T11:27:50.191Z"
   },
   {
    "duration": 3,
    "start_time": "2022-12-29T11:28:03.047Z"
   },
   {
    "duration": 1237,
    "start_time": "2022-12-29T11:28:09.083Z"
   },
   {
    "duration": 68,
    "start_time": "2022-12-29T11:28:10.323Z"
   },
   {
    "duration": 18,
    "start_time": "2022-12-29T11:28:10.393Z"
   },
   {
    "duration": 15,
    "start_time": "2022-12-29T11:28:10.414Z"
   },
   {
    "duration": 3,
    "start_time": "2022-12-29T11:28:10.430Z"
   },
   {
    "duration": 9,
    "start_time": "2022-12-29T11:28:10.435Z"
   },
   {
    "duration": 23,
    "start_time": "2022-12-29T11:28:10.445Z"
   },
   {
    "duration": 26,
    "start_time": "2022-12-29T11:28:10.470Z"
   },
   {
    "duration": 14,
    "start_time": "2022-12-29T11:28:10.498Z"
   },
   {
    "duration": 5,
    "start_time": "2022-12-29T11:28:10.514Z"
   },
   {
    "duration": 19,
    "start_time": "2022-12-29T11:28:10.520Z"
   },
   {
    "duration": 11,
    "start_time": "2022-12-29T11:28:10.540Z"
   },
   {
    "duration": 31,
    "start_time": "2022-12-29T11:28:10.552Z"
   },
   {
    "duration": 14,
    "start_time": "2022-12-29T11:28:10.585Z"
   },
   {
    "duration": 19,
    "start_time": "2022-12-29T11:28:10.601Z"
   },
   {
    "duration": 7,
    "start_time": "2022-12-29T11:28:10.621Z"
   },
   {
    "duration": 7,
    "start_time": "2022-12-29T11:28:10.630Z"
   },
   {
    "duration": 5,
    "start_time": "2022-12-29T11:28:10.638Z"
   },
   {
    "duration": 15,
    "start_time": "2022-12-29T11:28:10.645Z"
   },
   {
    "duration": 25,
    "start_time": "2022-12-29T11:28:10.662Z"
   },
   {
    "duration": 6,
    "start_time": "2022-12-29T11:28:10.689Z"
   },
   {
    "duration": 10,
    "start_time": "2022-12-29T11:28:10.697Z"
   },
   {
    "duration": 7,
    "start_time": "2022-12-29T11:28:10.709Z"
   },
   {
    "duration": 7,
    "start_time": "2022-12-29T11:28:10.718Z"
   },
   {
    "duration": 7,
    "start_time": "2022-12-29T11:28:10.727Z"
   },
   {
    "duration": 6,
    "start_time": "2022-12-29T11:28:10.735Z"
   },
   {
    "duration": 7,
    "start_time": "2022-12-29T11:28:10.743Z"
   },
   {
    "duration": 24,
    "start_time": "2022-12-29T11:28:10.754Z"
   },
   {
    "duration": 18,
    "start_time": "2022-12-29T11:28:10.780Z"
   },
   {
    "duration": 16,
    "start_time": "2022-12-29T11:28:10.800Z"
   },
   {
    "duration": 7,
    "start_time": "2022-12-29T11:28:10.818Z"
   },
   {
    "duration": 7,
    "start_time": "2022-12-29T11:28:10.826Z"
   },
   {
    "duration": 10,
    "start_time": "2022-12-29T11:28:10.835Z"
   },
   {
    "duration": 43,
    "start_time": "2022-12-29T11:28:10.846Z"
   },
   {
    "duration": 7,
    "start_time": "2022-12-29T11:28:10.890Z"
   },
   {
    "duration": 15,
    "start_time": "2022-12-29T11:28:10.899Z"
   },
   {
    "duration": 10,
    "start_time": "2022-12-29T11:28:10.916Z"
   },
   {
    "duration": 12,
    "start_time": "2022-12-29T11:28:10.928Z"
   },
   {
    "duration": 9,
    "start_time": "2022-12-29T11:28:10.942Z"
   },
   {
    "duration": 18,
    "start_time": "2022-12-29T11:28:10.953Z"
   },
   {
    "duration": 40,
    "start_time": "2022-12-29T11:28:10.973Z"
   },
   {
    "duration": 4,
    "start_time": "2022-12-29T11:28:11.015Z"
   },
   {
    "duration": 93,
    "start_time": "2022-12-29T11:28:11.021Z"
   },
   {
    "duration": 187,
    "start_time": "2022-12-29T11:28:11.115Z"
   },
   {
    "duration": 7,
    "start_time": "2022-12-29T11:28:11.304Z"
   },
   {
    "duration": 27,
    "start_time": "2022-12-29T11:28:11.312Z"
   },
   {
    "duration": 10,
    "start_time": "2022-12-29T11:28:11.341Z"
   },
   {
    "duration": 319,
    "start_time": "2022-12-29T11:28:11.352Z"
   },
   {
    "duration": 18,
    "start_time": "2022-12-29T11:28:11.673Z"
   },
   {
    "duration": 20,
    "start_time": "2022-12-29T11:28:11.692Z"
   },
   {
    "duration": 13,
    "start_time": "2022-12-29T11:28:11.713Z"
   },
   {
    "duration": 940,
    "start_time": "2022-12-29T11:28:11.728Z"
   },
   {
    "duration": 15,
    "start_time": "2022-12-29T11:28:12.670Z"
   },
   {
    "duration": 194,
    "start_time": "2022-12-29T11:28:12.696Z"
   },
   {
    "duration": 14,
    "start_time": "2022-12-29T11:28:12.892Z"
   },
   {
    "duration": 564,
    "start_time": "2022-12-29T11:28:12.908Z"
   },
   {
    "duration": 183,
    "start_time": "2022-12-29T11:28:13.474Z"
   },
   {
    "duration": 174,
    "start_time": "2022-12-29T11:28:13.658Z"
   },
   {
    "duration": 171,
    "start_time": "2022-12-29T11:28:13.834Z"
   },
   {
    "duration": 7,
    "start_time": "2022-12-29T11:28:14.006Z"
   },
   {
    "duration": 9,
    "start_time": "2022-12-29T11:28:14.014Z"
   },
   {
    "duration": 5,
    "start_time": "2022-12-29T11:28:14.024Z"
   },
   {
    "duration": 8,
    "start_time": "2022-12-29T11:28:14.030Z"
   },
   {
    "duration": 220,
    "start_time": "2022-12-29T11:28:14.040Z"
   },
   {
    "duration": 209,
    "start_time": "2022-12-29T11:28:14.262Z"
   },
   {
    "duration": 23,
    "start_time": "2022-12-29T11:28:14.473Z"
   },
   {
    "duration": 16,
    "start_time": "2022-12-29T11:28:14.497Z"
   },
   {
    "duration": 13,
    "start_time": "2022-12-29T11:28:14.515Z"
   },
   {
    "duration": 13,
    "start_time": "2022-12-29T11:28:14.529Z"
   },
   {
    "duration": 48,
    "start_time": "2022-12-29T11:28:14.544Z"
   },
   {
    "duration": 16,
    "start_time": "2022-12-29T11:28:14.594Z"
   },
   {
    "duration": 14,
    "start_time": "2022-12-29T11:28:14.611Z"
   },
   {
    "duration": 13,
    "start_time": "2022-12-29T11:28:14.626Z"
   },
   {
    "duration": 13,
    "start_time": "2022-12-29T11:28:14.641Z"
   },
   {
    "duration": 452,
    "start_time": "2022-12-29T11:28:14.656Z"
   },
   {
    "duration": 3,
    "start_time": "2022-12-29T11:28:15.110Z"
   },
   {
    "duration": 12,
    "start_time": "2022-12-29T11:28:15.114Z"
   },
   {
    "duration": 194,
    "start_time": "2022-12-29T11:28:15.128Z"
   },
   {
    "duration": 5,
    "start_time": "2022-12-29T11:28:15.324Z"
   },
   {
    "duration": 200,
    "start_time": "2022-12-29T11:28:15.331Z"
   },
   {
    "duration": 4,
    "start_time": "2022-12-29T11:28:15.532Z"
   },
   {
    "duration": 15,
    "start_time": "2022-12-29T11:28:15.541Z"
   },
   {
    "duration": 30,
    "start_time": "2022-12-29T11:28:15.557Z"
   },
   {
    "duration": 539,
    "start_time": "2022-12-29T11:32:59.770Z"
   },
   {
    "duration": 7,
    "start_time": "2022-12-29T11:41:08.147Z"
   },
   {
    "duration": 149,
    "start_time": "2022-12-29T11:41:11.057Z"
   },
   {
    "duration": 6,
    "start_time": "2022-12-29T11:41:20.771Z"
   },
   {
    "duration": 149,
    "start_time": "2022-12-29T11:41:22.362Z"
   },
   {
    "duration": 8,
    "start_time": "2022-12-29T11:42:57.868Z"
   },
   {
    "duration": 146,
    "start_time": "2022-12-29T11:42:59.362Z"
   },
   {
    "duration": 12,
    "start_time": "2022-12-29T11:43:01.171Z"
   },
   {
    "duration": 288,
    "start_time": "2022-12-29T11:43:03.739Z"
   },
   {
    "duration": 362,
    "start_time": "2022-12-29T11:56:08.255Z"
   },
   {
    "duration": 284,
    "start_time": "2022-12-29T11:56:14.567Z"
   },
   {
    "duration": 18,
    "start_time": "2022-12-29T12:09:53.133Z"
   },
   {
    "duration": 13,
    "start_time": "2022-12-29T12:23:53.401Z"
   },
   {
    "duration": 13,
    "start_time": "2022-12-29T12:24:05.352Z"
   },
   {
    "duration": 2,
    "start_time": "2022-12-29T12:25:00.065Z"
   },
   {
    "duration": 8,
    "start_time": "2022-12-29T12:27:08.402Z"
   },
   {
    "duration": 7,
    "start_time": "2022-12-29T12:28:49.215Z"
   },
   {
    "duration": 21,
    "start_time": "2022-12-29T12:28:49.224Z"
   },
   {
    "duration": 303,
    "start_time": "2022-12-29T12:28:49.247Z"
   },
   {
    "duration": 210,
    "start_time": "2022-12-29T12:28:49.553Z"
   },
   {
    "duration": 26,
    "start_time": "2022-12-29T12:28:49.765Z"
   },
   {
    "duration": 1169,
    "start_time": "2022-12-29T12:31:14.230Z"
   },
   {
    "duration": 55,
    "start_time": "2022-12-29T12:31:15.401Z"
   },
   {
    "duration": 18,
    "start_time": "2022-12-29T12:31:15.460Z"
   },
   {
    "duration": 15,
    "start_time": "2022-12-29T12:31:15.479Z"
   },
   {
    "duration": 3,
    "start_time": "2022-12-29T12:31:15.496Z"
   },
   {
    "duration": 6,
    "start_time": "2022-12-29T12:31:15.500Z"
   },
   {
    "duration": 20,
    "start_time": "2022-12-29T12:31:15.508Z"
   },
   {
    "duration": 9,
    "start_time": "2022-12-29T12:31:15.529Z"
   },
   {
    "duration": 46,
    "start_time": "2022-12-29T12:31:15.540Z"
   },
   {
    "duration": 6,
    "start_time": "2022-12-29T12:31:15.587Z"
   },
   {
    "duration": 16,
    "start_time": "2022-12-29T12:31:15.594Z"
   },
   {
    "duration": 8,
    "start_time": "2022-12-29T12:31:15.612Z"
   },
   {
    "duration": 6,
    "start_time": "2022-12-29T12:31:15.622Z"
   },
   {
    "duration": 7,
    "start_time": "2022-12-29T12:31:15.629Z"
   },
   {
    "duration": 50,
    "start_time": "2022-12-29T12:31:15.637Z"
   },
   {
    "duration": 8,
    "start_time": "2022-12-29T12:31:15.690Z"
   },
   {
    "duration": 18,
    "start_time": "2022-12-29T12:31:15.700Z"
   },
   {
    "duration": 18,
    "start_time": "2022-12-29T12:31:15.720Z"
   },
   {
    "duration": 19,
    "start_time": "2022-12-29T12:31:15.740Z"
   },
   {
    "duration": 22,
    "start_time": "2022-12-29T12:31:15.761Z"
   },
   {
    "duration": 19,
    "start_time": "2022-12-29T12:31:15.785Z"
   },
   {
    "duration": 18,
    "start_time": "2022-12-29T12:31:15.806Z"
   },
   {
    "duration": 19,
    "start_time": "2022-12-29T12:31:15.825Z"
   },
   {
    "duration": 17,
    "start_time": "2022-12-29T12:31:15.846Z"
   },
   {
    "duration": 26,
    "start_time": "2022-12-29T12:31:15.865Z"
   },
   {
    "duration": 26,
    "start_time": "2022-12-29T12:31:15.893Z"
   },
   {
    "duration": 25,
    "start_time": "2022-12-29T12:31:15.925Z"
   },
   {
    "duration": 20,
    "start_time": "2022-12-29T12:31:15.952Z"
   },
   {
    "duration": 19,
    "start_time": "2022-12-29T12:31:15.973Z"
   },
   {
    "duration": 43,
    "start_time": "2022-12-29T12:31:15.994Z"
   },
   {
    "duration": 6,
    "start_time": "2022-12-29T12:31:16.039Z"
   },
   {
    "duration": 36,
    "start_time": "2022-12-29T12:31:16.046Z"
   },
   {
    "duration": 27,
    "start_time": "2022-12-29T12:31:16.084Z"
   },
   {
    "duration": 41,
    "start_time": "2022-12-29T12:31:16.113Z"
   },
   {
    "duration": 8,
    "start_time": "2022-12-29T12:31:16.155Z"
   },
   {
    "duration": 8,
    "start_time": "2022-12-29T12:31:16.165Z"
   },
   {
    "duration": 13,
    "start_time": "2022-12-29T12:31:16.175Z"
   },
   {
    "duration": 15,
    "start_time": "2022-12-29T12:31:16.190Z"
   },
   {
    "duration": 8,
    "start_time": "2022-12-29T12:31:16.207Z"
   },
   {
    "duration": 16,
    "start_time": "2022-12-29T12:31:16.217Z"
   },
   {
    "duration": 22,
    "start_time": "2022-12-29T12:31:16.234Z"
   },
   {
    "duration": 3,
    "start_time": "2022-12-29T12:31:16.258Z"
   },
   {
    "duration": 76,
    "start_time": "2022-12-29T12:31:16.277Z"
   },
   {
    "duration": 183,
    "start_time": "2022-12-29T12:31:16.355Z"
   },
   {
    "duration": 7,
    "start_time": "2022-12-29T12:31:16.540Z"
   },
   {
    "duration": 37,
    "start_time": "2022-12-29T12:31:16.548Z"
   },
   {
    "duration": 9,
    "start_time": "2022-12-29T12:31:16.586Z"
   },
   {
    "duration": 288,
    "start_time": "2022-12-29T12:31:16.597Z"
   },
   {
    "duration": 8,
    "start_time": "2022-12-29T12:31:16.887Z"
   },
   {
    "duration": 18,
    "start_time": "2022-12-29T12:31:16.897Z"
   },
   {
    "duration": 13,
    "start_time": "2022-12-29T12:31:16.917Z"
   },
   {
    "duration": 972,
    "start_time": "2022-12-29T12:31:16.932Z"
   },
   {
    "duration": 7,
    "start_time": "2022-12-29T12:31:17.906Z"
   },
   {
    "duration": 163,
    "start_time": "2022-12-29T12:31:17.915Z"
   },
   {
    "duration": 7,
    "start_time": "2022-12-29T12:31:18.080Z"
   },
   {
    "duration": 17,
    "start_time": "2022-12-29T12:31:18.089Z"
   },
   {
    "duration": 443,
    "start_time": "2022-12-29T12:31:18.107Z"
   },
   {
    "duration": 210,
    "start_time": "2022-12-29T12:31:18.552Z"
   },
   {
    "duration": 22,
    "start_time": "2022-12-29T12:31:18.764Z"
   },
   {
    "duration": 160,
    "start_time": "2022-12-29T12:31:18.788Z"
   },
   {
    "duration": 177,
    "start_time": "2022-12-29T12:31:18.950Z"
   },
   {
    "duration": 167,
    "start_time": "2022-12-29T12:31:19.129Z"
   },
   {
    "duration": 6,
    "start_time": "2022-12-29T12:31:19.298Z"
   },
   {
    "duration": 9,
    "start_time": "2022-12-29T12:31:19.305Z"
   },
   {
    "duration": 7,
    "start_time": "2022-12-29T12:31:19.316Z"
   },
   {
    "duration": 11,
    "start_time": "2022-12-29T12:31:19.324Z"
   },
   {
    "duration": 204,
    "start_time": "2022-12-29T12:31:19.336Z"
   },
   {
    "duration": 179,
    "start_time": "2022-12-29T12:31:19.542Z"
   },
   {
    "duration": 16,
    "start_time": "2022-12-29T12:31:19.723Z"
   },
   {
    "duration": 15,
    "start_time": "2022-12-29T12:31:19.741Z"
   },
   {
    "duration": 30,
    "start_time": "2022-12-29T12:31:19.758Z"
   },
   {
    "duration": 14,
    "start_time": "2022-12-29T12:31:19.789Z"
   },
   {
    "duration": 14,
    "start_time": "2022-12-29T12:31:19.805Z"
   },
   {
    "duration": 16,
    "start_time": "2022-12-29T12:31:19.820Z"
   },
   {
    "duration": 41,
    "start_time": "2022-12-29T12:31:19.838Z"
   },
   {
    "duration": 15,
    "start_time": "2022-12-29T12:31:19.880Z"
   },
   {
    "duration": 21,
    "start_time": "2022-12-29T12:31:19.896Z"
   },
   {
    "duration": 469,
    "start_time": "2022-12-29T12:31:19.918Z"
   },
   {
    "duration": 3,
    "start_time": "2022-12-29T12:31:20.389Z"
   },
   {
    "duration": 9,
    "start_time": "2022-12-29T12:31:20.394Z"
   },
   {
    "duration": 195,
    "start_time": "2022-12-29T12:31:20.409Z"
   },
   {
    "duration": 4,
    "start_time": "2022-12-29T12:31:20.606Z"
   },
   {
    "duration": 170,
    "start_time": "2022-12-29T12:31:20.612Z"
   },
   {
    "duration": 4,
    "start_time": "2022-12-29T12:31:20.785Z"
   },
   {
    "duration": 12,
    "start_time": "2022-12-29T12:31:20.791Z"
   },
   {
    "duration": 16,
    "start_time": "2022-12-29T12:31:20.805Z"
   },
   {
    "duration": 15,
    "start_time": "2022-12-29T12:32:00.961Z"
   },
   {
    "duration": 318,
    "start_time": "2022-12-29T12:32:01.731Z"
   },
   {
    "duration": 150,
    "start_time": "2022-12-29T12:41:48.511Z"
   },
   {
    "duration": 154,
    "start_time": "2022-12-29T12:42:36.367Z"
   },
   {
    "duration": 7,
    "start_time": "2022-12-29T12:46:48.031Z"
   },
   {
    "duration": 6,
    "start_time": "2022-12-29T12:47:18.838Z"
   },
   {
    "duration": 164,
    "start_time": "2022-12-29T12:47:27.776Z"
   },
   {
    "duration": 152,
    "start_time": "2022-12-29T12:48:52.929Z"
   },
   {
    "duration": 5,
    "start_time": "2022-12-29T12:50:01.473Z"
   },
   {
    "duration": 6,
    "start_time": "2022-12-29T12:50:08.714Z"
   },
   {
    "duration": 206,
    "start_time": "2022-12-29T13:02:09.765Z"
   },
   {
    "duration": 182,
    "start_time": "2022-12-29T13:04:37.917Z"
   },
   {
    "duration": 7,
    "start_time": "2022-12-29T13:05:29.565Z"
   },
   {
    "duration": 236,
    "start_time": "2022-12-29T13:05:30.516Z"
   },
   {
    "duration": 34,
    "start_time": "2022-12-29T13:05:59.582Z"
   },
   {
    "duration": 40,
    "start_time": "2022-12-29T13:06:08.374Z"
   },
   {
    "duration": 23,
    "start_time": "2022-12-29T13:06:21.157Z"
   },
   {
    "duration": 33,
    "start_time": "2022-12-29T13:06:48.575Z"
   },
   {
    "duration": 17,
    "start_time": "2022-12-29T13:06:51.900Z"
   },
   {
    "duration": 16,
    "start_time": "2022-12-29T13:06:55.557Z"
   },
   {
    "duration": 14,
    "start_time": "2022-12-29T13:25:08.978Z"
   },
   {
    "duration": 10,
    "start_time": "2022-12-29T13:25:14.434Z"
   },
   {
    "duration": 9,
    "start_time": "2022-12-29T13:27:02.403Z"
   },
   {
    "duration": 10,
    "start_time": "2022-12-29T13:29:41.971Z"
   },
   {
    "duration": 184,
    "start_time": "2022-12-29T13:29:42.495Z"
   },
   {
    "duration": 6,
    "start_time": "2022-12-29T13:29:43.508Z"
   },
   {
    "duration": 206,
    "start_time": "2022-12-29T13:29:44.101Z"
   },
   {
    "duration": 4,
    "start_time": "2022-12-29T13:29:45.073Z"
   },
   {
    "duration": 969,
    "start_time": "2022-12-29T13:35:45.334Z"
   },
   {
    "duration": 195,
    "start_time": "2022-12-29T13:37:02.747Z"
   },
   {
    "duration": 331,
    "start_time": "2022-12-29T13:37:16.388Z"
   },
   {
    "duration": 198,
    "start_time": "2022-12-29T13:38:18.004Z"
   },
   {
    "duration": 722,
    "start_time": "2022-12-29T13:39:27.605Z"
   },
   {
    "duration": 56,
    "start_time": "2022-12-29T14:22:13.709Z"
   },
   {
    "duration": 170,
    "start_time": "2022-12-29T14:22:27.302Z"
   },
   {
    "duration": 181,
    "start_time": "2022-12-29T14:31:20.889Z"
   },
   {
    "duration": 201,
    "start_time": "2022-12-29T14:31:28.248Z"
   },
   {
    "duration": 172,
    "start_time": "2022-12-29T14:31:32.833Z"
   },
   {
    "duration": 185,
    "start_time": "2022-12-29T14:31:40.537Z"
   },
   {
    "duration": 166,
    "start_time": "2022-12-29T14:31:46.208Z"
   },
   {
    "duration": 189,
    "start_time": "2022-12-29T14:31:57.865Z"
   },
   {
    "duration": 180,
    "start_time": "2022-12-29T14:32:28.729Z"
   },
   {
    "duration": 285,
    "start_time": "2022-12-29T14:34:40.417Z"
   },
   {
    "duration": 192,
    "start_time": "2022-12-29T14:34:56.603Z"
   },
   {
    "duration": 172,
    "start_time": "2022-12-29T14:35:03.404Z"
   },
   {
    "duration": 205,
    "start_time": "2022-12-29T14:35:10.865Z"
   },
   {
    "duration": 220,
    "start_time": "2022-12-29T14:35:15.737Z"
   },
   {
    "duration": 184,
    "start_time": "2022-12-29T14:35:21.153Z"
   },
   {
    "duration": 9,
    "start_time": "2022-12-29T14:40:34.028Z"
   },
   {
    "duration": 167,
    "start_time": "2022-12-29T14:40:36.425Z"
   },
   {
    "duration": 4,
    "start_time": "2022-12-29T14:40:42.443Z"
   },
   {
    "duration": 179,
    "start_time": "2022-12-29T14:40:43.713Z"
   },
   {
    "duration": 4,
    "start_time": "2022-12-29T14:40:47.331Z"
   },
   {
    "duration": 10,
    "start_time": "2022-12-29T14:40:51.717Z"
   },
   {
    "duration": 12,
    "start_time": "2022-12-29T14:42:09.763Z"
   },
   {
    "duration": 12,
    "start_time": "2022-12-29T14:42:45.905Z"
   },
   {
    "duration": 207,
    "start_time": "2022-12-29T14:42:52.268Z"
   },
   {
    "duration": 4,
    "start_time": "2022-12-29T14:42:58.324Z"
   },
   {
    "duration": 223,
    "start_time": "2022-12-29T14:43:00.808Z"
   },
   {
    "duration": 4,
    "start_time": "2022-12-29T14:43:04.236Z"
   },
   {
    "duration": 19,
    "start_time": "2022-12-29T14:43:09.202Z"
   },
   {
    "duration": 54,
    "start_time": "2022-12-29T14:44:22.605Z"
   },
   {
    "duration": 53,
    "start_time": "2022-12-30T06:14:57.297Z"
   },
   {
    "duration": 1382,
    "start_time": "2022-12-30T06:15:07.635Z"
   },
   {
    "duration": 195,
    "start_time": "2022-12-30T06:15:09.019Z"
   },
   {
    "duration": 23,
    "start_time": "2022-12-30T06:15:09.215Z"
   },
   {
    "duration": 16,
    "start_time": "2022-12-30T06:15:09.240Z"
   },
   {
    "duration": 4,
    "start_time": "2022-12-30T06:15:09.258Z"
   },
   {
    "duration": 7,
    "start_time": "2022-12-30T06:15:09.263Z"
   },
   {
    "duration": 17,
    "start_time": "2022-12-30T06:15:09.271Z"
   },
   {
    "duration": 45,
    "start_time": "2022-12-30T06:15:09.290Z"
   },
   {
    "duration": 16,
    "start_time": "2022-12-30T06:15:09.337Z"
   },
   {
    "duration": 5,
    "start_time": "2022-12-30T06:15:09.356Z"
   },
   {
    "duration": 15,
    "start_time": "2022-12-30T06:15:09.363Z"
   },
   {
    "duration": 10,
    "start_time": "2022-12-30T06:15:09.380Z"
   },
   {
    "duration": 5,
    "start_time": "2022-12-30T06:15:09.392Z"
   },
   {
    "duration": 15,
    "start_time": "2022-12-30T06:15:09.422Z"
   },
   {
    "duration": 16,
    "start_time": "2022-12-30T06:15:09.439Z"
   },
   {
    "duration": 7,
    "start_time": "2022-12-30T06:15:09.456Z"
   },
   {
    "duration": 8,
    "start_time": "2022-12-30T06:15:09.465Z"
   },
   {
    "duration": 6,
    "start_time": "2022-12-30T06:15:09.474Z"
   },
   {
    "duration": 9,
    "start_time": "2022-12-30T06:15:09.482Z"
   },
   {
    "duration": 8,
    "start_time": "2022-12-30T06:15:09.492Z"
   },
   {
    "duration": 23,
    "start_time": "2022-12-30T06:15:09.501Z"
   },
   {
    "duration": 10,
    "start_time": "2022-12-30T06:15:09.529Z"
   },
   {
    "duration": 9,
    "start_time": "2022-12-30T06:15:09.540Z"
   },
   {
    "duration": 6,
    "start_time": "2022-12-30T06:15:09.550Z"
   },
   {
    "duration": 10,
    "start_time": "2022-12-30T06:15:09.557Z"
   },
   {
    "duration": 5,
    "start_time": "2022-12-30T06:15:09.569Z"
   },
   {
    "duration": 6,
    "start_time": "2022-12-30T06:15:09.576Z"
   },
   {
    "duration": 4,
    "start_time": "2022-12-30T06:15:09.586Z"
   },
   {
    "duration": 8,
    "start_time": "2022-12-30T06:15:09.592Z"
   },
   {
    "duration": 18,
    "start_time": "2022-12-30T06:15:09.624Z"
   },
   {
    "duration": 5,
    "start_time": "2022-12-30T06:15:09.644Z"
   },
   {
    "duration": 5,
    "start_time": "2022-12-30T06:15:09.650Z"
   },
   {
    "duration": 10,
    "start_time": "2022-12-30T06:15:09.657Z"
   },
   {
    "duration": 22,
    "start_time": "2022-12-30T06:15:09.668Z"
   },
   {
    "duration": 6,
    "start_time": "2022-12-30T06:15:09.692Z"
   },
   {
    "duration": 7,
    "start_time": "2022-12-30T06:15:09.699Z"
   },
   {
    "duration": 9,
    "start_time": "2022-12-30T06:15:09.727Z"
   },
   {
    "duration": 7,
    "start_time": "2022-12-30T06:15:09.738Z"
   },
   {
    "duration": 8,
    "start_time": "2022-12-30T06:15:09.747Z"
   },
   {
    "duration": 14,
    "start_time": "2022-12-30T06:15:09.756Z"
   },
   {
    "duration": 17,
    "start_time": "2022-12-30T06:15:09.771Z"
   },
   {
    "duration": 3,
    "start_time": "2022-12-30T06:15:09.789Z"
   },
   {
    "duration": 97,
    "start_time": "2022-12-30T06:15:09.793Z"
   },
   {
    "duration": 177,
    "start_time": "2022-12-30T06:15:09.892Z"
   },
   {
    "duration": 7,
    "start_time": "2022-12-30T06:15:10.070Z"
   },
   {
    "duration": 22,
    "start_time": "2022-12-30T06:15:10.079Z"
   },
   {
    "duration": 28,
    "start_time": "2022-12-30T06:15:10.102Z"
   },
   {
    "duration": 308,
    "start_time": "2022-12-30T06:15:10.132Z"
   },
   {
    "duration": 8,
    "start_time": "2022-12-30T06:15:10.442Z"
   },
   {
    "duration": 18,
    "start_time": "2022-12-30T06:15:10.451Z"
   },
   {
    "duration": 14,
    "start_time": "2022-12-30T06:15:10.471Z"
   },
   {
    "duration": 918,
    "start_time": "2022-12-30T06:15:10.487Z"
   },
   {
    "duration": 7,
    "start_time": "2022-12-30T06:15:11.407Z"
   },
   {
    "duration": 161,
    "start_time": "2022-12-30T06:15:11.421Z"
   },
   {
    "duration": 6,
    "start_time": "2022-12-30T06:15:11.584Z"
   },
   {
    "duration": 15,
    "start_time": "2022-12-30T06:15:11.592Z"
   },
   {
    "duration": 220,
    "start_time": "2022-12-30T06:15:11.609Z"
   },
   {
    "duration": 307,
    "start_time": "2022-12-30T06:15:11.831Z"
   },
   {
    "duration": 14,
    "start_time": "2022-12-30T06:15:12.140Z"
   },
   {
    "duration": 156,
    "start_time": "2022-12-30T06:15:12.156Z"
   },
   {
    "duration": 22,
    "start_time": "2022-12-30T06:15:12.314Z"
   },
   {
    "duration": 167,
    "start_time": "2022-12-30T06:15:12.338Z"
   },
   {
    "duration": 179,
    "start_time": "2022-12-30T06:15:12.507Z"
   },
   {
    "duration": 5,
    "start_time": "2022-12-30T06:15:12.688Z"
   },
   {
    "duration": 14,
    "start_time": "2022-12-30T06:15:12.694Z"
   },
   {
    "duration": 92,
    "start_time": "2022-12-30T06:15:12.709Z"
   },
   {
    "duration": 6,
    "start_time": "2022-12-30T06:15:12.803Z"
   },
   {
    "duration": 188,
    "start_time": "2022-12-30T06:15:12.811Z"
   },
   {
    "duration": 202,
    "start_time": "2022-12-30T06:15:13.000Z"
   },
   {
    "duration": 25,
    "start_time": "2022-12-30T06:15:13.204Z"
   },
   {
    "duration": 22,
    "start_time": "2022-12-30T06:15:13.230Z"
   },
   {
    "duration": 12,
    "start_time": "2022-12-30T06:15:13.253Z"
   },
   {
    "duration": 13,
    "start_time": "2022-12-30T06:15:13.267Z"
   },
   {
    "duration": 15,
    "start_time": "2022-12-30T06:15:13.281Z"
   },
   {
    "duration": 38,
    "start_time": "2022-12-30T06:15:13.297Z"
   },
   {
    "duration": 522,
    "start_time": "2022-12-30T06:15:13.337Z"
   },
   {
    "duration": 19,
    "start_time": "2022-12-30T06:15:13.860Z"
   },
   {
    "duration": 32,
    "start_time": "2022-12-30T06:15:13.881Z"
   },
   {
    "duration": 16,
    "start_time": "2022-12-30T06:15:13.915Z"
   },
   {
    "duration": 451,
    "start_time": "2022-12-30T06:15:13.933Z"
   },
   {
    "duration": 3,
    "start_time": "2022-12-30T06:15:14.386Z"
   },
   {
    "duration": 10,
    "start_time": "2022-12-30T06:15:14.395Z"
   },
   {
    "duration": 174,
    "start_time": "2022-12-30T06:15:14.406Z"
   },
   {
    "duration": 3,
    "start_time": "2022-12-30T06:15:14.582Z"
   },
   {
    "duration": 270,
    "start_time": "2022-12-30T06:15:14.587Z"
   },
   {
    "duration": 5,
    "start_time": "2022-12-30T06:15:14.859Z"
   },
   {
    "duration": 15,
    "start_time": "2022-12-30T06:15:14.865Z"
   },
   {
    "duration": 13,
    "start_time": "2022-12-30T06:15:14.882Z"
   },
   {
    "duration": 190,
    "start_time": "2022-12-30T06:15:14.897Z"
   },
   {
    "duration": 4,
    "start_time": "2022-12-30T06:15:15.088Z"
   },
   {
    "duration": 178,
    "start_time": "2022-12-30T06:15:15.094Z"
   },
   {
    "duration": 4,
    "start_time": "2022-12-30T06:15:15.273Z"
   },
   {
    "duration": 20,
    "start_time": "2022-12-30T06:15:15.278Z"
   },
   {
    "duration": 559,
    "start_time": "2022-12-30T06:18:11.321Z"
   },
   {
    "duration": 504,
    "start_time": "2022-12-30T06:18:26.677Z"
   },
   {
    "duration": 572,
    "start_time": "2022-12-30T06:19:06.809Z"
   },
   {
    "duration": 525,
    "start_time": "2022-12-30T06:19:11.671Z"
   },
   {
    "duration": 568,
    "start_time": "2022-12-30T06:19:22.904Z"
   },
   {
    "duration": 590,
    "start_time": "2022-12-30T06:19:31.088Z"
   },
   {
    "duration": 492,
    "start_time": "2022-12-30T06:19:36.408Z"
   },
   {
    "duration": 599,
    "start_time": "2022-12-30T06:19:40.104Z"
   },
   {
    "duration": 471,
    "start_time": "2022-12-30T06:19:48.249Z"
   },
   {
    "duration": 81,
    "start_time": "2022-12-30T06:23:55.697Z"
   },
   {
    "duration": 536,
    "start_time": "2022-12-30T06:24:24.362Z"
   },
   {
    "duration": 568,
    "start_time": "2022-12-30T06:24:37.575Z"
   },
   {
    "duration": 449,
    "start_time": "2022-12-30T06:24:42.866Z"
   },
   {
    "duration": 467,
    "start_time": "2022-12-30T06:24:48.146Z"
   },
   {
    "duration": 555,
    "start_time": "2022-12-30T06:24:54.265Z"
   },
   {
    "duration": 591,
    "start_time": "2022-12-30T06:28:37.288Z"
   },
   {
    "duration": 607,
    "start_time": "2022-12-30T06:28:48.478Z"
   },
   {
    "duration": 504,
    "start_time": "2022-12-30T06:28:58.139Z"
   },
   {
    "duration": 521,
    "start_time": "2022-12-30T06:29:26.238Z"
   },
   {
    "duration": 711,
    "start_time": "2022-12-30T06:30:43.326Z"
   },
   {
    "duration": 575,
    "start_time": "2022-12-30T06:31:11.106Z"
   },
   {
    "duration": 514,
    "start_time": "2022-12-30T06:31:18.038Z"
   },
   {
    "duration": 41,
    "start_time": "2022-12-30T06:54:28.008Z"
   },
   {
    "duration": 358,
    "start_time": "2022-12-30T06:54:50.973Z"
   },
   {
    "duration": 277,
    "start_time": "2022-12-30T06:55:03.774Z"
   },
   {
    "duration": 283,
    "start_time": "2022-12-30T06:55:20.693Z"
   },
   {
    "duration": 266,
    "start_time": "2022-12-30T07:00:29.700Z"
   },
   {
    "duration": 251,
    "start_time": "2022-12-30T07:00:36.511Z"
   },
   {
    "duration": 16,
    "start_time": "2022-12-30T07:01:29.405Z"
   },
   {
    "duration": 108,
    "start_time": "2022-12-30T07:10:34.554Z"
   },
   {
    "duration": 2720,
    "start_time": "2022-12-30T07:11:16.615Z"
   },
   {
    "duration": 93,
    "start_time": "2022-12-30T07:14:33.308Z"
   },
   {
    "duration": 31,
    "start_time": "2022-12-30T07:14:46.844Z"
   },
   {
    "duration": 1062,
    "start_time": "2022-12-30T22:56:53.252Z"
   },
   {
    "duration": 51,
    "start_time": "2022-12-30T22:56:54.316Z"
   },
   {
    "duration": 17,
    "start_time": "2022-12-30T22:56:54.369Z"
   },
   {
    "duration": 13,
    "start_time": "2022-12-30T22:56:54.387Z"
   },
   {
    "duration": 3,
    "start_time": "2022-12-30T22:56:54.402Z"
   },
   {
    "duration": 10,
    "start_time": "2022-12-30T22:56:54.406Z"
   },
   {
    "duration": 16,
    "start_time": "2022-12-30T22:56:54.418Z"
   },
   {
    "duration": 9,
    "start_time": "2022-12-30T22:56:54.435Z"
   },
   {
    "duration": 15,
    "start_time": "2022-12-30T22:56:54.446Z"
   },
   {
    "duration": 38,
    "start_time": "2022-12-30T22:56:54.462Z"
   },
   {
    "duration": 20,
    "start_time": "2022-12-30T22:56:54.502Z"
   },
   {
    "duration": 29,
    "start_time": "2022-12-30T22:56:54.524Z"
   },
   {
    "duration": 16,
    "start_time": "2022-12-30T22:56:54.554Z"
   },
   {
    "duration": 12,
    "start_time": "2022-12-30T22:56:54.573Z"
   },
   {
    "duration": 30,
    "start_time": "2022-12-30T22:56:54.586Z"
   },
   {
    "duration": 18,
    "start_time": "2022-12-30T22:56:54.618Z"
   },
   {
    "duration": 10,
    "start_time": "2022-12-30T22:56:54.638Z"
   },
   {
    "duration": 16,
    "start_time": "2022-12-30T22:56:54.650Z"
   },
   {
    "duration": 8,
    "start_time": "2022-12-30T22:56:54.668Z"
   },
   {
    "duration": 16,
    "start_time": "2022-12-30T22:56:54.678Z"
   },
   {
    "duration": 7,
    "start_time": "2022-12-30T22:56:54.695Z"
   },
   {
    "duration": 6,
    "start_time": "2022-12-30T22:56:54.704Z"
   },
   {
    "duration": 6,
    "start_time": "2022-12-30T22:56:54.712Z"
   },
   {
    "duration": 4,
    "start_time": "2022-12-30T22:56:54.720Z"
   },
   {
    "duration": 5,
    "start_time": "2022-12-30T22:56:54.725Z"
   },
   {
    "duration": 5,
    "start_time": "2022-12-30T22:56:54.732Z"
   },
   {
    "duration": 5,
    "start_time": "2022-12-30T22:56:54.739Z"
   },
   {
    "duration": 13,
    "start_time": "2022-12-30T22:56:54.746Z"
   },
   {
    "duration": 11,
    "start_time": "2022-12-30T22:56:54.761Z"
   },
   {
    "duration": 33,
    "start_time": "2022-12-30T22:56:54.773Z"
   },
   {
    "duration": 8,
    "start_time": "2022-12-30T22:56:54.807Z"
   },
   {
    "duration": 15,
    "start_time": "2022-12-30T22:56:54.816Z"
   },
   {
    "duration": 13,
    "start_time": "2022-12-30T22:56:54.833Z"
   },
   {
    "duration": 19,
    "start_time": "2022-12-30T22:56:54.847Z"
   },
   {
    "duration": 5,
    "start_time": "2022-12-30T22:56:54.868Z"
   },
   {
    "duration": 6,
    "start_time": "2022-12-30T22:56:54.875Z"
   },
   {
    "duration": 20,
    "start_time": "2022-12-30T22:56:54.882Z"
   },
   {
    "duration": 7,
    "start_time": "2022-12-30T22:56:54.903Z"
   },
   {
    "duration": 9,
    "start_time": "2022-12-30T22:56:54.912Z"
   },
   {
    "duration": 22,
    "start_time": "2022-12-30T22:56:54.922Z"
   },
   {
    "duration": 19,
    "start_time": "2022-12-30T22:56:54.949Z"
   },
   {
    "duration": 2,
    "start_time": "2022-12-30T22:56:54.970Z"
   },
   {
    "duration": 78,
    "start_time": "2022-12-30T22:56:54.973Z"
   },
   {
    "duration": 171,
    "start_time": "2022-12-30T22:56:55.052Z"
   },
   {
    "duration": 6,
    "start_time": "2022-12-30T22:56:55.224Z"
   },
   {
    "duration": 26,
    "start_time": "2022-12-30T22:56:55.232Z"
   },
   {
    "duration": 8,
    "start_time": "2022-12-30T22:56:55.260Z"
   },
   {
    "duration": 263,
    "start_time": "2022-12-30T22:56:55.269Z"
   },
   {
    "duration": 7,
    "start_time": "2022-12-30T22:56:55.534Z"
   },
   {
    "duration": 16,
    "start_time": "2022-12-30T22:56:55.542Z"
   },
   {
    "duration": 17,
    "start_time": "2022-12-30T22:56:55.559Z"
   },
   {
    "duration": 870,
    "start_time": "2022-12-30T22:56:55.577Z"
   },
   {
    "duration": 6,
    "start_time": "2022-12-30T22:56:56.449Z"
   },
   {
    "duration": 146,
    "start_time": "2022-12-30T22:56:56.456Z"
   },
   {
    "duration": 6,
    "start_time": "2022-12-30T22:56:56.604Z"
   },
   {
    "duration": 15,
    "start_time": "2022-12-30T22:56:56.611Z"
   },
   {
    "duration": 192,
    "start_time": "2022-12-30T22:56:56.628Z"
   },
   {
    "duration": 262,
    "start_time": "2022-12-30T22:56:56.821Z"
   },
   {
    "duration": 21,
    "start_time": "2022-12-30T22:56:57.085Z"
   },
   {
    "duration": 139,
    "start_time": "2022-12-30T22:56:57.108Z"
   },
   {
    "duration": 6,
    "start_time": "2022-12-30T22:56:57.249Z"
   },
   {
    "duration": 145,
    "start_time": "2022-12-30T22:56:57.256Z"
   },
   {
    "duration": 146,
    "start_time": "2022-12-30T22:56:57.403Z"
   },
   {
    "duration": 5,
    "start_time": "2022-12-30T22:56:57.550Z"
   },
   {
    "duration": 10,
    "start_time": "2022-12-30T22:56:57.556Z"
   },
   {
    "duration": 47,
    "start_time": "2022-12-30T22:56:57.567Z"
   },
   {
    "duration": 230,
    "start_time": "2022-12-30T22:56:57.615Z"
   },
   {
    "duration": 243,
    "start_time": "2022-12-30T22:56:57.847Z"
   },
   {
    "duration": 14,
    "start_time": "2022-12-30T22:56:58.092Z"
   },
   {
    "duration": 28,
    "start_time": "2022-12-30T22:56:58.108Z"
   },
   {
    "duration": 5,
    "start_time": "2022-12-30T22:56:58.137Z"
   },
   {
    "duration": 180,
    "start_time": "2022-12-30T22:56:58.144Z"
   },
   {
    "duration": 172,
    "start_time": "2022-12-30T22:56:58.326Z"
   },
   {
    "duration": 13,
    "start_time": "2022-12-30T22:56:58.499Z"
   },
   {
    "duration": 13,
    "start_time": "2022-12-30T22:56:58.513Z"
   },
   {
    "duration": 12,
    "start_time": "2022-12-30T22:56:58.527Z"
   },
   {
    "duration": 13,
    "start_time": "2022-12-30T22:56:58.540Z"
   },
   {
    "duration": 12,
    "start_time": "2022-12-30T22:56:58.554Z"
   },
   {
    "duration": 38,
    "start_time": "2022-12-30T22:56:58.567Z"
   },
   {
    "duration": 560,
    "start_time": "2022-12-30T22:56:58.607Z"
   },
   {
    "duration": 13,
    "start_time": "2022-12-30T22:56:59.169Z"
   },
   {
    "duration": 21,
    "start_time": "2022-12-30T22:56:59.183Z"
   },
   {
    "duration": 12,
    "start_time": "2022-12-30T22:56:59.206Z"
   },
   {
    "duration": 369,
    "start_time": "2022-12-30T22:56:59.220Z"
   },
   {
    "duration": 2,
    "start_time": "2022-12-30T22:56:59.596Z"
   },
   {
    "duration": 11,
    "start_time": "2022-12-30T22:56:59.599Z"
   },
   {
    "duration": 145,
    "start_time": "2022-12-30T22:56:59.611Z"
   },
   {
    "duration": 3,
    "start_time": "2022-12-30T22:56:59.758Z"
   },
   {
    "duration": 151,
    "start_time": "2022-12-30T22:56:59.762Z"
   },
   {
    "duration": 4,
    "start_time": "2022-12-30T22:56:59.915Z"
   },
   {
    "duration": 14,
    "start_time": "2022-12-30T22:56:59.921Z"
   },
   {
    "duration": 9,
    "start_time": "2022-12-30T22:56:59.937Z"
   },
   {
    "duration": 185,
    "start_time": "2022-12-30T22:56:59.948Z"
   },
   {
    "duration": 4,
    "start_time": "2022-12-30T22:57:00.134Z"
   },
   {
    "duration": 220,
    "start_time": "2022-12-30T22:57:00.139Z"
   },
   {
    "duration": 4,
    "start_time": "2022-12-30T22:57:00.361Z"
   },
   {
    "duration": 61,
    "start_time": "2022-12-30T22:57:00.367Z"
   },
   {
    "duration": 7,
    "start_time": "2022-12-30T23:03:32.440Z"
   },
   {
    "duration": 6,
    "start_time": "2022-12-30T23:03:45.376Z"
   },
   {
    "duration": 12,
    "start_time": "2022-12-30T23:04:13.030Z"
   },
   {
    "duration": 1273,
    "start_time": "2023-01-10T06:25:40.176Z"
   },
   {
    "duration": 450,
    "start_time": "2023-01-10T06:25:41.451Z"
   },
   {
    "duration": 16,
    "start_time": "2023-01-10T06:25:41.903Z"
   },
   {
    "duration": 12,
    "start_time": "2023-01-10T06:25:41.921Z"
   },
   {
    "duration": 3,
    "start_time": "2023-01-10T06:25:41.934Z"
   },
   {
    "duration": 6,
    "start_time": "2023-01-10T06:25:41.938Z"
   },
   {
    "duration": 17,
    "start_time": "2023-01-10T06:25:41.945Z"
   },
   {
    "duration": 7,
    "start_time": "2023-01-10T06:25:41.963Z"
   },
   {
    "duration": 13,
    "start_time": "2023-01-10T06:25:41.971Z"
   },
   {
    "duration": 5,
    "start_time": "2023-01-10T06:25:42.014Z"
   },
   {
    "duration": 14,
    "start_time": "2023-01-10T06:25:42.020Z"
   },
   {
    "duration": 10,
    "start_time": "2023-01-10T06:25:42.036Z"
   },
   {
    "duration": 5,
    "start_time": "2023-01-10T06:25:42.047Z"
   },
   {
    "duration": 6,
    "start_time": "2023-01-10T06:25:42.053Z"
   },
   {
    "duration": 17,
    "start_time": "2023-01-10T06:25:42.060Z"
   },
   {
    "duration": 6,
    "start_time": "2023-01-10T06:25:42.078Z"
   },
   {
    "duration": 28,
    "start_time": "2023-01-10T06:25:42.085Z"
   },
   {
    "duration": 3,
    "start_time": "2023-01-10T06:25:42.115Z"
   },
   {
    "duration": 9,
    "start_time": "2023-01-10T06:25:42.119Z"
   },
   {
    "duration": 10,
    "start_time": "2023-01-10T06:25:42.129Z"
   },
   {
    "duration": 6,
    "start_time": "2023-01-10T06:25:42.140Z"
   },
   {
    "duration": 7,
    "start_time": "2023-01-10T06:25:42.147Z"
   },
   {
    "duration": 5,
    "start_time": "2023-01-10T06:25:42.155Z"
   },
   {
    "duration": 5,
    "start_time": "2023-01-10T06:25:42.162Z"
   },
   {
    "duration": 7,
    "start_time": "2023-01-10T06:25:42.168Z"
   },
   {
    "duration": 5,
    "start_time": "2023-01-10T06:25:42.176Z"
   },
   {
    "duration": 6,
    "start_time": "2023-01-10T06:25:42.182Z"
   },
   {
    "duration": 4,
    "start_time": "2023-01-10T06:25:42.213Z"
   },
   {
    "duration": 9,
    "start_time": "2023-01-10T06:25:42.219Z"
   },
   {
    "duration": 13,
    "start_time": "2023-01-10T06:25:42.230Z"
   },
   {
    "duration": 4,
    "start_time": "2023-01-10T06:25:42.245Z"
   },
   {
    "duration": 7,
    "start_time": "2023-01-10T06:25:42.251Z"
   },
   {
    "duration": 8,
    "start_time": "2023-01-10T06:25:42.260Z"
   },
   {
    "duration": 17,
    "start_time": "2023-01-10T06:25:42.269Z"
   },
   {
    "duration": 26,
    "start_time": "2023-01-10T06:25:42.288Z"
   },
   {
    "duration": 3,
    "start_time": "2023-01-10T06:25:42.315Z"
   },
   {
    "duration": 9,
    "start_time": "2023-01-10T06:25:42.319Z"
   },
   {
    "duration": 6,
    "start_time": "2023-01-10T06:25:42.330Z"
   },
   {
    "duration": 7,
    "start_time": "2023-01-10T06:25:42.337Z"
   },
   {
    "duration": 14,
    "start_time": "2023-01-10T06:25:42.345Z"
   },
   {
    "duration": 17,
    "start_time": "2023-01-10T06:25:42.360Z"
   },
   {
    "duration": 5,
    "start_time": "2023-01-10T06:25:42.378Z"
   },
   {
    "duration": 87,
    "start_time": "2023-01-10T06:25:42.384Z"
   },
   {
    "duration": 155,
    "start_time": "2023-01-10T06:25:42.472Z"
   },
   {
    "duration": 6,
    "start_time": "2023-01-10T06:25:42.629Z"
   },
   {
    "duration": 20,
    "start_time": "2023-01-10T06:25:42.636Z"
   },
   {
    "duration": 8,
    "start_time": "2023-01-10T06:25:42.657Z"
   },
   {
    "duration": 259,
    "start_time": "2023-01-10T06:25:42.666Z"
   },
   {
    "duration": 8,
    "start_time": "2023-01-10T06:25:42.927Z"
   },
   {
    "duration": 19,
    "start_time": "2023-01-10T06:25:42.936Z"
   },
   {
    "duration": 13,
    "start_time": "2023-01-10T06:25:42.957Z"
   },
   {
    "duration": 802,
    "start_time": "2023-01-10T06:25:42.971Z"
   },
   {
    "duration": 5,
    "start_time": "2023-01-10T06:25:43.775Z"
   },
   {
    "duration": 140,
    "start_time": "2023-01-10T06:25:43.782Z"
   },
   {
    "duration": 5,
    "start_time": "2023-01-10T06:25:43.923Z"
   },
   {
    "duration": 14,
    "start_time": "2023-01-10T06:25:43.930Z"
   },
   {
    "duration": 246,
    "start_time": "2023-01-10T06:25:43.946Z"
   },
   {
    "duration": 180,
    "start_time": "2023-01-10T06:25:44.194Z"
   },
   {
    "duration": 14,
    "start_time": "2023-01-10T06:25:44.376Z"
   },
   {
    "duration": 140,
    "start_time": "2023-01-10T06:25:44.392Z"
   },
   {
    "duration": 6,
    "start_time": "2023-01-10T06:25:44.534Z"
   },
   {
    "duration": 12,
    "start_time": "2023-01-10T06:25:44.542Z"
   },
   {
    "duration": 173,
    "start_time": "2023-01-10T06:25:44.555Z"
   },
   {
    "duration": 158,
    "start_time": "2023-01-10T06:25:44.730Z"
   },
   {
    "duration": 5,
    "start_time": "2023-01-10T06:25:44.889Z"
   },
   {
    "duration": 7,
    "start_time": "2023-01-10T06:25:44.895Z"
   },
   {
    "duration": 41,
    "start_time": "2023-01-10T06:25:44.913Z"
   },
   {
    "duration": 240,
    "start_time": "2023-01-10T06:25:44.956Z"
   },
   {
    "duration": 248,
    "start_time": "2023-01-10T06:25:45.197Z"
   },
   {
    "duration": 14,
    "start_time": "2023-01-10T06:25:45.447Z"
   },
   {
    "duration": 51,
    "start_time": "2023-01-10T06:25:45.463Z"
   },
   {
    "duration": 7,
    "start_time": "2023-01-10T06:25:45.515Z"
   },
   {
    "duration": 177,
    "start_time": "2023-01-10T06:25:45.523Z"
   },
   {
    "duration": 167,
    "start_time": "2023-01-10T06:25:45.701Z"
   },
   {
    "duration": 14,
    "start_time": "2023-01-10T06:25:45.870Z"
   },
   {
    "duration": 32,
    "start_time": "2023-01-10T06:25:45.885Z"
   },
   {
    "duration": 14,
    "start_time": "2023-01-10T06:25:45.919Z"
   },
   {
    "duration": 12,
    "start_time": "2023-01-10T06:25:45.934Z"
   },
   {
    "duration": 13,
    "start_time": "2023-01-10T06:25:45.947Z"
   },
   {
    "duration": 110,
    "start_time": "2023-01-10T06:25:45.961Z"
   },
   {
    "duration": 462,
    "start_time": "2023-01-10T06:25:46.073Z"
   },
   {
    "duration": 13,
    "start_time": "2023-01-10T06:25:46.540Z"
   },
   {
    "duration": 13,
    "start_time": "2023-01-10T06:25:46.555Z"
   },
   {
    "duration": 13,
    "start_time": "2023-01-10T06:25:46.570Z"
   },
   {
    "duration": 388,
    "start_time": "2023-01-10T06:25:46.585Z"
   },
   {
    "duration": 3,
    "start_time": "2023-01-10T06:25:46.975Z"
   },
   {
    "duration": 17,
    "start_time": "2023-01-10T06:25:46.980Z"
   },
   {
    "duration": 151,
    "start_time": "2023-01-10T06:25:46.999Z"
   },
   {
    "duration": 4,
    "start_time": "2023-01-10T06:25:47.151Z"
   },
   {
    "duration": 154,
    "start_time": "2023-01-10T06:25:47.156Z"
   },
   {
    "duration": 3,
    "start_time": "2023-01-10T06:25:47.312Z"
   },
   {
    "duration": 12,
    "start_time": "2023-01-10T06:25:47.317Z"
   },
   {
    "duration": 14,
    "start_time": "2023-01-10T06:25:47.330Z"
   },
   {
    "duration": 158,
    "start_time": "2023-01-10T06:25:47.345Z"
   },
   {
    "duration": 9,
    "start_time": "2023-01-10T06:25:47.505Z"
   },
   {
    "duration": 165,
    "start_time": "2023-01-10T06:25:47.515Z"
   },
   {
    "duration": 4,
    "start_time": "2023-01-10T06:25:47.682Z"
   },
   {
    "duration": 14,
    "start_time": "2023-01-10T06:25:47.687Z"
   },
   {
    "duration": 517,
    "start_time": "2023-01-10T06:49:01.413Z"
   },
   {
    "duration": 547,
    "start_time": "2023-01-10T06:49:17.703Z"
   },
   {
    "duration": 74,
    "start_time": "2023-01-10T06:56:12.296Z"
   },
   {
    "duration": 8,
    "start_time": "2023-01-10T06:56:27.787Z"
   },
   {
    "duration": 8,
    "start_time": "2023-01-10T06:56:33.474Z"
   },
   {
    "duration": 149,
    "start_time": "2023-01-10T06:57:04.499Z"
   },
   {
    "duration": 144,
    "start_time": "2023-01-10T06:57:21.289Z"
   },
   {
    "duration": 5,
    "start_time": "2023-01-10T06:57:54.820Z"
   },
   {
    "duration": 5,
    "start_time": "2023-01-10T06:58:13.818Z"
   },
   {
    "duration": 5,
    "start_time": "2023-01-10T06:58:20.579Z"
   },
   {
    "duration": 8,
    "start_time": "2023-01-10T07:03:17.556Z"
   },
   {
    "duration": 139,
    "start_time": "2023-01-10T07:03:21.254Z"
   },
   {
    "duration": 4,
    "start_time": "2023-01-10T07:03:33.957Z"
   },
   {
    "duration": 148,
    "start_time": "2023-01-10T07:03:42.929Z"
   },
   {
    "duration": 4,
    "start_time": "2023-01-10T07:03:47.845Z"
   },
   {
    "duration": 79,
    "start_time": "2023-01-10T07:06:41.429Z"
   },
   {
    "duration": 73,
    "start_time": "2023-01-10T07:07:03.327Z"
   },
   {
    "duration": 8,
    "start_time": "2023-01-10T07:07:51.279Z"
   },
   {
    "duration": 3,
    "start_time": "2023-01-10T07:09:31.430Z"
   },
   {
    "duration": 3,
    "start_time": "2023-01-10T07:09:33.838Z"
   },
   {
    "duration": 9,
    "start_time": "2023-01-10T07:11:37.248Z"
   },
   {
    "duration": 8,
    "start_time": "2023-01-10T07:11:52.656Z"
   },
   {
    "duration": 4,
    "start_time": "2023-01-10T07:16:07.598Z"
   },
   {
    "duration": 9,
    "start_time": "2023-01-10T07:18:39.614Z"
   },
   {
    "duration": 167,
    "start_time": "2023-01-10T07:18:40.870Z"
   },
   {
    "duration": 4,
    "start_time": "2023-01-10T07:18:45.216Z"
   },
   {
    "duration": 11,
    "start_time": "2023-01-10T07:19:59.456Z"
   },
   {
    "duration": 4,
    "start_time": "2023-01-10T07:20:07.253Z"
   },
   {
    "duration": 4,
    "start_time": "2023-01-10T07:20:08.251Z"
   },
   {
    "duration": 9,
    "start_time": "2023-01-10T07:20:21.022Z"
   },
   {
    "duration": 4,
    "start_time": "2023-01-10T07:20:22.652Z"
   },
   {
    "duration": 3,
    "start_time": "2023-01-10T07:20:23.760Z"
   },
   {
    "duration": 8,
    "start_time": "2023-01-10T07:24:12.897Z"
   },
   {
    "duration": 7,
    "start_time": "2023-01-10T07:24:25.055Z"
   },
   {
    "duration": 103,
    "start_time": "2023-01-10T07:24:31.622Z"
   },
   {
    "duration": 3,
    "start_time": "2023-01-10T07:24:39.566Z"
   },
   {
    "duration": 8,
    "start_time": "2023-01-10T07:24:46.544Z"
   },
   {
    "duration": 138,
    "start_time": "2023-01-10T07:24:47.158Z"
   },
   {
    "duration": 4,
    "start_time": "2023-01-10T07:24:49.905Z"
   },
   {
    "duration": 146,
    "start_time": "2023-01-10T07:24:53.125Z"
   },
   {
    "duration": 4,
    "start_time": "2023-01-10T07:24:54.222Z"
   },
   {
    "duration": 11,
    "start_time": "2023-01-10T07:31:30.848Z"
   },
   {
    "duration": 10,
    "start_time": "2023-01-10T07:32:00.712Z"
   },
   {
    "duration": 4,
    "start_time": "2023-01-10T07:32:03.836Z"
   },
   {
    "duration": 4,
    "start_time": "2023-01-10T07:32:06.413Z"
   },
   {
    "duration": 10,
    "start_time": "2023-01-10T07:33:41.857Z"
   },
   {
    "duration": 8,
    "start_time": "2023-01-10T07:36:05.777Z"
   },
   {
    "duration": 9,
    "start_time": "2023-01-10T07:55:06.519Z"
   },
   {
    "duration": 142,
    "start_time": "2023-01-10T07:55:07.549Z"
   },
   {
    "duration": 4,
    "start_time": "2023-01-10T07:55:11.175Z"
   },
   {
    "duration": 149,
    "start_time": "2023-01-10T07:55:12.314Z"
   },
   {
    "duration": 3,
    "start_time": "2023-01-10T07:55:13.758Z"
   },
   {
    "duration": 12,
    "start_time": "2023-01-10T08:00:53.922Z"
   },
   {
    "duration": 346,
    "start_time": "2023-01-10T08:00:55.356Z"
   },
   {
    "duration": 217,
    "start_time": "2023-01-10T08:01:28.429Z"
   },
   {
    "duration": 266,
    "start_time": "2023-01-10T08:01:42.850Z"
   },
   {
    "duration": 15,
    "start_time": "2023-01-10T08:02:09.748Z"
   },
   {
    "duration": 104,
    "start_time": "2023-01-10T08:02:57.179Z"
   },
   {
    "duration": 86,
    "start_time": "2023-01-10T08:24:39.178Z"
   },
   {
    "duration": 254,
    "start_time": "2023-01-10T08:28:18.311Z"
   },
   {
    "duration": 278,
    "start_time": "2023-01-10T08:29:53.808Z"
   },
   {
    "duration": 301,
    "start_time": "2023-01-10T08:31:22.338Z"
   },
   {
    "duration": 276,
    "start_time": "2023-01-10T08:32:19.144Z"
   },
   {
    "duration": 85,
    "start_time": "2023-01-10T08:33:24.913Z"
   },
   {
    "duration": 1121,
    "start_time": "2023-01-10T08:33:45.112Z"
   },
   {
    "duration": 59,
    "start_time": "2023-01-10T08:33:46.234Z"
   },
   {
    "duration": 15,
    "start_time": "2023-01-10T08:33:46.295Z"
   },
   {
    "duration": 14,
    "start_time": "2023-01-10T08:33:46.312Z"
   },
   {
    "duration": 2,
    "start_time": "2023-01-10T08:33:46.328Z"
   },
   {
    "duration": 7,
    "start_time": "2023-01-10T08:33:46.332Z"
   },
   {
    "duration": 17,
    "start_time": "2023-01-10T08:33:46.340Z"
   },
   {
    "duration": 8,
    "start_time": "2023-01-10T08:33:46.359Z"
   },
   {
    "duration": 14,
    "start_time": "2023-01-10T08:33:46.368Z"
   },
   {
    "duration": 29,
    "start_time": "2023-01-10T08:33:46.384Z"
   },
   {
    "duration": 12,
    "start_time": "2023-01-10T08:33:46.414Z"
   },
   {
    "duration": 10,
    "start_time": "2023-01-10T08:33:46.428Z"
   },
   {
    "duration": 8,
    "start_time": "2023-01-10T08:33:46.439Z"
   },
   {
    "duration": 14,
    "start_time": "2023-01-10T08:33:46.448Z"
   },
   {
    "duration": 15,
    "start_time": "2023-01-10T08:33:46.464Z"
   },
   {
    "duration": 12,
    "start_time": "2023-01-10T08:33:46.481Z"
   },
   {
    "duration": 5,
    "start_time": "2023-01-10T08:33:46.495Z"
   },
   {
    "duration": 3,
    "start_time": "2023-01-10T08:33:46.512Z"
   },
   {
    "duration": 9,
    "start_time": "2023-01-10T08:33:46.516Z"
   },
   {
    "duration": 7,
    "start_time": "2023-01-10T08:33:46.526Z"
   },
   {
    "duration": 4,
    "start_time": "2023-01-10T08:33:46.535Z"
   },
   {
    "duration": 7,
    "start_time": "2023-01-10T08:33:46.540Z"
   },
   {
    "duration": 8,
    "start_time": "2023-01-10T08:33:46.548Z"
   },
   {
    "duration": 6,
    "start_time": "2023-01-10T08:33:46.557Z"
   },
   {
    "duration": 8,
    "start_time": "2023-01-10T08:33:46.564Z"
   },
   {
    "duration": 8,
    "start_time": "2023-01-10T08:33:46.573Z"
   },
   {
    "duration": 31,
    "start_time": "2023-01-10T08:33:46.582Z"
   },
   {
    "duration": 5,
    "start_time": "2023-01-10T08:33:46.617Z"
   },
   {
    "duration": 8,
    "start_time": "2023-01-10T08:33:46.623Z"
   },
   {
    "duration": 11,
    "start_time": "2023-01-10T08:33:46.632Z"
   },
   {
    "duration": 5,
    "start_time": "2023-01-10T08:33:46.644Z"
   },
   {
    "duration": 8,
    "start_time": "2023-01-10T08:33:46.650Z"
   },
   {
    "duration": 7,
    "start_time": "2023-01-10T08:33:46.659Z"
   },
   {
    "duration": 15,
    "start_time": "2023-01-10T08:33:46.668Z"
   },
   {
    "duration": 31,
    "start_time": "2023-01-10T08:33:46.684Z"
   },
   {
    "duration": 4,
    "start_time": "2023-01-10T08:33:46.717Z"
   },
   {
    "duration": 8,
    "start_time": "2023-01-10T08:33:46.723Z"
   },
   {
    "duration": 7,
    "start_time": "2023-01-10T08:33:46.732Z"
   },
   {
    "duration": 5,
    "start_time": "2023-01-10T08:33:46.740Z"
   },
   {
    "duration": 13,
    "start_time": "2023-01-10T08:33:46.747Z"
   },
   {
    "duration": 17,
    "start_time": "2023-01-10T08:33:46.761Z"
   },
   {
    "duration": 33,
    "start_time": "2023-01-10T08:33:46.780Z"
   },
   {
    "duration": 71,
    "start_time": "2023-01-10T08:33:46.815Z"
   },
   {
    "duration": 167,
    "start_time": "2023-01-10T08:33:46.888Z"
   },
   {
    "duration": 6,
    "start_time": "2023-01-10T08:33:47.057Z"
   },
   {
    "duration": 25,
    "start_time": "2023-01-10T08:33:47.065Z"
   },
   {
    "duration": 25,
    "start_time": "2023-01-10T08:33:47.092Z"
   },
   {
    "duration": 250,
    "start_time": "2023-01-10T08:33:47.118Z"
   },
   {
    "duration": 7,
    "start_time": "2023-01-10T08:33:47.369Z"
   },
   {
    "duration": 17,
    "start_time": "2023-01-10T08:33:47.378Z"
   },
   {
    "duration": 20,
    "start_time": "2023-01-10T08:33:47.396Z"
   },
   {
    "duration": 771,
    "start_time": "2023-01-10T08:33:47.418Z"
   },
   {
    "duration": 6,
    "start_time": "2023-01-10T08:33:48.190Z"
   },
   {
    "duration": 136,
    "start_time": "2023-01-10T08:33:48.197Z"
   },
   {
    "duration": 11,
    "start_time": "2023-01-10T08:33:48.335Z"
   },
   {
    "duration": 246,
    "start_time": "2023-01-10T08:33:48.348Z"
   },
   {
    "duration": 324,
    "start_time": "2023-01-10T08:33:48.596Z"
   },
   {
    "duration": 17,
    "start_time": "2023-01-10T08:33:48.922Z"
   },
   {
    "duration": 147,
    "start_time": "2023-01-10T08:33:48.940Z"
   },
   {
    "duration": 9,
    "start_time": "2023-01-10T08:33:49.089Z"
   },
   {
    "duration": 21,
    "start_time": "2023-01-10T08:33:49.100Z"
   },
   {
    "duration": 161,
    "start_time": "2023-01-10T08:33:49.122Z"
   },
   {
    "duration": 143,
    "start_time": "2023-01-10T08:33:49.284Z"
   },
   {
    "duration": 5,
    "start_time": "2023-01-10T08:33:49.428Z"
   },
   {
    "duration": 8,
    "start_time": "2023-01-10T08:33:49.434Z"
   },
   {
    "duration": 38,
    "start_time": "2023-01-10T08:33:49.443Z"
   },
   {
    "duration": 226,
    "start_time": "2023-01-10T08:33:49.482Z"
   },
   {
    "duration": 220,
    "start_time": "2023-01-10T08:33:49.712Z"
   },
   {
    "duration": 14,
    "start_time": "2023-01-10T08:33:49.934Z"
   },
   {
    "duration": 32,
    "start_time": "2023-01-10T08:33:49.949Z"
   },
   {
    "duration": 315,
    "start_time": "2023-01-10T08:33:49.982Z"
   },
   {
    "duration": 334,
    "start_time": "2023-01-10T08:33:50.299Z"
   },
   {
    "duration": 351,
    "start_time": "2023-01-10T08:33:50.635Z"
   },
   {
    "duration": 292,
    "start_time": "2023-01-10T08:33:50.987Z"
   },
   {
    "duration": 99,
    "start_time": "2023-01-10T08:33:51.281Z"
   },
   {
    "duration": 0,
    "start_time": "2023-01-10T08:33:51.382Z"
   },
   {
    "duration": 0,
    "start_time": "2023-01-10T08:33:51.384Z"
   },
   {
    "duration": 0,
    "start_time": "2023-01-10T08:33:51.385Z"
   },
   {
    "duration": 0,
    "start_time": "2023-01-10T08:33:51.385Z"
   },
   {
    "duration": 0,
    "start_time": "2023-01-10T08:33:51.386Z"
   },
   {
    "duration": 0,
    "start_time": "2023-01-10T08:33:51.387Z"
   },
   {
    "duration": 0,
    "start_time": "2023-01-10T08:33:51.388Z"
   },
   {
    "duration": 0,
    "start_time": "2023-01-10T08:33:51.389Z"
   },
   {
    "duration": 0,
    "start_time": "2023-01-10T08:33:51.390Z"
   },
   {
    "duration": 0,
    "start_time": "2023-01-10T08:33:51.391Z"
   },
   {
    "duration": 1,
    "start_time": "2023-01-10T08:33:51.391Z"
   },
   {
    "duration": 0,
    "start_time": "2023-01-10T08:33:51.392Z"
   },
   {
    "duration": 0,
    "start_time": "2023-01-10T08:33:51.394Z"
   },
   {
    "duration": 0,
    "start_time": "2023-01-10T08:33:51.412Z"
   },
   {
    "duration": 0,
    "start_time": "2023-01-10T08:33:51.413Z"
   },
   {
    "duration": 0,
    "start_time": "2023-01-10T08:33:51.414Z"
   },
   {
    "duration": 0,
    "start_time": "2023-01-10T08:33:51.415Z"
   },
   {
    "duration": 0,
    "start_time": "2023-01-10T08:33:51.417Z"
   },
   {
    "duration": 0,
    "start_time": "2023-01-10T08:33:51.417Z"
   },
   {
    "duration": 0,
    "start_time": "2023-01-10T08:33:51.418Z"
   },
   {
    "duration": 0,
    "start_time": "2023-01-10T08:33:51.419Z"
   },
   {
    "duration": 0,
    "start_time": "2023-01-10T08:33:51.420Z"
   },
   {
    "duration": 0,
    "start_time": "2023-01-10T08:33:51.421Z"
   },
   {
    "duration": 0,
    "start_time": "2023-01-10T08:33:51.422Z"
   },
   {
    "duration": 0,
    "start_time": "2023-01-10T08:33:51.423Z"
   },
   {
    "duration": 0,
    "start_time": "2023-01-10T08:33:51.424Z"
   },
   {
    "duration": 8,
    "start_time": "2023-01-10T08:34:27.249Z"
   },
   {
    "duration": 9,
    "start_time": "2023-01-10T08:34:34.936Z"
   },
   {
    "duration": 139,
    "start_time": "2023-01-10T08:34:35.507Z"
   },
   {
    "duration": 1117,
    "start_time": "2023-01-10T08:34:41.265Z"
   },
   {
    "duration": 53,
    "start_time": "2023-01-10T08:34:42.384Z"
   },
   {
    "duration": 23,
    "start_time": "2023-01-10T08:34:42.439Z"
   },
   {
    "duration": 17,
    "start_time": "2023-01-10T08:34:42.465Z"
   },
   {
    "duration": 3,
    "start_time": "2023-01-10T08:34:42.483Z"
   },
   {
    "duration": 11,
    "start_time": "2023-01-10T08:34:42.488Z"
   },
   {
    "duration": 16,
    "start_time": "2023-01-10T08:34:42.513Z"
   },
   {
    "duration": 18,
    "start_time": "2023-01-10T08:34:42.531Z"
   },
   {
    "duration": 27,
    "start_time": "2023-01-10T08:34:42.551Z"
   },
   {
    "duration": 5,
    "start_time": "2023-01-10T08:34:42.581Z"
   },
   {
    "duration": 34,
    "start_time": "2023-01-10T08:34:42.588Z"
   },
   {
    "duration": 17,
    "start_time": "2023-01-10T08:34:42.624Z"
   },
   {
    "duration": 22,
    "start_time": "2023-01-10T08:34:42.642Z"
   },
   {
    "duration": 18,
    "start_time": "2023-01-10T08:34:42.666Z"
   },
   {
    "duration": 36,
    "start_time": "2023-01-10T08:34:42.686Z"
   },
   {
    "duration": 7,
    "start_time": "2023-01-10T08:34:42.723Z"
   },
   {
    "duration": 20,
    "start_time": "2023-01-10T08:34:42.732Z"
   },
   {
    "duration": 30,
    "start_time": "2023-01-10T08:34:42.754Z"
   },
   {
    "duration": 23,
    "start_time": "2023-01-10T08:34:42.786Z"
   },
   {
    "duration": 26,
    "start_time": "2023-01-10T08:34:42.811Z"
   },
   {
    "duration": 28,
    "start_time": "2023-01-10T08:34:42.839Z"
   },
   {
    "duration": 11,
    "start_time": "2023-01-10T08:34:42.869Z"
   },
   {
    "duration": 29,
    "start_time": "2023-01-10T08:34:42.881Z"
   },
   {
    "duration": 23,
    "start_time": "2023-01-10T08:34:42.912Z"
   },
   {
    "duration": 22,
    "start_time": "2023-01-10T08:34:42.937Z"
   },
   {
    "duration": 23,
    "start_time": "2023-01-10T08:34:42.961Z"
   },
   {
    "duration": 13,
    "start_time": "2023-01-10T08:34:42.986Z"
   },
   {
    "duration": 20,
    "start_time": "2023-01-10T08:34:43.005Z"
   },
   {
    "duration": 19,
    "start_time": "2023-01-10T08:34:43.027Z"
   },
   {
    "duration": 21,
    "start_time": "2023-01-10T08:34:43.048Z"
   },
   {
    "duration": 18,
    "start_time": "2023-01-10T08:34:43.071Z"
   },
   {
    "duration": 13,
    "start_time": "2023-01-10T08:34:43.091Z"
   },
   {
    "duration": 23,
    "start_time": "2023-01-10T08:34:43.105Z"
   },
   {
    "duration": 36,
    "start_time": "2023-01-10T08:34:43.130Z"
   },
   {
    "duration": 21,
    "start_time": "2023-01-10T08:34:43.167Z"
   },
   {
    "duration": 28,
    "start_time": "2023-01-10T08:34:43.189Z"
   },
   {
    "duration": 30,
    "start_time": "2023-01-10T08:34:43.219Z"
   },
   {
    "duration": 24,
    "start_time": "2023-01-10T08:34:43.251Z"
   },
   {
    "duration": 26,
    "start_time": "2023-01-10T08:34:43.277Z"
   },
   {
    "duration": 22,
    "start_time": "2023-01-10T08:34:43.305Z"
   },
   {
    "duration": 39,
    "start_time": "2023-01-10T08:34:43.329Z"
   },
   {
    "duration": 3,
    "start_time": "2023-01-10T08:34:43.370Z"
   },
   {
    "duration": 91,
    "start_time": "2023-01-10T08:34:43.375Z"
   },
   {
    "duration": 163,
    "start_time": "2023-01-10T08:34:43.468Z"
   },
   {
    "duration": 6,
    "start_time": "2023-01-10T08:34:43.633Z"
   },
   {
    "duration": 39,
    "start_time": "2023-01-10T08:34:43.641Z"
   },
   {
    "duration": 9,
    "start_time": "2023-01-10T08:34:43.682Z"
   },
   {
    "duration": 295,
    "start_time": "2023-01-10T08:34:43.693Z"
   },
   {
    "duration": 8,
    "start_time": "2023-01-10T08:34:43.990Z"
   },
   {
    "duration": 24,
    "start_time": "2023-01-10T08:34:43.999Z"
   },
   {
    "duration": 20,
    "start_time": "2023-01-10T08:34:44.025Z"
   },
   {
    "duration": 917,
    "start_time": "2023-01-10T08:34:44.047Z"
   },
   {
    "duration": 6,
    "start_time": "2023-01-10T08:34:44.966Z"
   },
   {
    "duration": 133,
    "start_time": "2023-01-10T08:34:44.974Z"
   },
   {
    "duration": 13,
    "start_time": "2023-01-10T08:34:45.113Z"
   },
   {
    "duration": 273,
    "start_time": "2023-01-10T08:34:45.128Z"
   },
   {
    "duration": 317,
    "start_time": "2023-01-10T08:34:45.403Z"
   },
   {
    "duration": 14,
    "start_time": "2023-01-10T08:34:45.722Z"
   },
   {
    "duration": 140,
    "start_time": "2023-01-10T08:34:45.737Z"
   },
   {
    "duration": 8,
    "start_time": "2023-01-10T08:34:45.879Z"
   },
   {
    "duration": 14,
    "start_time": "2023-01-10T08:34:45.888Z"
   },
   {
    "duration": 174,
    "start_time": "2023-01-10T08:34:45.904Z"
   },
   {
    "duration": 158,
    "start_time": "2023-01-10T08:34:46.080Z"
   },
   {
    "duration": 5,
    "start_time": "2023-01-10T08:34:46.239Z"
   },
   {
    "duration": 7,
    "start_time": "2023-01-10T08:34:46.245Z"
   },
   {
    "duration": 42,
    "start_time": "2023-01-10T08:34:46.254Z"
   },
   {
    "duration": 226,
    "start_time": "2023-01-10T08:34:46.297Z"
   },
   {
    "duration": 236,
    "start_time": "2023-01-10T08:34:46.525Z"
   },
   {
    "duration": 14,
    "start_time": "2023-01-10T08:34:46.763Z"
   },
   {
    "duration": 46,
    "start_time": "2023-01-10T08:34:46.778Z"
   },
   {
    "duration": 272,
    "start_time": "2023-01-10T08:34:46.826Z"
   },
   {
    "duration": 284,
    "start_time": "2023-01-10T08:34:47.100Z"
   },
   {
    "duration": 333,
    "start_time": "2023-01-10T08:34:47.386Z"
   },
   {
    "duration": 269,
    "start_time": "2023-01-10T08:34:47.720Z"
   },
   {
    "duration": 98,
    "start_time": "2023-01-10T08:34:47.991Z"
   },
   {
    "duration": 0,
    "start_time": "2023-01-10T08:34:48.090Z"
   },
   {
    "duration": 0,
    "start_time": "2023-01-10T08:34:48.091Z"
   },
   {
    "duration": 0,
    "start_time": "2023-01-10T08:34:48.092Z"
   },
   {
    "duration": 0,
    "start_time": "2023-01-10T08:34:48.093Z"
   },
   {
    "duration": 0,
    "start_time": "2023-01-10T08:34:48.094Z"
   },
   {
    "duration": 0,
    "start_time": "2023-01-10T08:34:48.095Z"
   },
   {
    "duration": 0,
    "start_time": "2023-01-10T08:34:48.095Z"
   },
   {
    "duration": 0,
    "start_time": "2023-01-10T08:34:48.096Z"
   },
   {
    "duration": 0,
    "start_time": "2023-01-10T08:34:48.097Z"
   },
   {
    "duration": 0,
    "start_time": "2023-01-10T08:34:48.112Z"
   },
   {
    "duration": 0,
    "start_time": "2023-01-10T08:34:48.113Z"
   },
   {
    "duration": 0,
    "start_time": "2023-01-10T08:34:48.116Z"
   },
   {
    "duration": 0,
    "start_time": "2023-01-10T08:34:48.117Z"
   },
   {
    "duration": 0,
    "start_time": "2023-01-10T08:34:48.118Z"
   },
   {
    "duration": 0,
    "start_time": "2023-01-10T08:34:48.120Z"
   },
   {
    "duration": 0,
    "start_time": "2023-01-10T08:34:48.121Z"
   },
   {
    "duration": 0,
    "start_time": "2023-01-10T08:34:48.122Z"
   },
   {
    "duration": 0,
    "start_time": "2023-01-10T08:34:48.124Z"
   },
   {
    "duration": 0,
    "start_time": "2023-01-10T08:34:48.125Z"
   },
   {
    "duration": 0,
    "start_time": "2023-01-10T08:34:48.126Z"
   },
   {
    "duration": 0,
    "start_time": "2023-01-10T08:34:48.128Z"
   },
   {
    "duration": 0,
    "start_time": "2023-01-10T08:34:48.129Z"
   },
   {
    "duration": 0,
    "start_time": "2023-01-10T08:34:48.130Z"
   },
   {
    "duration": 0,
    "start_time": "2023-01-10T08:34:48.131Z"
   },
   {
    "duration": 0,
    "start_time": "2023-01-10T08:34:48.132Z"
   },
   {
    "duration": 0,
    "start_time": "2023-01-10T08:34:48.134Z"
   },
   {
    "duration": 6,
    "start_time": "2023-01-10T08:36:16.406Z"
   },
   {
    "duration": 163,
    "start_time": "2023-01-10T08:36:20.607Z"
   },
   {
    "duration": 148,
    "start_time": "2023-01-10T08:36:24.207Z"
   },
   {
    "duration": 13,
    "start_time": "2023-01-10T08:37:09.533Z"
   },
   {
    "duration": 13,
    "start_time": "2023-01-10T08:37:14.961Z"
   },
   {
    "duration": 15,
    "start_time": "2023-01-10T08:38:20.393Z"
   },
   {
    "duration": 14,
    "start_time": "2023-01-10T08:38:25.281Z"
   },
   {
    "duration": 16,
    "start_time": "2023-01-10T08:38:27.238Z"
   },
   {
    "duration": 15,
    "start_time": "2023-01-10T08:38:29.397Z"
   },
   {
    "duration": 486,
    "start_time": "2023-01-10T08:38:32.081Z"
   },
   {
    "duration": 14,
    "start_time": "2023-01-10T08:38:35.827Z"
   },
   {
    "duration": 14,
    "start_time": "2023-01-10T08:38:36.306Z"
   },
   {
    "duration": 13,
    "start_time": "2023-01-10T08:38:36.680Z"
   },
   {
    "duration": 361,
    "start_time": "2023-01-10T08:38:36.858Z"
   },
   {
    "duration": 2,
    "start_time": "2023-01-10T08:38:39.743Z"
   },
   {
    "duration": 8,
    "start_time": "2023-01-10T08:38:41.346Z"
   },
   {
    "duration": 135,
    "start_time": "2023-01-10T08:38:42.622Z"
   },
   {
    "duration": 4,
    "start_time": "2023-01-10T08:38:42.839Z"
   },
   {
    "duration": 139,
    "start_time": "2023-01-10T08:38:43.043Z"
   },
   {
    "duration": 4,
    "start_time": "2023-01-10T08:38:43.250Z"
   },
   {
    "duration": 13,
    "start_time": "2023-01-10T08:38:43.452Z"
   },
   {
    "duration": 8,
    "start_time": "2023-01-10T08:38:44.894Z"
   },
   {
    "duration": 141,
    "start_time": "2023-01-10T08:38:45.337Z"
   },
   {
    "duration": 4,
    "start_time": "2023-01-10T08:38:45.571Z"
   },
   {
    "duration": 206,
    "start_time": "2023-01-10T08:38:45.757Z"
   },
   {
    "duration": 3,
    "start_time": "2023-01-10T08:38:45.965Z"
   },
   {
    "duration": 10,
    "start_time": "2023-01-10T08:38:46.545Z"
   },
   {
    "duration": 1041,
    "start_time": "2023-01-10T17:37:27.830Z"
   },
   {
    "duration": 51,
    "start_time": "2023-01-10T17:37:28.873Z"
   },
   {
    "duration": 16,
    "start_time": "2023-01-10T17:37:28.926Z"
   },
   {
    "duration": 13,
    "start_time": "2023-01-10T17:37:28.944Z"
   },
   {
    "duration": 6,
    "start_time": "2023-01-10T17:37:28.959Z"
   },
   {
    "duration": 8,
    "start_time": "2023-01-10T17:37:28.966Z"
   },
   {
    "duration": 20,
    "start_time": "2023-01-10T17:37:28.976Z"
   },
   {
    "duration": 9,
    "start_time": "2023-01-10T17:37:28.997Z"
   },
   {
    "duration": 14,
    "start_time": "2023-01-10T17:37:29.007Z"
   },
   {
    "duration": 5,
    "start_time": "2023-01-10T17:37:29.023Z"
   },
   {
    "duration": 17,
    "start_time": "2023-01-10T17:37:29.029Z"
   },
   {
    "duration": 30,
    "start_time": "2023-01-10T17:37:29.048Z"
   },
   {
    "duration": 4,
    "start_time": "2023-01-10T17:37:29.080Z"
   },
   {
    "duration": 12,
    "start_time": "2023-01-10T17:37:29.086Z"
   },
   {
    "duration": 15,
    "start_time": "2023-01-10T17:37:29.099Z"
   },
   {
    "duration": 6,
    "start_time": "2023-01-10T17:37:29.115Z"
   },
   {
    "duration": 8,
    "start_time": "2023-01-10T17:37:29.123Z"
   },
   {
    "duration": 6,
    "start_time": "2023-01-10T17:37:29.132Z"
   },
   {
    "duration": 11,
    "start_time": "2023-01-10T17:37:29.139Z"
   },
   {
    "duration": 24,
    "start_time": "2023-01-10T17:37:29.152Z"
   },
   {
    "duration": 5,
    "start_time": "2023-01-10T17:37:29.177Z"
   },
   {
    "duration": 6,
    "start_time": "2023-01-10T17:37:29.183Z"
   },
   {
    "duration": 9,
    "start_time": "2023-01-10T17:37:29.190Z"
   },
   {
    "duration": 3,
    "start_time": "2023-01-10T17:37:29.201Z"
   },
   {
    "duration": 10,
    "start_time": "2023-01-10T17:37:29.205Z"
   },
   {
    "duration": 11,
    "start_time": "2023-01-10T17:37:29.216Z"
   },
   {
    "duration": 6,
    "start_time": "2023-01-10T17:37:29.228Z"
   },
   {
    "duration": 6,
    "start_time": "2023-01-10T17:37:29.236Z"
   },
   {
    "duration": 10,
    "start_time": "2023-01-10T17:37:29.243Z"
   },
   {
    "duration": 31,
    "start_time": "2023-01-10T17:37:29.254Z"
   },
   {
    "duration": 5,
    "start_time": "2023-01-10T17:37:29.286Z"
   },
   {
    "duration": 7,
    "start_time": "2023-01-10T17:37:29.293Z"
   },
   {
    "duration": 5,
    "start_time": "2023-01-10T17:37:29.302Z"
   },
   {
    "duration": 17,
    "start_time": "2023-01-10T17:37:29.309Z"
   },
   {
    "duration": 7,
    "start_time": "2023-01-10T17:37:29.327Z"
   },
   {
    "duration": 5,
    "start_time": "2023-01-10T17:37:29.335Z"
   },
   {
    "duration": 39,
    "start_time": "2023-01-10T17:37:29.342Z"
   },
   {
    "duration": 14,
    "start_time": "2023-01-10T17:37:29.383Z"
   },
   {
    "duration": 6,
    "start_time": "2023-01-10T17:37:29.399Z"
   },
   {
    "duration": 16,
    "start_time": "2023-01-10T17:37:29.407Z"
   },
   {
    "duration": 18,
    "start_time": "2023-01-10T17:37:29.428Z"
   },
   {
    "duration": 2,
    "start_time": "2023-01-10T17:37:29.448Z"
   },
   {
    "duration": 101,
    "start_time": "2023-01-10T17:37:29.452Z"
   },
   {
    "duration": 172,
    "start_time": "2023-01-10T17:37:29.555Z"
   },
   {
    "duration": 7,
    "start_time": "2023-01-10T17:37:29.729Z"
   },
   {
    "duration": 20,
    "start_time": "2023-01-10T17:37:29.738Z"
   },
   {
    "duration": 9,
    "start_time": "2023-01-10T17:37:29.776Z"
   },
   {
    "duration": 265,
    "start_time": "2023-01-10T17:37:29.786Z"
   },
   {
    "duration": 7,
    "start_time": "2023-01-10T17:37:30.052Z"
   },
   {
    "duration": 32,
    "start_time": "2023-01-10T17:37:30.060Z"
   },
   {
    "duration": 27,
    "start_time": "2023-01-10T17:37:30.094Z"
   },
   {
    "duration": 899,
    "start_time": "2023-01-10T17:37:30.122Z"
   },
   {
    "duration": 6,
    "start_time": "2023-01-10T17:37:31.023Z"
   },
   {
    "duration": 163,
    "start_time": "2023-01-10T17:37:31.030Z"
   },
   {
    "duration": 11,
    "start_time": "2023-01-10T17:37:31.194Z"
   },
   {
    "duration": 270,
    "start_time": "2023-01-10T17:37:31.207Z"
   },
   {
    "duration": 351,
    "start_time": "2023-01-10T17:37:31.479Z"
   },
   {
    "duration": 13,
    "start_time": "2023-01-10T17:37:31.832Z"
   },
   {
    "duration": 151,
    "start_time": "2023-01-10T17:37:31.846Z"
   },
   {
    "duration": 9,
    "start_time": "2023-01-10T17:37:31.998Z"
   },
   {
    "duration": 13,
    "start_time": "2023-01-10T17:37:32.009Z"
   },
   {
    "duration": 165,
    "start_time": "2023-01-10T17:37:32.023Z"
   },
   {
    "duration": 163,
    "start_time": "2023-01-10T17:37:32.189Z"
   },
   {
    "duration": 5,
    "start_time": "2023-01-10T17:37:32.354Z"
   },
   {
    "duration": 18,
    "start_time": "2023-01-10T17:37:32.360Z"
   },
   {
    "duration": 33,
    "start_time": "2023-01-10T17:37:32.380Z"
   },
   {
    "duration": 248,
    "start_time": "2023-01-10T17:37:32.415Z"
   },
   {
    "duration": 239,
    "start_time": "2023-01-10T17:37:32.665Z"
   },
   {
    "duration": 14,
    "start_time": "2023-01-10T17:37:32.906Z"
   },
   {
    "duration": 34,
    "start_time": "2023-01-10T17:37:32.922Z"
   },
   {
    "duration": 297,
    "start_time": "2023-01-10T17:37:32.957Z"
   },
   {
    "duration": 316,
    "start_time": "2023-01-10T17:37:33.255Z"
   },
   {
    "duration": 375,
    "start_time": "2023-01-10T17:37:33.576Z"
   },
   {
    "duration": 300,
    "start_time": "2023-01-10T17:37:33.952Z"
   },
   {
    "duration": 6,
    "start_time": "2023-01-10T17:37:34.253Z"
   },
   {
    "duration": 206,
    "start_time": "2023-01-10T17:37:34.261Z"
   },
   {
    "duration": 163,
    "start_time": "2023-01-10T17:37:34.469Z"
   },
   {
    "duration": 14,
    "start_time": "2023-01-10T17:37:34.634Z"
   },
   {
    "duration": 29,
    "start_time": "2023-01-10T17:37:34.649Z"
   },
   {
    "duration": 11,
    "start_time": "2023-01-10T17:37:34.680Z"
   },
   {
    "duration": 12,
    "start_time": "2023-01-10T17:37:34.692Z"
   },
   {
    "duration": 12,
    "start_time": "2023-01-10T17:37:34.706Z"
   },
   {
    "duration": 21,
    "start_time": "2023-01-10T17:37:34.720Z"
   },
   {
    "duration": 585,
    "start_time": "2023-01-10T17:37:34.743Z"
   },
   {
    "duration": 17,
    "start_time": "2023-01-10T17:37:35.331Z"
   },
   {
    "duration": 29,
    "start_time": "2023-01-10T17:37:35.349Z"
   },
   {
    "duration": 28,
    "start_time": "2023-01-10T17:37:35.379Z"
   },
   {
    "duration": 419,
    "start_time": "2023-01-10T17:37:35.408Z"
   },
   {
    "duration": 2,
    "start_time": "2023-01-10T17:37:35.829Z"
   },
   {
    "duration": 17,
    "start_time": "2023-01-10T17:37:35.833Z"
   },
   {
    "duration": 168,
    "start_time": "2023-01-10T17:37:35.851Z"
   },
   {
    "duration": 3,
    "start_time": "2023-01-10T17:37:36.021Z"
   },
   {
    "duration": 178,
    "start_time": "2023-01-10T17:37:36.026Z"
   },
   {
    "duration": 4,
    "start_time": "2023-01-10T17:37:36.206Z"
   },
   {
    "duration": 13,
    "start_time": "2023-01-10T17:37:36.211Z"
   },
   {
    "duration": 10,
    "start_time": "2023-01-10T17:37:36.225Z"
   },
   {
    "duration": 182,
    "start_time": "2023-01-10T17:37:36.237Z"
   },
   {
    "duration": 4,
    "start_time": "2023-01-10T17:37:36.420Z"
   },
   {
    "duration": 245,
    "start_time": "2023-01-10T17:37:36.425Z"
   },
   {
    "duration": 6,
    "start_time": "2023-01-10T17:37:36.672Z"
   },
   {
    "duration": 12,
    "start_time": "2023-01-10T17:37:36.679Z"
   }
  ],
  "kernelspec": {
   "display_name": "Python 3 (ipykernel)",
   "language": "python",
   "name": "python3"
  },
  "language_info": {
   "codemirror_mode": {
    "name": "ipython",
    "version": 3
   },
   "file_extension": ".py",
   "mimetype": "text/x-python",
   "name": "python",
   "nbconvert_exporter": "python",
   "pygments_lexer": "ipython3",
   "version": "3.9.5"
  },
  "toc": {
   "base_numbering": 1,
   "nav_menu": {},
   "number_sections": true,
   "sideBar": true,
   "skip_h1_title": true,
   "title_cell": "Table of Contents",
   "title_sidebar": "Contents",
   "toc_cell": false,
   "toc_position": {
    "height": "calc(100% - 180px)",
    "left": "10px",
    "top": "150px",
    "width": "165px"
   },
   "toc_section_display": true,
   "toc_window_display": true
  }
 },
 "nbformat": 4,
 "nbformat_minor": 2
}
